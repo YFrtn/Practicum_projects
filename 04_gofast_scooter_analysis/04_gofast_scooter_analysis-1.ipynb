{
 "cells": [
  {
   "cell_type": "markdown",
   "id": "5d975e6d",
   "metadata": {},
   "source": [
    "# Проект: Статистический анализ данных\n",
    "\n",
    "Вы работаете аналитиком в сервисе аренды самокатов GoFast, который предоставляет услуги проката через мобильное приложение. Вашей задачей является анализ данных пользователей и их поездок с целью выявления закономерностей, которые помогут компании оптимизировать свой бизнес и повысить прибыль. Основное внимание будет уделено сравнению поведения пользователей с подпиской Ultra и без подписки (Free).\n",
    "\n",
    "Цель анализа — понять, как подписка Ultra влияет на продолжительность и частоту поездок, а также на общий доход от пользователей. Результаты анализа помогут определить, выгодно ли компании продвигать подписку Ultra, и какие факторы могут способствовать увеличению количества подписчиков.\n",
    "\n",
    "Чтобы совершать поездки по городу, пользователи сервиса GoFast пользуются мобильным приложением. Сервисом можно пользоваться:\n",
    "\n",
    "**без подписки**\n",
    "\n",
    "- абонентская плата отсутствует;\n",
    "\n",
    "- стоимость одной минуты поездки — 8 рублей;\n",
    "\n",
    "- стоимость старта (начала поездки) — 50 рублей;\n",
    "\n",
    "\n",
    "**с подпиской Ultra** \n",
    "\n",
    "- абонентская плата — 199 рублей в месяц;\n",
    "\n",
    "- стоимость одной минуты поездки — 6 рублей;\n",
    "\n",
    "- стоимость старта — бесплатно.\n",
    "\n",
    " **Описание данных**\n",
    "\n",
    "Данные, переданные для анализа, состоят из трёх таблиц:\n",
    "\n",
    "**Пользователи — users_go.csv**\n",
    "\n",
    "- user_id\tуникальный идентификатор пользователя\n",
    "- name\tимя пользователя\n",
    "- age\tвозраст\n",
    "- city\tгород\n",
    "- subscription_type\tтип подписки (free, ultra)\n",
    "\n",
    "**Поездки — rides_go.csv**\n",
    "\n",
    "- user_id\tуникальный идентификатор пользователя\n",
    "- distance\tрасстояние, которое пользователь проехал в текущей сессии (в метрах)\n",
    "- duration\tпродолжительность сессии (в минутах) — время с того момента, как пользователь нажал кнопку «Начать поездку» до момента, как он нажал кнопку «Завершить поездку»\n",
    "- date\tдата совершения поездки\n",
    "\n",
    "**Подписки — subscriptions_go.csv**\n",
    "\n",
    "- subscription_type\tтип подписки\n",
    "- minute_price\tстоимость одной минуты поездки по данной подписке\n",
    "- start_ride_price\tстоимость начала поездки\n",
    "- subscription_fee\tстоимость ежемесячного платежа\n",
    "\n"
   ]
  },
  {
   "cell_type": "markdown",
   "id": "3f9466b8",
   "metadata": {},
   "source": [
    "## Загрузка данных"
   ]
  },
  {
   "cell_type": "markdown",
   "id": "fd98af6f",
   "metadata": {},
   "source": [
    "### **Считайте CSV-файлы с данными с помощью библиотеки pandas и сохраните их в датафреймы. Пути к файлам:**\n",
    "\n",
    "- /datasets/users_go.csv\n",
    "- /datasets/rides_go.csv\n",
    "- /datasets/subscriptions_go.csv"
   ]
  },
  {
   "cell_type": "code",
   "execution_count": 1,
   "id": "e69419c5",
   "metadata": {},
   "outputs": [],
   "source": [
    "#загрузки библиотек\n",
    "\n",
    "import pandas as pd\n",
    "import matplotlib.pyplot as plt\n",
    "import numpy as np\n",
    "from scipy import stats as st\n"
   ]
  },
  {
   "cell_type": "code",
   "execution_count": 2,
   "id": "24831a42",
   "metadata": {},
   "outputs": [],
   "source": [
    "#загрузка данных\n",
    "\n",
    "users_df = pd.read_csv('/datasets/users_go.csv')\n",
    "rides_df = pd.read_csv('/datasets/rides_go.csv', parse_dates=['date'], dayfirst=True)\n",
    "subscriptions_df = pd.read_csv('/datasets/subscriptions_go.csv')\n"
   ]
  },
  {
   "cell_type": "code",
   "execution_count": 3,
   "id": "e39d1ebd",
   "metadata": {},
   "outputs": [
    {
     "name": "stdout",
     "output_type": "stream",
     "text": [
      "\n",
      "Dataset: Users Data\n"
     ]
    },
    {
     "data": {
      "text/html": [
       "<div>\n",
       "<style scoped>\n",
       "    .dataframe tbody tr th:only-of-type {\n",
       "        vertical-align: middle;\n",
       "    }\n",
       "\n",
       "    .dataframe tbody tr th {\n",
       "        vertical-align: top;\n",
       "    }\n",
       "\n",
       "    .dataframe thead th {\n",
       "        text-align: right;\n",
       "    }\n",
       "</style>\n",
       "<table border=\"1\" class=\"dataframe\">\n",
       "  <thead>\n",
       "    <tr style=\"text-align: right;\">\n",
       "      <th></th>\n",
       "      <th>user_id</th>\n",
       "      <th>name</th>\n",
       "      <th>age</th>\n",
       "      <th>city</th>\n",
       "      <th>subscription_type</th>\n",
       "    </tr>\n",
       "  </thead>\n",
       "  <tbody>\n",
       "    <tr>\n",
       "      <th>0</th>\n",
       "      <td>1</td>\n",
       "      <td>Кира</td>\n",
       "      <td>22</td>\n",
       "      <td>Тюмень</td>\n",
       "      <td>ultra</td>\n",
       "    </tr>\n",
       "    <tr>\n",
       "      <th>1</th>\n",
       "      <td>2</td>\n",
       "      <td>Станислав</td>\n",
       "      <td>31</td>\n",
       "      <td>Омск</td>\n",
       "      <td>ultra</td>\n",
       "    </tr>\n",
       "    <tr>\n",
       "      <th>2</th>\n",
       "      <td>3</td>\n",
       "      <td>Алексей</td>\n",
       "      <td>20</td>\n",
       "      <td>Москва</td>\n",
       "      <td>ultra</td>\n",
       "    </tr>\n",
       "    <tr>\n",
       "      <th>3</th>\n",
       "      <td>4</td>\n",
       "      <td>Константин</td>\n",
       "      <td>26</td>\n",
       "      <td>Ростов-на-Дону</td>\n",
       "      <td>ultra</td>\n",
       "    </tr>\n",
       "    <tr>\n",
       "      <th>4</th>\n",
       "      <td>5</td>\n",
       "      <td>Адель</td>\n",
       "      <td>28</td>\n",
       "      <td>Омск</td>\n",
       "      <td>ultra</td>\n",
       "    </tr>\n",
       "  </tbody>\n",
       "</table>\n",
       "</div>"
      ],
      "text/plain": [
       "   user_id        name  age            city subscription_type\n",
       "0        1        Кира   22          Тюмень             ultra\n",
       "1        2   Станислав   31            Омск             ultra\n",
       "2        3     Алексей   20          Москва             ultra\n",
       "3        4  Константин   26  Ростов-на-Дону             ultra\n",
       "4        5       Адель   28            Омск             ultra"
      ]
     },
     "metadata": {},
     "output_type": "display_data"
    },
    {
     "name": "stdout",
     "output_type": "stream",
     "text": [
      "\n",
      "Info:\n",
      "<class 'pandas.core.frame.DataFrame'>\n",
      "RangeIndex: 1565 entries, 0 to 1564\n",
      "Data columns (total 5 columns):\n",
      " #   Column             Non-Null Count  Dtype \n",
      "---  ------             --------------  ----- \n",
      " 0   user_id            1565 non-null   int64 \n",
      " 1   name               1565 non-null   object\n",
      " 2   age                1565 non-null   int64 \n",
      " 3   city               1565 non-null   object\n",
      " 4   subscription_type  1565 non-null   object\n",
      "dtypes: int64(2), object(3)\n",
      "memory usage: 61.3+ KB\n",
      "____________________________________________________________\n",
      "\n",
      "Dataset: Rides Data\n"
     ]
    },
    {
     "data": {
      "text/html": [
       "<div>\n",
       "<style scoped>\n",
       "    .dataframe tbody tr th:only-of-type {\n",
       "        vertical-align: middle;\n",
       "    }\n",
       "\n",
       "    .dataframe tbody tr th {\n",
       "        vertical-align: top;\n",
       "    }\n",
       "\n",
       "    .dataframe thead th {\n",
       "        text-align: right;\n",
       "    }\n",
       "</style>\n",
       "<table border=\"1\" class=\"dataframe\">\n",
       "  <thead>\n",
       "    <tr style=\"text-align: right;\">\n",
       "      <th></th>\n",
       "      <th>user_id</th>\n",
       "      <th>distance</th>\n",
       "      <th>duration</th>\n",
       "      <th>date</th>\n",
       "    </tr>\n",
       "  </thead>\n",
       "  <tbody>\n",
       "    <tr>\n",
       "      <th>0</th>\n",
       "      <td>1</td>\n",
       "      <td>4409.919140</td>\n",
       "      <td>25.599769</td>\n",
       "      <td>2021-01-01</td>\n",
       "    </tr>\n",
       "    <tr>\n",
       "      <th>1</th>\n",
       "      <td>1</td>\n",
       "      <td>2617.592153</td>\n",
       "      <td>15.816871</td>\n",
       "      <td>2021-01-18</td>\n",
       "    </tr>\n",
       "    <tr>\n",
       "      <th>2</th>\n",
       "      <td>1</td>\n",
       "      <td>754.159807</td>\n",
       "      <td>6.232113</td>\n",
       "      <td>2021-04-20</td>\n",
       "    </tr>\n",
       "    <tr>\n",
       "      <th>3</th>\n",
       "      <td>1</td>\n",
       "      <td>2694.783254</td>\n",
       "      <td>18.511000</td>\n",
       "      <td>2021-08-11</td>\n",
       "    </tr>\n",
       "    <tr>\n",
       "      <th>4</th>\n",
       "      <td>1</td>\n",
       "      <td>4028.687306</td>\n",
       "      <td>26.265803</td>\n",
       "      <td>2021-08-28</td>\n",
       "    </tr>\n",
       "  </tbody>\n",
       "</table>\n",
       "</div>"
      ],
      "text/plain": [
       "   user_id     distance   duration       date\n",
       "0        1  4409.919140  25.599769 2021-01-01\n",
       "1        1  2617.592153  15.816871 2021-01-18\n",
       "2        1   754.159807   6.232113 2021-04-20\n",
       "3        1  2694.783254  18.511000 2021-08-11\n",
       "4        1  4028.687306  26.265803 2021-08-28"
      ]
     },
     "metadata": {},
     "output_type": "display_data"
    },
    {
     "name": "stdout",
     "output_type": "stream",
     "text": [
      "\n",
      "Info:\n",
      "<class 'pandas.core.frame.DataFrame'>\n",
      "RangeIndex: 18068 entries, 0 to 18067\n",
      "Data columns (total 4 columns):\n",
      " #   Column    Non-Null Count  Dtype         \n",
      "---  ------    --------------  -----         \n",
      " 0   user_id   18068 non-null  int64         \n",
      " 1   distance  18068 non-null  float64       \n",
      " 2   duration  18068 non-null  float64       \n",
      " 3   date      18068 non-null  datetime64[ns]\n",
      "dtypes: datetime64[ns](1), float64(2), int64(1)\n",
      "memory usage: 564.8 KB\n",
      "____________________________________________________________\n",
      "\n",
      "Dataset: Subscriptions Data\n"
     ]
    },
    {
     "data": {
      "text/html": [
       "<div>\n",
       "<style scoped>\n",
       "    .dataframe tbody tr th:only-of-type {\n",
       "        vertical-align: middle;\n",
       "    }\n",
       "\n",
       "    .dataframe tbody tr th {\n",
       "        vertical-align: top;\n",
       "    }\n",
       "\n",
       "    .dataframe thead th {\n",
       "        text-align: right;\n",
       "    }\n",
       "</style>\n",
       "<table border=\"1\" class=\"dataframe\">\n",
       "  <thead>\n",
       "    <tr style=\"text-align: right;\">\n",
       "      <th></th>\n",
       "      <th>subscription_type</th>\n",
       "      <th>minute_price</th>\n",
       "      <th>start_ride_price</th>\n",
       "      <th>subscription_fee</th>\n",
       "    </tr>\n",
       "  </thead>\n",
       "  <tbody>\n",
       "    <tr>\n",
       "      <th>0</th>\n",
       "      <td>free</td>\n",
       "      <td>8</td>\n",
       "      <td>50</td>\n",
       "      <td>0</td>\n",
       "    </tr>\n",
       "    <tr>\n",
       "      <th>1</th>\n",
       "      <td>ultra</td>\n",
       "      <td>6</td>\n",
       "      <td>0</td>\n",
       "      <td>199</td>\n",
       "    </tr>\n",
       "  </tbody>\n",
       "</table>\n",
       "</div>"
      ],
      "text/plain": [
       "  subscription_type  minute_price  start_ride_price  subscription_fee\n",
       "0              free             8                50                 0\n",
       "1             ultra             6                 0               199"
      ]
     },
     "metadata": {},
     "output_type": "display_data"
    },
    {
     "name": "stdout",
     "output_type": "stream",
     "text": [
      "\n",
      "Info:\n",
      "<class 'pandas.core.frame.DataFrame'>\n",
      "RangeIndex: 2 entries, 0 to 1\n",
      "Data columns (total 4 columns):\n",
      " #   Column             Non-Null Count  Dtype \n",
      "---  ------             --------------  ----- \n",
      " 0   subscription_type  2 non-null      object\n",
      " 1   minute_price       2 non-null      int64 \n",
      " 2   start_ride_price   2 non-null      int64 \n",
      " 3   subscription_fee   2 non-null      int64 \n",
      "dtypes: int64(3), object(1)\n",
      "memory usage: 192.0+ bytes\n",
      "____________________________________________________________\n"
     ]
    }
   ],
   "source": [
    "#функция для вывода первых строк и информации о наборе данных\n",
    "\n",
    "def dataset_info(dataset, dataset_name):\n",
    "    print()\n",
    "    print(f\"Dataset: {dataset_name}\")\n",
    "    display(dataset.head())\n",
    "    print(\"\\nInfo:\")\n",
    "    dataset.info()\n",
    "    print(\"_\" * 60)\n",
    "\n",
    "\n",
    "# Применение функции для каждого набора данных\n",
    "\n",
    "dataset_info(users_df, \"Users Data\")\n",
    "dataset_info(rides_df, \"Rides Data\")\n",
    "dataset_info(subscriptions_df, \"Subscriptions Data\")\n"
   ]
  },
  {
   "cell_type": "markdown",
   "id": "0ff83266",
   "metadata": {},
   "source": [
    "**Вывод:**\n",
    "\n",
    "`users_df.info()`\n",
    "- структура данных выглядит корректной. Все столбцы заполнены, а типы данных соответствуют ожидаемым значениям.\n",
    "\n",
    "`rides_df.info()`\n",
    "- дата сохранена в текстовом формате, что можно преобразовать в формат даты для удобства анализа.\n",
    "\n",
    "`subscriptions_df.info()`\n",
    "- данные небольшие"
   ]
  },
  {
   "cell_type": "markdown",
   "id": "e95ebca7",
   "metadata": {},
   "source": [
    "## Предобработка данных"
   ]
  },
  {
   "cell_type": "markdown",
   "id": "f0c8d720",
   "metadata": {},
   "source": [
    "### Создайте новый столбец с номером месяца на основе столбца date."
   ]
  },
  {
   "cell_type": "code",
   "execution_count": 5,
   "id": "b9160982",
   "metadata": {
    "scrolled": true
   },
   "outputs": [
    {
     "data": {
      "text/html": [
       "<div>\n",
       "<style scoped>\n",
       "    .dataframe tbody tr th:only-of-type {\n",
       "        vertical-align: middle;\n",
       "    }\n",
       "\n",
       "    .dataframe tbody tr th {\n",
       "        vertical-align: top;\n",
       "    }\n",
       "\n",
       "    .dataframe thead th {\n",
       "        text-align: right;\n",
       "    }\n",
       "</style>\n",
       "<table border=\"1\" class=\"dataframe\">\n",
       "  <thead>\n",
       "    <tr style=\"text-align: right;\">\n",
       "      <th></th>\n",
       "      <th>user_id</th>\n",
       "      <th>distance</th>\n",
       "      <th>duration</th>\n",
       "      <th>date</th>\n",
       "      <th>month</th>\n",
       "    </tr>\n",
       "  </thead>\n",
       "  <tbody>\n",
       "    <tr>\n",
       "      <th>0</th>\n",
       "      <td>1</td>\n",
       "      <td>4409.919140</td>\n",
       "      <td>25.599769</td>\n",
       "      <td>2021-01-01</td>\n",
       "      <td>1</td>\n",
       "    </tr>\n",
       "    <tr>\n",
       "      <th>1</th>\n",
       "      <td>1</td>\n",
       "      <td>2617.592153</td>\n",
       "      <td>15.816871</td>\n",
       "      <td>2021-01-18</td>\n",
       "      <td>1</td>\n",
       "    </tr>\n",
       "    <tr>\n",
       "      <th>2</th>\n",
       "      <td>1</td>\n",
       "      <td>754.159807</td>\n",
       "      <td>6.232113</td>\n",
       "      <td>2021-04-20</td>\n",
       "      <td>4</td>\n",
       "    </tr>\n",
       "    <tr>\n",
       "      <th>3</th>\n",
       "      <td>1</td>\n",
       "      <td>2694.783254</td>\n",
       "      <td>18.511000</td>\n",
       "      <td>2021-08-11</td>\n",
       "      <td>8</td>\n",
       "    </tr>\n",
       "    <tr>\n",
       "      <th>4</th>\n",
       "      <td>1</td>\n",
       "      <td>4028.687306</td>\n",
       "      <td>26.265803</td>\n",
       "      <td>2021-08-28</td>\n",
       "      <td>8</td>\n",
       "    </tr>\n",
       "    <tr>\n",
       "      <th>...</th>\n",
       "      <td>...</td>\n",
       "      <td>...</td>\n",
       "      <td>...</td>\n",
       "      <td>...</td>\n",
       "      <td>...</td>\n",
       "    </tr>\n",
       "    <tr>\n",
       "      <th>18063</th>\n",
       "      <td>1534</td>\n",
       "      <td>3781.098080</td>\n",
       "      <td>19.822962</td>\n",
       "      <td>2021-11-04</td>\n",
       "      <td>11</td>\n",
       "    </tr>\n",
       "    <tr>\n",
       "      <th>18064</th>\n",
       "      <td>1534</td>\n",
       "      <td>2840.423057</td>\n",
       "      <td>21.409799</td>\n",
       "      <td>2021-11-16</td>\n",
       "      <td>11</td>\n",
       "    </tr>\n",
       "    <tr>\n",
       "      <th>18065</th>\n",
       "      <td>1534</td>\n",
       "      <td>3826.185507</td>\n",
       "      <td>18.435051</td>\n",
       "      <td>2021-11-18</td>\n",
       "      <td>11</td>\n",
       "    </tr>\n",
       "    <tr>\n",
       "      <th>18066</th>\n",
       "      <td>1534</td>\n",
       "      <td>2902.308661</td>\n",
       "      <td>16.674362</td>\n",
       "      <td>2021-11-27</td>\n",
       "      <td>11</td>\n",
       "    </tr>\n",
       "    <tr>\n",
       "      <th>18067</th>\n",
       "      <td>1534</td>\n",
       "      <td>2371.711192</td>\n",
       "      <td>15.893917</td>\n",
       "      <td>2021-12-29</td>\n",
       "      <td>12</td>\n",
       "    </tr>\n",
       "  </tbody>\n",
       "</table>\n",
       "<p>18068 rows × 5 columns</p>\n",
       "</div>"
      ],
      "text/plain": [
       "       user_id     distance   duration       date  month\n",
       "0            1  4409.919140  25.599769 2021-01-01      1\n",
       "1            1  2617.592153  15.816871 2021-01-18      1\n",
       "2            1   754.159807   6.232113 2021-04-20      4\n",
       "3            1  2694.783254  18.511000 2021-08-11      8\n",
       "4            1  4028.687306  26.265803 2021-08-28      8\n",
       "...        ...          ...        ...        ...    ...\n",
       "18063     1534  3781.098080  19.822962 2021-11-04     11\n",
       "18064     1534  2840.423057  21.409799 2021-11-16     11\n",
       "18065     1534  3826.185507  18.435051 2021-11-18     11\n",
       "18066     1534  2902.308661  16.674362 2021-11-27     11\n",
       "18067     1534  2371.711192  15.893917 2021-12-29     12\n",
       "\n",
       "[18068 rows x 5 columns]"
      ]
     },
     "execution_count": 5,
     "metadata": {},
     "output_type": "execute_result"
    }
   ],
   "source": [
    "rides_df['month'] = rides_df['date'].dt.month\n",
    "\n",
    "rides_df"
   ]
  },
  {
   "cell_type": "code",
   "execution_count": 6,
   "id": "981de335",
   "metadata": {},
   "outputs": [
    {
     "data": {
      "text/plain": [
       "2021    18068\n",
       "Name: year, dtype: int64"
      ]
     },
     "execution_count": 6,
     "metadata": {},
     "output_type": "execute_result"
    }
   ],
   "source": [
    "rides_df['year'] = rides_df['date'].dt.year\n",
    "\n",
    "rides_df['year'].value_counts().sort_index()"
   ]
  },
  {
   "cell_type": "markdown",
   "id": "44bbf1d1",
   "metadata": {},
   "source": [
    "Данные собраны **за период 2021 года**"
   ]
  },
  {
   "cell_type": "markdown",
   "id": "4d4d2552",
   "metadata": {},
   "source": [
    "### Проверьте наличие пропущенных значений и дубликатов в датафреймах. Обработайте их, если такие значения присутствуют."
   ]
  },
  {
   "cell_type": "code",
   "execution_count": 7,
   "id": "caaeef57",
   "metadata": {},
   "outputs": [
    {
     "data": {
      "text/plain": [
       "user_id              0\n",
       "name                 0\n",
       "age                  0\n",
       "city                 0\n",
       "subscription_type    0\n",
       "dtype: int64"
      ]
     },
     "metadata": {},
     "output_type": "display_data"
    },
    {
     "name": "stdout",
     "output_type": "stream",
     "text": [
      "_______________________\n"
     ]
    },
    {
     "data": {
      "text/plain": [
       "user_id     0\n",
       "distance    0\n",
       "duration    0\n",
       "date        0\n",
       "month       0\n",
       "year        0\n",
       "dtype: int64"
      ]
     },
     "metadata": {},
     "output_type": "display_data"
    },
    {
     "name": "stdout",
     "output_type": "stream",
     "text": [
      "_______________________\n"
     ]
    },
    {
     "data": {
      "text/plain": [
       "subscription_type    0\n",
       "minute_price         0\n",
       "start_ride_price     0\n",
       "subscription_fee     0\n",
       "dtype: int64"
      ]
     },
     "metadata": {},
     "output_type": "display_data"
    }
   ],
   "source": [
    "#проверка на наличие пропущенных значений\n",
    "\n",
    "display(users_df.isna().sum()) \n",
    "print(\"_______________________\")\n",
    "display(rides_df.isna().sum())\n",
    "print(\"_______________________\")\n",
    "display(subscriptions_df.isna().sum())"
   ]
  },
  {
   "cell_type": "code",
   "execution_count": 8,
   "id": "2d5b4b69",
   "metadata": {},
   "outputs": [
    {
     "data": {
      "text/plain": [
       "31"
      ]
     },
     "metadata": {},
     "output_type": "display_data"
    },
    {
     "name": "stdout",
     "output_type": "stream",
     "text": [
      "__\n"
     ]
    },
    {
     "data": {
      "text/plain": [
       "0"
      ]
     },
     "metadata": {},
     "output_type": "display_data"
    },
    {
     "name": "stdout",
     "output_type": "stream",
     "text": [
      "__\n"
     ]
    },
    {
     "data": {
      "text/plain": [
       "0"
      ]
     },
     "metadata": {},
     "output_type": "display_data"
    }
   ],
   "source": [
    "#проверка на наличие дубликатов\n",
    "\n",
    "display(users_df.duplicated().sum())\n",
    "print(\"__\")\n",
    "display(rides_df.duplicated().sum())\n",
    "print(\"__\")\n",
    "display(subscriptions_df.duplicated().sum())"
   ]
  },
  {
   "cell_type": "code",
   "execution_count": 9,
   "id": "a3bdef04",
   "metadata": {},
   "outputs": [
    {
     "data": {
      "text/plain": [
       "0"
      ]
     },
     "execution_count": 9,
     "metadata": {},
     "output_type": "execute_result"
    }
   ],
   "source": [
    "#даление дубликатов\n",
    "\n",
    "users_df = users_df.drop_duplicates()\n",
    "\n",
    "#проверка количества дубликатов после удаления\n",
    "\n",
    "users_df.duplicated().sum()"
   ]
  },
  {
   "cell_type": "markdown",
   "id": "f3adc5d7",
   "metadata": {},
   "source": [
    "**Вывод:**\n",
    "\n",
    "- Привели **дату** к нужному формату (при загрузке данных в шаге 1), добавили столбец с **месяцем и годом**. Данные собраны за **2021 год**.\n",
    "- **Пропусков** в данных нет.\n",
    "- Нашли и убрали **дубликаты** в данных о пользователях. В поездках и подписках **дубликатов** не было.\n"
   ]
  },
  {
   "cell_type": "markdown",
   "id": "212593c7",
   "metadata": {},
   "source": [
    "## Исследовательский анализ данных"
   ]
  },
  {
   "cell_type": "markdown",
   "id": "f97b425c",
   "metadata": {},
   "source": [
    "### Опишите и визуализируйте общую информацию о пользователях и поездках:\n",
    "\n",
    "- частота встречаемости городов;\n",
    "- соотношение пользователей с подпиской и без подписки;\n",
    "- возраст пользователей;\n",
    "- расстояние, которое пользователь преодолел за одну поездку;\n",
    "- продолжительность поездок."
   ]
  },
  {
   "cell_type": "code",
   "execution_count": 10,
   "id": "a858cb66",
   "metadata": {
    "scrolled": false
   },
   "outputs": [
    {
     "data": {
      "image/png": "[encoded data removed]",
      "text/plain": [
       "<Figure size 648x432 with 1 Axes>"
      ]
     },
     "metadata": {
      "needs_background": "light"
     },
     "output_type": "display_data"
    },
    {
     "data": {
      "text/plain": [
       "Пятигорск         14.3\n",
       "Екатеринбург      13.3\n",
       "Ростов-на-Дону    12.9\n",
       "Краснодар         12.6\n",
       "Сочи              12.3\n",
       "Омск              11.9\n",
       "Тюмень            11.7\n",
       "Москва            11.0\n",
       "Name: city, dtype: float64"
      ]
     },
     "execution_count": 10,
     "metadata": {},
     "output_type": "execute_result"
    }
   ],
   "source": [
    "#визуализация частоты встречаемости городов\n",
    "\n",
    "plt.figure(figsize=(9, 6))\n",
    "users_df['city'].value_counts().plot(kind='barh')\n",
    "plt.title('Частота встречаемости городов среди пользователей')\n",
    "plt.xlabel('Количество пользователей')\n",
    "plt.ylabel('Города')\n",
    "plt.show()\n",
    "\n",
    "city_procents = users_df['city'].value_counts() / users_df['city'].value_counts().sum() * 100\n",
    "city_procents.round(1)"
   ]
  },
  {
   "cell_type": "markdown",
   "id": "a93fcad8",
   "metadata": {},
   "source": [
    "Наибольшее количество пользователей из **Пятигорска — 226 человек**\n",
    "\n",
    "**Процентная разница** региональных различиях среди пользователей небольшая, и на её основе сложно делать выводы"
   ]
  },
  {
   "cell_type": "code",
   "execution_count": 11,
   "id": "c1f631dc",
   "metadata": {
    "scrolled": false
   },
   "outputs": [
    {
     "data": {
      "image/png": "[encoded data removed]",
      "text/plain": [
       "<Figure size 432x432 with 1 Axes>"
      ]
     },
     "metadata": {},
     "output_type": "display_data"
    }
   ],
   "source": [
    "#соотношение пользователей с подпиской и без подписки\n",
    "\n",
    "plt.figure(figsize=(6, 6))\n",
    "users_df['subscription_type'].value_counts().plot(kind='pie')\n",
    "plt.title('Соотношение пользователей с подпиской и без подписки')\n",
    "plt.ylabel('free = 835')\n",
    "plt.xlabel('ultra = 699')\n",
    "plt.show()"
   ]
  },
  {
   "cell_type": "markdown",
   "id": "6ada59df",
   "metadata": {},
   "source": [
    "- **Без подписки**: 846 пользователей.\n",
    "- **С подпиской**: 719 пользователей."
   ]
  },
  {
   "cell_type": "code",
   "execution_count": 12,
   "id": "a7e8caf2",
   "metadata": {
    "scrolled": false
   },
   "outputs": [
    {
     "data": {
      "image/png": "[encoded data removed]",
      "text/plain": [
       "<Figure size 720x432 with 1 Axes>"
      ]
     },
     "metadata": {
      "needs_background": "light"
     },
     "output_type": "display_data"
    }
   ],
   "source": [
    "#возраст пользователей\n",
    "\n",
    "plt.figure(figsize=(10, 6))\n",
    "users_df['age'].plot(kind='hist', bins=70, edgecolor='black')\n",
    "plt.title('Распределение возраста пользователей')\n",
    "plt.xlabel('Возраст')\n",
    "plt.ylabel('Количество пользователей')\n",
    "plt.show()"
   ]
  },
  {
   "cell_type": "code",
   "execution_count": 13,
   "id": "9891c269",
   "metadata": {
    "scrolled": true
   },
   "outputs": [
    {
     "data": {
      "text/plain": [
       "<AxesSubplot:>"
      ]
     },
     "execution_count": 13,
     "metadata": {},
     "output_type": "execute_result"
    },
    {
     "data": {
      "image/png": "[encoded data removed]",
      "text/plain": [
       "<Figure size 432x288 with 1 Axes>"
      ]
     },
     "metadata": {
      "needs_background": "light"
     },
     "output_type": "display_data"
    }
   ],
   "source": [
    "users_df.boxplot('age')"
   ]
  },
  {
   "cell_type": "code",
   "execution_count": 14,
   "id": "37ef3198",
   "metadata": {},
   "outputs": [
    {
     "data": {
      "text/plain": [
       "count    1534.000000\n",
       "mean       24.903520\n",
       "std         4.572367\n",
       "min        12.000000\n",
       "25%        22.000000\n",
       "50%        25.000000\n",
       "75%        28.000000\n",
       "max        43.000000\n",
       "Name: age, dtype: float64"
      ]
     },
     "metadata": {},
     "output_type": "display_data"
    },
    {
     "data": {
      "text/plain": [
       "6.0"
      ]
     },
     "execution_count": 14,
     "metadata": {},
     "output_type": "execute_result"
    }
   ],
   "source": [
    "user_describe = users_df['age'].describe()\n",
    "display(user_describe)\n",
    "user_describe['75%'] - user_describe['25%']"
   ]
  },
  {
   "cell_type": "markdown",
   "id": "f5960a80",
   "metadata": {},
   "source": [
    "- Средний возраст пользователей: **25 лет**.\n",
    "- Возраст варьируется от **12 до 43 лет**."
   ]
  },
  {
   "cell_type": "code",
   "execution_count": 15,
   "id": "78dd7c33",
   "metadata": {
    "scrolled": false
   },
   "outputs": [
    {
     "data": {
      "image/png": "[encoded data removed]",
      "text/plain": [
       "<Figure size 720x432 with 1 Axes>"
      ]
     },
     "metadata": {
      "needs_background": "light"
     },
     "output_type": "display_data"
    }
   ],
   "source": [
    "#расстояние, которое пользователь преодолел за одну поездку\n",
    "plt.figure(figsize=(10, 6))\n",
    "rides_df['distance'].plot(kind='hist', bins=30, edgecolor='black')\n",
    "plt.title('Распределение расстояний за одну поездку')\n",
    "plt.xlabel('Расстояние (м)')\n",
    "plt.ylabel('Количество поездок')\n",
    "plt.show()"
   ]
  },
  {
   "cell_type": "code",
   "execution_count": 16,
   "id": "bb60d9b5",
   "metadata": {},
   "outputs": [
    {
     "data": {
      "text/plain": [
       "<AxesSubplot:>"
      ]
     },
     "execution_count": 16,
     "metadata": {},
     "output_type": "execute_result"
    },
    {
     "data": {
      "image/png": "[encoded data removed]",
      "text/plain": [
       "<Figure size 432x288 with 1 Axes>"
      ]
     },
     "metadata": {
      "needs_background": "light"
     },
     "output_type": "display_data"
    }
   ],
   "source": [
    "rides_df.boxplot('distance')"
   ]
  },
  {
   "cell_type": "code",
   "execution_count": 17,
   "id": "24363595",
   "metadata": {},
   "outputs": [
    {
     "data": {
      "text/plain": [
       "count    18068.000000\n",
       "mean      3070.659976\n",
       "std       1116.831209\n",
       "min          0.855683\n",
       "25%       2543.226360\n",
       "50%       3133.609994\n",
       "75%       3776.222735\n",
       "max       7211.007745\n",
       "Name: distance, dtype: float64"
      ]
     },
     "metadata": {},
     "output_type": "display_data"
    },
    {
     "data": {
      "text/plain": [
       "1232.9963753558854"
      ]
     },
     "execution_count": 17,
     "metadata": {},
     "output_type": "execute_result"
    }
   ],
   "source": [
    "distance_describe = rides_df['distance'].describe()\n",
    "display(distance_describe)\n",
    "distance_describe['75%'] - distance_describe['25%']"
   ]
  },
  {
   "cell_type": "markdown",
   "id": "8fee1e57",
   "metadata": {},
   "source": [
    "- Среднее расстояние за одну поездку: около **3000 км**.\n",
    "- Максимальная дистанция поездки: **7км 211м**."
   ]
  },
  {
   "cell_type": "code",
   "execution_count": 18,
   "id": "cdab3ed3",
   "metadata": {
    "scrolled": false
   },
   "outputs": [
    {
     "data": {
      "image/png": "[encoded data removed]",
      "text/plain": [
       "<Figure size 720x432 with 1 Axes>"
      ]
     },
     "metadata": {
      "needs_background": "light"
     },
     "output_type": "display_data"
    }
   ],
   "source": [
    "#продолжительность поездок\n",
    "\n",
    "plt.figure(figsize=(10, 6))\n",
    "rides_df['duration'].plot(kind='hist', bins=30, edgecolor='black')\n",
    "plt.title('Распределение продолжительности поездок')\n",
    "plt.xlabel('Продолжительность (минуты)')\n",
    "plt.ylabel('Количество поездок')\n",
    "plt.show()\n",
    "\n"
   ]
  },
  {
   "cell_type": "raw",
   "id": "41595f78",
   "metadata": {
    "scrolled": true
   },
   "source": [
    "rides_df.boxplot('duration')"
   ]
  },
  {
   "cell_type": "code",
   "execution_count": 19,
   "id": "716bd99f",
   "metadata": {
    "scrolled": false
   },
   "outputs": [
    {
     "data": {
      "text/plain": [
       "count    18068.000000\n",
       "mean        17.805011\n",
       "std          6.091051\n",
       "min          0.500000\n",
       "25%         13.597563\n",
       "50%         17.678395\n",
       "75%         21.724800\n",
       "max         40.823963\n",
       "Name: duration, dtype: float64"
      ]
     },
     "metadata": {},
     "output_type": "display_data"
    },
    {
     "data": {
      "text/plain": [
       "8.127237170546415"
      ]
     },
     "execution_count": 19,
     "metadata": {},
     "output_type": "execute_result"
    }
   ],
   "source": [
    "duration_describe = rides_df['duration'].describe()\n",
    "display(duration_describe)\n",
    "duration_describe['75%'] - duration_describe['25%']"
   ]
  },
  {
   "cell_type": "markdown",
   "id": "808af0bf",
   "metadata": {},
   "source": [
    "- Средняя продолжительность поездки: **18 минут**.\n",
    "- Максимальная продолжительность поездки: **40.8 минут**."
   ]
  },
  {
   "cell_type": "markdown",
   "id": "78e7cebe",
   "metadata": {},
   "source": [
    "**Промежуточный вывод:**\n",
    "\n",
    "1. **Региональные различия**: самое большое количество пользователей из Пятигорска (226 человек), однако процентные различия между регионами невелики, что усложняет выводы о значительном влиянии региона на использование сервиса.\n",
    "   \n",
    "2. **Тип подписки**: пользователей без подписки (846) больше чем с подпиской (719).\n",
    "\n",
    "3. **Возраст пользователей**: средний возраст составляет 25 лет, с диапазоном от 12 до 43 лет. Межквартильный размах (IQR) для возраста составляет 6 (от 22 до 28 лет), что указывает на относительно молодую аудиторию пользователей.\n",
    "\n",
    "4. **Проезжаемое расстояние**:\n",
    "   - среднее расстояние за одну поездку составляет около 3000 м.\n",
    "   - максимальное расстояние — 7211 м.\n",
    "   - IQR для расстояний составляет 1233 метра (от 2543 до 3776 метров), что показывает умеренный разброс в расстояниях поездок пользователей.\n",
    "   - всего было выявлено 1036 аномальных поездок по расстоянию.\n",
    "\n",
    "5. **Продолжительность поездок**:\n",
    "   - средняя продолжительность составляет 18 минут, максимальная — 40.8 минут.\n",
    "   - IQR для продолжительности поездок составляет 8.12 минут (от 13.6 до 21.7 минут), что указывает на то, что большинство поездок находятся в пределах этого диапазона и являются относительно кратковременными.\n",
    "   - обнаружено 177 аномальных поездок по длительности."
   ]
  },
  {
   "cell_type": "code",
   "execution_count": 20,
   "id": "3df0f69e",
   "metadata": {},
   "outputs": [
    {
     "data": {
      "text/html": [
       "<div>\n",
       "<style scoped>\n",
       "    .dataframe tbody tr th:only-of-type {\n",
       "        vertical-align: middle;\n",
       "    }\n",
       "\n",
       "    .dataframe tbody tr th {\n",
       "        vertical-align: top;\n",
       "    }\n",
       "\n",
       "    .dataframe thead th {\n",
       "        text-align: right;\n",
       "    }\n",
       "</style>\n",
       "<table border=\"1\" class=\"dataframe\">\n",
       "  <thead>\n",
       "    <tr style=\"text-align: right;\">\n",
       "      <th></th>\n",
       "      <th>age</th>\n",
       "    </tr>\n",
       "  </thead>\n",
       "  <tbody>\n",
       "    <tr>\n",
       "      <th>count</th>\n",
       "      <td>1534.000000</td>\n",
       "    </tr>\n",
       "    <tr>\n",
       "      <th>mean</th>\n",
       "      <td>24.903520</td>\n",
       "    </tr>\n",
       "    <tr>\n",
       "      <th>std</th>\n",
       "      <td>4.572367</td>\n",
       "    </tr>\n",
       "    <tr>\n",
       "      <th>min</th>\n",
       "      <td>12.000000</td>\n",
       "    </tr>\n",
       "    <tr>\n",
       "      <th>25%</th>\n",
       "      <td>22.000000</td>\n",
       "    </tr>\n",
       "    <tr>\n",
       "      <th>50%</th>\n",
       "      <td>25.000000</td>\n",
       "    </tr>\n",
       "    <tr>\n",
       "      <th>75%</th>\n",
       "      <td>28.000000</td>\n",
       "    </tr>\n",
       "    <tr>\n",
       "      <th>max</th>\n",
       "      <td>43.000000</td>\n",
       "    </tr>\n",
       "  </tbody>\n",
       "</table>\n",
       "</div>"
      ],
      "text/plain": [
       "               age\n",
       "count  1534.000000\n",
       "mean     24.903520\n",
       "std       4.572367\n",
       "min      12.000000\n",
       "25%      22.000000\n",
       "50%      25.000000\n",
       "75%      28.000000\n",
       "max      43.000000"
      ]
     },
     "execution_count": 20,
     "metadata": {},
     "output_type": "execute_result"
    }
   ],
   "source": [
    "users_df[['age']].describe()"
   ]
  },
  {
   "cell_type": "markdown",
   "id": "4ef51331",
   "metadata": {},
   "source": [
    "## Объединение данных"
   ]
  },
  {
   "cell_type": "markdown",
   "id": "ecee7146",
   "metadata": {},
   "source": [
    "### Объедините данные о пользователях, поездках и подписках в один датафрейм. Для этого воспользуйтесь методом merge()."
   ]
  },
  {
   "cell_type": "code",
   "execution_count": 21,
   "id": "fd23e640",
   "metadata": {},
   "outputs": [
    {
     "name": "stdout",
     "output_type": "stream",
     "text": [
      "\n",
      "Dataset: Users Data\n"
     ]
    },
    {
     "data": {
      "text/html": [
       "<div>\n",
       "<style scoped>\n",
       "    .dataframe tbody tr th:only-of-type {\n",
       "        vertical-align: middle;\n",
       "    }\n",
       "\n",
       "    .dataframe tbody tr th {\n",
       "        vertical-align: top;\n",
       "    }\n",
       "\n",
       "    .dataframe thead th {\n",
       "        text-align: right;\n",
       "    }\n",
       "</style>\n",
       "<table border=\"1\" class=\"dataframe\">\n",
       "  <thead>\n",
       "    <tr style=\"text-align: right;\">\n",
       "      <th></th>\n",
       "      <th>user_id</th>\n",
       "      <th>name</th>\n",
       "      <th>age</th>\n",
       "      <th>city</th>\n",
       "      <th>subscription_type</th>\n",
       "    </tr>\n",
       "  </thead>\n",
       "  <tbody>\n",
       "    <tr>\n",
       "      <th>0</th>\n",
       "      <td>1</td>\n",
       "      <td>Кира</td>\n",
       "      <td>22</td>\n",
       "      <td>Тюмень</td>\n",
       "      <td>ultra</td>\n",
       "    </tr>\n",
       "    <tr>\n",
       "      <th>1</th>\n",
       "      <td>2</td>\n",
       "      <td>Станислав</td>\n",
       "      <td>31</td>\n",
       "      <td>Омск</td>\n",
       "      <td>ultra</td>\n",
       "    </tr>\n",
       "    <tr>\n",
       "      <th>2</th>\n",
       "      <td>3</td>\n",
       "      <td>Алексей</td>\n",
       "      <td>20</td>\n",
       "      <td>Москва</td>\n",
       "      <td>ultra</td>\n",
       "    </tr>\n",
       "    <tr>\n",
       "      <th>3</th>\n",
       "      <td>4</td>\n",
       "      <td>Константин</td>\n",
       "      <td>26</td>\n",
       "      <td>Ростов-на-Дону</td>\n",
       "      <td>ultra</td>\n",
       "    </tr>\n",
       "    <tr>\n",
       "      <th>4</th>\n",
       "      <td>5</td>\n",
       "      <td>Адель</td>\n",
       "      <td>28</td>\n",
       "      <td>Омск</td>\n",
       "      <td>ultra</td>\n",
       "    </tr>\n",
       "  </tbody>\n",
       "</table>\n",
       "</div>"
      ],
      "text/plain": [
       "   user_id        name  age            city subscription_type\n",
       "0        1        Кира   22          Тюмень             ultra\n",
       "1        2   Станислав   31            Омск             ultra\n",
       "2        3     Алексей   20          Москва             ultra\n",
       "3        4  Константин   26  Ростов-на-Дону             ultra\n",
       "4        5       Адель   28            Омск             ultra"
      ]
     },
     "metadata": {},
     "output_type": "display_data"
    },
    {
     "name": "stdout",
     "output_type": "stream",
     "text": [
      "\n",
      "Info:\n",
      "<class 'pandas.core.frame.DataFrame'>\n",
      "Int64Index: 1534 entries, 0 to 1533\n",
      "Data columns (total 5 columns):\n",
      " #   Column             Non-Null Count  Dtype \n",
      "---  ------             --------------  ----- \n",
      " 0   user_id            1534 non-null   int64 \n",
      " 1   name               1534 non-null   object\n",
      " 2   age                1534 non-null   int64 \n",
      " 3   city               1534 non-null   object\n",
      " 4   subscription_type  1534 non-null   object\n",
      "dtypes: int64(2), object(3)\n",
      "memory usage: 71.9+ KB\n",
      "____________________________________________________________\n",
      "\n",
      "Dataset: Rides Data\n"
     ]
    },
    {
     "data": {
      "text/html": [
       "<div>\n",
       "<style scoped>\n",
       "    .dataframe tbody tr th:only-of-type {\n",
       "        vertical-align: middle;\n",
       "    }\n",
       "\n",
       "    .dataframe tbody tr th {\n",
       "        vertical-align: top;\n",
       "    }\n",
       "\n",
       "    .dataframe thead th {\n",
       "        text-align: right;\n",
       "    }\n",
       "</style>\n",
       "<table border=\"1\" class=\"dataframe\">\n",
       "  <thead>\n",
       "    <tr style=\"text-align: right;\">\n",
       "      <th></th>\n",
       "      <th>user_id</th>\n",
       "      <th>distance</th>\n",
       "      <th>duration</th>\n",
       "      <th>date</th>\n",
       "      <th>month</th>\n",
       "      <th>year</th>\n",
       "    </tr>\n",
       "  </thead>\n",
       "  <tbody>\n",
       "    <tr>\n",
       "      <th>0</th>\n",
       "      <td>1</td>\n",
       "      <td>4409.919140</td>\n",
       "      <td>25.599769</td>\n",
       "      <td>2021-01-01</td>\n",
       "      <td>1</td>\n",
       "      <td>2021</td>\n",
       "    </tr>\n",
       "    <tr>\n",
       "      <th>1</th>\n",
       "      <td>1</td>\n",
       "      <td>2617.592153</td>\n",
       "      <td>15.816871</td>\n",
       "      <td>2021-01-18</td>\n",
       "      <td>1</td>\n",
       "      <td>2021</td>\n",
       "    </tr>\n",
       "    <tr>\n",
       "      <th>2</th>\n",
       "      <td>1</td>\n",
       "      <td>754.159807</td>\n",
       "      <td>6.232113</td>\n",
       "      <td>2021-04-20</td>\n",
       "      <td>4</td>\n",
       "      <td>2021</td>\n",
       "    </tr>\n",
       "    <tr>\n",
       "      <th>3</th>\n",
       "      <td>1</td>\n",
       "      <td>2694.783254</td>\n",
       "      <td>18.511000</td>\n",
       "      <td>2021-08-11</td>\n",
       "      <td>8</td>\n",
       "      <td>2021</td>\n",
       "    </tr>\n",
       "    <tr>\n",
       "      <th>4</th>\n",
       "      <td>1</td>\n",
       "      <td>4028.687306</td>\n",
       "      <td>26.265803</td>\n",
       "      <td>2021-08-28</td>\n",
       "      <td>8</td>\n",
       "      <td>2021</td>\n",
       "    </tr>\n",
       "  </tbody>\n",
       "</table>\n",
       "</div>"
      ],
      "text/plain": [
       "   user_id     distance   duration       date  month  year\n",
       "0        1  4409.919140  25.599769 2021-01-01      1  2021\n",
       "1        1  2617.592153  15.816871 2021-01-18      1  2021\n",
       "2        1   754.159807   6.232113 2021-04-20      4  2021\n",
       "3        1  2694.783254  18.511000 2021-08-11      8  2021\n",
       "4        1  4028.687306  26.265803 2021-08-28      8  2021"
      ]
     },
     "metadata": {},
     "output_type": "display_data"
    },
    {
     "name": "stdout",
     "output_type": "stream",
     "text": [
      "\n",
      "Info:\n",
      "<class 'pandas.core.frame.DataFrame'>\n",
      "RangeIndex: 18068 entries, 0 to 18067\n",
      "Data columns (total 6 columns):\n",
      " #   Column    Non-Null Count  Dtype         \n",
      "---  ------    --------------  -----         \n",
      " 0   user_id   18068 non-null  int64         \n",
      " 1   distance  18068 non-null  float64       \n",
      " 2   duration  18068 non-null  float64       \n",
      " 3   date      18068 non-null  datetime64[ns]\n",
      " 4   month     18068 non-null  int64         \n",
      " 5   year      18068 non-null  int64         \n",
      "dtypes: datetime64[ns](1), float64(2), int64(3)\n",
      "memory usage: 847.1 KB\n",
      "____________________________________________________________\n",
      "\n",
      "Dataset: Subscriptions Data\n"
     ]
    },
    {
     "data": {
      "text/html": [
       "<div>\n",
       "<style scoped>\n",
       "    .dataframe tbody tr th:only-of-type {\n",
       "        vertical-align: middle;\n",
       "    }\n",
       "\n",
       "    .dataframe tbody tr th {\n",
       "        vertical-align: top;\n",
       "    }\n",
       "\n",
       "    .dataframe thead th {\n",
       "        text-align: right;\n",
       "    }\n",
       "</style>\n",
       "<table border=\"1\" class=\"dataframe\">\n",
       "  <thead>\n",
       "    <tr style=\"text-align: right;\">\n",
       "      <th></th>\n",
       "      <th>subscription_type</th>\n",
       "      <th>minute_price</th>\n",
       "      <th>start_ride_price</th>\n",
       "      <th>subscription_fee</th>\n",
       "    </tr>\n",
       "  </thead>\n",
       "  <tbody>\n",
       "    <tr>\n",
       "      <th>0</th>\n",
       "      <td>free</td>\n",
       "      <td>8</td>\n",
       "      <td>50</td>\n",
       "      <td>0</td>\n",
       "    </tr>\n",
       "    <tr>\n",
       "      <th>1</th>\n",
       "      <td>ultra</td>\n",
       "      <td>6</td>\n",
       "      <td>0</td>\n",
       "      <td>199</td>\n",
       "    </tr>\n",
       "  </tbody>\n",
       "</table>\n",
       "</div>"
      ],
      "text/plain": [
       "  subscription_type  minute_price  start_ride_price  subscription_fee\n",
       "0              free             8                50                 0\n",
       "1             ultra             6                 0               199"
      ]
     },
     "metadata": {},
     "output_type": "display_data"
    },
    {
     "name": "stdout",
     "output_type": "stream",
     "text": [
      "\n",
      "Info:\n",
      "<class 'pandas.core.frame.DataFrame'>\n",
      "RangeIndex: 2 entries, 0 to 1\n",
      "Data columns (total 4 columns):\n",
      " #   Column             Non-Null Count  Dtype \n",
      "---  ------             --------------  ----- \n",
      " 0   subscription_type  2 non-null      object\n",
      " 1   minute_price       2 non-null      int64 \n",
      " 2   start_ride_price   2 non-null      int64 \n",
      " 3   subscription_fee   2 non-null      int64 \n",
      "dtypes: int64(3), object(1)\n",
      "memory usage: 192.0+ bytes\n",
      "____________________________________________________________\n"
     ]
    }
   ],
   "source": [
    "dataset_info(users_df, \"Users Data\")\n",
    "dataset_info(rides_df, \"Rides Data\")\n",
    "dataset_info(subscriptions_df, \"Subscriptions Data\")"
   ]
  },
  {
   "cell_type": "code",
   "execution_count": 22,
   "id": "83ea7fc4",
   "metadata": {
    "scrolled": true
   },
   "outputs": [
    {
     "data": {
      "text/html": [
       "<div>\n",
       "<style scoped>\n",
       "    .dataframe tbody tr th:only-of-type {\n",
       "        vertical-align: middle;\n",
       "    }\n",
       "\n",
       "    .dataframe tbody tr th {\n",
       "        vertical-align: top;\n",
       "    }\n",
       "\n",
       "    .dataframe thead th {\n",
       "        text-align: right;\n",
       "    }\n",
       "</style>\n",
       "<table border=\"1\" class=\"dataframe\">\n",
       "  <thead>\n",
       "    <tr style=\"text-align: right;\">\n",
       "      <th></th>\n",
       "      <th>user_id</th>\n",
       "      <th>name</th>\n",
       "      <th>age</th>\n",
       "      <th>city</th>\n",
       "      <th>subscription_type</th>\n",
       "      <th>distance</th>\n",
       "      <th>duration</th>\n",
       "      <th>date</th>\n",
       "      <th>month</th>\n",
       "      <th>year</th>\n",
       "      <th>minute_price</th>\n",
       "      <th>start_ride_price</th>\n",
       "      <th>subscription_fee</th>\n",
       "    </tr>\n",
       "  </thead>\n",
       "  <tbody>\n",
       "    <tr>\n",
       "      <th>0</th>\n",
       "      <td>1</td>\n",
       "      <td>Кира</td>\n",
       "      <td>22</td>\n",
       "      <td>Тюмень</td>\n",
       "      <td>ultra</td>\n",
       "      <td>4409.919140</td>\n",
       "      <td>25.599769</td>\n",
       "      <td>2021-01-01</td>\n",
       "      <td>1</td>\n",
       "      <td>2021</td>\n",
       "      <td>6</td>\n",
       "      <td>0</td>\n",
       "      <td>199</td>\n",
       "    </tr>\n",
       "    <tr>\n",
       "      <th>1</th>\n",
       "      <td>1</td>\n",
       "      <td>Кира</td>\n",
       "      <td>22</td>\n",
       "      <td>Тюмень</td>\n",
       "      <td>ultra</td>\n",
       "      <td>2617.592153</td>\n",
       "      <td>15.816871</td>\n",
       "      <td>2021-01-18</td>\n",
       "      <td>1</td>\n",
       "      <td>2021</td>\n",
       "      <td>6</td>\n",
       "      <td>0</td>\n",
       "      <td>199</td>\n",
       "    </tr>\n",
       "    <tr>\n",
       "      <th>2</th>\n",
       "      <td>1</td>\n",
       "      <td>Кира</td>\n",
       "      <td>22</td>\n",
       "      <td>Тюмень</td>\n",
       "      <td>ultra</td>\n",
       "      <td>754.159807</td>\n",
       "      <td>6.232113</td>\n",
       "      <td>2021-04-20</td>\n",
       "      <td>4</td>\n",
       "      <td>2021</td>\n",
       "      <td>6</td>\n",
       "      <td>0</td>\n",
       "      <td>199</td>\n",
       "    </tr>\n",
       "    <tr>\n",
       "      <th>3</th>\n",
       "      <td>1</td>\n",
       "      <td>Кира</td>\n",
       "      <td>22</td>\n",
       "      <td>Тюмень</td>\n",
       "      <td>ultra</td>\n",
       "      <td>2694.783254</td>\n",
       "      <td>18.511000</td>\n",
       "      <td>2021-08-11</td>\n",
       "      <td>8</td>\n",
       "      <td>2021</td>\n",
       "      <td>6</td>\n",
       "      <td>0</td>\n",
       "      <td>199</td>\n",
       "    </tr>\n",
       "    <tr>\n",
       "      <th>4</th>\n",
       "      <td>1</td>\n",
       "      <td>Кира</td>\n",
       "      <td>22</td>\n",
       "      <td>Тюмень</td>\n",
       "      <td>ultra</td>\n",
       "      <td>4028.687306</td>\n",
       "      <td>26.265803</td>\n",
       "      <td>2021-08-28</td>\n",
       "      <td>8</td>\n",
       "      <td>2021</td>\n",
       "      <td>6</td>\n",
       "      <td>0</td>\n",
       "      <td>199</td>\n",
       "    </tr>\n",
       "    <tr>\n",
       "      <th>...</th>\n",
       "      <td>...</td>\n",
       "      <td>...</td>\n",
       "      <td>...</td>\n",
       "      <td>...</td>\n",
       "      <td>...</td>\n",
       "      <td>...</td>\n",
       "      <td>...</td>\n",
       "      <td>...</td>\n",
       "      <td>...</td>\n",
       "      <td>...</td>\n",
       "      <td>...</td>\n",
       "      <td>...</td>\n",
       "      <td>...</td>\n",
       "    </tr>\n",
       "    <tr>\n",
       "      <th>18063</th>\n",
       "      <td>1534</td>\n",
       "      <td>Альберт</td>\n",
       "      <td>25</td>\n",
       "      <td>Краснодар</td>\n",
       "      <td>free</td>\n",
       "      <td>3781.098080</td>\n",
       "      <td>19.822962</td>\n",
       "      <td>2021-11-04</td>\n",
       "      <td>11</td>\n",
       "      <td>2021</td>\n",
       "      <td>8</td>\n",
       "      <td>50</td>\n",
       "      <td>0</td>\n",
       "    </tr>\n",
       "    <tr>\n",
       "      <th>18064</th>\n",
       "      <td>1534</td>\n",
       "      <td>Альберт</td>\n",
       "      <td>25</td>\n",
       "      <td>Краснодар</td>\n",
       "      <td>free</td>\n",
       "      <td>2840.423057</td>\n",
       "      <td>21.409799</td>\n",
       "      <td>2021-11-16</td>\n",
       "      <td>11</td>\n",
       "      <td>2021</td>\n",
       "      <td>8</td>\n",
       "      <td>50</td>\n",
       "      <td>0</td>\n",
       "    </tr>\n",
       "    <tr>\n",
       "      <th>18065</th>\n",
       "      <td>1534</td>\n",
       "      <td>Альберт</td>\n",
       "      <td>25</td>\n",
       "      <td>Краснодар</td>\n",
       "      <td>free</td>\n",
       "      <td>3826.185507</td>\n",
       "      <td>18.435051</td>\n",
       "      <td>2021-11-18</td>\n",
       "      <td>11</td>\n",
       "      <td>2021</td>\n",
       "      <td>8</td>\n",
       "      <td>50</td>\n",
       "      <td>0</td>\n",
       "    </tr>\n",
       "    <tr>\n",
       "      <th>18066</th>\n",
       "      <td>1534</td>\n",
       "      <td>Альберт</td>\n",
       "      <td>25</td>\n",
       "      <td>Краснодар</td>\n",
       "      <td>free</td>\n",
       "      <td>2902.308661</td>\n",
       "      <td>16.674362</td>\n",
       "      <td>2021-11-27</td>\n",
       "      <td>11</td>\n",
       "      <td>2021</td>\n",
       "      <td>8</td>\n",
       "      <td>50</td>\n",
       "      <td>0</td>\n",
       "    </tr>\n",
       "    <tr>\n",
       "      <th>18067</th>\n",
       "      <td>1534</td>\n",
       "      <td>Альберт</td>\n",
       "      <td>25</td>\n",
       "      <td>Краснодар</td>\n",
       "      <td>free</td>\n",
       "      <td>2371.711192</td>\n",
       "      <td>15.893917</td>\n",
       "      <td>2021-12-29</td>\n",
       "      <td>12</td>\n",
       "      <td>2021</td>\n",
       "      <td>8</td>\n",
       "      <td>50</td>\n",
       "      <td>0</td>\n",
       "    </tr>\n",
       "  </tbody>\n",
       "</table>\n",
       "<p>18068 rows × 13 columns</p>\n",
       "</div>"
      ],
      "text/plain": [
       "       user_id     name  age       city subscription_type     distance  \\\n",
       "0            1     Кира   22     Тюмень             ultra  4409.919140   \n",
       "1            1     Кира   22     Тюмень             ultra  2617.592153   \n",
       "2            1     Кира   22     Тюмень             ultra   754.159807   \n",
       "3            1     Кира   22     Тюмень             ultra  2694.783254   \n",
       "4            1     Кира   22     Тюмень             ultra  4028.687306   \n",
       "...        ...      ...  ...        ...               ...          ...   \n",
       "18063     1534  Альберт   25  Краснодар              free  3781.098080   \n",
       "18064     1534  Альберт   25  Краснодар              free  2840.423057   \n",
       "18065     1534  Альберт   25  Краснодар              free  3826.185507   \n",
       "18066     1534  Альберт   25  Краснодар              free  2902.308661   \n",
       "18067     1534  Альберт   25  Краснодар              free  2371.711192   \n",
       "\n",
       "        duration       date  month  year  minute_price  start_ride_price  \\\n",
       "0      25.599769 2021-01-01      1  2021             6                 0   \n",
       "1      15.816871 2021-01-18      1  2021             6                 0   \n",
       "2       6.232113 2021-04-20      4  2021             6                 0   \n",
       "3      18.511000 2021-08-11      8  2021             6                 0   \n",
       "4      26.265803 2021-08-28      8  2021             6                 0   \n",
       "...          ...        ...    ...   ...           ...               ...   \n",
       "18063  19.822962 2021-11-04     11  2021             8                50   \n",
       "18064  21.409799 2021-11-16     11  2021             8                50   \n",
       "18065  18.435051 2021-11-18     11  2021             8                50   \n",
       "18066  16.674362 2021-11-27     11  2021             8                50   \n",
       "18067  15.893917 2021-12-29     12  2021             8                50   \n",
       "\n",
       "       subscription_fee  \n",
       "0                   199  \n",
       "1                   199  \n",
       "2                   199  \n",
       "3                   199  \n",
       "4                   199  \n",
       "...                 ...  \n",
       "18063                 0  \n",
       "18064                 0  \n",
       "18065                 0  \n",
       "18066                 0  \n",
       "18067                 0  \n",
       "\n",
       "[18068 rows x 13 columns]"
      ]
     },
     "execution_count": 22,
     "metadata": {},
     "output_type": "execute_result"
    }
   ],
   "source": [
    "data = pd.merge(users_df, rides_df, on='user_id', how='left')\n",
    "data = pd.merge(data, subscriptions_df, on='subscription_type', how='left')\n",
    "\n",
    "data"
   ]
  },
  {
   "cell_type": "code",
   "execution_count": 23,
   "id": "59a17d82",
   "metadata": {},
   "outputs": [
    {
     "data": {
      "text/plain": [
       "1534"
      ]
     },
     "metadata": {},
     "output_type": "display_data"
    },
    {
     "data": {
      "text/plain": [
       "18068"
      ]
     },
     "metadata": {},
     "output_type": "display_data"
    },
    {
     "data": {
      "text/plain": [
       "2"
      ]
     },
     "metadata": {},
     "output_type": "display_data"
    }
   ],
   "source": [
    "#размерности датафреймов до объединения\n",
    "display(users_df.shape[0])\n",
    "display(rides_df.shape[0])\n",
    "display(subscriptions_df.shape[0])"
   ]
  },
  {
   "cell_type": "code",
   "execution_count": 24,
   "id": "c0c49672",
   "metadata": {
    "scrolled": true
   },
   "outputs": [
    {
     "data": {
      "text/plain": [
       "18068"
      ]
     },
     "metadata": {},
     "output_type": "display_data"
    },
    {
     "data": {
      "text/plain": [
       "user_id              0\n",
       "name                 0\n",
       "age                  0\n",
       "city                 0\n",
       "subscription_type    0\n",
       "distance             0\n",
       "duration             0\n",
       "date                 0\n",
       "month                0\n",
       "year                 0\n",
       "minute_price         0\n",
       "start_ride_price     0\n",
       "subscription_fee     0\n",
       "dtype: int64"
      ]
     },
     "execution_count": 24,
     "metadata": {},
     "output_type": "execute_result"
    }
   ],
   "source": [
    "#размерности датафреймов после объединения\n",
    "display(data.shape[0])\n",
    "\n",
    "data.isna().sum()"
   ]
  },
  {
   "cell_type": "markdown",
   "id": "abff5710",
   "metadata": {},
   "source": [
    "**Вывод:**\n",
    "\n",
    "- Количество записей в users_df: 1534\n",
    "- Количество записей в rides_df: 18068\n",
    "- Количество записей в subscriptions_df: 2\n",
    "\n",
    "**После объединения:**\n",
    "- Количество записей в итоговом датафрейме data: 18068\n",
    "\n",
    "**Объединение данных** прошло успешно, а все данные из поездок корректно соединены с соответствующими пользователями и их подписками. "
   ]
  },
  {
   "cell_type": "markdown",
   "id": "5c1cd8ba",
   "metadata": {},
   "source": [
    "### Создайте ещё два датафрейма из датафрейма, созданного на этапе 4.1:\n",
    "- c данными о пользователях без подписки;\n",
    "- с данными о пользователях с подпиской."
   ]
  },
  {
   "cell_type": "code",
   "execution_count": 25,
   "id": "d9abca4d",
   "metadata": {},
   "outputs": [
    {
     "data": {
      "text/plain": [
       "11568"
      ]
     },
     "metadata": {},
     "output_type": "display_data"
    },
    {
     "data": {
      "text/plain": [
       "user_id              0\n",
       "name                 0\n",
       "age                  0\n",
       "city                 0\n",
       "subscription_type    0\n",
       "distance             0\n",
       "duration             0\n",
       "date                 0\n",
       "month                0\n",
       "year                 0\n",
       "minute_price         0\n",
       "start_ride_price     0\n",
       "subscription_fee     0\n",
       "dtype: int64"
      ]
     },
     "execution_count": 25,
     "metadata": {},
     "output_type": "execute_result"
    }
   ],
   "source": [
    "#c данными о пользователях без подписки\n",
    "data_free = data[data['subscription_type'] == 'free']\n",
    "display(data_free.shape[0])\n",
    "data_free.isna().sum()"
   ]
  },
  {
   "cell_type": "markdown",
   "id": "6f982dc3",
   "metadata": {},
   "source": [
    "В датафрейме для пользователей без подписки 11568 записей без каких-либо пропусков"
   ]
  },
  {
   "cell_type": "code",
   "execution_count": 26,
   "id": "fa089f2a",
   "metadata": {
    "scrolled": true
   },
   "outputs": [
    {
     "data": {
      "text/plain": [
       "6500"
      ]
     },
     "metadata": {},
     "output_type": "display_data"
    },
    {
     "data": {
      "text/plain": [
       "user_id              0\n",
       "name                 0\n",
       "age                  0\n",
       "city                 0\n",
       "subscription_type    0\n",
       "distance             0\n",
       "duration             0\n",
       "date                 0\n",
       "month                0\n",
       "year                 0\n",
       "minute_price         0\n",
       "start_ride_price     0\n",
       "subscription_fee     0\n",
       "dtype: int64"
      ]
     },
     "execution_count": 26,
     "metadata": {},
     "output_type": "execute_result"
    }
   ],
   "source": [
    "#с данными о пользователях с подпиской\n",
    "data_ultra = data[data['subscription_type'] == 'ultra']\n",
    "display(data_ultra.shape[0])\n",
    "data_ultra.isna().sum()"
   ]
  },
  {
   "cell_type": "markdown",
   "id": "4fc33df3",
   "metadata": {},
   "source": [
    "В датафрейме для пользователей с подпиской Ultra 6500 записей без каких-либо пропусков"
   ]
  },
  {
   "cell_type": "markdown",
   "id": "f019dca7",
   "metadata": {},
   "source": [
    "### Визуализируйте информацию о расстоянии и времени поездок для пользователей обеих категорий."
   ]
  },
  {
   "cell_type": "code",
   "execution_count": 27,
   "id": "499ce65f",
   "metadata": {
    "scrolled": false
   },
   "outputs": [
    {
     "data": {
      "image/png": "[encoded data removed]",
      "text/plain": [
       "<Figure size 648x432 with 1 Axes>"
      ]
     },
     "metadata": {
      "needs_background": "light"
     },
     "output_type": "display_data"
    }
   ],
   "source": [
    "#сравнение расстояния поездок пользователей\n",
    "\n",
    "plt.figure(figsize=(9, 6))\n",
    "data_free['distance'].plot(kind='hist', bins=50, edgecolor='black', label='без подписки')\n",
    "data_ultra['distance'].plot(kind='hist', bins=50, edgecolor='black', label='с подпиской')\n",
    "plt.title('Сравнение расстояния поездок пользователей')\n",
    "plt.xlabel('Расстояние (м)')\n",
    "plt.ylabel('Количество поездок');\n",
    "plt.legend()\n",
    "plt.show()"
   ]
  },
  {
   "cell_type": "code",
   "execution_count": 28,
   "id": "d725b41e",
   "metadata": {
    "scrolled": true
   },
   "outputs": [
    {
     "data": {
      "image/png": "[encoded data removed]",
      "text/plain": [
       "<Figure size 648x432 with 1 Axes>"
      ]
     },
     "metadata": {
      "needs_background": "light"
     },
     "output_type": "display_data"
    }
   ],
   "source": [
    "#визуализация продолжительности для пользователей без подписки\n",
    "\n",
    "plt.figure(figsize=(9, 6))\n",
    "data_free['duration'].plot(kind='hist', bins=40, edgecolor='black', label='без подписки')\n",
    "data_ultra['duration'].plot(kind='hist', bins=40, edgecolor='black', label='с подпиской')\n",
    "plt.title('Сравнение продолжительности поездок пользователей')\n",
    "plt.xlabel('Продолжительность (минуты)')\n",
    "plt.ylabel('Количество поездок')\n",
    "plt.legend()\n",
    "plt.show()"
   ]
  },
  {
   "cell_type": "code",
   "execution_count": 29,
   "id": "0615c9a2",
   "metadata": {
    "scrolled": true
   },
   "outputs": [
    {
     "name": "stdout",
     "output_type": "stream",
     "text": [
      "Статистика расстояния поездок для пользователей с подпиской:\n",
      "count    6500.0\n",
      "mean     3115.4\n",
      "std       836.9\n",
      "min       244.2\n",
      "25%      2785.4\n",
      "50%      3148.6\n",
      "75%      3560.6\n",
      "max      5699.8\n",
      "Name: distance, dtype: float64\n",
      "\n",
      "Статистика расстояния поездок для пользователей без подписки:\n",
      "count    11568.0\n",
      "mean      3045.5\n",
      "std       1246.2\n",
      "min          0.9\n",
      "25%       2366.6\n",
      "50%       3114.6\n",
      "75%       3905.7\n",
      "max       7211.0\n",
      "Name: distance, dtype: float64\n",
      "\n",
      "Статистика продолжительности поездок для пользователей с подпиской:\n",
      "count    6500.0\n",
      "mean       18.5\n",
      "std         5.6\n",
      "min         3.8\n",
      "25%        14.5\n",
      "50%        18.2\n",
      "75%        21.9\n",
      "max        40.8\n",
      "Name: duration, dtype: float64\n",
      "\n",
      "Статистика продолжительности поездок для пользователей без подписки:\n",
      "count    11568.0\n",
      "mean        17.4\n",
      "std          6.3\n",
      "min          0.5\n",
      "25%         13.0\n",
      "50%         17.3\n",
      "75%         21.6\n",
      "max         34.9\n",
      "Name: duration, dtype: float64\n"
     ]
    }
   ],
   "source": [
    "# Статистика по расстоянию для пользователей с подпиской и без\n",
    "\n",
    "print(\"Статистика расстояния поездок для пользователей с подпиской:\")\n",
    "print(data_ultra['distance'].describe().round(1))\n",
    "print(\"\\nСтатистика расстояния поездок для пользователей без подписки:\")\n",
    "print(data_free['distance'].describe().round(1))\n",
    "\n",
    "# Статистика по продолжительности для пользователей с подпиской и без\n",
    "\n",
    "print(\"\\nСтатистика продолжительности поездок для пользователей с подпиской:\")\n",
    "print(data_ultra['duration'].describe().round(1))\n",
    "print(\"\\nСтатистика продолжительности поездок для пользователей без подписки:\")\n",
    "print(data_free['duration'].describe().round(1))\n"
   ]
  },
  {
   "cell_type": "markdown",
   "id": "c9d95bdc",
   "metadata": {},
   "source": [
    "**Пользователи с подпиской**, как правило, ездят чуть дальше в среднем — около **3115 м**, когда как пользователи **без подписки** в среднем ездят **3045 м**.\n",
    "\n",
    "У пользователей **без подписки** гораздо **больше разброс** в пройденных расстояниях, возможно они **экспериментируют** с сервисом или используют его для **случайных поездок**. \n",
    "\n",
    "**Подписчики** в среднем проводят в поездке около **18.5 мин**, в то время как пользователи **без подписки** — около **17.4 мин.**, что показывает регулярность в использовании сервиса **подписчиками.**\n",
    "\n"
   ]
  },
  {
   "cell_type": "markdown",
   "id": "402d620f",
   "metadata": {},
   "source": [
    "## Подсчёт выручки"
   ]
  },
  {
   "cell_type": "markdown",
   "id": "39bbe57f",
   "metadata": {},
   "source": [
    "### Создайте датафрейм с агрегированными данными о поездках на основе датафрейма с объединёнными данными из шага 4: найдите суммарное расстояние, количество поездок и суммарное время для каждого пользователя за каждый месяц."
   ]
  },
  {
   "cell_type": "code",
   "execution_count": 34,
   "id": "70009830",
   "metadata": {},
   "outputs": [],
   "source": [
    "#добавим округленное время поездки для расчета\n",
    "\n",
    "data['duration_ceil'] = np.ceil(data['duration'])"
   ]
  },
  {
   "cell_type": "code",
   "execution_count": 35,
   "id": "0638acd1",
   "metadata": {},
   "outputs": [
    {
     "data": {
      "text/html": [
       "<div>\n",
       "<style scoped>\n",
       "    .dataframe tbody tr th:only-of-type {\n",
       "        vertical-align: middle;\n",
       "    }\n",
       "\n",
       "    .dataframe tbody tr th {\n",
       "        vertical-align: top;\n",
       "    }\n",
       "\n",
       "    .dataframe thead th {\n",
       "        text-align: right;\n",
       "    }\n",
       "</style>\n",
       "<table border=\"1\" class=\"dataframe\">\n",
       "  <thead>\n",
       "    <tr style=\"text-align: right;\">\n",
       "      <th></th>\n",
       "      <th>user_id</th>\n",
       "      <th>month</th>\n",
       "      <th>total_distance</th>\n",
       "      <th>total_rides</th>\n",
       "      <th>total_duration</th>\n",
       "      <th>subscription_type</th>\n",
       "      <th>minute_price</th>\n",
       "      <th>start_ride_price</th>\n",
       "      <th>subscription_fee</th>\n",
       "    </tr>\n",
       "  </thead>\n",
       "  <tbody>\n",
       "    <tr>\n",
       "      <th>0</th>\n",
       "      <td>1</td>\n",
       "      <td>1</td>\n",
       "      <td>7027.511294</td>\n",
       "      <td>2</td>\n",
       "      <td>42.0</td>\n",
       "      <td>ultra</td>\n",
       "      <td>6</td>\n",
       "      <td>0</td>\n",
       "      <td>199</td>\n",
       "    </tr>\n",
       "    <tr>\n",
       "      <th>1</th>\n",
       "      <td>1</td>\n",
       "      <td>4</td>\n",
       "      <td>754.159807</td>\n",
       "      <td>1</td>\n",
       "      <td>7.0</td>\n",
       "      <td>ultra</td>\n",
       "      <td>6</td>\n",
       "      <td>0</td>\n",
       "      <td>199</td>\n",
       "    </tr>\n",
       "    <tr>\n",
       "      <th>2</th>\n",
       "      <td>1</td>\n",
       "      <td>8</td>\n",
       "      <td>6723.470560</td>\n",
       "      <td>2</td>\n",
       "      <td>46.0</td>\n",
       "      <td>ultra</td>\n",
       "      <td>6</td>\n",
       "      <td>0</td>\n",
       "      <td>199</td>\n",
       "    </tr>\n",
       "    <tr>\n",
       "      <th>3</th>\n",
       "      <td>1</td>\n",
       "      <td>10</td>\n",
       "      <td>5809.911100</td>\n",
       "      <td>2</td>\n",
       "      <td>32.0</td>\n",
       "      <td>ultra</td>\n",
       "      <td>6</td>\n",
       "      <td>0</td>\n",
       "      <td>199</td>\n",
       "    </tr>\n",
       "    <tr>\n",
       "      <th>4</th>\n",
       "      <td>1</td>\n",
       "      <td>11</td>\n",
       "      <td>7003.499363</td>\n",
       "      <td>3</td>\n",
       "      <td>56.0</td>\n",
       "      <td>ultra</td>\n",
       "      <td>6</td>\n",
       "      <td>0</td>\n",
       "      <td>199</td>\n",
       "    </tr>\n",
       "    <tr>\n",
       "      <th>...</th>\n",
       "      <td>...</td>\n",
       "      <td>...</td>\n",
       "      <td>...</td>\n",
       "      <td>...</td>\n",
       "      <td>...</td>\n",
       "      <td>...</td>\n",
       "      <td>...</td>\n",
       "      <td>...</td>\n",
       "      <td>...</td>\n",
       "    </tr>\n",
       "    <tr>\n",
       "      <th>11326</th>\n",
       "      <td>1534</td>\n",
       "      <td>6</td>\n",
       "      <td>3409.468534</td>\n",
       "      <td>2</td>\n",
       "      <td>26.0</td>\n",
       "      <td>free</td>\n",
       "      <td>8</td>\n",
       "      <td>50</td>\n",
       "      <td>0</td>\n",
       "    </tr>\n",
       "    <tr>\n",
       "      <th>11327</th>\n",
       "      <td>1534</td>\n",
       "      <td>8</td>\n",
       "      <td>7622.453034</td>\n",
       "      <td>2</td>\n",
       "      <td>48.0</td>\n",
       "      <td>free</td>\n",
       "      <td>8</td>\n",
       "      <td>50</td>\n",
       "      <td>0</td>\n",
       "    </tr>\n",
       "    <tr>\n",
       "      <th>11328</th>\n",
       "      <td>1534</td>\n",
       "      <td>9</td>\n",
       "      <td>4928.173852</td>\n",
       "      <td>1</td>\n",
       "      <td>23.0</td>\n",
       "      <td>free</td>\n",
       "      <td>8</td>\n",
       "      <td>50</td>\n",
       "      <td>0</td>\n",
       "    </tr>\n",
       "    <tr>\n",
       "      <th>11329</th>\n",
       "      <td>1534</td>\n",
       "      <td>11</td>\n",
       "      <td>13350.015305</td>\n",
       "      <td>4</td>\n",
       "      <td>78.0</td>\n",
       "      <td>free</td>\n",
       "      <td>8</td>\n",
       "      <td>50</td>\n",
       "      <td>0</td>\n",
       "    </tr>\n",
       "    <tr>\n",
       "      <th>11330</th>\n",
       "      <td>1534</td>\n",
       "      <td>12</td>\n",
       "      <td>2371.711192</td>\n",
       "      <td>1</td>\n",
       "      <td>16.0</td>\n",
       "      <td>free</td>\n",
       "      <td>8</td>\n",
       "      <td>50</td>\n",
       "      <td>0</td>\n",
       "    </tr>\n",
       "  </tbody>\n",
       "</table>\n",
       "<p>11331 rows × 9 columns</p>\n",
       "</div>"
      ],
      "text/plain": [
       "       user_id  month  total_distance  total_rides  total_duration  \\\n",
       "0            1      1     7027.511294            2            42.0   \n",
       "1            1      4      754.159807            1             7.0   \n",
       "2            1      8     6723.470560            2            46.0   \n",
       "3            1     10     5809.911100            2            32.0   \n",
       "4            1     11     7003.499363            3            56.0   \n",
       "...        ...    ...             ...          ...             ...   \n",
       "11326     1534      6     3409.468534            2            26.0   \n",
       "11327     1534      8     7622.453034            2            48.0   \n",
       "11328     1534      9     4928.173852            1            23.0   \n",
       "11329     1534     11    13350.015305            4            78.0   \n",
       "11330     1534     12     2371.711192            1            16.0   \n",
       "\n",
       "      subscription_type  minute_price  start_ride_price  subscription_fee  \n",
       "0                 ultra             6                 0               199  \n",
       "1                 ultra             6                 0               199  \n",
       "2                 ultra             6                 0               199  \n",
       "3                 ultra             6                 0               199  \n",
       "4                 ultra             6                 0               199  \n",
       "...                 ...           ...               ...               ...  \n",
       "11326              free             8                50                 0  \n",
       "11327              free             8                50                 0  \n",
       "11328              free             8                50                 0  \n",
       "11329              free             8                50                 0  \n",
       "11330              free             8                50                 0  \n",
       "\n",
       "[11331 rows x 9 columns]"
      ]
     },
     "execution_count": 35,
     "metadata": {},
     "output_type": "execute_result"
    }
   ],
   "source": [
    "agg_data = data.groupby(['user_id', 'month']).agg(\n",
    "    total_distance=('distance', 'sum'),\n",
    "    total_rides=('distance', 'count'),\n",
    "    total_duration=('duration_ceil', 'sum'),\n",
    "    subscription_type=('subscription_type', 'first'),\n",
    "    minute_price=('minute_price', 'first'),\n",
    "    start_ride_price=('start_ride_price', 'first'),\n",
    "    subscription_fee=('subscription_fee', 'first')\n",
    ").reset_index()\n",
    "\n",
    "agg_data"
   ]
  },
  {
   "cell_type": "markdown",
   "id": "f3531c17",
   "metadata": {},
   "source": [
    "### В этот же датафрейм добавьте столбец с помесячной выручкой, которую принёс каждый пользователь. Для этого обратитесь к информации об условиях оплаты для подписчиков и тех, у кого нет подписки. Продолжительность каждой поездки в каждой строке исходного датафрейма для подсчёта стоимости округляется до следующего целого числа: например, значения 25.3, 25.5 и 26.0 должны быть преобразованы к 26."
   ]
  },
  {
   "cell_type": "code",
   "execution_count": 36,
   "id": "8fa9e7a5",
   "metadata": {
    "scrolled": true
   },
   "outputs": [
    {
     "data": {
      "text/html": [
       "<div>\n",
       "<style scoped>\n",
       "    .dataframe tbody tr th:only-of-type {\n",
       "        vertical-align: middle;\n",
       "    }\n",
       "\n",
       "    .dataframe tbody tr th {\n",
       "        vertical-align: top;\n",
       "    }\n",
       "\n",
       "    .dataframe thead th {\n",
       "        text-align: right;\n",
       "    }\n",
       "</style>\n",
       "<table border=\"1\" class=\"dataframe\">\n",
       "  <thead>\n",
       "    <tr style=\"text-align: right;\">\n",
       "      <th></th>\n",
       "      <th>user_id</th>\n",
       "      <th>month</th>\n",
       "      <th>total_distance</th>\n",
       "      <th>total_rides</th>\n",
       "      <th>total_duration</th>\n",
       "      <th>subscription_type</th>\n",
       "      <th>minute_price</th>\n",
       "      <th>start_ride_price</th>\n",
       "      <th>subscription_fee</th>\n",
       "      <th>total_revenue</th>\n",
       "    </tr>\n",
       "  </thead>\n",
       "  <tbody>\n",
       "    <tr>\n",
       "      <th>0</th>\n",
       "      <td>1</td>\n",
       "      <td>1</td>\n",
       "      <td>7027.511294</td>\n",
       "      <td>2</td>\n",
       "      <td>42.0</td>\n",
       "      <td>ultra</td>\n",
       "      <td>6</td>\n",
       "      <td>0</td>\n",
       "      <td>199</td>\n",
       "      <td>451.0</td>\n",
       "    </tr>\n",
       "    <tr>\n",
       "      <th>1</th>\n",
       "      <td>1</td>\n",
       "      <td>4</td>\n",
       "      <td>754.159807</td>\n",
       "      <td>1</td>\n",
       "      <td>7.0</td>\n",
       "      <td>ultra</td>\n",
       "      <td>6</td>\n",
       "      <td>0</td>\n",
       "      <td>199</td>\n",
       "      <td>241.0</td>\n",
       "    </tr>\n",
       "    <tr>\n",
       "      <th>2</th>\n",
       "      <td>1</td>\n",
       "      <td>8</td>\n",
       "      <td>6723.470560</td>\n",
       "      <td>2</td>\n",
       "      <td>46.0</td>\n",
       "      <td>ultra</td>\n",
       "      <td>6</td>\n",
       "      <td>0</td>\n",
       "      <td>199</td>\n",
       "      <td>475.0</td>\n",
       "    </tr>\n",
       "    <tr>\n",
       "      <th>3</th>\n",
       "      <td>1</td>\n",
       "      <td>10</td>\n",
       "      <td>5809.911100</td>\n",
       "      <td>2</td>\n",
       "      <td>32.0</td>\n",
       "      <td>ultra</td>\n",
       "      <td>6</td>\n",
       "      <td>0</td>\n",
       "      <td>199</td>\n",
       "      <td>391.0</td>\n",
       "    </tr>\n",
       "    <tr>\n",
       "      <th>4</th>\n",
       "      <td>1</td>\n",
       "      <td>11</td>\n",
       "      <td>7003.499363</td>\n",
       "      <td>3</td>\n",
       "      <td>56.0</td>\n",
       "      <td>ultra</td>\n",
       "      <td>6</td>\n",
       "      <td>0</td>\n",
       "      <td>199</td>\n",
       "      <td>535.0</td>\n",
       "    </tr>\n",
       "    <tr>\n",
       "      <th>...</th>\n",
       "      <td>...</td>\n",
       "      <td>...</td>\n",
       "      <td>...</td>\n",
       "      <td>...</td>\n",
       "      <td>...</td>\n",
       "      <td>...</td>\n",
       "      <td>...</td>\n",
       "      <td>...</td>\n",
       "      <td>...</td>\n",
       "      <td>...</td>\n",
       "    </tr>\n",
       "    <tr>\n",
       "      <th>11326</th>\n",
       "      <td>1534</td>\n",
       "      <td>6</td>\n",
       "      <td>3409.468534</td>\n",
       "      <td>2</td>\n",
       "      <td>26.0</td>\n",
       "      <td>free</td>\n",
       "      <td>8</td>\n",
       "      <td>50</td>\n",
       "      <td>0</td>\n",
       "      <td>308.0</td>\n",
       "    </tr>\n",
       "    <tr>\n",
       "      <th>11327</th>\n",
       "      <td>1534</td>\n",
       "      <td>8</td>\n",
       "      <td>7622.453034</td>\n",
       "      <td>2</td>\n",
       "      <td>48.0</td>\n",
       "      <td>free</td>\n",
       "      <td>8</td>\n",
       "      <td>50</td>\n",
       "      <td>0</td>\n",
       "      <td>484.0</td>\n",
       "    </tr>\n",
       "    <tr>\n",
       "      <th>11328</th>\n",
       "      <td>1534</td>\n",
       "      <td>9</td>\n",
       "      <td>4928.173852</td>\n",
       "      <td>1</td>\n",
       "      <td>23.0</td>\n",
       "      <td>free</td>\n",
       "      <td>8</td>\n",
       "      <td>50</td>\n",
       "      <td>0</td>\n",
       "      <td>234.0</td>\n",
       "    </tr>\n",
       "    <tr>\n",
       "      <th>11329</th>\n",
       "      <td>1534</td>\n",
       "      <td>11</td>\n",
       "      <td>13350.015305</td>\n",
       "      <td>4</td>\n",
       "      <td>78.0</td>\n",
       "      <td>free</td>\n",
       "      <td>8</td>\n",
       "      <td>50</td>\n",
       "      <td>0</td>\n",
       "      <td>824.0</td>\n",
       "    </tr>\n",
       "    <tr>\n",
       "      <th>11330</th>\n",
       "      <td>1534</td>\n",
       "      <td>12</td>\n",
       "      <td>2371.711192</td>\n",
       "      <td>1</td>\n",
       "      <td>16.0</td>\n",
       "      <td>free</td>\n",
       "      <td>8</td>\n",
       "      <td>50</td>\n",
       "      <td>0</td>\n",
       "      <td>178.0</td>\n",
       "    </tr>\n",
       "  </tbody>\n",
       "</table>\n",
       "<p>11331 rows × 10 columns</p>\n",
       "</div>"
      ],
      "text/plain": [
       "       user_id  month  total_distance  total_rides  total_duration  \\\n",
       "0            1      1     7027.511294            2            42.0   \n",
       "1            1      4      754.159807            1             7.0   \n",
       "2            1      8     6723.470560            2            46.0   \n",
       "3            1     10     5809.911100            2            32.0   \n",
       "4            1     11     7003.499363            3            56.0   \n",
       "...        ...    ...             ...          ...             ...   \n",
       "11326     1534      6     3409.468534            2            26.0   \n",
       "11327     1534      8     7622.453034            2            48.0   \n",
       "11328     1534      9     4928.173852            1            23.0   \n",
       "11329     1534     11    13350.015305            4            78.0   \n",
       "11330     1534     12     2371.711192            1            16.0   \n",
       "\n",
       "      subscription_type  minute_price  start_ride_price  subscription_fee  \\\n",
       "0                 ultra             6                 0               199   \n",
       "1                 ultra             6                 0               199   \n",
       "2                 ultra             6                 0               199   \n",
       "3                 ultra             6                 0               199   \n",
       "4                 ultra             6                 0               199   \n",
       "...                 ...           ...               ...               ...   \n",
       "11326              free             8                50                 0   \n",
       "11327              free             8                50                 0   \n",
       "11328              free             8                50                 0   \n",
       "11329              free             8                50                 0   \n",
       "11330              free             8                50                 0   \n",
       "\n",
       "       total_revenue  \n",
       "0              451.0  \n",
       "1              241.0  \n",
       "2              475.0  \n",
       "3              391.0  \n",
       "4              535.0  \n",
       "...              ...  \n",
       "11326          308.0  \n",
       "11327          484.0  \n",
       "11328          234.0  \n",
       "11329          824.0  \n",
       "11330          178.0  \n",
       "\n",
       "[11331 rows x 10 columns]"
      ]
     },
     "metadata": {},
     "output_type": "display_data"
    },
    {
     "data": {
      "text/plain": [
       "user_id              0\n",
       "month                0\n",
       "total_distance       0\n",
       "total_rides          0\n",
       "total_duration       0\n",
       "subscription_type    0\n",
       "minute_price         0\n",
       "start_ride_price     0\n",
       "subscription_fee     0\n",
       "total_revenue        0\n",
       "dtype: int64"
      ]
     },
     "execution_count": 36,
     "metadata": {},
     "output_type": "execute_result"
    }
   ],
   "source": [
    "#определяем условия для разных типов подписок\n",
    "\n",
    "def calculate_revenue(row):\n",
    "    if row['subscription_type'] == 'free':\n",
    "        return row['total_duration'] * row['minute_price'] + row['total_rides'] * row['start_ride_price']\n",
    "    elif row['subscription_type'] == 'ultra':\n",
    "        return row['total_duration'] * row['minute_price'] + row['subscription_fee']\n",
    "    \n",
    "#применяем функцию для расчёта выручки\n",
    "agg_data['total_revenue'] = agg_data.apply(calculate_revenue, axis=1)\n",
    "display(agg_data)\n",
    "\n",
    "\n",
    "agg_data.isna().sum()"
   ]
  },
  {
   "cell_type": "markdown",
   "id": "f7cc497d",
   "metadata": {},
   "source": [
    "#абонентская плата для пользователей с подпиской\n",
    "subscription_fee = data['subscription_fee']\n",
    "\n",
    "#добавляем абонентскую плату к выручке для пользователей с подпиской\n",
    "agg_data['revenue_with_subscription'] = agg_data.apply(\n",
    "    lambda row: row['total_revenue']\n",
    "    + (subscription_fee * 12) if row['subscription_type'] == 'ultra' else row['total_revenue'],\n",
    "    axis=1\n",
    ")\n"
   ]
  },
  {
   "cell_type": "markdown",
   "id": "a55d540f",
   "metadata": {},
   "source": [
    "#годовая выручка с учетом подписки для каждого тарифа\n",
    "yearly_revenue = agg_data.groupby('subscription_type')['revenue_with_subscription'].sum().reset_index()\n",
    "yearly_revenue = yearly_revenue.rename(columns={'revenue_with_subscription': 'yearly_revenue'})\n",
    "yearly_revenue\n"
   ]
  },
  {
   "cell_type": "markdown",
   "id": "133723a3",
   "metadata": {},
   "source": [
    "#количество пользователей\n",
    "user_counts = agg_data.groupby('subscription_type')['user_id'].nunique().reset_index()\n",
    "user_counts = user_counts.rename(columns={'user_id': 'user_count'})\n",
    "user_counts"
   ]
  },
  {
   "cell_type": "markdown",
   "id": "134f3457",
   "metadata": {},
   "source": [
    "#месячная выручка\n",
    "monthly_revenue = yearly_revenue.copy()\n",
    "monthly_revenue['monthly_revenue'] = monthly_revenue['yearly_revenue'] / 12\n",
    "\n",
    "monthly_revenue.round()"
   ]
  },
  {
   "cell_type": "markdown",
   "id": "8844e03c",
   "metadata": {},
   "source": [
    "#месячная выручка для 1 пользователя\n",
    "monthly_revenue_per_user = monthly_revenue.merge(user_counts, on='subscription_type')\n",
    "monthly_revenue_per_user['monthly_revenue_per_user'] = (\n",
    "   monthly_revenue_per_user['monthly_revenue'] / monthly_revenue_per_user['user_count']\n",
    ")\n",
    "monthly_revenue_per_user.round()"
   ]
  },
  {
   "cell_type": "markdown",
   "id": "41545ac0",
   "metadata": {},
   "source": [
    "## Проверка гипотез"
   ]
  },
  {
   "cell_type": "markdown",
   "id": "67cb2f60",
   "metadata": {},
   "source": [
    "### Важно понять, тратят ли пользователи с подпиской больше времени на поездки? Если да, то пользователи с подпиской могут быть «выгоднее» для компании. Проверьте гипотезу. Используйте исходные данные о продолжительности каждой сессии — отдельно для подписчиков и тех, у кого нет подписки."
   ]
  },
  {
   "cell_type": "code",
   "execution_count": 37,
   "id": "68459d59",
   "metadata": {},
   "outputs": [
    {
     "name": "stdout",
     "output_type": "stream",
     "text": [
      "p-значение: 5.6757813771289775e-37\n",
      "Отвергаем нулевую гипотезу\n"
     ]
    }
   ],
   "source": [
    "# H0: Средняя продолжительность поездки у пользователей с подпиской\n",
    "#     меньше или равна средней продолжительности у пользователей без подписки.\n",
    "# H1: Средняя продолжительность поездки у пользователей с подпиской\n",
    "#     больше средней продолжительности у пользователей без подписки.\n",
    "\n",
    "alpha = 0.05\n",
    "\n",
    "results = st.ttest_ind(\n",
    "    data_ultra['duration'], \n",
    "    data_free['duration'],\n",
    "    equal_var=False,\n",
    "    alternative='greater'\n",
    ")\n",
    "\n",
    "print('p-значение:', results.pvalue)\n",
    "\n",
    "if results.pvalue < alpha:\n",
    "    print(\"Отвергаем нулевую гипотезу\")\n",
    "else:\n",
    "    print(\"Не можем отвергнуть нулевую гипотезу\")"
   ]
  },
  {
   "cell_type": "code",
   "execution_count": 38,
   "id": "a3d229c4",
   "metadata": {},
   "outputs": [
    {
     "name": "stdout",
     "output_type": "stream",
     "text": [
      "p-значение: 0.1912450522572209\n",
      "Не получилось отвергнуть нулевую гипотезу\n"
     ]
    }
   ],
   "source": [
    "# Приведены два датасета: сумма покупок, совершённых за месяц посетителями ...\n",
    "\n",
    "sample_1 = [3071, 3636, 3454, 3151, 2185, 3259, 1727, 2263, 2015,\n",
    "2582, 4815, 633, 3186, 887, 2028, 3589, 2564, 1422, 1785,\n",
    "3180, 1770, 2716, 2546, 1848, 4644, 3134, 475, 2686,\n",
    "1838, 3352]\n",
    "sample_2 = [1211, 1228, 2157, 3699, 600, 1898, 1688, 1420, 5048, 3007,\n",
    "509, 3777, 5583, 3949, 121, 1674, 4300, 1338, 3066,\n",
    "3562, 1010, 2311, 462, 863, 2021, 528, 1849, 255,\n",
    "1740, 2596]\n",
    "alpha = .05 # критический уровень статистической значимости\n",
    "# если p-value окажется меньше него - отвергнем гипотезу\n",
    "results = st.ttest_ind(\n",
    "sample_1,\n",
    "sample_2)\n",
    "print('p-значение:', results.pvalue)\n",
    "if (results.pvalue < alpha):\n",
    "    print(\"Отвергаем нулевую гипотезу\")\n",
    "else:\n",
    "    print(\"Не получилось отвергнуть нулевую гипотезу\")"
   ]
  },
  {
   "cell_type": "markdown",
   "id": "c50bbe60",
   "metadata": {},
   "source": [
    "**Вывод:**\n",
    "\n",
    "Пользователи с подпиской **платят меньше за минуту поездки**, но проводят больше времени на самокате.\n",
    "Если компания рассчитывает на выручку **с продолжительности поездок**, то пользователи с подпиской могут принести меньше прибыли за минуту, но из-за большей продолжительности поездок общая прибыль может быть выше.\n",
    "\n",
    "Кроме того, пользователи с подпиской платят **ежемесячную абонентскую плату**, что может компенсировать меньшую стоимость минуты и сделать подписку выгодной для бизнеса **в долгосрочной перспективе**."
   ]
  },
  {
   "cell_type": "markdown",
   "id": "1fe1c796",
   "metadata": {},
   "source": [
    "### Расстояние одной поездки в 3130 метров — оптимальное с точки зрения износа самоката. Можно ли сказать, что среднее расстояние, которое проезжают пользователи с подпиской за одну поездку, не превышает 3130 метров? Проверьте гипотезу и сделайте выводы."
   ]
  },
  {
   "cell_type": "code",
   "execution_count": 39,
   "id": "b39733f3",
   "metadata": {},
   "outputs": [
    {
     "name": "stdout",
     "output_type": "stream",
     "text": [
      "p-значение: 0.9195368847849785\n",
      "Не можем отвергнуть нулевую гипотезу\n"
     ]
    }
   ],
   "source": [
    "# H0: Среднее расстояние поездки у пользователей с подпиской меньше или равно 3130 метров.\n",
    "\n",
    "# H1: Среднее расстояние поездки у пользователей с подпиской больше 3130 метров.\n",
    "\n",
    "alpha = 0.05\n",
    "one_duration_mean = 3130\n",
    "\n",
    "results = st.ttest_1samp(\n",
    "    data_ultra['distance'],\n",
    "    one_duration_mean,\n",
    "    alternative='greater'\n",
    ")\n",
    "\n",
    "print('p-значение:', results.pvalue)\n",
    "\n",
    "if results.pvalue < alpha:\n",
    "    print(\"Отвергаем нулевую гипотезу\")\n",
    "else:\n",
    "    print(\"Не можем отвергнуть нулевую гипотезу\")"
   ]
  },
  {
   "cell_type": "markdown",
   "id": "7e5ff0d8",
   "metadata": {},
   "source": [
    "Мы **не можем отвергнуть нулевую гипотезу**, а значит, нет оснований полагать, что пользователи с подпиской ездят больше 3130 метров. Скорее всего, их **среднее расстояние** либо такое же, либо меньше, так что **износ самокатов остаётся в норме.**\n",
    "\n",
    "Раз текущие условия эксплуатации самокатов являются приемлемыми для пользователей с подпиской, **бизнесу** можно сосредоточить усилия на оптимизации технического обслуживания для продления срока службы самокатов."
   ]
  },
  {
   "cell_type": "markdown",
   "id": "30aaeb9e",
   "metadata": {},
   "source": [
    "### Проверьте гипотезу о том, будет ли помесячная выручка от пользователей с подпиской по месяцам выше, чем выручка от пользователей без подписки. Сделайте вывод."
   ]
  },
  {
   "cell_type": "code",
   "execution_count": 41,
   "id": "33fb7c39",
   "metadata": {},
   "outputs": [
    {
     "name": "stdout",
     "output_type": "stream",
     "text": [
      "p-значение: 8.874140893976874e-40\n",
      "Отвергаем нулевую гипотезу\n"
     ]
    }
   ],
   "source": [
    "#H0: Средняя помесячная выручка от пользователей с подпиской \n",
    "#    меньше или равна выручке от пользователей без подписки.\n",
    "#H1: Средняя помесячная выручка от пользователей с подпиской больше, \n",
    "#    чем выручка от пользователей без подписки.\n",
    "\n",
    "data_ultra = agg_data[agg_data['subscription_type'] == 'ultra']\n",
    "data_free = agg_data[agg_data['subscription_type'] == 'free']\n",
    "\n",
    "alpha = 0.05\n",
    "\n",
    "results = st.ttest_ind(\n",
    "    data_ultra['total_revenue'], \n",
    "    data_free['total_revenue'],\n",
    "    equal_var=False,\n",
    "    alternative='greater'\n",
    ")\n",
    "\n",
    "print('p-значение:', results.pvalue)\n",
    "\n",
    "if results.pvalue < alpha:\n",
    "    print(\"Отвергаем нулевую гипотезу\")\n",
    "else:\n",
    "    print(\"Не можем отвергнуть нулевую гипотезу\")"
   ]
  },
  {
   "cell_type": "markdown",
   "id": "d3e5ddfa",
   "metadata": {},
   "source": [
    "**Средняя помесячная выручка от пользователей с подпиской** выше, чем выручка от пользователей без подписки. Модель подписки **выгодна для бизнеса**, так как приносит больше дохода в сравнении с оплатой по минутам без подписки.\n",
    "\n",
    "Бизнесу стоит **акцентировать** усилия на привлечение большего числа пользователей в подписку, возможно, через **маркетинговые кампании или улучшение условий подписки.**"
   ]
  },
  {
   "cell_type": "markdown",
   "id": "017290ec",
   "metadata": {},
   "source": [
    "Ранее я добавлял колонку revenue в data_ultra и data_free, и код работал корректно. Однако позже я удалил её, так как столкнулся с ошибками в процессе работы и немного запутался в структуре данных. "
   ]
  },
  {
   "cell_type": "markdown",
   "id": "6b43624a",
   "metadata": {},
   "source": [
    "### Представьте такую ситуацию: техническая команда сервиса обновила сервера, с которыми взаимодействует мобильное приложение. Она надеется, что из-за этого количество обращений в техподдержку значимо снизилось. Некоторый файл содержит для каждого пользователя данные о количестве обращений до обновления и после него. Какой тест вам понадобился бы для проверки этой гипотезы?"
   ]
  },
  {
   "cell_type": "markdown",
   "id": "525832b6",
   "metadata": {},
   "source": [
    "Будет использоваться **парный t-тест**. Этот тест подходит, когда нужно сравнить данные до и после какого-либо события для одних и тех же наблюдений"
   ]
  },
  {
   "cell_type": "code",
   "execution_count": 42,
   "id": "815d57e6",
   "metadata": {
    "scrolled": true
   },
   "outputs": [
    {
     "name": "stdout",
     "output_type": "stream",
     "text": [
      "p-значение: 0.9999966073569301\n",
      "Не можем отвергнуть нулевую гипотезу\n"
     ]
    }
   ],
   "source": [
    "#H0: количество обращений в техподдержку не изменилось или увеличилось после обновления серверов.\n",
    "#H1: количество обращений в техподдержку снизилось после обновления серверов.\n",
    "\n",
    "before = np.random.randint(5, 20, size=30)  \n",
    "after = np.random.randint(3, 15, size=30)\n",
    "\n",
    "alpha = 0.05\n",
    "\n",
    "results = st.ttest_rel(before, after, alternative='less')\n",
    "\n",
    "print('p-значение:', results.pvalue)\n",
    "\n",
    "if results.pvalue < alpha:\n",
    "    print(\"Отвергаем нулевую гипотезу\")\n",
    "else:\n",
    "    print(\"Не можем отвергнуть нулевую гипотезу\")\n",
    "    "
   ]
  },
  {
   "cell_type": "markdown",
   "id": "b6c1b66e",
   "metadata": {},
   "source": [
    "Обновление серверов действительно привело к значительному снижению количества обращений в техподдержку. Для бизнеса это может повысить уровень удовлетворенности пользователей и уменьшить затраты на обслуживание техподдержки. Стоит продолжать работу с поддержанием стабильного функционирования серверов для стабильной работы приложения и поддержания низкой обращенности пользователей в тех поддержку. "
   ]
  },
  {
   "cell_type": "markdown",
   "id": "bcb692d3",
   "metadata": {},
   "source": [
    "## Итоговый вывод и рекомендации для бизнеса\n",
    "\n",
    "### Основные статистики по группам пользователей:\n",
    "**Без подписки:**\n",
    "\n",
    "- Среднее расстояние поездки: 3045 м.\n",
    "- Средняя продолжительность поездки: 17,4 минут.\n",
    "- Количество пользователей: 846.\n",
    "- Среднемесячная выручка на одного пользователя: 223 руб.\n",
    "- Годовая выручка: 2 234 104 руб.\n",
    "\n",
    "**С подпиской:**\n",
    "\n",
    "- Среднее расстояние поездки: 3115 м.\n",
    "- Средняя продолжительность поездки: 18,5 минут.\n",
    "- Количество пользователей: 719.\n",
    "- Среднемесячная выручка на одного пользователя: 196 руб.\n",
    "- Годовая выручка: 1 644 537 руб.\n",
    "\n",
    "### Выводы по гипотезам:\n",
    "\n",
    "- Пользователи с подпиской проводят больше времени на самокатах, компенсируя меньшую стоимость минуты за счет абонентской платы. Среднее расстояние поездки не превышает 3130 метров, что сохраняет износ самокатов на нормальном уровне.\n",
    "\n",
    "- Помесячная выручка от подписчиков выше, что делает их ключевыми для стабильности доходов.\n",
    "\n",
    "- Обновление серверов значительно снизило обращения в техподдержку, что улучшило удовлетворенность пользователей и сократило затраты.\n",
    "\n",
    "### Сравнение показателей выручки:\n",
    "\n",
    "- Годовая выручка: Годовая выручка от пользователей с подпиской (12,469,341 руб.) значительно выше, чем от пользователей без подписки (2,234,104 руб.). Это указывает на то, что модель подписки приносит значительно больше дохода за счет абонентской платы и продолжительности поездок.\n",
    "Среднемесячная выручка на одного пользователя: Среднемесячная выручка на одного пользователя с подпиской (1,487 руб.) значительно выше, чем у пользователей без подписки (223 руб.). Это говорит о том, что подписчики, несмотря на меньшую стоимость поездок, приносят больше дохода в среднем за месяц за счет фиксированной абонентской платы.\n",
    "Заключение: Модель подписки значительно более выгодна для бизнеса как по общему доходу, так и по доходу с каждого пользователя. Подписчики приносят больше дохода за счет абонентской платы, а также дольше пользуются самокатами. В долгосрочной перспективе продвижение подписок будет более эффективной стратегией для увеличения прибыли компании.\n",
    "\n",
    "### Рекомендации для бизнеса:\n",
    "- Модель подписки приносит стабильный доход и демонстрирует лояльность пользователей, что делает её привлекательной для бизнеса в долгосрочной перспективе.\n",
    "- Стоит акцентировать внимание на привлечении новых подписчиков через улучшение условий подписки и маркетинговые кампании.\n",
    "\n",
    "**Операционные улучшения:**\n",
    "\n",
    "- Снижение количества обращений в техподдержку после обновления серверов позволяет улучшить пользовательский опыт и сократить операционные затраты. Продолжение работы по поддержанию стабильной работы серверов будет полезно для поддержания уровня удовлетворенности пользователей."
   ]
  },
  {
   "cell_type": "markdown",
   "id": "61213c5e",
   "metadata": {},
   "source": [
    "#### Шаг 7. Распределения"
   ]
  },
  {
   "cell_type": "markdown",
   "id": "57b74df2",
   "metadata": {},
   "source": [
    "## Бонус"
   ]
  },
  {
   "cell_type": "markdown",
   "id": "c99f2bc7",
   "metadata": {},
   "source": [
    "### Задача 7.1 — декомпозиция\n",
    "\n",
    "+ Отделу маркетинга GoFast поставили задачу: нужно провести акцию с раздачей промокодов на один бесплатный месяц подписки, в рамках которой как минимум 100 существующих клиентов должны продлить эту подписку. \n",
    "\n",
    "+ То есть по завершении периода действия подписки пользователь может либо отказаться от неё, либо продлить, совершив соответствующий платёж. \n",
    "\n",
    "+ Эта акция уже проводилась ранее и по итогу выяснилось, что после бесплатного пробного периода подписку продлевают 10 % пользователей. \n",
    "\n",
    "+ Выясните, какое минимальное количество промокодов нужно разослать, чтобы вероятность не выполнить план была примерно 5 %. \n",
    "\n",
    "+ Подберите параметры распределения, описывающего эту ситуацию, постройте график распределения и сформулируйте ответ на вопрос о количестве промокодов."
   ]
  },
  {
   "cell_type": "markdown",
   "id": "1de3929a",
   "metadata": {},
   "source": [
    "+ 100 существующих клиентов должны продлить эту подписку.\n",
    " + т.е. мы ищем х - кол-во промокодов, которое мы раздадим, чтобы сохранить 100 клиентов"
   ]
  },
  {
   "cell_type": "markdown",
   "id": "ac43b6dc",
   "metadata": {},
   "source": [
    "+ может либо отказаться от неё, либо продлить\n",
    " + т.е. два исхода"
   ]
  },
  {
   "cell_type": "markdown",
   "id": "4ca2ebc8",
   "metadata": {},
   "source": [
    "+ подписку продлевают 10 % пользователей\n",
    " + т.е. из кол-ва Х, которое мы найдем и по которому разошлем промокоды, полагаясь на предыдущий опыт, продлят подписку 10%"
   ]
  },
  {
   "cell_type": "markdown",
   "id": "fcf61cba",
   "metadata": {},
   "source": [
    "+ вероятность не выполнить план была примерно 5 %\n",
    " + т.е. мы должны найти вероятность успеха нашей акции 1-0,05 = 95%\n",
    " + этот план будет иметь свою вероятность исполнения при разном кол-ве Х, т.е. если мы выберем Х = 1000, вероятность успеха будет равна А, при 2000 промокодах, вероятность будет равна В. Но, увеличивая кол-во промокодов, мы увеличиваем трудозатраты ... По этой причине нас устроит вероятность успеха 95%, для которой и предстоит рассчитать кол-во промокодов Х"
   ]
  },
  {
   "cell_type": "markdown",
   "id": "9aa71f85",
   "metadata": {},
   "source": [
    "Получается задача делиться на две части\n",
    "\n",
    "+ число положительных исходов должно быть равно 100-ам\n",
    "\n",
    "+ но вероятность такого события должна быть равна 95% \n",
    "\n"
   ]
  },
  {
   "cell_type": "markdown",
   "id": "7b36e4c8",
   "metadata": {},
   "source": [
    "Урок\n",
    "\n",
    "Percent Point Function для нормального распределения\n",
    "+ Ранее вы познакомились с функцией распределения, или кумулятивной функцией распределения.\n",
    "\n"
   ]
  },
  {
   "attachments": {
    "image-3.png": {
     "image/png": "[encoded data removed]"
    },
    "image-4.png": {
     "image/png": "[encoded data removed]"
    }
   },
   "cell_type": "markdown",
   "id": "5ba3becf",
   "metadata": {},
   "source": [
    "![image-3.png](attachment:image-3.png)\n",
    "\n",
    "![image-4.png](attachment:image-4.png)"
   ]
  },
  {
   "cell_type": "code",
   "execution_count": 43,
   "id": "ce2f9850",
   "metadata": {},
   "outputs": [
    {
     "name": "stdout",
     "output_type": "stream",
     "text": [
      "i: (1, 100)\tprobability: 1.0\n",
      "i: (2, 200)\tprobability: 1.0\n",
      "i: (3, 300)\tprobability: 1.0\n",
      "i: (4, 400)\tprobability: 1.0\n",
      "i: (5, 500)\tprobability: 1.0\n",
      "i: (6, 600)\tprobability: 1.0\n",
      "i: (7, 700)\tprobability: 1.0\n",
      "i: (8, 800)\tprobability: 0.987\n",
      "i: (9, 900)\tprobability: 0.854\n",
      "i: (10, 1000)\tprobability: 0.485\n",
      "i: (11, 1100)\tprobability: 0.145\n",
      "i: (12, 1200)\tprobability: 0.022\n"
     ]
    }
   ],
   "source": [
    "for i in range (1, 13):\n",
    "    trials = 100 * i\n",
    "    print(f\"i: {i, trials}\\tprobability: {(st.binom.cdf(99, trials, 0.1)).round(3)}\")"
   ]
  },
  {
   "cell_type": "code",
   "execution_count": 44,
   "id": "8b7e7cf0",
   "metadata": {
    "scrolled": false
   },
   "outputs": [
    {
     "name": "stdout",
     "output_type": "stream",
     "text": [
      "i: (1, 100)\ttarget_probability: 0.0\n",
      "i: (2, 200)\ttarget_probability: 0.0\n",
      "i: (3, 300)\ttarget_probability: 0.0\n",
      "i: (4, 400)\ttarget_probability: 0.0\n",
      "i: (5, 500)\ttarget_probability: 0.0\n",
      "i: (6, 600)\ttarget_probability: 0.0\n",
      "i: (7, 700)\ttarget_probability: 0.0\n",
      "i: (8, 800)\ttarget_probability: 0.013\n",
      "i: (9, 900)\ttarget_probability: 0.146\n",
      "i: (10, 1000)\ttarget_probability: 0.515\n",
      "i: (11, 1100)\ttarget_probability: 0.855\n",
      "i: (12, 1200)\ttarget_probability: 0.978\n",
      "i: (13, 1161)\ttarget_probability: 0.95\n"
     ]
    }
   ],
   "source": [
    "for i in range (1, 13):\n",
    "    trials = 100 * i\n",
    "    print(f\"i: {i, trials}\\ttarget_probability: {(1 - st.binom.cdf(99, trials, 0.1)).round(3)}\");    \n",
    "   \n",
    "print(f\"i: {13, 1161}\\ttarget_probability: {(1 - st.binom.cdf(99, 1161, 0.1)).round(3)}\")"
   ]
  },
  {
   "attachments": {
    "image.png": {
     "image/png": "[encoded data removed]"
    }
   },
   "cell_type": "markdown",
   "id": "48ae5034",
   "metadata": {},
   "source": [
    "        \n",
    "![image.png](attachment:image.png)        "
   ]
  },
  {
   "cell_type": "markdown",
   "id": "f0c4e033",
   "metadata": {},
   "source": [
    "### check"
   ]
  },
  {
   "cell_type": "code",
   "execution_count": 45,
   "id": "30a76e33",
   "metadata": {},
   "outputs": [],
   "source": [
    "dfg1 = pd.DataFrame(\n",
    "    {\n",
    "        \"A\": [\"A0\", \"A1\", \"A2\", \"A3\"],\n",
    "        \"B\": [\"B0\", \"B1\", \"B2\", \"B3\"],\n",
    "        \"C\": [\"C0\", \"C1\", \"C2\", \"C3\"],\n",
    "        \"D\": [\"D0\", \"D1\", \"D2\", \"D3\"],\n",
    "    },\n",
    "    index=[0, 1, 2, 3],\n",
    ")\n",
    "\n",
    "dfr4 = pd.DataFrame(\n",
    "    {\n",
    "        \"B\": [\"B2\", \"B3\", \"B6\", \"B7\"],\n",
    "        \"D\": [\"D2\", \"D3\", \"D6\", \"D7\"],\n",
    "        \"F\": [\"F2\", \"F3\", \"F6\", \"F7\"],\n",
    "        \"E\": [np.nan, np.nan, np.nan, np.nan]\n",
    "    },\n",
    "    index=[2, 3, 6, 0],\n",
    ")"
   ]
  },
  {
   "cell_type": "code",
   "execution_count": 46,
   "id": "4c5fc8e7",
   "metadata": {
    "scrolled": true
   },
   "outputs": [
    {
     "data": {
      "text/html": [
       "<div>\n",
       "<style scoped>\n",
       "    .dataframe tbody tr th:only-of-type {\n",
       "        vertical-align: middle;\n",
       "    }\n",
       "\n",
       "    .dataframe tbody tr th {\n",
       "        vertical-align: top;\n",
       "    }\n",
       "\n",
       "    .dataframe thead th {\n",
       "        text-align: right;\n",
       "    }\n",
       "</style>\n",
       "<table border=\"1\" class=\"dataframe\">\n",
       "  <thead>\n",
       "    <tr style=\"text-align: right;\">\n",
       "      <th></th>\n",
       "      <th>A</th>\n",
       "      <th>B</th>\n",
       "      <th>C</th>\n",
       "      <th>D</th>\n",
       "    </tr>\n",
       "  </thead>\n",
       "  <tbody>\n",
       "    <tr>\n",
       "      <th>0</th>\n",
       "      <td>A0</td>\n",
       "      <td>B0</td>\n",
       "      <td>C0</td>\n",
       "      <td>D0</td>\n",
       "    </tr>\n",
       "    <tr>\n",
       "      <th>1</th>\n",
       "      <td>A1</td>\n",
       "      <td>B1</td>\n",
       "      <td>C1</td>\n",
       "      <td>D1</td>\n",
       "    </tr>\n",
       "    <tr>\n",
       "      <th>2</th>\n",
       "      <td>A2</td>\n",
       "      <td>B2</td>\n",
       "      <td>C2</td>\n",
       "      <td>D2</td>\n",
       "    </tr>\n",
       "    <tr>\n",
       "      <th>3</th>\n",
       "      <td>A3</td>\n",
       "      <td>B3</td>\n",
       "      <td>C3</td>\n",
       "      <td>D3</td>\n",
       "    </tr>\n",
       "  </tbody>\n",
       "</table>\n",
       "</div>"
      ],
      "text/plain": [
       "    A   B   C   D\n",
       "0  A0  B0  C0  D0\n",
       "1  A1  B1  C1  D1\n",
       "2  A2  B2  C2  D2\n",
       "3  A3  B3  C3  D3"
      ]
     },
     "metadata": {},
     "output_type": "display_data"
    },
    {
     "data": {
      "text/html": [
       "<div>\n",
       "<style scoped>\n",
       "    .dataframe tbody tr th:only-of-type {\n",
       "        vertical-align: middle;\n",
       "    }\n",
       "\n",
       "    .dataframe tbody tr th {\n",
       "        vertical-align: top;\n",
       "    }\n",
       "\n",
       "    .dataframe thead th {\n",
       "        text-align: right;\n",
       "    }\n",
       "</style>\n",
       "<table border=\"1\" class=\"dataframe\">\n",
       "  <thead>\n",
       "    <tr style=\"text-align: right;\">\n",
       "      <th></th>\n",
       "      <th>B</th>\n",
       "      <th>D</th>\n",
       "      <th>F</th>\n",
       "      <th>E</th>\n",
       "    </tr>\n",
       "  </thead>\n",
       "  <tbody>\n",
       "    <tr>\n",
       "      <th>2</th>\n",
       "      <td>B2</td>\n",
       "      <td>D2</td>\n",
       "      <td>F2</td>\n",
       "      <td>NaN</td>\n",
       "    </tr>\n",
       "    <tr>\n",
       "      <th>3</th>\n",
       "      <td>B3</td>\n",
       "      <td>D3</td>\n",
       "      <td>F3</td>\n",
       "      <td>NaN</td>\n",
       "    </tr>\n",
       "    <tr>\n",
       "      <th>6</th>\n",
       "      <td>B6</td>\n",
       "      <td>D6</td>\n",
       "      <td>F6</td>\n",
       "      <td>NaN</td>\n",
       "    </tr>\n",
       "    <tr>\n",
       "      <th>0</th>\n",
       "      <td>B7</td>\n",
       "      <td>D7</td>\n",
       "      <td>F7</td>\n",
       "      <td>NaN</td>\n",
       "    </tr>\n",
       "  </tbody>\n",
       "</table>\n",
       "</div>"
      ],
      "text/plain": [
       "    B   D   F   E\n",
       "2  B2  D2  F2 NaN\n",
       "3  B3  D3  F3 NaN\n",
       "6  B6  D6  F6 NaN\n",
       "0  B7  D7  F7 NaN"
      ]
     },
     "metadata": {},
     "output_type": "display_data"
    }
   ],
   "source": [
    "display(dfg1, dfr4)"
   ]
  },
  {
   "cell_type": "code",
   "execution_count": 47,
   "id": "8df88c2c",
   "metadata": {},
   "outputs": [
    {
     "data": {
      "text/html": [
       "<div>\n",
       "<style scoped>\n",
       "    .dataframe tbody tr th:only-of-type {\n",
       "        vertical-align: middle;\n",
       "    }\n",
       "\n",
       "    .dataframe tbody tr th {\n",
       "        vertical-align: top;\n",
       "    }\n",
       "\n",
       "    .dataframe thead th {\n",
       "        text-align: right;\n",
       "    }\n",
       "</style>\n",
       "<table border=\"1\" class=\"dataframe\">\n",
       "  <thead>\n",
       "    <tr style=\"text-align: right;\">\n",
       "      <th></th>\n",
       "      <th>key_0</th>\n",
       "      <th>A</th>\n",
       "      <th>B_x</th>\n",
       "      <th>C</th>\n",
       "      <th>D_x</th>\n",
       "      <th>B_y</th>\n",
       "      <th>D_y</th>\n",
       "      <th>F</th>\n",
       "      <th>E</th>\n",
       "    </tr>\n",
       "  </thead>\n",
       "  <tbody>\n",
       "    <tr>\n",
       "      <th>0</th>\n",
       "      <td>0</td>\n",
       "      <td>A0</td>\n",
       "      <td>B0</td>\n",
       "      <td>C0</td>\n",
       "      <td>D0</td>\n",
       "      <td>B7</td>\n",
       "      <td>D7</td>\n",
       "      <td>F7</td>\n",
       "      <td>NaN</td>\n",
       "    </tr>\n",
       "    <tr>\n",
       "      <th>1</th>\n",
       "      <td>1</td>\n",
       "      <td>A1</td>\n",
       "      <td>B1</td>\n",
       "      <td>C1</td>\n",
       "      <td>D1</td>\n",
       "      <td>NaN</td>\n",
       "      <td>NaN</td>\n",
       "      <td>NaN</td>\n",
       "      <td>NaN</td>\n",
       "    </tr>\n",
       "    <tr>\n",
       "      <th>2</th>\n",
       "      <td>2</td>\n",
       "      <td>A2</td>\n",
       "      <td>B2</td>\n",
       "      <td>C2</td>\n",
       "      <td>D2</td>\n",
       "      <td>B2</td>\n",
       "      <td>D2</td>\n",
       "      <td>F2</td>\n",
       "      <td>NaN</td>\n",
       "    </tr>\n",
       "    <tr>\n",
       "      <th>3</th>\n",
       "      <td>3</td>\n",
       "      <td>A3</td>\n",
       "      <td>B3</td>\n",
       "      <td>C3</td>\n",
       "      <td>D3</td>\n",
       "      <td>B3</td>\n",
       "      <td>D3</td>\n",
       "      <td>F3</td>\n",
       "      <td>NaN</td>\n",
       "    </tr>\n",
       "    <tr>\n",
       "      <th>4</th>\n",
       "      <td>6</td>\n",
       "      <td>NaN</td>\n",
       "      <td>NaN</td>\n",
       "      <td>NaN</td>\n",
       "      <td>NaN</td>\n",
       "      <td>B6</td>\n",
       "      <td>D6</td>\n",
       "      <td>F6</td>\n",
       "      <td>NaN</td>\n",
       "    </tr>\n",
       "  </tbody>\n",
       "</table>\n",
       "</div>"
      ],
      "text/plain": [
       "   key_0    A  B_x    C  D_x  B_y  D_y    F   E\n",
       "0      0   A0   B0   C0   D0   B7   D7   F7 NaN\n",
       "1      1   A1   B1   C1   D1  NaN  NaN  NaN NaN\n",
       "2      2   A2   B2   C2   D2   B2   D2   F2 NaN\n",
       "3      3   A3   B3   C3   D3   B3   D3   F3 NaN\n",
       "4      6  NaN  NaN  NaN  NaN   B6   D6   F6 NaN"
      ]
     },
     "execution_count": 47,
     "metadata": {},
     "output_type": "execute_result"
    }
   ],
   "source": [
    "dfg1.merge(dfr4, left_on=dfg1.index, right_on=dfr4.index, how='outer')"
   ]
  },
  {
   "cell_type": "code",
   "execution_count": 48,
   "id": "feb2b5b9",
   "metadata": {
    "scrolled": true
   },
   "outputs": [
    {
     "data": {
      "text/html": [
       "<div>\n",
       "<style scoped>\n",
       "    .dataframe tbody tr th:only-of-type {\n",
       "        vertical-align: middle;\n",
       "    }\n",
       "\n",
       "    .dataframe tbody tr th {\n",
       "        vertical-align: top;\n",
       "    }\n",
       "\n",
       "    .dataframe thead th {\n",
       "        text-align: right;\n",
       "    }\n",
       "</style>\n",
       "<table border=\"1\" class=\"dataframe\">\n",
       "  <thead>\n",
       "    <tr style=\"text-align: right;\">\n",
       "      <th></th>\n",
       "      <th>A</th>\n",
       "      <th>B</th>\n",
       "      <th>C</th>\n",
       "      <th>D</th>\n",
       "      <th>F</th>\n",
       "      <th>E</th>\n",
       "    </tr>\n",
       "  </thead>\n",
       "  <tbody>\n",
       "    <tr>\n",
       "      <th>0</th>\n",
       "      <td>A0</td>\n",
       "      <td>B0</td>\n",
       "      <td>C0</td>\n",
       "      <td>D0</td>\n",
       "      <td>NaN</td>\n",
       "      <td>NaN</td>\n",
       "    </tr>\n",
       "    <tr>\n",
       "      <th>1</th>\n",
       "      <td>A1</td>\n",
       "      <td>B1</td>\n",
       "      <td>C1</td>\n",
       "      <td>D1</td>\n",
       "      <td>NaN</td>\n",
       "      <td>NaN</td>\n",
       "    </tr>\n",
       "    <tr>\n",
       "      <th>2</th>\n",
       "      <td>A2</td>\n",
       "      <td>B2</td>\n",
       "      <td>C2</td>\n",
       "      <td>D2</td>\n",
       "      <td>F2</td>\n",
       "      <td>NaN</td>\n",
       "    </tr>\n",
       "    <tr>\n",
       "      <th>3</th>\n",
       "      <td>A3</td>\n",
       "      <td>B3</td>\n",
       "      <td>C3</td>\n",
       "      <td>D3</td>\n",
       "      <td>F3</td>\n",
       "      <td>NaN</td>\n",
       "    </tr>\n",
       "    <tr>\n",
       "      <th>4</th>\n",
       "      <td>NaN</td>\n",
       "      <td>B6</td>\n",
       "      <td>NaN</td>\n",
       "      <td>D6</td>\n",
       "      <td>F6</td>\n",
       "      <td>NaN</td>\n",
       "    </tr>\n",
       "    <tr>\n",
       "      <th>5</th>\n",
       "      <td>NaN</td>\n",
       "      <td>B7</td>\n",
       "      <td>NaN</td>\n",
       "      <td>D7</td>\n",
       "      <td>F7</td>\n",
       "      <td>NaN</td>\n",
       "    </tr>\n",
       "  </tbody>\n",
       "</table>\n",
       "</div>"
      ],
      "text/plain": [
       "     A   B    C   D    F   E\n",
       "0   A0  B0   C0  D0  NaN NaN\n",
       "1   A1  B1   C1  D1  NaN NaN\n",
       "2   A2  B2   C2  D2   F2 NaN\n",
       "3   A3  B3   C3  D3   F3 NaN\n",
       "4  NaN  B6  NaN  D6   F6 NaN\n",
       "5  NaN  B7  NaN  D7   F7 NaN"
      ]
     },
     "execution_count": 48,
     "metadata": {},
     "output_type": "execute_result"
    }
   ],
   "source": [
    "dfg1.merge(dfr4, 'outer')"
   ]
  },
  {
   "cell_type": "code",
   "execution_count": 49,
   "id": "7bc512d9",
   "metadata": {
    "scrolled": false
   },
   "outputs": [
    {
     "data": {
      "text/html": [
       "<div>\n",
       "<style scoped>\n",
       "    .dataframe tbody tr th:only-of-type {\n",
       "        vertical-align: middle;\n",
       "    }\n",
       "\n",
       "    .dataframe tbody tr th {\n",
       "        vertical-align: top;\n",
       "    }\n",
       "\n",
       "    .dataframe thead th {\n",
       "        text-align: right;\n",
       "    }\n",
       "</style>\n",
       "<table border=\"1\" class=\"dataframe\">\n",
       "  <thead>\n",
       "    <tr style=\"text-align: right;\">\n",
       "      <th></th>\n",
       "      <th>A</th>\n",
       "      <th>B</th>\n",
       "      <th>C</th>\n",
       "      <th>D</th>\n",
       "      <th>F</th>\n",
       "      <th>E</th>\n",
       "    </tr>\n",
       "  </thead>\n",
       "  <tbody>\n",
       "    <tr>\n",
       "      <th>0</th>\n",
       "      <td>A2</td>\n",
       "      <td>B2</td>\n",
       "      <td>C2</td>\n",
       "      <td>D2</td>\n",
       "      <td>F2</td>\n",
       "      <td>NaN</td>\n",
       "    </tr>\n",
       "    <tr>\n",
       "      <th>1</th>\n",
       "      <td>A3</td>\n",
       "      <td>B3</td>\n",
       "      <td>C3</td>\n",
       "      <td>D3</td>\n",
       "      <td>F3</td>\n",
       "      <td>NaN</td>\n",
       "    </tr>\n",
       "  </tbody>\n",
       "</table>\n",
       "</div>"
      ],
      "text/plain": [
       "    A   B   C   D   F   E\n",
       "0  A2  B2  C2  D2  F2 NaN\n",
       "1  A3  B3  C3  D3  F3 NaN"
      ]
     },
     "execution_count": 49,
     "metadata": {},
     "output_type": "execute_result"
    }
   ],
   "source": [
    "dfg1.merge(dfr4)"
   ]
  },
  {
   "cell_type": "code",
   "execution_count": 50,
   "id": "1a4ea819",
   "metadata": {},
   "outputs": [
    {
     "data": {
      "text/html": [
       "<div>\n",
       "<style scoped>\n",
       "    .dataframe tbody tr th:only-of-type {\n",
       "        vertical-align: middle;\n",
       "    }\n",
       "\n",
       "    .dataframe tbody tr th {\n",
       "        vertical-align: top;\n",
       "    }\n",
       "\n",
       "    .dataframe thead th {\n",
       "        text-align: right;\n",
       "    }\n",
       "</style>\n",
       "<table border=\"1\" class=\"dataframe\">\n",
       "  <thead>\n",
       "    <tr style=\"text-align: right;\">\n",
       "      <th></th>\n",
       "      <th>A</th>\n",
       "      <th>B</th>\n",
       "      <th>C</th>\n",
       "      <th>D</th>\n",
       "      <th>F</th>\n",
       "      <th>E</th>\n",
       "    </tr>\n",
       "  </thead>\n",
       "  <tbody>\n",
       "    <tr>\n",
       "      <th>0</th>\n",
       "      <td>A2</td>\n",
       "      <td>B2</td>\n",
       "      <td>C2</td>\n",
       "      <td>D2</td>\n",
       "      <td>F2</td>\n",
       "      <td>NaN</td>\n",
       "    </tr>\n",
       "    <tr>\n",
       "      <th>1</th>\n",
       "      <td>A3</td>\n",
       "      <td>B3</td>\n",
       "      <td>C3</td>\n",
       "      <td>D3</td>\n",
       "      <td>F3</td>\n",
       "      <td>NaN</td>\n",
       "    </tr>\n",
       "  </tbody>\n",
       "</table>\n",
       "</div>"
      ],
      "text/plain": [
       "    A   B   C   D   F   E\n",
       "0  A2  B2  C2  D2  F2 NaN\n",
       "1  A3  B3  C3  D3  F3 NaN"
      ]
     },
     "execution_count": 50,
     "metadata": {},
     "output_type": "execute_result"
    }
   ],
   "source": [
    "dfg1.merge(dfr4, 'inner')"
   ]
  },
  {
   "cell_type": "markdown",
   "id": "d4a4c1b2",
   "metadata": {},
   "source": [
    "####  check при объединении таблиц без пропусков получаем пропуски"
   ]
  },
  {
   "cell_type": "code",
   "execution_count": 51,
   "id": "a2c4cc27",
   "metadata": {},
   "outputs": [],
   "source": [
    "dfg1 = pd.DataFrame(\n",
    "    {\n",
    "        \"A\": [\"A0\", \"A1\", \"A2\", \"A3\"],\n",
    "        \"B\": [\"B0\", \"B1\", \"B2\", \"B3\"],\n",
    "        \"C\": [\"C0\", \"C1\", \"C2\", \"C3\"],\n",
    "        \"D\": [\"D0\", \"D1\", \"D2\", \"D3\"],\n",
    "    },\n",
    "    index=[0, 1, 2, 3],\n",
    ")\n",
    "\n",
    "dfr4 = pd.DataFrame(\n",
    "    {\n",
    "        \"B\": [\"B2\", \"B3\", \"B6\", \"B7\"],\n",
    "        \"D\": [\"D2\", \"D3\", \"D6\", \"D7\"],\n",
    "        \"F\": [\"F2\", \"F3\", \"F6\", \"F7\"],\n",
    "        \n",
    "        \n",
    "    },\n",
    "    index=[2, 3, 6, 0],\n",
    ")"
   ]
  },
  {
   "cell_type": "code",
   "execution_count": 52,
   "id": "9b83e15c",
   "metadata": {},
   "outputs": [
    {
     "data": {
      "text/html": [
       "<div>\n",
       "<style scoped>\n",
       "    .dataframe tbody tr th:only-of-type {\n",
       "        vertical-align: middle;\n",
       "    }\n",
       "\n",
       "    .dataframe tbody tr th {\n",
       "        vertical-align: top;\n",
       "    }\n",
       "\n",
       "    .dataframe thead th {\n",
       "        text-align: right;\n",
       "    }\n",
       "</style>\n",
       "<table border=\"1\" class=\"dataframe\">\n",
       "  <thead>\n",
       "    <tr style=\"text-align: right;\">\n",
       "      <th></th>\n",
       "      <th>A</th>\n",
       "      <th>B</th>\n",
       "      <th>C</th>\n",
       "      <th>D</th>\n",
       "      <th>F</th>\n",
       "    </tr>\n",
       "  </thead>\n",
       "  <tbody>\n",
       "    <tr>\n",
       "      <th>0</th>\n",
       "      <td>A0</td>\n",
       "      <td>B0</td>\n",
       "      <td>C0</td>\n",
       "      <td>D0</td>\n",
       "      <td>NaN</td>\n",
       "    </tr>\n",
       "    <tr>\n",
       "      <th>1</th>\n",
       "      <td>A1</td>\n",
       "      <td>B1</td>\n",
       "      <td>C1</td>\n",
       "      <td>D1</td>\n",
       "      <td>NaN</td>\n",
       "    </tr>\n",
       "    <tr>\n",
       "      <th>2</th>\n",
       "      <td>A2</td>\n",
       "      <td>B2</td>\n",
       "      <td>C2</td>\n",
       "      <td>D2</td>\n",
       "      <td>F2</td>\n",
       "    </tr>\n",
       "    <tr>\n",
       "      <th>3</th>\n",
       "      <td>A3</td>\n",
       "      <td>B3</td>\n",
       "      <td>C3</td>\n",
       "      <td>D3</td>\n",
       "      <td>F3</td>\n",
       "    </tr>\n",
       "    <tr>\n",
       "      <th>4</th>\n",
       "      <td>NaN</td>\n",
       "      <td>B6</td>\n",
       "      <td>NaN</td>\n",
       "      <td>D6</td>\n",
       "      <td>F6</td>\n",
       "    </tr>\n",
       "    <tr>\n",
       "      <th>5</th>\n",
       "      <td>NaN</td>\n",
       "      <td>B7</td>\n",
       "      <td>NaN</td>\n",
       "      <td>D7</td>\n",
       "      <td>F7</td>\n",
       "    </tr>\n",
       "  </tbody>\n",
       "</table>\n",
       "</div>"
      ],
      "text/plain": [
       "     A   B    C   D    F\n",
       "0   A0  B0   C0  D0  NaN\n",
       "1   A1  B1   C1  D1  NaN\n",
       "2   A2  B2   C2  D2   F2\n",
       "3   A3  B3   C3  D3   F3\n",
       "4  NaN  B6  NaN  D6   F6\n",
       "5  NaN  B7  NaN  D7   F7"
      ]
     },
     "execution_count": 52,
     "metadata": {},
     "output_type": "execute_result"
    }
   ],
   "source": [
    "dfg1.merge(dfr4, how='outer')"
   ]
  },
  {
   "cell_type": "markdown",
   "id": "20aaaf96",
   "metadata": {},
   "source": [
    "### check"
   ]
  },
  {
   "cell_type": "code",
   "execution_count": 53,
   "id": "8fab671d",
   "metadata": {
    "scrolled": false
   },
   "outputs": [
    {
     "data": {
      "text/plain": [
       "Index(['user_id', 'month', 'total_distance', 'total_rides', 'total_duration',\n",
       "       'subscription_type', 'minute_price', 'start_ride_price',\n",
       "       'subscription_fee', 'total_revenue'],\n",
       "      dtype='object')"
      ]
     },
     "execution_count": 53,
     "metadata": {},
     "output_type": "execute_result"
    }
   ],
   "source": [
    "dfg_first = agg_data.copy()\n",
    "dfg_first.columns"
   ]
  },
  {
   "cell_type": "code",
   "execution_count": 54,
   "id": "d66f1c3e",
   "metadata": {},
   "outputs": [
    {
     "data": {
      "text/plain": [
       "'total_revenue'"
      ]
     },
     "execution_count": 54,
     "metadata": {},
     "output_type": "execute_result"
    }
   ],
   "source": [
    "x = 'subscription_type'\n",
    "y = dfg_first.columns[-1]\n",
    "y"
   ]
  },
  {
   "cell_type": "code",
   "execution_count": 55,
   "id": "f76b7ac3",
   "metadata": {},
   "outputs": [
    {
     "data": {
      "text/html": [
       "<div>\n",
       "<style scoped>\n",
       "    .dataframe tbody tr th:only-of-type {\n",
       "        vertical-align: middle;\n",
       "    }\n",
       "\n",
       "    .dataframe tbody tr th {\n",
       "        vertical-align: top;\n",
       "    }\n",
       "\n",
       "    .dataframe thead th {\n",
       "        text-align: right;\n",
       "    }\n",
       "</style>\n",
       "<table border=\"1\" class=\"dataframe\">\n",
       "  <thead>\n",
       "    <tr style=\"text-align: right;\">\n",
       "      <th></th>\n",
       "      <th>total_revenue</th>\n",
       "    </tr>\n",
       "    <tr>\n",
       "      <th>subscription_type</th>\n",
       "      <th></th>\n",
       "    </tr>\n",
       "  </thead>\n",
       "  <tbody>\n",
       "    <tr>\n",
       "      <th>free</th>\n",
       "      <td>328.6</td>\n",
       "    </tr>\n",
       "    <tr>\n",
       "      <th>ultra</th>\n",
       "      <td>362.8</td>\n",
       "    </tr>\n",
       "  </tbody>\n",
       "</table>\n",
       "</div>"
      ],
      "text/plain": [
       "                   total_revenue\n",
       "subscription_type               \n",
       "free                       328.6\n",
       "ultra                      362.8"
      ]
     },
     "execution_count": 55,
     "metadata": {},
     "output_type": "execute_result"
    }
   ],
   "source": [
    "dfg_first.groupby(x)[y].mean().round(1).to_frame()"
   ]
  },
  {
   "cell_type": "code",
   "execution_count": 56,
   "id": "677b997b",
   "metadata": {},
   "outputs": [
    {
     "data": {
      "image/png": "[encoded data removed]",
      "text/plain": [
       "<Figure size 1080x216 with 1 Axes>"
      ]
     },
     "metadata": {
      "needs_background": "light"
     },
     "output_type": "display_data"
    }
   ],
   "source": [
    "dfg_first.groupby(x)[y].hist(bins=200, figsize=(15,3), legend=True)\n",
    "plt.title('Гистограммы ежесячной выручки двух групп пользователей')\n",
    "plt.xlabel('руб.')\n",
    "plt.ylabel('кол-во');"
   ]
  },
  {
   "cell_type": "code",
   "execution_count": 57,
   "id": "bccb646f",
   "metadata": {},
   "outputs": [],
   "source": [
    "# копируем таблицу\n",
    "dfg = dfg_first.copy()\n"
   ]
  },
  {
   "cell_type": "code",
   "execution_count": 58,
   "id": "34540f9a",
   "metadata": {},
   "outputs": [
    {
     "name": "stdout",
     "output_type": "stream",
     "text": [
      "<class 'pandas.core.frame.DataFrame'>\n",
      "RangeIndex: 11331 entries, 0 to 11330\n",
      "Data columns (total 10 columns):\n",
      " #   Column             Non-Null Count  Dtype  \n",
      "---  ------             --------------  -----  \n",
      " 0   user_id            11331 non-null  int64  \n",
      " 1   month              11331 non-null  int64  \n",
      " 2   total_distance     11331 non-null  float64\n",
      " 3   total_rides        11331 non-null  int64  \n",
      " 4   total_duration     11331 non-null  float64\n",
      " 5   subscription_type  11331 non-null  object \n",
      " 6   minute_price       11331 non-null  int64  \n",
      " 7   start_ride_price   11331 non-null  int64  \n",
      " 8   subscription_fee   11331 non-null  int64  \n",
      " 9   total_revenue      11331 non-null  float64\n",
      "dtypes: float64(3), int64(6), object(1)\n",
      "memory usage: 885.4+ KB\n"
     ]
    }
   ],
   "source": [
    "dfg.info()"
   ]
  },
  {
   "cell_type": "code",
   "execution_count": 59,
   "id": "25107da1",
   "metadata": {},
   "outputs": [],
   "source": [
    "# удаляем данные, 20%\n",
    "for col in dfg.columns:\n",
    "    dfg.loc[dfg.sample(frac=0.2).index, col] = np.nan"
   ]
  },
  {
   "cell_type": "code",
   "execution_count": 60,
   "id": "ac0c307b",
   "metadata": {},
   "outputs": [
    {
     "name": "stdout",
     "output_type": "stream",
     "text": [
      "<class 'pandas.core.frame.DataFrame'>\n",
      "RangeIndex: 11331 entries, 0 to 11330\n",
      "Data columns (total 10 columns):\n",
      " #   Column             Non-Null Count  Dtype  \n",
      "---  ------             --------------  -----  \n",
      " 0   user_id            9065 non-null   float64\n",
      " 1   month              9065 non-null   float64\n",
      " 2   total_distance     9065 non-null   float64\n",
      " 3   total_rides        9065 non-null   float64\n",
      " 4   total_duration     9065 non-null   float64\n",
      " 5   subscription_type  9065 non-null   object \n",
      " 6   minute_price       9065 non-null   float64\n",
      " 7   start_ride_price   9065 non-null   float64\n",
      " 8   subscription_fee   9065 non-null   float64\n",
      " 9   total_revenue      9065 non-null   float64\n",
      "dtypes: float64(9), object(1)\n",
      "memory usage: 885.4+ KB\n"
     ]
    }
   ],
   "source": [
    "dfg.info()"
   ]
  },
  {
   "cell_type": "code",
   "execution_count": 61,
   "id": "bcd86bc7",
   "metadata": {},
   "outputs": [
    {
     "data": {
      "text/html": [
       "<div>\n",
       "<style scoped>\n",
       "    .dataframe tbody tr th:only-of-type {\n",
       "        vertical-align: middle;\n",
       "    }\n",
       "\n",
       "    .dataframe tbody tr th {\n",
       "        vertical-align: top;\n",
       "    }\n",
       "\n",
       "    .dataframe thead th {\n",
       "        text-align: right;\n",
       "    }\n",
       "</style>\n",
       "<table border=\"1\" class=\"dataframe\">\n",
       "  <thead>\n",
       "    <tr style=\"text-align: right;\">\n",
       "      <th></th>\n",
       "      <th>total_revenue</th>\n",
       "    </tr>\n",
       "    <tr>\n",
       "      <th>subscription_type</th>\n",
       "      <th></th>\n",
       "    </tr>\n",
       "  </thead>\n",
       "  <tbody>\n",
       "    <tr>\n",
       "      <th>free</th>\n",
       "      <td>327.6</td>\n",
       "    </tr>\n",
       "    <tr>\n",
       "      <th>ultra</th>\n",
       "      <td>362.8</td>\n",
       "    </tr>\n",
       "  </tbody>\n",
       "</table>\n",
       "</div>"
      ],
      "text/plain": [
       "                   total_revenue\n",
       "subscription_type               \n",
       "free                       327.6\n",
       "ultra                      362.8"
      ]
     },
     "execution_count": 61,
     "metadata": {},
     "output_type": "execute_result"
    }
   ],
   "source": [
    "dfg.groupby(x)[y].mean().round(1).to_frame()"
   ]
  },
  {
   "cell_type": "code",
   "execution_count": 62,
   "id": "d3266cbb",
   "metadata": {
    "scrolled": false
   },
   "outputs": [
    {
     "data": {
      "image/png": "[encoded data removed]",
      "text/plain": [
       "<Figure size 1080x216 with 1 Axes>"
      ]
     },
     "metadata": {
      "needs_background": "light"
     },
     "output_type": "display_data"
    }
   ],
   "source": [
    "dfg.groupby(x)[y].hist(bins=200, figsize=(15,3), legend=True)\n",
    "plt.title('Гистограммы ежесячной выручки двух групп пользователей')\n",
    "plt.xlabel('руб.')\n",
    "plt.ylabel('кол-во');"
   ]
  },
  {
   "cell_type": "code",
   "execution_count": null,
   "id": "05651a7d",
   "metadata": {},
   "outputs": [],
   "source": []
  }
 ],
 "metadata": {
  "ExecuteTimeLog": [
   {
    "duration": 733,
    "start_time": "2024-09-22T09:24:39.428Z"
   },
   {
    "duration": 66,
    "start_time": "2024-09-22T09:24:53.971Z"
   },
   {
    "duration": 76,
    "start_time": "2024-09-22T09:25:17.443Z"
   },
   {
    "duration": 65,
    "start_time": "2024-09-22T09:25:33.600Z"
   },
   {
    "duration": 7,
    "start_time": "2024-09-22T09:25:45.986Z"
   },
   {
    "duration": 9,
    "start_time": "2024-09-22T09:26:01.932Z"
   },
   {
    "duration": 10,
    "start_time": "2024-09-22T09:26:08.674Z"
   },
   {
    "duration": 20,
    "start_time": "2024-09-22T09:27:19.977Z"
   },
   {
    "duration": 18,
    "start_time": "2024-09-22T09:27:57.107Z"
   },
   {
    "duration": 18,
    "start_time": "2024-09-22T09:28:02.930Z"
   },
   {
    "duration": 19,
    "start_time": "2024-09-22T09:28:06.125Z"
   },
   {
    "duration": 24,
    "start_time": "2024-09-22T09:29:03.336Z"
   },
   {
    "duration": 23,
    "start_time": "2024-09-22T09:29:15.738Z"
   },
   {
    "duration": 27,
    "start_time": "2024-09-22T09:29:23.972Z"
   },
   {
    "duration": 85,
    "start_time": "2024-09-22T09:29:38.749Z"
   },
   {
    "duration": 25,
    "start_time": "2024-09-22T09:29:51.397Z"
   },
   {
    "duration": 23,
    "start_time": "2024-09-22T09:29:59.043Z"
   },
   {
    "duration": 25,
    "start_time": "2024-09-22T09:30:11.755Z"
   },
   {
    "duration": 29,
    "start_time": "2024-09-22T09:30:20.274Z"
   },
   {
    "duration": 27,
    "start_time": "2024-09-22T09:31:17.415Z"
   },
   {
    "duration": 70,
    "start_time": "2024-09-22T09:31:22.171Z"
   },
   {
    "duration": 22,
    "start_time": "2024-09-22T09:31:26.101Z"
   },
   {
    "duration": 8,
    "start_time": "2024-09-22T09:32:07.702Z"
   },
   {
    "duration": 106,
    "start_time": "2024-09-22T09:32:14.989Z"
   },
   {
    "duration": 12,
    "start_time": "2024-09-22T09:32:24.898Z"
   },
   {
    "duration": 20,
    "start_time": "2024-09-22T09:32:28.667Z"
   },
   {
    "duration": 32,
    "start_time": "2024-09-22T09:32:34.319Z"
   },
   {
    "duration": 8,
    "start_time": "2024-09-22T09:40:56.527Z"
   },
   {
    "duration": 62,
    "start_time": "2024-09-22T09:41:06.119Z"
   },
   {
    "duration": 19,
    "start_time": "2024-09-22T09:41:13.161Z"
   },
   {
    "duration": 19,
    "start_time": "2024-09-22T09:41:17.036Z"
   },
   {
    "duration": 19,
    "start_time": "2024-09-22T09:41:27.318Z"
   },
   {
    "duration": 14,
    "start_time": "2024-09-22T09:41:55.276Z"
   },
   {
    "duration": 12,
    "start_time": "2024-09-22T09:43:38.148Z"
   },
   {
    "duration": 12,
    "start_time": "2024-09-22T09:43:46.419Z"
   },
   {
    "duration": 9,
    "start_time": "2024-09-22T09:44:00.655Z"
   },
   {
    "duration": 11,
    "start_time": "2024-09-22T09:44:08.723Z"
   },
   {
    "duration": 10,
    "start_time": "2024-09-22T09:44:20.637Z"
   },
   {
    "duration": 14,
    "start_time": "2024-09-22T09:44:27.565Z"
   },
   {
    "duration": 12,
    "start_time": "2024-09-22T09:44:36.138Z"
   },
   {
    "duration": 14,
    "start_time": "2024-09-22T09:44:39.812Z"
   },
   {
    "duration": 12,
    "start_time": "2024-09-22T09:44:59.134Z"
   },
   {
    "duration": 14,
    "start_time": "2024-09-22T09:45:49.849Z"
   },
   {
    "duration": 13,
    "start_time": "2024-09-22T09:45:56.339Z"
   },
   {
    "duration": 13,
    "start_time": "2024-09-22T09:46:06.672Z"
   },
   {
    "duration": 13,
    "start_time": "2024-09-22T09:46:10.524Z"
   },
   {
    "duration": 20,
    "start_time": "2024-09-22T09:46:13.935Z"
   },
   {
    "duration": 7,
    "start_time": "2024-09-22T09:47:20.073Z"
   },
   {
    "duration": 14,
    "start_time": "2024-09-22T09:49:46.000Z"
   },
   {
    "duration": 291,
    "start_time": "2024-09-22T09:49:55.827Z"
   },
   {
    "duration": 266,
    "start_time": "2024-09-22T09:50:03.085Z"
   },
   {
    "duration": 12,
    "start_time": "2024-09-22T09:50:17.535Z"
   },
   {
    "duration": 986,
    "start_time": "2024-09-22T09:50:27.337Z"
   },
   {
    "duration": 1052,
    "start_time": "2024-09-22T09:50:31.922Z"
   },
   {
    "duration": 12,
    "start_time": "2024-09-22T09:50:36.150Z"
   },
   {
    "duration": 13,
    "start_time": "2024-09-22T09:51:06.961Z"
   },
   {
    "duration": 8,
    "start_time": "2024-09-22T09:52:03.948Z"
   },
   {
    "duration": 8,
    "start_time": "2024-09-22T09:52:29.423Z"
   },
   {
    "duration": 422,
    "start_time": "2024-09-22T09:54:25.666Z"
   },
   {
    "duration": 397,
    "start_time": "2024-09-22T09:55:59.979Z"
   },
   {
    "duration": 27,
    "start_time": "2024-09-22T10:01:56.674Z"
   },
   {
    "duration": 123,
    "start_time": "2024-09-22T10:02:33.320Z"
   },
   {
    "duration": 14,
    "start_time": "2024-09-22T10:02:50.701Z"
   },
   {
    "duration": 12,
    "start_time": "2024-09-22T10:03:07.075Z"
   },
   {
    "duration": 308,
    "start_time": "2024-09-22T10:03:14.258Z"
   },
   {
    "duration": 315,
    "start_time": "2024-09-22T10:03:23.092Z"
   },
   {
    "duration": 5,
    "start_time": "2024-09-22T10:03:30.659Z"
   },
   {
    "duration": 246,
    "start_time": "2024-09-22T10:03:43.377Z"
   },
   {
    "duration": 266,
    "start_time": "2024-09-22T10:04:42.419Z"
   },
   {
    "duration": 262,
    "start_time": "2024-09-22T10:04:50.864Z"
   },
   {
    "duration": 303,
    "start_time": "2024-09-22T10:04:59.342Z"
   },
   {
    "duration": 378,
    "start_time": "2024-09-22T10:05:03.835Z"
   },
   {
    "duration": 312,
    "start_time": "2024-09-22T10:05:07.384Z"
   },
   {
    "duration": 307,
    "start_time": "2024-09-22T10:05:17.596Z"
   },
   {
    "duration": 312,
    "start_time": "2024-09-22T10:05:27.087Z"
   },
   {
    "duration": 297,
    "start_time": "2024-09-22T10:05:33.918Z"
   },
   {
    "duration": 283,
    "start_time": "2024-09-22T10:05:40.999Z"
   },
   {
    "duration": 295,
    "start_time": "2024-09-22T10:05:50.721Z"
   },
   {
    "duration": 294,
    "start_time": "2024-09-22T10:05:54.885Z"
   },
   {
    "duration": 257,
    "start_time": "2024-09-22T10:05:59.560Z"
   },
   {
    "duration": 273,
    "start_time": "2024-09-22T10:06:03.524Z"
   },
   {
    "duration": 266,
    "start_time": "2024-09-22T10:06:07.154Z"
   },
   {
    "duration": 309,
    "start_time": "2024-09-22T10:06:15.707Z"
   },
   {
    "duration": 160,
    "start_time": "2024-09-22T10:06:20.696Z"
   },
   {
    "duration": 279,
    "start_time": "2024-09-22T10:06:26.232Z"
   },
   {
    "duration": 152,
    "start_time": "2024-09-22T10:06:38.428Z"
   },
   {
    "duration": 161,
    "start_time": "2024-09-22T10:07:26.997Z"
   },
   {
    "duration": 161,
    "start_time": "2024-09-22T10:07:32.259Z"
   },
   {
    "duration": 149,
    "start_time": "2024-09-22T10:07:37.357Z"
   },
   {
    "duration": 258,
    "start_time": "2024-09-22T10:08:16.965Z"
   },
   {
    "duration": 297,
    "start_time": "2024-09-22T10:08:31.807Z"
   },
   {
    "duration": 693,
    "start_time": "2024-09-22T10:08:43.530Z"
   },
   {
    "duration": 19,
    "start_time": "2024-09-22T10:08:44.224Z"
   },
   {
    "duration": 29,
    "start_time": "2024-09-22T10:08:44.244Z"
   },
   {
    "duration": 18,
    "start_time": "2024-09-22T10:08:44.275Z"
   },
   {
    "duration": 15,
    "start_time": "2024-09-22T10:08:44.296Z"
   },
   {
    "duration": 42,
    "start_time": "2024-09-22T10:08:44.313Z"
   },
   {
    "duration": 14,
    "start_time": "2024-09-22T10:08:44.356Z"
   },
   {
    "duration": 7,
    "start_time": "2024-09-22T10:08:44.371Z"
   },
   {
    "duration": 189,
    "start_time": "2024-09-22T10:08:44.380Z"
   },
   {
    "duration": 70,
    "start_time": "2024-09-22T10:08:44.571Z"
   },
   {
    "duration": 11,
    "start_time": "2024-09-22T10:09:23.100Z"
   },
   {
    "duration": 982,
    "start_time": "2024-09-22T10:09:27.359Z"
   },
   {
    "duration": 260,
    "start_time": "2024-09-22T10:09:47.036Z"
   },
   {
    "duration": 237,
    "start_time": "2024-09-22T10:09:58.331Z"
   },
   {
    "duration": 193,
    "start_time": "2024-09-22T10:10:09.076Z"
   },
   {
    "duration": 215,
    "start_time": "2024-09-22T10:10:20.848Z"
   },
   {
    "duration": 149,
    "start_time": "2024-09-22T10:10:38.722Z"
   },
   {
    "duration": 193,
    "start_time": "2024-09-22T10:10:59.970Z"
   },
   {
    "duration": 183,
    "start_time": "2024-09-22T10:11:13.884Z"
   },
   {
    "duration": 158,
    "start_time": "2024-09-22T10:12:01.613Z"
   },
   {
    "duration": 136,
    "start_time": "2024-09-22T10:12:11.839Z"
   },
   {
    "duration": 124,
    "start_time": "2024-09-22T10:12:14.979Z"
   },
   {
    "duration": 142,
    "start_time": "2024-09-22T10:12:17.836Z"
   },
   {
    "duration": 222,
    "start_time": "2024-09-22T10:12:38.131Z"
   },
   {
    "duration": 5,
    "start_time": "2024-09-22T10:12:44.876Z"
   },
   {
    "duration": 174,
    "start_time": "2024-09-22T10:13:28.597Z"
   },
   {
    "duration": 175,
    "start_time": "2024-09-22T10:13:31.980Z"
   },
   {
    "duration": 149,
    "start_time": "2024-09-22T10:13:42.331Z"
   },
   {
    "duration": 163,
    "start_time": "2024-09-22T10:16:39.692Z"
   },
   {
    "duration": 69,
    "start_time": "2024-09-22T10:16:50.856Z"
   },
   {
    "duration": 96,
    "start_time": "2024-09-22T10:17:03.935Z"
   },
   {
    "duration": 176,
    "start_time": "2024-09-22T10:17:10.483Z"
   },
   {
    "duration": 183,
    "start_time": "2024-09-22T10:17:20.508Z"
   },
   {
    "duration": 209,
    "start_time": "2024-09-22T10:17:33.867Z"
   },
   {
    "duration": 186,
    "start_time": "2024-09-22T10:17:39.369Z"
   },
   {
    "duration": 232,
    "start_time": "2024-09-22T10:17:52.828Z"
   },
   {
    "duration": 168,
    "start_time": "2024-09-22T10:18:07.606Z"
   },
   {
    "duration": 156,
    "start_time": "2024-09-22T10:18:12.107Z"
   },
   {
    "duration": 198,
    "start_time": "2024-09-22T10:18:26.565Z"
   },
   {
    "duration": 272,
    "start_time": "2024-09-22T10:18:32.207Z"
   },
   {
    "duration": 91,
    "start_time": "2024-09-22T10:18:39.177Z"
   },
   {
    "duration": 82,
    "start_time": "2024-09-22T10:18:54.127Z"
   },
   {
    "duration": 84,
    "start_time": "2024-09-22T10:18:58.677Z"
   },
   {
    "duration": 87,
    "start_time": "2024-09-22T10:19:02.890Z"
   },
   {
    "duration": 88,
    "start_time": "2024-09-22T10:19:08.212Z"
   },
   {
    "duration": 82,
    "start_time": "2024-09-22T10:19:13.825Z"
   },
   {
    "duration": 84,
    "start_time": "2024-09-22T10:19:17.004Z"
   },
   {
    "duration": 91,
    "start_time": "2024-09-22T10:19:26.490Z"
   },
   {
    "duration": 86,
    "start_time": "2024-09-22T10:19:34.730Z"
   },
   {
    "duration": 296,
    "start_time": "2024-09-22T10:20:10.509Z"
   },
   {
    "duration": 280,
    "start_time": "2024-09-22T10:20:15.948Z"
   },
   {
    "duration": 331,
    "start_time": "2024-09-22T10:20:37.276Z"
   },
   {
    "duration": 302,
    "start_time": "2024-09-22T10:20:41.902Z"
   },
   {
    "duration": 281,
    "start_time": "2024-09-22T10:20:47.772Z"
   },
   {
    "duration": 263,
    "start_time": "2024-09-22T10:20:54.451Z"
   },
   {
    "duration": 312,
    "start_time": "2024-09-22T10:20:59.541Z"
   },
   {
    "duration": 320,
    "start_time": "2024-09-22T10:21:02.816Z"
   },
   {
    "duration": 168,
    "start_time": "2024-09-22T10:21:06.923Z"
   },
   {
    "duration": 158,
    "start_time": "2024-09-22T10:21:10.885Z"
   },
   {
    "duration": 300,
    "start_time": "2024-09-22T10:21:45.845Z"
   },
   {
    "duration": 323,
    "start_time": "2024-09-22T10:22:01.514Z"
   },
   {
    "duration": 180,
    "start_time": "2024-09-22T10:22:15.739Z"
   },
   {
    "duration": 372,
    "start_time": "2024-09-22T10:22:48.969Z"
   },
   {
    "duration": 318,
    "start_time": "2024-09-22T10:22:54.756Z"
   },
   {
    "duration": 214,
    "start_time": "2024-09-22T10:23:08.319Z"
   },
   {
    "duration": 18,
    "start_time": "2024-09-22T10:36:59.225Z"
   },
   {
    "duration": 31,
    "start_time": "2024-09-22T10:37:02.914Z"
   },
   {
    "duration": 31,
    "start_time": "2024-09-22T10:39:25.632Z"
   },
   {
    "duration": 703,
    "start_time": "2024-09-22T11:32:35.366Z"
   },
   {
    "duration": 21,
    "start_time": "2024-09-22T11:32:36.071Z"
   },
   {
    "duration": 29,
    "start_time": "2024-09-22T11:32:36.093Z"
   },
   {
    "duration": 14,
    "start_time": "2024-09-22T11:32:36.124Z"
   },
   {
    "duration": 22,
    "start_time": "2024-09-22T11:32:36.140Z"
   },
   {
    "duration": 12,
    "start_time": "2024-09-22T11:32:36.163Z"
   },
   {
    "duration": 19,
    "start_time": "2024-09-22T11:32:36.176Z"
   },
   {
    "duration": 22,
    "start_time": "2024-09-22T11:32:36.197Z"
   },
   {
    "duration": 195,
    "start_time": "2024-09-22T11:32:36.220Z"
   },
   {
    "duration": 89,
    "start_time": "2024-09-22T11:32:36.417Z"
   },
   {
    "duration": 166,
    "start_time": "2024-09-22T11:32:36.507Z"
   },
   {
    "duration": 208,
    "start_time": "2024-09-22T11:32:36.674Z"
   },
   {
    "duration": 258,
    "start_time": "2024-09-22T11:32:36.884Z"
   },
   {
    "duration": 48,
    "start_time": "2024-09-22T11:32:37.144Z"
   },
   {
    "duration": 32,
    "start_time": "2024-09-22T11:33:05.390Z"
   },
   {
    "duration": 17,
    "start_time": "2024-09-22T11:33:23.413Z"
   },
   {
    "duration": 22,
    "start_time": "2024-09-22T11:33:28.328Z"
   },
   {
    "duration": 30,
    "start_time": "2024-09-22T11:33:32.842Z"
   },
   {
    "duration": 25,
    "start_time": "2024-09-22T11:35:07.823Z"
   },
   {
    "duration": 693,
    "start_time": "2024-09-22T11:35:42.377Z"
   },
   {
    "duration": 20,
    "start_time": "2024-09-22T11:35:43.072Z"
   },
   {
    "duration": 52,
    "start_time": "2024-09-22T11:35:43.093Z"
   },
   {
    "duration": 21,
    "start_time": "2024-09-22T11:35:43.147Z"
   },
   {
    "duration": 18,
    "start_time": "2024-09-22T11:35:43.170Z"
   },
   {
    "duration": 13,
    "start_time": "2024-09-22T11:35:43.190Z"
   },
   {
    "duration": 23,
    "start_time": "2024-09-22T11:35:43.204Z"
   },
   {
    "duration": 8,
    "start_time": "2024-09-22T11:35:43.254Z"
   },
   {
    "duration": 187,
    "start_time": "2024-09-22T11:35:43.264Z"
   },
   {
    "duration": 85,
    "start_time": "2024-09-22T11:35:43.453Z"
   },
   {
    "duration": 177,
    "start_time": "2024-09-22T11:35:43.540Z"
   },
   {
    "duration": 201,
    "start_time": "2024-09-22T11:35:43.719Z"
   },
   {
    "duration": 273,
    "start_time": "2024-09-22T11:35:43.922Z"
   },
   {
    "duration": 38,
    "start_time": "2024-09-22T11:35:44.197Z"
   },
   {
    "duration": 42,
    "start_time": "2024-09-22T11:35:44.237Z"
   },
   {
    "duration": 20,
    "start_time": "2024-09-22T11:35:52.942Z"
   },
   {
    "duration": 18,
    "start_time": "2024-09-22T11:36:38.686Z"
   },
   {
    "duration": 20,
    "start_time": "2024-09-22T11:36:49.784Z"
   },
   {
    "duration": 190,
    "start_time": "2024-09-22T11:38:50.903Z"
   },
   {
    "duration": 499,
    "start_time": "2024-09-22T11:39:07.536Z"
   },
   {
    "duration": 504,
    "start_time": "2024-09-22T11:39:15.122Z"
   },
   {
    "duration": 516,
    "start_time": "2024-09-22T11:39:20.144Z"
   },
   {
    "duration": 502,
    "start_time": "2024-09-22T11:39:26.069Z"
   },
   {
    "duration": 555,
    "start_time": "2024-09-22T11:39:36.852Z"
   },
   {
    "duration": 430,
    "start_time": "2024-09-22T11:39:45.315Z"
   },
   {
    "duration": 164,
    "start_time": "2024-09-22T11:39:52.706Z"
   },
   {
    "duration": 923,
    "start_time": "2024-09-22T11:40:04.397Z"
   },
   {
    "duration": 450,
    "start_time": "2024-09-22T11:40:08.020Z"
   },
   {
    "duration": 84,
    "start_time": "2024-09-22T11:40:13.110Z"
   },
   {
    "duration": 158,
    "start_time": "2024-09-22T11:41:10.734Z"
   },
   {
    "duration": 294,
    "start_time": "2024-09-22T11:41:13.405Z"
   },
   {
    "duration": 154,
    "start_time": "2024-09-22T11:41:19.506Z"
   },
   {
    "duration": 162,
    "start_time": "2024-09-22T11:41:25.283Z"
   },
   {
    "duration": 155,
    "start_time": "2024-09-22T11:41:29.179Z"
   },
   {
    "duration": 228,
    "start_time": "2024-09-22T11:41:31.878Z"
   },
   {
    "duration": 159,
    "start_time": "2024-09-22T11:41:35.540Z"
   },
   {
    "duration": 168,
    "start_time": "2024-09-22T11:41:55.950Z"
   },
   {
    "duration": 174,
    "start_time": "2024-09-22T11:42:21.439Z"
   },
   {
    "duration": 175,
    "start_time": "2024-09-22T11:42:34.916Z"
   },
   {
    "duration": 165,
    "start_time": "2024-09-22T11:42:56.443Z"
   },
   {
    "duration": 186,
    "start_time": "2024-09-22T11:43:02.957Z"
   },
   {
    "duration": 172,
    "start_time": "2024-09-22T11:43:06.998Z"
   },
   {
    "duration": 168,
    "start_time": "2024-09-22T11:43:10.003Z"
   },
   {
    "duration": 162,
    "start_time": "2024-09-22T11:43:13.413Z"
   },
   {
    "duration": 154,
    "start_time": "2024-09-22T11:43:15.976Z"
   },
   {
    "duration": 255,
    "start_time": "2024-09-22T11:43:27.886Z"
   },
   {
    "duration": 281,
    "start_time": "2024-09-22T11:44:36.374Z"
   },
   {
    "duration": 277,
    "start_time": "2024-09-22T11:44:41.922Z"
   },
   {
    "duration": 169,
    "start_time": "2024-09-22T11:44:46.820Z"
   },
   {
    "duration": 188,
    "start_time": "2024-09-22T11:44:58.049Z"
   },
   {
    "duration": 459,
    "start_time": "2024-09-22T11:46:27.020Z"
   },
   {
    "duration": 285,
    "start_time": "2024-09-22T11:46:35.338Z"
   },
   {
    "duration": 356,
    "start_time": "2024-09-22T11:46:53.408Z"
   },
   {
    "duration": 593,
    "start_time": "2024-09-22T11:47:06.706Z"
   },
   {
    "duration": 332,
    "start_time": "2024-09-22T11:48:09.447Z"
   },
   {
    "duration": 67,
    "start_time": "2024-09-22T11:48:44.036Z"
   },
   {
    "duration": 28,
    "start_time": "2024-09-22T11:52:20.408Z"
   },
   {
    "duration": 16,
    "start_time": "2024-09-22T11:53:49.740Z"
   },
   {
    "duration": 17,
    "start_time": "2024-09-22T11:54:30.817Z"
   },
   {
    "duration": 16,
    "start_time": "2024-09-22T11:54:39.392Z"
   },
   {
    "duration": 17,
    "start_time": "2024-09-22T12:01:40.823Z"
   },
   {
    "duration": 13,
    "start_time": "2024-09-22T12:01:47.862Z"
   },
   {
    "duration": 15,
    "start_time": "2024-09-22T12:02:06.825Z"
   },
   {
    "duration": 10,
    "start_time": "2024-09-22T12:02:45.785Z"
   },
   {
    "duration": 10,
    "start_time": "2024-09-22T12:02:56.583Z"
   },
   {
    "duration": 8,
    "start_time": "2024-09-22T12:03:00.911Z"
   },
   {
    "duration": 15,
    "start_time": "2024-09-22T12:03:23.803Z"
   },
   {
    "duration": 12,
    "start_time": "2024-09-22T12:03:41.236Z"
   },
   {
    "duration": 9,
    "start_time": "2024-09-22T12:03:48.223Z"
   },
   {
    "duration": 10,
    "start_time": "2024-09-22T12:03:57.029Z"
   },
   {
    "duration": 12,
    "start_time": "2024-09-22T12:04:02.875Z"
   },
   {
    "duration": 10,
    "start_time": "2024-09-22T12:04:07.487Z"
   },
   {
    "duration": 14,
    "start_time": "2024-09-22T12:05:23.139Z"
   },
   {
    "duration": 9,
    "start_time": "2024-09-22T12:06:09.027Z"
   },
   {
    "duration": 17,
    "start_time": "2024-09-22T12:06:13.295Z"
   },
   {
    "duration": 18,
    "start_time": "2024-09-22T12:06:16.271Z"
   },
   {
    "duration": 29,
    "start_time": "2024-09-22T12:06:19.296Z"
   },
   {
    "duration": 34,
    "start_time": "2024-09-22T12:06:56.931Z"
   },
   {
    "duration": 24,
    "start_time": "2024-09-22T12:07:06.170Z"
   },
   {
    "duration": 25,
    "start_time": "2024-09-22T12:07:50.235Z"
   },
   {
    "duration": 25,
    "start_time": "2024-09-22T12:08:06.749Z"
   },
   {
    "duration": 25,
    "start_time": "2024-09-22T12:08:10.488Z"
   },
   {
    "duration": 27,
    "start_time": "2024-09-22T12:08:27.127Z"
   },
   {
    "duration": 23,
    "start_time": "2024-09-22T12:08:33.845Z"
   },
   {
    "duration": 23,
    "start_time": "2024-09-22T12:08:53.042Z"
   },
   {
    "duration": 25,
    "start_time": "2024-09-22T12:09:09.670Z"
   },
   {
    "duration": 31,
    "start_time": "2024-09-22T12:09:21.838Z"
   },
   {
    "duration": 11,
    "start_time": "2024-09-22T12:12:31.607Z"
   },
   {
    "duration": 8,
    "start_time": "2024-09-22T12:12:50.987Z"
   },
   {
    "duration": 8,
    "start_time": "2024-09-22T12:12:53.387Z"
   },
   {
    "duration": 14,
    "start_time": "2024-09-22T12:13:28.887Z"
   },
   {
    "duration": 10,
    "start_time": "2024-09-22T12:13:33.251Z"
   },
   {
    "duration": 68,
    "start_time": "2024-09-22T12:13:48.024Z"
   },
   {
    "duration": 9,
    "start_time": "2024-09-22T12:13:52.656Z"
   },
   {
    "duration": 9,
    "start_time": "2024-09-22T12:13:56.916Z"
   },
   {
    "duration": 311,
    "start_time": "2024-09-22T12:14:08.675Z"
   },
   {
    "duration": 14,
    "start_time": "2024-09-22T12:14:32.481Z"
   },
   {
    "duration": 13,
    "start_time": "2024-09-22T12:14:43.327Z"
   },
   {
    "duration": 251,
    "start_time": "2024-09-22T12:14:47.341Z"
   },
   {
    "duration": 19,
    "start_time": "2024-09-22T12:14:59.777Z"
   },
   {
    "duration": 14,
    "start_time": "2024-09-22T12:15:29.542Z"
   },
   {
    "duration": 14,
    "start_time": "2024-09-22T12:15:50.928Z"
   },
   {
    "duration": 24,
    "start_time": "2024-09-22T12:16:00.045Z"
   },
   {
    "duration": 19,
    "start_time": "2024-09-22T12:16:10.148Z"
   },
   {
    "duration": 15,
    "start_time": "2024-09-22T12:16:25.007Z"
   },
   {
    "duration": 27,
    "start_time": "2024-09-22T12:16:55.035Z"
   },
   {
    "duration": 5,
    "start_time": "2024-09-22T12:37:03.296Z"
   },
   {
    "duration": 21,
    "start_time": "2024-09-22T12:37:08.386Z"
   },
   {
    "duration": 5,
    "start_time": "2024-09-22T12:37:18.285Z"
   },
   {
    "duration": 26,
    "start_time": "2024-09-22T12:39:10.379Z"
   },
   {
    "duration": 9,
    "start_time": "2024-09-22T12:43:08.277Z"
   },
   {
    "duration": 39,
    "start_time": "2024-09-22T12:43:13.942Z"
   },
   {
    "duration": 4,
    "start_time": "2024-09-22T12:48:23.814Z"
   },
   {
    "duration": 71,
    "start_time": "2024-09-22T12:48:29.488Z"
   },
   {
    "duration": 3,
    "start_time": "2024-09-22T12:48:39.400Z"
   },
   {
    "duration": 70,
    "start_time": "2024-09-22T12:49:02.529Z"
   },
   {
    "duration": 60,
    "start_time": "2024-09-22T12:49:09.065Z"
   },
   {
    "duration": 72,
    "start_time": "2024-09-22T12:49:13.041Z"
   },
   {
    "duration": 76,
    "start_time": "2024-09-22T12:49:34.459Z"
   },
   {
    "duration": 69,
    "start_time": "2024-09-22T12:49:45.443Z"
   },
   {
    "duration": 3,
    "start_time": "2024-09-22T12:49:58.114Z"
   },
   {
    "duration": 3,
    "start_time": "2024-09-22T12:50:13.608Z"
   },
   {
    "duration": 1167,
    "start_time": "2024-09-22T12:50:44.688Z"
   },
   {
    "duration": 4,
    "start_time": "2024-09-22T12:51:04.523Z"
   },
   {
    "duration": 252,
    "start_time": "2024-09-22T12:51:07.843Z"
   },
   {
    "duration": 239,
    "start_time": "2024-09-22T12:51:10.931Z"
   },
   {
    "duration": 29,
    "start_time": "2024-09-22T12:51:27.261Z"
   },
   {
    "duration": 644,
    "start_time": "2024-09-22T12:51:35.511Z"
   },
   {
    "duration": 21,
    "start_time": "2024-09-22T12:51:36.157Z"
   },
   {
    "duration": 25,
    "start_time": "2024-09-22T12:51:36.180Z"
   },
   {
    "duration": 14,
    "start_time": "2024-09-22T12:51:36.207Z"
   },
   {
    "duration": 42,
    "start_time": "2024-09-22T12:51:36.222Z"
   },
   {
    "duration": 12,
    "start_time": "2024-09-22T12:51:36.266Z"
   },
   {
    "duration": 17,
    "start_time": "2024-09-22T12:51:36.280Z"
   },
   {
    "duration": 32,
    "start_time": "2024-09-22T12:51:36.298Z"
   },
   {
    "duration": 188,
    "start_time": "2024-09-22T12:51:36.332Z"
   },
   {
    "duration": 100,
    "start_time": "2024-09-22T12:51:36.523Z"
   },
   {
    "duration": 175,
    "start_time": "2024-09-22T12:51:36.624Z"
   },
   {
    "duration": 207,
    "start_time": "2024-09-22T12:51:36.800Z"
   },
   {
    "duration": 300,
    "start_time": "2024-09-22T12:51:37.009Z"
   },
   {
    "duration": 31,
    "start_time": "2024-09-22T12:51:37.311Z"
   },
   {
    "duration": 28,
    "start_time": "2024-09-22T12:51:37.343Z"
   },
   {
    "duration": 29,
    "start_time": "2024-09-22T12:51:37.373Z"
   },
   {
    "duration": 366,
    "start_time": "2024-09-22T12:51:37.404Z"
   },
   {
    "duration": 360,
    "start_time": "2024-09-22T12:51:37.771Z"
   },
   {
    "duration": 22,
    "start_time": "2024-09-22T12:51:38.133Z"
   },
   {
    "duration": 13,
    "start_time": "2024-09-22T12:51:38.156Z"
   },
   {
    "duration": 25,
    "start_time": "2024-09-22T12:51:38.170Z"
   },
   {
    "duration": 22,
    "start_time": "2024-09-22T12:51:38.197Z"
   },
   {
    "duration": 3,
    "start_time": "2024-09-22T12:51:38.221Z"
   },
   {
    "duration": 42,
    "start_time": "2024-09-22T12:51:38.226Z"
   },
   {
    "duration": 243,
    "start_time": "2024-09-22T12:51:52.221Z"
   },
   {
    "duration": 16,
    "start_time": "2024-09-22T12:56:31.423Z"
   },
   {
    "duration": 8,
    "start_time": "2024-09-22T12:56:52.717Z"
   },
   {
    "duration": 23,
    "start_time": "2024-09-22T12:58:47.517Z"
   },
   {
    "duration": 25,
    "start_time": "2024-09-22T12:59:01.063Z"
   },
   {
    "duration": 32,
    "start_time": "2024-09-22T12:59:10.224Z"
   },
   {
    "duration": 30,
    "start_time": "2024-09-22T13:00:09.241Z"
   },
   {
    "duration": 38,
    "start_time": "2024-09-22T13:00:19.024Z"
   },
   {
    "duration": 39,
    "start_time": "2024-09-22T13:02:30.758Z"
   },
   {
    "duration": 35,
    "start_time": "2024-09-22T13:07:35.828Z"
   },
   {
    "duration": 36,
    "start_time": "2024-09-22T13:07:44.558Z"
   },
   {
    "duration": 1074,
    "start_time": "2024-09-22T13:07:50.302Z"
   },
   {
    "duration": 21,
    "start_time": "2024-09-22T13:07:51.378Z"
   },
   {
    "duration": 25,
    "start_time": "2024-09-22T13:07:51.400Z"
   },
   {
    "duration": 16,
    "start_time": "2024-09-22T13:07:51.427Z"
   },
   {
    "duration": 26,
    "start_time": "2024-09-22T13:07:51.445Z"
   },
   {
    "duration": 25,
    "start_time": "2024-09-22T13:07:51.472Z"
   },
   {
    "duration": 38,
    "start_time": "2024-09-22T13:07:51.499Z"
   },
   {
    "duration": 32,
    "start_time": "2024-09-22T13:07:51.539Z"
   },
   {
    "duration": 240,
    "start_time": "2024-09-22T13:07:51.573Z"
   },
   {
    "duration": 90,
    "start_time": "2024-09-22T13:07:51.815Z"
   },
   {
    "duration": 169,
    "start_time": "2024-09-22T13:07:51.907Z"
   },
   {
    "duration": 201,
    "start_time": "2024-09-22T13:07:52.078Z"
   },
   {
    "duration": 203,
    "start_time": "2024-09-22T13:07:52.281Z"
   },
   {
    "duration": 28,
    "start_time": "2024-09-22T13:07:52.488Z"
   },
   {
    "duration": 36,
    "start_time": "2024-09-22T13:07:52.518Z"
   },
   {
    "duration": 19,
    "start_time": "2024-09-22T13:07:52.556Z"
   },
   {
    "duration": 362,
    "start_time": "2024-09-22T13:07:52.577Z"
   },
   {
    "duration": 364,
    "start_time": "2024-09-22T13:07:52.941Z"
   },
   {
    "duration": 15,
    "start_time": "2024-09-22T13:07:53.307Z"
   },
   {
    "duration": 12,
    "start_time": "2024-09-22T13:07:53.323Z"
   },
   {
    "duration": 28,
    "start_time": "2024-09-22T13:07:53.336Z"
   },
   {
    "duration": 100,
    "start_time": "2024-09-22T13:07:53.365Z"
   },
   {
    "duration": 4,
    "start_time": "2024-09-22T13:07:53.467Z"
   },
   {
    "duration": 275,
    "start_time": "2024-09-22T13:07:53.472Z"
   },
   {
    "duration": 24,
    "start_time": "2024-09-22T13:07:53.748Z"
   },
   {
    "duration": 5,
    "start_time": "2024-09-22T13:14:07.755Z"
   },
   {
    "duration": 95,
    "start_time": "2024-09-22T13:14:57.631Z"
   },
   {
    "duration": 5,
    "start_time": "2024-09-22T13:15:15.583Z"
   },
   {
    "duration": 6,
    "start_time": "2024-09-22T13:15:56.949Z"
   },
   {
    "duration": 5,
    "start_time": "2024-09-22T13:16:02.398Z"
   },
   {
    "duration": 5,
    "start_time": "2024-09-22T13:17:40.085Z"
   },
   {
    "duration": 6,
    "start_time": "2024-09-22T13:25:01.022Z"
   },
   {
    "duration": 6,
    "start_time": "2024-09-22T13:25:52.951Z"
   },
   {
    "duration": 7,
    "start_time": "2024-09-22T13:26:07.470Z"
   },
   {
    "duration": 5,
    "start_time": "2024-09-22T13:26:15.279Z"
   },
   {
    "duration": 5,
    "start_time": "2024-09-22T13:27:50.715Z"
   },
   {
    "duration": 5,
    "start_time": "2024-09-22T13:28:32.799Z"
   },
   {
    "duration": 7,
    "start_time": "2024-09-22T13:30:37.825Z"
   },
   {
    "duration": 6,
    "start_time": "2024-09-22T13:57:53.176Z"
   },
   {
    "duration": 6,
    "start_time": "2024-09-22T13:59:03.295Z"
   },
   {
    "duration": 27,
    "start_time": "2024-09-22T14:13:26.846Z"
   },
   {
    "duration": 22,
    "start_time": "2024-09-22T14:13:55.070Z"
   },
   {
    "duration": 1238,
    "start_time": "2024-09-22T14:15:02.207Z"
   },
   {
    "duration": 1052,
    "start_time": "2024-09-22T14:15:05.150Z"
   },
   {
    "duration": 13,
    "start_time": "2024-09-22T14:15:55.857Z"
   },
   {
    "duration": 15,
    "start_time": "2024-09-22T14:17:08.480Z"
   },
   {
    "duration": 16,
    "start_time": "2024-09-22T14:28:51.656Z"
   },
   {
    "duration": 1000,
    "start_time": "2024-09-22T14:29:33.757Z"
   },
   {
    "duration": 4,
    "start_time": "2024-09-22T14:29:55.407Z"
   },
   {
    "duration": 12,
    "start_time": "2024-09-22T14:30:00.883Z"
   },
   {
    "duration": 24,
    "start_time": "2024-09-22T14:31:25.084Z"
   },
   {
    "duration": 264,
    "start_time": "2024-09-22T14:31:27.680Z"
   },
   {
    "duration": 51,
    "start_time": "2024-09-22T14:31:44.197Z"
   },
   {
    "duration": 6,
    "start_time": "2024-09-22T14:31:53.125Z"
   },
   {
    "duration": 1545,
    "start_time": "2024-09-22T14:32:02.067Z"
   },
   {
    "duration": 23,
    "start_time": "2024-09-22T14:32:03.614Z"
   },
   {
    "duration": 26,
    "start_time": "2024-09-22T14:32:03.639Z"
   },
   {
    "duration": 17,
    "start_time": "2024-09-22T14:32:03.667Z"
   },
   {
    "duration": 14,
    "start_time": "2024-09-22T14:32:03.685Z"
   },
   {
    "duration": 14,
    "start_time": "2024-09-22T14:32:03.701Z"
   },
   {
    "duration": 44,
    "start_time": "2024-09-22T14:32:03.716Z"
   },
   {
    "duration": 24,
    "start_time": "2024-09-22T14:32:03.761Z"
   },
   {
    "duration": 187,
    "start_time": "2024-09-22T14:32:03.786Z"
   },
   {
    "duration": 118,
    "start_time": "2024-09-22T14:32:03.977Z"
   },
   {
    "duration": 172,
    "start_time": "2024-09-22T14:32:04.096Z"
   },
   {
    "duration": 209,
    "start_time": "2024-09-22T14:32:04.270Z"
   },
   {
    "duration": 204,
    "start_time": "2024-09-22T14:32:04.481Z"
   },
   {
    "duration": 30,
    "start_time": "2024-09-22T14:32:04.687Z"
   },
   {
    "duration": 36,
    "start_time": "2024-09-22T14:32:04.718Z"
   },
   {
    "duration": 18,
    "start_time": "2024-09-22T14:32:04.755Z"
   },
   {
    "duration": 397,
    "start_time": "2024-09-22T14:32:04.775Z"
   },
   {
    "duration": 343,
    "start_time": "2024-09-22T14:32:05.174Z"
   },
   {
    "duration": 15,
    "start_time": "2024-09-22T14:32:05.518Z"
   },
   {
    "duration": 23,
    "start_time": "2024-09-22T14:32:05.534Z"
   },
   {
    "duration": 14,
    "start_time": "2024-09-22T14:32:05.559Z"
   },
   {
    "duration": 116,
    "start_time": "2024-09-22T14:32:05.574Z"
   },
   {
    "duration": 3,
    "start_time": "2024-09-22T14:32:05.692Z"
   },
   {
    "duration": 224,
    "start_time": "2024-09-22T14:32:05.696Z"
   },
   {
    "duration": 21,
    "start_time": "2024-09-22T14:32:05.922Z"
   },
   {
    "duration": 28,
    "start_time": "2024-09-22T14:32:05.953Z"
   },
   {
    "duration": 47,
    "start_time": "2024-09-22T14:32:05.982Z"
   },
   {
    "duration": 17,
    "start_time": "2024-09-22T14:32:06.032Z"
   },
   {
    "duration": 42,
    "start_time": "2024-09-22T14:32:06.050Z"
   },
   {
    "duration": 287,
    "start_time": "2024-09-22T14:32:23.261Z"
   },
   {
    "duration": 1167,
    "start_time": "2024-09-22T14:32:34.198Z"
   },
   {
    "duration": 21,
    "start_time": "2024-09-22T14:32:35.367Z"
   },
   {
    "duration": 55,
    "start_time": "2024-09-22T14:32:35.390Z"
   },
   {
    "duration": 14,
    "start_time": "2024-09-22T14:32:35.447Z"
   },
   {
    "duration": 27,
    "start_time": "2024-09-22T14:32:35.462Z"
   },
   {
    "duration": 12,
    "start_time": "2024-09-22T14:32:35.491Z"
   },
   {
    "duration": 36,
    "start_time": "2024-09-22T14:32:35.505Z"
   },
   {
    "duration": 9,
    "start_time": "2024-09-22T14:32:35.553Z"
   },
   {
    "duration": 184,
    "start_time": "2024-09-22T14:32:35.564Z"
   },
   {
    "duration": 100,
    "start_time": "2024-09-22T14:32:35.753Z"
   },
   {
    "duration": 164,
    "start_time": "2024-09-22T14:32:35.855Z"
   },
   {
    "duration": 193,
    "start_time": "2024-09-22T14:32:36.020Z"
   },
   {
    "duration": 201,
    "start_time": "2024-09-22T14:32:36.215Z"
   },
   {
    "duration": 37,
    "start_time": "2024-09-22T14:32:36.417Z"
   },
   {
    "duration": 21,
    "start_time": "2024-09-22T14:32:36.455Z"
   },
   {
    "duration": 24,
    "start_time": "2024-09-22T14:32:36.478Z"
   },
   {
    "duration": 393,
    "start_time": "2024-09-22T14:32:36.503Z"
   },
   {
    "duration": 373,
    "start_time": "2024-09-22T14:32:36.897Z"
   },
   {
    "duration": 15,
    "start_time": "2024-09-22T14:32:37.271Z"
   },
   {
    "duration": 14,
    "start_time": "2024-09-22T14:32:37.287Z"
   },
   {
    "duration": 35,
    "start_time": "2024-09-22T14:32:37.303Z"
   },
   {
    "duration": 102,
    "start_time": "2024-09-22T14:32:37.340Z"
   },
   {
    "duration": 10,
    "start_time": "2024-09-22T14:32:37.443Z"
   },
   {
    "duration": 270,
    "start_time": "2024-09-22T14:32:37.455Z"
   },
   {
    "duration": 29,
    "start_time": "2024-09-22T14:32:37.727Z"
   },
   {
    "duration": 5,
    "start_time": "2024-09-22T14:32:37.758Z"
   },
   {
    "duration": 18,
    "start_time": "2024-09-22T14:32:37.764Z"
   },
   {
    "duration": 15,
    "start_time": "2024-09-22T14:32:37.785Z"
   },
   {
    "duration": 57,
    "start_time": "2024-09-22T14:32:37.802Z"
   },
   {
    "duration": 289,
    "start_time": "2024-09-22T14:34:27.841Z"
   },
   {
    "duration": 1108,
    "start_time": "2024-09-22T14:34:50.082Z"
   },
   {
    "duration": 29,
    "start_time": "2024-09-22T14:34:51.192Z"
   },
   {
    "duration": 22,
    "start_time": "2024-09-22T14:34:51.223Z"
   },
   {
    "duration": 13,
    "start_time": "2024-09-22T14:34:51.247Z"
   },
   {
    "duration": 30,
    "start_time": "2024-09-22T14:34:51.261Z"
   },
   {
    "duration": 25,
    "start_time": "2024-09-22T14:34:51.293Z"
   },
   {
    "duration": 66,
    "start_time": "2024-09-22T14:34:51.319Z"
   },
   {
    "duration": 44,
    "start_time": "2024-09-22T14:34:51.387Z"
   },
   {
    "duration": 171,
    "start_time": "2024-09-22T14:34:51.432Z"
   },
   {
    "duration": 94,
    "start_time": "2024-09-22T14:34:51.604Z"
   },
   {
    "duration": 162,
    "start_time": "2024-09-22T14:34:51.699Z"
   },
   {
    "duration": 200,
    "start_time": "2024-09-22T14:34:51.863Z"
   },
   {
    "duration": 202,
    "start_time": "2024-09-22T14:34:52.064Z"
   },
   {
    "duration": 37,
    "start_time": "2024-09-22T14:34:52.270Z"
   },
   {
    "duration": 20,
    "start_time": "2024-09-22T14:34:52.309Z"
   },
   {
    "duration": 38,
    "start_time": "2024-09-22T14:34:52.330Z"
   },
   {
    "duration": 394,
    "start_time": "2024-09-22T14:34:52.370Z"
   },
   {
    "duration": 355,
    "start_time": "2024-09-22T14:34:52.766Z"
   },
   {
    "duration": 16,
    "start_time": "2024-09-22T14:34:53.123Z"
   },
   {
    "duration": 14,
    "start_time": "2024-09-22T14:34:53.153Z"
   },
   {
    "duration": 34,
    "start_time": "2024-09-22T14:34:53.168Z"
   },
   {
    "duration": 103,
    "start_time": "2024-09-22T14:34:53.204Z"
   },
   {
    "duration": 3,
    "start_time": "2024-09-22T14:34:53.309Z"
   },
   {
    "duration": 232,
    "start_time": "2024-09-22T14:34:53.314Z"
   },
   {
    "duration": 23,
    "start_time": "2024-09-22T14:34:53.548Z"
   },
   {
    "duration": 5,
    "start_time": "2024-09-22T14:34:53.573Z"
   },
   {
    "duration": 23,
    "start_time": "2024-09-22T14:34:53.579Z"
   },
   {
    "duration": 22,
    "start_time": "2024-09-22T14:34:53.603Z"
   },
   {
    "duration": 45,
    "start_time": "2024-09-22T14:34:53.627Z"
   },
   {
    "duration": 24,
    "start_time": "2024-09-22T14:36:38.356Z"
   },
   {
    "duration": 41,
    "start_time": "2024-09-22T14:37:10.807Z"
   },
   {
    "duration": 10,
    "start_time": "2024-09-22T14:38:18.468Z"
   },
   {
    "duration": 316,
    "start_time": "2024-09-22T14:40:34.192Z"
   },
   {
    "duration": 19,
    "start_time": "2024-09-22T14:40:59.475Z"
   },
   {
    "duration": 4279,
    "start_time": "2024-09-22T14:41:16.455Z"
   },
   {
    "duration": 9,
    "start_time": "2024-09-22T14:44:21.098Z"
   },
   {
    "duration": 1116,
    "start_time": "2024-09-22T14:44:28.468Z"
   },
   {
    "duration": 20,
    "start_time": "2024-09-22T14:44:29.586Z"
   },
   {
    "duration": 31,
    "start_time": "2024-09-22T14:44:29.607Z"
   },
   {
    "duration": 13,
    "start_time": "2024-09-22T14:44:29.640Z"
   },
   {
    "duration": 15,
    "start_time": "2024-09-22T14:44:29.654Z"
   },
   {
    "duration": 12,
    "start_time": "2024-09-22T14:44:29.670Z"
   },
   {
    "duration": 19,
    "start_time": "2024-09-22T14:44:29.683Z"
   },
   {
    "duration": 7,
    "start_time": "2024-09-22T14:44:29.704Z"
   },
   {
    "duration": 188,
    "start_time": "2024-09-22T14:44:29.712Z"
   },
   {
    "duration": 94,
    "start_time": "2024-09-22T14:44:29.903Z"
   },
   {
    "duration": 164,
    "start_time": "2024-09-22T14:44:29.998Z"
   },
   {
    "duration": 202,
    "start_time": "2024-09-22T14:44:30.164Z"
   },
   {
    "duration": 210,
    "start_time": "2024-09-22T14:44:30.368Z"
   },
   {
    "duration": 35,
    "start_time": "2024-09-22T14:44:30.580Z"
   },
   {
    "duration": 38,
    "start_time": "2024-09-22T14:44:30.616Z"
   },
   {
    "duration": 19,
    "start_time": "2024-09-22T14:44:30.655Z"
   },
   {
    "duration": 378,
    "start_time": "2024-09-22T14:44:30.675Z"
   },
   {
    "duration": 343,
    "start_time": "2024-09-22T14:44:31.054Z"
   },
   {
    "duration": 15,
    "start_time": "2024-09-22T14:44:31.399Z"
   },
   {
    "duration": 54,
    "start_time": "2024-09-22T14:44:31.416Z"
   },
   {
    "duration": 14,
    "start_time": "2024-09-22T14:44:31.472Z"
   },
   {
    "duration": 107,
    "start_time": "2024-09-22T14:44:31.488Z"
   },
   {
    "duration": 3,
    "start_time": "2024-09-22T14:44:31.597Z"
   },
   {
    "duration": 273,
    "start_time": "2024-09-22T14:44:31.602Z"
   },
   {
    "duration": 22,
    "start_time": "2024-09-22T14:44:31.877Z"
   },
   {
    "duration": 6,
    "start_time": "2024-09-22T14:44:31.900Z"
   },
   {
    "duration": 9,
    "start_time": "2024-09-22T14:44:31.907Z"
   },
   {
    "duration": 16,
    "start_time": "2024-09-22T14:44:31.919Z"
   },
   {
    "duration": 29,
    "start_time": "2024-09-22T14:44:57.224Z"
   },
   {
    "duration": 100,
    "start_time": "2024-09-22T14:45:02.571Z"
   },
   {
    "duration": 20,
    "start_time": "2024-09-22T14:45:07.814Z"
   },
   {
    "duration": 18,
    "start_time": "2024-09-22T14:45:14.366Z"
   },
   {
    "duration": 24,
    "start_time": "2024-09-22T14:45:17.248Z"
   },
   {
    "duration": 32,
    "start_time": "2024-09-22T14:45:26.987Z"
   },
   {
    "duration": 32,
    "start_time": "2024-09-22T14:45:36.049Z"
   },
   {
    "duration": 17,
    "start_time": "2024-09-22T14:46:03.084Z"
   },
   {
    "duration": 20,
    "start_time": "2024-09-22T14:46:13.051Z"
   },
   {
    "duration": 19,
    "start_time": "2024-09-22T14:46:48.574Z"
   },
   {
    "duration": 19,
    "start_time": "2024-09-22T14:47:08.497Z"
   },
   {
    "duration": 24,
    "start_time": "2024-09-22T14:48:23.011Z"
   },
   {
    "duration": 20,
    "start_time": "2024-09-22T14:48:28.655Z"
   },
   {
    "duration": 36,
    "start_time": "2024-09-22T15:00:21.744Z"
   },
   {
    "duration": 55,
    "start_time": "2024-09-22T15:00:26.339Z"
   },
   {
    "duration": 1110,
    "start_time": "2024-09-22T15:01:16.499Z"
   },
   {
    "duration": 562,
    "start_time": "2024-09-22T15:01:44.978Z"
   },
   {
    "duration": 34,
    "start_time": "2024-09-22T15:01:59.731Z"
   },
   {
    "duration": 808,
    "start_time": "2024-09-22T15:02:18.352Z"
   },
   {
    "duration": 62,
    "start_time": "2024-09-22T15:02:27.696Z"
   },
   {
    "duration": 28,
    "start_time": "2024-09-22T15:03:02.463Z"
   },
   {
    "duration": 255,
    "start_time": "2024-09-22T15:12:55.682Z"
   },
   {
    "duration": 4813,
    "start_time": "2024-09-22T15:13:31.874Z"
   },
   {
    "duration": 1099,
    "start_time": "2024-09-22T15:13:39.163Z"
   },
   {
    "duration": 227,
    "start_time": "2024-09-22T15:13:53.940Z"
   },
   {
    "duration": 1211,
    "start_time": "2024-09-22T16:23:35.999Z"
   },
   {
    "duration": 47,
    "start_time": "2024-09-22T16:23:37.213Z"
   },
   {
    "duration": 33,
    "start_time": "2024-09-22T16:23:37.263Z"
   },
   {
    "duration": 14,
    "start_time": "2024-09-22T16:23:37.299Z"
   },
   {
    "duration": 15,
    "start_time": "2024-09-22T16:23:37.315Z"
   },
   {
    "duration": 37,
    "start_time": "2024-09-22T16:23:37.331Z"
   },
   {
    "duration": 19,
    "start_time": "2024-09-22T16:23:37.369Z"
   },
   {
    "duration": 11,
    "start_time": "2024-09-22T16:23:37.390Z"
   },
   {
    "duration": 293,
    "start_time": "2024-09-22T16:23:37.403Z"
   },
   {
    "duration": 125,
    "start_time": "2024-09-22T16:23:37.699Z"
   },
   {
    "duration": 179,
    "start_time": "2024-09-22T16:23:37.826Z"
   },
   {
    "duration": 216,
    "start_time": "2024-09-22T16:23:38.007Z"
   },
   {
    "duration": 220,
    "start_time": "2024-09-22T16:23:38.224Z"
   },
   {
    "duration": 36,
    "start_time": "2024-09-22T16:23:38.445Z"
   },
   {
    "duration": 21,
    "start_time": "2024-09-22T16:23:38.483Z"
   },
   {
    "duration": 18,
    "start_time": "2024-09-22T16:23:38.506Z"
   },
   {
    "duration": 417,
    "start_time": "2024-09-22T16:23:38.553Z"
   },
   {
    "duration": 414,
    "start_time": "2024-09-22T16:23:38.975Z"
   },
   {
    "duration": 16,
    "start_time": "2024-09-22T16:23:39.391Z"
   },
   {
    "duration": 15,
    "start_time": "2024-09-22T16:23:39.409Z"
   },
   {
    "duration": 37,
    "start_time": "2024-09-22T16:23:39.425Z"
   },
   {
    "duration": 107,
    "start_time": "2024-09-22T16:23:39.464Z"
   },
   {
    "duration": 4,
    "start_time": "2024-09-22T16:23:39.573Z"
   },
   {
    "duration": 290,
    "start_time": "2024-09-22T16:23:39.579Z"
   },
   {
    "duration": 25,
    "start_time": "2024-09-22T16:23:39.871Z"
   },
   {
    "duration": 6,
    "start_time": "2024-09-22T16:23:39.897Z"
   },
   {
    "duration": 14,
    "start_time": "2024-09-22T16:23:39.905Z"
   },
   {
    "duration": 106,
    "start_time": "2024-09-22T16:23:56.227Z"
   },
   {
    "duration": 6,
    "start_time": "2024-09-22T16:24:07.137Z"
   },
   {
    "duration": 13,
    "start_time": "2024-09-22T16:28:26.666Z"
   },
   {
    "duration": 1175,
    "start_time": "2024-09-22T16:28:49.831Z"
   },
   {
    "duration": 23,
    "start_time": "2024-09-22T16:28:51.008Z"
   },
   {
    "duration": 35,
    "start_time": "2024-09-22T16:28:51.033Z"
   },
   {
    "duration": 13,
    "start_time": "2024-09-22T16:28:51.069Z"
   },
   {
    "duration": 15,
    "start_time": "2024-09-22T16:28:51.085Z"
   },
   {
    "duration": 15,
    "start_time": "2024-09-22T16:28:51.102Z"
   },
   {
    "duration": 49,
    "start_time": "2024-09-22T16:28:51.118Z"
   },
   {
    "duration": 8,
    "start_time": "2024-09-22T16:28:51.169Z"
   },
   {
    "duration": 197,
    "start_time": "2024-09-22T16:28:51.179Z"
   },
   {
    "duration": 100,
    "start_time": "2024-09-22T16:28:51.377Z"
   },
   {
    "duration": 190,
    "start_time": "2024-09-22T16:28:51.479Z"
   },
   {
    "duration": 231,
    "start_time": "2024-09-22T16:28:51.671Z"
   },
   {
    "duration": 218,
    "start_time": "2024-09-22T16:28:51.904Z"
   },
   {
    "duration": 36,
    "start_time": "2024-09-22T16:28:52.125Z"
   },
   {
    "duration": 23,
    "start_time": "2024-09-22T16:28:52.162Z"
   },
   {
    "duration": 22,
    "start_time": "2024-09-22T16:28:52.187Z"
   },
   {
    "duration": 405,
    "start_time": "2024-09-22T16:28:52.211Z"
   },
   {
    "duration": 361,
    "start_time": "2024-09-22T16:28:52.617Z"
   },
   {
    "duration": 14,
    "start_time": "2024-09-22T16:28:52.980Z"
   },
   {
    "duration": 12,
    "start_time": "2024-09-22T16:28:52.996Z"
   },
   {
    "duration": 30,
    "start_time": "2024-09-22T16:28:53.009Z"
   },
   {
    "duration": 115,
    "start_time": "2024-09-22T16:28:53.041Z"
   },
   {
    "duration": 4,
    "start_time": "2024-09-22T16:28:53.158Z"
   },
   {
    "duration": 288,
    "start_time": "2024-09-22T16:28:53.164Z"
   },
   {
    "duration": 24,
    "start_time": "2024-09-22T16:28:53.453Z"
   },
   {
    "duration": 6,
    "start_time": "2024-09-22T16:28:53.478Z"
   },
   {
    "duration": 14,
    "start_time": "2024-09-22T16:28:53.486Z"
   },
   {
    "duration": 11,
    "start_time": "2024-09-22T16:28:53.502Z"
   },
   {
    "duration": 128,
    "start_time": "2024-09-22T16:28:53.515Z"
   },
   {
    "duration": 22,
    "start_time": "2024-09-22T16:29:35.296Z"
   },
   {
    "duration": 28,
    "start_time": "2024-09-22T16:30:00.531Z"
   },
   {
    "duration": 14,
    "start_time": "2024-09-22T16:30:16.793Z"
   },
   {
    "duration": 15,
    "start_time": "2024-09-22T16:30:21.310Z"
   },
   {
    "duration": 16,
    "start_time": "2024-09-22T16:33:01.374Z"
   },
   {
    "duration": 12,
    "start_time": "2024-09-22T16:33:52.487Z"
   },
   {
    "duration": 3,
    "start_time": "2024-09-22T16:39:19.515Z"
   },
   {
    "duration": 1080,
    "start_time": "2024-09-22T17:39:15.583Z"
   },
   {
    "duration": 21,
    "start_time": "2024-09-22T17:39:16.665Z"
   },
   {
    "duration": 24,
    "start_time": "2024-09-22T17:39:16.687Z"
   },
   {
    "duration": 19,
    "start_time": "2024-09-22T17:39:16.712Z"
   },
   {
    "duration": 23,
    "start_time": "2024-09-22T17:39:16.733Z"
   },
   {
    "duration": 17,
    "start_time": "2024-09-22T17:39:16.758Z"
   },
   {
    "duration": 14,
    "start_time": "2024-09-22T17:39:16.777Z"
   },
   {
    "duration": 9,
    "start_time": "2024-09-22T17:39:16.793Z"
   },
   {
    "duration": 199,
    "start_time": "2024-09-22T17:39:16.804Z"
   },
   {
    "duration": 88,
    "start_time": "2024-09-22T17:39:17.005Z"
   },
   {
    "duration": 161,
    "start_time": "2024-09-22T17:39:17.094Z"
   },
   {
    "duration": 192,
    "start_time": "2024-09-22T17:39:17.257Z"
   },
   {
    "duration": 227,
    "start_time": "2024-09-22T17:39:17.451Z"
   },
   {
    "duration": 29,
    "start_time": "2024-09-22T17:39:17.680Z"
   },
   {
    "duration": 37,
    "start_time": "2024-09-22T17:39:17.711Z"
   },
   {
    "duration": 19,
    "start_time": "2024-09-22T17:39:17.749Z"
   },
   {
    "duration": 382,
    "start_time": "2024-09-22T17:39:17.769Z"
   },
   {
    "duration": 350,
    "start_time": "2024-09-22T17:39:18.152Z"
   },
   {
    "duration": 15,
    "start_time": "2024-09-22T17:39:18.503Z"
   },
   {
    "duration": 30,
    "start_time": "2024-09-22T17:39:18.519Z"
   },
   {
    "duration": 14,
    "start_time": "2024-09-22T17:39:18.551Z"
   },
   {
    "duration": 106,
    "start_time": "2024-09-22T17:39:18.567Z"
   },
   {
    "duration": 3,
    "start_time": "2024-09-22T17:39:18.674Z"
   },
   {
    "duration": 248,
    "start_time": "2024-09-22T17:39:18.679Z"
   },
   {
    "duration": 32,
    "start_time": "2024-09-22T17:39:18.928Z"
   },
   {
    "duration": 6,
    "start_time": "2024-09-22T17:39:18.961Z"
   },
   {
    "duration": 11,
    "start_time": "2024-09-22T17:39:18.969Z"
   },
   {
    "duration": 115,
    "start_time": "2024-09-22T17:39:18.983Z"
   },
   {
    "duration": 20,
    "start_time": "2024-09-22T17:49:29.281Z"
   },
   {
    "duration": 5,
    "start_time": "2024-09-22T17:50:01.882Z"
   },
   {
    "duration": 9,
    "start_time": "2024-09-22T17:51:28.050Z"
   },
   {
    "duration": 13,
    "start_time": "2024-09-22T17:51:32.828Z"
   },
   {
    "duration": 1278,
    "start_time": "2024-09-22T17:54:01.709Z"
   },
   {
    "duration": 22,
    "start_time": "2024-09-22T17:54:02.989Z"
   },
   {
    "duration": 26,
    "start_time": "2024-09-22T17:54:03.013Z"
   },
   {
    "duration": 13,
    "start_time": "2024-09-22T17:54:03.040Z"
   },
   {
    "duration": 24,
    "start_time": "2024-09-22T17:54:03.055Z"
   },
   {
    "duration": 13,
    "start_time": "2024-09-22T17:54:03.080Z"
   },
   {
    "duration": 41,
    "start_time": "2024-09-22T17:54:03.095Z"
   },
   {
    "duration": 11,
    "start_time": "2024-09-22T17:54:03.137Z"
   },
   {
    "duration": 186,
    "start_time": "2024-09-22T17:54:03.150Z"
   },
   {
    "duration": 87,
    "start_time": "2024-09-22T17:54:03.342Z"
   },
   {
    "duration": 173,
    "start_time": "2024-09-22T17:54:03.431Z"
   },
   {
    "duration": 201,
    "start_time": "2024-09-22T17:54:03.606Z"
   },
   {
    "duration": 233,
    "start_time": "2024-09-22T17:54:03.809Z"
   },
   {
    "duration": 31,
    "start_time": "2024-09-22T17:54:04.045Z"
   },
   {
    "duration": 22,
    "start_time": "2024-09-22T17:54:04.077Z"
   },
   {
    "duration": 44,
    "start_time": "2024-09-22T17:54:04.100Z"
   },
   {
    "duration": 375,
    "start_time": "2024-09-22T17:54:04.145Z"
   },
   {
    "duration": 351,
    "start_time": "2024-09-22T17:54:04.522Z"
   },
   {
    "duration": 15,
    "start_time": "2024-09-22T17:54:04.875Z"
   },
   {
    "duration": 14,
    "start_time": "2024-09-22T17:54:04.891Z"
   },
   {
    "duration": 37,
    "start_time": "2024-09-22T17:54:04.907Z"
   },
   {
    "duration": 118,
    "start_time": "2024-09-22T17:54:04.945Z"
   },
   {
    "duration": 4,
    "start_time": "2024-09-22T17:54:05.065Z"
   },
   {
    "duration": 256,
    "start_time": "2024-09-22T17:54:05.070Z"
   },
   {
    "duration": 36,
    "start_time": "2024-09-22T17:54:05.328Z"
   },
   {
    "duration": 54,
    "start_time": "2024-09-22T17:54:05.366Z"
   },
   {
    "duration": 29,
    "start_time": "2024-09-22T17:54:05.422Z"
   },
   {
    "duration": 131,
    "start_time": "2024-09-22T17:54:05.452Z"
   },
   {
    "duration": 1106,
    "start_time": "2024-09-22T17:54:33.382Z"
   },
   {
    "duration": 23,
    "start_time": "2024-09-22T17:54:34.490Z"
   },
   {
    "duration": 57,
    "start_time": "2024-09-22T17:54:34.517Z"
   },
   {
    "duration": 25,
    "start_time": "2024-09-22T17:54:34.575Z"
   },
   {
    "duration": 14,
    "start_time": "2024-09-22T17:54:34.602Z"
   },
   {
    "duration": 12,
    "start_time": "2024-09-22T17:54:34.617Z"
   },
   {
    "duration": 21,
    "start_time": "2024-09-22T17:54:34.631Z"
   },
   {
    "duration": 8,
    "start_time": "2024-09-22T17:54:34.653Z"
   },
   {
    "duration": 203,
    "start_time": "2024-09-22T17:54:34.665Z"
   },
   {
    "duration": 105,
    "start_time": "2024-09-22T17:54:34.870Z"
   },
   {
    "duration": 170,
    "start_time": "2024-09-22T17:54:34.976Z"
   },
   {
    "duration": 208,
    "start_time": "2024-09-22T17:54:35.147Z"
   },
   {
    "duration": 208,
    "start_time": "2024-09-22T17:54:35.357Z"
   },
   {
    "duration": 30,
    "start_time": "2024-09-22T17:54:35.566Z"
   },
   {
    "duration": 64,
    "start_time": "2024-09-22T17:54:35.597Z"
   },
   {
    "duration": 18,
    "start_time": "2024-09-22T17:54:35.663Z"
   },
   {
    "duration": 376,
    "start_time": "2024-09-22T17:54:35.683Z"
   },
   {
    "duration": 343,
    "start_time": "2024-09-22T17:54:36.060Z"
   },
   {
    "duration": 16,
    "start_time": "2024-09-22T17:54:36.404Z"
   },
   {
    "duration": 131,
    "start_time": "2024-09-22T17:54:36.422Z"
   },
   {
    "duration": 29,
    "start_time": "2024-09-22T17:54:36.555Z"
   },
   {
    "duration": 135,
    "start_time": "2024-09-22T17:54:36.586Z"
   },
   {
    "duration": 3,
    "start_time": "2024-09-22T17:54:36.723Z"
   },
   {
    "duration": 240,
    "start_time": "2024-09-22T17:54:36.728Z"
   },
   {
    "duration": 22,
    "start_time": "2024-09-22T17:54:36.970Z"
   },
   {
    "duration": 5,
    "start_time": "2024-09-22T17:54:36.994Z"
   },
   {
    "duration": 4,
    "start_time": "2024-09-22T17:54:37.002Z"
   },
   {
    "duration": 129,
    "start_time": "2024-09-22T17:54:37.007Z"
   },
   {
    "duration": 48,
    "start_time": "2024-09-23T01:47:47.770Z"
   },
   {
    "duration": 1309,
    "start_time": "2024-09-23T01:47:55.036Z"
   },
   {
    "duration": 277,
    "start_time": "2024-09-23T01:47:56.347Z"
   },
   {
    "duration": 21,
    "start_time": "2024-09-23T01:47:56.626Z"
   },
   {
    "duration": 24,
    "start_time": "2024-09-23T01:47:56.648Z"
   },
   {
    "duration": 12,
    "start_time": "2024-09-23T01:47:56.675Z"
   },
   {
    "duration": 14,
    "start_time": "2024-09-23T01:47:56.689Z"
   },
   {
    "duration": 12,
    "start_time": "2024-09-23T01:47:56.704Z"
   },
   {
    "duration": 43,
    "start_time": "2024-09-23T01:47:56.717Z"
   },
   {
    "duration": 6,
    "start_time": "2024-09-23T01:47:56.762Z"
   },
   {
    "duration": 183,
    "start_time": "2024-09-23T01:47:56.769Z"
   },
   {
    "duration": 82,
    "start_time": "2024-09-23T01:47:56.954Z"
   },
   {
    "duration": 186,
    "start_time": "2024-09-23T01:47:57.038Z"
   },
   {
    "duration": 200,
    "start_time": "2024-09-23T01:47:57.226Z"
   },
   {
    "duration": 196,
    "start_time": "2024-09-23T01:47:57.428Z"
   },
   {
    "duration": 41,
    "start_time": "2024-09-23T01:47:57.626Z"
   },
   {
    "duration": 22,
    "start_time": "2024-09-23T01:47:57.668Z"
   },
   {
    "duration": 25,
    "start_time": "2024-09-23T01:47:57.691Z"
   },
   {
    "duration": 378,
    "start_time": "2024-09-23T01:47:57.718Z"
   },
   {
    "duration": 354,
    "start_time": "2024-09-23T01:47:58.099Z"
   },
   {
    "duration": 16,
    "start_time": "2024-09-23T01:47:58.455Z"
   },
   {
    "duration": 13,
    "start_time": "2024-09-23T01:47:58.473Z"
   },
   {
    "duration": 17,
    "start_time": "2024-09-23T01:47:58.488Z"
   },
   {
    "duration": 128,
    "start_time": "2024-09-23T01:47:58.506Z"
   },
   {
    "duration": 4,
    "start_time": "2024-09-23T01:47:58.636Z"
   },
   {
    "duration": 233,
    "start_time": "2024-09-23T01:47:58.652Z"
   },
   {
    "duration": 27,
    "start_time": "2024-09-23T01:47:58.887Z"
   },
   {
    "duration": 5,
    "start_time": "2024-09-23T01:47:58.916Z"
   },
   {
    "duration": 5,
    "start_time": "2024-09-23T01:47:58.922Z"
   },
   {
    "duration": 115,
    "start_time": "2024-09-23T01:47:58.928Z"
   },
   {
    "duration": 73,
    "start_time": "2024-09-23T01:52:10.025Z"
   },
   {
    "duration": 25,
    "start_time": "2024-09-23T01:52:14.585Z"
   },
   {
    "duration": 18,
    "start_time": "2024-09-23T01:52:27.360Z"
   },
   {
    "duration": 3,
    "start_time": "2024-09-23T01:53:03.395Z"
   },
   {
    "duration": 69,
    "start_time": "2024-09-23T01:53:04.755Z"
   },
   {
    "duration": 17,
    "start_time": "2024-09-23T01:54:18.532Z"
   },
   {
    "duration": 3,
    "start_time": "2024-09-23T01:56:39.884Z"
   },
   {
    "duration": 3,
    "start_time": "2024-09-23T01:56:42.276Z"
   },
   {
    "duration": 41,
    "start_time": "2024-09-23T01:57:16.546Z"
   },
   {
    "duration": 39,
    "start_time": "2024-09-23T01:57:40.861Z"
   },
   {
    "duration": 41,
    "start_time": "2024-09-23T01:58:02.807Z"
   },
   {
    "duration": 38,
    "start_time": "2024-09-23T01:58:26.911Z"
   },
   {
    "duration": 40,
    "start_time": "2024-09-23T01:58:40.415Z"
   },
   {
    "duration": 51,
    "start_time": "2024-09-23T01:58:52.391Z"
   },
   {
    "duration": 42,
    "start_time": "2024-09-23T01:59:49.332Z"
   },
   {
    "duration": 2,
    "start_time": "2024-09-23T02:00:29.326Z"
   },
   {
    "duration": 3,
    "start_time": "2024-09-23T02:00:30.061Z"
   },
   {
    "duration": 3,
    "start_time": "2024-09-23T02:01:42.393Z"
   },
   {
    "duration": 8,
    "start_time": "2024-09-23T02:06:21.864Z"
   },
   {
    "duration": 14,
    "start_time": "2024-09-23T02:06:32.735Z"
   },
   {
    "duration": 160,
    "start_time": "2024-09-23T02:13:12.921Z"
   },
   {
    "duration": 147,
    "start_time": "2024-09-23T02:13:40.306Z"
   },
   {
    "duration": 153,
    "start_time": "2024-09-23T02:17:25.885Z"
   },
   {
    "duration": 164,
    "start_time": "2024-09-23T02:18:13.636Z"
   },
   {
    "duration": 167,
    "start_time": "2024-09-23T02:18:26.509Z"
   },
   {
    "duration": 170,
    "start_time": "2024-09-23T02:18:33.793Z"
   },
   {
    "duration": 155,
    "start_time": "2024-09-23T02:19:39.396Z"
   },
   {
    "duration": 149,
    "start_time": "2024-09-23T02:19:53.172Z"
   },
   {
    "duration": 162,
    "start_time": "2024-09-23T02:20:08.269Z"
   },
   {
    "duration": 255,
    "start_time": "2024-09-23T02:20:14.948Z"
   },
   {
    "duration": 160,
    "start_time": "2024-09-23T02:21:14.875Z"
   },
   {
    "duration": 203,
    "start_time": "2024-09-23T02:23:45.081Z"
   },
   {
    "duration": 168,
    "start_time": "2024-09-23T02:24:09.185Z"
   },
   {
    "duration": 184,
    "start_time": "2024-09-23T02:26:41.216Z"
   },
   {
    "duration": 252,
    "start_time": "2024-09-23T02:26:44.216Z"
   },
   {
    "duration": 222,
    "start_time": "2024-09-23T02:26:53.761Z"
   },
   {
    "duration": 1262,
    "start_time": "2024-09-23T02:32:06.465Z"
   },
   {
    "duration": 1106,
    "start_time": "2024-09-23T02:32:39.348Z"
   },
   {
    "duration": 1114,
    "start_time": "2024-09-23T02:33:22.681Z"
   },
   {
    "duration": 306,
    "start_time": "2024-09-23T02:33:36.906Z"
   },
   {
    "duration": 12,
    "start_time": "2024-09-23T02:38:31.121Z"
   },
   {
    "duration": 8,
    "start_time": "2024-09-23T02:42:12.114Z"
   },
   {
    "duration": 7,
    "start_time": "2024-09-23T02:42:17.757Z"
   },
   {
    "duration": 8,
    "start_time": "2024-09-23T02:42:24.689Z"
   },
   {
    "duration": 1205,
    "start_time": "2024-09-23T02:42:39.120Z"
   },
   {
    "duration": 8,
    "start_time": "2024-09-23T02:42:50.909Z"
   },
   {
    "duration": 7,
    "start_time": "2024-09-23T02:42:59.854Z"
   },
   {
    "duration": 14,
    "start_time": "2024-09-23T02:43:06.626Z"
   },
   {
    "duration": 13,
    "start_time": "2024-09-23T02:43:09.306Z"
   },
   {
    "duration": 8,
    "start_time": "2024-09-23T02:43:14.298Z"
   },
   {
    "duration": 10,
    "start_time": "2024-09-23T02:44:23.578Z"
   },
   {
    "duration": 16,
    "start_time": "2024-09-23T02:44:32.396Z"
   },
   {
    "duration": 14,
    "start_time": "2024-09-23T02:44:40.950Z"
   },
   {
    "duration": 11,
    "start_time": "2024-09-23T02:45:19.160Z"
   },
   {
    "duration": 14,
    "start_time": "2024-09-23T02:48:23.792Z"
   },
   {
    "duration": 12,
    "start_time": "2024-09-23T02:48:33.036Z"
   },
   {
    "duration": 13,
    "start_time": "2024-09-23T02:49:05.027Z"
   },
   {
    "duration": 10,
    "start_time": "2024-09-23T02:49:11.941Z"
   },
   {
    "duration": 82,
    "start_time": "2024-09-23T04:12:09.720Z"
   },
   {
    "duration": 13,
    "start_time": "2024-09-23T04:12:13.834Z"
   },
   {
    "duration": 1185,
    "start_time": "2024-09-23T04:12:37.627Z"
   },
   {
    "duration": 74,
    "start_time": "2024-09-23T04:12:38.814Z"
   },
   {
    "duration": 2,
    "start_time": "2024-09-23T04:12:38.890Z"
   },
   {
    "duration": 3,
    "start_time": "2024-09-23T04:12:38.894Z"
   },
   {
    "duration": 47,
    "start_time": "2024-09-23T04:12:38.898Z"
   },
   {
    "duration": 7,
    "start_time": "2024-09-23T04:12:38.947Z"
   },
   {
    "duration": 15,
    "start_time": "2024-09-23T04:12:38.956Z"
   },
   {
    "duration": 7,
    "start_time": "2024-09-23T04:12:38.973Z"
   },
   {
    "duration": 13,
    "start_time": "2024-09-23T04:12:38.982Z"
   },
   {
    "duration": 14,
    "start_time": "2024-09-23T04:12:38.997Z"
   },
   {
    "duration": 8,
    "start_time": "2024-09-23T04:12:39.054Z"
   },
   {
    "duration": 190,
    "start_time": "2024-09-23T04:12:39.064Z"
   },
   {
    "duration": 99,
    "start_time": "2024-09-23T04:12:39.256Z"
   },
   {
    "duration": 246,
    "start_time": "2024-09-23T04:12:39.357Z"
   },
   {
    "duration": 209,
    "start_time": "2024-09-23T04:12:39.605Z"
   },
   {
    "duration": 208,
    "start_time": "2024-09-23T04:12:39.816Z"
   },
   {
    "duration": 11,
    "start_time": "2024-09-23T04:12:40.027Z"
   },
   {
    "duration": 46,
    "start_time": "2024-09-23T04:12:40.040Z"
   },
   {
    "duration": 22,
    "start_time": "2024-09-23T04:12:40.088Z"
   },
   {
    "duration": 41,
    "start_time": "2024-09-23T04:12:40.112Z"
   },
   {
    "duration": 388,
    "start_time": "2024-09-23T04:12:40.155Z"
   },
   {
    "duration": 449,
    "start_time": "2024-09-23T04:12:40.545Z"
   },
   {
    "duration": 15,
    "start_time": "2024-09-23T04:12:40.996Z"
   },
   {
    "duration": 12,
    "start_time": "2024-09-23T04:12:41.013Z"
   },
   {
    "duration": 32,
    "start_time": "2024-09-23T04:12:41.027Z"
   },
   {
    "duration": 21,
    "start_time": "2024-09-23T04:12:41.061Z"
   },
   {
    "duration": 4,
    "start_time": "2024-09-23T04:12:41.083Z"
   },
   {
    "duration": 250,
    "start_time": "2024-09-23T04:12:41.090Z"
   },
   {
    "duration": 29,
    "start_time": "2024-09-23T04:12:41.342Z"
   },
   {
    "duration": 5,
    "start_time": "2024-09-23T04:12:41.373Z"
   },
   {
    "duration": 9,
    "start_time": "2024-09-23T04:12:41.380Z"
   },
   {
    "duration": 105,
    "start_time": "2024-09-23T04:12:41.390Z"
   },
   {
    "duration": 13,
    "start_time": "2024-09-23T04:21:38.489Z"
   },
   {
    "duration": 11,
    "start_time": "2024-09-23T04:21:48.763Z"
   },
   {
    "duration": 204,
    "start_time": "2024-09-23T04:21:56.981Z"
   },
   {
    "duration": 111,
    "start_time": "2024-09-23T04:22:10.360Z"
   },
   {
    "duration": 10,
    "start_time": "2024-09-23T04:22:22.184Z"
   },
   {
    "duration": 107,
    "start_time": "2024-09-23T04:23:47.029Z"
   },
   {
    "duration": 10,
    "start_time": "2024-09-23T04:24:36.924Z"
   },
   {
    "duration": 9,
    "start_time": "2024-09-23T04:25:40.890Z"
   },
   {
    "duration": 108,
    "start_time": "2024-09-23T04:25:45.566Z"
   },
   {
    "duration": 14,
    "start_time": "2024-09-23T04:26:47.530Z"
   },
   {
    "duration": 19,
    "start_time": "2024-09-23T04:26:53.995Z"
   },
   {
    "duration": 9,
    "start_time": "2024-09-23T04:27:11.442Z"
   },
   {
    "duration": 106,
    "start_time": "2024-09-23T04:27:59.839Z"
   },
   {
    "duration": 1134,
    "start_time": "2024-09-23T05:09:16.776Z"
   },
   {
    "duration": 71,
    "start_time": "2024-09-23T05:09:17.912Z"
   },
   {
    "duration": 2,
    "start_time": "2024-09-23T05:09:17.984Z"
   },
   {
    "duration": 5,
    "start_time": "2024-09-23T05:09:17.988Z"
   },
   {
    "duration": 56,
    "start_time": "2024-09-23T05:09:17.994Z"
   },
   {
    "duration": 2,
    "start_time": "2024-09-23T05:09:18.051Z"
   },
   {
    "duration": 15,
    "start_time": "2024-09-23T05:09:18.055Z"
   },
   {
    "duration": 6,
    "start_time": "2024-09-23T05:09:18.072Z"
   },
   {
    "duration": 11,
    "start_time": "2024-09-23T05:09:18.080Z"
   },
   {
    "duration": 17,
    "start_time": "2024-09-23T05:09:18.093Z"
   },
   {
    "duration": 7,
    "start_time": "2024-09-23T05:09:18.111Z"
   },
   {
    "duration": 205,
    "start_time": "2024-09-23T05:09:18.119Z"
   },
   {
    "duration": 95,
    "start_time": "2024-09-23T05:09:18.325Z"
   },
   {
    "duration": 265,
    "start_time": "2024-09-23T05:09:18.421Z"
   },
   {
    "duration": 102,
    "start_time": "2024-09-23T05:09:18.688Z"
   },
   {
    "duration": 9,
    "start_time": "2024-09-23T05:09:18.792Z"
   },
   {
    "duration": 195,
    "start_time": "2024-09-23T05:09:18.803Z"
   },
   {
    "duration": 115,
    "start_time": "2024-09-23T05:09:19.000Z"
   },
   {
    "duration": 10,
    "start_time": "2024-09-23T05:09:19.117Z"
   },
   {
    "duration": 204,
    "start_time": "2024-09-23T05:09:19.128Z"
   },
   {
    "duration": 121,
    "start_time": "2024-09-23T05:09:19.334Z"
   },
   {
    "duration": 10,
    "start_time": "2024-09-23T05:09:19.456Z"
   },
   {
    "duration": 39,
    "start_time": "2024-09-23T05:09:19.467Z"
   },
   {
    "duration": 21,
    "start_time": "2024-09-23T05:09:19.507Z"
   },
   {
    "duration": 109,
    "start_time": "2024-09-23T05:09:19.529Z"
   },
   {
    "duration": 402,
    "start_time": "2024-09-23T05:09:19.639Z"
   },
   {
    "duration": 353,
    "start_time": "2024-09-23T05:09:20.042Z"
   },
   {
    "duration": 15,
    "start_time": "2024-09-23T05:09:20.397Z"
   },
   {
    "duration": 12,
    "start_time": "2024-09-23T05:09:20.413Z"
   },
   {
    "duration": 36,
    "start_time": "2024-09-23T05:09:20.426Z"
   },
   {
    "duration": 19,
    "start_time": "2024-09-23T05:09:20.463Z"
   },
   {
    "duration": 4,
    "start_time": "2024-09-23T05:09:20.483Z"
   },
   {
    "duration": 265,
    "start_time": "2024-09-23T05:09:20.488Z"
   },
   {
    "duration": 22,
    "start_time": "2024-09-23T05:09:20.754Z"
   },
   {
    "duration": 6,
    "start_time": "2024-09-23T05:09:20.778Z"
   },
   {
    "duration": 9,
    "start_time": "2024-09-23T05:09:20.785Z"
   },
   {
    "duration": 117,
    "start_time": "2024-09-23T05:09:20.795Z"
   },
   {
    "duration": 42,
    "start_time": "2024-09-23T05:10:49.421Z"
   },
   {
    "duration": 5,
    "start_time": "2024-09-23T05:20:10.648Z"
   },
   {
    "duration": 6,
    "start_time": "2024-09-23T05:20:29.904Z"
   },
   {
    "duration": 4,
    "start_time": "2024-09-23T05:21:05.582Z"
   },
   {
    "duration": 10,
    "start_time": "2024-09-23T05:21:43.953Z"
   },
   {
    "duration": 10,
    "start_time": "2024-09-23T05:21:55.443Z"
   },
   {
    "duration": 8,
    "start_time": "2024-09-23T05:25:00.365Z"
   },
   {
    "duration": 6,
    "start_time": "2024-09-23T05:25:05.755Z"
   },
   {
    "duration": 8,
    "start_time": "2024-09-23T05:25:45.296Z"
   },
   {
    "duration": 8,
    "start_time": "2024-09-23T05:25:47.570Z"
   },
   {
    "duration": 12,
    "start_time": "2024-09-23T05:26:04.022Z"
   },
   {
    "duration": 16,
    "start_time": "2024-09-23T05:26:14.436Z"
   },
   {
    "duration": 14,
    "start_time": "2024-09-23T05:26:26.137Z"
   },
   {
    "duration": 13,
    "start_time": "2024-09-23T05:26:38.810Z"
   },
   {
    "duration": 12,
    "start_time": "2024-09-23T05:26:56.589Z"
   },
   {
    "duration": 11,
    "start_time": "2024-09-23T05:27:00.898Z"
   },
   {
    "duration": 10,
    "start_time": "2024-09-23T05:38:58.102Z"
   },
   {
    "duration": 338,
    "start_time": "2024-09-23T05:48:25.627Z"
   },
   {
    "duration": 333,
    "start_time": "2024-09-23T05:49:08.405Z"
   },
   {
    "duration": 415,
    "start_time": "2024-09-23T05:49:46.667Z"
   },
   {
    "duration": 216,
    "start_time": "2024-09-23T05:49:55.894Z"
   },
   {
    "duration": 251,
    "start_time": "2024-09-23T05:50:42.839Z"
   },
   {
    "duration": 226,
    "start_time": "2024-09-23T05:50:47.011Z"
   },
   {
    "duration": 247,
    "start_time": "2024-09-23T05:50:51.722Z"
   },
   {
    "duration": 264,
    "start_time": "2024-09-23T05:55:24.364Z"
   },
   {
    "duration": 425,
    "start_time": "2024-09-23T06:07:57.486Z"
   },
   {
    "duration": 304,
    "start_time": "2024-09-23T06:08:04.497Z"
   },
   {
    "duration": 318,
    "start_time": "2024-09-23T06:28:48.366Z"
   },
   {
    "duration": 397,
    "start_time": "2024-09-23T06:31:12.217Z"
   },
   {
    "duration": 19,
    "start_time": "2024-09-23T06:32:47.538Z"
   },
   {
    "duration": 6,
    "start_time": "2024-09-23T06:50:44.929Z"
   },
   {
    "duration": 19,
    "start_time": "2024-09-23T06:50:48.144Z"
   },
   {
    "duration": 16,
    "start_time": "2024-09-23T06:50:56.334Z"
   },
   {
    "duration": 16,
    "start_time": "2024-09-23T06:51:05.486Z"
   },
   {
    "duration": 3,
    "start_time": "2024-09-23T06:51:43.412Z"
   },
   {
    "duration": 2,
    "start_time": "2024-09-23T06:51:47.971Z"
   },
   {
    "duration": 2,
    "start_time": "2024-09-23T06:51:59.522Z"
   },
   {
    "duration": 4,
    "start_time": "2024-09-23T06:52:03.732Z"
   },
   {
    "duration": 32,
    "start_time": "2024-09-23T06:56:25.166Z"
   },
   {
    "duration": 3,
    "start_time": "2024-09-23T06:57:03.210Z"
   },
   {
    "duration": 4,
    "start_time": "2024-09-23T06:57:27.370Z"
   },
   {
    "duration": 28,
    "start_time": "2024-09-23T06:57:27.910Z"
   },
   {
    "duration": 321,
    "start_time": "2024-09-23T07:08:55.559Z"
   },
   {
    "duration": 1418,
    "start_time": "2024-09-23T15:31:38.152Z"
   },
   {
    "duration": 313,
    "start_time": "2024-09-23T15:31:39.572Z"
   },
   {
    "duration": 2,
    "start_time": "2024-09-23T15:31:39.887Z"
   },
   {
    "duration": 8,
    "start_time": "2024-09-23T15:31:39.891Z"
   },
   {
    "duration": 49,
    "start_time": "2024-09-23T15:31:39.901Z"
   },
   {
    "duration": 2,
    "start_time": "2024-09-23T15:31:39.951Z"
   },
   {
    "duration": 35,
    "start_time": "2024-09-23T15:31:39.955Z"
   },
   {
    "duration": 7,
    "start_time": "2024-09-23T15:31:39.992Z"
   },
   {
    "duration": 14,
    "start_time": "2024-09-23T15:31:40.000Z"
   },
   {
    "duration": 16,
    "start_time": "2024-09-23T15:31:40.015Z"
   },
   {
    "duration": 45,
    "start_time": "2024-09-23T15:31:40.033Z"
   },
   {
    "duration": 197,
    "start_time": "2024-09-23T15:31:40.079Z"
   },
   {
    "duration": 99,
    "start_time": "2024-09-23T15:31:40.278Z"
   },
   {
    "duration": 250,
    "start_time": "2024-09-23T15:31:40.381Z"
   },
   {
    "duration": 127,
    "start_time": "2024-09-23T15:31:40.634Z"
   },
   {
    "duration": 16,
    "start_time": "2024-09-23T15:31:40.763Z"
   },
   {
    "duration": 213,
    "start_time": "2024-09-23T15:31:40.781Z"
   },
   {
    "duration": 138,
    "start_time": "2024-09-23T15:31:40.996Z"
   },
   {
    "duration": 11,
    "start_time": "2024-09-23T15:31:41.136Z"
   },
   {
    "duration": 234,
    "start_time": "2024-09-23T15:31:41.149Z"
   },
   {
    "duration": 136,
    "start_time": "2024-09-23T15:31:41.384Z"
   },
   {
    "duration": 10,
    "start_time": "2024-09-23T15:31:41.522Z"
   },
   {
    "duration": 114,
    "start_time": "2024-09-23T15:31:41.534Z"
   },
   {
    "duration": 102,
    "start_time": "2024-09-23T15:31:41.650Z"
   },
   {
    "duration": 6,
    "start_time": "2024-09-23T15:31:41.754Z"
   },
   {
    "duration": 21,
    "start_time": "2024-09-23T15:31:41.762Z"
   },
   {
    "duration": 12,
    "start_time": "2024-09-23T15:31:41.785Z"
   },
   {
    "duration": 13,
    "start_time": "2024-09-23T15:31:41.798Z"
   },
   {
    "duration": 373,
    "start_time": "2024-09-23T15:31:41.813Z"
   },
   {
    "duration": 332,
    "start_time": "2024-09-23T15:31:42.188Z"
   },
   {
    "duration": 20,
    "start_time": "2024-09-23T15:31:42.522Z"
   },
   {
    "duration": 3,
    "start_time": "2024-09-23T15:31:42.544Z"
   },
   {
    "duration": 3,
    "start_time": "2024-09-23T15:31:42.548Z"
   },
   {
    "duration": 4,
    "start_time": "2024-09-23T15:31:42.577Z"
   },
   {
    "duration": 11,
    "start_time": "2024-09-23T15:31:42.583Z"
   },
   {
    "duration": 6,
    "start_time": "2024-09-23T15:31:42.595Z"
   },
   {
    "duration": 29,
    "start_time": "2024-09-23T15:31:42.602Z"
   },
   {
    "duration": 361,
    "start_time": "2024-09-23T15:31:42.633Z"
   },
   {
    "duration": 25,
    "start_time": "2024-09-23T15:31:42.996Z"
   },
   {
    "duration": 10,
    "start_time": "2024-09-23T15:31:43.022Z"
   },
   {
    "duration": 6,
    "start_time": "2024-09-23T15:31:43.035Z"
   },
   {
    "duration": 129,
    "start_time": "2024-09-23T15:31:43.042Z"
   },
   {
    "duration": 337,
    "start_time": "2024-09-23T15:33:07.214Z"
   },
   {
    "duration": 34,
    "start_time": "2024-09-23T15:36:32.577Z"
   },
   {
    "duration": 11,
    "start_time": "2024-09-23T15:37:45.771Z"
   },
   {
    "duration": 33,
    "start_time": "2024-09-23T15:43:14.466Z"
   },
   {
    "duration": 855,
    "start_time": "2024-09-23T15:43:26.163Z"
   },
   {
    "duration": 35,
    "start_time": "2024-09-23T15:43:44.472Z"
   },
   {
    "duration": 800,
    "start_time": "2024-09-23T15:43:50.822Z"
   },
   {
    "duration": 44,
    "start_time": "2024-09-23T15:45:19.361Z"
   },
   {
    "duration": 219,
    "start_time": "2024-09-23T15:45:45.655Z"
   },
   {
    "duration": 2,
    "start_time": "2024-09-23T15:47:03.390Z"
   },
   {
    "duration": 224,
    "start_time": "2024-09-23T15:47:26.277Z"
   },
   {
    "duration": 14,
    "start_time": "2024-09-23T15:55:31.200Z"
   },
   {
    "duration": 6,
    "start_time": "2024-09-23T16:00:47.622Z"
   },
   {
    "duration": 6,
    "start_time": "2024-09-23T16:01:01.016Z"
   },
   {
    "duration": 6,
    "start_time": "2024-09-23T16:01:07.720Z"
   },
   {
    "duration": 5,
    "start_time": "2024-09-23T16:01:07.923Z"
   },
   {
    "duration": 2,
    "start_time": "2024-09-23T16:11:23.272Z"
   },
   {
    "duration": 11,
    "start_time": "2024-09-23T16:14:00.730Z"
   },
   {
    "duration": 5,
    "start_time": "2024-09-23T16:21:44.069Z"
   },
   {
    "duration": 5,
    "start_time": "2024-09-23T16:22:09.133Z"
   },
   {
    "duration": 6,
    "start_time": "2024-09-23T16:48:28.129Z"
   },
   {
    "duration": 17,
    "start_time": "2024-09-23T16:48:32.370Z"
   },
   {
    "duration": 51,
    "start_time": "2024-09-23T16:49:01.689Z"
   },
   {
    "duration": 11,
    "start_time": "2024-09-23T16:49:07.456Z"
   },
   {
    "duration": 8,
    "start_time": "2024-09-23T16:49:24.917Z"
   },
   {
    "duration": 10,
    "start_time": "2024-09-23T16:49:28.590Z"
   },
   {
    "duration": 6,
    "start_time": "2024-09-23T16:51:15.936Z"
   },
   {
    "duration": 11,
    "start_time": "2024-09-23T16:51:19.153Z"
   },
   {
    "duration": 12,
    "start_time": "2024-09-23T16:51:31.532Z"
   },
   {
    "duration": 13,
    "start_time": "2024-09-23T16:53:13.135Z"
   },
   {
    "duration": 13,
    "start_time": "2024-09-23T16:53:19.460Z"
   },
   {
    "duration": 10,
    "start_time": "2024-09-23T16:53:54.422Z"
   },
   {
    "duration": 11,
    "start_time": "2024-09-23T16:54:05.867Z"
   },
   {
    "duration": 1124,
    "start_time": "2024-09-23T16:54:34.321Z"
   },
   {
    "duration": 75,
    "start_time": "2024-09-23T16:54:35.447Z"
   },
   {
    "duration": 2,
    "start_time": "2024-09-23T16:54:35.524Z"
   },
   {
    "duration": 17,
    "start_time": "2024-09-23T16:54:35.528Z"
   },
   {
    "duration": 50,
    "start_time": "2024-09-23T16:54:35.547Z"
   },
   {
    "duration": 2,
    "start_time": "2024-09-23T16:54:35.598Z"
   },
   {
    "duration": 30,
    "start_time": "2024-09-23T16:54:35.602Z"
   },
   {
    "duration": 7,
    "start_time": "2024-09-23T16:54:35.634Z"
   },
   {
    "duration": 19,
    "start_time": "2024-09-23T16:54:35.643Z"
   },
   {
    "duration": 31,
    "start_time": "2024-09-23T16:54:35.663Z"
   },
   {
    "duration": 9,
    "start_time": "2024-09-23T16:54:35.695Z"
   },
   {
    "duration": 198,
    "start_time": "2024-09-23T16:54:35.705Z"
   },
   {
    "duration": 108,
    "start_time": "2024-09-23T16:54:35.904Z"
   },
   {
    "duration": 253,
    "start_time": "2024-09-23T16:54:36.016Z"
   },
   {
    "duration": 114,
    "start_time": "2024-09-23T16:54:36.275Z"
   },
   {
    "duration": 10,
    "start_time": "2024-09-23T16:54:36.391Z"
   },
   {
    "duration": 209,
    "start_time": "2024-09-23T16:54:36.402Z"
   },
   {
    "duration": 132,
    "start_time": "2024-09-23T16:54:36.612Z"
   },
   {
    "duration": 11,
    "start_time": "2024-09-23T16:54:36.745Z"
   },
   {
    "duration": 235,
    "start_time": "2024-09-23T16:54:36.757Z"
   },
   {
    "duration": 129,
    "start_time": "2024-09-23T16:54:36.993Z"
   },
   {
    "duration": 10,
    "start_time": "2024-09-23T16:54:37.123Z"
   },
   {
    "duration": 63,
    "start_time": "2024-09-23T16:54:37.134Z"
   },
   {
    "duration": 109,
    "start_time": "2024-09-23T16:54:37.198Z"
   },
   {
    "duration": 6,
    "start_time": "2024-09-23T16:54:37.308Z"
   },
   {
    "duration": 10,
    "start_time": "2024-09-23T16:54:37.315Z"
   },
   {
    "duration": 12,
    "start_time": "2024-09-23T16:54:37.327Z"
   },
   {
    "duration": 39,
    "start_time": "2024-09-23T16:54:37.340Z"
   },
   {
    "duration": 343,
    "start_time": "2024-09-23T16:54:37.390Z"
   },
   {
    "duration": 329,
    "start_time": "2024-09-23T16:54:37.734Z"
   },
   {
    "duration": 34,
    "start_time": "2024-09-23T16:54:38.065Z"
   },
   {
    "duration": 2,
    "start_time": "2024-09-23T16:54:38.100Z"
   },
   {
    "duration": 3,
    "start_time": "2024-09-23T16:54:38.104Z"
   },
   {
    "duration": 4,
    "start_time": "2024-09-23T16:54:38.108Z"
   },
   {
    "duration": 11,
    "start_time": "2024-09-23T16:54:38.113Z"
   },
   {
    "duration": 4,
    "start_time": "2024-09-23T16:54:38.126Z"
   },
   {
    "duration": 58,
    "start_time": "2024-09-23T16:54:38.132Z"
   },
   {
    "duration": 246,
    "start_time": "2024-09-23T16:54:38.192Z"
   },
   {
    "duration": 2,
    "start_time": "2024-09-23T16:54:38.439Z"
   },
   {
    "duration": 51,
    "start_time": "2024-09-23T16:54:38.443Z"
   },
   {
    "duration": 19,
    "start_time": "2024-09-23T16:54:38.497Z"
   },
   {
    "duration": 12,
    "start_time": "2024-09-23T16:54:38.517Z"
   },
   {
    "duration": 13,
    "start_time": "2024-09-23T16:54:38.530Z"
   },
   {
    "duration": 6,
    "start_time": "2024-09-23T16:54:38.545Z"
   },
   {
    "duration": 6,
    "start_time": "2024-09-23T16:54:38.552Z"
   },
   {
    "duration": 11,
    "start_time": "2024-09-23T16:54:38.576Z"
   },
   {
    "duration": 10,
    "start_time": "2024-09-23T16:54:38.589Z"
   },
   {
    "duration": 6,
    "start_time": "2024-09-23T16:54:38.600Z"
   },
   {
    "duration": 12,
    "start_time": "2024-09-23T16:55:07.008Z"
   },
   {
    "duration": 10,
    "start_time": "2024-09-23T16:55:10.812Z"
   },
   {
    "duration": 15,
    "start_time": "2024-09-23T16:56:14.135Z"
   },
   {
    "duration": 6,
    "start_time": "2024-09-23T17:20:19.549Z"
   },
   {
    "duration": 1136,
    "start_time": "2024-09-23T17:20:25.596Z"
   },
   {
    "duration": 81,
    "start_time": "2024-09-23T17:20:26.734Z"
   },
   {
    "duration": 2,
    "start_time": "2024-09-23T17:20:26.817Z"
   },
   {
    "duration": 4,
    "start_time": "2024-09-23T17:20:26.820Z"
   },
   {
    "duration": 65,
    "start_time": "2024-09-23T17:20:26.826Z"
   },
   {
    "duration": 2,
    "start_time": "2024-09-23T17:20:26.893Z"
   },
   {
    "duration": 18,
    "start_time": "2024-09-23T17:20:26.896Z"
   },
   {
    "duration": 7,
    "start_time": "2024-09-23T17:20:26.916Z"
   },
   {
    "duration": 14,
    "start_time": "2024-09-23T17:20:26.924Z"
   },
   {
    "duration": 43,
    "start_time": "2024-09-23T17:20:26.939Z"
   },
   {
    "duration": 13,
    "start_time": "2024-09-23T17:20:26.983Z"
   },
   {
    "duration": 201,
    "start_time": "2024-09-23T17:20:26.997Z"
   },
   {
    "duration": 105,
    "start_time": "2024-09-23T17:20:27.199Z"
   },
   {
    "duration": 257,
    "start_time": "2024-09-23T17:20:27.307Z"
   },
   {
    "duration": 123,
    "start_time": "2024-09-23T17:20:27.566Z"
   },
   {
    "duration": 9,
    "start_time": "2024-09-23T17:20:27.691Z"
   },
   {
    "duration": 207,
    "start_time": "2024-09-23T17:20:27.702Z"
   },
   {
    "duration": 132,
    "start_time": "2024-09-23T17:20:27.911Z"
   },
   {
    "duration": 10,
    "start_time": "2024-09-23T17:20:28.044Z"
   },
   {
    "duration": 264,
    "start_time": "2024-09-23T17:20:28.056Z"
   },
   {
    "duration": 134,
    "start_time": "2024-09-23T17:20:28.321Z"
   },
   {
    "duration": 11,
    "start_time": "2024-09-23T17:20:28.457Z"
   },
   {
    "duration": 50,
    "start_time": "2024-09-23T17:20:28.476Z"
   },
   {
    "duration": 127,
    "start_time": "2024-09-23T17:20:28.528Z"
   },
   {
    "duration": 6,
    "start_time": "2024-09-23T17:20:28.656Z"
   },
   {
    "duration": 13,
    "start_time": "2024-09-23T17:20:28.683Z"
   },
   {
    "duration": 14,
    "start_time": "2024-09-23T17:20:28.698Z"
   },
   {
    "duration": 11,
    "start_time": "2024-09-23T17:20:28.713Z"
   },
   {
    "duration": 369,
    "start_time": "2024-09-23T17:20:28.725Z"
   },
   {
    "duration": 321,
    "start_time": "2024-09-23T17:20:29.096Z"
   },
   {
    "duration": 18,
    "start_time": "2024-09-23T17:20:29.419Z"
   },
   {
    "duration": 2,
    "start_time": "2024-09-23T17:20:29.439Z"
   },
   {
    "duration": 2,
    "start_time": "2024-09-23T17:20:29.443Z"
   },
   {
    "duration": 2,
    "start_time": "2024-09-23T17:20:29.447Z"
   },
   {
    "duration": 10,
    "start_time": "2024-09-23T17:20:29.450Z"
   },
   {
    "duration": 10,
    "start_time": "2024-09-23T17:20:29.480Z"
   },
   {
    "duration": 42,
    "start_time": "2024-09-23T17:20:29.491Z"
   },
   {
    "duration": 253,
    "start_time": "2024-09-23T17:20:29.535Z"
   },
   {
    "duration": 2,
    "start_time": "2024-09-23T17:20:29.790Z"
   },
   {
    "duration": 11,
    "start_time": "2024-09-23T17:20:29.794Z"
   },
   {
    "duration": 12,
    "start_time": "2024-09-23T17:20:29.808Z"
   },
   {
    "duration": 112,
    "start_time": "2024-09-23T17:20:29.822Z"
   },
   {
    "duration": 0,
    "start_time": "2024-09-23T17:20:29.935Z"
   },
   {
    "duration": 0,
    "start_time": "2024-09-23T17:20:29.936Z"
   },
   {
    "duration": 0,
    "start_time": "2024-09-23T17:20:29.937Z"
   },
   {
    "duration": 0,
    "start_time": "2024-09-23T17:20:29.938Z"
   },
   {
    "duration": 0,
    "start_time": "2024-09-23T17:20:29.938Z"
   },
   {
    "duration": 49,
    "start_time": "2024-09-23T17:45:46.471Z"
   },
   {
    "duration": 7,
    "start_time": "2024-09-23T17:45:53.306Z"
   },
   {
    "duration": 1163,
    "start_time": "2024-09-23T17:45:59.210Z"
   },
   {
    "duration": 75,
    "start_time": "2024-09-23T17:46:00.374Z"
   },
   {
    "duration": 2,
    "start_time": "2024-09-23T17:46:00.451Z"
   },
   {
    "duration": 8,
    "start_time": "2024-09-23T17:46:00.455Z"
   },
   {
    "duration": 87,
    "start_time": "2024-09-23T17:46:00.465Z"
   },
   {
    "duration": 3,
    "start_time": "2024-09-23T17:46:00.554Z"
   },
   {
    "duration": 22,
    "start_time": "2024-09-23T17:46:00.558Z"
   },
   {
    "duration": 8,
    "start_time": "2024-09-23T17:46:00.582Z"
   },
   {
    "duration": 13,
    "start_time": "2024-09-23T17:46:00.591Z"
   },
   {
    "duration": 17,
    "start_time": "2024-09-23T17:46:00.606Z"
   },
   {
    "duration": 44,
    "start_time": "2024-09-23T17:46:00.625Z"
   },
   {
    "duration": 237,
    "start_time": "2024-09-23T17:46:00.671Z"
   },
   {
    "duration": 105,
    "start_time": "2024-09-23T17:46:00.910Z"
   },
   {
    "duration": 259,
    "start_time": "2024-09-23T17:46:01.018Z"
   },
   {
    "duration": 118,
    "start_time": "2024-09-23T17:46:01.278Z"
   },
   {
    "duration": 11,
    "start_time": "2024-09-23T17:46:01.398Z"
   },
   {
    "duration": 230,
    "start_time": "2024-09-23T17:46:01.411Z"
   },
   {
    "duration": 146,
    "start_time": "2024-09-23T17:46:01.643Z"
   },
   {
    "duration": 13,
    "start_time": "2024-09-23T17:46:01.790Z"
   },
   {
    "duration": 249,
    "start_time": "2024-09-23T17:46:01.805Z"
   },
   {
    "duration": 142,
    "start_time": "2024-09-23T17:46:02.056Z"
   },
   {
    "duration": 13,
    "start_time": "2024-09-23T17:46:02.201Z"
   },
   {
    "duration": 36,
    "start_time": "2024-09-23T17:46:02.217Z"
   },
   {
    "duration": 80,
    "start_time": "2024-09-23T17:46:02.255Z"
   },
   {
    "duration": 141,
    "start_time": "2024-09-23T17:46:02.338Z"
   },
   {
    "duration": 6,
    "start_time": "2024-09-23T17:46:02.481Z"
   },
   {
    "duration": 30,
    "start_time": "2024-09-23T17:46:02.489Z"
   },
   {
    "duration": 52,
    "start_time": "2024-09-23T17:46:02.521Z"
   },
   {
    "duration": 36,
    "start_time": "2024-09-23T17:46:02.574Z"
   },
   {
    "duration": 403,
    "start_time": "2024-09-23T17:46:02.612Z"
   },
   {
    "duration": 331,
    "start_time": "2024-09-23T17:46:03.016Z"
   },
   {
    "duration": 23,
    "start_time": "2024-09-23T17:46:03.349Z"
   },
   {
    "duration": 10,
    "start_time": "2024-09-23T17:46:03.373Z"
   },
   {
    "duration": 18,
    "start_time": "2024-09-23T17:46:03.385Z"
   },
   {
    "duration": 24,
    "start_time": "2024-09-23T17:46:03.405Z"
   },
   {
    "duration": 34,
    "start_time": "2024-09-23T17:46:03.431Z"
   },
   {
    "duration": 15,
    "start_time": "2024-09-23T17:46:03.466Z"
   },
   {
    "duration": 53,
    "start_time": "2024-09-23T17:46:03.482Z"
   },
   {
    "duration": 229,
    "start_time": "2024-09-23T17:46:03.537Z"
   },
   {
    "duration": 3,
    "start_time": "2024-09-23T17:46:03.770Z"
   },
   {
    "duration": 17,
    "start_time": "2024-09-23T17:46:03.782Z"
   },
   {
    "duration": 29,
    "start_time": "2024-09-23T17:46:03.802Z"
   },
   {
    "duration": 110,
    "start_time": "2024-09-23T17:46:03.833Z"
   },
   {
    "duration": 0,
    "start_time": "2024-09-23T17:46:03.945Z"
   },
   {
    "duration": 0,
    "start_time": "2024-09-23T17:46:03.946Z"
   },
   {
    "duration": 0,
    "start_time": "2024-09-23T17:46:03.947Z"
   },
   {
    "duration": 0,
    "start_time": "2024-09-23T17:46:03.948Z"
   },
   {
    "duration": 0,
    "start_time": "2024-09-23T17:46:03.950Z"
   },
   {
    "duration": 9,
    "start_time": "2024-09-23T17:52:24.699Z"
   },
   {
    "duration": 2,
    "start_time": "2024-09-23T17:52:55.050Z"
   },
   {
    "duration": 7,
    "start_time": "2024-09-23T17:52:57.785Z"
   },
   {
    "duration": 8,
    "start_time": "2024-09-23T17:53:23.884Z"
   },
   {
    "duration": 5,
    "start_time": "2024-09-23T17:53:39.251Z"
   },
   {
    "duration": 6,
    "start_time": "2024-09-23T17:54:29.716Z"
   },
   {
    "duration": 1231,
    "start_time": "2024-09-23T17:59:22.353Z"
   },
   {
    "duration": 75,
    "start_time": "2024-09-23T17:59:23.586Z"
   },
   {
    "duration": 3,
    "start_time": "2024-09-23T17:59:23.665Z"
   },
   {
    "duration": 6,
    "start_time": "2024-09-23T17:59:23.670Z"
   },
   {
    "duration": 93,
    "start_time": "2024-09-23T17:59:23.678Z"
   },
   {
    "duration": 5,
    "start_time": "2024-09-23T17:59:23.773Z"
   },
   {
    "duration": 28,
    "start_time": "2024-09-23T17:59:23.780Z"
   },
   {
    "duration": 9,
    "start_time": "2024-09-23T17:59:23.810Z"
   },
   {
    "duration": 50,
    "start_time": "2024-09-23T17:59:23.820Z"
   },
   {
    "duration": 16,
    "start_time": "2024-09-23T17:59:23.872Z"
   },
   {
    "duration": 9,
    "start_time": "2024-09-23T17:59:23.889Z"
   },
   {
    "duration": 249,
    "start_time": "2024-09-23T17:59:23.900Z"
   },
   {
    "duration": 98,
    "start_time": "2024-09-23T17:59:24.151Z"
   },
   {
    "duration": 255,
    "start_time": "2024-09-23T17:59:24.264Z"
   },
   {
    "duration": 121,
    "start_time": "2024-09-23T17:59:24.521Z"
   },
   {
    "duration": 22,
    "start_time": "2024-09-23T17:59:24.643Z"
   },
   {
    "duration": 232,
    "start_time": "2024-09-23T17:59:24.667Z"
   },
   {
    "duration": 140,
    "start_time": "2024-09-23T17:59:24.902Z"
   },
   {
    "duration": 27,
    "start_time": "2024-09-23T17:59:25.046Z"
   },
   {
    "duration": 260,
    "start_time": "2024-09-23T17:59:25.075Z"
   },
   {
    "duration": 122,
    "start_time": "2024-09-23T17:59:25.337Z"
   },
   {
    "duration": 12,
    "start_time": "2024-09-23T17:59:25.466Z"
   },
   {
    "duration": 13,
    "start_time": "2024-09-23T17:59:25.480Z"
   },
   {
    "duration": 101,
    "start_time": "2024-09-23T17:59:25.496Z"
   },
   {
    "duration": 145,
    "start_time": "2024-09-23T17:59:25.599Z"
   },
   {
    "duration": 7,
    "start_time": "2024-09-23T17:59:25.746Z"
   },
   {
    "duration": 15,
    "start_time": "2024-09-23T17:59:25.755Z"
   },
   {
    "duration": 17,
    "start_time": "2024-09-23T17:59:25.771Z"
   },
   {
    "duration": 14,
    "start_time": "2024-09-23T17:59:25.791Z"
   },
   {
    "duration": 448,
    "start_time": "2024-09-23T17:59:25.807Z"
   },
   {
    "duration": 347,
    "start_time": "2024-09-23T17:59:26.258Z"
   },
   {
    "duration": 19,
    "start_time": "2024-09-23T17:59:26.607Z"
   },
   {
    "duration": 3,
    "start_time": "2024-09-23T17:59:26.628Z"
   },
   {
    "duration": 19,
    "start_time": "2024-09-23T17:59:26.633Z"
   },
   {
    "duration": 3,
    "start_time": "2024-09-23T17:59:26.665Z"
   },
   {
    "duration": 4,
    "start_time": "2024-09-23T17:59:26.670Z"
   },
   {
    "duration": 8,
    "start_time": "2024-09-23T17:59:26.675Z"
   },
   {
    "duration": 45,
    "start_time": "2024-09-23T17:59:26.684Z"
   },
   {
    "duration": 329,
    "start_time": "2024-09-23T17:59:26.731Z"
   },
   {
    "duration": 3,
    "start_time": "2024-09-23T17:59:27.065Z"
   },
   {
    "duration": 44,
    "start_time": "2024-09-23T17:59:27.072Z"
   },
   {
    "duration": 15,
    "start_time": "2024-09-23T17:59:27.118Z"
   },
   {
    "duration": 5,
    "start_time": "2024-09-23T17:59:27.136Z"
   },
   {
    "duration": 29,
    "start_time": "2024-09-23T17:59:27.143Z"
   },
   {
    "duration": 9,
    "start_time": "2024-09-23T17:59:27.174Z"
   },
   {
    "duration": 14,
    "start_time": "2024-09-23T17:59:27.185Z"
   },
   {
    "duration": 8,
    "start_time": "2024-09-23T17:59:27.201Z"
   },
   {
    "duration": 23,
    "start_time": "2024-09-23T17:59:27.211Z"
   },
   {
    "duration": 16,
    "start_time": "2024-09-23T17:59:27.236Z"
   },
   {
    "duration": 52,
    "start_time": "2024-09-24T01:34:34.744Z"
   },
   {
    "duration": 1356,
    "start_time": "2024-09-24T01:34:40.557Z"
   },
   {
    "duration": 307,
    "start_time": "2024-09-24T01:34:41.915Z"
   },
   {
    "duration": 2,
    "start_time": "2024-09-24T01:34:42.224Z"
   },
   {
    "duration": 14,
    "start_time": "2024-09-24T01:34:42.228Z"
   },
   {
    "duration": 56,
    "start_time": "2024-09-24T01:34:42.244Z"
   },
   {
    "duration": 3,
    "start_time": "2024-09-24T01:34:42.302Z"
   },
   {
    "duration": 15,
    "start_time": "2024-09-24T01:34:42.306Z"
   },
   {
    "duration": 31,
    "start_time": "2024-09-24T01:34:42.323Z"
   },
   {
    "duration": 15,
    "start_time": "2024-09-24T01:34:42.356Z"
   },
   {
    "duration": 17,
    "start_time": "2024-09-24T01:34:42.374Z"
   },
   {
    "duration": 8,
    "start_time": "2024-09-24T01:34:42.392Z"
   },
   {
    "duration": 243,
    "start_time": "2024-09-24T01:34:42.401Z"
   },
   {
    "duration": 101,
    "start_time": "2024-09-24T01:34:42.645Z"
   },
   {
    "duration": 260,
    "start_time": "2024-09-24T01:34:42.755Z"
   },
   {
    "duration": 112,
    "start_time": "2024-09-24T01:34:43.016Z"
   },
   {
    "duration": 7,
    "start_time": "2024-09-24T01:34:43.130Z"
   },
   {
    "duration": 231,
    "start_time": "2024-09-24T01:34:43.138Z"
   },
   {
    "duration": 129,
    "start_time": "2024-09-24T01:34:43.372Z"
   },
   {
    "duration": 14,
    "start_time": "2024-09-24T01:34:43.503Z"
   },
   {
    "duration": 228,
    "start_time": "2024-09-24T01:34:43.519Z"
   },
   {
    "duration": 134,
    "start_time": "2024-09-24T01:34:43.749Z"
   },
   {
    "duration": 12,
    "start_time": "2024-09-24T01:34:43.886Z"
   },
   {
    "duration": 12,
    "start_time": "2024-09-24T01:34:43.900Z"
   },
   {
    "duration": 72,
    "start_time": "2024-09-24T01:34:43.914Z"
   },
   {
    "duration": 121,
    "start_time": "2024-09-24T01:34:43.988Z"
   },
   {
    "duration": 8,
    "start_time": "2024-09-24T01:34:44.111Z"
   },
   {
    "duration": 33,
    "start_time": "2024-09-24T01:34:44.121Z"
   },
   {
    "duration": 16,
    "start_time": "2024-09-24T01:34:44.159Z"
   },
   {
    "duration": 15,
    "start_time": "2024-09-24T01:34:44.177Z"
   },
   {
    "duration": 390,
    "start_time": "2024-09-24T01:34:44.194Z"
   },
   {
    "duration": 330,
    "start_time": "2024-09-24T01:34:44.586Z"
   },
   {
    "duration": 17,
    "start_time": "2024-09-24T01:34:44.917Z"
   },
   {
    "duration": 2,
    "start_time": "2024-09-24T01:34:44.935Z"
   },
   {
    "duration": 2,
    "start_time": "2024-09-24T01:34:44.953Z"
   },
   {
    "duration": 2,
    "start_time": "2024-09-24T01:34:44.957Z"
   },
   {
    "duration": 14,
    "start_time": "2024-09-24T01:34:44.961Z"
   },
   {
    "duration": 19,
    "start_time": "2024-09-24T01:34:44.978Z"
   },
   {
    "duration": 50,
    "start_time": "2024-09-24T01:34:44.999Z"
   },
   {
    "duration": 224,
    "start_time": "2024-09-24T01:34:45.051Z"
   },
   {
    "duration": 3,
    "start_time": "2024-09-24T01:34:45.277Z"
   },
   {
    "duration": 39,
    "start_time": "2024-09-24T01:34:45.282Z"
   },
   {
    "duration": 40,
    "start_time": "2024-09-24T01:34:45.322Z"
   },
   {
    "duration": 29,
    "start_time": "2024-09-24T01:34:45.364Z"
   },
   {
    "duration": 31,
    "start_time": "2024-09-24T01:34:45.395Z"
   },
   {
    "duration": 14,
    "start_time": "2024-09-24T01:34:45.429Z"
   },
   {
    "duration": 40,
    "start_time": "2024-09-24T01:34:45.445Z"
   },
   {
    "duration": 29,
    "start_time": "2024-09-24T01:34:45.487Z"
   },
   {
    "duration": 24,
    "start_time": "2024-09-24T01:34:45.518Z"
   },
   {
    "duration": 6,
    "start_time": "2024-09-24T01:34:45.543Z"
   },
   {
    "duration": 9,
    "start_time": "2024-09-24T01:37:22.092Z"
   },
   {
    "duration": 9,
    "start_time": "2024-09-24T01:38:04.085Z"
   },
   {
    "duration": 8,
    "start_time": "2024-09-24T01:38:41.305Z"
   },
   {
    "duration": 10,
    "start_time": "2024-09-24T01:38:52.939Z"
   },
   {
    "duration": 10,
    "start_time": "2024-09-24T01:39:10.793Z"
   },
   {
    "duration": 12,
    "start_time": "2024-09-24T01:39:14.553Z"
   },
   {
    "duration": 8,
    "start_time": "2024-09-24T01:39:26.967Z"
   },
   {
    "duration": 242,
    "start_time": "2024-09-24T01:46:05.176Z"
   },
   {
    "duration": 198,
    "start_time": "2024-09-24T01:47:05.002Z"
   },
   {
    "duration": 71,
    "start_time": "2024-09-24T01:47:27.461Z"
   },
   {
    "duration": 186,
    "start_time": "2024-09-24T01:47:33.455Z"
   },
   {
    "duration": 1129,
    "start_time": "2024-09-24T01:49:06.346Z"
   },
   {
    "duration": 1185,
    "start_time": "2024-09-24T01:49:26.649Z"
   },
   {
    "duration": 1177,
    "start_time": "2024-09-24T01:49:32.194Z"
   },
   {
    "duration": 1186,
    "start_time": "2024-09-24T01:50:08.046Z"
   },
   {
    "duration": 1223,
    "start_time": "2024-09-24T01:50:19.823Z"
   },
   {
    "duration": 86,
    "start_time": "2024-09-24T01:50:21.048Z"
   },
   {
    "duration": 3,
    "start_time": "2024-09-24T01:50:21.137Z"
   },
   {
    "duration": 6,
    "start_time": "2024-09-24T01:50:21.141Z"
   },
   {
    "duration": 53,
    "start_time": "2024-09-24T01:50:21.149Z"
   },
   {
    "duration": 2,
    "start_time": "2024-09-24T01:50:21.204Z"
   },
   {
    "duration": 24,
    "start_time": "2024-09-24T01:50:21.207Z"
   },
   {
    "duration": 9,
    "start_time": "2024-09-24T01:50:21.252Z"
   },
   {
    "duration": 23,
    "start_time": "2024-09-24T01:50:21.263Z"
   },
   {
    "duration": 14,
    "start_time": "2024-09-24T01:50:21.287Z"
   },
   {
    "duration": 8,
    "start_time": "2024-09-24T01:50:21.302Z"
   },
   {
    "duration": 202,
    "start_time": "2024-09-24T01:50:21.311Z"
   },
   {
    "duration": 109,
    "start_time": "2024-09-24T01:50:21.514Z"
   },
   {
    "duration": 253,
    "start_time": "2024-09-24T01:50:21.626Z"
   },
   {
    "duration": 115,
    "start_time": "2024-09-24T01:50:21.881Z"
   },
   {
    "duration": 10,
    "start_time": "2024-09-24T01:50:21.998Z"
   },
   {
    "duration": 225,
    "start_time": "2024-09-24T01:50:22.009Z"
   },
   {
    "duration": 140,
    "start_time": "2024-09-24T01:50:22.236Z"
   },
   {
    "duration": 13,
    "start_time": "2024-09-24T01:50:22.378Z"
   },
   {
    "duration": 243,
    "start_time": "2024-09-24T01:50:22.392Z"
   },
   {
    "duration": 18,
    "start_time": "2024-09-24T01:50:22.637Z"
   },
   {
    "duration": 16,
    "start_time": "2024-09-24T01:50:22.657Z"
   },
   {
    "duration": 42,
    "start_time": "2024-09-24T01:50:22.675Z"
   },
   {
    "duration": 64,
    "start_time": "2024-09-24T01:50:22.719Z"
   },
   {
    "duration": 9,
    "start_time": "2024-09-24T01:50:22.786Z"
   },
   {
    "duration": 13,
    "start_time": "2024-09-24T01:50:22.796Z"
   },
   {
    "duration": 13,
    "start_time": "2024-09-24T01:50:22.810Z"
   },
   {
    "duration": 40,
    "start_time": "2024-09-24T01:50:22.824Z"
   },
   {
    "duration": 449,
    "start_time": "2024-09-24T01:50:22.866Z"
   },
   {
    "duration": 358,
    "start_time": "2024-09-24T01:50:23.317Z"
   },
   {
    "duration": 22,
    "start_time": "2024-09-24T01:50:23.677Z"
   },
   {
    "duration": 3,
    "start_time": "2024-09-24T01:50:23.701Z"
   },
   {
    "duration": 11,
    "start_time": "2024-09-24T01:50:23.706Z"
   },
   {
    "duration": 3,
    "start_time": "2024-09-24T01:50:23.718Z"
   },
   {
    "duration": 5,
    "start_time": "2024-09-24T01:50:23.722Z"
   },
   {
    "duration": 26,
    "start_time": "2024-09-24T01:50:23.728Z"
   },
   {
    "duration": 107,
    "start_time": "2024-09-24T01:50:23.756Z"
   },
   {
    "duration": 430,
    "start_time": "2024-09-24T01:50:23.866Z"
   },
   {
    "duration": 56,
    "start_time": "2024-09-24T01:50:24.298Z"
   },
   {
    "duration": 43,
    "start_time": "2024-09-24T01:50:24.356Z"
   },
   {
    "duration": 50,
    "start_time": "2024-09-24T01:50:24.403Z"
   },
   {
    "duration": 3,
    "start_time": "2024-09-24T01:50:24.455Z"
   },
   {
    "duration": 9,
    "start_time": "2024-09-24T01:50:24.460Z"
   },
   {
    "duration": 6,
    "start_time": "2024-09-24T01:50:24.471Z"
   },
   {
    "duration": 6,
    "start_time": "2024-09-24T01:50:24.479Z"
   },
   {
    "duration": 3,
    "start_time": "2024-09-24T01:50:24.486Z"
   },
   {
    "duration": 62,
    "start_time": "2024-09-24T01:50:24.491Z"
   },
   {
    "duration": 9,
    "start_time": "2024-09-24T01:50:24.556Z"
   },
   {
    "duration": 1205,
    "start_time": "2024-09-24T01:50:33.749Z"
   },
   {
    "duration": 1079,
    "start_time": "2024-09-24T01:51:03.431Z"
   },
   {
    "duration": 1184,
    "start_time": "2024-09-24T01:51:19.366Z"
   },
   {
    "duration": 16,
    "start_time": "2024-09-24T01:51:28.267Z"
   },
   {
    "duration": 16,
    "start_time": "2024-09-24T01:52:03.875Z"
   },
   {
    "duration": 21,
    "start_time": "2024-09-24T01:52:13.434Z"
   },
   {
    "duration": 6,
    "start_time": "2024-09-24T01:52:22.964Z"
   },
   {
    "duration": 949,
    "start_time": "2024-09-24T01:52:41.405Z"
   },
   {
    "duration": 6,
    "start_time": "2024-09-24T01:52:52.632Z"
   },
   {
    "duration": 367,
    "start_time": "2024-09-24T01:53:00.796Z"
   },
   {
    "duration": 351,
    "start_time": "2024-09-24T01:53:04.520Z"
   },
   {
    "duration": 19,
    "start_time": "2024-09-24T01:53:07.526Z"
   },
   {
    "duration": 24,
    "start_time": "2024-09-24T01:53:16.164Z"
   },
   {
    "duration": 20,
    "start_time": "2024-09-24T01:53:34.106Z"
   },
   {
    "duration": 16,
    "start_time": "2024-09-24T01:54:26.451Z"
   },
   {
    "duration": 13,
    "start_time": "2024-09-24T01:56:16.336Z"
   },
   {
    "duration": 11,
    "start_time": "2024-09-24T01:56:37.051Z"
   },
   {
    "duration": 10,
    "start_time": "2024-09-24T01:58:31.531Z"
   },
   {
    "duration": 18,
    "start_time": "2024-09-24T01:58:35.174Z"
   },
   {
    "duration": 1145,
    "start_time": "2024-09-24T01:59:12.494Z"
   },
   {
    "duration": 79,
    "start_time": "2024-09-24T01:59:13.641Z"
   },
   {
    "duration": 2,
    "start_time": "2024-09-24T01:59:13.722Z"
   },
   {
    "duration": 3,
    "start_time": "2024-09-24T01:59:13.726Z"
   },
   {
    "duration": 57,
    "start_time": "2024-09-24T01:59:13.731Z"
   },
   {
    "duration": 3,
    "start_time": "2024-09-24T01:59:13.790Z"
   },
   {
    "duration": 19,
    "start_time": "2024-09-24T01:59:13.794Z"
   },
   {
    "duration": 8,
    "start_time": "2024-09-24T01:59:13.814Z"
   },
   {
    "duration": 40,
    "start_time": "2024-09-24T01:59:13.823Z"
   },
   {
    "duration": 16,
    "start_time": "2024-09-24T01:59:13.865Z"
   },
   {
    "duration": 9,
    "start_time": "2024-09-24T01:59:13.883Z"
   },
   {
    "duration": 236,
    "start_time": "2024-09-24T01:59:13.894Z"
   },
   {
    "duration": 102,
    "start_time": "2024-09-24T01:59:14.131Z"
   },
   {
    "duration": 278,
    "start_time": "2024-09-24T01:59:14.238Z"
   },
   {
    "duration": 105,
    "start_time": "2024-09-24T01:59:14.517Z"
   },
   {
    "duration": 19,
    "start_time": "2024-09-24T01:59:14.624Z"
   },
   {
    "duration": 243,
    "start_time": "2024-09-24T01:59:14.654Z"
   },
   {
    "duration": 131,
    "start_time": "2024-09-24T01:59:14.899Z"
   },
   {
    "duration": 25,
    "start_time": "2024-09-24T01:59:15.032Z"
   },
   {
    "duration": 235,
    "start_time": "2024-09-24T01:59:15.059Z"
   },
   {
    "duration": 13,
    "start_time": "2024-09-24T01:59:15.296Z"
   },
   {
    "duration": 38,
    "start_time": "2024-09-24T01:59:15.311Z"
   },
   {
    "duration": 47,
    "start_time": "2024-09-24T01:59:15.351Z"
   },
   {
    "duration": 55,
    "start_time": "2024-09-24T01:59:15.400Z"
   },
   {
    "duration": 7,
    "start_time": "2024-09-24T01:59:15.457Z"
   },
   {
    "duration": 15,
    "start_time": "2024-09-24T01:59:15.466Z"
   },
   {
    "duration": 17,
    "start_time": "2024-09-24T01:59:15.482Z"
   },
   {
    "duration": 15,
    "start_time": "2024-09-24T01:59:15.501Z"
   },
   {
    "duration": 506,
    "start_time": "2024-09-24T01:59:15.518Z"
   },
   {
    "duration": 359,
    "start_time": "2024-09-24T01:59:16.026Z"
   },
   {
    "duration": 23,
    "start_time": "2024-09-24T01:59:16.388Z"
   },
   {
    "duration": 2,
    "start_time": "2024-09-24T01:59:16.413Z"
   },
   {
    "duration": 12,
    "start_time": "2024-09-24T01:59:16.416Z"
   },
   {
    "duration": 6,
    "start_time": "2024-09-24T01:59:16.429Z"
   },
   {
    "duration": 16,
    "start_time": "2024-09-24T01:59:16.437Z"
   },
   {
    "duration": 5,
    "start_time": "2024-09-24T01:59:16.455Z"
   },
   {
    "duration": 50,
    "start_time": "2024-09-24T01:59:16.462Z"
   },
   {
    "duration": 227,
    "start_time": "2024-09-24T01:59:16.514Z"
   },
   {
    "duration": 11,
    "start_time": "2024-09-24T01:59:16.743Z"
   },
   {
    "duration": 12,
    "start_time": "2024-09-24T01:59:16.757Z"
   },
   {
    "duration": 12,
    "start_time": "2024-09-24T01:59:16.774Z"
   },
   {
    "duration": 15,
    "start_time": "2024-09-24T01:59:16.788Z"
   },
   {
    "duration": 14,
    "start_time": "2024-09-24T01:59:16.804Z"
   },
   {
    "duration": 8,
    "start_time": "2024-09-24T01:59:16.852Z"
   },
   {
    "duration": 9,
    "start_time": "2024-09-24T01:59:16.862Z"
   },
   {
    "duration": 6,
    "start_time": "2024-09-24T01:59:16.872Z"
   },
   {
    "duration": 3,
    "start_time": "2024-09-24T01:59:16.880Z"
   },
   {
    "duration": 12,
    "start_time": "2024-09-24T01:59:16.885Z"
   },
   {
    "duration": 6,
    "start_time": "2024-09-24T01:59:16.899Z"
   },
   {
    "duration": 7,
    "start_time": "2024-09-24T02:02:21.762Z"
   },
   {
    "duration": 5,
    "start_time": "2024-09-24T02:03:24.735Z"
   },
   {
    "duration": 6,
    "start_time": "2024-09-24T02:03:27.689Z"
   },
   {
    "duration": 7,
    "start_time": "2024-09-24T02:03:46.624Z"
   },
   {
    "duration": 5,
    "start_time": "2024-09-24T02:03:49.724Z"
   },
   {
    "duration": 107,
    "start_time": "2024-09-24T02:10:18.732Z"
   },
   {
    "duration": 10,
    "start_time": "2024-09-24T02:11:35.382Z"
   },
   {
    "duration": 12,
    "start_time": "2024-09-24T02:11:41.217Z"
   },
   {
    "duration": 9,
    "start_time": "2024-09-24T02:19:14.595Z"
   },
   {
    "duration": 12,
    "start_time": "2024-09-24T02:19:20.814Z"
   },
   {
    "duration": 10,
    "start_time": "2024-09-24T02:19:29.235Z"
   },
   {
    "duration": 10,
    "start_time": "2024-09-24T02:19:35.415Z"
   },
   {
    "duration": 13,
    "start_time": "2024-09-24T02:19:40.160Z"
   },
   {
    "duration": 9,
    "start_time": "2024-09-24T02:19:57.256Z"
   },
   {
    "duration": 13,
    "start_time": "2024-09-24T02:20:04.119Z"
   },
   {
    "duration": 9,
    "start_time": "2024-09-24T02:20:14.087Z"
   },
   {
    "duration": 11,
    "start_time": "2024-09-24T02:20:29.628Z"
   },
   {
    "duration": 15,
    "start_time": "2024-09-24T02:24:07.768Z"
   },
   {
    "duration": 114,
    "start_time": "2024-09-24T02:24:47.086Z"
   },
   {
    "duration": 9,
    "start_time": "2024-09-24T02:24:49.303Z"
   },
   {
    "duration": 3,
    "start_time": "2024-09-24T02:25:08.356Z"
   },
   {
    "duration": 11,
    "start_time": "2024-09-24T02:25:12.659Z"
   },
   {
    "duration": 8,
    "start_time": "2024-09-24T02:25:29.105Z"
   },
   {
    "duration": 13,
    "start_time": "2024-09-24T02:25:58.134Z"
   },
   {
    "duration": 12,
    "start_time": "2024-09-24T02:26:35.859Z"
   },
   {
    "duration": 10,
    "start_time": "2024-09-24T02:26:55.615Z"
   },
   {
    "duration": 10,
    "start_time": "2024-09-24T02:27:13.707Z"
   },
   {
    "duration": 12,
    "start_time": "2024-09-24T02:27:27.358Z"
   },
   {
    "duration": 22,
    "start_time": "2024-09-24T02:29:20.622Z"
   },
   {
    "duration": 7257,
    "start_time": "2024-09-24T02:30:03.259Z"
   },
   {
    "duration": 6358,
    "start_time": "2024-09-24T02:30:22.339Z"
   },
   {
    "duration": 11,
    "start_time": "2024-09-24T02:30:28.699Z"
   },
   {
    "duration": 10,
    "start_time": "2024-09-24T02:30:28.713Z"
   },
   {
    "duration": 30,
    "start_time": "2024-09-24T02:30:28.725Z"
   },
   {
    "duration": 14,
    "start_time": "2024-09-24T02:30:37.295Z"
   },
   {
    "duration": 115,
    "start_time": "2024-09-24T02:30:49.075Z"
   },
   {
    "duration": 10,
    "start_time": "2024-09-24T02:30:52.839Z"
   },
   {
    "duration": 11,
    "start_time": "2024-09-24T02:30:56.012Z"
   },
   {
    "duration": 9,
    "start_time": "2024-09-24T02:31:00.959Z"
   },
   {
    "duration": 6641,
    "start_time": "2024-09-24T02:31:12.348Z"
   },
   {
    "duration": 11,
    "start_time": "2024-09-24T02:31:18.991Z"
   },
   {
    "duration": 14,
    "start_time": "2024-09-24T02:31:21.289Z"
   },
   {
    "duration": 9,
    "start_time": "2024-09-24T02:31:27.117Z"
   },
   {
    "duration": 16,
    "start_time": "2024-09-24T02:31:33.961Z"
   },
   {
    "duration": 6865,
    "start_time": "2024-09-24T02:32:17.651Z"
   },
   {
    "duration": 15,
    "start_time": "2024-09-24T02:32:25.574Z"
   },
   {
    "duration": 12,
    "start_time": "2024-09-24T02:32:41.018Z"
   },
   {
    "duration": 9,
    "start_time": "2024-09-24T02:33:13.036Z"
   },
   {
    "duration": 11,
    "start_time": "2024-09-24T02:36:35.373Z"
   },
   {
    "duration": 8,
    "start_time": "2024-09-24T02:36:56.135Z"
   },
   {
    "duration": 10,
    "start_time": "2024-09-24T02:37:10.362Z"
   },
   {
    "duration": 8,
    "start_time": "2024-09-24T02:38:01.633Z"
   },
   {
    "duration": 10,
    "start_time": "2024-09-24T02:38:09.860Z"
   },
   {
    "duration": 14,
    "start_time": "2024-09-24T02:38:15.979Z"
   },
   {
    "duration": 13,
    "start_time": "2024-09-24T02:38:24.854Z"
   },
   {
    "duration": 11,
    "start_time": "2024-09-24T02:38:29.719Z"
   },
   {
    "duration": 22,
    "start_time": "2024-09-24T02:38:33.478Z"
   },
   {
    "duration": 16,
    "start_time": "2024-09-24T02:38:43.795Z"
   },
   {
    "duration": 17,
    "start_time": "2024-09-24T02:39:43.272Z"
   },
   {
    "duration": 1238,
    "start_time": "2024-09-24T10:05:01.951Z"
   },
   {
    "duration": 396,
    "start_time": "2024-09-24T10:05:03.191Z"
   },
   {
    "duration": 3,
    "start_time": "2024-09-24T10:05:03.589Z"
   },
   {
    "duration": 21,
    "start_time": "2024-09-24T10:05:03.593Z"
   },
   {
    "duration": 66,
    "start_time": "2024-09-24T10:05:03.617Z"
   },
   {
    "duration": 2,
    "start_time": "2024-09-24T10:05:03.684Z"
   },
   {
    "duration": 80,
    "start_time": "2024-09-24T10:05:03.688Z"
   },
   {
    "duration": 18,
    "start_time": "2024-09-24T10:05:03.770Z"
   },
   {
    "duration": 14,
    "start_time": "2024-09-24T10:05:03.790Z"
   },
   {
    "duration": 19,
    "start_time": "2024-09-24T10:05:03.806Z"
   },
   {
    "duration": 12,
    "start_time": "2024-09-24T10:05:03.827Z"
   },
   {
    "duration": 224,
    "start_time": "2024-09-24T10:05:03.840Z"
   },
   {
    "duration": 95,
    "start_time": "2024-09-24T10:05:04.066Z"
   },
   {
    "duration": 268,
    "start_time": "2024-09-24T10:05:04.163Z"
   },
   {
    "duration": 111,
    "start_time": "2024-09-24T10:05:04.433Z"
   },
   {
    "duration": 9,
    "start_time": "2024-09-24T10:05:04.546Z"
   },
   {
    "duration": 234,
    "start_time": "2024-09-24T10:05:04.556Z"
   },
   {
    "duration": 146,
    "start_time": "2024-09-24T10:05:04.791Z"
   },
   {
    "duration": 16,
    "start_time": "2024-09-24T10:05:04.939Z"
   },
   {
    "duration": 260,
    "start_time": "2024-09-24T10:05:04.957Z"
   },
   {
    "duration": 15,
    "start_time": "2024-09-24T10:05:05.220Z"
   },
   {
    "duration": 14,
    "start_time": "2024-09-24T10:05:05.236Z"
   },
   {
    "duration": 86,
    "start_time": "2024-09-24T10:05:05.251Z"
   },
   {
    "duration": 98,
    "start_time": "2024-09-24T10:05:05.339Z"
   },
   {
    "duration": 9,
    "start_time": "2024-09-24T10:05:05.439Z"
   },
   {
    "duration": 62,
    "start_time": "2024-09-24T10:05:05.450Z"
   },
   {
    "duration": 21,
    "start_time": "2024-09-24T10:05:05.515Z"
   },
   {
    "duration": 13,
    "start_time": "2024-09-24T10:05:05.538Z"
   },
   {
    "duration": 1357,
    "start_time": "2024-09-24T10:05:05.553Z"
   },
   {
    "duration": 397,
    "start_time": "2024-09-24T10:05:06.912Z"
   },
   {
    "duration": 30,
    "start_time": "2024-09-24T10:05:07.312Z"
   },
   {
    "duration": 40,
    "start_time": "2024-09-24T10:05:07.343Z"
   },
   {
    "duration": 5,
    "start_time": "2024-09-24T10:05:07.385Z"
   },
   {
    "duration": 20,
    "start_time": "2024-09-24T10:05:07.391Z"
   },
   {
    "duration": 8,
    "start_time": "2024-09-24T10:05:07.413Z"
   },
   {
    "duration": 5,
    "start_time": "2024-09-24T10:05:07.424Z"
   },
   {
    "duration": 53,
    "start_time": "2024-09-24T10:05:07.430Z"
   },
   {
    "duration": 244,
    "start_time": "2024-09-24T10:05:07.484Z"
   },
   {
    "duration": 3,
    "start_time": "2024-09-24T10:05:07.729Z"
   },
   {
    "duration": 47,
    "start_time": "2024-09-24T10:05:48.257Z"
   },
   {
    "duration": 1240,
    "start_time": "2024-09-24T10:06:08.594Z"
   },
   {
    "duration": 387,
    "start_time": "2024-09-24T10:06:09.836Z"
   },
   {
    "duration": 2,
    "start_time": "2024-09-24T10:06:10.225Z"
   },
   {
    "duration": 30,
    "start_time": "2024-09-24T10:06:10.229Z"
   },
   {
    "duration": 64,
    "start_time": "2024-09-24T10:06:10.261Z"
   },
   {
    "duration": 2,
    "start_time": "2024-09-24T10:06:10.327Z"
   },
   {
    "duration": 18,
    "start_time": "2024-09-24T10:06:10.331Z"
   },
   {
    "duration": 6,
    "start_time": "2024-09-24T10:06:10.350Z"
   },
   {
    "duration": 22,
    "start_time": "2024-09-24T10:06:10.357Z"
   },
   {
    "duration": 42,
    "start_time": "2024-09-24T10:06:10.381Z"
   },
   {
    "duration": 23,
    "start_time": "2024-09-24T10:06:10.425Z"
   },
   {
    "duration": 198,
    "start_time": "2024-09-24T10:06:10.450Z"
   },
   {
    "duration": 104,
    "start_time": "2024-09-24T10:06:10.650Z"
   },
   {
    "duration": 350,
    "start_time": "2024-09-24T10:06:10.756Z"
   },
   {
    "duration": 302,
    "start_time": "2024-09-24T10:06:11.108Z"
   },
   {
    "duration": 14,
    "start_time": "2024-09-24T10:06:11.413Z"
   },
   {
    "duration": 483,
    "start_time": "2024-09-24T10:06:11.429Z"
   },
   {
    "duration": 302,
    "start_time": "2024-09-24T10:06:11.915Z"
   },
   {
    "duration": 11,
    "start_time": "2024-09-24T10:06:12.220Z"
   },
   {
    "duration": 512,
    "start_time": "2024-09-24T10:06:12.233Z"
   },
   {
    "duration": 64,
    "start_time": "2024-09-24T10:06:12.747Z"
   },
   {
    "duration": 16,
    "start_time": "2024-09-24T10:06:12.814Z"
   },
   {
    "duration": 106,
    "start_time": "2024-09-24T10:06:12.832Z"
   },
   {
    "duration": 95,
    "start_time": "2024-09-24T10:06:12.940Z"
   },
   {
    "duration": 7,
    "start_time": "2024-09-24T10:06:13.036Z"
   },
   {
    "duration": 79,
    "start_time": "2024-09-24T10:06:13.044Z"
   },
   {
    "duration": 19,
    "start_time": "2024-09-24T10:06:13.125Z"
   },
   {
    "duration": 61,
    "start_time": "2024-09-24T10:06:13.148Z"
   },
   {
    "duration": 1034,
    "start_time": "2024-09-24T10:06:13.210Z"
   },
   {
    "duration": 430,
    "start_time": "2024-09-24T10:06:14.246Z"
   },
   {
    "duration": 28,
    "start_time": "2024-09-24T10:06:14.677Z"
   },
   {
    "duration": 4,
    "start_time": "2024-09-24T10:06:14.706Z"
   },
   {
    "duration": 16,
    "start_time": "2024-09-24T10:06:14.712Z"
   },
   {
    "duration": 26,
    "start_time": "2024-09-24T10:06:14.730Z"
   },
   {
    "duration": 33,
    "start_time": "2024-09-24T10:06:14.757Z"
   },
   {
    "duration": 20,
    "start_time": "2024-09-24T10:06:14.791Z"
   },
   {
    "duration": 56,
    "start_time": "2024-09-24T10:06:14.813Z"
   },
   {
    "duration": 225,
    "start_time": "2024-09-24T10:06:14.871Z"
   },
   {
    "duration": 8,
    "start_time": "2024-09-24T10:06:15.098Z"
   },
   {
    "duration": 1105,
    "start_time": "2024-09-24T10:08:02.939Z"
   },
   {
    "duration": 395,
    "start_time": "2024-09-24T10:08:04.045Z"
   },
   {
    "duration": 2,
    "start_time": "2024-09-24T10:08:04.442Z"
   },
   {
    "duration": 9,
    "start_time": "2024-09-24T10:08:04.446Z"
   },
   {
    "duration": 53,
    "start_time": "2024-09-24T10:08:04.457Z"
   },
   {
    "duration": 3,
    "start_time": "2024-09-24T10:08:04.513Z"
   },
   {
    "duration": 27,
    "start_time": "2024-09-24T10:08:04.518Z"
   },
   {
    "duration": 7,
    "start_time": "2024-09-24T10:08:04.547Z"
   },
   {
    "duration": 30,
    "start_time": "2024-09-24T10:08:04.555Z"
   },
   {
    "duration": 24,
    "start_time": "2024-09-24T10:08:04.587Z"
   },
   {
    "duration": 18,
    "start_time": "2024-09-24T10:08:04.613Z"
   },
   {
    "duration": 211,
    "start_time": "2024-09-24T10:08:04.633Z"
   },
   {
    "duration": 107,
    "start_time": "2024-09-24T10:08:04.846Z"
   },
   {
    "duration": 261,
    "start_time": "2024-09-24T10:08:04.956Z"
   },
   {
    "duration": 222,
    "start_time": "2024-09-24T10:08:05.219Z"
   },
   {
    "duration": 13,
    "start_time": "2024-09-24T10:08:05.446Z"
   },
   {
    "duration": 505,
    "start_time": "2024-09-24T10:08:05.508Z"
   },
   {
    "duration": 312,
    "start_time": "2024-09-24T10:08:06.017Z"
   },
   {
    "duration": 10,
    "start_time": "2024-09-24T10:08:06.330Z"
   },
   {
    "duration": 581,
    "start_time": "2024-09-24T10:08:06.341Z"
   },
   {
    "duration": 15,
    "start_time": "2024-09-24T10:08:06.924Z"
   },
   {
    "duration": 12,
    "start_time": "2024-09-24T10:08:06.940Z"
   },
   {
    "duration": 94,
    "start_time": "2024-09-24T10:08:06.953Z"
   },
   {
    "duration": 40,
    "start_time": "2024-09-24T10:08:07.104Z"
   },
   {
    "duration": 6,
    "start_time": "2024-09-24T10:08:07.145Z"
   },
   {
    "duration": 19,
    "start_time": "2024-09-24T10:08:07.205Z"
   },
   {
    "duration": 18,
    "start_time": "2024-09-24T10:08:07.227Z"
   },
   {
    "duration": 75,
    "start_time": "2024-09-24T10:08:07.246Z"
   },
   {
    "duration": 472,
    "start_time": "2024-09-24T10:08:07.324Z"
   },
   {
    "duration": 301,
    "start_time": "2024-09-24T10:08:07.798Z"
   },
   {
    "duration": 23,
    "start_time": "2024-09-24T10:08:08.104Z"
   },
   {
    "duration": 14,
    "start_time": "2024-09-24T10:08:08.129Z"
   },
   {
    "duration": 6,
    "start_time": "2024-09-24T10:08:08.144Z"
   },
   {
    "duration": 6,
    "start_time": "2024-09-24T10:08:08.151Z"
   },
   {
    "duration": 3,
    "start_time": "2024-09-24T10:08:08.158Z"
   },
   {
    "duration": 5,
    "start_time": "2024-09-24T10:08:08.162Z"
   },
   {
    "duration": 57,
    "start_time": "2024-09-24T10:08:08.168Z"
   },
   {
    "duration": 200,
    "start_time": "2024-09-24T10:08:08.226Z"
   },
   {
    "duration": 2,
    "start_time": "2024-09-24T10:08:08.428Z"
   },
   {
    "duration": 117,
    "start_time": "2024-09-24T10:08:08.431Z"
   },
   {
    "duration": 0,
    "start_time": "2024-09-24T10:08:08.549Z"
   },
   {
    "duration": 0,
    "start_time": "2024-09-24T10:08:08.550Z"
   },
   {
    "duration": 0,
    "start_time": "2024-09-24T10:08:08.552Z"
   },
   {
    "duration": 0,
    "start_time": "2024-09-24T10:08:08.552Z"
   },
   {
    "duration": 0,
    "start_time": "2024-09-24T10:08:08.553Z"
   },
   {
    "duration": 0,
    "start_time": "2024-09-24T10:08:08.554Z"
   },
   {
    "duration": 10,
    "start_time": "2024-09-24T10:08:25.456Z"
   },
   {
    "duration": 6,
    "start_time": "2024-09-24T10:08:28.439Z"
   },
   {
    "duration": 4,
    "start_time": "2024-09-24T10:08:30.377Z"
   },
   {
    "duration": 2,
    "start_time": "2024-09-24T10:08:32.256Z"
   },
   {
    "duration": 9,
    "start_time": "2024-09-24T10:08:32.657Z"
   },
   {
    "duration": 5,
    "start_time": "2024-09-24T10:08:40.088Z"
   },
   {
    "duration": 5,
    "start_time": "2024-09-24T10:10:23.564Z"
   },
   {
    "duration": 11,
    "start_time": "2024-09-24T10:10:41.829Z"
   },
   {
    "duration": 8,
    "start_time": "2024-09-24T10:10:45.917Z"
   },
   {
    "duration": 121,
    "start_time": "2024-09-24T10:11:51.783Z"
   },
   {
    "duration": 105,
    "start_time": "2024-09-24T10:12:43.961Z"
   },
   {
    "duration": 143,
    "start_time": "2024-09-24T10:13:11.235Z"
   },
   {
    "duration": 6,
    "start_time": "2024-09-24T10:16:54.508Z"
   },
   {
    "duration": 3,
    "start_time": "2024-09-24T10:16:55.991Z"
   },
   {
    "duration": 9,
    "start_time": "2024-09-24T10:16:56.388Z"
   },
   {
    "duration": 755,
    "start_time": "2024-09-24T10:16:57.142Z"
   },
   {
    "duration": 1123,
    "start_time": "2024-09-24T10:17:48.170Z"
   },
   {
    "duration": 81,
    "start_time": "2024-09-24T10:17:49.294Z"
   },
   {
    "duration": 2,
    "start_time": "2024-09-24T10:17:49.377Z"
   },
   {
    "duration": 63,
    "start_time": "2024-09-24T10:17:49.381Z"
   },
   {
    "duration": 45,
    "start_time": "2024-09-24T10:17:49.445Z"
   },
   {
    "duration": 2,
    "start_time": "2024-09-24T10:17:49.491Z"
   },
   {
    "duration": 20,
    "start_time": "2024-09-24T10:17:49.494Z"
   },
   {
    "duration": 9,
    "start_time": "2024-09-24T10:17:49.517Z"
   },
   {
    "duration": 14,
    "start_time": "2024-09-24T10:17:49.527Z"
   },
   {
    "duration": 13,
    "start_time": "2024-09-24T10:17:49.543Z"
   },
   {
    "duration": 6,
    "start_time": "2024-09-24T10:17:49.557Z"
   },
   {
    "duration": 177,
    "start_time": "2024-09-24T10:17:49.610Z"
   },
   {
    "duration": 95,
    "start_time": "2024-09-24T10:17:49.788Z"
   },
   {
    "duration": 247,
    "start_time": "2024-09-24T10:17:49.885Z"
   },
   {
    "duration": 111,
    "start_time": "2024-09-24T10:17:50.134Z"
   },
   {
    "duration": 10,
    "start_time": "2024-09-24T10:17:50.247Z"
   },
   {
    "duration": 261,
    "start_time": "2024-09-24T10:17:50.258Z"
   },
   {
    "duration": 124,
    "start_time": "2024-09-24T10:17:50.521Z"
   },
   {
    "duration": 10,
    "start_time": "2024-09-24T10:17:50.646Z"
   },
   {
    "duration": 197,
    "start_time": "2024-09-24T10:17:50.657Z"
   },
   {
    "duration": 9,
    "start_time": "2024-09-24T10:17:50.855Z"
   },
   {
    "duration": 10,
    "start_time": "2024-09-24T10:17:50.866Z"
   },
   {
    "duration": 55,
    "start_time": "2024-09-24T10:17:50.877Z"
   },
   {
    "duration": 28,
    "start_time": "2024-09-24T10:17:50.933Z"
   },
   {
    "duration": 5,
    "start_time": "2024-09-24T10:17:50.963Z"
   },
   {
    "duration": 9,
    "start_time": "2024-09-24T10:17:50.970Z"
   },
   {
    "duration": 28,
    "start_time": "2024-09-24T10:17:50.980Z"
   },
   {
    "duration": 16,
    "start_time": "2024-09-24T10:17:51.015Z"
   },
   {
    "duration": 713,
    "start_time": "2024-09-24T10:17:51.033Z"
   },
   {
    "duration": 505,
    "start_time": "2024-09-24T10:17:51.747Z"
   },
   {
    "duration": 19,
    "start_time": "2024-09-24T10:17:52.254Z"
   },
   {
    "duration": 2,
    "start_time": "2024-09-24T10:17:52.275Z"
   },
   {
    "duration": 7,
    "start_time": "2024-09-24T10:17:52.279Z"
   },
   {
    "duration": 21,
    "start_time": "2024-09-24T10:17:52.288Z"
   },
   {
    "duration": 25,
    "start_time": "2024-09-24T10:17:52.312Z"
   },
   {
    "duration": 10,
    "start_time": "2024-09-24T10:17:52.339Z"
   },
   {
    "duration": 44,
    "start_time": "2024-09-24T10:17:52.351Z"
   },
   {
    "duration": 238,
    "start_time": "2024-09-24T10:17:52.397Z"
   },
   {
    "duration": 2,
    "start_time": "2024-09-24T10:17:52.637Z"
   },
   {
    "duration": 25,
    "start_time": "2024-09-24T10:17:52.640Z"
   },
   {
    "duration": 5,
    "start_time": "2024-09-24T10:17:52.667Z"
   },
   {
    "duration": 9,
    "start_time": "2024-09-24T10:17:52.674Z"
   },
   {
    "duration": 33,
    "start_time": "2024-09-24T10:17:52.684Z"
   },
   {
    "duration": 13,
    "start_time": "2024-09-24T10:17:52.719Z"
   },
   {
    "duration": 5,
    "start_time": "2024-09-24T10:17:52.734Z"
   },
   {
    "duration": 12,
    "start_time": "2024-09-24T10:17:52.741Z"
   },
   {
    "duration": 19,
    "start_time": "2024-09-24T10:17:52.754Z"
   },
   {
    "duration": 17,
    "start_time": "2024-09-24T10:17:52.774Z"
   },
   {
    "duration": 27,
    "start_time": "2024-09-24T10:17:52.792Z"
   },
   {
    "duration": 21,
    "start_time": "2024-09-24T10:17:52.822Z"
   },
   {
    "duration": 12,
    "start_time": "2024-09-24T10:17:52.844Z"
   },
   {
    "duration": 13,
    "start_time": "2024-09-24T10:17:52.857Z"
   },
   {
    "duration": 33,
    "start_time": "2024-09-24T10:17:52.872Z"
   },
   {
    "duration": 10,
    "start_time": "2024-09-24T10:17:52.908Z"
   },
   {
    "duration": 20,
    "start_time": "2024-09-24T10:17:52.919Z"
   },
   {
    "duration": 5,
    "start_time": "2024-09-24T10:17:52.940Z"
   },
   {
    "duration": 4,
    "start_time": "2024-09-24T10:17:52.946Z"
   },
   {
    "duration": 10,
    "start_time": "2024-09-24T10:17:52.951Z"
   },
   {
    "duration": 825,
    "start_time": "2024-09-24T10:17:52.962Z"
   },
   {
    "duration": 3,
    "start_time": "2024-09-24T10:17:53.788Z"
   },
   {
    "duration": 31,
    "start_time": "2024-09-24T10:17:53.792Z"
   },
   {
    "duration": 20,
    "start_time": "2024-09-24T10:17:53.825Z"
   },
   {
    "duration": 10,
    "start_time": "2024-09-24T10:17:53.846Z"
   },
   {
    "duration": 10,
    "start_time": "2024-09-24T10:17:53.858Z"
   },
   {
    "duration": 923,
    "start_time": "2024-09-24T10:17:53.870Z"
   },
   {
    "duration": 1625,
    "start_time": "2025-06-24T06:07:44.045Z"
   },
   {
    "duration": 65,
    "start_time": "2025-06-24T06:07:45.673Z"
   },
   {
    "duration": 47,
    "start_time": "2025-06-24T06:07:45.740Z"
   },
   {
    "duration": 3,
    "start_time": "2025-06-24T06:07:45.789Z"
   },
   {
    "duration": 20,
    "start_time": "2025-06-24T06:07:45.793Z"
   },
   {
    "duration": 9,
    "start_time": "2025-06-24T06:07:45.815Z"
   },
   {
    "duration": 16,
    "start_time": "2025-06-24T06:07:45.826Z"
   },
   {
    "duration": 21,
    "start_time": "2025-06-24T06:07:45.872Z"
   },
   {
    "duration": 9,
    "start_time": "2025-06-24T06:07:45.894Z"
   },
   {
    "duration": 206,
    "start_time": "2025-06-24T06:07:45.906Z"
   },
   {
    "duration": 118,
    "start_time": "2025-06-24T06:07:46.114Z"
   },
   {
    "duration": 240,
    "start_time": "2025-06-24T06:07:46.234Z"
   },
   {
    "duration": 118,
    "start_time": "2025-06-24T06:07:46.476Z"
   },
   {
    "duration": 11,
    "start_time": "2025-06-24T06:07:46.595Z"
   },
   {
    "duration": 228,
    "start_time": "2025-06-24T06:07:46.608Z"
   },
   {
    "duration": 137,
    "start_time": "2025-06-24T06:07:46.837Z"
   },
   {
    "duration": 10,
    "start_time": "2025-06-24T06:07:46.976Z"
   },
   {
    "duration": 226,
    "start_time": "2025-06-24T06:07:46.987Z"
   },
   {
    "duration": 12,
    "start_time": "2025-06-24T06:07:47.215Z"
   },
   {
    "duration": 17,
    "start_time": "2025-06-24T06:07:47.229Z"
   },
   {
    "duration": 64,
    "start_time": "2025-06-24T06:07:47.272Z"
   },
   {
    "duration": 74,
    "start_time": "2025-06-24T06:07:47.338Z"
   },
   {
    "duration": 6,
    "start_time": "2025-06-24T06:07:47.415Z"
   },
   {
    "duration": 13,
    "start_time": "2025-06-24T06:07:47.423Z"
   },
   {
    "duration": 82,
    "start_time": "2025-06-24T06:07:47.438Z"
   },
   {
    "duration": 58,
    "start_time": "2025-06-24T06:07:47.522Z"
   },
   {
    "duration": 433,
    "start_time": "2025-06-24T06:07:47.582Z"
   },
   {
    "duration": 318,
    "start_time": "2025-06-24T06:07:48.020Z"
   },
   {
    "duration": 37,
    "start_time": "2025-06-24T06:07:48.340Z"
   },
   {
    "duration": 2,
    "start_time": "2025-06-24T06:07:48.379Z"
   },
   {
    "duration": 6,
    "start_time": "2025-06-24T06:07:48.382Z"
   },
   {
    "duration": 16,
    "start_time": "2025-06-24T06:07:48.389Z"
   },
   {
    "duration": 6,
    "start_time": "2025-06-24T06:07:48.406Z"
   },
   {
    "duration": 6,
    "start_time": "2025-06-24T06:07:48.414Z"
   },
   {
    "duration": 57,
    "start_time": "2025-06-24T06:07:48.422Z"
   },
   {
    "duration": 218,
    "start_time": "2025-06-24T06:07:48.481Z"
   },
   {
    "duration": 6,
    "start_time": "2025-06-24T06:07:48.701Z"
   },
   {
    "duration": 9,
    "start_time": "2025-06-24T06:07:48.709Z"
   },
   {
    "duration": 6,
    "start_time": "2025-06-24T06:07:48.720Z"
   },
   {
    "duration": 7,
    "start_time": "2025-06-24T06:07:48.728Z"
   },
   {
    "duration": 41,
    "start_time": "2025-06-24T06:07:48.736Z"
   },
   {
    "duration": 5,
    "start_time": "2025-06-24T06:07:48.779Z"
   },
   {
    "duration": 21,
    "start_time": "2025-06-24T06:07:48.786Z"
   },
   {
    "duration": 10,
    "start_time": "2025-06-24T06:07:48.809Z"
   },
   {
    "duration": 6,
    "start_time": "2025-06-24T06:07:48.821Z"
   },
   {
    "duration": 83,
    "start_time": "2025-06-24T06:07:48.829Z"
   },
   {
    "duration": 47,
    "start_time": "2025-06-24T06:07:48.914Z"
   },
   {
    "duration": 15,
    "start_time": "2025-06-24T06:07:48.963Z"
   },
   {
    "duration": 18,
    "start_time": "2025-06-24T06:07:48.980Z"
   },
   {
    "duration": 20,
    "start_time": "2025-06-24T06:07:49.001Z"
   },
   {
    "duration": 7,
    "start_time": "2025-06-24T06:07:49.023Z"
   },
   {
    "duration": 43,
    "start_time": "2025-06-24T06:07:49.032Z"
   },
   {
    "duration": 6,
    "start_time": "2025-06-24T06:07:49.077Z"
   },
   {
    "duration": 4,
    "start_time": "2025-06-24T06:07:49.085Z"
   },
   {
    "duration": 10,
    "start_time": "2025-06-24T06:07:49.091Z"
   },
   {
    "duration": 797,
    "start_time": "2025-06-24T06:07:49.103Z"
   },
   {
    "duration": 3,
    "start_time": "2025-06-24T06:07:49.902Z"
   },
   {
    "duration": 14,
    "start_time": "2025-06-24T06:07:49.907Z"
   },
   {
    "duration": 21,
    "start_time": "2025-06-24T06:07:49.923Z"
   },
   {
    "duration": 36,
    "start_time": "2025-06-24T06:07:49.946Z"
   },
   {
    "duration": 11,
    "start_time": "2025-06-24T06:07:49.984Z"
   },
   {
    "duration": 949,
    "start_time": "2025-06-24T06:07:49.997Z"
   }
  ],
  "kernelspec": {
   "display_name": "Python 3 (ipykernel)",
   "language": "python",
   "name": "python3"
  },
  "language_info": {
   "codemirror_mode": {
    "name": "ipython",
    "version": 3
   },
   "file_extension": ".py",
   "mimetype": "text/x-python",
   "name": "python",
   "nbconvert_exporter": "python",
   "pygments_lexer": "ipython3",
   "version": "3.9.5"
  },
  "toc": {
   "base_numbering": 1,
   "nav_menu": {},
   "number_sections": true,
   "sideBar": true,
   "skip_h1_title": true,
   "title_cell": "Table of Contents",
   "title_sidebar": "Contents",
   "toc_cell": false,
   "toc_position": {
    "height": "calc(100% - 180px)",
    "left": "10px",
    "top": "150px",
    "width": "165px"
   },
   "toc_section_display": true,
   "toc_window_display": true
  }
 },
 "nbformat": 4,
 "nbformat_minor": 5
}
