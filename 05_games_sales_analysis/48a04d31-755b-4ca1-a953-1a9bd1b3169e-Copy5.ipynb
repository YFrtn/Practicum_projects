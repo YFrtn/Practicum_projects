{
 "cells": [
  {
   "cell_type": "markdown",
   "metadata": {},
   "source": []
  },
  {
   "cell_type": "markdown",
   "metadata": {},
   "source": [
    "<div class=\"alert alert-info\"> <b>Комментарий студента:</b> Привет Эльвира. Рад знакомству! </div>"
   ]
  },
  {
   "cell_type": "markdown",
   "metadata": {},
   "source": [
    "# Проект для интернет-магазина «Стримчик» "
   ]
  },
  {
   "cell_type": "markdown",
   "metadata": {},
   "source": [
    "<div>\n",
    "<font size=\"4\", color = \"black\">Этот проект для интернет-магазина «Стримчик» посвящен анализу продаж компьютерных игр, основанному на исторических данных, чтобы выявить факторы, влияющие на успех игр. Исходя из данных о продажах, оценках пользователей и критиков, жанрах, платформах и возрастных рейтингах, нужно определить, какие игры потенциально станут популярными, чтобы планировать рекламные кампании на 2017 год. Важно учитывать изменения продаж по платформам, особенности каждого региона, и проверять гипотезы о том, как пользовательские оценки влияют на успех игр.</font>\n",
    "\n",
    "    \n",
    "<font size=\"3.7\">**Инструкция по выполнению проекта**</font>\n",
    "\n",
    "<font size=\"3\">**Шаг 1. Откройте файл с данными и изучите общую информацию**\n",
    "    \n",
    "- Путь к файлу: /datasets/games.csv. Скачать датасет\n",
    "    \n",
    "**Шаг 2. Подготовьте данные**\n",
    "    \n",
    "- Замените названия столбцов (приведите к нижнему регистру);\n",
    "- Преобразуйте данные в нужные типы. Опишите, в каких столбцах заменили тип данных и почему;\n",
    "    - Обработайте пропуски при необходимости: \n",
    "    - Объясните, почему заполнили пропуски определённым образом или почему не стали это делать;\n",
    "    - Опишите причины, которые могли привести к пропускам;\n",
    "    - Обратите внимание на аббревиатуру 'tbd' в столбце с оценкой пользователей. Отдельно разберите это значение и опишите, как его обработать;\n",
    "- Посчитайте суммарные продажи во всех регионах и запишите их в отдельный столбец.\n",
    "\n",
    "**Шаг 3. Проведите исследовательский анализ данных**\n",
    "    \n",
    "- Посмотрите, сколько игр выпускалось в разные годы. Важны ли данные за все периоды?\n",
    "- Посмотрите, как менялись продажи по платформам. Выберите платформы с наибольшими суммарными продажами и постройте распределение по годам. За какой характерный срок появляются новые и исчезают старые платформы?\n",
    "- Возьмите данные за соответствующий актуальный период. Актуальный период определите самостоятельно в результате исследования предыдущих вопросов. Основной фактор — эти данные помогут построить прогноз на 2017 год.\n",
    "- Не учитывайте в работе данные за предыдущие годы.\n",
    "- Какие платформы лидируют по продажам, растут или падают? Выберите несколько потенциально прибыльных платформ.\n",
    "- Постройте график «ящик с усами» по глобальным продажам игр в разбивке по платформам. Опишите результат.\n",
    "- Посмотрите, как влияют на продажи внутри одной популярной платформы отзывы пользователей и критиков. Постройте диаграмму рассеяния и посчитайте корреляцию между отзывами и продажами. Сформулируйте выводы.\n",
    "- Соотнесите выводы с продажами игр на других платформах.\n",
    "- Посмотрите на общее распределение игр по жанрам. Что можно сказать о самых прибыльных жанрах? Выделяются ли жанры с высокими и низкими продажами?\n",
    "    \n",
    "**Шаг 4. Составьте портрет пользователя каждого региона**\n",
    "- Определите для пользователя каждого региона (NA, EU, JP):\n",
    "- Самые популярные платформы (топ-5). Опишите различия в долях продаж.\n",
    "- Самые популярные жанры (топ-5). Поясните разницу.\n",
    "- Влияет ли рейтинг ESRB на продажи в отдельном регионе?\n",
    "\n",
    "**Шаг 5. Проверьте гипотезы**\n",
    "\n",
    "- Средние пользовательские рейтинги платформ Xbox One и PC одинаковые;\n",
    "- Средние пользовательские рейтинги жанров Action (англ. «действие», экшен-игры) и Sports (англ. «спортивные соревнования») разные.\n",
    "- Задайте самостоятельно пороговое значение alpha.\n",
    "\n",
    "    **Поясните:**\n",
    "- Как вы сформулировали нулевую и альтернативную гипотезы;\n",
    "- Какой критерий применили для проверки гипотез и почему.\n",
    "\n",
    "**Шаг 6. Напишите общий вывод**\n",
    "- Оформление: Выполните задание в Jupyter Notebook. Заполните программный код в ячейках типа code, текстовые пояснения — в ячейках типа markdown. Примените форматирование и заголовки.\n",
    "</font>\n",
    "\n",
    "\n",
    "_**Описание данных**_\n",
    "\n",
    "- _Name — название игры_\n",
    "- _Platform — платформа_\n",
    "- _Year_of_Release — год выпуска_\n",
    "- _Genre — жанр игры_\n",
    "- _NA_sales — продажи в Северной Америке (миллионы проданных копий)_\n",
    "- _EU_sales — продажи в Европе (миллионы проданных копий)_\n",
    "- _JP_sales — продажи в Японии (миллионы проданных копий)_\n",
    "- _Other_sales — продажи в других странах (миллионы проданных копий)_\n",
    "- _Critic_Score — оценка критиков (максимум 100)_\n",
    "- _User_Score — оценка пользователей (максимум 10)_\n",
    "- _Rating — рейтинг от организации ESRB (англ. Entertainment Software Rating Board). Эта ассоциация определяет рейтинг компьютерных игр и присваивает им подходящую возрастную категорию._\n",
    "\n",
    "    Данные за 2016 год могут быть неполными.\n",
    "        \n",
    "        \n",
    "   \n",
    "   ____________________________________________________________________________________________________________\n",
    "    \n",
    "    \n",
    "    \n",
    "    Проект для интернет-магазина «Стримчик»\n",
    "\n",
    "<div>\n",
    "<font size=\"4\", color = \"black\">Этот проект про анализ продаж игр для того, чтобы понять, какие игры могут стать популярными в 2017 году. Мне нужно будет посмотреть на исторические данные о продажах, оценках пользователей и критиков, платформах, жанрах и рейтингах ESRB, чтобы помочь магазину правильно распределить рекламный бюджет.</font>\n",
    "\n",
    "<font size=\"3\">Что я сделаю:\n",
    "\n",
    "**Подготовлю данные:**\n",
    "    \n",
    "- Приведу названия столбцов к нижнему регистру.\n",
    "- Преобразую типы данных там, где это нужно.\n",
    "- Разберусь с пропусками, особенно с 'tbd' в оценках пользователей.\n",
    "- Посчитаю суммарные продажи по всем регионам и добавлю новый столбец.\n",
    "    \n",
    "**Анализирую данные:**\n",
    "    \n",
    "- Посмотрю, сколько игр выходило каждый год и как менялись продажи по платформам.\n",
    "- Найду платформы с самыми большими продажами, разберусь, какие платформы исчезают, а какие появляются.\n",
    "- Построю графики по платформам и оценкам пользователей/критиков, чтобы увидеть влияние на продажи.\n",
    "- Посмотрю, как разные жанры влияют на продажи — найду самые прибыльные жанры.\n",
    "    \n",
    "**Составлю портрет пользователей для разных регионов (NA, EU, JP):**\n",
    "    \n",
    "- Определю топ-5 платформ и жанров для каждого региона.\n",
    "- Разберусь, влияет ли возрастной рейтинг ESRB на продажи в этих регионах.\n",
    "    \n",
    "**Проверю гипотезы:**\n",
    "    \n",
    "- Проверю, одинаковые ли рейтинги у игр на Xbox One и PC.\n",
    "- Посмотрю, различаются ли рейтинги жанров Action и Sports.\n",
    "- Выберу пороговое значение alpha и решу, какой тест использовать для проверки гипотез.\n",
    "    \n",
    "**Основная цель:** понять, какие игры и платформы стоит продвигать в 2017 году, и спланировать, как распределить рекламные бюджеты на основе данных.\n",
    "\n",
    "    \n",
    "_Данные, с которыми я буду работать:_\n",
    "\n",
    "_Названия игр, платформы, жанры, оценки пользователей и критиков, возрастные рейтинги, продажи в разных регионах._</font>\n",
    "    "
   ]
  },
  {
   "cell_type": "markdown",
   "metadata": {},
   "source": [
    "<div class=\"alert alert-warning\">\n",
    "<h2> Комментарий ревьюера 🤓<a class=\"tocSkip\"> </h2>\n",
    "    \n",
    "Введение можно улучшить, если в описании проекта мы выделим основные задачи и опишем их своими словами, особенно с позиции бизнес задачи, которая решается. Удалим инструкцию к проекту, поскольку она предназначена для студентов и не несет никакой информации для заказчиков. Так же можно добавить краткий план работы, основные этапы, которые мы должны выполнить и оставить описание данных."
   ]
  },
  {
   "cell_type": "markdown",
   "metadata": {},
   "source": [
    "## Шаг. Откройте файл с данными и изучите общую информацию\n",
    "Путь к файлу: /datasets/games.csv. Скачать датасет"
   ]
  },
  {
   "cell_type": "code",
   "execution_count": 1,
   "metadata": {},
   "outputs": [],
   "source": [
    "import pandas as pd\n",
    "import numpy as np\n",
    "import matplotlib.pyplot as plt\n",
    "import scipy.stats as st"
   ]
  },
  {
   "cell_type": "markdown",
   "metadata": {},
   "source": [
    "<div class=\"alert alert-success\">\n",
    "<h2> Комментарий ревьюера 😊<a class=\"tocSkip\"> </h2>\n",
    "\n",
    "Молодец, что загружаешь все библиотеки в начале проекта. Так сложней случайно удалить ячейку с загрузкой нужной библиотеки и сделать код не работающим. А получатель отчета сразу поймет, какие библиотеки ты используешь и какие ему нужно установить для запуска проекта.\n"
   ]
  },
  {
   "cell_type": "code",
   "execution_count": 2,
   "metadata": {},
   "outputs": [
    {
     "data": {
      "text/html": [
       "<div>\n",
       "<style scoped>\n",
       "    .dataframe tbody tr th:only-of-type {\n",
       "        vertical-align: middle;\n",
       "    }\n",
       "\n",
       "    .dataframe tbody tr th {\n",
       "        vertical-align: top;\n",
       "    }\n",
       "\n",
       "    .dataframe thead th {\n",
       "        text-align: right;\n",
       "    }\n",
       "</style>\n",
       "<table border=\"1\" class=\"dataframe\">\n",
       "  <thead>\n",
       "    <tr style=\"text-align: right;\">\n",
       "      <th></th>\n",
       "      <th>Name</th>\n",
       "      <th>Platform</th>\n",
       "      <th>Year_of_Release</th>\n",
       "      <th>Genre</th>\n",
       "      <th>NA_sales</th>\n",
       "      <th>EU_sales</th>\n",
       "      <th>JP_sales</th>\n",
       "      <th>Other_sales</th>\n",
       "      <th>Critic_Score</th>\n",
       "      <th>User_Score</th>\n",
       "      <th>Rating</th>\n",
       "    </tr>\n",
       "  </thead>\n",
       "  <tbody>\n",
       "    <tr>\n",
       "      <th>0</th>\n",
       "      <td>Wii Sports</td>\n",
       "      <td>Wii</td>\n",
       "      <td>2006.0</td>\n",
       "      <td>Sports</td>\n",
       "      <td>41.36</td>\n",
       "      <td>28.96</td>\n",
       "      <td>3.77</td>\n",
       "      <td>8.45</td>\n",
       "      <td>76.0</td>\n",
       "      <td>8</td>\n",
       "      <td>E</td>\n",
       "    </tr>\n",
       "    <tr>\n",
       "      <th>1</th>\n",
       "      <td>Super Mario Bros.</td>\n",
       "      <td>NES</td>\n",
       "      <td>1985.0</td>\n",
       "      <td>Platform</td>\n",
       "      <td>29.08</td>\n",
       "      <td>3.58</td>\n",
       "      <td>6.81</td>\n",
       "      <td>0.77</td>\n",
       "      <td>NaN</td>\n",
       "      <td>NaN</td>\n",
       "      <td>NaN</td>\n",
       "    </tr>\n",
       "    <tr>\n",
       "      <th>2</th>\n",
       "      <td>Mario Kart Wii</td>\n",
       "      <td>Wii</td>\n",
       "      <td>2008.0</td>\n",
       "      <td>Racing</td>\n",
       "      <td>15.68</td>\n",
       "      <td>12.76</td>\n",
       "      <td>3.79</td>\n",
       "      <td>3.29</td>\n",
       "      <td>82.0</td>\n",
       "      <td>8.3</td>\n",
       "      <td>E</td>\n",
       "    </tr>\n",
       "    <tr>\n",
       "      <th>3</th>\n",
       "      <td>Wii Sports Resort</td>\n",
       "      <td>Wii</td>\n",
       "      <td>2009.0</td>\n",
       "      <td>Sports</td>\n",
       "      <td>15.61</td>\n",
       "      <td>10.93</td>\n",
       "      <td>3.28</td>\n",
       "      <td>2.95</td>\n",
       "      <td>80.0</td>\n",
       "      <td>8</td>\n",
       "      <td>E</td>\n",
       "    </tr>\n",
       "    <tr>\n",
       "      <th>4</th>\n",
       "      <td>Pokemon Red/Pokemon Blue</td>\n",
       "      <td>GB</td>\n",
       "      <td>1996.0</td>\n",
       "      <td>Role-Playing</td>\n",
       "      <td>11.27</td>\n",
       "      <td>8.89</td>\n",
       "      <td>10.22</td>\n",
       "      <td>1.00</td>\n",
       "      <td>NaN</td>\n",
       "      <td>NaN</td>\n",
       "      <td>NaN</td>\n",
       "    </tr>\n",
       "  </tbody>\n",
       "</table>\n",
       "</div>"
      ],
      "text/plain": [
       "                       Name Platform  Year_of_Release         Genre  NA_sales  \\\n",
       "0                Wii Sports      Wii           2006.0        Sports     41.36   \n",
       "1         Super Mario Bros.      NES           1985.0      Platform     29.08   \n",
       "2            Mario Kart Wii      Wii           2008.0        Racing     15.68   \n",
       "3         Wii Sports Resort      Wii           2009.0        Sports     15.61   \n",
       "4  Pokemon Red/Pokemon Blue       GB           1996.0  Role-Playing     11.27   \n",
       "\n",
       "   EU_sales  JP_sales  Other_sales  Critic_Score User_Score Rating  \n",
       "0     28.96      3.77         8.45          76.0          8      E  \n",
       "1      3.58      6.81         0.77           NaN        NaN    NaN  \n",
       "2     12.76      3.79         3.29          82.0        8.3      E  \n",
       "3     10.93      3.28         2.95          80.0          8      E  \n",
       "4      8.89     10.22         1.00           NaN        NaN    NaN  "
      ]
     },
     "metadata": {},
     "output_type": "display_data"
    },
    {
     "name": "stdout",
     "output_type": "stream",
     "text": [
      "<class 'pandas.core.frame.DataFrame'>\n",
      "RangeIndex: 16715 entries, 0 to 16714\n",
      "Data columns (total 11 columns):\n",
      " #   Column           Non-Null Count  Dtype  \n",
      "---  ------           --------------  -----  \n",
      " 0   Name             16713 non-null  object \n",
      " 1   Platform         16715 non-null  object \n",
      " 2   Year_of_Release  16446 non-null  float64\n",
      " 3   Genre            16713 non-null  object \n",
      " 4   NA_sales         16715 non-null  float64\n",
      " 5   EU_sales         16715 non-null  float64\n",
      " 6   JP_sales         16715 non-null  float64\n",
      " 7   Other_sales      16715 non-null  float64\n",
      " 8   Critic_Score     8137 non-null   float64\n",
      " 9   User_Score       10014 non-null  object \n",
      " 10  Rating           9949 non-null   object \n",
      "dtypes: float64(6), object(5)\n",
      "memory usage: 1.4+ MB\n"
     ]
    }
   ],
   "source": [
    "#чтобы датасет грузился и локально, и в JupyterHub\n",
    "try:\n",
    "    data = pd.read_csv('C:/Users/Student/Desktop/games.csv')\n",
    "except:\n",
    "    data = pd.read_csv('/datasets/games.csv')\n",
    "display(data.head())    \n",
    "data.info()"
   ]
  },
  {
   "cell_type": "markdown",
   "metadata": {},
   "source": [
    "**Вывод:**\n",
    "- Общее количество `16715 строк` и `11 столбцов`\n",
    "- Видна ошибка в наименованиях столбцев, нужно перевести в нижний регистр\n",
    "- Имеются пропуски в столбцах `Year_of_Release`, `Critic_Score`, `User_Score`, и `Rating`.\n",
    "- Столбец `User_Score` представлен типом object, хотя должен быть числовым."
   ]
  },
  {
   "cell_type": "markdown",
   "metadata": {},
   "source": []
  },
  {
   "cell_type": "markdown",
   "metadata": {},
   "source": [
    "## Шаг. Подготовьте данные"
   ]
  },
  {
   "cell_type": "markdown",
   "metadata": {},
   "source": [
    "### Замените названия столбцов (приведите к нижнему регистру);\n"
   ]
  },
  {
   "cell_type": "code",
   "execution_count": 3,
   "metadata": {},
   "outputs": [
    {
     "data": {
      "text/plain": [
       "Index(['name', 'platform', 'year_of_release', 'genre', 'na_sales', 'eu_sales',\n",
       "       'jp_sales', 'other_sales', 'critic_score', 'user_score', 'rating'],\n",
       "      dtype='object')"
      ]
     },
     "execution_count": 3,
     "metadata": {},
     "output_type": "execute_result"
    }
   ],
   "source": [
    "#переводим в нижний регистр\n",
    "\n",
    "data.columns = data.columns.str.lower()\n",
    "\n",
    "#проверка\n",
    "data.columns"
   ]
  },
  {
   "cell_type": "markdown",
   "metadata": {},
   "source": [
    "### Преобразуйте данные в нужные типы. Опишите, в каких столбцах заменили тип данных и почему;"
   ]
  },
  {
   "cell_type": "code",
   "execution_count": 4,
   "metadata": {},
   "outputs": [],
   "source": [
    "#year_of_release имеет тип float64, переведем в int\n",
    "data['year_of_release'] = data['year_of_release'].astype('Int64')"
   ]
  },
  {
   "cell_type": "code",
   "execution_count": 5,
   "metadata": {},
   "outputs": [],
   "source": [
    "#user_score имеет тип object, переобразуем его в float64, но прежде заменим tbd на Nan\n",
    "#data['user_score'] = data['user_score'].replace('tbd', np.nan, regex=True"
   ]
  },
  {
   "cell_type": "markdown",
   "metadata": {},
   "source": [
    "<div class=\"alert alert-warning\">\n",
    "<h2> Комментарий ревьюера 🤓<a class=\"tocSkip\"> </h2>\n",
    "\n",
    "Для корректировки типа 'user_score', можно использовать метод `.replace('tbd', np.NaN)` или использовать функцию pd.to_numeric() c `errors`- аргументом 'coerce'. Как ты это делаешь ниже, но если использовать сразу, то он автоматически произведет замену значений)\n",
    "Вот тут дополнительный материал для изучения, если будет желание:\n",
    "https://qastack.ru/programming/15891038/change-data-type-of-columns-in-pandas   "
   ]
  },
  {
   "cell_type": "markdown",
   "metadata": {},
   "source": [
    "<div class=\"alert alert-info\"> <b>Комментарий студента:</b> Спасибо, очень удобно.</div>"
   ]
  },
  {
   "cell_type": "markdown",
   "metadata": {},
   "source": [
    "<div class=\"alert alert-success\">\n",
    "<h2> Комментарий ревьюера 😊 v_2 <a class=\"tocSkip\"> </h2>\n",
    "\n",
    "👍"
   ]
  },
  {
   "cell_type": "markdown",
   "metadata": {},
   "source": [
    "Изначально пропусков в `user_score` было около 6700, после замены tbd стало 9125  "
   ]
  },
  {
   "cell_type": "code",
   "execution_count": 6,
   "metadata": {},
   "outputs": [
    {
     "data": {
      "text/plain": [
       "array([8. , nan, 8.3, 8.5, 6.6, 8.4, 8.6, 7.7, 6.3, 7.4, 8.2, 9. , 7.9,\n",
       "       8.1, 8.7, 7.1, 3.4, 5.3, 4.8, 3.2, 8.9, 6.4, 7.8, 7.5, 2.6, 7.2,\n",
       "       9.2, 7. , 7.3, 4.3, 7.6, 5.7, 5. , 9.1, 6.5, 8.8, 6.9, 9.4, 6.8,\n",
       "       6.1, 6.7, 5.4, 4. , 4.9, 4.5, 9.3, 6.2, 4.2, 6. , 3.7, 4.1, 5.8,\n",
       "       5.6, 5.5, 4.4, 4.6, 5.9, 3.9, 3.1, 2.9, 5.2, 3.3, 4.7, 5.1, 3.5,\n",
       "       2.5, 1.9, 3. , 2.7, 2.2, 2. , 9.5, 2.1, 3.6, 2.8, 1.8, 3.8, 0. ,\n",
       "       1.6, 9.6, 2.4, 1.7, 1.1, 0.3, 1.5, 0.7, 1.2, 2.3, 0.5, 1.3, 0.2,\n",
       "       0.6, 1.4, 0.9, 1. , 9.7])"
      ]
     },
     "execution_count": 6,
     "metadata": {},
     "output_type": "execute_result"
    }
   ],
   "source": [
    "##user_score имеет тип object, переобразуем его в float64, и заменим tbd на Nan\n",
    "data['user_score'] = pd.to_numeric(data['user_score'], errors='coerce')\n",
    "\n",
    "#проверим все ли изменилось\n",
    "#data.info()\n",
    "data['user_score'].unique()"
   ]
  },
  {
   "cell_type": "markdown",
   "metadata": {},
   "source": [
    "- `year_of_release` лучше лучше представлять как целое число поэтому заменили на int64, изначально был float64\n",
    "- `user_score` изменили тип на с object на float64, перевели tbd в nan, так как tbd указывает на то, что пользовательская оценка для игры ещё не определена (расшифровка возможна как to be determined). "
   ]
  },
  {
   "cell_type": "markdown",
   "metadata": {},
   "source": [
    "### Обработайте пропуски при необходимости: \n",
    "- Объясните, почему заполнили пропуски определённым образом или почему не стали это делать;\n",
    "- Опишите причины, которые могли привести к пропускам;\n",
    "- Обратите внимание на аббревиатуру 'tbd' в столбце с оценкой пользователей. Отдельно разберите это значение и опишите, как его обработать;"
   ]
  },
  {
   "cell_type": "code",
   "execution_count": 7,
   "metadata": {},
   "outputs": [
    {
     "data": {
      "text/plain": [
       "name                  2\n",
       "platform              0\n",
       "year_of_release     269\n",
       "genre                 2\n",
       "na_sales              0\n",
       "eu_sales              0\n",
       "jp_sales              0\n",
       "other_sales           0\n",
       "critic_score       8578\n",
       "user_score         9125\n",
       "rating             6766\n",
       "dtype: int64"
      ]
     },
     "execution_count": 7,
     "metadata": {},
     "output_type": "execute_result"
    }
   ],
   "source": [
    "#проверим пропуски\n",
    "data.isna().sum()"
   ]
  },
  {
   "cell_type": "markdown",
   "metadata": {},
   "source": []
  },
  {
   "cell_type": "code",
   "execution_count": 8,
   "metadata": {
    "scrolled": true
   },
   "outputs": [
    {
     "data": {
      "text/html": [
       "<div>\n",
       "<style scoped>\n",
       "    .dataframe tbody tr th:only-of-type {\n",
       "        vertical-align: middle;\n",
       "    }\n",
       "\n",
       "    .dataframe tbody tr th {\n",
       "        vertical-align: top;\n",
       "    }\n",
       "\n",
       "    .dataframe thead th {\n",
       "        text-align: right;\n",
       "    }\n",
       "</style>\n",
       "<table border=\"1\" class=\"dataframe\">\n",
       "  <thead>\n",
       "    <tr style=\"text-align: right;\">\n",
       "      <th></th>\n",
       "      <th>name</th>\n",
       "      <th>platform</th>\n",
       "      <th>year_of_release</th>\n",
       "      <th>genre</th>\n",
       "      <th>na_sales</th>\n",
       "      <th>eu_sales</th>\n",
       "      <th>jp_sales</th>\n",
       "      <th>other_sales</th>\n",
       "      <th>critic_score</th>\n",
       "      <th>user_score</th>\n",
       "      <th>rating</th>\n",
       "    </tr>\n",
       "  </thead>\n",
       "  <tbody>\n",
       "    <tr>\n",
       "      <th>659</th>\n",
       "      <td>NaN</td>\n",
       "      <td>GEN</td>\n",
       "      <td>1993</td>\n",
       "      <td>NaN</td>\n",
       "      <td>1.78</td>\n",
       "      <td>0.53</td>\n",
       "      <td>0.00</td>\n",
       "      <td>0.08</td>\n",
       "      <td>NaN</td>\n",
       "      <td>NaN</td>\n",
       "      <td>NaN</td>\n",
       "    </tr>\n",
       "    <tr>\n",
       "      <th>14244</th>\n",
       "      <td>NaN</td>\n",
       "      <td>GEN</td>\n",
       "      <td>1993</td>\n",
       "      <td>NaN</td>\n",
       "      <td>0.00</td>\n",
       "      <td>0.00</td>\n",
       "      <td>0.03</td>\n",
       "      <td>0.00</td>\n",
       "      <td>NaN</td>\n",
       "      <td>NaN</td>\n",
       "      <td>NaN</td>\n",
       "    </tr>\n",
       "  </tbody>\n",
       "</table>\n",
       "</div>"
      ],
      "text/plain": [
       "      name platform  year_of_release genre  na_sales  eu_sales  jp_sales  \\\n",
       "659    NaN      GEN             1993   NaN      1.78      0.53      0.00   \n",
       "14244  NaN      GEN             1993   NaN      0.00      0.00      0.03   \n",
       "\n",
       "       other_sales  critic_score  user_score rating  \n",
       "659           0.08           NaN         NaN    NaN  \n",
       "14244         0.00           NaN         NaN    NaN  "
      ]
     },
     "execution_count": 8,
     "metadata": {},
     "output_type": "execute_result"
    }
   ],
   "source": [
    "#проверка строк с пропусками в столбцах name или genre\n",
    "missing_name_genre = data[data['name'].isna() | data['genre'].isna()]\n",
    "\n",
    "#отображение строк с пропусками в name или genre\n",
    "missing_name_genre"
   ]
  },
  {
   "cell_type": "code",
   "execution_count": 9,
   "metadata": {},
   "outputs": [
    {
     "data": {
      "text/plain": [
       "name                  0\n",
       "platform              0\n",
       "year_of_release     269\n",
       "genre                 0\n",
       "na_sales              0\n",
       "eu_sales              0\n",
       "jp_sales              0\n",
       "other_sales           0\n",
       "critic_score       8576\n",
       "user_score         9123\n",
       "rating             6764\n",
       "dtype: int64"
      ]
     },
     "execution_count": 9,
     "metadata": {},
     "output_type": "execute_result"
    }
   ],
   "source": [
    "#удалим пропущенные строки name и genre\n",
    "data = data.dropna(subset=['name', 'genre'])\n",
    "\n",
    "data.isna().sum()"
   ]
  },
  {
   "cell_type": "markdown",
   "metadata": {},
   "source": [
    "В столбцах `name` и `genre` пропуски на одних и тех же строках и их всего 2, можно их удалить. "
   ]
  },
  {
   "cell_type": "code",
   "execution_count": 10,
   "metadata": {},
   "outputs": [
    {
     "data": {
      "text/html": [
       "<div>\n",
       "<style scoped>\n",
       "    .dataframe tbody tr th:only-of-type {\n",
       "        vertical-align: middle;\n",
       "    }\n",
       "\n",
       "    .dataframe tbody tr th {\n",
       "        vertical-align: top;\n",
       "    }\n",
       "\n",
       "    .dataframe thead th {\n",
       "        text-align: right;\n",
       "    }\n",
       "</style>\n",
       "<table border=\"1\" class=\"dataframe\">\n",
       "  <thead>\n",
       "    <tr style=\"text-align: right;\">\n",
       "      <th></th>\n",
       "      <th>name</th>\n",
       "      <th>platform</th>\n",
       "      <th>year_of_release</th>\n",
       "      <th>genre</th>\n",
       "      <th>na_sales</th>\n",
       "      <th>eu_sales</th>\n",
       "      <th>jp_sales</th>\n",
       "      <th>other_sales</th>\n",
       "      <th>critic_score</th>\n",
       "      <th>user_score</th>\n",
       "      <th>rating</th>\n",
       "    </tr>\n",
       "  </thead>\n",
       "  <tbody>\n",
       "    <tr>\n",
       "      <th>183</th>\n",
       "      <td>Madden NFL 2004</td>\n",
       "      <td>PS2</td>\n",
       "      <td>&lt;NA&gt;</td>\n",
       "      <td>Sports</td>\n",
       "      <td>4.26</td>\n",
       "      <td>0.26</td>\n",
       "      <td>0.01</td>\n",
       "      <td>0.71</td>\n",
       "      <td>94.0</td>\n",
       "      <td>8.5</td>\n",
       "      <td>E</td>\n",
       "    </tr>\n",
       "    <tr>\n",
       "      <th>377</th>\n",
       "      <td>FIFA Soccer 2004</td>\n",
       "      <td>PS2</td>\n",
       "      <td>&lt;NA&gt;</td>\n",
       "      <td>Sports</td>\n",
       "      <td>0.59</td>\n",
       "      <td>2.36</td>\n",
       "      <td>0.04</td>\n",
       "      <td>0.51</td>\n",
       "      <td>84.0</td>\n",
       "      <td>6.4</td>\n",
       "      <td>E</td>\n",
       "    </tr>\n",
       "    <tr>\n",
       "      <th>456</th>\n",
       "      <td>LEGO Batman: The Videogame</td>\n",
       "      <td>Wii</td>\n",
       "      <td>&lt;NA&gt;</td>\n",
       "      <td>Action</td>\n",
       "      <td>1.80</td>\n",
       "      <td>0.97</td>\n",
       "      <td>0.00</td>\n",
       "      <td>0.29</td>\n",
       "      <td>74.0</td>\n",
       "      <td>7.9</td>\n",
       "      <td>E10+</td>\n",
       "    </tr>\n",
       "    <tr>\n",
       "      <th>475</th>\n",
       "      <td>wwe Smackdown vs. Raw 2006</td>\n",
       "      <td>PS2</td>\n",
       "      <td>&lt;NA&gt;</td>\n",
       "      <td>Fighting</td>\n",
       "      <td>1.57</td>\n",
       "      <td>1.02</td>\n",
       "      <td>0.00</td>\n",
       "      <td>0.41</td>\n",
       "      <td>NaN</td>\n",
       "      <td>NaN</td>\n",
       "      <td>NaN</td>\n",
       "    </tr>\n",
       "    <tr>\n",
       "      <th>609</th>\n",
       "      <td>Space Invaders</td>\n",
       "      <td>2600</td>\n",
       "      <td>&lt;NA&gt;</td>\n",
       "      <td>Shooter</td>\n",
       "      <td>2.36</td>\n",
       "      <td>0.14</td>\n",
       "      <td>0.00</td>\n",
       "      <td>0.03</td>\n",
       "      <td>NaN</td>\n",
       "      <td>NaN</td>\n",
       "      <td>NaN</td>\n",
       "    </tr>\n",
       "    <tr>\n",
       "      <th>...</th>\n",
       "      <td>...</td>\n",
       "      <td>...</td>\n",
       "      <td>...</td>\n",
       "      <td>...</td>\n",
       "      <td>...</td>\n",
       "      <td>...</td>\n",
       "      <td>...</td>\n",
       "      <td>...</td>\n",
       "      <td>...</td>\n",
       "      <td>...</td>\n",
       "      <td>...</td>\n",
       "    </tr>\n",
       "    <tr>\n",
       "      <th>16373</th>\n",
       "      <td>PDC World Championship Darts 2008</td>\n",
       "      <td>PSP</td>\n",
       "      <td>&lt;NA&gt;</td>\n",
       "      <td>Sports</td>\n",
       "      <td>0.01</td>\n",
       "      <td>0.00</td>\n",
       "      <td>0.00</td>\n",
       "      <td>0.00</td>\n",
       "      <td>43.0</td>\n",
       "      <td>NaN</td>\n",
       "      <td>E10+</td>\n",
       "    </tr>\n",
       "    <tr>\n",
       "      <th>16405</th>\n",
       "      <td>Freaky Flyers</td>\n",
       "      <td>GC</td>\n",
       "      <td>&lt;NA&gt;</td>\n",
       "      <td>Racing</td>\n",
       "      <td>0.01</td>\n",
       "      <td>0.00</td>\n",
       "      <td>0.00</td>\n",
       "      <td>0.00</td>\n",
       "      <td>69.0</td>\n",
       "      <td>6.5</td>\n",
       "      <td>T</td>\n",
       "    </tr>\n",
       "    <tr>\n",
       "      <th>16448</th>\n",
       "      <td>Inversion</td>\n",
       "      <td>PC</td>\n",
       "      <td>&lt;NA&gt;</td>\n",
       "      <td>Shooter</td>\n",
       "      <td>0.01</td>\n",
       "      <td>0.00</td>\n",
       "      <td>0.00</td>\n",
       "      <td>0.00</td>\n",
       "      <td>59.0</td>\n",
       "      <td>6.7</td>\n",
       "      <td>M</td>\n",
       "    </tr>\n",
       "    <tr>\n",
       "      <th>16458</th>\n",
       "      <td>Hakuouki: Shinsengumi Kitan</td>\n",
       "      <td>PS3</td>\n",
       "      <td>&lt;NA&gt;</td>\n",
       "      <td>Adventure</td>\n",
       "      <td>0.01</td>\n",
       "      <td>0.00</td>\n",
       "      <td>0.00</td>\n",
       "      <td>0.00</td>\n",
       "      <td>NaN</td>\n",
       "      <td>NaN</td>\n",
       "      <td>NaN</td>\n",
       "    </tr>\n",
       "    <tr>\n",
       "      <th>16522</th>\n",
       "      <td>Virtua Quest</td>\n",
       "      <td>GC</td>\n",
       "      <td>&lt;NA&gt;</td>\n",
       "      <td>Role-Playing</td>\n",
       "      <td>0.01</td>\n",
       "      <td>0.00</td>\n",
       "      <td>0.00</td>\n",
       "      <td>0.00</td>\n",
       "      <td>55.0</td>\n",
       "      <td>5.5</td>\n",
       "      <td>T</td>\n",
       "    </tr>\n",
       "  </tbody>\n",
       "</table>\n",
       "<p>269 rows × 11 columns</p>\n",
       "</div>"
      ],
      "text/plain": [
       "                                    name platform  year_of_release  \\\n",
       "183                      Madden NFL 2004      PS2             <NA>   \n",
       "377                     FIFA Soccer 2004      PS2             <NA>   \n",
       "456           LEGO Batman: The Videogame      Wii             <NA>   \n",
       "475           wwe Smackdown vs. Raw 2006      PS2             <NA>   \n",
       "609                       Space Invaders     2600             <NA>   \n",
       "...                                  ...      ...              ...   \n",
       "16373  PDC World Championship Darts 2008      PSP             <NA>   \n",
       "16405                      Freaky Flyers       GC             <NA>   \n",
       "16448                          Inversion       PC             <NA>   \n",
       "16458        Hakuouki: Shinsengumi Kitan      PS3             <NA>   \n",
       "16522                       Virtua Quest       GC             <NA>   \n",
       "\n",
       "              genre  na_sales  eu_sales  jp_sales  other_sales  critic_score  \\\n",
       "183          Sports      4.26      0.26      0.01         0.71          94.0   \n",
       "377          Sports      0.59      2.36      0.04         0.51          84.0   \n",
       "456          Action      1.80      0.97      0.00         0.29          74.0   \n",
       "475        Fighting      1.57      1.02      0.00         0.41           NaN   \n",
       "609         Shooter      2.36      0.14      0.00         0.03           NaN   \n",
       "...             ...       ...       ...       ...          ...           ...   \n",
       "16373        Sports      0.01      0.00      0.00         0.00          43.0   \n",
       "16405        Racing      0.01      0.00      0.00         0.00          69.0   \n",
       "16448       Shooter      0.01      0.00      0.00         0.00          59.0   \n",
       "16458     Adventure      0.01      0.00      0.00         0.00           NaN   \n",
       "16522  Role-Playing      0.01      0.00      0.00         0.00          55.0   \n",
       "\n",
       "       user_score rating  \n",
       "183           8.5      E  \n",
       "377           6.4      E  \n",
       "456           7.9   E10+  \n",
       "475           NaN    NaN  \n",
       "609           NaN    NaN  \n",
       "...           ...    ...  \n",
       "16373         NaN   E10+  \n",
       "16405         6.5      T  \n",
       "16448         6.7      M  \n",
       "16458         NaN    NaN  \n",
       "16522         5.5      T  \n",
       "\n",
       "[269 rows x 11 columns]"
      ]
     },
     "execution_count": 10,
     "metadata": {},
     "output_type": "execute_result"
    }
   ],
   "source": [
    "#можно заметить, что в name вместе с названием указывается и год игры\n",
    "missing_year = data[data['year_of_release'].isna()]\n",
    "missing_year"
   ]
  },
  {
   "cell_type": "code",
   "execution_count": 11,
   "metadata": {},
   "outputs": [
    {
     "data": {
      "text/html": [
       "<div>\n",
       "<style scoped>\n",
       "    .dataframe tbody tr th:only-of-type {\n",
       "        vertical-align: middle;\n",
       "    }\n",
       "\n",
       "    .dataframe tbody tr th {\n",
       "        vertical-align: top;\n",
       "    }\n",
       "\n",
       "    .dataframe thead th {\n",
       "        text-align: right;\n",
       "    }\n",
       "</style>\n",
       "<table border=\"1\" class=\"dataframe\">\n",
       "  <thead>\n",
       "    <tr style=\"text-align: right;\">\n",
       "      <th></th>\n",
       "      <th>name</th>\n",
       "      <th>platform</th>\n",
       "      <th>year_of_release</th>\n",
       "      <th>genre</th>\n",
       "      <th>na_sales</th>\n",
       "      <th>eu_sales</th>\n",
       "      <th>jp_sales</th>\n",
       "      <th>other_sales</th>\n",
       "      <th>critic_score</th>\n",
       "      <th>user_score</th>\n",
       "      <th>rating</th>\n",
       "    </tr>\n",
       "  </thead>\n",
       "  <tbody>\n",
       "    <tr>\n",
       "      <th>183</th>\n",
       "      <td>Madden NFL 2004</td>\n",
       "      <td>PS2</td>\n",
       "      <td>&lt;NA&gt;</td>\n",
       "      <td>Sports</td>\n",
       "      <td>4.26</td>\n",
       "      <td>0.26</td>\n",
       "      <td>0.01</td>\n",
       "      <td>0.71</td>\n",
       "      <td>94.0</td>\n",
       "      <td>8.5</td>\n",
       "      <td>E</td>\n",
       "    </tr>\n",
       "    <tr>\n",
       "      <th>377</th>\n",
       "      <td>FIFA Soccer 2004</td>\n",
       "      <td>PS2</td>\n",
       "      <td>&lt;NA&gt;</td>\n",
       "      <td>Sports</td>\n",
       "      <td>0.59</td>\n",
       "      <td>2.36</td>\n",
       "      <td>0.04</td>\n",
       "      <td>0.51</td>\n",
       "      <td>84.0</td>\n",
       "      <td>6.4</td>\n",
       "      <td>E</td>\n",
       "    </tr>\n",
       "    <tr>\n",
       "      <th>475</th>\n",
       "      <td>wwe Smackdown vs. Raw 2006</td>\n",
       "      <td>PS2</td>\n",
       "      <td>&lt;NA&gt;</td>\n",
       "      <td>Fighting</td>\n",
       "      <td>1.57</td>\n",
       "      <td>1.02</td>\n",
       "      <td>0.00</td>\n",
       "      <td>0.41</td>\n",
       "      <td>NaN</td>\n",
       "      <td>NaN</td>\n",
       "      <td>NaN</td>\n",
       "    </tr>\n",
       "    <tr>\n",
       "      <th>1650</th>\n",
       "      <td>NASCAR Thunder 2003</td>\n",
       "      <td>PS2</td>\n",
       "      <td>&lt;NA&gt;</td>\n",
       "      <td>Racing</td>\n",
       "      <td>0.60</td>\n",
       "      <td>0.46</td>\n",
       "      <td>0.00</td>\n",
       "      <td>0.16</td>\n",
       "      <td>84.0</td>\n",
       "      <td>8.7</td>\n",
       "      <td>E</td>\n",
       "    </tr>\n",
       "    <tr>\n",
       "      <th>2572</th>\n",
       "      <td>PES 2009: Pro Evolution Soccer</td>\n",
       "      <td>PSP</td>\n",
       "      <td>&lt;NA&gt;</td>\n",
       "      <td>Sports</td>\n",
       "      <td>0.04</td>\n",
       "      <td>0.33</td>\n",
       "      <td>0.26</td>\n",
       "      <td>0.17</td>\n",
       "      <td>NaN</td>\n",
       "      <td>NaN</td>\n",
       "      <td>NaN</td>\n",
       "    </tr>\n",
       "    <tr>\n",
       "      <th>3486</th>\n",
       "      <td>Madden NFL 2002</td>\n",
       "      <td>XB</td>\n",
       "      <td>&lt;NA&gt;</td>\n",
       "      <td>Sports</td>\n",
       "      <td>0.53</td>\n",
       "      <td>0.02</td>\n",
       "      <td>0.00</td>\n",
       "      <td>0.03</td>\n",
       "      <td>90.0</td>\n",
       "      <td>8.1</td>\n",
       "      <td>E</td>\n",
       "    </tr>\n",
       "    <tr>\n",
       "      <th>4775</th>\n",
       "      <td>NFL GameDay 2003</td>\n",
       "      <td>PS2</td>\n",
       "      <td>&lt;NA&gt;</td>\n",
       "      <td>Sports</td>\n",
       "      <td>0.20</td>\n",
       "      <td>0.15</td>\n",
       "      <td>0.00</td>\n",
       "      <td>0.05</td>\n",
       "      <td>60.0</td>\n",
       "      <td>NaN</td>\n",
       "      <td>E</td>\n",
       "    </tr>\n",
       "    <tr>\n",
       "      <th>5156</th>\n",
       "      <td>NBA Live 2003</td>\n",
       "      <td>XB</td>\n",
       "      <td>&lt;NA&gt;</td>\n",
       "      <td>Sports</td>\n",
       "      <td>0.31</td>\n",
       "      <td>0.04</td>\n",
       "      <td>0.00</td>\n",
       "      <td>0.01</td>\n",
       "      <td>82.0</td>\n",
       "      <td>8.8</td>\n",
       "      <td>E</td>\n",
       "    </tr>\n",
       "    <tr>\n",
       "      <th>5336</th>\n",
       "      <td>Tomb Raider (2013)</td>\n",
       "      <td>PC</td>\n",
       "      <td>&lt;NA&gt;</td>\n",
       "      <td>Action</td>\n",
       "      <td>0.06</td>\n",
       "      <td>0.25</td>\n",
       "      <td>0.00</td>\n",
       "      <td>0.04</td>\n",
       "      <td>86.0</td>\n",
       "      <td>8.5</td>\n",
       "      <td>M</td>\n",
       "    </tr>\n",
       "    <tr>\n",
       "      <th>5655</th>\n",
       "      <td>All-Star Baseball 2005</td>\n",
       "      <td>PS2</td>\n",
       "      <td>&lt;NA&gt;</td>\n",
       "      <td>Sports</td>\n",
       "      <td>0.16</td>\n",
       "      <td>0.12</td>\n",
       "      <td>0.00</td>\n",
       "      <td>0.04</td>\n",
       "      <td>72.0</td>\n",
       "      <td>8.6</td>\n",
       "      <td>E</td>\n",
       "    </tr>\n",
       "    <tr>\n",
       "      <th>5889</th>\n",
       "      <td>NBA Live 2003</td>\n",
       "      <td>GC</td>\n",
       "      <td>&lt;NA&gt;</td>\n",
       "      <td>Sports</td>\n",
       "      <td>0.23</td>\n",
       "      <td>0.06</td>\n",
       "      <td>0.00</td>\n",
       "      <td>0.01</td>\n",
       "      <td>82.0</td>\n",
       "      <td>8.2</td>\n",
       "      <td>E</td>\n",
       "    </tr>\n",
       "    <tr>\n",
       "      <th>8918</th>\n",
       "      <td>All-Star Baseball 2005</td>\n",
       "      <td>XB</td>\n",
       "      <td>&lt;NA&gt;</td>\n",
       "      <td>Sports</td>\n",
       "      <td>0.11</td>\n",
       "      <td>0.03</td>\n",
       "      <td>0.00</td>\n",
       "      <td>0.01</td>\n",
       "      <td>75.0</td>\n",
       "      <td>8.8</td>\n",
       "      <td>E</td>\n",
       "    </tr>\n",
       "    <tr>\n",
       "      <th>13195</th>\n",
       "      <td>Tour de France 2011</td>\n",
       "      <td>X360</td>\n",
       "      <td>&lt;NA&gt;</td>\n",
       "      <td>Racing</td>\n",
       "      <td>0.00</td>\n",
       "      <td>0.04</td>\n",
       "      <td>0.00</td>\n",
       "      <td>0.01</td>\n",
       "      <td>46.0</td>\n",
       "      <td>7.6</td>\n",
       "      <td>NaN</td>\n",
       "    </tr>\n",
       "    <tr>\n",
       "      <th>13929</th>\n",
       "      <td>Sega Rally 2006</td>\n",
       "      <td>PS2</td>\n",
       "      <td>&lt;NA&gt;</td>\n",
       "      <td>Racing</td>\n",
       "      <td>0.00</td>\n",
       "      <td>0.00</td>\n",
       "      <td>0.04</td>\n",
       "      <td>0.00</td>\n",
       "      <td>NaN</td>\n",
       "      <td>NaN</td>\n",
       "      <td>NaN</td>\n",
       "    </tr>\n",
       "    <tr>\n",
       "      <th>15953</th>\n",
       "      <td>PDC World Championship Darts 2008</td>\n",
       "      <td>DS</td>\n",
       "      <td>&lt;NA&gt;</td>\n",
       "      <td>Sports</td>\n",
       "      <td>0.01</td>\n",
       "      <td>0.00</td>\n",
       "      <td>0.00</td>\n",
       "      <td>0.00</td>\n",
       "      <td>NaN</td>\n",
       "      <td>NaN</td>\n",
       "      <td>NaN</td>\n",
       "    </tr>\n",
       "    <tr>\n",
       "      <th>16079</th>\n",
       "      <td>Football Manager 2007</td>\n",
       "      <td>X360</td>\n",
       "      <td>&lt;NA&gt;</td>\n",
       "      <td>Sports</td>\n",
       "      <td>0.00</td>\n",
       "      <td>0.01</td>\n",
       "      <td>0.00</td>\n",
       "      <td>0.00</td>\n",
       "      <td>NaN</td>\n",
       "      <td>NaN</td>\n",
       "      <td>NaN</td>\n",
       "    </tr>\n",
       "    <tr>\n",
       "      <th>16373</th>\n",
       "      <td>PDC World Championship Darts 2008</td>\n",
       "      <td>PSP</td>\n",
       "      <td>&lt;NA&gt;</td>\n",
       "      <td>Sports</td>\n",
       "      <td>0.01</td>\n",
       "      <td>0.00</td>\n",
       "      <td>0.00</td>\n",
       "      <td>0.00</td>\n",
       "      <td>43.0</td>\n",
       "      <td>NaN</td>\n",
       "      <td>E10+</td>\n",
       "    </tr>\n",
       "  </tbody>\n",
       "</table>\n",
       "</div>"
      ],
      "text/plain": [
       "                                    name platform  year_of_release     genre  \\\n",
       "183                      Madden NFL 2004      PS2             <NA>    Sports   \n",
       "377                     FIFA Soccer 2004      PS2             <NA>    Sports   \n",
       "475           wwe Smackdown vs. Raw 2006      PS2             <NA>  Fighting   \n",
       "1650                 NASCAR Thunder 2003      PS2             <NA>    Racing   \n",
       "2572      PES 2009: Pro Evolution Soccer      PSP             <NA>    Sports   \n",
       "3486                     Madden NFL 2002       XB             <NA>    Sports   \n",
       "4775                    NFL GameDay 2003      PS2             <NA>    Sports   \n",
       "5156                       NBA Live 2003       XB             <NA>    Sports   \n",
       "5336                  Tomb Raider (2013)       PC             <NA>    Action   \n",
       "5655              All-Star Baseball 2005      PS2             <NA>    Sports   \n",
       "5889                       NBA Live 2003       GC             <NA>    Sports   \n",
       "8918              All-Star Baseball 2005       XB             <NA>    Sports   \n",
       "13195                Tour de France 2011     X360             <NA>    Racing   \n",
       "13929                    Sega Rally 2006      PS2             <NA>    Racing   \n",
       "15953  PDC World Championship Darts 2008       DS             <NA>    Sports   \n",
       "16079              Football Manager 2007     X360             <NA>    Sports   \n",
       "16373  PDC World Championship Darts 2008      PSP             <NA>    Sports   \n",
       "\n",
       "       na_sales  eu_sales  jp_sales  other_sales  critic_score  user_score  \\\n",
       "183        4.26      0.26      0.01         0.71          94.0         8.5   \n",
       "377        0.59      2.36      0.04         0.51          84.0         6.4   \n",
       "475        1.57      1.02      0.00         0.41           NaN         NaN   \n",
       "1650       0.60      0.46      0.00         0.16          84.0         8.7   \n",
       "2572       0.04      0.33      0.26         0.17           NaN         NaN   \n",
       "3486       0.53      0.02      0.00         0.03          90.0         8.1   \n",
       "4775       0.20      0.15      0.00         0.05          60.0         NaN   \n",
       "5156       0.31      0.04      0.00         0.01          82.0         8.8   \n",
       "5336       0.06      0.25      0.00         0.04          86.0         8.5   \n",
       "5655       0.16      0.12      0.00         0.04          72.0         8.6   \n",
       "5889       0.23      0.06      0.00         0.01          82.0         8.2   \n",
       "8918       0.11      0.03      0.00         0.01          75.0         8.8   \n",
       "13195      0.00      0.04      0.00         0.01          46.0         7.6   \n",
       "13929      0.00      0.00      0.04         0.00           NaN         NaN   \n",
       "15953      0.01      0.00      0.00         0.00           NaN         NaN   \n",
       "16079      0.00      0.01      0.00         0.00           NaN         NaN   \n",
       "16373      0.01      0.00      0.00         0.00          43.0         NaN   \n",
       "\n",
       "      rating  \n",
       "183        E  \n",
       "377        E  \n",
       "475      NaN  \n",
       "1650       E  \n",
       "2572     NaN  \n",
       "3486       E  \n",
       "4775       E  \n",
       "5156       E  \n",
       "5336       M  \n",
       "5655       E  \n",
       "5889       E  \n",
       "8918       E  \n",
       "13195    NaN  \n",
       "13929    NaN  \n",
       "15953    NaN  \n",
       "16079    NaN  \n",
       "16373   E10+  "
      ]
     },
     "execution_count": 11,
     "metadata": {},
     "output_type": "execute_result"
    }
   ],
   "source": [
    "#если вывести наименование, где есть год игры то увидем, что таких данных 18\n",
    "\n",
    "games_with_year = data[data['name'].str.contains(r'\\b\\d{4}\\b', na=False) & data['year_of_release'].isna()]\n",
    "\n",
    "games_with_year"
   ]
  },
  {
   "cell_type": "markdown",
   "metadata": {},
   "source": [
    "Но тут тоже не понятно до конца, некоторые игры могут выпустить за гредующий год, например название NBA Live 2003, а год выпуска 2002. Обычно выпускает заранее. \n",
    "\n",
    "Пока не знаю стоит года в названии копировать заместо пропусков в year_of_release?!\n",
    "\n",
    "**Так как year_of_release ничем не заменить и они нужны в шаге 3 для анализа, пустые строки удаляем.**"
   ]
  },
  {
   "cell_type": "code",
   "execution_count": 12,
   "metadata": {},
   "outputs": [
    {
     "data": {
      "text/plain": [
       "name                  0\n",
       "platform              0\n",
       "year_of_release       0\n",
       "genre                 0\n",
       "na_sales              0\n",
       "eu_sales              0\n",
       "jp_sales              0\n",
       "other_sales           0\n",
       "critic_score       8461\n",
       "user_score         8981\n",
       "rating             6676\n",
       "dtype: int64"
      ]
     },
     "execution_count": 12,
     "metadata": {},
     "output_type": "execute_result"
    }
   ],
   "source": [
    "data = data.dropna(subset=['year_of_release'])\n",
    "data.isna().sum()"
   ]
  },
  {
   "cell_type": "markdown",
   "metadata": {},
   "source": [
    "<div class=\"alert alert-success\">\n",
    "<h2> Комментарий ревьюера 😊<a class=\"tocSkip\"> </h2>\n",
    "    \n",
    "В целом, да, процент пропусков небольшой, и мы можем так поступить!\n",
    "</div>    "
   ]
  },
  {
   "cell_type": "code",
   "execution_count": 13,
   "metadata": {},
   "outputs": [
    {
     "data": {
      "text/plain": [
       "name                  0\n",
       "platform              0\n",
       "year_of_release       0\n",
       "genre                 0\n",
       "na_sales              0\n",
       "eu_sales              0\n",
       "jp_sales              0\n",
       "other_sales           0\n",
       "critic_score       8461\n",
       "user_score         8981\n",
       "rating             6676\n",
       "dtype: int64"
      ]
     },
     "execution_count": 13,
     "metadata": {},
     "output_type": "execute_result"
    }
   ],
   "source": [
    "# пропуски в critic_score, user_score поскольку это рейтинговые данные, \n",
    "# и их заполнение может исказить результаты\n",
    "data.isna().sum()"
   ]
  },
  {
   "cell_type": "markdown",
   "metadata": {},
   "source": [
    "<div class=\"alert alert-block alert-danger\">\n",
    "<h2> Комментарий ревьюера ⛔️<a class=\"tocSkip\"></h2>\n",
    "    <s>\n",
    "Замена на конкретное значение, повышает риск искажения данных. Особенно это важно, поскольку в дальнейшем ты будешь их анализировать, а значит, есть риск получить неверные резульаты исследований.\n",
    "</div>"
   ]
  },
  {
   "cell_type": "markdown",
   "metadata": {},
   "source": [
    "<div class=\"alert alert-info\"> <b>Комментарий студента:</b> Оставил пропуски не тронутыми. Только пока сам до конца не понял почему.</div>"
   ]
  },
  {
   "cell_type": "markdown",
   "metadata": {},
   "source": [
    "<div class=\"alert alert-warning\">\n",
    "<h2> Комментарий ревьюера 🤓 v_2<a class=\"tocSkip\"> </h2>\n",
    "\n",
    "Заполнять пропуски в данных отвлеченными значениями - это не очень правильное решение. Во-первых, можно просто забыть их отфильтровать. Заполнять нужно в том случае, когда алгоритм, для которого готовятся данные, чувствителен к пропускам. Например, регрессии чувствительны, а корреляция нет. Для них заполнение может даже навредить, если заполнять маркерными значениями и забыть о фильтрации."
   ]
  },
  {
   "cell_type": "code",
   "execution_count": 14,
   "metadata": {},
   "outputs": [
    {
     "data": {
      "text/plain": [
       "name                  0\n",
       "platform              0\n",
       "year_of_release       0\n",
       "genre                 0\n",
       "na_sales              0\n",
       "eu_sales              0\n",
       "jp_sales              0\n",
       "other_sales           0\n",
       "critic_score       8461\n",
       "user_score         8981\n",
       "rating                0\n",
       "dtype: int64"
      ]
     },
     "execution_count": 14,
     "metadata": {},
     "output_type": "execute_result"
    }
   ],
   "source": [
    "#удалять пропуски в rating не стоит, потеряем много данных. Заменим пропуски на unknown\n",
    "\n",
    "data['rating'] = data['rating'].fillna('unknown')\n",
    "data.isna().sum()"
   ]
  },
  {
   "cell_type": "markdown",
   "metadata": {},
   "source": [
    "<div class=\"alert alert-success\">\n",
    "<h2> Комментарий ревьюера 😊<a class=\"tocSkip\"> </h2>\n",
    "    \n",
    "Верно. Это важно потому, что на более поздних этапах анализа (когда будет анализировать рейтинг по регионам) важно включить в анализ игры без рейтинга и сравнить их с теми играми, у которых рейтинг есть. "
   ]
  },
  {
   "cell_type": "code",
   "execution_count": 15,
   "metadata": {},
   "outputs": [
    {
     "name": "stdout",
     "output_type": "stream",
     "text": [
      "<class 'pandas.core.frame.DataFrame'>\n",
      "Int64Index: 16444 entries, 0 to 16714\n",
      "Data columns (total 11 columns):\n",
      " #   Column           Non-Null Count  Dtype  \n",
      "---  ------           --------------  -----  \n",
      " 0   name             16444 non-null  object \n",
      " 1   platform         16444 non-null  object \n",
      " 2   year_of_release  16444 non-null  Int64  \n",
      " 3   genre            16444 non-null  object \n",
      " 4   na_sales         16444 non-null  float64\n",
      " 5   eu_sales         16444 non-null  float64\n",
      " 6   jp_sales         16444 non-null  float64\n",
      " 7   other_sales      16444 non-null  float64\n",
      " 8   critic_score     7983 non-null   float64\n",
      " 9   user_score       7463 non-null   float64\n",
      " 10  rating           16444 non-null  object \n",
      "dtypes: Int64(1), float64(6), object(4)\n",
      "memory usage: 1.5+ MB\n"
     ]
    }
   ],
   "source": [
    "# проверим общее количество оставшихся строк \n",
    "data.info()"
   ]
  },
  {
   "cell_type": "markdown",
   "metadata": {},
   "source": [
    "- Пропуски в столбцах `name` и `genre` (2 строки) удалены. И заменять смысла нету так как пропуски и в `name`, и в `genre` расположены на одних и тех же строках. Причины пропусков - возможно, данные не были полностью внесены при сборе информации, либо игры не имели уникального названия или жанра в тот момент.\n",
    "\n",
    "- Пропуски в year_of_release (269 строк) также были удалены, так как этот столбец необходим для дальнейшего анализа. Причины пропусков - возможно из-за сложностей с обработкой старых игр, информация о которых может быть утеряна\n",
    "\n",
    "- Пропуски в critic_score (8578 строк) и в в user_score (9125 строк) оставили без имзенений поскольку это рейтинговые данные, и их заполнение может исказить результаты.\n",
    "\n",
    "- Пропуски в rating (6766 строк) заменены на 'unknown', чтобы не терять значительное количество данных. Причины пропусков - возможно многие игры не получали официального рейтинга или игры, выпущенны до введения системы рейтингов.\n"
   ]
  },
  {
   "cell_type": "markdown",
   "metadata": {},
   "source": [
    "### Посчитайте суммарные продажи во всех регионах и запишите их в отдельный столбец."
   ]
  },
  {
   "cell_type": "code",
   "execution_count": 16,
   "metadata": {
    "scrolled": true
   },
   "outputs": [
    {
     "data": {
      "text/html": [
       "<div>\n",
       "<style scoped>\n",
       "    .dataframe tbody tr th:only-of-type {\n",
       "        vertical-align: middle;\n",
       "    }\n",
       "\n",
       "    .dataframe tbody tr th {\n",
       "        vertical-align: top;\n",
       "    }\n",
       "\n",
       "    .dataframe thead th {\n",
       "        text-align: right;\n",
       "    }\n",
       "</style>\n",
       "<table border=\"1\" class=\"dataframe\">\n",
       "  <thead>\n",
       "    <tr style=\"text-align: right;\">\n",
       "      <th></th>\n",
       "      <th>name</th>\n",
       "      <th>platform</th>\n",
       "      <th>year_of_release</th>\n",
       "      <th>genre</th>\n",
       "      <th>na_sales</th>\n",
       "      <th>eu_sales</th>\n",
       "      <th>jp_sales</th>\n",
       "      <th>other_sales</th>\n",
       "      <th>critic_score</th>\n",
       "      <th>user_score</th>\n",
       "      <th>rating</th>\n",
       "      <th>total_sales</th>\n",
       "    </tr>\n",
       "  </thead>\n",
       "  <tbody>\n",
       "    <tr>\n",
       "      <th>0</th>\n",
       "      <td>Wii Sports</td>\n",
       "      <td>Wii</td>\n",
       "      <td>2006</td>\n",
       "      <td>Sports</td>\n",
       "      <td>41.36</td>\n",
       "      <td>28.96</td>\n",
       "      <td>3.77</td>\n",
       "      <td>8.45</td>\n",
       "      <td>76.0</td>\n",
       "      <td>8.0</td>\n",
       "      <td>E</td>\n",
       "      <td>82.54</td>\n",
       "    </tr>\n",
       "    <tr>\n",
       "      <th>1</th>\n",
       "      <td>Super Mario Bros.</td>\n",
       "      <td>NES</td>\n",
       "      <td>1985</td>\n",
       "      <td>Platform</td>\n",
       "      <td>29.08</td>\n",
       "      <td>3.58</td>\n",
       "      <td>6.81</td>\n",
       "      <td>0.77</td>\n",
       "      <td>NaN</td>\n",
       "      <td>NaN</td>\n",
       "      <td>unknown</td>\n",
       "      <td>40.24</td>\n",
       "    </tr>\n",
       "    <tr>\n",
       "      <th>2</th>\n",
       "      <td>Mario Kart Wii</td>\n",
       "      <td>Wii</td>\n",
       "      <td>2008</td>\n",
       "      <td>Racing</td>\n",
       "      <td>15.68</td>\n",
       "      <td>12.76</td>\n",
       "      <td>3.79</td>\n",
       "      <td>3.29</td>\n",
       "      <td>82.0</td>\n",
       "      <td>8.3</td>\n",
       "      <td>E</td>\n",
       "      <td>35.52</td>\n",
       "    </tr>\n",
       "    <tr>\n",
       "      <th>3</th>\n",
       "      <td>Wii Sports Resort</td>\n",
       "      <td>Wii</td>\n",
       "      <td>2009</td>\n",
       "      <td>Sports</td>\n",
       "      <td>15.61</td>\n",
       "      <td>10.93</td>\n",
       "      <td>3.28</td>\n",
       "      <td>2.95</td>\n",
       "      <td>80.0</td>\n",
       "      <td>8.0</td>\n",
       "      <td>E</td>\n",
       "      <td>32.77</td>\n",
       "    </tr>\n",
       "    <tr>\n",
       "      <th>4</th>\n",
       "      <td>Pokemon Red/Pokemon Blue</td>\n",
       "      <td>GB</td>\n",
       "      <td>1996</td>\n",
       "      <td>Role-Playing</td>\n",
       "      <td>11.27</td>\n",
       "      <td>8.89</td>\n",
       "      <td>10.22</td>\n",
       "      <td>1.00</td>\n",
       "      <td>NaN</td>\n",
       "      <td>NaN</td>\n",
       "      <td>unknown</td>\n",
       "      <td>31.38</td>\n",
       "    </tr>\n",
       "    <tr>\n",
       "      <th>...</th>\n",
       "      <td>...</td>\n",
       "      <td>...</td>\n",
       "      <td>...</td>\n",
       "      <td>...</td>\n",
       "      <td>...</td>\n",
       "      <td>...</td>\n",
       "      <td>...</td>\n",
       "      <td>...</td>\n",
       "      <td>...</td>\n",
       "      <td>...</td>\n",
       "      <td>...</td>\n",
       "      <td>...</td>\n",
       "    </tr>\n",
       "    <tr>\n",
       "      <th>16710</th>\n",
       "      <td>Samurai Warriors: Sanada Maru</td>\n",
       "      <td>PS3</td>\n",
       "      <td>2016</td>\n",
       "      <td>Action</td>\n",
       "      <td>0.00</td>\n",
       "      <td>0.00</td>\n",
       "      <td>0.01</td>\n",
       "      <td>0.00</td>\n",
       "      <td>NaN</td>\n",
       "      <td>NaN</td>\n",
       "      <td>unknown</td>\n",
       "      <td>0.01</td>\n",
       "    </tr>\n",
       "    <tr>\n",
       "      <th>16711</th>\n",
       "      <td>LMA Manager 2007</td>\n",
       "      <td>X360</td>\n",
       "      <td>2006</td>\n",
       "      <td>Sports</td>\n",
       "      <td>0.00</td>\n",
       "      <td>0.01</td>\n",
       "      <td>0.00</td>\n",
       "      <td>0.00</td>\n",
       "      <td>NaN</td>\n",
       "      <td>NaN</td>\n",
       "      <td>unknown</td>\n",
       "      <td>0.01</td>\n",
       "    </tr>\n",
       "    <tr>\n",
       "      <th>16712</th>\n",
       "      <td>Haitaka no Psychedelica</td>\n",
       "      <td>PSV</td>\n",
       "      <td>2016</td>\n",
       "      <td>Adventure</td>\n",
       "      <td>0.00</td>\n",
       "      <td>0.00</td>\n",
       "      <td>0.01</td>\n",
       "      <td>0.00</td>\n",
       "      <td>NaN</td>\n",
       "      <td>NaN</td>\n",
       "      <td>unknown</td>\n",
       "      <td>0.01</td>\n",
       "    </tr>\n",
       "    <tr>\n",
       "      <th>16713</th>\n",
       "      <td>Spirits &amp; Spells</td>\n",
       "      <td>GBA</td>\n",
       "      <td>2003</td>\n",
       "      <td>Platform</td>\n",
       "      <td>0.01</td>\n",
       "      <td>0.00</td>\n",
       "      <td>0.00</td>\n",
       "      <td>0.00</td>\n",
       "      <td>NaN</td>\n",
       "      <td>NaN</td>\n",
       "      <td>unknown</td>\n",
       "      <td>0.01</td>\n",
       "    </tr>\n",
       "    <tr>\n",
       "      <th>16714</th>\n",
       "      <td>Winning Post 8 2016</td>\n",
       "      <td>PSV</td>\n",
       "      <td>2016</td>\n",
       "      <td>Simulation</td>\n",
       "      <td>0.00</td>\n",
       "      <td>0.00</td>\n",
       "      <td>0.01</td>\n",
       "      <td>0.00</td>\n",
       "      <td>NaN</td>\n",
       "      <td>NaN</td>\n",
       "      <td>unknown</td>\n",
       "      <td>0.01</td>\n",
       "    </tr>\n",
       "  </tbody>\n",
       "</table>\n",
       "<p>16444 rows × 12 columns</p>\n",
       "</div>"
      ],
      "text/plain": [
       "                                name platform  year_of_release         genre  \\\n",
       "0                         Wii Sports      Wii             2006        Sports   \n",
       "1                  Super Mario Bros.      NES             1985      Platform   \n",
       "2                     Mario Kart Wii      Wii             2008        Racing   \n",
       "3                  Wii Sports Resort      Wii             2009        Sports   \n",
       "4           Pokemon Red/Pokemon Blue       GB             1996  Role-Playing   \n",
       "...                              ...      ...              ...           ...   \n",
       "16710  Samurai Warriors: Sanada Maru      PS3             2016        Action   \n",
       "16711               LMA Manager 2007     X360             2006        Sports   \n",
       "16712        Haitaka no Psychedelica      PSV             2016     Adventure   \n",
       "16713               Spirits & Spells      GBA             2003      Platform   \n",
       "16714            Winning Post 8 2016      PSV             2016    Simulation   \n",
       "\n",
       "       na_sales  eu_sales  jp_sales  other_sales  critic_score  user_score  \\\n",
       "0         41.36     28.96      3.77         8.45          76.0         8.0   \n",
       "1         29.08      3.58      6.81         0.77           NaN         NaN   \n",
       "2         15.68     12.76      3.79         3.29          82.0         8.3   \n",
       "3         15.61     10.93      3.28         2.95          80.0         8.0   \n",
       "4         11.27      8.89     10.22         1.00           NaN         NaN   \n",
       "...         ...       ...       ...          ...           ...         ...   \n",
       "16710      0.00      0.00      0.01         0.00           NaN         NaN   \n",
       "16711      0.00      0.01      0.00         0.00           NaN         NaN   \n",
       "16712      0.00      0.00      0.01         0.00           NaN         NaN   \n",
       "16713      0.01      0.00      0.00         0.00           NaN         NaN   \n",
       "16714      0.00      0.00      0.01         0.00           NaN         NaN   \n",
       "\n",
       "        rating  total_sales  \n",
       "0            E        82.54  \n",
       "1      unknown        40.24  \n",
       "2            E        35.52  \n",
       "3            E        32.77  \n",
       "4      unknown        31.38  \n",
       "...        ...          ...  \n",
       "16710  unknown         0.01  \n",
       "16711  unknown         0.01  \n",
       "16712  unknown         0.01  \n",
       "16713  unknown         0.01  \n",
       "16714  unknown         0.01  \n",
       "\n",
       "[16444 rows x 12 columns]"
      ]
     },
     "execution_count": 16,
     "metadata": {},
     "output_type": "execute_result"
    }
   ],
   "source": [
    "#создаем новый столбец для суммарных продаж во всех регионах\n",
    "data['total_sales'] = data[['na_sales', 'eu_sales', 'jp_sales', 'other_sales']].sum(axis=1)\n",
    "\n",
    "#проверяем\n",
    "data"
   ]
  },
  {
   "cell_type": "markdown",
   "metadata": {},
   "source": [
    "<div class=\"alert alert-warning\">\n",
    "<h2> Комментарий ревьюера 🤓<a class=\"tocSkip\"> </h2>\n",
    "\n",
    "Будет хорошо добавить промежуточный вывод по блоку)"
   ]
  },
  {
   "cell_type": "markdown",
   "metadata": {},
   "source": [
    "    1. Преобразовали типы:\n",
    "\n",
    "    - `year_of_release` теперь имеет тип Int64 вместо float64, так как годы лучше представлять целыми числами.\n",
    "user_score был преобразован из типа object в float64. Значения tbd (to be determined) были заменены на NaN, так как они означают отсутствие оценки.\n",
    "    \n",
    "    - Удалили строки с пропусками в столбцах `name` и `genre`, поскольку они критически важны для анализа. Пропуски в `year_of_release` также удалены, так как столбец важен для временного анализа.\n",
    "\n",
    "    2. Пропуски в `critic_score` и `user_score` оставили без изменений, чтобы не искажать анализ, так как это рейтинговые данные.\n",
    "\n",
    "\n",
    "    3. Пропуски в `rating` заменили на 'unknown', чтобы не потерять значительную часть данных.\n",
    "\n",
    "    4. Создали новый столбец `total_sales`, который отображает суммарные продажи по всем регионам, для удобства дальнейшего анализа продаж игр."
   ]
  },
  {
   "cell_type": "markdown",
   "metadata": {},
   "source": [
    "<div class=\"alert alert-success\">\n",
    "<h2> Комментарий ревьюера 😊 <a class=\"tocSkip\"> </h2>\n",
    "\n",
    "Блок предобработки выполнен хорошо: необходимые столбцы добавлены, названия скорректированы, есть проверка на пропуски и дубликаты, молодец)\n",
    "</div>"
   ]
  },
  {
   "cell_type": "markdown",
   "metadata": {},
   "source": [
    "## Шаг. Проведите исследовательский анализ данных"
   ]
  },
  {
   "cell_type": "markdown",
   "metadata": {},
   "source": [
    "### Посмотрите, сколько игр выпускалось в разные годы. Важны ли данные за все периоды?"
   ]
  },
  {
   "cell_type": "code",
   "execution_count": 17,
   "metadata": {
    "scrolled": true
   },
   "outputs": [
    {
     "data": {
      "text/html": [
       "<div>\n",
       "<style scoped>\n",
       "    .dataframe tbody tr th:only-of-type {\n",
       "        vertical-align: middle;\n",
       "    }\n",
       "\n",
       "    .dataframe tbody tr th {\n",
       "        vertical-align: top;\n",
       "    }\n",
       "\n",
       "    .dataframe thead th {\n",
       "        text-align: right;\n",
       "    }\n",
       "</style>\n",
       "<table border=\"1\" class=\"dataframe\">\n",
       "  <thead>\n",
       "    <tr style=\"text-align: right;\">\n",
       "      <th></th>\n",
       "      <th>year_of_release</th>\n",
       "      <th>games_count</th>\n",
       "    </tr>\n",
       "  </thead>\n",
       "  <tbody>\n",
       "    <tr>\n",
       "      <th>0</th>\n",
       "      <td>1980</td>\n",
       "      <td>9</td>\n",
       "    </tr>\n",
       "    <tr>\n",
       "      <th>1</th>\n",
       "      <td>1981</td>\n",
       "      <td>46</td>\n",
       "    </tr>\n",
       "    <tr>\n",
       "      <th>2</th>\n",
       "      <td>1982</td>\n",
       "      <td>36</td>\n",
       "    </tr>\n",
       "    <tr>\n",
       "      <th>3</th>\n",
       "      <td>1983</td>\n",
       "      <td>17</td>\n",
       "    </tr>\n",
       "    <tr>\n",
       "      <th>4</th>\n",
       "      <td>1984</td>\n",
       "      <td>14</td>\n",
       "    </tr>\n",
       "    <tr>\n",
       "      <th>5</th>\n",
       "      <td>1985</td>\n",
       "      <td>14</td>\n",
       "    </tr>\n",
       "    <tr>\n",
       "      <th>6</th>\n",
       "      <td>1986</td>\n",
       "      <td>21</td>\n",
       "    </tr>\n",
       "    <tr>\n",
       "      <th>7</th>\n",
       "      <td>1987</td>\n",
       "      <td>16</td>\n",
       "    </tr>\n",
       "    <tr>\n",
       "      <th>8</th>\n",
       "      <td>1988</td>\n",
       "      <td>15</td>\n",
       "    </tr>\n",
       "    <tr>\n",
       "      <th>9</th>\n",
       "      <td>1989</td>\n",
       "      <td>17</td>\n",
       "    </tr>\n",
       "    <tr>\n",
       "      <th>10</th>\n",
       "      <td>1990</td>\n",
       "      <td>16</td>\n",
       "    </tr>\n",
       "    <tr>\n",
       "      <th>11</th>\n",
       "      <td>1991</td>\n",
       "      <td>41</td>\n",
       "    </tr>\n",
       "    <tr>\n",
       "      <th>12</th>\n",
       "      <td>1992</td>\n",
       "      <td>43</td>\n",
       "    </tr>\n",
       "    <tr>\n",
       "      <th>13</th>\n",
       "      <td>1993</td>\n",
       "      <td>60</td>\n",
       "    </tr>\n",
       "    <tr>\n",
       "      <th>14</th>\n",
       "      <td>1994</td>\n",
       "      <td>121</td>\n",
       "    </tr>\n",
       "    <tr>\n",
       "      <th>15</th>\n",
       "      <td>1995</td>\n",
       "      <td>219</td>\n",
       "    </tr>\n",
       "    <tr>\n",
       "      <th>16</th>\n",
       "      <td>1996</td>\n",
       "      <td>263</td>\n",
       "    </tr>\n",
       "    <tr>\n",
       "      <th>17</th>\n",
       "      <td>1997</td>\n",
       "      <td>289</td>\n",
       "    </tr>\n",
       "    <tr>\n",
       "      <th>18</th>\n",
       "      <td>1998</td>\n",
       "      <td>379</td>\n",
       "    </tr>\n",
       "    <tr>\n",
       "      <th>19</th>\n",
       "      <td>1999</td>\n",
       "      <td>338</td>\n",
       "    </tr>\n",
       "    <tr>\n",
       "      <th>20</th>\n",
       "      <td>2000</td>\n",
       "      <td>350</td>\n",
       "    </tr>\n",
       "    <tr>\n",
       "      <th>21</th>\n",
       "      <td>2001</td>\n",
       "      <td>482</td>\n",
       "    </tr>\n",
       "    <tr>\n",
       "      <th>22</th>\n",
       "      <td>2002</td>\n",
       "      <td>829</td>\n",
       "    </tr>\n",
       "    <tr>\n",
       "      <th>23</th>\n",
       "      <td>2003</td>\n",
       "      <td>775</td>\n",
       "    </tr>\n",
       "    <tr>\n",
       "      <th>24</th>\n",
       "      <td>2004</td>\n",
       "      <td>762</td>\n",
       "    </tr>\n",
       "    <tr>\n",
       "      <th>25</th>\n",
       "      <td>2005</td>\n",
       "      <td>939</td>\n",
       "    </tr>\n",
       "    <tr>\n",
       "      <th>26</th>\n",
       "      <td>2006</td>\n",
       "      <td>1006</td>\n",
       "    </tr>\n",
       "    <tr>\n",
       "      <th>27</th>\n",
       "      <td>2007</td>\n",
       "      <td>1197</td>\n",
       "    </tr>\n",
       "    <tr>\n",
       "      <th>28</th>\n",
       "      <td>2008</td>\n",
       "      <td>1427</td>\n",
       "    </tr>\n",
       "    <tr>\n",
       "      <th>29</th>\n",
       "      <td>2009</td>\n",
       "      <td>1426</td>\n",
       "    </tr>\n",
       "    <tr>\n",
       "      <th>30</th>\n",
       "      <td>2010</td>\n",
       "      <td>1255</td>\n",
       "    </tr>\n",
       "    <tr>\n",
       "      <th>31</th>\n",
       "      <td>2011</td>\n",
       "      <td>1136</td>\n",
       "    </tr>\n",
       "    <tr>\n",
       "      <th>32</th>\n",
       "      <td>2012</td>\n",
       "      <td>653</td>\n",
       "    </tr>\n",
       "    <tr>\n",
       "      <th>33</th>\n",
       "      <td>2013</td>\n",
       "      <td>544</td>\n",
       "    </tr>\n",
       "    <tr>\n",
       "      <th>34</th>\n",
       "      <td>2014</td>\n",
       "      <td>581</td>\n",
       "    </tr>\n",
       "    <tr>\n",
       "      <th>35</th>\n",
       "      <td>2015</td>\n",
       "      <td>606</td>\n",
       "    </tr>\n",
       "    <tr>\n",
       "      <th>36</th>\n",
       "      <td>2016</td>\n",
       "      <td>502</td>\n",
       "    </tr>\n",
       "  </tbody>\n",
       "</table>\n",
       "</div>"
      ],
      "text/plain": [
       "    year_of_release  games_count\n",
       "0              1980            9\n",
       "1              1981           46\n",
       "2              1982           36\n",
       "3              1983           17\n",
       "4              1984           14\n",
       "5              1985           14\n",
       "6              1986           21\n",
       "7              1987           16\n",
       "8              1988           15\n",
       "9              1989           17\n",
       "10             1990           16\n",
       "11             1991           41\n",
       "12             1992           43\n",
       "13             1993           60\n",
       "14             1994          121\n",
       "15             1995          219\n",
       "16             1996          263\n",
       "17             1997          289\n",
       "18             1998          379\n",
       "19             1999          338\n",
       "20             2000          350\n",
       "21             2001          482\n",
       "22             2002          829\n",
       "23             2003          775\n",
       "24             2004          762\n",
       "25             2005          939\n",
       "26             2006         1006\n",
       "27             2007         1197\n",
       "28             2008         1427\n",
       "29             2009         1426\n",
       "30             2010         1255\n",
       "31             2011         1136\n",
       "32             2012          653\n",
       "33             2013          544\n",
       "34             2014          581\n",
       "35             2015          606\n",
       "36             2016          502"
      ]
     },
     "execution_count": 17,
     "metadata": {},
     "output_type": "execute_result"
    }
   ],
   "source": [
    "#посмотрим количество игр в разных годах\n",
    "game_per_year = data.groupby('year_of_release')['name'].count()\n",
    "game_per_year.reset_index(name='games_count')"
   ]
  },
  {
   "cell_type": "code",
   "execution_count": 18,
   "metadata": {},
   "outputs": [
    {
     "data": {
      "image/png": "[encoded data removed]",
      "text/plain": [
       "<Figure size 720x432 with 1 Axes>"
      ]
     },
     "metadata": {
      "needs_background": "light"
     },
     "output_type": "display_data"
    }
   ],
   "source": [
    "plt.figure(figsize=(10, 6))\n",
    "plt.plot(game_per_year.index, game_per_year.values, marker='o')\n",
    "plt.title('Количество игр по годам выпуска')\n",
    "plt.xlabel('Год выпуска')\n",
    "plt.ylabel('Количество игр')\n",
    "plt.grid(True)\n",
    "plt.show()"
   ]
  },
  {
   "cell_type": "markdown",
   "metadata": {},
   "source": [
    "Количество игр начало выпускаться активнее с 2000 года и с тех пор шел на подъем до 2011 года. Подъем мог придать выход игровых платформ как PS2 (2000г), Xbox360(2005г), Wii(2006г.), PS3 (2006г). Данные по годам взяты с интернета, указаны даты их производства. С 2011 по 2016 год количество игр уменшилось (500-653)"
   ]
  },
  {
   "cell_type": "markdown",
   "metadata": {},
   "source": [
    "<div class=\"alert alert-block alert-danger\">\n",
    "<h2> Комментарий ревьюера ⛔️<a class=\"tocSkip\"></h2>\n",
    "    <s>\n",
    "Необходимо построить распределение по годам на графике)"
   ]
  },
  {
   "cell_type": "markdown",
   "metadata": {},
   "source": [
    "<div class=\"alert alert-success\">\n",
    "<h2> Комментарий ревьюера 😊 v_2 <a class=\"tocSkip\"> </h2>\n",
    "\n",
    "👍"
   ]
  },
  {
   "cell_type": "markdown",
   "metadata": {},
   "source": [
    "### Посмотрите, как менялись продажи по платформам. Выберите платформы с наибольшими суммарными продажами и постройте распределение по годам. За какой характерный срок появляются новые и исчезают старые платформы?"
   ]
  },
  {
   "cell_type": "code",
   "execution_count": 19,
   "metadata": {
    "scrolled": true
   },
   "outputs": [
    {
     "data": {
      "text/html": [
       "<div>\n",
       "<style scoped>\n",
       "    .dataframe tbody tr th:only-of-type {\n",
       "        vertical-align: middle;\n",
       "    }\n",
       "\n",
       "    .dataframe tbody tr th {\n",
       "        vertical-align: top;\n",
       "    }\n",
       "\n",
       "    .dataframe thead th {\n",
       "        text-align: right;\n",
       "    }\n",
       "</style>\n",
       "<table border=\"1\" class=\"dataframe\">\n",
       "  <thead>\n",
       "    <tr style=\"text-align: right;\">\n",
       "      <th></th>\n",
       "      <th>platform</th>\n",
       "      <th>total_sales</th>\n",
       "    </tr>\n",
       "  </thead>\n",
       "  <tbody>\n",
       "    <tr>\n",
       "      <th>16</th>\n",
       "      <td>PS2</td>\n",
       "      <td>1233.56</td>\n",
       "    </tr>\n",
       "    <tr>\n",
       "      <th>28</th>\n",
       "      <td>X360</td>\n",
       "      <td>961.24</td>\n",
       "    </tr>\n",
       "    <tr>\n",
       "      <th>17</th>\n",
       "      <td>PS3</td>\n",
       "      <td>931.34</td>\n",
       "    </tr>\n",
       "    <tr>\n",
       "      <th>26</th>\n",
       "      <td>Wii</td>\n",
       "      <td>891.18</td>\n",
       "    </tr>\n",
       "    <tr>\n",
       "      <th>4</th>\n",
       "      <td>DS</td>\n",
       "      <td>802.78</td>\n",
       "    </tr>\n",
       "    <tr>\n",
       "      <th>15</th>\n",
       "      <td>PS</td>\n",
       "      <td>727.58</td>\n",
       "    </tr>\n",
       "    <tr>\n",
       "      <th>18</th>\n",
       "      <td>PS4</td>\n",
       "      <td>314.14</td>\n",
       "    </tr>\n",
       "    <tr>\n",
       "      <th>6</th>\n",
       "      <td>GBA</td>\n",
       "      <td>312.88</td>\n",
       "    </tr>\n",
       "    <tr>\n",
       "      <th>19</th>\n",
       "      <td>PSP</td>\n",
       "      <td>289.53</td>\n",
       "    </tr>\n",
       "    <tr>\n",
       "      <th>2</th>\n",
       "      <td>3DS</td>\n",
       "      <td>257.81</td>\n",
       "    </tr>\n",
       "    <tr>\n",
       "      <th>13</th>\n",
       "      <td>PC</td>\n",
       "      <td>255.76</td>\n",
       "    </tr>\n",
       "    <tr>\n",
       "      <th>5</th>\n",
       "      <td>GB</td>\n",
       "      <td>254.43</td>\n",
       "    </tr>\n",
       "    <tr>\n",
       "      <th>29</th>\n",
       "      <td>XB</td>\n",
       "      <td>251.57</td>\n",
       "    </tr>\n",
       "    <tr>\n",
       "      <th>11</th>\n",
       "      <td>NES</td>\n",
       "      <td>251.05</td>\n",
       "    </tr>\n",
       "    <tr>\n",
       "      <th>10</th>\n",
       "      <td>N64</td>\n",
       "      <td>218.01</td>\n",
       "    </tr>\n",
       "    <tr>\n",
       "      <th>23</th>\n",
       "      <td>SNES</td>\n",
       "      <td>200.04</td>\n",
       "    </tr>\n",
       "    <tr>\n",
       "      <th>7</th>\n",
       "      <td>GC</td>\n",
       "      <td>196.73</td>\n",
       "    </tr>\n",
       "    <tr>\n",
       "      <th>30</th>\n",
       "      <td>XOne</td>\n",
       "      <td>159.32</td>\n",
       "    </tr>\n",
       "    <tr>\n",
       "      <th>0</th>\n",
       "      <td>2600</td>\n",
       "      <td>86.48</td>\n",
       "    </tr>\n",
       "    <tr>\n",
       "      <th>27</th>\n",
       "      <td>WiiU</td>\n",
       "      <td>82.19</td>\n",
       "    </tr>\n",
       "    <tr>\n",
       "      <th>20</th>\n",
       "      <td>PSV</td>\n",
       "      <td>53.81</td>\n",
       "    </tr>\n",
       "    <tr>\n",
       "      <th>21</th>\n",
       "      <td>SAT</td>\n",
       "      <td>33.59</td>\n",
       "    </tr>\n",
       "    <tr>\n",
       "      <th>8</th>\n",
       "      <td>GEN</td>\n",
       "      <td>28.35</td>\n",
       "    </tr>\n",
       "    <tr>\n",
       "      <th>3</th>\n",
       "      <td>DC</td>\n",
       "      <td>15.95</td>\n",
       "    </tr>\n",
       "    <tr>\n",
       "      <th>22</th>\n",
       "      <td>SCD</td>\n",
       "      <td>1.86</td>\n",
       "    </tr>\n",
       "    <tr>\n",
       "      <th>12</th>\n",
       "      <td>NG</td>\n",
       "      <td>1.44</td>\n",
       "    </tr>\n",
       "    <tr>\n",
       "      <th>25</th>\n",
       "      <td>WS</td>\n",
       "      <td>1.42</td>\n",
       "    </tr>\n",
       "    <tr>\n",
       "      <th>24</th>\n",
       "      <td>TG16</td>\n",
       "      <td>0.16</td>\n",
       "    </tr>\n",
       "    <tr>\n",
       "      <th>1</th>\n",
       "      <td>3DO</td>\n",
       "      <td>0.10</td>\n",
       "    </tr>\n",
       "    <tr>\n",
       "      <th>9</th>\n",
       "      <td>GG</td>\n",
       "      <td>0.04</td>\n",
       "    </tr>\n",
       "    <tr>\n",
       "      <th>14</th>\n",
       "      <td>PCFX</td>\n",
       "      <td>0.03</td>\n",
       "    </tr>\n",
       "  </tbody>\n",
       "</table>\n",
       "</div>"
      ],
      "text/plain": [
       "   platform  total_sales\n",
       "16      PS2      1233.56\n",
       "28     X360       961.24\n",
       "17      PS3       931.34\n",
       "26      Wii       891.18\n",
       "4        DS       802.78\n",
       "15       PS       727.58\n",
       "18      PS4       314.14\n",
       "6       GBA       312.88\n",
       "19      PSP       289.53\n",
       "2       3DS       257.81\n",
       "13       PC       255.76\n",
       "5        GB       254.43\n",
       "29       XB       251.57\n",
       "11      NES       251.05\n",
       "10      N64       218.01\n",
       "23     SNES       200.04\n",
       "7        GC       196.73\n",
       "30     XOne       159.32\n",
       "0      2600        86.48\n",
       "27     WiiU        82.19\n",
       "20      PSV        53.81\n",
       "21      SAT        33.59\n",
       "8       GEN        28.35\n",
       "3        DC        15.95\n",
       "22      SCD         1.86\n",
       "12       NG         1.44\n",
       "25       WS         1.42\n",
       "24     TG16         0.16\n",
       "1       3DO         0.10\n",
       "9        GG         0.04\n",
       "14     PCFX         0.03"
      ]
     },
     "execution_count": 19,
     "metadata": {},
     "output_type": "execute_result"
    }
   ],
   "source": [
    "#платформы с наибольшими суммарными продажами\n",
    "platform_sales = data.groupby('platform')['total_sales'].sum().reset_index()\n",
    "top_platforms = platform_sales.sort_values(by='total_sales', ascending=False)\n",
    "top_platforms"
   ]
  },
  {
   "cell_type": "code",
   "execution_count": 20,
   "metadata": {
    "scrolled": true
   },
   "outputs": [
    {
     "data": {
      "image/png": "[encoded data removed]",
      "text/plain": [
       "<Figure size 720x432 with 1 Axes>"
      ]
     },
     "metadata": {
      "needs_background": "light"
     },
     "output_type": "display_data"
    }
   ],
   "source": [
    "plt.figure(figsize=(10, 6))\n",
    "plt.bar(top_platforms['platform'], top_platforms['total_sales'])\n",
    "plt.title('Платформы по суммарным продажам')\n",
    "plt.xlabel('Платформы')\n",
    "plt.ylabel('Суммарные продажи (млн.)')\n",
    "plt.xticks(rotation=45)\n",
    "plt.tight_layout()\n",
    "plt.show()"
   ]
  },
  {
   "cell_type": "code",
   "execution_count": 21,
   "metadata": {},
   "outputs": [],
   "source": [
    "#выделяем топ 5 платформ, также они отображены на графике\n",
    "top_platforms = top_platforms.head(5)"
   ]
  },
  {
   "cell_type": "markdown",
   "metadata": {},
   "source": [
    "<div class=\"alert alert-block alert-danger\">\n",
    "<h2> Комментарий ревьюера ⛔️<a class=\"tocSkip\"></h2>\n",
    "    <s>И здесь важно отобразить платформы, чтобы мы могли наглядно изучить их, прежде чем выбирать лидеров)"
   ]
  },
  {
   "cell_type": "markdown",
   "metadata": {},
   "source": [
    "<div class=\"alert alert-success\">\n",
    "<h2> Комментарий ревьюера 😊 v_2 <a class=\"tocSkip\"> </h2>\n",
    "\n",
    "👍"
   ]
  },
  {
   "cell_type": "code",
   "execution_count": 22,
   "metadata": {},
   "outputs": [
    {
     "data": {
      "text/plain": [
       "['PS2', 'X360', 'PS3', 'Wii', 'DS']"
      ]
     },
     "execution_count": 22,
     "metadata": {},
     "output_type": "execute_result"
    }
   ],
   "source": [
    "#фильтруем данные для топ-5 платформ\n",
    "top_platform_names = top_platforms['platform'].tolist()\n",
    "top_platform_names"
   ]
  },
  {
   "cell_type": "code",
   "execution_count": 23,
   "metadata": {},
   "outputs": [],
   "source": [
    "#продолжаем фильтровать\n",
    "filtered_data = data[data['platform'].isin(top_platform_names)]"
   ]
  },
  {
   "cell_type": "code",
   "execution_count": 24,
   "metadata": {},
   "outputs": [
    {
     "data": {
      "text/html": [
       "<div>\n",
       "<style scoped>\n",
       "    .dataframe tbody tr th:only-of-type {\n",
       "        vertical-align: middle;\n",
       "    }\n",
       "\n",
       "    .dataframe tbody tr th {\n",
       "        vertical-align: top;\n",
       "    }\n",
       "\n",
       "    .dataframe thead th {\n",
       "        text-align: right;\n",
       "    }\n",
       "</style>\n",
       "<table border=\"1\" class=\"dataframe\">\n",
       "  <thead>\n",
       "    <tr style=\"text-align: right;\">\n",
       "      <th>platform</th>\n",
       "      <th>DS</th>\n",
       "      <th>PS2</th>\n",
       "      <th>PS3</th>\n",
       "      <th>Wii</th>\n",
       "      <th>X360</th>\n",
       "    </tr>\n",
       "    <tr>\n",
       "      <th>year_of_release</th>\n",
       "      <th></th>\n",
       "      <th></th>\n",
       "      <th></th>\n",
       "      <th></th>\n",
       "      <th></th>\n",
       "    </tr>\n",
       "  </thead>\n",
       "  <tbody>\n",
       "    <tr>\n",
       "      <th>1985</th>\n",
       "      <td>0.02</td>\n",
       "      <td>NaN</td>\n",
       "      <td>NaN</td>\n",
       "      <td>NaN</td>\n",
       "      <td>NaN</td>\n",
       "    </tr>\n",
       "    <tr>\n",
       "      <th>2000</th>\n",
       "      <td>NaN</td>\n",
       "      <td>39.17</td>\n",
       "      <td>NaN</td>\n",
       "      <td>NaN</td>\n",
       "      <td>NaN</td>\n",
       "    </tr>\n",
       "    <tr>\n",
       "      <th>2001</th>\n",
       "      <td>NaN</td>\n",
       "      <td>166.43</td>\n",
       "      <td>NaN</td>\n",
       "      <td>NaN</td>\n",
       "      <td>NaN</td>\n",
       "    </tr>\n",
       "    <tr>\n",
       "      <th>2002</th>\n",
       "      <td>NaN</td>\n",
       "      <td>205.38</td>\n",
       "      <td>NaN</td>\n",
       "      <td>NaN</td>\n",
       "      <td>NaN</td>\n",
       "    </tr>\n",
       "    <tr>\n",
       "      <th>2003</th>\n",
       "      <td>NaN</td>\n",
       "      <td>184.31</td>\n",
       "      <td>NaN</td>\n",
       "      <td>NaN</td>\n",
       "      <td>NaN</td>\n",
       "    </tr>\n",
       "    <tr>\n",
       "      <th>2004</th>\n",
       "      <td>17.27</td>\n",
       "      <td>211.81</td>\n",
       "      <td>NaN</td>\n",
       "      <td>NaN</td>\n",
       "      <td>NaN</td>\n",
       "    </tr>\n",
       "    <tr>\n",
       "      <th>2005</th>\n",
       "      <td>130.14</td>\n",
       "      <td>160.66</td>\n",
       "      <td>NaN</td>\n",
       "      <td>NaN</td>\n",
       "      <td>8.25</td>\n",
       "    </tr>\n",
       "    <tr>\n",
       "      <th>2006</th>\n",
       "      <td>119.81</td>\n",
       "      <td>103.42</td>\n",
       "      <td>20.96</td>\n",
       "      <td>137.15</td>\n",
       "      <td>51.62</td>\n",
       "    </tr>\n",
       "    <tr>\n",
       "      <th>2007</th>\n",
       "      <td>146.94</td>\n",
       "      <td>75.99</td>\n",
       "      <td>73.19</td>\n",
       "      <td>152.77</td>\n",
       "      <td>95.41</td>\n",
       "    </tr>\n",
       "    <tr>\n",
       "      <th>2008</th>\n",
       "      <td>145.31</td>\n",
       "      <td>53.90</td>\n",
       "      <td>118.52</td>\n",
       "      <td>171.32</td>\n",
       "      <td>135.26</td>\n",
       "    </tr>\n",
       "    <tr>\n",
       "      <th>2009</th>\n",
       "      <td>119.54</td>\n",
       "      <td>26.40</td>\n",
       "      <td>130.93</td>\n",
       "      <td>206.97</td>\n",
       "      <td>120.29</td>\n",
       "    </tr>\n",
       "    <tr>\n",
       "      <th>2010</th>\n",
       "      <td>85.02</td>\n",
       "      <td>5.64</td>\n",
       "      <td>142.17</td>\n",
       "      <td>127.95</td>\n",
       "      <td>170.03</td>\n",
       "    </tr>\n",
       "    <tr>\n",
       "      <th>2011</th>\n",
       "      <td>26.18</td>\n",
       "      <td>0.45</td>\n",
       "      <td>156.78</td>\n",
       "      <td>59.65</td>\n",
       "      <td>143.84</td>\n",
       "    </tr>\n",
       "    <tr>\n",
       "      <th>2012</th>\n",
       "      <td>11.01</td>\n",
       "      <td>NaN</td>\n",
       "      <td>107.36</td>\n",
       "      <td>21.71</td>\n",
       "      <td>99.74</td>\n",
       "    </tr>\n",
       "    <tr>\n",
       "      <th>2013</th>\n",
       "      <td>1.54</td>\n",
       "      <td>NaN</td>\n",
       "      <td>113.25</td>\n",
       "      <td>8.59</td>\n",
       "      <td>88.58</td>\n",
       "    </tr>\n",
       "    <tr>\n",
       "      <th>2014</th>\n",
       "      <td>NaN</td>\n",
       "      <td>NaN</td>\n",
       "      <td>47.76</td>\n",
       "      <td>3.75</td>\n",
       "      <td>34.74</td>\n",
       "    </tr>\n",
       "    <tr>\n",
       "      <th>2015</th>\n",
       "      <td>NaN</td>\n",
       "      <td>NaN</td>\n",
       "      <td>16.82</td>\n",
       "      <td>1.14</td>\n",
       "      <td>11.96</td>\n",
       "    </tr>\n",
       "    <tr>\n",
       "      <th>2016</th>\n",
       "      <td>NaN</td>\n",
       "      <td>NaN</td>\n",
       "      <td>3.60</td>\n",
       "      <td>0.18</td>\n",
       "      <td>1.52</td>\n",
       "    </tr>\n",
       "  </tbody>\n",
       "</table>\n",
       "</div>"
      ],
      "text/plain": [
       "platform             DS     PS2     PS3     Wii    X360\n",
       "year_of_release                                        \n",
       "1985               0.02     NaN     NaN     NaN     NaN\n",
       "2000                NaN   39.17     NaN     NaN     NaN\n",
       "2001                NaN  166.43     NaN     NaN     NaN\n",
       "2002                NaN  205.38     NaN     NaN     NaN\n",
       "2003                NaN  184.31     NaN     NaN     NaN\n",
       "2004              17.27  211.81     NaN     NaN     NaN\n",
       "2005             130.14  160.66     NaN     NaN    8.25\n",
       "2006             119.81  103.42   20.96  137.15   51.62\n",
       "2007             146.94   75.99   73.19  152.77   95.41\n",
       "2008             145.31   53.90  118.52  171.32  135.26\n",
       "2009             119.54   26.40  130.93  206.97  120.29\n",
       "2010              85.02    5.64  142.17  127.95  170.03\n",
       "2011              26.18    0.45  156.78   59.65  143.84\n",
       "2012              11.01     NaN  107.36   21.71   99.74\n",
       "2013               1.54     NaN  113.25    8.59   88.58\n",
       "2014                NaN     NaN   47.76    3.75   34.74\n",
       "2015                NaN     NaN   16.82    1.14   11.96\n",
       "2016                NaN     NaN    3.60    0.18    1.52"
      ]
     },
     "execution_count": 24,
     "metadata": {},
     "output_type": "execute_result"
    }
   ],
   "source": [
    "#группируем данные по платформам и годам\n",
    "platform_year_sales = filtered_data.groupby(['year_of_release', 'platform'])['total_sales'].sum().unstack()\n",
    "platform_year_sales"
   ]
  },
  {
   "cell_type": "code",
   "execution_count": 25,
   "metadata": {
    "scrolled": false
   },
   "outputs": [
    {
     "data": {
      "image/png": "[encoded data removed]",
      "text/plain": [
       "<Figure size 864x432 with 1 Axes>"
      ]
     },
     "metadata": {
      "needs_background": "light"
     },
     "output_type": "display_data"
    }
   ],
   "source": [
    "#построим график\n",
    "\n",
    "platform_year_sales.plot(kind='line', marker='o', figsize=(12, 6))\n",
    "plt.title('Распределение продаж по платформам по годам')\n",
    "plt.xlabel('Год выпуска')\n",
    "plt.ylabel('Суммарные продажи (млн.)')\n",
    "plt.legend(title='Платформа')\n",
    "plt.grid(True)\n",
    "plt.tight_layout()\n",
    "plt.show()"
   ]
  },
  {
   "cell_type": "markdown",
   "metadata": {},
   "source": [
    "<div class=\"alert alert-warning\">\n",
    "<h2> Комментарий ревьюера 🤓<a class=\"tocSkip\"> </h2>\n",
    "        \n",
    "Можно убрать технические строчки перед графиком, добавив `plt.show()` или `;`. </div>"
   ]
  },
  {
   "cell_type": "markdown",
   "metadata": {},
   "source": [
    "<div class=\"alert alert-info\"> <b>Комментарий студента:</b> Разобрался, спасибо! Оказывается два раза указал figzie 🤓</div>"
   ]
  },
  {
   "cell_type": "markdown",
   "metadata": {},
   "source": [
    "<div class=\"alert alert-success\">\n",
    "<h2> Комментарий ревьюера 😊 v_2 <a class=\"tocSkip\"> </h2>\n",
    "\n",
    "👍"
   ]
  },
  {
   "cell_type": "markdown",
   "metadata": {},
   "source": [
    "Характерный срок появления и исчезновения платформ составляет примерно **5–10 лет.**\n",
    "\n",
    "**PS2 (PlayStation 2)**:\n",
    "   - продажи PS2 начинают расти примерно с 2000 года.\n",
    "   - платформа достигла пика продаж около 2004–2005 года.\n",
    "   - продажи начали резко снижаться после 2007 года, и платформа практически исчезла к 2010 году.\n",
    "   - активная жизнь PS2 длилась около 10 лет.\n",
    "\n",
    "**X360 (Xbox 360)**:\n",
    "   - продажи начались примерно с 2005 года.\n",
    "   - пик пришёлся на 2007–2011 годы.\n",
    "   - продажи резко пошли на спад после 2012 года.\n",
    "   - активная жизнь платформы длилась около 8-9 лет.\n",
    "\n",
    "**PS3 (PlayStation 3)**:\n",
    "   - старт продаж начался в 2006 году.\n",
    "   - достигнут в период 2008–2012 годов.\n",
    "   - продажи начали уменьшаться после 2013 года.\n",
    "   - активная жизнь PS3 составляет около 7-8 лет.\n",
    "\n",
    "**Wii**:\n",
    "   - Wii вышла на рынок в 2006 году.\n",
    "   - платформа достигла пика примерно в 2008 году.\n",
    "   - после 2011 года продажи резко пошли вниз.\n",
    "   - активная фаза длилась около 6-7 лет.\n",
    "\n",
    "**DS**:\n",
    "   - продажи начали расти с 2004 года.\n",
    "   - пик продаж пришёлся на период 2007–2009 годов.\n",
    "   - после 2010 года продажи начали снижаться.\n",
    "   - платформа была активной около 8-9 лет."
   ]
  },
  {
   "cell_type": "markdown",
   "metadata": {},
   "source": [
    "<div class=\"alert alert-success\">\n",
    "<h2> Комментарий ревьюера 😊<a class=\"tocSkip\"> </h2>\n",
    "    \n",
    "Отлично, согласна с твоей интерпретацией графика, также здорово, что ты корректно оформил график, все получилось!"
   ]
  },
  {
   "cell_type": "markdown",
   "metadata": {},
   "source": [
    "### Возьмите данные за соответствующий актуальный период. Актуальный период определите самостоятельно в результате исследования предыдущих вопросов. Основной фактор — эти данные помогут построить прогноз на 2017 год."
   ]
  },
  {
   "cell_type": "markdown",
   "metadata": {},
   "source": [
    "Пик продаж наблюдается в период с **2006 по 2010 годы**.\n",
    "Начиная с **2011 года**, происходит постепенное снижение продаж, и к **2016 году** продажи значительно упали.\n",
    "Исходя из этого, актуальный период с **2013 по 2016.**"
   ]
  },
  {
   "cell_type": "markdown",
   "metadata": {},
   "source": [
    "<div class=\"alert alert-block alert-danger\">\n",
    "<h2> Комментарий ревьюера ⛔️<a class=\"tocSkip\"></h2>\n",
    "    <s>\n",
    "Для целей прогнозирования продаж на следующий год даже в традиционных бизнесах редко берут данные более чем за 2-3 года. А в такой динамично меняющейся индустрии, как компьютерные игры и вовсе не стоит брать слишком большой временной интервал - иначе обязательно захватишь уже отжившие тренды. Но и слишком короткий период тоже брать не стоит."
   ]
  },
  {
   "cell_type": "markdown",
   "metadata": {},
   "source": [
    "<div class=\"alert alert-block alert-danger\">\n",
    "<h2> Комментарий ревьюера ⛔️ v_2 <a class=\"tocSkip\"></h2>\n",
    "<s>\n",
    "\n",
    "На данном шаге очень важно выбрать актуальный период, причем как можно более ранний, поскольку резкий спад популярности платформы может произойти за 3-4 года. Если мы посмотрим на продажи игр по отдельности, как на графике ранее, мы можем увидеть,  что лидером по продажам за всю историю PS2. Но продажи к 2011 году уже нулевые. X360 был на пике в 2010, но к 2016 упал почти до 0. Та же ситуация с PS3: к 2016 г. продажи стремятся к нулю, у Wii продажи нулевые уже в 2015 г.  Соответственно, если мы выбираем более длинный период, мы рискуем захватить отстающий тренд, т.е. включаем в данные неактуальные платформы предпериода, которые не должны оставаться в данных для предсказываемом периоде. Outdated платформы лучше исключить из анализа, так как они будут искажать итоговые результаты, вносить устаревший тренд (к устаревшим платформам можно отнести  X360, PS3, Wii, PSP)"
   ]
  },
  {
   "cell_type": "markdown",
   "metadata": {},
   "source": [
    "<div class=\"alert alert-info\"> <b>Комментарий студента:</b> Использовал актуальные данные и обновил вывод</div>"
   ]
  },
  {
   "cell_type": "markdown",
   "metadata": {},
   "source": [
    "<div class=\"alert alert-success\">\n",
    "<h2> Комментарий ревьюера 😊 v_3 <a class=\"tocSkip\"> </h2>\n",
    "\n",
    "Теперь все отлично)"
   ]
  },
  {
   "cell_type": "code",
   "execution_count": 26,
   "metadata": {},
   "outputs": [
    {
     "data": {
      "text/html": [
       "<div>\n",
       "<style scoped>\n",
       "    .dataframe tbody tr th:only-of-type {\n",
       "        vertical-align: middle;\n",
       "    }\n",
       "\n",
       "    .dataframe tbody tr th {\n",
       "        vertical-align: top;\n",
       "    }\n",
       "\n",
       "    .dataframe thead th {\n",
       "        text-align: right;\n",
       "    }\n",
       "</style>\n",
       "<table border=\"1\" class=\"dataframe\">\n",
       "  <thead>\n",
       "    <tr style=\"text-align: right;\">\n",
       "      <th></th>\n",
       "      <th>index</th>\n",
       "      <th>name</th>\n",
       "      <th>platform</th>\n",
       "      <th>year_of_release</th>\n",
       "      <th>genre</th>\n",
       "      <th>na_sales</th>\n",
       "      <th>eu_sales</th>\n",
       "      <th>jp_sales</th>\n",
       "      <th>other_sales</th>\n",
       "      <th>critic_score</th>\n",
       "      <th>user_score</th>\n",
       "      <th>rating</th>\n",
       "      <th>total_sales</th>\n",
       "    </tr>\n",
       "  </thead>\n",
       "  <tbody>\n",
       "    <tr>\n",
       "      <th>0</th>\n",
       "      <td>31</td>\n",
       "      <td>Call of Duty: Black Ops 3</td>\n",
       "      <td>PS4</td>\n",
       "      <td>2015</td>\n",
       "      <td>Shooter</td>\n",
       "      <td>6.03</td>\n",
       "      <td>5.86</td>\n",
       "      <td>0.36</td>\n",
       "      <td>2.38</td>\n",
       "      <td>NaN</td>\n",
       "      <td>NaN</td>\n",
       "      <td>unknown</td>\n",
       "      <td>14.63</td>\n",
       "    </tr>\n",
       "    <tr>\n",
       "      <th>1</th>\n",
       "      <td>33</td>\n",
       "      <td>Pokemon X/Pokemon Y</td>\n",
       "      <td>3DS</td>\n",
       "      <td>2013</td>\n",
       "      <td>Role-Playing</td>\n",
       "      <td>5.28</td>\n",
       "      <td>4.19</td>\n",
       "      <td>4.35</td>\n",
       "      <td>0.78</td>\n",
       "      <td>NaN</td>\n",
       "      <td>NaN</td>\n",
       "      <td>unknown</td>\n",
       "      <td>14.60</td>\n",
       "    </tr>\n",
       "    <tr>\n",
       "      <th>2</th>\n",
       "      <td>42</td>\n",
       "      <td>Grand Theft Auto V</td>\n",
       "      <td>PS4</td>\n",
       "      <td>2014</td>\n",
       "      <td>Action</td>\n",
       "      <td>3.96</td>\n",
       "      <td>6.31</td>\n",
       "      <td>0.38</td>\n",
       "      <td>1.97</td>\n",
       "      <td>97.0</td>\n",
       "      <td>8.3</td>\n",
       "      <td>M</td>\n",
       "      <td>12.62</td>\n",
       "    </tr>\n",
       "    <tr>\n",
       "      <th>3</th>\n",
       "      <td>47</td>\n",
       "      <td>Pokemon Omega Ruby/Pokemon Alpha Sapphire</td>\n",
       "      <td>3DS</td>\n",
       "      <td>2014</td>\n",
       "      <td>Role-Playing</td>\n",
       "      <td>4.35</td>\n",
       "      <td>3.49</td>\n",
       "      <td>3.10</td>\n",
       "      <td>0.74</td>\n",
       "      <td>NaN</td>\n",
       "      <td>NaN</td>\n",
       "      <td>unknown</td>\n",
       "      <td>11.68</td>\n",
       "    </tr>\n",
       "    <tr>\n",
       "      <th>4</th>\n",
       "      <td>77</td>\n",
       "      <td>FIFA 16</td>\n",
       "      <td>PS4</td>\n",
       "      <td>2015</td>\n",
       "      <td>Sports</td>\n",
       "      <td>1.12</td>\n",
       "      <td>6.12</td>\n",
       "      <td>0.06</td>\n",
       "      <td>1.28</td>\n",
       "      <td>82.0</td>\n",
       "      <td>4.3</td>\n",
       "      <td>E</td>\n",
       "      <td>8.58</td>\n",
       "    </tr>\n",
       "    <tr>\n",
       "      <th>...</th>\n",
       "      <td>...</td>\n",
       "      <td>...</td>\n",
       "      <td>...</td>\n",
       "      <td>...</td>\n",
       "      <td>...</td>\n",
       "      <td>...</td>\n",
       "      <td>...</td>\n",
       "      <td>...</td>\n",
       "      <td>...</td>\n",
       "      <td>...</td>\n",
       "      <td>...</td>\n",
       "      <td>...</td>\n",
       "      <td>...</td>\n",
       "    </tr>\n",
       "    <tr>\n",
       "      <th>1607</th>\n",
       "      <td>16699</td>\n",
       "      <td>The Longest 5 Minutes</td>\n",
       "      <td>PSV</td>\n",
       "      <td>2016</td>\n",
       "      <td>Action</td>\n",
       "      <td>0.00</td>\n",
       "      <td>0.00</td>\n",
       "      <td>0.01</td>\n",
       "      <td>0.00</td>\n",
       "      <td>NaN</td>\n",
       "      <td>NaN</td>\n",
       "      <td>unknown</td>\n",
       "      <td>0.01</td>\n",
       "    </tr>\n",
       "    <tr>\n",
       "      <th>1608</th>\n",
       "      <td>16703</td>\n",
       "      <td>Strawberry Nauts</td>\n",
       "      <td>PSV</td>\n",
       "      <td>2016</td>\n",
       "      <td>Adventure</td>\n",
       "      <td>0.00</td>\n",
       "      <td>0.00</td>\n",
       "      <td>0.01</td>\n",
       "      <td>0.00</td>\n",
       "      <td>NaN</td>\n",
       "      <td>NaN</td>\n",
       "      <td>unknown</td>\n",
       "      <td>0.01</td>\n",
       "    </tr>\n",
       "    <tr>\n",
       "      <th>1609</th>\n",
       "      <td>16707</td>\n",
       "      <td>Aiyoku no Eustia</td>\n",
       "      <td>PSV</td>\n",
       "      <td>2014</td>\n",
       "      <td>Misc</td>\n",
       "      <td>0.00</td>\n",
       "      <td>0.00</td>\n",
       "      <td>0.01</td>\n",
       "      <td>0.00</td>\n",
       "      <td>NaN</td>\n",
       "      <td>NaN</td>\n",
       "      <td>unknown</td>\n",
       "      <td>0.01</td>\n",
       "    </tr>\n",
       "    <tr>\n",
       "      <th>1610</th>\n",
       "      <td>16712</td>\n",
       "      <td>Haitaka no Psychedelica</td>\n",
       "      <td>PSV</td>\n",
       "      <td>2016</td>\n",
       "      <td>Adventure</td>\n",
       "      <td>0.00</td>\n",
       "      <td>0.00</td>\n",
       "      <td>0.01</td>\n",
       "      <td>0.00</td>\n",
       "      <td>NaN</td>\n",
       "      <td>NaN</td>\n",
       "      <td>unknown</td>\n",
       "      <td>0.01</td>\n",
       "    </tr>\n",
       "    <tr>\n",
       "      <th>1611</th>\n",
       "      <td>16714</td>\n",
       "      <td>Winning Post 8 2016</td>\n",
       "      <td>PSV</td>\n",
       "      <td>2016</td>\n",
       "      <td>Simulation</td>\n",
       "      <td>0.00</td>\n",
       "      <td>0.00</td>\n",
       "      <td>0.01</td>\n",
       "      <td>0.00</td>\n",
       "      <td>NaN</td>\n",
       "      <td>NaN</td>\n",
       "      <td>unknown</td>\n",
       "      <td>0.01</td>\n",
       "    </tr>\n",
       "  </tbody>\n",
       "</table>\n",
       "<p>1612 rows × 13 columns</p>\n",
       "</div>"
      ],
      "text/plain": [
       "      index                                       name platform  \\\n",
       "0        31                  Call of Duty: Black Ops 3      PS4   \n",
       "1        33                        Pokemon X/Pokemon Y      3DS   \n",
       "2        42                         Grand Theft Auto V      PS4   \n",
       "3        47  Pokemon Omega Ruby/Pokemon Alpha Sapphire      3DS   \n",
       "4        77                                    FIFA 16      PS4   \n",
       "...     ...                                        ...      ...   \n",
       "1607  16699                      The Longest 5 Minutes      PSV   \n",
       "1608  16703                           Strawberry Nauts      PSV   \n",
       "1609  16707                           Aiyoku no Eustia      PSV   \n",
       "1610  16712                    Haitaka no Psychedelica      PSV   \n",
       "1611  16714                        Winning Post 8 2016      PSV   \n",
       "\n",
       "      year_of_release         genre  na_sales  eu_sales  jp_sales  \\\n",
       "0                2015       Shooter      6.03      5.86      0.36   \n",
       "1                2013  Role-Playing      5.28      4.19      4.35   \n",
       "2                2014        Action      3.96      6.31      0.38   \n",
       "3                2014  Role-Playing      4.35      3.49      3.10   \n",
       "4                2015        Sports      1.12      6.12      0.06   \n",
       "...               ...           ...       ...       ...       ...   \n",
       "1607             2016        Action      0.00      0.00      0.01   \n",
       "1608             2016     Adventure      0.00      0.00      0.01   \n",
       "1609             2014          Misc      0.00      0.00      0.01   \n",
       "1610             2016     Adventure      0.00      0.00      0.01   \n",
       "1611             2016    Simulation      0.00      0.00      0.01   \n",
       "\n",
       "      other_sales  critic_score  user_score   rating  total_sales  \n",
       "0            2.38           NaN         NaN  unknown        14.63  \n",
       "1            0.78           NaN         NaN  unknown        14.60  \n",
       "2            1.97          97.0         8.3        M        12.62  \n",
       "3            0.74           NaN         NaN  unknown        11.68  \n",
       "4            1.28          82.0         4.3        E         8.58  \n",
       "...           ...           ...         ...      ...          ...  \n",
       "1607         0.00           NaN         NaN  unknown         0.01  \n",
       "1608         0.00           NaN         NaN  unknown         0.01  \n",
       "1609         0.00           NaN         NaN  unknown         0.01  \n",
       "1610         0.00           NaN         NaN  unknown         0.01  \n",
       "1611         0.00           NaN         NaN  unknown         0.01  \n",
       "\n",
       "[1612 rows x 13 columns]"
      ]
     },
     "execution_count": 26,
     "metadata": {},
     "output_type": "execute_result"
    }
   ],
   "source": [
    "\n",
    "outdated_platforms = ['X360', 'PS3', 'Wii', 'PSP']\n",
    "relevant_data = data[(data['year_of_release'].between(2013, 2016)) & (~data['platform'].isin(outdated_platforms))]\n",
    "\n",
    "relevant_data.reset_index()"
   ]
  },
  {
   "cell_type": "code",
   "execution_count": 27,
   "metadata": {},
   "outputs": [
    {
     "data": {
      "text/html": [
       "<div>\n",
       "<style scoped>\n",
       "    .dataframe tbody tr th:only-of-type {\n",
       "        vertical-align: middle;\n",
       "    }\n",
       "\n",
       "    .dataframe tbody tr th {\n",
       "        vertical-align: top;\n",
       "    }\n",
       "\n",
       "    .dataframe thead th {\n",
       "        text-align: right;\n",
       "    }\n",
       "</style>\n",
       "<table border=\"1\" class=\"dataframe\">\n",
       "  <thead>\n",
       "    <tr style=\"text-align: right;\">\n",
       "      <th></th>\n",
       "      <th>year_of_release</th>\n",
       "      <th>total_sales</th>\n",
       "    </tr>\n",
       "  </thead>\n",
       "  <tbody>\n",
       "    <tr>\n",
       "      <th>0</th>\n",
       "      <td>2013</td>\n",
       "      <td>147.68</td>\n",
       "    </tr>\n",
       "    <tr>\n",
       "      <th>1</th>\n",
       "      <td>2014</td>\n",
       "      <td>245.04</td>\n",
       "    </tr>\n",
       "    <tr>\n",
       "      <th>2</th>\n",
       "      <td>2015</td>\n",
       "      <td>237.94</td>\n",
       "    </tr>\n",
       "    <tr>\n",
       "      <th>3</th>\n",
       "      <td>2016</td>\n",
       "      <td>124.64</td>\n",
       "    </tr>\n",
       "  </tbody>\n",
       "</table>\n",
       "</div>"
      ],
      "text/plain": [
       "   year_of_release  total_sales\n",
       "0             2013       147.68\n",
       "1             2014       245.04\n",
       "2             2015       237.94\n",
       "3             2016       124.64"
      ]
     },
     "execution_count": 27,
     "metadata": {},
     "output_type": "execute_result"
    }
   ],
   "source": [
    "sales_per_year = relevant_data.groupby('year_of_release')['total_sales'].sum().reset_index()\n",
    "sales_per_year"
   ]
  },
  {
   "cell_type": "markdown",
   "metadata": {},
   "source": [
    "### Не учитывайте в работе данные за предыдущие годы.\n",
    "### Какие платформы лидируют по продажам, растут или падают? Выберите несколько потенциально прибыльных платформ."
   ]
  },
  {
   "cell_type": "code",
   "execution_count": 28,
   "metadata": {},
   "outputs": [
    {
     "data": {
      "text/html": [
       "<div>\n",
       "<style scoped>\n",
       "    .dataframe tbody tr th:only-of-type {\n",
       "        vertical-align: middle;\n",
       "    }\n",
       "\n",
       "    .dataframe tbody tr th {\n",
       "        vertical-align: top;\n",
       "    }\n",
       "\n",
       "    .dataframe thead th {\n",
       "        text-align: right;\n",
       "    }\n",
       "</style>\n",
       "<table border=\"1\" class=\"dataframe\">\n",
       "  <thead>\n",
       "    <tr style=\"text-align: right;\">\n",
       "      <th>platform</th>\n",
       "      <th>3DS</th>\n",
       "      <th>DS</th>\n",
       "      <th>PC</th>\n",
       "      <th>PS4</th>\n",
       "      <th>PSV</th>\n",
       "      <th>WiiU</th>\n",
       "      <th>XOne</th>\n",
       "    </tr>\n",
       "    <tr>\n",
       "      <th>year_of_release</th>\n",
       "      <th></th>\n",
       "      <th></th>\n",
       "      <th></th>\n",
       "      <th></th>\n",
       "      <th></th>\n",
       "      <th></th>\n",
       "      <th></th>\n",
       "    </tr>\n",
       "  </thead>\n",
       "  <tbody>\n",
       "    <tr>\n",
       "      <th>2013</th>\n",
       "      <td>56.57</td>\n",
       "      <td>1.54</td>\n",
       "      <td>12.38</td>\n",
       "      <td>25.99</td>\n",
       "      <td>10.59</td>\n",
       "      <td>21.65</td>\n",
       "      <td>18.96</td>\n",
       "    </tr>\n",
       "    <tr>\n",
       "      <th>2014</th>\n",
       "      <td>43.76</td>\n",
       "      <td>NaN</td>\n",
       "      <td>13.28</td>\n",
       "      <td>100.00</td>\n",
       "      <td>11.90</td>\n",
       "      <td>22.03</td>\n",
       "      <td>54.07</td>\n",
       "    </tr>\n",
       "    <tr>\n",
       "      <th>2015</th>\n",
       "      <td>27.78</td>\n",
       "      <td>NaN</td>\n",
       "      <td>8.52</td>\n",
       "      <td>118.90</td>\n",
       "      <td>6.25</td>\n",
       "      <td>16.35</td>\n",
       "      <td>60.14</td>\n",
       "    </tr>\n",
       "    <tr>\n",
       "      <th>2016</th>\n",
       "      <td>15.14</td>\n",
       "      <td>NaN</td>\n",
       "      <td>5.25</td>\n",
       "      <td>69.25</td>\n",
       "      <td>4.25</td>\n",
       "      <td>4.60</td>\n",
       "      <td>26.15</td>\n",
       "    </tr>\n",
       "  </tbody>\n",
       "</table>\n",
       "</div>"
      ],
      "text/plain": [
       "platform           3DS    DS     PC     PS4    PSV   WiiU   XOne\n",
       "year_of_release                                                 \n",
       "2013             56.57  1.54  12.38   25.99  10.59  21.65  18.96\n",
       "2014             43.76   NaN  13.28  100.00  11.90  22.03  54.07\n",
       "2015             27.78   NaN   8.52  118.90   6.25  16.35  60.14\n",
       "2016             15.14   NaN   5.25   69.25   4.25   4.60  26.15"
      ]
     },
     "execution_count": 28,
     "metadata": {},
     "output_type": "execute_result"
    }
   ],
   "source": [
    "#возьмем актуальные данные и построим график\n",
    "\n",
    "#посмотрим на продажи по платформам и годам \n",
    "platform_year_sales_relevant = relevant_data.groupby(['year_of_release', 'platform'])['total_sales'].sum().unstack()\n",
    "platform_year_sales_relevant"
   ]
  },
  {
   "cell_type": "code",
   "execution_count": 29,
   "metadata": {
    "scrolled": false
   },
   "outputs": [
    {
     "data": {
      "image/png": "[encoded data removed]",
      "text/plain": [
       "<Figure size 864x432 with 1 Axes>"
      ]
     },
     "metadata": {
      "needs_background": "light"
     },
     "output_type": "display_data"
    }
   ],
   "source": [
    "#построение графика\n",
    "\n",
    "platform_year_sales_relevant.plot(kind='line', marker='o', figsize=(12, 6))\n",
    "\n",
    "plt.title('Тренды продаж всех платформ (2006-2016)')\n",
    "plt.xlabel('Год выпуска')\n",
    "plt.ylabel('Суммарные продажи (млн.)')\n",
    "plt.legend(title='Платформа', bbox_to_anchor=(1.05, 1), loc='upper left')\n",
    "plt.grid(True)\n",
    "plt.tight_layout()\n",
    "plt.show()"
   ]
  },
  {
   "cell_type": "markdown",
   "metadata": {},
   "source": [
    "- Продажи для платформы PS4 значительно увеличились и достигли пика в 2015 году, после чего начали падение.\n",
    "\n",
    "- Платформа 3DS показывает устойчивое снижение продаж на протяжении всего периода.\n",
    "\n",
    "- Продажи игр на PC, PSV, и Xbox One остаются относительно стабильными, хотя у PC наблюдается небольшой спад.\n",
    "\n",
    "- Платформа WiiU демонстрирует заметное снижение после 2014 года.\n",
    "\n",
    "- Платформа DS показывает резкое падение, что может быть связано с прекращением активной поддержки."
   ]
  },
  {
   "cell_type": "markdown",
   "metadata": {},
   "source": [
    "<div class=\"alert alert-success\">\n",
    "<h2> Комментарий ревьюера 😊<a class=\"tocSkip\"> </h2>\n",
    "    \n",
    " Да, согласна с твоими выводами, PS4 и XOne могут считаться потенциально прибыльными платформами для 2017 г.!\n",
    "</div>   "
   ]
  },
  {
   "cell_type": "markdown",
   "metadata": {},
   "source": [
    "### Постройте график «ящик с усами» по глобальным продажам игр в разбивке по платформам. Опишите результат."
   ]
  },
  {
   "cell_type": "code",
   "execution_count": 30,
   "metadata": {},
   "outputs": [
    {
     "data": {
      "image/png": "[encoded data removed]",
      "text/plain": [
       "<Figure size 864x432 with 1 Axes>"
      ]
     },
     "metadata": {
      "needs_background": "light"
     },
     "output_type": "display_data"
    }
   ],
   "source": [
    "#строим график\n",
    "relevant_data.boxplot(column='total_sales', by='platform', grid=False, figsize=(12, 6))\n",
    "plt.title('Глобальные продажи игр в разбивке по платформам')\n",
    "plt.xlabel('Платформа')\n",
    "plt.ylabel('Суммарные продажи (млн.)')\n",
    "plt.grid(True)\n",
    "plt.tight_layout()\n",
    "plt.show()\n"
   ]
  },
  {
   "cell_type": "markdown",
   "metadata": {},
   "source": [
    "<div class=\"alert alert-block alert-danger\">\n",
    "<h2> Комментарий ревьюера ⛔️<a class=\"tocSkip\"></h2>\n",
    "    <s>\n",
    "Нам важно также изучить медианные значения по каждой платформе. Для этого следует добавить еще один график  с ограничением по оси У. Чтобы увеличить график `figsize=(12, 6)` следует указать в `boxplot()`"
   ]
  },
  {
   "cell_type": "code",
   "execution_count": 31,
   "metadata": {
    "scrolled": false
   },
   "outputs": [
    {
     "data": {
      "image/png": "[encoded data removed]",
      "text/plain": [
       "<Figure size 864x432 with 1 Axes>"
      ]
     },
     "metadata": {
      "needs_background": "light"
     },
     "output_type": "display_data"
    }
   ],
   "source": [
    "#график \"ящик с усами\" с ограничением по оси Y\n",
    "relevant_data.boxplot(column='total_sales', by='platform', grid=False, figsize=(12, 6))\n",
    "plt.title('Глобальные продажи игр в разбивке по платформам')\n",
    "plt.suptitle('')\n",
    "plt.xlabel('Платформа')\n",
    "plt.ylabel('Суммарные продажи (млн.)')\n",
    "plt.ylim(0, 1)\n",
    "plt.grid(True)\n",
    "plt.tight_layout()\n",
    "plt.show()\n"
   ]
  },
  {
   "cell_type": "markdown",
   "metadata": {},
   "source": [
    "- PS4, WiiU и Xbox One — эти платформы имеют относительно высокие медианные значения, но имеют широкий диапазон продаж с более длинными \"усами\", что указывает на значительные различия в продажах игр на этих консолях. Некоторые игры на этих платформах имели очень высокие продажи, что подтверждается наличием высоких выбросов.\n",
    "\n",
    "- PC и 3DS у этих платформ медианные значения продаж немного выше, чем у DS, но они демонстрируют более узкое распределение, что говорит о меньшей вариативности продаж. Однако есть игры с выбросами, которые имели значительно более высокие продажи по сравнению с медианными значениями.\n",
    "\n",
    "- Платформа DS с меньшим диапазоном продаж (меньший \"ящик\") указывает на стабильные, но не столь высокие продажи.\n"
   ]
  },
  {
   "cell_type": "markdown",
   "metadata": {},
   "source": [
    "<div class=\"alert alert-success\">\n",
    "<h2> Комментарий ревьюера 😊 <a class=\"tocSkip\"> </h2> \n",
    "    \n",
    "Хорошая работа с выводом по боксплотам)"
   ]
  },
  {
   "cell_type": "markdown",
   "metadata": {},
   "source": [
    "<div class=\"alert alert-info\"> <b>Комментарий студента:</b> Добавил новый график с ограничением по оси Y, и обновил вывод, добавив медианные значения</div>"
   ]
  },
  {
   "cell_type": "markdown",
   "metadata": {},
   "source": [
    "<div class=\"alert alert-success\">\n",
    "<h2> Комментарий ревьюера 😊 v_2 <a class=\"tocSkip\"> </h2>\n",
    "\n",
    "👍"
   ]
  },
  {
   "cell_type": "markdown",
   "metadata": {},
   "source": [
    "### Посмотрите, как влияют на продажи внутри одной популярной платформы отзывы пользователей и критиков. Постройте диаграмму рассеяния и посчитайте корреляцию между отзывами и продажами. Сформулируйте выводы."
   ]
  },
  {
   "cell_type": "code",
   "execution_count": 32,
   "metadata": {},
   "outputs": [],
   "source": [
    "#выберем плотформу PS4\n",
    "ps4_platform = relevant_data[relevant_data['platform'] == 'PS4']"
   ]
  },
  {
   "cell_type": "code",
   "execution_count": 33,
   "metadata": {
    "scrolled": true
   },
   "outputs": [
    {
     "data": {
      "image/png": "[encoded data removed]",
      "text/plain": [
       "<Figure size 720x432 with 1 Axes>"
      ]
     },
     "metadata": {
      "needs_background": "light"
     },
     "output_type": "display_data"
    }
   ],
   "source": [
    "plt.figure(figsize=(10, 6));\n",
    "plt.scatter(ps4_platform['user_score'], ps4_platform['total_sales'], alpha=0.5)\n",
    "plt.title('Влияние оценок пользователей на продажи (PS4)')\n",
    "plt.xlabel('Оценки пользователей')\n",
    "plt.ylabel('Суммарные продажи (млн.)')\n",
    "plt.grid(True)\n",
    "plt.tight_layout()\n",
    "plt.show()"
   ]
  },
  {
   "cell_type": "code",
   "execution_count": 34,
   "metadata": {},
   "outputs": [
    {
     "data": {
      "image/png": "[encoded data removed]",
      "text/plain": [
       "<Figure size 720x432 with 1 Axes>"
      ]
     },
     "metadata": {
      "needs_background": "light"
     },
     "output_type": "display_data"
    }
   ],
   "source": [
    "plt.figure(figsize=(10, 6));\n",
    "plt.scatter(ps4_platform['critic_score'], ps4_platform['total_sales'], alpha=0.5)\n",
    "plt.title('Влияние оценок критиков на продажи (PS4)')\n",
    "plt.xlabel('Оценки критиков')\n",
    "plt.ylabel('Суммарные продажи (млн.)')\n",
    "plt.grid(True)\n",
    "plt.tight_layout()\n",
    "plt.show()"
   ]
  },
  {
   "cell_type": "code",
   "execution_count": 35,
   "metadata": {},
   "outputs": [
    {
     "data": {
      "text/plain": [
       "-0.031957110204556376"
      ]
     },
     "metadata": {},
     "output_type": "display_data"
    },
    {
     "data": {
      "text/plain": [
       "0.40656790206178095"
      ]
     },
     "execution_count": 35,
     "metadata": {},
     "output_type": "execute_result"
    }
   ],
   "source": [
    "#посчитаем коэффициент корреляции Пирсона  \n",
    "user_score_corr = ps4_platform['user_score'].corr(ps4_platform['total_sales'])\n",
    "critic_score_corr = ps4_platform['critic_score'].corr(ps4_platform['total_sales'])\n",
    "\n",
    "display(user_score_corr)\n",
    "critic_score_corr"
   ]
  },
  {
   "cell_type": "markdown",
   "metadata": {},
   "source": [
    "- Корреляция между отзывами пользователей и продажами на платформе PS4 (-0.03) практически отсутствует, что говорит о том, что оценки пользователей не оказывают значительного влияния на продажи. \n",
    "\n",
    "- Однако корреляция между отзывами критиков и продажами (0.41) является умеренно положительной, что указывает на более заметное влияние отзывов критиков на успешность игры в плане продаж."
   ]
  },
  {
   "cell_type": "markdown",
   "metadata": {},
   "source": [
    "<div class=\"alert alert-success\">\n",
    "<h2> Комментарий ревьюера 😊 <a class=\"tocSkip\"> </h2> \n",
    "    \n",
    "Верно, молодец)"
   ]
  },
  {
   "cell_type": "code",
   "execution_count": 36,
   "metadata": {},
   "outputs": [
    {
     "data": {
      "text/plain": [
       "array(['PS4', '3DS', 'XOne', 'WiiU', 'PC', 'PSV', 'DS'], dtype=object)"
      ]
     },
     "execution_count": 36,
     "metadata": {},
     "output_type": "execute_result"
    }
   ],
   "source": [
    "relevant_data['platform'].unique()"
   ]
  },
  {
   "cell_type": "markdown",
   "metadata": {},
   "source": [
    "### Соотнесите выводы с продажами игр на других платформах."
   ]
  },
  {
   "cell_type": "code",
   "execution_count": 37,
   "metadata": {},
   "outputs": [
    {
     "data": {
      "text/html": [
       "<div>\n",
       "<style scoped>\n",
       "    .dataframe tbody tr th:only-of-type {\n",
       "        vertical-align: middle;\n",
       "    }\n",
       "\n",
       "    .dataframe tbody tr th {\n",
       "        vertical-align: top;\n",
       "    }\n",
       "\n",
       "    .dataframe thead th {\n",
       "        text-align: right;\n",
       "    }\n",
       "</style>\n",
       "<table border=\"1\" class=\"dataframe\">\n",
       "  <thead>\n",
       "    <tr style=\"text-align: right;\">\n",
       "      <th></th>\n",
       "      <th>PS4</th>\n",
       "      <th>3DS</th>\n",
       "      <th>XOne</th>\n",
       "      <th>WiiU</th>\n",
       "      <th>PC</th>\n",
       "      <th>PSV</th>\n",
       "    </tr>\n",
       "  </thead>\n",
       "  <tbody>\n",
       "    <tr>\n",
       "      <th>user_score_corr</th>\n",
       "      <td>-0.031957</td>\n",
       "      <td>0.241504</td>\n",
       "      <td>-0.068925</td>\n",
       "      <td>0.419330</td>\n",
       "      <td>-0.093842</td>\n",
       "      <td>0.000942</td>\n",
       "    </tr>\n",
       "    <tr>\n",
       "      <th>critic_score_corr</th>\n",
       "      <td>0.406568</td>\n",
       "      <td>0.357057</td>\n",
       "      <td>0.416998</td>\n",
       "      <td>0.376415</td>\n",
       "      <td>0.196030</td>\n",
       "      <td>0.254742</td>\n",
       "    </tr>\n",
       "  </tbody>\n",
       "</table>\n",
       "</div>"
      ],
      "text/plain": [
       "                        PS4       3DS      XOne      WiiU        PC       PSV\n",
       "user_score_corr   -0.031957  0.241504 -0.068925  0.419330 -0.093842  0.000942\n",
       "critic_score_corr  0.406568  0.357057  0.416998  0.376415  0.196030  0.254742"
      ]
     },
     "execution_count": 37,
     "metadata": {},
     "output_type": "execute_result"
    }
   ],
   "source": [
    "#посчитаем корреляцию для PS2, X360, Wii, DS\n",
    "platforms = ['PS4', '3DS', 'XOne', 'WiiU', 'PC', 'PSV']\n",
    "correlation_data = {}\n",
    "\n",
    "for platform in platforms:\n",
    "    platform_data = relevant_data[relevant_data['platform'] == platform]\n",
    "    user_corr = platform_data['user_score'].corr(platform_data['total_sales'])\n",
    "    critic_corr = platform_data['critic_score'].corr(platform_data['total_sales'])\n",
    "    correlation_data[platform] = {'user_score_corr': user_corr, 'critic_score_corr': critic_corr}\n",
    "\n",
    "correlation_df = pd.DataFrame(correlation_data)\n",
    "correlation_df"
   ]
  },
  {
   "cell_type": "markdown",
   "metadata": {},
   "source": [
    "- **PS4**: корреляция оценки пользователей -0.03, корреляция оценки критиков 0.41.  \n",
    "  _Отзывы пользователей почти не влияют на продажи, отзывы критиков оказывают заметное положительное влияние._\n",
    "  \n",
    "  \n",
    "- **3DS**: корреляция оценки пользователей 0.24, корреляция оценки критиков 0.36.  \n",
    "  _Обе оценки положительно влияют на продажи, но критики оказывают большее влияние._\n",
    "  \n",
    "  \n",
    "- **XOne**: корреляция оценки пользователей -0.07, корреляция оценки критиков 0.42.  \n",
    "  _Отзывы пользователей незначительно влияют на продажи, критики оказывают сильное влияние._\n",
    "  \n",
    "  \n",
    "- **WiiU**: корреляция оценки пользователей 0.42, корреляция оценки критиков 0.38.  \n",
    "  _Обе оценки сильно влияют на продажи, причём пользователи даже сильнее._\n",
    "  \n",
    "  \n",
    "- **PC**: корреляция оценки пользователей -0.09, корреляция оценки критиков 0.20.  \n",
    "  _Отзывы пользователей почти не влияют, критики оказывают слабое положительное влияние._\n",
    "  \n",
    "  \n",
    "- **PSV**: корреляция оценки пользователей 0.00, корреляция оценки критиков 0.25.  \n",
    "  _Отзывы пользователей не влияют, критики оказывают умеренное положительное влияние._\n",
    "\n",
    "\n",
    "Критики играют более важную роль в продажах игр на всех платформах, за исключением WiiU, где также сильна связь с оценками пользователей."
   ]
  },
  {
   "cell_type": "markdown",
   "metadata": {},
   "source": [
    "<div class=\"alert alert-success\">\n",
    "<h2> Комментарий ревьюера 😊 <a class=\"tocSkip\"> </h2> \n",
    "    \n",
    "Корреляционный анализ выполнен верно! Согласна с твоей интерпретацией корреляционного коэффициента, все верно!"
   ]
  },
  {
   "cell_type": "markdown",
   "metadata": {},
   "source": [
    "<div class=\"alert alert-block alert-danger\">\n",
    "<h2> Комментарий ревьюера ⛔️<a class=\"tocSkip\"></h2>\n",
    "<s>\n",
    "Только давай используем более актуальные платформы для анализа и обновим вывод)"
   ]
  },
  {
   "cell_type": "markdown",
   "metadata": {},
   "source": [
    "<div class=\"alert alert-info\"> <b>Комментарий студента:</b> Использовал актуальные данные и обновил вывод</div>"
   ]
  },
  {
   "cell_type": "markdown",
   "metadata": {},
   "source": [
    "<div class=\"alert alert-block alert-danger\">\n",
    "<h2> Комментарий ревьюера ⛔️ v_2<a class=\"tocSkip\"></h2>\n",
    "<s>\n",
    "Нужно не только датасет актуальный использовать, но и выбрать более актуальные платформы, которые популярны были в последнее время)"
   ]
  },
  {
   "cell_type": "markdown",
   "metadata": {},
   "source": [
    "<div class=\"alert alert-info\"> <b>Комментарий студента:</b> Использовал актуальные данные и обновил вывод</div>"
   ]
  },
  {
   "cell_type": "markdown",
   "metadata": {},
   "source": [
    "<div class=\"alert alert-success\">\n",
    "<h2> Комментарий ревьюера 😊 v_3 <a class=\"tocSkip\"> </h2>\n",
    "\n",
    "Супер)"
   ]
  },
  {
   "cell_type": "markdown",
   "metadata": {},
   "source": [
    "### Посмотрите на общее распределение игр по жанрам. Что можно сказать о самых прибыльных жанрах? Выделяются ли жанры с высокими и низкими продажами?"
   ]
  },
  {
   "cell_type": "code",
   "execution_count": 38,
   "metadata": {},
   "outputs": [
    {
     "data": {
      "text/html": [
       "<div>\n",
       "<style scoped>\n",
       "    .dataframe tbody tr th:only-of-type {\n",
       "        vertical-align: middle;\n",
       "    }\n",
       "\n",
       "    .dataframe tbody tr th {\n",
       "        vertical-align: top;\n",
       "    }\n",
       "\n",
       "    .dataframe thead th {\n",
       "        text-align: right;\n",
       "    }\n",
       "</style>\n",
       "<table border=\"1\" class=\"dataframe\">\n",
       "  <thead>\n",
       "    <tr style=\"text-align: right;\">\n",
       "      <th></th>\n",
       "      <th>genre</th>\n",
       "      <th>total_sales</th>\n",
       "    </tr>\n",
       "  </thead>\n",
       "  <tbody>\n",
       "    <tr>\n",
       "      <th>0</th>\n",
       "      <td>Action</td>\n",
       "      <td>199.68</td>\n",
       "    </tr>\n",
       "    <tr>\n",
       "      <th>8</th>\n",
       "      <td>Shooter</td>\n",
       "      <td>165.71</td>\n",
       "    </tr>\n",
       "    <tr>\n",
       "      <th>7</th>\n",
       "      <td>Role-Playing</td>\n",
       "      <td>123.94</td>\n",
       "    </tr>\n",
       "    <tr>\n",
       "      <th>10</th>\n",
       "      <td>Sports</td>\n",
       "      <td>90.70</td>\n",
       "    </tr>\n",
       "    <tr>\n",
       "      <th>4</th>\n",
       "      <td>Platform</td>\n",
       "      <td>34.91</td>\n",
       "    </tr>\n",
       "    <tr>\n",
       "      <th>3</th>\n",
       "      <td>Misc</td>\n",
       "      <td>34.74</td>\n",
       "    </tr>\n",
       "    <tr>\n",
       "      <th>6</th>\n",
       "      <td>Racing</td>\n",
       "      <td>30.36</td>\n",
       "    </tr>\n",
       "    <tr>\n",
       "      <th>2</th>\n",
       "      <td>Fighting</td>\n",
       "      <td>26.69</td>\n",
       "    </tr>\n",
       "    <tr>\n",
       "      <th>9</th>\n",
       "      <td>Simulation</td>\n",
       "      <td>20.02</td>\n",
       "    </tr>\n",
       "    <tr>\n",
       "      <th>1</th>\n",
       "      <td>Adventure</td>\n",
       "      <td>16.51</td>\n",
       "    </tr>\n",
       "    <tr>\n",
       "      <th>11</th>\n",
       "      <td>Strategy</td>\n",
       "      <td>8.91</td>\n",
       "    </tr>\n",
       "    <tr>\n",
       "      <th>5</th>\n",
       "      <td>Puzzle</td>\n",
       "      <td>3.13</td>\n",
       "    </tr>\n",
       "  </tbody>\n",
       "</table>\n",
       "</div>"
      ],
      "text/plain": [
       "           genre  total_sales\n",
       "0         Action       199.68\n",
       "8        Shooter       165.71\n",
       "7   Role-Playing       123.94\n",
       "10        Sports        90.70\n",
       "4       Platform        34.91\n",
       "3           Misc        34.74\n",
       "6         Racing        30.36\n",
       "2       Fighting        26.69\n",
       "9     Simulation        20.02\n",
       "1      Adventure        16.51\n",
       "11      Strategy         8.91\n",
       "5         Puzzle         3.13"
      ]
     },
     "execution_count": 38,
     "metadata": {},
     "output_type": "execute_result"
    }
   ],
   "source": [
    "#распределение игр по жанрам и их суммарные продажи\n",
    "genre_sales = relevant_data.groupby('genre')['total_sales'].sum().reset_index()\n",
    "\n",
    "#отсартируем по убыванию суммарных продаж\n",
    "genre_sales_sorted = genre_sales.sort_values(by='total_sales', ascending=False)\n",
    "genre_sales_sorted"
   ]
  },
  {
   "cell_type": "code",
   "execution_count": 39,
   "metadata": {},
   "outputs": [],
   "source": [
    "#построим график распределения продаж по жанрам\n",
    "#plt.figure(figsize=(12, 6))\n",
    "#plt.bar(genre_sales_sorted['genre'], genre_sales_sorted['total_sales'])\n",
    "\n",
    "#plt.title('Распределение продаж по жанрам игр')\n",
    "#plt.xlabel('Жанр')\n",
    "#plt.ylabel('Суммарные продажи (млн.)')\n",
    "#plt.grid(True)\n",
    "#plt.tight_layout()\n",
    "#plt.show()"
   ]
  },
  {
   "cell_type": "markdown",
   "metadata": {},
   "source": [
    "~~- **Экшен** и **Спортивные игры** являются **самыми прибыльными жанрами**. Эти жанры привлекают массовую аудиторию.~~\n",
    "~~- **Шутеры** тоже выделяются как **жанр с высокими продажами**.~~\n",
    "~~- Жанры с более низкими продажами, такие как **Role-Playing**, также имеют значительную аудиторию, но не доходят до уровня лидеров.~~\n",
    "~~- _Пазлы, Стратегии, Приключение_ имеют низкую прибыль по сравнению с вышеупомянутыми.~~"
   ]
  },
  {
   "cell_type": "code",
   "execution_count": 40,
   "metadata": {
    "scrolled": false
   },
   "outputs": [
    {
     "data": {
      "image/png": "[encoded data removed]",
      "text/plain": [
       "<Figure size 1008x504 with 1 Axes>"
      ]
     },
     "metadata": {
      "needs_background": "light"
     },
     "output_type": "display_data"
    }
   ],
   "source": [
    "#рассчет средних и медианных продаж по жанрам\n",
    "\n",
    "genre_sales = data.groupby('genre')['total_sales'].agg(['mean', 'median', 'count']).sort_values(by='median', ascending=False)\n",
    "\n",
    "#построение графиков для средних и медианных продаж\n",
    "\n",
    "plt.figure(figsize=(14, 7))\n",
    "plt.bar(genre_sales.index, genre_sales['median'], label='Median Sales')\n",
    "plt.bar(genre_sales.index, genre_sales['mean'], alpha=0.5, label='Mean Sales')\n",
    "plt.title('Средние и медианные продажи по жанрам игр')\n",
    "plt.xlabel('Жанр')\n",
    "plt.ylabel('Продажи (млн.)')\n",
    "plt.legend()\n",
    "plt.grid(True)\n",
    "plt.show()\n"
   ]
  },
  {
   "cell_type": "markdown",
   "metadata": {},
   "source": [
    "1. Самые прибыльные жанры:\n",
    "- **Platform и Shooter:**\n",
    "_эти жанры выделяются среди прочих благодаря высоким медианным продажам. Жанр \"Platform\" особенно заметен своей стабильностью. Жанр \"Shooter\" также показывает высокие средние и медианные продажи, что свидетельствует о наличии нескольких крупных хитов, способствующих высоким общим продажам._\n",
    "- **Sports**: этот жанр демонстрирует также значительные медианные и средние продажи, подтверждая его популярность и коммерческую успешность на рынке.\n",
    "\n",
    "\n",
    "2. Жанры с низкими продажами:\n",
    "- **Puzzle, Strategy, Adventure**:\n",
    "_эти жанры имеют значительно более низкие медианные продажи, что указывает на их нишевую природу и меньшую популярность среди массовой аудитории. Хотя средние продажи могут быть выше, это часто связано с наличием нескольких успешных игр, которые не характеризуют жанр в целом._"
   ]
  },
  {
   "cell_type": "markdown",
   "metadata": {},
   "source": [
    "<div class=\"alert alert-block alert-danger\">\n",
    "<h2> Комментарий ревьюера ⛔️<a class=\"tocSkip\"></h2>\n",
    "    <s>\n",
    "Общие продажи - плохая метрика для поиска наиболее прибыльного жанра. За высокими показателями общих продаж может скрываться множество мелких игр с низкими продажами. Или 2-3 звезды и куча провалов. Лучше найти жанр, где игры стабильно приносят высокий доход - для этого стоит рассмотреть средние или медианные продажи.\n",
    "</div>"
   ]
  },
  {
   "cell_type": "markdown",
   "metadata": {},
   "source": [
    "<div class=\"alert alert-info\"> <b>Комментарий студента:</b> Использовал медианные и средние значения, на основе их построил график и обновил вывод</div>"
   ]
  },
  {
   "cell_type": "markdown",
   "metadata": {},
   "source": [
    "<div class=\"alert alert-block alert-danger\">\n",
    "<h2> Комментарий ревьюера ⛔️ v_2<a class=\"tocSkip\"></h2>\n",
    "   <s>\n",
    "Только используем неактуальные данные, нужно скорректировать"
   ]
  },
  {
   "cell_type": "markdown",
   "metadata": {},
   "source": [
    "<div class=\"alert alert-info\"> <b>Комментарий студента:</b> Использовал актуальные данные и обновил вывод</div>"
   ]
  },
  {
   "cell_type": "markdown",
   "metadata": {},
   "source": [
    "<div class=\"alert alert-success\">\n",
    "<h2> Комментарий ревьюера 😊 v_3 <a class=\"tocSkip\"> </h2>\n",
    "\n",
    "👍"
   ]
  },
  {
   "cell_type": "markdown",
   "metadata": {},
   "source": [
    "## Шаг. Составьте портрет пользователя каждого региона"
   ]
  },
  {
   "cell_type": "markdown",
   "metadata": {},
   "source": [
    "### Определите для пользователя каждого региона (NA, EU, JP) самые популярные платформы (топ-5). Опишите различия в долях продаж."
   ]
  },
  {
   "cell_type": "code",
   "execution_count": 41,
   "metadata": {},
   "outputs": [],
   "source": [
    "#продажи платформ по регионам (топ-5) \n",
    "\n",
    "platform_sales_na = relevant_data.groupby('platform')['na_sales'].sum().reset_index().sort_values(by='na_sales', ascending=False).head(5)\n",
    "platform_sales_eu = relevant_data.groupby('platform')['eu_sales'].sum().reset_index().sort_values(by='eu_sales', ascending=False).head(5)\n",
    "platform_sales_jp = relevant_data.groupby('platform')['jp_sales'].sum().reset_index().sort_values(by='jp_sales', ascending=False).head(5)\n",
    "\n"
   ]
  },
  {
   "cell_type": "code",
   "execution_count": 42,
   "metadata": {},
   "outputs": [],
   "source": [
    "#добавим процент от общих продаж в регионе для более наглядного сравнения\n",
    "\n",
    "total_sales_na = relevant_data['na_sales'].sum()\n",
    "total_sales_eu = relevant_data['eu_sales'].sum()\n",
    "total_sales_jp = relevant_data['jp_sales'].sum()\n",
    "\n",
    "platform_sales_na['share_na'] = (platform_sales_na['na_sales'] / total_sales_na * 100).round(2)\n",
    "platform_sales_eu['share_eu'] = (platform_sales_eu['eu_sales'] / total_sales_eu * 100).round(2)\n",
    "platform_sales_jp['share_jp'] = (platform_sales_jp['jp_sales'] / total_sales_jp * 100).round(2)\n"
   ]
  },
  {
   "cell_type": "code",
   "execution_count": 43,
   "metadata": {
    "scrolled": true
   },
   "outputs": [
    {
     "data": {
      "text/html": [
       "<div>\n",
       "<style scoped>\n",
       "    .dataframe tbody tr th:only-of-type {\n",
       "        vertical-align: middle;\n",
       "    }\n",
       "\n",
       "    .dataframe tbody tr th {\n",
       "        vertical-align: top;\n",
       "    }\n",
       "\n",
       "    .dataframe thead th {\n",
       "        text-align: right;\n",
       "    }\n",
       "</style>\n",
       "<table border=\"1\" class=\"dataframe\">\n",
       "  <thead>\n",
       "    <tr style=\"text-align: right;\">\n",
       "      <th></th>\n",
       "      <th>platform</th>\n",
       "      <th>na_sales</th>\n",
       "      <th>share_na</th>\n",
       "    </tr>\n",
       "  </thead>\n",
       "  <tbody>\n",
       "    <tr>\n",
       "      <th>3</th>\n",
       "      <td>PS4</td>\n",
       "      <td>108.74</td>\n",
       "      <td>38.02</td>\n",
       "    </tr>\n",
       "    <tr>\n",
       "      <th>6</th>\n",
       "      <td>XOne</td>\n",
       "      <td>93.12</td>\n",
       "      <td>32.56</td>\n",
       "    </tr>\n",
       "    <tr>\n",
       "      <th>0</th>\n",
       "      <td>3DS</td>\n",
       "      <td>38.20</td>\n",
       "      <td>13.36</td>\n",
       "    </tr>\n",
       "    <tr>\n",
       "      <th>5</th>\n",
       "      <td>WiiU</td>\n",
       "      <td>29.21</td>\n",
       "      <td>10.21</td>\n",
       "    </tr>\n",
       "    <tr>\n",
       "      <th>2</th>\n",
       "      <td>PC</td>\n",
       "      <td>11.11</td>\n",
       "      <td>3.88</td>\n",
       "    </tr>\n",
       "  </tbody>\n",
       "</table>\n",
       "</div>"
      ],
      "text/plain": [
       "  platform  na_sales  share_na\n",
       "3      PS4    108.74     38.02\n",
       "6     XOne     93.12     32.56\n",
       "0      3DS     38.20     13.36\n",
       "5     WiiU     29.21     10.21\n",
       "2       PC     11.11      3.88"
      ]
     },
     "metadata": {},
     "output_type": "display_data"
    },
    {
     "data": {
      "text/html": [
       "<div>\n",
       "<style scoped>\n",
       "    .dataframe tbody tr th:only-of-type {\n",
       "        vertical-align: middle;\n",
       "    }\n",
       "\n",
       "    .dataframe tbody tr th {\n",
       "        vertical-align: top;\n",
       "    }\n",
       "\n",
       "    .dataframe thead th {\n",
       "        text-align: right;\n",
       "    }\n",
       "</style>\n",
       "<table border=\"1\" class=\"dataframe\">\n",
       "  <thead>\n",
       "    <tr style=\"text-align: right;\">\n",
       "      <th></th>\n",
       "      <th>platform</th>\n",
       "      <th>eu_sales</th>\n",
       "      <th>share_eu</th>\n",
       "    </tr>\n",
       "  </thead>\n",
       "  <tbody>\n",
       "    <tr>\n",
       "      <th>3</th>\n",
       "      <td>PS4</td>\n",
       "      <td>141.09</td>\n",
       "      <td>51.16</td>\n",
       "    </tr>\n",
       "    <tr>\n",
       "      <th>6</th>\n",
       "      <td>XOne</td>\n",
       "      <td>51.59</td>\n",
       "      <td>18.71</td>\n",
       "    </tr>\n",
       "    <tr>\n",
       "      <th>0</th>\n",
       "      <td>3DS</td>\n",
       "      <td>30.96</td>\n",
       "      <td>11.23</td>\n",
       "    </tr>\n",
       "    <tr>\n",
       "      <th>2</th>\n",
       "      <td>PC</td>\n",
       "      <td>25.36</td>\n",
       "      <td>9.20</td>\n",
       "    </tr>\n",
       "    <tr>\n",
       "      <th>5</th>\n",
       "      <td>WiiU</td>\n",
       "      <td>19.85</td>\n",
       "      <td>7.20</td>\n",
       "    </tr>\n",
       "  </tbody>\n",
       "</table>\n",
       "</div>"
      ],
      "text/plain": [
       "  platform  eu_sales  share_eu\n",
       "3      PS4    141.09     51.16\n",
       "6     XOne     51.59     18.71\n",
       "0      3DS     30.96     11.23\n",
       "2       PC     25.36      9.20\n",
       "5     WiiU     19.85      7.20"
      ]
     },
     "metadata": {},
     "output_type": "display_data"
    },
    {
     "data": {
      "text/html": [
       "<div>\n",
       "<style scoped>\n",
       "    .dataframe tbody tr th:only-of-type {\n",
       "        vertical-align: middle;\n",
       "    }\n",
       "\n",
       "    .dataframe tbody tr th {\n",
       "        vertical-align: top;\n",
       "    }\n",
       "\n",
       "    .dataframe thead th {\n",
       "        text-align: right;\n",
       "    }\n",
       "</style>\n",
       "<table border=\"1\" class=\"dataframe\">\n",
       "  <thead>\n",
       "    <tr style=\"text-align: right;\">\n",
       "      <th></th>\n",
       "      <th>platform</th>\n",
       "      <th>jp_sales</th>\n",
       "      <th>share_jp</th>\n",
       "    </tr>\n",
       "  </thead>\n",
       "  <tbody>\n",
       "    <tr>\n",
       "      <th>0</th>\n",
       "      <td>3DS</td>\n",
       "      <td>67.81</td>\n",
       "      <td>59.70</td>\n",
       "    </tr>\n",
       "    <tr>\n",
       "      <th>4</th>\n",
       "      <td>PSV</td>\n",
       "      <td>18.59</td>\n",
       "      <td>16.37</td>\n",
       "    </tr>\n",
       "    <tr>\n",
       "      <th>3</th>\n",
       "      <td>PS4</td>\n",
       "      <td>15.96</td>\n",
       "      <td>14.05</td>\n",
       "    </tr>\n",
       "    <tr>\n",
       "      <th>5</th>\n",
       "      <td>WiiU</td>\n",
       "      <td>10.88</td>\n",
       "      <td>9.58</td>\n",
       "    </tr>\n",
       "    <tr>\n",
       "      <th>6</th>\n",
       "      <td>XOne</td>\n",
       "      <td>0.34</td>\n",
       "      <td>0.30</td>\n",
       "    </tr>\n",
       "  </tbody>\n",
       "</table>\n",
       "</div>"
      ],
      "text/plain": [
       "  platform  jp_sales  share_jp\n",
       "0      3DS     67.81     59.70\n",
       "4      PSV     18.59     16.37\n",
       "3      PS4     15.96     14.05\n",
       "5     WiiU     10.88      9.58\n",
       "6     XOne      0.34      0.30"
      ]
     },
     "metadata": {},
     "output_type": "display_data"
    }
   ],
   "source": [
    "display(platform_sales_na)\n",
    "display(platform_sales_eu)\n",
    "display(platform_sales_jp)"
   ]
  },
  {
   "cell_type": "code",
   "execution_count": 44,
   "metadata": {},
   "outputs": [
    {
     "data": {
      "image/png": "[encoded data removed]",
      "text/plain": [
       "<Figure size 1296x432 with 3 Axes>"
      ]
     },
     "metadata": {
      "needs_background": "light"
     },
     "output_type": "display_data"
    }
   ],
   "source": [
    "import matplotlib.pyplot as plt\n",
    "\n",
    "# Создание столбчатых диаграмм для каждого региона\n",
    "plt.figure(figsize=(18, 6))\n",
    "\n",
    "# Продажи в Северной Америке\n",
    "plt.subplot(1, 3, 1)\n",
    "plt.bar(platform_sales_na['platform'], platform_sales_na['share_na'], color='b')\n",
    "plt.title('Доля продаж топ-5 платформ в Северной Америке')\n",
    "plt.xlabel('Платформа')\n",
    "plt.ylabel('Доля от общих продаж (%)')\n",
    "plt.ylim(0, 100)\n",
    "plt.xticks(rotation=45)\n",
    "\n",
    "# Продажи в Европе\n",
    "plt.subplot(1, 3, 2)\n",
    "plt.bar(platform_sales_eu['platform'], platform_sales_eu['share_eu'], color='g')\n",
    "plt.title('Доля продаж топ-5 платформ в Европе')\n",
    "plt.xlabel('Платформа')\n",
    "plt.ylabel('Доля от общих продаж (%)')\n",
    "plt.ylim(0, 100)\n",
    "plt.xticks(rotation=45)\n",
    "\n",
    "# Продажи в Японии\n",
    "plt.subplot(1, 3, 3)\n",
    "plt.bar(platform_sales_jp['platform'], platform_sales_jp['share_jp'], color='r')\n",
    "plt.title('Доля продаж топ-5 платформ в Японии')\n",
    "plt.xlabel('Платформа')\n",
    "plt.ylabel('Доля от общих продаж (%)')\n",
    "plt.ylim(0, 100)\n",
    "plt.xticks(rotation=45)\n",
    "\n",
    "plt.tight_layout()\n",
    "plt.show()\n"
   ]
  },
  {
   "cell_type": "markdown",
   "metadata": {},
   "source": [
    "- В Северной Америке (NA) лидеры платформы Xbox PS4, XOne, 3DS и другие.\n",
    "- В Европе (EU) также преобладают платформы вроде PS4, XOne, 3DS.\n",
    "- В Японии (JP) наиболее популярны 3DS, PSV, PS4."
   ]
  },
  {
   "cell_type": "markdown",
   "metadata": {},
   "source": [
    "### Определите для пользователя каждого региона (NA, EU, JP) cамые популярные жанры (топ-5). Поясните разницу."
   ]
  },
  {
   "cell_type": "code",
   "execution_count": 45,
   "metadata": {},
   "outputs": [],
   "source": [
    "#продажи жанров по регионам (топ-5)  \n",
    "genre_sales_na = relevant_data.groupby('genre')['na_sales'].sum().reset_index().sort_values(by='na_sales', ascending=False).head(5)\n",
    "genre_sales_eu = relevant_data.groupby('genre')['eu_sales'].sum().reset_index().sort_values(by='eu_sales', ascending=False).head(5)\n",
    "genre_sales_jp = relevant_data.groupby('genre')['jp_sales'].sum().reset_index().sort_values(by='jp_sales', ascending=False).head(5)\n",
    "\n",
    "genre_sales_na['share_na'] = (genre_sales_na['na_sales'] / total_sales_na * 100).round(2)\n",
    "genre_sales_eu['share_eu'] = (genre_sales_eu['eu_sales'] / total_sales_eu * 100).round(2)\n",
    "genre_sales_jp['share_jp'] = (genre_sales_jp['jp_sales'] / total_sales_jp * 100).round(2)\n",
    "\n"
   ]
  },
  {
   "cell_type": "code",
   "execution_count": 46,
   "metadata": {},
   "outputs": [
    {
     "data": {
      "image/png": "[encoded data removed]",
      "text/plain": [
       "<Figure size 720x432 with 1 Axes>"
      ]
     },
     "metadata": {
      "needs_background": "light"
     },
     "output_type": "display_data"
    },
    {
     "data": {
      "text/html": [
       "<div>\n",
       "<style scoped>\n",
       "    .dataframe tbody tr th:only-of-type {\n",
       "        vertical-align: middle;\n",
       "    }\n",
       "\n",
       "    .dataframe tbody tr th {\n",
       "        vertical-align: top;\n",
       "    }\n",
       "\n",
       "    .dataframe thead th {\n",
       "        text-align: right;\n",
       "    }\n",
       "</style>\n",
       "<table border=\"1\" class=\"dataframe\">\n",
       "  <thead>\n",
       "    <tr style=\"text-align: right;\">\n",
       "      <th></th>\n",
       "      <th>genre</th>\n",
       "      <th>na_sales</th>\n",
       "      <th>share_na</th>\n",
       "    </tr>\n",
       "  </thead>\n",
       "  <tbody>\n",
       "    <tr>\n",
       "      <th>8</th>\n",
       "      <td>Shooter</td>\n",
       "      <td>75.37</td>\n",
       "      <td>26.35</td>\n",
       "    </tr>\n",
       "    <tr>\n",
       "      <th>0</th>\n",
       "      <td>Action</td>\n",
       "      <td>73.65</td>\n",
       "      <td>25.75</td>\n",
       "    </tr>\n",
       "    <tr>\n",
       "      <th>7</th>\n",
       "      <td>Role-Playing</td>\n",
       "      <td>37.92</td>\n",
       "      <td>13.26</td>\n",
       "    </tr>\n",
       "    <tr>\n",
       "      <th>10</th>\n",
       "      <td>Sports</td>\n",
       "      <td>37.09</td>\n",
       "      <td>12.97</td>\n",
       "    </tr>\n",
       "    <tr>\n",
       "      <th>4</th>\n",
       "      <td>Platform</td>\n",
       "      <td>14.39</td>\n",
       "      <td>5.03</td>\n",
       "    </tr>\n",
       "  </tbody>\n",
       "</table>\n",
       "</div>"
      ],
      "text/plain": [
       "           genre  na_sales  share_na\n",
       "8        Shooter     75.37     26.35\n",
       "0         Action     73.65     25.75\n",
       "7   Role-Playing     37.92     13.26\n",
       "10        Sports     37.09     12.97\n",
       "4       Platform     14.39      5.03"
      ]
     },
     "metadata": {},
     "output_type": "display_data"
    }
   ],
   "source": [
    "plt.figure(figsize=(10, 6))\n",
    "plt.bar(genre_sales_na['genre'], genre_sales_na['na_sales'])\n",
    "plt.title('Топ-5 жанров по продажам в Северной Америке')\n",
    "plt.xlabel('Жанр')\n",
    "plt.ylabel('Суммарные продажи (млн.)')\n",
    "plt.grid(True)\n",
    "plt.tight_layout()\n",
    "plt.show()\n",
    "display(genre_sales_na)"
   ]
  },
  {
   "cell_type": "code",
   "execution_count": 47,
   "metadata": {},
   "outputs": [
    {
     "data": {
      "image/png": "[encoded data removed]",
      "text/plain": [
       "<Figure size 720x432 with 1 Axes>"
      ]
     },
     "metadata": {
      "needs_background": "light"
     },
     "output_type": "display_data"
    },
    {
     "data": {
      "text/html": [
       "<div>\n",
       "<style scoped>\n",
       "    .dataframe tbody tr th:only-of-type {\n",
       "        vertical-align: middle;\n",
       "    }\n",
       "\n",
       "    .dataframe tbody tr th {\n",
       "        vertical-align: top;\n",
       "    }\n",
       "\n",
       "    .dataframe thead th {\n",
       "        text-align: right;\n",
       "    }\n",
       "</style>\n",
       "<table border=\"1\" class=\"dataframe\">\n",
       "  <thead>\n",
       "    <tr style=\"text-align: right;\">\n",
       "      <th></th>\n",
       "      <th>genre</th>\n",
       "      <th>eu_sales</th>\n",
       "      <th>share_eu</th>\n",
       "    </tr>\n",
       "  </thead>\n",
       "  <tbody>\n",
       "    <tr>\n",
       "      <th>0</th>\n",
       "      <td>Action</td>\n",
       "      <td>74.20</td>\n",
       "      <td>26.90</td>\n",
       "    </tr>\n",
       "    <tr>\n",
       "      <th>8</th>\n",
       "      <td>Shooter</td>\n",
       "      <td>64.89</td>\n",
       "      <td>23.53</td>\n",
       "    </tr>\n",
       "    <tr>\n",
       "      <th>10</th>\n",
       "      <td>Sports</td>\n",
       "      <td>38.66</td>\n",
       "      <td>14.02</td>\n",
       "    </tr>\n",
       "    <tr>\n",
       "      <th>7</th>\n",
       "      <td>Role-Playing</td>\n",
       "      <td>32.00</td>\n",
       "      <td>11.60</td>\n",
       "    </tr>\n",
       "    <tr>\n",
       "      <th>6</th>\n",
       "      <td>Racing</td>\n",
       "      <td>15.18</td>\n",
       "      <td>5.50</td>\n",
       "    </tr>\n",
       "  </tbody>\n",
       "</table>\n",
       "</div>"
      ],
      "text/plain": [
       "           genre  eu_sales  share_eu\n",
       "0         Action     74.20     26.90\n",
       "8        Shooter     64.89     23.53\n",
       "10        Sports     38.66     14.02\n",
       "7   Role-Playing     32.00     11.60\n",
       "6         Racing     15.18      5.50"
      ]
     },
     "metadata": {},
     "output_type": "display_data"
    }
   ],
   "source": [
    "#график для Европы\n",
    "plt.figure(figsize=(10, 6))\n",
    "plt.bar(genre_sales_eu['genre'], genre_sales_eu['eu_sales'])\n",
    "plt.title('Топ-5 жанров по продажам в Европе')\n",
    "plt.xlabel('Жанр')\n",
    "plt.ylabel('Суммарные продажи (млн.)')\n",
    "plt.grid(True)\n",
    "plt.tight_layout()\n",
    "plt.show()\n",
    "display(genre_sales_eu)\n"
   ]
  },
  {
   "cell_type": "code",
   "execution_count": 48,
   "metadata": {},
   "outputs": [
    {
     "data": {
      "image/png": "[encoded data removed]",
      "text/plain": [
       "<Figure size 720x432 with 1 Axes>"
      ]
     },
     "metadata": {
      "needs_background": "light"
     },
     "output_type": "display_data"
    },
    {
     "data": {
      "text/html": [
       "<div>\n",
       "<style scoped>\n",
       "    .dataframe tbody tr th:only-of-type {\n",
       "        vertical-align: middle;\n",
       "    }\n",
       "\n",
       "    .dataframe tbody tr th {\n",
       "        vertical-align: top;\n",
       "    }\n",
       "\n",
       "    .dataframe thead th {\n",
       "        text-align: right;\n",
       "    }\n",
       "</style>\n",
       "<table border=\"1\" class=\"dataframe\">\n",
       "  <thead>\n",
       "    <tr style=\"text-align: right;\">\n",
       "      <th></th>\n",
       "      <th>genre</th>\n",
       "      <th>jp_sales</th>\n",
       "      <th>share_jp</th>\n",
       "    </tr>\n",
       "  </thead>\n",
       "  <tbody>\n",
       "    <tr>\n",
       "      <th>7</th>\n",
       "      <td>Role-Playing</td>\n",
       "      <td>44.84</td>\n",
       "      <td>39.48</td>\n",
       "    </tr>\n",
       "    <tr>\n",
       "      <th>0</th>\n",
       "      <td>Action</td>\n",
       "      <td>29.87</td>\n",
       "      <td>26.30</td>\n",
       "    </tr>\n",
       "    <tr>\n",
       "      <th>3</th>\n",
       "      <td>Misc</td>\n",
       "      <td>8.27</td>\n",
       "      <td>7.28</td>\n",
       "    </tr>\n",
       "    <tr>\n",
       "      <th>2</th>\n",
       "      <td>Fighting</td>\n",
       "      <td>5.33</td>\n",
       "      <td>4.69</td>\n",
       "    </tr>\n",
       "    <tr>\n",
       "      <th>4</th>\n",
       "      <td>Platform</td>\n",
       "      <td>4.75</td>\n",
       "      <td>4.18</td>\n",
       "    </tr>\n",
       "  </tbody>\n",
       "</table>\n",
       "</div>"
      ],
      "text/plain": [
       "          genre  jp_sales  share_jp\n",
       "7  Role-Playing     44.84     39.48\n",
       "0        Action     29.87     26.30\n",
       "3          Misc      8.27      7.28\n",
       "2      Fighting      5.33      4.69\n",
       "4      Platform      4.75      4.18"
      ]
     },
     "metadata": {},
     "output_type": "display_data"
    }
   ],
   "source": [
    "#график для Японии\n",
    "plt.figure(figsize=(10, 6))\n",
    "plt.bar(genre_sales_jp['genre'], genre_sales_jp['jp_sales'])\n",
    "plt.title('Топ-5 жанров по продажам в Японии')\n",
    "plt.xlabel('Жанр')\n",
    "plt.ylabel('Суммарные продажи (млн.)')\n",
    "plt.xticks(rotation=45)\n",
    "plt.grid(True)\n",
    "plt.tight_layout()\n",
    "plt.show()\n",
    "display(genre_sales_jp)"
   ]
  },
  {
   "cell_type": "markdown",
   "metadata": {},
   "source": [
    "- В Северной Америке (NA) популярны жанры экшен и шутеры.\n",
    "- В Европе (EU) преобладают те же жанры, что и в NA.\n",
    "- В Японии (JP) лидирует жанр role-playing, который значительно отличается по популярности от других жанров. Экшен также востребован, но не на уровне ролевых игр."
   ]
  },
  {
   "cell_type": "markdown",
   "metadata": {},
   "source": [
    "### Определите для пользователя каждого региона (NA, EU, JP), влияет ли рейтинг ESRB на продажи в отдельном регионе?"
   ]
  },
  {
   "cell_type": "code",
   "execution_count": 49,
   "metadata": {},
   "outputs": [],
   "source": [
    "# Рассчитаем продажи по рейтингам ESRB в каждом регионе\n",
    "esrb_sales_na = relevant_data.groupby('rating')['na_sales'].sum().reset_index().sort_values(by='na_sales', ascending=False)\n",
    "esrb_sales_eu = relevant_data.groupby('rating')['eu_sales'].sum().reset_index().sort_values(by='eu_sales', ascending=False)\n",
    "esrb_sales_jp = relevant_data.groupby('rating')['jp_sales'].sum().reset_index().sort_values(by='jp_sales', ascending=False)\n",
    "\n",
    "# Добавим процент от общих продаж в регионе для сравнения\n",
    "esrb_sales_na['share_na'] = (esrb_sales_na['na_sales'] / total_sales_na * 100).round(2)\n",
    "esrb_sales_eu['share_eu'] = (esrb_sales_eu['eu_sales'] / total_sales_eu * 100).round(2)\n",
    "esrb_sales_jp['share_jp'] = (esrb_sales_jp['jp_sales'] / total_sales_jp * 100).round(2)\n"
   ]
  },
  {
   "cell_type": "code",
   "execution_count": 50,
   "metadata": {},
   "outputs": [
    {
     "data": {
      "image/png": "[encoded data removed]",
      "text/plain": [
       "<Figure size 720x432 with 1 Axes>"
      ]
     },
     "metadata": {
      "needs_background": "light"
     },
     "output_type": "display_data"
    },
    {
     "data": {
      "text/html": [
       "<div>\n",
       "<style scoped>\n",
       "    .dataframe tbody tr th:only-of-type {\n",
       "        vertical-align: middle;\n",
       "    }\n",
       "\n",
       "    .dataframe tbody tr th {\n",
       "        vertical-align: top;\n",
       "    }\n",
       "\n",
       "    .dataframe thead th {\n",
       "        text-align: right;\n",
       "    }\n",
       "</style>\n",
       "<table border=\"1\" class=\"dataframe\">\n",
       "  <thead>\n",
       "    <tr style=\"text-align: right;\">\n",
       "      <th></th>\n",
       "      <th>rating</th>\n",
       "      <th>na_sales</th>\n",
       "      <th>share_na</th>\n",
       "    </tr>\n",
       "  </thead>\n",
       "  <tbody>\n",
       "    <tr>\n",
       "      <th>2</th>\n",
       "      <td>M</td>\n",
       "      <td>97.05</td>\n",
       "      <td>33.93</td>\n",
       "    </tr>\n",
       "    <tr>\n",
       "      <th>4</th>\n",
       "      <td>unknown</td>\n",
       "      <td>68.92</td>\n",
       "      <td>24.10</td>\n",
       "    </tr>\n",
       "    <tr>\n",
       "      <th>0</th>\n",
       "      <td>E</td>\n",
       "      <td>52.48</td>\n",
       "      <td>18.35</td>\n",
       "    </tr>\n",
       "    <tr>\n",
       "      <th>3</th>\n",
       "      <td>T</td>\n",
       "      <td>35.07</td>\n",
       "      <td>12.26</td>\n",
       "    </tr>\n",
       "    <tr>\n",
       "      <th>1</th>\n",
       "      <td>E10+</td>\n",
       "      <td>32.47</td>\n",
       "      <td>11.35</td>\n",
       "    </tr>\n",
       "  </tbody>\n",
       "</table>\n",
       "</div>"
      ],
      "text/plain": [
       "    rating  na_sales  share_na\n",
       "2        M     97.05     33.93\n",
       "4  unknown     68.92     24.10\n",
       "0        E     52.48     18.35\n",
       "3        T     35.07     12.26\n",
       "1     E10+     32.47     11.35"
      ]
     },
     "metadata": {},
     "output_type": "display_data"
    }
   ],
   "source": [
    "plt.figure(figsize=(10, 6))\n",
    "plt.bar(esrb_sales_na['rating'], esrb_sales_na['na_sales'])\n",
    "plt.title('Продажи по рейтингам ESRB в Северной Америке')\n",
    "plt.xlabel('Рейтинг ESRB')\n",
    "plt.ylabel('Суммарные продажи (млн.)')\n",
    "plt.grid(True)\n",
    "plt.tight_layout()\n",
    "plt.show()\n",
    "display(esrb_sales_na)\n"
   ]
  },
  {
   "cell_type": "code",
   "execution_count": 51,
   "metadata": {
    "scrolled": true
   },
   "outputs": [
    {
     "data": {
      "image/png": "[encoded data removed]",
      "text/plain": [
       "<Figure size 720x432 with 1 Axes>"
      ]
     },
     "metadata": {
      "needs_background": "light"
     },
     "output_type": "display_data"
    },
    {
     "data": {
      "text/html": [
       "<div>\n",
       "<style scoped>\n",
       "    .dataframe tbody tr th:only-of-type {\n",
       "        vertical-align: middle;\n",
       "    }\n",
       "\n",
       "    .dataframe tbody tr th {\n",
       "        vertical-align: top;\n",
       "    }\n",
       "\n",
       "    .dataframe thead th {\n",
       "        text-align: right;\n",
       "    }\n",
       "</style>\n",
       "<table border=\"1\" class=\"dataframe\">\n",
       "  <thead>\n",
       "    <tr style=\"text-align: right;\">\n",
       "      <th></th>\n",
       "      <th>rating</th>\n",
       "      <th>eu_sales</th>\n",
       "      <th>share_eu</th>\n",
       "    </tr>\n",
       "  </thead>\n",
       "  <tbody>\n",
       "    <tr>\n",
       "      <th>2</th>\n",
       "      <td>M</td>\n",
       "      <td>94.51</td>\n",
       "      <td>34.27</td>\n",
       "    </tr>\n",
       "    <tr>\n",
       "      <th>4</th>\n",
       "      <td>unknown</td>\n",
       "      <td>63.84</td>\n",
       "      <td>23.15</td>\n",
       "    </tr>\n",
       "    <tr>\n",
       "      <th>0</th>\n",
       "      <td>E</td>\n",
       "      <td>58.39</td>\n",
       "      <td>21.17</td>\n",
       "    </tr>\n",
       "    <tr>\n",
       "      <th>3</th>\n",
       "      <td>T</td>\n",
       "      <td>32.60</td>\n",
       "      <td>11.82</td>\n",
       "    </tr>\n",
       "    <tr>\n",
       "      <th>1</th>\n",
       "      <td>E10+</td>\n",
       "      <td>26.46</td>\n",
       "      <td>9.59</td>\n",
       "    </tr>\n",
       "  </tbody>\n",
       "</table>\n",
       "</div>"
      ],
      "text/plain": [
       "    rating  eu_sales  share_eu\n",
       "2        M     94.51     34.27\n",
       "4  unknown     63.84     23.15\n",
       "0        E     58.39     21.17\n",
       "3        T     32.60     11.82\n",
       "1     E10+     26.46      9.59"
      ]
     },
     "metadata": {},
     "output_type": "display_data"
    }
   ],
   "source": [
    "#график для Европы\n",
    "plt.figure(figsize=(10, 6))\n",
    "plt.bar(esrb_sales_eu['rating'], esrb_sales_eu['eu_sales'])\n",
    "plt.title('Продажи по рейтингам ESRB в Европе')\n",
    "plt.xlabel('Рейтинг ESRB')\n",
    "plt.ylabel('Суммарные продажи (млн.)')\n",
    "plt.grid(True)\n",
    "plt.tight_layout()\n",
    "plt.show()\n",
    "display(esrb_sales_eu)"
   ]
  },
  {
   "cell_type": "code",
   "execution_count": 52,
   "metadata": {},
   "outputs": [
    {
     "data": {
      "image/png": "[encoded data removed]",
      "text/plain": [
       "<Figure size 720x432 with 1 Axes>"
      ]
     },
     "metadata": {
      "needs_background": "light"
     },
     "output_type": "display_data"
    },
    {
     "data": {
      "text/html": [
       "<div>\n",
       "<style scoped>\n",
       "    .dataframe tbody tr th:only-of-type {\n",
       "        vertical-align: middle;\n",
       "    }\n",
       "\n",
       "    .dataframe tbody tr th {\n",
       "        vertical-align: top;\n",
       "    }\n",
       "\n",
       "    .dataframe thead th {\n",
       "        text-align: right;\n",
       "    }\n",
       "</style>\n",
       "<table border=\"1\" class=\"dataframe\">\n",
       "  <thead>\n",
       "    <tr style=\"text-align: right;\">\n",
       "      <th></th>\n",
       "      <th>rating</th>\n",
       "      <th>jp_sales</th>\n",
       "      <th>share_jp</th>\n",
       "    </tr>\n",
       "  </thead>\n",
       "  <tbody>\n",
       "    <tr>\n",
       "      <th>4</th>\n",
       "      <td>unknown</td>\n",
       "      <td>72.97</td>\n",
       "      <td>64.25</td>\n",
       "    </tr>\n",
       "    <tr>\n",
       "      <th>3</th>\n",
       "      <td>T</td>\n",
       "      <td>13.52</td>\n",
       "      <td>11.90</td>\n",
       "    </tr>\n",
       "    <tr>\n",
       "      <th>0</th>\n",
       "      <td>E</td>\n",
       "      <td>13.26</td>\n",
       "      <td>11.67</td>\n",
       "    </tr>\n",
       "    <tr>\n",
       "      <th>2</th>\n",
       "      <td>M</td>\n",
       "      <td>8.17</td>\n",
       "      <td>7.19</td>\n",
       "    </tr>\n",
       "    <tr>\n",
       "      <th>1</th>\n",
       "      <td>E10+</td>\n",
       "      <td>5.66</td>\n",
       "      <td>4.98</td>\n",
       "    </tr>\n",
       "  </tbody>\n",
       "</table>\n",
       "</div>"
      ],
      "text/plain": [
       "    rating  jp_sales  share_jp\n",
       "4  unknown     72.97     64.25\n",
       "3        T     13.52     11.90\n",
       "0        E     13.26     11.67\n",
       "2        M      8.17      7.19\n",
       "1     E10+      5.66      4.98"
      ]
     },
     "metadata": {},
     "output_type": "display_data"
    }
   ],
   "source": [
    "#график для Японии\n",
    "plt.figure(figsize=(10, 6))\n",
    "plt.bar(esrb_sales_jp['rating'], esrb_sales_jp['jp_sales'])\n",
    "plt.title('Продажи по рейтингам ESRB в Японии')\n",
    "plt.xlabel('Рейтинг ESRB')\n",
    "plt.ylabel('Суммарные продажи (млн.)')\n",
    "plt.grid(True)\n",
    "plt.tight_layout()\n",
    "plt.show()\n",
    "display(esrb_sales_jp)"
   ]
  },
  {
   "cell_type": "markdown",
   "metadata": {},
   "source": [
    "- В Северной Америке (NA) преобладают продажи игр с рейтингом M (лиц старше 17 лет), unknown рейтинг и Е (для всех возрастных категорий), что указывает на высокую популярность таких игр в этом регионе.\n",
    "- В Европе (EU) аналогично.\n",
    "- В Японии (JP): большая часть игр имеет рейтинг \"unknown\", что может быть связано с локальной системой рейтингов, которая не всегда отражена в ESRB. Также выделяются игры с рейтингом E и T, но их влияние на продажи меньше по сравнению с Северной Америкой и Европой.\n",
    "\n",
    "_обяъснение рейтингов ESRB взяты с интернета_"
   ]
  },
  {
   "cell_type": "markdown",
   "metadata": {},
   "source": [
    "<div class=\"alert alert-success\">\n",
    "<h2> Комментарий ревьюера 😊<a class=\"tocSkip\"> </h2>\n",
    "    \n",
    "Верное замечание о рейтинговой системе в Японии)"
   ]
  },
  {
   "cell_type": "markdown",
   "metadata": {},
   "source": [
    "<div class=\"alert alert-info\"> <b>Комментарий студента:</b> Использовал актуальные данные, добавил визуализации и обновил вывод</div>"
   ]
  },
  {
   "cell_type": "markdown",
   "metadata": {},
   "source": [
    "<div class=\"alert alert-success\">\n",
    "<h2> Комментарий ревьюера 😊 v_2 <a class=\"tocSkip\"> </h2>\n",
    "\n",
    "👍"
   ]
  },
  {
   "cell_type": "markdown",
   "metadata": {},
   "source": [
    "## Шаг. Проверьте гипотезы"
   ]
  },
  {
   "cell_type": "markdown",
   "metadata": {},
   "source": [
    "### Средние пользовательские рейтинги платформ Xbox One и PC одинаковые;\n",
    "Задайте самостоятельно пороговое значение alpha.\n",
    "\n",
    "Поясните:\n",
    "Как вы сформулировали нулевую и альтернативную гипотезы;\n",
    "Какой критерий применили для проверки гипотез и почему."
   ]
  },
  {
   "cell_type": "code",
   "execution_count": 53,
   "metadata": {},
   "outputs": [
    {
     "name": "stdout",
     "output_type": "stream",
     "text": [
      "p-значение: 0.14012658403611647\n",
      "Не получилось отвергнуть нулевую гипотезу. Средние рейтинги одинаковые.\n"
     ]
    }
   ],
   "source": [
    "#H0: cредние пользовательские рейтинги платформ Xbox One и PC одинаковы.\n",
    "#H1: cредние пользовательские рейтинги платформ Xbox One и PC различаются.\n",
    "\n",
    "xbox_one_ratings = relevant_data[relevant_data['platform'] == 'XOne']['user_score'].dropna()\n",
    "pc_ratings = relevant_data[relevant_data['platform'] == 'PC']['user_score'].dropna()\n",
    "\n",
    "alpha = 0.05\n",
    "\n",
    "results = st.ttest_ind(xbox_one_ratings, pc_ratings)\n",
    "\n",
    "print('p-значение:', results.pvalue)\n",
    "\n",
    "if results.pvalue < alpha:\n",
    "    print('Отвергаем нулевую гипотезу. Средние рейтинги отличаются.')\n",
    "else:\n",
    "    print('Не получилось отвергнуть нулевую гипотезу. Средние рейтинги одинаковые.')\n"
   ]
  },
  {
   "cell_type": "markdown",
   "metadata": {},
   "source": [
    "<div class=\"alert alert-info\"> <b>Комментарий студента:</b> Использовал актуальные данные и убрал nan</div>"
   ]
  },
  {
   "cell_type": "markdown",
   "metadata": {},
   "source": [
    "- H0 - cредние пользовательские рейтинги платформ Xbox One и PC одинаковы. Это означает, что разница между средними рейтингами для этих платформ незначима и является случайной.\n",
    "- H1 - предполагается, что существует значимая разница между средними рейтингами двух платформ.\n",
    "- Применил t-критерий для независимых выборок (Student's t-test). Этот критерий применяется, когда мы сравниваем средние значения двух независимых выборок."
   ]
  },
  {
   "cell_type": "markdown",
   "metadata": {},
   "source": [
    "<div class=\"alert alert-success\">\n",
    "<h2> Комментарий ревьюера 😊<a class=\"tocSkip\"> </h2>\n",
    "    \n",
    "Гипотезы сформулированы верно и тест проведен правильно."
   ]
  },
  {
   "cell_type": "markdown",
   "metadata": {},
   "source": [
    "### Средние пользовательские рейтинги жанров Action (англ. «действие», экшен-игры) и Sports (англ. «спортивные соревнования») разные.\n",
    "Задайте самостоятельно пороговое значение alpha.\n",
    "\n",
    "Поясните:\n",
    "Как вы сформулировали нулевую и альтернативную гипотезы;\n",
    "Какой критерий применили для проверки гипотез и почему."
   ]
  },
  {
   "cell_type": "code",
   "execution_count": 54,
   "metadata": {},
   "outputs": [
    {
     "name": "stdout",
     "output_type": "stream",
     "text": [
      "p-значение: 9.446919621063131e-15\n",
      "Отвергаем нулевую гипотезу. Рейтинги жанров различаются\n"
     ]
    }
   ],
   "source": [
    "#H0: cредние пользовательские рейтинги жанров Action и Sports одинаковы.\n",
    "#H1: cредние пользовательские рейтинги жанров Action и Sports различаются.\n",
    "\n",
    "action_ratings = relevant_data[relevant_data['genre'] == 'Action']['user_score'].dropna()\n",
    "sports_ratings = relevant_data[relevant_data['genre'] == 'Sports']['user_score'].dropna()\n",
    "\n",
    "\n",
    "alpha = 0.05\n",
    "\n",
    "results = st.ttest_ind(action_ratings, sports_ratings)\n",
    "\n",
    "print('p-значение:', results.pvalue)\n",
    "\n",
    "if results.pvalue < alpha:\n",
    "    print('Отвергаем нулевую гипотезу. Рейтинги жанров различаются')\n",
    "else:\n",
    "    print('Не получилось отвергнуть нулевую гипотезу. Рейтинги жанров одинаковы')"
   ]
  },
  {
   "cell_type": "markdown",
   "metadata": {},
   "source": [
    "- H0 - в среднем оценки пользователей не различаются для игр этих двух жанров\n",
    "- H1 - предполагаетcz, что существует значимое различие между средними оценками пользователей для этих двух жанров\n",
    "- Использовал t-критерий для независимых выборок (Student's t-test), потому что нам нужно сравнить средние значения двух независимых выборок \n"
   ]
  },
  {
   "cell_type": "markdown",
   "metadata": {},
   "source": [
    "<div class=\"alert alert-success\">\n",
    "<h2> Комментарий ревьюера 😊<a class=\"tocSkip\"> </h2>\n",
    "    \n",
    "И здесь все верно."
   ]
  },
  {
   "cell_type": "markdown",
   "metadata": {},
   "source": [
    "## Шаг. Напишите общий вывод\n"
   ]
  },
  {
   "cell_type": "markdown",
   "metadata": {},
   "source": [
    "<div>\n",
    "    \n",
    "<font size=\"4\">\n",
    "        Общий вывод:\n",
    "   \n",
    "    \n",
    "</font>\n",
    "    \n",
    "    \n",
    "<font size=\"3\">\n",
    "\n",
    "**Динамика выпуска игр**: количество игр росло с 2000 года до пика в 2011 году благодаря популярности платформ PS2, Xbox 360, Wii и PS3. После 2011 года количество игр начало снижаться, что совпадает с переходом на новое поколение консолей, таких как PS4 и Xbox One.\n",
    "\n",
    "    \n",
    "**Цикл жизни платформ**: средний срок жизни платформ составляет 5–10 лет. PS2, Xbox 360 и Wii достигли пиковых продаж в середине 2000-х, но к 2011 году их популярность начала снижаться. PS4 и Xbox One демонстрируют рост продаж и продолжают оставаться актуальными платформами на конец 2016 года.\n",
    "\n",
    "    \n",
    "**Влияние критиков и пользователей на продажи**: \n",
    "- **PS4**: отзывы пользователей почти не влияют на продажи (корреляция -0.03), тогда как критики оказывают заметное положительное влияние (корреляция 0.41).\n",
    "- **WiiU**: как пользователи (0.42), так и критики (0.38) влияют на продажи игр.\n",
    "- **На всех платформах** влияние критиков на продажи значительно сильнее, чем влияние оценок пользователей, за исключением WiiU, где пользователи оказывают даже большее влияние.\n",
    "\n",
    "    \n",
    "**Популярные жанры**:\n",
    "- Жанры **Platform**, **Shooter** и **Sports** остаются наиболее прибыльными. Эти жанры имеют высокие медианные и средние продажи, что подтверждает их популярность среди массовой аудитории.\n",
    "- **Puzzle**, **Strategy** и **Adventure** — это нишевые жанры с низкими медианными продажами, что указывает на их меньшую популярность.\n",
    "\n",
    "    \n",
    "**Региональные различия**:\n",
    "- В **Северной Америке** и **Европе** преобладают платформы PS4, Xbox One и 3DS, а также популярны жанры экшен и шутеры.\n",
    "- В **Японии** лидируют портативные консоли 3DS и PSV, а жанр ролевых игр (RPG) значительно отличается по популярности от других жанров.\n",
    "\n",
    "    \n",
    "**Влияние рейтингов ESRB**:\n",
    "- В **Северной Америке** и **Европе** игры с рейтингами **M** (для лиц старше 17 лет) и **E** (для всех возрастных категорий) занимают лидирующие позиции по продажам.\n",
    "- В **Японии** преобладают игры с локальными рейтингами, что затрудняет прямое сравнение с ESRB, однако игры с рейтингом **E** и **T** также востребованы.\n",
    "\n",
    "    \n",
    "**Прогноз на 2017 год**: Основываясь на анализе предыдущих данных, PS4 и Xbox One останутся основными платформами для интернет-магазина «Стримчик», а жанры экшен и шутеры будут лидировать по продажам в Северной Америке и Европе, тогда как ролевые игры останутся популярными в Японии. \n",
    "</font>"
   ]
  },
  {
   "cell_type": "code",
   "execution_count": null,
   "metadata": {},
   "outputs": [],
   "source": []
  },
  {
   "cell_type": "code",
   "execution_count": null,
   "metadata": {},
   "outputs": [],
   "source": []
  }
 ],
 "metadata": {
  "ExecuteTimeLog": [
   {
    "duration": 3,
    "start_time": "2024-09-24T11:42:29.869Z"
   },
   {
    "duration": 387,
    "start_time": "2024-09-24T11:43:26.818Z"
   },
   {
    "duration": 321,
    "start_time": "2024-09-24T12:02:59.567Z"
   },
   {
    "duration": 108,
    "start_time": "2024-09-24T12:04:20.938Z"
   },
   {
    "duration": 148,
    "start_time": "2024-09-24T12:04:24.194Z"
   },
   {
    "duration": 146,
    "start_time": "2024-09-24T12:04:41.601Z"
   },
   {
    "duration": 199,
    "start_time": "2024-09-24T12:05:31.435Z"
   },
   {
    "duration": 183,
    "start_time": "2024-09-24T12:17:42.302Z"
   },
   {
    "duration": 154,
    "start_time": "2024-09-24T12:22:17.349Z"
   },
   {
    "duration": 151,
    "start_time": "2024-09-24T12:22:24.057Z"
   },
   {
    "duration": 23,
    "start_time": "2024-09-24T12:24:31.787Z"
   },
   {
    "duration": 4,
    "start_time": "2024-09-24T12:34:00.378Z"
   },
   {
    "duration": 6,
    "start_time": "2024-09-24T12:34:07.187Z"
   },
   {
    "duration": 10,
    "start_time": "2024-09-24T12:36:29.030Z"
   },
   {
    "duration": 63,
    "start_time": "2024-09-24T12:36:44.956Z"
   },
   {
    "duration": 20,
    "start_time": "2024-09-24T12:36:52.695Z"
   },
   {
    "duration": 11,
    "start_time": "2024-09-24T12:37:17.023Z"
   },
   {
    "duration": 9,
    "start_time": "2024-09-24T12:37:19.142Z"
   },
   {
    "duration": 9,
    "start_time": "2024-09-24T12:37:25.321Z"
   },
   {
    "duration": 10,
    "start_time": "2024-09-24T12:37:27.831Z"
   },
   {
    "duration": 5,
    "start_time": "2024-09-24T12:37:33.524Z"
   },
   {
    "duration": 9,
    "start_time": "2024-09-24T12:37:36.241Z"
   },
   {
    "duration": 9,
    "start_time": "2024-09-24T12:37:44.191Z"
   },
   {
    "duration": 9,
    "start_time": "2024-09-24T12:37:46.790Z"
   },
   {
    "duration": 9,
    "start_time": "2024-09-24T12:37:50.762Z"
   },
   {
    "duration": 10,
    "start_time": "2024-09-24T12:37:57.712Z"
   },
   {
    "duration": 10,
    "start_time": "2024-09-24T12:38:15.157Z"
   },
   {
    "duration": 10,
    "start_time": "2024-09-24T12:38:24.951Z"
   },
   {
    "duration": 366,
    "start_time": "2024-09-24T12:38:33.236Z"
   },
   {
    "duration": 136,
    "start_time": "2024-09-24T12:38:33.605Z"
   },
   {
    "duration": 5,
    "start_time": "2024-09-24T12:38:33.742Z"
   },
   {
    "duration": 13,
    "start_time": "2024-09-24T12:38:41.358Z"
   },
   {
    "duration": 5,
    "start_time": "2024-09-24T12:38:58.813Z"
   },
   {
    "duration": 4,
    "start_time": "2024-09-24T12:44:34.089Z"
   },
   {
    "duration": 6,
    "start_time": "2024-09-24T12:44:36.952Z"
   },
   {
    "duration": 4,
    "start_time": "2024-09-24T12:44:42.387Z"
   },
   {
    "duration": 5,
    "start_time": "2024-09-24T12:44:44.551Z"
   },
   {
    "duration": 9,
    "start_time": "2024-09-24T12:44:50.238Z"
   },
   {
    "duration": 421,
    "start_time": "2024-09-24T12:44:58.470Z"
   },
   {
    "duration": 130,
    "start_time": "2024-09-24T12:44:58.893Z"
   },
   {
    "duration": 4,
    "start_time": "2024-09-24T12:44:59.025Z"
   },
   {
    "duration": 7,
    "start_time": "2024-09-24T12:44:59.031Z"
   },
   {
    "duration": 2,
    "start_time": "2024-09-24T12:44:59.040Z"
   },
   {
    "duration": 12,
    "start_time": "2024-09-24T12:45:27.730Z"
   },
   {
    "duration": 5,
    "start_time": "2024-09-24T12:45:37.054Z"
   },
   {
    "duration": 6,
    "start_time": "2024-09-24T12:45:43.847Z"
   },
   {
    "duration": 5,
    "start_time": "2024-09-24T12:47:24.674Z"
   },
   {
    "duration": 418,
    "start_time": "2024-09-24T12:47:36.579Z"
   },
   {
    "duration": 130,
    "start_time": "2024-09-24T12:47:36.998Z"
   },
   {
    "duration": 4,
    "start_time": "2024-09-24T12:47:37.130Z"
   },
   {
    "duration": 10,
    "start_time": "2024-09-24T12:47:37.136Z"
   },
   {
    "duration": 3,
    "start_time": "2024-09-24T12:47:37.148Z"
   },
   {
    "duration": 6,
    "start_time": "2024-09-24T12:49:36.486Z"
   },
   {
    "duration": 3,
    "start_time": "2024-09-24T12:49:38.390Z"
   },
   {
    "duration": 365,
    "start_time": "2024-09-24T12:49:47.033Z"
   },
   {
    "duration": 162,
    "start_time": "2024-09-24T12:49:47.400Z"
   },
   {
    "duration": 5,
    "start_time": "2024-09-24T12:49:47.564Z"
   },
   {
    "duration": 8,
    "start_time": "2024-09-24T12:49:47.571Z"
   },
   {
    "duration": 9,
    "start_time": "2024-09-24T12:49:47.581Z"
   },
   {
    "duration": 6,
    "start_time": "2024-09-24T12:49:53.862Z"
   },
   {
    "duration": 2,
    "start_time": "2024-09-24T12:49:55.264Z"
   },
   {
    "duration": 63,
    "start_time": "2024-09-24T12:50:03.513Z"
   },
   {
    "duration": 5,
    "start_time": "2024-09-24T12:50:06.357Z"
   },
   {
    "duration": 20,
    "start_time": "2024-09-24T12:50:20.577Z"
   },
   {
    "duration": 15,
    "start_time": "2024-09-24T12:50:36.605Z"
   },
   {
    "duration": 19,
    "start_time": "2024-09-24T12:50:48.373Z"
   },
   {
    "duration": 7,
    "start_time": "2024-09-24T12:51:00.558Z"
   },
   {
    "duration": 11,
    "start_time": "2024-09-24T12:56:48.093Z"
   },
   {
    "duration": 21,
    "start_time": "2024-09-24T12:56:52.775Z"
   },
   {
    "duration": 9,
    "start_time": "2024-09-24T12:56:57.968Z"
   },
   {
    "duration": 11,
    "start_time": "2024-09-24T12:57:44.790Z"
   },
   {
    "duration": 9,
    "start_time": "2024-09-24T12:57:47.639Z"
   },
   {
    "duration": 409,
    "start_time": "2024-09-24T12:57:54.073Z"
   },
   {
    "duration": 128,
    "start_time": "2024-09-24T12:57:54.484Z"
   },
   {
    "duration": 5,
    "start_time": "2024-09-24T12:57:54.613Z"
   },
   {
    "duration": 12,
    "start_time": "2024-09-24T12:57:54.619Z"
   },
   {
    "duration": 2,
    "start_time": "2024-09-24T12:57:54.633Z"
   },
   {
    "duration": 9,
    "start_time": "2024-09-24T12:58:15.930Z"
   },
   {
    "duration": 359,
    "start_time": "2024-09-24T17:07:35.963Z"
   },
   {
    "duration": 223,
    "start_time": "2024-09-24T17:08:15.976Z"
   },
   {
    "duration": 5,
    "start_time": "2024-09-24T17:08:32.842Z"
   },
   {
    "duration": 8,
    "start_time": "2024-09-24T17:09:06.696Z"
   },
   {
    "duration": 8,
    "start_time": "2024-09-24T17:09:49.336Z"
   },
   {
    "duration": 378,
    "start_time": "2024-09-24T17:23:19.326Z"
   },
   {
    "duration": 133,
    "start_time": "2024-09-24T17:23:19.706Z"
   },
   {
    "duration": 5,
    "start_time": "2024-09-24T17:23:19.840Z"
   },
   {
    "duration": 5,
    "start_time": "2024-09-24T17:23:19.846Z"
   },
   {
    "duration": 75,
    "start_time": "2024-09-24T17:29:59.161Z"
   },
   {
    "duration": 13,
    "start_time": "2024-09-24T17:30:05.819Z"
   },
   {
    "duration": 7,
    "start_time": "2024-09-24T17:35:58.815Z"
   },
   {
    "duration": 16,
    "start_time": "2024-09-24T17:38:17.006Z"
   },
   {
    "duration": 18,
    "start_time": "2024-09-24T17:38:38.932Z"
   },
   {
    "duration": 18,
    "start_time": "2024-09-24T17:39:03.303Z"
   },
   {
    "duration": 4,
    "start_time": "2024-09-24T17:39:10.581Z"
   },
   {
    "duration": 427,
    "start_time": "2024-09-24T17:39:16.721Z"
   },
   {
    "duration": 108,
    "start_time": "2024-09-24T17:39:17.150Z"
   },
   {
    "duration": 5,
    "start_time": "2024-09-24T17:39:17.259Z"
   },
   {
    "duration": 24,
    "start_time": "2024-09-24T17:39:17.265Z"
   },
   {
    "duration": 4,
    "start_time": "2024-09-24T17:39:17.291Z"
   },
   {
    "duration": 5,
    "start_time": "2024-09-24T17:39:30.372Z"
   },
   {
    "duration": 5,
    "start_time": "2024-09-24T17:39:36.738Z"
   },
   {
    "duration": 362,
    "start_time": "2024-09-24T17:39:53.635Z"
   },
   {
    "duration": 118,
    "start_time": "2024-09-24T17:39:53.999Z"
   },
   {
    "duration": 4,
    "start_time": "2024-09-24T17:39:54.119Z"
   },
   {
    "duration": 69,
    "start_time": "2024-09-24T17:39:54.125Z"
   },
   {
    "duration": 5,
    "start_time": "2024-09-24T17:39:54.196Z"
   },
   {
    "duration": 5,
    "start_time": "2024-09-24T17:39:59.496Z"
   },
   {
    "duration": 12,
    "start_time": "2024-09-24T17:40:38.564Z"
   },
   {
    "duration": 5,
    "start_time": "2024-09-24T17:40:41.454Z"
   },
   {
    "duration": 5,
    "start_time": "2024-09-24T17:40:48.843Z"
   },
   {
    "duration": 62,
    "start_time": "2024-09-24T17:41:27.763Z"
   },
   {
    "duration": 7,
    "start_time": "2024-09-24T17:41:49.833Z"
   },
   {
    "duration": 8,
    "start_time": "2024-09-24T17:41:54.059Z"
   },
   {
    "duration": 433,
    "start_time": "2024-09-24T17:41:58.774Z"
   },
   {
    "duration": 111,
    "start_time": "2024-09-24T17:41:59.209Z"
   },
   {
    "duration": 4,
    "start_time": "2024-09-24T17:41:59.322Z"
   },
   {
    "duration": 15,
    "start_time": "2024-09-24T17:41:59.328Z"
   },
   {
    "duration": 18,
    "start_time": "2024-09-24T17:41:59.345Z"
   },
   {
    "duration": 8,
    "start_time": "2024-09-24T17:43:57.426Z"
   },
   {
    "duration": 6,
    "start_time": "2024-09-24T17:44:19.347Z"
   },
   {
    "duration": 9,
    "start_time": "2024-09-24T17:44:26.791Z"
   },
   {
    "duration": 13,
    "start_time": "2024-09-24T17:44:38.853Z"
   },
   {
    "duration": 70,
    "start_time": "2024-09-24T17:44:45.325Z"
   },
   {
    "duration": 17,
    "start_time": "2024-09-24T17:44:51.188Z"
   },
   {
    "duration": 18,
    "start_time": "2024-09-24T17:44:57.863Z"
   },
   {
    "duration": 9,
    "start_time": "2024-09-24T17:45:11.478Z"
   },
   {
    "duration": 336,
    "start_time": "2024-09-24T17:45:29.759Z"
   },
   {
    "duration": 106,
    "start_time": "2024-09-24T17:45:30.097Z"
   },
   {
    "duration": 4,
    "start_time": "2024-09-24T17:45:30.205Z"
   },
   {
    "duration": 54,
    "start_time": "2024-09-24T17:45:30.211Z"
   },
   {
    "duration": 38,
    "start_time": "2024-09-24T17:45:30.267Z"
   },
   {
    "duration": 47,
    "start_time": "2024-09-24T17:45:30.306Z"
   },
   {
    "duration": 196,
    "start_time": "2024-09-24T17:45:30.354Z"
   },
   {
    "duration": 18,
    "start_time": "2024-09-24T17:45:57.908Z"
   },
   {
    "duration": 8,
    "start_time": "2024-09-24T17:46:03.603Z"
   },
   {
    "duration": 8,
    "start_time": "2024-09-24T17:47:03.352Z"
   },
   {
    "duration": 17,
    "start_time": "2024-09-24T17:47:34.090Z"
   },
   {
    "duration": 3,
    "start_time": "2024-09-24T17:49:10.490Z"
   },
   {
    "duration": 3,
    "start_time": "2024-09-24T17:49:15.527Z"
   },
   {
    "duration": 2,
    "start_time": "2024-09-24T17:49:21.014Z"
   },
   {
    "duration": 12,
    "start_time": "2024-09-24T17:55:07.650Z"
   },
   {
    "duration": 7,
    "start_time": "2024-09-24T17:56:15.770Z"
   },
   {
    "duration": 16,
    "start_time": "2024-09-24T18:02:04.235Z"
   },
   {
    "duration": 420,
    "start_time": "2024-09-25T01:31:23.952Z"
   },
   {
    "duration": 265,
    "start_time": "2024-09-25T01:31:24.374Z"
   },
   {
    "duration": 5,
    "start_time": "2024-09-25T01:31:24.641Z"
   },
   {
    "duration": 5,
    "start_time": "2024-09-25T01:31:24.648Z"
   },
   {
    "duration": 19,
    "start_time": "2024-09-25T01:31:24.655Z"
   },
   {
    "duration": 26,
    "start_time": "2024-09-25T01:31:24.676Z"
   },
   {
    "duration": 13,
    "start_time": "2024-09-25T01:31:24.704Z"
   },
   {
    "duration": 1264,
    "start_time": "2024-09-25T01:32:10.440Z"
   },
   {
    "duration": 6,
    "start_time": "2024-09-25T01:32:18.218Z"
   },
   {
    "duration": 10,
    "start_time": "2024-09-25T01:32:24.932Z"
   },
   {
    "duration": 5,
    "start_time": "2024-09-25T01:32:29.370Z"
   },
   {
    "duration": 16,
    "start_time": "2024-09-25T01:34:03.456Z"
   },
   {
    "duration": 7,
    "start_time": "2024-09-25T01:38:45.937Z"
   },
   {
    "duration": 12,
    "start_time": "2024-09-25T01:39:16.866Z"
   },
   {
    "duration": 14,
    "start_time": "2024-09-25T01:39:30.266Z"
   },
   {
    "duration": 9,
    "start_time": "2024-09-25T01:39:40.604Z"
   },
   {
    "duration": 7,
    "start_time": "2024-09-25T01:39:47.382Z"
   },
   {
    "duration": 8,
    "start_time": "2024-09-25T01:39:57.517Z"
   },
   {
    "duration": 12,
    "start_time": "2024-09-25T01:40:29.038Z"
   },
   {
    "duration": 10,
    "start_time": "2024-09-25T01:40:34.111Z"
   },
   {
    "duration": 16,
    "start_time": "2024-09-25T01:40:58.361Z"
   },
   {
    "duration": 18,
    "start_time": "2024-09-25T01:41:18.578Z"
   },
   {
    "duration": 12,
    "start_time": "2024-09-25T01:41:31.561Z"
   },
   {
    "duration": 18,
    "start_time": "2024-09-25T01:42:35.317Z"
   },
   {
    "duration": 11,
    "start_time": "2024-09-25T01:42:44.933Z"
   },
   {
    "duration": 5,
    "start_time": "2024-09-25T01:42:52.423Z"
   },
   {
    "duration": 9,
    "start_time": "2024-09-25T01:43:02.980Z"
   },
   {
    "duration": 9,
    "start_time": "2024-09-25T01:43:08.279Z"
   },
   {
    "duration": 5,
    "start_time": "2024-09-25T01:43:22.595Z"
   },
   {
    "duration": 9,
    "start_time": "2024-09-25T01:43:37.900Z"
   },
   {
    "duration": 10,
    "start_time": "2024-09-25T01:43:40.896Z"
   },
   {
    "duration": 13,
    "start_time": "2024-09-25T01:44:25.322Z"
   },
   {
    "duration": 6,
    "start_time": "2024-09-25T01:44:44.946Z"
   },
   {
    "duration": 9,
    "start_time": "2024-09-25T01:45:10.904Z"
   },
   {
    "duration": 982,
    "start_time": "2024-09-25T01:46:07.069Z"
   },
   {
    "duration": 11,
    "start_time": "2024-09-25T01:46:19.681Z"
   },
   {
    "duration": 16,
    "start_time": "2024-09-25T01:47:34.924Z"
   },
   {
    "duration": 10,
    "start_time": "2024-09-25T01:48:59.817Z"
   },
   {
    "duration": 21,
    "start_time": "2024-09-25T01:49:04.487Z"
   },
   {
    "duration": 32,
    "start_time": "2024-09-25T01:49:24.659Z"
   },
   {
    "duration": 21,
    "start_time": "2024-09-25T01:49:29.638Z"
   },
   {
    "duration": 8,
    "start_time": "2024-09-25T01:50:57.428Z"
   },
   {
    "duration": 27,
    "start_time": "2024-09-25T01:51:45.767Z"
   },
   {
    "duration": 1006,
    "start_time": "2024-09-25T01:54:09.338Z"
   },
   {
    "duration": 31,
    "start_time": "2024-09-25T01:54:15.818Z"
   },
   {
    "duration": 42,
    "start_time": "2024-09-25T01:54:21.825Z"
   },
   {
    "duration": 6,
    "start_time": "2024-09-25T01:56:10.532Z"
   },
   {
    "duration": 22,
    "start_time": "2024-09-25T01:56:57.270Z"
   },
   {
    "duration": 40,
    "start_time": "2024-09-25T01:57:26.315Z"
   },
   {
    "duration": 40,
    "start_time": "2024-09-25T01:58:03.827Z"
   },
   {
    "duration": 53,
    "start_time": "2024-09-25T01:58:08.150Z"
   },
   {
    "duration": 49,
    "start_time": "2024-09-25T01:58:25.232Z"
   },
   {
    "duration": 1197,
    "start_time": "2024-09-25T02:01:12.400Z"
   },
   {
    "duration": 39,
    "start_time": "2024-09-25T02:01:17.008Z"
   },
   {
    "duration": 57,
    "start_time": "2024-09-25T02:01:43.153Z"
   },
   {
    "duration": 43,
    "start_time": "2024-09-25T02:01:51.838Z"
   },
   {
    "duration": 53,
    "start_time": "2024-09-25T02:01:58.225Z"
   },
   {
    "duration": 53,
    "start_time": "2024-09-25T02:05:03.843Z"
   },
   {
    "duration": 38,
    "start_time": "2024-09-25T02:06:31.396Z"
   },
   {
    "duration": 12,
    "start_time": "2024-09-25T02:18:53.614Z"
   },
   {
    "duration": 12,
    "start_time": "2024-09-25T02:19:18.838Z"
   },
   {
    "duration": 12,
    "start_time": "2024-09-25T02:19:42.665Z"
   },
   {
    "duration": 5,
    "start_time": "2024-09-25T02:25:01.895Z"
   },
   {
    "duration": 9,
    "start_time": "2024-09-25T02:25:09.524Z"
   },
   {
    "duration": 11,
    "start_time": "2024-09-25T02:25:13.370Z"
   },
   {
    "duration": 490,
    "start_time": "2024-09-25T02:25:20.641Z"
   },
   {
    "duration": 129,
    "start_time": "2024-09-25T02:25:21.133Z"
   },
   {
    "duration": 5,
    "start_time": "2024-09-25T02:25:21.264Z"
   },
   {
    "duration": 7,
    "start_time": "2024-09-25T02:25:21.275Z"
   },
   {
    "duration": 37,
    "start_time": "2024-09-25T02:25:21.284Z"
   },
   {
    "duration": 44,
    "start_time": "2024-09-25T02:25:21.323Z"
   },
   {
    "duration": 12,
    "start_time": "2024-09-25T02:25:21.369Z"
   },
   {
    "duration": 20,
    "start_time": "2024-09-25T02:25:21.383Z"
   },
   {
    "duration": 16,
    "start_time": "2024-09-25T02:25:21.405Z"
   },
   {
    "duration": 51,
    "start_time": "2024-09-25T02:25:21.423Z"
   },
   {
    "duration": 39,
    "start_time": "2024-09-25T02:25:21.477Z"
   },
   {
    "duration": 30,
    "start_time": "2024-09-25T02:25:21.518Z"
   },
   {
    "duration": 17,
    "start_time": "2024-09-25T02:25:21.551Z"
   },
   {
    "duration": 39,
    "start_time": "2024-09-25T02:25:21.570Z"
   },
   {
    "duration": 11,
    "start_time": "2024-09-25T02:26:01.528Z"
   },
   {
    "duration": 6,
    "start_time": "2024-09-25T02:26:03.628Z"
   },
   {
    "duration": 13,
    "start_time": "2024-09-25T02:26:05.373Z"
   },
   {
    "duration": 19,
    "start_time": "2024-09-25T02:26:09.055Z"
   },
   {
    "duration": 10,
    "start_time": "2024-09-25T02:26:15.498Z"
   },
   {
    "duration": 412,
    "start_time": "2024-09-25T02:26:32.205Z"
   },
   {
    "duration": 142,
    "start_time": "2024-09-25T02:26:32.619Z"
   },
   {
    "duration": 8,
    "start_time": "2024-09-25T02:26:32.766Z"
   },
   {
    "duration": 7,
    "start_time": "2024-09-25T02:26:32.775Z"
   },
   {
    "duration": 24,
    "start_time": "2024-09-25T02:26:32.784Z"
   },
   {
    "duration": 25,
    "start_time": "2024-09-25T02:26:32.810Z"
   },
   {
    "duration": 12,
    "start_time": "2024-09-25T02:26:32.848Z"
   },
   {
    "duration": 21,
    "start_time": "2024-09-25T02:26:32.862Z"
   },
   {
    "duration": 23,
    "start_time": "2024-09-25T02:26:32.885Z"
   },
   {
    "duration": 46,
    "start_time": "2024-09-25T02:26:32.910Z"
   },
   {
    "duration": 44,
    "start_time": "2024-09-25T02:26:32.958Z"
   },
   {
    "duration": 17,
    "start_time": "2024-09-25T02:26:33.005Z"
   },
   {
    "duration": 25,
    "start_time": "2024-09-25T02:26:33.024Z"
   },
   {
    "duration": 23,
    "start_time": "2024-09-25T02:26:33.052Z"
   },
   {
    "duration": 7,
    "start_time": "2024-09-25T02:28:59.871Z"
   },
   {
    "duration": 16,
    "start_time": "2024-09-25T02:29:02.653Z"
   },
   {
    "duration": 14,
    "start_time": "2024-09-25T02:29:14.115Z"
   },
   {
    "duration": 14,
    "start_time": "2024-09-25T02:29:22.917Z"
   },
   {
    "duration": 10,
    "start_time": "2024-09-25T02:32:51.632Z"
   },
   {
    "duration": 49,
    "start_time": "2024-09-25T06:56:12.136Z"
   },
   {
    "duration": 7,
    "start_time": "2024-09-25T06:56:20.704Z"
   },
   {
    "duration": 6,
    "start_time": "2024-09-25T06:56:28.730Z"
   },
   {
    "duration": 404,
    "start_time": "2024-09-25T06:56:32.747Z"
   },
   {
    "duration": 287,
    "start_time": "2024-09-25T06:56:33.153Z"
   },
   {
    "duration": 4,
    "start_time": "2024-09-25T06:56:33.442Z"
   },
   {
    "duration": 9,
    "start_time": "2024-09-25T06:56:33.448Z"
   },
   {
    "duration": 21,
    "start_time": "2024-09-25T06:56:33.460Z"
   },
   {
    "duration": 127,
    "start_time": "2024-09-25T06:56:33.482Z"
   },
   {
    "duration": 33,
    "start_time": "2024-09-25T06:56:33.611Z"
   },
   {
    "duration": 37,
    "start_time": "2024-09-25T06:56:33.645Z"
   },
   {
    "duration": 16,
    "start_time": "2024-09-25T06:56:33.684Z"
   },
   {
    "duration": 25,
    "start_time": "2024-09-25T06:56:33.702Z"
   },
   {
    "duration": 38,
    "start_time": "2024-09-25T06:56:33.729Z"
   },
   {
    "duration": 6,
    "start_time": "2024-09-25T06:56:33.768Z"
   },
   {
    "duration": 9,
    "start_time": "2024-09-25T06:56:33.776Z"
   },
   {
    "duration": 20,
    "start_time": "2024-09-25T06:56:33.787Z"
   },
   {
    "duration": 27,
    "start_time": "2024-09-25T06:56:33.808Z"
   },
   {
    "duration": 61,
    "start_time": "2024-09-25T06:56:47.982Z"
   },
   {
    "duration": 3,
    "start_time": "2024-09-25T06:56:55.783Z"
   },
   {
    "duration": 5,
    "start_time": "2024-09-25T06:56:59.597Z"
   },
   {
    "duration": 5,
    "start_time": "2024-09-25T06:59:09.603Z"
   },
   {
    "duration": 9,
    "start_time": "2024-09-25T06:59:21.795Z"
   },
   {
    "duration": 19,
    "start_time": "2024-09-25T06:59:33.871Z"
   },
   {
    "duration": 13,
    "start_time": "2024-09-25T06:59:57.825Z"
   },
   {
    "duration": 9,
    "start_time": "2024-09-25T07:01:00.800Z"
   },
   {
    "duration": 5,
    "start_time": "2024-09-25T07:02:09.761Z"
   },
   {
    "duration": 6,
    "start_time": "2024-09-25T07:02:34.561Z"
   },
   {
    "duration": 6,
    "start_time": "2024-09-25T07:02:47.671Z"
   },
   {
    "duration": 24,
    "start_time": "2024-09-25T07:02:54.109Z"
   },
   {
    "duration": 20,
    "start_time": "2024-09-25T07:02:56.303Z"
   },
   {
    "duration": 7,
    "start_time": "2024-09-25T07:03:01.078Z"
   },
   {
    "duration": 10,
    "start_time": "2024-09-25T07:03:22.512Z"
   },
   {
    "duration": 9,
    "start_time": "2024-09-25T07:03:25.230Z"
   },
   {
    "duration": 5,
    "start_time": "2024-09-25T07:03:28.168Z"
   },
   {
    "duration": 5,
    "start_time": "2024-09-25T07:03:53.587Z"
   },
   {
    "duration": 12,
    "start_time": "2024-09-25T07:04:07.467Z"
   },
   {
    "duration": 5,
    "start_time": "2024-09-25T07:04:37.238Z"
   },
   {
    "duration": 9,
    "start_time": "2024-09-25T07:05:03.194Z"
   },
   {
    "duration": 8,
    "start_time": "2024-09-25T07:06:03.089Z"
   },
   {
    "duration": 7,
    "start_time": "2024-09-25T07:06:43.276Z"
   },
   {
    "duration": 18,
    "start_time": "2024-09-25T07:06:51.109Z"
   },
   {
    "duration": 13,
    "start_time": "2024-09-25T07:07:23.288Z"
   },
   {
    "duration": 15,
    "start_time": "2024-09-25T07:07:48.257Z"
   },
   {
    "duration": 5,
    "start_time": "2024-09-25T07:07:52.733Z"
   },
   {
    "duration": 8,
    "start_time": "2024-09-25T07:08:38.581Z"
   },
   {
    "duration": 7,
    "start_time": "2024-09-25T07:09:03.789Z"
   },
   {
    "duration": 8,
    "start_time": "2024-09-25T07:10:34.759Z"
   },
   {
    "duration": 5,
    "start_time": "2024-09-25T07:13:30.406Z"
   },
   {
    "duration": 11,
    "start_time": "2024-09-25T07:13:43.811Z"
   },
   {
    "duration": 14,
    "start_time": "2024-09-25T07:14:05.108Z"
   },
   {
    "duration": 360,
    "start_time": "2024-09-25T11:45:35.030Z"
   },
   {
    "duration": 303,
    "start_time": "2024-09-25T11:45:35.391Z"
   },
   {
    "duration": 4,
    "start_time": "2024-09-25T11:45:35.696Z"
   },
   {
    "duration": 145,
    "start_time": "2024-09-25T11:45:35.702Z"
   },
   {
    "duration": 28,
    "start_time": "2024-09-25T11:45:35.848Z"
   },
   {
    "duration": 66,
    "start_time": "2024-09-25T11:45:35.877Z"
   },
   {
    "duration": 12,
    "start_time": "2024-09-25T11:45:35.945Z"
   },
   {
    "duration": 56,
    "start_time": "2024-09-25T11:45:35.958Z"
   },
   {
    "duration": 41,
    "start_time": "2024-09-25T11:45:36.016Z"
   },
   {
    "duration": 34,
    "start_time": "2024-09-25T11:45:36.059Z"
   },
   {
    "duration": 52,
    "start_time": "2024-09-25T11:45:36.094Z"
   },
   {
    "duration": 17,
    "start_time": "2024-09-25T11:45:36.147Z"
   },
   {
    "duration": 12,
    "start_time": "2024-09-25T11:45:36.165Z"
   },
   {
    "duration": 17,
    "start_time": "2024-09-25T11:45:36.178Z"
   },
   {
    "duration": 31,
    "start_time": "2024-09-25T11:45:36.196Z"
   },
   {
    "duration": 30,
    "start_time": "2024-09-25T11:45:36.229Z"
   },
   {
    "duration": 17,
    "start_time": "2024-09-25T11:45:36.261Z"
   },
   {
    "duration": 41,
    "start_time": "2024-09-25T11:45:36.279Z"
   },
   {
    "duration": 23,
    "start_time": "2024-09-25T12:12:39.143Z"
   },
   {
    "duration": 23,
    "start_time": "2024-09-25T12:17:48.830Z"
   },
   {
    "duration": 3,
    "start_time": "2024-09-25T12:19:44.586Z"
   },
   {
    "duration": 4,
    "start_time": "2024-09-25T12:19:48.741Z"
   },
   {
    "duration": 23,
    "start_time": "2024-09-25T12:19:54.503Z"
   },
   {
    "duration": 7,
    "start_time": "2024-09-25T12:19:58.632Z"
   },
   {
    "duration": 12,
    "start_time": "2024-09-25T12:22:25.546Z"
   },
   {
    "duration": 64,
    "start_time": "2024-09-25T12:22:46.040Z"
   },
   {
    "duration": 54,
    "start_time": "2024-09-25T12:22:56.785Z"
   },
   {
    "duration": 10,
    "start_time": "2024-09-25T12:23:02.633Z"
   },
   {
    "duration": 10,
    "start_time": "2024-09-25T12:23:17.441Z"
   },
   {
    "duration": 9,
    "start_time": "2024-09-25T12:23:33.319Z"
   },
   {
    "duration": 10,
    "start_time": "2024-09-25T12:23:41.645Z"
   },
   {
    "duration": 4,
    "start_time": "2024-09-25T12:24:38.353Z"
   },
   {
    "duration": 5,
    "start_time": "2024-09-25T12:24:47.297Z"
   },
   {
    "duration": 415,
    "start_time": "2024-09-25T16:21:10.324Z"
   },
   {
    "duration": 266,
    "start_time": "2024-09-25T16:21:10.741Z"
   },
   {
    "duration": 4,
    "start_time": "2024-09-25T16:21:11.009Z"
   },
   {
    "duration": 4,
    "start_time": "2024-09-25T16:21:11.015Z"
   },
   {
    "duration": 18,
    "start_time": "2024-09-25T16:21:11.021Z"
   },
   {
    "duration": 18,
    "start_time": "2024-09-25T16:21:11.040Z"
   },
   {
    "duration": 9,
    "start_time": "2024-09-25T16:21:11.060Z"
   },
   {
    "duration": 26,
    "start_time": "2024-09-25T16:21:11.071Z"
   },
   {
    "duration": 31,
    "start_time": "2024-09-25T16:21:11.098Z"
   },
   {
    "duration": 20,
    "start_time": "2024-09-25T16:21:11.131Z"
   },
   {
    "duration": 39,
    "start_time": "2024-09-25T16:21:11.152Z"
   },
   {
    "duration": 12,
    "start_time": "2024-09-25T16:21:11.215Z"
   },
   {
    "duration": 8,
    "start_time": "2024-09-25T16:21:11.229Z"
   },
   {
    "duration": 13,
    "start_time": "2024-09-25T16:21:11.239Z"
   },
   {
    "duration": 9,
    "start_time": "2024-09-25T16:21:11.253Z"
   },
   {
    "duration": 11,
    "start_time": "2024-09-25T16:21:11.263Z"
   },
   {
    "duration": 44,
    "start_time": "2024-09-25T16:21:11.276Z"
   },
   {
    "duration": 38,
    "start_time": "2024-09-25T16:21:11.321Z"
   },
   {
    "duration": 31,
    "start_time": "2024-09-25T16:21:11.361Z"
   },
   {
    "duration": 11,
    "start_time": "2024-09-25T16:21:11.393Z"
   },
   {
    "duration": 8,
    "start_time": "2024-09-25T16:21:11.406Z"
   },
   {
    "duration": 382,
    "start_time": "2024-09-25T16:21:50.749Z"
   },
   {
    "duration": 112,
    "start_time": "2024-09-25T16:21:51.132Z"
   },
   {
    "duration": 4,
    "start_time": "2024-09-25T16:21:51.246Z"
   },
   {
    "duration": 9,
    "start_time": "2024-09-25T16:21:51.251Z"
   },
   {
    "duration": 73,
    "start_time": "2024-09-25T16:21:51.262Z"
   },
   {
    "duration": 38,
    "start_time": "2024-09-25T16:21:51.337Z"
   },
   {
    "duration": 20,
    "start_time": "2024-09-25T16:21:51.376Z"
   },
   {
    "duration": 21,
    "start_time": "2024-09-25T16:21:51.397Z"
   },
   {
    "duration": 25,
    "start_time": "2024-09-25T16:21:51.419Z"
   },
   {
    "duration": 43,
    "start_time": "2024-09-25T16:21:51.446Z"
   },
   {
    "duration": 36,
    "start_time": "2024-09-25T16:21:51.491Z"
   },
   {
    "duration": 11,
    "start_time": "2024-09-25T16:21:51.529Z"
   },
   {
    "duration": 8,
    "start_time": "2024-09-25T16:21:51.542Z"
   },
   {
    "duration": 13,
    "start_time": "2024-09-25T16:21:51.552Z"
   },
   {
    "duration": 9,
    "start_time": "2024-09-25T16:21:51.566Z"
   },
   {
    "duration": 40,
    "start_time": "2024-09-25T16:21:51.576Z"
   },
   {
    "duration": 12,
    "start_time": "2024-09-25T16:21:51.617Z"
   },
   {
    "duration": 13,
    "start_time": "2024-09-25T16:21:51.630Z"
   },
   {
    "duration": 96,
    "start_time": "2024-09-25T16:21:51.645Z"
   },
   {
    "duration": 10,
    "start_time": "2024-09-25T16:21:51.743Z"
   },
   {
    "duration": 14,
    "start_time": "2024-09-25T16:21:51.755Z"
   },
   {
    "duration": 23,
    "start_time": "2024-09-25T16:22:28.330Z"
   },
   {
    "duration": 6,
    "start_time": "2024-09-25T16:23:08.262Z"
   },
   {
    "duration": 13,
    "start_time": "2024-09-25T16:23:13.090Z"
   },
   {
    "duration": 11,
    "start_time": "2024-09-25T16:23:46.340Z"
   },
   {
    "duration": 14,
    "start_time": "2024-09-25T16:23:55.381Z"
   },
   {
    "duration": 67,
    "start_time": "2024-09-25T16:24:05.776Z"
   },
   {
    "duration": 14,
    "start_time": "2024-09-25T16:24:23.231Z"
   },
   {
    "duration": 13,
    "start_time": "2024-09-25T16:24:34.683Z"
   },
   {
    "duration": 12,
    "start_time": "2024-09-25T16:25:15.969Z"
   },
   {
    "duration": 12,
    "start_time": "2024-09-25T16:25:41.615Z"
   },
   {
    "duration": 8,
    "start_time": "2024-09-25T16:44:47.648Z"
   },
   {
    "duration": 3,
    "start_time": "2024-09-25T16:52:53.527Z"
   },
   {
    "duration": 4,
    "start_time": "2024-09-25T16:52:56.972Z"
   },
   {
    "duration": 24,
    "start_time": "2024-09-25T16:53:33.630Z"
   },
   {
    "duration": 15,
    "start_time": "2024-09-25T16:54:37.172Z"
   },
   {
    "duration": 13,
    "start_time": "2024-09-25T16:54:51.318Z"
   },
   {
    "duration": 14,
    "start_time": "2024-09-25T16:54:59.659Z"
   },
   {
    "duration": 11,
    "start_time": "2024-09-25T16:55:56.740Z"
   },
   {
    "duration": 13,
    "start_time": "2024-09-25T16:56:38.041Z"
   },
   {
    "duration": 11,
    "start_time": "2024-09-25T16:56:46.216Z"
   },
   {
    "duration": 13,
    "start_time": "2024-09-25T16:56:48.812Z"
   },
   {
    "duration": 15,
    "start_time": "2024-09-25T16:57:00.019Z"
   },
   {
    "duration": 14,
    "start_time": "2024-09-25T16:57:27.253Z"
   },
   {
    "duration": 22,
    "start_time": "2024-09-25T16:58:25.540Z"
   },
   {
    "duration": 16,
    "start_time": "2024-09-25T16:59:49.692Z"
   },
   {
    "duration": 402,
    "start_time": "2024-09-25T17:03:27.204Z"
   },
   {
    "duration": 673,
    "start_time": "2024-09-25T17:03:31.995Z"
   },
   {
    "duration": 106,
    "start_time": "2024-09-25T17:03:32.670Z"
   },
   {
    "duration": 4,
    "start_time": "2024-09-25T17:03:32.778Z"
   },
   {
    "duration": 24,
    "start_time": "2024-09-25T17:03:32.784Z"
   },
   {
    "duration": 19,
    "start_time": "2024-09-25T17:03:32.811Z"
   },
   {
    "duration": 36,
    "start_time": "2024-09-25T17:03:32.831Z"
   },
   {
    "duration": 22,
    "start_time": "2024-09-25T17:03:32.868Z"
   },
   {
    "duration": 20,
    "start_time": "2024-09-25T17:03:32.892Z"
   },
   {
    "duration": 31,
    "start_time": "2024-09-25T17:03:32.914Z"
   },
   {
    "duration": 33,
    "start_time": "2024-09-25T17:03:32.947Z"
   },
   {
    "duration": 55,
    "start_time": "2024-09-25T17:03:32.981Z"
   },
   {
    "duration": 12,
    "start_time": "2024-09-25T17:03:33.037Z"
   },
   {
    "duration": 22,
    "start_time": "2024-09-25T17:03:33.050Z"
   },
   {
    "duration": 29,
    "start_time": "2024-09-25T17:03:33.074Z"
   },
   {
    "duration": 8,
    "start_time": "2024-09-25T17:03:33.104Z"
   },
   {
    "duration": 12,
    "start_time": "2024-09-25T17:03:33.114Z"
   },
   {
    "duration": 43,
    "start_time": "2024-09-25T17:03:33.127Z"
   },
   {
    "duration": 45,
    "start_time": "2024-09-25T17:03:33.172Z"
   },
   {
    "duration": 23,
    "start_time": "2024-09-25T17:03:33.218Z"
   },
   {
    "duration": 10,
    "start_time": "2024-09-25T17:03:33.242Z"
   },
   {
    "duration": 15,
    "start_time": "2024-09-25T17:03:33.253Z"
   },
   {
    "duration": 31,
    "start_time": "2024-09-25T17:03:33.270Z"
   },
   {
    "duration": 9,
    "start_time": "2024-09-25T17:03:33.302Z"
   },
   {
    "duration": 18,
    "start_time": "2024-09-25T17:03:33.312Z"
   },
   {
    "duration": 5,
    "start_time": "2024-09-25T17:03:33.331Z"
   },
   {
    "duration": 57,
    "start_time": "2024-09-25T17:03:33.337Z"
   },
   {
    "duration": 408,
    "start_time": "2024-09-25T17:03:50.852Z"
   },
   {
    "duration": 372,
    "start_time": "2024-09-25T17:03:56.377Z"
   },
   {
    "duration": 362,
    "start_time": "2024-09-25T17:04:01.700Z"
   },
   {
    "duration": 365,
    "start_time": "2024-09-25T17:04:07.295Z"
   },
   {
    "duration": 423,
    "start_time": "2024-09-25T17:04:14.395Z"
   },
   {
    "duration": 55,
    "start_time": "2024-09-25T17:04:30.685Z"
   },
   {
    "duration": 383,
    "start_time": "2024-09-25T17:04:36.520Z"
   },
   {
    "duration": 351,
    "start_time": "2024-09-25T17:05:12.929Z"
   },
   {
    "duration": 348,
    "start_time": "2024-09-25T17:06:21.325Z"
   },
   {
    "duration": 385,
    "start_time": "2024-09-25T17:07:06.933Z"
   },
   {
    "duration": 3,
    "start_time": "2024-09-25T17:16:33.077Z"
   },
   {
    "duration": 229,
    "start_time": "2024-09-25T17:20:01.136Z"
   },
   {
    "duration": 354,
    "start_time": "2024-09-25T17:20:19.412Z"
   },
   {
    "duration": 9,
    "start_time": "2024-09-25T17:24:27.046Z"
   },
   {
    "duration": 8,
    "start_time": "2024-09-25T17:24:34.754Z"
   },
   {
    "duration": 827,
    "start_time": "2024-09-25T17:28:23.809Z"
   },
   {
    "duration": 18,
    "start_time": "2024-09-25T17:28:48.870Z"
   },
   {
    "duration": 357,
    "start_time": "2024-09-25T17:28:54.217Z"
   },
   {
    "duration": 636,
    "start_time": "2024-09-25T17:29:02.800Z"
   },
   {
    "duration": 105,
    "start_time": "2024-09-25T17:29:03.438Z"
   },
   {
    "duration": 4,
    "start_time": "2024-09-25T17:29:03.545Z"
   },
   {
    "duration": 109,
    "start_time": "2024-09-25T17:29:03.551Z"
   },
   {
    "duration": 39,
    "start_time": "2024-09-25T17:29:03.662Z"
   },
   {
    "duration": 17,
    "start_time": "2024-09-25T17:29:03.702Z"
   },
   {
    "duration": 9,
    "start_time": "2024-09-25T17:29:03.721Z"
   },
   {
    "duration": 27,
    "start_time": "2024-09-25T17:29:03.732Z"
   },
   {
    "duration": 14,
    "start_time": "2024-09-25T17:29:03.761Z"
   },
   {
    "duration": 21,
    "start_time": "2024-09-25T17:29:03.777Z"
   },
   {
    "duration": 45,
    "start_time": "2024-09-25T17:29:03.800Z"
   },
   {
    "duration": 11,
    "start_time": "2024-09-25T17:29:03.847Z"
   },
   {
    "duration": 36,
    "start_time": "2024-09-25T17:29:03.860Z"
   },
   {
    "duration": 11,
    "start_time": "2024-09-25T17:29:03.898Z"
   },
   {
    "duration": 11,
    "start_time": "2024-09-25T17:29:03.910Z"
   },
   {
    "duration": 11,
    "start_time": "2024-09-25T17:29:03.923Z"
   },
   {
    "duration": 20,
    "start_time": "2024-09-25T17:29:03.935Z"
   },
   {
    "duration": 21,
    "start_time": "2024-09-25T17:29:03.957Z"
   },
   {
    "duration": 23,
    "start_time": "2024-09-25T17:29:03.980Z"
   },
   {
    "duration": 19,
    "start_time": "2024-09-25T17:29:04.004Z"
   },
   {
    "duration": 14,
    "start_time": "2024-09-25T17:29:04.024Z"
   },
   {
    "duration": 13,
    "start_time": "2024-09-25T17:29:04.039Z"
   },
   {
    "duration": 19,
    "start_time": "2024-09-25T17:29:04.053Z"
   },
   {
    "duration": 20,
    "start_time": "2024-09-25T17:29:04.074Z"
   },
   {
    "duration": 377,
    "start_time": "2024-09-25T17:29:04.095Z"
   },
   {
    "duration": 847,
    "start_time": "2024-09-25T17:29:04.473Z"
   },
   {
    "duration": 804,
    "start_time": "2024-09-25T17:29:13.788Z"
   },
   {
    "duration": 801,
    "start_time": "2024-09-25T17:29:44.075Z"
   },
   {
    "duration": 18,
    "start_time": "2024-09-25T17:31:42.237Z"
   },
   {
    "duration": 3,
    "start_time": "2024-09-25T17:33:13.638Z"
   },
   {
    "duration": 12,
    "start_time": "2024-09-25T17:33:17.794Z"
   },
   {
    "duration": 23,
    "start_time": "2024-09-25T17:52:38.894Z"
   },
   {
    "duration": 15,
    "start_time": "2024-09-25T17:52:57.108Z"
   },
   {
    "duration": 37,
    "start_time": "2024-09-25T17:53:06.588Z"
   },
   {
    "duration": 5,
    "start_time": "2024-09-25T17:54:01.581Z"
   },
   {
    "duration": 10,
    "start_time": "2024-09-25T17:54:05.780Z"
   },
   {
    "duration": 583,
    "start_time": "2024-09-25T17:54:38.869Z"
   },
   {
    "duration": 113,
    "start_time": "2024-09-25T17:54:39.453Z"
   },
   {
    "duration": 4,
    "start_time": "2024-09-25T17:54:39.568Z"
   },
   {
    "duration": 7,
    "start_time": "2024-09-25T17:54:39.573Z"
   },
   {
    "duration": 33,
    "start_time": "2024-09-25T17:54:39.582Z"
   },
   {
    "duration": 17,
    "start_time": "2024-09-25T17:54:39.616Z"
   },
   {
    "duration": 8,
    "start_time": "2024-09-25T17:54:39.634Z"
   },
   {
    "duration": 15,
    "start_time": "2024-09-25T17:54:39.643Z"
   },
   {
    "duration": 14,
    "start_time": "2024-09-25T17:54:39.659Z"
   },
   {
    "duration": 49,
    "start_time": "2024-09-25T17:54:39.675Z"
   },
   {
    "duration": 35,
    "start_time": "2024-09-25T17:54:39.726Z"
   },
   {
    "duration": 26,
    "start_time": "2024-09-25T17:54:39.763Z"
   },
   {
    "duration": 8,
    "start_time": "2024-09-25T17:54:39.791Z"
   },
   {
    "duration": 11,
    "start_time": "2024-09-25T17:54:39.814Z"
   },
   {
    "duration": 8,
    "start_time": "2024-09-25T17:54:39.826Z"
   },
   {
    "duration": 11,
    "start_time": "2024-09-25T17:54:39.835Z"
   },
   {
    "duration": 10,
    "start_time": "2024-09-25T17:54:39.848Z"
   },
   {
    "duration": 12,
    "start_time": "2024-09-25T17:54:39.859Z"
   },
   {
    "duration": 58,
    "start_time": "2024-09-25T17:54:39.873Z"
   },
   {
    "duration": 17,
    "start_time": "2024-09-25T17:54:39.932Z"
   },
   {
    "duration": 10,
    "start_time": "2024-09-25T17:54:39.950Z"
   },
   {
    "duration": 5,
    "start_time": "2024-09-25T17:54:39.962Z"
   },
   {
    "duration": 6,
    "start_time": "2024-09-25T17:54:39.968Z"
   },
   {
    "duration": 39,
    "start_time": "2024-09-25T17:54:39.976Z"
   },
   {
    "duration": 391,
    "start_time": "2024-09-25T17:54:40.017Z"
   },
   {
    "duration": 26,
    "start_time": "2024-09-25T17:54:40.409Z"
   },
   {
    "duration": 9,
    "start_time": "2024-09-25T17:54:40.437Z"
   },
   {
    "duration": 795,
    "start_time": "2024-09-26T01:25:10.427Z"
   },
   {
    "duration": 214,
    "start_time": "2024-09-26T01:25:11.224Z"
   },
   {
    "duration": 5,
    "start_time": "2024-09-26T01:25:11.439Z"
   },
   {
    "duration": 42,
    "start_time": "2024-09-26T01:25:11.445Z"
   },
   {
    "duration": 30,
    "start_time": "2024-09-26T01:25:11.489Z"
   },
   {
    "duration": 90,
    "start_time": "2024-09-26T01:25:11.520Z"
   },
   {
    "duration": 10,
    "start_time": "2024-09-26T01:25:11.612Z"
   },
   {
    "duration": 20,
    "start_time": "2024-09-26T01:25:11.624Z"
   },
   {
    "duration": 24,
    "start_time": "2024-09-26T01:25:11.645Z"
   },
   {
    "duration": 21,
    "start_time": "2024-09-26T01:25:11.671Z"
   },
   {
    "duration": 36,
    "start_time": "2024-09-26T01:25:11.693Z"
   },
   {
    "duration": 31,
    "start_time": "2024-09-26T01:25:11.730Z"
   },
   {
    "duration": 11,
    "start_time": "2024-09-26T01:25:11.763Z"
   },
   {
    "duration": 9,
    "start_time": "2024-09-26T01:25:11.777Z"
   },
   {
    "duration": 9,
    "start_time": "2024-09-26T01:25:11.788Z"
   },
   {
    "duration": 9,
    "start_time": "2024-09-26T01:25:11.798Z"
   },
   {
    "duration": 9,
    "start_time": "2024-09-26T01:25:11.808Z"
   },
   {
    "duration": 51,
    "start_time": "2024-09-26T01:25:11.818Z"
   },
   {
    "duration": 23,
    "start_time": "2024-09-26T01:25:11.870Z"
   },
   {
    "duration": 11,
    "start_time": "2024-09-26T01:25:11.895Z"
   },
   {
    "duration": 9,
    "start_time": "2024-09-26T01:25:11.907Z"
   },
   {
    "duration": 3,
    "start_time": "2024-09-26T01:25:11.918Z"
   },
   {
    "duration": 33,
    "start_time": "2024-09-26T01:25:11.923Z"
   },
   {
    "duration": 20,
    "start_time": "2024-09-26T01:25:11.959Z"
   },
   {
    "duration": 466,
    "start_time": "2024-09-26T01:25:11.981Z"
   },
   {
    "duration": 28,
    "start_time": "2024-09-26T01:25:12.449Z"
   },
   {
    "duration": 8,
    "start_time": "2024-09-26T01:25:12.478Z"
   },
   {
    "duration": 13,
    "start_time": "2024-09-26T01:45:30.183Z"
   },
   {
    "duration": 12,
    "start_time": "2024-09-26T01:45:44.960Z"
   },
   {
    "duration": 10,
    "start_time": "2024-09-26T01:52:15.477Z"
   },
   {
    "duration": 34,
    "start_time": "2024-09-26T01:52:19.990Z"
   },
   {
    "duration": 485,
    "start_time": "2024-09-26T01:52:54.259Z"
   },
   {
    "duration": 642,
    "start_time": "2024-09-26T02:03:35.252Z"
   },
   {
    "duration": 112,
    "start_time": "2024-09-26T02:03:35.896Z"
   },
   {
    "duration": 5,
    "start_time": "2024-09-26T02:03:36.010Z"
   },
   {
    "duration": 25,
    "start_time": "2024-09-26T02:03:36.016Z"
   },
   {
    "duration": 21,
    "start_time": "2024-09-26T02:03:36.043Z"
   },
   {
    "duration": 37,
    "start_time": "2024-09-26T02:03:36.066Z"
   },
   {
    "duration": 9,
    "start_time": "2024-09-26T02:03:36.105Z"
   },
   {
    "duration": 29,
    "start_time": "2024-09-26T02:03:36.115Z"
   },
   {
    "duration": 15,
    "start_time": "2024-09-26T02:03:36.146Z"
   },
   {
    "duration": 22,
    "start_time": "2024-09-26T02:03:36.164Z"
   },
   {
    "duration": 50,
    "start_time": "2024-09-26T02:03:36.189Z"
   },
   {
    "duration": 20,
    "start_time": "2024-09-26T02:03:36.241Z"
   },
   {
    "duration": 20,
    "start_time": "2024-09-26T02:03:36.263Z"
   },
   {
    "duration": 11,
    "start_time": "2024-09-26T02:03:36.284Z"
   },
   {
    "duration": 10,
    "start_time": "2024-09-26T02:03:36.297Z"
   },
   {
    "duration": 34,
    "start_time": "2024-09-26T02:03:36.309Z"
   },
   {
    "duration": 23,
    "start_time": "2024-09-26T02:03:36.345Z"
   },
   {
    "duration": 30,
    "start_time": "2024-09-26T02:03:36.369Z"
   },
   {
    "duration": 23,
    "start_time": "2024-09-26T02:03:36.400Z"
   },
   {
    "duration": 14,
    "start_time": "2024-09-26T02:03:36.425Z"
   },
   {
    "duration": 11,
    "start_time": "2024-09-26T02:03:36.453Z"
   },
   {
    "duration": 4,
    "start_time": "2024-09-26T02:03:36.466Z"
   },
   {
    "duration": 9,
    "start_time": "2024-09-26T02:03:36.472Z"
   },
   {
    "duration": 26,
    "start_time": "2024-09-26T02:03:36.483Z"
   },
   {
    "duration": 404,
    "start_time": "2024-09-26T02:03:36.511Z"
   },
   {
    "duration": 40,
    "start_time": "2024-09-26T02:03:36.918Z"
   },
   {
    "duration": 13,
    "start_time": "2024-09-26T02:03:36.960Z"
   },
   {
    "duration": 30,
    "start_time": "2024-09-26T02:03:36.977Z"
   },
   {
    "duration": 558,
    "start_time": "2024-09-26T02:03:37.009Z"
   },
   {
    "duration": 75,
    "start_time": "2024-09-26T02:06:37.848Z"
   },
   {
    "duration": 138,
    "start_time": "2024-09-26T02:06:41.997Z"
   },
   {
    "duration": 417,
    "start_time": "2024-09-26T02:11:27.672Z"
   },
   {
    "duration": 442,
    "start_time": "2024-09-26T02:11:42.940Z"
   },
   {
    "duration": 437,
    "start_time": "2024-09-26T02:11:52.251Z"
   },
   {
    "duration": 423,
    "start_time": "2024-09-26T02:12:01.253Z"
   },
   {
    "duration": 489,
    "start_time": "2024-09-26T02:12:27.085Z"
   },
   {
    "duration": 5,
    "start_time": "2024-09-26T02:20:21.194Z"
   },
   {
    "duration": 24,
    "start_time": "2024-09-26T02:20:25.265Z"
   },
   {
    "duration": 6,
    "start_time": "2024-09-26T02:20:50.628Z"
   },
   {
    "duration": 8,
    "start_time": "2024-09-26T02:21:25.664Z"
   },
   {
    "duration": 5,
    "start_time": "2024-09-26T02:21:35.763Z"
   },
   {
    "duration": 192,
    "start_time": "2024-09-26T02:25:17.679Z"
   },
   {
    "duration": 151,
    "start_time": "2024-09-26T02:25:26.255Z"
   },
   {
    "duration": 139,
    "start_time": "2024-09-26T02:25:46.272Z"
   },
   {
    "duration": 139,
    "start_time": "2024-09-26T02:26:16.778Z"
   },
   {
    "duration": 261,
    "start_time": "2024-09-26T02:26:34.152Z"
   },
   {
    "duration": 268,
    "start_time": "2024-09-26T02:26:48.993Z"
   },
   {
    "duration": 116,
    "start_time": "2024-09-26T02:26:52.546Z"
   },
   {
    "duration": 141,
    "start_time": "2024-09-26T02:27:02.054Z"
   },
   {
    "duration": 268,
    "start_time": "2024-09-26T02:27:12.867Z"
   },
   {
    "duration": 5,
    "start_time": "2024-09-26T02:29:57.488Z"
   },
   {
    "duration": 7,
    "start_time": "2024-09-26T02:30:10.492Z"
   },
   {
    "duration": 22,
    "start_time": "2024-09-26T02:40:20.575Z"
   },
   {
    "duration": 16,
    "start_time": "2024-09-26T02:40:52.398Z"
   },
   {
    "duration": 22,
    "start_time": "2024-09-26T02:41:56.379Z"
   },
   {
    "duration": 13,
    "start_time": "2024-09-26T02:47:04.342Z"
   },
   {
    "duration": 6,
    "start_time": "2024-09-26T02:47:11.789Z"
   },
   {
    "duration": 12,
    "start_time": "2024-09-26T02:47:25.965Z"
   },
   {
    "duration": 330,
    "start_time": "2024-09-26T02:49:05.142Z"
   },
   {
    "duration": 357,
    "start_time": "2024-09-26T02:49:11.971Z"
   },
   {
    "duration": 415,
    "start_time": "2024-09-26T02:49:19.052Z"
   },
   {
    "duration": 170,
    "start_time": "2024-09-26T02:49:37.720Z"
   },
   {
    "duration": 326,
    "start_time": "2024-09-26T02:49:42.117Z"
   },
   {
    "duration": 321,
    "start_time": "2024-09-26T02:49:51.519Z"
   },
   {
    "duration": 912,
    "start_time": "2024-09-26T05:04:32.543Z"
   },
   {
    "duration": 278,
    "start_time": "2024-09-26T05:04:33.457Z"
   },
   {
    "duration": 6,
    "start_time": "2024-09-26T05:04:33.736Z"
   },
   {
    "duration": 25,
    "start_time": "2024-09-26T05:04:33.745Z"
   },
   {
    "duration": 34,
    "start_time": "2024-09-26T05:04:33.772Z"
   },
   {
    "duration": 24,
    "start_time": "2024-09-26T05:04:33.808Z"
   },
   {
    "duration": 9,
    "start_time": "2024-09-26T05:04:33.834Z"
   },
   {
    "duration": 17,
    "start_time": "2024-09-26T05:04:33.845Z"
   },
   {
    "duration": 16,
    "start_time": "2024-09-26T05:04:33.865Z"
   },
   {
    "duration": 21,
    "start_time": "2024-09-26T05:04:33.884Z"
   },
   {
    "duration": 59,
    "start_time": "2024-09-26T05:04:33.907Z"
   },
   {
    "duration": 13,
    "start_time": "2024-09-26T05:04:33.968Z"
   },
   {
    "duration": 9,
    "start_time": "2024-09-26T05:04:33.983Z"
   },
   {
    "duration": 10,
    "start_time": "2024-09-26T05:04:33.994Z"
   },
   {
    "duration": 24,
    "start_time": "2024-09-26T05:04:34.005Z"
   },
   {
    "duration": 36,
    "start_time": "2024-09-26T05:04:34.030Z"
   },
   {
    "duration": 11,
    "start_time": "2024-09-26T05:04:34.068Z"
   },
   {
    "duration": 12,
    "start_time": "2024-09-26T05:04:34.081Z"
   },
   {
    "duration": 22,
    "start_time": "2024-09-26T05:04:34.095Z"
   },
   {
    "duration": 10,
    "start_time": "2024-09-26T05:04:34.119Z"
   },
   {
    "duration": 12,
    "start_time": "2024-09-26T05:04:34.164Z"
   },
   {
    "duration": 4,
    "start_time": "2024-09-26T05:04:34.177Z"
   },
   {
    "duration": 6,
    "start_time": "2024-09-26T05:04:34.183Z"
   },
   {
    "duration": 20,
    "start_time": "2024-09-26T05:04:34.191Z"
   },
   {
    "duration": 488,
    "start_time": "2024-09-26T05:04:34.212Z"
   },
   {
    "duration": 27,
    "start_time": "2024-09-26T05:04:34.702Z"
   },
   {
    "duration": 11,
    "start_time": "2024-09-26T05:04:34.730Z"
   },
   {
    "duration": 26,
    "start_time": "2024-09-26T05:04:34.744Z"
   },
   {
    "duration": 507,
    "start_time": "2024-09-26T05:04:34.772Z"
   },
   {
    "duration": 523,
    "start_time": "2024-09-26T05:04:35.281Z"
   },
   {
    "duration": 6,
    "start_time": "2024-09-26T05:04:35.806Z"
   },
   {
    "duration": 338,
    "start_time": "2024-09-26T05:04:35.813Z"
   },
   {
    "duration": 301,
    "start_time": "2024-09-26T05:04:36.153Z"
   },
   {
    "duration": 12,
    "start_time": "2024-09-26T05:04:36.456Z"
   },
   {
    "duration": 18,
    "start_time": "2024-09-26T05:04:36.470Z"
   },
   {
    "duration": 11,
    "start_time": "2024-09-26T05:04:36.490Z"
   },
   {
    "duration": 383,
    "start_time": "2024-09-26T05:04:36.502Z"
   },
   {
    "duration": 4,
    "start_time": "2024-09-26T05:04:49.859Z"
   },
   {
    "duration": 75,
    "start_time": "2024-09-26T05:06:36.784Z"
   },
   {
    "duration": 10,
    "start_time": "2024-09-26T05:07:09.672Z"
   },
   {
    "duration": 11,
    "start_time": "2024-09-26T05:07:24.901Z"
   },
   {
    "duration": 8,
    "start_time": "2024-09-26T05:07:40.321Z"
   },
   {
    "duration": 11,
    "start_time": "2024-09-26T05:08:25.629Z"
   },
   {
    "duration": 7,
    "start_time": "2024-09-26T05:23:34.771Z"
   },
   {
    "duration": 19,
    "start_time": "2024-09-26T05:23:41.387Z"
   },
   {
    "duration": 22,
    "start_time": "2024-09-26T05:26:27.113Z"
   },
   {
    "duration": 15,
    "start_time": "2024-09-26T05:29:03.125Z"
   },
   {
    "duration": 16,
    "start_time": "2024-09-26T05:58:19.185Z"
   },
   {
    "duration": 17,
    "start_time": "2024-09-26T05:58:23.428Z"
   },
   {
    "duration": 628,
    "start_time": "2024-09-26T05:58:29.215Z"
   },
   {
    "duration": 116,
    "start_time": "2024-09-26T05:58:29.845Z"
   },
   {
    "duration": 6,
    "start_time": "2024-09-26T05:58:29.963Z"
   },
   {
    "duration": 6,
    "start_time": "2024-09-26T05:58:29.971Z"
   },
   {
    "duration": 21,
    "start_time": "2024-09-26T05:58:29.979Z"
   },
   {
    "duration": 18,
    "start_time": "2024-09-26T05:58:30.002Z"
   },
   {
    "duration": 36,
    "start_time": "2024-09-26T05:58:30.021Z"
   },
   {
    "duration": 46,
    "start_time": "2024-09-26T05:58:30.065Z"
   },
   {
    "duration": 20,
    "start_time": "2024-09-26T05:58:30.113Z"
   },
   {
    "duration": 61,
    "start_time": "2024-09-26T05:58:30.135Z"
   },
   {
    "duration": 67,
    "start_time": "2024-09-26T05:58:30.198Z"
   },
   {
    "duration": 36,
    "start_time": "2024-09-26T05:58:30.267Z"
   },
   {
    "duration": 10,
    "start_time": "2024-09-26T05:58:30.305Z"
   },
   {
    "duration": 21,
    "start_time": "2024-09-26T05:58:30.317Z"
   },
   {
    "duration": 11,
    "start_time": "2024-09-26T05:58:30.340Z"
   },
   {
    "duration": 36,
    "start_time": "2024-09-26T05:58:30.353Z"
   },
   {
    "duration": 15,
    "start_time": "2024-09-26T05:58:30.391Z"
   },
   {
    "duration": 22,
    "start_time": "2024-09-26T05:58:30.408Z"
   },
   {
    "duration": 33,
    "start_time": "2024-09-26T05:58:30.432Z"
   },
   {
    "duration": 11,
    "start_time": "2024-09-26T05:58:30.467Z"
   },
   {
    "duration": 20,
    "start_time": "2024-09-26T05:58:30.480Z"
   },
   {
    "duration": 5,
    "start_time": "2024-09-26T05:58:30.501Z"
   },
   {
    "duration": 18,
    "start_time": "2024-09-26T05:58:30.507Z"
   },
   {
    "duration": 27,
    "start_time": "2024-09-26T05:58:30.527Z"
   },
   {
    "duration": 416,
    "start_time": "2024-09-26T05:58:30.556Z"
   },
   {
    "duration": 27,
    "start_time": "2024-09-26T05:58:30.973Z"
   },
   {
    "duration": 10,
    "start_time": "2024-09-26T05:58:31.001Z"
   },
   {
    "duration": 29,
    "start_time": "2024-09-26T05:58:31.013Z"
   },
   {
    "duration": 514,
    "start_time": "2024-09-26T05:58:31.043Z"
   },
   {
    "duration": 533,
    "start_time": "2024-09-26T05:58:31.564Z"
   },
   {
    "duration": 5,
    "start_time": "2024-09-26T05:58:32.098Z"
   },
   {
    "duration": 320,
    "start_time": "2024-09-26T05:58:32.105Z"
   },
   {
    "duration": 308,
    "start_time": "2024-09-26T05:58:32.427Z"
   },
   {
    "duration": 7,
    "start_time": "2024-09-26T05:58:32.737Z"
   },
   {
    "duration": 47,
    "start_time": "2024-09-26T05:58:32.745Z"
   },
   {
    "duration": 11,
    "start_time": "2024-09-26T05:58:32.794Z"
   },
   {
    "duration": 382,
    "start_time": "2024-09-26T05:58:32.806Z"
   },
   {
    "duration": 14,
    "start_time": "2024-09-26T05:58:33.190Z"
   },
   {
    "duration": 18,
    "start_time": "2024-09-26T05:58:33.206Z"
   },
   {
    "duration": 42,
    "start_time": "2024-09-26T05:58:33.226Z"
   },
   {
    "duration": 12,
    "start_time": "2024-09-26T05:58:44.179Z"
   },
   {
    "duration": 9,
    "start_time": "2024-09-26T05:58:53.380Z"
   },
   {
    "duration": 6,
    "start_time": "2024-09-26T06:26:03.322Z"
   },
   {
    "duration": 5,
    "start_time": "2024-09-26T06:26:59.668Z"
   },
   {
    "duration": 11,
    "start_time": "2024-09-26T06:27:34.648Z"
   },
   {
    "duration": 1164,
    "start_time": "2024-09-26T06:28:14.697Z"
   },
   {
    "duration": 8,
    "start_time": "2024-09-26T06:29:15.415Z"
   },
   {
    "duration": 14,
    "start_time": "2024-09-26T06:31:32.124Z"
   },
   {
    "duration": 8,
    "start_time": "2024-09-26T06:31:33.560Z"
   },
   {
    "duration": 20,
    "start_time": "2024-09-26T06:31:34.381Z"
   },
   {
    "duration": 18,
    "start_time": "2024-09-26T06:36:01.876Z"
   },
   {
    "duration": 18,
    "start_time": "2024-09-26T06:36:08.965Z"
   },
   {
    "duration": 13,
    "start_time": "2024-09-26T06:36:34.629Z"
   },
   {
    "duration": 8,
    "start_time": "2024-09-26T06:38:45.584Z"
   },
   {
    "duration": 20,
    "start_time": "2024-09-26T06:38:53.826Z"
   },
   {
    "duration": 21,
    "start_time": "2024-09-26T06:39:01.420Z"
   },
   {
    "duration": 10,
    "start_time": "2024-09-26T06:39:11.623Z"
   },
   {
    "duration": 20,
    "start_time": "2024-09-26T06:39:22.564Z"
   },
   {
    "duration": 8,
    "start_time": "2024-09-26T06:39:39.478Z"
   },
   {
    "duration": 5,
    "start_time": "2024-09-26T06:40:08.916Z"
   },
   {
    "duration": 9,
    "start_time": "2024-09-26T06:40:32.507Z"
   },
   {
    "duration": 6,
    "start_time": "2024-09-26T06:40:42.560Z"
   },
   {
    "duration": 32,
    "start_time": "2024-09-26T06:41:06.029Z"
   },
   {
    "duration": 27,
    "start_time": "2024-09-26T06:41:58.173Z"
   },
   {
    "duration": 27,
    "start_time": "2024-09-26T06:42:00.953Z"
   },
   {
    "duration": 19,
    "start_time": "2024-09-26T06:46:50.585Z"
   },
   {
    "duration": 659,
    "start_time": "2024-09-26T06:46:56.022Z"
   },
   {
    "duration": 124,
    "start_time": "2024-09-26T06:46:56.683Z"
   },
   {
    "duration": 6,
    "start_time": "2024-09-26T06:46:56.810Z"
   },
   {
    "duration": 7,
    "start_time": "2024-09-26T06:46:56.819Z"
   },
   {
    "duration": 17,
    "start_time": "2024-09-26T06:46:56.828Z"
   },
   {
    "duration": 38,
    "start_time": "2024-09-26T06:46:56.847Z"
   },
   {
    "duration": 10,
    "start_time": "2024-09-26T06:46:56.887Z"
   },
   {
    "duration": 18,
    "start_time": "2024-09-26T06:46:56.898Z"
   },
   {
    "duration": 47,
    "start_time": "2024-09-26T06:46:56.918Z"
   },
   {
    "duration": 50,
    "start_time": "2024-09-26T06:46:56.977Z"
   },
   {
    "duration": 57,
    "start_time": "2024-09-26T06:46:57.028Z"
   },
   {
    "duration": 13,
    "start_time": "2024-09-26T06:46:57.086Z"
   },
   {
    "duration": 13,
    "start_time": "2024-09-26T06:46:57.100Z"
   },
   {
    "duration": 13,
    "start_time": "2024-09-26T06:46:57.115Z"
   },
   {
    "duration": 9,
    "start_time": "2024-09-26T06:46:57.130Z"
   },
   {
    "duration": 41,
    "start_time": "2024-09-26T06:46:57.141Z"
   },
   {
    "duration": 15,
    "start_time": "2024-09-26T06:46:57.184Z"
   },
   {
    "duration": 20,
    "start_time": "2024-09-26T06:46:57.201Z"
   },
   {
    "duration": 26,
    "start_time": "2024-09-26T06:46:57.223Z"
   },
   {
    "duration": 20,
    "start_time": "2024-09-26T06:46:57.266Z"
   },
   {
    "duration": 15,
    "start_time": "2024-09-26T06:46:57.287Z"
   },
   {
    "duration": 5,
    "start_time": "2024-09-26T06:46:57.304Z"
   },
   {
    "duration": 10,
    "start_time": "2024-09-26T06:46:57.311Z"
   },
   {
    "duration": 44,
    "start_time": "2024-09-26T06:46:57.322Z"
   },
   {
    "duration": 507,
    "start_time": "2024-09-26T06:46:57.369Z"
   },
   {
    "duration": 30,
    "start_time": "2024-09-26T06:46:57.878Z"
   },
   {
    "duration": 11,
    "start_time": "2024-09-26T06:46:57.910Z"
   },
   {
    "duration": 63,
    "start_time": "2024-09-26T06:46:57.924Z"
   },
   {
    "duration": 503,
    "start_time": "2024-09-26T06:46:57.989Z"
   },
   {
    "duration": 498,
    "start_time": "2024-09-26T06:46:58.494Z"
   },
   {
    "duration": 5,
    "start_time": "2024-09-26T06:46:58.993Z"
   },
   {
    "duration": 333,
    "start_time": "2024-09-26T06:46:59.000Z"
   },
   {
    "duration": 363,
    "start_time": "2024-09-26T06:46:59.335Z"
   },
   {
    "duration": 10,
    "start_time": "2024-09-26T06:46:59.701Z"
   },
   {
    "duration": 26,
    "start_time": "2024-09-26T06:46:59.714Z"
   },
   {
    "duration": 27,
    "start_time": "2024-09-26T06:46:59.742Z"
   },
   {
    "duration": 366,
    "start_time": "2024-09-26T06:46:59.772Z"
   },
   {
    "duration": 13,
    "start_time": "2024-09-26T06:47:00.140Z"
   },
   {
    "duration": 36,
    "start_time": "2024-09-26T06:47:00.155Z"
   },
   {
    "duration": 34,
    "start_time": "2024-09-26T06:47:00.194Z"
   },
   {
    "duration": 66,
    "start_time": "2024-09-26T06:47:00.230Z"
   },
   {
    "duration": 26,
    "start_time": "2024-09-26T06:47:00.298Z"
   },
   {
    "duration": 23,
    "start_time": "2024-09-26T06:47:00.326Z"
   },
   {
    "duration": 17,
    "start_time": "2024-09-26T06:48:36.172Z"
   },
   {
    "duration": 37,
    "start_time": "2024-09-26T06:49:00.248Z"
   },
   {
    "duration": 13,
    "start_time": "2024-09-26T06:49:35.819Z"
   },
   {
    "duration": 9,
    "start_time": "2024-09-26T06:50:20.004Z"
   },
   {
    "duration": 638,
    "start_time": "2024-09-26T06:50:27.375Z"
   },
   {
    "duration": 109,
    "start_time": "2024-09-26T06:50:28.015Z"
   },
   {
    "duration": 5,
    "start_time": "2024-09-26T06:50:28.125Z"
   },
   {
    "duration": 5,
    "start_time": "2024-09-26T06:50:28.133Z"
   },
   {
    "duration": 31,
    "start_time": "2024-09-26T06:50:28.140Z"
   },
   {
    "duration": 17,
    "start_time": "2024-09-26T06:50:28.173Z"
   },
   {
    "duration": 8,
    "start_time": "2024-09-26T06:50:28.192Z"
   },
   {
    "duration": 19,
    "start_time": "2024-09-26T06:50:28.202Z"
   },
   {
    "duration": 15,
    "start_time": "2024-09-26T06:50:28.223Z"
   },
   {
    "duration": 21,
    "start_time": "2024-09-26T06:50:28.264Z"
   },
   {
    "duration": 58,
    "start_time": "2024-09-26T06:50:28.287Z"
   },
   {
    "duration": 20,
    "start_time": "2024-09-26T06:50:28.346Z"
   },
   {
    "duration": 30,
    "start_time": "2024-09-26T06:50:28.367Z"
   },
   {
    "duration": 40,
    "start_time": "2024-09-26T06:50:28.399Z"
   },
   {
    "duration": 11,
    "start_time": "2024-09-26T06:50:28.441Z"
   },
   {
    "duration": 19,
    "start_time": "2024-09-26T06:50:28.453Z"
   },
   {
    "duration": 12,
    "start_time": "2024-09-26T06:50:28.474Z"
   },
   {
    "duration": 14,
    "start_time": "2024-09-26T06:50:28.488Z"
   },
   {
    "duration": 35,
    "start_time": "2024-09-26T06:50:28.503Z"
   },
   {
    "duration": 26,
    "start_time": "2024-09-26T06:50:28.540Z"
   },
   {
    "duration": 12,
    "start_time": "2024-09-26T06:50:28.567Z"
   },
   {
    "duration": 14,
    "start_time": "2024-09-26T06:50:28.580Z"
   },
   {
    "duration": 12,
    "start_time": "2024-09-26T06:50:28.596Z"
   },
   {
    "duration": 20,
    "start_time": "2024-09-26T06:50:28.610Z"
   },
   {
    "duration": 419,
    "start_time": "2024-09-26T06:50:28.632Z"
   },
   {
    "duration": 27,
    "start_time": "2024-09-26T06:50:29.052Z"
   },
   {
    "duration": 10,
    "start_time": "2024-09-26T06:50:29.081Z"
   },
   {
    "duration": 34,
    "start_time": "2024-09-26T06:50:29.094Z"
   },
   {
    "duration": 496,
    "start_time": "2024-09-26T06:50:29.130Z"
   },
   {
    "duration": 516,
    "start_time": "2024-09-26T06:50:29.627Z"
   },
   {
    "duration": 5,
    "start_time": "2024-09-26T06:50:30.144Z"
   },
   {
    "duration": 285,
    "start_time": "2024-09-26T06:50:30.151Z"
   },
   {
    "duration": 318,
    "start_time": "2024-09-26T06:50:30.438Z"
   },
   {
    "duration": 15,
    "start_time": "2024-09-26T06:50:30.758Z"
   },
   {
    "duration": 44,
    "start_time": "2024-09-26T06:50:30.775Z"
   },
   {
    "duration": 22,
    "start_time": "2024-09-26T06:50:30.820Z"
   },
   {
    "duration": 335,
    "start_time": "2024-09-26T06:50:30.844Z"
   },
   {
    "duration": 13,
    "start_time": "2024-09-26T06:50:31.180Z"
   },
   {
    "duration": 25,
    "start_time": "2024-09-26T06:50:31.195Z"
   },
   {
    "duration": 9,
    "start_time": "2024-09-26T06:50:31.221Z"
   },
   {
    "duration": 49,
    "start_time": "2024-09-26T06:50:31.232Z"
   },
   {
    "duration": 23,
    "start_time": "2024-09-26T06:50:31.283Z"
   },
   {
    "duration": 18,
    "start_time": "2024-09-26T06:50:31.308Z"
   },
   {
    "duration": 11,
    "start_time": "2024-09-26T06:50:46.258Z"
   },
   {
    "duration": 18,
    "start_time": "2024-09-26T06:51:57.891Z"
   },
   {
    "duration": 19,
    "start_time": "2024-09-26T06:52:18.659Z"
   },
   {
    "duration": 70,
    "start_time": "2024-09-26T06:57:32.796Z"
   },
   {
    "duration": 17,
    "start_time": "2024-09-26T06:57:45.509Z"
   },
   {
    "duration": 19,
    "start_time": "2024-09-26T06:57:47.326Z"
   },
   {
    "duration": 19,
    "start_time": "2024-09-26T06:59:11.894Z"
   },
   {
    "duration": 34,
    "start_time": "2024-09-26T06:59:36.652Z"
   },
   {
    "duration": 699,
    "start_time": "2024-09-26T06:59:44.958Z"
   },
   {
    "duration": 2027,
    "start_time": "2024-09-26T06:59:45.659Z"
   },
   {
    "duration": 5,
    "start_time": "2024-09-26T06:59:47.688Z"
   },
   {
    "duration": 11,
    "start_time": "2024-09-26T06:59:47.695Z"
   },
   {
    "duration": 17,
    "start_time": "2024-09-26T06:59:47.707Z"
   },
   {
    "duration": 23,
    "start_time": "2024-09-26T06:59:47.726Z"
   },
   {
    "duration": 34,
    "start_time": "2024-09-26T06:59:47.751Z"
   },
   {
    "duration": 19,
    "start_time": "2024-09-26T06:59:47.786Z"
   },
   {
    "duration": 17,
    "start_time": "2024-09-26T06:59:47.807Z"
   },
   {
    "duration": 23,
    "start_time": "2024-09-26T06:59:47.827Z"
   },
   {
    "duration": 44,
    "start_time": "2024-09-26T06:59:47.875Z"
   },
   {
    "duration": 60,
    "start_time": "2024-09-26T06:59:47.922Z"
   },
   {
    "duration": 10,
    "start_time": "2024-09-26T06:59:47.984Z"
   },
   {
    "duration": 13,
    "start_time": "2024-09-26T06:59:47.996Z"
   },
   {
    "duration": 9,
    "start_time": "2024-09-26T06:59:48.011Z"
   },
   {
    "duration": 11,
    "start_time": "2024-09-26T06:59:48.021Z"
   },
   {
    "duration": 44,
    "start_time": "2024-09-26T06:59:48.033Z"
   },
   {
    "duration": 15,
    "start_time": "2024-09-26T06:59:48.079Z"
   },
   {
    "duration": 25,
    "start_time": "2024-09-26T06:59:48.096Z"
   },
   {
    "duration": 10,
    "start_time": "2024-09-26T06:59:48.123Z"
   },
   {
    "duration": 48,
    "start_time": "2024-09-26T06:59:48.135Z"
   },
   {
    "duration": 5,
    "start_time": "2024-09-26T06:59:48.185Z"
   },
   {
    "duration": 11,
    "start_time": "2024-09-26T06:59:48.192Z"
   },
   {
    "duration": 23,
    "start_time": "2024-09-26T06:59:48.205Z"
   },
   {
    "duration": 427,
    "start_time": "2024-09-26T06:59:48.229Z"
   },
   {
    "duration": 35,
    "start_time": "2024-09-26T06:59:48.657Z"
   },
   {
    "duration": 10,
    "start_time": "2024-09-26T06:59:48.694Z"
   },
   {
    "duration": 37,
    "start_time": "2024-09-26T06:59:48.707Z"
   },
   {
    "duration": 541,
    "start_time": "2024-09-26T06:59:48.746Z"
   },
   {
    "duration": 520,
    "start_time": "2024-09-26T06:59:49.288Z"
   },
   {
    "duration": 5,
    "start_time": "2024-09-26T06:59:49.810Z"
   },
   {
    "duration": 335,
    "start_time": "2024-09-26T06:59:49.817Z"
   },
   {
    "duration": 333,
    "start_time": "2024-09-26T06:59:50.153Z"
   },
   {
    "duration": 8,
    "start_time": "2024-09-26T06:59:50.488Z"
   },
   {
    "duration": 22,
    "start_time": "2024-09-26T06:59:50.498Z"
   },
   {
    "duration": 12,
    "start_time": "2024-09-26T06:59:50.522Z"
   },
   {
    "duration": 372,
    "start_time": "2024-09-26T06:59:50.536Z"
   },
   {
    "duration": 13,
    "start_time": "2024-09-26T06:59:50.910Z"
   },
   {
    "duration": 18,
    "start_time": "2024-09-26T06:59:50.924Z"
   },
   {
    "duration": 8,
    "start_time": "2024-09-26T06:59:50.943Z"
   },
   {
    "duration": 50,
    "start_time": "2024-09-26T06:59:50.968Z"
   },
   {
    "duration": 30,
    "start_time": "2024-09-26T06:59:51.020Z"
   },
   {
    "duration": 29,
    "start_time": "2024-09-26T06:59:51.052Z"
   },
   {
    "duration": 16,
    "start_time": "2024-09-26T06:59:51.083Z"
   },
   {
    "duration": 52,
    "start_time": "2024-09-26T06:59:51.101Z"
   },
   {
    "duration": 16,
    "start_time": "2024-09-26T07:36:21.459Z"
   },
   {
    "duration": 8,
    "start_time": "2024-09-26T07:36:24.747Z"
   },
   {
    "duration": 6,
    "start_time": "2024-09-26T07:36:55.454Z"
   },
   {
    "duration": 9,
    "start_time": "2024-09-26T07:36:59.651Z"
   },
   {
    "duration": 9,
    "start_time": "2024-09-26T07:37:26.892Z"
   },
   {
    "duration": 11,
    "start_time": "2024-09-26T07:38:00.718Z"
   },
   {
    "duration": 11,
    "start_time": "2024-09-26T07:38:10.111Z"
   },
   {
    "duration": 890,
    "start_time": "2024-09-26T10:51:27.105Z"
   },
   {
    "duration": 252,
    "start_time": "2024-09-26T10:51:27.997Z"
   },
   {
    "duration": 6,
    "start_time": "2024-09-26T10:51:28.251Z"
   },
   {
    "duration": 8,
    "start_time": "2024-09-26T10:51:28.259Z"
   },
   {
    "duration": 23,
    "start_time": "2024-09-26T10:51:28.268Z"
   },
   {
    "duration": 39,
    "start_time": "2024-09-26T10:51:28.293Z"
   },
   {
    "duration": 14,
    "start_time": "2024-09-26T10:51:28.334Z"
   },
   {
    "duration": 18,
    "start_time": "2024-09-26T10:51:28.350Z"
   },
   {
    "duration": 20,
    "start_time": "2024-09-26T10:51:28.370Z"
   },
   {
    "duration": 68,
    "start_time": "2024-09-26T10:51:28.393Z"
   },
   {
    "duration": 40,
    "start_time": "2024-09-26T10:51:28.463Z"
   },
   {
    "duration": 51,
    "start_time": "2024-09-26T10:51:28.505Z"
   },
   {
    "duration": 20,
    "start_time": "2024-09-26T10:51:28.558Z"
   },
   {
    "duration": 14,
    "start_time": "2024-09-26T10:51:28.580Z"
   },
   {
    "duration": 9,
    "start_time": "2024-09-26T10:51:28.596Z"
   },
   {
    "duration": 10,
    "start_time": "2024-09-26T10:51:28.606Z"
   },
   {
    "duration": 39,
    "start_time": "2024-09-26T10:51:28.617Z"
   },
   {
    "duration": 26,
    "start_time": "2024-09-26T10:51:28.658Z"
   },
   {
    "duration": 23,
    "start_time": "2024-09-26T10:51:28.685Z"
   },
   {
    "duration": 11,
    "start_time": "2024-09-26T10:51:28.710Z"
   },
   {
    "duration": 11,
    "start_time": "2024-09-26T10:51:28.723Z"
   },
   {
    "duration": 4,
    "start_time": "2024-09-26T10:51:28.736Z"
   },
   {
    "duration": 18,
    "start_time": "2024-09-26T10:51:28.741Z"
   },
   {
    "duration": 40,
    "start_time": "2024-09-26T10:51:28.761Z"
   },
   {
    "duration": 516,
    "start_time": "2024-09-26T10:51:28.803Z"
   },
   {
    "duration": 28,
    "start_time": "2024-09-26T10:51:29.321Z"
   },
   {
    "duration": 35,
    "start_time": "2024-09-26T10:51:29.351Z"
   },
   {
    "duration": 32,
    "start_time": "2024-09-26T10:51:29.389Z"
   },
   {
    "duration": 518,
    "start_time": "2024-09-26T10:51:29.423Z"
   },
   {
    "duration": 540,
    "start_time": "2024-09-26T10:51:29.943Z"
   },
   {
    "duration": 6,
    "start_time": "2024-09-26T10:51:30.485Z"
   },
   {
    "duration": 396,
    "start_time": "2024-09-26T10:51:30.493Z"
   },
   {
    "duration": 302,
    "start_time": "2024-09-26T10:51:30.891Z"
   },
   {
    "duration": 8,
    "start_time": "2024-09-26T10:51:31.195Z"
   },
   {
    "duration": 42,
    "start_time": "2024-09-26T10:51:31.204Z"
   },
   {
    "duration": 12,
    "start_time": "2024-09-26T10:51:31.248Z"
   },
   {
    "duration": 368,
    "start_time": "2024-09-26T10:51:31.261Z"
   },
   {
    "duration": 13,
    "start_time": "2024-09-26T10:51:31.630Z"
   },
   {
    "duration": 11,
    "start_time": "2024-09-26T10:51:31.645Z"
   },
   {
    "duration": 73,
    "start_time": "2024-09-26T10:51:31.658Z"
   },
   {
    "duration": 94,
    "start_time": "2024-09-26T10:51:31.733Z"
   },
   {
    "duration": 23,
    "start_time": "2024-09-26T10:51:31.828Z"
   },
   {
    "duration": 22,
    "start_time": "2024-09-26T10:51:31.853Z"
   },
   {
    "duration": 35,
    "start_time": "2024-09-26T10:51:31.877Z"
   },
   {
    "duration": 8,
    "start_time": "2024-09-26T10:51:31.914Z"
   },
   {
    "duration": 694,
    "start_time": "2024-09-26T10:52:16.415Z"
   },
   {
    "duration": 115,
    "start_time": "2024-09-26T10:52:17.111Z"
   },
   {
    "duration": 5,
    "start_time": "2024-09-26T10:52:17.228Z"
   },
   {
    "duration": 9,
    "start_time": "2024-09-26T10:52:17.235Z"
   },
   {
    "duration": 20,
    "start_time": "2024-09-26T10:52:17.246Z"
   },
   {
    "duration": 28,
    "start_time": "2024-09-26T10:52:17.268Z"
   },
   {
    "duration": 101,
    "start_time": "2024-09-26T10:52:17.298Z"
   },
   {
    "duration": 27,
    "start_time": "2024-09-26T10:52:17.401Z"
   },
   {
    "duration": 16,
    "start_time": "2024-09-26T10:52:17.430Z"
   },
   {
    "duration": 24,
    "start_time": "2024-09-26T10:52:17.448Z"
   },
   {
    "duration": 56,
    "start_time": "2024-09-26T10:52:17.473Z"
   },
   {
    "duration": 13,
    "start_time": "2024-09-26T10:52:17.530Z"
   },
   {
    "duration": 16,
    "start_time": "2024-09-26T10:52:17.544Z"
   },
   {
    "duration": 10,
    "start_time": "2024-09-26T10:52:17.562Z"
   },
   {
    "duration": 10,
    "start_time": "2024-09-26T10:52:17.574Z"
   },
   {
    "duration": 38,
    "start_time": "2024-09-26T10:52:17.586Z"
   },
   {
    "duration": 12,
    "start_time": "2024-09-26T10:52:17.626Z"
   },
   {
    "duration": 22,
    "start_time": "2024-09-26T10:52:17.640Z"
   },
   {
    "duration": 23,
    "start_time": "2024-09-26T10:52:17.664Z"
   },
   {
    "duration": 38,
    "start_time": "2024-09-26T10:52:17.689Z"
   },
   {
    "duration": 52,
    "start_time": "2024-09-26T10:52:17.730Z"
   },
   {
    "duration": 38,
    "start_time": "2024-09-26T10:52:17.784Z"
   },
   {
    "duration": 7,
    "start_time": "2024-09-26T10:52:17.824Z"
   },
   {
    "duration": 18,
    "start_time": "2024-09-26T10:52:17.833Z"
   },
   {
    "duration": 459,
    "start_time": "2024-09-26T10:52:17.852Z"
   },
   {
    "duration": 27,
    "start_time": "2024-09-26T10:52:18.313Z"
   },
   {
    "duration": 12,
    "start_time": "2024-09-26T10:52:18.342Z"
   },
   {
    "duration": 28,
    "start_time": "2024-09-26T10:52:18.359Z"
   },
   {
    "duration": 531,
    "start_time": "2024-09-26T10:52:18.390Z"
   },
   {
    "duration": 528,
    "start_time": "2024-09-26T10:52:18.923Z"
   },
   {
    "duration": 5,
    "start_time": "2024-09-26T10:52:19.453Z"
   },
   {
    "duration": 363,
    "start_time": "2024-09-26T10:52:19.460Z"
   },
   {
    "duration": 276,
    "start_time": "2024-09-26T10:52:19.825Z"
   },
   {
    "duration": 18,
    "start_time": "2024-09-26T10:52:20.103Z"
   },
   {
    "duration": 22,
    "start_time": "2024-09-26T10:52:20.123Z"
   },
   {
    "duration": 12,
    "start_time": "2024-09-26T10:52:20.147Z"
   },
   {
    "duration": 371,
    "start_time": "2024-09-26T10:52:20.160Z"
   },
   {
    "duration": 12,
    "start_time": "2024-09-26T10:52:20.533Z"
   },
   {
    "duration": 42,
    "start_time": "2024-09-26T10:52:20.547Z"
   },
   {
    "duration": 22,
    "start_time": "2024-09-26T10:52:20.591Z"
   },
   {
    "duration": 27,
    "start_time": "2024-09-26T10:52:20.615Z"
   },
   {
    "duration": 25,
    "start_time": "2024-09-26T10:52:20.645Z"
   },
   {
    "duration": 17,
    "start_time": "2024-09-26T10:52:20.671Z"
   },
   {
    "duration": 35,
    "start_time": "2024-09-26T10:52:20.689Z"
   },
   {
    "duration": 9,
    "start_time": "2024-09-26T10:52:20.726Z"
   },
   {
    "duration": 513,
    "start_time": "2024-09-26T10:55:15.074Z"
   },
   {
    "duration": 1156,
    "start_time": "2024-09-26T10:55:19.559Z"
   },
   {
    "duration": 172,
    "start_time": "2024-09-26T10:55:20.717Z"
   },
   {
    "duration": 6,
    "start_time": "2024-09-26T10:55:20.891Z"
   },
   {
    "duration": 9,
    "start_time": "2024-09-26T10:55:20.899Z"
   },
   {
    "duration": 21,
    "start_time": "2024-09-26T10:55:20.909Z"
   },
   {
    "duration": 32,
    "start_time": "2024-09-26T10:55:20.932Z"
   },
   {
    "duration": 26,
    "start_time": "2024-09-26T10:55:20.966Z"
   },
   {
    "duration": 34,
    "start_time": "2024-09-26T10:55:20.994Z"
   },
   {
    "duration": 56,
    "start_time": "2024-09-26T10:55:21.030Z"
   },
   {
    "duration": 22,
    "start_time": "2024-09-26T10:55:21.089Z"
   },
   {
    "duration": 45,
    "start_time": "2024-09-26T10:55:21.112Z"
   },
   {
    "duration": 14,
    "start_time": "2024-09-26T10:55:21.158Z"
   },
   {
    "duration": 19,
    "start_time": "2024-09-26T10:55:21.173Z"
   },
   {
    "duration": 56,
    "start_time": "2024-09-26T10:55:21.193Z"
   },
   {
    "duration": 44,
    "start_time": "2024-09-26T10:55:21.251Z"
   },
   {
    "duration": 13,
    "start_time": "2024-09-26T10:55:21.296Z"
   },
   {
    "duration": 15,
    "start_time": "2024-09-26T10:55:21.311Z"
   },
   {
    "duration": 87,
    "start_time": "2024-09-26T10:55:21.328Z"
   },
   {
    "duration": 25,
    "start_time": "2024-09-26T10:55:21.417Z"
   },
   {
    "duration": 12,
    "start_time": "2024-09-26T10:55:21.443Z"
   },
   {
    "duration": 16,
    "start_time": "2024-09-26T10:55:21.456Z"
   },
   {
    "duration": 7,
    "start_time": "2024-09-26T10:55:21.473Z"
   },
   {
    "duration": 13,
    "start_time": "2024-09-26T10:55:21.482Z"
   },
   {
    "duration": 40,
    "start_time": "2024-09-26T10:55:21.496Z"
   },
   {
    "duration": 515,
    "start_time": "2024-09-26T10:55:21.538Z"
   },
   {
    "duration": 29,
    "start_time": "2024-09-26T10:55:22.055Z"
   },
   {
    "duration": 10,
    "start_time": "2024-09-26T10:55:22.086Z"
   },
   {
    "duration": 47,
    "start_time": "2024-09-26T10:55:22.100Z"
   },
   {
    "duration": 484,
    "start_time": "2024-09-26T10:55:22.149Z"
   },
   {
    "duration": 475,
    "start_time": "2024-09-26T10:55:22.635Z"
   },
   {
    "duration": 12,
    "start_time": "2024-09-26T10:55:23.111Z"
   },
   {
    "duration": 289,
    "start_time": "2024-09-26T10:55:23.124Z"
   },
   {
    "duration": 282,
    "start_time": "2024-09-26T10:55:23.420Z"
   },
   {
    "duration": 17,
    "start_time": "2024-09-26T10:55:23.704Z"
   },
   {
    "duration": 21,
    "start_time": "2024-09-26T10:55:23.723Z"
   },
   {
    "duration": 58,
    "start_time": "2024-09-26T10:55:23.746Z"
   },
   {
    "duration": 387,
    "start_time": "2024-09-26T10:55:23.806Z"
   },
   {
    "duration": 14,
    "start_time": "2024-09-26T10:55:24.195Z"
   },
   {
    "duration": 14,
    "start_time": "2024-09-26T10:55:24.211Z"
   },
   {
    "duration": 18,
    "start_time": "2024-09-26T10:55:24.227Z"
   },
   {
    "duration": 16,
    "start_time": "2024-09-26T10:55:24.247Z"
   },
   {
    "duration": 18,
    "start_time": "2024-09-26T10:55:24.265Z"
   },
   {
    "duration": 51,
    "start_time": "2024-09-26T10:55:24.285Z"
   },
   {
    "duration": 20,
    "start_time": "2024-09-26T10:55:24.337Z"
   },
   {
    "duration": 7,
    "start_time": "2024-09-26T10:55:24.359Z"
   },
   {
    "duration": 107,
    "start_time": "2024-09-26T11:04:42.743Z"
   },
   {
    "duration": 10,
    "start_time": "2024-09-26T11:07:14.527Z"
   },
   {
    "duration": 11,
    "start_time": "2024-09-26T11:08:30.564Z"
   },
   {
    "duration": 11,
    "start_time": "2024-09-26T11:09:16.192Z"
   },
   {
    "duration": 1142,
    "start_time": "2024-09-26T18:25:04.468Z"
   },
   {
    "duration": 286,
    "start_time": "2024-09-26T18:25:05.612Z"
   },
   {
    "duration": 5,
    "start_time": "2024-09-26T18:25:05.900Z"
   },
   {
    "duration": 7,
    "start_time": "2024-09-26T18:25:05.908Z"
   },
   {
    "duration": 42,
    "start_time": "2024-09-26T18:25:05.917Z"
   },
   {
    "duration": 22,
    "start_time": "2024-09-26T18:25:05.961Z"
   },
   {
    "duration": 10,
    "start_time": "2024-09-26T18:25:05.985Z"
   },
   {
    "duration": 18,
    "start_time": "2024-09-26T18:25:05.996Z"
   },
   {
    "duration": 17,
    "start_time": "2024-09-26T18:25:06.026Z"
   },
   {
    "duration": 34,
    "start_time": "2024-09-26T18:25:06.047Z"
   },
   {
    "duration": 54,
    "start_time": "2024-09-26T18:25:06.083Z"
   },
   {
    "duration": 13,
    "start_time": "2024-09-26T18:25:06.139Z"
   },
   {
    "duration": 10,
    "start_time": "2024-09-26T18:25:06.154Z"
   },
   {
    "duration": 13,
    "start_time": "2024-09-26T18:25:06.166Z"
   },
   {
    "duration": 46,
    "start_time": "2024-09-26T18:25:06.181Z"
   },
   {
    "duration": 11,
    "start_time": "2024-09-26T18:25:06.229Z"
   },
   {
    "duration": 12,
    "start_time": "2024-09-26T18:25:06.241Z"
   },
   {
    "duration": 14,
    "start_time": "2024-09-26T18:25:06.254Z"
   },
   {
    "duration": 56,
    "start_time": "2024-09-26T18:25:06.269Z"
   },
   {
    "duration": 13,
    "start_time": "2024-09-26T18:25:06.327Z"
   },
   {
    "duration": 13,
    "start_time": "2024-09-26T18:25:06.342Z"
   },
   {
    "duration": 5,
    "start_time": "2024-09-26T18:25:06.357Z"
   },
   {
    "duration": 8,
    "start_time": "2024-09-26T18:25:06.364Z"
   },
   {
    "duration": 56,
    "start_time": "2024-09-26T18:25:06.373Z"
   },
   {
    "duration": 444,
    "start_time": "2024-09-26T18:25:06.431Z"
   },
   {
    "duration": 26,
    "start_time": "2024-09-26T18:25:06.877Z"
   },
   {
    "duration": 29,
    "start_time": "2024-09-26T18:25:06.905Z"
   },
   {
    "duration": 28,
    "start_time": "2024-09-26T18:25:06.938Z"
   },
   {
    "duration": 525,
    "start_time": "2024-09-26T18:25:06.968Z"
   },
   {
    "duration": 467,
    "start_time": "2024-09-26T18:25:07.495Z"
   },
   {
    "duration": 5,
    "start_time": "2024-09-26T18:25:07.964Z"
   },
   {
    "duration": 317,
    "start_time": "2024-09-26T18:25:07.971Z"
   },
   {
    "duration": 308,
    "start_time": "2024-09-26T18:25:08.289Z"
   },
   {
    "duration": 7,
    "start_time": "2024-09-26T18:25:08.599Z"
   },
   {
    "duration": 37,
    "start_time": "2024-09-26T18:25:08.607Z"
   },
   {
    "duration": 12,
    "start_time": "2024-09-26T18:25:08.646Z"
   },
   {
    "duration": 385,
    "start_time": "2024-09-26T18:25:08.660Z"
   },
   {
    "duration": 18,
    "start_time": "2024-09-26T18:25:09.047Z"
   },
   {
    "duration": 12,
    "start_time": "2024-09-26T18:25:09.067Z"
   },
   {
    "duration": 50,
    "start_time": "2024-09-26T18:25:09.081Z"
   },
   {
    "duration": 19,
    "start_time": "2024-09-26T18:25:09.133Z"
   },
   {
    "duration": 21,
    "start_time": "2024-09-26T18:25:09.153Z"
   },
   {
    "duration": 17,
    "start_time": "2024-09-26T18:25:09.176Z"
   },
   {
    "duration": 20,
    "start_time": "2024-09-26T18:25:09.226Z"
   },
   {
    "duration": 10,
    "start_time": "2024-09-26T18:25:09.247Z"
   },
   {
    "duration": 9,
    "start_time": "2024-09-26T18:25:09.259Z"
   },
   {
    "duration": 404,
    "start_time": "2024-09-26T18:50:30.145Z"
   },
   {
    "duration": 50,
    "start_time": "2024-09-26T18:50:53.280Z"
   },
   {
    "duration": 297,
    "start_time": "2024-09-26T18:50:57.694Z"
   },
   {
    "duration": 1220,
    "start_time": "2024-09-27T02:15:46.400Z"
   },
   {
    "duration": 243,
    "start_time": "2024-09-27T02:15:47.622Z"
   },
   {
    "duration": 4,
    "start_time": "2024-09-27T02:15:47.867Z"
   },
   {
    "duration": 6,
    "start_time": "2024-09-27T02:15:47.872Z"
   },
   {
    "duration": 21,
    "start_time": "2024-09-27T02:15:47.880Z"
   },
   {
    "duration": 21,
    "start_time": "2024-09-27T02:15:47.902Z"
   },
   {
    "duration": 10,
    "start_time": "2024-09-27T02:15:47.925Z"
   },
   {
    "duration": 29,
    "start_time": "2024-09-27T02:15:47.937Z"
   },
   {
    "duration": 14,
    "start_time": "2024-09-27T02:15:47.968Z"
   },
   {
    "duration": 20,
    "start_time": "2024-09-27T02:15:47.983Z"
   },
   {
    "duration": 62,
    "start_time": "2024-09-27T02:15:48.004Z"
   },
   {
    "duration": 10,
    "start_time": "2024-09-27T02:15:48.068Z"
   },
   {
    "duration": 18,
    "start_time": "2024-09-27T02:15:48.079Z"
   },
   {
    "duration": 38,
    "start_time": "2024-09-27T02:15:48.100Z"
   },
   {
    "duration": 9,
    "start_time": "2024-09-27T02:15:48.139Z"
   },
   {
    "duration": 23,
    "start_time": "2024-09-27T02:15:48.150Z"
   },
   {
    "duration": 12,
    "start_time": "2024-09-27T02:15:48.175Z"
   },
   {
    "duration": 31,
    "start_time": "2024-09-27T02:15:48.188Z"
   },
   {
    "duration": 34,
    "start_time": "2024-09-27T02:15:48.220Z"
   },
   {
    "duration": 10,
    "start_time": "2024-09-27T02:15:48.255Z"
   },
   {
    "duration": 9,
    "start_time": "2024-09-27T02:15:48.266Z"
   },
   {
    "duration": 4,
    "start_time": "2024-09-27T02:15:48.277Z"
   },
   {
    "duration": 7,
    "start_time": "2024-09-27T02:15:48.282Z"
   },
   {
    "duration": 41,
    "start_time": "2024-09-27T02:15:48.291Z"
   },
   {
    "duration": 441,
    "start_time": "2024-09-27T02:15:48.334Z"
   },
   {
    "duration": 26,
    "start_time": "2024-09-27T02:15:48.777Z"
   },
   {
    "duration": 9,
    "start_time": "2024-09-27T02:15:48.804Z"
   },
   {
    "duration": 27,
    "start_time": "2024-09-27T02:15:48.814Z"
   },
   {
    "duration": 473,
    "start_time": "2024-09-27T02:15:48.842Z"
   },
   {
    "duration": 425,
    "start_time": "2024-09-27T02:15:49.317Z"
   },
   {
    "duration": 11,
    "start_time": "2024-09-27T02:15:49.744Z"
   },
   {
    "duration": 275,
    "start_time": "2024-09-27T02:15:49.756Z"
   },
   {
    "duration": 287,
    "start_time": "2024-09-27T02:15:50.033Z"
   },
   {
    "duration": 6,
    "start_time": "2024-09-27T02:15:50.321Z"
   },
   {
    "duration": 34,
    "start_time": "2024-09-27T02:15:50.329Z"
   },
   {
    "duration": 10,
    "start_time": "2024-09-27T02:15:50.364Z"
   },
   {
    "duration": 311,
    "start_time": "2024-09-27T02:15:50.375Z"
   },
   {
    "duration": 12,
    "start_time": "2024-09-27T02:15:50.688Z"
   },
   {
    "duration": 8,
    "start_time": "2024-09-27T02:15:50.701Z"
   },
   {
    "duration": 17,
    "start_time": "2024-09-27T02:15:50.710Z"
   },
   {
    "duration": 34,
    "start_time": "2024-09-27T02:15:50.730Z"
   },
   {
    "duration": 16,
    "start_time": "2024-09-27T02:15:50.766Z"
   },
   {
    "duration": 14,
    "start_time": "2024-09-27T02:15:50.784Z"
   },
   {
    "duration": 17,
    "start_time": "2024-09-27T02:15:50.799Z"
   },
   {
    "duration": 39,
    "start_time": "2024-09-27T02:15:50.818Z"
   },
   {
    "duration": 14,
    "start_time": "2024-09-27T02:15:50.859Z"
   },
   {
    "duration": 5,
    "start_time": "2024-09-27T02:16:33.339Z"
   },
   {
    "duration": 1095,
    "start_time": "2024-09-27T02:16:43.114Z"
   },
   {
    "duration": 121,
    "start_time": "2024-09-27T02:16:44.210Z"
   },
   {
    "duration": 6,
    "start_time": "2024-09-27T02:16:44.333Z"
   },
   {
    "duration": 13,
    "start_time": "2024-09-27T02:16:44.341Z"
   },
   {
    "duration": 5,
    "start_time": "2024-09-27T02:16:44.355Z"
   },
   {
    "duration": 22,
    "start_time": "2024-09-27T02:16:44.361Z"
   },
   {
    "duration": 10,
    "start_time": "2024-09-27T02:16:44.384Z"
   },
   {
    "duration": 17,
    "start_time": "2024-09-27T02:16:44.395Z"
   },
   {
    "duration": 14,
    "start_time": "2024-09-27T02:16:44.414Z"
   },
   {
    "duration": 20,
    "start_time": "2024-09-27T02:16:44.452Z"
   },
   {
    "duration": 39,
    "start_time": "2024-09-27T02:16:44.474Z"
   },
   {
    "duration": 19,
    "start_time": "2024-09-27T02:16:44.514Z"
   },
   {
    "duration": 19,
    "start_time": "2024-09-27T02:16:44.535Z"
   },
   {
    "duration": 10,
    "start_time": "2024-09-27T02:16:44.555Z"
   },
   {
    "duration": 8,
    "start_time": "2024-09-27T02:16:44.566Z"
   },
   {
    "duration": 9,
    "start_time": "2024-09-27T02:16:44.575Z"
   },
   {
    "duration": 10,
    "start_time": "2024-09-27T02:16:44.585Z"
   },
   {
    "duration": 12,
    "start_time": "2024-09-27T02:16:44.596Z"
   },
   {
    "duration": 60,
    "start_time": "2024-09-27T02:16:44.609Z"
   },
   {
    "duration": 10,
    "start_time": "2024-09-27T02:16:44.670Z"
   },
   {
    "duration": 17,
    "start_time": "2024-09-27T02:16:44.681Z"
   },
   {
    "duration": 4,
    "start_time": "2024-09-27T02:16:44.700Z"
   },
   {
    "duration": 5,
    "start_time": "2024-09-27T02:16:44.705Z"
   },
   {
    "duration": 42,
    "start_time": "2024-09-27T02:16:44.711Z"
   },
   {
    "duration": 412,
    "start_time": "2024-09-27T02:16:44.755Z"
   },
   {
    "duration": 26,
    "start_time": "2024-09-27T02:16:45.169Z"
   },
   {
    "duration": 27,
    "start_time": "2024-09-27T02:16:45.197Z"
   },
   {
    "duration": 35,
    "start_time": "2024-09-27T02:16:45.227Z"
   },
   {
    "duration": 471,
    "start_time": "2024-09-27T02:16:45.264Z"
   },
   {
    "duration": 431,
    "start_time": "2024-09-27T02:16:45.737Z"
   },
   {
    "duration": 5,
    "start_time": "2024-09-27T02:16:46.170Z"
   },
   {
    "duration": 256,
    "start_time": "2024-09-27T02:16:46.177Z"
   },
   {
    "duration": 284,
    "start_time": "2024-09-27T02:16:46.435Z"
   },
   {
    "duration": 6,
    "start_time": "2024-09-27T02:16:46.721Z"
   },
   {
    "duration": 38,
    "start_time": "2024-09-27T02:16:46.729Z"
   },
   {
    "duration": 12,
    "start_time": "2024-09-27T02:16:46.769Z"
   },
   {
    "duration": 354,
    "start_time": "2024-09-27T02:16:46.782Z"
   },
   {
    "duration": 21,
    "start_time": "2024-09-27T02:16:47.138Z"
   },
   {
    "duration": 9,
    "start_time": "2024-09-27T02:16:47.161Z"
   },
   {
    "duration": 16,
    "start_time": "2024-09-27T02:16:47.171Z"
   },
   {
    "duration": 15,
    "start_time": "2024-09-27T02:16:47.189Z"
   },
   {
    "duration": 55,
    "start_time": "2024-09-27T02:16:47.206Z"
   },
   {
    "duration": 16,
    "start_time": "2024-09-27T02:16:47.263Z"
   },
   {
    "duration": 17,
    "start_time": "2024-09-27T02:16:47.282Z"
   },
   {
    "duration": 8,
    "start_time": "2024-09-27T02:16:47.301Z"
   },
   {
    "duration": 9,
    "start_time": "2024-09-27T02:16:47.310Z"
   },
   {
    "duration": 4,
    "start_time": "2024-09-27T02:17:09.935Z"
   },
   {
    "duration": 6,
    "start_time": "2024-09-27T02:17:13.258Z"
   },
   {
    "duration": 1064,
    "start_time": "2024-09-27T02:17:22.881Z"
   },
   {
    "duration": 111,
    "start_time": "2024-09-27T02:17:23.947Z"
   },
   {
    "duration": 4,
    "start_time": "2024-09-27T02:17:24.059Z"
   },
   {
    "duration": 21,
    "start_time": "2024-09-27T02:17:24.065Z"
   },
   {
    "duration": 6,
    "start_time": "2024-09-27T02:17:24.087Z"
   },
   {
    "duration": 12,
    "start_time": "2024-09-27T02:17:24.095Z"
   },
   {
    "duration": 9,
    "start_time": "2024-09-27T02:17:24.109Z"
   },
   {
    "duration": 14,
    "start_time": "2024-09-27T02:17:24.119Z"
   },
   {
    "duration": 27,
    "start_time": "2024-09-27T02:17:24.135Z"
   },
   {
    "duration": 19,
    "start_time": "2024-09-27T02:17:24.165Z"
   },
   {
    "duration": 44,
    "start_time": "2024-09-27T02:17:24.185Z"
   },
   {
    "duration": 34,
    "start_time": "2024-09-27T02:17:24.232Z"
   },
   {
    "duration": 10,
    "start_time": "2024-09-27T02:17:24.268Z"
   },
   {
    "duration": 13,
    "start_time": "2024-09-27T02:17:24.280Z"
   },
   {
    "duration": 24,
    "start_time": "2024-09-27T02:17:24.295Z"
   },
   {
    "duration": 31,
    "start_time": "2024-09-27T02:17:24.321Z"
   },
   {
    "duration": 10,
    "start_time": "2024-09-27T02:17:24.354Z"
   },
   {
    "duration": 12,
    "start_time": "2024-09-27T02:17:24.366Z"
   },
   {
    "duration": 21,
    "start_time": "2024-09-27T02:17:24.379Z"
   },
   {
    "duration": 10,
    "start_time": "2024-09-27T02:17:24.401Z"
   },
   {
    "duration": 10,
    "start_time": "2024-09-27T02:17:24.412Z"
   },
   {
    "duration": 31,
    "start_time": "2024-09-27T02:17:24.423Z"
   },
   {
    "duration": 5,
    "start_time": "2024-09-27T02:17:24.456Z"
   },
   {
    "duration": 25,
    "start_time": "2024-09-27T02:17:24.462Z"
   },
   {
    "duration": 406,
    "start_time": "2024-09-27T02:17:24.489Z"
   },
   {
    "duration": 26,
    "start_time": "2024-09-27T02:17:24.897Z"
   },
   {
    "duration": 10,
    "start_time": "2024-09-27T02:17:24.924Z"
   },
   {
    "duration": 27,
    "start_time": "2024-09-27T02:17:24.937Z"
   },
   {
    "duration": 482,
    "start_time": "2024-09-27T02:17:24.965Z"
   },
   {
    "duration": 418,
    "start_time": "2024-09-27T02:17:25.449Z"
   },
   {
    "duration": 5,
    "start_time": "2024-09-27T02:17:25.869Z"
   },
   {
    "duration": 256,
    "start_time": "2024-09-27T02:17:25.875Z"
   },
   {
    "duration": 287,
    "start_time": "2024-09-27T02:17:26.133Z"
   },
   {
    "duration": 7,
    "start_time": "2024-09-27T02:17:26.422Z"
   },
   {
    "duration": 33,
    "start_time": "2024-09-27T02:17:26.431Z"
   },
   {
    "duration": 10,
    "start_time": "2024-09-27T02:17:26.466Z"
   },
   {
    "duration": 360,
    "start_time": "2024-09-27T02:17:26.477Z"
   },
   {
    "duration": 21,
    "start_time": "2024-09-27T02:17:26.838Z"
   },
   {
    "duration": 17,
    "start_time": "2024-09-27T02:17:26.860Z"
   },
   {
    "duration": 22,
    "start_time": "2024-09-27T02:17:26.878Z"
   },
   {
    "duration": 15,
    "start_time": "2024-09-27T02:17:26.901Z"
   },
   {
    "duration": 17,
    "start_time": "2024-09-27T02:17:26.918Z"
   },
   {
    "duration": 15,
    "start_time": "2024-09-27T02:17:26.953Z"
   },
   {
    "duration": 18,
    "start_time": "2024-09-27T02:17:26.969Z"
   },
   {
    "duration": 7,
    "start_time": "2024-09-27T02:17:26.989Z"
   },
   {
    "duration": 12,
    "start_time": "2024-09-27T02:17:26.998Z"
   },
   {
    "duration": 2,
    "start_time": "2024-09-27T02:18:29.656Z"
   },
   {
    "duration": 3,
    "start_time": "2024-09-27T02:26:41.620Z"
   },
   {
    "duration": 11,
    "start_time": "2024-09-27T02:32:26.661Z"
   },
   {
    "duration": 1084,
    "start_time": "2024-09-27T02:32:34.267Z"
   },
   {
    "duration": 116,
    "start_time": "2024-09-27T02:32:35.353Z"
   },
   {
    "duration": 6,
    "start_time": "2024-09-27T02:32:35.471Z"
   },
   {
    "duration": 24,
    "start_time": "2024-09-27T02:32:35.478Z"
   },
   {
    "duration": 21,
    "start_time": "2024-09-27T02:32:35.504Z"
   },
   {
    "duration": 37,
    "start_time": "2024-09-27T02:32:35.527Z"
   },
   {
    "duration": 16,
    "start_time": "2024-09-27T02:32:35.566Z"
   },
   {
    "duration": 29,
    "start_time": "2024-09-27T02:32:35.583Z"
   },
   {
    "duration": 18,
    "start_time": "2024-09-27T02:32:35.614Z"
   },
   {
    "duration": 27,
    "start_time": "2024-09-27T02:32:35.634Z"
   },
   {
    "duration": 46,
    "start_time": "2024-09-27T02:32:35.663Z"
   },
   {
    "duration": 26,
    "start_time": "2024-09-27T02:32:35.710Z"
   },
   {
    "duration": 24,
    "start_time": "2024-09-27T02:32:35.737Z"
   },
   {
    "duration": 29,
    "start_time": "2024-09-27T02:32:35.764Z"
   },
   {
    "duration": 19,
    "start_time": "2024-09-27T02:32:35.794Z"
   },
   {
    "duration": 36,
    "start_time": "2024-09-27T02:32:35.815Z"
   },
   {
    "duration": 87,
    "start_time": "2024-09-27T02:32:35.853Z"
   },
   {
    "duration": 11,
    "start_time": "2024-09-27T02:32:35.942Z"
   },
   {
    "duration": 5,
    "start_time": "2024-09-27T02:32:35.954Z"
   },
   {
    "duration": 22,
    "start_time": "2024-09-27T02:32:35.960Z"
   },
   {
    "duration": 15,
    "start_time": "2024-09-27T02:32:35.984Z"
   },
   {
    "duration": 430,
    "start_time": "2024-09-27T02:32:36.001Z"
   },
   {
    "duration": 25,
    "start_time": "2024-09-27T02:32:36.433Z"
   },
   {
    "duration": 10,
    "start_time": "2024-09-27T02:32:36.459Z"
   },
   {
    "duration": 32,
    "start_time": "2024-09-27T02:32:36.470Z"
   },
   {
    "duration": 436,
    "start_time": "2024-09-27T02:32:36.504Z"
   },
   {
    "duration": 425,
    "start_time": "2024-09-27T02:32:36.942Z"
   },
   {
    "duration": 5,
    "start_time": "2024-09-27T02:32:37.368Z"
   },
   {
    "duration": 337,
    "start_time": "2024-09-27T02:32:37.374Z"
   },
   {
    "duration": 288,
    "start_time": "2024-09-27T02:32:37.712Z"
   },
   {
    "duration": 6,
    "start_time": "2024-09-27T02:32:38.002Z"
   },
   {
    "duration": 19,
    "start_time": "2024-09-27T02:32:38.010Z"
   },
   {
    "duration": 31,
    "start_time": "2024-09-27T02:32:38.030Z"
   },
   {
    "duration": 375,
    "start_time": "2024-09-27T02:32:38.062Z"
   },
   {
    "duration": 19,
    "start_time": "2024-09-27T02:32:38.439Z"
   },
   {
    "duration": 7,
    "start_time": "2024-09-27T02:32:38.459Z"
   },
   {
    "duration": 21,
    "start_time": "2024-09-27T02:32:38.468Z"
   },
   {
    "duration": 14,
    "start_time": "2024-09-27T02:32:38.491Z"
   },
   {
    "duration": 16,
    "start_time": "2024-09-27T02:32:38.507Z"
   },
   {
    "duration": 41,
    "start_time": "2024-09-27T02:32:38.524Z"
   },
   {
    "duration": 17,
    "start_time": "2024-09-27T02:32:38.569Z"
   },
   {
    "duration": 8,
    "start_time": "2024-09-27T02:32:38.587Z"
   },
   {
    "duration": 11,
    "start_time": "2024-09-27T02:32:38.597Z"
   },
   {
    "duration": 14,
    "start_time": "2024-09-27T02:33:36.364Z"
   },
   {
    "duration": 8,
    "start_time": "2024-09-27T02:34:17.467Z"
   },
   {
    "duration": 9,
    "start_time": "2024-09-27T02:34:18.546Z"
   },
   {
    "duration": 12,
    "start_time": "2024-09-27T02:34:20.347Z"
   },
   {
    "duration": 15,
    "start_time": "2024-09-27T02:34:21.027Z"
   },
   {
    "duration": 100,
    "start_time": "2024-09-27T02:34:53.712Z"
   },
   {
    "duration": 17,
    "start_time": "2024-09-27T02:39:47.210Z"
   },
   {
    "duration": 157,
    "start_time": "2024-09-27T02:52:37.408Z"
   },
   {
    "duration": 240,
    "start_time": "2024-09-27T02:52:52.385Z"
   },
   {
    "duration": 147,
    "start_time": "2024-09-27T02:52:58.100Z"
   },
   {
    "duration": 151,
    "start_time": "2024-09-27T02:53:13.826Z"
   },
   {
    "duration": 142,
    "start_time": "2024-09-27T02:53:20.443Z"
   },
   {
    "duration": 149,
    "start_time": "2024-09-27T02:53:24.020Z"
   },
   {
    "duration": 145,
    "start_time": "2024-09-27T02:53:29.065Z"
   },
   {
    "duration": 146,
    "start_time": "2024-09-27T02:53:42.041Z"
   },
   {
    "duration": 148,
    "start_time": "2024-09-27T02:53:48.743Z"
   },
   {
    "duration": 1379,
    "start_time": "2024-09-27T06:05:12.244Z"
   },
   {
    "duration": 258,
    "start_time": "2024-09-27T06:05:13.625Z"
   },
   {
    "duration": 5,
    "start_time": "2024-09-27T06:05:13.885Z"
   },
   {
    "duration": 10,
    "start_time": "2024-09-27T06:05:13.893Z"
   },
   {
    "duration": 2,
    "start_time": "2024-09-27T06:05:13.905Z"
   },
   {
    "duration": 18,
    "start_time": "2024-09-27T06:05:13.909Z"
   },
   {
    "duration": 12,
    "start_time": "2024-09-27T06:05:13.928Z"
   },
   {
    "duration": 17,
    "start_time": "2024-09-27T06:05:13.942Z"
   },
   {
    "duration": 17,
    "start_time": "2024-09-27T06:05:13.960Z"
   },
   {
    "duration": 50,
    "start_time": "2024-09-27T06:05:13.980Z"
   },
   {
    "duration": 43,
    "start_time": "2024-09-27T06:05:14.032Z"
   },
   {
    "duration": 14,
    "start_time": "2024-09-27T06:05:14.077Z"
   },
   {
    "duration": 41,
    "start_time": "2024-09-27T06:05:14.094Z"
   },
   {
    "duration": 12,
    "start_time": "2024-09-27T06:05:14.137Z"
   },
   {
    "duration": 13,
    "start_time": "2024-09-27T06:05:14.151Z"
   },
   {
    "duration": 24,
    "start_time": "2024-09-27T06:05:14.165Z"
   },
   {
    "duration": 38,
    "start_time": "2024-09-27T06:05:14.191Z"
   },
   {
    "duration": 201,
    "start_time": "2024-09-27T06:05:14.231Z"
   },
   {
    "duration": 11,
    "start_time": "2024-09-27T06:05:14.434Z"
   },
   {
    "duration": 22,
    "start_time": "2024-09-27T06:05:14.446Z"
   },
   {
    "duration": 8,
    "start_time": "2024-09-27T06:05:14.470Z"
   },
   {
    "duration": 23,
    "start_time": "2024-09-27T06:05:14.480Z"
   },
   {
    "duration": 519,
    "start_time": "2024-09-27T06:05:14.505Z"
   },
   {
    "duration": 30,
    "start_time": "2024-09-27T06:05:15.027Z"
   },
   {
    "duration": 29,
    "start_time": "2024-09-27T06:05:15.058Z"
   },
   {
    "duration": 58,
    "start_time": "2024-09-27T06:05:15.089Z"
   },
   {
    "duration": 500,
    "start_time": "2024-09-27T06:05:15.150Z"
   },
   {
    "duration": 473,
    "start_time": "2024-09-27T06:05:15.654Z"
   },
   {
    "duration": 4,
    "start_time": "2024-09-27T06:05:16.129Z"
   },
   {
    "duration": 268,
    "start_time": "2024-09-27T06:05:16.135Z"
   },
   {
    "duration": 290,
    "start_time": "2024-09-27T06:05:16.405Z"
   },
   {
    "duration": 9,
    "start_time": "2024-09-27T06:05:16.697Z"
   },
   {
    "duration": 22,
    "start_time": "2024-09-27T06:05:16.721Z"
   },
   {
    "duration": 12,
    "start_time": "2024-09-27T06:05:16.745Z"
   },
   {
    "duration": 448,
    "start_time": "2024-09-27T06:05:16.759Z"
   },
   {
    "duration": 21,
    "start_time": "2024-09-27T06:05:17.209Z"
   },
   {
    "duration": 15,
    "start_time": "2024-09-27T06:05:17.232Z"
   },
   {
    "duration": 30,
    "start_time": "2024-09-27T06:05:17.249Z"
   },
   {
    "duration": 17,
    "start_time": "2024-09-27T06:05:17.280Z"
   },
   {
    "duration": 35,
    "start_time": "2024-09-27T06:05:17.298Z"
   },
   {
    "duration": 15,
    "start_time": "2024-09-27T06:05:17.334Z"
   },
   {
    "duration": 19,
    "start_time": "2024-09-27T06:05:17.351Z"
   },
   {
    "duration": 10,
    "start_time": "2024-09-27T06:05:17.372Z"
   },
   {
    "duration": 65,
    "start_time": "2024-09-27T06:05:17.384Z"
   },
   {
    "duration": 14,
    "start_time": "2024-09-27T06:06:47.111Z"
   },
   {
    "duration": 13,
    "start_time": "2024-09-27T06:09:18.613Z"
   },
   {
    "duration": 1211,
    "start_time": "2024-09-27T06:13:11.877Z"
   },
   {
    "duration": 280,
    "start_time": "2024-09-27T06:13:27.183Z"
   },
   {
    "duration": 15,
    "start_time": "2024-09-27T06:13:47.905Z"
   },
   {
    "duration": 450,
    "start_time": "2024-09-27T06:13:50.398Z"
   },
   {
    "duration": 439,
    "start_time": "2024-09-27T06:16:38.819Z"
   },
   {
    "duration": 429,
    "start_time": "2024-09-27T06:19:15.885Z"
   },
   {
    "duration": 441,
    "start_time": "2024-09-27T06:19:19.196Z"
   },
   {
    "duration": 493,
    "start_time": "2024-09-27T06:23:51.660Z"
   },
   {
    "duration": 428,
    "start_time": "2024-09-27T06:23:56.525Z"
   },
   {
    "duration": 392,
    "start_time": "2024-09-27T06:24:03.680Z"
   },
   {
    "duration": 389,
    "start_time": "2024-09-27T06:24:07.953Z"
   },
   {
    "duration": 407,
    "start_time": "2024-09-27T06:24:11.100Z"
   },
   {
    "duration": 14,
    "start_time": "2024-09-27T06:25:42.279Z"
   },
   {
    "duration": 10,
    "start_time": "2024-09-27T06:25:47.729Z"
   },
   {
    "duration": 11,
    "start_time": "2024-09-27T06:26:12.041Z"
   },
   {
    "duration": 400,
    "start_time": "2024-09-27T06:26:34.386Z"
   },
   {
    "duration": 366,
    "start_time": "2024-09-27T06:26:38.504Z"
   },
   {
    "duration": 438,
    "start_time": "2024-09-27T06:26:42.014Z"
   },
   {
    "duration": 447,
    "start_time": "2024-09-27T06:26:44.320Z"
   },
   {
    "duration": 499,
    "start_time": "2024-09-27T06:26:50.842Z"
   },
   {
    "duration": 587,
    "start_time": "2024-09-27T06:26:54.202Z"
   },
   {
    "duration": 515,
    "start_time": "2024-09-27T06:26:56.643Z"
   },
   {
    "duration": 378,
    "start_time": "2024-09-27T06:27:06.912Z"
   },
   {
    "duration": 383,
    "start_time": "2024-09-27T06:28:24.123Z"
   },
   {
    "duration": 1214,
    "start_time": "2024-09-27T06:28:31.703Z"
   },
   {
    "duration": 127,
    "start_time": "2024-09-27T06:28:32.919Z"
   },
   {
    "duration": 5,
    "start_time": "2024-09-27T06:28:33.048Z"
   },
   {
    "duration": 30,
    "start_time": "2024-09-27T06:28:33.056Z"
   },
   {
    "duration": 6,
    "start_time": "2024-09-27T06:28:33.087Z"
   },
   {
    "duration": 26,
    "start_time": "2024-09-27T06:28:33.095Z"
   },
   {
    "duration": 25,
    "start_time": "2024-09-27T06:28:33.122Z"
   },
   {
    "duration": 16,
    "start_time": "2024-09-27T06:28:33.149Z"
   },
   {
    "duration": 34,
    "start_time": "2024-09-27T06:28:33.167Z"
   },
   {
    "duration": 31,
    "start_time": "2024-09-27T06:28:33.204Z"
   },
   {
    "duration": 42,
    "start_time": "2024-09-27T06:28:33.236Z"
   },
   {
    "duration": 13,
    "start_time": "2024-09-27T06:28:33.280Z"
   },
   {
    "duration": 28,
    "start_time": "2024-09-27T06:28:33.294Z"
   },
   {
    "duration": 21,
    "start_time": "2024-09-27T06:28:33.324Z"
   },
   {
    "duration": 48,
    "start_time": "2024-09-27T06:28:33.347Z"
   },
   {
    "duration": 37,
    "start_time": "2024-09-27T06:28:33.396Z"
   },
   {
    "duration": 32,
    "start_time": "2024-09-27T06:28:33.435Z"
   },
   {
    "duration": 340,
    "start_time": "2024-09-27T06:28:33.468Z"
   },
   {
    "duration": 26,
    "start_time": "2024-09-27T06:28:33.810Z"
   },
   {
    "duration": 423,
    "start_time": "2024-09-27T06:28:33.838Z"
   },
   {
    "duration": 8,
    "start_time": "2024-09-27T06:28:34.262Z"
   },
   {
    "duration": 9,
    "start_time": "2024-09-27T06:28:34.272Z"
   },
   {
    "duration": 22,
    "start_time": "2024-09-27T06:28:34.283Z"
   },
   {
    "duration": 70,
    "start_time": "2024-09-27T06:28:34.307Z"
   },
   {
    "duration": 793,
    "start_time": "2024-09-27T06:28:34.378Z"
   },
   {
    "duration": 28,
    "start_time": "2024-09-27T06:28:35.173Z"
   },
   {
    "duration": 11,
    "start_time": "2024-09-27T06:28:35.203Z"
   },
   {
    "duration": 42,
    "start_time": "2024-09-27T06:28:35.217Z"
   },
   {
    "duration": 491,
    "start_time": "2024-09-27T06:28:35.260Z"
   },
   {
    "duration": 581,
    "start_time": "2024-09-27T06:28:35.753Z"
   },
   {
    "duration": 6,
    "start_time": "2024-09-27T06:28:36.335Z"
   },
   {
    "duration": 335,
    "start_time": "2024-09-27T06:28:36.343Z"
   },
   {
    "duration": 324,
    "start_time": "2024-09-27T06:28:36.679Z"
   },
   {
    "duration": 21,
    "start_time": "2024-09-27T06:28:37.005Z"
   },
   {
    "duration": 31,
    "start_time": "2024-09-27T06:28:37.028Z"
   },
   {
    "duration": 50,
    "start_time": "2024-09-27T06:28:37.061Z"
   },
   {
    "duration": 328,
    "start_time": "2024-09-27T06:28:37.114Z"
   },
   {
    "duration": 15,
    "start_time": "2024-09-27T06:28:37.444Z"
   },
   {
    "duration": 76,
    "start_time": "2024-09-27T06:28:37.461Z"
   },
   {
    "duration": 98,
    "start_time": "2024-09-27T06:28:37.538Z"
   },
   {
    "duration": 25,
    "start_time": "2024-09-27T06:28:37.638Z"
   },
   {
    "duration": 51,
    "start_time": "2024-09-27T06:28:37.664Z"
   },
   {
    "duration": 34,
    "start_time": "2024-09-27T06:28:37.717Z"
   },
   {
    "duration": 22,
    "start_time": "2024-09-27T06:28:37.752Z"
   },
   {
    "duration": 41,
    "start_time": "2024-09-27T06:28:37.775Z"
   },
   {
    "duration": 82,
    "start_time": "2024-09-27T06:28:37.817Z"
   },
   {
    "duration": 3,
    "start_time": "2024-09-27T06:29:22.194Z"
   },
   {
    "duration": 5,
    "start_time": "2024-09-27T06:29:24.629Z"
   },
   {
    "duration": 1166,
    "start_time": "2024-09-27T06:29:29.126Z"
   },
   {
    "duration": 120,
    "start_time": "2024-09-27T06:29:30.294Z"
   },
   {
    "duration": 5,
    "start_time": "2024-09-27T06:29:30.415Z"
   },
   {
    "duration": 15,
    "start_time": "2024-09-27T06:29:30.423Z"
   },
   {
    "duration": 67,
    "start_time": "2024-09-27T06:29:30.439Z"
   },
   {
    "duration": 44,
    "start_time": "2024-09-27T06:29:30.508Z"
   },
   {
    "duration": 67,
    "start_time": "2024-09-27T06:29:30.554Z"
   },
   {
    "duration": 39,
    "start_time": "2024-09-27T06:29:30.623Z"
   },
   {
    "duration": 53,
    "start_time": "2024-09-27T06:29:30.663Z"
   },
   {
    "duration": 31,
    "start_time": "2024-09-27T06:29:30.720Z"
   },
   {
    "duration": 41,
    "start_time": "2024-09-27T06:29:30.753Z"
   },
   {
    "duration": 37,
    "start_time": "2024-09-27T06:29:30.795Z"
   },
   {
    "duration": 34,
    "start_time": "2024-09-27T06:29:30.833Z"
   },
   {
    "duration": 29,
    "start_time": "2024-09-27T06:29:30.869Z"
   },
   {
    "duration": 49,
    "start_time": "2024-09-27T06:29:30.900Z"
   },
   {
    "duration": 66,
    "start_time": "2024-09-27T06:29:30.951Z"
   },
   {
    "duration": 14,
    "start_time": "2024-09-27T06:29:31.019Z"
   },
   {
    "duration": 196,
    "start_time": "2024-09-27T06:29:31.035Z"
   },
   {
    "duration": 14,
    "start_time": "2024-09-27T06:29:31.233Z"
   },
   {
    "duration": 448,
    "start_time": "2024-09-27T06:29:31.249Z"
   },
   {
    "duration": 3,
    "start_time": "2024-09-27T06:29:31.699Z"
   },
   {
    "duration": 40,
    "start_time": "2024-09-27T06:29:31.704Z"
   },
   {
    "duration": 8,
    "start_time": "2024-09-27T06:29:31.746Z"
   },
   {
    "duration": 18,
    "start_time": "2024-09-27T06:29:31.756Z"
   },
   {
    "duration": 436,
    "start_time": "2024-09-27T06:29:31.776Z"
   },
   {
    "duration": 32,
    "start_time": "2024-09-27T06:29:32.214Z"
   },
   {
    "duration": 18,
    "start_time": "2024-09-27T06:29:32.248Z"
   },
   {
    "duration": 36,
    "start_time": "2024-09-27T06:29:32.271Z"
   },
   {
    "duration": 506,
    "start_time": "2024-09-27T06:29:32.309Z"
   },
   {
    "duration": 451,
    "start_time": "2024-09-27T06:29:32.820Z"
   },
   {
    "duration": 5,
    "start_time": "2024-09-27T06:29:33.273Z"
   },
   {
    "duration": 421,
    "start_time": "2024-09-27T06:29:33.280Z"
   },
   {
    "duration": 292,
    "start_time": "2024-09-27T06:29:33.702Z"
   },
   {
    "duration": 7,
    "start_time": "2024-09-27T06:29:33.996Z"
   },
   {
    "duration": 35,
    "start_time": "2024-09-27T06:29:34.005Z"
   },
   {
    "duration": 15,
    "start_time": "2024-09-27T06:29:34.041Z"
   },
   {
    "duration": 365,
    "start_time": "2024-09-27T06:29:34.058Z"
   },
   {
    "duration": 14,
    "start_time": "2024-09-27T06:29:34.425Z"
   },
   {
    "duration": 9,
    "start_time": "2024-09-27T06:29:34.440Z"
   },
   {
    "duration": 21,
    "start_time": "2024-09-27T06:29:34.451Z"
   },
   {
    "duration": 49,
    "start_time": "2024-09-27T06:29:34.474Z"
   },
   {
    "duration": 18,
    "start_time": "2024-09-27T06:29:34.525Z"
   },
   {
    "duration": 16,
    "start_time": "2024-09-27T06:29:34.545Z"
   },
   {
    "duration": 42,
    "start_time": "2024-09-27T06:29:34.563Z"
   },
   {
    "duration": 23,
    "start_time": "2024-09-27T06:29:34.607Z"
   },
   {
    "duration": 21,
    "start_time": "2024-09-27T06:29:34.631Z"
   },
   {
    "duration": 426,
    "start_time": "2024-09-27T06:30:07.720Z"
   },
   {
    "duration": 373,
    "start_time": "2024-09-27T06:30:11.218Z"
   },
   {
    "duration": 401,
    "start_time": "2024-09-27T06:30:57.639Z"
   },
   {
    "duration": 1168,
    "start_time": "2024-09-27T06:31:03.532Z"
   },
   {
    "duration": 112,
    "start_time": "2024-09-27T06:31:04.702Z"
   },
   {
    "duration": 5,
    "start_time": "2024-09-27T06:31:04.816Z"
   },
   {
    "duration": 39,
    "start_time": "2024-09-27T06:31:04.823Z"
   },
   {
    "duration": 16,
    "start_time": "2024-09-27T06:31:04.864Z"
   },
   {
    "duration": 22,
    "start_time": "2024-09-27T06:31:04.882Z"
   },
   {
    "duration": 19,
    "start_time": "2024-09-27T06:31:04.905Z"
   },
   {
    "duration": 23,
    "start_time": "2024-09-27T06:31:04.926Z"
   },
   {
    "duration": 16,
    "start_time": "2024-09-27T06:31:04.951Z"
   },
   {
    "duration": 23,
    "start_time": "2024-09-27T06:31:04.971Z"
   },
   {
    "duration": 65,
    "start_time": "2024-09-27T06:31:04.995Z"
   },
   {
    "duration": 13,
    "start_time": "2024-09-27T06:31:05.062Z"
   },
   {
    "duration": 10,
    "start_time": "2024-09-27T06:31:05.077Z"
   },
   {
    "duration": 38,
    "start_time": "2024-09-27T06:31:05.089Z"
   },
   {
    "duration": 19,
    "start_time": "2024-09-27T06:31:05.129Z"
   },
   {
    "duration": 32,
    "start_time": "2024-09-27T06:31:05.149Z"
   },
   {
    "duration": 17,
    "start_time": "2024-09-27T06:31:05.182Z"
   },
   {
    "duration": 204,
    "start_time": "2024-09-27T06:31:05.201Z"
   },
   {
    "duration": 20,
    "start_time": "2024-09-27T06:31:05.407Z"
   },
   {
    "duration": 433,
    "start_time": "2024-09-27T06:31:05.428Z"
   },
   {
    "duration": 3,
    "start_time": "2024-09-27T06:31:05.862Z"
   },
   {
    "duration": 64,
    "start_time": "2024-09-27T06:31:05.867Z"
   },
   {
    "duration": 15,
    "start_time": "2024-09-27T06:31:05.932Z"
   },
   {
    "duration": 21,
    "start_time": "2024-09-27T06:31:05.948Z"
   },
   {
    "duration": 413,
    "start_time": "2024-09-27T06:31:05.971Z"
   },
   {
    "duration": 27,
    "start_time": "2024-09-27T06:31:06.385Z"
   },
   {
    "duration": 10,
    "start_time": "2024-09-27T06:31:06.413Z"
   },
   {
    "duration": 42,
    "start_time": "2024-09-27T06:31:06.426Z"
   },
   {
    "duration": 488,
    "start_time": "2024-09-27T06:31:06.469Z"
   },
   {
    "duration": 481,
    "start_time": "2024-09-27T06:31:06.958Z"
   },
   {
    "duration": 5,
    "start_time": "2024-09-27T06:31:07.441Z"
   },
   {
    "duration": 473,
    "start_time": "2024-09-27T06:31:07.447Z"
   },
   {
    "duration": 289,
    "start_time": "2024-09-27T06:31:07.922Z"
   },
   {
    "duration": 14,
    "start_time": "2024-09-27T06:31:08.213Z"
   },
   {
    "duration": 28,
    "start_time": "2024-09-27T06:31:08.228Z"
   },
   {
    "duration": 14,
    "start_time": "2024-09-27T06:31:08.257Z"
   },
   {
    "duration": 361,
    "start_time": "2024-09-27T06:31:08.272Z"
   },
   {
    "duration": 13,
    "start_time": "2024-09-27T06:31:08.635Z"
   },
   {
    "duration": 10,
    "start_time": "2024-09-27T06:31:08.650Z"
   },
   {
    "duration": 57,
    "start_time": "2024-09-27T06:31:08.662Z"
   },
   {
    "duration": 16,
    "start_time": "2024-09-27T06:31:08.721Z"
   },
   {
    "duration": 17,
    "start_time": "2024-09-27T06:31:08.739Z"
   },
   {
    "duration": 16,
    "start_time": "2024-09-27T06:31:08.758Z"
   },
   {
    "duration": 51,
    "start_time": "2024-09-27T06:31:08.775Z"
   },
   {
    "duration": 10,
    "start_time": "2024-09-27T06:31:08.828Z"
   },
   {
    "duration": 10,
    "start_time": "2024-09-27T06:31:08.839Z"
   },
   {
    "duration": 399,
    "start_time": "2024-09-27T06:32:43.664Z"
   },
   {
    "duration": 418,
    "start_time": "2024-09-27T06:32:58.227Z"
   },
   {
    "duration": 387,
    "start_time": "2024-09-27T06:33:02.017Z"
   },
   {
    "duration": 377,
    "start_time": "2024-09-27T06:33:08.514Z"
   },
   {
    "duration": 372,
    "start_time": "2024-09-27T06:33:20.087Z"
   },
   {
    "duration": 27,
    "start_time": "2024-09-27T06:40:58.545Z"
   },
   {
    "duration": 11,
    "start_time": "2024-09-27T06:41:05.688Z"
   },
   {
    "duration": 20,
    "start_time": "2024-09-27T06:41:33.013Z"
   },
   {
    "duration": 455,
    "start_time": "2024-09-27T06:42:15.080Z"
   },
   {
    "duration": 507,
    "start_time": "2024-09-27T06:42:27.162Z"
   },
   {
    "duration": 413,
    "start_time": "2024-09-27T06:44:28.421Z"
   },
   {
    "duration": 411,
    "start_time": "2024-09-27T06:44:37.056Z"
   },
   {
    "duration": 511,
    "start_time": "2024-09-27T06:44:48.673Z"
   },
   {
    "duration": 436,
    "start_time": "2024-09-27T06:45:29.150Z"
   },
   {
    "duration": 6,
    "start_time": "2024-09-27T06:48:04.971Z"
   },
   {
    "duration": 8,
    "start_time": "2024-09-27T06:48:10.257Z"
   },
   {
    "duration": 6,
    "start_time": "2024-09-27T06:48:23.257Z"
   },
   {
    "duration": 103,
    "start_time": "2024-09-27T06:48:30.645Z"
   },
   {
    "duration": 452,
    "start_time": "2024-09-27T06:49:08.439Z"
   },
   {
    "duration": 585,
    "start_time": "2024-09-27T06:49:15.690Z"
   },
   {
    "duration": 482,
    "start_time": "2024-09-27T06:49:27.674Z"
   },
   {
    "duration": 336,
    "start_time": "2024-09-27T06:49:59.640Z"
   },
   {
    "duration": 452,
    "start_time": "2024-09-27T06:50:09.460Z"
   },
   {
    "duration": 456,
    "start_time": "2024-09-27T06:50:13.252Z"
   },
   {
    "duration": 524,
    "start_time": "2024-09-27T06:50:34.524Z"
   },
   {
    "duration": 443,
    "start_time": "2024-09-27T06:50:39.041Z"
   },
   {
    "duration": 485,
    "start_time": "2024-09-27T06:52:52.874Z"
   },
   {
    "duration": 441,
    "start_time": "2024-09-27T06:52:59.937Z"
   },
   {
    "duration": 461,
    "start_time": "2024-09-27T06:53:18.703Z"
   },
   {
    "duration": 436,
    "start_time": "2024-09-27T06:53:24.044Z"
   },
   {
    "duration": 6,
    "start_time": "2024-09-27T07:04:24.594Z"
   },
   {
    "duration": 411,
    "start_time": "2024-09-27T07:04:26.474Z"
   },
   {
    "duration": 285,
    "start_time": "2024-09-27T07:04:30.509Z"
   },
   {
    "duration": 8,
    "start_time": "2024-09-27T07:04:35.972Z"
   },
   {
    "duration": 19,
    "start_time": "2024-09-27T07:05:37.906Z"
   },
   {
    "duration": 20,
    "start_time": "2024-09-27T07:05:57.842Z"
   },
   {
    "duration": 8,
    "start_time": "2024-09-27T07:19:26.388Z"
   },
   {
    "duration": 23,
    "start_time": "2024-09-27T07:21:03.657Z"
   },
   {
    "duration": 26,
    "start_time": "2024-09-27T07:21:18.528Z"
   },
   {
    "duration": 1209,
    "start_time": "2024-09-27T07:21:30.606Z"
   },
   {
    "duration": 117,
    "start_time": "2024-09-27T07:21:31.817Z"
   },
   {
    "duration": 5,
    "start_time": "2024-09-27T07:21:31.936Z"
   },
   {
    "duration": 7,
    "start_time": "2024-09-27T07:21:31.943Z"
   },
   {
    "duration": 37,
    "start_time": "2024-09-27T07:21:31.951Z"
   },
   {
    "duration": 87,
    "start_time": "2024-09-27T07:21:31.990Z"
   },
   {
    "duration": 18,
    "start_time": "2024-09-27T07:21:32.078Z"
   },
   {
    "duration": 35,
    "start_time": "2024-09-27T07:21:32.098Z"
   },
   {
    "duration": 18,
    "start_time": "2024-09-27T07:21:32.135Z"
   },
   {
    "duration": 55,
    "start_time": "2024-09-27T07:21:32.156Z"
   },
   {
    "duration": 43,
    "start_time": "2024-09-27T07:21:32.213Z"
   },
   {
    "duration": 13,
    "start_time": "2024-09-27T07:21:32.257Z"
   },
   {
    "duration": 40,
    "start_time": "2024-09-27T07:21:32.272Z"
   },
   {
    "duration": 21,
    "start_time": "2024-09-27T07:21:32.313Z"
   },
   {
    "duration": 23,
    "start_time": "2024-09-27T07:21:32.335Z"
   },
   {
    "duration": 30,
    "start_time": "2024-09-27T07:21:32.360Z"
   },
   {
    "duration": 14,
    "start_time": "2024-09-27T07:21:32.392Z"
   },
   {
    "duration": 208,
    "start_time": "2024-09-27T07:21:32.408Z"
   },
   {
    "duration": 17,
    "start_time": "2024-09-27T07:21:32.618Z"
   },
   {
    "duration": 427,
    "start_time": "2024-09-27T07:21:32.636Z"
   },
   {
    "duration": 3,
    "start_time": "2024-09-27T07:21:33.065Z"
   },
   {
    "duration": 39,
    "start_time": "2024-09-27T07:21:33.069Z"
   },
   {
    "duration": 37,
    "start_time": "2024-09-27T07:21:33.110Z"
   },
   {
    "duration": 52,
    "start_time": "2024-09-27T07:21:33.148Z"
   },
   {
    "duration": 401,
    "start_time": "2024-09-27T07:21:33.202Z"
   },
   {
    "duration": 25,
    "start_time": "2024-09-27T07:21:33.605Z"
   },
   {
    "duration": 9,
    "start_time": "2024-09-27T07:21:33.632Z"
   },
   {
    "duration": 21,
    "start_time": "2024-09-27T07:21:33.645Z"
   },
   {
    "duration": 545,
    "start_time": "2024-09-27T07:21:33.667Z"
   },
   {
    "duration": 430,
    "start_time": "2024-09-27T07:21:34.214Z"
   },
   {
    "duration": 558,
    "start_time": "2024-09-27T07:21:34.645Z"
   },
   {
    "duration": 4,
    "start_time": "2024-09-27T07:21:35.205Z"
   },
   {
    "duration": 254,
    "start_time": "2024-09-27T07:21:35.220Z"
   },
   {
    "duration": 0,
    "start_time": "2024-09-27T07:21:35.476Z"
   },
   {
    "duration": 0,
    "start_time": "2024-09-27T07:21:35.478Z"
   },
   {
    "duration": 0,
    "start_time": "2024-09-27T07:21:35.479Z"
   },
   {
    "duration": 0,
    "start_time": "2024-09-27T07:21:35.480Z"
   },
   {
    "duration": 0,
    "start_time": "2024-09-27T07:21:35.481Z"
   },
   {
    "duration": 0,
    "start_time": "2024-09-27T07:21:35.483Z"
   },
   {
    "duration": 0,
    "start_time": "2024-09-27T07:21:35.484Z"
   },
   {
    "duration": 0,
    "start_time": "2024-09-27T07:21:35.485Z"
   },
   {
    "duration": 0,
    "start_time": "2024-09-27T07:21:35.486Z"
   },
   {
    "duration": 0,
    "start_time": "2024-09-27T07:21:35.487Z"
   },
   {
    "duration": 0,
    "start_time": "2024-09-27T07:21:35.488Z"
   },
   {
    "duration": 0,
    "start_time": "2024-09-27T07:21:35.489Z"
   },
   {
    "duration": 0,
    "start_time": "2024-09-27T07:21:35.490Z"
   },
   {
    "duration": 0,
    "start_time": "2024-09-27T07:21:35.521Z"
   },
   {
    "duration": 0,
    "start_time": "2024-09-27T07:21:35.522Z"
   },
   {
    "duration": 4,
    "start_time": "2024-09-27T07:21:54.668Z"
   },
   {
    "duration": 139,
    "start_time": "2024-09-27T07:21:56.375Z"
   },
   {
    "duration": 16,
    "start_time": "2024-09-27T07:27:34.905Z"
   },
   {
    "duration": 1199,
    "start_time": "2024-09-27T07:27:40.733Z"
   },
   {
    "duration": 133,
    "start_time": "2024-09-27T07:27:41.934Z"
   },
   {
    "duration": 6,
    "start_time": "2024-09-27T07:27:42.069Z"
   },
   {
    "duration": 5,
    "start_time": "2024-09-27T07:27:42.077Z"
   },
   {
    "duration": 7,
    "start_time": "2024-09-27T07:27:42.084Z"
   },
   {
    "duration": 29,
    "start_time": "2024-09-27T07:27:42.093Z"
   },
   {
    "duration": 9,
    "start_time": "2024-09-27T07:27:42.124Z"
   },
   {
    "duration": 16,
    "start_time": "2024-09-27T07:27:42.135Z"
   },
   {
    "duration": 17,
    "start_time": "2024-09-27T07:27:42.153Z"
   },
   {
    "duration": 49,
    "start_time": "2024-09-27T07:27:42.173Z"
   },
   {
    "duration": 40,
    "start_time": "2024-09-27T07:27:42.223Z"
   },
   {
    "duration": 13,
    "start_time": "2024-09-27T07:27:42.265Z"
   },
   {
    "duration": 12,
    "start_time": "2024-09-27T07:27:42.279Z"
   },
   {
    "duration": 37,
    "start_time": "2024-09-27T07:27:42.292Z"
   },
   {
    "duration": 18,
    "start_time": "2024-09-27T07:27:42.331Z"
   },
   {
    "duration": 24,
    "start_time": "2024-09-27T07:27:42.351Z"
   },
   {
    "duration": 11,
    "start_time": "2024-09-27T07:27:42.377Z"
   },
   {
    "duration": 206,
    "start_time": "2024-09-27T07:27:42.390Z"
   },
   {
    "duration": 24,
    "start_time": "2024-09-27T07:27:42.597Z"
   },
   {
    "duration": 428,
    "start_time": "2024-09-27T07:27:42.623Z"
   },
   {
    "duration": 2,
    "start_time": "2024-09-27T07:27:43.053Z"
   },
   {
    "duration": 8,
    "start_time": "2024-09-27T07:27:43.057Z"
   },
   {
    "duration": 6,
    "start_time": "2024-09-27T07:27:43.066Z"
   },
   {
    "duration": 18,
    "start_time": "2024-09-27T07:27:43.074Z"
   },
   {
    "duration": 448,
    "start_time": "2024-09-27T07:27:43.120Z"
   },
   {
    "duration": 27,
    "start_time": "2024-09-27T07:27:43.570Z"
   },
   {
    "duration": 10,
    "start_time": "2024-09-27T07:27:43.600Z"
   },
   {
    "duration": 23,
    "start_time": "2024-09-27T07:27:43.621Z"
   },
   {
    "duration": 492,
    "start_time": "2024-09-27T07:27:43.646Z"
   },
   {
    "duration": 435,
    "start_time": "2024-09-27T07:27:44.139Z"
   },
   {
    "duration": 587,
    "start_time": "2024-09-27T07:27:44.575Z"
   },
   {
    "duration": 5,
    "start_time": "2024-09-27T07:27:45.163Z"
   },
   {
    "duration": 319,
    "start_time": "2024-09-27T07:27:45.170Z"
   },
   {
    "duration": 319,
    "start_time": "2024-09-27T07:27:45.492Z"
   },
   {
    "duration": 14,
    "start_time": "2024-09-27T07:27:45.813Z"
   },
   {
    "duration": 9,
    "start_time": "2024-09-27T07:27:45.829Z"
   },
   {
    "duration": 19,
    "start_time": "2024-09-27T07:27:45.840Z"
   },
   {
    "duration": 13,
    "start_time": "2024-09-27T07:27:45.861Z"
   },
   {
    "duration": 371,
    "start_time": "2024-09-27T07:27:45.876Z"
   },
   {
    "duration": 15,
    "start_time": "2024-09-27T07:27:46.249Z"
   },
   {
    "duration": 10,
    "start_time": "2024-09-27T07:27:46.265Z"
   },
   {
    "duration": 45,
    "start_time": "2024-09-27T07:27:46.277Z"
   },
   {
    "duration": 17,
    "start_time": "2024-09-27T07:27:46.324Z"
   },
   {
    "duration": 21,
    "start_time": "2024-09-27T07:27:46.343Z"
   },
   {
    "duration": 16,
    "start_time": "2024-09-27T07:27:46.366Z"
   },
   {
    "duration": 56,
    "start_time": "2024-09-27T07:27:46.384Z"
   },
   {
    "duration": 9,
    "start_time": "2024-09-27T07:27:46.442Z"
   },
   {
    "duration": 10,
    "start_time": "2024-09-27T07:27:46.453Z"
   },
   {
    "duration": 10,
    "start_time": "2024-09-27T07:35:45.776Z"
   },
   {
    "duration": 1159,
    "start_time": "2024-09-27T07:35:50.764Z"
   },
   {
    "duration": 122,
    "start_time": "2024-09-27T07:35:51.925Z"
   },
   {
    "duration": 5,
    "start_time": "2024-09-27T07:35:52.049Z"
   },
   {
    "duration": 44,
    "start_time": "2024-09-27T07:35:52.056Z"
   },
   {
    "duration": 14,
    "start_time": "2024-09-27T07:35:52.102Z"
   },
   {
    "duration": 30,
    "start_time": "2024-09-27T07:35:52.117Z"
   },
   {
    "duration": 44,
    "start_time": "2024-09-27T07:35:52.148Z"
   },
   {
    "duration": 46,
    "start_time": "2024-09-27T07:35:52.193Z"
   },
   {
    "duration": 39,
    "start_time": "2024-09-27T07:35:52.241Z"
   },
   {
    "duration": 22,
    "start_time": "2024-09-27T07:35:52.282Z"
   },
   {
    "duration": 56,
    "start_time": "2024-09-27T07:35:52.305Z"
   },
   {
    "duration": 17,
    "start_time": "2024-09-27T07:35:52.362Z"
   },
   {
    "duration": 21,
    "start_time": "2024-09-27T07:35:52.380Z"
   },
   {
    "duration": 18,
    "start_time": "2024-09-27T07:35:52.403Z"
   },
   {
    "duration": 19,
    "start_time": "2024-09-27T07:35:52.423Z"
   },
   {
    "duration": 35,
    "start_time": "2024-09-27T07:35:52.444Z"
   },
   {
    "duration": 12,
    "start_time": "2024-09-27T07:35:52.481Z"
   },
   {
    "duration": 185,
    "start_time": "2024-09-27T07:35:52.495Z"
   },
   {
    "duration": 14,
    "start_time": "2024-09-27T07:35:52.682Z"
   },
   {
    "duration": 468,
    "start_time": "2024-09-27T07:35:52.698Z"
   },
   {
    "duration": 4,
    "start_time": "2024-09-27T07:35:53.167Z"
   },
   {
    "duration": 7,
    "start_time": "2024-09-27T07:35:53.172Z"
   },
   {
    "duration": 6,
    "start_time": "2024-09-27T07:35:53.181Z"
   },
   {
    "duration": 41,
    "start_time": "2024-09-27T07:35:53.188Z"
   },
   {
    "duration": 438,
    "start_time": "2024-09-27T07:35:53.230Z"
   },
   {
    "duration": 26,
    "start_time": "2024-09-27T07:35:53.669Z"
   },
   {
    "duration": 10,
    "start_time": "2024-09-27T07:35:53.696Z"
   },
   {
    "duration": 20,
    "start_time": "2024-09-27T07:35:53.710Z"
   },
   {
    "duration": 602,
    "start_time": "2024-09-27T07:35:53.732Z"
   },
   {
    "duration": 406,
    "start_time": "2024-09-27T07:35:54.336Z"
   },
   {
    "duration": 547,
    "start_time": "2024-09-27T07:35:54.744Z"
   },
   {
    "duration": 5,
    "start_time": "2024-09-27T07:35:55.293Z"
   },
   {
    "duration": 311,
    "start_time": "2024-09-27T07:35:55.300Z"
   },
   {
    "duration": 290,
    "start_time": "2024-09-27T07:35:55.613Z"
   },
   {
    "duration": 17,
    "start_time": "2024-09-27T07:35:55.905Z"
   },
   {
    "duration": 8,
    "start_time": "2024-09-27T07:35:55.923Z"
   },
   {
    "duration": 23,
    "start_time": "2024-09-27T07:35:55.933Z"
   },
   {
    "duration": 19,
    "start_time": "2024-09-27T07:35:55.958Z"
   },
   {
    "duration": 347,
    "start_time": "2024-09-27T07:35:55.978Z"
   },
   {
    "duration": 11,
    "start_time": "2024-09-27T07:35:56.326Z"
   },
   {
    "duration": 23,
    "start_time": "2024-09-27T07:35:56.339Z"
   },
   {
    "duration": 25,
    "start_time": "2024-09-27T07:35:56.364Z"
   },
   {
    "duration": 30,
    "start_time": "2024-09-27T07:35:56.391Z"
   },
   {
    "duration": 19,
    "start_time": "2024-09-27T07:35:56.422Z"
   },
   {
    "duration": 15,
    "start_time": "2024-09-27T07:35:56.443Z"
   },
   {
    "duration": 32,
    "start_time": "2024-09-27T07:35:56.459Z"
   },
   {
    "duration": 31,
    "start_time": "2024-09-27T07:35:56.493Z"
   },
   {
    "duration": 24,
    "start_time": "2024-09-27T07:35:56.526Z"
   },
   {
    "duration": 1250,
    "start_time": "2024-09-27T10:41:05.398Z"
   },
   {
    "duration": 274,
    "start_time": "2024-09-27T10:41:06.649Z"
   },
   {
    "duration": 4,
    "start_time": "2024-09-27T10:41:06.925Z"
   },
   {
    "duration": 18,
    "start_time": "2024-09-27T10:41:06.930Z"
   },
   {
    "duration": 8,
    "start_time": "2024-09-27T10:41:06.949Z"
   },
   {
    "duration": 27,
    "start_time": "2024-09-27T10:41:06.959Z"
   },
   {
    "duration": 29,
    "start_time": "2024-09-27T10:41:06.987Z"
   },
   {
    "duration": 27,
    "start_time": "2024-09-27T10:41:07.017Z"
   },
   {
    "duration": 15,
    "start_time": "2024-09-27T10:41:07.046Z"
   },
   {
    "duration": 19,
    "start_time": "2024-09-27T10:41:07.063Z"
   },
   {
    "duration": 37,
    "start_time": "2024-09-27T10:41:07.083Z"
   },
   {
    "duration": 10,
    "start_time": "2024-09-27T10:41:07.122Z"
   },
   {
    "duration": 14,
    "start_time": "2024-09-27T10:41:07.134Z"
   },
   {
    "duration": 10,
    "start_time": "2024-09-27T10:41:07.150Z"
   },
   {
    "duration": 38,
    "start_time": "2024-09-27T10:41:07.161Z"
   },
   {
    "duration": 24,
    "start_time": "2024-09-27T10:41:07.201Z"
   },
   {
    "duration": 11,
    "start_time": "2024-09-27T10:41:07.227Z"
   },
   {
    "duration": 194,
    "start_time": "2024-09-27T10:41:07.240Z"
   },
   {
    "duration": 12,
    "start_time": "2024-09-27T10:41:07.436Z"
   },
   {
    "duration": 488,
    "start_time": "2024-09-27T10:41:07.450Z"
   },
   {
    "duration": 2,
    "start_time": "2024-09-27T10:41:07.940Z"
   },
   {
    "duration": 20,
    "start_time": "2024-09-27T10:41:07.944Z"
   },
   {
    "duration": 7,
    "start_time": "2024-09-27T10:41:07.965Z"
   },
   {
    "duration": 20,
    "start_time": "2024-09-27T10:41:07.974Z"
   },
   {
    "duration": 475,
    "start_time": "2024-09-27T10:41:07.995Z"
   },
   {
    "duration": 24,
    "start_time": "2024-09-27T10:41:08.472Z"
   },
   {
    "duration": 10,
    "start_time": "2024-09-27T10:41:08.498Z"
   },
   {
    "duration": 29,
    "start_time": "2024-09-27T10:41:08.513Z"
   },
   {
    "duration": 473,
    "start_time": "2024-09-27T10:41:08.544Z"
   },
   {
    "duration": 391,
    "start_time": "2024-09-27T10:41:09.019Z"
   },
   {
    "duration": 518,
    "start_time": "2024-09-27T10:41:09.412Z"
   },
   {
    "duration": 4,
    "start_time": "2024-09-27T10:41:09.932Z"
   },
   {
    "duration": 324,
    "start_time": "2024-09-27T10:41:09.937Z"
   },
   {
    "duration": 290,
    "start_time": "2024-09-27T10:41:10.262Z"
   },
   {
    "duration": 7,
    "start_time": "2024-09-27T10:41:10.553Z"
   },
   {
    "duration": 27,
    "start_time": "2024-09-27T10:41:10.562Z"
   },
   {
    "duration": 19,
    "start_time": "2024-09-27T10:41:10.591Z"
   },
   {
    "duration": 19,
    "start_time": "2024-09-27T10:41:10.612Z"
   },
   {
    "duration": 395,
    "start_time": "2024-09-27T10:41:10.633Z"
   },
   {
    "duration": 10,
    "start_time": "2024-09-27T10:41:11.030Z"
   },
   {
    "duration": 7,
    "start_time": "2024-09-27T10:41:11.041Z"
   },
   {
    "duration": 19,
    "start_time": "2024-09-27T10:41:11.049Z"
   },
   {
    "duration": 14,
    "start_time": "2024-09-27T10:41:11.090Z"
   },
   {
    "duration": 16,
    "start_time": "2024-09-27T10:41:11.105Z"
   },
   {
    "duration": 14,
    "start_time": "2024-09-27T10:41:11.122Z"
   },
   {
    "duration": 21,
    "start_time": "2024-09-27T10:41:11.137Z"
   },
   {
    "duration": 36,
    "start_time": "2024-09-27T10:41:11.159Z"
   },
   {
    "duration": 8,
    "start_time": "2024-09-27T10:41:11.196Z"
   },
   {
    "duration": 379,
    "start_time": "2024-09-27T10:41:32.250Z"
   },
   {
    "duration": 11,
    "start_time": "2024-09-27T10:51:20.298Z"
   },
   {
    "duration": 356,
    "start_time": "2024-09-27T10:53:42.885Z"
   },
   {
    "duration": 357,
    "start_time": "2024-09-27T10:54:02.977Z"
   },
   {
    "duration": 12,
    "start_time": "2024-09-27T10:54:56.971Z"
   },
   {
    "duration": 12,
    "start_time": "2024-09-27T10:55:09.862Z"
   },
   {
    "duration": 12,
    "start_time": "2024-09-27T10:55:39.902Z"
   },
   {
    "duration": 374,
    "start_time": "2024-09-27T10:56:31.425Z"
   },
   {
    "duration": 394,
    "start_time": "2024-09-27T10:57:08.939Z"
   },
   {
    "duration": 350,
    "start_time": "2024-09-27T10:57:19.461Z"
   },
   {
    "duration": 413,
    "start_time": "2024-09-27T10:57:24.109Z"
   },
   {
    "duration": 360,
    "start_time": "2024-09-27T10:57:30.597Z"
   },
   {
    "duration": 339,
    "start_time": "2024-09-27T10:57:38.680Z"
   },
   {
    "duration": 212,
    "start_time": "2024-09-27T10:57:50.975Z"
   },
   {
    "duration": 3,
    "start_time": "2024-09-27T10:58:48.146Z"
   },
   {
    "duration": 11,
    "start_time": "2024-09-27T11:17:42.494Z"
   },
   {
    "duration": 9,
    "start_time": "2024-09-27T11:17:44.499Z"
   },
   {
    "duration": 18,
    "start_time": "2024-09-27T11:17:46.163Z"
   },
   {
    "duration": 439,
    "start_time": "2024-09-27T11:20:36.445Z"
   },
   {
    "duration": 9,
    "start_time": "2024-09-27T11:43:38.391Z"
   },
   {
    "duration": 10,
    "start_time": "2024-09-27T11:44:16.019Z"
   },
   {
    "duration": 1005,
    "start_time": "2024-09-27T12:04:40.640Z"
   },
   {
    "duration": 103,
    "start_time": "2024-09-27T12:04:41.647Z"
   },
   {
    "duration": 4,
    "start_time": "2024-09-27T12:04:41.751Z"
   },
   {
    "duration": 14,
    "start_time": "2024-09-27T12:04:41.757Z"
   },
   {
    "duration": 2,
    "start_time": "2024-09-27T12:04:41.773Z"
   },
   {
    "duration": 13,
    "start_time": "2024-09-27T12:04:41.777Z"
   },
   {
    "duration": 14,
    "start_time": "2024-09-27T12:04:41.792Z"
   },
   {
    "duration": 16,
    "start_time": "2024-09-27T12:04:41.807Z"
   },
   {
    "duration": 15,
    "start_time": "2024-09-27T12:04:41.824Z"
   },
   {
    "duration": 20,
    "start_time": "2024-09-27T12:04:41.842Z"
   },
   {
    "duration": 40,
    "start_time": "2024-09-27T12:04:41.890Z"
   },
   {
    "duration": 67,
    "start_time": "2024-09-27T12:04:41.932Z"
   },
   {
    "duration": 12,
    "start_time": "2024-09-27T12:04:42.000Z"
   },
   {
    "duration": 9,
    "start_time": "2024-09-27T12:04:42.014Z"
   },
   {
    "duration": 14,
    "start_time": "2024-09-27T12:04:42.025Z"
   },
   {
    "duration": 22,
    "start_time": "2024-09-27T12:04:42.040Z"
   },
   {
    "duration": 31,
    "start_time": "2024-09-27T12:04:42.063Z"
   },
   {
    "duration": 168,
    "start_time": "2024-09-27T12:04:42.096Z"
   },
   {
    "duration": 12,
    "start_time": "2024-09-27T12:04:42.266Z"
   },
   {
    "duration": 408,
    "start_time": "2024-09-27T12:04:42.289Z"
   },
   {
    "duration": 2,
    "start_time": "2024-09-27T12:04:42.699Z"
   },
   {
    "duration": 5,
    "start_time": "2024-09-27T12:04:42.703Z"
   },
   {
    "duration": 7,
    "start_time": "2024-09-27T12:04:42.709Z"
   },
   {
    "duration": 15,
    "start_time": "2024-09-27T12:04:42.717Z"
   },
   {
    "duration": 380,
    "start_time": "2024-09-27T12:04:42.734Z"
   },
   {
    "duration": 22,
    "start_time": "2024-09-27T12:04:43.116Z"
   },
   {
    "duration": 9,
    "start_time": "2024-09-27T12:04:43.140Z"
   },
   {
    "duration": 21,
    "start_time": "2024-09-27T12:04:43.152Z"
   },
   {
    "duration": 485,
    "start_time": "2024-09-27T12:04:43.175Z"
   },
   {
    "duration": 415,
    "start_time": "2024-09-27T12:04:43.661Z"
   },
   {
    "duration": 450,
    "start_time": "2024-09-27T12:04:44.077Z"
   },
   {
    "duration": 4,
    "start_time": "2024-09-27T12:04:44.529Z"
   },
   {
    "duration": 301,
    "start_time": "2024-09-27T12:04:44.534Z"
   },
   {
    "duration": 297,
    "start_time": "2024-09-27T12:04:44.837Z"
   },
   {
    "duration": 6,
    "start_time": "2024-09-27T12:04:45.136Z"
   },
   {
    "duration": 117,
    "start_time": "2024-09-27T12:04:45.144Z"
   },
   {
    "duration": 45,
    "start_time": "2024-09-27T12:04:45.262Z"
   },
   {
    "duration": 17,
    "start_time": "2024-09-27T12:04:45.308Z"
   },
   {
    "duration": 42,
    "start_time": "2024-09-27T12:04:45.327Z"
   },
   {
    "duration": 239,
    "start_time": "2024-09-27T12:04:45.370Z"
   },
   {
    "duration": 11,
    "start_time": "2024-09-27T12:04:45.611Z"
   },
   {
    "duration": 16,
    "start_time": "2024-09-27T12:04:45.623Z"
   },
   {
    "duration": 25,
    "start_time": "2024-09-27T12:04:45.641Z"
   },
   {
    "duration": 444,
    "start_time": "2024-09-27T12:04:45.668Z"
   },
   {
    "duration": 14,
    "start_time": "2024-09-27T12:04:46.114Z"
   },
   {
    "duration": 16,
    "start_time": "2024-09-27T12:04:46.129Z"
   },
   {
    "duration": 13,
    "start_time": "2024-09-27T12:04:46.146Z"
   },
   {
    "duration": 41,
    "start_time": "2024-09-27T12:04:46.160Z"
   },
   {
    "duration": 48,
    "start_time": "2024-09-27T12:04:46.202Z"
   },
   {
    "duration": 9,
    "start_time": "2024-09-27T12:04:46.252Z"
   },
   {
    "duration": 29,
    "start_time": "2024-09-27T15:01:35.055Z"
   },
   {
    "duration": 27,
    "start_time": "2024-09-27T15:01:59.304Z"
   },
   {
    "duration": 10,
    "start_time": "2024-09-27T15:02:12.405Z"
   },
   {
    "duration": 16,
    "start_time": "2024-09-27T15:02:27.087Z"
   },
   {
    "duration": 388,
    "start_time": "2024-09-27T15:03:32.402Z"
   },
   {
    "duration": 381,
    "start_time": "2024-09-27T15:04:55.530Z"
   },
   {
    "duration": 406,
    "start_time": "2024-09-27T15:05:04.721Z"
   },
   {
    "duration": 4,
    "start_time": "2024-09-27T15:05:44.525Z"
   },
   {
    "duration": 296,
    "start_time": "2024-09-27T15:05:48.632Z"
   },
   {
    "duration": 323,
    "start_time": "2024-09-27T15:05:52.690Z"
   },
   {
    "duration": 338,
    "start_time": "2024-09-27T15:06:05.650Z"
   },
   {
    "duration": 463,
    "start_time": "2024-09-27T15:06:08.545Z"
   },
   {
    "duration": 4,
    "start_time": "2024-09-27T15:06:39.673Z"
   },
   {
    "duration": 341,
    "start_time": "2024-09-27T15:06:40.588Z"
   },
   {
    "duration": 300,
    "start_time": "2024-09-27T15:06:42.029Z"
   },
   {
    "duration": 7,
    "start_time": "2024-09-27T15:06:44.045Z"
   },
   {
    "duration": 326,
    "start_time": "2024-09-27T15:15:40.245Z"
   },
   {
    "duration": 318,
    "start_time": "2024-09-27T15:15:43.143Z"
   },
   {
    "duration": 9,
    "start_time": "2024-09-27T15:15:46.027Z"
   },
   {
    "duration": 5,
    "start_time": "2024-09-27T15:20:23.486Z"
   },
   {
    "duration": 16,
    "start_time": "2024-09-27T15:30:28.689Z"
   },
   {
    "duration": 16,
    "start_time": "2024-09-27T15:31:07.800Z"
   },
   {
    "duration": 23,
    "start_time": "2024-09-27T15:32:38.552Z"
   },
   {
    "duration": 5,
    "start_time": "2024-09-27T15:33:00.479Z"
   },
   {
    "duration": 26,
    "start_time": "2024-09-27T15:37:00.897Z"
   },
   {
    "duration": 23,
    "start_time": "2024-09-27T15:37:12.528Z"
   },
   {
    "duration": 18,
    "start_time": "2024-09-27T15:37:40.245Z"
   },
   {
    "duration": 12,
    "start_time": "2024-09-27T15:39:00.335Z"
   },
   {
    "duration": 24,
    "start_time": "2024-09-27T15:39:15.189Z"
   },
   {
    "duration": 19,
    "start_time": "2024-09-27T15:39:26.323Z"
   },
   {
    "duration": 17,
    "start_time": "2024-09-27T15:39:45.471Z"
   },
   {
    "duration": 4,
    "start_time": "2024-09-27T15:40:03.264Z"
   },
   {
    "duration": 20,
    "start_time": "2024-09-27T15:40:12.870Z"
   },
   {
    "duration": 23,
    "start_time": "2024-09-27T15:40:28.175Z"
   },
   {
    "duration": 14,
    "start_time": "2024-09-27T15:44:47.136Z"
   },
   {
    "duration": 255,
    "start_time": "2024-09-27T15:44:55.501Z"
   },
   {
    "duration": 1157,
    "start_time": "2024-09-27T15:48:46.543Z"
   },
   {
    "duration": 130,
    "start_time": "2024-09-27T15:48:47.702Z"
   },
   {
    "duration": 6,
    "start_time": "2024-09-27T15:48:47.833Z"
   },
   {
    "duration": 6,
    "start_time": "2024-09-27T15:48:47.841Z"
   },
   {
    "duration": 3,
    "start_time": "2024-09-27T15:48:47.848Z"
   },
   {
    "duration": 15,
    "start_time": "2024-09-27T15:48:47.853Z"
   },
   {
    "duration": 10,
    "start_time": "2024-09-27T15:48:47.870Z"
   },
   {
    "duration": 49,
    "start_time": "2024-09-27T15:48:47.881Z"
   },
   {
    "duration": 22,
    "start_time": "2024-09-27T15:48:47.932Z"
   },
   {
    "duration": 29,
    "start_time": "2024-09-27T15:48:47.957Z"
   },
   {
    "duration": 63,
    "start_time": "2024-09-27T15:48:47.988Z"
   },
   {
    "duration": 13,
    "start_time": "2024-09-27T15:48:48.053Z"
   },
   {
    "duration": 18,
    "start_time": "2024-09-27T15:48:48.067Z"
   },
   {
    "duration": 35,
    "start_time": "2024-09-27T15:48:48.086Z"
   },
   {
    "duration": 15,
    "start_time": "2024-09-27T15:48:48.122Z"
   },
   {
    "duration": 27,
    "start_time": "2024-09-27T15:48:48.138Z"
   },
   {
    "duration": 12,
    "start_time": "2024-09-27T15:48:48.166Z"
   },
   {
    "duration": 209,
    "start_time": "2024-09-27T15:48:48.179Z"
   },
   {
    "duration": 14,
    "start_time": "2024-09-27T15:48:48.390Z"
   },
   {
    "duration": 446,
    "start_time": "2024-09-27T15:48:48.405Z"
   },
   {
    "duration": 2,
    "start_time": "2024-09-27T15:48:48.853Z"
   },
   {
    "duration": 17,
    "start_time": "2024-09-27T15:48:48.857Z"
   },
   {
    "duration": 28,
    "start_time": "2024-09-27T15:48:48.876Z"
   },
   {
    "duration": 23,
    "start_time": "2024-09-27T15:48:48.906Z"
   },
   {
    "duration": 445,
    "start_time": "2024-09-27T15:48:48.931Z"
   },
   {
    "duration": 27,
    "start_time": "2024-09-27T15:48:49.377Z"
   },
   {
    "duration": 15,
    "start_time": "2024-09-27T15:48:49.406Z"
   },
   {
    "duration": 18,
    "start_time": "2024-09-27T15:48:49.425Z"
   },
   {
    "duration": 420,
    "start_time": "2024-09-27T15:48:49.445Z"
   },
   {
    "duration": 358,
    "start_time": "2024-09-27T15:48:49.867Z"
   },
   {
    "duration": 414,
    "start_time": "2024-09-27T15:48:50.227Z"
   },
   {
    "duration": 5,
    "start_time": "2024-09-27T15:48:50.643Z"
   },
   {
    "duration": 354,
    "start_time": "2024-09-27T15:48:50.650Z"
   },
   {
    "duration": 408,
    "start_time": "2024-09-27T15:48:51.006Z"
   },
   {
    "duration": 7,
    "start_time": "2024-09-27T15:48:51.421Z"
   },
   {
    "duration": 17,
    "start_time": "2024-09-27T15:48:51.429Z"
   },
   {
    "duration": 28,
    "start_time": "2024-09-27T15:48:51.447Z"
   },
   {
    "duration": 12,
    "start_time": "2024-09-27T15:48:51.477Z"
   },
   {
    "duration": 4,
    "start_time": "2024-09-27T15:48:51.491Z"
   },
   {
    "duration": 269,
    "start_time": "2024-09-27T15:48:51.497Z"
   },
   {
    "duration": 13,
    "start_time": "2024-09-27T15:48:51.768Z"
   },
   {
    "duration": 42,
    "start_time": "2024-09-27T15:48:51.783Z"
   },
   {
    "duration": 38,
    "start_time": "2024-09-27T15:48:51.827Z"
   },
   {
    "duration": 485,
    "start_time": "2024-09-27T15:48:51.867Z"
   },
   {
    "duration": 17,
    "start_time": "2024-09-27T15:48:52.354Z"
   },
   {
    "duration": 20,
    "start_time": "2024-09-27T15:48:52.373Z"
   },
   {
    "duration": 38,
    "start_time": "2024-09-27T15:48:52.395Z"
   },
   {
    "duration": 38,
    "start_time": "2024-09-27T15:48:52.435Z"
   },
   {
    "duration": 8,
    "start_time": "2024-09-27T15:48:52.476Z"
   },
   {
    "duration": 17,
    "start_time": "2024-09-27T15:48:52.486Z"
   },
   {
    "duration": 13,
    "start_time": "2024-09-27T15:50:07.442Z"
   },
   {
    "duration": 236,
    "start_time": "2024-09-27T15:50:12.169Z"
   },
   {
    "duration": 12,
    "start_time": "2024-09-27T15:51:12.123Z"
   },
   {
    "duration": 8,
    "start_time": "2024-09-27T15:51:13.442Z"
   },
   {
    "duration": 19,
    "start_time": "2024-09-27T15:51:14.409Z"
   },
   {
    "duration": 489,
    "start_time": "2024-09-27T15:51:16.462Z"
   },
   {
    "duration": 15,
    "start_time": "2024-09-27T15:53:27.930Z"
   },
   {
    "duration": 19,
    "start_time": "2024-09-27T15:53:31.938Z"
   },
   {
    "duration": 15,
    "start_time": "2024-09-27T15:55:00.858Z"
   },
   {
    "duration": 21,
    "start_time": "2024-09-27T15:55:01.830Z"
   },
   {
    "duration": 912,
    "start_time": "2024-09-27T15:58:23.693Z"
   },
   {
    "duration": 310,
    "start_time": "2024-09-27T15:59:49.701Z"
   },
   {
    "duration": 402,
    "start_time": "2024-09-27T16:00:15.977Z"
   },
   {
    "duration": 319,
    "start_time": "2024-09-27T16:00:20.859Z"
   },
   {
    "duration": 281,
    "start_time": "2024-09-27T16:00:48.641Z"
   },
   {
    "duration": 299,
    "start_time": "2024-09-27T16:01:03.873Z"
   },
   {
    "duration": 849,
    "start_time": "2024-09-27T16:04:54.029Z"
   },
   {
    "duration": 302,
    "start_time": "2024-09-27T16:06:09.461Z"
   },
   {
    "duration": 289,
    "start_time": "2024-09-27T16:06:22.816Z"
   },
   {
    "duration": 291,
    "start_time": "2024-09-27T16:06:34.931Z"
   },
   {
    "duration": 8,
    "start_time": "2024-09-27T16:07:23.738Z"
   },
   {
    "duration": 8,
    "start_time": "2024-09-27T16:07:42.159Z"
   },
   {
    "duration": 9,
    "start_time": "2024-09-27T16:08:28.664Z"
   },
   {
    "duration": 8,
    "start_time": "2024-09-27T16:08:49.621Z"
   },
   {
    "duration": 82,
    "start_time": "2024-09-27T16:09:41.008Z"
   },
   {
    "duration": 8,
    "start_time": "2024-09-27T16:10:06.814Z"
   },
   {
    "duration": 1180,
    "start_time": "2024-09-27T18:59:17.086Z"
   },
   {
    "duration": 235,
    "start_time": "2024-09-27T18:59:18.268Z"
   },
   {
    "duration": 5,
    "start_time": "2024-09-27T18:59:18.504Z"
   },
   {
    "duration": 6,
    "start_time": "2024-09-27T18:59:18.511Z"
   },
   {
    "duration": 6,
    "start_time": "2024-09-27T18:59:18.519Z"
   },
   {
    "duration": 21,
    "start_time": "2024-09-27T18:59:18.527Z"
   },
   {
    "duration": 11,
    "start_time": "2024-09-27T18:59:18.550Z"
   },
   {
    "duration": 18,
    "start_time": "2024-09-27T18:59:18.563Z"
   },
   {
    "duration": 22,
    "start_time": "2024-09-27T18:59:18.583Z"
   },
   {
    "duration": 57,
    "start_time": "2024-09-27T18:59:18.609Z"
   },
   {
    "duration": 42,
    "start_time": "2024-09-27T18:59:18.668Z"
   },
   {
    "duration": 40,
    "start_time": "2024-09-27T18:59:18.711Z"
   },
   {
    "duration": 11,
    "start_time": "2024-09-27T18:59:18.752Z"
   },
   {
    "duration": 18,
    "start_time": "2024-09-27T18:59:18.765Z"
   },
   {
    "duration": 13,
    "start_time": "2024-09-27T18:59:18.784Z"
   },
   {
    "duration": 23,
    "start_time": "2024-09-27T18:59:18.799Z"
   },
   {
    "duration": 12,
    "start_time": "2024-09-27T18:59:18.846Z"
   },
   {
    "duration": 190,
    "start_time": "2024-09-27T18:59:18.859Z"
   },
   {
    "duration": 14,
    "start_time": "2024-09-27T18:59:19.051Z"
   },
   {
    "duration": 429,
    "start_time": "2024-09-27T18:59:19.066Z"
   },
   {
    "duration": 3,
    "start_time": "2024-09-27T18:59:19.496Z"
   },
   {
    "duration": 13,
    "start_time": "2024-09-27T18:59:19.501Z"
   },
   {
    "duration": 7,
    "start_time": "2024-09-27T18:59:19.516Z"
   },
   {
    "duration": 35,
    "start_time": "2024-09-27T18:59:19.525Z"
   },
   {
    "duration": 423,
    "start_time": "2024-09-27T18:59:19.562Z"
   },
   {
    "duration": 30,
    "start_time": "2024-09-27T18:59:19.986Z"
   },
   {
    "duration": 28,
    "start_time": "2024-09-27T18:59:20.018Z"
   },
   {
    "duration": 17,
    "start_time": "2024-09-27T18:59:20.051Z"
   },
   {
    "duration": 419,
    "start_time": "2024-09-27T18:59:20.070Z"
   },
   {
    "duration": 378,
    "start_time": "2024-09-27T18:59:20.490Z"
   },
   {
    "duration": 353,
    "start_time": "2024-09-27T18:59:20.870Z"
   },
   {
    "duration": 4,
    "start_time": "2024-09-27T18:59:21.225Z"
   },
   {
    "duration": 336,
    "start_time": "2024-09-27T18:59:21.230Z"
   },
   {
    "duration": 382,
    "start_time": "2024-09-27T18:59:21.568Z"
   },
   {
    "duration": 8,
    "start_time": "2024-09-27T18:59:21.952Z"
   },
   {
    "duration": 12,
    "start_time": "2024-09-27T18:59:21.961Z"
   },
   {
    "duration": 43,
    "start_time": "2024-09-27T18:59:21.975Z"
   },
   {
    "duration": 12,
    "start_time": "2024-09-27T18:59:22.020Z"
   },
   {
    "duration": 3,
    "start_time": "2024-09-27T18:59:22.033Z"
   },
   {
    "duration": 283,
    "start_time": "2024-09-27T18:59:22.045Z"
   },
   {
    "duration": 21,
    "start_time": "2024-09-27T18:59:22.331Z"
   },
   {
    "duration": 28,
    "start_time": "2024-09-27T18:59:22.354Z"
   },
   {
    "duration": 28,
    "start_time": "2024-09-27T18:59:22.384Z"
   },
   {
    "duration": 518,
    "start_time": "2024-09-27T18:59:22.414Z"
   },
   {
    "duration": 22,
    "start_time": "2024-09-27T18:59:22.934Z"
   },
   {
    "duration": 275,
    "start_time": "2024-09-27T18:59:22.957Z"
   },
   {
    "duration": 292,
    "start_time": "2024-09-27T18:59:23.233Z"
   },
   {
    "duration": 301,
    "start_time": "2024-09-27T18:59:23.526Z"
   },
   {
    "duration": 27,
    "start_time": "2024-09-27T18:59:23.829Z"
   },
   {
    "duration": 270,
    "start_time": "2024-09-27T18:59:23.857Z"
   },
   {
    "duration": 310,
    "start_time": "2024-09-27T18:59:24.129Z"
   },
   {
    "duration": 287,
    "start_time": "2024-09-27T18:59:24.448Z"
   },
   {
    "duration": 9,
    "start_time": "2024-09-27T18:59:24.746Z"
   },
   {
    "duration": 12,
    "start_time": "2024-09-27T18:59:24.757Z"
   },
   {
    "duration": 1286,
    "start_time": "2025-05-14T10:26:30.965Z"
   },
   {
    "duration": 116,
    "start_time": "2025-05-14T10:26:32.254Z"
   },
   {
    "duration": 5,
    "start_time": "2025-05-14T10:26:32.371Z"
   },
   {
    "duration": 14,
    "start_time": "2025-05-14T10:26:32.377Z"
   },
   {
    "duration": 10,
    "start_time": "2025-05-14T10:26:32.393Z"
   },
   {
    "duration": 27,
    "start_time": "2025-05-14T10:26:32.405Z"
   },
   {
    "duration": 17,
    "start_time": "2025-05-14T10:26:32.433Z"
   },
   {
    "duration": 17,
    "start_time": "2025-05-14T10:26:32.451Z"
   },
   {
    "duration": 27,
    "start_time": "2025-05-14T10:26:32.469Z"
   },
   {
    "duration": 21,
    "start_time": "2025-05-14T10:26:32.497Z"
   },
   {
    "duration": 55,
    "start_time": "2025-05-14T10:26:32.520Z"
   },
   {
    "duration": 12,
    "start_time": "2025-05-14T10:26:32.577Z"
   },
   {
    "duration": 9,
    "start_time": "2025-05-14T10:26:32.591Z"
   },
   {
    "duration": 10,
    "start_time": "2025-05-14T10:26:32.604Z"
   },
   {
    "duration": 29,
    "start_time": "2025-05-14T10:26:32.616Z"
   },
   {
    "duration": 21,
    "start_time": "2025-05-14T10:26:32.647Z"
   },
   {
    "duration": 9,
    "start_time": "2025-05-14T10:26:32.670Z"
   },
   {
    "duration": 187,
    "start_time": "2025-05-14T10:26:32.681Z"
   },
   {
    "duration": 12,
    "start_time": "2025-05-14T10:26:32.870Z"
   },
   {
    "duration": 495,
    "start_time": "2025-05-14T10:26:32.884Z"
   },
   {
    "duration": 4,
    "start_time": "2025-05-14T10:26:33.381Z"
   },
   {
    "duration": 13,
    "start_time": "2025-05-14T10:26:33.387Z"
   },
   {
    "duration": 18,
    "start_time": "2025-05-14T10:26:33.402Z"
   },
   {
    "duration": 25,
    "start_time": "2025-05-14T10:26:33.422Z"
   },
   {
    "duration": 423,
    "start_time": "2025-05-14T10:26:33.449Z"
   },
   {
    "duration": 27,
    "start_time": "2025-05-14T10:26:33.875Z"
   },
   {
    "duration": 10,
    "start_time": "2025-05-14T10:26:33.904Z"
   },
   {
    "duration": 38,
    "start_time": "2025-05-14T10:26:33.915Z"
   },
   {
    "duration": 414,
    "start_time": "2025-05-14T10:26:33.955Z"
   },
   {
    "duration": 371,
    "start_time": "2025-05-14T10:26:34.370Z"
   },
   {
    "duration": 362,
    "start_time": "2025-05-14T10:26:34.742Z"
   },
   {
    "duration": 4,
    "start_time": "2025-05-14T10:26:35.106Z"
   },
   {
    "duration": 305,
    "start_time": "2025-05-14T10:26:35.111Z"
   },
   {
    "duration": 407,
    "start_time": "2025-05-14T10:26:35.418Z"
   },
   {
    "duration": 6,
    "start_time": "2025-05-14T10:26:35.835Z"
   },
   {
    "duration": 4,
    "start_time": "2025-05-14T10:26:35.843Z"
   },
   {
    "duration": 22,
    "start_time": "2025-05-14T10:26:35.848Z"
   },
   {
    "duration": 11,
    "start_time": "2025-05-14T10:26:35.871Z"
   },
   {
    "duration": 4,
    "start_time": "2025-05-14T10:26:35.884Z"
   },
   {
    "duration": 249,
    "start_time": "2025-05-14T10:26:35.889Z"
   },
   {
    "duration": 11,
    "start_time": "2025-05-14T10:26:36.141Z"
   },
   {
    "duration": 42,
    "start_time": "2025-05-14T10:26:36.153Z"
   },
   {
    "duration": 20,
    "start_time": "2025-05-14T10:26:36.196Z"
   },
   {
    "duration": 443,
    "start_time": "2025-05-14T10:26:36.218Z"
   },
   {
    "duration": 15,
    "start_time": "2025-05-14T10:26:36.663Z"
   },
   {
    "duration": 312,
    "start_time": "2025-05-14T10:26:36.680Z"
   },
   {
    "duration": 315,
    "start_time": "2025-05-14T10:26:36.994Z"
   },
   {
    "duration": 277,
    "start_time": "2025-05-14T10:26:37.311Z"
   },
   {
    "duration": 14,
    "start_time": "2025-05-14T10:26:37.589Z"
   },
   {
    "duration": 288,
    "start_time": "2025-05-14T10:26:37.604Z"
   },
   {
    "duration": 286,
    "start_time": "2025-05-14T10:26:37.894Z"
   },
   {
    "duration": 304,
    "start_time": "2025-05-14T10:26:38.182Z"
   },
   {
    "duration": 8,
    "start_time": "2025-05-14T10:26:38.488Z"
   },
   {
    "duration": 16,
    "start_time": "2025-05-14T10:26:38.497Z"
   },
   {
    "duration": 845,
    "start_time": "2025-05-16T11:28:12.990Z"
   },
   {
    "duration": 141,
    "start_time": "2025-05-16T11:29:08.993Z"
   },
   {
    "duration": 136,
    "start_time": "2025-05-16T11:29:16.321Z"
   },
   {
    "duration": 135,
    "start_time": "2025-05-16T11:29:20.872Z"
   },
   {
    "duration": 139,
    "start_time": "2025-05-16T11:29:24.482Z"
   },
   {
    "duration": 134,
    "start_time": "2025-05-16T11:29:38.684Z"
   },
   {
    "duration": 131,
    "start_time": "2025-05-16T11:29:44.561Z"
   },
   {
    "duration": 131,
    "start_time": "2025-05-16T11:29:56.464Z"
   },
   {
    "duration": 198,
    "start_time": "2025-05-16T11:30:04.174Z"
   },
   {
    "duration": 131,
    "start_time": "2025-05-16T11:30:07.968Z"
   },
   {
    "duration": 127,
    "start_time": "2025-05-16T11:30:11.931Z"
   },
   {
    "duration": 197,
    "start_time": "2025-05-16T11:30:15.002Z"
   },
   {
    "duration": 130,
    "start_time": "2025-05-16T11:30:17.897Z"
   },
   {
    "duration": 129,
    "start_time": "2025-05-16T11:30:21.091Z"
   },
   {
    "duration": 129,
    "start_time": "2025-05-16T11:30:25.119Z"
   },
   {
    "duration": 150,
    "start_time": "2025-05-16T11:30:29.378Z"
   },
   {
    "duration": 127,
    "start_time": "2025-05-16T11:30:32.922Z"
   },
   {
    "duration": 138,
    "start_time": "2025-05-16T11:30:36.439Z"
   },
   {
    "duration": 135,
    "start_time": "2025-05-16T11:30:39.208Z"
   },
   {
    "duration": 132,
    "start_time": "2025-05-16T11:30:41.898Z"
   },
   {
    "duration": 136,
    "start_time": "2025-05-16T11:31:55.544Z"
   },
   {
    "duration": 129,
    "start_time": "2025-05-16T11:31:58.671Z"
   },
   {
    "duration": 193,
    "start_time": "2025-05-16T11:32:01.995Z"
   },
   {
    "duration": 144,
    "start_time": "2025-05-16T11:32:05.556Z"
   },
   {
    "duration": 128,
    "start_time": "2025-05-16T11:32:12.559Z"
   },
   {
    "duration": 128,
    "start_time": "2025-05-16T11:32:16.128Z"
   },
   {
    "duration": 124,
    "start_time": "2025-05-16T11:35:35.304Z"
   },
   {
    "duration": 133,
    "start_time": "2025-05-16T11:35:40.497Z"
   },
   {
    "duration": 999,
    "start_time": "2025-05-19T05:26:12.369Z"
   },
   {
    "duration": 172,
    "start_time": "2025-05-21T11:12:15.298Z"
   },
   {
    "duration": 1207,
    "start_time": "2025-05-21T11:30:31.390Z"
   },
   {
    "duration": 122,
    "start_time": "2025-05-21T11:33:55.774Z"
   },
   {
    "duration": 939,
    "start_time": "2025-05-21T11:35:30.966Z"
   },
   {
    "duration": 679,
    "start_time": "2025-05-21T11:35:40.063Z"
   },
   {
    "duration": 853,
    "start_time": "2025-05-21T11:35:46.500Z"
   },
   {
    "duration": 778,
    "start_time": "2025-05-21T11:35:52.411Z"
   },
   {
    "duration": 795,
    "start_time": "2025-05-21T11:35:59.170Z"
   },
   {
    "duration": 557,
    "start_time": "2025-05-21T11:57:12.389Z"
   },
   {
    "duration": 60,
    "start_time": "2025-05-21T11:57:24.439Z"
   },
   {
    "duration": 70,
    "start_time": "2025-05-21T11:57:27.959Z"
   },
   {
    "duration": 75,
    "start_time": "2025-05-21T11:57:34.178Z"
   },
   {
    "duration": 981,
    "start_time": "2025-05-23T06:43:23.600Z"
   },
   {
    "duration": 189,
    "start_time": "2025-05-23T11:02:02.070Z"
   },
   {
    "duration": 1334,
    "start_time": "2025-06-23T12:05:55.597Z"
   },
   {
    "duration": 132,
    "start_time": "2025-06-23T12:05:56.934Z"
   },
   {
    "duration": 6,
    "start_time": "2025-06-23T12:05:57.068Z"
   },
   {
    "duration": 43,
    "start_time": "2025-06-23T12:05:57.076Z"
   },
   {
    "duration": 5,
    "start_time": "2025-06-23T12:05:57.120Z"
   },
   {
    "duration": 16,
    "start_time": "2025-06-23T12:05:57.127Z"
   },
   {
    "duration": 23,
    "start_time": "2025-06-23T12:05:57.144Z"
   },
   {
    "duration": 17,
    "start_time": "2025-06-23T12:05:57.168Z"
   },
   {
    "duration": 16,
    "start_time": "2025-06-23T12:05:57.187Z"
   },
   {
    "duration": 35,
    "start_time": "2025-06-23T12:05:57.205Z"
   },
   {
    "duration": 45,
    "start_time": "2025-06-23T12:05:57.242Z"
   },
   {
    "duration": 12,
    "start_time": "2025-06-23T12:05:57.288Z"
   },
   {
    "duration": 8,
    "start_time": "2025-06-23T12:05:57.302Z"
   },
   {
    "duration": 35,
    "start_time": "2025-06-23T12:05:57.311Z"
   },
   {
    "duration": 21,
    "start_time": "2025-06-23T12:05:57.349Z"
   },
   {
    "duration": 47,
    "start_time": "2025-06-23T12:05:57.372Z"
   },
   {
    "duration": 14,
    "start_time": "2025-06-23T12:05:57.421Z"
   },
   {
    "duration": 200,
    "start_time": "2025-06-23T12:05:57.437Z"
   },
   {
    "duration": 13,
    "start_time": "2025-06-23T12:05:57.639Z"
   },
   {
    "duration": 561,
    "start_time": "2025-06-23T12:05:57.653Z"
   },
   {
    "duration": 4,
    "start_time": "2025-06-23T12:05:58.215Z"
   },
   {
    "duration": 12,
    "start_time": "2025-06-23T12:05:58.220Z"
   },
   {
    "duration": 18,
    "start_time": "2025-06-23T12:05:58.234Z"
   },
   {
    "duration": 20,
    "start_time": "2025-06-23T12:05:58.254Z"
   },
   {
    "duration": 388,
    "start_time": "2025-06-23T12:05:58.276Z"
   },
   {
    "duration": 27,
    "start_time": "2025-06-23T12:05:58.666Z"
   },
   {
    "duration": 18,
    "start_time": "2025-06-23T12:05:58.695Z"
   },
   {
    "duration": 28,
    "start_time": "2025-06-23T12:05:58.716Z"
   },
   {
    "duration": 385,
    "start_time": "2025-06-23T12:05:58.746Z"
   },
   {
    "duration": 378,
    "start_time": "2025-06-23T12:05:59.133Z"
   },
   {
    "duration": 336,
    "start_time": "2025-06-23T12:05:59.513Z"
   },
   {
    "duration": 4,
    "start_time": "2025-06-23T12:05:59.851Z"
   },
   {
    "duration": 307,
    "start_time": "2025-06-23T12:05:59.857Z"
   },
   {
    "duration": 383,
    "start_time": "2025-06-23T12:06:00.166Z"
   },
   {
    "duration": 8,
    "start_time": "2025-06-23T12:06:00.551Z"
   },
   {
    "duration": 30,
    "start_time": "2025-06-23T12:06:00.561Z"
   },
   {
    "duration": 58,
    "start_time": "2025-06-23T12:06:00.593Z"
   },
   {
    "duration": 34,
    "start_time": "2025-06-23T12:06:00.654Z"
   },
   {
    "duration": 7,
    "start_time": "2025-06-23T12:06:00.690Z"
   },
   {
    "duration": 259,
    "start_time": "2025-06-23T12:06:00.698Z"
   },
   {
    "duration": 15,
    "start_time": "2025-06-23T12:06:00.960Z"
   },
   {
    "duration": 59,
    "start_time": "2025-06-23T12:06:00.978Z"
   },
   {
    "duration": 149,
    "start_time": "2025-06-23T12:06:01.039Z"
   },
   {
    "duration": 472,
    "start_time": "2025-06-23T12:06:01.190Z"
   },
   {
    "duration": 17,
    "start_time": "2025-06-23T12:06:01.664Z"
   },
   {
    "duration": 479,
    "start_time": "2025-06-23T12:06:01.682Z"
   },
   {
    "duration": 257,
    "start_time": "2025-06-23T12:06:02.162Z"
   },
   {
    "duration": 269,
    "start_time": "2025-06-23T12:06:02.440Z"
   },
   {
    "duration": 28,
    "start_time": "2025-06-23T12:06:02.711Z"
   },
   {
    "duration": 273,
    "start_time": "2025-06-23T12:06:02.740Z"
   },
   {
    "duration": 285,
    "start_time": "2025-06-23T12:06:03.015Z"
   },
   {
    "duration": 309,
    "start_time": "2025-06-23T12:06:03.302Z"
   },
   {
    "duration": 8,
    "start_time": "2025-06-23T12:06:03.612Z"
   },
   {
    "duration": 21,
    "start_time": "2025-06-23T12:06:03.622Z"
   }
  ],
  "kernelspec": {
   "display_name": "Python 3 (ipykernel)",
   "language": "python",
   "name": "python3"
  },
  "language_info": {
   "codemirror_mode": {
    "name": "ipython",
    "version": 3
   },
   "file_extension": ".py",
   "mimetype": "text/x-python",
   "name": "python",
   "nbconvert_exporter": "python",
   "pygments_lexer": "ipython3",
   "version": "3.9.5"
  },
  "toc": {
   "base_numbering": 1,
   "nav_menu": {},
   "number_sections": true,
   "sideBar": true,
   "skip_h1_title": true,
   "title_cell": "Table of Contents",
   "title_sidebar": "Contents",
   "toc_cell": false,
   "toc_position": {},
   "toc_section_display": true,
   "toc_window_display": true
  }
 },
 "nbformat": 4,
 "nbformat_minor": 2
}
