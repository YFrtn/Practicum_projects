{
 "cells": [
  {
   "cell_type": "markdown",
   "metadata": {},
   "source": [
    "# Определение стоимости автомобилей"
   ]
  },
  {
   "cell_type": "markdown",
   "metadata": {},
   "source": [
    "Сервис по продаже автомобилей с пробегом «Не бит, не крашен» разрабатывает приложение для привлечения новых клиентов. В нём можно быстро узнать рыночную стоимость своего автомобиля. В вашем распоряжении исторические данные: технические характеристики, комплектации и цены автомобилей. Вам нужно построить модель для определения стоимости. \n",
    "\n",
    "Заказчику важны:\n",
    "\n",
    "- качество предсказания;\n",
    "- скорость предсказания;\n",
    "- время обучения."
   ]
  },
  {
   "cell_type": "markdown",
   "metadata": {},
   "source": [
    "## Подготовка данных"
   ]
  },
  {
   "cell_type": "code",
   "execution_count": 1,
   "metadata": {},
   "outputs": [
    {
     "name": "stdout",
     "output_type": "stream",
     "text": [
      "Requirement already satisfied: phik in /opt/conda/lib/python3.9/site-packages (0.12.4)\n",
      "Requirement already satisfied: matplotlib>=2.2.3 in /opt/conda/lib/python3.9/site-packages (from phik) (3.3.4)\n",
      "Requirement already satisfied: pandas>=0.25.1 in /opt/conda/lib/python3.9/site-packages (from phik) (1.2.4)\n",
      "Requirement already satisfied: scipy>=1.5.2 in /opt/conda/lib/python3.9/site-packages (from phik) (1.9.1)\n",
      "Requirement already satisfied: numpy>=1.18.0 in /opt/conda/lib/python3.9/site-packages (from phik) (1.21.1)\n",
      "Requirement already satisfied: joblib>=0.14.1 in /opt/conda/lib/python3.9/site-packages (from phik) (1.4.2)\n",
      "Requirement already satisfied: cycler>=0.10 in /opt/conda/lib/python3.9/site-packages (from matplotlib>=2.2.3->phik) (0.11.0)\n",
      "Requirement already satisfied: pillow>=6.2.0 in /opt/conda/lib/python3.9/site-packages (from matplotlib>=2.2.3->phik) (8.4.0)\n",
      "Requirement already satisfied: pyparsing!=2.0.4,!=2.1.2,!=2.1.6,>=2.0.3 in /opt/conda/lib/python3.9/site-packages (from matplotlib>=2.2.3->phik) (2.4.7)\n",
      "Requirement already satisfied: kiwisolver>=1.0.1 in /opt/conda/lib/python3.9/site-packages (from matplotlib>=2.2.3->phik) (1.4.4)\n",
      "Requirement already satisfied: python-dateutil>=2.1 in /opt/conda/lib/python3.9/site-packages (from matplotlib>=2.2.3->phik) (2.8.1)\n",
      "Requirement already satisfied: pytz>=2017.3 in /opt/conda/lib/python3.9/site-packages (from pandas>=0.25.1->phik) (2021.1)\n",
      "Requirement already satisfied: six>=1.5 in /opt/conda/lib/python3.9/site-packages (from python-dateutil>=2.1->matplotlib>=2.2.3->phik) (1.16.0)\n"
     ]
    }
   ],
   "source": [
    "!pip install phik\n",
    "\n",
    "import pandas as pd\n",
    "import numpy as np\n",
    "import matplotlib.pyplot as plt\n",
    "import seaborn as sns\n",
    "import time\n",
    "import re\n",
    "import phik\n",
    "\n",
    "from sklearn.model_selection import train_test_split\n",
    "from sklearn.preprocessing import OrdinalEncoder\n",
    "from sklearn.metrics import mean_squared_error\n",
    "from sklearn.tree import DecisionTreeRegressor\n",
    "from sklearn.ensemble import RandomForestRegressor\n",
    "import lightgbm as lgb\n",
    "\n",
    "# Константы\n",
    "RANDOM_STATE = 42\n",
    "\n",
    "\n",
    "plt.rcParams[\"figure.figsize\"] = (14, 7)\n"
   ]
  },
  {
   "cell_type": "code",
   "execution_count": 2,
   "metadata": {},
   "outputs": [],
   "source": [
    "# загрузка данных\n",
    "\n",
    "try:\n",
    "    df = pd.read_csv('https://code.s3.yandex.net/datasets/autos.csv')\n",
    "except:\n",
    "    df = pd.read_csv('/datasets/autos.csv')\n"
   ]
  },
  {
   "cell_type": "code",
   "execution_count": 3,
   "metadata": {
    "scrolled": true
   },
   "outputs": [
    {
     "name": "stdout",
     "output_type": "stream",
     "text": [
      "<class 'pandas.core.frame.DataFrame'>\n",
      "RangeIndex: 354369 entries, 0 to 354368\n",
      "Data columns (total 16 columns):\n",
      " #   Column             Non-Null Count   Dtype \n",
      "---  ------             --------------   ----- \n",
      " 0   DateCrawled        354369 non-null  object\n",
      " 1   Price              354369 non-null  int64 \n",
      " 2   VehicleType        316879 non-null  object\n",
      " 3   RegistrationYear   354369 non-null  int64 \n",
      " 4   Gearbox            334536 non-null  object\n",
      " 5   Power              354369 non-null  int64 \n",
      " 6   Model              334664 non-null  object\n",
      " 7   Kilometer          354369 non-null  int64 \n",
      " 8   RegistrationMonth  354369 non-null  int64 \n",
      " 9   FuelType           321474 non-null  object\n",
      " 10  Brand              354369 non-null  object\n",
      " 11  Repaired           283215 non-null  object\n",
      " 12  DateCreated        354369 non-null  object\n",
      " 13  NumberOfPictures   354369 non-null  int64 \n",
      " 14  PostalCode         354369 non-null  int64 \n",
      " 15  LastSeen           354369 non-null  object\n",
      "dtypes: int64(7), object(9)\n",
      "memory usage: 43.3+ MB\n"
     ]
    },
    {
     "data": {
      "text/plain": [
       "None"
      ]
     },
     "metadata": {},
     "output_type": "display_data"
    },
    {
     "name": "stdout",
     "output_type": "stream",
     "text": [
      "______________________________________________________________________________________________________________________________________________________________________________________________________________________________________\n"
     ]
    },
    {
     "data": {
      "text/html": [
       "<div>\n",
       "<style scoped>\n",
       "    .dataframe tbody tr th:only-of-type {\n",
       "        vertical-align: middle;\n",
       "    }\n",
       "\n",
       "    .dataframe tbody tr th {\n",
       "        vertical-align: top;\n",
       "    }\n",
       "\n",
       "    .dataframe thead th {\n",
       "        text-align: right;\n",
       "    }\n",
       "</style>\n",
       "<table border=\"1\" class=\"dataframe\">\n",
       "  <thead>\n",
       "    <tr style=\"text-align: right;\">\n",
       "      <th></th>\n",
       "      <th>DateCrawled</th>\n",
       "      <th>Price</th>\n",
       "      <th>VehicleType</th>\n",
       "      <th>RegistrationYear</th>\n",
       "      <th>Gearbox</th>\n",
       "      <th>Power</th>\n",
       "      <th>Model</th>\n",
       "      <th>Kilometer</th>\n",
       "      <th>RegistrationMonth</th>\n",
       "      <th>FuelType</th>\n",
       "      <th>Brand</th>\n",
       "      <th>Repaired</th>\n",
       "      <th>DateCreated</th>\n",
       "      <th>NumberOfPictures</th>\n",
       "      <th>PostalCode</th>\n",
       "      <th>LastSeen</th>\n",
       "    </tr>\n",
       "  </thead>\n",
       "  <tbody>\n",
       "    <tr>\n",
       "      <th>0</th>\n",
       "      <td>2016-03-24 11:52:17</td>\n",
       "      <td>480</td>\n",
       "      <td>NaN</td>\n",
       "      <td>1993</td>\n",
       "      <td>manual</td>\n",
       "      <td>0</td>\n",
       "      <td>golf</td>\n",
       "      <td>150000</td>\n",
       "      <td>0</td>\n",
       "      <td>petrol</td>\n",
       "      <td>volkswagen</td>\n",
       "      <td>NaN</td>\n",
       "      <td>2016-03-24 00:00:00</td>\n",
       "      <td>0</td>\n",
       "      <td>70435</td>\n",
       "      <td>2016-04-07 03:16:57</td>\n",
       "    </tr>\n",
       "    <tr>\n",
       "      <th>1</th>\n",
       "      <td>2016-03-24 10:58:45</td>\n",
       "      <td>18300</td>\n",
       "      <td>coupe</td>\n",
       "      <td>2011</td>\n",
       "      <td>manual</td>\n",
       "      <td>190</td>\n",
       "      <td>NaN</td>\n",
       "      <td>125000</td>\n",
       "      <td>5</td>\n",
       "      <td>gasoline</td>\n",
       "      <td>audi</td>\n",
       "      <td>yes</td>\n",
       "      <td>2016-03-24 00:00:00</td>\n",
       "      <td>0</td>\n",
       "      <td>66954</td>\n",
       "      <td>2016-04-07 01:46:50</td>\n",
       "    </tr>\n",
       "    <tr>\n",
       "      <th>2</th>\n",
       "      <td>2016-03-14 12:52:21</td>\n",
       "      <td>9800</td>\n",
       "      <td>suv</td>\n",
       "      <td>2004</td>\n",
       "      <td>auto</td>\n",
       "      <td>163</td>\n",
       "      <td>grand</td>\n",
       "      <td>125000</td>\n",
       "      <td>8</td>\n",
       "      <td>gasoline</td>\n",
       "      <td>jeep</td>\n",
       "      <td>NaN</td>\n",
       "      <td>2016-03-14 00:00:00</td>\n",
       "      <td>0</td>\n",
       "      <td>90480</td>\n",
       "      <td>2016-04-05 12:47:46</td>\n",
       "    </tr>\n",
       "    <tr>\n",
       "      <th>3</th>\n",
       "      <td>2016-03-17 16:54:04</td>\n",
       "      <td>1500</td>\n",
       "      <td>small</td>\n",
       "      <td>2001</td>\n",
       "      <td>manual</td>\n",
       "      <td>75</td>\n",
       "      <td>golf</td>\n",
       "      <td>150000</td>\n",
       "      <td>6</td>\n",
       "      <td>petrol</td>\n",
       "      <td>volkswagen</td>\n",
       "      <td>no</td>\n",
       "      <td>2016-03-17 00:00:00</td>\n",
       "      <td>0</td>\n",
       "      <td>91074</td>\n",
       "      <td>2016-03-17 17:40:17</td>\n",
       "    </tr>\n",
       "    <tr>\n",
       "      <th>4</th>\n",
       "      <td>2016-03-31 17:25:20</td>\n",
       "      <td>3600</td>\n",
       "      <td>small</td>\n",
       "      <td>2008</td>\n",
       "      <td>manual</td>\n",
       "      <td>69</td>\n",
       "      <td>fabia</td>\n",
       "      <td>90000</td>\n",
       "      <td>7</td>\n",
       "      <td>gasoline</td>\n",
       "      <td>skoda</td>\n",
       "      <td>no</td>\n",
       "      <td>2016-03-31 00:00:00</td>\n",
       "      <td>0</td>\n",
       "      <td>60437</td>\n",
       "      <td>2016-04-06 10:17:21</td>\n",
       "    </tr>\n",
       "  </tbody>\n",
       "</table>\n",
       "</div>"
      ],
      "text/plain": [
       "           DateCrawled  Price VehicleType  RegistrationYear Gearbox  Power  \\\n",
       "0  2016-03-24 11:52:17    480         NaN              1993  manual      0   \n",
       "1  2016-03-24 10:58:45  18300       coupe              2011  manual    190   \n",
       "2  2016-03-14 12:52:21   9800         suv              2004    auto    163   \n",
       "3  2016-03-17 16:54:04   1500       small              2001  manual     75   \n",
       "4  2016-03-31 17:25:20   3600       small              2008  manual     69   \n",
       "\n",
       "   Model  Kilometer  RegistrationMonth  FuelType       Brand Repaired  \\\n",
       "0   golf     150000                  0    petrol  volkswagen      NaN   \n",
       "1    NaN     125000                  5  gasoline        audi      yes   \n",
       "2  grand     125000                  8  gasoline        jeep      NaN   \n",
       "3   golf     150000                  6    petrol  volkswagen       no   \n",
       "4  fabia      90000                  7  gasoline       skoda       no   \n",
       "\n",
       "           DateCreated  NumberOfPictures  PostalCode             LastSeen  \n",
       "0  2016-03-24 00:00:00                 0       70435  2016-04-07 03:16:57  \n",
       "1  2016-03-24 00:00:00                 0       66954  2016-04-07 01:46:50  \n",
       "2  2016-03-14 00:00:00                 0       90480  2016-04-05 12:47:46  \n",
       "3  2016-03-17 00:00:00                 0       91074  2016-03-17 17:40:17  \n",
       "4  2016-03-31 00:00:00                 0       60437  2016-04-06 10:17:21  "
      ]
     },
     "metadata": {},
     "output_type": "display_data"
    },
    {
     "name": "stdout",
     "output_type": "stream",
     "text": [
      "______________________________________________________________________________________________________________________________________________________________________________________________________________________________________\n"
     ]
    },
    {
     "data": {
      "text/html": [
       "<div>\n",
       "<style scoped>\n",
       "    .dataframe tbody tr th:only-of-type {\n",
       "        vertical-align: middle;\n",
       "    }\n",
       "\n",
       "    .dataframe tbody tr th {\n",
       "        vertical-align: top;\n",
       "    }\n",
       "\n",
       "    .dataframe thead th {\n",
       "        text-align: right;\n",
       "    }\n",
       "</style>\n",
       "<table border=\"1\" class=\"dataframe\">\n",
       "  <thead>\n",
       "    <tr style=\"text-align: right;\">\n",
       "      <th></th>\n",
       "      <th>Price</th>\n",
       "      <th>RegistrationYear</th>\n",
       "      <th>Power</th>\n",
       "      <th>Kilometer</th>\n",
       "      <th>RegistrationMonth</th>\n",
       "      <th>NumberOfPictures</th>\n",
       "      <th>PostalCode</th>\n",
       "    </tr>\n",
       "  </thead>\n",
       "  <tbody>\n",
       "    <tr>\n",
       "      <th>count</th>\n",
       "      <td>354369.000000</td>\n",
       "      <td>354369.000000</td>\n",
       "      <td>354369.000000</td>\n",
       "      <td>354369.000000</td>\n",
       "      <td>354369.000000</td>\n",
       "      <td>354369.0</td>\n",
       "      <td>354369.000000</td>\n",
       "    </tr>\n",
       "    <tr>\n",
       "      <th>mean</th>\n",
       "      <td>4416.656776</td>\n",
       "      <td>2004.234448</td>\n",
       "      <td>110.094337</td>\n",
       "      <td>128211.172535</td>\n",
       "      <td>5.714645</td>\n",
       "      <td>0.0</td>\n",
       "      <td>50508.689087</td>\n",
       "    </tr>\n",
       "    <tr>\n",
       "      <th>std</th>\n",
       "      <td>4514.158514</td>\n",
       "      <td>90.227958</td>\n",
       "      <td>189.850405</td>\n",
       "      <td>37905.341530</td>\n",
       "      <td>3.726421</td>\n",
       "      <td>0.0</td>\n",
       "      <td>25783.096248</td>\n",
       "    </tr>\n",
       "    <tr>\n",
       "      <th>min</th>\n",
       "      <td>0.000000</td>\n",
       "      <td>1000.000000</td>\n",
       "      <td>0.000000</td>\n",
       "      <td>5000.000000</td>\n",
       "      <td>0.000000</td>\n",
       "      <td>0.0</td>\n",
       "      <td>1067.000000</td>\n",
       "    </tr>\n",
       "    <tr>\n",
       "      <th>25%</th>\n",
       "      <td>1050.000000</td>\n",
       "      <td>1999.000000</td>\n",
       "      <td>69.000000</td>\n",
       "      <td>125000.000000</td>\n",
       "      <td>3.000000</td>\n",
       "      <td>0.0</td>\n",
       "      <td>30165.000000</td>\n",
       "    </tr>\n",
       "    <tr>\n",
       "      <th>50%</th>\n",
       "      <td>2700.000000</td>\n",
       "      <td>2003.000000</td>\n",
       "      <td>105.000000</td>\n",
       "      <td>150000.000000</td>\n",
       "      <td>6.000000</td>\n",
       "      <td>0.0</td>\n",
       "      <td>49413.000000</td>\n",
       "    </tr>\n",
       "    <tr>\n",
       "      <th>75%</th>\n",
       "      <td>6400.000000</td>\n",
       "      <td>2008.000000</td>\n",
       "      <td>143.000000</td>\n",
       "      <td>150000.000000</td>\n",
       "      <td>9.000000</td>\n",
       "      <td>0.0</td>\n",
       "      <td>71083.000000</td>\n",
       "    </tr>\n",
       "    <tr>\n",
       "      <th>max</th>\n",
       "      <td>20000.000000</td>\n",
       "      <td>9999.000000</td>\n",
       "      <td>20000.000000</td>\n",
       "      <td>150000.000000</td>\n",
       "      <td>12.000000</td>\n",
       "      <td>0.0</td>\n",
       "      <td>99998.000000</td>\n",
       "    </tr>\n",
       "  </tbody>\n",
       "</table>\n",
       "</div>"
      ],
      "text/plain": [
       "               Price  RegistrationYear          Power      Kilometer  \\\n",
       "count  354369.000000     354369.000000  354369.000000  354369.000000   \n",
       "mean     4416.656776       2004.234448     110.094337  128211.172535   \n",
       "std      4514.158514         90.227958     189.850405   37905.341530   \n",
       "min         0.000000       1000.000000       0.000000    5000.000000   \n",
       "25%      1050.000000       1999.000000      69.000000  125000.000000   \n",
       "50%      2700.000000       2003.000000     105.000000  150000.000000   \n",
       "75%      6400.000000       2008.000000     143.000000  150000.000000   \n",
       "max     20000.000000       9999.000000   20000.000000  150000.000000   \n",
       "\n",
       "       RegistrationMonth  NumberOfPictures     PostalCode  \n",
       "count      354369.000000          354369.0  354369.000000  \n",
       "mean            5.714645               0.0   50508.689087  \n",
       "std             3.726421               0.0   25783.096248  \n",
       "min             0.000000               0.0    1067.000000  \n",
       "25%             3.000000               0.0   30165.000000  \n",
       "50%             6.000000               0.0   49413.000000  \n",
       "75%             9.000000               0.0   71083.000000  \n",
       "max            12.000000               0.0   99998.000000  "
      ]
     },
     "metadata": {},
     "output_type": "display_data"
    }
   ],
   "source": [
    "# изучим данные\n",
    "\n",
    "display(df.info())\n",
    "print('_' * 230)\n",
    "display(df.head())\n",
    "print('_' * 230)\n",
    "display(df.describe())"
   ]
  },
  {
   "cell_type": "code",
   "execution_count": 4,
   "metadata": {
    "scrolled": false
   },
   "outputs": [
    {
     "data": {
      "text/plain": [
       "DateCrawled              0\n",
       "Price                    0\n",
       "VehicleType          37490\n",
       "RegistrationYear         0\n",
       "Gearbox              19833\n",
       "Power                    0\n",
       "Model                19705\n",
       "Kilometer                0\n",
       "RegistrationMonth        0\n",
       "FuelType             32895\n",
       "Brand                    0\n",
       "Repaired             71154\n",
       "DateCreated              0\n",
       "NumberOfPictures         0\n",
       "PostalCode               0\n",
       "LastSeen                 0\n",
       "dtype: int64"
      ]
     },
     "execution_count": 4,
     "metadata": {},
     "output_type": "execute_result"
    }
   ],
   "source": [
    "df.isna().sum()"
   ]
  },
  {
   "cell_type": "markdown",
   "metadata": {},
   "source": [
    "**Вывод:**\n",
    "\n",
    "- столбец `NumberOfPictures` имеет везде нули (можно его удалить)\n",
    "- столбцы `PostalCode`, `DateCrawled`, `DateCreated`, `RegistrationMonth` и `LastSeen` не несут информативности их тоже можно удалить\n",
    "- необходимо привести название столбцов к правильному типу написание \n",
    "- имеются пропуски `VehicleType`, `Gearbox`, `Model`, `FuelType`, `71154`\n",
    "- присутствуют явные аномалии в годах регистрации, мощности и цене (нулевые или слишком высокие значения) — нужно фильтровать или исправлять"
   ]
  },
  {
   "cell_type": "code",
   "execution_count": 5,
   "metadata": {},
   "outputs": [
    {
     "data": {
      "text/plain": [
       "Index(['Price', 'VehicleType', 'RegistrationYear', 'Gearbox', 'Power', 'Model',\n",
       "       'Kilometer', 'FuelType', 'Brand', 'Repaired'],\n",
       "      dtype='object')"
      ]
     },
     "execution_count": 5,
     "metadata": {},
     "output_type": "execute_result"
    }
   ],
   "source": [
    "# удалим столбцы `NumberOfPictures`, `PostalCode`, `DateCrawled`, `DateCreated`, `RegistrationMonth` и `LastSeen`\n",
    "\n",
    "df.drop(\n",
    "    [\n",
    "        'NumberOfPictures', 'PostalCode', 'DateCrawled', \n",
    "        'DateCreated', 'LastSeen', 'RegistrationMonth'\n",
    "    ], \n",
    "    axis=1, inplace=True\n",
    ")\n",
    "\n",
    "# проверка\n",
    "\n",
    "df.columns"
   ]
  },
  {
   "cell_type": "code",
   "execution_count": 6,
   "metadata": {
    "scrolled": true
   },
   "outputs": [
    {
     "data": {
      "text/plain": [
       "Index(['price', 'vehicle_type', 'registration_year', 'gearbox', 'power',\n",
       "       'model', 'kilometer', 'fuel_type', 'brand', 'repaired'],\n",
       "      dtype='object')"
      ]
     },
     "execution_count": 6,
     "metadata": {},
     "output_type": "execute_result"
    }
   ],
   "source": [
    "#переведем наименование стлбцов в коректную форму \n",
    "\n",
    "df.columns = [re.sub(r'(?<=[a-z])(?=[A-Z])', '_', col).lower() for col in df.columns]\n",
    "\n",
    "# роверка\n",
    "\n",
    "df.columns"
   ]
  },
  {
   "cell_type": "code",
   "execution_count": 7,
   "metadata": {
    "scrolled": true
   },
   "outputs": [
    {
     "data": {
      "text/plain": [
       "price                0\n",
       "vehicle_type         0\n",
       "registration_year    0\n",
       "gearbox              0\n",
       "power                0\n",
       "model                0\n",
       "kilometer            0\n",
       "fuel_type            0\n",
       "brand                0\n",
       "repaired             0\n",
       "dtype: int64"
      ]
     },
     "execution_count": 7,
     "metadata": {},
     "output_type": "execute_result"
    }
   ],
   "source": [
    "# заменим пропуски на unknown \n",
    "# пропуски встречаются только в категориальных признаках\n",
    "\n",
    "df.fillna(\"unknown\", inplace=True)\n",
    "\n",
    "# проверка\n",
    "\n",
    "df.isna().sum()"
   ]
  },
  {
   "cell_type": "code",
   "execution_count": 8,
   "metadata": {},
   "outputs": [
    {
     "data": {
      "text/plain": [
       "45040"
      ]
     },
     "execution_count": 8,
     "metadata": {},
     "output_type": "execute_result"
    }
   ],
   "source": [
    "# проверим на количество дубликатов \n",
    "\n",
    "df.duplicated().sum()"
   ]
  },
  {
   "cell_type": "code",
   "execution_count": 9,
   "metadata": {},
   "outputs": [
    {
     "data": {
      "text/plain": [
       "0"
      ]
     },
     "execution_count": 9,
     "metadata": {},
     "output_type": "execute_result"
    }
   ],
   "source": [
    "# удалим дубликаты, чтобы избежать искажений в модели и снизижения риска переобучения\n",
    "\n",
    "df.drop_duplicates(inplace=True)\n",
    "\n",
    "# проверка\n",
    "\n",
    "df.duplicated().sum()"
   ]
  },
  {
   "cell_type": "markdown",
   "metadata": {},
   "source": [
    "**Вывод:** \n",
    "\n",
    "**Удалены неинформативные столбцы** `NumberOfPictures`, `PostalCode`, `DateCrawled`, `DateCreated` и `LastSeen` \n",
    "\n",
    "**Наименование столбцов приведены в коректную форму** \n",
    "\n",
    "**Пропуски заменены на unknown**\n",
    "\n",
    "**Удалены дубликаты, чтобы избежать искажений в модели и снизижения риса переобучения**\n",
    "\n",
    "**В столбце `registration_year` есть \"необычные\" года как:** 1111, 9999, 3200 и т.д.\n",
    "\n",
    "**В столбце `power` также имеются необычные значения для л.с.:** 0, 1240, 1001 и т.д.\n"
   ]
  },
  {
   "cell_type": "markdown",
   "metadata": {},
   "source": [
    "## Исследовательский анализ данных"
   ]
  },
  {
   "cell_type": "code",
   "execution_count": 10,
   "metadata": {
    "scrolled": true
   },
   "outputs": [],
   "source": [
    "#функция для построения гистограмм и диаграмм размаха для количественных признаков\n",
    "\n",
    "def plot_box_and_hist(df, column, bins=10):\n",
    "    \n",
    "    fig, axes = plt.subplots(1, 2)  \n",
    "    \n",
    "    #диаграмма размаха\n",
    "    \n",
    "    axes[0].boxplot(df[column], patch_artist=True, boxprops=dict(facecolor='lightblue', color='black'))\n",
    "    axes[0].set_title(f'Диаграмма размаха для {column}', fontsize=14)\n",
    "    axes[0].set_ylabel(column, fontsize=12)\n",
    "    axes[0].grid(True)\n",
    "    \n",
    "    #гистограмма\n",
    "    \n",
    "    axes[1].hist(df[column], bins=bins, color='skyblue', edgecolor='black')\n",
    "    axes[1].set_title(f'Гистограмма для {column}', fontsize=14)\n",
    "    axes[1].set_xlabel(column, fontsize=12)\n",
    "    axes[1].set_ylabel('Частота', fontsize=12)\n",
    "    axes[1].grid(True)\n",
    "    \n",
    "\n",
    "    plt.tight_layout()\n",
    "    plt.show()\n",
    "               \n",
    "        \n",
    "#функция для построения столбчатых диаграмм для категориальных признаков\n",
    "\n",
    "def plot_categorical_bars(df, columns):\n",
    "    for column in columns:\n",
    "        df[column].value_counts().plot(kind='bar', color='darkgreen', edgecolor='black')\n",
    "        plt.title(f'Распределение {column}', fontsize=14)\n",
    "        plt.xlabel(column, fontsize=12)\n",
    "        plt.ylabel('Частота', fontsize=12)\n",
    "        plt.grid(True)\n",
    "        plt.xticks(rotation=0)\n",
    "        plt.show()"
   ]
  },
  {
   "cell_type": "code",
   "execution_count": 11,
   "metadata": {
    "scrolled": false
   },
   "outputs": [
    {
     "data": {
      "image/png": "[encoded data removed]",
      "text/plain": [
       "<Figure size 1008x504 with 2 Axes>"
      ]
     },
     "metadata": {
      "needs_background": "light"
     },
     "output_type": "display_data"
    },
    {
     "data": {
      "text/plain": [
       "count    309329.000000\n",
       "mean       4486.937196\n",
       "std        4564.852796\n",
       "min           0.000000\n",
       "25%        1100.000000\n",
       "50%        2800.000000\n",
       "75%        6500.000000\n",
       "max       20000.000000\n",
       "Name: price, dtype: float64"
      ]
     },
     "execution_count": 11,
     "metadata": {},
     "output_type": "execute_result"
    }
   ],
   "source": [
    "plot_box_and_hist(df, 'price', bins=50)\n",
    "df['price'].describe()"
   ]
  },
  {
   "cell_type": "code",
   "execution_count": 12,
   "metadata": {
    "scrolled": true
   },
   "outputs": [
    {
     "name": "stdout",
     "output_type": "stream",
     "text": [
      "<class 'pandas.core.frame.DataFrame'>\n",
      "Int64Index: 309329 entries, 0 to 354368\n",
      "Data columns (total 10 columns):\n",
      " #   Column             Non-Null Count   Dtype \n",
      "---  ------             --------------   ----- \n",
      " 0   price              309329 non-null  int64 \n",
      " 1   vehicle_type       309329 non-null  object\n",
      " 2   registration_year  309329 non-null  int64 \n",
      " 3   gearbox            309329 non-null  object\n",
      " 4   power              309329 non-null  int64 \n",
      " 5   model              309329 non-null  object\n",
      " 6   kilometer          309329 non-null  int64 \n",
      " 7   fuel_type          309329 non-null  object\n",
      " 8   brand              309329 non-null  object\n",
      " 9   repaired           309329 non-null  object\n",
      "dtypes: int64(4), object(6)\n",
      "memory usage: 26.0+ MB\n"
     ]
    }
   ],
   "source": [
    "df.info()"
   ]
  },
  {
   "cell_type": "code",
   "execution_count": 13,
   "metadata": {
    "scrolled": false
   },
   "outputs": [
    {
     "data": {
      "text/plain": [
       "20320"
      ]
     },
     "execution_count": 13,
     "metadata": {},
     "output_type": "execute_result"
    }
   ],
   "source": [
    "pd.set_option('display.max_rows', None)      # выводить все строки\n",
    "\n",
    "df['price'][df['price'] < 300].count()"
   ]
  },
  {
   "cell_type": "code",
   "execution_count": 14,
   "metadata": {},
   "outputs": [
    {
     "data": {
      "text/plain": [
       "0"
      ]
     },
     "execution_count": 14,
     "metadata": {},
     "output_type": "execute_result"
    }
   ],
   "source": [
    "# удалим все что ниже 300 \n",
    "\n",
    "df = df[df['price'] >= 300]\n",
    "\n",
    "# проверяем\n",
    "\n",
    "df['price'][df['price'] < 300].count()"
   ]
  },
  {
   "cell_type": "markdown",
   "metadata": {},
   "source": [
    "______________________________________________________________________________________________________________________________\n",
    "\n",
    "В столбце `price` видны выбросы и аномалии. В данном случае аномалии тут 0, так как это сильно исказит модель. А значения до 20.000 евро считаю в полне возможным для более реаритетных машин. \n",
    "\n",
    "______________________________________________________________________________________________________________________________"
   ]
  },
  {
   "cell_type": "code",
   "execution_count": 15,
   "metadata": {
    "scrolled": false
   },
   "outputs": [
    {
     "data": {
      "image/png": "[encoded data removed]",
      "text/plain": [
       "<Figure size 1008x504 with 2 Axes>"
      ]
     },
     "metadata": {
      "needs_background": "light"
     },
     "output_type": "display_data"
    },
    {
     "data": {
      "text/plain": [
       "count    289009.000000\n",
       "mean       2004.161576\n",
       "std          71.395246\n",
       "min        1000.000000\n",
       "25%        1999.000000\n",
       "50%        2004.000000\n",
       "75%        2008.000000\n",
       "max        9999.000000\n",
       "Name: registration_year, dtype: float64"
      ]
     },
     "execution_count": 15,
     "metadata": {},
     "output_type": "execute_result"
    }
   ],
   "source": [
    "plot_box_and_hist(df, 'registration_year')\n",
    "df['registration_year'].describe()"
   ]
  },
  {
   "cell_type": "code",
   "execution_count": 16,
   "metadata": {},
   "outputs": [],
   "source": [
    "df = df[(df['registration_year'] >= 1950) & (df['registration_year'] <= 2025)]"
   ]
  },
  {
   "cell_type": "markdown",
   "metadata": {},
   "source": [
    "______________________________________________________________________________________________________________________________\n",
    "\n",
    "В данном столбце возьмем диапазон с 1950 года по текущий год. Так как бурное производство машин думаю было начато в псолевоенное время. \n",
    "\n",
    "______________________________________________________________________________________________________________________________"
   ]
  },
  {
   "cell_type": "code",
   "execution_count": 17,
   "metadata": {
    "scrolled": true
   },
   "outputs": [
    {
     "data": {
      "image/png": "[encoded data removed]",
      "text/plain": [
       "<Figure size 1008x504 with 2 Axes>"
      ]
     },
     "metadata": {
      "needs_background": "light"
     },
     "output_type": "display_data"
    },
    {
     "data": {
      "text/plain": [
       "count    288827.000000\n",
       "mean        113.880108\n",
       "std         199.016495\n",
       "min           0.000000\n",
       "25%          75.000000\n",
       "50%         105.000000\n",
       "75%         143.000000\n",
       "max       20000.000000\n",
       "Name: power, dtype: float64"
      ]
     },
     "execution_count": 17,
     "metadata": {},
     "output_type": "execute_result"
    }
   ],
   "source": [
    "plot_box_and_hist(df, 'power')\n",
    "df['power'].describe()\n"
   ]
  },
  {
   "cell_type": "code",
   "execution_count": 18,
   "metadata": {},
   "outputs": [],
   "source": [
    "# удалим аномалии - скорость больше 500 лошадиных сил\n",
    "\n",
    "df = df.loc[df['power'] <= 500]"
   ]
  },
  {
   "cell_type": "code",
   "execution_count": 19,
   "metadata": {},
   "outputs": [],
   "source": [
    "# заменим нули медианой \n",
    "\n",
    "median_power = df['power'].median()\n",
    "df['power'] = df['power'].replace(0, median_power)"
   ]
  },
  {
   "cell_type": "code",
   "execution_count": 20,
   "metadata": {},
   "outputs": [
    {
     "data": {
      "image/png": "[encoded data removed]",
      "text/plain": [
       "<Figure size 1008x504 with 2 Axes>"
      ]
     },
     "metadata": {
      "needs_background": "light"
     },
     "output_type": "display_data"
    },
    {
     "data": {
      "text/plain": [
       "count    288439.000000\n",
       "mean     127384.715659\n",
       "std       37755.043174\n",
       "min        5000.000000\n",
       "25%      125000.000000\n",
       "50%      150000.000000\n",
       "75%      150000.000000\n",
       "max      150000.000000\n",
       "Name: kilometer, dtype: float64"
      ]
     },
     "execution_count": 20,
     "metadata": {},
     "output_type": "execute_result"
    }
   ],
   "source": [
    "plot_box_and_hist(df, 'kilometer')\n",
    "df['kilometer'].describe()"
   ]
  },
  {
   "cell_type": "markdown",
   "metadata": {},
   "source": [
    "___________________________________________________________________________________________________________________\n",
    "\n",
    "тут можно и не трогать данные, так как бывает машини используемые по мининмуму от 5000 км. \n",
    "\n",
    "___________________________________________________________________________________________________________________"
   ]
  },
  {
   "cell_type": "markdown",
   "metadata": {},
   "source": [
    "___________________________________________________________________________________________________________________\n",
    "                            \n",
    "                            Графики для категориальных признаков \n",
    "___________________________________________________________________________________________________________________"
   ]
  },
  {
   "cell_type": "code",
   "execution_count": 21,
   "metadata": {
    "scrolled": false
   },
   "outputs": [
    {
     "name": "stdout",
     "output_type": "stream",
     "text": [
      "<class 'pandas.core.frame.DataFrame'>\n",
      "Int64Index: 288439 entries, 0 to 354368\n",
      "Data columns (total 10 columns):\n",
      " #   Column             Non-Null Count   Dtype  \n",
      "---  ------             --------------   -----  \n",
      " 0   price              288439 non-null  int64  \n",
      " 1   vehicle_type       288439 non-null  object \n",
      " 2   registration_year  288439 non-null  int64  \n",
      " 3   gearbox            288439 non-null  object \n",
      " 4   power              288439 non-null  float64\n",
      " 5   model              288439 non-null  object \n",
      " 6   kilometer          288439 non-null  int64  \n",
      " 7   fuel_type          288439 non-null  object \n",
      " 8   brand              288439 non-null  object \n",
      " 9   repaired           288439 non-null  object \n",
      "dtypes: float64(1), int64(3), object(6)\n",
      "memory usage: 24.2+ MB\n"
     ]
    }
   ],
   "source": [
    "df.info()"
   ]
  },
  {
   "cell_type": "code",
   "execution_count": 22,
   "metadata": {},
   "outputs": [
    {
     "data": {
      "text/plain": [
       "18.6"
      ]
     },
     "execution_count": 22,
     "metadata": {},
     "output_type": "execute_result"
    }
   ],
   "source": [
    "# высчитаем процент удаленных данных. В начале было 354369 строк данных, после очистки осталось 288439. \n",
    "# разница 65930\n",
    "\n",
    "percent_removed = (65930 / 354369) * 100\n",
    "\n",
    "round(percent_removed, 2)"
   ]
  },
  {
   "cell_type": "markdown",
   "metadata": {},
   "source": [
    "_______________________________________________________________________________________________________________\n",
    "\n",
    "**Процент удаленных данных равен 18.6%**\n",
    "\n",
    "_______________________________________________________________________________________________________________"
   ]
  },
  {
   "cell_type": "code",
   "execution_count": 23,
   "metadata": {},
   "outputs": [
    {
     "data": {
      "image/png": "[encoded data removed]",
      "text/plain": [
       "<Figure size 1008x504 with 1 Axes>"
      ]
     },
     "metadata": {
      "needs_background": "light"
     },
     "output_type": "display_data"
    },
    {
     "data": {
      "text/plain": [
       "count     288439\n",
       "unique         9\n",
       "top        sedan\n",
       "freq       74774\n",
       "Name: vehicle_type, dtype: object"
      ]
     },
     "execution_count": 23,
     "metadata": {},
     "output_type": "execute_result"
    }
   ],
   "source": [
    "plot_categorical_bars(df, ['vehicle_type'])\n",
    "df['vehicle_type'].describe()"
   ]
  },
  {
   "cell_type": "code",
   "execution_count": 24,
   "metadata": {},
   "outputs": [
    {
     "data": {
      "image/png": "[encoded data removed]",
      "text/plain": [
       "<Figure size 1008x504 with 1 Axes>"
      ]
     },
     "metadata": {
      "needs_background": "light"
     },
     "output_type": "display_data"
    },
    {
     "data": {
      "text/plain": [
       "count     288439\n",
       "unique         3\n",
       "top       manual\n",
       "freq      218191\n",
       "Name: gearbox, dtype: object"
      ]
     },
     "execution_count": 24,
     "metadata": {},
     "output_type": "execute_result"
    }
   ],
   "source": [
    "plot_categorical_bars(df, ['gearbox'])\n",
    "df['gearbox'].describe()"
   ]
  },
  {
   "cell_type": "code",
   "execution_count": 25,
   "metadata": {},
   "outputs": [
    {
     "data": {
      "image/png": "[encoded data removed]",
      "text/plain": [
       "<Figure size 1008x504 with 1 Axes>"
      ]
     },
     "metadata": {
      "needs_background": "light"
     },
     "output_type": "display_data"
    },
    {
     "data": {
      "text/plain": [
       "count     288439\n",
       "unique       251\n",
       "top         golf\n",
       "freq       22088\n",
       "Name: model, dtype: object"
      ]
     },
     "execution_count": 25,
     "metadata": {},
     "output_type": "execute_result"
    }
   ],
   "source": [
    "plot_categorical_bars(df, ['model'])\n",
    "df['model'].describe()"
   ]
  },
  {
   "cell_type": "code",
   "execution_count": 26,
   "metadata": {
    "scrolled": false
   },
   "outputs": [
    {
     "data": {
      "image/png": "[encoded data removed]",
      "text/plain": [
       "<Figure size 1008x504 with 1 Axes>"
      ]
     },
     "metadata": {
      "needs_background": "light"
     },
     "output_type": "display_data"
    },
    {
     "data": {
      "text/plain": [
       "count     288439\n",
       "unique         8\n",
       "top       petrol\n",
       "freq      175299\n",
       "Name: fuel_type, dtype: object"
      ]
     },
     "execution_count": 26,
     "metadata": {},
     "output_type": "execute_result"
    }
   ],
   "source": [
    "plot_categorical_bars(df, ['fuel_type'])\n",
    "df['fuel_type'].describe()"
   ]
  },
  {
   "cell_type": "code",
   "execution_count": 27,
   "metadata": {},
   "outputs": [
    {
     "data": {
      "image/png": "[encoded data removed]",
      "text/plain": [
       "<Figure size 1008x504 with 1 Axes>"
      ]
     },
     "metadata": {
      "needs_background": "light"
     },
     "output_type": "display_data"
    },
    {
     "data": {
      "text/plain": [
       "count         288439\n",
       "unique            40\n",
       "top       volkswagen\n",
       "freq           59497\n",
       "Name: brand, dtype: object"
      ]
     },
     "execution_count": 27,
     "metadata": {},
     "output_type": "execute_result"
    }
   ],
   "source": [
    "plot_categorical_bars(df, ['brand'])\n",
    "df['brand'].describe()"
   ]
  },
  {
   "cell_type": "code",
   "execution_count": 28,
   "metadata": {
    "scrolled": false
   },
   "outputs": [
    {
     "data": {
      "image/png": "[encoded data removed]",
      "text/plain": [
       "<Figure size 1008x504 with 1 Axes>"
      ]
     },
     "metadata": {
      "needs_background": "light"
     },
     "output_type": "display_data"
    },
    {
     "data": {
      "text/plain": [
       "count     288439\n",
       "unique         3\n",
       "top           no\n",
       "freq      205907\n",
       "Name: repaired, dtype: object"
      ]
     },
     "execution_count": 28,
     "metadata": {},
     "output_type": "execute_result"
    }
   ],
   "source": [
    "plot_categorical_bars(df, ['repaired'])\n",
    "df['repaired'].describe()"
   ]
  },
  {
   "cell_type": "code",
   "execution_count": 38,
   "metadata": {
    "scrolled": true
   },
   "outputs": [
    {
     "data": {
      "image/png": "[encoded data removed]",
      "text/plain": [
       "<Figure size 720x576 with 2 Axes>"
      ]
     },
     "metadata": {
      "needs_background": "light"
     },
     "output_type": "display_data"
    }
   ],
   "source": [
    "#Phi_K correlation\n",
    "\n",
    "corr_matrix = df.phik_matrix(\n",
    "    interval_cols=['price', 'registration_year', 'power', 'kilometer', 'registration_month']\n",
    ")\n",
    "\n",
    "plt.figure(figsize=(10, 8))\n",
    "sns.heatmap(corr_matrix, annot=True, cmap='coolwarm')\n",
    "plt.title('Phi_K Correlation Matrix')\n",
    "plt.show()"
   ]
  },
  {
   "cell_type": "markdown",
   "metadata": {},
   "source": [
    "___________________________________________________________________________________________________________________\n",
    "\n",
    "    •\tprice умеренно коррелирует с признаками registration_year, power, brand и kilometer — они наиболее значимы для предсказания цены.\n",
    "\t•\tbrand, vehicle_type и model также связаны друг с другом (логично: у конкретного бренда определённый модельный ряд и типы кузова).\n",
    "\t•\tgearbox, fuel_type и repaired проявляют более слабую связь с ценой, но могут оказаться полезными при обучении модели (влиять в совокупности с другими признаками).\n",
    "\t•\tЯвных избыточных корреляций (когда два признака полностью дублируют друг друга) не наблюдается\n",
    "    \n",
    "   ___________________________________________________________________________________________________________________"
   ]
  },
  {
   "cell_type": "markdown",
   "metadata": {},
   "source": [
    "## Обучение моделей"
   ]
  },
  {
   "cell_type": "code",
   "execution_count": 30,
   "metadata": {
    "scrolled": false
   },
   "outputs": [],
   "source": [
    "# Подготовка признаков и целевого признака\n",
    "\n",
    "X = df.drop('price', axis=1)\n",
    "y = df['price']"
   ]
  },
  {
   "cell_type": "code",
   "execution_count": 31,
   "metadata": {},
   "outputs": [],
   "source": [
    "# Разделение выборок\n",
    "\n",
    "X_train, X_temp, y_train, y_temp = train_test_split(X, y, test_size=0.4, random_state=RANDOM_STATE)\n",
    "X_valid, X_test, y_valid, y_test = train_test_split(X_temp, y_temp, test_size=0.5, random_state=RANDOM_STATE)"
   ]
  },
  {
   "cell_type": "code",
   "execution_count": 32,
   "metadata": {
    "scrolled": false
   },
   "outputs": [],
   "source": [
    "# Категориальные признаки\n",
    "\n",
    "cat_features = ['vehicle_type', 'gearbox', 'fuel_type', 'model', 'brand', 'repaired']\n"
   ]
  },
  {
   "cell_type": "code",
   "execution_count": 33,
   "metadata": {
    "scrolled": true
   },
   "outputs": [
    {
     "name": "stdout",
     "output_type": "stream",
     "text": [
      "(173063, 9) (57688, 9) (57688, 9)\n"
     ]
    }
   ],
   "source": [
    "# Ordinal Encoding\n",
    "\n",
    "encoder = OrdinalEncoder(handle_unknown='use_encoded_value', unknown_value=-1)\n",
    "X_train[cat_features] = encoder.fit_transform(X_train[cat_features])\n",
    "X_valid[cat_features] = encoder.transform(X_valid[cat_features])\n",
    "X_test[cat_features] = encoder.transform(X_test[cat_features])\n",
    "\n",
    "print(X_train.shape, X_valid.shape, X_test.shape)"
   ]
  },
  {
   "cell_type": "markdown",
   "metadata": {},
   "source": [
    "### DecisionTreeRegressor (не бустинг)"
   ]
  },
  {
   "cell_type": "code",
   "execution_count": 34,
   "metadata": {
    "scrolled": false
   },
   "outputs": [
    {
     "name": "stdout",
     "output_type": "stream",
     "text": [
      "DecisionTreeRegressor:\n",
      "CPU times: user 164 ms, sys: 12 ms, total: 176 ms\n",
      "Wall time: 182 ms\n",
      "CPU times: user 7 ms, sys: 0 ns, total: 7 ms\n",
      "Wall time: 6.78 ms\n",
      "max_depth=5, RMSE=2521.08\n",
      "CPU times: user 286 ms, sys: 0 ns, total: 286 ms\n",
      "Wall time: 289 ms\n",
      "CPU times: user 6.98 ms, sys: 66 µs, total: 7.05 ms\n",
      "Wall time: 6.73 ms\n",
      "max_depth=9, RMSE=2143.40\n",
      "CPU times: user 338 ms, sys: 5.44 ms, total: 343 ms\n",
      "Wall time: 346 ms\n",
      "CPU times: user 8.95 ms, sys: 39 µs, total: 8.99 ms\n",
      "Wall time: 8.53 ms\n",
      "max_depth=12, RMSE=2023.16\n"
     ]
    }
   ],
   "source": [
    "print('DecisionTreeRegressor:')\n",
    "for depth in [5, 9, 12]:\n",
    "    model_dt = DecisionTreeRegressor(max_depth=depth, random_state=RANDOM_STATE)\n",
    "    %time model_dt.fit(X_train, y_train)\n",
    "\n",
    "    %time y_pred_dt = model_dt.predict(X_valid)\n",
    "    rmse_dt = mean_squared_error(y_valid, y_pred_dt)**0.5\n",
    "    print(f'max_depth={depth}, RMSE={rmse_dt:.2f}')"
   ]
  },
  {
   "cell_type": "markdown",
   "metadata": {},
   "source": [
    "### RandomForestRegressor (не бустинг)"
   ]
  },
  {
   "cell_type": "code",
   "execution_count": 35,
   "metadata": {
    "scrolled": true
   },
   "outputs": [
    {
     "name": "stdout",
     "output_type": "stream",
     "text": [
      "RandomForestRegressor:\n",
      "CPU times: user 9.55 s, sys: 15.2 ms, total: 9.56 s\n",
      "Wall time: 9.58 s\n",
      "CPU times: user 194 ms, sys: 77 µs, total: 194 ms\n",
      "Wall time: 194 ms\n",
      "n_estimators=50, RMSE=2044.06\n",
      "CPU times: user 18.7 s, sys: 4.83 ms, total: 18.7 s\n",
      "Wall time: 18.7 s\n",
      "CPU times: user 363 ms, sys: 0 ns, total: 363 ms\n",
      "Wall time: 370 ms\n",
      "n_estimators=100, RMSE=2042.98\n"
     ]
    }
   ],
   "source": [
    "print('RandomForestRegressor:')\n",
    "for estimators in [50, 100]:\n",
    "    model_rf = RandomForestRegressor(\n",
    "        max_depth=9, n_estimators=estimators, random_state=RANDOM_STATE, n_jobs=-1\n",
    "    )\n",
    "    %time model_rf.fit(X_train, y_train)\n",
    "\n",
    "    %time y_pred_rf = model_rf.predict(X_valid)\n",
    "    rmse_rf = mean_squared_error(y_valid, y_pred_rf)**0.5\n",
    "    print(f'n_estimators={estimators}, RMSE={rmse_rf:.2f}')"
   ]
  },
  {
   "cell_type": "markdown",
   "metadata": {},
   "source": [
    "### LightGBM (градиентный бустинг)"
   ]
  },
  {
   "cell_type": "code",
   "execution_count": 36,
   "metadata": {},
   "outputs": [
    {
     "name": "stdout",
     "output_type": "stream",
     "text": [
      "LightGBM:\n",
      "CPU times: user 7.57 s, sys: 44.1 ms, total: 7.61 s\n",
      "Wall time: 7.67 s\n",
      "CPU times: user 859 ms, sys: 0 ns, total: 859 ms\n",
      "Wall time: 902 ms\n",
      "num_leaves=60, n_estimators=200, RMSE=1679.19\n",
      "CPU times: user 25.5 s, sys: 179 ms, total: 25.6 s\n",
      "Wall time: 26.1 s\n",
      "CPU times: user 3.46 s, sys: 3.45 ms, total: 3.47 s\n",
      "Wall time: 3.44 s\n",
      "num_leaves=120, n_estimators=500, RMSE=1636.77\n"
     ]
    }
   ],
   "source": [
    "print('LightGBM:')\n",
    "params = [(60, 200), (120, 500)]\n",
    "for leaves, estimators in params:\n",
    "    model_lgb = lgb.LGBMRegressor(num_leaves=leaves, n_estimators=estimators, random_state=RANDOM_STATE)\n",
    "    %time model_lgb.fit(X_train, y_train)\n",
    "\n",
    "    %time y_pred_lgb = model_lgb.predict(X_valid)\n",
    "    rmse_lgb = mean_squared_error(y_valid, y_pred_lgb)**0.5\n",
    "    print(f'num_leaves={leaves}, n_estimators={estimators}, RMSE={rmse_lgb:.2f}')"
   ]
  },
  {
   "cell_type": "markdown",
   "metadata": {},
   "source": [
    "## Анализ моделей"
   ]
  },
  {
   "cell_type": "markdown",
   "metadata": {},
   "source": [
    "### Лучшая модель и проверка на тестовой выборке"
   ]
  },
  {
   "cell_type": "code",
   "execution_count": 37,
   "metadata": {
    "scrolled": true
   },
   "outputs": [
    {
     "name": "stdout",
     "output_type": "stream",
     "text": [
      "Лучшая модель: LightGBM (num_leaves=120, n_estimators=500)\n",
      "CPU times: user 27 s, sys: 225 ms, total: 27.3 s\n",
      "Wall time: 27.9 s\n",
      "CPU times: user 3.39 s, sys: 0 ns, total: 3.39 s\n",
      "Wall time: 3.42 s\n",
      "RMSE на тестовой выборке: 1654.57\n"
     ]
    }
   ],
   "source": [
    "print('Лучшая модель: LightGBM (num_leaves=120, n_estimators=500)')\n",
    "best_model = lgb.LGBMRegressor(num_leaves=120, n_estimators=500, random_state=RANDOM_STATE)\n",
    "\n",
    "%time best_model.fit(X_train, y_train)\n",
    "\n",
    "%time y_test_pred = best_model.predict(X_test)\n",
    "rmse_test = mean_squared_error(y_test, y_test_pred)**0.5\n",
    "print(f'RMSE на тестовой выборке: {rmse_test:.2f}')\n",
    "\n",
    "assert rmse_test < 2500, 'RMSE выше требуемого уровня!'"
   ]
  },
  {
   "cell_type": "markdown",
   "metadata": {},
   "source": [
    "## Выводы"
   ]
  },
  {
   "cell_type": "markdown",
   "metadata": {},
   "source": [
    "### Выводы по проекту:\n",
    "\n",
    "- DecisionTreeRegressor:\n",
    "    - Лучшая RMSE на валидации: **2023.16** (max_depth=12)\n",
    "    - Время обучения менее секунды.\n",
    "\n",
    "- RandomForestRegressor:\n",
    "    - Лучшая RMSE на валидации: **2042.98** (n_estimators=100)\n",
    "    - Время обучения около 20 секунд.\n",
    "\n",
    "- LightGBM:\n",
    "    - Лучшая RMSE на валидации: **1636.77** (num_leaves=120, n_estimators=500)\n",
    "    - Время обучения около 55 секунд.\n",
    "\n",
    "Наилучшая модель по соотношению времени и качества — **LightGBM** (num_leaves=120, n_estimators=500):\n",
    "\n",
    "- RMSE на тестовой выборке менее 2500, модель соответствует требованиям заказчика.\n",
    "- Скорость обучения и предсказания приемлема для применения в production.\n",
    "\n",
    "**Рекомендация заказчику: использовать модель градиентного бустинга LightGBM с параметрами num_leaves=120, n_estimators=500.**\n"
   ]
  }
 ],
 "metadata": {
  "ExecuteTimeLog": [
   {
    "duration": 48,
    "start_time": "2025-02-19T11:56:12.015Z"
   },
   {
    "duration": 2,
    "start_time": "2025-02-19T11:56:16.835Z"
   },
   {
    "duration": 1214,
    "start_time": "2025-02-19T11:56:22.887Z"
   },
   {
    "duration": 108,
    "start_time": "2025-02-19T11:56:24.104Z"
   },
   {
    "duration": 993,
    "start_time": "2025-02-19T11:56:31.704Z"
   },
   {
    "duration": 1060,
    "start_time": "2025-02-19T11:56:50.991Z"
   },
   {
    "duration": 1010,
    "start_time": "2025-02-19T11:59:55.411Z"
   },
   {
    "duration": 4584,
    "start_time": "2025-02-19T12:04:02.911Z"
   },
   {
    "duration": 9,
    "start_time": "2025-02-19T12:04:57.203Z"
   },
   {
    "duration": 161,
    "start_time": "2025-02-19T12:05:10.294Z"
   },
   {
    "duration": 4,
    "start_time": "2025-02-19T12:05:16.100Z"
   },
   {
    "duration": 1569,
    "start_time": "2025-02-19T12:05:16.436Z"
   },
   {
    "duration": 178,
    "start_time": "2025-02-19T12:05:18.008Z"
   },
   {
    "duration": 3156,
    "start_time": "2025-02-19T12:29:44.399Z"
   },
   {
    "duration": 1384,
    "start_time": "2025-02-20T11:26:56.571Z"
   },
   {
    "duration": 1787,
    "start_time": "2025-02-20T11:26:57.957Z"
   },
   {
    "duration": 181,
    "start_time": "2025-02-20T11:26:59.746Z"
   },
   {
    "duration": 156,
    "start_time": "2025-02-20T11:27:16.306Z"
   },
   {
    "duration": 262,
    "start_time": "2025-02-20T11:28:51.926Z"
   },
   {
    "duration": 275,
    "start_time": "2025-02-20T11:29:17.082Z"
   },
   {
    "duration": 300,
    "start_time": "2025-02-20T11:29:25.984Z"
   },
   {
    "duration": 264,
    "start_time": "2025-02-20T11:29:37.714Z"
   },
   {
    "duration": 268,
    "start_time": "2025-02-20T11:29:44.763Z"
   },
   {
    "duration": 142,
    "start_time": "2025-02-20T11:34:06.921Z"
   },
   {
    "duration": 1587,
    "start_time": "2025-02-20T11:53:56.571Z"
   },
   {
    "duration": 11,
    "start_time": "2025-02-20T11:55:38.410Z"
   },
   {
    "duration": 14,
    "start_time": "2025-02-20T11:56:30.277Z"
   },
   {
    "duration": 4,
    "start_time": "2025-02-20T12:01:15.031Z"
   },
   {
    "duration": 33,
    "start_time": "2025-02-20T12:01:36.505Z"
   },
   {
    "duration": 98,
    "start_time": "2025-02-20T12:01:40.270Z"
   },
   {
    "duration": 10,
    "start_time": "2025-02-20T12:01:54.337Z"
   },
   {
    "duration": 9,
    "start_time": "2025-02-20T12:02:05.663Z"
   },
   {
    "duration": 10,
    "start_time": "2025-02-20T12:02:13.039Z"
   },
   {
    "duration": 9,
    "start_time": "2025-02-20T12:03:26.309Z"
   },
   {
    "duration": 9,
    "start_time": "2025-02-20T12:04:01.810Z"
   },
   {
    "duration": 1200,
    "start_time": "2025-02-20T12:05:00.561Z"
   },
   {
    "duration": 1821,
    "start_time": "2025-02-20T12:05:01.763Z"
   },
   {
    "duration": 309,
    "start_time": "2025-02-20T12:05:03.586Z"
   },
   {
    "duration": 176,
    "start_time": "2025-02-20T12:05:03.905Z"
   },
   {
    "duration": 88,
    "start_time": "2025-02-20T12:05:04.084Z"
   },
   {
    "duration": 7,
    "start_time": "2025-02-20T12:05:04.174Z"
   },
   {
    "duration": 54,
    "start_time": "2025-02-20T12:05:04.183Z"
   },
   {
    "duration": 436,
    "start_time": "2025-02-20T12:05:04.239Z"
   },
   {
    "duration": 106,
    "start_time": "2025-02-20T12:05:15.571Z"
   },
   {
    "duration": 13,
    "start_time": "2025-02-20T12:05:24.361Z"
   },
   {
    "duration": 14,
    "start_time": "2025-02-20T12:05:29.172Z"
   },
   {
    "duration": 1255,
    "start_time": "2025-02-20T12:05:35.201Z"
   },
   {
    "duration": 1562,
    "start_time": "2025-02-20T12:05:36.458Z"
   },
   {
    "duration": 295,
    "start_time": "2025-02-20T12:05:38.022Z"
   },
   {
    "duration": 157,
    "start_time": "2025-02-20T12:05:38.319Z"
   },
   {
    "duration": 68,
    "start_time": "2025-02-20T12:05:38.478Z"
   },
   {
    "duration": 8,
    "start_time": "2025-02-20T12:05:38.548Z"
   },
   {
    "duration": 56,
    "start_time": "2025-02-20T12:05:38.558Z"
   },
   {
    "duration": 472,
    "start_time": "2025-02-20T12:05:38.616Z"
   },
   {
    "duration": 13,
    "start_time": "2025-02-20T12:05:43.256Z"
   },
   {
    "duration": 114,
    "start_time": "2025-02-20T12:05:50.781Z"
   },
   {
    "duration": 16,
    "start_time": "2025-02-20T12:05:53.958Z"
   },
   {
    "duration": 1236,
    "start_time": "2025-02-20T12:05:57.796Z"
   },
   {
    "duration": 1643,
    "start_time": "2025-02-20T12:05:59.034Z"
   },
   {
    "duration": 340,
    "start_time": "2025-02-20T12:06:00.679Z"
   },
   {
    "duration": 147,
    "start_time": "2025-02-20T12:06:01.021Z"
   },
   {
    "duration": 85,
    "start_time": "2025-02-20T12:06:01.170Z"
   },
   {
    "duration": 134,
    "start_time": "2025-02-20T12:06:01.256Z"
   },
   {
    "duration": 44,
    "start_time": "2025-02-20T12:06:01.392Z"
   },
   {
    "duration": 46,
    "start_time": "2025-02-20T12:06:01.438Z"
   },
   {
    "duration": 486,
    "start_time": "2025-02-20T12:06:01.485Z"
   },
   {
    "duration": 78,
    "start_time": "2025-02-20T12:06:29.736Z"
   },
   {
    "duration": 96,
    "start_time": "2025-02-20T12:06:52.598Z"
   },
   {
    "duration": 4,
    "start_time": "2025-02-20T12:07:39.905Z"
   },
   {
    "duration": 70,
    "start_time": "2025-02-20T12:07:46.866Z"
   },
   {
    "duration": 5,
    "start_time": "2025-02-20T12:10:57.101Z"
   },
   {
    "duration": 12,
    "start_time": "2025-02-20T12:11:02.402Z"
   },
   {
    "duration": 5,
    "start_time": "2025-02-20T12:11:45.215Z"
   },
   {
    "duration": 11,
    "start_time": "2025-02-20T12:11:45.673Z"
   },
   {
    "duration": 378,
    "start_time": "2025-02-20T12:12:30.430Z"
   },
   {
    "duration": 1436,
    "start_time": "2025-02-23T12:55:00.339Z"
   },
   {
    "duration": 2012,
    "start_time": "2025-02-23T12:55:01.778Z"
   },
   {
    "duration": 361,
    "start_time": "2025-02-23T12:55:03.791Z"
   },
   {
    "duration": 182,
    "start_time": "2025-02-23T12:55:04.154Z"
   },
   {
    "duration": 45,
    "start_time": "2025-02-23T12:55:04.338Z"
   },
   {
    "duration": 119,
    "start_time": "2025-02-23T12:55:04.399Z"
   },
   {
    "duration": 0,
    "start_time": "2025-02-23T12:55:04.520Z"
   },
   {
    "duration": 0,
    "start_time": "2025-02-23T12:55:04.522Z"
   },
   {
    "duration": 0,
    "start_time": "2025-02-23T12:55:04.523Z"
   },
   {
    "duration": 0,
    "start_time": "2025-02-23T12:55:04.524Z"
   },
   {
    "duration": 442,
    "start_time": "2025-02-23T12:55:31.373Z"
   },
   {
    "duration": 11,
    "start_time": "2025-02-23T12:56:01.588Z"
   },
   {
    "duration": 14,
    "start_time": "2025-02-23T12:56:27.628Z"
   },
   {
    "duration": 10,
    "start_time": "2025-02-23T12:56:49.155Z"
   },
   {
    "duration": 10,
    "start_time": "2025-02-23T12:57:13.658Z"
   },
   {
    "duration": 1304,
    "start_time": "2025-02-23T12:57:22.007Z"
   },
   {
    "duration": 2181,
    "start_time": "2025-02-23T12:57:23.314Z"
   },
   {
    "duration": 323,
    "start_time": "2025-02-23T12:57:25.499Z"
   },
   {
    "duration": 158,
    "start_time": "2025-02-23T12:57:25.824Z"
   },
   {
    "duration": 64,
    "start_time": "2025-02-23T12:57:25.984Z"
   },
   {
    "duration": 131,
    "start_time": "2025-02-23T12:57:26.049Z"
   },
   {
    "duration": 0,
    "start_time": "2025-02-23T12:57:26.182Z"
   },
   {
    "duration": 0,
    "start_time": "2025-02-23T12:57:26.183Z"
   },
   {
    "duration": 0,
    "start_time": "2025-02-23T12:57:26.184Z"
   },
   {
    "duration": 0,
    "start_time": "2025-02-23T12:57:26.185Z"
   },
   {
    "duration": 6,
    "start_time": "2025-02-23T12:59:28.175Z"
   },
   {
    "duration": 53,
    "start_time": "2025-02-23T12:59:30.602Z"
   },
   {
    "duration": 4,
    "start_time": "2025-02-23T12:59:56.437Z"
   },
   {
    "duration": 71,
    "start_time": "2025-02-23T12:59:59.430Z"
   },
   {
    "duration": 50,
    "start_time": "2025-02-23T13:00:02.934Z"
   },
   {
    "duration": 3,
    "start_time": "2025-02-23T13:00:12.458Z"
   },
   {
    "duration": 1259,
    "start_time": "2025-02-23T13:00:50.283Z"
   },
   {
    "duration": 1539,
    "start_time": "2025-02-23T13:00:51.544Z"
   },
   {
    "duration": 295,
    "start_time": "2025-02-23T13:00:53.085Z"
   },
   {
    "duration": 154,
    "start_time": "2025-02-23T13:00:53.382Z"
   },
   {
    "duration": 114,
    "start_time": "2025-02-23T13:00:53.539Z"
   },
   {
    "duration": 25,
    "start_time": "2025-02-23T13:00:53.655Z"
   },
   {
    "duration": 474,
    "start_time": "2025-02-23T13:00:53.681Z"
   },
   {
    "duration": 11,
    "start_time": "2025-02-23T13:00:54.158Z"
   },
   {
    "duration": 29,
    "start_time": "2025-02-23T13:00:54.171Z"
   },
   {
    "duration": 1507,
    "start_time": "2025-02-23T13:00:54.203Z"
   },
   {
    "duration": 1494,
    "start_time": "2025-02-24T06:13:17.627Z"
   },
   {
    "duration": 1619,
    "start_time": "2025-02-24T06:13:19.123Z"
   },
   {
    "duration": 304,
    "start_time": "2025-02-24T06:13:20.744Z"
   },
   {
    "duration": 160,
    "start_time": "2025-02-24T06:13:21.050Z"
   },
   {
    "duration": 3,
    "start_time": "2025-02-24T06:13:21.213Z"
   },
   {
    "duration": 1212,
    "start_time": "2025-02-24T06:13:21.218Z"
   },
   {
    "duration": 122,
    "start_time": "2025-02-24T06:13:22.432Z"
   },
   {
    "duration": 0,
    "start_time": "2025-02-24T06:13:22.556Z"
   },
   {
    "duration": 0,
    "start_time": "2025-02-24T06:13:22.561Z"
   },
   {
    "duration": 1,
    "start_time": "2025-02-24T06:13:22.562Z"
   },
   {
    "duration": 111,
    "start_time": "2025-02-24T06:14:06.538Z"
   },
   {
    "duration": 100,
    "start_time": "2025-02-24T06:14:11.433Z"
   },
   {
    "duration": 1077,
    "start_time": "2025-02-24T06:14:20.000Z"
   },
   {
    "duration": 1097,
    "start_time": "2025-02-24T06:14:27.142Z"
   },
   {
    "duration": 1218,
    "start_time": "2025-02-24T06:14:41.683Z"
   },
   {
    "duration": 1992,
    "start_time": "2025-02-24T06:14:42.903Z"
   },
   {
    "duration": 310,
    "start_time": "2025-02-24T06:14:44.897Z"
   },
   {
    "duration": 160,
    "start_time": "2025-02-24T06:14:45.209Z"
   },
   {
    "duration": 5,
    "start_time": "2025-02-24T06:14:45.371Z"
   },
   {
    "duration": 1187,
    "start_time": "2025-02-24T06:14:45.378Z"
   },
   {
    "duration": 121,
    "start_time": "2025-02-24T06:14:46.566Z"
   },
   {
    "duration": 0,
    "start_time": "2025-02-24T06:14:46.688Z"
   },
   {
    "duration": 0,
    "start_time": "2025-02-24T06:14:46.689Z"
   },
   {
    "duration": 0,
    "start_time": "2025-02-24T06:14:46.690Z"
   },
   {
    "duration": 1301,
    "start_time": "2025-02-24T06:16:26.426Z"
   },
   {
    "duration": 1609,
    "start_time": "2025-02-24T06:16:27.729Z"
   },
   {
    "duration": 365,
    "start_time": "2025-02-24T06:16:29.340Z"
   },
   {
    "duration": 156,
    "start_time": "2025-02-24T06:16:29.707Z"
   },
   {
    "duration": 51,
    "start_time": "2025-02-24T06:16:29.866Z"
   },
   {
    "duration": 17,
    "start_time": "2025-02-24T06:16:29.919Z"
   },
   {
    "duration": 427,
    "start_time": "2025-02-24T06:16:29.938Z"
   },
   {
    "duration": 8,
    "start_time": "2025-02-24T06:16:30.366Z"
   },
   {
    "duration": 22,
    "start_time": "2025-02-24T06:16:30.376Z"
   },
   {
    "duration": 1487,
    "start_time": "2025-02-24T06:16:30.400Z"
   },
   {
    "duration": 10,
    "start_time": "2025-02-24T06:18:31.636Z"
   },
   {
    "duration": 5,
    "start_time": "2025-02-24T06:18:35.041Z"
   },
   {
    "duration": 16,
    "start_time": "2025-02-24T06:18:50.372Z"
   },
   {
    "duration": 1193,
    "start_time": "2025-02-24T06:18:56.806Z"
   },
   {
    "duration": 1626,
    "start_time": "2025-02-24T06:18:58.001Z"
   },
   {
    "duration": 319,
    "start_time": "2025-02-24T06:18:59.629Z"
   },
   {
    "duration": 150,
    "start_time": "2025-02-24T06:18:59.950Z"
   },
   {
    "duration": 76,
    "start_time": "2025-02-24T06:19:00.103Z"
   },
   {
    "duration": 31,
    "start_time": "2025-02-24T06:19:00.181Z"
   },
   {
    "duration": 46,
    "start_time": "2025-02-24T06:19:00.215Z"
   },
   {
    "duration": 73,
    "start_time": "2025-02-24T06:19:00.263Z"
   },
   {
    "duration": 1458,
    "start_time": "2025-02-24T06:19:00.338Z"
   },
   {
    "duration": 8,
    "start_time": "2025-02-24T06:21:25.862Z"
   },
   {
    "duration": 8,
    "start_time": "2025-02-24T06:21:30.158Z"
   },
   {
    "duration": 32,
    "start_time": "2025-02-24T06:21:42.750Z"
   },
   {
    "duration": 23,
    "start_time": "2025-02-24T06:21:51.841Z"
   },
   {
    "duration": 51,
    "start_time": "2025-02-24T06:21:54.702Z"
   },
   {
    "duration": 14,
    "start_time": "2025-02-24T06:21:59.193Z"
   },
   {
    "duration": 24,
    "start_time": "2025-02-24T06:22:08.041Z"
   },
   {
    "duration": 8,
    "start_time": "2025-02-24T06:22:25.747Z"
   },
   {
    "duration": 30,
    "start_time": "2025-02-24T06:26:49.129Z"
   },
   {
    "duration": 14,
    "start_time": "2025-02-24T06:27:02.703Z"
   },
   {
    "duration": 25,
    "start_time": "2025-02-24T06:27:38.525Z"
   },
   {
    "duration": 26,
    "start_time": "2025-02-24T06:29:48.238Z"
   },
   {
    "duration": 25,
    "start_time": "2025-02-24T06:29:57.501Z"
   },
   {
    "duration": 25,
    "start_time": "2025-02-24T06:31:25.404Z"
   },
   {
    "duration": 24,
    "start_time": "2025-02-24T06:33:26.073Z"
   },
   {
    "duration": 8,
    "start_time": "2025-02-24T06:33:46.850Z"
   },
   {
    "duration": 8,
    "start_time": "2025-02-24T06:33:55.032Z"
   },
   {
    "duration": 7,
    "start_time": "2025-02-24T06:33:58.184Z"
   },
   {
    "duration": 25,
    "start_time": "2025-02-24T06:34:20.131Z"
   },
   {
    "duration": 43,
    "start_time": "2025-02-24T06:34:25.018Z"
   },
   {
    "duration": 24,
    "start_time": "2025-02-24T06:34:27.425Z"
   },
   {
    "duration": 7,
    "start_time": "2025-02-24T06:35:22.080Z"
   },
   {
    "duration": 7,
    "start_time": "2025-02-24T06:35:44.641Z"
   },
   {
    "duration": 25,
    "start_time": "2025-02-24T06:36:03.159Z"
   },
   {
    "duration": 26,
    "start_time": "2025-02-24T06:36:48.371Z"
   },
   {
    "duration": 25,
    "start_time": "2025-02-24T06:37:14.773Z"
   },
   {
    "duration": 45,
    "start_time": "2025-02-24T06:46:26.238Z"
   },
   {
    "duration": 112,
    "start_time": "2025-02-24T06:46:47.731Z"
   },
   {
    "duration": 100,
    "start_time": "2025-02-24T06:49:09.877Z"
   },
   {
    "duration": 118,
    "start_time": "2025-02-24T06:49:35.710Z"
   },
   {
    "duration": 225,
    "start_time": "2025-02-24T06:49:48.690Z"
   },
   {
    "duration": 1247,
    "start_time": "2025-02-24T06:49:57.371Z"
   },
   {
    "duration": 2802,
    "start_time": "2025-02-24T06:49:58.620Z"
   },
   {
    "duration": 360,
    "start_time": "2025-02-24T06:50:01.423Z"
   },
   {
    "duration": 157,
    "start_time": "2025-02-24T06:50:01.784Z"
   },
   {
    "duration": 88,
    "start_time": "2025-02-24T06:50:01.943Z"
   },
   {
    "duration": 118,
    "start_time": "2025-02-24T06:50:02.033Z"
   },
   {
    "duration": 300,
    "start_time": "2025-02-24T06:50:02.152Z"
   },
   {
    "duration": 90,
    "start_time": "2025-02-24T06:50:02.453Z"
   },
   {
    "duration": 18,
    "start_time": "2025-02-24T06:50:02.545Z"
   },
   {
    "duration": 85,
    "start_time": "2025-02-24T06:50:02.565Z"
   },
   {
    "duration": 1470,
    "start_time": "2025-02-24T06:50:02.651Z"
   },
   {
    "duration": 197,
    "start_time": "2025-02-24T07:01:18.675Z"
   },
   {
    "duration": 157,
    "start_time": "2025-02-24T07:02:27.092Z"
   },
   {
    "duration": 156,
    "start_time": "2025-02-24T07:02:46.725Z"
   },
   {
    "duration": 180,
    "start_time": "2025-02-24T07:02:51.080Z"
   },
   {
    "duration": 130,
    "start_time": "2025-02-24T07:05:56.925Z"
   },
   {
    "duration": 127,
    "start_time": "2025-02-24T07:07:12.783Z"
   },
   {
    "duration": 136,
    "start_time": "2025-02-24T07:07:21.428Z"
   },
   {
    "duration": 172,
    "start_time": "2025-02-24T07:12:17.152Z"
   },
   {
    "duration": 3,
    "start_time": "2025-02-24T07:12:41.764Z"
   },
   {
    "duration": 3,
    "start_time": "2025-02-24T07:12:48.145Z"
   },
   {
    "duration": 1237,
    "start_time": "2025-02-24T07:13:26.401Z"
   },
   {
    "duration": 1900,
    "start_time": "2025-02-24T07:13:27.640Z"
   },
   {
    "duration": 331,
    "start_time": "2025-02-24T07:13:29.542Z"
   },
   {
    "duration": 159,
    "start_time": "2025-02-24T07:13:29.875Z"
   },
   {
    "duration": 90,
    "start_time": "2025-02-24T07:13:30.037Z"
   },
   {
    "duration": 14,
    "start_time": "2025-02-24T07:13:30.128Z"
   },
   {
    "duration": 214,
    "start_time": "2025-02-24T07:13:30.143Z"
   },
   {
    "duration": 82,
    "start_time": "2025-02-24T07:13:30.362Z"
   },
   {
    "duration": 208,
    "start_time": "2025-02-24T07:13:30.445Z"
   },
   {
    "duration": 202,
    "start_time": "2025-02-24T07:13:30.655Z"
   },
   {
    "duration": 153,
    "start_time": "2025-02-24T07:13:30.862Z"
   },
   {
    "duration": 8,
    "start_time": "2025-02-24T07:13:31.017Z"
   },
   {
    "duration": 65,
    "start_time": "2025-02-24T07:13:31.027Z"
   },
   {
    "duration": 1513,
    "start_time": "2025-02-24T07:13:31.094Z"
   },
   {
    "duration": 108,
    "start_time": "2025-02-24T07:13:49.083Z"
   },
   {
    "duration": 206,
    "start_time": "2025-02-24T07:14:16.808Z"
   },
   {
    "duration": 108,
    "start_time": "2025-02-24T07:14:20.628Z"
   },
   {
    "duration": 54,
    "start_time": "2025-02-24T09:29:10.587Z"
   },
   {
    "duration": 6,
    "start_time": "2025-02-24T09:29:17.244Z"
   },
   {
    "duration": 7,
    "start_time": "2025-02-24T09:29:20.900Z"
   },
   {
    "duration": 1527,
    "start_time": "2025-02-24T09:29:25.979Z"
   },
   {
    "duration": 2339,
    "start_time": "2025-02-24T09:29:27.509Z"
   },
   {
    "duration": 315,
    "start_time": "2025-02-24T09:29:29.850Z"
   },
   {
    "duration": 178,
    "start_time": "2025-02-24T09:29:30.171Z"
   },
   {
    "duration": 83,
    "start_time": "2025-02-24T09:29:30.355Z"
   },
   {
    "duration": 45,
    "start_time": "2025-02-24T09:29:30.440Z"
   },
   {
    "duration": 209,
    "start_time": "2025-02-24T09:29:30.487Z"
   },
   {
    "duration": 83,
    "start_time": "2025-02-24T09:29:30.698Z"
   },
   {
    "duration": 191,
    "start_time": "2025-02-24T09:29:30.783Z"
   },
   {
    "duration": 200,
    "start_time": "2025-02-24T09:29:30.977Z"
   },
   {
    "duration": 134,
    "start_time": "2025-02-24T09:29:31.179Z"
   },
   {
    "duration": 214,
    "start_time": "2025-02-24T09:29:31.315Z"
   },
   {
    "duration": 102,
    "start_time": "2025-02-24T09:29:31.531Z"
   },
   {
    "duration": 8,
    "start_time": "2025-02-24T09:29:31.635Z"
   },
   {
    "duration": 31,
    "start_time": "2025-02-24T09:29:31.645Z"
   },
   {
    "duration": 1654,
    "start_time": "2025-02-24T09:29:31.678Z"
   },
   {
    "duration": 157,
    "start_time": "2025-02-24T09:29:37.797Z"
   },
   {
    "duration": 156,
    "start_time": "2025-02-24T09:29:43.087Z"
   },
   {
    "duration": 174,
    "start_time": "2025-02-24T09:29:45.924Z"
   },
   {
    "duration": 1417,
    "start_time": "2025-02-24T09:51:05.044Z"
   },
   {
    "duration": 1796,
    "start_time": "2025-02-24T09:51:06.464Z"
   },
   {
    "duration": 329,
    "start_time": "2025-02-24T09:51:08.262Z"
   },
   {
    "duration": 178,
    "start_time": "2025-02-24T09:51:08.594Z"
   },
   {
    "duration": 71,
    "start_time": "2025-02-24T09:51:08.775Z"
   },
   {
    "duration": 25,
    "start_time": "2025-02-24T09:51:08.848Z"
   },
   {
    "duration": 267,
    "start_time": "2025-02-24T09:51:08.876Z"
   },
   {
    "duration": 99,
    "start_time": "2025-02-24T09:51:09.145Z"
   },
   {
    "duration": 205,
    "start_time": "2025-02-24T09:51:09.247Z"
   },
   {
    "duration": 207,
    "start_time": "2025-02-24T09:51:09.454Z"
   },
   {
    "duration": 109,
    "start_time": "2025-02-24T09:51:09.663Z"
   },
   {
    "duration": 8,
    "start_time": "2025-02-24T09:51:09.774Z"
   },
   {
    "duration": 17,
    "start_time": "2025-02-24T09:51:09.785Z"
   },
   {
    "duration": 1471,
    "start_time": "2025-02-24T09:51:09.805Z"
   },
   {
    "duration": 0,
    "start_time": "2025-02-24T09:51:38.067Z"
   },
   {
    "duration": 0,
    "start_time": "2025-02-24T09:51:38.073Z"
   },
   {
    "duration": 0,
    "start_time": "2025-02-24T09:51:38.074Z"
   },
   {
    "duration": 0,
    "start_time": "2025-02-24T09:51:38.075Z"
   },
   {
    "duration": 0,
    "start_time": "2025-02-24T09:51:38.076Z"
   },
   {
    "duration": 0,
    "start_time": "2025-02-24T09:51:38.078Z"
   },
   {
    "duration": 0,
    "start_time": "2025-02-24T09:51:38.080Z"
   },
   {
    "duration": 0,
    "start_time": "2025-02-24T09:51:38.081Z"
   },
   {
    "duration": 0,
    "start_time": "2025-02-24T09:51:38.083Z"
   },
   {
    "duration": 0,
    "start_time": "2025-02-24T09:51:38.084Z"
   },
   {
    "duration": 0,
    "start_time": "2025-02-24T09:51:38.085Z"
   },
   {
    "duration": 0,
    "start_time": "2025-02-24T09:51:38.087Z"
   },
   {
    "duration": 0,
    "start_time": "2025-02-24T09:51:38.088Z"
   },
   {
    "duration": 0,
    "start_time": "2025-02-24T09:51:38.090Z"
   },
   {
    "duration": 1308,
    "start_time": "2025-02-24T09:52:03.822Z"
   },
   {
    "duration": 1981,
    "start_time": "2025-02-24T09:52:05.133Z"
   },
   {
    "duration": 310,
    "start_time": "2025-02-24T09:52:07.116Z"
   },
   {
    "duration": 156,
    "start_time": "2025-02-24T09:52:07.428Z"
   },
   {
    "duration": 63,
    "start_time": "2025-02-24T09:52:07.588Z"
   },
   {
    "duration": 6,
    "start_time": "2025-02-24T09:52:07.672Z"
   },
   {
    "duration": 224,
    "start_time": "2025-02-24T09:52:07.681Z"
   },
   {
    "duration": 95,
    "start_time": "2025-02-24T09:52:07.907Z"
   },
   {
    "duration": 191,
    "start_time": "2025-02-24T09:52:08.005Z"
   },
   {
    "duration": 205,
    "start_time": "2025-02-24T09:52:08.198Z"
   },
   {
    "duration": 106,
    "start_time": "2025-02-24T09:52:08.405Z"
   },
   {
    "duration": 8,
    "start_time": "2025-02-24T09:52:08.513Z"
   },
   {
    "duration": 26,
    "start_time": "2025-02-24T09:52:08.523Z"
   },
   {
    "duration": 1410,
    "start_time": "2025-02-24T09:52:08.553Z"
   },
   {
    "duration": 164,
    "start_time": "2025-02-24T09:53:45.616Z"
   },
   {
    "duration": 1379,
    "start_time": "2025-02-24T09:54:23.573Z"
   },
   {
    "duration": 2366,
    "start_time": "2025-02-24T09:54:24.954Z"
   },
   {
    "duration": 325,
    "start_time": "2025-02-24T09:54:27.322Z"
   },
   {
    "duration": 163,
    "start_time": "2025-02-24T09:54:27.651Z"
   },
   {
    "duration": 72,
    "start_time": "2025-02-24T09:54:27.817Z"
   },
   {
    "duration": 17,
    "start_time": "2025-02-24T09:54:27.891Z"
   },
   {
    "duration": 214,
    "start_time": "2025-02-24T09:54:27.910Z"
   },
   {
    "duration": 207,
    "start_time": "2025-02-24T09:54:28.126Z"
   },
   {
    "duration": 396,
    "start_time": "2025-02-24T09:54:28.335Z"
   },
   {
    "duration": 9,
    "start_time": "2025-02-24T09:54:28.733Z"
   },
   {
    "duration": 35,
    "start_time": "2025-02-24T09:54:28.744Z"
   },
   {
    "duration": 1522,
    "start_time": "2025-02-24T09:54:28.781Z"
   },
   {
    "duration": 7,
    "start_time": "2025-02-24T09:55:07.778Z"
   },
   {
    "duration": 8,
    "start_time": "2025-02-24T09:55:16.349Z"
   },
   {
    "duration": 23,
    "start_time": "2025-02-24T09:55:27.272Z"
   },
   {
    "duration": 6,
    "start_time": "2025-02-24T09:55:36.594Z"
   },
   {
    "duration": 23,
    "start_time": "2025-02-24T09:56:29.848Z"
   },
   {
    "duration": 9,
    "start_time": "2025-02-24T09:56:36.230Z"
   },
   {
    "duration": 40,
    "start_time": "2025-02-24T09:58:15.017Z"
   },
   {
    "duration": 1300,
    "start_time": "2025-02-24T12:09:48.599Z"
   },
   {
    "duration": 1557,
    "start_time": "2025-02-24T12:09:49.901Z"
   },
   {
    "duration": 327,
    "start_time": "2025-02-24T12:09:51.459Z"
   },
   {
    "duration": 139,
    "start_time": "2025-02-24T12:09:51.788Z"
   },
   {
    "duration": 62,
    "start_time": "2025-02-24T12:09:51.929Z"
   },
   {
    "duration": 18,
    "start_time": "2025-02-24T12:09:51.993Z"
   },
   {
    "duration": 29,
    "start_time": "2025-02-24T12:09:52.013Z"
   },
   {
    "duration": 188,
    "start_time": "2025-02-24T12:09:52.043Z"
   },
   {
    "duration": 190,
    "start_time": "2025-02-24T12:09:52.232Z"
   },
   {
    "duration": 346,
    "start_time": "2025-02-24T12:09:52.423Z"
   },
   {
    "duration": 8,
    "start_time": "2025-02-24T12:09:52.770Z"
   },
   {
    "duration": 16,
    "start_time": "2025-02-24T12:09:52.779Z"
   },
   {
    "duration": 1921,
    "start_time": "2025-02-24T12:09:52.796Z"
   },
   {
    "duration": 6,
    "start_time": "2025-02-24T12:10:26.213Z"
   },
   {
    "duration": 6,
    "start_time": "2025-02-24T12:10:39.105Z"
   },
   {
    "duration": 1242,
    "start_time": "2025-02-24T12:26:26.855Z"
   },
   {
    "duration": 0,
    "start_time": "2025-02-24T12:26:28.099Z"
   },
   {
    "duration": 0,
    "start_time": "2025-02-24T12:26:28.101Z"
   },
   {
    "duration": 0,
    "start_time": "2025-02-24T12:26:28.102Z"
   },
   {
    "duration": 0,
    "start_time": "2025-02-24T12:26:28.104Z"
   },
   {
    "duration": 0,
    "start_time": "2025-02-24T12:26:28.106Z"
   },
   {
    "duration": 0,
    "start_time": "2025-02-24T12:26:28.107Z"
   },
   {
    "duration": 0,
    "start_time": "2025-02-24T12:26:28.109Z"
   },
   {
    "duration": 0,
    "start_time": "2025-02-24T12:26:28.110Z"
   },
   {
    "duration": 0,
    "start_time": "2025-02-24T12:26:28.112Z"
   },
   {
    "duration": 0,
    "start_time": "2025-02-24T12:26:28.114Z"
   },
   {
    "duration": 0,
    "start_time": "2025-02-24T12:26:28.115Z"
   },
   {
    "duration": 0,
    "start_time": "2025-02-24T12:26:28.117Z"
   },
   {
    "duration": 0,
    "start_time": "2025-02-24T12:26:28.118Z"
   },
   {
    "duration": 0,
    "start_time": "2025-02-24T12:26:28.119Z"
   },
   {
    "duration": 1250,
    "start_time": "2025-02-24T12:26:55.624Z"
   },
   {
    "duration": 0,
    "start_time": "2025-02-24T12:26:56.876Z"
   },
   {
    "duration": 0,
    "start_time": "2025-02-24T12:26:56.877Z"
   },
   {
    "duration": 0,
    "start_time": "2025-02-24T12:26:56.878Z"
   },
   {
    "duration": 0,
    "start_time": "2025-02-24T12:26:56.880Z"
   },
   {
    "duration": 0,
    "start_time": "2025-02-24T12:26:56.881Z"
   },
   {
    "duration": 0,
    "start_time": "2025-02-24T12:26:56.882Z"
   },
   {
    "duration": 0,
    "start_time": "2025-02-24T12:26:56.883Z"
   },
   {
    "duration": 0,
    "start_time": "2025-02-24T12:26:56.884Z"
   },
   {
    "duration": 0,
    "start_time": "2025-02-24T12:26:56.885Z"
   },
   {
    "duration": 0,
    "start_time": "2025-02-24T12:26:56.886Z"
   },
   {
    "duration": 0,
    "start_time": "2025-02-24T12:26:56.887Z"
   },
   {
    "duration": 0,
    "start_time": "2025-02-24T12:26:56.888Z"
   },
   {
    "duration": 0,
    "start_time": "2025-02-24T12:26:56.889Z"
   },
   {
    "duration": 0,
    "start_time": "2025-02-24T12:26:56.890Z"
   },
   {
    "duration": 10,
    "start_time": "2025-02-24T12:27:14.252Z"
   },
   {
    "duration": 9,
    "start_time": "2025-02-24T12:27:16.051Z"
   },
   {
    "duration": 1982,
    "start_time": "2025-02-24T12:27:26.510Z"
   },
   {
    "duration": 3246,
    "start_time": "2025-02-24T12:27:29.370Z"
   },
   {
    "duration": 3716,
    "start_time": "2025-02-24T12:27:40.929Z"
   },
   {
    "duration": 1873,
    "start_time": "2025-02-24T12:27:44.648Z"
   },
   {
    "duration": 270,
    "start_time": "2025-02-24T12:27:46.523Z"
   },
   {
    "duration": 142,
    "start_time": "2025-02-24T12:27:46.795Z"
   },
   {
    "duration": 57,
    "start_time": "2025-02-24T12:27:46.940Z"
   },
   {
    "duration": 5,
    "start_time": "2025-02-24T12:27:46.999Z"
   },
   {
    "duration": 9,
    "start_time": "2025-02-24T12:27:47.005Z"
   },
   {
    "duration": 198,
    "start_time": "2025-02-24T12:27:47.015Z"
   },
   {
    "duration": 189,
    "start_time": "2025-02-24T12:27:47.214Z"
   },
   {
    "duration": 159,
    "start_time": "2025-02-24T12:27:47.404Z"
   },
   {
    "duration": 105,
    "start_time": "2025-02-24T12:27:47.565Z"
   },
   {
    "duration": 109,
    "start_time": "2025-02-24T12:27:47.672Z"
   },
   {
    "duration": 0,
    "start_time": "2025-02-24T12:27:47.783Z"
   },
   {
    "duration": 0,
    "start_time": "2025-02-24T12:27:47.784Z"
   },
   {
    "duration": 0,
    "start_time": "2025-02-24T12:27:47.786Z"
   },
   {
    "duration": 10,
    "start_time": "2025-02-24T12:30:19.845Z"
   },
   {
    "duration": 6990,
    "start_time": "2025-02-24T12:30:29.197Z"
   },
   {
    "duration": 3579,
    "start_time": "2025-02-24T12:31:34.239Z"
   },
   {
    "duration": 1913,
    "start_time": "2025-02-24T12:31:37.820Z"
   },
   {
    "duration": 271,
    "start_time": "2025-02-24T12:31:39.735Z"
   },
   {
    "duration": 151,
    "start_time": "2025-02-24T12:31:40.008Z"
   },
   {
    "duration": 3,
    "start_time": "2025-02-24T12:31:40.161Z"
   },
   {
    "duration": 6,
    "start_time": "2025-02-24T12:31:40.166Z"
   },
   {
    "duration": 6,
    "start_time": "2025-02-24T12:31:40.173Z"
   },
   {
    "duration": 294,
    "start_time": "2025-02-24T12:31:40.181Z"
   },
   {
    "duration": 460,
    "start_time": "2025-02-24T12:31:40.477Z"
   },
   {
    "duration": 1126,
    "start_time": "2025-02-24T12:31:40.938Z"
   },
   {
    "duration": 144,
    "start_time": "2025-02-24T12:31:42.066Z"
   },
   {
    "duration": 3666,
    "start_time": "2025-02-24T12:32:53.825Z"
   },
   {
    "duration": 1550,
    "start_time": "2025-02-24T12:32:57.493Z"
   },
   {
    "duration": 277,
    "start_time": "2025-02-24T12:32:59.045Z"
   },
   {
    "duration": 149,
    "start_time": "2025-02-24T12:32:59.323Z"
   },
   {
    "duration": 4,
    "start_time": "2025-02-24T12:32:59.475Z"
   },
   {
    "duration": 5,
    "start_time": "2025-02-24T12:32:59.480Z"
   },
   {
    "duration": 6,
    "start_time": "2025-02-24T12:32:59.487Z"
   },
   {
    "duration": 298,
    "start_time": "2025-02-24T12:32:59.494Z"
   },
   {
    "duration": 493,
    "start_time": "2025-02-24T12:32:59.794Z"
   },
   {
    "duration": 1118,
    "start_time": "2025-02-24T12:33:00.288Z"
   },
   {
    "duration": 164,
    "start_time": "2025-02-24T12:33:01.407Z"
   },
   {
    "duration": 3575,
    "start_time": "2025-02-24T12:38:24.148Z"
   },
   {
    "duration": 1814,
    "start_time": "2025-02-24T12:38:27.725Z"
   },
   {
    "duration": 272,
    "start_time": "2025-02-24T12:38:29.540Z"
   },
   {
    "duration": 153,
    "start_time": "2025-02-24T12:38:29.813Z"
   },
   {
    "duration": 61,
    "start_time": "2025-02-24T12:38:29.968Z"
   },
   {
    "duration": 37,
    "start_time": "2025-02-24T12:38:30.031Z"
   },
   {
    "duration": 11,
    "start_time": "2025-02-24T12:38:30.070Z"
   },
   {
    "duration": 189,
    "start_time": "2025-02-24T12:38:30.083Z"
   },
   {
    "duration": 201,
    "start_time": "2025-02-24T12:38:30.274Z"
   },
   {
    "duration": 338,
    "start_time": "2025-02-24T12:38:30.477Z"
   },
   {
    "duration": 92,
    "start_time": "2025-02-24T12:38:30.816Z"
   },
   {
    "duration": 6619,
    "start_time": "2025-02-24T12:38:30.909Z"
   },
   {
    "duration": 6,
    "start_time": "2025-02-24T12:38:37.530Z"
   },
   {
    "duration": 33,
    "start_time": "2025-02-24T12:38:37.539Z"
   },
   {
    "duration": 1829,
    "start_time": "2025-02-24T12:38:37.573Z"
   },
   {
    "duration": 20,
    "start_time": "2025-02-24T12:43:18.475Z"
   },
   {
    "duration": 22,
    "start_time": "2025-02-24T12:43:27.442Z"
   },
   {
    "duration": 19,
    "start_time": "2025-02-24T12:44:06.368Z"
   },
   {
    "duration": 2359,
    "start_time": "2025-02-24T12:45:49.099Z"
   },
   {
    "duration": 1937,
    "start_time": "2025-02-24T12:47:10.458Z"
   },
   {
    "duration": 19,
    "start_time": "2025-02-25T05:41:11.411Z"
   },
   {
    "duration": 51,
    "start_time": "2025-02-25T05:41:28.492Z"
   },
   {
    "duration": 6,
    "start_time": "2025-02-25T05:41:31.909Z"
   },
   {
    "duration": 5158,
    "start_time": "2025-02-25T05:41:36.976Z"
   },
   {
    "duration": 1780,
    "start_time": "2025-02-25T05:41:42.137Z"
   },
   {
    "duration": 294,
    "start_time": "2025-02-25T05:41:43.920Z"
   },
   {
    "duration": 164,
    "start_time": "2025-02-25T05:41:44.215Z"
   },
   {
    "duration": 106,
    "start_time": "2025-02-25T05:41:44.381Z"
   },
   {
    "duration": 10,
    "start_time": "2025-02-25T05:41:44.489Z"
   },
   {
    "duration": 210,
    "start_time": "2025-02-25T05:41:44.502Z"
   },
   {
    "duration": 197,
    "start_time": "2025-02-25T05:41:44.713Z"
   },
   {
    "duration": 355,
    "start_time": "2025-02-25T05:41:44.911Z"
   },
   {
    "duration": 8,
    "start_time": "2025-02-25T05:41:45.267Z"
   },
   {
    "duration": 150,
    "start_time": "2025-02-25T05:41:45.276Z"
   },
   {
    "duration": 0,
    "start_time": "2025-02-25T05:41:45.428Z"
   },
   {
    "duration": 0,
    "start_time": "2025-02-25T05:41:45.429Z"
   },
   {
    "duration": 0,
    "start_time": "2025-02-25T05:41:45.430Z"
   },
   {
    "duration": 8,
    "start_time": "2025-02-25T05:41:54.229Z"
   },
   {
    "duration": 4,
    "start_time": "2025-02-25T05:41:58.664Z"
   },
   {
    "duration": 453,
    "start_time": "2025-02-25T05:43:00.992Z"
   },
   {
    "duration": 3842,
    "start_time": "2025-02-25T05:43:52.851Z"
   },
   {
    "duration": 2235,
    "start_time": "2025-02-25T05:43:56.696Z"
   },
   {
    "duration": 292,
    "start_time": "2025-02-25T05:43:58.933Z"
   },
   {
    "duration": 162,
    "start_time": "2025-02-25T05:43:59.227Z"
   },
   {
    "duration": 46,
    "start_time": "2025-02-25T05:43:59.391Z"
   },
   {
    "duration": 24,
    "start_time": "2025-02-25T05:43:59.438Z"
   },
   {
    "duration": 243,
    "start_time": "2025-02-25T05:43:59.464Z"
   },
   {
    "duration": 212,
    "start_time": "2025-02-25T05:43:59.709Z"
   },
   {
    "duration": 386,
    "start_time": "2025-02-25T05:43:59.923Z"
   },
   {
    "duration": 10,
    "start_time": "2025-02-25T05:44:00.311Z"
   },
   {
    "duration": 71,
    "start_time": "2025-02-25T05:44:00.323Z"
   },
   {
    "duration": 522,
    "start_time": "2025-02-25T05:44:00.396Z"
   },
   {
    "duration": 7206,
    "start_time": "2025-02-25T05:44:00.920Z"
   },
   {
    "duration": 1410,
    "start_time": "2025-02-25T05:44:08.129Z"
   },
   {
    "duration": 538,
    "start_time": "2025-02-25T05:44:45.637Z"
   },
   {
    "duration": 3749,
    "start_time": "2025-02-25T06:15:27.202Z"
   },
   {
    "duration": 1600,
    "start_time": "2025-02-25T06:15:30.953Z"
   },
   {
    "duration": 267,
    "start_time": "2025-02-25T06:15:32.554Z"
   },
   {
    "duration": 146,
    "start_time": "2025-02-25T06:15:32.823Z"
   },
   {
    "duration": 53,
    "start_time": "2025-02-25T06:15:32.971Z"
   },
   {
    "duration": 21,
    "start_time": "2025-02-25T06:15:33.026Z"
   },
   {
    "duration": 207,
    "start_time": "2025-02-25T06:15:33.049Z"
   },
   {
    "duration": 179,
    "start_time": "2025-02-25T06:15:33.258Z"
   },
   {
    "duration": 343,
    "start_time": "2025-02-25T06:15:33.439Z"
   },
   {
    "duration": 7,
    "start_time": "2025-02-25T06:15:33.784Z"
   },
   {
    "duration": 147,
    "start_time": "2025-02-25T06:15:33.793Z"
   },
   {
    "duration": 479,
    "start_time": "2025-02-25T06:15:33.942Z"
   },
   {
    "duration": 6779,
    "start_time": "2025-02-25T06:15:34.423Z"
   },
   {
    "duration": 1505,
    "start_time": "2025-02-25T06:15:41.204Z"
   },
   {
    "duration": 90,
    "start_time": "2025-02-25T06:19:51.062Z"
   },
   {
    "duration": 339,
    "start_time": "2025-02-25T06:20:57.336Z"
   },
   {
    "duration": 3713,
    "start_time": "2025-02-25T06:21:04.822Z"
   },
   {
    "duration": 2035,
    "start_time": "2025-02-25T06:21:08.537Z"
   },
   {
    "duration": 312,
    "start_time": "2025-02-25T06:21:10.574Z"
   },
   {
    "duration": 147,
    "start_time": "2025-02-25T06:21:10.887Z"
   },
   {
    "duration": 52,
    "start_time": "2025-02-25T06:21:11.036Z"
   },
   {
    "duration": 5,
    "start_time": "2025-02-25T06:21:11.090Z"
   },
   {
    "duration": 210,
    "start_time": "2025-02-25T06:21:11.096Z"
   },
   {
    "duration": 191,
    "start_time": "2025-02-25T06:21:11.308Z"
   },
   {
    "duration": 378,
    "start_time": "2025-02-25T06:21:11.501Z"
   },
   {
    "duration": 8,
    "start_time": "2025-02-25T06:21:11.881Z"
   },
   {
    "duration": 497,
    "start_time": "2025-02-25T06:21:11.890Z"
   },
   {
    "duration": 457,
    "start_time": "2025-02-25T06:21:12.389Z"
   },
   {
    "duration": 478,
    "start_time": "2025-02-25T06:21:12.847Z"
   },
   {
    "duration": 462,
    "start_time": "2025-02-25T06:21:13.327Z"
   },
   {
    "duration": 450,
    "start_time": "2025-02-25T06:21:13.791Z"
   },
   {
    "duration": 95,
    "start_time": "2025-02-25T06:21:14.243Z"
   },
   {
    "duration": 286,
    "start_time": "2025-02-25T06:21:14.339Z"
   },
   {
    "duration": 311,
    "start_time": "2025-02-25T06:21:14.627Z"
   },
   {
    "duration": 3572,
    "start_time": "2025-02-25T06:21:14.940Z"
   },
   {
    "duration": 292,
    "start_time": "2025-02-25T06:21:18.513Z"
   },
   {
    "duration": 645,
    "start_time": "2025-02-25T06:21:18.806Z"
   },
   {
    "duration": 224,
    "start_time": "2025-02-25T06:21:19.460Z"
   },
   {
    "duration": 6880,
    "start_time": "2025-02-25T06:21:19.686Z"
   },
   {
    "duration": 1358,
    "start_time": "2025-02-25T06:21:26.568Z"
   },
   {
    "duration": 3977,
    "start_time": "2025-02-25T06:50:01.053Z"
   },
   {
    "duration": 1886,
    "start_time": "2025-02-25T06:50:05.032Z"
   },
   {
    "duration": 380,
    "start_time": "2025-02-25T06:50:06.920Z"
   },
   {
    "duration": 166,
    "start_time": "2025-02-25T06:50:07.302Z"
   },
   {
    "duration": 52,
    "start_time": "2025-02-25T06:50:07.470Z"
   },
   {
    "duration": 7,
    "start_time": "2025-02-25T06:50:07.523Z"
   },
   {
    "duration": 232,
    "start_time": "2025-02-25T06:50:07.532Z"
   },
   {
    "duration": 198,
    "start_time": "2025-02-25T06:50:07.766Z"
   },
   {
    "duration": 373,
    "start_time": "2025-02-25T06:50:07.966Z"
   },
   {
    "duration": 7,
    "start_time": "2025-02-25T06:50:08.342Z"
   },
   {
    "duration": 532,
    "start_time": "2025-02-25T06:50:08.351Z"
   },
   {
    "duration": 448,
    "start_time": "2025-02-25T06:50:08.884Z"
   },
   {
    "duration": 444,
    "start_time": "2025-02-25T06:50:09.334Z"
   },
   {
    "duration": 522,
    "start_time": "2025-02-25T06:50:09.780Z"
   },
   {
    "duration": 98,
    "start_time": "2025-02-25T06:50:10.303Z"
   },
   {
    "duration": 296,
    "start_time": "2025-02-25T06:50:10.403Z"
   },
   {
    "duration": 313,
    "start_time": "2025-02-25T06:50:10.700Z"
   },
   {
    "duration": 3720,
    "start_time": "2025-02-25T06:50:11.015Z"
   },
   {
    "duration": 268,
    "start_time": "2025-02-25T06:50:14.737Z"
   },
   {
    "duration": 560,
    "start_time": "2025-02-25T06:50:15.007Z"
   },
   {
    "duration": 240,
    "start_time": "2025-02-25T06:50:15.569Z"
   },
   {
    "duration": 5715,
    "start_time": "2025-02-25T06:50:15.811Z"
   },
   {
    "duration": 1525,
    "start_time": "2025-02-25T06:50:21.527Z"
   },
   {
    "duration": 14,
    "start_time": "2025-02-25T06:51:10.806Z"
   },
   {
    "duration": 14,
    "start_time": "2025-02-25T06:51:29.532Z"
   },
   {
    "duration": 12,
    "start_time": "2025-02-25T06:51:34.758Z"
   },
   {
    "duration": 3777,
    "start_time": "2025-02-25T06:52:00.213Z"
   },
   {
    "duration": 1699,
    "start_time": "2025-02-25T06:52:03.992Z"
   },
   {
    "duration": 279,
    "start_time": "2025-02-25T06:52:05.693Z"
   },
   {
    "duration": 146,
    "start_time": "2025-02-25T06:52:05.974Z"
   },
   {
    "duration": 69,
    "start_time": "2025-02-25T06:52:06.122Z"
   },
   {
    "duration": 27,
    "start_time": "2025-02-25T06:52:06.193Z"
   },
   {
    "duration": 228,
    "start_time": "2025-02-25T06:52:06.221Z"
   },
   {
    "duration": 191,
    "start_time": "2025-02-25T06:52:06.450Z"
   },
   {
    "duration": 330,
    "start_time": "2025-02-25T06:52:06.643Z"
   },
   {
    "duration": 7,
    "start_time": "2025-02-25T06:52:06.974Z"
   },
   {
    "duration": 495,
    "start_time": "2025-02-25T06:52:06.983Z"
   },
   {
    "duration": 455,
    "start_time": "2025-02-25T06:52:07.480Z"
   },
   {
    "duration": 439,
    "start_time": "2025-02-25T06:52:07.937Z"
   },
   {
    "duration": 514,
    "start_time": "2025-02-25T06:52:08.379Z"
   },
   {
    "duration": 97,
    "start_time": "2025-02-25T06:52:08.894Z"
   },
   {
    "duration": 288,
    "start_time": "2025-02-25T06:52:08.993Z"
   },
   {
    "duration": 308,
    "start_time": "2025-02-25T06:52:09.283Z"
   },
   {
    "duration": 3609,
    "start_time": "2025-02-25T06:52:09.593Z"
   },
   {
    "duration": 271,
    "start_time": "2025-02-25T06:52:13.204Z"
   },
   {
    "duration": 596,
    "start_time": "2025-02-25T06:52:13.477Z"
   },
   {
    "duration": 243,
    "start_time": "2025-02-25T06:52:14.075Z"
   },
   {
    "duration": 5531,
    "start_time": "2025-02-25T06:52:14.319Z"
   },
   {
    "duration": 1432,
    "start_time": "2025-02-25T06:52:19.851Z"
   },
   {
    "duration": 5,
    "start_time": "2025-02-25T07:06:38.122Z"
   },
   {
    "duration": 28,
    "start_time": "2025-02-25T07:22:49.661Z"
   },
   {
    "duration": 6167,
    "start_time": "2025-02-25T11:57:50.109Z"
   },
   {
    "duration": 1911,
    "start_time": "2025-02-25T11:57:56.278Z"
   },
   {
    "duration": 298,
    "start_time": "2025-02-25T11:57:58.190Z"
   },
   {
    "duration": 148,
    "start_time": "2025-02-25T11:57:58.490Z"
   },
   {
    "duration": 56,
    "start_time": "2025-02-25T11:57:58.639Z"
   },
   {
    "duration": 5,
    "start_time": "2025-02-25T11:57:58.696Z"
   },
   {
    "duration": 196,
    "start_time": "2025-02-25T11:57:58.703Z"
   },
   {
    "duration": 180,
    "start_time": "2025-02-25T11:57:58.901Z"
   },
   {
    "duration": 327,
    "start_time": "2025-02-25T11:57:59.082Z"
   },
   {
    "duration": 8,
    "start_time": "2025-02-25T11:57:59.412Z"
   },
   {
    "duration": 541,
    "start_time": "2025-02-25T11:57:59.421Z"
   },
   {
    "duration": 12,
    "start_time": "2025-02-25T11:57:59.964Z"
   },
   {
    "duration": 399,
    "start_time": "2025-02-25T11:57:59.978Z"
   },
   {
    "duration": 21,
    "start_time": "2025-02-25T11:58:00.378Z"
   },
   {
    "duration": 477,
    "start_time": "2025-02-25T11:58:00.401Z"
   },
   {
    "duration": 513,
    "start_time": "2025-02-25T11:58:00.879Z"
   },
   {
    "duration": 106,
    "start_time": "2025-02-25T11:58:01.393Z"
   },
   {
    "duration": 295,
    "start_time": "2025-02-25T11:58:01.500Z"
   },
   {
    "duration": 301,
    "start_time": "2025-02-25T11:58:01.797Z"
   },
   {
    "duration": 3447,
    "start_time": "2025-02-25T11:58:02.100Z"
   },
   {
    "duration": 267,
    "start_time": "2025-02-25T11:58:05.549Z"
   },
   {
    "duration": 513,
    "start_time": "2025-02-25T11:58:05.817Z"
   },
   {
    "duration": 240,
    "start_time": "2025-02-25T11:58:06.332Z"
   },
   {
    "duration": 5372,
    "start_time": "2025-02-25T11:58:06.573Z"
   },
   {
    "duration": 3615,
    "start_time": "2025-02-25T11:58:11.946Z"
   },
   {
    "duration": 5,
    "start_time": "2025-02-25T11:59:18.144Z"
   },
   {
    "duration": 16,
    "start_time": "2025-02-25T11:59:18.600Z"
   },
   {
    "duration": 5,
    "start_time": "2025-02-25T11:59:22.426Z"
   },
   {
    "duration": 3680,
    "start_time": "2025-02-25T11:59:27.151Z"
   },
   {
    "duration": 1790,
    "start_time": "2025-02-25T11:59:30.833Z"
   },
   {
    "duration": 263,
    "start_time": "2025-02-25T11:59:32.625Z"
   },
   {
    "duration": 141,
    "start_time": "2025-02-25T11:59:32.889Z"
   },
   {
    "duration": 81,
    "start_time": "2025-02-25T11:59:33.032Z"
   },
   {
    "duration": 12,
    "start_time": "2025-02-25T11:59:33.115Z"
   },
   {
    "duration": 273,
    "start_time": "2025-02-25T11:59:33.129Z"
   },
   {
    "duration": 169,
    "start_time": "2025-02-25T11:59:33.403Z"
   },
   {
    "duration": 302,
    "start_time": "2025-02-25T11:59:33.574Z"
   },
   {
    "duration": 7,
    "start_time": "2025-02-25T11:59:33.878Z"
   },
   {
    "duration": 489,
    "start_time": "2025-02-25T11:59:33.887Z"
   },
   {
    "duration": 5,
    "start_time": "2025-02-25T11:59:34.378Z"
   },
   {
    "duration": 38,
    "start_time": "2025-02-25T11:59:34.385Z"
   },
   {
    "duration": 4,
    "start_time": "2025-02-25T11:59:34.426Z"
   },
   {
    "duration": 412,
    "start_time": "2025-02-25T11:59:34.432Z"
   },
   {
    "duration": 33,
    "start_time": "2025-02-25T11:59:34.846Z"
   },
   {
    "duration": 439,
    "start_time": "2025-02-25T11:59:34.880Z"
   },
   {
    "duration": 486,
    "start_time": "2025-02-25T11:59:35.321Z"
   },
   {
    "duration": 105,
    "start_time": "2025-02-25T11:59:35.809Z"
   },
   {
    "duration": 276,
    "start_time": "2025-02-25T11:59:35.916Z"
   },
   {
    "duration": 288,
    "start_time": "2025-02-25T11:59:36.193Z"
   },
   {
    "duration": 3455,
    "start_time": "2025-02-25T11:59:36.482Z"
   },
   {
    "duration": 256,
    "start_time": "2025-02-25T11:59:39.939Z"
   },
   {
    "duration": 511,
    "start_time": "2025-02-25T11:59:40.197Z"
   },
   {
    "duration": 229,
    "start_time": "2025-02-25T11:59:40.710Z"
   },
   {
    "duration": 5448,
    "start_time": "2025-02-25T11:59:40.941Z"
   },
   {
    "duration": 3208,
    "start_time": "2025-02-25T11:59:46.391Z"
   },
   {
    "duration": 21,
    "start_time": "2025-02-25T12:00:00.412Z"
   },
   {
    "duration": 44,
    "start_time": "2025-02-26T05:14:33.513Z"
   },
   {
    "duration": 4879,
    "start_time": "2025-02-26T05:14:42.206Z"
   },
   {
    "duration": 1655,
    "start_time": "2025-02-26T05:14:47.087Z"
   },
   {
    "duration": 254,
    "start_time": "2025-02-26T05:14:48.744Z"
   },
   {
    "duration": 146,
    "start_time": "2025-02-26T05:14:49.000Z"
   },
   {
    "duration": 44,
    "start_time": "2025-02-26T05:14:49.148Z"
   },
   {
    "duration": 59,
    "start_time": "2025-02-26T05:14:49.194Z"
   },
   {
    "duration": 203,
    "start_time": "2025-02-26T05:14:49.254Z"
   },
   {
    "duration": 170,
    "start_time": "2025-02-26T05:14:49.458Z"
   },
   {
    "duration": 294,
    "start_time": "2025-02-26T05:14:49.630Z"
   },
   {
    "duration": 6,
    "start_time": "2025-02-26T05:14:49.926Z"
   },
   {
    "duration": 499,
    "start_time": "2025-02-26T05:14:49.933Z"
   },
   {
    "duration": 5,
    "start_time": "2025-02-26T05:14:50.433Z"
   },
   {
    "duration": 34,
    "start_time": "2025-02-26T05:14:50.439Z"
   },
   {
    "duration": 422,
    "start_time": "2025-02-26T05:14:50.476Z"
   },
   {
    "duration": 32,
    "start_time": "2025-02-26T05:14:50.899Z"
   },
   {
    "duration": 390,
    "start_time": "2025-02-26T05:14:50.933Z"
   },
   {
    "duration": 23,
    "start_time": "2025-02-26T05:14:51.324Z"
   },
   {
    "duration": 81,
    "start_time": "2025-02-26T05:14:51.349Z"
   },
   {
    "duration": 487,
    "start_time": "2025-02-26T05:14:51.431Z"
   },
   {
    "duration": 90,
    "start_time": "2025-02-26T05:14:51.919Z"
   },
   {
    "duration": 237,
    "start_time": "2025-02-26T05:14:52.011Z"
   },
   {
    "duration": 261,
    "start_time": "2025-02-26T05:14:52.249Z"
   },
   {
    "duration": 3133,
    "start_time": "2025-02-26T05:14:52.512Z"
   },
   {
    "duration": 249,
    "start_time": "2025-02-26T05:14:55.646Z"
   },
   {
    "duration": 487,
    "start_time": "2025-02-26T05:14:55.896Z"
   },
   {
    "duration": 216,
    "start_time": "2025-02-26T05:14:56.385Z"
   },
   {
    "duration": 5149,
    "start_time": "2025-02-26T05:14:56.602Z"
   },
   {
    "duration": 1486,
    "start_time": "2025-02-26T05:15:01.752Z"
   },
   {
    "duration": 0,
    "start_time": "2025-02-26T05:15:03.240Z"
   },
   {
    "duration": 430,
    "start_time": "2025-02-26T05:15:20.606Z"
   },
   {
    "duration": 435,
    "start_time": "2025-02-26T05:16:10.886Z"
   },
   {
    "duration": 3323,
    "start_time": "2025-02-26T05:16:17.245Z"
   },
   {
    "duration": 1572,
    "start_time": "2025-02-26T05:16:20.569Z"
   },
   {
    "duration": 257,
    "start_time": "2025-02-26T05:16:22.143Z"
   },
   {
    "duration": 141,
    "start_time": "2025-02-26T05:16:22.402Z"
   },
   {
    "duration": 45,
    "start_time": "2025-02-26T05:16:22.545Z"
   },
   {
    "duration": 22,
    "start_time": "2025-02-26T05:16:22.591Z"
   },
   {
    "duration": 186,
    "start_time": "2025-02-26T05:16:22.614Z"
   },
   {
    "duration": 168,
    "start_time": "2025-02-26T05:16:22.801Z"
   },
   {
    "duration": 303,
    "start_time": "2025-02-26T05:16:22.970Z"
   },
   {
    "duration": 7,
    "start_time": "2025-02-26T05:16:23.274Z"
   },
   {
    "duration": 431,
    "start_time": "2025-02-26T05:16:23.282Z"
   },
   {
    "duration": 15,
    "start_time": "2025-02-26T05:16:23.715Z"
   },
   {
    "duration": 33,
    "start_time": "2025-02-26T05:16:23.732Z"
   },
   {
    "duration": 422,
    "start_time": "2025-02-26T05:16:23.767Z"
   },
   {
    "duration": 19,
    "start_time": "2025-02-26T05:16:24.191Z"
   },
   {
    "duration": 478,
    "start_time": "2025-02-26T05:16:24.211Z"
   },
   {
    "duration": 2,
    "start_time": "2025-02-26T05:16:24.690Z"
   },
   {
    "duration": 5,
    "start_time": "2025-02-26T05:16:24.694Z"
   },
   {
    "duration": 446,
    "start_time": "2025-02-26T05:16:24.700Z"
   },
   {
    "duration": 92,
    "start_time": "2025-02-26T05:16:25.147Z"
   },
   {
    "duration": 248,
    "start_time": "2025-02-26T05:16:25.241Z"
   },
   {
    "duration": 271,
    "start_time": "2025-02-26T05:16:25.490Z"
   },
   {
    "duration": 3196,
    "start_time": "2025-02-26T05:16:25.762Z"
   },
   {
    "duration": 242,
    "start_time": "2025-02-26T05:16:28.960Z"
   },
   {
    "duration": 494,
    "start_time": "2025-02-26T05:16:29.203Z"
   },
   {
    "duration": 221,
    "start_time": "2025-02-26T05:16:29.699Z"
   },
   {
    "duration": 5148,
    "start_time": "2025-02-26T05:16:29.922Z"
   },
   {
    "duration": 1470,
    "start_time": "2025-02-26T05:16:35.072Z"
   },
   {
    "duration": 420,
    "start_time": "2025-02-26T05:16:50.210Z"
   },
   {
    "duration": 405,
    "start_time": "2025-02-26T05:16:54.494Z"
   },
   {
    "duration": 537,
    "start_time": "2025-02-26T05:17:02.912Z"
   },
   {
    "duration": 448,
    "start_time": "2025-02-26T05:17:09.557Z"
   },
   {
    "duration": 9,
    "start_time": "2025-02-26T05:19:45.551Z"
   },
   {
    "duration": 381,
    "start_time": "2025-02-26T05:19:59.436Z"
   },
   {
    "duration": 430,
    "start_time": "2025-02-26T05:20:02.685Z"
   },
   {
    "duration": 430,
    "start_time": "2025-02-26T05:20:08.828Z"
   },
   {
    "duration": 2260,
    "start_time": "2025-02-26T05:22:27.441Z"
   },
   {
    "duration": 3349,
    "start_time": "2025-02-26T05:22:32.219Z"
   },
   {
    "duration": 1542,
    "start_time": "2025-02-26T05:22:35.570Z"
   },
   {
    "duration": 259,
    "start_time": "2025-02-26T05:22:37.114Z"
   },
   {
    "duration": 136,
    "start_time": "2025-02-26T05:22:37.374Z"
   },
   {
    "duration": 53,
    "start_time": "2025-02-26T05:22:37.512Z"
   },
   {
    "duration": 22,
    "start_time": "2025-02-26T05:22:37.566Z"
   },
   {
    "duration": 175,
    "start_time": "2025-02-26T05:22:37.590Z"
   },
   {
    "duration": 171,
    "start_time": "2025-02-26T05:22:37.767Z"
   },
   {
    "duration": 307,
    "start_time": "2025-02-26T05:22:37.940Z"
   },
   {
    "duration": 7,
    "start_time": "2025-02-26T05:22:38.249Z"
   },
   {
    "duration": 545,
    "start_time": "2025-02-26T05:22:38.257Z"
   },
   {
    "duration": 7,
    "start_time": "2025-02-26T05:22:38.803Z"
   },
   {
    "duration": 48,
    "start_time": "2025-02-26T05:22:38.811Z"
   },
   {
    "duration": 505,
    "start_time": "2025-02-26T05:22:38.862Z"
   },
   {
    "duration": 24,
    "start_time": "2025-02-26T05:22:39.369Z"
   },
   {
    "duration": 520,
    "start_time": "2025-02-26T05:22:39.394Z"
   },
   {
    "duration": 3,
    "start_time": "2025-02-26T05:22:39.915Z"
   },
   {
    "duration": 2,
    "start_time": "2025-02-26T05:22:39.929Z"
   },
   {
    "duration": 574,
    "start_time": "2025-02-26T05:22:39.933Z"
   },
   {
    "duration": 83,
    "start_time": "2025-02-26T05:22:40.508Z"
   },
   {
    "duration": 310,
    "start_time": "2025-02-26T05:22:40.593Z"
   },
   {
    "duration": 331,
    "start_time": "2025-02-26T05:22:40.905Z"
   },
   {
    "duration": 3361,
    "start_time": "2025-02-26T05:22:41.238Z"
   },
   {
    "duration": 300,
    "start_time": "2025-02-26T05:22:44.601Z"
   },
   {
    "duration": 571,
    "start_time": "2025-02-26T05:22:44.903Z"
   },
   {
    "duration": 284,
    "start_time": "2025-02-26T05:22:45.476Z"
   },
   {
    "duration": 5000,
    "start_time": "2025-02-26T05:22:45.762Z"
   },
   {
    "duration": 1356,
    "start_time": "2025-02-26T05:22:50.764Z"
   },
   {
    "duration": 3309,
    "start_time": "2025-02-26T05:23:16.554Z"
   },
   {
    "duration": 1598,
    "start_time": "2025-02-26T05:23:19.865Z"
   },
   {
    "duration": 274,
    "start_time": "2025-02-26T05:23:21.465Z"
   },
   {
    "duration": 138,
    "start_time": "2025-02-26T05:23:21.740Z"
   },
   {
    "duration": 52,
    "start_time": "2025-02-26T05:23:21.880Z"
   },
   {
    "duration": 4,
    "start_time": "2025-02-26T05:23:21.933Z"
   },
   {
    "duration": 191,
    "start_time": "2025-02-26T05:23:21.939Z"
   },
   {
    "duration": 167,
    "start_time": "2025-02-26T05:23:22.132Z"
   },
   {
    "duration": 304,
    "start_time": "2025-02-26T05:23:22.301Z"
   },
   {
    "duration": 6,
    "start_time": "2025-02-26T05:23:22.607Z"
   },
   {
    "duration": 427,
    "start_time": "2025-02-26T05:23:22.615Z"
   },
   {
    "duration": 5,
    "start_time": "2025-02-26T05:23:23.044Z"
   },
   {
    "duration": 28,
    "start_time": "2025-02-26T05:23:23.051Z"
   },
   {
    "duration": 425,
    "start_time": "2025-02-26T05:23:23.081Z"
   },
   {
    "duration": 27,
    "start_time": "2025-02-26T05:23:23.508Z"
   },
   {
    "duration": 405,
    "start_time": "2025-02-26T05:23:23.536Z"
   },
   {
    "duration": 2,
    "start_time": "2025-02-26T05:23:23.943Z"
   },
   {
    "duration": 3,
    "start_time": "2025-02-26T05:23:23.946Z"
   },
   {
    "duration": 487,
    "start_time": "2025-02-26T05:23:23.950Z"
   },
   {
    "duration": 78,
    "start_time": "2025-02-26T05:23:24.438Z"
   },
   {
    "duration": 246,
    "start_time": "2025-02-26T05:23:24.518Z"
   },
   {
    "duration": 264,
    "start_time": "2025-02-26T05:23:24.766Z"
   },
   {
    "duration": 3233,
    "start_time": "2025-02-26T05:23:25.031Z"
   },
   {
    "duration": 245,
    "start_time": "2025-02-26T05:23:28.266Z"
   },
   {
    "duration": 492,
    "start_time": "2025-02-26T05:23:28.513Z"
   },
   {
    "duration": 223,
    "start_time": "2025-02-26T05:23:29.007Z"
   },
   {
    "duration": 4979,
    "start_time": "2025-02-26T05:23:29.231Z"
   },
   {
    "duration": 1375,
    "start_time": "2025-02-26T05:23:34.212Z"
   },
   {
    "duration": 3435,
    "start_time": "2025-02-26T05:24:10.238Z"
   },
   {
    "duration": 1582,
    "start_time": "2025-02-26T05:24:13.675Z"
   },
   {
    "duration": 253,
    "start_time": "2025-02-26T05:24:15.259Z"
   },
   {
    "duration": 135,
    "start_time": "2025-02-26T05:24:15.513Z"
   },
   {
    "duration": 44,
    "start_time": "2025-02-26T05:24:15.650Z"
   },
   {
    "duration": 5,
    "start_time": "2025-02-26T05:24:15.695Z"
   },
   {
    "duration": 195,
    "start_time": "2025-02-26T05:24:15.701Z"
   },
   {
    "duration": 170,
    "start_time": "2025-02-26T05:24:15.897Z"
   },
   {
    "duration": 294,
    "start_time": "2025-02-26T05:24:16.068Z"
   },
   {
    "duration": 6,
    "start_time": "2025-02-26T05:24:16.364Z"
   },
   {
    "duration": 533,
    "start_time": "2025-02-26T05:24:16.371Z"
   },
   {
    "duration": 5,
    "start_time": "2025-02-26T05:24:16.906Z"
   },
   {
    "duration": 33,
    "start_time": "2025-02-26T05:24:16.912Z"
   },
   {
    "duration": 391,
    "start_time": "2025-02-26T05:24:16.947Z"
   },
   {
    "duration": 19,
    "start_time": "2025-02-26T05:24:17.339Z"
   },
   {
    "duration": 430,
    "start_time": "2025-02-26T05:24:17.359Z"
   },
   {
    "duration": 18,
    "start_time": "2025-02-26T05:24:17.790Z"
   },
   {
    "duration": 75,
    "start_time": "2025-02-26T05:24:17.809Z"
   },
   {
    "duration": 446,
    "start_time": "2025-02-26T05:24:17.885Z"
   },
   {
    "duration": 79,
    "start_time": "2025-02-26T05:24:18.333Z"
   },
   {
    "duration": 279,
    "start_time": "2025-02-26T05:24:18.414Z"
   },
   {
    "duration": 255,
    "start_time": "2025-02-26T05:24:18.694Z"
   },
   {
    "duration": 3134,
    "start_time": "2025-02-26T05:24:18.950Z"
   },
   {
    "duration": 236,
    "start_time": "2025-02-26T05:24:22.085Z"
   },
   {
    "duration": 464,
    "start_time": "2025-02-26T05:24:22.330Z"
   },
   {
    "duration": 208,
    "start_time": "2025-02-26T05:24:22.795Z"
   },
   {
    "duration": 5081,
    "start_time": "2025-02-26T05:24:23.005Z"
   },
   {
    "duration": 1359,
    "start_time": "2025-02-26T05:24:28.088Z"
   },
   {
    "duration": 409,
    "start_time": "2025-02-26T05:27:26.854Z"
   },
   {
    "duration": 391,
    "start_time": "2025-02-26T05:28:10.313Z"
   },
   {
    "duration": 9,
    "start_time": "2025-02-26T05:28:43.254Z"
   },
   {
    "duration": 21,
    "start_time": "2025-02-26T05:28:46.727Z"
   },
   {
    "duration": 3356,
    "start_time": "2025-02-26T05:28:50.928Z"
   },
   {
    "duration": 2066,
    "start_time": "2025-02-26T05:28:54.286Z"
   },
   {
    "duration": 285,
    "start_time": "2025-02-26T05:28:56.354Z"
   },
   {
    "duration": 135,
    "start_time": "2025-02-26T05:28:56.641Z"
   },
   {
    "duration": 42,
    "start_time": "2025-02-26T05:28:56.777Z"
   },
   {
    "duration": 37,
    "start_time": "2025-02-26T05:28:56.829Z"
   },
   {
    "duration": 205,
    "start_time": "2025-02-26T05:28:56.868Z"
   },
   {
    "duration": 187,
    "start_time": "2025-02-26T05:28:57.076Z"
   },
   {
    "duration": 347,
    "start_time": "2025-02-26T05:28:57.265Z"
   },
   {
    "duration": 17,
    "start_time": "2025-02-26T05:28:57.613Z"
   },
   {
    "duration": 427,
    "start_time": "2025-02-26T05:28:57.632Z"
   },
   {
    "duration": 5,
    "start_time": "2025-02-26T05:28:58.061Z"
   },
   {
    "duration": 23,
    "start_time": "2025-02-26T05:28:58.068Z"
   },
   {
    "duration": 414,
    "start_time": "2025-02-26T05:28:58.093Z"
   },
   {
    "duration": 27,
    "start_time": "2025-02-26T05:28:58.508Z"
   },
   {
    "duration": 425,
    "start_time": "2025-02-26T05:28:58.537Z"
   },
   {
    "duration": 23,
    "start_time": "2025-02-26T05:28:58.963Z"
   },
   {
    "duration": 19,
    "start_time": "2025-02-26T05:28:58.987Z"
   },
   {
    "duration": 82,
    "start_time": "2025-02-26T05:28:59.008Z"
   },
   {
    "duration": 407,
    "start_time": "2025-02-26T05:28:59.091Z"
   },
   {
    "duration": 450,
    "start_time": "2025-02-26T05:28:59.500Z"
   },
   {
    "duration": 85,
    "start_time": "2025-02-26T05:28:59.952Z"
   },
   {
    "duration": 352,
    "start_time": "2025-02-26T05:29:00.039Z"
   },
   {
    "duration": 199,
    "start_time": "2025-02-26T05:29:00.393Z"
   },
   {
    "duration": 3365,
    "start_time": "2025-02-26T05:29:00.594Z"
   },
   {
    "duration": 276,
    "start_time": "2025-02-26T05:29:03.960Z"
   },
   {
    "duration": 500,
    "start_time": "2025-02-26T05:29:04.238Z"
   },
   {
    "duration": 222,
    "start_time": "2025-02-26T05:29:04.739Z"
   },
   {
    "duration": 5311,
    "start_time": "2025-02-26T05:29:04.963Z"
   },
   {
    "duration": 1447,
    "start_time": "2025-02-26T05:29:10.276Z"
   },
   {
    "duration": 80,
    "start_time": "2025-02-26T05:30:10.225Z"
   },
   {
    "duration": 56,
    "start_time": "2025-02-26T05:31:17.102Z"
   },
   {
    "duration": 135,
    "start_time": "2025-02-26T05:32:07.730Z"
   },
   {
    "duration": 60,
    "start_time": "2025-02-26T05:35:49.465Z"
   },
   {
    "duration": 51,
    "start_time": "2025-02-26T05:36:19.448Z"
   },
   {
    "duration": 21,
    "start_time": "2025-02-26T05:36:54.734Z"
   },
   {
    "duration": 44,
    "start_time": "2025-02-26T05:37:07.519Z"
   },
   {
    "duration": 43,
    "start_time": "2025-02-26T05:37:30.725Z"
   },
   {
    "duration": 56,
    "start_time": "2025-02-26T05:38:37.137Z"
   },
   {
    "duration": 45,
    "start_time": "2025-02-26T05:38:45.340Z"
   },
   {
    "duration": 88,
    "start_time": "2025-02-26T05:38:58.148Z"
   },
   {
    "duration": 3377,
    "start_time": "2025-02-26T05:40:32.995Z"
   },
   {
    "duration": 1744,
    "start_time": "2025-02-26T05:40:36.374Z"
   },
   {
    "duration": 298,
    "start_time": "2025-02-26T05:40:38.119Z"
   },
   {
    "duration": 135,
    "start_time": "2025-02-26T05:40:38.419Z"
   },
   {
    "duration": 42,
    "start_time": "2025-02-26T05:40:38.556Z"
   },
   {
    "duration": 12,
    "start_time": "2025-02-26T05:40:38.599Z"
   },
   {
    "duration": 188,
    "start_time": "2025-02-26T05:40:38.613Z"
   },
   {
    "duration": 171,
    "start_time": "2025-02-26T05:40:38.803Z"
   },
   {
    "duration": 316,
    "start_time": "2025-02-26T05:40:38.975Z"
   },
   {
    "duration": 7,
    "start_time": "2025-02-26T05:40:39.292Z"
   },
   {
    "duration": 493,
    "start_time": "2025-02-26T05:40:39.301Z"
   },
   {
    "duration": 5,
    "start_time": "2025-02-26T05:40:39.796Z"
   },
   {
    "duration": 70,
    "start_time": "2025-02-26T05:40:39.802Z"
   },
   {
    "duration": 414,
    "start_time": "2025-02-26T05:40:39.875Z"
   },
   {
    "duration": 19,
    "start_time": "2025-02-26T05:40:40.291Z"
   },
   {
    "duration": 420,
    "start_time": "2025-02-26T05:40:40.312Z"
   },
   {
    "duration": 77,
    "start_time": "2025-02-26T05:40:40.734Z"
   },
   {
    "duration": 35,
    "start_time": "2025-02-26T05:40:40.813Z"
   },
   {
    "duration": 104,
    "start_time": "2025-02-26T05:40:40.849Z"
   },
   {
    "duration": 442,
    "start_time": "2025-02-26T05:40:40.955Z"
   },
   {
    "duration": 478,
    "start_time": "2025-02-26T05:40:41.399Z"
   },
   {
    "duration": 82,
    "start_time": "2025-02-26T05:40:41.879Z"
   },
   {
    "duration": 336,
    "start_time": "2025-02-26T05:40:41.962Z"
   },
   {
    "duration": 204,
    "start_time": "2025-02-26T05:40:42.300Z"
   },
   {
    "duration": 3203,
    "start_time": "2025-02-26T05:40:42.506Z"
   },
   {
    "duration": 253,
    "start_time": "2025-02-26T05:40:45.710Z"
   },
   {
    "duration": 496,
    "start_time": "2025-02-26T05:40:45.964Z"
   },
   {
    "duration": 220,
    "start_time": "2025-02-26T05:40:46.462Z"
   },
   {
    "duration": 5019,
    "start_time": "2025-02-26T05:40:46.683Z"
   },
   {
    "duration": 1399,
    "start_time": "2025-02-26T05:40:51.703Z"
   },
   {
    "duration": 64,
    "start_time": "2025-02-26T05:41:40.197Z"
   },
   {
    "duration": 99,
    "start_time": "2025-02-26T05:41:55.054Z"
   },
   {
    "duration": 159,
    "start_time": "2025-02-26T05:42:10.003Z"
   },
   {
    "duration": 3424,
    "start_time": "2025-02-26T05:47:20.557Z"
   },
   {
    "duration": 1511,
    "start_time": "2025-02-26T05:47:23.984Z"
   },
   {
    "duration": 258,
    "start_time": "2025-02-26T05:47:25.496Z"
   },
   {
    "duration": 142,
    "start_time": "2025-02-26T05:47:25.756Z"
   },
   {
    "duration": 54,
    "start_time": "2025-02-26T05:47:25.901Z"
   },
   {
    "duration": 4,
    "start_time": "2025-02-26T05:47:25.957Z"
   },
   {
    "duration": 217,
    "start_time": "2025-02-26T05:47:25.962Z"
   },
   {
    "duration": 166,
    "start_time": "2025-02-26T05:47:26.180Z"
   },
   {
    "duration": 295,
    "start_time": "2025-02-26T05:47:26.347Z"
   },
   {
    "duration": 6,
    "start_time": "2025-02-26T05:47:26.644Z"
   },
   {
    "duration": 480,
    "start_time": "2025-02-26T05:47:26.651Z"
   },
   {
    "duration": 6,
    "start_time": "2025-02-26T05:47:27.132Z"
   },
   {
    "duration": 21,
    "start_time": "2025-02-26T05:47:27.139Z"
   },
   {
    "duration": 419,
    "start_time": "2025-02-26T05:47:27.163Z"
   },
   {
    "duration": 19,
    "start_time": "2025-02-26T05:47:27.583Z"
   },
   {
    "duration": 419,
    "start_time": "2025-02-26T05:47:27.603Z"
   },
   {
    "duration": 21,
    "start_time": "2025-02-26T05:47:28.024Z"
   },
   {
    "duration": 63,
    "start_time": "2025-02-26T05:47:28.047Z"
   },
   {
    "duration": 446,
    "start_time": "2025-02-26T05:47:28.112Z"
   },
   {
    "duration": 90,
    "start_time": "2025-02-26T05:47:28.560Z"
   },
   {
    "duration": 243,
    "start_time": "2025-02-26T05:47:28.651Z"
   },
   {
    "duration": 272,
    "start_time": "2025-02-26T05:47:28.896Z"
   },
   {
    "duration": 3230,
    "start_time": "2025-02-26T05:47:29.169Z"
   },
   {
    "duration": 236,
    "start_time": "2025-02-26T05:47:32.400Z"
   },
   {
    "duration": 483,
    "start_time": "2025-02-26T05:47:32.637Z"
   },
   {
    "duration": 204,
    "start_time": "2025-02-26T05:47:33.130Z"
   },
   {
    "duration": 5151,
    "start_time": "2025-02-26T05:47:33.335Z"
   },
   {
    "duration": 1373,
    "start_time": "2025-02-26T05:47:38.488Z"
   },
   {
    "duration": 4,
    "start_time": "2025-02-26T06:11:13.051Z"
   },
   {
    "duration": 11,
    "start_time": "2025-02-26T06:16:49.320Z"
   },
   {
    "duration": 93,
    "start_time": "2025-02-26T06:16:54.637Z"
   },
   {
    "duration": 4,
    "start_time": "2025-02-26T06:17:31.967Z"
   },
   {
    "duration": 4,
    "start_time": "2025-02-26T06:17:37.857Z"
   },
   {
    "duration": 5,
    "start_time": "2025-02-26T06:17:42.266Z"
   },
   {
    "duration": 15,
    "start_time": "2025-02-26T06:17:57.171Z"
   },
   {
    "duration": 61,
    "start_time": "2025-02-26T06:18:13.091Z"
   },
   {
    "duration": 19,
    "start_time": "2025-02-26T06:18:18.349Z"
   },
   {
    "duration": 18,
    "start_time": "2025-02-26T06:39:47.212Z"
   },
   {
    "duration": 26,
    "start_time": "2025-02-26T06:40:19.528Z"
   },
   {
    "duration": 19,
    "start_time": "2025-02-26T06:40:36.755Z"
   },
   {
    "duration": 20,
    "start_time": "2025-02-26T06:41:13.044Z"
   },
   {
    "duration": 19,
    "start_time": "2025-02-26T06:42:00.548Z"
   },
   {
    "duration": 24,
    "start_time": "2025-02-26T06:42:17.713Z"
   },
   {
    "duration": 2053,
    "start_time": "2025-02-26T06:50:12.815Z"
   },
   {
    "duration": 3682,
    "start_time": "2025-02-26T06:55:05.298Z"
   },
   {
    "duration": 1558,
    "start_time": "2025-02-26T06:55:08.982Z"
   },
   {
    "duration": 280,
    "start_time": "2025-02-26T06:55:10.543Z"
   },
   {
    "duration": 159,
    "start_time": "2025-02-26T06:55:10.825Z"
   },
   {
    "duration": 59,
    "start_time": "2025-02-26T06:55:10.986Z"
   },
   {
    "duration": 6,
    "start_time": "2025-02-26T06:55:11.046Z"
   },
   {
    "duration": 204,
    "start_time": "2025-02-26T06:55:11.053Z"
   },
   {
    "duration": 198,
    "start_time": "2025-02-26T06:55:11.258Z"
   },
   {
    "duration": 350,
    "start_time": "2025-02-26T06:55:11.458Z"
   },
   {
    "duration": 6,
    "start_time": "2025-02-26T06:55:11.809Z"
   },
   {
    "duration": 473,
    "start_time": "2025-02-26T06:55:11.817Z"
   },
   {
    "duration": 6,
    "start_time": "2025-02-26T06:55:12.292Z"
   },
   {
    "duration": 40,
    "start_time": "2025-02-26T06:55:12.299Z"
   },
   {
    "duration": 9,
    "start_time": "2025-02-26T06:55:12.342Z"
   },
   {
    "duration": 447,
    "start_time": "2025-02-26T06:55:12.352Z"
   },
   {
    "duration": 19,
    "start_time": "2025-02-26T06:55:12.800Z"
   },
   {
    "duration": 427,
    "start_time": "2025-02-26T06:55:12.820Z"
   },
   {
    "duration": 18,
    "start_time": "2025-02-26T06:55:13.250Z"
   },
   {
    "duration": 90,
    "start_time": "2025-02-26T06:55:13.270Z"
   },
   {
    "duration": 496,
    "start_time": "2025-02-26T06:55:13.362Z"
   },
   {
    "duration": 96,
    "start_time": "2025-02-26T06:55:13.859Z"
   },
   {
    "duration": 299,
    "start_time": "2025-02-26T06:55:13.957Z"
   },
   {
    "duration": 293,
    "start_time": "2025-02-26T06:55:14.257Z"
   },
   {
    "duration": 3430,
    "start_time": "2025-02-26T06:55:14.552Z"
   },
   {
    "duration": 261,
    "start_time": "2025-02-26T06:55:17.983Z"
   },
   {
    "duration": 529,
    "start_time": "2025-02-26T06:55:18.246Z"
   },
   {
    "duration": 231,
    "start_time": "2025-02-26T06:55:18.777Z"
   },
   {
    "duration": 5458,
    "start_time": "2025-02-26T06:55:19.009Z"
   },
   {
    "duration": 20,
    "start_time": "2025-02-26T06:55:24.468Z"
   },
   {
    "duration": 1918,
    "start_time": "2025-02-26T06:55:24.489Z"
   },
   {
    "duration": 19,
    "start_time": "2025-02-26T06:56:42.705Z"
   },
   {
    "duration": 22,
    "start_time": "2025-02-26T06:56:46.659Z"
   },
   {
    "duration": 7,
    "start_time": "2025-02-26T06:58:37.023Z"
   },
   {
    "duration": 9,
    "start_time": "2025-02-26T06:59:00.951Z"
   },
   {
    "duration": 8,
    "start_time": "2025-02-26T06:59:12.776Z"
   },
   {
    "duration": 3469,
    "start_time": "2025-02-26T07:01:40.213Z"
   },
   {
    "duration": 1557,
    "start_time": "2025-02-26T07:01:43.684Z"
   },
   {
    "duration": 285,
    "start_time": "2025-02-26T07:01:45.243Z"
   },
   {
    "duration": 136,
    "start_time": "2025-02-26T07:01:45.530Z"
   },
   {
    "duration": 61,
    "start_time": "2025-02-26T07:01:45.667Z"
   },
   {
    "duration": 21,
    "start_time": "2025-02-26T07:01:45.730Z"
   },
   {
    "duration": 220,
    "start_time": "2025-02-26T07:01:45.753Z"
   },
   {
    "duration": 167,
    "start_time": "2025-02-26T07:01:45.975Z"
   },
   {
    "duration": 328,
    "start_time": "2025-02-26T07:01:46.144Z"
   },
   {
    "duration": 7,
    "start_time": "2025-02-26T07:01:46.475Z"
   },
   {
    "duration": 455,
    "start_time": "2025-02-26T07:01:46.484Z"
   },
   {
    "duration": 6,
    "start_time": "2025-02-26T07:01:46.941Z"
   },
   {
    "duration": 10,
    "start_time": "2025-02-26T07:01:46.948Z"
   },
   {
    "duration": 24,
    "start_time": "2025-02-26T07:01:46.959Z"
   },
   {
    "duration": 429,
    "start_time": "2025-02-26T07:01:46.984Z"
   },
   {
    "duration": 27,
    "start_time": "2025-02-26T07:01:47.415Z"
   },
   {
    "duration": 427,
    "start_time": "2025-02-26T07:01:47.444Z"
   },
   {
    "duration": 20,
    "start_time": "2025-02-26T07:01:47.872Z"
   },
   {
    "duration": 82,
    "start_time": "2025-02-26T07:01:47.893Z"
   },
   {
    "duration": 463,
    "start_time": "2025-02-26T07:01:47.976Z"
   },
   {
    "duration": 90,
    "start_time": "2025-02-26T07:01:48.441Z"
   },
   {
    "duration": 245,
    "start_time": "2025-02-26T07:01:48.533Z"
   },
   {
    "duration": 276,
    "start_time": "2025-02-26T07:01:48.780Z"
   },
   {
    "duration": 3250,
    "start_time": "2025-02-26T07:01:49.057Z"
   },
   {
    "duration": 246,
    "start_time": "2025-02-26T07:01:52.309Z"
   },
   {
    "duration": 487,
    "start_time": "2025-02-26T07:01:52.556Z"
   },
   {
    "duration": 211,
    "start_time": "2025-02-26T07:01:53.045Z"
   },
   {
    "duration": 5099,
    "start_time": "2025-02-26T07:01:53.259Z"
   },
   {
    "duration": 1694,
    "start_time": "2025-02-26T07:01:58.361Z"
   },
   {
    "duration": 8,
    "start_time": "2025-02-26T07:06:40.186Z"
   },
   {
    "duration": 8,
    "start_time": "2025-02-26T07:06:55.117Z"
   },
   {
    "duration": 4,
    "start_time": "2025-02-26T07:07:59.284Z"
   },
   {
    "duration": 107,
    "start_time": "2025-02-26T07:08:05.808Z"
   },
   {
    "duration": 109,
    "start_time": "2025-02-26T07:08:51.764Z"
   },
   {
    "duration": 510,
    "start_time": "2025-02-26T07:09:03.946Z"
   },
   {
    "duration": 1259,
    "start_time": "2025-02-26T07:10:33.603Z"
   },
   {
    "duration": 1139,
    "start_time": "2025-02-26T07:10:46.366Z"
   },
   {
    "duration": 193,
    "start_time": "2025-02-26T07:10:56.829Z"
   },
   {
    "duration": 191,
    "start_time": "2025-02-26T07:11:06.580Z"
   },
   {
    "duration": 189,
    "start_time": "2025-02-26T07:11:15.430Z"
   },
   {
    "duration": 195,
    "start_time": "2025-02-26T07:11:30.063Z"
   },
   {
    "duration": 203,
    "start_time": "2025-02-26T07:11:35.700Z"
   },
   {
    "duration": 193,
    "start_time": "2025-02-26T07:11:42.933Z"
   },
   {
    "duration": 202,
    "start_time": "2025-02-26T07:11:52.321Z"
   },
   {
    "duration": 305,
    "start_time": "2025-02-26T07:11:54.927Z"
   },
   {
    "duration": 195,
    "start_time": "2025-02-26T07:12:12.894Z"
   },
   {
    "duration": 207,
    "start_time": "2025-02-26T07:12:27.979Z"
   },
   {
    "duration": 206,
    "start_time": "2025-02-26T07:12:41.875Z"
   },
   {
    "duration": 206,
    "start_time": "2025-02-26T07:12:50.000Z"
   },
   {
    "duration": 192,
    "start_time": "2025-02-26T07:12:59.481Z"
   },
   {
    "duration": 3448,
    "start_time": "2025-02-26T07:13:18.267Z"
   },
   {
    "duration": 1706,
    "start_time": "2025-02-26T07:13:21.717Z"
   },
   {
    "duration": 255,
    "start_time": "2025-02-26T07:13:23.425Z"
   },
   {
    "duration": 133,
    "start_time": "2025-02-26T07:13:23.681Z"
   },
   {
    "duration": 58,
    "start_time": "2025-02-26T07:13:23.816Z"
   },
   {
    "duration": 5,
    "start_time": "2025-02-26T07:13:23.875Z"
   },
   {
    "duration": 230,
    "start_time": "2025-02-26T07:13:23.881Z"
   },
   {
    "duration": 169,
    "start_time": "2025-02-26T07:13:24.112Z"
   },
   {
    "duration": 316,
    "start_time": "2025-02-26T07:13:24.282Z"
   },
   {
    "duration": 6,
    "start_time": "2025-02-26T07:13:24.600Z"
   },
   {
    "duration": 497,
    "start_time": "2025-02-26T07:13:24.607Z"
   },
   {
    "duration": 209,
    "start_time": "2025-02-26T07:13:25.105Z"
   },
   {
    "duration": 4,
    "start_time": "2025-02-26T07:13:25.315Z"
   },
   {
    "duration": 4,
    "start_time": "2025-02-26T07:13:25.331Z"
   },
   {
    "duration": 23,
    "start_time": "2025-02-26T07:13:25.336Z"
   },
   {
    "duration": 426,
    "start_time": "2025-02-26T07:13:25.361Z"
   },
   {
    "duration": 20,
    "start_time": "2025-02-26T07:13:25.788Z"
   },
   {
    "duration": 428,
    "start_time": "2025-02-26T07:13:25.809Z"
   },
   {
    "duration": 20,
    "start_time": "2025-02-26T07:13:26.238Z"
   },
   {
    "duration": 74,
    "start_time": "2025-02-26T07:13:26.260Z"
   },
   {
    "duration": 484,
    "start_time": "2025-02-26T07:13:26.336Z"
   },
   {
    "duration": 80,
    "start_time": "2025-02-26T07:13:26.822Z"
   },
   {
    "duration": 397,
    "start_time": "2025-02-26T07:13:26.904Z"
   },
   {
    "duration": 210,
    "start_time": "2025-02-26T07:13:27.303Z"
   },
   {
    "duration": 3260,
    "start_time": "2025-02-26T07:13:27.515Z"
   },
   {
    "duration": 244,
    "start_time": "2025-02-26T07:13:30.777Z"
   },
   {
    "duration": 527,
    "start_time": "2025-02-26T07:13:31.023Z"
   },
   {
    "duration": 222,
    "start_time": "2025-02-26T07:13:31.551Z"
   },
   {
    "duration": 5248,
    "start_time": "2025-02-26T07:13:31.774Z"
   },
   {
    "duration": 1739,
    "start_time": "2025-02-26T07:13:37.024Z"
   },
   {
    "duration": 3569,
    "start_time": "2025-02-26T07:22:56.890Z"
   },
   {
    "duration": 2247,
    "start_time": "2025-02-26T07:23:00.461Z"
   },
   {
    "duration": 286,
    "start_time": "2025-02-26T07:23:02.709Z"
   },
   {
    "duration": 160,
    "start_time": "2025-02-26T07:23:02.997Z"
   },
   {
    "duration": 117,
    "start_time": "2025-02-26T07:23:03.159Z"
   },
   {
    "duration": 15,
    "start_time": "2025-02-26T07:23:03.277Z"
   },
   {
    "duration": 258,
    "start_time": "2025-02-26T07:23:03.294Z"
   },
   {
    "duration": 218,
    "start_time": "2025-02-26T07:23:03.553Z"
   },
   {
    "duration": 369,
    "start_time": "2025-02-26T07:23:03.772Z"
   },
   {
    "duration": 6,
    "start_time": "2025-02-26T07:23:04.148Z"
   },
   {
    "duration": 613,
    "start_time": "2025-02-26T07:23:04.156Z"
   },
   {
    "duration": 215,
    "start_time": "2025-02-26T07:23:04.770Z"
   },
   {
    "duration": 5,
    "start_time": "2025-02-26T07:23:04.986Z"
   },
   {
    "duration": 24,
    "start_time": "2025-02-26T07:23:04.992Z"
   },
   {
    "duration": 34,
    "start_time": "2025-02-26T07:23:05.017Z"
   },
   {
    "duration": 454,
    "start_time": "2025-02-26T07:23:05.053Z"
   },
   {
    "duration": 36,
    "start_time": "2025-02-26T07:23:05.508Z"
   },
   {
    "duration": 466,
    "start_time": "2025-02-26T07:23:05.546Z"
   },
   {
    "duration": 32,
    "start_time": "2025-02-26T07:23:06.013Z"
   },
   {
    "duration": 63,
    "start_time": "2025-02-26T07:23:06.047Z"
   },
   {
    "duration": 479,
    "start_time": "2025-02-26T07:23:06.112Z"
   },
   {
    "duration": 85,
    "start_time": "2025-02-26T07:23:06.592Z"
   },
   {
    "duration": 367,
    "start_time": "2025-02-26T07:23:06.678Z"
   },
   {
    "duration": 227,
    "start_time": "2025-02-26T07:23:07.047Z"
   },
   {
    "duration": 3440,
    "start_time": "2025-02-26T07:23:07.275Z"
   },
   {
    "duration": 269,
    "start_time": "2025-02-26T07:23:10.716Z"
   },
   {
    "duration": 521,
    "start_time": "2025-02-26T07:23:10.986Z"
   },
   {
    "duration": 237,
    "start_time": "2025-02-26T07:23:11.510Z"
   },
   {
    "duration": 5493,
    "start_time": "2025-02-26T07:23:11.749Z"
   },
   {
    "duration": 2514,
    "start_time": "2025-02-26T07:23:17.244Z"
   },
   {
    "duration": 211,
    "start_time": "2025-02-26T07:23:22.371Z"
   },
   {
    "duration": 3689,
    "start_time": "2025-02-26T07:26:50.456Z"
   },
   {
    "duration": 1806,
    "start_time": "2025-02-26T07:26:54.147Z"
   },
   {
    "duration": 288,
    "start_time": "2025-02-26T07:26:55.954Z"
   },
   {
    "duration": 150,
    "start_time": "2025-02-26T07:26:56.244Z"
   },
   {
    "duration": 90,
    "start_time": "2025-02-26T07:26:56.397Z"
   },
   {
    "duration": 5,
    "start_time": "2025-02-26T07:26:56.489Z"
   },
   {
    "duration": 197,
    "start_time": "2025-02-26T07:26:56.496Z"
   },
   {
    "duration": 198,
    "start_time": "2025-02-26T07:26:56.695Z"
   },
   {
    "duration": 347,
    "start_time": "2025-02-26T07:26:56.895Z"
   },
   {
    "duration": 7,
    "start_time": "2025-02-26T07:26:57.244Z"
   },
   {
    "duration": 529,
    "start_time": "2025-02-26T07:26:57.253Z"
   },
   {
    "duration": 198,
    "start_time": "2025-02-26T07:26:57.784Z"
   },
   {
    "duration": 137,
    "start_time": "2025-02-26T07:26:57.984Z"
   },
   {
    "duration": 11,
    "start_time": "2025-02-26T07:26:58.132Z"
   },
   {
    "duration": 8,
    "start_time": "2025-02-26T07:26:58.145Z"
   },
   {
    "duration": 28,
    "start_time": "2025-02-26T07:26:58.154Z"
   },
   {
    "duration": 424,
    "start_time": "2025-02-26T07:26:58.184Z"
   },
   {
    "duration": 38,
    "start_time": "2025-02-26T07:26:58.609Z"
   },
   {
    "duration": 486,
    "start_time": "2025-02-26T07:26:58.649Z"
   },
   {
    "duration": 20,
    "start_time": "2025-02-26T07:26:59.146Z"
   },
   {
    "duration": 90,
    "start_time": "2025-02-26T07:26:59.167Z"
   },
   {
    "duration": 537,
    "start_time": "2025-02-26T07:26:59.259Z"
   },
   {
    "duration": 88,
    "start_time": "2025-02-26T07:26:59.798Z"
   },
   {
    "duration": 269,
    "start_time": "2025-02-26T07:26:59.888Z"
   },
   {
    "duration": 225,
    "start_time": "2025-02-26T07:27:00.159Z"
   },
   {
    "duration": 3532,
    "start_time": "2025-02-26T07:27:00.386Z"
   },
   {
    "duration": 371,
    "start_time": "2025-02-26T07:27:03.920Z"
   },
   {
    "duration": 469,
    "start_time": "2025-02-26T07:27:04.292Z"
   },
   {
    "duration": 230,
    "start_time": "2025-02-26T07:27:04.762Z"
   },
   {
    "duration": 5617,
    "start_time": "2025-02-26T07:27:04.994Z"
   },
   {
    "duration": 2507,
    "start_time": "2025-02-26T07:27:10.613Z"
   },
   {
    "duration": 132,
    "start_time": "2025-02-26T07:28:20.996Z"
   },
   {
    "duration": 136,
    "start_time": "2025-02-26T07:28:36.186Z"
   },
   {
    "duration": 142,
    "start_time": "2025-02-26T07:28:58.625Z"
   },
   {
    "duration": 130,
    "start_time": "2025-02-26T07:29:03.425Z"
   },
   {
    "duration": 125,
    "start_time": "2025-02-26T07:29:18.485Z"
   },
   {
    "duration": 193,
    "start_time": "2025-02-26T07:29:24.875Z"
   },
   {
    "duration": 124,
    "start_time": "2025-02-26T07:29:29.942Z"
   },
   {
    "duration": 118,
    "start_time": "2025-02-26T07:29:39.016Z"
   },
   {
    "duration": 9,
    "start_time": "2025-02-26T07:31:44.595Z"
   },
   {
    "duration": 14,
    "start_time": "2025-02-26T07:32:21.961Z"
   },
   {
    "duration": 14,
    "start_time": "2025-02-26T07:32:28.530Z"
   },
   {
    "duration": 9,
    "start_time": "2025-02-26T07:32:33.707Z"
   },
   {
    "duration": 14,
    "start_time": "2025-02-26T07:32:44.742Z"
   },
   {
    "duration": 9,
    "start_time": "2025-02-26T07:32:51.016Z"
   },
   {
    "duration": 10,
    "start_time": "2025-02-26T07:32:53.262Z"
   },
   {
    "duration": 15,
    "start_time": "2025-02-26T07:33:06.381Z"
   },
   {
    "duration": 11,
    "start_time": "2025-02-26T07:42:02.598Z"
   },
   {
    "duration": 60,
    "start_time": "2025-02-26T07:43:17.071Z"
   },
   {
    "duration": 8,
    "start_time": "2025-02-26T07:43:21.415Z"
   },
   {
    "duration": 54,
    "start_time": "2025-02-26T07:43:32.324Z"
   },
   {
    "duration": 11,
    "start_time": "2025-02-26T07:43:35.843Z"
   },
   {
    "duration": 14,
    "start_time": "2025-02-26T07:44:03.674Z"
   },
   {
    "duration": 14,
    "start_time": "2025-02-26T07:44:19.377Z"
   },
   {
    "duration": 12,
    "start_time": "2025-02-26T07:44:37.753Z"
   },
   {
    "duration": 10,
    "start_time": "2025-02-26T07:45:49.435Z"
   },
   {
    "duration": 11,
    "start_time": "2025-02-26T07:45:56.414Z"
   },
   {
    "duration": 14,
    "start_time": "2025-02-26T07:46:02.787Z"
   },
   {
    "duration": 5,
    "start_time": "2025-02-26T10:29:44.453Z"
   },
   {
    "duration": 3570,
    "start_time": "2025-02-26T10:31:07.797Z"
   },
   {
    "duration": 1620,
    "start_time": "2025-02-26T10:31:11.368Z"
   },
   {
    "duration": 274,
    "start_time": "2025-02-26T10:31:12.989Z"
   },
   {
    "duration": 147,
    "start_time": "2025-02-26T10:31:13.265Z"
   },
   {
    "duration": 68,
    "start_time": "2025-02-26T10:31:13.414Z"
   },
   {
    "duration": 5,
    "start_time": "2025-02-26T10:31:13.484Z"
   },
   {
    "duration": 192,
    "start_time": "2025-02-26T10:31:13.490Z"
   },
   {
    "duration": 185,
    "start_time": "2025-02-26T10:31:13.683Z"
   },
   {
    "duration": 342,
    "start_time": "2025-02-26T10:31:13.869Z"
   },
   {
    "duration": 6,
    "start_time": "2025-02-26T10:31:14.212Z"
   },
   {
    "duration": 543,
    "start_time": "2025-02-26T10:31:14.219Z"
   },
   {
    "duration": 90,
    "start_time": "2025-02-26T10:31:14.763Z"
   },
   {
    "duration": 51,
    "start_time": "2025-02-26T10:31:14.855Z"
   },
   {
    "duration": 88,
    "start_time": "2025-02-26T10:31:14.908Z"
   },
   {
    "duration": 410,
    "start_time": "2025-02-26T10:31:14.998Z"
   },
   {
    "duration": 24,
    "start_time": "2025-02-26T10:31:15.410Z"
   },
   {
    "duration": 540,
    "start_time": "2025-02-26T10:31:15.436Z"
   },
   {
    "duration": 20,
    "start_time": "2025-02-26T10:31:15.978Z"
   },
   {
    "duration": 114,
    "start_time": "2025-02-26T10:31:16.000Z"
   },
   {
    "duration": 455,
    "start_time": "2025-02-26T10:31:16.115Z"
   },
   {
    "duration": 95,
    "start_time": "2025-02-26T10:31:16.572Z"
   },
   {
    "duration": 339,
    "start_time": "2025-02-26T10:31:16.669Z"
   },
   {
    "duration": 233,
    "start_time": "2025-02-26T10:31:17.009Z"
   },
   {
    "duration": 3399,
    "start_time": "2025-02-26T10:31:17.244Z"
   },
   {
    "duration": 252,
    "start_time": "2025-02-26T10:31:20.645Z"
   },
   {
    "duration": 565,
    "start_time": "2025-02-26T10:31:20.899Z"
   },
   {
    "duration": 247,
    "start_time": "2025-02-26T10:31:21.466Z"
   },
   {
    "duration": 5888,
    "start_time": "2025-02-26T10:31:21.715Z"
   },
   {
    "duration": 1996,
    "start_time": "2025-02-26T10:31:27.604Z"
   },
   {
    "duration": 9,
    "start_time": "2025-02-26T10:33:12.765Z"
   },
   {
    "duration": 11,
    "start_time": "2025-02-26T10:33:23.856Z"
   },
   {
    "duration": 34,
    "start_time": "2025-02-26T10:33:57.352Z"
   },
   {
    "duration": 9,
    "start_time": "2025-02-26T10:34:05.504Z"
   },
   {
    "duration": 10,
    "start_time": "2025-02-26T10:34:34.794Z"
   },
   {
    "duration": 9,
    "start_time": "2025-02-26T10:36:16.915Z"
   },
   {
    "duration": 7,
    "start_time": "2025-02-26T10:36:52.586Z"
   },
   {
    "duration": 8,
    "start_time": "2025-02-26T10:38:35.497Z"
   },
   {
    "duration": 9,
    "start_time": "2025-02-26T10:38:39.862Z"
   },
   {
    "duration": 7,
    "start_time": "2025-02-26T10:38:54.473Z"
   },
   {
    "duration": 5,
    "start_time": "2025-02-26T10:39:02.719Z"
   },
   {
    "duration": 5,
    "start_time": "2025-02-26T10:39:06.348Z"
   },
   {
    "duration": 7,
    "start_time": "2025-02-26T10:39:10.740Z"
   },
   {
    "duration": 6,
    "start_time": "2025-02-26T10:39:16.518Z"
   },
   {
    "duration": 7,
    "start_time": "2025-02-26T10:39:19.758Z"
   },
   {
    "duration": 6,
    "start_time": "2025-02-26T10:39:22.007Z"
   },
   {
    "duration": 5,
    "start_time": "2025-02-26T10:39:26.306Z"
   },
   {
    "duration": 7,
    "start_time": "2025-02-26T10:39:41.773Z"
   },
   {
    "duration": 6,
    "start_time": "2025-02-26T10:39:59.706Z"
   },
   {
    "duration": 5,
    "start_time": "2025-02-26T10:40:06.416Z"
   },
   {
    "duration": 6,
    "start_time": "2025-02-26T10:40:10.920Z"
   },
   {
    "duration": 6,
    "start_time": "2025-02-26T10:40:13.844Z"
   },
   {
    "duration": 6,
    "start_time": "2025-02-26T10:40:16.455Z"
   },
   {
    "duration": 5,
    "start_time": "2025-02-26T10:40:19.684Z"
   },
   {
    "duration": 5,
    "start_time": "2025-02-26T10:40:23.368Z"
   },
   {
    "duration": 6,
    "start_time": "2025-02-26T10:40:26.087Z"
   },
   {
    "duration": 7,
    "start_time": "2025-02-26T10:41:20.113Z"
   },
   {
    "duration": 6,
    "start_time": "2025-02-26T10:44:36.291Z"
   },
   {
    "duration": 7,
    "start_time": "2025-02-26T10:44:40.703Z"
   },
   {
    "duration": 9,
    "start_time": "2025-02-26T10:44:45.741Z"
   },
   {
    "duration": 7,
    "start_time": "2025-02-26T10:44:48.868Z"
   },
   {
    "duration": 31,
    "start_time": "2025-02-26T10:46:50.396Z"
   },
   {
    "duration": 28,
    "start_time": "2025-02-26T10:46:55.839Z"
   },
   {
    "duration": 24,
    "start_time": "2025-02-26T10:47:03.832Z"
   },
   {
    "duration": 24,
    "start_time": "2025-02-26T10:47:07.599Z"
   },
   {
    "duration": 24,
    "start_time": "2025-02-26T10:50:22.130Z"
   },
   {
    "duration": 3547,
    "start_time": "2025-02-26T10:50:26.940Z"
   },
   {
    "duration": 1982,
    "start_time": "2025-02-26T10:50:30.489Z"
   },
   {
    "duration": 281,
    "start_time": "2025-02-26T10:50:32.473Z"
   },
   {
    "duration": 151,
    "start_time": "2025-02-26T10:50:32.755Z"
   },
   {
    "duration": 54,
    "start_time": "2025-02-26T10:50:32.908Z"
   },
   {
    "duration": 88,
    "start_time": "2025-02-26T10:50:32.964Z"
   },
   {
    "duration": 214,
    "start_time": "2025-02-26T10:50:33.053Z"
   },
   {
    "duration": 176,
    "start_time": "2025-02-26T10:50:33.269Z"
   },
   {
    "duration": 310,
    "start_time": "2025-02-26T10:50:33.446Z"
   },
   {
    "duration": 6,
    "start_time": "2025-02-26T10:50:33.758Z"
   },
   {
    "duration": 573,
    "start_time": "2025-02-26T10:50:33.766Z"
   },
   {
    "duration": 98,
    "start_time": "2025-02-26T10:50:34.341Z"
   },
   {
    "duration": 9,
    "start_time": "2025-02-26T10:50:34.441Z"
   },
   {
    "duration": 21,
    "start_time": "2025-02-26T10:50:34.453Z"
   },
   {
    "duration": 97,
    "start_time": "2025-02-26T10:50:34.476Z"
   },
   {
    "duration": 413,
    "start_time": "2025-02-26T10:50:34.575Z"
   },
   {
    "duration": 20,
    "start_time": "2025-02-26T10:50:34.990Z"
   },
   {
    "duration": 476,
    "start_time": "2025-02-26T10:50:35.011Z"
   },
   {
    "duration": 19,
    "start_time": "2025-02-26T10:50:35.488Z"
   },
   {
    "duration": 183,
    "start_time": "2025-02-26T10:50:35.508Z"
   },
   {
    "duration": 443,
    "start_time": "2025-02-26T10:50:35.693Z"
   },
   {
    "duration": 93,
    "start_time": "2025-02-26T10:50:36.138Z"
   },
   {
    "duration": 326,
    "start_time": "2025-02-26T10:50:36.232Z"
   },
   {
    "duration": 199,
    "start_time": "2025-02-26T10:50:36.559Z"
   },
   {
    "duration": 3258,
    "start_time": "2025-02-26T10:50:36.759Z"
   },
   {
    "duration": 255,
    "start_time": "2025-02-26T10:50:40.018Z"
   },
   {
    "duration": 506,
    "start_time": "2025-02-26T10:50:40.274Z"
   },
   {
    "duration": 220,
    "start_time": "2025-02-26T10:50:40.781Z"
   },
   {
    "duration": 5101,
    "start_time": "2025-02-26T10:50:41.002Z"
   },
   {
    "duration": 1746,
    "start_time": "2025-02-26T10:50:46.104Z"
   },
   {
    "duration": 3416,
    "start_time": "2025-02-26T10:52:43.565Z"
   },
   {
    "duration": 1557,
    "start_time": "2025-02-26T10:52:46.983Z"
   },
   {
    "duration": 303,
    "start_time": "2025-02-26T10:52:48.541Z"
   },
   {
    "duration": 138,
    "start_time": "2025-02-26T10:52:48.846Z"
   },
   {
    "duration": 51,
    "start_time": "2025-02-26T10:52:48.986Z"
   },
   {
    "duration": 11,
    "start_time": "2025-02-26T10:52:49.038Z"
   },
   {
    "duration": 182,
    "start_time": "2025-02-26T10:52:49.051Z"
   },
   {
    "duration": 171,
    "start_time": "2025-02-26T10:52:49.234Z"
   },
   {
    "duration": 328,
    "start_time": "2025-02-26T10:52:49.406Z"
   },
   {
    "duration": 7,
    "start_time": "2025-02-26T10:52:49.737Z"
   },
   {
    "duration": 595,
    "start_time": "2025-02-26T10:52:49.745Z"
   },
   {
    "duration": 89,
    "start_time": "2025-02-26T10:52:50.341Z"
   },
   {
    "duration": 8,
    "start_time": "2025-02-26T10:52:50.431Z"
   },
   {
    "duration": 26,
    "start_time": "2025-02-26T10:52:50.441Z"
   },
   {
    "duration": 422,
    "start_time": "2025-02-26T10:52:50.469Z"
   },
   {
    "duration": 19,
    "start_time": "2025-02-26T10:52:50.893Z"
   },
   {
    "duration": 442,
    "start_time": "2025-02-26T10:52:50.913Z"
   },
   {
    "duration": 26,
    "start_time": "2025-02-26T10:52:51.357Z"
   },
   {
    "duration": 116,
    "start_time": "2025-02-26T10:52:51.385Z"
   },
   {
    "duration": 443,
    "start_time": "2025-02-26T10:52:51.503Z"
   },
   {
    "duration": 87,
    "start_time": "2025-02-26T10:52:51.947Z"
   },
   {
    "duration": 74,
    "start_time": "2025-02-26T10:52:52.035Z"
   },
   {
    "duration": 355,
    "start_time": "2025-02-26T10:52:52.111Z"
   },
   {
    "duration": 202,
    "start_time": "2025-02-26T10:52:52.468Z"
   },
   {
    "duration": 3296,
    "start_time": "2025-02-26T10:52:52.671Z"
   },
   {
    "duration": 257,
    "start_time": "2025-02-26T10:52:55.968Z"
   },
   {
    "duration": 487,
    "start_time": "2025-02-26T10:52:56.230Z"
   },
   {
    "duration": 223,
    "start_time": "2025-02-26T10:52:56.730Z"
   },
   {
    "duration": 5085,
    "start_time": "2025-02-26T10:52:56.954Z"
   },
   {
    "duration": 1915,
    "start_time": "2025-02-26T10:53:02.040Z"
   },
   {
    "duration": 69,
    "start_time": "2025-02-26T10:54:50.167Z"
   },
   {
    "duration": 61,
    "start_time": "2025-02-26T10:54:53.166Z"
   },
   {
    "duration": 69,
    "start_time": "2025-02-26T10:54:56.829Z"
   },
   {
    "duration": 4,
    "start_time": "2025-02-26T10:55:13.662Z"
   },
   {
    "duration": 104,
    "start_time": "2025-02-26T10:55:23.403Z"
   },
   {
    "duration": 4,
    "start_time": "2025-02-26T10:55:28.584Z"
   },
   {
    "duration": 4,
    "start_time": "2025-02-26T10:56:54.074Z"
   },
   {
    "duration": 3595,
    "start_time": "2025-02-26T10:58:03.505Z"
   },
   {
    "duration": 1604,
    "start_time": "2025-02-26T10:58:07.102Z"
   },
   {
    "duration": 272,
    "start_time": "2025-02-26T10:58:08.708Z"
   },
   {
    "duration": 137,
    "start_time": "2025-02-26T10:58:08.981Z"
   },
   {
    "duration": 51,
    "start_time": "2025-02-26T10:58:09.120Z"
   },
   {
    "duration": 7,
    "start_time": "2025-02-26T10:58:09.173Z"
   },
   {
    "duration": 188,
    "start_time": "2025-02-26T10:58:09.181Z"
   },
   {
    "duration": 174,
    "start_time": "2025-02-26T10:58:09.371Z"
   },
   {
    "duration": 306,
    "start_time": "2025-02-26T10:58:09.546Z"
   },
   {
    "duration": 6,
    "start_time": "2025-02-26T10:58:09.854Z"
   },
   {
    "duration": 489,
    "start_time": "2025-02-26T10:58:09.862Z"
   },
   {
    "duration": 85,
    "start_time": "2025-02-26T10:58:10.352Z"
   },
   {
    "duration": 8,
    "start_time": "2025-02-26T10:58:10.438Z"
   },
   {
    "duration": 20,
    "start_time": "2025-02-26T10:58:10.448Z"
   },
   {
    "duration": 426,
    "start_time": "2025-02-26T10:58:10.470Z"
   },
   {
    "duration": 20,
    "start_time": "2025-02-26T10:58:10.897Z"
   },
   {
    "duration": 403,
    "start_time": "2025-02-26T10:58:10.918Z"
   },
   {
    "duration": 25,
    "start_time": "2025-02-26T10:58:11.329Z"
   },
   {
    "duration": 82,
    "start_time": "2025-02-26T10:58:11.356Z"
   },
   {
    "duration": 483,
    "start_time": "2025-02-26T10:58:11.440Z"
   },
   {
    "duration": 78,
    "start_time": "2025-02-26T10:58:11.925Z"
   },
   {
    "duration": 4,
    "start_time": "2025-02-26T10:58:12.004Z"
   },
   {
    "duration": 325,
    "start_time": "2025-02-26T10:58:12.010Z"
   },
   {
    "duration": 197,
    "start_time": "2025-02-26T10:58:12.337Z"
   },
   {
    "duration": 3218,
    "start_time": "2025-02-26T10:58:12.536Z"
   },
   {
    "duration": 236,
    "start_time": "2025-02-26T10:58:15.756Z"
   },
   {
    "duration": 474,
    "start_time": "2025-02-26T10:58:15.994Z"
   },
   {
    "duration": 226,
    "start_time": "2025-02-26T10:58:16.470Z"
   },
   {
    "duration": 5061,
    "start_time": "2025-02-26T10:58:16.698Z"
   },
   {
    "duration": 508,
    "start_time": "2025-02-26T11:31:04.122Z"
   },
   {
    "duration": 3472,
    "start_time": "2025-02-26T11:31:26.342Z"
   },
   {
    "duration": 1631,
    "start_time": "2025-02-26T11:31:29.816Z"
   },
   {
    "duration": 311,
    "start_time": "2025-02-26T11:31:31.448Z"
   },
   {
    "duration": 141,
    "start_time": "2025-02-26T11:31:31.760Z"
   },
   {
    "duration": 117,
    "start_time": "2025-02-26T11:31:31.903Z"
   },
   {
    "duration": 13,
    "start_time": "2025-02-26T11:31:32.021Z"
   },
   {
    "duration": 196,
    "start_time": "2025-02-26T11:31:32.035Z"
   },
   {
    "duration": 168,
    "start_time": "2025-02-26T11:31:32.232Z"
   },
   {
    "duration": 312,
    "start_time": "2025-02-26T11:31:32.402Z"
   },
   {
    "duration": 15,
    "start_time": "2025-02-26T11:31:32.716Z"
   },
   {
    "duration": 535,
    "start_time": "2025-02-26T11:31:32.732Z"
   },
   {
    "duration": 86,
    "start_time": "2025-02-26T11:31:33.268Z"
   },
   {
    "duration": 44,
    "start_time": "2025-02-26T11:31:33.355Z"
   },
   {
    "duration": 21,
    "start_time": "2025-02-26T11:31:33.402Z"
   },
   {
    "duration": 377,
    "start_time": "2025-02-26T11:31:33.425Z"
   },
   {
    "duration": 27,
    "start_time": "2025-02-26T11:31:33.804Z"
   },
   {
    "duration": 511,
    "start_time": "2025-02-26T11:31:33.832Z"
   },
   {
    "duration": 19,
    "start_time": "2025-02-26T11:31:34.345Z"
   },
   {
    "duration": 126,
    "start_time": "2025-02-26T11:31:34.365Z"
   },
   {
    "duration": 453,
    "start_time": "2025-02-26T11:31:34.493Z"
   },
   {
    "duration": 90,
    "start_time": "2025-02-26T11:31:34.948Z"
   },
   {
    "duration": 4,
    "start_time": "2025-02-26T11:31:35.040Z"
   },
   {
    "duration": 328,
    "start_time": "2025-02-26T11:31:35.045Z"
   },
   {
    "duration": 198,
    "start_time": "2025-02-26T11:31:35.374Z"
   },
   {
    "duration": 3308,
    "start_time": "2025-02-26T11:31:35.574Z"
   },
   {
    "duration": 251,
    "start_time": "2025-02-26T11:31:38.883Z"
   },
   {
    "duration": 510,
    "start_time": "2025-02-26T11:31:39.135Z"
   },
   {
    "duration": 217,
    "start_time": "2025-02-26T11:31:39.647Z"
   },
   {
    "duration": 5116,
    "start_time": "2025-02-26T11:31:39.866Z"
   },
   {
    "duration": 409,
    "start_time": "2025-02-26T11:31:44.984Z"
   },
   {
    "duration": 1481,
    "start_time": "2025-02-26T11:32:40.313Z"
   },
   {
    "duration": 3585,
    "start_time": "2025-02-26T11:33:51.510Z"
   },
   {
    "duration": 1701,
    "start_time": "2025-02-26T11:33:55.097Z"
   },
   {
    "duration": 278,
    "start_time": "2025-02-26T11:33:56.799Z"
   },
   {
    "duration": 132,
    "start_time": "2025-02-26T11:33:57.079Z"
   },
   {
    "duration": 56,
    "start_time": "2025-02-26T11:33:57.213Z"
   },
   {
    "duration": 6,
    "start_time": "2025-02-26T11:33:57.270Z"
   },
   {
    "duration": 176,
    "start_time": "2025-02-26T11:33:57.278Z"
   },
   {
    "duration": 175,
    "start_time": "2025-02-26T11:33:57.456Z"
   },
   {
    "duration": 315,
    "start_time": "2025-02-26T11:33:57.633Z"
   },
   {
    "duration": 7,
    "start_time": "2025-02-26T11:33:57.950Z"
   },
   {
    "duration": 497,
    "start_time": "2025-02-26T11:33:57.959Z"
   },
   {
    "duration": 94,
    "start_time": "2025-02-26T11:33:58.458Z"
   },
   {
    "duration": 9,
    "start_time": "2025-02-26T11:33:58.553Z"
   },
   {
    "duration": 26,
    "start_time": "2025-02-26T11:33:58.565Z"
   },
   {
    "duration": 413,
    "start_time": "2025-02-26T11:33:58.592Z"
   },
   {
    "duration": 26,
    "start_time": "2025-02-26T11:33:59.007Z"
   },
   {
    "duration": 387,
    "start_time": "2025-02-26T11:33:59.035Z"
   },
   {
    "duration": 18,
    "start_time": "2025-02-26T11:33:59.430Z"
   },
   {
    "duration": 60,
    "start_time": "2025-02-26T11:33:59.450Z"
   },
   {
    "duration": 431,
    "start_time": "2025-02-26T11:33:59.512Z"
   },
   {
    "duration": 89,
    "start_time": "2025-02-26T11:33:59.945Z"
   },
   {
    "duration": 27,
    "start_time": "2025-02-26T11:34:00.036Z"
   },
   {
    "duration": 341,
    "start_time": "2025-02-26T11:34:00.065Z"
   },
   {
    "duration": 192,
    "start_time": "2025-02-26T11:34:00.408Z"
   },
   {
    "duration": 3205,
    "start_time": "2025-02-26T11:34:00.601Z"
   },
   {
    "duration": 270,
    "start_time": "2025-02-26T11:34:03.808Z"
   },
   {
    "duration": 498,
    "start_time": "2025-02-26T11:34:04.079Z"
   },
   {
    "duration": 219,
    "start_time": "2025-02-26T11:34:04.578Z"
   },
   {
    "duration": 5004,
    "start_time": "2025-02-26T11:34:04.798Z"
   },
   {
    "duration": 1277,
    "start_time": "2025-02-26T11:35:25.555Z"
   },
   {
    "duration": 3564,
    "start_time": "2025-02-26T11:35:32.430Z"
   },
   {
    "duration": 1894,
    "start_time": "2025-02-26T11:35:35.996Z"
   },
   {
    "duration": 263,
    "start_time": "2025-02-26T11:35:37.892Z"
   },
   {
    "duration": 145,
    "start_time": "2025-02-26T11:35:38.157Z"
   },
   {
    "duration": 97,
    "start_time": "2025-02-26T11:35:38.304Z"
   },
   {
    "duration": 46,
    "start_time": "2025-02-26T11:35:38.402Z"
   },
   {
    "duration": 183,
    "start_time": "2025-02-26T11:35:38.450Z"
   },
   {
    "duration": 172,
    "start_time": "2025-02-26T11:35:38.634Z"
   },
   {
    "duration": 309,
    "start_time": "2025-02-26T11:35:38.808Z"
   },
   {
    "duration": 11,
    "start_time": "2025-02-26T11:35:39.119Z"
   },
   {
    "duration": 526,
    "start_time": "2025-02-26T11:35:39.132Z"
   },
   {
    "duration": 89,
    "start_time": "2025-02-26T11:35:39.660Z"
   },
   {
    "duration": 7,
    "start_time": "2025-02-26T11:35:39.751Z"
   },
   {
    "duration": 21,
    "start_time": "2025-02-26T11:35:39.761Z"
   },
   {
    "duration": 430,
    "start_time": "2025-02-26T11:35:39.783Z"
   },
   {
    "duration": 43,
    "start_time": "2025-02-26T11:35:40.215Z"
   },
   {
    "duration": 454,
    "start_time": "2025-02-26T11:35:40.261Z"
   },
   {
    "duration": 27,
    "start_time": "2025-02-26T11:35:40.716Z"
   },
   {
    "duration": 62,
    "start_time": "2025-02-26T11:35:40.744Z"
   },
   {
    "duration": 428,
    "start_time": "2025-02-26T11:35:40.808Z"
   },
   {
    "duration": 75,
    "start_time": "2025-02-26T11:35:41.238Z"
   },
   {
    "duration": 17,
    "start_time": "2025-02-26T11:35:41.314Z"
   },
   {
    "duration": 357,
    "start_time": "2025-02-26T11:35:41.333Z"
   },
   {
    "duration": 200,
    "start_time": "2025-02-26T11:35:41.691Z"
   },
   {
    "duration": 3265,
    "start_time": "2025-02-26T11:35:41.893Z"
   },
   {
    "duration": 246,
    "start_time": "2025-02-26T11:35:45.159Z"
   },
   {
    "duration": 488,
    "start_time": "2025-02-26T11:35:45.407Z"
   },
   {
    "duration": 219,
    "start_time": "2025-02-26T11:35:45.896Z"
   },
   {
    "duration": 5127,
    "start_time": "2025-02-26T11:35:46.116Z"
   },
   {
    "duration": 1193,
    "start_time": "2025-02-26T11:35:51.245Z"
   },
   {
    "duration": 383,
    "start_time": "2025-02-26T11:37:29.904Z"
   },
   {
    "duration": 3463,
    "start_time": "2025-02-26T12:09:33.813Z"
   },
   {
    "duration": 2034,
    "start_time": "2025-02-26T12:09:37.277Z"
   },
   {
    "duration": 243,
    "start_time": "2025-02-26T12:09:39.314Z"
   },
   {
    "duration": 137,
    "start_time": "2025-02-26T12:09:39.558Z"
   },
   {
    "duration": 58,
    "start_time": "2025-02-26T12:09:39.697Z"
   },
   {
    "duration": 4,
    "start_time": "2025-02-26T12:09:39.757Z"
   },
   {
    "duration": 184,
    "start_time": "2025-02-26T12:09:39.763Z"
   },
   {
    "duration": 164,
    "start_time": "2025-02-26T12:09:39.949Z"
   },
   {
    "duration": 317,
    "start_time": "2025-02-26T12:09:40.115Z"
   },
   {
    "duration": 6,
    "start_time": "2025-02-26T12:09:40.433Z"
   },
   {
    "duration": 603,
    "start_time": "2025-02-26T12:09:40.441Z"
   },
   {
    "duration": 86,
    "start_time": "2025-02-26T12:09:41.045Z"
   },
   {
    "duration": 7,
    "start_time": "2025-02-26T12:09:41.133Z"
   },
   {
    "duration": 25,
    "start_time": "2025-02-26T12:09:41.143Z"
   },
   {
    "duration": 442,
    "start_time": "2025-02-26T12:09:41.170Z"
   },
   {
    "duration": 32,
    "start_time": "2025-02-26T12:09:41.613Z"
   },
   {
    "duration": 414,
    "start_time": "2025-02-26T12:09:41.646Z"
   },
   {
    "duration": 18,
    "start_time": "2025-02-26T12:09:42.062Z"
   },
   {
    "duration": 148,
    "start_time": "2025-02-26T12:09:42.081Z"
   },
   {
    "duration": 427,
    "start_time": "2025-02-26T12:09:42.231Z"
   },
   {
    "duration": 84,
    "start_time": "2025-02-26T12:09:42.660Z"
   },
   {
    "duration": 4,
    "start_time": "2025-02-26T12:09:42.745Z"
   },
   {
    "duration": 324,
    "start_time": "2025-02-26T12:09:42.750Z"
   },
   {
    "duration": 199,
    "start_time": "2025-02-26T12:09:43.075Z"
   },
   {
    "duration": 3245,
    "start_time": "2025-02-26T12:09:43.276Z"
   },
   {
    "duration": 240,
    "start_time": "2025-02-26T12:09:46.522Z"
   },
   {
    "duration": 484,
    "start_time": "2025-02-26T12:09:46.764Z"
   },
   {
    "duration": 209,
    "start_time": "2025-02-26T12:09:47.250Z"
   },
   {
    "duration": 5043,
    "start_time": "2025-02-26T12:09:47.460Z"
   },
   {
    "duration": 11,
    "start_time": "2025-02-26T12:09:52.504Z"
   },
   {
    "duration": 3620,
    "start_time": "2025-02-26T12:18:10.964Z"
   },
   {
    "duration": 1366,
    "start_time": "2025-02-26T12:18:14.586Z"
   },
   {
    "duration": 259,
    "start_time": "2025-02-26T12:18:15.953Z"
   },
   {
    "duration": 139,
    "start_time": "2025-02-26T12:18:16.213Z"
   },
   {
    "duration": 52,
    "start_time": "2025-02-26T12:18:16.354Z"
   },
   {
    "duration": 4,
    "start_time": "2025-02-26T12:18:16.408Z"
   },
   {
    "duration": 182,
    "start_time": "2025-02-26T12:18:16.430Z"
   },
   {
    "duration": 178,
    "start_time": "2025-02-26T12:18:16.613Z"
   },
   {
    "duration": 297,
    "start_time": "2025-02-26T12:18:16.792Z"
   },
   {
    "duration": 5,
    "start_time": "2025-02-26T12:18:17.091Z"
   },
   {
    "duration": 487,
    "start_time": "2025-02-26T12:18:17.098Z"
   },
   {
    "duration": 83,
    "start_time": "2025-02-26T12:18:17.586Z"
   },
   {
    "duration": 21,
    "start_time": "2025-02-26T12:18:17.671Z"
   },
   {
    "duration": 45,
    "start_time": "2025-02-26T12:18:17.695Z"
   },
   {
    "duration": 390,
    "start_time": "2025-02-26T12:18:17.741Z"
   },
   {
    "duration": 19,
    "start_time": "2025-02-26T12:18:18.132Z"
   },
   {
    "duration": 454,
    "start_time": "2025-02-26T12:18:18.153Z"
   },
   {
    "duration": 27,
    "start_time": "2025-02-26T12:18:18.609Z"
   },
   {
    "duration": 60,
    "start_time": "2025-02-26T12:18:18.638Z"
   },
   {
    "duration": 551,
    "start_time": "2025-02-26T12:18:18.700Z"
   },
   {
    "duration": 82,
    "start_time": "2025-02-26T12:18:19.253Z"
   },
   {
    "duration": 98,
    "start_time": "2025-02-26T12:18:19.336Z"
   },
   {
    "duration": 245,
    "start_time": "2025-02-26T12:18:19.435Z"
   },
   {
    "duration": 189,
    "start_time": "2025-02-26T12:18:19.682Z"
   },
   {
    "duration": 3215,
    "start_time": "2025-02-26T12:18:19.872Z"
   },
   {
    "duration": 319,
    "start_time": "2025-02-26T12:18:23.088Z"
   },
   {
    "duration": 407,
    "start_time": "2025-02-26T12:18:23.409Z"
   },
   {
    "duration": 242,
    "start_time": "2025-02-26T12:18:23.818Z"
   },
   {
    "duration": 5017,
    "start_time": "2025-02-26T12:18:24.062Z"
   },
   {
    "duration": 11,
    "start_time": "2025-02-26T12:18:29.080Z"
   },
   {
    "duration": 18,
    "start_time": "2025-02-26T12:19:34.284Z"
   },
   {
    "duration": 11,
    "start_time": "2025-02-26T12:19:53.437Z"
   },
   {
    "duration": 50,
    "start_time": "2025-02-26T12:20:01.166Z"
   },
   {
    "duration": 48,
    "start_time": "2025-02-27T12:07:10.803Z"
   },
   {
    "duration": 5461,
    "start_time": "2025-02-27T12:07:14.334Z"
   },
   {
    "duration": 1870,
    "start_time": "2025-02-27T12:07:19.798Z"
   },
   {
    "duration": 287,
    "start_time": "2025-02-27T12:07:21.669Z"
   },
   {
    "duration": 151,
    "start_time": "2025-02-27T12:07:21.957Z"
   },
   {
    "duration": 57,
    "start_time": "2025-02-27T12:07:22.110Z"
   },
   {
    "duration": 27,
    "start_time": "2025-02-27T12:07:22.169Z"
   },
   {
    "duration": 212,
    "start_time": "2025-02-27T12:07:22.197Z"
   },
   {
    "duration": 180,
    "start_time": "2025-02-27T12:07:22.410Z"
   },
   {
    "duration": 343,
    "start_time": "2025-02-27T12:07:22.592Z"
   },
   {
    "duration": 13,
    "start_time": "2025-02-27T12:07:22.936Z"
   },
   {
    "duration": 568,
    "start_time": "2025-02-27T12:07:22.951Z"
   },
   {
    "duration": 95,
    "start_time": "2025-02-27T12:07:23.521Z"
   },
   {
    "duration": 34,
    "start_time": "2025-02-27T12:07:23.618Z"
   },
   {
    "duration": 33,
    "start_time": "2025-02-27T12:07:23.655Z"
   },
   {
    "duration": 477,
    "start_time": "2025-02-27T12:07:23.690Z"
   },
   {
    "duration": 20,
    "start_time": "2025-02-27T12:07:24.169Z"
   },
   {
    "duration": 452,
    "start_time": "2025-02-27T12:07:24.190Z"
   },
   {
    "duration": 20,
    "start_time": "2025-02-27T12:07:24.647Z"
   },
   {
    "duration": 80,
    "start_time": "2025-02-27T12:07:24.669Z"
   },
   {
    "duration": 546,
    "start_time": "2025-02-27T12:07:24.750Z"
   },
   {
    "duration": 91,
    "start_time": "2025-02-27T12:07:25.298Z"
   },
   {
    "duration": 150,
    "start_time": "2025-02-27T12:07:25.391Z"
   },
   {
    "duration": 398,
    "start_time": "2025-02-27T12:07:25.542Z"
   },
   {
    "duration": 246,
    "start_time": "2025-02-27T12:07:25.948Z"
   },
   {
    "duration": 3684,
    "start_time": "2025-02-27T12:07:26.197Z"
   },
   {
    "duration": 393,
    "start_time": "2025-02-27T12:07:29.883Z"
   },
   {
    "duration": 479,
    "start_time": "2025-02-27T12:07:30.278Z"
   },
   {
    "duration": 243,
    "start_time": "2025-02-27T12:07:30.759Z"
   },
   {
    "duration": 5600,
    "start_time": "2025-02-27T12:07:31.004Z"
   },
   {
    "duration": 12,
    "start_time": "2025-02-27T12:07:36.606Z"
   },
   {
    "duration": 90,
    "start_time": "2025-02-27T12:07:36.621Z"
   },
   {
    "duration": 138,
    "start_time": "2025-02-27T12:07:36.713Z"
   },
   {
    "duration": 115,
    "start_time": "2025-02-27T12:30:39.160Z"
   },
   {
    "duration": 4,
    "start_time": "2025-02-27T12:30:40.861Z"
   },
   {
    "duration": 93,
    "start_time": "2025-02-27T12:30:57.579Z"
   },
   {
    "duration": 5570,
    "start_time": "2025-02-27T16:56:00.887Z"
   },
   {
    "duration": 1688,
    "start_time": "2025-02-27T16:56:06.459Z"
   },
   {
    "duration": 336,
    "start_time": "2025-02-27T16:56:08.149Z"
   },
   {
    "duration": 168,
    "start_time": "2025-02-27T16:56:08.486Z"
   },
   {
    "duration": 60,
    "start_time": "2025-02-27T16:56:08.656Z"
   },
   {
    "duration": 14,
    "start_time": "2025-02-27T16:56:08.718Z"
   },
   {
    "duration": 226,
    "start_time": "2025-02-27T16:56:08.734Z"
   },
   {
    "duration": 205,
    "start_time": "2025-02-27T16:56:08.961Z"
   },
   {
    "duration": 352,
    "start_time": "2025-02-27T16:56:09.168Z"
   },
   {
    "duration": 6,
    "start_time": "2025-02-27T16:56:09.522Z"
   },
   {
    "duration": 668,
    "start_time": "2025-02-27T16:56:09.530Z"
   },
   {
    "duration": 94,
    "start_time": "2025-02-27T16:56:10.199Z"
   },
   {
    "duration": 134,
    "start_time": "2025-02-27T16:56:10.294Z"
   },
   {
    "duration": 23,
    "start_time": "2025-02-27T16:56:10.430Z"
   },
   {
    "duration": 426,
    "start_time": "2025-02-27T16:56:10.454Z"
   },
   {
    "duration": 32,
    "start_time": "2025-02-27T16:56:10.882Z"
   },
   {
    "duration": 429,
    "start_time": "2025-02-27T16:56:10.915Z"
   },
   {
    "duration": 19,
    "start_time": "2025-02-27T16:56:11.346Z"
   },
   {
    "duration": 88,
    "start_time": "2025-02-27T16:56:11.366Z"
   },
   {
    "duration": 574,
    "start_time": "2025-02-27T16:56:11.456Z"
   },
   {
    "duration": 90,
    "start_time": "2025-02-27T16:56:12.031Z"
   },
   {
    "duration": 79,
    "start_time": "2025-02-27T16:56:12.123Z"
   },
   {
    "duration": 257,
    "start_time": "2025-02-27T16:56:12.203Z"
   },
   {
    "duration": 212,
    "start_time": "2025-02-27T16:56:12.462Z"
   },
   {
    "duration": 3493,
    "start_time": "2025-02-27T16:56:12.675Z"
   },
   {
    "duration": 352,
    "start_time": "2025-02-27T16:56:16.169Z"
   },
   {
    "duration": 466,
    "start_time": "2025-02-27T16:56:16.524Z"
   },
   {
    "duration": 228,
    "start_time": "2025-02-27T16:56:16.992Z"
   },
   {
    "duration": 5320,
    "start_time": "2025-02-27T16:56:17.222Z"
   },
   {
    "duration": 80,
    "start_time": "2025-02-27T16:56:22.544Z"
   },
   {
    "duration": 23,
    "start_time": "2025-02-27T16:56:22.625Z"
   },
   {
    "duration": 102,
    "start_time": "2025-02-27T16:56:22.649Z"
   },
   {
    "duration": 21,
    "start_time": "2025-02-27T16:57:18.794Z"
   },
   {
    "duration": 6654,
    "start_time": "2025-02-27T17:12:53.625Z"
   },
   {
    "duration": 4187,
    "start_time": "2025-02-27T17:14:11.286Z"
   },
   {
    "duration": 1512,
    "start_time": "2025-02-27T17:14:15.475Z"
   },
   {
    "duration": 319,
    "start_time": "2025-02-27T17:14:16.989Z"
   },
   {
    "duration": 151,
    "start_time": "2025-02-27T17:14:17.313Z"
   },
   {
    "duration": 55,
    "start_time": "2025-02-27T17:14:17.466Z"
   },
   {
    "duration": 6,
    "start_time": "2025-02-27T17:14:17.523Z"
   },
   {
    "duration": 210,
    "start_time": "2025-02-27T17:14:17.531Z"
   },
   {
    "duration": 188,
    "start_time": "2025-02-27T17:14:17.742Z"
   },
   {
    "duration": 339,
    "start_time": "2025-02-27T17:14:17.932Z"
   },
   {
    "duration": 7,
    "start_time": "2025-02-27T17:14:18.273Z"
   },
   {
    "duration": 592,
    "start_time": "2025-02-27T17:14:18.281Z"
   },
   {
    "duration": 101,
    "start_time": "2025-02-27T17:14:18.875Z"
   },
   {
    "duration": 9,
    "start_time": "2025-02-27T17:14:18.977Z"
   },
   {
    "duration": 43,
    "start_time": "2025-02-27T17:14:18.989Z"
   },
   {
    "duration": 475,
    "start_time": "2025-02-27T17:14:19.033Z"
   },
   {
    "duration": 19,
    "start_time": "2025-02-27T17:14:19.514Z"
   },
   {
    "duration": 583,
    "start_time": "2025-02-27T17:14:19.535Z"
   },
   {
    "duration": 19,
    "start_time": "2025-02-27T17:14:20.119Z"
   },
   {
    "duration": 189,
    "start_time": "2025-02-27T17:14:20.140Z"
   },
   {
    "duration": 497,
    "start_time": "2025-02-27T17:14:20.331Z"
   },
   {
    "duration": 95,
    "start_time": "2025-02-27T17:14:20.829Z"
   },
   {
    "duration": 4,
    "start_time": "2025-02-27T17:14:20.926Z"
   },
   {
    "duration": 272,
    "start_time": "2025-02-27T17:14:20.931Z"
   },
   {
    "duration": 218,
    "start_time": "2025-02-27T17:14:21.204Z"
   },
   {
    "duration": 4360,
    "start_time": "2025-02-27T17:14:21.424Z"
   },
   {
    "duration": 263,
    "start_time": "2025-02-27T17:14:25.786Z"
   },
   {
    "duration": 465,
    "start_time": "2025-02-27T17:14:26.051Z"
   },
   {
    "duration": 250,
    "start_time": "2025-02-27T17:14:26.518Z"
   },
   {
    "duration": 5520,
    "start_time": "2025-02-27T17:14:26.770Z"
   },
   {
    "duration": 21,
    "start_time": "2025-02-27T17:14:32.292Z"
   },
   {
    "duration": 81,
    "start_time": "2025-02-27T17:14:32.314Z"
   },
   {
    "duration": 7084,
    "start_time": "2025-02-27T17:14:34.883Z"
   },
   {
    "duration": 5225,
    "start_time": "2025-02-28T12:22:13.891Z"
   },
   {
    "duration": 1601,
    "start_time": "2025-02-28T12:22:19.118Z"
   },
   {
    "duration": 311,
    "start_time": "2025-02-28T12:22:20.721Z"
   },
   {
    "duration": 143,
    "start_time": "2025-02-28T12:22:21.033Z"
   },
   {
    "duration": 93,
    "start_time": "2025-02-28T12:22:21.178Z"
   },
   {
    "duration": 17,
    "start_time": "2025-02-28T12:22:21.273Z"
   },
   {
    "duration": 189,
    "start_time": "2025-02-28T12:22:21.292Z"
   },
   {
    "duration": 215,
    "start_time": "2025-02-28T12:22:21.482Z"
   },
   {
    "duration": 335,
    "start_time": "2025-02-28T12:22:21.698Z"
   },
   {
    "duration": 8,
    "start_time": "2025-02-28T12:22:22.034Z"
   },
   {
    "duration": 556,
    "start_time": "2025-02-28T12:22:22.043Z"
   },
   {
    "duration": 89,
    "start_time": "2025-02-28T12:22:22.600Z"
   },
   {
    "duration": 7,
    "start_time": "2025-02-28T12:22:22.691Z"
   },
   {
    "duration": 23,
    "start_time": "2025-02-28T12:22:22.714Z"
   },
   {
    "duration": 487,
    "start_time": "2025-02-28T12:22:22.739Z"
   },
   {
    "duration": 22,
    "start_time": "2025-02-28T12:22:23.228Z"
   },
   {
    "duration": 564,
    "start_time": "2025-02-28T12:22:23.252Z"
   },
   {
    "duration": 21,
    "start_time": "2025-02-28T12:22:23.818Z"
   },
   {
    "duration": 84,
    "start_time": "2025-02-28T12:22:23.841Z"
   },
   {
    "duration": 506,
    "start_time": "2025-02-28T12:22:23.927Z"
   },
   {
    "duration": 91,
    "start_time": "2025-02-28T12:22:24.435Z"
   },
   {
    "duration": 5,
    "start_time": "2025-02-28T12:22:24.528Z"
   },
   {
    "duration": 266,
    "start_time": "2025-02-28T12:22:24.535Z"
   },
   {
    "duration": 227,
    "start_time": "2025-02-28T12:22:24.803Z"
   },
   {
    "duration": 3635,
    "start_time": "2025-02-28T12:22:25.031Z"
   },
   {
    "duration": 294,
    "start_time": "2025-02-28T12:22:28.668Z"
   },
   {
    "duration": 457,
    "start_time": "2025-02-28T12:22:28.964Z"
   },
   {
    "duration": 224,
    "start_time": "2025-02-28T12:22:29.422Z"
   },
   {
    "duration": 5627,
    "start_time": "2025-02-28T12:22:29.647Z"
   },
   {
    "duration": 19,
    "start_time": "2025-02-28T12:22:35.276Z"
   },
   {
    "duration": 3,
    "start_time": "2025-02-28T12:22:35.297Z"
   },
   {
    "duration": 140189,
    "start_time": "2025-02-28T12:23:08.848Z"
   },
   {
    "duration": 3995,
    "start_time": "2025-02-28T12:40:54.418Z"
   },
   {
    "duration": 1753,
    "start_time": "2025-02-28T12:40:58.415Z"
   },
   {
    "duration": 296,
    "start_time": "2025-02-28T12:41:00.169Z"
   },
   {
    "duration": 154,
    "start_time": "2025-02-28T12:41:00.467Z"
   },
   {
    "duration": 47,
    "start_time": "2025-02-28T12:41:00.623Z"
   },
   {
    "duration": 9,
    "start_time": "2025-02-28T12:41:00.671Z"
   },
   {
    "duration": 210,
    "start_time": "2025-02-28T12:41:00.682Z"
   },
   {
    "duration": 198,
    "start_time": "2025-02-28T12:41:00.894Z"
   },
   {
    "duration": 338,
    "start_time": "2025-02-28T12:41:01.093Z"
   },
   {
    "duration": 7,
    "start_time": "2025-02-28T12:41:01.434Z"
   },
   {
    "duration": 510,
    "start_time": "2025-02-28T12:41:01.442Z"
   },
   {
    "duration": 103,
    "start_time": "2025-02-28T12:41:01.954Z"
   },
   {
    "duration": 32,
    "start_time": "2025-02-28T12:41:02.059Z"
   },
   {
    "duration": 26,
    "start_time": "2025-02-28T12:41:02.093Z"
   },
   {
    "duration": 412,
    "start_time": "2025-02-28T12:41:02.121Z"
   },
   {
    "duration": 20,
    "start_time": "2025-02-28T12:41:02.535Z"
   },
   {
    "duration": 569,
    "start_time": "2025-02-28T12:41:02.557Z"
   },
   {
    "duration": 28,
    "start_time": "2025-02-28T12:41:03.128Z"
   },
   {
    "duration": 167,
    "start_time": "2025-02-28T12:41:03.162Z"
   },
   {
    "duration": 497,
    "start_time": "2025-02-28T12:41:03.331Z"
   },
   {
    "duration": 90,
    "start_time": "2025-02-28T12:41:03.830Z"
   },
   {
    "duration": 4,
    "start_time": "2025-02-28T12:41:03.922Z"
   },
   {
    "duration": 277,
    "start_time": "2025-02-28T12:41:03.928Z"
   },
   {
    "duration": 229,
    "start_time": "2025-02-28T12:41:04.214Z"
   },
   {
    "duration": 3751,
    "start_time": "2025-02-28T12:41:04.445Z"
   },
   {
    "duration": 268,
    "start_time": "2025-02-28T12:41:08.198Z"
   },
   {
    "duration": 458,
    "start_time": "2025-02-28T12:41:08.468Z"
   },
   {
    "duration": 233,
    "start_time": "2025-02-28T12:41:08.930Z"
   },
   {
    "duration": 5797,
    "start_time": "2025-02-28T12:41:09.165Z"
   },
   {
    "duration": 15,
    "start_time": "2025-02-28T12:41:48.828Z"
   },
   {
    "duration": 17,
    "start_time": "2025-02-28T12:46:26.000Z"
   },
   {
    "duration": 80,
    "start_time": "2025-02-28T12:46:26.588Z"
   },
   {
    "duration": 3,
    "start_time": "2025-02-28T12:46:27.311Z"
   },
   {
    "duration": 921,
    "start_time": "2025-02-28T12:46:28.077Z"
   },
   {
    "duration": 862,
    "start_time": "2025-02-28T12:46:47.380Z"
   },
   {
    "duration": 31769,
    "start_time": "2025-02-28T12:47:06.076Z"
   },
   {
    "duration": 4011,
    "start_time": "2025-02-28T12:48:38.597Z"
   },
   {
    "duration": 1453,
    "start_time": "2025-02-28T12:48:42.610Z"
   },
   {
    "duration": 285,
    "start_time": "2025-02-28T12:48:44.065Z"
   },
   {
    "duration": 162,
    "start_time": "2025-02-28T12:48:44.351Z"
   },
   {
    "duration": 49,
    "start_time": "2025-02-28T12:48:44.515Z"
   },
   {
    "duration": 5,
    "start_time": "2025-02-28T12:48:44.566Z"
   },
   {
    "duration": 208,
    "start_time": "2025-02-28T12:48:44.572Z"
   },
   {
    "duration": 191,
    "start_time": "2025-02-28T12:48:44.782Z"
   },
   {
    "duration": 345,
    "start_time": "2025-02-28T12:48:44.975Z"
   },
   {
    "duration": 7,
    "start_time": "2025-02-28T12:48:45.321Z"
   },
   {
    "duration": 520,
    "start_time": "2025-02-28T12:48:45.330Z"
   },
   {
    "duration": 98,
    "start_time": "2025-02-28T12:48:45.852Z"
   },
   {
    "duration": 8,
    "start_time": "2025-02-28T12:48:45.952Z"
   },
   {
    "duration": 104,
    "start_time": "2025-02-28T12:48:45.962Z"
   },
   {
    "duration": 429,
    "start_time": "2025-02-28T12:48:46.067Z"
   },
   {
    "duration": 41,
    "start_time": "2025-02-28T12:48:46.499Z"
   },
   {
    "duration": 563,
    "start_time": "2025-02-28T12:48:46.543Z"
   },
   {
    "duration": 20,
    "start_time": "2025-02-28T12:48:47.114Z"
   },
   {
    "duration": 87,
    "start_time": "2025-02-28T12:48:47.136Z"
   },
   {
    "duration": 503,
    "start_time": "2025-02-28T12:48:47.225Z"
   },
   {
    "duration": 93,
    "start_time": "2025-02-28T12:48:47.729Z"
   },
   {
    "duration": 33,
    "start_time": "2025-02-28T12:48:47.824Z"
   },
   {
    "duration": 272,
    "start_time": "2025-02-28T12:48:47.859Z"
   },
   {
    "duration": 227,
    "start_time": "2025-02-28T12:48:48.133Z"
   },
   {
    "duration": 3660,
    "start_time": "2025-02-28T12:48:48.363Z"
   },
   {
    "duration": 263,
    "start_time": "2025-02-28T12:48:52.025Z"
   },
   {
    "duration": 451,
    "start_time": "2025-02-28T12:48:52.290Z"
   },
   {
    "duration": 243,
    "start_time": "2025-02-28T12:48:52.743Z"
   },
   {
    "duration": 5550,
    "start_time": "2025-02-28T12:48:52.988Z"
   },
   {
    "duration": 19,
    "start_time": "2025-02-28T12:48:58.540Z"
   },
   {
    "duration": 102,
    "start_time": "2025-02-28T12:48:58.560Z"
   },
   {
    "duration": 4,
    "start_time": "2025-02-28T12:48:58.663Z"
   },
   {
    "duration": 846,
    "start_time": "2025-02-28T12:48:58.669Z"
   },
   {
    "duration": 957,
    "start_time": "2025-02-28T12:48:59.517Z"
   },
   {
    "duration": 4816,
    "start_time": "2025-03-03T09:46:27.373Z"
   },
   {
    "duration": 1766,
    "start_time": "2025-03-03T09:46:32.191Z"
   },
   {
    "duration": 269,
    "start_time": "2025-03-03T09:46:33.959Z"
   },
   {
    "duration": 145,
    "start_time": "2025-03-03T09:46:34.230Z"
   },
   {
    "duration": 53,
    "start_time": "2025-03-03T09:46:34.377Z"
   },
   {
    "duration": 23,
    "start_time": "2025-03-03T09:46:34.432Z"
   },
   {
    "duration": 185,
    "start_time": "2025-03-03T09:46:34.456Z"
   },
   {
    "duration": 175,
    "start_time": "2025-03-03T09:46:34.642Z"
   },
   {
    "duration": 310,
    "start_time": "2025-03-03T09:46:34.819Z"
   },
   {
    "duration": 7,
    "start_time": "2025-03-03T09:46:35.130Z"
   },
   {
    "duration": 544,
    "start_time": "2025-03-03T09:46:35.138Z"
   },
   {
    "duration": 91,
    "start_time": "2025-03-03T09:46:35.684Z"
   },
   {
    "duration": 7,
    "start_time": "2025-03-03T09:46:35.777Z"
   },
   {
    "duration": 38,
    "start_time": "2025-03-03T09:46:35.787Z"
   },
   {
    "duration": 453,
    "start_time": "2025-03-03T09:46:35.827Z"
   },
   {
    "duration": 27,
    "start_time": "2025-03-03T09:46:36.282Z"
   },
   {
    "duration": 524,
    "start_time": "2025-03-03T09:46:36.311Z"
   },
   {
    "duration": 17,
    "start_time": "2025-03-03T09:46:36.836Z"
   },
   {
    "duration": 165,
    "start_time": "2025-03-03T09:46:36.855Z"
   },
   {
    "duration": 449,
    "start_time": "2025-03-03T09:46:37.022Z"
   },
   {
    "duration": 85,
    "start_time": "2025-03-03T09:46:37.473Z"
   },
   {
    "duration": 21,
    "start_time": "2025-03-03T09:46:37.559Z"
   },
   {
    "duration": 260,
    "start_time": "2025-03-03T09:46:37.582Z"
   },
   {
    "duration": 197,
    "start_time": "2025-03-03T09:46:37.844Z"
   },
   {
    "duration": 3416,
    "start_time": "2025-03-03T09:46:38.043Z"
   },
   {
    "duration": 243,
    "start_time": "2025-03-03T09:46:41.461Z"
   },
   {
    "duration": 410,
    "start_time": "2025-03-03T09:46:41.710Z"
   },
   {
    "duration": 239,
    "start_time": "2025-03-03T09:46:42.122Z"
   },
   {
    "duration": 5196,
    "start_time": "2025-03-03T09:46:42.362Z"
   },
   {
    "duration": 13,
    "start_time": "2025-03-03T09:46:47.560Z"
   },
   {
    "duration": 75,
    "start_time": "2025-03-03T09:46:47.574Z"
   },
   {
    "duration": 2,
    "start_time": "2025-03-03T09:46:47.651Z"
   },
   {
    "duration": 819,
    "start_time": "2025-03-03T09:46:47.655Z"
   },
   {
    "duration": 942,
    "start_time": "2025-03-03T09:46:48.476Z"
   },
   {
    "duration": 30141,
    "start_time": "2025-03-03T09:46:49.419Z"
   },
   {
    "duration": 40878,
    "start_time": "2025-03-03T09:47:19.562Z"
   },
   {
    "duration": 33569,
    "start_time": "2025-03-03T09:48:00.441Z"
   },
   {
    "duration": 55,
    "start_time": "2025-03-03T09:48:34.012Z"
   },
   {
    "duration": 3898,
    "start_time": "2025-03-03T09:50:18.359Z"
   },
   {
    "duration": 1921,
    "start_time": "2025-03-03T09:50:22.259Z"
   },
   {
    "duration": 271,
    "start_time": "2025-03-03T09:50:24.181Z"
   },
   {
    "duration": 147,
    "start_time": "2025-03-03T09:50:24.454Z"
   },
   {
    "duration": 54,
    "start_time": "2025-03-03T09:50:24.603Z"
   },
   {
    "duration": 56,
    "start_time": "2025-03-03T09:50:24.659Z"
   },
   {
    "duration": 191,
    "start_time": "2025-03-03T09:50:24.717Z"
   },
   {
    "duration": 185,
    "start_time": "2025-03-03T09:50:24.910Z"
   },
   {
    "duration": 340,
    "start_time": "2025-03-03T09:50:25.097Z"
   },
   {
    "duration": 7,
    "start_time": "2025-03-03T09:50:25.440Z"
   },
   {
    "duration": 498,
    "start_time": "2025-03-03T09:50:25.449Z"
   },
   {
    "duration": 92,
    "start_time": "2025-03-03T09:50:25.949Z"
   },
   {
    "duration": 28,
    "start_time": "2025-03-03T09:50:26.042Z"
   },
   {
    "duration": 28,
    "start_time": "2025-03-03T09:50:26.071Z"
   },
   {
    "duration": 419,
    "start_time": "2025-03-03T09:50:26.101Z"
   },
   {
    "duration": 21,
    "start_time": "2025-03-03T09:50:26.521Z"
   },
   {
    "duration": 585,
    "start_time": "2025-03-03T09:50:26.545Z"
   },
   {
    "duration": 19,
    "start_time": "2025-03-03T09:50:27.132Z"
   },
   {
    "duration": 85,
    "start_time": "2025-03-03T09:50:27.153Z"
   },
   {
    "duration": 485,
    "start_time": "2025-03-03T09:50:27.240Z"
   },
   {
    "duration": 90,
    "start_time": "2025-03-03T09:50:27.726Z"
   },
   {
    "duration": 5,
    "start_time": "2025-03-03T09:50:27.817Z"
   },
   {
    "duration": 287,
    "start_time": "2025-03-03T09:50:27.823Z"
   },
   {
    "duration": 208,
    "start_time": "2025-03-03T09:50:28.112Z"
   },
   {
    "duration": 3614,
    "start_time": "2025-03-03T09:50:28.321Z"
   },
   {
    "duration": 255,
    "start_time": "2025-03-03T09:50:31.936Z"
   },
   {
    "duration": 475,
    "start_time": "2025-03-03T09:50:32.193Z"
   },
   {
    "duration": 225,
    "start_time": "2025-03-03T09:50:32.671Z"
   },
   {
    "duration": 5301,
    "start_time": "2025-03-03T09:50:32.897Z"
   },
   {
    "duration": 14,
    "start_time": "2025-03-03T09:50:38.199Z"
   },
   {
    "duration": 87,
    "start_time": "2025-03-03T09:50:38.215Z"
   },
   {
    "duration": 5,
    "start_time": "2025-03-03T09:50:38.304Z"
   },
   {
    "duration": 855,
    "start_time": "2025-03-03T09:50:38.311Z"
   },
   {
    "duration": 922,
    "start_time": "2025-03-03T09:50:39.169Z"
   },
   {
    "duration": 30572,
    "start_time": "2025-03-03T09:50:40.093Z"
   },
   {
    "duration": 42253,
    "start_time": "2025-03-03T09:51:10.667Z"
   },
   {
    "duration": 34920,
    "start_time": "2025-03-03T09:51:52.921Z"
   },
   {
    "duration": 153,
    "start_time": "2025-03-03T09:52:27.843Z"
   },
   {
    "duration": 46,
    "start_time": "2025-04-30T10:25:00.514Z"
   },
   {
    "duration": 3575,
    "start_time": "2025-04-30T10:25:09.277Z"
   },
   {
    "duration": 1857,
    "start_time": "2025-04-30T10:25:12.855Z"
   },
   {
    "duration": 276,
    "start_time": "2025-04-30T10:25:14.714Z"
   },
   {
    "duration": 133,
    "start_time": "2025-04-30T10:25:14.991Z"
   },
   {
    "duration": 51,
    "start_time": "2025-04-30T10:25:15.126Z"
   },
   {
    "duration": 43,
    "start_time": "2025-04-30T10:25:15.179Z"
   },
   {
    "duration": 199,
    "start_time": "2025-04-30T10:25:15.223Z"
   },
   {
    "duration": 161,
    "start_time": "2025-04-30T10:25:15.424Z"
   },
   {
    "duration": 306,
    "start_time": "2025-04-30T10:25:15.586Z"
   },
   {
    "duration": 7,
    "start_time": "2025-04-30T10:25:15.894Z"
   },
   {
    "duration": 542,
    "start_time": "2025-04-30T10:25:15.902Z"
   },
   {
    "duration": 82,
    "start_time": "2025-04-30T10:25:16.446Z"
   },
   {
    "duration": 27,
    "start_time": "2025-04-30T10:25:16.529Z"
   },
   {
    "duration": 61,
    "start_time": "2025-04-30T10:25:16.559Z"
   },
   {
    "duration": 410,
    "start_time": "2025-04-30T10:25:16.622Z"
   },
   {
    "duration": 18,
    "start_time": "2025-04-30T10:25:17.034Z"
   },
   {
    "duration": 492,
    "start_time": "2025-04-30T10:25:17.061Z"
   },
   {
    "duration": 22,
    "start_time": "2025-04-30T10:25:17.554Z"
   },
   {
    "duration": 124,
    "start_time": "2025-04-30T10:25:17.578Z"
   },
   {
    "duration": 475,
    "start_time": "2025-04-30T10:25:17.704Z"
   },
   {
    "duration": 87,
    "start_time": "2025-04-30T10:25:18.181Z"
   },
   {
    "duration": 7,
    "start_time": "2025-04-30T10:25:18.270Z"
   },
   {
    "duration": 262,
    "start_time": "2025-04-30T10:25:18.278Z"
   },
   {
    "duration": 194,
    "start_time": "2025-04-30T10:25:18.542Z"
   },
   {
    "duration": 3270,
    "start_time": "2025-04-30T10:25:18.738Z"
   },
   {
    "duration": 233,
    "start_time": "2025-04-30T10:25:22.010Z"
   },
   {
    "duration": 414,
    "start_time": "2025-04-30T10:25:22.244Z"
   },
   {
    "duration": 207,
    "start_time": "2025-04-30T10:25:22.661Z"
   },
   {
    "duration": 13,
    "start_time": "2025-04-30T10:27:21.212Z"
   },
   {
    "duration": 100,
    "start_time": "2025-04-30T10:27:21.226Z"
   },
   {
    "duration": 2,
    "start_time": "2025-04-30T10:27:21.328Z"
   },
   {
    "duration": 769,
    "start_time": "2025-04-30T10:27:21.332Z"
   },
   {
    "duration": 851,
    "start_time": "2025-04-30T10:27:22.102Z"
   },
   {
    "duration": 28839,
    "start_time": "2025-04-30T10:27:22.955Z"
   },
   {
    "duration": 38105,
    "start_time": "2025-04-30T10:27:51.796Z"
   },
   {
    "duration": 31396,
    "start_time": "2025-04-30T10:28:29.903Z"
   },
   {
    "duration": 4983,
    "start_time": "2025-04-30T10:29:01.302Z"
   }
  ],
  "kernelspec": {
   "display_name": "Python 3 (ipykernel)",
   "language": "python",
   "name": "python3"
  },
  "language_info": {
   "codemirror_mode": {
    "name": "ipython",
    "version": 3
   },
   "file_extension": ".py",
   "mimetype": "text/x-python",
   "name": "python",
   "nbconvert_exporter": "python",
   "pygments_lexer": "ipython3",
   "version": "3.9.5"
  },
  "toc": {
   "base_numbering": 1,
   "nav_menu": {},
   "number_sections": true,
   "sideBar": true,
   "skip_h1_title": true,
   "title_cell": "Table of Contents",
   "title_sidebar": "Contents",
   "toc_cell": false,
   "toc_position": {
    "height": "calc(100% - 180px)",
    "left": "10px",
    "top": "150px",
    "width": "286.390625px"
   },
   "toc_section_display": true,
   "toc_window_display": false
  }
 },
 "nbformat": 4,
 "nbformat_minor": 2
}
