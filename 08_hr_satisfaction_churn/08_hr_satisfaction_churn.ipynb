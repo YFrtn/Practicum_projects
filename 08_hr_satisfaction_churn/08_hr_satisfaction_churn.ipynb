{
 "cells": [
  {
   "cell_type": "markdown",
   "id": "11307431",
   "metadata": {},
   "source": [
    "# Компания «Работа с заботой». \n",
    "# HR-аналитика и МЛ"
   ]
  },
  {
   "cell_type": "markdown",
   "id": "a61c255c",
   "metadata": {},
   "source": [
    "Задача построить модель, которая предсказывает уровень удовлетворённости сотрудника работой на основе предоставленных данных (1-я задача) и построить модель, которая предсказывает вероятность увольнения сотрудника из компании (2-я задача).\n",
    "\n",
    "План выполнения:\n",
    "\n",
    "**Загрузка данных:**\n",
    "\n",
    "- Загрузить тренировочную выборку `train_job_satisfaction_rate.csv`, тестовые признаки `test_features.csv` и тестовые целевые значения `test_target_job_satisfaction_rate.csv`.\n",
    "\n",
    "**Предобработка данных:**\n",
    "\n",
    "- Изучить данные на наличие пропусков и аномалий.\n",
    "- Устранить пропуски и преобразовать данные, чтобы их можно было использовать в моделях.\n",
    "\n",
    "**Исследовательский анализ данных:**\n",
    "\n",
    "- Проанализировать входные признаки, выявить их корреляцию с целевым признаком.\n",
    "- Проверить важность каждого признака и их влияние на уровень удовлетворённости.\n",
    "\n",
    "**Подготовка данных:**\n",
    "\n",
    "- Создать пайплайн обработки данных.\n",
    "- Закодировать категориальные признаки с использованием как минимум двух подходов (например, One-Hot Encoding и Ordinal Encoding).\n",
    "- Нормализовать/стандартизировать числовые признаки.\n",
    "\n",
    "**Обучение моделей:**\n",
    "\n",
    "- Обучить как минимум две модели:\n",
    "- Линейную модель (например, линейную регрессию).\n",
    "- Модель дерева решений.\n",
    "- Подобрать гиперпараметры одной из моделей (например, с помощью GridSearchCV или RandomizedSearchCV).\n",
    "- Оценить модели по метрике SMAPE, стремясь к значению ≤15.\n",
    "\n",
    "**Выводы:**\n",
    "\n",
    "- Сравнить модели и выбрать лучшую, основываясь на значении SMAPE.\n",
    "- Описать, почему выбранная модель оказалась лучше.\n",
    "\n",
    "\n",
    "**Задача 2: Предсказание увольнения сотрудника**\n",
    "\n",
    "**План выполнения**\n",
    "\n",
    "**Загрузка данных:**\n",
    "\n",
    "- Загрузить тренировочную выборку (train_quit.csv), тестовые признаки (test_features.csv) и тестовые целевые значения (test_target_quit.csv).\n",
    "\n",
    "**Предобработка данных:**\n",
    "\n",
    "- Изучить данные на наличие пропусков, аномалий, повторяющихся записей.\n",
    "- Устранить проблемы с данными, если они есть, в пайплайне.\n",
    "\n",
    "**Исследовательский анализ данных:**\n",
    "\n",
    "- Провести EDA (Exploratory Data Analysis):\n",
    "- Исследовать распределение признаков.\n",
    "- Выявить «портрет» сотрудника, склонного к увольнению (например, отдел, зарплата, загруженность).\n",
    "\n",
    "**Проверить гипотезу о связи уровня удовлетворённости (job_satisfaction_rate) с увольнением:**\n",
    "\n",
    "- Построить визуализации для сравнения распределений job_satisfaction_rate между ушедшими и оставшимися сотрудниками.\n",
    "\n",
    "**Добавление нового признака:**\n",
    "\n",
    "- Использовать предсказанное значение job_satisfaction_rate из первой задачи как дополнительный признак.\n",
    "\n",
    "**Подготовка данных:**\n",
    "\n",
    "- Создать пайплайн для обработки данных, включая этапы кодирования признаков и заполнения пропусков.\n",
    "- Закодировать категориальные признаки с использованием нескольких подходов.\n",
    "\n",
    "**Обучение моделей:**\n",
    "\n",
    "- Обучить как минимум три модели:\n",
    "- Модель дерева решений (например, Random Forest).\n",
    "- Логистическую регрессию.\n",
    "- Любую другую модель (например, градиентный бустинг).\n",
    "- Подобрать гиперпараметры для как минимум двух моделей.\n",
    "- Оценить модели по метрике ROC-AUC, стремясь к значению ≥0.91.\n",
    "\n",
    "**Выводы:**\n",
    "\n",
    "- Сравнить модели, выбрав лучшую, и объяснить, почему она превосходит остальные.\n",
    "\n",
    "**Общий вывод**\n"
   ]
  },
  {
   "cell_type": "markdown",
   "id": "c21e5bcb",
   "metadata": {},
   "source": [
    "# Задача 1: предсказание уровня удовлетворённости сотрудника"
   ]
  },
  {
   "cell_type": "markdown",
   "id": "d7eb941b",
   "metadata": {},
   "source": [
    "## Загрузка данных"
   ]
  },
  {
   "cell_type": "code",
   "execution_count": 1,
   "id": "173b1889",
   "metadata": {},
   "outputs": [
    {
     "name": "stdout",
     "output_type": "stream",
     "text": [
      "Requirement already satisfied: phik in /opt/conda/lib/python3.9/site-packages (0.12.4)\n",
      "Requirement already satisfied: matplotlib>=2.2.3 in /opt/conda/lib/python3.9/site-packages (from phik) (3.3.4)\n",
      "Requirement already satisfied: pandas>=0.25.1 in /opt/conda/lib/python3.9/site-packages (from phik) (1.2.4)\n",
      "Requirement already satisfied: joblib>=0.14.1 in /opt/conda/lib/python3.9/site-packages (from phik) (1.4.2)\n",
      "Requirement already satisfied: scipy>=1.5.2 in /opt/conda/lib/python3.9/site-packages (from phik) (1.9.1)\n",
      "Requirement already satisfied: numpy>=1.18.0 in /opt/conda/lib/python3.9/site-packages (from phik) (1.21.1)\n",
      "Requirement already satisfied: pillow>=6.2.0 in /opt/conda/lib/python3.9/site-packages (from matplotlib>=2.2.3->phik) (8.4.0)\n",
      "Requirement already satisfied: python-dateutil>=2.1 in /opt/conda/lib/python3.9/site-packages (from matplotlib>=2.2.3->phik) (2.8.1)\n",
      "Requirement already satisfied: pyparsing!=2.0.4,!=2.1.2,!=2.1.6,>=2.0.3 in /opt/conda/lib/python3.9/site-packages (from matplotlib>=2.2.3->phik) (2.4.7)\n",
      "Requirement already satisfied: cycler>=0.10 in /opt/conda/lib/python3.9/site-packages (from matplotlib>=2.2.3->phik) (0.11.0)\n",
      "Requirement already satisfied: kiwisolver>=1.0.1 in /opt/conda/lib/python3.9/site-packages (from matplotlib>=2.2.3->phik) (1.4.4)\n",
      "Requirement already satisfied: pytz>=2017.3 in /opt/conda/lib/python3.9/site-packages (from pandas>=0.25.1->phik) (2021.1)\n",
      "Requirement already satisfied: six>=1.5 in /opt/conda/lib/python3.9/site-packages (from python-dateutil>=2.1->matplotlib>=2.2.3->phik) (1.16.0)\n",
      "Requirement already satisfied: shap in /opt/conda/lib/python3.9/site-packages (0.46.0)\n",
      "Requirement already satisfied: scipy in /opt/conda/lib/python3.9/site-packages (from shap) (1.9.1)\n",
      "Requirement already satisfied: numba in /opt/conda/lib/python3.9/site-packages (from shap) (0.56.0)\n",
      "Requirement already satisfied: packaging>20.9 in /opt/conda/lib/python3.9/site-packages (from shap) (21.3)\n",
      "Requirement already satisfied: scikit-learn in /opt/conda/lib/python3.9/site-packages (from shap) (1.5.2)\n",
      "Requirement already satisfied: numpy in /opt/conda/lib/python3.9/site-packages (from shap) (1.21.1)\n",
      "Requirement already satisfied: pandas in /opt/conda/lib/python3.9/site-packages (from shap) (1.2.4)\n",
      "Requirement already satisfied: tqdm>=4.27.0 in /opt/conda/lib/python3.9/site-packages (from shap) (4.61.2)\n",
      "Requirement already satisfied: slicer==0.0.8 in /opt/conda/lib/python3.9/site-packages (from shap) (0.0.8)\n",
      "Requirement already satisfied: cloudpickle in /opt/conda/lib/python3.9/site-packages (from shap) (3.1.0)\n",
      "Requirement already satisfied: pyparsing!=3.0.5,>=2.0.2 in /opt/conda/lib/python3.9/site-packages (from packaging>20.9->shap) (2.4.7)\n",
      "Requirement already satisfied: llvmlite<0.40,>=0.39.0dev0 in /opt/conda/lib/python3.9/site-packages (from numba->shap) (0.39.0)\n",
      "Requirement already satisfied: setuptools in /opt/conda/lib/python3.9/site-packages (from numba->shap) (49.6.0.post20210108)\n",
      "Requirement already satisfied: python-dateutil>=2.7.3 in /opt/conda/lib/python3.9/site-packages (from pandas->shap) (2.8.1)\n",
      "Requirement already satisfied: pytz>=2017.3 in /opt/conda/lib/python3.9/site-packages (from pandas->shap) (2021.1)\n",
      "Requirement already satisfied: six>=1.5 in /opt/conda/lib/python3.9/site-packages (from python-dateutil>=2.7.3->pandas->shap) (1.16.0)\n",
      "Requirement already satisfied: threadpoolctl>=3.1.0 in /opt/conda/lib/python3.9/site-packages (from scikit-learn->shap) (3.1.0)\n",
      "Requirement already satisfied: joblib>=1.2.0 in /opt/conda/lib/python3.9/site-packages (from scikit-learn->shap) (1.4.2)\n",
      "Requirement already satisfied: scikit-learn in /opt/conda/lib/python3.9/site-packages (1.5.2)\n",
      "Requirement already satisfied: scipy>=1.6.0 in /opt/conda/lib/python3.9/site-packages (from scikit-learn) (1.9.1)\n",
      "Requirement already satisfied: numpy>=1.19.5 in /opt/conda/lib/python3.9/site-packages (from scikit-learn) (1.21.1)\n",
      "Requirement already satisfied: joblib>=1.2.0 in /opt/conda/lib/python3.9/site-packages (from scikit-learn) (1.4.2)\n",
      "Requirement already satisfied: threadpoolctl>=3.1.0 in /opt/conda/lib/python3.9/site-packages (from scikit-learn) (3.1.0)\n"
     ]
    }
   ],
   "source": [
    "!pip install phik\n",
    "!pip install shap\n",
    "!pip install --upgrade scikit-learn\n",
    "\n",
    "# Библиотеки\n",
    "import pandas as pd\n",
    "import numpy as np\n",
    "import matplotlib.pyplot as plt\n",
    "import seaborn as sns\n",
    "import shap\n",
    "import phik\n",
    "\n",
    "\n",
    "from sklearn.pipeline import Pipeline\n",
    "\n",
    "# Преобразование данных\n",
    "from sklearn.model_selection import train_test_split\n",
    "from sklearn.preprocessing import (\n",
    "    StandardScaler, \n",
    "    MinMaxScaler, \n",
    "    RobustScaler, \n",
    "    OneHotEncoder, \n",
    "    OrdinalEncoder, \n",
    "    LabelEncoder\n",
    ")\n",
    "\n",
    "# Обработка колонок\n",
    "from sklearn.compose import ColumnTransformer\n",
    "\n",
    "# Обработка пропусков\n",
    "from sklearn.impute import SimpleImputer\n",
    "\n",
    "# Метрики\n",
    "from sklearn.metrics import (\n",
    "    accuracy_score, \n",
    "    roc_auc_score, \n",
    "    f1_score,\n",
    "    make_scorer,\n",
    "    precision_score,\n",
    "    recall_score\n",
    ")\n",
    "\n",
    "# Поиск гиперпараметров\n",
    "from sklearn.model_selection import RandomizedSearchCV, GridSearchCV\n",
    "\n",
    "# Модели\n",
    "from sklearn.neighbors import KNeighborsClassifier\n",
    "from sklearn.tree import DecisionTreeClassifier, DecisionTreeRegressor\n",
    "from sklearn.linear_model import LogisticRegression, LinearRegression\n",
    "from sklearn.svm import SVC\n",
    "from sklearn.ensemble import RandomForestRegressor, RandomForestClassifier\n",
    "\n",
    "\n",
    "# Кросс-валидация\n",
    "from sklearn.model_selection import cross_val_score\n",
    "\n",
    "# Константы\n",
    "RANDOM_STATE = 42\n",
    "TEST_SIZE = 0.25\n",
    "\n",
    "# Настройки для визуализации\n",
    "plt.rcParams[\"figure.figsize\"] = (14, 7)\n",
    "\n",
    "import warnings\n",
    "warnings.filterwarnings(\"ignore\", category=FutureWarning, module='sklearn.impute')\n",
    "warnings.filterwarnings(\"ignore\", category=FutureWarning, module=\"sklearn.neighbors\")\n"
   ]
  },
  {
   "cell_type": "code",
   "execution_count": 2,
   "id": "d6061b2c",
   "metadata": {},
   "outputs": [],
   "source": [
    "# загрузка данных\n",
    "\n",
    "try:\n",
    "    train_js = pd.read_csv(\n",
    "        'https://code.s3.yandex.net/datasets/train_job_satisfaction_rate.csv'\n",
    "    )\n",
    "    test_features = pd.read_csv(\n",
    "        'https://code.s3.yandex.net/datasets/test_features.csv'\n",
    "    )\n",
    "    test_trgt_js = pd.read_csv(\n",
    "        'https://code.s3.yandex.net/datasets/test_target_job_satisfaction_rate.csv'\n",
    "    )\n",
    "except:\n",
    "    train_js = pd.read_csv('/datasets/train_job_satisfaction_rate.csv')\n",
    "    test_features = pd.read_csv('/datasets/test_features.csv')\n",
    "    test_trgt_js = pd.read_csv('/datasets/test_target_job_satisfaction_rate.csv')"
   ]
  },
  {
   "cell_type": "code",
   "execution_count": 3,
   "id": "9d42149d",
   "metadata": {
    "scrolled": true
   },
   "outputs": [
    {
     "name": "stdout",
     "output_type": "stream",
     "text": [
      "<class 'pandas.core.frame.DataFrame'>\n",
      "RangeIndex: 4000 entries, 0 to 3999\n",
      "Data columns (total 10 columns):\n",
      " #   Column                 Non-Null Count  Dtype  \n",
      "---  ------                 --------------  -----  \n",
      " 0   id                     4000 non-null   int64  \n",
      " 1   dept                   3994 non-null   object \n",
      " 2   level                  3996 non-null   object \n",
      " 3   workload               4000 non-null   object \n",
      " 4   employment_years       4000 non-null   int64  \n",
      " 5   last_year_promo        4000 non-null   object \n",
      " 6   last_year_violations   4000 non-null   object \n",
      " 7   supervisor_evaluation  4000 non-null   int64  \n",
      " 8   salary                 4000 non-null   int64  \n",
      " 9   job_satisfaction_rate  4000 non-null   float64\n",
      "dtypes: float64(1), int64(4), object(5)\n",
      "memory usage: 312.6+ KB\n"
     ]
    },
    {
     "data": {
      "text/plain": [
       "None"
      ]
     },
     "metadata": {},
     "output_type": "display_data"
    },
    {
     "data": {
      "text/html": [
       "<div>\n",
       "<style scoped>\n",
       "    .dataframe tbody tr th:only-of-type {\n",
       "        vertical-align: middle;\n",
       "    }\n",
       "\n",
       "    .dataframe tbody tr th {\n",
       "        vertical-align: top;\n",
       "    }\n",
       "\n",
       "    .dataframe thead th {\n",
       "        text-align: right;\n",
       "    }\n",
       "</style>\n",
       "<table border=\"1\" class=\"dataframe\">\n",
       "  <thead>\n",
       "    <tr style=\"text-align: right;\">\n",
       "      <th></th>\n",
       "      <th>id</th>\n",
       "      <th>dept</th>\n",
       "      <th>level</th>\n",
       "      <th>workload</th>\n",
       "      <th>employment_years</th>\n",
       "      <th>last_year_promo</th>\n",
       "      <th>last_year_violations</th>\n",
       "      <th>supervisor_evaluation</th>\n",
       "      <th>salary</th>\n",
       "      <th>job_satisfaction_rate</th>\n",
       "    </tr>\n",
       "  </thead>\n",
       "  <tbody>\n",
       "    <tr>\n",
       "      <th>0</th>\n",
       "      <td>155278</td>\n",
       "      <td>sales</td>\n",
       "      <td>junior</td>\n",
       "      <td>medium</td>\n",
       "      <td>2</td>\n",
       "      <td>no</td>\n",
       "      <td>no</td>\n",
       "      <td>1</td>\n",
       "      <td>24000</td>\n",
       "      <td>0.58</td>\n",
       "    </tr>\n",
       "    <tr>\n",
       "      <th>1</th>\n",
       "      <td>653870</td>\n",
       "      <td>hr</td>\n",
       "      <td>junior</td>\n",
       "      <td>high</td>\n",
       "      <td>2</td>\n",
       "      <td>no</td>\n",
       "      <td>no</td>\n",
       "      <td>5</td>\n",
       "      <td>38400</td>\n",
       "      <td>0.76</td>\n",
       "    </tr>\n",
       "    <tr>\n",
       "      <th>2</th>\n",
       "      <td>184592</td>\n",
       "      <td>sales</td>\n",
       "      <td>junior</td>\n",
       "      <td>low</td>\n",
       "      <td>1</td>\n",
       "      <td>no</td>\n",
       "      <td>no</td>\n",
       "      <td>2</td>\n",
       "      <td>12000</td>\n",
       "      <td>0.11</td>\n",
       "    </tr>\n",
       "    <tr>\n",
       "      <th>3</th>\n",
       "      <td>171431</td>\n",
       "      <td>technology</td>\n",
       "      <td>junior</td>\n",
       "      <td>low</td>\n",
       "      <td>4</td>\n",
       "      <td>no</td>\n",
       "      <td>no</td>\n",
       "      <td>2</td>\n",
       "      <td>18000</td>\n",
       "      <td>0.37</td>\n",
       "    </tr>\n",
       "    <tr>\n",
       "      <th>4</th>\n",
       "      <td>693419</td>\n",
       "      <td>hr</td>\n",
       "      <td>junior</td>\n",
       "      <td>medium</td>\n",
       "      <td>1</td>\n",
       "      <td>no</td>\n",
       "      <td>no</td>\n",
       "      <td>3</td>\n",
       "      <td>22800</td>\n",
       "      <td>0.20</td>\n",
       "    </tr>\n",
       "  </tbody>\n",
       "</table>\n",
       "</div>"
      ],
      "text/plain": [
       "       id        dept   level workload  employment_years last_year_promo  \\\n",
       "0  155278       sales  junior   medium                 2              no   \n",
       "1  653870          hr  junior     high                 2              no   \n",
       "2  184592       sales  junior      low                 1              no   \n",
       "3  171431  technology  junior      low                 4              no   \n",
       "4  693419          hr  junior   medium                 1              no   \n",
       "\n",
       "  last_year_violations  supervisor_evaluation  salary  job_satisfaction_rate  \n",
       "0                   no                      1   24000                   0.58  \n",
       "1                   no                      5   38400                   0.76  \n",
       "2                   no                      2   12000                   0.11  \n",
       "3                   no                      2   18000                   0.37  \n",
       "4                   no                      3   22800                   0.20  "
      ]
     },
     "metadata": {},
     "output_type": "display_data"
    },
    {
     "name": "stdout",
     "output_type": "stream",
     "text": [
      "_______________________________________________________________________________________________________________\n",
      "<class 'pandas.core.frame.DataFrame'>\n",
      "RangeIndex: 2000 entries, 0 to 1999\n",
      "Data columns (total 9 columns):\n",
      " #   Column                 Non-Null Count  Dtype \n",
      "---  ------                 --------------  ----- \n",
      " 0   id                     2000 non-null   int64 \n",
      " 1   dept                   1998 non-null   object\n",
      " 2   level                  1999 non-null   object\n",
      " 3   workload               2000 non-null   object\n",
      " 4   employment_years       2000 non-null   int64 \n",
      " 5   last_year_promo        2000 non-null   object\n",
      " 6   last_year_violations   2000 non-null   object\n",
      " 7   supervisor_evaluation  2000 non-null   int64 \n",
      " 8   salary                 2000 non-null   int64 \n",
      "dtypes: int64(4), object(5)\n",
      "memory usage: 140.8+ KB\n"
     ]
    },
    {
     "data": {
      "text/plain": [
       "None"
      ]
     },
     "metadata": {},
     "output_type": "display_data"
    },
    {
     "data": {
      "text/html": [
       "<div>\n",
       "<style scoped>\n",
       "    .dataframe tbody tr th:only-of-type {\n",
       "        vertical-align: middle;\n",
       "    }\n",
       "\n",
       "    .dataframe tbody tr th {\n",
       "        vertical-align: top;\n",
       "    }\n",
       "\n",
       "    .dataframe thead th {\n",
       "        text-align: right;\n",
       "    }\n",
       "</style>\n",
       "<table border=\"1\" class=\"dataframe\">\n",
       "  <thead>\n",
       "    <tr style=\"text-align: right;\">\n",
       "      <th></th>\n",
       "      <th>id</th>\n",
       "      <th>dept</th>\n",
       "      <th>level</th>\n",
       "      <th>workload</th>\n",
       "      <th>employment_years</th>\n",
       "      <th>last_year_promo</th>\n",
       "      <th>last_year_violations</th>\n",
       "      <th>supervisor_evaluation</th>\n",
       "      <th>salary</th>\n",
       "    </tr>\n",
       "  </thead>\n",
       "  <tbody>\n",
       "    <tr>\n",
       "      <th>0</th>\n",
       "      <td>485046</td>\n",
       "      <td>marketing</td>\n",
       "      <td>junior</td>\n",
       "      <td>medium</td>\n",
       "      <td>2</td>\n",
       "      <td>no</td>\n",
       "      <td>no</td>\n",
       "      <td>5</td>\n",
       "      <td>28800</td>\n",
       "    </tr>\n",
       "    <tr>\n",
       "      <th>1</th>\n",
       "      <td>686555</td>\n",
       "      <td>hr</td>\n",
       "      <td>junior</td>\n",
       "      <td>medium</td>\n",
       "      <td>1</td>\n",
       "      <td>no</td>\n",
       "      <td>no</td>\n",
       "      <td>4</td>\n",
       "      <td>30000</td>\n",
       "    </tr>\n",
       "    <tr>\n",
       "      <th>2</th>\n",
       "      <td>467458</td>\n",
       "      <td>sales</td>\n",
       "      <td>middle</td>\n",
       "      <td>low</td>\n",
       "      <td>5</td>\n",
       "      <td>no</td>\n",
       "      <td>no</td>\n",
       "      <td>4</td>\n",
       "      <td>19200</td>\n",
       "    </tr>\n",
       "    <tr>\n",
       "      <th>3</th>\n",
       "      <td>418655</td>\n",
       "      <td>sales</td>\n",
       "      <td>middle</td>\n",
       "      <td>low</td>\n",
       "      <td>6</td>\n",
       "      <td>no</td>\n",
       "      <td>no</td>\n",
       "      <td>4</td>\n",
       "      <td>19200</td>\n",
       "    </tr>\n",
       "    <tr>\n",
       "      <th>4</th>\n",
       "      <td>789145</td>\n",
       "      <td>hr</td>\n",
       "      <td>middle</td>\n",
       "      <td>medium</td>\n",
       "      <td>5</td>\n",
       "      <td>no</td>\n",
       "      <td>no</td>\n",
       "      <td>5</td>\n",
       "      <td>40800</td>\n",
       "    </tr>\n",
       "  </tbody>\n",
       "</table>\n",
       "</div>"
      ],
      "text/plain": [
       "       id       dept   level workload  employment_years last_year_promo  \\\n",
       "0  485046  marketing  junior   medium                 2              no   \n",
       "1  686555         hr  junior   medium                 1              no   \n",
       "2  467458      sales  middle      low                 5              no   \n",
       "3  418655      sales  middle      low                 6              no   \n",
       "4  789145         hr  middle   medium                 5              no   \n",
       "\n",
       "  last_year_violations  supervisor_evaluation  salary  \n",
       "0                   no                      5   28800  \n",
       "1                   no                      4   30000  \n",
       "2                   no                      4   19200  \n",
       "3                   no                      4   19200  \n",
       "4                   no                      5   40800  "
      ]
     },
     "metadata": {},
     "output_type": "display_data"
    },
    {
     "name": "stdout",
     "output_type": "stream",
     "text": [
      "_______________________________________________________________________________________________________________\n",
      "<class 'pandas.core.frame.DataFrame'>\n",
      "RangeIndex: 2000 entries, 0 to 1999\n",
      "Data columns (total 2 columns):\n",
      " #   Column                 Non-Null Count  Dtype  \n",
      "---  ------                 --------------  -----  \n",
      " 0   id                     2000 non-null   int64  \n",
      " 1   job_satisfaction_rate  2000 non-null   float64\n",
      "dtypes: float64(1), int64(1)\n",
      "memory usage: 31.4 KB\n"
     ]
    },
    {
     "data": {
      "text/plain": [
       "None"
      ]
     },
     "metadata": {},
     "output_type": "display_data"
    },
    {
     "data": {
      "text/html": [
       "<div>\n",
       "<style scoped>\n",
       "    .dataframe tbody tr th:only-of-type {\n",
       "        vertical-align: middle;\n",
       "    }\n",
       "\n",
       "    .dataframe tbody tr th {\n",
       "        vertical-align: top;\n",
       "    }\n",
       "\n",
       "    .dataframe thead th {\n",
       "        text-align: right;\n",
       "    }\n",
       "</style>\n",
       "<table border=\"1\" class=\"dataframe\">\n",
       "  <thead>\n",
       "    <tr style=\"text-align: right;\">\n",
       "      <th></th>\n",
       "      <th>id</th>\n",
       "      <th>job_satisfaction_rate</th>\n",
       "    </tr>\n",
       "  </thead>\n",
       "  <tbody>\n",
       "    <tr>\n",
       "      <th>0</th>\n",
       "      <td>130604</td>\n",
       "      <td>0.74</td>\n",
       "    </tr>\n",
       "    <tr>\n",
       "      <th>1</th>\n",
       "      <td>825977</td>\n",
       "      <td>0.75</td>\n",
       "    </tr>\n",
       "    <tr>\n",
       "      <th>2</th>\n",
       "      <td>418490</td>\n",
       "      <td>0.60</td>\n",
       "    </tr>\n",
       "    <tr>\n",
       "      <th>3</th>\n",
       "      <td>555320</td>\n",
       "      <td>0.72</td>\n",
       "    </tr>\n",
       "    <tr>\n",
       "      <th>4</th>\n",
       "      <td>826430</td>\n",
       "      <td>0.08</td>\n",
       "    </tr>\n",
       "  </tbody>\n",
       "</table>\n",
       "</div>"
      ],
      "text/plain": [
       "       id  job_satisfaction_rate\n",
       "0  130604                   0.74\n",
       "1  825977                   0.75\n",
       "2  418490                   0.60\n",
       "3  555320                   0.72\n",
       "4  826430                   0.08"
      ]
     },
     "metadata": {},
     "output_type": "display_data"
    }
   ],
   "source": [
    "# изучим данные\n",
    "\n",
    "display(train_js.info())\n",
    "display(train_js.head())\n",
    "print('_'*111)\n",
    "display(test_features.info())\n",
    "display(test_features.head())\n",
    "print('_'*111)\n",
    "display(test_trgt_js.info())\n",
    "display(test_trgt_js.head())"
   ]
  },
  {
   "cell_type": "code",
   "execution_count": 4,
   "id": "50b6d2b9",
   "metadata": {},
   "outputs": [],
   "source": [
    "# установим id как индексы \n",
    "\n",
    "train_js = train_js.set_index('id')\n",
    "test_features = test_features.set_index('id')\n",
    "test_trgt_js = test_trgt_js.set_index('id')"
   ]
  },
  {
   "cell_type": "markdown",
   "id": "e06fa88f",
   "metadata": {},
   "source": [
    "**Вывод:**\n",
    "\n",
    "- Данные в загруженных таблицах в целом соответствуют описанию.\n",
    "\n",
    "- id обозначены как индексы в каждом датафрейме\n",
    "\n",
    "**Имеются пропуски:** \n",
    "\n",
    "`train_js`\n",
    "- dept имеет 6 пропусков.\n",
    "- level имеет 4 пропуска.\n",
    "\n",
    "`test_features`\n",
    "- dept имеет 2 пропусков.\n",
    "- level имеет 1 пропуска."
   ]
  },
  {
   "cell_type": "markdown",
   "id": "c5811116",
   "metadata": {},
   "source": [
    "## Предобработка данных"
   ]
  },
  {
   "cell_type": "code",
   "execution_count": 5,
   "id": "6a3074aa",
   "metadata": {},
   "outputs": [
    {
     "data": {
      "text/plain": [
       "245"
      ]
     },
     "execution_count": 5,
     "metadata": {},
     "output_type": "execute_result"
    }
   ],
   "source": [
    "# ищем дубликаты в тренировочной выборке, \n",
    "# в тестовой выборке мы не правомочны что либо удалять - эти данные поступают на вход обученной модели \n",
    "# и по ним должны быть сделаны \"предсказания\"\n",
    "\n",
    "train_js.duplicated().sum()"
   ]
  },
  {
   "cell_type": "code",
   "execution_count": 6,
   "id": "a81684eb",
   "metadata": {
    "scrolled": true
   },
   "outputs": [
    {
     "data": {
      "text/plain": [
       "(3755, 9)"
      ]
     },
     "execution_count": 6,
     "metadata": {},
     "output_type": "execute_result"
    }
   ],
   "source": [
    "# удалим дубликаты \n",
    "train_js = train_js.drop_duplicates()\n",
    "\n",
    "train_js.shape"
   ]
  },
  {
   "cell_type": "markdown",
   "id": "9bcbddb3",
   "metadata": {},
   "source": [
    "**Почему удалены дубликаты:**\n",
    "- Повторяющиеся строки могли бы привести к \"заучиванию\" модели вместо выявления закономерностей.\n"
   ]
  },
  {
   "cell_type": "code",
   "execution_count": 7,
   "id": "9991759c",
   "metadata": {},
   "outputs": [],
   "source": [
    "# создадим пайплайн для обработки пропусков \n",
    "\n",
    "# для начала объеденим тестовые признаками с тестовым таргетом, чтобы совподало по ID. \n",
    "# пригодится в подготовке данных и обучении модели \n",
    "\n",
    "test_js = test_features.join(test_trgt_js, how=\"inner\")\n",
    "\n",
    "# разделеним на числовые и категориальные признаки\n",
    "\n",
    "numerical_columns = [\n",
    "    'employment_years', \n",
    "    'supervisor_evaluation', \n",
    "    'salary'\n",
    "]\n",
    "categorical_columns = [\n",
    "    'dept', 'level', 'workload', \n",
    "    'last_year_promo', 'last_year_violations'\n",
    "]\n",
    "\n",
    "# создаем трансформеры для обработки данных где пропуски заменяются средним и модой (часто встречаемой)\n",
    "\n",
    "numerical_transformer = Pipeline([\n",
    "    ('imputer', SimpleImputer(strategy='mean'))  \n",
    "])\n",
    "\n",
    "categorical_transformer = Pipeline(steps=[\n",
    "    ('imputer', SimpleImputer(strategy='most_frequent'))  # Пропуски заменяются модой\n",
    "])\n",
    "\n",
    "# комбинируем трансформеры в общий ColumnTransformer\n",
    "preprocessor = ColumnTransformer(\n",
    "    transformers=[\n",
    "        ('num', numerical_transformer, numerical_columns),\n",
    "        ('cat', categorical_transformer, categorical_columns)\n",
    "    ]\n",
    ")\n",
    "\n",
    "train_processed = preprocessor.fit_transform(train_js)\n",
    "\n"
   ]
  },
  {
   "cell_type": "markdown",
   "id": "cc182fef",
   "metadata": {},
   "source": [
    "**Вывод:**\n",
    "- Найден дубликаты в тренировочной выборке, которые были удалены, чтобы в дальнейшем эт не привило к \"заучиванию\" модели вместо выявления закономерностей.\n",
    "\n",
    "- неявных дубликатов найдено не было.\n",
    "\n",
    "- устранены пропуски при помощи пайплайна, в категориальных признаках пропуски заменены на часто встречаемые, в случае если были пропуски в числовых они были бы заменены на среднее (таких не было)."
   ]
  },
  {
   "cell_type": "markdown",
   "id": "73fd482c",
   "metadata": {},
   "source": [
    "## Исследовательский анализ данных"
   ]
  },
  {
   "cell_type": "code",
   "execution_count": 8,
   "id": "bf30cf98",
   "metadata": {
    "scrolled": true
   },
   "outputs": [
    {
     "name": "stdout",
     "output_type": "stream",
     "text": [
      "<class 'pandas.core.frame.DataFrame'>\n",
      "Int64Index: 3755 entries, 155278 to 338347\n",
      "Data columns (total 9 columns):\n",
      " #   Column                 Non-Null Count  Dtype  \n",
      "---  ------                 --------------  -----  \n",
      " 0   employment_years       3755 non-null   int64  \n",
      " 1   supervisor_evaluation  3755 non-null   int64  \n",
      " 2   salary                 3755 non-null   int64  \n",
      " 3   dept                   3755 non-null   object \n",
      " 4   level                  3755 non-null   object \n",
      " 5   workload               3755 non-null   object \n",
      " 6   last_year_promo        3755 non-null   object \n",
      " 7   last_year_violations   3755 non-null   object \n",
      " 8   job_satisfaction_rate  3755 non-null   float64\n",
      "dtypes: float64(1), int64(3), object(5)\n",
      "memory usage: 293.4+ KB\n"
     ]
    },
    {
     "data": {
      "text/plain": [
       "None"
      ]
     },
     "metadata": {},
     "output_type": "display_data"
    },
    {
     "data": {
      "text/html": [
       "<div>\n",
       "<style scoped>\n",
       "    .dataframe tbody tr th:only-of-type {\n",
       "        vertical-align: middle;\n",
       "    }\n",
       "\n",
       "    .dataframe tbody tr th {\n",
       "        vertical-align: top;\n",
       "    }\n",
       "\n",
       "    .dataframe thead th {\n",
       "        text-align: right;\n",
       "    }\n",
       "</style>\n",
       "<table border=\"1\" class=\"dataframe\">\n",
       "  <thead>\n",
       "    <tr style=\"text-align: right;\">\n",
       "      <th></th>\n",
       "      <th>employment_years</th>\n",
       "      <th>supervisor_evaluation</th>\n",
       "      <th>salary</th>\n",
       "      <th>dept</th>\n",
       "      <th>level</th>\n",
       "      <th>workload</th>\n",
       "      <th>last_year_promo</th>\n",
       "      <th>last_year_violations</th>\n",
       "      <th>job_satisfaction_rate</th>\n",
       "    </tr>\n",
       "    <tr>\n",
       "      <th>id</th>\n",
       "      <th></th>\n",
       "      <th></th>\n",
       "      <th></th>\n",
       "      <th></th>\n",
       "      <th></th>\n",
       "      <th></th>\n",
       "      <th></th>\n",
       "      <th></th>\n",
       "      <th></th>\n",
       "    </tr>\n",
       "  </thead>\n",
       "  <tbody>\n",
       "    <tr>\n",
       "      <th>155278</th>\n",
       "      <td>2</td>\n",
       "      <td>1</td>\n",
       "      <td>24000</td>\n",
       "      <td>sales</td>\n",
       "      <td>junior</td>\n",
       "      <td>medium</td>\n",
       "      <td>no</td>\n",
       "      <td>no</td>\n",
       "      <td>0.58</td>\n",
       "    </tr>\n",
       "    <tr>\n",
       "      <th>653870</th>\n",
       "      <td>2</td>\n",
       "      <td>5</td>\n",
       "      <td>38400</td>\n",
       "      <td>hr</td>\n",
       "      <td>junior</td>\n",
       "      <td>high</td>\n",
       "      <td>no</td>\n",
       "      <td>no</td>\n",
       "      <td>0.76</td>\n",
       "    </tr>\n",
       "    <tr>\n",
       "      <th>184592</th>\n",
       "      <td>1</td>\n",
       "      <td>2</td>\n",
       "      <td>12000</td>\n",
       "      <td>sales</td>\n",
       "      <td>junior</td>\n",
       "      <td>low</td>\n",
       "      <td>no</td>\n",
       "      <td>no</td>\n",
       "      <td>0.11</td>\n",
       "    </tr>\n",
       "    <tr>\n",
       "      <th>171431</th>\n",
       "      <td>4</td>\n",
       "      <td>2</td>\n",
       "      <td>18000</td>\n",
       "      <td>technology</td>\n",
       "      <td>junior</td>\n",
       "      <td>low</td>\n",
       "      <td>no</td>\n",
       "      <td>no</td>\n",
       "      <td>0.37</td>\n",
       "    </tr>\n",
       "    <tr>\n",
       "      <th>693419</th>\n",
       "      <td>1</td>\n",
       "      <td>3</td>\n",
       "      <td>22800</td>\n",
       "      <td>hr</td>\n",
       "      <td>junior</td>\n",
       "      <td>medium</td>\n",
       "      <td>no</td>\n",
       "      <td>no</td>\n",
       "      <td>0.20</td>\n",
       "    </tr>\n",
       "  </tbody>\n",
       "</table>\n",
       "</div>"
      ],
      "text/plain": [
       "        employment_years  supervisor_evaluation  salary        dept   level  \\\n",
       "id                                                                            \n",
       "155278                 2                      1   24000       sales  junior   \n",
       "653870                 2                      5   38400          hr  junior   \n",
       "184592                 1                      2   12000       sales  junior   \n",
       "171431                 4                      2   18000  technology  junior   \n",
       "693419                 1                      3   22800          hr  junior   \n",
       "\n",
       "       workload last_year_promo last_year_violations  job_satisfaction_rate  \n",
       "id                                                                           \n",
       "155278   medium              no                   no                   0.58  \n",
       "653870     high              no                   no                   0.76  \n",
       "184592      low              no                   no                   0.11  \n",
       "171431      low              no                   no                   0.37  \n",
       "693419   medium              no                   no                   0.20  "
      ]
     },
     "metadata": {},
     "output_type": "display_data"
    }
   ],
   "source": [
    "# преобразуем обработанные данные обратно в DataFrame для тренировочной выборки\n",
    "\n",
    "train_js_df = pd.DataFrame(\n",
    "    train_processed,\n",
    "    columns=numerical_columns + categorical_columns,\n",
    "    index=train_js.index\n",
    ")\n",
    "\n",
    "# добавим целевой признак для полноты EDA\n",
    "\n",
    "train_js_df['job_satisfaction_rate'] = train_js['job_satisfaction_rate']\n",
    "\n",
    "# преобразуем числовые данные в числовой формат\n",
    "\n",
    "train_js_df[numerical_columns] = train_js_df[numerical_columns].astype(int)\n",
    "\n",
    "# проверяем первые строки и структуру\n",
    "\n",
    "display(train_js_df.info())\n",
    "display(train_js_df.head())"
   ]
  },
  {
   "cell_type": "code",
   "execution_count": 9,
   "id": "75680841",
   "metadata": {},
   "outputs": [
    {
     "data": {
      "text/html": [
       "<div>\n",
       "<style scoped>\n",
       "    .dataframe tbody tr th:only-of-type {\n",
       "        vertical-align: middle;\n",
       "    }\n",
       "\n",
       "    .dataframe tbody tr th {\n",
       "        vertical-align: top;\n",
       "    }\n",
       "\n",
       "    .dataframe thead th {\n",
       "        text-align: right;\n",
       "    }\n",
       "</style>\n",
       "<table border=\"1\" class=\"dataframe\">\n",
       "  <thead>\n",
       "    <tr style=\"text-align: right;\">\n",
       "      <th></th>\n",
       "      <th>count</th>\n",
       "      <th>mean</th>\n",
       "      <th>std</th>\n",
       "      <th>min</th>\n",
       "      <th>25%</th>\n",
       "      <th>50%</th>\n",
       "      <th>75%</th>\n",
       "      <th>max</th>\n",
       "    </tr>\n",
       "  </thead>\n",
       "  <tbody>\n",
       "    <tr>\n",
       "      <th>employment_years</th>\n",
       "      <td>3755.0</td>\n",
       "      <td>3.817044</td>\n",
       "      <td>2.557142</td>\n",
       "      <td>1.00</td>\n",
       "      <td>2.00</td>\n",
       "      <td>3.00</td>\n",
       "      <td>6.00</td>\n",
       "      <td>10.0</td>\n",
       "    </tr>\n",
       "    <tr>\n",
       "      <th>supervisor_evaluation</th>\n",
       "      <td>3755.0</td>\n",
       "      <td>3.463648</td>\n",
       "      <td>1.026265</td>\n",
       "      <td>1.00</td>\n",
       "      <td>3.00</td>\n",
       "      <td>4.00</td>\n",
       "      <td>4.00</td>\n",
       "      <td>5.0</td>\n",
       "    </tr>\n",
       "    <tr>\n",
       "      <th>salary</th>\n",
       "      <td>3755.0</td>\n",
       "      <td>34457.416778</td>\n",
       "      <td>15050.643870</td>\n",
       "      <td>12000.00</td>\n",
       "      <td>22800.00</td>\n",
       "      <td>31200.00</td>\n",
       "      <td>44400.00</td>\n",
       "      <td>98400.0</td>\n",
       "    </tr>\n",
       "    <tr>\n",
       "      <th>job_satisfaction_rate</th>\n",
       "      <td>3755.0</td>\n",
       "      <td>0.532554</td>\n",
       "      <td>0.226393</td>\n",
       "      <td>0.03</td>\n",
       "      <td>0.35</td>\n",
       "      <td>0.55</td>\n",
       "      <td>0.71</td>\n",
       "      <td>1.0</td>\n",
       "    </tr>\n",
       "  </tbody>\n",
       "</table>\n",
       "</div>"
      ],
      "text/plain": [
       "                        count          mean           std       min       25%  \\\n",
       "employment_years       3755.0      3.817044      2.557142      1.00      2.00   \n",
       "supervisor_evaluation  3755.0      3.463648      1.026265      1.00      3.00   \n",
       "salary                 3755.0  34457.416778  15050.643870  12000.00  22800.00   \n",
       "job_satisfaction_rate  3755.0      0.532554      0.226393      0.03      0.35   \n",
       "\n",
       "                            50%       75%      max  \n",
       "employment_years           3.00      6.00     10.0  \n",
       "supervisor_evaluation      4.00      4.00      5.0  \n",
       "salary                 31200.00  44400.00  98400.0  \n",
       "job_satisfaction_rate      0.55      0.71      1.0  "
      ]
     },
     "metadata": {},
     "output_type": "display_data"
    },
    {
     "name": "stdout",
     "output_type": "stream",
     "text": [
      "________________________________________________________________________________\n"
     ]
    },
    {
     "data": {
      "text/html": [
       "<div>\n",
       "<style scoped>\n",
       "    .dataframe tbody tr th:only-of-type {\n",
       "        vertical-align: middle;\n",
       "    }\n",
       "\n",
       "    .dataframe tbody tr th {\n",
       "        vertical-align: top;\n",
       "    }\n",
       "\n",
       "    .dataframe thead th {\n",
       "        text-align: right;\n",
       "    }\n",
       "</style>\n",
       "<table border=\"1\" class=\"dataframe\">\n",
       "  <thead>\n",
       "    <tr style=\"text-align: right;\">\n",
       "      <th></th>\n",
       "      <th>count</th>\n",
       "      <th>unique</th>\n",
       "      <th>top</th>\n",
       "      <th>freq</th>\n",
       "    </tr>\n",
       "  </thead>\n",
       "  <tbody>\n",
       "    <tr>\n",
       "      <th>dept</th>\n",
       "      <td>3755</td>\n",
       "      <td>5</td>\n",
       "      <td>sales</td>\n",
       "      <td>1380</td>\n",
       "    </tr>\n",
       "    <tr>\n",
       "      <th>level</th>\n",
       "      <td>3755</td>\n",
       "      <td>3</td>\n",
       "      <td>junior</td>\n",
       "      <td>1703</td>\n",
       "    </tr>\n",
       "    <tr>\n",
       "      <th>workload</th>\n",
       "      <td>3755</td>\n",
       "      <td>3</td>\n",
       "      <td>medium</td>\n",
       "      <td>1908</td>\n",
       "    </tr>\n",
       "    <tr>\n",
       "      <th>last_year_promo</th>\n",
       "      <td>3755</td>\n",
       "      <td>2</td>\n",
       "      <td>no</td>\n",
       "      <td>3635</td>\n",
       "    </tr>\n",
       "    <tr>\n",
       "      <th>last_year_violations</th>\n",
       "      <td>3755</td>\n",
       "      <td>2</td>\n",
       "      <td>no</td>\n",
       "      <td>3202</td>\n",
       "    </tr>\n",
       "  </tbody>\n",
       "</table>\n",
       "</div>"
      ],
      "text/plain": [
       "                     count unique     top  freq\n",
       "dept                  3755      5   sales  1380\n",
       "level                 3755      3  junior  1703\n",
       "workload              3755      3  medium  1908\n",
       "last_year_promo       3755      2      no  3635\n",
       "last_year_violations  3755      2      no  3202"
      ]
     },
     "metadata": {},
     "output_type": "display_data"
    }
   ],
   "source": [
    "display(train_js_df.describe().T)\n",
    "print('_' * 80)\n",
    "display(train_js_df.describe(include=['object']).T)"
   ]
  },
  {
   "cell_type": "markdown",
   "id": "92d84f55",
   "metadata": {},
   "source": [
    "Большинство сотрудников работают в отделе продаж на младших позициях, со стажем до 6 лет, средней нагрузкой и зарплатой около 34,500. Уровень удовлетворенности средний (0.53), большинство не получали повышения и не нарушали трудовой договор за последний год. Оценки руководителей в основном положительные (3–4 из 5)."
   ]
  },
  {
   "cell_type": "code",
   "execution_count": 10,
   "id": "5d2ef823",
   "metadata": {},
   "outputs": [
    {
     "name": "stdout",
     "output_type": "stream",
     "text": [
      "\n",
      "    Создает диаграмму размаха и гистограмму для указанного количественного признака.\n",
      "\n",
      "    Args:\n",
      "        df: DataFrame с данными.\n",
      "        column: Название столбца с количественным признаком.\n",
      "        bins: Количество корзин для гистограммы. По умолчанию 10.\n",
      "\n",
      "    Returns:\n",
      "        None: Функция отображает графики, но ничего не возвращает.\n",
      "    \n",
      "____________________________________________________________________________________________________\n",
      "\n",
      "    Создает столбчатые диаграммы для указанных категориальных признаков.\n",
      "\n",
      "    Args:\n",
      "        df: DataFrame с данными.\n",
      "        columns: Название столбца с категориальными признаками.\n",
      "\n",
      "    Returns:\n",
      "        None: Функция отображает графики, но ничего не возвращает.\n",
      "    \n"
     ]
    }
   ],
   "source": [
    "#функция для построения гистограмм и диаграмм размаха для количественных признаков\n",
    "\n",
    "def plot_box_and_hist(df, column, bins=10):\n",
    "    \"\"\"\n",
    "    Создает диаграмму размаха и гистограмму для указанного количественного признака.\n",
    "\n",
    "    Args:\n",
    "        df: DataFrame с данными.\n",
    "        column: Название столбца с количественным признаком.\n",
    "        bins: Количество корзин для гистограммы. По умолчанию 10.\n",
    "\n",
    "    Returns:\n",
    "        None: Функция отображает графики, но ничего не возвращает.\n",
    "    \"\"\"\n",
    "    fig, axes = plt.subplots(1, 2)  \n",
    "    \n",
    "    #диаграмма размаха\n",
    "    \n",
    "    axes[0].boxplot(df[column], patch_artist=True, boxprops=dict(facecolor='lightblue', color='black'))\n",
    "    axes[0].set_title(f'Диаграмма размаха для {column}')\n",
    "    axes[0].set_ylabel(column)\n",
    "    axes[0].grid(True)\n",
    "    \n",
    "    #гистограмма\n",
    "    \n",
    "    axes[1].hist(df[column], bins=bins, color='skyblue', edgecolor='black')\n",
    "    axes[1].set_title(f'Гистограмма для {column}')\n",
    "    axes[1].set_xlabel(column)\n",
    "    axes[1].set_ylabel('Частота')\n",
    "    axes[1].grid(True)\n",
    "    \n",
    "\n",
    "    plt.tight_layout()\n",
    "    plt.show()\n",
    "               \n",
    "        \n",
    "#функция для построения столбчатых диаграмм для категориальных признаков\n",
    "\n",
    "def plot_categorical_bars(df, columns):\n",
    "    \"\"\"\n",
    "    Создает столбчатые диаграммы для указанных категориальных признаков.\n",
    "\n",
    "    Args:\n",
    "        df: DataFrame с данными.\n",
    "        columns: Название столбца с категориальными признаками.\n",
    "\n",
    "    Returns:\n",
    "        None: Функция отображает графики, но ничего не возвращает.\n",
    "    \"\"\"\n",
    "    for column in columns:\n",
    "        plt.figure(figsize=(7, 5))\n",
    "        df[column].value_counts().plot(kind='bar', color='darkgreen', edgecolor='black')\n",
    "        plt.title(f'Распределение {column}')\n",
    "        plt.xlabel(column)\n",
    "        plt.ylabel('Частота')\n",
    "        plt.grid(True)\n",
    "        plt.show()\n",
    "        \n",
    "        \n",
    "print(plot_box_and_hist.__doc__)\n",
    "print('_' * 100)\n",
    "print(plot_categorical_bars.__doc__)"
   ]
  },
  {
   "cell_type": "markdown",
   "id": "82415c9b",
   "metadata": {},
   "source": [
    "                                   Графики и диаграммы размаха для количественных признаков train_js_df"
   ]
  },
  {
   "cell_type": "code",
   "execution_count": 11,
   "id": "5fe7cc29",
   "metadata": {},
   "outputs": [
    {
     "data": {
      "image/png": "[encoded data removed]",
      "text/plain": [
       "<Figure size 1008x504 with 2 Axes>"
      ]
     },
     "metadata": {
      "needs_background": "light"
     },
     "output_type": "display_data"
    },
    {
     "data": {
      "text/plain": [
       "count    3755.000000\n",
       "mean        3.817044\n",
       "std         2.557142\n",
       "min         1.000000\n",
       "25%         2.000000\n",
       "50%         3.000000\n",
       "75%         6.000000\n",
       "max        10.000000\n",
       "Name: employment_years, dtype: float64"
      ]
     },
     "execution_count": 11,
     "metadata": {},
     "output_type": "execute_result"
    }
   ],
   "source": [
    "plot_box_and_hist(train_js_df, 'employment_years')\n",
    "train_js_df['employment_years'].describe()"
   ]
  },
  {
   "cell_type": "markdown",
   "id": "178ac278",
   "metadata": {},
   "source": [
    "Основная часть сотрудников компании имеет стаж работы до 2 лет (более 800 человек). Медианное значение стажа составляет 3 года, а максимальный показатель достигает 10 лет, что указывает на присутствие долгосрочных сотрудников."
   ]
  },
  {
   "cell_type": "code",
   "execution_count": 12,
   "id": "f278666d",
   "metadata": {
    "scrolled": true
   },
   "outputs": [
    {
     "data": {
      "image/png": "[encoded data removed]",
      "text/plain": [
       "<Figure size 1008x504 with 2 Axes>"
      ]
     },
     "metadata": {
      "needs_background": "light"
     },
     "output_type": "display_data"
    },
    {
     "data": {
      "text/plain": [
       "count    3755.000000\n",
       "mean        3.463648\n",
       "std         1.026265\n",
       "min         1.000000\n",
       "25%         3.000000\n",
       "50%         4.000000\n",
       "75%         4.000000\n",
       "max         5.000000\n",
       "Name: supervisor_evaluation, dtype: float64"
      ]
     },
     "execution_count": 12,
     "metadata": {},
     "output_type": "execute_result"
    }
   ],
   "source": [
    "plot_box_and_hist(train_js_df, 'supervisor_evaluation')\n",
    "train_js_df['supervisor_evaluation'].describe()"
   ]
  },
  {
   "cell_type": "markdown",
   "id": "91b78a8b",
   "metadata": {},
   "source": [
    "Распределение оценок работы сотрудниками руководителями сосредоточено в диапазоне от 3 до 4, что соответствует основным перцентилям данных. Минимальная оценка 1 встречается крайне редко"
   ]
  },
  {
   "cell_type": "code",
   "execution_count": 13,
   "id": "d87bb6b3",
   "metadata": {
    "scrolled": true
   },
   "outputs": [
    {
     "data": {
      "image/png": "[encoded data removed]",
      "text/plain": [
       "<Figure size 1008x504 with 2 Axes>"
      ]
     },
     "metadata": {
      "needs_background": "light"
     },
     "output_type": "display_data"
    },
    {
     "data": {
      "text/plain": [
       "count     3755.000000\n",
       "mean     34457.416778\n",
       "std      15050.643870\n",
       "min      12000.000000\n",
       "25%      22800.000000\n",
       "50%      31200.000000\n",
       "75%      44400.000000\n",
       "max      98400.000000\n",
       "Name: salary, dtype: float64"
      ]
     },
     "execution_count": 13,
     "metadata": {},
     "output_type": "execute_result"
    }
   ],
   "source": [
    "plot_box_and_hist(train_js_df, 'salary')\n",
    "train_js_df['salary'].describe()"
   ]
  },
  {
   "cell_type": "markdown",
   "id": "93b36028",
   "metadata": {},
   "source": [
    "Большинство сотрудников компании имеют зарплаты в диапазоне от 20,000 до 40,000, с медианным значением 31,200. Основной диапазон сосредоточен между 22,800 и 44,400. Присутствуют выбросы, превышающие 80,000, что свидетельствует о наличии высокооплачиваемых сотрудников."
   ]
  },
  {
   "cell_type": "code",
   "execution_count": 14,
   "id": "0e93ac3a",
   "metadata": {},
   "outputs": [
    {
     "data": {
      "image/png": "[encoded data removed]",
      "text/plain": [
       "<Figure size 1008x504 with 2 Axes>"
      ]
     },
     "metadata": {
      "needs_background": "light"
     },
     "output_type": "display_data"
    },
    {
     "data": {
      "text/plain": [
       "count    3755.000000\n",
       "mean        0.532554\n",
       "std         0.226393\n",
       "min         0.030000\n",
       "25%         0.350000\n",
       "50%         0.550000\n",
       "75%         0.710000\n",
       "max         1.000000\n",
       "Name: job_satisfaction_rate, dtype: float64"
      ]
     },
     "execution_count": 14,
     "metadata": {},
     "output_type": "execute_result"
    }
   ],
   "source": [
    "plot_box_and_hist(train_js_df, 'job_satisfaction_rate')\n",
    "train_js_df['job_satisfaction_rate'].describe()"
   ]
  },
  {
   "cell_type": "markdown",
   "id": "37002126",
   "metadata": {},
   "source": [
    "Уровень удовлетворённости сотрудников варьируется от 0.03 до 1.0 с медианным значением 0.55. Основной уровень удовлетворённости в диапазоне от 0.35 до 0.71. Гистограмма показывает почти симметричное распределение, где наиболее частое значение около 0.6"
   ]
  },
  {
   "cell_type": "markdown",
   "id": "c40b4d0e",
   "metadata": {},
   "source": [
    "                                   Графики для категориальных признаков train_js_df"
   ]
  },
  {
   "cell_type": "code",
   "execution_count": 15,
   "id": "f707c7db",
   "metadata": {},
   "outputs": [
    {
     "data": {
      "image/png": "[encoded data removed]",
      "text/plain": [
       "<Figure size 504x360 with 1 Axes>"
      ]
     },
     "metadata": {
      "needs_background": "light"
     },
     "output_type": "display_data"
    },
    {
     "data": {
      "text/plain": [
       "count      3755\n",
       "unique        5\n",
       "top       sales\n",
       "freq       1380\n",
       "Name: dept, dtype: object"
      ]
     },
     "execution_count": 15,
     "metadata": {},
     "output_type": "execute_result"
    }
   ],
   "source": [
    "plot_categorical_bars(train_js_df, ['dept'])\n",
    "train_js_df['dept'].describe()"
   ]
  },
  {
   "cell_type": "markdown",
   "id": "87ee4485",
   "metadata": {},
   "source": [
    "Большинство сотрудников работают в отделе продаж (`sales`). Отделы `technology` и `purchasing` также имеют значительное количество сотрудников, а `marketing` и `hr` включают меньше всего."
   ]
  },
  {
   "cell_type": "code",
   "execution_count": 16,
   "id": "9cb9bb46",
   "metadata": {},
   "outputs": [
    {
     "data": {
      "image/png": "[encoded data removed]",
      "text/plain": [
       "<Figure size 504x360 with 1 Axes>"
      ]
     },
     "metadata": {
      "needs_background": "light"
     },
     "output_type": "display_data"
    },
    {
     "data": {
      "text/plain": [
       "count       3755\n",
       "unique         3\n",
       "top       junior\n",
       "freq        1703\n",
       "Name: level, dtype: object"
      ]
     },
     "execution_count": 16,
     "metadata": {},
     "output_type": "execute_result"
    }
   ],
   "source": [
    "plot_categorical_bars(train_js_df, ['level'])\n",
    "train_js_df['level'].describe()"
   ]
  },
  {
   "cell_type": "markdown",
   "id": "05db8b6d",
   "metadata": {},
   "source": [
    "Большинство сотрудников занимают должности начального (junior) и среднего (middle) уровней"
   ]
  },
  {
   "cell_type": "code",
   "execution_count": 17,
   "id": "e8c57abe",
   "metadata": {
    "scrolled": true
   },
   "outputs": [
    {
     "data": {
      "image/png": "[encoded data removed]",
      "text/plain": [
       "<Figure size 504x360 with 1 Axes>"
      ]
     },
     "metadata": {
      "needs_background": "light"
     },
     "output_type": "display_data"
    },
    {
     "data": {
      "text/plain": [
       "count       3755\n",
       "unique         3\n",
       "top       medium\n",
       "freq        1908\n",
       "Name: workload, dtype: object"
      ]
     },
     "execution_count": 17,
     "metadata": {},
     "output_type": "execute_result"
    }
   ],
   "source": [
    "plot_categorical_bars(train_js_df, ['workload'])\n",
    "train_js_df['workload'].describe()"
   ]
  },
  {
   "cell_type": "markdown",
   "id": "2341a3ec",
   "metadata": {},
   "source": [
    "У большинства сотрудников средняя загруженность, имеются более 700 сотрудников с высокой загруженностью, а также более 1000 сотрудников с низкой. "
   ]
  },
  {
   "cell_type": "code",
   "execution_count": 18,
   "id": "f7292c6e",
   "metadata": {},
   "outputs": [
    {
     "data": {
      "image/png": "[encoded data removed]",
      "text/plain": [
       "<Figure size 504x360 with 1 Axes>"
      ]
     },
     "metadata": {
      "needs_background": "light"
     },
     "output_type": "display_data"
    },
    {
     "data": {
      "text/plain": [
       "count     3755\n",
       "unique       2\n",
       "top         no\n",
       "freq      3635\n",
       "Name: last_year_promo, dtype: object"
      ]
     },
     "execution_count": 18,
     "metadata": {},
     "output_type": "execute_result"
    }
   ],
   "source": [
    "plot_categorical_bars(train_js_df, ['last_year_promo'])\n",
    "train_js_df['last_year_promo'].describe()"
   ]
  },
  {
   "cell_type": "markdown",
   "id": "1f2f8a2b",
   "metadata": {},
   "source": [
    "Повышение за последний год было доступно лишь небольшой части сотрудников (около 3.2%). Большинство сотрудников (96.8%) не получали повышения"
   ]
  },
  {
   "cell_type": "code",
   "execution_count": 19,
   "id": "0633cdb2",
   "metadata": {
    "scrolled": true
   },
   "outputs": [
    {
     "data": {
      "image/png": "[encoded data removed]",
      "text/plain": [
       "<Figure size 504x360 with 1 Axes>"
      ]
     },
     "metadata": {
      "needs_background": "light"
     },
     "output_type": "display_data"
    },
    {
     "data": {
      "text/plain": [
       "count     3755\n",
       "unique       2\n",
       "top         no\n",
       "freq      3202\n",
       "Name: last_year_violations, dtype: object"
      ]
     },
     "execution_count": 19,
     "metadata": {},
     "output_type": "execute_result"
    }
   ],
   "source": [
    "plot_categorical_bars(train_js_df, ['last_year_violations'])\n",
    "train_js_df['last_year_violations'].describe()"
   ]
  },
  {
   "cell_type": "markdown",
   "id": "40a8357a",
   "metadata": {},
   "source": [
    "Нарушения за последний год наблюдаются у небольшой части сотрудников (около 14.7%). Большинство сотрудников (85.3%) не нарушали правила компании. "
   ]
  },
  {
   "cell_type": "markdown",
   "id": "d12792c3",
   "metadata": {},
   "source": [
    "**Общая характеристика сотрудников:**\n",
    "- **Отделы:** Большинство сотрудников работают в отделе продаж (sales), за ним следуют technology и purchasing. Отделы marketing и hr включают меньше всего сотрудников.\n",
    "- **Уровень должностей:** Основная часть сотрудников занимает начальные (junior) и средние (middle) позиции. Уровень senior встречается реже.\n",
    "- **Стаж работы:**\n",
    "Большинство сотрудников имеют стаж работы до 2 лет (более 800 человек).\n",
    "Медианное значение стажа — 3 года, максимальное — 10 лет, что свидетельствует о наличии долгосрочных сотрудников.\n",
    "- **Нагрузка:** Более 700 сотрудников имеют высокую загруженность, а свыше 1000 — низкую загруженность. Средняя загруженность встречается чаще всего.\n",
    "\n",
    "\n",
    "**Финансовые показатели:**\n",
    "\n",
    "- **Зарплата:**\n",
    "Большинство сотрудников получают зарплаты в диапазоне от 20,000 до 40,000 с медианным значением 31,200.\n",
    "Основной диапазон зарплат — от 22,800 до 44,400.\n",
    "Присутствуют высокие зарплаты (выше 80,000), что свидетельствует о наличии высокооплачиваемых сотрудников.\n",
    "**Удовлетворённость и оценки:**\n",
    "- **Удовлетворённость:**\n",
    "Уровень удовлетворённости варьируется от 0.03 до 1.0 с медианным значением 0.55.\n",
    "Основной уровень удовлетворённости — от 0.35 до 0.71. Наиболее частое значение — около 0.6, что говорит о средней удовлетворённости большинства сотрудников.\n",
    "- **Оценки руководителей:**\n",
    "Основная часть оценок сосредоточена в диапазоне от 3 до 4, минимальная оценка 1 встречается крайне редко.\n",
    "\n",
    "**Повышения и нарушения:**\n",
    "\n",
    "- **Повышение за последний год:**\n",
    "Лишь 3.2% сотрудников получали повышение, а 96.8% — нет.\n",
    "- **Нарушения:**\n",
    "Нарушения за последний год были у 14.7% сотрудников, а большинство (85.3%) не нарушали правила компании."
   ]
  },
  {
   "cell_type": "code",
   "execution_count": 20,
   "id": "62b23f9f",
   "metadata": {
    "scrolled": true
   },
   "outputs": [
    {
     "data": {
      "image/png": "[encoded data removed]",
      "text/plain": [
       "<Figure size 720x576 with 2 Axes>"
      ]
     },
     "metadata": {
      "needs_background": "light"
     },
     "output_type": "display_data"
    }
   ],
   "source": [
    "#Phi_K correlation\n",
    "\n",
    "corr_matrix = train_js_df.phik_matrix(\n",
    "    interval_cols=['employment_years', \n",
    "    'supervisor_evaluation', \n",
    "    'salary']\n",
    ")\n",
    "\n",
    "plt.figure(figsize=(10, 8))\n",
    "sns.heatmap(corr_matrix, annot=True, cmap='coolwarm')\n",
    "plt.title('Phi_K Correlation Matrix')\n",
    "plt.show()"
   ]
  },
  {
   "cell_type": "markdown",
   "id": "f55eb7c4",
   "metadata": {},
   "source": [
    "Наибольшая связь с `удовлетворённостью` наблюдается у `оценки руководителя` (0.73), а также у фактов `повышения за последний год` (0.43) и `нарушений трудового договора` (0.59). `Зарплата, стаж, уровень должности и нагрузка` влияют слабее. Это значит, что ключевыми факторами для удовлетворённости являются отношение руководителя к сотруднику и события последнего года (повышения, нарушения).\n",
    "\n",
    "\n",
    "Взаимосвязи между остальными признаками:\n",
    "Наблюдается сильная корреляция между `salary` и `workload` (0.79), а также между `salary` и `leve`l (0.71). \n",
    "`employment_years тесно` связаны с `level` (0.68), что отражает закономерность: чем дольше человек работает в компании, тем, как правило, выше его должностной уровень.\n"
   ]
  },
  {
   "cell_type": "markdown",
   "id": "27f7f427",
   "metadata": {},
   "source": [
    "## Подготовка данных\n",
    "\n",
    "**Подготовку признаков выполните в пайплайне, дополнив пайплайн шагом предобработки. При кодировании учитывайте особенности признаков и моделей и используйте как минимум два кодировщика.**"
   ]
  },
  {
   "cell_type": "code",
   "execution_count": 21,
   "id": "06a86af6",
   "metadata": {},
   "outputs": [],
   "source": [
    "# Подготовка данных \n",
    "\n",
    "X_train = train_js_df.copy()\n",
    "X_train = train_js_df.drop('job_satisfaction_rate', axis=1)\n",
    "y_train = train_js_df['job_satisfaction_rate']\n",
    "\n",
    "\n",
    "# Обновление тестовых данных\n",
    "X_test = test_js.copy()\n",
    "X_test = test_js.drop('job_satisfaction_rate', axis=1)\n",
    "y_test = test_js['job_satisfaction_rate']"
   ]
  },
  {
   "cell_type": "code",
   "execution_count": 22,
   "id": "aa1479b3",
   "metadata": {},
   "outputs": [
    {
     "data": {
      "text/html": [
       "<div>\n",
       "<style scoped>\n",
       "    .dataframe tbody tr th:only-of-type {\n",
       "        vertical-align: middle;\n",
       "    }\n",
       "\n",
       "    .dataframe tbody tr th {\n",
       "        vertical-align: top;\n",
       "    }\n",
       "\n",
       "    .dataframe thead th {\n",
       "        text-align: right;\n",
       "    }\n",
       "</style>\n",
       "<table border=\"1\" class=\"dataframe\">\n",
       "  <thead>\n",
       "    <tr style=\"text-align: right;\">\n",
       "      <th></th>\n",
       "      <th>employment_years</th>\n",
       "      <th>supervisor_evaluation</th>\n",
       "      <th>salary</th>\n",
       "      <th>dept</th>\n",
       "      <th>level</th>\n",
       "      <th>workload</th>\n",
       "      <th>last_year_promo</th>\n",
       "      <th>last_year_violations</th>\n",
       "    </tr>\n",
       "    <tr>\n",
       "      <th>id</th>\n",
       "      <th></th>\n",
       "      <th></th>\n",
       "      <th></th>\n",
       "      <th></th>\n",
       "      <th></th>\n",
       "      <th></th>\n",
       "      <th></th>\n",
       "      <th></th>\n",
       "    </tr>\n",
       "  </thead>\n",
       "  <tbody>\n",
       "    <tr>\n",
       "      <th>155278</th>\n",
       "      <td>2</td>\n",
       "      <td>1</td>\n",
       "      <td>24000</td>\n",
       "      <td>sales</td>\n",
       "      <td>junior</td>\n",
       "      <td>medium</td>\n",
       "      <td>no</td>\n",
       "      <td>no</td>\n",
       "    </tr>\n",
       "    <tr>\n",
       "      <th>653870</th>\n",
       "      <td>2</td>\n",
       "      <td>5</td>\n",
       "      <td>38400</td>\n",
       "      <td>hr</td>\n",
       "      <td>junior</td>\n",
       "      <td>high</td>\n",
       "      <td>no</td>\n",
       "      <td>no</td>\n",
       "    </tr>\n",
       "    <tr>\n",
       "      <th>184592</th>\n",
       "      <td>1</td>\n",
       "      <td>2</td>\n",
       "      <td>12000</td>\n",
       "      <td>sales</td>\n",
       "      <td>junior</td>\n",
       "      <td>low</td>\n",
       "      <td>no</td>\n",
       "      <td>no</td>\n",
       "    </tr>\n",
       "    <tr>\n",
       "      <th>171431</th>\n",
       "      <td>4</td>\n",
       "      <td>2</td>\n",
       "      <td>18000</td>\n",
       "      <td>technology</td>\n",
       "      <td>junior</td>\n",
       "      <td>low</td>\n",
       "      <td>no</td>\n",
       "      <td>no</td>\n",
       "    </tr>\n",
       "    <tr>\n",
       "      <th>693419</th>\n",
       "      <td>1</td>\n",
       "      <td>3</td>\n",
       "      <td>22800</td>\n",
       "      <td>hr</td>\n",
       "      <td>junior</td>\n",
       "      <td>medium</td>\n",
       "      <td>no</td>\n",
       "      <td>no</td>\n",
       "    </tr>\n",
       "  </tbody>\n",
       "</table>\n",
       "</div>"
      ],
      "text/plain": [
       "        employment_years  supervisor_evaluation  salary        dept   level  \\\n",
       "id                                                                            \n",
       "155278                 2                      1   24000       sales  junior   \n",
       "653870                 2                      5   38400          hr  junior   \n",
       "184592                 1                      2   12000       sales  junior   \n",
       "171431                 4                      2   18000  technology  junior   \n",
       "693419                 1                      3   22800          hr  junior   \n",
       "\n",
       "       workload last_year_promo last_year_violations  \n",
       "id                                                    \n",
       "155278   medium              no                   no  \n",
       "653870     high              no                   no  \n",
       "184592      low              no                   no  \n",
       "171431      low              no                   no  \n",
       "693419   medium              no                   no  "
      ]
     },
     "metadata": {},
     "output_type": "display_data"
    },
    {
     "data": {
      "text/html": [
       "<div>\n",
       "<style scoped>\n",
       "    .dataframe tbody tr th:only-of-type {\n",
       "        vertical-align: middle;\n",
       "    }\n",
       "\n",
       "    .dataframe tbody tr th {\n",
       "        vertical-align: top;\n",
       "    }\n",
       "\n",
       "    .dataframe thead th {\n",
       "        text-align: right;\n",
       "    }\n",
       "</style>\n",
       "<table border=\"1\" class=\"dataframe\">\n",
       "  <thead>\n",
       "    <tr style=\"text-align: right;\">\n",
       "      <th></th>\n",
       "      <th>dept</th>\n",
       "      <th>level</th>\n",
       "      <th>workload</th>\n",
       "      <th>employment_years</th>\n",
       "      <th>last_year_promo</th>\n",
       "      <th>last_year_violations</th>\n",
       "      <th>supervisor_evaluation</th>\n",
       "      <th>salary</th>\n",
       "    </tr>\n",
       "    <tr>\n",
       "      <th>id</th>\n",
       "      <th></th>\n",
       "      <th></th>\n",
       "      <th></th>\n",
       "      <th></th>\n",
       "      <th></th>\n",
       "      <th></th>\n",
       "      <th></th>\n",
       "      <th></th>\n",
       "    </tr>\n",
       "  </thead>\n",
       "  <tbody>\n",
       "    <tr>\n",
       "      <th>485046</th>\n",
       "      <td>marketing</td>\n",
       "      <td>junior</td>\n",
       "      <td>medium</td>\n",
       "      <td>2</td>\n",
       "      <td>no</td>\n",
       "      <td>no</td>\n",
       "      <td>5</td>\n",
       "      <td>28800</td>\n",
       "    </tr>\n",
       "    <tr>\n",
       "      <th>686555</th>\n",
       "      <td>hr</td>\n",
       "      <td>junior</td>\n",
       "      <td>medium</td>\n",
       "      <td>1</td>\n",
       "      <td>no</td>\n",
       "      <td>no</td>\n",
       "      <td>4</td>\n",
       "      <td>30000</td>\n",
       "    </tr>\n",
       "    <tr>\n",
       "      <th>467458</th>\n",
       "      <td>sales</td>\n",
       "      <td>middle</td>\n",
       "      <td>low</td>\n",
       "      <td>5</td>\n",
       "      <td>no</td>\n",
       "      <td>no</td>\n",
       "      <td>4</td>\n",
       "      <td>19200</td>\n",
       "    </tr>\n",
       "    <tr>\n",
       "      <th>418655</th>\n",
       "      <td>sales</td>\n",
       "      <td>middle</td>\n",
       "      <td>low</td>\n",
       "      <td>6</td>\n",
       "      <td>no</td>\n",
       "      <td>no</td>\n",
       "      <td>4</td>\n",
       "      <td>19200</td>\n",
       "    </tr>\n",
       "    <tr>\n",
       "      <th>789145</th>\n",
       "      <td>hr</td>\n",
       "      <td>middle</td>\n",
       "      <td>medium</td>\n",
       "      <td>5</td>\n",
       "      <td>no</td>\n",
       "      <td>no</td>\n",
       "      <td>5</td>\n",
       "      <td>40800</td>\n",
       "    </tr>\n",
       "  </tbody>\n",
       "</table>\n",
       "</div>"
      ],
      "text/plain": [
       "             dept   level workload  employment_years last_year_promo  \\\n",
       "id                                                                     \n",
       "485046  marketing  junior   medium                 2              no   \n",
       "686555         hr  junior   medium                 1              no   \n",
       "467458      sales  middle      low                 5              no   \n",
       "418655      sales  middle      low                 6              no   \n",
       "789145         hr  middle   medium                 5              no   \n",
       "\n",
       "       last_year_violations  supervisor_evaluation  salary  \n",
       "id                                                          \n",
       "485046                   no                      5   28800  \n",
       "686555                   no                      4   30000  \n",
       "467458                   no                      4   19200  \n",
       "418655                   no                      4   19200  \n",
       "789145                   no                      5   40800  "
      ]
     },
     "metadata": {},
     "output_type": "display_data"
    }
   ],
   "source": [
    "display(X_train.head())\n",
    "display(X_test.head())"
   ]
  },
  {
   "cell_type": "code",
   "execution_count": 23,
   "id": "35665b95",
   "metadata": {},
   "outputs": [],
   "source": [
    "# создаём списки с названиями признаков\n",
    "\n",
    "num_columns = [\n",
    "    'employment_years', \n",
    "    'supervisor_evaluation', \n",
    "    'salary'\n",
    "]\n",
    "ohe_columns = [\n",
    "     'last_year_promo', 'last_year_violations', 'dept'\n",
    "]\n",
    "\n",
    "ord_columns = [\n",
    "    'level', 'workload'\n",
    "]"
   ]
  },
  {
   "cell_type": "code",
   "execution_count": 24,
   "id": "dffab4f7",
   "metadata": {},
   "outputs": [],
   "source": [
    "# Создаём пайплайн для подготовки признаков из списка ohe_columns\n",
    "\n",
    "ohe_pipe = Pipeline(\n",
    "    [\n",
    "        ('simpleImputer_ohe_1', SimpleImputer(missing_values=np.nan, strategy='most_frequent')),\n",
    "        ('simpleImputer_ohe_2', SimpleImputer(missing_values=' ', strategy='most_frequent')),\n",
    "        ('ohe', OneHotEncoder(drop='first', handle_unknown='ignore'))\n",
    "    ]\n",
    ")\n",
    "\n",
    "# Создаём пайплайн для подготовки признаков из списка ord_columns\n",
    "\n",
    "ord_pipe = Pipeline(\n",
    "    [\n",
    "        ('simpleImputer_before_ord', SimpleImputer(missing_values=np.nan, strategy='most_frequent')),\n",
    "        ('ord', OrdinalEncoder(\n",
    "            categories=[\n",
    "                ['medium', 'high', 'low'],\n",
    "                ['junior', 'middle', 'sinior'],\n",
    "            ],\n",
    "            handle_unknown='use_encoded_value', unknown_value=np.nan\n",
    "        )), \n",
    "        ('simpleImputer_after_ord', SimpleImputer(missing_values=np.nan, strategy='most_frequent'))\n",
    "    ]\n",
    ")\n",
    "\n",
    "# Общий пайплайн для подготовки данных\n",
    "\n",
    "data_preprocessor = ColumnTransformer(\n",
    "    [\n",
    "        ('ohe', ohe_pipe, ohe_columns),\n",
    "        ('ord', ord_pipe, ord_columns),\n",
    "        ('num', StandardScaler(), num_columns)\n",
    "    ], \n",
    "    remainder='passthrough'\n",
    ")"
   ]
  },
  {
   "cell_type": "markdown",
   "id": "0a5aa81a",
   "metadata": {},
   "source": [
    "##  Обучение моделей\n",
    "\n",
    "**Обучите как минимум две модели. Возьмите одну линейную модель, а в качестве второй — дерево решений. Подберите гиперпараметры как минимум для одной модели с помощью одного из известных вам инструментов.**\n",
    "\n",
    "**Выберите лучшую модель и проверьте её качество. Выбор делайте на основе новой метрики — SMAPE (англ. symmetric mean absolute percentage error, «симметричное среднее абсолютное процентное отклонение»).**\n",
    "\n",
    "**Напишите функцию, которая принимает на вход массивы NumPy или объекты Series в pandas и возвращает значение метрики SMAPE. Используйте эту метрику при подборе гиперпараметров и оценке качества моделей.**\n",
    "\n",
    "**В решении сохраните работу со всеми моделями, которые вы пробовали. Сделайте выводы.**"
   ]
  },
  {
   "cell_type": "code",
   "execution_count": 25,
   "id": "df5afedc",
   "metadata": {},
   "outputs": [],
   "source": [
    "pipe_final = Pipeline([\n",
    "    ('preprocessor', data_preprocessor),\n",
    "    ('model', DecisionTreeRegressor(random_state=RANDOM_STATE))\n",
    "])"
   ]
  },
  {
   "cell_type": "code",
   "execution_count": 26,
   "id": "23c317d6",
   "metadata": {},
   "outputs": [],
   "source": [
    "param_grid = [\n",
    "    # DecisionTreeRegressor\n",
    "    {\n",
    "        'model': [DecisionTreeRegressor(random_state=RANDOM_STATE)],\n",
    "        'model__max_depth': range(2, 11),\n",
    "        'model__min_samples_split': range(2, 11),\n",
    "        'model__min_samples_leaf': range(1, 11),\n",
    "        'preprocessor__num': [StandardScaler(), MinMaxScaler(), RobustScaler(), 'passthrough']\n",
    "    },\n",
    "    # LinearRegression\n",
    "    {\n",
    "        'model': [LinearRegression()],\n",
    "        'preprocessor__num': [StandardScaler(), MinMaxScaler(), RobustScaler(), 'passthrough']\n",
    "    },\n",
    "    # RandomForestRegressor\n",
    "    {\n",
    "        'model': [RandomForestRegressor(random_state=RANDOM_STATE)],\n",
    "        'model__n_estimators': range(50, 201, 50),\n",
    "        'model__max_depth': range(5, 21, 5),\n",
    "        'model__min_samples_split': range(2, 11),\n",
    "        'model__min_samples_leaf': range(1, 11),\n",
    "        'preprocessor__num': [StandardScaler(), MinMaxScaler(), RobustScaler(), 'passthrough']\n",
    "    }\n",
    "]"
   ]
  },
  {
   "cell_type": "code",
   "execution_count": 27,
   "id": "6844eb7b",
   "metadata": {},
   "outputs": [],
   "source": [
    "# Метрика SMAPE\n",
    "\n",
    "def smape(y_true, y_pred):\n",
    "    return 1/len(y_true) * np.sum(2*np.abs(y_pred - y_true)/(np.abs(y_true) + np.abs(y_pred))*100)\n",
    "\n",
    "scorer = make_scorer(smape, greater_is_better=False)\n"
   ]
  },
  {
   "cell_type": "code",
   "execution_count": 28,
   "id": "9266913d",
   "metadata": {},
   "outputs": [
    {
     "name": "stderr",
     "output_type": "stream",
     "text": [
      "/opt/conda/lib/python3.9/site-packages/sklearn/impute/_base.py:598: UserWarning: Skipping features without any observed values: [0 1]. At least one non-missing value is needed for imputation with strategy='most_frequent'.\n",
      "  warnings.warn(\n",
      "/opt/conda/lib/python3.9/site-packages/sklearn/impute/_base.py:598: UserWarning: Skipping features without any observed values: [0 1]. At least one non-missing value is needed for imputation with strategy='most_frequent'.\n",
      "  warnings.warn(\n",
      "/opt/conda/lib/python3.9/site-packages/sklearn/impute/_base.py:598: UserWarning: Skipping features without any observed values: [0 1]. At least one non-missing value is needed for imputation with strategy='most_frequent'.\n",
      "  warnings.warn(\n",
      "/opt/conda/lib/python3.9/site-packages/sklearn/impute/_base.py:598: UserWarning: Skipping features without any observed values: [0 1]. At least one non-missing value is needed for imputation with strategy='most_frequent'.\n",
      "  warnings.warn(\n",
      "/opt/conda/lib/python3.9/site-packages/sklearn/impute/_base.py:598: UserWarning: Skipping features without any observed values: [0 1]. At least one non-missing value is needed for imputation with strategy='most_frequent'.\n",
      "  warnings.warn(\n",
      "/opt/conda/lib/python3.9/site-packages/sklearn/impute/_base.py:598: UserWarning: Skipping features without any observed values: [0 1]. At least one non-missing value is needed for imputation with strategy='most_frequent'.\n",
      "  warnings.warn(\n",
      "/opt/conda/lib/python3.9/site-packages/sklearn/impute/_base.py:598: UserWarning: Skipping features without any observed values: [0 1]. At least one non-missing value is needed for imputation with strategy='most_frequent'.\n",
      "  warnings.warn(\n",
      "/opt/conda/lib/python3.9/site-packages/sklearn/impute/_base.py:598: UserWarning: Skipping features without any observed values: [0 1]. At least one non-missing value is needed for imputation with strategy='most_frequent'.\n",
      "  warnings.warn(\n",
      "/opt/conda/lib/python3.9/site-packages/sklearn/impute/_base.py:598: UserWarning: Skipping features without any observed values: [0 1]. At least one non-missing value is needed for imputation with strategy='most_frequent'.\n",
      "  warnings.warn(\n",
      "/opt/conda/lib/python3.9/site-packages/sklearn/impute/_base.py:598: UserWarning: Skipping features without any observed values: [0 1]. At least one non-missing value is needed for imputation with strategy='most_frequent'.\n",
      "  warnings.warn(\n",
      "/opt/conda/lib/python3.9/site-packages/sklearn/impute/_base.py:598: UserWarning: Skipping features without any observed values: [0 1]. At least one non-missing value is needed for imputation with strategy='most_frequent'.\n",
      "  warnings.warn(\n",
      "/opt/conda/lib/python3.9/site-packages/sklearn/impute/_base.py:598: UserWarning: Skipping features without any observed values: [0 1]. At least one non-missing value is needed for imputation with strategy='most_frequent'.\n",
      "  warnings.warn(\n",
      "/opt/conda/lib/python3.9/site-packages/sklearn/impute/_base.py:598: UserWarning: Skipping features without any observed values: [0 1]. At least one non-missing value is needed for imputation with strategy='most_frequent'.\n",
      "  warnings.warn(\n",
      "/opt/conda/lib/python3.9/site-packages/sklearn/impute/_base.py:598: UserWarning: Skipping features without any observed values: [0 1]. At least one non-missing value is needed for imputation with strategy='most_frequent'.\n",
      "  warnings.warn(\n",
      "/opt/conda/lib/python3.9/site-packages/sklearn/impute/_base.py:598: UserWarning: Skipping features without any observed values: [0 1]. At least one non-missing value is needed for imputation with strategy='most_frequent'.\n",
      "  warnings.warn(\n",
      "/opt/conda/lib/python3.9/site-packages/sklearn/impute/_base.py:598: UserWarning: Skipping features without any observed values: [0 1]. At least one non-missing value is needed for imputation with strategy='most_frequent'.\n",
      "  warnings.warn(\n",
      "/opt/conda/lib/python3.9/site-packages/sklearn/impute/_base.py:598: UserWarning: Skipping features without any observed values: [0 1]. At least one non-missing value is needed for imputation with strategy='most_frequent'.\n",
      "  warnings.warn(\n",
      "/opt/conda/lib/python3.9/site-packages/sklearn/impute/_base.py:598: UserWarning: Skipping features without any observed values: [0 1]. At least one non-missing value is needed for imputation with strategy='most_frequent'.\n",
      "  warnings.warn(\n",
      "/opt/conda/lib/python3.9/site-packages/sklearn/impute/_base.py:598: UserWarning: Skipping features without any observed values: [0 1]. At least one non-missing value is needed for imputation with strategy='most_frequent'.\n",
      "  warnings.warn(\n",
      "/opt/conda/lib/python3.9/site-packages/sklearn/impute/_base.py:598: UserWarning: Skipping features without any observed values: [0 1]. At least one non-missing value is needed for imputation with strategy='most_frequent'.\n",
      "  warnings.warn(\n",
      "/opt/conda/lib/python3.9/site-packages/sklearn/impute/_base.py:598: UserWarning: Skipping features without any observed values: [0 1]. At least one non-missing value is needed for imputation with strategy='most_frequent'.\n",
      "  warnings.warn(\n",
      "/opt/conda/lib/python3.9/site-packages/sklearn/impute/_base.py:598: UserWarning: Skipping features without any observed values: [0 1]. At least one non-missing value is needed for imputation with strategy='most_frequent'.\n",
      "  warnings.warn(\n",
      "/opt/conda/lib/python3.9/site-packages/sklearn/impute/_base.py:598: UserWarning: Skipping features without any observed values: [0 1]. At least one non-missing value is needed for imputation with strategy='most_frequent'.\n",
      "  warnings.warn(\n",
      "/opt/conda/lib/python3.9/site-packages/sklearn/impute/_base.py:598: UserWarning: Skipping features without any observed values: [0 1]. At least one non-missing value is needed for imputation with strategy='most_frequent'.\n",
      "  warnings.warn(\n",
      "/opt/conda/lib/python3.9/site-packages/sklearn/impute/_base.py:598: UserWarning: Skipping features without any observed values: [0 1]. At least one non-missing value is needed for imputation with strategy='most_frequent'.\n",
      "  warnings.warn(\n",
      "/opt/conda/lib/python3.9/site-packages/sklearn/impute/_base.py:598: UserWarning: Skipping features without any observed values: [0 1]. At least one non-missing value is needed for imputation with strategy='most_frequent'.\n",
      "  warnings.warn(\n",
      "/opt/conda/lib/python3.9/site-packages/sklearn/impute/_base.py:598: UserWarning: Skipping features without any observed values: [0 1]. At least one non-missing value is needed for imputation with strategy='most_frequent'.\n",
      "  warnings.warn(\n",
      "/opt/conda/lib/python3.9/site-packages/sklearn/impute/_base.py:598: UserWarning: Skipping features without any observed values: [0 1]. At least one non-missing value is needed for imputation with strategy='most_frequent'.\n",
      "  warnings.warn(\n",
      "/opt/conda/lib/python3.9/site-packages/sklearn/impute/_base.py:598: UserWarning: Skipping features without any observed values: [0 1]. At least one non-missing value is needed for imputation with strategy='most_frequent'.\n",
      "  warnings.warn(\n",
      "/opt/conda/lib/python3.9/site-packages/sklearn/impute/_base.py:598: UserWarning: Skipping features without any observed values: [0 1]. At least one non-missing value is needed for imputation with strategy='most_frequent'.\n",
      "  warnings.warn(\n",
      "/opt/conda/lib/python3.9/site-packages/sklearn/impute/_base.py:598: UserWarning: Skipping features without any observed values: [0 1]. At least one non-missing value is needed for imputation with strategy='most_frequent'.\n",
      "  warnings.warn(\n",
      "/opt/conda/lib/python3.9/site-packages/sklearn/impute/_base.py:598: UserWarning: Skipping features without any observed values: [0 1]. At least one non-missing value is needed for imputation with strategy='most_frequent'.\n",
      "  warnings.warn(\n",
      "/opt/conda/lib/python3.9/site-packages/sklearn/impute/_base.py:598: UserWarning: Skipping features without any observed values: [0 1]. At least one non-missing value is needed for imputation with strategy='most_frequent'.\n",
      "  warnings.warn(\n",
      "/opt/conda/lib/python3.9/site-packages/sklearn/impute/_base.py:598: UserWarning: Skipping features without any observed values: [0 1]. At least one non-missing value is needed for imputation with strategy='most_frequent'.\n",
      "  warnings.warn(\n",
      "/opt/conda/lib/python3.9/site-packages/sklearn/impute/_base.py:598: UserWarning: Skipping features without any observed values: [0 1]. At least one non-missing value is needed for imputation with strategy='most_frequent'.\n",
      "  warnings.warn(\n",
      "/opt/conda/lib/python3.9/site-packages/sklearn/impute/_base.py:598: UserWarning: Skipping features without any observed values: [0 1]. At least one non-missing value is needed for imputation with strategy='most_frequent'.\n",
      "  warnings.warn(\n",
      "/opt/conda/lib/python3.9/site-packages/sklearn/impute/_base.py:598: UserWarning: Skipping features without any observed values: [0 1]. At least one non-missing value is needed for imputation with strategy='most_frequent'.\n",
      "  warnings.warn(\n",
      "/opt/conda/lib/python3.9/site-packages/sklearn/impute/_base.py:598: UserWarning: Skipping features without any observed values: [0 1]. At least one non-missing value is needed for imputation with strategy='most_frequent'.\n",
      "  warnings.warn(\n",
      "/opt/conda/lib/python3.9/site-packages/sklearn/impute/_base.py:598: UserWarning: Skipping features without any observed values: [0 1]. At least one non-missing value is needed for imputation with strategy='most_frequent'.\n",
      "  warnings.warn(\n",
      "/opt/conda/lib/python3.9/site-packages/sklearn/impute/_base.py:598: UserWarning: Skipping features without any observed values: [0 1]. At least one non-missing value is needed for imputation with strategy='most_frequent'.\n",
      "  warnings.warn(\n",
      "/opt/conda/lib/python3.9/site-packages/sklearn/impute/_base.py:598: UserWarning: Skipping features without any observed values: [0 1]. At least one non-missing value is needed for imputation with strategy='most_frequent'.\n",
      "  warnings.warn(\n",
      "/opt/conda/lib/python3.9/site-packages/sklearn/impute/_base.py:598: UserWarning: Skipping features without any observed values: [0 1]. At least one non-missing value is needed for imputation with strategy='most_frequent'.\n",
      "  warnings.warn(\n",
      "/opt/conda/lib/python3.9/site-packages/sklearn/impute/_base.py:598: UserWarning: Skipping features without any observed values: [0 1]. At least one non-missing value is needed for imputation with strategy='most_frequent'.\n",
      "  warnings.warn(\n",
      "/opt/conda/lib/python3.9/site-packages/sklearn/impute/_base.py:598: UserWarning: Skipping features without any observed values: [0 1]. At least one non-missing value is needed for imputation with strategy='most_frequent'.\n",
      "  warnings.warn(\n",
      "/opt/conda/lib/python3.9/site-packages/sklearn/impute/_base.py:598: UserWarning: Skipping features without any observed values: [0 1]. At least one non-missing value is needed for imputation with strategy='most_frequent'.\n",
      "  warnings.warn(\n",
      "/opt/conda/lib/python3.9/site-packages/sklearn/impute/_base.py:598: UserWarning: Skipping features without any observed values: [0 1]. At least one non-missing value is needed for imputation with strategy='most_frequent'.\n",
      "  warnings.warn(\n",
      "/opt/conda/lib/python3.9/site-packages/sklearn/impute/_base.py:598: UserWarning: Skipping features without any observed values: [0 1]. At least one non-missing value is needed for imputation with strategy='most_frequent'.\n",
      "  warnings.warn(\n",
      "/opt/conda/lib/python3.9/site-packages/sklearn/impute/_base.py:598: UserWarning: Skipping features without any observed values: [0 1]. At least one non-missing value is needed for imputation with strategy='most_frequent'.\n",
      "  warnings.warn(\n",
      "/opt/conda/lib/python3.9/site-packages/sklearn/impute/_base.py:598: UserWarning: Skipping features without any observed values: [0 1]. At least one non-missing value is needed for imputation with strategy='most_frequent'.\n",
      "  warnings.warn(\n",
      "/opt/conda/lib/python3.9/site-packages/sklearn/impute/_base.py:598: UserWarning: Skipping features without any observed values: [0 1]. At least one non-missing value is needed for imputation with strategy='most_frequent'.\n",
      "  warnings.warn(\n",
      "/opt/conda/lib/python3.9/site-packages/sklearn/impute/_base.py:598: UserWarning: Skipping features without any observed values: [0 1]. At least one non-missing value is needed for imputation with strategy='most_frequent'.\n",
      "  warnings.warn(\n",
      "/opt/conda/lib/python3.9/site-packages/sklearn/impute/_base.py:598: UserWarning: Skipping features without any observed values: [0 1]. At least one non-missing value is needed for imputation with strategy='most_frequent'.\n",
      "  warnings.warn(\n",
      "/opt/conda/lib/python3.9/site-packages/sklearn/impute/_base.py:598: UserWarning: Skipping features without any observed values: [0 1]. At least one non-missing value is needed for imputation with strategy='most_frequent'.\n",
      "  warnings.warn(\n",
      "/opt/conda/lib/python3.9/site-packages/sklearn/impute/_base.py:598: UserWarning: Skipping features without any observed values: [0 1]. At least one non-missing value is needed for imputation with strategy='most_frequent'.\n",
      "  warnings.warn(\n",
      "/opt/conda/lib/python3.9/site-packages/sklearn/impute/_base.py:598: UserWarning: Skipping features without any observed values: [0 1]. At least one non-missing value is needed for imputation with strategy='most_frequent'.\n",
      "  warnings.warn(\n",
      "/opt/conda/lib/python3.9/site-packages/sklearn/impute/_base.py:598: UserWarning: Skipping features without any observed values: [0 1]. At least one non-missing value is needed for imputation with strategy='most_frequent'.\n",
      "  warnings.warn(\n",
      "/opt/conda/lib/python3.9/site-packages/sklearn/impute/_base.py:598: UserWarning: Skipping features without any observed values: [0 1]. At least one non-missing value is needed for imputation with strategy='most_frequent'.\n",
      "  warnings.warn(\n",
      "/opt/conda/lib/python3.9/site-packages/sklearn/impute/_base.py:598: UserWarning: Skipping features without any observed values: [0 1]. At least one non-missing value is needed for imputation with strategy='most_frequent'.\n",
      "  warnings.warn(\n",
      "/opt/conda/lib/python3.9/site-packages/sklearn/impute/_base.py:598: UserWarning: Skipping features without any observed values: [0 1]. At least one non-missing value is needed for imputation with strategy='most_frequent'.\n",
      "  warnings.warn(\n",
      "/opt/conda/lib/python3.9/site-packages/sklearn/impute/_base.py:598: UserWarning: Skipping features without any observed values: [0 1]. At least one non-missing value is needed for imputation with strategy='most_frequent'.\n",
      "  warnings.warn(\n",
      "/opt/conda/lib/python3.9/site-packages/sklearn/impute/_base.py:598: UserWarning: Skipping features without any observed values: [0 1]. At least one non-missing value is needed for imputation with strategy='most_frequent'.\n",
      "  warnings.warn(\n",
      "/opt/conda/lib/python3.9/site-packages/sklearn/impute/_base.py:598: UserWarning: Skipping features without any observed values: [0 1]. At least one non-missing value is needed for imputation with strategy='most_frequent'.\n",
      "  warnings.warn(\n",
      "/opt/conda/lib/python3.9/site-packages/sklearn/impute/_base.py:598: UserWarning: Skipping features without any observed values: [0 1]. At least one non-missing value is needed for imputation with strategy='most_frequent'.\n",
      "  warnings.warn(\n",
      "/opt/conda/lib/python3.9/site-packages/sklearn/impute/_base.py:598: UserWarning: Skipping features without any observed values: [0 1]. At least one non-missing value is needed for imputation with strategy='most_frequent'.\n",
      "  warnings.warn(\n",
      "/opt/conda/lib/python3.9/site-packages/sklearn/impute/_base.py:598: UserWarning: Skipping features without any observed values: [0 1]. At least one non-missing value is needed for imputation with strategy='most_frequent'.\n",
      "  warnings.warn(\n",
      "/opt/conda/lib/python3.9/site-packages/sklearn/impute/_base.py:598: UserWarning: Skipping features without any observed values: [0 1]. At least one non-missing value is needed for imputation with strategy='most_frequent'.\n",
      "  warnings.warn(\n",
      "/opt/conda/lib/python3.9/site-packages/sklearn/impute/_base.py:598: UserWarning: Skipping features without any observed values: [0 1]. At least one non-missing value is needed for imputation with strategy='most_frequent'.\n",
      "  warnings.warn(\n",
      "/opt/conda/lib/python3.9/site-packages/sklearn/impute/_base.py:598: UserWarning: Skipping features without any observed values: [0 1]. At least one non-missing value is needed for imputation with strategy='most_frequent'.\n",
      "  warnings.warn(\n",
      "/opt/conda/lib/python3.9/site-packages/sklearn/impute/_base.py:598: UserWarning: Skipping features without any observed values: [0 1]. At least one non-missing value is needed for imputation with strategy='most_frequent'.\n",
      "  warnings.warn(\n",
      "/opt/conda/lib/python3.9/site-packages/sklearn/impute/_base.py:598: UserWarning: Skipping features without any observed values: [0 1]. At least one non-missing value is needed for imputation with strategy='most_frequent'.\n",
      "  warnings.warn(\n",
      "/opt/conda/lib/python3.9/site-packages/sklearn/impute/_base.py:598: UserWarning: Skipping features without any observed values: [0 1]. At least one non-missing value is needed for imputation with strategy='most_frequent'.\n",
      "  warnings.warn(\n",
      "/opt/conda/lib/python3.9/site-packages/sklearn/impute/_base.py:598: UserWarning: Skipping features without any observed values: [0 1]. At least one non-missing value is needed for imputation with strategy='most_frequent'.\n",
      "  warnings.warn(\n",
      "/opt/conda/lib/python3.9/site-packages/sklearn/impute/_base.py:598: UserWarning: Skipping features without any observed values: [0 1]. At least one non-missing value is needed for imputation with strategy='most_frequent'.\n",
      "  warnings.warn(\n",
      "/opt/conda/lib/python3.9/site-packages/sklearn/impute/_base.py:598: UserWarning: Skipping features without any observed values: [0 1]. At least one non-missing value is needed for imputation with strategy='most_frequent'.\n",
      "  warnings.warn(\n",
      "/opt/conda/lib/python3.9/site-packages/sklearn/impute/_base.py:598: UserWarning: Skipping features without any observed values: [0 1]. At least one non-missing value is needed for imputation with strategy='most_frequent'.\n",
      "  warnings.warn(\n",
      "/opt/conda/lib/python3.9/site-packages/sklearn/impute/_base.py:598: UserWarning: Skipping features without any observed values: [0 1]. At least one non-missing value is needed for imputation with strategy='most_frequent'.\n",
      "  warnings.warn(\n",
      "/opt/conda/lib/python3.9/site-packages/sklearn/impute/_base.py:598: UserWarning: Skipping features without any observed values: [0 1]. At least one non-missing value is needed for imputation with strategy='most_frequent'.\n",
      "  warnings.warn(\n",
      "/opt/conda/lib/python3.9/site-packages/sklearn/impute/_base.py:598: UserWarning: Skipping features without any observed values: [0 1]. At least one non-missing value is needed for imputation with strategy='most_frequent'.\n",
      "  warnings.warn(\n",
      "/opt/conda/lib/python3.9/site-packages/sklearn/impute/_base.py:598: UserWarning: Skipping features without any observed values: [0 1]. At least one non-missing value is needed for imputation with strategy='most_frequent'.\n",
      "  warnings.warn(\n",
      "/opt/conda/lib/python3.9/site-packages/sklearn/impute/_base.py:598: UserWarning: Skipping features without any observed values: [0 1]. At least one non-missing value is needed for imputation with strategy='most_frequent'.\n",
      "  warnings.warn(\n",
      "/opt/conda/lib/python3.9/site-packages/sklearn/impute/_base.py:598: UserWarning: Skipping features without any observed values: [0 1]. At least one non-missing value is needed for imputation with strategy='most_frequent'.\n",
      "  warnings.warn(\n",
      "/opt/conda/lib/python3.9/site-packages/sklearn/impute/_base.py:598: UserWarning: Skipping features without any observed values: [0 1]. At least one non-missing value is needed for imputation with strategy='most_frequent'.\n",
      "  warnings.warn(\n",
      "/opt/conda/lib/python3.9/site-packages/sklearn/impute/_base.py:598: UserWarning: Skipping features without any observed values: [0 1]. At least one non-missing value is needed for imputation with strategy='most_frequent'.\n",
      "  warnings.warn(\n",
      "/opt/conda/lib/python3.9/site-packages/sklearn/impute/_base.py:598: UserWarning: Skipping features without any observed values: [0 1]. At least one non-missing value is needed for imputation with strategy='most_frequent'.\n",
      "  warnings.warn(\n",
      "/opt/conda/lib/python3.9/site-packages/sklearn/impute/_base.py:598: UserWarning: Skipping features without any observed values: [0 1]. At least one non-missing value is needed for imputation with strategy='most_frequent'.\n",
      "  warnings.warn(\n",
      "/opt/conda/lib/python3.9/site-packages/sklearn/impute/_base.py:598: UserWarning: Skipping features without any observed values: [0 1]. At least one non-missing value is needed for imputation with strategy='most_frequent'.\n",
      "  warnings.warn(\n",
      "/opt/conda/lib/python3.9/site-packages/sklearn/impute/_base.py:598: UserWarning: Skipping features without any observed values: [0 1]. At least one non-missing value is needed for imputation with strategy='most_frequent'.\n",
      "  warnings.warn(\n",
      "/opt/conda/lib/python3.9/site-packages/sklearn/impute/_base.py:598: UserWarning: Skipping features without any observed values: [0 1]. At least one non-missing value is needed for imputation with strategy='most_frequent'.\n",
      "  warnings.warn(\n",
      "/opt/conda/lib/python3.9/site-packages/sklearn/impute/_base.py:598: UserWarning: Skipping features without any observed values: [0 1]. At least one non-missing value is needed for imputation with strategy='most_frequent'.\n",
      "  warnings.warn(\n",
      "/opt/conda/lib/python3.9/site-packages/sklearn/impute/_base.py:598: UserWarning: Skipping features without any observed values: [0 1]. At least one non-missing value is needed for imputation with strategy='most_frequent'.\n",
      "  warnings.warn(\n",
      "/opt/conda/lib/python3.9/site-packages/sklearn/impute/_base.py:598: UserWarning: Skipping features without any observed values: [0 1]. At least one non-missing value is needed for imputation with strategy='most_frequent'.\n",
      "  warnings.warn(\n",
      "/opt/conda/lib/python3.9/site-packages/sklearn/impute/_base.py:598: UserWarning: Skipping features without any observed values: [0 1]. At least one non-missing value is needed for imputation with strategy='most_frequent'.\n",
      "  warnings.warn(\n",
      "/opt/conda/lib/python3.9/site-packages/sklearn/impute/_base.py:598: UserWarning: Skipping features without any observed values: [0 1]. At least one non-missing value is needed for imputation with strategy='most_frequent'.\n",
      "  warnings.warn(\n",
      "/opt/conda/lib/python3.9/site-packages/sklearn/impute/_base.py:598: UserWarning: Skipping features without any observed values: [0 1]. At least one non-missing value is needed for imputation with strategy='most_frequent'.\n",
      "  warnings.warn(\n",
      "/opt/conda/lib/python3.9/site-packages/sklearn/impute/_base.py:598: UserWarning: Skipping features without any observed values: [0 1]. At least one non-missing value is needed for imputation with strategy='most_frequent'.\n",
      "  warnings.warn(\n",
      "/opt/conda/lib/python3.9/site-packages/sklearn/impute/_base.py:598: UserWarning: Skipping features without any observed values: [0 1]. At least one non-missing value is needed for imputation with strategy='most_frequent'.\n",
      "  warnings.warn(\n",
      "/opt/conda/lib/python3.9/site-packages/sklearn/impute/_base.py:598: UserWarning: Skipping features without any observed values: [0 1]. At least one non-missing value is needed for imputation with strategy='most_frequent'.\n",
      "  warnings.warn(\n",
      "/opt/conda/lib/python3.9/site-packages/sklearn/impute/_base.py:598: UserWarning: Skipping features without any observed values: [0 1]. At least one non-missing value is needed for imputation with strategy='most_frequent'.\n",
      "  warnings.warn(\n",
      "/opt/conda/lib/python3.9/site-packages/sklearn/impute/_base.py:598: UserWarning: Skipping features without any observed values: [0 1]. At least one non-missing value is needed for imputation with strategy='most_frequent'.\n",
      "  warnings.warn(\n",
      "/opt/conda/lib/python3.9/site-packages/sklearn/impute/_base.py:598: UserWarning: Skipping features without any observed values: [0 1]. At least one non-missing value is needed for imputation with strategy='most_frequent'.\n",
      "  warnings.warn(\n",
      "/opt/conda/lib/python3.9/site-packages/sklearn/impute/_base.py:598: UserWarning: Skipping features without any observed values: [0 1]. At least one non-missing value is needed for imputation with strategy='most_frequent'.\n",
      "  warnings.warn(\n"
     ]
    },
    {
     "name": "stdout",
     "output_type": "stream",
     "text": [
      "Лучшие параметры модели: {'preprocessor__num': MinMaxScaler(), 'model__n_estimators': 200, 'model__min_samples_split': 10, 'model__min_samples_leaf': 1, 'model__max_depth': 15, 'model': RandomForestRegressor(random_state=42)}\n",
      "SMAPE на тестовой выборке: 14.84372659599182\n"
     ]
    },
    {
     "name": "stderr",
     "output_type": "stream",
     "text": [
      "/opt/conda/lib/python3.9/site-packages/sklearn/impute/_base.py:598: UserWarning: Skipping features without any observed values: [0 1]. At least one non-missing value is needed for imputation with strategy='most_frequent'.\n",
      "  warnings.warn(\n"
     ]
    }
   ],
   "source": [
    "randomized_search = RandomizedSearchCV(\n",
    "    pipe_final,\n",
    "    param_grid,\n",
    "    scoring=scorer,\n",
    "    cv=5,\n",
    "    random_state=RANDOM_STATE,\n",
    "    n_jobs=-1,\n",
    ")\n",
    "\n",
    "# Обучение моделей\n",
    "randomized_search.fit(X_train, y_train)\n",
    "\n",
    "# Лучшая модель\n",
    "best_model = randomized_search.best_estimator_\n",
    "best_params = randomized_search.best_params_\n",
    "best_smape = -randomized_search.best_score_\n",
    "\n",
    "# Оценка на тестовой выборке\n",
    "y_pred = best_model.predict(X_test)\n",
    "test_smape = smape(y_test, y_pred)\n",
    "\n",
    "print(f\"Лучшие параметры модели: {best_params}\")\n",
    "print(f\"SMAPE на тестовой выборке: {test_smape}\")"
   ]
  },
  {
   "cell_type": "markdown",
   "id": "ba43a056",
   "metadata": {},
   "source": [
    "## Оформление выводов\n",
    "\n",
    "**Сделайте промежуточные выводы о том, какая модель справилась лучше и почему.**"
   ]
  },
  {
   "cell_type": "markdown",
   "id": "42bcc2c8",
   "metadata": {},
   "source": [
    "**Промежуточные выводы о моделях**\n",
    "\n",
    "Модель RandomForestRegressor показала лучшие результаты на тестовой выборке, достигнув значения SMAPE = 14.84, что соответствует критерию успеха (≤ 15).\n",
    "\n",
    "Успех RandomForestRegressor объясняется его способностью объединять предсказания множества деревьев решений, что уменьшает влияние шума и выбросов, а также обеспечивает высокую гибкость при работе с разными типами зависимостей. "
   ]
  },
  {
   "cell_type": "markdown",
   "id": "7886e349",
   "metadata": {},
   "source": [
    "# Задача 2: предсказание увольнения сотрудника из компании"
   ]
  },
  {
   "cell_type": "markdown",
   "id": "535635cc",
   "metadata": {},
   "source": [
    "## Загрузка данных"
   ]
  },
  {
   "cell_type": "code",
   "execution_count": 29,
   "id": "b896c219",
   "metadata": {},
   "outputs": [],
   "source": [
    "# загрузка данных\n",
    "\n",
    "try:\n",
    "    train_q = pd.read_csv(\n",
    "        'https://code.s3.yandex.net/datasets/train_quit.csv'\n",
    "    )\n",
    "    test_features_q = pd.read_csv(\n",
    "        'https://code.s3.yandex.net/datasets/test_features.csv'\n",
    "    )\n",
    "    test_trgt_q = pd.read_csv(\n",
    "        'https://code.s3.yandex.net/datasets/test_target_quit.csv.csv'\n",
    "    )\n",
    "except:\n",
    "    train_q = pd.read_csv('/datasets/train_quit.csv')\n",
    "    test_features_q = pd.read_csv('/datasets/test_features.csv')\n",
    "    test_trgt_q = pd.read_csv('/datasets/test_target_quit.csv')"
   ]
  },
  {
   "cell_type": "code",
   "execution_count": 30,
   "id": "72282f8f",
   "metadata": {
    "scrolled": true
   },
   "outputs": [
    {
     "name": "stdout",
     "output_type": "stream",
     "text": [
      "<class 'pandas.core.frame.DataFrame'>\n",
      "RangeIndex: 4000 entries, 0 to 3999\n",
      "Data columns (total 10 columns):\n",
      " #   Column                 Non-Null Count  Dtype \n",
      "---  ------                 --------------  ----- \n",
      " 0   id                     4000 non-null   int64 \n",
      " 1   dept                   4000 non-null   object\n",
      " 2   level                  4000 non-null   object\n",
      " 3   workload               4000 non-null   object\n",
      " 4   employment_years       4000 non-null   int64 \n",
      " 5   last_year_promo        4000 non-null   object\n",
      " 6   last_year_violations   4000 non-null   object\n",
      " 7   supervisor_evaluation  4000 non-null   int64 \n",
      " 8   salary                 4000 non-null   int64 \n",
      " 9   quit                   4000 non-null   object\n",
      "dtypes: int64(4), object(6)\n",
      "memory usage: 312.6+ KB\n"
     ]
    },
    {
     "data": {
      "text/plain": [
       "None"
      ]
     },
     "metadata": {},
     "output_type": "display_data"
    },
    {
     "data": {
      "text/html": [
       "<div>\n",
       "<style scoped>\n",
       "    .dataframe tbody tr th:only-of-type {\n",
       "        vertical-align: middle;\n",
       "    }\n",
       "\n",
       "    .dataframe tbody tr th {\n",
       "        vertical-align: top;\n",
       "    }\n",
       "\n",
       "    .dataframe thead th {\n",
       "        text-align: right;\n",
       "    }\n",
       "</style>\n",
       "<table border=\"1\" class=\"dataframe\">\n",
       "  <thead>\n",
       "    <tr style=\"text-align: right;\">\n",
       "      <th></th>\n",
       "      <th>id</th>\n",
       "      <th>dept</th>\n",
       "      <th>level</th>\n",
       "      <th>workload</th>\n",
       "      <th>employment_years</th>\n",
       "      <th>last_year_promo</th>\n",
       "      <th>last_year_violations</th>\n",
       "      <th>supervisor_evaluation</th>\n",
       "      <th>salary</th>\n",
       "      <th>quit</th>\n",
       "    </tr>\n",
       "  </thead>\n",
       "  <tbody>\n",
       "    <tr>\n",
       "      <th>0</th>\n",
       "      <td>723290</td>\n",
       "      <td>sales</td>\n",
       "      <td>middle</td>\n",
       "      <td>high</td>\n",
       "      <td>2</td>\n",
       "      <td>no</td>\n",
       "      <td>no</td>\n",
       "      <td>4</td>\n",
       "      <td>54000</td>\n",
       "      <td>no</td>\n",
       "    </tr>\n",
       "    <tr>\n",
       "      <th>1</th>\n",
       "      <td>814010</td>\n",
       "      <td>sales</td>\n",
       "      <td>junior</td>\n",
       "      <td>medium</td>\n",
       "      <td>2</td>\n",
       "      <td>no</td>\n",
       "      <td>no</td>\n",
       "      <td>4</td>\n",
       "      <td>27600</td>\n",
       "      <td>no</td>\n",
       "    </tr>\n",
       "    <tr>\n",
       "      <th>2</th>\n",
       "      <td>155091</td>\n",
       "      <td>purchasing</td>\n",
       "      <td>middle</td>\n",
       "      <td>medium</td>\n",
       "      <td>5</td>\n",
       "      <td>no</td>\n",
       "      <td>no</td>\n",
       "      <td>1</td>\n",
       "      <td>37200</td>\n",
       "      <td>no</td>\n",
       "    </tr>\n",
       "    <tr>\n",
       "      <th>3</th>\n",
       "      <td>257132</td>\n",
       "      <td>sales</td>\n",
       "      <td>junior</td>\n",
       "      <td>medium</td>\n",
       "      <td>2</td>\n",
       "      <td>no</td>\n",
       "      <td>yes</td>\n",
       "      <td>3</td>\n",
       "      <td>24000</td>\n",
       "      <td>yes</td>\n",
       "    </tr>\n",
       "    <tr>\n",
       "      <th>4</th>\n",
       "      <td>910140</td>\n",
       "      <td>marketing</td>\n",
       "      <td>junior</td>\n",
       "      <td>medium</td>\n",
       "      <td>2</td>\n",
       "      <td>no</td>\n",
       "      <td>no</td>\n",
       "      <td>5</td>\n",
       "      <td>25200</td>\n",
       "      <td>no</td>\n",
       "    </tr>\n",
       "  </tbody>\n",
       "</table>\n",
       "</div>"
      ],
      "text/plain": [
       "       id        dept   level workload  employment_years last_year_promo  \\\n",
       "0  723290       sales  middle     high                 2              no   \n",
       "1  814010       sales  junior   medium                 2              no   \n",
       "2  155091  purchasing  middle   medium                 5              no   \n",
       "3  257132       sales  junior   medium                 2              no   \n",
       "4  910140   marketing  junior   medium                 2              no   \n",
       "\n",
       "  last_year_violations  supervisor_evaluation  salary quit  \n",
       "0                   no                      4   54000   no  \n",
       "1                   no                      4   27600   no  \n",
       "2                   no                      1   37200   no  \n",
       "3                  yes                      3   24000  yes  \n",
       "4                   no                      5   25200   no  "
      ]
     },
     "metadata": {},
     "output_type": "display_data"
    },
    {
     "name": "stdout",
     "output_type": "stream",
     "text": [
      "_______________________________________________________________________________________________________________\n",
      "<class 'pandas.core.frame.DataFrame'>\n",
      "RangeIndex: 2000 entries, 0 to 1999\n",
      "Data columns (total 9 columns):\n",
      " #   Column                 Non-Null Count  Dtype \n",
      "---  ------                 --------------  ----- \n",
      " 0   id                     2000 non-null   int64 \n",
      " 1   dept                   1998 non-null   object\n",
      " 2   level                  1999 non-null   object\n",
      " 3   workload               2000 non-null   object\n",
      " 4   employment_years       2000 non-null   int64 \n",
      " 5   last_year_promo        2000 non-null   object\n",
      " 6   last_year_violations   2000 non-null   object\n",
      " 7   supervisor_evaluation  2000 non-null   int64 \n",
      " 8   salary                 2000 non-null   int64 \n",
      "dtypes: int64(4), object(5)\n",
      "memory usage: 140.8+ KB\n"
     ]
    },
    {
     "data": {
      "text/plain": [
       "None"
      ]
     },
     "metadata": {},
     "output_type": "display_data"
    },
    {
     "data": {
      "text/html": [
       "<div>\n",
       "<style scoped>\n",
       "    .dataframe tbody tr th:only-of-type {\n",
       "        vertical-align: middle;\n",
       "    }\n",
       "\n",
       "    .dataframe tbody tr th {\n",
       "        vertical-align: top;\n",
       "    }\n",
       "\n",
       "    .dataframe thead th {\n",
       "        text-align: right;\n",
       "    }\n",
       "</style>\n",
       "<table border=\"1\" class=\"dataframe\">\n",
       "  <thead>\n",
       "    <tr style=\"text-align: right;\">\n",
       "      <th></th>\n",
       "      <th>id</th>\n",
       "      <th>dept</th>\n",
       "      <th>level</th>\n",
       "      <th>workload</th>\n",
       "      <th>employment_years</th>\n",
       "      <th>last_year_promo</th>\n",
       "      <th>last_year_violations</th>\n",
       "      <th>supervisor_evaluation</th>\n",
       "      <th>salary</th>\n",
       "    </tr>\n",
       "  </thead>\n",
       "  <tbody>\n",
       "    <tr>\n",
       "      <th>0</th>\n",
       "      <td>485046</td>\n",
       "      <td>marketing</td>\n",
       "      <td>junior</td>\n",
       "      <td>medium</td>\n",
       "      <td>2</td>\n",
       "      <td>no</td>\n",
       "      <td>no</td>\n",
       "      <td>5</td>\n",
       "      <td>28800</td>\n",
       "    </tr>\n",
       "    <tr>\n",
       "      <th>1</th>\n",
       "      <td>686555</td>\n",
       "      <td>hr</td>\n",
       "      <td>junior</td>\n",
       "      <td>medium</td>\n",
       "      <td>1</td>\n",
       "      <td>no</td>\n",
       "      <td>no</td>\n",
       "      <td>4</td>\n",
       "      <td>30000</td>\n",
       "    </tr>\n",
       "    <tr>\n",
       "      <th>2</th>\n",
       "      <td>467458</td>\n",
       "      <td>sales</td>\n",
       "      <td>middle</td>\n",
       "      <td>low</td>\n",
       "      <td>5</td>\n",
       "      <td>no</td>\n",
       "      <td>no</td>\n",
       "      <td>4</td>\n",
       "      <td>19200</td>\n",
       "    </tr>\n",
       "    <tr>\n",
       "      <th>3</th>\n",
       "      <td>418655</td>\n",
       "      <td>sales</td>\n",
       "      <td>middle</td>\n",
       "      <td>low</td>\n",
       "      <td>6</td>\n",
       "      <td>no</td>\n",
       "      <td>no</td>\n",
       "      <td>4</td>\n",
       "      <td>19200</td>\n",
       "    </tr>\n",
       "    <tr>\n",
       "      <th>4</th>\n",
       "      <td>789145</td>\n",
       "      <td>hr</td>\n",
       "      <td>middle</td>\n",
       "      <td>medium</td>\n",
       "      <td>5</td>\n",
       "      <td>no</td>\n",
       "      <td>no</td>\n",
       "      <td>5</td>\n",
       "      <td>40800</td>\n",
       "    </tr>\n",
       "  </tbody>\n",
       "</table>\n",
       "</div>"
      ],
      "text/plain": [
       "       id       dept   level workload  employment_years last_year_promo  \\\n",
       "0  485046  marketing  junior   medium                 2              no   \n",
       "1  686555         hr  junior   medium                 1              no   \n",
       "2  467458      sales  middle      low                 5              no   \n",
       "3  418655      sales  middle      low                 6              no   \n",
       "4  789145         hr  middle   medium                 5              no   \n",
       "\n",
       "  last_year_violations  supervisor_evaluation  salary  \n",
       "0                   no                      5   28800  \n",
       "1                   no                      4   30000  \n",
       "2                   no                      4   19200  \n",
       "3                   no                      4   19200  \n",
       "4                   no                      5   40800  "
      ]
     },
     "metadata": {},
     "output_type": "display_data"
    },
    {
     "name": "stdout",
     "output_type": "stream",
     "text": [
      "_______________________________________________________________________________________________________________\n",
      "<class 'pandas.core.frame.DataFrame'>\n",
      "RangeIndex: 2000 entries, 0 to 1999\n",
      "Data columns (total 2 columns):\n",
      " #   Column  Non-Null Count  Dtype \n",
      "---  ------  --------------  ----- \n",
      " 0   id      2000 non-null   int64 \n",
      " 1   quit    2000 non-null   object\n",
      "dtypes: int64(1), object(1)\n",
      "memory usage: 31.4+ KB\n"
     ]
    },
    {
     "data": {
      "text/plain": [
       "None"
      ]
     },
     "metadata": {},
     "output_type": "display_data"
    },
    {
     "data": {
      "text/html": [
       "<div>\n",
       "<style scoped>\n",
       "    .dataframe tbody tr th:only-of-type {\n",
       "        vertical-align: middle;\n",
       "    }\n",
       "\n",
       "    .dataframe tbody tr th {\n",
       "        vertical-align: top;\n",
       "    }\n",
       "\n",
       "    .dataframe thead th {\n",
       "        text-align: right;\n",
       "    }\n",
       "</style>\n",
       "<table border=\"1\" class=\"dataframe\">\n",
       "  <thead>\n",
       "    <tr style=\"text-align: right;\">\n",
       "      <th></th>\n",
       "      <th>id</th>\n",
       "      <th>quit</th>\n",
       "    </tr>\n",
       "  </thead>\n",
       "  <tbody>\n",
       "    <tr>\n",
       "      <th>0</th>\n",
       "      <td>999029</td>\n",
       "      <td>yes</td>\n",
       "    </tr>\n",
       "    <tr>\n",
       "      <th>1</th>\n",
       "      <td>372846</td>\n",
       "      <td>no</td>\n",
       "    </tr>\n",
       "    <tr>\n",
       "      <th>2</th>\n",
       "      <td>726767</td>\n",
       "      <td>no</td>\n",
       "    </tr>\n",
       "    <tr>\n",
       "      <th>3</th>\n",
       "      <td>490105</td>\n",
       "      <td>no</td>\n",
       "    </tr>\n",
       "    <tr>\n",
       "      <th>4</th>\n",
       "      <td>416898</td>\n",
       "      <td>yes</td>\n",
       "    </tr>\n",
       "  </tbody>\n",
       "</table>\n",
       "</div>"
      ],
      "text/plain": [
       "       id quit\n",
       "0  999029  yes\n",
       "1  372846   no\n",
       "2  726767   no\n",
       "3  490105   no\n",
       "4  416898  yes"
      ]
     },
     "metadata": {},
     "output_type": "display_data"
    }
   ],
   "source": [
    "# изучим данные\n",
    "\n",
    "display(train_q.info())\n",
    "display(train_q.head())\n",
    "print('_'*111)\n",
    "display(test_features_q.info())\n",
    "display(test_features_q.head())\n",
    "print('_'*111)\n",
    "display(test_trgt_q.info())\n",
    "display(test_trgt_q.head())"
   ]
  },
  {
   "cell_type": "code",
   "execution_count": 31,
   "id": "04d14d7e",
   "metadata": {},
   "outputs": [],
   "source": [
    "# установим id как индексы \n",
    "\n",
    "train_q = train_q.set_index('id')\n",
    "test_features_q = test_features_q.set_index('id')\n",
    "test_trgt_q = test_trgt_q.set_index('id')"
   ]
  },
  {
   "cell_type": "code",
   "execution_count": 32,
   "id": "88049e00",
   "metadata": {},
   "outputs": [],
   "source": [
    "# объеденим по id тестовые выборку для дальнейшего использования\n",
    "\n",
    "test_q = test_features_q.join(test_trgt_q, how=\"inner\")"
   ]
  },
  {
   "cell_type": "markdown",
   "id": "6a41d40e",
   "metadata": {},
   "source": [
    "## Предобработка данных\n",
    "\n",
    "**Изучите данные и при необходимости выполните предобработку. Если есть пропуски, заполните их в пайплайне.**"
   ]
  },
  {
   "cell_type": "code",
   "execution_count": 33,
   "id": "843f6eb8",
   "metadata": {},
   "outputs": [
    {
     "data": {
      "text/plain": [
       "1413"
      ]
     },
     "metadata": {},
     "output_type": "display_data"
    },
    {
     "data": {
      "text/plain": [
       "(4000, 9)"
      ]
     },
     "metadata": {},
     "output_type": "display_data"
    }
   ],
   "source": [
    "# ищем дубликаты в тренировочной выборке, \n",
    "# в тестовой выборке мы не правомочны что либо удалять - эти данные поступают на вход обученной модели \n",
    "# и по ним должны быть сделаны \"предсказания\"\n",
    "\n",
    "display(train_q.duplicated().sum())\n",
    "display(train_q.shape)"
   ]
  },
  {
   "cell_type": "code",
   "execution_count": 34,
   "id": "c64a8666",
   "metadata": {},
   "outputs": [
    {
     "data": {
      "text/plain": [
       "(2587, 9)"
      ]
     },
     "execution_count": 34,
     "metadata": {},
     "output_type": "execute_result"
    }
   ],
   "source": [
    "# удалим дубликаты \n",
    "\n",
    "train_q = train_q.drop_duplicates()\n",
    "train_q.shape"
   ]
  },
  {
   "cell_type": "markdown",
   "id": "62deb420",
   "metadata": {},
   "source": [
    "Почему удалены дубликаты:\n",
    "\n",
    "Повторяющиеся строки могли бы привести к \"заучиванию\" модели вместо выявления закономерностей."
   ]
  },
  {
   "cell_type": "code",
   "execution_count": 35,
   "id": "99311cf9",
   "metadata": {},
   "outputs": [
    {
     "data": {
      "text/plain": [
       "dept                     0\n",
       "level                    0\n",
       "workload                 0\n",
       "employment_years         0\n",
       "last_year_promo          0\n",
       "last_year_violations     0\n",
       "supervisor_evaluation    0\n",
       "salary                   0\n",
       "quit                     0\n",
       "dtype: int64"
      ]
     },
     "execution_count": 35,
     "metadata": {},
     "output_type": "execute_result"
    }
   ],
   "source": [
    "train_q.isna().sum()"
   ]
  },
  {
   "cell_type": "markdown",
   "id": "970f4f8e",
   "metadata": {},
   "source": [
    "**Вывод:**\n",
    "- Найден дубликаты в тренировочной выборке, которые были удалены, чтобы в дальнейшем эт не привило к \"заучиванию\" модели вместо выявления закономерностей.\n",
    "\n",
    "- неявных дубликатов найдено не было.\n",
    "\n",
    "- пропусков не обнаружено"
   ]
  },
  {
   "cell_type": "markdown",
   "id": "80b00ccb",
   "metadata": {},
   "source": [
    "## Исследовательский анализ данных\n",
    "\n",
    "### Проведите исследовательский анализ данных.\n"
   ]
  },
  {
   "cell_type": "code",
   "execution_count": 36,
   "id": "c044b5a3",
   "metadata": {},
   "outputs": [
    {
     "data": {
      "text/html": [
       "<div>\n",
       "<style scoped>\n",
       "    .dataframe tbody tr th:only-of-type {\n",
       "        vertical-align: middle;\n",
       "    }\n",
       "\n",
       "    .dataframe tbody tr th {\n",
       "        vertical-align: top;\n",
       "    }\n",
       "\n",
       "    .dataframe thead th {\n",
       "        text-align: right;\n",
       "    }\n",
       "</style>\n",
       "<table border=\"1\" class=\"dataframe\">\n",
       "  <thead>\n",
       "    <tr style=\"text-align: right;\">\n",
       "      <th></th>\n",
       "      <th>count</th>\n",
       "      <th>mean</th>\n",
       "      <th>std</th>\n",
       "      <th>min</th>\n",
       "      <th>25%</th>\n",
       "      <th>50%</th>\n",
       "      <th>75%</th>\n",
       "      <th>max</th>\n",
       "    </tr>\n",
       "  </thead>\n",
       "  <tbody>\n",
       "    <tr>\n",
       "      <th>employment_years</th>\n",
       "      <td>2587.0</td>\n",
       "      <td>4.213375</td>\n",
       "      <td>2.601105</td>\n",
       "      <td>1.0</td>\n",
       "      <td>2.0</td>\n",
       "      <td>4.0</td>\n",
       "      <td>6.0</td>\n",
       "      <td>10.0</td>\n",
       "    </tr>\n",
       "    <tr>\n",
       "      <th>supervisor_evaluation</th>\n",
       "      <td>2587.0</td>\n",
       "      <td>3.367994</td>\n",
       "      <td>1.080243</td>\n",
       "      <td>1.0</td>\n",
       "      <td>3.0</td>\n",
       "      <td>3.0</td>\n",
       "      <td>4.0</td>\n",
       "      <td>5.0</td>\n",
       "    </tr>\n",
       "    <tr>\n",
       "      <th>salary</th>\n",
       "      <td>2587.0</td>\n",
       "      <td>37107.692308</td>\n",
       "      <td>16267.354906</td>\n",
       "      <td>12000.0</td>\n",
       "      <td>24000.0</td>\n",
       "      <td>33600.0</td>\n",
       "      <td>46800.0</td>\n",
       "      <td>96000.0</td>\n",
       "    </tr>\n",
       "  </tbody>\n",
       "</table>\n",
       "</div>"
      ],
      "text/plain": [
       "                        count          mean           std      min      25%  \\\n",
       "employment_years       2587.0      4.213375      2.601105      1.0      2.0   \n",
       "supervisor_evaluation  2587.0      3.367994      1.080243      1.0      3.0   \n",
       "salary                 2587.0  37107.692308  16267.354906  12000.0  24000.0   \n",
       "\n",
       "                           50%      75%      max  \n",
       "employment_years           4.0      6.0     10.0  \n",
       "supervisor_evaluation      3.0      4.0      5.0  \n",
       "salary                 33600.0  46800.0  96000.0  "
      ]
     },
     "metadata": {},
     "output_type": "display_data"
    },
    {
     "name": "stdout",
     "output_type": "stream",
     "text": [
      "________________________________________________________________________________\n"
     ]
    },
    {
     "data": {
      "text/html": [
       "<div>\n",
       "<style scoped>\n",
       "    .dataframe tbody tr th:only-of-type {\n",
       "        vertical-align: middle;\n",
       "    }\n",
       "\n",
       "    .dataframe tbody tr th {\n",
       "        vertical-align: top;\n",
       "    }\n",
       "\n",
       "    .dataframe thead th {\n",
       "        text-align: right;\n",
       "    }\n",
       "</style>\n",
       "<table border=\"1\" class=\"dataframe\">\n",
       "  <thead>\n",
       "    <tr style=\"text-align: right;\">\n",
       "      <th></th>\n",
       "      <th>count</th>\n",
       "      <th>unique</th>\n",
       "      <th>top</th>\n",
       "      <th>freq</th>\n",
       "    </tr>\n",
       "  </thead>\n",
       "  <tbody>\n",
       "    <tr>\n",
       "      <th>dept</th>\n",
       "      <td>2587</td>\n",
       "      <td>5</td>\n",
       "      <td>sales</td>\n",
       "      <td>805</td>\n",
       "    </tr>\n",
       "    <tr>\n",
       "      <th>level</th>\n",
       "      <td>2587</td>\n",
       "      <td>3</td>\n",
       "      <td>middle</td>\n",
       "      <td>1282</td>\n",
       "    </tr>\n",
       "    <tr>\n",
       "      <th>workload</th>\n",
       "      <td>2587</td>\n",
       "      <td>3</td>\n",
       "      <td>medium</td>\n",
       "      <td>1244</td>\n",
       "    </tr>\n",
       "    <tr>\n",
       "      <th>last_year_promo</th>\n",
       "      <td>2587</td>\n",
       "      <td>2</td>\n",
       "      <td>no</td>\n",
       "      <td>2476</td>\n",
       "    </tr>\n",
       "    <tr>\n",
       "      <th>last_year_violations</th>\n",
       "      <td>2587</td>\n",
       "      <td>2</td>\n",
       "      <td>no</td>\n",
       "      <td>2111</td>\n",
       "    </tr>\n",
       "    <tr>\n",
       "      <th>quit</th>\n",
       "      <td>2587</td>\n",
       "      <td>2</td>\n",
       "      <td>no</td>\n",
       "      <td>1932</td>\n",
       "    </tr>\n",
       "  </tbody>\n",
       "</table>\n",
       "</div>"
      ],
      "text/plain": [
       "                     count unique     top  freq\n",
       "dept                  2587      5   sales   805\n",
       "level                 2587      3  middle  1282\n",
       "workload              2587      3  medium  1244\n",
       "last_year_promo       2587      2      no  2476\n",
       "last_year_violations  2587      2      no  2111\n",
       "quit                  2587      2      no  1932"
      ]
     },
     "metadata": {},
     "output_type": "display_data"
    }
   ],
   "source": [
    "display(train_q.describe().T)\n",
    "print('_' * 80)\n",
    "display(train_q.describe(include=['object']).T)"
   ]
  },
  {
   "cell_type": "markdown",
   "id": "19974a8e",
   "metadata": {},
   "source": [
    "**Большинство сотрудников:**\n",
    "- Работают в отделе продаж (sales) на среднем уровне должностей (middle), со стажем работы до 6 лет (медиана — 4 года) и средней загрузкой (medium). \n",
    "- Не получали повышения за последний год (2476 из 2587, более 95%);\n",
    "- Не нарушали трудовой договор (2111 из 2587, около 82%);\n",
    "- Не увольнялись (1932 из 2587, около 75%).\n",
    "\n",
    "**Зарплата:**\n",
    "- Средняя зарплата составляет 37,108, а медиана — 33,600, при этом большинство зарплат укладывается в диапазон от 24,000 до 46,800.\n",
    "\n",
    "**Оценка**\n",
    "- Руководители чаще всего оценивают сотрудников положительно: медианная оценка — 3 (по шкале от 1 до 5), большинство сотрудников получают оценки от 3 до 4."
   ]
  },
  {
   "cell_type": "markdown",
   "id": "1347711a",
   "metadata": {},
   "source": [
    "                       Графики и диаграммы размаха для количественных признаков train_q"
   ]
  },
  {
   "cell_type": "code",
   "execution_count": 37,
   "id": "3f6cd941",
   "metadata": {
    "scrolled": true
   },
   "outputs": [
    {
     "data": {
      "image/png": "[encoded data removed]",
      "text/plain": [
       "<Figure size 1008x504 with 2 Axes>"
      ]
     },
     "metadata": {
      "needs_background": "light"
     },
     "output_type": "display_data"
    },
    {
     "data": {
      "text/plain": [
       "count    2587.000000\n",
       "mean        4.213375\n",
       "std         2.601105\n",
       "min         1.000000\n",
       "25%         2.000000\n",
       "50%         4.000000\n",
       "75%         6.000000\n",
       "max        10.000000\n",
       "Name: employment_years, dtype: float64"
      ]
     },
     "execution_count": 37,
     "metadata": {},
     "output_type": "execute_result"
    }
   ],
   "source": [
    "plot_box_and_hist(train_q, 'employment_years')\n",
    "train_q['employment_years'].describe()"
   ]
  },
  {
   "cell_type": "markdown",
   "id": "c9b5a507",
   "metadata": {},
   "source": [
    "Стаж сотрудников в компании варьируется от 1 до 10 лет с медианным значением 4 года. Основная часть сотрудников имеет стаж работы в диапазоне от 2 до 6 лет. Гистограмма показывает убывающее распределение, где большинство сотрудников имеют стаж 2–4 года, а с увеличением стажа число сотрудников снижается.\n",
    "\n",
    "Диаграмма размаха подтверждает, что разброс данных умеренный, выбросов в данных не обнаружено, что указывает на однородность распределения стажа."
   ]
  },
  {
   "cell_type": "code",
   "execution_count": 38,
   "id": "6b4d7d35",
   "metadata": {
    "scrolled": true
   },
   "outputs": [
    {
     "data": {
      "image/png": "[encoded data removed]",
      "text/plain": [
       "<Figure size 1008x504 with 2 Axes>"
      ]
     },
     "metadata": {
      "needs_background": "light"
     },
     "output_type": "display_data"
    },
    {
     "data": {
      "text/plain": [
       "count    2587.000000\n",
       "mean        3.367994\n",
       "std         1.080243\n",
       "min         1.000000\n",
       "25%         3.000000\n",
       "50%         3.000000\n",
       "75%         4.000000\n",
       "max         5.000000\n",
       "Name: supervisor_evaluation, dtype: float64"
      ]
     },
     "execution_count": 38,
     "metadata": {},
     "output_type": "execute_result"
    }
   ],
   "source": [
    "plot_box_and_hist(train_q, 'supervisor_evaluation')\n",
    "train_q['supervisor_evaluation'].describe()"
   ]
  },
  {
   "cell_type": "markdown",
   "id": "a220f071",
   "metadata": {},
   "source": [
    "Оценки сотрудников руководителями варьируются от 1 до 5, с медианным значением 3. Основная часть сотрудников получает оценки в диапазоне от 3 до 4, что видно из гистограммы — это наиболее частые значения. Средняя оценка составляет 3.37, а стандартное отклонение — 1.08, что говорит о некоторой вариативности в оценивании.\n",
    "\n",
    "Диаграмма размаха показывает наличие низких оценок (единиц), которые можно рассматривать как потенциальные выбросы."
   ]
  },
  {
   "cell_type": "code",
   "execution_count": 39,
   "id": "d12409a6",
   "metadata": {},
   "outputs": [
    {
     "data": {
      "image/png": "[encoded data removed]",
      "text/plain": [
       "<Figure size 1008x504 with 2 Axes>"
      ]
     },
     "metadata": {
      "needs_background": "light"
     },
     "output_type": "display_data"
    },
    {
     "data": {
      "text/plain": [
       "count     2587.000000\n",
       "mean     37107.692308\n",
       "std      16267.354906\n",
       "min      12000.000000\n",
       "25%      24000.000000\n",
       "50%      33600.000000\n",
       "75%      46800.000000\n",
       "max      96000.000000\n",
       "Name: salary, dtype: float64"
      ]
     },
     "execution_count": 39,
     "metadata": {},
     "output_type": "execute_result"
    }
   ],
   "source": [
    "plot_box_and_hist(train_q, 'salary')\n",
    "train_q['salary'].describe()"
   ]
  },
  {
   "cell_type": "markdown",
   "id": "da903437",
   "metadata": {},
   "source": [
    "Зарплата сотрудников варьируется от 12,000 до 96,000 с медианным значением 33,600. Основной диапазон зарплат составляет от 24,000 до 46,800, а наиболее частое значение около 30,000–35,000. Диаграмма размаха указывает на наличие выбросов с зарплатами выше 80,000."
   ]
  },
  {
   "cell_type": "markdown",
   "id": "aaab8caa",
   "metadata": {},
   "source": [
    "                                   Графики для категориальных признаков train_q"
   ]
  },
  {
   "cell_type": "code",
   "execution_count": 40,
   "id": "f73e5378",
   "metadata": {},
   "outputs": [
    {
     "data": {
      "image/png": "[encoded data removed]",
      "text/plain": [
       "<Figure size 504x360 with 1 Axes>"
      ]
     },
     "metadata": {
      "needs_background": "light"
     },
     "output_type": "display_data"
    },
    {
     "data": {
      "text/plain": [
       "count      2587\n",
       "unique        5\n",
       "top       sales\n",
       "freq        805\n",
       "Name: dept, dtype: object"
      ]
     },
     "execution_count": 40,
     "metadata": {},
     "output_type": "execute_result"
    }
   ],
   "source": [
    "plot_categorical_bars(train_q, ['dept'])\n",
    "train_q['dept'].describe()"
   ]
  },
  {
   "cell_type": "markdown",
   "id": "e2a10555",
   "metadata": {},
   "source": [
    "Большинство сотрудников работают в отделе sales (805 из 2587). На втором месте — отдел technology, который включает значительное число сотрудников. Остальные отделы, такие как purchasing, marketing и hr, имеют примерно одинаковую численность сотрудников. "
   ]
  },
  {
   "cell_type": "code",
   "execution_count": 41,
   "id": "e3a6965f",
   "metadata": {},
   "outputs": [
    {
     "data": {
      "image/png": "[encoded data removed]",
      "text/plain": [
       "<Figure size 504x360 with 1 Axes>"
      ]
     },
     "metadata": {
      "needs_background": "light"
     },
     "output_type": "display_data"
    },
    {
     "data": {
      "text/plain": [
       "count       2587\n",
       "unique         3\n",
       "top       middle\n",
       "freq        1282\n",
       "Name: level, dtype: object"
      ]
     },
     "execution_count": 41,
     "metadata": {},
     "output_type": "execute_result"
    }
   ],
   "source": [
    "plot_categorical_bars(train_q, ['level'])\n",
    "train_q['level'].describe()"
   ]
  },
  {
   "cell_type": "markdown",
   "id": "388f1b6e",
   "metadata": {},
   "source": [
    "Большинство сотрудников работают в позиции middle "
   ]
  },
  {
   "cell_type": "code",
   "execution_count": 42,
   "id": "bfe4a31c",
   "metadata": {},
   "outputs": [
    {
     "data": {
      "image/png": "[encoded data removed]",
      "text/plain": [
       "<Figure size 504x360 with 1 Axes>"
      ]
     },
     "metadata": {
      "needs_background": "light"
     },
     "output_type": "display_data"
    },
    {
     "data": {
      "text/plain": [
       "count       2587\n",
       "unique         3\n",
       "top       medium\n",
       "freq        1244\n",
       "Name: workload, dtype: object"
      ]
     },
     "execution_count": 42,
     "metadata": {},
     "output_type": "execute_result"
    }
   ],
   "source": [
    "plot_categorical_bars(train_q, ['workload'])\n",
    "train_q['workload'].describe()"
   ]
  },
  {
   "cell_type": "markdown",
   "id": "ce4e5ff0",
   "metadata": {},
   "source": [
    "Большинство сотрудников имеют среднюю загруженность"
   ]
  },
  {
   "cell_type": "code",
   "execution_count": 43,
   "id": "99c2f3ce",
   "metadata": {},
   "outputs": [
    {
     "data": {
      "image/png": "[encoded data removed]",
      "text/plain": [
       "<Figure size 504x360 with 1 Axes>"
      ]
     },
     "metadata": {
      "needs_background": "light"
     },
     "output_type": "display_data"
    },
    {
     "data": {
      "text/plain": [
       "count     2587\n",
       "unique       2\n",
       "top         no\n",
       "freq      2476\n",
       "Name: last_year_promo, dtype: object"
      ]
     },
     "execution_count": 43,
     "metadata": {},
     "output_type": "execute_result"
    }
   ],
   "source": [
    "plot_categorical_bars(train_q, ['last_year_promo'])\n",
    "train_q['last_year_promo'].describe()"
   ]
  },
  {
   "cell_type": "markdown",
   "id": "6f1b1893",
   "metadata": {},
   "source": [
    "Большинство сотрудников не получали повышения за последний год"
   ]
  },
  {
   "cell_type": "code",
   "execution_count": 44,
   "id": "0c63bddd",
   "metadata": {},
   "outputs": [
    {
     "data": {
      "image/png": "[encoded data removed]",
      "text/plain": [
       "<Figure size 504x360 with 1 Axes>"
      ]
     },
     "metadata": {
      "needs_background": "light"
     },
     "output_type": "display_data"
    },
    {
     "data": {
      "text/plain": [
       "count     2587\n",
       "unique       2\n",
       "top         no\n",
       "freq      2111\n",
       "Name: last_year_violations, dtype: object"
      ]
     },
     "execution_count": 44,
     "metadata": {},
     "output_type": "execute_result"
    }
   ],
   "source": [
    "plot_categorical_bars(train_q, ['last_year_violations'])\n",
    "train_q['last_year_violations'].describe()"
   ]
  },
  {
   "cell_type": "markdown",
   "id": "a2b827e1",
   "metadata": {},
   "source": [
    "Большинство сотрудников не нарушали трудовой договор за последний год"
   ]
  },
  {
   "cell_type": "code",
   "execution_count": 45,
   "id": "f322c4a7",
   "metadata": {},
   "outputs": [
    {
     "data": {
      "image/png": "[encoded data removed]",
      "text/plain": [
       "<Figure size 504x360 with 1 Axes>"
      ]
     },
     "metadata": {
      "needs_background": "light"
     },
     "output_type": "display_data"
    },
    {
     "data": {
      "text/plain": [
       "count     2587\n",
       "unique       2\n",
       "top         no\n",
       "freq      1932\n",
       "Name: quit, dtype: object"
      ]
     },
     "execution_count": 45,
     "metadata": {},
     "output_type": "execute_result"
    }
   ],
   "source": [
    "plot_categorical_bars(train_q, ['quit'])\n",
    "train_q['quit'].describe()"
   ]
  },
  {
   "cell_type": "markdown",
   "id": "a9836bd8",
   "metadata": {},
   "source": [
    "Большинство сотрудников не увольнялись из компании . Четверть от общего числа сотрудников покинуло компанию. "
   ]
  },
  {
   "cell_type": "markdown",
   "id": "0232a24b",
   "metadata": {},
   "source": [
    "Данные показывают, что большинство сотрудников работают в стабильных условиях, с умеренной загрузкой, средним уровнем оплаты труда и хорошей дисциплиной. Основные выводы:\n",
    "\n",
    "**Позиции и отделы:**\n",
    "- Наибольшее число сотрудников сосредоточено в отделе продаж (sales), на среднем уровне должностей (middle) и с средней загрузкой (medium).\n",
    "- Другие отделы, такие как technology, purchasing, marketing и hr, имеют меньшую численность, но сохраняют баланс между собой.\n",
    "\n",
    "**Стаж работы:**\n",
    "- Стаж сотрудников варьируется от 1 до 10 лет, с медианным значением 4 года.\n",
    "- Основная часть сотрудников имеет стаж в диапазоне 2–6 лет, что отражает преобладание среднего уровня опыта.\n",
    "\n",
    "**Зарплаты:**\n",
    "- Средняя зарплата составляет 37,108, медианная — 33,600, а основная часть находится в диапазоне 24,000–46,800.\n",
    "- Выбросы в зарплатах выше 80,000 указывают на наличие небольшого числа сотрудников с высокими доходами.\n",
    "\n",
    "**Оценки руководителей:**\n",
    "- Руководители в целом оценивают сотрудников положительно: медианная оценка — 3, большинство получает оценки 3–4.\n",
    "- Распределение оценок показывает умеренную вариативность с редкими низкими оценками.\n",
    "\n",
    "**Дисциплина и мотивация:**\n",
    "- Более 95% сотрудников не получали повышения за последний год, что может указывать на строгие требования или низкую мотивацию.\n",
    "- 82% сотрудников не нарушали трудовой договор за последний год, что свидетельствует о высокой дисциплине.\n",
    "\n",
    "**Увольнения:**\n",
    "- Большинство сотрудников (75%) остаются в компании, однако 25% покинули её, что может быть показателем естественной текучести кадров."
   ]
  },
  {
   "cell_type": "markdown",
   "id": "d77b509c",
   "metadata": {},
   "source": [
    "### Составьте портрет «уволившегося сотрудника». Например, можно узнать, в каком отделе с большей вероятностью работает уволившийся сотрудник и какой у него уровень загруженности. Также можно сравнить среднее значение зарплаты ушедших сотрудников с теми, кто остался в компании.\n"
   ]
  },
  {
   "cell_type": "code",
   "execution_count": 46,
   "id": "da3aae5c",
   "metadata": {
    "scrolled": true
   },
   "outputs": [
    {
     "name": "stdout",
     "output_type": "stream",
     "text": [
      "Уровень увольнений по отделам: dept\n",
      "hr            23.56\n",
      "marketing     26.48\n",
      "purchasing    27.91\n",
      "sales         23.73\n",
      "technology    25.82\n",
      "Name: quit, dtype: float64\n"
     ]
    }
   ],
   "source": [
    "print(\n",
    "    f\"Уровень увольнений по отделам: \"\n",
    "    f\"{train_q.groupby('dept')['quit'].apply(lambda x: (x == 'yes').mean() * 100).round(2)}\"\n",
    ")"
   ]
  },
  {
   "cell_type": "code",
   "execution_count": 47,
   "id": "8eb1a915",
   "metadata": {
    "scrolled": true
   },
   "outputs": [
    {
     "name": "stdout",
     "output_type": "stream",
     "text": [
      "Уровень увольнений по уровню загруженности: workload\n",
      "high      18.26\n",
      "low       39.01\n",
      "medium    20.50\n",
      "Name: quit, dtype: float64\n"
     ]
    }
   ],
   "source": [
    "print(\n",
    "    f\"Уровень увольнений по уровню загруженности: \"\n",
    "    f\"{train_q.groupby('workload')['quit'].apply(lambda x: (x == 'yes').mean() * 100).round(2)}\"\n",
    ")"
   ]
  },
  {
   "cell_type": "code",
   "execution_count": 48,
   "id": "14f59d7c",
   "metadata": {},
   "outputs": [
    {
     "name": "stdout",
     "output_type": "stream",
     "text": [
      "Средняя зарплата в зависимости от статуса увольнения: quit\n",
      "no     40952.17\n",
      "yes    25767.94\n",
      "Name: salary, dtype: float64\n"
     ]
    }
   ],
   "source": [
    "print(\n",
    "    f\"Средняя зарплата в зависимости от статуса увольнения: \"\n",
    "    f\"{train_q.groupby('quit')['salary'].mean().round(2)}\"\n",
    ")"
   ]
  },
  {
   "cell_type": "markdown",
   "id": "f245ffac",
   "metadata": {},
   "source": [
    "**Уровень увольнений по отделам:**\n",
    "- Выявлены отделы, где процент увольнений выше. purchasing, marketing. В основном нету выбивающихся направлений от общей массы.\n",
    "\n",
    "**Уровень увольнений по загруженности:**\n",
    "- Сотрудники с низкой загруженностью имеют самый высокий уровень увольнений. \n",
    "- Сотрудники с высокой загруженностью, напротив, увольняются реже, что, возможно, связано с более активным вовлечением в рабочие процессы.\n",
    "\n",
    "**Средняя зарплата в зависимости от статуса увольнения:**\n",
    "- Сотрудники, которые увольняются, в среднем получают существенно меньшую зарплату по сравнению с теми, кто остается. "
   ]
  },
  {
   "cell_type": "markdown",
   "id": "850a3e9e",
   "metadata": {},
   "source": [
    "### Аналитики утверждают, что уровень удовлетворённости сотрудника работой в компании влияет на то, уволится ли сотрудник. Проверьте это утверждение: визуализируйте и сравните распределения признака job_satisfaction_rate для ушедших и оставшихся сотрудников. Используйте данные с обоими целевыми признаками тестовой выборки."
   ]
  },
  {
   "cell_type": "code",
   "execution_count": 49,
   "id": "a677d50e",
   "metadata": {},
   "outputs": [],
   "source": [
    "# Объединение данных с использованием индекса\n",
    "\n",
    "test_q = test_q.merge(\n",
    "    test_js[['job_satisfaction_rate']], \n",
    "    left_index=True, \n",
    "    right_index=True, \n",
    "    how='inner'\n",
    ")\n"
   ]
  },
  {
   "cell_type": "code",
   "execution_count": 50,
   "id": "4a1228da",
   "metadata": {},
   "outputs": [
    {
     "data": {
      "image/png": "[encoded data removed]",
      "text/plain": [
       "<Figure size 1008x504 with 1 Axes>"
      ]
     },
     "metadata": {
      "needs_background": "light"
     },
     "output_type": "display_data"
    }
   ],
   "source": [
    "sns.histplot(\n",
    "    test_q[test_q['quit'] == 'yes']['job_satisfaction_rate'], \n",
    "    kde=True, stat='density', color='#FF69B4', label='quit yes', bins=20, alpha=0.7\n",
    ")\n",
    "sns.histplot(\n",
    "    test_q[test_q['quit'] == 'no']['job_satisfaction_rate'], \n",
    "    kde=True, stat='density', color='#4682B4', label='quit no', bins=20, alpha=0.7\n",
    ")\n",
    "\n",
    "# Настройки графика\n",
    "plt.title('Распределение признака удовлетворённости работой в зависимости от целевого признака', fontsize=14)\n",
    "plt.xlabel('Уровень удовлетворённости работой (job_satisfaction_rate)', fontsize=12)\n",
    "plt.ylabel('Плотность', fontsize=12)\n",
    "plt.legend(['quit yes', 'quit no'])\n",
    "plt.grid(axis='y', linestyle='--', alpha=0.7)\n",
    "\n",
    "# Отображение графика\n",
    "plt.show()"
   ]
  },
  {
   "cell_type": "markdown",
   "id": "c445ced8",
   "metadata": {},
   "source": [
    "**Распределение уволившихся сотрудников (розовый график):**\n",
    "- Большинство сотрудников, которые уволились, имели низкий уровень удовлетворённости работой.\n",
    "- Основная масса значений находится в диапазоне 0.1–0.4.\n",
    "- Практически нет сотрудников, которые увольнялись с высокой удовлетворённостью (близкой к 1.0).\n",
    "\n",
    "**Распределение оставшихся сотрудников (синий график):**\n",
    "- Сотрудники, которые остались, в основном имеют средний и высокий уровень удовлетворённости.\n",
    "- Основной пик приходится на диапазон 0.6–0.9.\n",
    "- Очень мало сотрудников с удовлетворённостью ниже 0.4, которые остались.\n",
    "\n",
    "**Пересечение графиков:**\n",
    "- Есть небольшое пересечение между сотрудниками, у которых уровень удовлетворённости в диапазоне 0.4–0.5.\n",
    "Это может свидетельствовать о том, что уровень удовлетворённости в этом диапазоне является критическим: такие сотрудники либо остаются, либо увольняются в зависимости от дополнительных факторов."
   ]
  },
  {
   "cell_type": "markdown",
   "id": "32058487",
   "metadata": {},
   "source": [
    "## Добавление нового входного признака\n",
    "\n",
    "**Допустим, job_satisfaction_rate и quit действительно связаны и вы получили необходимое значение метрики в первой задаче. Тогда добавьте job_satisfaction_rate, предсказанный лучшей моделью первой задачи, к входным признакам второй задачи.**"
   ]
  },
  {
   "cell_type": "code",
   "execution_count": 51,
   "id": "57ae971b",
   "metadata": {},
   "outputs": [],
   "source": [
    "# Удаление целевого признака перед предсказаниями, а также удаления 'job_satisfaction_rate'\n",
    "# с тестовых данных, который мы добавляли для распределения признака \n",
    "# для ушедших и оставшихся сотрудников. \n",
    "\n",
    "test_q = test_q.drop(columns=['job_satisfaction_rate'])\n",
    "train_features_task2 = train_q.drop(columns=['quit'])\n",
    "test_features_task2 = test_q.drop(columns=['quit'])"
   ]
  },
  {
   "cell_type": "code",
   "execution_count": 52,
   "id": "e8d6a18a",
   "metadata": {
    "scrolled": true
   },
   "outputs": [
    {
     "name": "stderr",
     "output_type": "stream",
     "text": [
      "/opt/conda/lib/python3.9/site-packages/sklearn/impute/_base.py:598: UserWarning: Skipping features without any observed values: [0 1]. At least one non-missing value is needed for imputation with strategy='most_frequent'.\n",
      "  warnings.warn(\n",
      "/opt/conda/lib/python3.9/site-packages/sklearn/impute/_base.py:598: UserWarning: Skipping features without any observed values: [0 1]. At least one non-missing value is needed for imputation with strategy='most_frequent'.\n",
      "  warnings.warn(\n"
     ]
    },
    {
     "data": {
      "text/html": [
       "<div>\n",
       "<style scoped>\n",
       "    .dataframe tbody tr th:only-of-type {\n",
       "        vertical-align: middle;\n",
       "    }\n",
       "\n",
       "    .dataframe tbody tr th {\n",
       "        vertical-align: top;\n",
       "    }\n",
       "\n",
       "    .dataframe thead th {\n",
       "        text-align: right;\n",
       "    }\n",
       "</style>\n",
       "<table border=\"1\" class=\"dataframe\">\n",
       "  <thead>\n",
       "    <tr style=\"text-align: right;\">\n",
       "      <th></th>\n",
       "      <th>dept</th>\n",
       "      <th>level</th>\n",
       "      <th>workload</th>\n",
       "      <th>employment_years</th>\n",
       "      <th>last_year_promo</th>\n",
       "      <th>last_year_violations</th>\n",
       "      <th>supervisor_evaluation</th>\n",
       "      <th>salary</th>\n",
       "      <th>quit</th>\n",
       "      <th>predicted_job_satisfaction_rate</th>\n",
       "    </tr>\n",
       "    <tr>\n",
       "      <th>id</th>\n",
       "      <th></th>\n",
       "      <th></th>\n",
       "      <th></th>\n",
       "      <th></th>\n",
       "      <th></th>\n",
       "      <th></th>\n",
       "      <th></th>\n",
       "      <th></th>\n",
       "      <th></th>\n",
       "      <th></th>\n",
       "    </tr>\n",
       "  </thead>\n",
       "  <tbody>\n",
       "    <tr>\n",
       "      <th>723290</th>\n",
       "      <td>sales</td>\n",
       "      <td>middle</td>\n",
       "      <td>high</td>\n",
       "      <td>2</td>\n",
       "      <td>no</td>\n",
       "      <td>no</td>\n",
       "      <td>4</td>\n",
       "      <td>54000</td>\n",
       "      <td>no</td>\n",
       "      <td>0.629386</td>\n",
       "    </tr>\n",
       "    <tr>\n",
       "      <th>814010</th>\n",
       "      <td>sales</td>\n",
       "      <td>junior</td>\n",
       "      <td>medium</td>\n",
       "      <td>2</td>\n",
       "      <td>no</td>\n",
       "      <td>no</td>\n",
       "      <td>4</td>\n",
       "      <td>27600</td>\n",
       "      <td>no</td>\n",
       "      <td>0.841353</td>\n",
       "    </tr>\n",
       "    <tr>\n",
       "      <th>155091</th>\n",
       "      <td>purchasing</td>\n",
       "      <td>middle</td>\n",
       "      <td>medium</td>\n",
       "      <td>5</td>\n",
       "      <td>no</td>\n",
       "      <td>no</td>\n",
       "      <td>1</td>\n",
       "      <td>37200</td>\n",
       "      <td>no</td>\n",
       "      <td>0.411444</td>\n",
       "    </tr>\n",
       "    <tr>\n",
       "      <th>257132</th>\n",
       "      <td>sales</td>\n",
       "      <td>junior</td>\n",
       "      <td>medium</td>\n",
       "      <td>2</td>\n",
       "      <td>no</td>\n",
       "      <td>yes</td>\n",
       "      <td>3</td>\n",
       "      <td>24000</td>\n",
       "      <td>yes</td>\n",
       "      <td>0.323736</td>\n",
       "    </tr>\n",
       "    <tr>\n",
       "      <th>910140</th>\n",
       "      <td>marketing</td>\n",
       "      <td>junior</td>\n",
       "      <td>medium</td>\n",
       "      <td>2</td>\n",
       "      <td>no</td>\n",
       "      <td>no</td>\n",
       "      <td>5</td>\n",
       "      <td>25200</td>\n",
       "      <td>no</td>\n",
       "      <td>0.787753</td>\n",
       "    </tr>\n",
       "  </tbody>\n",
       "</table>\n",
       "</div>"
      ],
      "text/plain": [
       "              dept   level workload  employment_years last_year_promo  \\\n",
       "id                                                                      \n",
       "723290       sales  middle     high                 2              no   \n",
       "814010       sales  junior   medium                 2              no   \n",
       "155091  purchasing  middle   medium                 5              no   \n",
       "257132       sales  junior   medium                 2              no   \n",
       "910140   marketing  junior   medium                 2              no   \n",
       "\n",
       "       last_year_violations  supervisor_evaluation  salary quit  \\\n",
       "id                                                                \n",
       "723290                   no                      4   54000   no   \n",
       "814010                   no                      4   27600   no   \n",
       "155091                   no                      1   37200   no   \n",
       "257132                  yes                      3   24000  yes   \n",
       "910140                   no                      5   25200   no   \n",
       "\n",
       "        predicted_job_satisfaction_rate  \n",
       "id                                       \n",
       "723290                         0.629386  \n",
       "814010                         0.841353  \n",
       "155091                         0.411444  \n",
       "257132                         0.323736  \n",
       "910140                         0.787753  "
      ]
     },
     "metadata": {},
     "output_type": "display_data"
    },
    {
     "data": {
      "text/html": [
       "<div>\n",
       "<style scoped>\n",
       "    .dataframe tbody tr th:only-of-type {\n",
       "        vertical-align: middle;\n",
       "    }\n",
       "\n",
       "    .dataframe tbody tr th {\n",
       "        vertical-align: top;\n",
       "    }\n",
       "\n",
       "    .dataframe thead th {\n",
       "        text-align: right;\n",
       "    }\n",
       "</style>\n",
       "<table border=\"1\" class=\"dataframe\">\n",
       "  <thead>\n",
       "    <tr style=\"text-align: right;\">\n",
       "      <th></th>\n",
       "      <th>dept</th>\n",
       "      <th>level</th>\n",
       "      <th>workload</th>\n",
       "      <th>employment_years</th>\n",
       "      <th>last_year_promo</th>\n",
       "      <th>last_year_violations</th>\n",
       "      <th>supervisor_evaluation</th>\n",
       "      <th>salary</th>\n",
       "      <th>quit</th>\n",
       "      <th>predicted_job_satisfaction_rate</th>\n",
       "    </tr>\n",
       "    <tr>\n",
       "      <th>id</th>\n",
       "      <th></th>\n",
       "      <th></th>\n",
       "      <th></th>\n",
       "      <th></th>\n",
       "      <th></th>\n",
       "      <th></th>\n",
       "      <th></th>\n",
       "      <th></th>\n",
       "      <th></th>\n",
       "      <th></th>\n",
       "    </tr>\n",
       "  </thead>\n",
       "  <tbody>\n",
       "    <tr>\n",
       "      <th>485046</th>\n",
       "      <td>marketing</td>\n",
       "      <td>junior</td>\n",
       "      <td>medium</td>\n",
       "      <td>2</td>\n",
       "      <td>no</td>\n",
       "      <td>no</td>\n",
       "      <td>5</td>\n",
       "      <td>28800</td>\n",
       "      <td>no</td>\n",
       "      <td>0.846555</td>\n",
       "    </tr>\n",
       "    <tr>\n",
       "      <th>686555</th>\n",
       "      <td>hr</td>\n",
       "      <td>junior</td>\n",
       "      <td>medium</td>\n",
       "      <td>1</td>\n",
       "      <td>no</td>\n",
       "      <td>no</td>\n",
       "      <td>4</td>\n",
       "      <td>30000</td>\n",
       "      <td>no</td>\n",
       "      <td>0.675966</td>\n",
       "    </tr>\n",
       "    <tr>\n",
       "      <th>467458</th>\n",
       "      <td>sales</td>\n",
       "      <td>middle</td>\n",
       "      <td>low</td>\n",
       "      <td>5</td>\n",
       "      <td>no</td>\n",
       "      <td>no</td>\n",
       "      <td>4</td>\n",
       "      <td>19200</td>\n",
       "      <td>no</td>\n",
       "      <td>0.708063</td>\n",
       "    </tr>\n",
       "    <tr>\n",
       "      <th>418655</th>\n",
       "      <td>sales</td>\n",
       "      <td>middle</td>\n",
       "      <td>low</td>\n",
       "      <td>6</td>\n",
       "      <td>no</td>\n",
       "      <td>no</td>\n",
       "      <td>4</td>\n",
       "      <td>19200</td>\n",
       "      <td>no</td>\n",
       "      <td>0.669959</td>\n",
       "    </tr>\n",
       "    <tr>\n",
       "      <th>789145</th>\n",
       "      <td>hr</td>\n",
       "      <td>middle</td>\n",
       "      <td>medium</td>\n",
       "      <td>5</td>\n",
       "      <td>no</td>\n",
       "      <td>no</td>\n",
       "      <td>5</td>\n",
       "      <td>40800</td>\n",
       "      <td>no</td>\n",
       "      <td>0.795616</td>\n",
       "    </tr>\n",
       "  </tbody>\n",
       "</table>\n",
       "</div>"
      ],
      "text/plain": [
       "             dept   level workload  employment_years last_year_promo  \\\n",
       "id                                                                     \n",
       "485046  marketing  junior   medium                 2              no   \n",
       "686555         hr  junior   medium                 1              no   \n",
       "467458      sales  middle      low                 5              no   \n",
       "418655      sales  middle      low                 6              no   \n",
       "789145         hr  middle   medium                 5              no   \n",
       "\n",
       "       last_year_violations  supervisor_evaluation  salary quit  \\\n",
       "id                                                                \n",
       "485046                   no                      5   28800   no   \n",
       "686555                   no                      4   30000   no   \n",
       "467458                   no                      4   19200   no   \n",
       "418655                   no                      4   19200   no   \n",
       "789145                   no                      5   40800   no   \n",
       "\n",
       "        predicted_job_satisfaction_rate  \n",
       "id                                       \n",
       "485046                         0.846555  \n",
       "686555                         0.675966  \n",
       "467458                         0.708063  \n",
       "418655                         0.669959  \n",
       "789145                         0.795616  "
      ]
     },
     "metadata": {},
     "output_type": "display_data"
    }
   ],
   "source": [
    "# Добавление предсказанного признака в данные задачи 2\n",
    "\n",
    "train_q['predicted_job_satisfaction_rate'] = best_model.predict(train_features_task2)\n",
    "test_q['predicted_job_satisfaction_rate'] = best_model.predict(test_features_task2)\n",
    "\n",
    "# Сохраняем обновлённые данные\n",
    "\n",
    "train_q.to_csv('train_quit_with_predictions.csv', index=False)\n",
    "test_q.to_csv('test_quit_with_predictions.csv', index=False)\n",
    "\n",
    "# Проверяем результат\n",
    "\n",
    "display(train_q.head())\n",
    "display(test_q.head())"
   ]
  },
  {
   "cell_type": "markdown",
   "id": "ff502af4",
   "metadata": {},
   "source": [
    "- Признак job_satisfaction_rate, добавленный ранее для анализа (EDA), был удалён из данных\n",
    "- Новый признак predicted_job_satisfaction_rate, рассчитанный на основе обученной модели из задачи 1, добавлен в оба набора данных (train_q и test_q)."
   ]
  },
  {
   "cell_type": "code",
   "execution_count": 53,
   "id": "9fa3df91",
   "metadata": {},
   "outputs": [
    {
     "data": {
      "image/png": "[encoded data removed]",
      "text/plain": [
       "<Figure size 720x576 with 2 Axes>"
      ]
     },
     "metadata": {
      "needs_background": "light"
     },
     "output_type": "display_data"
    }
   ],
   "source": [
    "#Phi_K correlation\n",
    "\n",
    "corr_matrix = train_q.phik_matrix(\n",
    "    interval_cols=['employment_years', \n",
    "    'supervisor_evaluation', \n",
    "    'salary', 'predicted_job_satisfaction_rate']\n",
    ")\n",
    "\n",
    "plt.figure(figsize=(10, 8))\n",
    "sns.heatmap(corr_matrix, annot=True, cmap='coolwarm')\n",
    "plt.title('Phi_K Correlation Matrix')\n",
    "plt.show()"
   ]
  },
  {
   "cell_type": "markdown",
   "id": "c3468852",
   "metadata": {},
   "source": [
    "`На увольнение (quit)` сильнее всего влияют `стаж (employment_years)`, `зарплата (salary)` и `предсказанная удовлетворённость работой (predicted_job_satisfaction_rate)`. \n",
    "\n",
    "Предсказанный уровень удовлетворённости тесно связан с `оценкой руководителя (supervisor_evaluation) и нарушениями (last_year_violations)`. `Зарплата`, в свою очередь, сильно коррелирует с `уровнем должности (level) и загруженностью (workload)`. \n",
    "\n",
    "*Таким образом, ключевые факторы, связанные с уходом сотрудника, — это опыт, материальные условия и общее отношение к работе, отражённое в предсказанной удовлетворённости.*"
   ]
  },
  {
   "cell_type": "markdown",
   "id": "4365f84e",
   "metadata": {},
   "source": [
    "## Подготовка данных\n",
    "\n",
    "Подготовьте признаки так же, как и в первой задаче: выполните подготовку в пайплайне, дополнив пайплайн предобработки. При кодировании учитывайте особенности признаков и моделей и используйте как минимум два кодировщика."
   ]
  },
  {
   "cell_type": "code",
   "execution_count": 54,
   "id": "2332c5a6",
   "metadata": {},
   "outputs": [
    {
     "data": {
      "text/plain": [
       "(2000, 9)"
      ]
     },
     "metadata": {},
     "output_type": "display_data"
    },
    {
     "data": {
      "text/plain": [
       "(2000,)"
      ]
     },
     "metadata": {},
     "output_type": "display_data"
    },
    {
     "data": {
      "text/plain": [
       "(2000, 10)"
      ]
     },
     "metadata": {},
     "output_type": "display_data"
    },
    {
     "data": {
      "text/plain": [
       "{0: 'no', 1: 'yes'}"
      ]
     },
     "metadata": {},
     "output_type": "display_data"
    }
   ],
   "source": [
    "# Подготовка данных \n",
    "\n",
    "encoder = LabelEncoder()\n",
    "\n",
    "X_train = train_q.copy()\n",
    "X_train = train_q.drop('quit', axis=1)\n",
    "y_train = encoder.fit_transform(train_q['quit'])\n",
    "\n",
    "\n",
    "# Обновление тестовых данных\n",
    "X_test = test_q.copy()\n",
    "X_test = test_q.drop('quit', axis=1)\n",
    "y_test = encoder.transform(test_q['quit'])\n",
    "\n",
    "display(X_test.shape)\n",
    "display(y_test.shape)\n",
    "display(test_q.shape)\n",
    "\n",
    "display(dict(enumerate(encoder.classes_)))"
   ]
  },
  {
   "cell_type": "markdown",
   "id": "13d6bc38",
   "metadata": {},
   "source": [
    "Целевой признак: 0 = no, 1 = yes"
   ]
  },
  {
   "cell_type": "code",
   "execution_count": 55,
   "id": "3f86576f",
   "metadata": {},
   "outputs": [],
   "source": [
    "# Обновляем списки признаков\n",
    "\n",
    "num_columns = [\n",
    "    'employment_years', \n",
    "    'supervisor_evaluation', \n",
    "    'salary',\n",
    "    'predicted_job_satisfaction_rate'\n",
    "]\n",
    "ohe_columns = [\n",
    "    'last_year_promo', \n",
    "    'last_year_violations', \n",
    "    'dept'\n",
    "]\n",
    "ord_columns = [\n",
    "    'workload', \n",
    "    'level'\n",
    "]\n"
   ]
  },
  {
   "cell_type": "code",
   "execution_count": 56,
   "id": "ac78c0d3",
   "metadata": {},
   "outputs": [],
   "source": [
    "# Создаём пайплайн для подготовки признаков из списка ohe_columns\n",
    "\n",
    "ohe_pipe = Pipeline(\n",
    "    [\n",
    "        ('simpleImputer_ohe_1', SimpleImputer(missing_values=np.nan, strategy='most_frequent')),\n",
    "        ('simpleImputer_ohe_2', SimpleImputer(missing_values=' ', strategy='most_frequent')),\n",
    "        ('ohe', OneHotEncoder(drop='first', handle_unknown='ignore'))\n",
    "    ]\n",
    ")\n",
    "\n",
    "# Создаём пайплайн для подготовки признаков из списка ord_columns\n",
    "\n",
    "ord_pipe = Pipeline(\n",
    "    [\n",
    "        ('simpleImputer_before_ord', SimpleImputer(missing_values=np.nan, strategy='most_frequent')),\n",
    "        ('ord', OrdinalEncoder(\n",
    "            categories=[\n",
    "                ['medium', 'high', 'low'],\n",
    "                ['junior', 'middle', 'sinior'],\n",
    "            ],\n",
    "            handle_unknown='use_encoded_value', unknown_value=np.nan\n",
    "        )), \n",
    "        ('simpleImputer_after_ord', SimpleImputer(missing_values=np.nan, strategy='most_frequent'))\n",
    "    ]\n",
    ")\n",
    "\n",
    "# Общий пайплайн для подготовки данных\n",
    "\n",
    "data_preprocessor = ColumnTransformer(\n",
    "    [\n",
    "        ('ohe', ohe_pipe, ohe_columns),\n",
    "        ('ord', ord_pipe, ord_columns),\n",
    "        ('num', StandardScaler(), num_columns)\n",
    "    ], \n",
    "    remainder='passthrough'\n",
    ")"
   ]
  },
  {
   "cell_type": "code",
   "execution_count": 57,
   "id": "983a0a20",
   "metadata": {},
   "outputs": [],
   "source": [
    "# Пайплайн с моделью\n",
    "pipe_final = Pipeline([\n",
    "    ('preprocessor', data_preprocessor),\n",
    "    ('model', DecisionTreeClassifier(random_state=42))  # Базовая модель\n",
    "])"
   ]
  },
  {
   "cell_type": "markdown",
   "id": "734f0544",
   "metadata": {},
   "source": [
    "## Обучение модели\n",
    "\n",
    "**Обучите как минимум три модели. Как минимум для двух из них подберите гиперпараметры. Проверьте качество лучшей модели.\n",
    "Метрика оценки качества в этой задаче — ROC-AUC. Критерий успеха: ROC-AUC ≥ 0.91 на тестовой выборке. Напомним: отбор признаков часто помогает улучшить метрику.**"
   ]
  },
  {
   "cell_type": "code",
   "execution_count": 58,
   "id": "1bec83aa",
   "metadata": {},
   "outputs": [],
   "source": [
    "# Сетка гиперпараметров\n",
    "param_grid = [\n",
    "    # DecisionTreeClassifier\n",
    "    {\n",
    "        'model': [DecisionTreeClassifier(random_state=42)],\n",
    "        'model__max_depth': range(2, 11),\n",
    "        'model__min_samples_split': range(2, 11),\n",
    "        'model__min_samples_leaf': range(1, 11),\n",
    "        'preprocessor__num': [StandardScaler(), MinMaxScaler(), RobustScaler(), 'passthrough']\n",
    "    },\n",
    "    # LogisticRegression\n",
    "    {\n",
    "        'model': [LogisticRegression(random_state=42)],\n",
    "        'model__C': [0.1, 1, 10, 100],\n",
    "        'model__penalty': ['l2', 'none'],\n",
    "        'preprocessor__num': [StandardScaler(), MinMaxScaler(), RobustScaler(), 'passthrough']\n",
    "    },\n",
    "    # RandomForestClassifier\n",
    "    {\n",
    "        'model': [RandomForestClassifier(random_state=42)],\n",
    "        'model__n_estimators': range(50, 201, 50),\n",
    "        'model__max_depth': range(5, 21, 5),\n",
    "        'model__min_samples_split': range(2, 11),\n",
    "        'model__min_samples_leaf': range(1, 11),\n",
    "        'preprocessor__num': [StandardScaler(), MinMaxScaler(), RobustScaler(), 'passthrough']\n",
    "    }\n",
    "]"
   ]
  },
  {
   "cell_type": "code",
   "execution_count": 59,
   "id": "d72452e9",
   "metadata": {},
   "outputs": [
    {
     "name": "stderr",
     "output_type": "stream",
     "text": [
      "/opt/conda/lib/python3.9/site-packages/sklearn/metrics/_scorer.py:610: FutureWarning: The `needs_threshold` and `needs_proba` parameter are deprecated in version 1.4 and will be removed in 1.6. You can either let `response_method` be `None` or set it to `predict` to preserve the same behaviour.\n",
      "  warnings.warn(\n"
     ]
    }
   ],
   "source": [
    "# Определение метрики ROC-AUC\n",
    "\n",
    "scorer = make_scorer(roc_auc_score, needs_proba=True)\n",
    "\n",
    "# RandomizedSearchCV для поиска гиперпараметров\n",
    "\n",
    "randomized_search = RandomizedSearchCV(\n",
    "    pipe_final,\n",
    "    param_distributions=param_grid,\n",
    "    scoring=scorer,\n",
    "    cv=5,\n",
    "    n_jobs=-1,\n",
    "    random_state=42\n",
    ")"
   ]
  },
  {
   "cell_type": "code",
   "execution_count": 60,
   "id": "d83de5bc",
   "metadata": {},
   "outputs": [
    {
     "name": "stdout",
     "output_type": "stream",
     "text": [
      "Лучшие параметры модели: {'preprocessor__num': RobustScaler(), 'model__n_estimators': 200, 'model__min_samples_split': 8, 'model__min_samples_leaf': 8, 'model__max_depth': 15, 'model': RandomForestClassifier(random_state=42)}\n",
      "ROC-AUC на тестовой выборке: 0.927\n",
      "Первые вероятности: [0.17013477 0.27194468 0.15579293 0.09376966 0.03580985]\n"
     ]
    }
   ],
   "source": [
    "# Обучение моделей\n",
    "\n",
    "randomized_search.fit(X_train, y_train)\n",
    "\n",
    "# Лучшая модель\n",
    "\n",
    "best_model = randomized_search.best_estimator_\n",
    "best_params = randomized_search.best_params_\n",
    "best_score = randomized_search.best_score_\n",
    "\n",
    "# Оценка на тестовой выборке\n",
    "\n",
    "y_pred_proba = best_model.predict_proba(X_test)[:, 1]\n",
    "roc_auc = roc_auc_score(y_test, y_pred_proba)\n",
    "\n",
    "print(f\"Лучшие параметры модели: {best_params}\")\n",
    "print(f\"ROC-AUC на тестовой выборке: {roc_auc:.3f}\")\n",
    "\n",
    "# Проверка первых 5 строк предсказаний\n",
    "\n",
    "print(f\"Первые вероятности: {y_pred_proba[:5]}\")\n"
   ]
  },
  {
   "cell_type": "markdown",
   "id": "7941c7f9",
   "metadata": {},
   "source": [
    "## Выводы\n",
    "\n",
    "**Сделайте промежуточные выводы о том, какая модель справилась лучше и почему.**"
   ]
  },
  {
   "cell_type": "markdown",
   "id": "47dc95c5",
   "metadata": {},
   "source": [
    "- **Лучшая модель:** RandomForestClassifier.\n",
    "- Модель показала значение метрики **ROC-AUC** = 0.927 на тестовой выборке.\n",
    "\n",
    "- RandomForestClassifier способен эффективно обрабатывать данные с нелинейными взаимосвязями между признаками.\n",
    "- За счёт ансамблирования множества деревьев решений модель устойчива к переобучению и выбросам.\n",
    "- Использование RobustScaler для числовых данных улучшило результаты за счёт обработки выбросов."
   ]
  },
  {
   "cell_type": "markdown",
   "id": "46a04792",
   "metadata": {},
   "source": [
    "# Общий вывод\n",
    "\n",
    "**Сформулируйте общий вывод:**\n",
    "- опишите задачу;\n",
    "- опишите все этапы работы;\n",
    "- добавьте выводы и дополнительные предложения для бизнеса."
   ]
  },
  {
   "cell_type": "markdown",
   "id": "eea2f8cf",
   "metadata": {},
   "source": [
    "**Описание задачи:**\n",
    "\n",
    "- В рамках проекта было поставлено две основные задачи. **Первая** — предсказать уровень удовлетворённости работой `job_satisfaction_rate` сотрудников, основываясь на имеющихся данных о них. **Вторая** — предсказать вероятность увольнения (quit) сотрудника из компании, используя признаки из первой части, а также дополнительно добавленный предсказанный признак «предсказанная удовлетворённость» `predicted_job_satisfaction_rate`.\n",
    "\n",
    "- *Целью первой задачи было получить точную модель для прогноза уровня удовлетворённости сотрудника.* Критерием качества выступала метрика **SMAPE**, а успехом считалось достижение **SMAPE ≤ 15** на тестовой выборке. Во второй задаче требовалось предсказать уход сотрудника (классификационная задача), а метрикой успеха выступала **ROC-AUC** не ниже **0.91**.\n",
    "\n",
    "**Краткое описание этапов работы:**\n",
    "\n",
    "*Загрузка данных и первичное исследование:*\n",
    "- Для обеих задач были загружены тренировочные и тестовые данные. Проверили их на соответствие описанию, наличие пропусков и дубликатов.\n",
    "\n",
    "*Предобработка данных:*\n",
    "- В первой задаче удалили дубликаты, заполнили пропуски в числовых признаках средним, а в категориальных — наиболее часто встречающимся значением. Привели данные к единому формату.\n",
    "\n",
    "- Во второй задаче также удалили дубликаты и применили аналогичную стратегию обработки пропусков.\n",
    "\n",
    "- Для кодирования категориальных признаков использовались `OneHotEncoder и OrdinalEncoder`. Числовые признаки масштабировались с помощью `StandardScaler, MinMaxScaler или RobustScaler` в зависимости от лучших результатов при подборе параметров.\n",
    "\n",
    "*Исследовательский анализ данных (EDA):*\n",
    "- В первой задаче были изучены распределения стажа, зарплат, нагрузки, повышений, дисциплинарных нарушений, отделов и уровня удовлетворённости. Сделан вывод, что уровень удовлетворённости персонала в среднем средний (около 0.5–0.6).\n",
    "\n",
    "- Во второй задаче (связано с увольнениями) анализ показал, что сотрудники, у которых низкий уровень удовлетворённости, чаще увольняются. Также выявлено, что более высокие зарплаты и вовлечённость (высокая нагрузка) ассоциируются с меньшей вероятностью ухода.\n",
    "\n",
    "*Создание и добавление нового признака:*\n",
    "- По результатам первой задачи был предсказан признак `predicted_job_satisfaction_rate` для данных второй задачи. Таким образом, во второй задаче использовали дополнительный входной признак, улучшивший качество предсказаний.\n",
    "\n",
    "*Обучение моделей и подбор гиперпараметров (Первая задача):*\n",
    "- Была исследована линейная регрессия `LinearRegression`, дерево решений `DecisionTreeRegressor` и случайный лес `RandomForestRegressor`. Подбор гиперпараметров с помощью `RandomizedSearchCV` позволил найти лучшие настройки модели `RandomForestRegressor`, которая показала **SMAPE ≈14.84**, что ниже целевого порога 15. Значит, критерий успеха в первой задаче достигнут.\n",
    "\n",
    "*Обучение моделей и подбор гиперпараметров (Вторая задача):*\n",
    "- Для задачи классификации (увольнение) рассматривались `DecisionTreeClassifier, LogisticRegression и RandomForestClassifier`. Лучшие результаты показал `RandomForestClassifier` с подобранными гиперпараметрами и масштабированием признаков `RobustScaler`. Достигнута **ROC-AUC ≈0.927**, что выше требуемого уровня 0.91. Таким образом, цель второй задачи также достигнута.\n",
    "\n",
    "**Выводы:**\n",
    "\n",
    "**Первая задача:** Ключевым фактором для точного прогноза уровня удовлетворённости стал правильный выбор модели `RandomForestRegressor` и гиперпараметров, а также корректная предобработка и устранение дубликатов и пропусков.\n",
    "\n",
    "**Вторая задача:** Добавление предсказанного признака удовлетворённости повысило качество предсказаний по увольнениям. Лучший результат показала модель `RandomForestClassifier`, достигнув высоких значений **ROC-AUC**.\n",
    "\n",
    "\n",
    "**Дополнительные предложения для бизнеса:**\n",
    "\n",
    "- Использовать предсказание уровня удовлетворённости для раннего выявления сотрудников, которые могут со временем покинуть компанию. Это позволит вовремя предложить им дополнительные мотивационные программы, повышения или улучшения условий труда.\n",
    "\n",
    "- Ориентироваться на полученные инсайты: например, низкая зарплата и низкая удовлетворённость коррелируют с повышенным риском увольнения. Повышение вовлечённости (возможно, через более интересные задачи или программы развития) снизит отток кадров.\n",
    "\n",
    "- Рассмотреть пересмотр подходов к повышению сотрудников (сейчас очень небольшой процент повышений за год): возможно, частичное повышение мотивации через более частые пересмотры должностей и поощрения повысит общую удовлетворённость и снизит текучесть.\n",
    "\n",
    "**Итог:**\n",
    "- Обе задачи успешно решены. Достигнуты целевые метрики для предсказания уровня удовлетворённости **SMAPE ≤ 15** и для предсказания увольнений **ROC-AUC ≥ 0.91**. Полученные инсайты помогут HR-отделу и руководителям улучшить условия работы и удержать наиболее ценных сотрудников, заранее предвидя потенциальные увольнения."
   ]
  }
 ],
 "metadata": {
  "ExecuteTimeLog": [
   {
    "duration": 50,
    "start_time": "2024-11-25T13:52:55.769Z"
   },
   {
    "duration": 9920,
    "start_time": "2024-11-25T13:53:00.336Z"
   },
   {
    "duration": 277,
    "start_time": "2024-11-25T13:53:10.258Z"
   },
   {
    "duration": 26,
    "start_time": "2024-11-25T13:53:41.531Z"
   },
   {
    "duration": 28,
    "start_time": "2024-11-25T13:55:30.430Z"
   },
   {
    "duration": 47,
    "start_time": "2024-11-25T13:57:53.926Z"
   },
   {
    "duration": 52,
    "start_time": "2024-11-25T13:58:04.167Z"
   },
   {
    "duration": 49,
    "start_time": "2024-11-25T13:58:12.691Z"
   },
   {
    "duration": 101,
    "start_time": "2024-11-25T14:20:08.543Z"
   },
   {
    "duration": 8,
    "start_time": "2024-11-25T14:20:57.440Z"
   },
   {
    "duration": 10,
    "start_time": "2024-11-25T14:21:09.362Z"
   },
   {
    "duration": 10,
    "start_time": "2024-11-25T14:21:19.190Z"
   },
   {
    "duration": 16,
    "start_time": "2024-11-25T14:21:32.561Z"
   },
   {
    "duration": 12,
    "start_time": "2024-11-25T14:21:40.826Z"
   },
   {
    "duration": 11,
    "start_time": "2024-11-25T14:24:10.934Z"
   },
   {
    "duration": 10,
    "start_time": "2024-11-25T14:24:13.733Z"
   },
   {
    "duration": 11,
    "start_time": "2024-11-25T14:24:57.538Z"
   },
   {
    "duration": 241,
    "start_time": "2024-11-25T14:28:06.636Z"
   },
   {
    "duration": 46,
    "start_time": "2024-11-25T14:28:07.145Z"
   },
   {
    "duration": 6839,
    "start_time": "2024-11-25T14:28:38.425Z"
   },
   {
    "duration": 275,
    "start_time": "2024-11-25T14:28:45.266Z"
   },
   {
    "duration": 50,
    "start_time": "2024-11-25T14:28:45.542Z"
   },
   {
    "duration": 8,
    "start_time": "2024-11-25T14:28:45.594Z"
   },
   {
    "duration": 6,
    "start_time": "2024-11-25T14:52:37.400Z"
   },
   {
    "duration": 6497,
    "start_time": "2024-11-25T14:52:51.066Z"
   },
   {
    "duration": 127,
    "start_time": "2024-11-25T14:52:57.565Z"
   },
   {
    "duration": 56,
    "start_time": "2024-11-25T14:52:57.694Z"
   },
   {
    "duration": 18,
    "start_time": "2024-11-25T14:52:57.752Z"
   },
   {
    "duration": 50,
    "start_time": "2024-11-25T14:52:57.772Z"
   },
   {
    "duration": 48,
    "start_time": "2024-11-25T14:52:57.823Z"
   },
   {
    "duration": 3,
    "start_time": "2024-11-25T14:57:12.819Z"
   },
   {
    "duration": 4,
    "start_time": "2024-11-25T15:01:30.186Z"
   },
   {
    "duration": 150,
    "start_time": "2024-11-25T15:02:24.173Z"
   },
   {
    "duration": 24,
    "start_time": "2024-11-25T15:05:14.643Z"
   },
   {
    "duration": 6898,
    "start_time": "2024-11-25T15:05:26.097Z"
   },
   {
    "duration": 133,
    "start_time": "2024-11-25T15:05:32.998Z"
   },
   {
    "duration": 51,
    "start_time": "2024-11-25T15:05:33.132Z"
   },
   {
    "duration": 4,
    "start_time": "2024-11-25T15:05:33.185Z"
   },
   {
    "duration": 10,
    "start_time": "2024-11-25T15:05:33.191Z"
   },
   {
    "duration": 169,
    "start_time": "2024-11-25T15:05:33.202Z"
   },
   {
    "duration": 11,
    "start_time": "2024-11-25T15:10:33.056Z"
   },
   {
    "duration": 27,
    "start_time": "2024-11-25T15:10:48.579Z"
   },
   {
    "duration": 5,
    "start_time": "2024-11-25T15:10:58.115Z"
   },
   {
    "duration": 9,
    "start_time": "2024-11-25T15:11:02.727Z"
   },
   {
    "duration": 4,
    "start_time": "2024-11-25T15:11:06.536Z"
   },
   {
    "duration": 10,
    "start_time": "2024-11-25T15:11:35.811Z"
   },
   {
    "duration": 23,
    "start_time": "2024-11-25T15:11:55.826Z"
   },
   {
    "duration": 9,
    "start_time": "2024-11-25T15:13:43.759Z"
   },
   {
    "duration": 8,
    "start_time": "2024-11-25T15:13:48.712Z"
   },
   {
    "duration": 9,
    "start_time": "2024-11-25T15:14:13.748Z"
   },
   {
    "duration": 10,
    "start_time": "2024-11-25T15:14:26.400Z"
   },
   {
    "duration": 12,
    "start_time": "2024-11-25T15:14:40.025Z"
   },
   {
    "duration": 10,
    "start_time": "2024-11-25T15:17:34.382Z"
   },
   {
    "duration": 26,
    "start_time": "2024-11-25T15:17:43.315Z"
   },
   {
    "duration": 18,
    "start_time": "2024-11-25T15:19:02.144Z"
   },
   {
    "duration": 10157,
    "start_time": "2024-11-26T06:26:12.010Z"
   },
   {
    "duration": 262,
    "start_time": "2024-11-26T06:26:22.170Z"
   },
   {
    "duration": 87,
    "start_time": "2024-11-26T06:26:22.434Z"
   },
   {
    "duration": 7,
    "start_time": "2024-11-26T06:26:22.523Z"
   },
   {
    "duration": 26,
    "start_time": "2024-11-26T06:26:22.532Z"
   },
   {
    "duration": 20,
    "start_time": "2024-11-26T06:26:22.560Z"
   },
   {
    "duration": 5,
    "start_time": "2024-11-26T06:26:22.583Z"
   },
   {
    "duration": 190,
    "start_time": "2024-11-26T06:26:22.589Z"
   },
   {
    "duration": 15,
    "start_time": "2024-11-26T06:32:40.676Z"
   },
   {
    "duration": 13,
    "start_time": "2024-11-26T06:33:09.804Z"
   },
   {
    "duration": 9,
    "start_time": "2024-11-26T06:33:35.902Z"
   },
   {
    "duration": 14,
    "start_time": "2024-11-26T06:39:16.076Z"
   },
   {
    "duration": 11,
    "start_time": "2024-11-26T06:42:22.497Z"
   },
   {
    "duration": 11,
    "start_time": "2024-11-26T06:42:35.629Z"
   },
   {
    "duration": 11,
    "start_time": "2024-11-26T06:42:41.763Z"
   },
   {
    "duration": 14,
    "start_time": "2024-11-26T06:42:47.270Z"
   },
   {
    "duration": 13,
    "start_time": "2024-11-26T06:42:52.447Z"
   },
   {
    "duration": 10,
    "start_time": "2024-11-26T07:09:15.345Z"
   },
   {
    "duration": 7,
    "start_time": "2024-11-26T07:10:16.060Z"
   },
   {
    "duration": 9315,
    "start_time": "2024-11-26T10:05:17.396Z"
   },
   {
    "duration": 318,
    "start_time": "2024-11-26T10:05:26.713Z"
   },
   {
    "duration": 52,
    "start_time": "2024-11-26T10:05:27.032Z"
   },
   {
    "duration": 5,
    "start_time": "2024-11-26T10:05:27.086Z"
   },
   {
    "duration": 13,
    "start_time": "2024-11-26T10:05:27.092Z"
   },
   {
    "duration": 4,
    "start_time": "2024-11-26T10:05:27.107Z"
   },
   {
    "duration": 185,
    "start_time": "2024-11-26T10:05:27.112Z"
   },
   {
    "duration": 4,
    "start_time": "2024-11-26T10:18:42.750Z"
   },
   {
    "duration": 8,
    "start_time": "2024-11-26T10:18:49.920Z"
   },
   {
    "duration": 7,
    "start_time": "2024-11-26T10:18:56.662Z"
   },
   {
    "duration": 7105,
    "start_time": "2024-11-26T10:19:02.382Z"
   },
   {
    "duration": 121,
    "start_time": "2024-11-26T10:19:09.490Z"
   },
   {
    "duration": 53,
    "start_time": "2024-11-26T10:19:09.612Z"
   },
   {
    "duration": 6,
    "start_time": "2024-11-26T10:19:09.666Z"
   },
   {
    "duration": 17,
    "start_time": "2024-11-26T10:19:09.674Z"
   },
   {
    "duration": 7,
    "start_time": "2024-11-26T10:19:09.693Z"
   },
   {
    "duration": 12,
    "start_time": "2024-11-26T10:19:09.702Z"
   },
   {
    "duration": 167,
    "start_time": "2024-11-26T10:19:09.716Z"
   },
   {
    "duration": 8,
    "start_time": "2024-11-26T10:26:22.276Z"
   },
   {
    "duration": 21,
    "start_time": "2024-11-26T10:26:22.830Z"
   },
   {
    "duration": 23,
    "start_time": "2024-11-26T10:26:50.376Z"
   },
   {
    "duration": 30,
    "start_time": "2024-11-26T10:27:17.286Z"
   },
   {
    "duration": 21,
    "start_time": "2024-11-26T10:27:28.676Z"
   },
   {
    "duration": 15,
    "start_time": "2024-11-26T10:56:44.384Z"
   },
   {
    "duration": 5,
    "start_time": "2024-11-26T10:56:46.861Z"
   },
   {
    "duration": 13,
    "start_time": "2024-11-26T10:57:00.365Z"
   },
   {
    "duration": 6,
    "start_time": "2024-11-26T10:57:12.096Z"
   },
   {
    "duration": 22,
    "start_time": "2024-11-26T10:57:39.392Z"
   },
   {
    "duration": 19,
    "start_time": "2024-11-26T10:57:47.136Z"
   },
   {
    "duration": 27,
    "start_time": "2024-11-26T10:58:18.635Z"
   },
   {
    "duration": 10,
    "start_time": "2024-11-26T11:01:13.369Z"
   },
   {
    "duration": 7116,
    "start_time": "2024-11-26T11:01:18.339Z"
   },
   {
    "duration": 115,
    "start_time": "2024-11-26T11:01:25.459Z"
   },
   {
    "duration": 54,
    "start_time": "2024-11-26T11:01:25.576Z"
   },
   {
    "duration": 6,
    "start_time": "2024-11-26T11:01:25.632Z"
   },
   {
    "duration": 13,
    "start_time": "2024-11-26T11:01:25.640Z"
   },
   {
    "duration": 8,
    "start_time": "2024-11-26T11:01:25.654Z"
   },
   {
    "duration": 29,
    "start_time": "2024-11-26T11:01:25.664Z"
   },
   {
    "duration": 4,
    "start_time": "2024-11-26T11:01:25.695Z"
   },
   {
    "duration": 5,
    "start_time": "2024-11-26T11:01:32.383Z"
   },
   {
    "duration": 137,
    "start_time": "2024-11-26T11:12:24.221Z"
   },
   {
    "duration": 14,
    "start_time": "2024-11-26T11:12:47.489Z"
   },
   {
    "duration": 26,
    "start_time": "2024-11-26T11:12:56.810Z"
   },
   {
    "duration": 59,
    "start_time": "2024-11-26T11:13:38.178Z"
   },
   {
    "duration": 19,
    "start_time": "2024-11-26T11:13:41.113Z"
   },
   {
    "duration": 29,
    "start_time": "2024-11-26T11:13:54.212Z"
   },
   {
    "duration": 38,
    "start_time": "2024-11-26T11:18:40.157Z"
   },
   {
    "duration": 26,
    "start_time": "2024-11-26T11:18:51.172Z"
   },
   {
    "duration": 29,
    "start_time": "2024-11-26T11:18:54.976Z"
   },
   {
    "duration": 6976,
    "start_time": "2024-11-26T11:19:04.213Z"
   },
   {
    "duration": 217,
    "start_time": "2024-11-26T11:19:11.191Z"
   },
   {
    "duration": 58,
    "start_time": "2024-11-26T11:19:11.410Z"
   },
   {
    "duration": 5,
    "start_time": "2024-11-26T11:19:11.471Z"
   },
   {
    "duration": 26,
    "start_time": "2024-11-26T11:19:11.478Z"
   },
   {
    "duration": 14,
    "start_time": "2024-11-26T11:19:11.507Z"
   },
   {
    "duration": 24,
    "start_time": "2024-11-26T11:19:11.523Z"
   },
   {
    "duration": 29,
    "start_time": "2024-11-26T11:19:11.549Z"
   },
   {
    "duration": 7265,
    "start_time": "2024-11-26T11:48:18.027Z"
   },
   {
    "duration": 124,
    "start_time": "2024-11-26T11:48:25.294Z"
   },
   {
    "duration": 58,
    "start_time": "2024-11-26T11:48:25.420Z"
   },
   {
    "duration": 6,
    "start_time": "2024-11-26T11:48:25.481Z"
   },
   {
    "duration": 9,
    "start_time": "2024-11-26T11:48:25.488Z"
   },
   {
    "duration": 9,
    "start_time": "2024-11-26T11:48:25.499Z"
   },
   {
    "duration": 64,
    "start_time": "2024-11-26T11:48:25.510Z"
   },
   {
    "duration": 60,
    "start_time": "2024-11-26T11:48:25.576Z"
   },
   {
    "duration": 27,
    "start_time": "2024-11-26T11:48:47.116Z"
   },
   {
    "duration": 43,
    "start_time": "2024-11-26T11:50:06.987Z"
   },
   {
    "duration": 8,
    "start_time": "2024-11-26T11:59:28.584Z"
   },
   {
    "duration": 10102,
    "start_time": "2024-11-27T11:23:22.641Z"
   },
   {
    "duration": 212,
    "start_time": "2024-11-27T11:23:32.745Z"
   },
   {
    "duration": 63,
    "start_time": "2024-11-27T11:23:32.958Z"
   },
   {
    "duration": 6,
    "start_time": "2024-11-27T11:23:33.023Z"
   },
   {
    "duration": 38,
    "start_time": "2024-11-27T11:23:33.031Z"
   },
   {
    "duration": 16,
    "start_time": "2024-11-27T11:23:33.070Z"
   },
   {
    "duration": 53,
    "start_time": "2024-11-27T11:23:33.087Z"
   },
   {
    "duration": 26,
    "start_time": "2024-11-27T11:23:33.141Z"
   },
   {
    "duration": 45,
    "start_time": "2024-11-27T11:23:33.169Z"
   },
   {
    "duration": 7,
    "start_time": "2024-11-27T11:23:33.216Z"
   },
   {
    "duration": 1876,
    "start_time": "2024-11-27T11:23:33.225Z"
   },
   {
    "duration": 2,
    "start_time": "2024-11-27T11:23:35.102Z"
   },
   {
    "duration": 472,
    "start_time": "2024-11-27T11:24:27.332Z"
   },
   {
    "duration": 454,
    "start_time": "2024-11-27T11:24:28.260Z"
   },
   {
    "duration": 403,
    "start_time": "2024-11-27T11:24:29.163Z"
   },
   {
    "duration": 469,
    "start_time": "2024-11-27T11:24:30.063Z"
   },
   {
    "duration": 11,
    "start_time": "2024-11-27T11:25:44.939Z"
   },
   {
    "duration": 18,
    "start_time": "2024-11-27T11:25:50.296Z"
   },
   {
    "duration": 9,
    "start_time": "2024-11-27T11:26:06.216Z"
   },
   {
    "duration": 8,
    "start_time": "2024-11-27T11:26:13.216Z"
   },
   {
    "duration": 10,
    "start_time": "2024-11-27T11:26:20.130Z"
   },
   {
    "duration": 9,
    "start_time": "2024-11-27T11:26:24.373Z"
   },
   {
    "duration": 11157,
    "start_time": "2024-11-27T13:12:20.112Z"
   },
   {
    "duration": 384,
    "start_time": "2024-11-27T13:12:31.271Z"
   },
   {
    "duration": 73,
    "start_time": "2024-11-27T13:12:31.657Z"
   },
   {
    "duration": 5,
    "start_time": "2024-11-27T13:12:31.732Z"
   },
   {
    "duration": 23,
    "start_time": "2024-11-27T13:12:31.739Z"
   },
   {
    "duration": 9,
    "start_time": "2024-11-27T13:12:31.764Z"
   },
   {
    "duration": 53,
    "start_time": "2024-11-27T13:12:31.775Z"
   },
   {
    "duration": 52,
    "start_time": "2024-11-27T13:12:31.830Z"
   },
   {
    "duration": 62,
    "start_time": "2024-11-27T13:12:31.884Z"
   },
   {
    "duration": 7,
    "start_time": "2024-11-27T13:12:31.948Z"
   },
   {
    "duration": 515,
    "start_time": "2024-11-27T13:12:31.957Z"
   },
   {
    "duration": 483,
    "start_time": "2024-11-27T13:12:32.473Z"
   },
   {
    "duration": 425,
    "start_time": "2024-11-27T13:12:32.958Z"
   },
   {
    "duration": 555,
    "start_time": "2024-11-27T13:12:33.385Z"
   },
   {
    "duration": 2,
    "start_time": "2024-11-27T13:12:33.942Z"
   },
   {
    "duration": 49,
    "start_time": "2024-11-27T13:34:14.913Z"
   },
   {
    "duration": 179,
    "start_time": "2024-11-27T13:37:35.291Z"
   },
   {
    "duration": 7735,
    "start_time": "2024-11-27T13:37:40.578Z"
   },
   {
    "duration": 218,
    "start_time": "2024-11-27T13:37:48.316Z"
   },
   {
    "duration": 78,
    "start_time": "2024-11-27T13:37:48.536Z"
   },
   {
    "duration": 5,
    "start_time": "2024-11-27T13:37:48.616Z"
   },
   {
    "duration": 11,
    "start_time": "2024-11-27T13:37:48.623Z"
   },
   {
    "duration": 10,
    "start_time": "2024-11-27T13:37:48.636Z"
   },
   {
    "duration": 26,
    "start_time": "2024-11-27T13:37:48.648Z"
   },
   {
    "duration": 53,
    "start_time": "2024-11-27T13:37:48.675Z"
   },
   {
    "duration": 72,
    "start_time": "2024-11-27T13:37:48.730Z"
   },
   {
    "duration": 6,
    "start_time": "2024-11-27T13:37:48.810Z"
   },
   {
    "duration": 500,
    "start_time": "2024-11-27T13:37:48.819Z"
   },
   {
    "duration": 506,
    "start_time": "2024-11-27T13:37:49.320Z"
   },
   {
    "duration": 442,
    "start_time": "2024-11-27T13:37:49.827Z"
   },
   {
    "duration": 443,
    "start_time": "2024-11-27T13:37:50.270Z"
   },
   {
    "duration": 296,
    "start_time": "2024-11-27T13:37:50.716Z"
   },
   {
    "duration": 169,
    "start_time": "2024-11-27T13:37:51.015Z"
   },
   {
    "duration": 165,
    "start_time": "2024-11-27T13:37:51.186Z"
   },
   {
    "duration": 164,
    "start_time": "2024-11-27T13:37:51.353Z"
   },
   {
    "duration": 159,
    "start_time": "2024-11-27T13:37:51.519Z"
   },
   {
    "duration": 12,
    "start_time": "2024-11-27T14:12:01.793Z"
   },
   {
    "duration": 8,
    "start_time": "2024-11-27T14:12:42.574Z"
   },
   {
    "duration": 9,
    "start_time": "2024-11-27T14:13:14.164Z"
   },
   {
    "duration": 10,
    "start_time": "2024-11-27T14:13:28.596Z"
   },
   {
    "duration": 14,
    "start_time": "2024-11-27T14:13:41.112Z"
   },
   {
    "duration": 7881,
    "start_time": "2024-11-27T14:19:36.963Z"
   },
   {
    "duration": 190,
    "start_time": "2024-11-27T14:19:44.846Z"
   },
   {
    "duration": 61,
    "start_time": "2024-11-27T14:19:45.038Z"
   },
   {
    "duration": 7,
    "start_time": "2024-11-27T14:19:45.103Z"
   },
   {
    "duration": 41,
    "start_time": "2024-11-27T14:19:45.112Z"
   },
   {
    "duration": 25,
    "start_time": "2024-11-27T14:19:45.154Z"
   },
   {
    "duration": 70,
    "start_time": "2024-11-27T14:19:45.181Z"
   },
   {
    "duration": 56,
    "start_time": "2024-11-27T14:19:45.253Z"
   },
   {
    "duration": 62,
    "start_time": "2024-11-27T14:19:45.312Z"
   },
   {
    "duration": 9,
    "start_time": "2024-11-27T14:19:45.377Z"
   },
   {
    "duration": 530,
    "start_time": "2024-11-27T14:19:45.388Z"
   },
   {
    "duration": 540,
    "start_time": "2024-11-27T14:19:45.920Z"
   },
   {
    "duration": 449,
    "start_time": "2024-11-27T14:19:46.461Z"
   },
   {
    "duration": 514,
    "start_time": "2024-11-27T14:19:46.913Z"
   },
   {
    "duration": 312,
    "start_time": "2024-11-27T14:19:47.429Z"
   },
   {
    "duration": 199,
    "start_time": "2024-11-27T14:19:47.743Z"
   },
   {
    "duration": 181,
    "start_time": "2024-11-27T14:19:47.946Z"
   },
   {
    "duration": 190,
    "start_time": "2024-11-27T14:19:48.130Z"
   },
   {
    "duration": 215,
    "start_time": "2024-11-27T14:19:48.322Z"
   },
   {
    "duration": 7,
    "start_time": "2024-11-27T14:25:11.747Z"
   },
   {
    "duration": 7731,
    "start_time": "2024-11-27T14:25:17.314Z"
   },
   {
    "duration": 197,
    "start_time": "2024-11-27T14:25:25.047Z"
   },
   {
    "duration": 63,
    "start_time": "2024-11-27T14:25:25.246Z"
   },
   {
    "duration": 6,
    "start_time": "2024-11-27T14:25:25.313Z"
   },
   {
    "duration": 20,
    "start_time": "2024-11-27T14:25:25.321Z"
   },
   {
    "duration": 8,
    "start_time": "2024-11-27T14:25:25.343Z"
   },
   {
    "duration": 62,
    "start_time": "2024-11-27T14:25:25.353Z"
   },
   {
    "duration": 29,
    "start_time": "2024-11-27T14:25:25.417Z"
   },
   {
    "duration": 68,
    "start_time": "2024-11-27T14:25:25.448Z"
   },
   {
    "duration": 165,
    "start_time": "2024-11-27T14:25:25.519Z"
   },
   {
    "duration": 0,
    "start_time": "2024-11-27T14:25:25.685Z"
   },
   {
    "duration": 0,
    "start_time": "2024-11-27T14:25:25.687Z"
   },
   {
    "duration": 0,
    "start_time": "2024-11-27T14:25:25.688Z"
   },
   {
    "duration": 1,
    "start_time": "2024-11-27T14:25:25.698Z"
   },
   {
    "duration": 0,
    "start_time": "2024-11-27T14:25:25.701Z"
   },
   {
    "duration": 0,
    "start_time": "2024-11-27T14:25:25.703Z"
   },
   {
    "duration": 0,
    "start_time": "2024-11-27T14:25:25.704Z"
   },
   {
    "duration": 0,
    "start_time": "2024-11-27T14:25:25.706Z"
   },
   {
    "duration": 0,
    "start_time": "2024-11-27T14:25:25.708Z"
   },
   {
    "duration": 7949,
    "start_time": "2024-11-27T14:26:02.902Z"
   },
   {
    "duration": 185,
    "start_time": "2024-11-27T14:26:10.853Z"
   },
   {
    "duration": 62,
    "start_time": "2024-11-27T14:26:11.040Z"
   },
   {
    "duration": 12,
    "start_time": "2024-11-27T14:26:11.104Z"
   },
   {
    "duration": 24,
    "start_time": "2024-11-27T14:26:11.118Z"
   },
   {
    "duration": 11,
    "start_time": "2024-11-27T14:26:11.144Z"
   },
   {
    "duration": 52,
    "start_time": "2024-11-27T14:26:11.156Z"
   },
   {
    "duration": 31,
    "start_time": "2024-11-27T14:26:11.210Z"
   },
   {
    "duration": 67,
    "start_time": "2024-11-27T14:26:11.244Z"
   },
   {
    "duration": 10,
    "start_time": "2024-11-27T14:26:11.314Z"
   },
   {
    "duration": 167,
    "start_time": "2024-11-27T14:26:11.326Z"
   },
   {
    "duration": 0,
    "start_time": "2024-11-27T14:26:11.495Z"
   },
   {
    "duration": 0,
    "start_time": "2024-11-27T14:26:11.501Z"
   },
   {
    "duration": 0,
    "start_time": "2024-11-27T14:26:11.502Z"
   },
   {
    "duration": 0,
    "start_time": "2024-11-27T14:26:11.503Z"
   },
   {
    "duration": 0,
    "start_time": "2024-11-27T14:26:11.504Z"
   },
   {
    "duration": 0,
    "start_time": "2024-11-27T14:26:11.504Z"
   },
   {
    "duration": 0,
    "start_time": "2024-11-27T14:26:11.505Z"
   },
   {
    "duration": 0,
    "start_time": "2024-11-27T14:26:11.506Z"
   },
   {
    "duration": 0,
    "start_time": "2024-11-27T14:30:19.066Z"
   },
   {
    "duration": 8032,
    "start_time": "2024-11-27T14:30:20.718Z"
   },
   {
    "duration": 7949,
    "start_time": "2024-11-27T14:32:25.274Z"
   },
   {
    "duration": 201,
    "start_time": "2024-11-27T14:32:33.225Z"
   },
   {
    "duration": 56,
    "start_time": "2024-11-27T14:32:33.427Z"
   },
   {
    "duration": 5,
    "start_time": "2024-11-27T14:32:33.485Z"
   },
   {
    "duration": 38,
    "start_time": "2024-11-27T14:32:33.492Z"
   },
   {
    "duration": 22,
    "start_time": "2024-11-27T14:32:33.532Z"
   },
   {
    "duration": 32,
    "start_time": "2024-11-27T14:32:33.556Z"
   },
   {
    "duration": 35,
    "start_time": "2024-11-27T14:32:33.590Z"
   },
   {
    "duration": 52,
    "start_time": "2024-11-27T14:32:33.626Z"
   },
   {
    "duration": 193,
    "start_time": "2024-11-27T14:32:33.681Z"
   },
   {
    "duration": 0,
    "start_time": "2024-11-27T14:32:33.876Z"
   },
   {
    "duration": 0,
    "start_time": "2024-11-27T14:32:33.878Z"
   },
   {
    "duration": 0,
    "start_time": "2024-11-27T14:32:33.879Z"
   },
   {
    "duration": 0,
    "start_time": "2024-11-27T14:32:33.880Z"
   },
   {
    "duration": 0,
    "start_time": "2024-11-27T14:32:33.901Z"
   },
   {
    "duration": 0,
    "start_time": "2024-11-27T14:32:33.910Z"
   },
   {
    "duration": 0,
    "start_time": "2024-11-27T14:32:33.911Z"
   },
   {
    "duration": 0,
    "start_time": "2024-11-27T14:32:33.914Z"
   },
   {
    "duration": 0,
    "start_time": "2024-11-27T14:32:33.916Z"
   },
   {
    "duration": 7650,
    "start_time": "2024-11-27T14:32:52.917Z"
   },
   {
    "duration": 145,
    "start_time": "2024-11-27T14:33:00.570Z"
   },
   {
    "duration": 61,
    "start_time": "2024-11-27T14:33:00.717Z"
   },
   {
    "duration": 18,
    "start_time": "2024-11-27T14:33:00.780Z"
   },
   {
    "duration": 25,
    "start_time": "2024-11-27T14:33:00.800Z"
   },
   {
    "duration": 16,
    "start_time": "2024-11-27T14:33:00.826Z"
   },
   {
    "duration": 27,
    "start_time": "2024-11-27T14:33:00.844Z"
   },
   {
    "duration": 38,
    "start_time": "2024-11-27T14:33:00.872Z"
   },
   {
    "duration": 44,
    "start_time": "2024-11-27T14:33:00.913Z"
   },
   {
    "duration": 8,
    "start_time": "2024-11-27T14:33:00.959Z"
   },
   {
    "duration": 8162,
    "start_time": "2024-11-27T14:33:00.968Z"
   },
   {
    "duration": 8304,
    "start_time": "2024-11-27T14:33:09.132Z"
   },
   {
    "duration": 8191,
    "start_time": "2024-11-27T14:33:17.438Z"
   },
   {
    "duration": 613,
    "start_time": "2024-11-27T14:33:25.631Z"
   },
   {
    "duration": 0,
    "start_time": "2024-11-27T14:33:26.247Z"
   },
   {
    "duration": 0,
    "start_time": "2024-11-27T14:33:26.249Z"
   },
   {
    "duration": 0,
    "start_time": "2024-11-27T14:33:26.250Z"
   },
   {
    "duration": 0,
    "start_time": "2024-11-27T14:33:26.252Z"
   },
   {
    "duration": 0,
    "start_time": "2024-11-27T14:33:26.253Z"
   },
   {
    "duration": 7934,
    "start_time": "2024-11-27T14:36:20.694Z"
   },
   {
    "duration": 145,
    "start_time": "2024-11-27T14:36:28.630Z"
   },
   {
    "duration": 63,
    "start_time": "2024-11-27T14:36:28.777Z"
   },
   {
    "duration": 6,
    "start_time": "2024-11-27T14:36:28.842Z"
   },
   {
    "duration": 10,
    "start_time": "2024-11-27T14:36:28.849Z"
   },
   {
    "duration": 39,
    "start_time": "2024-11-27T14:36:28.860Z"
   },
   {
    "duration": 32,
    "start_time": "2024-11-27T14:36:28.902Z"
   },
   {
    "duration": 27,
    "start_time": "2024-11-27T14:36:28.936Z"
   },
   {
    "duration": 71,
    "start_time": "2024-11-27T14:36:28.965Z"
   },
   {
    "duration": 9,
    "start_time": "2024-11-27T14:36:29.039Z"
   },
   {
    "duration": 460,
    "start_time": "2024-11-27T14:36:29.049Z"
   },
   {
    "duration": 507,
    "start_time": "2024-11-27T14:36:29.512Z"
   },
   {
    "duration": 456,
    "start_time": "2024-11-27T14:36:30.021Z"
   },
   {
    "duration": 438,
    "start_time": "2024-11-27T14:36:30.479Z"
   },
   {
    "duration": 305,
    "start_time": "2024-11-27T14:36:30.918Z"
   },
   {
    "duration": 154,
    "start_time": "2024-11-27T14:36:31.225Z"
   },
   {
    "duration": 171,
    "start_time": "2024-11-27T14:36:31.381Z"
   },
   {
    "duration": 164,
    "start_time": "2024-11-27T14:36:31.553Z"
   },
   {
    "duration": 155,
    "start_time": "2024-11-27T14:36:31.718Z"
   },
   {
    "duration": 28,
    "start_time": "2024-11-27T14:56:14.518Z"
   },
   {
    "duration": 27,
    "start_time": "2024-11-27T14:56:41.158Z"
   },
   {
    "duration": 31,
    "start_time": "2024-11-27T14:56:44.723Z"
   },
   {
    "duration": 37,
    "start_time": "2024-11-27T14:57:23.485Z"
   },
   {
    "duration": 30,
    "start_time": "2024-11-27T14:57:32.165Z"
   },
   {
    "duration": 25,
    "start_time": "2024-11-27T14:57:51.943Z"
   },
   {
    "duration": 50,
    "start_time": "2024-11-27T14:58:15.265Z"
   },
   {
    "duration": 41,
    "start_time": "2024-11-27T14:58:20.506Z"
   },
   {
    "duration": 9876,
    "start_time": "2024-11-28T10:35:03.777Z"
   },
   {
    "duration": 182,
    "start_time": "2024-11-28T10:35:13.655Z"
   },
   {
    "duration": 54,
    "start_time": "2024-11-28T10:35:13.839Z"
   },
   {
    "duration": 5,
    "start_time": "2024-11-28T10:35:13.895Z"
   },
   {
    "duration": 14,
    "start_time": "2024-11-28T10:35:13.902Z"
   },
   {
    "duration": 31,
    "start_time": "2024-11-28T10:35:13.917Z"
   },
   {
    "duration": 34,
    "start_time": "2024-11-28T10:35:13.950Z"
   },
   {
    "duration": 26,
    "start_time": "2024-11-28T10:35:13.986Z"
   },
   {
    "duration": 56,
    "start_time": "2024-11-28T10:35:14.014Z"
   },
   {
    "duration": 8,
    "start_time": "2024-11-28T10:35:14.073Z"
   },
   {
    "duration": 470,
    "start_time": "2024-11-28T10:35:14.082Z"
   },
   {
    "duration": 448,
    "start_time": "2024-11-28T10:35:14.554Z"
   },
   {
    "duration": 410,
    "start_time": "2024-11-28T10:35:15.004Z"
   },
   {
    "duration": 407,
    "start_time": "2024-11-28T10:35:15.416Z"
   },
   {
    "duration": 266,
    "start_time": "2024-11-28T10:35:15.824Z"
   },
   {
    "duration": 138,
    "start_time": "2024-11-28T10:35:16.091Z"
   },
   {
    "duration": 148,
    "start_time": "2024-11-28T10:35:16.231Z"
   },
   {
    "duration": 157,
    "start_time": "2024-11-28T10:35:16.381Z"
   },
   {
    "duration": 135,
    "start_time": "2024-11-28T10:35:16.540Z"
   },
   {
    "duration": 175,
    "start_time": "2024-11-28T10:42:17.571Z"
   },
   {
    "duration": 46,
    "start_time": "2024-11-28T10:43:06.563Z"
   },
   {
    "duration": 6940,
    "start_time": "2024-11-28T12:30:32.378Z"
   },
   {
    "duration": 313,
    "start_time": "2024-11-28T12:30:39.320Z"
   },
   {
    "duration": 53,
    "start_time": "2024-11-28T12:30:39.634Z"
   },
   {
    "duration": 87,
    "start_time": "2024-11-28T12:30:39.688Z"
   },
   {
    "duration": 33,
    "start_time": "2024-11-28T12:30:39.778Z"
   },
   {
    "duration": 21,
    "start_time": "2024-11-28T12:30:39.813Z"
   },
   {
    "duration": 32,
    "start_time": "2024-11-28T12:30:39.836Z"
   },
   {
    "duration": 59,
    "start_time": "2024-11-28T12:30:39.870Z"
   },
   {
    "duration": 164,
    "start_time": "2024-11-28T12:30:39.931Z"
   },
   {
    "duration": 8,
    "start_time": "2024-11-28T12:30:40.096Z"
   },
   {
    "duration": 461,
    "start_time": "2024-11-28T12:30:40.105Z"
   },
   {
    "duration": 482,
    "start_time": "2024-11-28T12:30:40.567Z"
   },
   {
    "duration": 361,
    "start_time": "2024-11-28T12:30:41.050Z"
   },
   {
    "duration": 392,
    "start_time": "2024-11-28T12:30:41.413Z"
   },
   {
    "duration": 254,
    "start_time": "2024-11-28T12:30:41.807Z"
   },
   {
    "duration": 137,
    "start_time": "2024-11-28T12:30:42.063Z"
   },
   {
    "duration": 149,
    "start_time": "2024-11-28T12:30:42.201Z"
   },
   {
    "duration": 142,
    "start_time": "2024-11-28T12:30:42.352Z"
   },
   {
    "duration": 136,
    "start_time": "2024-11-28T12:30:42.496Z"
   },
   {
    "duration": 190,
    "start_time": "2024-11-28T12:30:42.634Z"
   },
   {
    "duration": 44,
    "start_time": "2024-11-28T12:31:42.037Z"
   },
   {
    "duration": 18,
    "start_time": "2024-11-28T12:42:06.744Z"
   },
   {
    "duration": 18,
    "start_time": "2024-11-28T12:42:14.665Z"
   },
   {
    "duration": 66,
    "start_time": "2024-11-28T12:43:04.714Z"
   },
   {
    "duration": 18,
    "start_time": "2024-11-28T12:43:30.093Z"
   },
   {
    "duration": 27,
    "start_time": "2024-11-28T12:46:42.331Z"
   },
   {
    "duration": 60,
    "start_time": "2024-11-28T12:47:06.705Z"
   },
   {
    "duration": 49,
    "start_time": "2024-11-28T12:51:33.083Z"
   },
   {
    "duration": 10793,
    "start_time": "2024-11-29T12:18:39.933Z"
   },
   {
    "duration": 271,
    "start_time": "2024-11-29T12:18:50.729Z"
   },
   {
    "duration": 75,
    "start_time": "2024-11-29T12:18:51.002Z"
   },
   {
    "duration": 8,
    "start_time": "2024-11-29T12:18:51.079Z"
   },
   {
    "duration": 39,
    "start_time": "2024-11-29T12:18:51.090Z"
   },
   {
    "duration": 10,
    "start_time": "2024-11-29T12:18:51.131Z"
   },
   {
    "duration": 25,
    "start_time": "2024-11-29T12:18:51.144Z"
   },
   {
    "duration": 61,
    "start_time": "2024-11-29T12:18:51.171Z"
   },
   {
    "duration": 67,
    "start_time": "2024-11-29T12:18:51.234Z"
   },
   {
    "duration": 9,
    "start_time": "2024-11-29T12:18:51.321Z"
   },
   {
    "duration": 610,
    "start_time": "2024-11-29T12:18:51.332Z"
   },
   {
    "duration": 517,
    "start_time": "2024-11-29T12:18:51.945Z"
   },
   {
    "duration": 467,
    "start_time": "2024-11-29T12:18:52.464Z"
   },
   {
    "duration": 634,
    "start_time": "2024-11-29T12:18:52.935Z"
   },
   {
    "duration": 185,
    "start_time": "2024-11-29T12:18:53.571Z"
   },
   {
    "duration": 181,
    "start_time": "2024-11-29T12:18:53.757Z"
   },
   {
    "duration": 165,
    "start_time": "2024-11-29T12:18:53.940Z"
   },
   {
    "duration": 178,
    "start_time": "2024-11-29T12:18:54.107Z"
   },
   {
    "duration": 192,
    "start_time": "2024-11-29T12:18:54.287Z"
   },
   {
    "duration": 75,
    "start_time": "2024-11-29T12:18:54.481Z"
   },
   {
    "duration": 60,
    "start_time": "2024-11-29T12:35:54.511Z"
   },
   {
    "duration": 7501,
    "start_time": "2024-11-29T12:41:32.663Z"
   },
   {
    "duration": 277,
    "start_time": "2024-11-29T12:41:40.167Z"
   },
   {
    "duration": 58,
    "start_time": "2024-11-29T12:41:40.446Z"
   },
   {
    "duration": 14,
    "start_time": "2024-11-29T12:41:40.506Z"
   },
   {
    "duration": 35,
    "start_time": "2024-11-29T12:41:40.522Z"
   },
   {
    "duration": 10,
    "start_time": "2024-11-29T12:41:40.559Z"
   },
   {
    "duration": 34,
    "start_time": "2024-11-29T12:41:40.571Z"
   },
   {
    "duration": 29,
    "start_time": "2024-11-29T12:41:40.607Z"
   },
   {
    "duration": 56,
    "start_time": "2024-11-29T12:41:40.637Z"
   },
   {
    "duration": 8,
    "start_time": "2024-11-29T12:41:40.696Z"
   },
   {
    "duration": 436,
    "start_time": "2024-11-29T12:41:40.721Z"
   },
   {
    "duration": 483,
    "start_time": "2024-11-29T12:41:41.159Z"
   },
   {
    "duration": 428,
    "start_time": "2024-11-29T12:41:41.643Z"
   },
   {
    "duration": 438,
    "start_time": "2024-11-29T12:41:42.072Z"
   },
   {
    "duration": 279,
    "start_time": "2024-11-29T12:41:42.511Z"
   },
   {
    "duration": 168,
    "start_time": "2024-11-29T12:41:42.791Z"
   },
   {
    "duration": 151,
    "start_time": "2024-11-29T12:41:42.961Z"
   },
   {
    "duration": 156,
    "start_time": "2024-11-29T12:41:43.114Z"
   },
   {
    "duration": 151,
    "start_time": "2024-11-29T12:41:43.272Z"
   },
   {
    "duration": 22,
    "start_time": "2024-11-29T12:41:43.425Z"
   },
   {
    "duration": 79,
    "start_time": "2024-11-29T12:41:43.449Z"
   },
   {
    "duration": 24,
    "start_time": "2024-11-29T12:42:12.364Z"
   },
   {
    "duration": 27,
    "start_time": "2024-11-29T12:42:19.807Z"
   },
   {
    "duration": 9679,
    "start_time": "2024-12-02T06:11:36.948Z"
   },
   {
    "duration": 258,
    "start_time": "2024-12-02T06:11:46.629Z"
   },
   {
    "duration": 50,
    "start_time": "2024-12-02T06:11:46.889Z"
   },
   {
    "duration": 5,
    "start_time": "2024-12-02T06:11:46.940Z"
   },
   {
    "duration": 8,
    "start_time": "2024-12-02T06:11:46.947Z"
   },
   {
    "duration": 7,
    "start_time": "2024-12-02T06:11:46.965Z"
   },
   {
    "duration": 19,
    "start_time": "2024-12-02T06:11:46.974Z"
   },
   {
    "duration": 24,
    "start_time": "2024-12-02T06:11:46.995Z"
   },
   {
    "duration": 64,
    "start_time": "2024-12-02T06:11:47.020Z"
   },
   {
    "duration": 8,
    "start_time": "2024-12-02T06:11:47.086Z"
   },
   {
    "duration": 457,
    "start_time": "2024-12-02T06:11:47.096Z"
   },
   {
    "duration": 417,
    "start_time": "2024-12-02T06:11:47.555Z"
   },
   {
    "duration": 344,
    "start_time": "2024-12-02T06:11:47.973Z"
   },
   {
    "duration": 466,
    "start_time": "2024-12-02T06:11:48.319Z"
   },
   {
    "duration": 248,
    "start_time": "2024-12-02T06:11:48.786Z"
   },
   {
    "duration": 140,
    "start_time": "2024-12-02T06:11:49.035Z"
   },
   {
    "duration": 140,
    "start_time": "2024-12-02T06:11:49.177Z"
   },
   {
    "duration": 138,
    "start_time": "2024-12-02T06:11:49.319Z"
   },
   {
    "duration": 132,
    "start_time": "2024-12-02T06:11:49.458Z"
   },
   {
    "duration": 21,
    "start_time": "2024-12-02T06:11:49.592Z"
   },
   {
    "duration": 66,
    "start_time": "2024-12-02T06:11:49.614Z"
   },
   {
    "duration": 30,
    "start_time": "2024-12-02T06:30:32.824Z"
   },
   {
    "duration": 21,
    "start_time": "2024-12-02T06:32:21.154Z"
   },
   {
    "duration": 68,
    "start_time": "2024-12-02T06:33:18.988Z"
   },
   {
    "duration": 172,
    "start_time": "2024-12-02T06:33:52.308Z"
   },
   {
    "duration": 92,
    "start_time": "2024-12-02T06:34:03.606Z"
   },
   {
    "duration": 71,
    "start_time": "2024-12-02T06:34:26.163Z"
   },
   {
    "duration": 70,
    "start_time": "2024-12-02T06:34:47.647Z"
   },
   {
    "duration": 49,
    "start_time": "2024-12-02T06:34:57.992Z"
   },
   {
    "duration": 18,
    "start_time": "2024-12-02T07:40:42.842Z"
   },
   {
    "duration": 9343,
    "start_time": "2024-12-02T10:50:15.991Z"
   },
   {
    "duration": 334,
    "start_time": "2024-12-02T10:50:25.337Z"
   },
   {
    "duration": 58,
    "start_time": "2024-12-02T10:50:25.672Z"
   },
   {
    "duration": 5,
    "start_time": "2024-12-02T10:50:25.732Z"
   },
   {
    "duration": 8,
    "start_time": "2024-12-02T10:50:25.739Z"
   },
   {
    "duration": 8,
    "start_time": "2024-12-02T10:50:25.749Z"
   },
   {
    "duration": 20,
    "start_time": "2024-12-02T10:50:25.758Z"
   },
   {
    "duration": 57,
    "start_time": "2024-12-02T10:50:25.779Z"
   },
   {
    "duration": 41,
    "start_time": "2024-12-02T10:50:25.837Z"
   },
   {
    "duration": 9,
    "start_time": "2024-12-02T10:50:25.881Z"
   },
   {
    "duration": 496,
    "start_time": "2024-12-02T10:50:25.891Z"
   },
   {
    "duration": 432,
    "start_time": "2024-12-02T10:50:26.389Z"
   },
   {
    "duration": 362,
    "start_time": "2024-12-02T10:50:26.823Z"
   },
   {
    "duration": 503,
    "start_time": "2024-12-02T10:50:27.186Z"
   },
   {
    "duration": 161,
    "start_time": "2024-12-02T10:50:27.691Z"
   },
   {
    "duration": 144,
    "start_time": "2024-12-02T10:50:27.854Z"
   },
   {
    "duration": 165,
    "start_time": "2024-12-02T10:50:27.999Z"
   },
   {
    "duration": 135,
    "start_time": "2024-12-02T10:50:28.166Z"
   },
   {
    "duration": 128,
    "start_time": "2024-12-02T10:50:28.303Z"
   },
   {
    "duration": 3,
    "start_time": "2024-12-02T10:50:28.432Z"
   },
   {
    "duration": 43,
    "start_time": "2024-12-02T10:50:28.437Z"
   },
   {
    "duration": 7027,
    "start_time": "2024-12-02T10:54:23.369Z"
   },
   {
    "duration": 171,
    "start_time": "2024-12-02T10:54:30.398Z"
   },
   {
    "duration": 54,
    "start_time": "2024-12-02T10:54:30.570Z"
   },
   {
    "duration": 5,
    "start_time": "2024-12-02T10:54:30.626Z"
   },
   {
    "duration": 36,
    "start_time": "2024-12-02T10:54:30.632Z"
   },
   {
    "duration": 40,
    "start_time": "2024-12-02T10:54:30.670Z"
   },
   {
    "duration": 28,
    "start_time": "2024-12-02T10:54:30.712Z"
   },
   {
    "duration": 55,
    "start_time": "2024-12-02T10:54:30.742Z"
   },
   {
    "duration": 41,
    "start_time": "2024-12-02T10:54:30.799Z"
   },
   {
    "duration": 7,
    "start_time": "2024-12-02T10:54:30.843Z"
   },
   {
    "duration": 427,
    "start_time": "2024-12-02T10:54:30.852Z"
   },
   {
    "duration": 441,
    "start_time": "2024-12-02T10:54:31.280Z"
   },
   {
    "duration": 356,
    "start_time": "2024-12-02T10:54:31.723Z"
   },
   {
    "duration": 403,
    "start_time": "2024-12-02T10:54:32.080Z"
   },
   {
    "duration": 264,
    "start_time": "2024-12-02T10:54:32.484Z"
   },
   {
    "duration": 140,
    "start_time": "2024-12-02T10:54:32.750Z"
   },
   {
    "duration": 148,
    "start_time": "2024-12-02T10:54:32.891Z"
   },
   {
    "duration": 156,
    "start_time": "2024-12-02T10:54:33.041Z"
   },
   {
    "duration": 140,
    "start_time": "2024-12-02T10:54:33.199Z"
   },
   {
    "duration": 2,
    "start_time": "2024-12-02T10:54:33.341Z"
   },
   {
    "duration": 74,
    "start_time": "2024-12-02T10:54:33.345Z"
   },
   {
    "duration": 10,
    "start_time": "2024-12-02T11:07:05.460Z"
   },
   {
    "duration": 7346,
    "start_time": "2024-12-02T11:25:13.792Z"
   },
   {
    "duration": 145,
    "start_time": "2024-12-02T11:25:21.140Z"
   },
   {
    "duration": 76,
    "start_time": "2024-12-02T11:25:21.287Z"
   },
   {
    "duration": 8,
    "start_time": "2024-12-02T11:25:21.365Z"
   },
   {
    "duration": 28,
    "start_time": "2024-12-02T11:25:21.375Z"
   },
   {
    "duration": 22,
    "start_time": "2024-12-02T11:25:21.404Z"
   },
   {
    "duration": 21,
    "start_time": "2024-12-02T11:25:21.428Z"
   },
   {
    "duration": 33,
    "start_time": "2024-12-02T11:25:21.451Z"
   },
   {
    "duration": 53,
    "start_time": "2024-12-02T11:25:21.486Z"
   },
   {
    "duration": 8,
    "start_time": "2024-12-02T11:25:21.541Z"
   },
   {
    "duration": 448,
    "start_time": "2024-12-02T11:25:21.550Z"
   },
   {
    "duration": 435,
    "start_time": "2024-12-02T11:25:21.999Z"
   },
   {
    "duration": 407,
    "start_time": "2024-12-02T11:25:22.435Z"
   },
   {
    "duration": 460,
    "start_time": "2024-12-02T11:25:22.845Z"
   },
   {
    "duration": 260,
    "start_time": "2024-12-02T11:25:23.306Z"
   },
   {
    "duration": 152,
    "start_time": "2024-12-02T11:25:23.567Z"
   },
   {
    "duration": 144,
    "start_time": "2024-12-02T11:25:23.720Z"
   },
   {
    "duration": 144,
    "start_time": "2024-12-02T11:25:23.865Z"
   },
   {
    "duration": 134,
    "start_time": "2024-12-02T11:25:24.018Z"
   },
   {
    "duration": 3,
    "start_time": "2024-12-02T11:25:24.154Z"
   },
   {
    "duration": 10,
    "start_time": "2024-12-02T11:25:24.158Z"
   },
   {
    "duration": 7,
    "start_time": "2024-12-02T11:25:24.170Z"
   },
   {
    "duration": 4,
    "start_time": "2024-12-02T11:25:24.179Z"
   },
   {
    "duration": 169,
    "start_time": "2024-12-02T11:25:24.185Z"
   },
   {
    "duration": 7000,
    "start_time": "2024-12-02T12:09:24.534Z"
   },
   {
    "duration": 573,
    "start_time": "2024-12-02T12:09:31.536Z"
   },
   {
    "duration": 54,
    "start_time": "2024-12-02T12:09:32.111Z"
   },
   {
    "duration": 5,
    "start_time": "2024-12-02T12:09:32.167Z"
   },
   {
    "duration": 16,
    "start_time": "2024-12-02T12:09:32.173Z"
   },
   {
    "duration": 29,
    "start_time": "2024-12-02T12:09:32.190Z"
   },
   {
    "duration": 20,
    "start_time": "2024-12-02T12:09:32.221Z"
   },
   {
    "duration": 26,
    "start_time": "2024-12-02T12:09:32.242Z"
   },
   {
    "duration": 69,
    "start_time": "2024-12-02T12:09:32.269Z"
   },
   {
    "duration": 8,
    "start_time": "2024-12-02T12:09:32.340Z"
   },
   {
    "duration": 453,
    "start_time": "2024-12-02T12:09:32.350Z"
   },
   {
    "duration": 466,
    "start_time": "2024-12-02T12:09:32.805Z"
   },
   {
    "duration": 412,
    "start_time": "2024-12-02T12:09:33.272Z"
   },
   {
    "duration": 422,
    "start_time": "2024-12-02T12:09:33.686Z"
   },
   {
    "duration": 264,
    "start_time": "2024-12-02T12:09:34.110Z"
   },
   {
    "duration": 179,
    "start_time": "2024-12-02T12:09:34.376Z"
   },
   {
    "duration": 148,
    "start_time": "2024-12-02T12:09:34.557Z"
   },
   {
    "duration": 154,
    "start_time": "2024-12-02T12:09:34.706Z"
   },
   {
    "duration": 137,
    "start_time": "2024-12-02T12:09:34.862Z"
   },
   {
    "duration": 3,
    "start_time": "2024-12-02T12:09:35.001Z"
   },
   {
    "duration": 19,
    "start_time": "2024-12-02T12:09:35.005Z"
   },
   {
    "duration": 8,
    "start_time": "2024-12-02T12:09:35.026Z"
   },
   {
    "duration": 19,
    "start_time": "2024-12-02T12:09:35.036Z"
   },
   {
    "duration": 171,
    "start_time": "2024-12-02T12:09:35.057Z"
   },
   {
    "duration": 7036,
    "start_time": "2024-12-02T12:12:51.928Z"
   },
   {
    "duration": 171,
    "start_time": "2024-12-02T12:12:58.966Z"
   },
   {
    "duration": 74,
    "start_time": "2024-12-02T12:12:59.139Z"
   },
   {
    "duration": 6,
    "start_time": "2024-12-02T12:12:59.217Z"
   },
   {
    "duration": 13,
    "start_time": "2024-12-02T12:12:59.225Z"
   },
   {
    "duration": 18,
    "start_time": "2024-12-02T12:12:59.240Z"
   },
   {
    "duration": 23,
    "start_time": "2024-12-02T12:12:59.261Z"
   },
   {
    "duration": 51,
    "start_time": "2024-12-02T12:12:59.285Z"
   },
   {
    "duration": 41,
    "start_time": "2024-12-02T12:12:59.338Z"
   },
   {
    "duration": 7,
    "start_time": "2024-12-02T12:12:59.382Z"
   },
   {
    "duration": 421,
    "start_time": "2024-12-02T12:12:59.418Z"
   },
   {
    "duration": 486,
    "start_time": "2024-12-02T12:12:59.841Z"
   },
   {
    "duration": 405,
    "start_time": "2024-12-02T12:13:00.329Z"
   },
   {
    "duration": 387,
    "start_time": "2024-12-02T12:13:00.736Z"
   },
   {
    "duration": 262,
    "start_time": "2024-12-02T12:13:01.124Z"
   },
   {
    "duration": 156,
    "start_time": "2024-12-02T12:13:01.388Z"
   },
   {
    "duration": 163,
    "start_time": "2024-12-02T12:13:01.546Z"
   },
   {
    "duration": 139,
    "start_time": "2024-12-02T12:13:01.718Z"
   },
   {
    "duration": 131,
    "start_time": "2024-12-02T12:13:01.859Z"
   },
   {
    "duration": 2,
    "start_time": "2024-12-02T12:13:01.992Z"
   },
   {
    "duration": 26,
    "start_time": "2024-12-02T12:13:01.996Z"
   },
   {
    "duration": 6,
    "start_time": "2024-12-02T12:13:02.023Z"
   },
   {
    "duration": 31,
    "start_time": "2024-12-02T12:13:02.031Z"
   },
   {
    "duration": 171,
    "start_time": "2024-12-02T12:13:02.064Z"
   },
   {
    "duration": 7098,
    "start_time": "2024-12-02T12:13:25.345Z"
   },
   {
    "duration": 177,
    "start_time": "2024-12-02T12:13:32.445Z"
   },
   {
    "duration": 53,
    "start_time": "2024-12-02T12:13:32.624Z"
   },
   {
    "duration": 14,
    "start_time": "2024-12-02T12:13:32.679Z"
   },
   {
    "duration": 27,
    "start_time": "2024-12-02T12:13:32.695Z"
   },
   {
    "duration": 9,
    "start_time": "2024-12-02T12:13:32.724Z"
   },
   {
    "duration": 36,
    "start_time": "2024-12-02T12:13:32.735Z"
   },
   {
    "duration": 42,
    "start_time": "2024-12-02T12:13:32.772Z"
   },
   {
    "duration": 45,
    "start_time": "2024-12-02T12:13:32.816Z"
   },
   {
    "duration": 9,
    "start_time": "2024-12-02T12:13:32.863Z"
   },
   {
    "duration": 460,
    "start_time": "2024-12-02T12:13:32.873Z"
   },
   {
    "duration": 468,
    "start_time": "2024-12-02T12:13:33.335Z"
   },
   {
    "duration": 363,
    "start_time": "2024-12-02T12:13:33.804Z"
   },
   {
    "duration": 406,
    "start_time": "2024-12-02T12:13:34.168Z"
   },
   {
    "duration": 277,
    "start_time": "2024-12-02T12:13:34.575Z"
   },
   {
    "duration": 148,
    "start_time": "2024-12-02T12:13:34.854Z"
   },
   {
    "duration": 150,
    "start_time": "2024-12-02T12:13:35.004Z"
   },
   {
    "duration": 142,
    "start_time": "2024-12-02T12:13:35.156Z"
   },
   {
    "duration": 138,
    "start_time": "2024-12-02T12:13:35.299Z"
   },
   {
    "duration": 2,
    "start_time": "2024-12-02T12:13:35.439Z"
   },
   {
    "duration": 14,
    "start_time": "2024-12-02T12:13:35.443Z"
   },
   {
    "duration": 5,
    "start_time": "2024-12-02T12:13:35.459Z"
   },
   {
    "duration": 11,
    "start_time": "2024-12-02T12:13:35.465Z"
   },
   {
    "duration": 153,
    "start_time": "2024-12-02T12:13:35.478Z"
   },
   {
    "duration": 3739,
    "start_time": "2024-12-02T12:14:02.610Z"
   },
   {
    "duration": 3796,
    "start_time": "2024-12-02T12:14:56.642Z"
   },
   {
    "duration": 13,
    "start_time": "2024-12-02T12:20:35.431Z"
   },
   {
    "duration": 5,
    "start_time": "2024-12-02T12:22:29.547Z"
   },
   {
    "duration": 9378,
    "start_time": "2024-12-03T10:14:21.617Z"
   },
   {
    "duration": 313,
    "start_time": "2024-12-03T10:14:30.997Z"
   },
   {
    "duration": 55,
    "start_time": "2024-12-03T10:14:31.312Z"
   },
   {
    "duration": 5,
    "start_time": "2024-12-03T10:14:31.369Z"
   },
   {
    "duration": 32,
    "start_time": "2024-12-03T10:14:31.376Z"
   },
   {
    "duration": 10,
    "start_time": "2024-12-03T10:14:31.410Z"
   },
   {
    "duration": 35,
    "start_time": "2024-12-03T10:14:31.422Z"
   },
   {
    "duration": 28,
    "start_time": "2024-12-03T10:14:31.459Z"
   },
   {
    "duration": 44,
    "start_time": "2024-12-03T10:14:31.488Z"
   },
   {
    "duration": 8,
    "start_time": "2024-12-03T10:14:31.535Z"
   },
   {
    "duration": 455,
    "start_time": "2024-12-03T10:14:31.544Z"
   },
   {
    "duration": 425,
    "start_time": "2024-12-03T10:14:32.000Z"
   },
   {
    "duration": 410,
    "start_time": "2024-12-03T10:14:32.426Z"
   },
   {
    "duration": 414,
    "start_time": "2024-12-03T10:14:32.837Z"
   },
   {
    "duration": 243,
    "start_time": "2024-12-03T10:14:33.252Z"
   },
   {
    "duration": 146,
    "start_time": "2024-12-03T10:14:33.497Z"
   },
   {
    "duration": 149,
    "start_time": "2024-12-03T10:14:33.644Z"
   },
   {
    "duration": 145,
    "start_time": "2024-12-03T10:14:33.795Z"
   },
   {
    "duration": 139,
    "start_time": "2024-12-03T10:14:33.942Z"
   },
   {
    "duration": 3,
    "start_time": "2024-12-03T10:14:34.082Z"
   },
   {
    "duration": 23,
    "start_time": "2024-12-03T10:14:34.087Z"
   },
   {
    "duration": 5,
    "start_time": "2024-12-03T10:14:34.111Z"
   },
   {
    "duration": 15,
    "start_time": "2024-12-03T10:14:34.118Z"
   },
   {
    "duration": 8,
    "start_time": "2024-12-03T10:14:34.134Z"
   },
   {
    "duration": 141,
    "start_time": "2024-12-03T10:14:34.143Z"
   },
   {
    "duration": 5,
    "start_time": "2024-12-03T10:15:52.844Z"
   },
   {
    "duration": 3,
    "start_time": "2024-12-03T10:15:53.824Z"
   },
   {
    "duration": 4,
    "start_time": "2024-12-03T10:15:54.450Z"
   },
   {
    "duration": 10,
    "start_time": "2024-12-03T10:15:55.071Z"
   },
   {
    "duration": 3,
    "start_time": "2024-12-03T10:16:16.754Z"
   },
   {
    "duration": 61,
    "start_time": "2024-12-03T10:16:55.986Z"
   },
   {
    "duration": 52,
    "start_time": "2024-12-03T10:17:15.192Z"
   },
   {
    "duration": 7034,
    "start_time": "2024-12-03T10:23:14.886Z"
   },
   {
    "duration": 173,
    "start_time": "2024-12-03T10:23:21.922Z"
   },
   {
    "duration": 53,
    "start_time": "2024-12-03T10:23:22.097Z"
   },
   {
    "duration": 5,
    "start_time": "2024-12-03T10:23:22.152Z"
   },
   {
    "duration": 34,
    "start_time": "2024-12-03T10:23:22.158Z"
   },
   {
    "duration": 11,
    "start_time": "2024-12-03T10:23:22.194Z"
   },
   {
    "duration": 19,
    "start_time": "2024-12-03T10:23:22.207Z"
   },
   {
    "duration": 24,
    "start_time": "2024-12-03T10:23:22.228Z"
   },
   {
    "duration": 69,
    "start_time": "2024-12-03T10:23:22.253Z"
   },
   {
    "duration": 8,
    "start_time": "2024-12-03T10:23:22.326Z"
   },
   {
    "duration": 430,
    "start_time": "2024-12-03T10:23:22.336Z"
   },
   {
    "duration": 426,
    "start_time": "2024-12-03T10:23:22.768Z"
   },
   {
    "duration": 358,
    "start_time": "2024-12-03T10:23:23.196Z"
   },
   {
    "duration": 411,
    "start_time": "2024-12-03T10:23:23.557Z"
   },
   {
    "duration": 253,
    "start_time": "2024-12-03T10:23:23.970Z"
   },
   {
    "duration": 144,
    "start_time": "2024-12-03T10:23:24.225Z"
   },
   {
    "duration": 144,
    "start_time": "2024-12-03T10:23:24.370Z"
   },
   {
    "duration": 133,
    "start_time": "2024-12-03T10:23:24.515Z"
   },
   {
    "duration": 138,
    "start_time": "2024-12-03T10:23:24.649Z"
   },
   {
    "duration": 3,
    "start_time": "2024-12-03T10:23:24.792Z"
   },
   {
    "duration": 9,
    "start_time": "2024-12-03T10:23:24.796Z"
   },
   {
    "duration": 8,
    "start_time": "2024-12-03T10:23:24.807Z"
   },
   {
    "duration": 7,
    "start_time": "2024-12-03T10:23:24.816Z"
   },
   {
    "duration": 5,
    "start_time": "2024-12-03T10:23:24.824Z"
   },
   {
    "duration": 6,
    "start_time": "2024-12-03T10:23:24.830Z"
   },
   {
    "duration": 7,
    "start_time": "2024-12-03T10:23:24.838Z"
   },
   {
    "duration": 4572,
    "start_time": "2024-12-03T10:23:24.846Z"
   },
   {
    "duration": 5,
    "start_time": "2024-12-03T10:24:27.841Z"
   },
   {
    "duration": 3,
    "start_time": "2024-12-03T10:24:28.768Z"
   },
   {
    "duration": 3,
    "start_time": "2024-12-03T10:24:29.317Z"
   },
   {
    "duration": 3,
    "start_time": "2024-12-03T10:24:29.712Z"
   },
   {
    "duration": 3,
    "start_time": "2024-12-03T10:24:30.048Z"
   },
   {
    "duration": 3567,
    "start_time": "2024-12-03T10:24:30.415Z"
   },
   {
    "duration": 6,
    "start_time": "2024-12-03T10:26:27.155Z"
   },
   {
    "duration": 3,
    "start_time": "2024-12-03T10:26:27.563Z"
   },
   {
    "duration": 3,
    "start_time": "2024-12-03T10:26:27.811Z"
   },
   {
    "duration": 4,
    "start_time": "2024-12-03T10:26:28.001Z"
   },
   {
    "duration": 3,
    "start_time": "2024-12-03T10:26:28.228Z"
   },
   {
    "duration": 3554,
    "start_time": "2024-12-03T10:26:28.419Z"
   },
   {
    "duration": 5,
    "start_time": "2024-12-03T10:26:55.538Z"
   },
   {
    "duration": 3,
    "start_time": "2024-12-03T10:26:55.964Z"
   },
   {
    "duration": 3,
    "start_time": "2024-12-03T10:26:56.192Z"
   },
   {
    "duration": 4,
    "start_time": "2024-12-03T10:26:56.405Z"
   },
   {
    "duration": 3,
    "start_time": "2024-12-03T10:26:56.627Z"
   },
   {
    "duration": 3642,
    "start_time": "2024-12-03T10:26:56.835Z"
   },
   {
    "duration": 3668,
    "start_time": "2024-12-03T10:27:07.309Z"
   },
   {
    "duration": 6708,
    "start_time": "2024-12-03T10:27:43.457Z"
   },
   {
    "duration": 202,
    "start_time": "2024-12-03T10:27:50.167Z"
   },
   {
    "duration": 52,
    "start_time": "2024-12-03T10:27:50.370Z"
   },
   {
    "duration": 5,
    "start_time": "2024-12-03T10:27:50.424Z"
   },
   {
    "duration": 11,
    "start_time": "2024-12-03T10:27:50.430Z"
   },
   {
    "duration": 8,
    "start_time": "2024-12-03T10:27:50.443Z"
   },
   {
    "duration": 49,
    "start_time": "2024-12-03T10:27:50.452Z"
   },
   {
    "duration": 26,
    "start_time": "2024-12-03T10:27:50.502Z"
   },
   {
    "duration": 39,
    "start_time": "2024-12-03T10:27:50.530Z"
   },
   {
    "duration": 9,
    "start_time": "2024-12-03T10:27:50.594Z"
   },
   {
    "duration": 446,
    "start_time": "2024-12-03T10:27:50.605Z"
   },
   {
    "duration": 424,
    "start_time": "2024-12-03T10:27:51.052Z"
   },
   {
    "duration": 361,
    "start_time": "2024-12-03T10:27:51.478Z"
   },
   {
    "duration": 400,
    "start_time": "2024-12-03T10:27:51.840Z"
   },
   {
    "duration": 244,
    "start_time": "2024-12-03T10:27:52.242Z"
   },
   {
    "duration": 139,
    "start_time": "2024-12-03T10:27:52.491Z"
   },
   {
    "duration": 144,
    "start_time": "2024-12-03T10:27:52.632Z"
   },
   {
    "duration": 134,
    "start_time": "2024-12-03T10:27:52.778Z"
   },
   {
    "duration": 134,
    "start_time": "2024-12-03T10:27:52.914Z"
   },
   {
    "duration": 3,
    "start_time": "2024-12-03T10:27:53.049Z"
   },
   {
    "duration": 9,
    "start_time": "2024-12-03T10:27:53.053Z"
   },
   {
    "duration": 4,
    "start_time": "2024-12-03T10:27:53.064Z"
   },
   {
    "duration": 3,
    "start_time": "2024-12-03T10:27:53.070Z"
   },
   {
    "duration": 3,
    "start_time": "2024-12-03T10:27:53.091Z"
   },
   {
    "duration": 9,
    "start_time": "2024-12-03T10:27:53.095Z"
   },
   {
    "duration": 7,
    "start_time": "2024-12-03T10:27:53.105Z"
   },
   {
    "duration": 4384,
    "start_time": "2024-12-03T10:27:53.114Z"
   },
   {
    "duration": 23,
    "start_time": "2024-12-03T10:28:49.696Z"
   },
   {
    "duration": 13,
    "start_time": "2024-12-03T10:31:18.425Z"
   },
   {
    "duration": 9,
    "start_time": "2024-12-03T10:31:31.506Z"
   },
   {
    "duration": 8,
    "start_time": "2024-12-03T10:32:12.273Z"
   },
   {
    "duration": 6679,
    "start_time": "2024-12-03T10:33:51.966Z"
   },
   {
    "duration": 191,
    "start_time": "2024-12-03T10:33:58.647Z"
   },
   {
    "duration": 54,
    "start_time": "2024-12-03T10:33:58.839Z"
   },
   {
    "duration": 5,
    "start_time": "2024-12-03T10:33:58.895Z"
   },
   {
    "duration": 7,
    "start_time": "2024-12-03T10:33:58.902Z"
   },
   {
    "duration": 7,
    "start_time": "2024-12-03T10:33:58.910Z"
   },
   {
    "duration": 19,
    "start_time": "2024-12-03T10:33:58.919Z"
   },
   {
    "duration": 56,
    "start_time": "2024-12-03T10:33:58.940Z"
   },
   {
    "duration": 41,
    "start_time": "2024-12-03T10:33:58.998Z"
   },
   {
    "duration": 7,
    "start_time": "2024-12-03T10:33:59.043Z"
   },
   {
    "duration": 430,
    "start_time": "2024-12-03T10:33:59.052Z"
   },
   {
    "duration": 430,
    "start_time": "2024-12-03T10:33:59.483Z"
   },
   {
    "duration": 381,
    "start_time": "2024-12-03T10:33:59.915Z"
   },
   {
    "duration": 395,
    "start_time": "2024-12-03T10:34:00.298Z"
   },
   {
    "duration": 256,
    "start_time": "2024-12-03T10:34:00.695Z"
   },
   {
    "duration": 147,
    "start_time": "2024-12-03T10:34:00.952Z"
   },
   {
    "duration": 154,
    "start_time": "2024-12-03T10:34:01.101Z"
   },
   {
    "duration": 147,
    "start_time": "2024-12-03T10:34:01.257Z"
   },
   {
    "duration": 143,
    "start_time": "2024-12-03T10:34:01.406Z"
   },
   {
    "duration": 2,
    "start_time": "2024-12-03T10:34:01.551Z"
   },
   {
    "duration": 38,
    "start_time": "2024-12-03T10:34:01.555Z"
   },
   {
    "duration": 29,
    "start_time": "2024-12-03T10:34:01.595Z"
   },
   {
    "duration": 33,
    "start_time": "2024-12-03T10:34:01.625Z"
   },
   {
    "duration": 14,
    "start_time": "2024-12-03T10:34:01.660Z"
   },
   {
    "duration": 30,
    "start_time": "2024-12-03T10:34:01.676Z"
   },
   {
    "duration": 41,
    "start_time": "2024-12-03T10:34:01.708Z"
   },
   {
    "duration": 3771,
    "start_time": "2024-12-03T10:34:01.750Z"
   },
   {
    "duration": 6974,
    "start_time": "2024-12-03T10:43:53.375Z"
   },
   {
    "duration": 178,
    "start_time": "2024-12-03T10:44:00.351Z"
   },
   {
    "duration": 61,
    "start_time": "2024-12-03T10:44:00.530Z"
   },
   {
    "duration": 7,
    "start_time": "2024-12-03T10:44:00.593Z"
   },
   {
    "duration": 15,
    "start_time": "2024-12-03T10:44:00.602Z"
   },
   {
    "duration": 24,
    "start_time": "2024-12-03T10:44:00.618Z"
   },
   {
    "duration": 26,
    "start_time": "2024-12-03T10:44:00.644Z"
   },
   {
    "duration": 33,
    "start_time": "2024-12-03T10:44:00.672Z"
   },
   {
    "duration": 84,
    "start_time": "2024-12-03T10:44:00.706Z"
   },
   {
    "duration": 8,
    "start_time": "2024-12-03T10:44:00.793Z"
   },
   {
    "duration": 462,
    "start_time": "2024-12-03T10:44:00.803Z"
   },
   {
    "duration": 436,
    "start_time": "2024-12-03T10:44:01.267Z"
   },
   {
    "duration": 392,
    "start_time": "2024-12-03T10:44:01.704Z"
   },
   {
    "duration": 390,
    "start_time": "2024-12-03T10:44:02.098Z"
   },
   {
    "duration": 258,
    "start_time": "2024-12-03T10:44:02.492Z"
   },
   {
    "duration": 154,
    "start_time": "2024-12-03T10:44:02.752Z"
   },
   {
    "duration": 151,
    "start_time": "2024-12-03T10:44:02.908Z"
   },
   {
    "duration": 147,
    "start_time": "2024-12-03T10:44:03.060Z"
   },
   {
    "duration": 148,
    "start_time": "2024-12-03T10:44:03.209Z"
   },
   {
    "duration": 3,
    "start_time": "2024-12-03T10:44:03.359Z"
   },
   {
    "duration": 20,
    "start_time": "2024-12-03T10:44:03.364Z"
   },
   {
    "duration": 16,
    "start_time": "2024-12-03T10:44:03.392Z"
   },
   {
    "duration": 30,
    "start_time": "2024-12-03T10:44:03.410Z"
   },
   {
    "duration": 17,
    "start_time": "2024-12-03T10:44:03.442Z"
   },
   {
    "duration": 32,
    "start_time": "2024-12-03T10:44:03.460Z"
   },
   {
    "duration": 47,
    "start_time": "2024-12-03T10:44:03.494Z"
   },
   {
    "duration": 4829,
    "start_time": "2024-12-03T10:44:03.543Z"
   },
   {
    "duration": 7481,
    "start_time": "2024-12-03T10:48:09.790Z"
   },
   {
    "duration": 151,
    "start_time": "2024-12-03T10:48:17.273Z"
   },
   {
    "duration": 69,
    "start_time": "2024-12-03T10:48:17.425Z"
   },
   {
    "duration": 6,
    "start_time": "2024-12-03T10:48:17.495Z"
   },
   {
    "duration": 7,
    "start_time": "2024-12-03T10:48:17.503Z"
   },
   {
    "duration": 18,
    "start_time": "2024-12-03T10:48:17.512Z"
   },
   {
    "duration": 27,
    "start_time": "2024-12-03T10:48:17.532Z"
   },
   {
    "duration": 48,
    "start_time": "2024-12-03T10:48:17.561Z"
   },
   {
    "duration": 44,
    "start_time": "2024-12-03T10:48:17.611Z"
   },
   {
    "duration": 9,
    "start_time": "2024-12-03T10:48:17.658Z"
   },
   {
    "duration": 434,
    "start_time": "2024-12-03T10:48:17.694Z"
   },
   {
    "duration": 500,
    "start_time": "2024-12-03T10:48:18.130Z"
   },
   {
    "duration": 436,
    "start_time": "2024-12-03T10:48:18.632Z"
   },
   {
    "duration": 412,
    "start_time": "2024-12-03T10:48:19.070Z"
   },
   {
    "duration": 260,
    "start_time": "2024-12-03T10:48:19.484Z"
   },
   {
    "duration": 150,
    "start_time": "2024-12-03T10:48:19.746Z"
   },
   {
    "duration": 154,
    "start_time": "2024-12-03T10:48:19.897Z"
   },
   {
    "duration": 144,
    "start_time": "2024-12-03T10:48:20.052Z"
   },
   {
    "duration": 159,
    "start_time": "2024-12-03T10:48:20.198Z"
   },
   {
    "duration": 3,
    "start_time": "2024-12-03T10:48:20.358Z"
   },
   {
    "duration": 17,
    "start_time": "2024-12-03T10:48:20.362Z"
   },
   {
    "duration": 14,
    "start_time": "2024-12-03T10:48:20.381Z"
   },
   {
    "duration": 8,
    "start_time": "2024-12-03T10:48:20.396Z"
   },
   {
    "duration": 4,
    "start_time": "2024-12-03T10:48:20.406Z"
   },
   {
    "duration": 15,
    "start_time": "2024-12-03T10:48:20.411Z"
   },
   {
    "duration": 28,
    "start_time": "2024-12-03T10:48:20.428Z"
   },
   {
    "duration": 4935,
    "start_time": "2024-12-03T10:48:20.457Z"
   },
   {
    "duration": 3,
    "start_time": "2024-12-03T10:49:19.277Z"
   },
   {
    "duration": 773,
    "start_time": "2024-12-03T10:49:20.320Z"
   },
   {
    "duration": 773,
    "start_time": "2024-12-03T10:50:02.319Z"
   },
   {
    "duration": 7,
    "start_time": "2024-12-03T10:53:07.793Z"
   },
   {
    "duration": 7088,
    "start_time": "2024-12-03T10:53:29.789Z"
   },
   {
    "duration": 159,
    "start_time": "2024-12-03T10:53:36.879Z"
   },
   {
    "duration": 55,
    "start_time": "2024-12-03T10:53:37.040Z"
   },
   {
    "duration": 5,
    "start_time": "2024-12-03T10:53:37.097Z"
   },
   {
    "duration": 13,
    "start_time": "2024-12-03T10:53:37.103Z"
   },
   {
    "duration": 21,
    "start_time": "2024-12-03T10:53:37.118Z"
   },
   {
    "duration": 21,
    "start_time": "2024-12-03T10:53:37.140Z"
   },
   {
    "duration": 33,
    "start_time": "2024-12-03T10:53:37.162Z"
   },
   {
    "duration": 42,
    "start_time": "2024-12-03T10:53:37.197Z"
   },
   {
    "duration": 8,
    "start_time": "2024-12-03T10:53:37.242Z"
   },
   {
    "duration": 425,
    "start_time": "2024-12-03T10:53:37.251Z"
   },
   {
    "duration": 431,
    "start_time": "2024-12-03T10:53:37.678Z"
   },
   {
    "duration": 404,
    "start_time": "2024-12-03T10:53:38.111Z"
   },
   {
    "duration": 390,
    "start_time": "2024-12-03T10:53:38.516Z"
   },
   {
    "duration": 250,
    "start_time": "2024-12-03T10:53:38.907Z"
   },
   {
    "duration": 140,
    "start_time": "2024-12-03T10:53:39.158Z"
   },
   {
    "duration": 148,
    "start_time": "2024-12-03T10:53:39.300Z"
   },
   {
    "duration": 138,
    "start_time": "2024-12-03T10:53:39.449Z"
   },
   {
    "duration": 133,
    "start_time": "2024-12-03T10:53:39.592Z"
   },
   {
    "duration": 3,
    "start_time": "2024-12-03T10:53:39.726Z"
   },
   {
    "duration": 10,
    "start_time": "2024-12-03T10:53:39.731Z"
   },
   {
    "duration": 6,
    "start_time": "2024-12-03T10:53:39.742Z"
   },
   {
    "duration": 6,
    "start_time": "2024-12-03T10:53:39.750Z"
   },
   {
    "duration": 5,
    "start_time": "2024-12-03T10:53:39.757Z"
   },
   {
    "duration": 29,
    "start_time": "2024-12-03T10:53:39.764Z"
   },
   {
    "duration": 14,
    "start_time": "2024-12-03T10:53:39.795Z"
   },
   {
    "duration": 937,
    "start_time": "2024-12-03T10:53:39.810Z"
   },
   {
    "duration": 6909,
    "start_time": "2024-12-03T10:54:08.413Z"
   },
   {
    "duration": 177,
    "start_time": "2024-12-03T10:54:15.324Z"
   },
   {
    "duration": 54,
    "start_time": "2024-12-03T10:54:15.503Z"
   },
   {
    "duration": 5,
    "start_time": "2024-12-03T10:54:15.559Z"
   },
   {
    "duration": 31,
    "start_time": "2024-12-03T10:54:15.566Z"
   },
   {
    "duration": 7,
    "start_time": "2024-12-03T10:54:15.599Z"
   },
   {
    "duration": 42,
    "start_time": "2024-12-03T10:54:15.608Z"
   },
   {
    "duration": 27,
    "start_time": "2024-12-03T10:54:15.652Z"
   },
   {
    "duration": 39,
    "start_time": "2024-12-03T10:54:15.680Z"
   },
   {
    "duration": 8,
    "start_time": "2024-12-03T10:54:15.722Z"
   },
   {
    "duration": 529,
    "start_time": "2024-12-03T10:54:15.731Z"
   },
   {
    "duration": 425,
    "start_time": "2024-12-03T10:54:16.261Z"
   },
   {
    "duration": 363,
    "start_time": "2024-12-03T10:54:16.692Z"
   },
   {
    "duration": 406,
    "start_time": "2024-12-03T10:54:17.056Z"
   },
   {
    "duration": 255,
    "start_time": "2024-12-03T10:54:17.464Z"
   },
   {
    "duration": 144,
    "start_time": "2024-12-03T10:54:17.721Z"
   },
   {
    "duration": 152,
    "start_time": "2024-12-03T10:54:17.866Z"
   },
   {
    "duration": 136,
    "start_time": "2024-12-03T10:54:18.019Z"
   },
   {
    "duration": 160,
    "start_time": "2024-12-03T10:54:18.156Z"
   },
   {
    "duration": 2,
    "start_time": "2024-12-03T10:54:18.318Z"
   },
   {
    "duration": 74,
    "start_time": "2024-12-03T10:54:18.322Z"
   },
   {
    "duration": 19,
    "start_time": "2024-12-03T10:54:18.398Z"
   },
   {
    "duration": 5,
    "start_time": "2024-12-03T10:54:18.418Z"
   },
   {
    "duration": 20,
    "start_time": "2024-12-03T10:54:18.425Z"
   },
   {
    "duration": 4,
    "start_time": "2024-12-03T10:54:18.447Z"
   },
   {
    "duration": 8,
    "start_time": "2024-12-03T10:54:18.452Z"
   },
   {
    "duration": 11,
    "start_time": "2024-12-03T10:54:18.461Z"
   },
   {
    "duration": 900,
    "start_time": "2024-12-03T10:54:18.475Z"
   },
   {
    "duration": 6986,
    "start_time": "2024-12-03T10:56:11.173Z"
   },
   {
    "duration": 157,
    "start_time": "2024-12-03T10:56:18.161Z"
   },
   {
    "duration": 55,
    "start_time": "2024-12-03T10:56:18.319Z"
   },
   {
    "duration": 6,
    "start_time": "2024-12-03T10:56:18.375Z"
   },
   {
    "duration": 8,
    "start_time": "2024-12-03T10:56:18.391Z"
   },
   {
    "duration": 8,
    "start_time": "2024-12-03T10:56:18.400Z"
   },
   {
    "duration": 21,
    "start_time": "2024-12-03T10:56:18.409Z"
   },
   {
    "duration": 26,
    "start_time": "2024-12-03T10:56:18.431Z"
   },
   {
    "duration": 73,
    "start_time": "2024-12-03T10:56:18.458Z"
   },
   {
    "duration": 8,
    "start_time": "2024-12-03T10:56:18.532Z"
   },
   {
    "duration": 434,
    "start_time": "2024-12-03T10:56:18.542Z"
   },
   {
    "duration": 433,
    "start_time": "2024-12-03T10:56:18.977Z"
   },
   {
    "duration": 387,
    "start_time": "2024-12-03T10:56:19.412Z"
   },
   {
    "duration": 393,
    "start_time": "2024-12-03T10:56:19.801Z"
   },
   {
    "duration": 243,
    "start_time": "2024-12-03T10:56:20.195Z"
   },
   {
    "duration": 144,
    "start_time": "2024-12-03T10:56:20.439Z"
   },
   {
    "duration": 153,
    "start_time": "2024-12-03T10:56:20.584Z"
   },
   {
    "duration": 133,
    "start_time": "2024-12-03T10:56:20.738Z"
   },
   {
    "duration": 131,
    "start_time": "2024-12-03T10:56:20.872Z"
   },
   {
    "duration": 6,
    "start_time": "2024-12-03T10:56:21.004Z"
   },
   {
    "duration": 7,
    "start_time": "2024-12-03T10:56:21.012Z"
   },
   {
    "duration": 6,
    "start_time": "2024-12-03T10:56:21.020Z"
   },
   {
    "duration": 11,
    "start_time": "2024-12-03T10:56:21.027Z"
   },
   {
    "duration": 32,
    "start_time": "2024-12-03T10:56:21.039Z"
   },
   {
    "duration": 17,
    "start_time": "2024-12-03T10:56:21.072Z"
   },
   {
    "duration": 11,
    "start_time": "2024-12-03T10:56:21.091Z"
   },
   {
    "duration": 920,
    "start_time": "2024-12-03T10:56:21.104Z"
   },
   {
    "duration": 6880,
    "start_time": "2024-12-03T11:01:09.777Z"
   },
   {
    "duration": 149,
    "start_time": "2024-12-03T11:01:16.659Z"
   },
   {
    "duration": 56,
    "start_time": "2024-12-03T11:01:16.809Z"
   },
   {
    "duration": 5,
    "start_time": "2024-12-03T11:01:16.866Z"
   },
   {
    "duration": 23,
    "start_time": "2024-12-03T11:01:16.874Z"
   },
   {
    "duration": 8,
    "start_time": "2024-12-03T11:01:16.898Z"
   },
   {
    "duration": 21,
    "start_time": "2024-12-03T11:01:16.908Z"
   },
   {
    "duration": 27,
    "start_time": "2024-12-03T11:01:16.931Z"
   },
   {
    "duration": 72,
    "start_time": "2024-12-03T11:01:16.960Z"
   },
   {
    "duration": 8,
    "start_time": "2024-12-03T11:01:17.034Z"
   },
   {
    "duration": 427,
    "start_time": "2024-12-03T11:01:17.044Z"
   },
   {
    "duration": 428,
    "start_time": "2024-12-03T11:01:17.473Z"
   },
   {
    "duration": 396,
    "start_time": "2024-12-03T11:01:17.903Z"
   },
   {
    "duration": 382,
    "start_time": "2024-12-03T11:01:18.302Z"
   },
   {
    "duration": 237,
    "start_time": "2024-12-03T11:01:18.692Z"
   },
   {
    "duration": 133,
    "start_time": "2024-12-03T11:01:18.930Z"
   },
   {
    "duration": 138,
    "start_time": "2024-12-03T11:01:19.065Z"
   },
   {
    "duration": 136,
    "start_time": "2024-12-03T11:01:19.205Z"
   },
   {
    "duration": 135,
    "start_time": "2024-12-03T11:01:19.343Z"
   },
   {
    "duration": 16,
    "start_time": "2024-12-03T11:01:19.480Z"
   },
   {
    "duration": 3,
    "start_time": "2024-12-03T11:01:19.498Z"
   },
   {
    "duration": 5,
    "start_time": "2024-12-03T11:01:19.502Z"
   },
   {
    "duration": 17,
    "start_time": "2024-12-03T11:01:19.509Z"
   },
   {
    "duration": 22,
    "start_time": "2024-12-03T11:01:19.528Z"
   },
   {
    "duration": 11,
    "start_time": "2024-12-03T11:01:19.551Z"
   },
   {
    "duration": 7,
    "start_time": "2024-12-03T11:01:19.563Z"
   },
   {
    "duration": 944,
    "start_time": "2024-12-03T11:01:19.572Z"
   },
   {
    "duration": 6937,
    "start_time": "2024-12-03T11:02:39.174Z"
   },
   {
    "duration": 186,
    "start_time": "2024-12-03T11:02:46.114Z"
   },
   {
    "duration": 54,
    "start_time": "2024-12-03T11:02:46.301Z"
   },
   {
    "duration": 5,
    "start_time": "2024-12-03T11:02:46.357Z"
   },
   {
    "duration": 33,
    "start_time": "2024-12-03T11:02:46.364Z"
   },
   {
    "duration": 17,
    "start_time": "2024-12-03T11:02:46.398Z"
   },
   {
    "duration": 24,
    "start_time": "2024-12-03T11:02:46.417Z"
   },
   {
    "duration": 25,
    "start_time": "2024-12-03T11:02:46.443Z"
   },
   {
    "duration": 52,
    "start_time": "2024-12-03T11:02:46.469Z"
   },
   {
    "duration": 8,
    "start_time": "2024-12-03T11:02:46.522Z"
   },
   {
    "duration": 431,
    "start_time": "2024-12-03T11:02:46.532Z"
   },
   {
    "duration": 427,
    "start_time": "2024-12-03T11:02:46.965Z"
   },
   {
    "duration": 378,
    "start_time": "2024-12-03T11:02:47.394Z"
   },
   {
    "duration": 424,
    "start_time": "2024-12-03T11:02:47.774Z"
   },
   {
    "duration": 267,
    "start_time": "2024-12-03T11:02:48.201Z"
   },
   {
    "duration": 144,
    "start_time": "2024-12-03T11:02:48.469Z"
   },
   {
    "duration": 151,
    "start_time": "2024-12-03T11:02:48.615Z"
   },
   {
    "duration": 149,
    "start_time": "2024-12-03T11:02:48.767Z"
   },
   {
    "duration": 149,
    "start_time": "2024-12-03T11:02:48.918Z"
   },
   {
    "duration": 7,
    "start_time": "2024-12-03T11:02:49.068Z"
   },
   {
    "duration": 5,
    "start_time": "2024-12-03T11:02:49.076Z"
   },
   {
    "duration": 6,
    "start_time": "2024-12-03T11:02:49.092Z"
   },
   {
    "duration": 7,
    "start_time": "2024-12-03T11:02:49.099Z"
   },
   {
    "duration": 23,
    "start_time": "2024-12-03T11:02:49.108Z"
   },
   {
    "duration": 8,
    "start_time": "2024-12-03T11:02:49.133Z"
   },
   {
    "duration": 6,
    "start_time": "2024-12-03T11:02:49.142Z"
   },
   {
    "duration": 1008,
    "start_time": "2024-12-03T11:02:49.149Z"
   },
   {
    "duration": 4,
    "start_time": "2024-12-03T11:46:10.465Z"
   },
   {
    "duration": 7238,
    "start_time": "2024-12-03T11:46:14.717Z"
   },
   {
    "duration": 133,
    "start_time": "2024-12-03T11:46:21.957Z"
   },
   {
    "duration": 50,
    "start_time": "2024-12-03T11:46:22.092Z"
   },
   {
    "duration": 19,
    "start_time": "2024-12-03T11:46:22.144Z"
   },
   {
    "duration": 7,
    "start_time": "2024-12-03T11:46:22.165Z"
   },
   {
    "duration": 23,
    "start_time": "2024-12-03T11:46:22.174Z"
   },
   {
    "duration": 38,
    "start_time": "2024-12-03T11:46:22.199Z"
   },
   {
    "duration": 26,
    "start_time": "2024-12-03T11:46:22.239Z"
   },
   {
    "duration": 54,
    "start_time": "2024-12-03T11:46:22.267Z"
   },
   {
    "duration": 9,
    "start_time": "2024-12-03T11:46:22.323Z"
   },
   {
    "duration": 420,
    "start_time": "2024-12-03T11:46:22.333Z"
   },
   {
    "duration": 423,
    "start_time": "2024-12-03T11:46:22.754Z"
   },
   {
    "duration": 364,
    "start_time": "2024-12-03T11:46:23.178Z"
   },
   {
    "duration": 405,
    "start_time": "2024-12-03T11:46:23.544Z"
   },
   {
    "duration": 249,
    "start_time": "2024-12-03T11:46:23.950Z"
   },
   {
    "duration": 145,
    "start_time": "2024-12-03T11:46:24.200Z"
   },
   {
    "duration": 142,
    "start_time": "2024-12-03T11:46:24.346Z"
   },
   {
    "duration": 132,
    "start_time": "2024-12-03T11:46:24.492Z"
   },
   {
    "duration": 126,
    "start_time": "2024-12-03T11:46:24.626Z"
   },
   {
    "duration": 6,
    "start_time": "2024-12-03T11:46:24.753Z"
   },
   {
    "duration": 4,
    "start_time": "2024-12-03T11:46:24.760Z"
   },
   {
    "duration": 5,
    "start_time": "2024-12-03T11:46:24.766Z"
   },
   {
    "duration": 153,
    "start_time": "2024-12-03T11:46:24.773Z"
   },
   {
    "duration": 0,
    "start_time": "2024-12-03T11:46:24.928Z"
   },
   {
    "duration": 0,
    "start_time": "2024-12-03T11:46:24.929Z"
   },
   {
    "duration": 0,
    "start_time": "2024-12-03T11:46:24.930Z"
   },
   {
    "duration": 0,
    "start_time": "2024-12-03T11:46:24.931Z"
   },
   {
    "duration": 3,
    "start_time": "2024-12-03T11:46:55.806Z"
   },
   {
    "duration": 3,
    "start_time": "2024-12-03T11:46:57.042Z"
   },
   {
    "duration": 4,
    "start_time": "2024-12-03T11:46:57.965Z"
   },
   {
    "duration": 3,
    "start_time": "2024-12-03T11:46:58.885Z"
   },
   {
    "duration": 807,
    "start_time": "2024-12-03T11:47:00.128Z"
   },
   {
    "duration": 9,
    "start_time": "2024-12-03T11:49:04.967Z"
   },
   {
    "duration": 11,
    "start_time": "2024-12-03T11:49:10.205Z"
   },
   {
    "duration": 4,
    "start_time": "2024-12-03T11:49:10.676Z"
   },
   {
    "duration": 3,
    "start_time": "2024-12-03T11:49:15.627Z"
   },
   {
    "duration": 3,
    "start_time": "2024-12-03T11:49:16.243Z"
   },
   {
    "duration": 828,
    "start_time": "2024-12-03T11:49:17.234Z"
   },
   {
    "duration": 3,
    "start_time": "2024-12-03T11:49:35.087Z"
   },
   {
    "duration": 792,
    "start_time": "2024-12-03T11:49:35.527Z"
   },
   {
    "duration": 6914,
    "start_time": "2024-12-03T11:49:41.036Z"
   },
   {
    "duration": 149,
    "start_time": "2024-12-03T11:49:47.952Z"
   },
   {
    "duration": 55,
    "start_time": "2024-12-03T11:49:48.103Z"
   },
   {
    "duration": 5,
    "start_time": "2024-12-03T11:49:48.161Z"
   },
   {
    "duration": 32,
    "start_time": "2024-12-03T11:49:48.168Z"
   },
   {
    "duration": 12,
    "start_time": "2024-12-03T11:49:48.203Z"
   },
   {
    "duration": 31,
    "start_time": "2024-12-03T11:49:48.217Z"
   },
   {
    "duration": 57,
    "start_time": "2024-12-03T11:49:48.251Z"
   },
   {
    "duration": 41,
    "start_time": "2024-12-03T11:49:48.309Z"
   },
   {
    "duration": 8,
    "start_time": "2024-12-03T11:49:48.353Z"
   },
   {
    "duration": 440,
    "start_time": "2024-12-03T11:49:48.362Z"
   },
   {
    "duration": 450,
    "start_time": "2024-12-03T11:49:48.804Z"
   },
   {
    "duration": 391,
    "start_time": "2024-12-03T11:49:49.256Z"
   },
   {
    "duration": 405,
    "start_time": "2024-12-03T11:49:49.649Z"
   },
   {
    "duration": 261,
    "start_time": "2024-12-03T11:49:50.056Z"
   },
   {
    "duration": 150,
    "start_time": "2024-12-03T11:49:50.319Z"
   },
   {
    "duration": 153,
    "start_time": "2024-12-03T11:49:50.470Z"
   },
   {
    "duration": 186,
    "start_time": "2024-12-03T11:49:50.624Z"
   },
   {
    "duration": 174,
    "start_time": "2024-12-03T11:49:50.812Z"
   },
   {
    "duration": 7,
    "start_time": "2024-12-03T11:49:50.992Z"
   },
   {
    "duration": 5,
    "start_time": "2024-12-03T11:49:51.001Z"
   },
   {
    "duration": 11,
    "start_time": "2024-12-03T11:49:51.007Z"
   },
   {
    "duration": 13,
    "start_time": "2024-12-03T11:49:51.019Z"
   },
   {
    "duration": 20,
    "start_time": "2024-12-03T11:49:51.033Z"
   },
   {
    "duration": 13,
    "start_time": "2024-12-03T11:49:51.054Z"
   },
   {
    "duration": 12,
    "start_time": "2024-12-03T11:49:51.068Z"
   },
   {
    "duration": 957,
    "start_time": "2024-12-03T11:49:51.081Z"
   },
   {
    "duration": 3,
    "start_time": "2024-12-03T11:53:41.689Z"
   },
   {
    "duration": 4,
    "start_time": "2024-12-03T11:53:42.193Z"
   },
   {
    "duration": 3,
    "start_time": "2024-12-03T11:53:42.665Z"
   },
   {
    "duration": 3,
    "start_time": "2024-12-03T11:53:43.173Z"
   },
   {
    "duration": 851,
    "start_time": "2024-12-03T11:53:43.668Z"
   },
   {
    "duration": 7240,
    "start_time": "2024-12-03T11:58:15.583Z"
   },
   {
    "duration": 149,
    "start_time": "2024-12-03T11:58:22.825Z"
   },
   {
    "duration": 57,
    "start_time": "2024-12-03T11:58:22.976Z"
   },
   {
    "duration": 5,
    "start_time": "2024-12-03T11:58:23.036Z"
   },
   {
    "duration": 12,
    "start_time": "2024-12-03T11:58:23.043Z"
   },
   {
    "duration": 37,
    "start_time": "2024-12-03T11:58:23.057Z"
   },
   {
    "duration": 21,
    "start_time": "2024-12-03T11:58:23.096Z"
   },
   {
    "duration": 26,
    "start_time": "2024-12-03T11:58:23.119Z"
   },
   {
    "duration": 72,
    "start_time": "2024-12-03T11:58:23.147Z"
   },
   {
    "duration": 8,
    "start_time": "2024-12-03T11:58:23.223Z"
   },
   {
    "duration": 445,
    "start_time": "2024-12-03T11:58:23.232Z"
   },
   {
    "duration": 415,
    "start_time": "2024-12-03T11:58:23.679Z"
   },
   {
    "duration": 389,
    "start_time": "2024-12-03T11:58:24.095Z"
   },
   {
    "duration": 370,
    "start_time": "2024-12-03T11:58:24.491Z"
   },
   {
    "duration": 268,
    "start_time": "2024-12-03T11:58:24.862Z"
   },
   {
    "duration": 147,
    "start_time": "2024-12-03T11:58:25.132Z"
   },
   {
    "duration": 148,
    "start_time": "2024-12-03T11:58:25.280Z"
   },
   {
    "duration": 141,
    "start_time": "2024-12-03T11:58:25.429Z"
   },
   {
    "duration": 131,
    "start_time": "2024-12-03T11:58:25.572Z"
   },
   {
    "duration": 6,
    "start_time": "2024-12-03T11:58:25.704Z"
   },
   {
    "duration": 6,
    "start_time": "2024-12-03T11:58:25.712Z"
   },
   {
    "duration": 6,
    "start_time": "2024-12-03T11:58:25.719Z"
   },
   {
    "duration": 16,
    "start_time": "2024-12-03T11:58:25.726Z"
   },
   {
    "duration": 8,
    "start_time": "2024-12-03T11:58:25.743Z"
   },
   {
    "duration": 9,
    "start_time": "2024-12-03T11:58:25.753Z"
   },
   {
    "duration": 8,
    "start_time": "2024-12-03T11:58:25.763Z"
   },
   {
    "duration": 984,
    "start_time": "2024-12-03T11:58:25.773Z"
   },
   {
    "duration": 18,
    "start_time": "2024-12-03T11:59:05.690Z"
   },
   {
    "duration": 18,
    "start_time": "2024-12-03T11:59:45.370Z"
   },
   {
    "duration": 16,
    "start_time": "2024-12-03T12:00:05.481Z"
   },
   {
    "duration": 807,
    "start_time": "2024-12-03T12:00:27.596Z"
   },
   {
    "duration": 6881,
    "start_time": "2024-12-03T12:00:46.073Z"
   },
   {
    "duration": 221,
    "start_time": "2024-12-03T12:00:52.957Z"
   },
   {
    "duration": 51,
    "start_time": "2024-12-03T12:00:53.180Z"
   },
   {
    "duration": 5,
    "start_time": "2024-12-03T12:00:53.233Z"
   },
   {
    "duration": 8,
    "start_time": "2024-12-03T12:00:53.240Z"
   },
   {
    "duration": 7,
    "start_time": "2024-12-03T12:00:53.250Z"
   },
   {
    "duration": 49,
    "start_time": "2024-12-03T12:00:53.259Z"
   },
   {
    "duration": 24,
    "start_time": "2024-12-03T12:00:53.310Z"
   },
   {
    "duration": 59,
    "start_time": "2024-12-03T12:00:53.336Z"
   },
   {
    "duration": 8,
    "start_time": "2024-12-03T12:00:53.396Z"
   },
   {
    "duration": 407,
    "start_time": "2024-12-03T12:00:53.405Z"
   },
   {
    "duration": 467,
    "start_time": "2024-12-03T12:00:53.813Z"
   },
   {
    "duration": 374,
    "start_time": "2024-12-03T12:00:54.282Z"
   },
   {
    "duration": 405,
    "start_time": "2024-12-03T12:00:54.659Z"
   },
   {
    "duration": 264,
    "start_time": "2024-12-03T12:00:55.066Z"
   },
   {
    "duration": 144,
    "start_time": "2024-12-03T12:00:55.332Z"
   },
   {
    "duration": 146,
    "start_time": "2024-12-03T12:00:55.477Z"
   },
   {
    "duration": 135,
    "start_time": "2024-12-03T12:00:55.624Z"
   },
   {
    "duration": 132,
    "start_time": "2024-12-03T12:00:55.761Z"
   },
   {
    "duration": 5,
    "start_time": "2024-12-03T12:00:55.895Z"
   },
   {
    "duration": 17,
    "start_time": "2024-12-03T12:00:55.902Z"
   },
   {
    "duration": 2,
    "start_time": "2024-12-03T12:00:55.921Z"
   },
   {
    "duration": 7,
    "start_time": "2024-12-03T12:00:55.925Z"
   },
   {
    "duration": 4,
    "start_time": "2024-12-03T12:00:55.933Z"
   },
   {
    "duration": 3,
    "start_time": "2024-12-03T12:00:55.939Z"
   },
   {
    "duration": 4,
    "start_time": "2024-12-03T12:00:55.944Z"
   },
   {
    "duration": 2,
    "start_time": "2024-12-03T12:00:55.949Z"
   },
   {
    "duration": 968,
    "start_time": "2024-12-03T12:00:55.953Z"
   },
   {
    "duration": 6,
    "start_time": "2024-12-03T12:01:38.344Z"
   },
   {
    "duration": 6,
    "start_time": "2024-12-03T12:01:42.641Z"
   },
   {
    "duration": 17,
    "start_time": "2024-12-03T12:01:42.948Z"
   },
   {
    "duration": 3,
    "start_time": "2024-12-03T12:01:43.521Z"
   },
   {
    "duration": 5,
    "start_time": "2024-12-03T12:01:44.120Z"
   },
   {
    "duration": 3,
    "start_time": "2024-12-03T12:01:44.642Z"
   },
   {
    "duration": 4,
    "start_time": "2024-12-03T12:01:44.790Z"
   },
   {
    "duration": 4,
    "start_time": "2024-12-03T12:01:44.990Z"
   },
   {
    "duration": 3,
    "start_time": "2024-12-03T12:01:45.131Z"
   },
   {
    "duration": 845,
    "start_time": "2024-12-03T12:01:45.325Z"
   },
   {
    "duration": 15,
    "start_time": "2024-12-03T12:02:02.157Z"
   },
   {
    "duration": 6,
    "start_time": "2024-12-03T12:02:19.212Z"
   },
   {
    "duration": 13,
    "start_time": "2024-12-03T12:02:19.664Z"
   },
   {
    "duration": 25,
    "start_time": "2024-12-03T12:02:26.936Z"
   },
   {
    "duration": 3,
    "start_time": "2024-12-03T12:02:30.413Z"
   },
   {
    "duration": 5,
    "start_time": "2024-12-03T12:02:32.303Z"
   },
   {
    "duration": 2,
    "start_time": "2024-12-03T12:02:32.715Z"
   },
   {
    "duration": 3,
    "start_time": "2024-12-03T12:02:32.908Z"
   },
   {
    "duration": 3,
    "start_time": "2024-12-03T12:02:33.096Z"
   },
   {
    "duration": 3,
    "start_time": "2024-12-03T12:02:33.249Z"
   },
   {
    "duration": 827,
    "start_time": "2024-12-03T12:02:33.444Z"
   },
   {
    "duration": 13128,
    "start_time": "2024-12-03T12:38:24.597Z"
   },
   {
    "duration": 348,
    "start_time": "2024-12-03T12:38:37.727Z"
   },
   {
    "duration": 55,
    "start_time": "2024-12-03T12:38:38.076Z"
   },
   {
    "duration": 5,
    "start_time": "2024-12-03T12:38:38.132Z"
   },
   {
    "duration": 11,
    "start_time": "2024-12-03T12:38:38.140Z"
   },
   {
    "duration": 9,
    "start_time": "2024-12-03T12:38:38.152Z"
   },
   {
    "duration": 52,
    "start_time": "2024-12-03T12:38:38.162Z"
   },
   {
    "duration": 30,
    "start_time": "2024-12-03T12:38:38.217Z"
   },
   {
    "duration": 67,
    "start_time": "2024-12-03T12:38:38.248Z"
   },
   {
    "duration": 9,
    "start_time": "2024-12-03T12:38:38.317Z"
   },
   {
    "duration": 473,
    "start_time": "2024-12-03T12:38:38.328Z"
   },
   {
    "duration": 418,
    "start_time": "2024-12-03T12:38:38.803Z"
   },
   {
    "duration": 410,
    "start_time": "2024-12-03T12:38:39.223Z"
   },
   {
    "duration": 416,
    "start_time": "2024-12-03T12:38:39.636Z"
   },
   {
    "duration": 266,
    "start_time": "2024-12-03T12:38:40.054Z"
   },
   {
    "duration": 150,
    "start_time": "2024-12-03T12:38:40.322Z"
   },
   {
    "duration": 150,
    "start_time": "2024-12-03T12:38:40.474Z"
   },
   {
    "duration": 151,
    "start_time": "2024-12-03T12:38:40.626Z"
   },
   {
    "duration": 137,
    "start_time": "2024-12-03T12:38:40.778Z"
   },
   {
    "duration": 7,
    "start_time": "2024-12-03T12:38:40.918Z"
   },
   {
    "duration": 18,
    "start_time": "2024-12-03T12:38:40.926Z"
   },
   {
    "duration": 3,
    "start_time": "2024-12-03T12:38:40.946Z"
   },
   {
    "duration": 43,
    "start_time": "2024-12-03T12:38:40.951Z"
   },
   {
    "duration": 5,
    "start_time": "2024-12-03T12:38:40.996Z"
   },
   {
    "duration": 5,
    "start_time": "2024-12-03T12:38:41.002Z"
   },
   {
    "duration": 4,
    "start_time": "2024-12-03T12:38:41.009Z"
   },
   {
    "duration": 5,
    "start_time": "2024-12-03T12:38:41.015Z"
   },
   {
    "duration": 2003,
    "start_time": "2024-12-03T12:38:41.022Z"
   },
   {
    "duration": 10131,
    "start_time": "2024-12-03T12:40:02.839Z"
   },
   {
    "duration": 177,
    "start_time": "2024-12-03T12:40:12.972Z"
   },
   {
    "duration": 54,
    "start_time": "2024-12-03T12:40:13.150Z"
   },
   {
    "duration": 5,
    "start_time": "2024-12-03T12:40:13.205Z"
   },
   {
    "duration": 9,
    "start_time": "2024-12-03T12:40:13.212Z"
   },
   {
    "duration": 7,
    "start_time": "2024-12-03T12:40:13.223Z"
   },
   {
    "duration": 20,
    "start_time": "2024-12-03T12:40:13.232Z"
   },
   {
    "duration": 55,
    "start_time": "2024-12-03T12:40:13.253Z"
   },
   {
    "duration": 40,
    "start_time": "2024-12-03T12:40:13.309Z"
   },
   {
    "duration": 9,
    "start_time": "2024-12-03T12:40:13.351Z"
   },
   {
    "duration": 434,
    "start_time": "2024-12-03T12:40:13.361Z"
   },
   {
    "duration": 426,
    "start_time": "2024-12-03T12:40:13.797Z"
   },
   {
    "duration": 407,
    "start_time": "2024-12-03T12:40:14.225Z"
   },
   {
    "duration": 420,
    "start_time": "2024-12-03T12:40:14.635Z"
   },
   {
    "duration": 283,
    "start_time": "2024-12-03T12:40:15.057Z"
   },
   {
    "duration": 150,
    "start_time": "2024-12-03T12:40:15.342Z"
   },
   {
    "duration": 144,
    "start_time": "2024-12-03T12:40:15.494Z"
   },
   {
    "duration": 141,
    "start_time": "2024-12-03T12:40:15.640Z"
   },
   {
    "duration": 134,
    "start_time": "2024-12-03T12:40:15.783Z"
   },
   {
    "duration": 7,
    "start_time": "2024-12-03T12:40:15.919Z"
   },
   {
    "duration": 18,
    "start_time": "2024-12-03T12:40:15.927Z"
   },
   {
    "duration": 8,
    "start_time": "2024-12-03T12:40:15.946Z"
   },
   {
    "duration": 12,
    "start_time": "2024-12-03T12:40:15.955Z"
   },
   {
    "duration": 23,
    "start_time": "2024-12-03T12:40:15.969Z"
   },
   {
    "duration": 4,
    "start_time": "2024-12-03T12:40:15.994Z"
   },
   {
    "duration": 6,
    "start_time": "2024-12-03T12:40:15.999Z"
   },
   {
    "duration": 7,
    "start_time": "2024-12-03T12:40:16.006Z"
   },
   {
    "duration": 1989,
    "start_time": "2024-12-03T12:40:16.015Z"
   },
   {
    "duration": 9895,
    "start_time": "2024-12-03T12:53:29.043Z"
   },
   {
    "duration": 185,
    "start_time": "2024-12-03T12:53:38.941Z"
   },
   {
    "duration": 53,
    "start_time": "2024-12-03T12:53:39.128Z"
   },
   {
    "duration": 5,
    "start_time": "2024-12-03T12:53:39.182Z"
   },
   {
    "duration": 9,
    "start_time": "2024-12-03T12:53:39.190Z"
   },
   {
    "duration": 8,
    "start_time": "2024-12-03T12:53:39.200Z"
   },
   {
    "duration": 19,
    "start_time": "2024-12-03T12:53:39.209Z"
   },
   {
    "duration": 37,
    "start_time": "2024-12-03T12:53:39.230Z"
   },
   {
    "duration": 64,
    "start_time": "2024-12-03T12:53:39.269Z"
   },
   {
    "duration": 10,
    "start_time": "2024-12-03T12:53:39.335Z"
   },
   {
    "duration": 428,
    "start_time": "2024-12-03T12:53:39.346Z"
   },
   {
    "duration": 424,
    "start_time": "2024-12-03T12:53:39.775Z"
   },
   {
    "duration": 365,
    "start_time": "2024-12-03T12:53:40.201Z"
   },
   {
    "duration": 409,
    "start_time": "2024-12-03T12:53:40.570Z"
   },
   {
    "duration": 256,
    "start_time": "2024-12-03T12:53:40.981Z"
   },
   {
    "duration": 156,
    "start_time": "2024-12-03T12:53:41.239Z"
   },
   {
    "duration": 147,
    "start_time": "2024-12-03T12:53:41.397Z"
   },
   {
    "duration": 142,
    "start_time": "2024-12-03T12:53:41.546Z"
   },
   {
    "duration": 145,
    "start_time": "2024-12-03T12:53:41.692Z"
   },
   {
    "duration": 7,
    "start_time": "2024-12-03T12:53:41.839Z"
   },
   {
    "duration": 16,
    "start_time": "2024-12-03T12:53:41.848Z"
   },
   {
    "duration": 26,
    "start_time": "2024-12-03T12:53:41.866Z"
   },
   {
    "duration": 7,
    "start_time": "2024-12-03T12:53:41.894Z"
   },
   {
    "duration": 8,
    "start_time": "2024-12-03T12:53:41.902Z"
   },
   {
    "duration": 5,
    "start_time": "2024-12-03T12:53:41.912Z"
   },
   {
    "duration": 6,
    "start_time": "2024-12-03T12:53:41.918Z"
   },
   {
    "duration": 4,
    "start_time": "2024-12-03T12:53:41.925Z"
   },
   {
    "duration": 2200,
    "start_time": "2024-12-03T12:53:41.930Z"
   },
   {
    "duration": 10186,
    "start_time": "2024-12-03T12:56:01.052Z"
   },
   {
    "duration": 158,
    "start_time": "2024-12-03T12:56:11.240Z"
   },
   {
    "duration": 53,
    "start_time": "2024-12-03T12:56:11.400Z"
   },
   {
    "duration": 5,
    "start_time": "2024-12-03T12:56:11.454Z"
   },
   {
    "duration": 32,
    "start_time": "2024-12-03T12:56:11.461Z"
   },
   {
    "duration": 7,
    "start_time": "2024-12-03T12:56:11.495Z"
   },
   {
    "duration": 20,
    "start_time": "2024-12-03T12:56:11.503Z"
   },
   {
    "duration": 24,
    "start_time": "2024-12-03T12:56:11.524Z"
   },
   {
    "duration": 67,
    "start_time": "2024-12-03T12:56:11.549Z"
   },
   {
    "duration": 8,
    "start_time": "2024-12-03T12:56:11.617Z"
   },
   {
    "duration": 421,
    "start_time": "2024-12-03T12:56:11.627Z"
   },
   {
    "duration": 447,
    "start_time": "2024-12-03T12:56:12.049Z"
   },
   {
    "duration": 351,
    "start_time": "2024-12-03T12:56:12.497Z"
   },
   {
    "duration": 409,
    "start_time": "2024-12-03T12:56:12.850Z"
   },
   {
    "duration": 242,
    "start_time": "2024-12-03T12:56:13.260Z"
   },
   {
    "duration": 146,
    "start_time": "2024-12-03T12:56:13.504Z"
   },
   {
    "duration": 146,
    "start_time": "2024-12-03T12:56:13.652Z"
   },
   {
    "duration": 135,
    "start_time": "2024-12-03T12:56:13.800Z"
   },
   {
    "duration": 141,
    "start_time": "2024-12-03T12:56:13.936Z"
   },
   {
    "duration": 13,
    "start_time": "2024-12-03T12:56:14.079Z"
   },
   {
    "duration": 18,
    "start_time": "2024-12-03T12:56:14.093Z"
   },
   {
    "duration": 3,
    "start_time": "2024-12-03T12:56:14.113Z"
   },
   {
    "duration": 7,
    "start_time": "2024-12-03T12:56:14.117Z"
   },
   {
    "duration": 4,
    "start_time": "2024-12-03T12:56:14.126Z"
   },
   {
    "duration": 4,
    "start_time": "2024-12-03T12:56:14.131Z"
   },
   {
    "duration": 30,
    "start_time": "2024-12-03T12:56:14.136Z"
   },
   {
    "duration": 24,
    "start_time": "2024-12-03T12:56:14.168Z"
   },
   {
    "duration": 3009,
    "start_time": "2024-12-03T12:56:14.194Z"
   },
   {
    "duration": 7,
    "start_time": "2024-12-03T12:57:24.954Z"
   },
   {
    "duration": 2062,
    "start_time": "2024-12-03T12:57:48.521Z"
   },
   {
    "duration": 1976,
    "start_time": "2024-12-03T13:03:13.571Z"
   },
   {
    "duration": 18328,
    "start_time": "2024-12-04T10:22:01.324Z"
   },
   {
    "duration": 297,
    "start_time": "2024-12-04T10:22:19.654Z"
   },
   {
    "duration": 74,
    "start_time": "2024-12-04T10:22:19.953Z"
   },
   {
    "duration": 6,
    "start_time": "2024-12-04T10:22:20.029Z"
   },
   {
    "duration": 29,
    "start_time": "2024-12-04T10:22:20.037Z"
   },
   {
    "duration": 12,
    "start_time": "2024-12-04T10:22:20.072Z"
   },
   {
    "duration": 20,
    "start_time": "2024-12-04T10:22:20.087Z"
   },
   {
    "duration": 26,
    "start_time": "2024-12-04T10:22:20.108Z"
   },
   {
    "duration": 77,
    "start_time": "2024-12-04T10:22:20.135Z"
   },
   {
    "duration": 8,
    "start_time": "2024-12-04T10:22:20.216Z"
   },
   {
    "duration": 468,
    "start_time": "2024-12-04T10:22:20.226Z"
   },
   {
    "duration": 528,
    "start_time": "2024-12-04T10:22:20.696Z"
   },
   {
    "duration": 466,
    "start_time": "2024-12-04T10:22:21.226Z"
   },
   {
    "duration": 475,
    "start_time": "2024-12-04T10:22:21.694Z"
   },
   {
    "duration": 280,
    "start_time": "2024-12-04T10:22:22.171Z"
   },
   {
    "duration": 187,
    "start_time": "2024-12-04T10:22:22.453Z"
   },
   {
    "duration": 171,
    "start_time": "2024-12-04T10:22:22.642Z"
   },
   {
    "duration": 189,
    "start_time": "2024-12-04T10:22:22.815Z"
   },
   {
    "duration": 202,
    "start_time": "2024-12-04T10:22:23.006Z"
   },
   {
    "duration": 9,
    "start_time": "2024-12-04T10:22:23.210Z"
   },
   {
    "duration": 26,
    "start_time": "2024-12-04T10:22:23.224Z"
   },
   {
    "duration": 5,
    "start_time": "2024-12-04T10:22:23.268Z"
   },
   {
    "duration": 28,
    "start_time": "2024-12-04T10:22:23.277Z"
   },
   {
    "duration": 9,
    "start_time": "2024-12-04T10:22:23.307Z"
   },
   {
    "duration": 57,
    "start_time": "2024-12-04T10:22:23.318Z"
   },
   {
    "duration": 9,
    "start_time": "2024-12-04T10:22:23.383Z"
   },
   {
    "duration": 2387,
    "start_time": "2024-12-04T10:22:23.394Z"
   },
   {
    "duration": 2483,
    "start_time": "2024-12-04T10:23:03.806Z"
   },
   {
    "duration": 11755,
    "start_time": "2024-12-04T10:23:15.764Z"
   },
   {
    "duration": 147,
    "start_time": "2024-12-04T10:23:27.521Z"
   },
   {
    "duration": 70,
    "start_time": "2024-12-04T10:23:27.672Z"
   },
   {
    "duration": 36,
    "start_time": "2024-12-04T10:23:27.771Z"
   },
   {
    "duration": 13,
    "start_time": "2024-12-04T10:23:27.810Z"
   },
   {
    "duration": 9,
    "start_time": "2024-12-04T10:23:27.825Z"
   },
   {
    "duration": 28,
    "start_time": "2024-12-04T10:23:27.835Z"
   },
   {
    "duration": 44,
    "start_time": "2024-12-04T10:23:27.867Z"
   },
   {
    "duration": 83,
    "start_time": "2024-12-04T10:23:27.913Z"
   },
   {
    "duration": 10,
    "start_time": "2024-12-04T10:23:28.002Z"
   },
   {
    "duration": 490,
    "start_time": "2024-12-04T10:23:28.014Z"
   },
   {
    "duration": 513,
    "start_time": "2024-12-04T10:23:28.506Z"
   },
   {
    "duration": 469,
    "start_time": "2024-12-04T10:23:29.021Z"
   },
   {
    "duration": 514,
    "start_time": "2024-12-04T10:23:29.496Z"
   },
   {
    "duration": 315,
    "start_time": "2024-12-04T10:23:30.012Z"
   },
   {
    "duration": 174,
    "start_time": "2024-12-04T10:23:30.328Z"
   },
   {
    "duration": 178,
    "start_time": "2024-12-04T10:23:30.504Z"
   },
   {
    "duration": 190,
    "start_time": "2024-12-04T10:23:30.697Z"
   },
   {
    "duration": 158,
    "start_time": "2024-12-04T10:23:30.890Z"
   },
   {
    "duration": 6,
    "start_time": "2024-12-04T10:23:31.050Z"
   },
   {
    "duration": 85,
    "start_time": "2024-12-04T10:23:31.057Z"
   },
   {
    "duration": 3,
    "start_time": "2024-12-04T10:23:31.144Z"
   },
   {
    "duration": 42,
    "start_time": "2024-12-04T10:23:31.148Z"
   },
   {
    "duration": 4,
    "start_time": "2024-12-04T10:23:31.194Z"
   },
   {
    "duration": 182,
    "start_time": "2024-12-04T10:23:31.199Z"
   },
   {
    "duration": 0,
    "start_time": "2024-12-04T10:23:31.382Z"
   },
   {
    "duration": 0,
    "start_time": "2024-12-04T10:23:31.384Z"
   },
   {
    "duration": 12043,
    "start_time": "2024-12-04T10:27:47.291Z"
   },
   {
    "duration": 187,
    "start_time": "2024-12-04T10:27:59.336Z"
   },
   {
    "duration": 77,
    "start_time": "2024-12-04T10:27:59.525Z"
   },
   {
    "duration": 6,
    "start_time": "2024-12-04T10:27:59.604Z"
   },
   {
    "duration": 13,
    "start_time": "2024-12-04T10:27:59.612Z"
   },
   {
    "duration": 9,
    "start_time": "2024-12-04T10:27:59.627Z"
   },
   {
    "duration": 54,
    "start_time": "2024-12-04T10:27:59.638Z"
   },
   {
    "duration": 27,
    "start_time": "2024-12-04T10:27:59.694Z"
   },
   {
    "duration": 130,
    "start_time": "2024-12-04T10:27:59.723Z"
   },
   {
    "duration": 12,
    "start_time": "2024-12-04T10:27:59.857Z"
   },
   {
    "duration": 527,
    "start_time": "2024-12-04T10:27:59.872Z"
   },
   {
    "duration": 546,
    "start_time": "2024-12-04T10:28:00.403Z"
   },
   {
    "duration": 444,
    "start_time": "2024-12-04T10:28:00.951Z"
   },
   {
    "duration": 507,
    "start_time": "2024-12-04T10:28:01.397Z"
   },
   {
    "duration": 320,
    "start_time": "2024-12-04T10:28:01.906Z"
   },
   {
    "duration": 172,
    "start_time": "2024-12-04T10:28:02.228Z"
   },
   {
    "duration": 203,
    "start_time": "2024-12-04T10:28:02.402Z"
   },
   {
    "duration": 173,
    "start_time": "2024-12-04T10:28:02.607Z"
   },
   {
    "duration": 197,
    "start_time": "2024-12-04T10:28:02.782Z"
   },
   {
    "duration": 15,
    "start_time": "2024-12-04T10:28:02.982Z"
   },
   {
    "duration": 18,
    "start_time": "2024-12-04T10:28:03.000Z"
   },
   {
    "duration": 4,
    "start_time": "2024-12-04T10:28:03.020Z"
   },
   {
    "duration": 101,
    "start_time": "2024-12-04T10:28:03.025Z"
   },
   {
    "duration": 14,
    "start_time": "2024-12-04T10:28:03.128Z"
   },
   {
    "duration": 78,
    "start_time": "2024-12-04T10:28:03.144Z"
   },
   {
    "duration": 12,
    "start_time": "2024-12-04T10:28:03.224Z"
   },
   {
    "duration": 30137,
    "start_time": "2024-12-04T10:28:03.238Z"
   },
   {
    "duration": 429,
    "start_time": "2024-12-04T10:40:35.776Z"
   },
   {
    "duration": 58,
    "start_time": "2024-12-04T10:41:13.859Z"
   },
   {
    "duration": 19386,
    "start_time": "2024-12-04T13:37:54.470Z"
   },
   {
    "duration": 274,
    "start_time": "2024-12-04T13:38:13.859Z"
   },
   {
    "duration": 57,
    "start_time": "2024-12-04T13:38:14.141Z"
   },
   {
    "duration": 35,
    "start_time": "2024-12-04T13:38:14.200Z"
   },
   {
    "duration": 9,
    "start_time": "2024-12-04T13:38:14.242Z"
   },
   {
    "duration": 8,
    "start_time": "2024-12-04T13:38:14.253Z"
   },
   {
    "duration": 23,
    "start_time": "2024-12-04T13:38:14.262Z"
   },
   {
    "duration": 24,
    "start_time": "2024-12-04T13:38:14.287Z"
   },
   {
    "duration": 56,
    "start_time": "2024-12-04T13:38:14.313Z"
   },
   {
    "duration": 15,
    "start_time": "2024-12-04T13:38:14.372Z"
   },
   {
    "duration": 479,
    "start_time": "2024-12-04T13:38:14.388Z"
   },
   {
    "duration": 541,
    "start_time": "2024-12-04T13:38:14.868Z"
   },
   {
    "duration": 457,
    "start_time": "2024-12-04T13:38:15.411Z"
   },
   {
    "duration": 588,
    "start_time": "2024-12-04T13:38:15.869Z"
   },
   {
    "duration": 193,
    "start_time": "2024-12-04T13:38:16.459Z"
   },
   {
    "duration": 157,
    "start_time": "2024-12-04T13:38:16.654Z"
   },
   {
    "duration": 180,
    "start_time": "2024-12-04T13:38:16.813Z"
   },
   {
    "duration": 200,
    "start_time": "2024-12-04T13:38:16.995Z"
   },
   {
    "duration": 170,
    "start_time": "2024-12-04T13:38:17.197Z"
   },
   {
    "duration": 7,
    "start_time": "2024-12-04T13:38:17.368Z"
   },
   {
    "duration": 31,
    "start_time": "2024-12-04T13:38:17.376Z"
   },
   {
    "duration": 16,
    "start_time": "2024-12-04T13:38:17.409Z"
   },
   {
    "duration": 22,
    "start_time": "2024-12-04T13:38:17.428Z"
   },
   {
    "duration": 41,
    "start_time": "2024-12-04T13:38:17.452Z"
   },
   {
    "duration": 11,
    "start_time": "2024-12-04T13:38:17.495Z"
   },
   {
    "duration": 7,
    "start_time": "2024-12-04T13:38:17.508Z"
   },
   {
    "duration": 26952,
    "start_time": "2024-12-04T13:38:17.517Z"
   },
   {
    "duration": 450,
    "start_time": "2024-12-04T13:38:44.472Z"
   },
   {
    "duration": 129,
    "start_time": "2024-12-04T13:38:44.924Z"
   },
   {
    "duration": 177,
    "start_time": "2024-12-04T13:42:20.963Z"
   },
   {
    "duration": 5,
    "start_time": "2024-12-04T13:42:33.409Z"
   },
   {
    "duration": 55,
    "start_time": "2024-12-04T13:42:50.562Z"
   },
   {
    "duration": 10,
    "start_time": "2024-12-04T13:43:25.943Z"
   },
   {
    "duration": 11614,
    "start_time": "2024-12-04T13:57:17.246Z"
   },
   {
    "duration": 200,
    "start_time": "2024-12-04T13:57:28.862Z"
   },
   {
    "duration": 86,
    "start_time": "2024-12-04T13:57:29.064Z"
   },
   {
    "duration": 6,
    "start_time": "2024-12-04T13:57:29.152Z"
   },
   {
    "duration": 11,
    "start_time": "2024-12-04T13:57:29.159Z"
   },
   {
    "duration": 8,
    "start_time": "2024-12-04T13:57:29.172Z"
   },
   {
    "duration": 75,
    "start_time": "2024-12-04T13:57:29.182Z"
   },
   {
    "duration": 26,
    "start_time": "2024-12-04T13:57:29.259Z"
   },
   {
    "duration": 90,
    "start_time": "2024-12-04T13:57:29.286Z"
   },
   {
    "duration": 9,
    "start_time": "2024-12-04T13:57:29.379Z"
   },
   {
    "duration": 507,
    "start_time": "2024-12-04T13:57:29.389Z"
   },
   {
    "duration": 493,
    "start_time": "2024-12-04T13:57:29.898Z"
   },
   {
    "duration": 428,
    "start_time": "2024-12-04T13:57:30.393Z"
   },
   {
    "duration": 440,
    "start_time": "2024-12-04T13:57:30.824Z"
   },
   {
    "duration": 300,
    "start_time": "2024-12-04T13:57:31.266Z"
   },
   {
    "duration": 195,
    "start_time": "2024-12-04T13:57:31.567Z"
   },
   {
    "duration": 192,
    "start_time": "2024-12-04T13:57:31.763Z"
   },
   {
    "duration": 180,
    "start_time": "2024-12-04T13:57:31.960Z"
   },
   {
    "duration": 153,
    "start_time": "2024-12-04T13:57:32.142Z"
   },
   {
    "duration": 7,
    "start_time": "2024-12-04T13:57:32.297Z"
   },
   {
    "duration": 39,
    "start_time": "2024-12-04T13:57:32.317Z"
   },
   {
    "duration": 4,
    "start_time": "2024-12-04T13:57:32.358Z"
   },
   {
    "duration": 39,
    "start_time": "2024-12-04T13:57:32.364Z"
   },
   {
    "duration": 45,
    "start_time": "2024-12-04T13:57:32.405Z"
   },
   {
    "duration": 106,
    "start_time": "2024-12-04T13:57:32.451Z"
   },
   {
    "duration": 48,
    "start_time": "2024-12-04T13:57:32.559Z"
   },
   {
    "duration": 26734,
    "start_time": "2024-12-04T13:57:32.609Z"
   },
   {
    "duration": 243,
    "start_time": "2024-12-04T13:57:59.347Z"
   },
   {
    "duration": 76,
    "start_time": "2024-12-04T13:57:59.592Z"
   },
   {
    "duration": 7,
    "start_time": "2024-12-04T13:57:59.669Z"
   },
   {
    "duration": 8,
    "start_time": "2024-12-04T13:57:59.677Z"
   },
   {
    "duration": 10,
    "start_time": "2024-12-04T13:58:22.955Z"
   },
   {
    "duration": 9,
    "start_time": "2024-12-04T13:59:15.609Z"
   },
   {
    "duration": 9,
    "start_time": "2024-12-04T13:59:23.885Z"
   },
   {
    "duration": 9,
    "start_time": "2024-12-04T13:59:54.142Z"
   },
   {
    "duration": 11613,
    "start_time": "2024-12-04T14:00:14.358Z"
   },
   {
    "duration": 172,
    "start_time": "2024-12-04T14:00:25.973Z"
   },
   {
    "duration": 100,
    "start_time": "2024-12-04T14:00:26.146Z"
   },
   {
    "duration": 10,
    "start_time": "2024-12-04T14:00:26.249Z"
   },
   {
    "duration": 12,
    "start_time": "2024-12-04T14:00:26.260Z"
   },
   {
    "duration": 9,
    "start_time": "2024-12-04T14:00:26.274Z"
   },
   {
    "duration": 64,
    "start_time": "2024-12-04T14:00:26.285Z"
   },
   {
    "duration": 26,
    "start_time": "2024-12-04T14:00:26.351Z"
   },
   {
    "duration": 86,
    "start_time": "2024-12-04T14:00:26.379Z"
   },
   {
    "duration": 9,
    "start_time": "2024-12-04T14:00:26.468Z"
   },
   {
    "duration": 514,
    "start_time": "2024-12-04T14:00:26.479Z"
   },
   {
    "duration": 496,
    "start_time": "2024-12-04T14:00:26.995Z"
   },
   {
    "duration": 431,
    "start_time": "2024-12-04T14:00:27.493Z"
   },
   {
    "duration": 489,
    "start_time": "2024-12-04T14:00:27.936Z"
   },
   {
    "duration": 271,
    "start_time": "2024-12-04T14:00:28.428Z"
   },
   {
    "duration": 165,
    "start_time": "2024-12-04T14:00:28.701Z"
   },
   {
    "duration": 175,
    "start_time": "2024-12-04T14:00:28.868Z"
   },
   {
    "duration": 154,
    "start_time": "2024-12-04T14:00:29.044Z"
   },
   {
    "duration": 170,
    "start_time": "2024-12-04T14:00:29.199Z"
   },
   {
    "duration": 8,
    "start_time": "2024-12-04T14:00:29.371Z"
   },
   {
    "duration": 45,
    "start_time": "2024-12-04T14:00:29.381Z"
   },
   {
    "duration": 19,
    "start_time": "2024-12-04T14:00:29.429Z"
   },
   {
    "duration": 28,
    "start_time": "2024-12-04T14:00:29.452Z"
   },
   {
    "duration": 46,
    "start_time": "2024-12-04T14:00:29.482Z"
   },
   {
    "duration": 20,
    "start_time": "2024-12-04T14:00:29.538Z"
   },
   {
    "duration": 36,
    "start_time": "2024-12-04T14:00:29.560Z"
   },
   {
    "duration": 27096,
    "start_time": "2024-12-04T14:00:29.598Z"
   },
   {
    "duration": 279,
    "start_time": "2024-12-04T14:00:56.697Z"
   },
   {
    "duration": 75,
    "start_time": "2024-12-04T14:00:56.978Z"
   },
   {
    "duration": 6,
    "start_time": "2024-12-04T14:00:57.055Z"
   },
   {
    "duration": 14,
    "start_time": "2024-12-04T14:00:57.063Z"
   },
   {
    "duration": 51,
    "start_time": "2024-12-04T14:00:57.079Z"
   },
   {
    "duration": 18,
    "start_time": "2024-12-04T14:07:23.116Z"
   },
   {
    "duration": 5,
    "start_time": "2024-12-04T14:09:07.234Z"
   },
   {
    "duration": 28,
    "start_time": "2024-12-04T14:10:13.014Z"
   },
   {
    "duration": 10418,
    "start_time": "2024-12-04T14:10:19.896Z"
   },
   {
    "duration": 178,
    "start_time": "2024-12-04T14:10:30.316Z"
   },
   {
    "duration": 59,
    "start_time": "2024-12-04T14:10:30.496Z"
   },
   {
    "duration": 53,
    "start_time": "2024-12-04T14:10:30.557Z"
   },
   {
    "duration": 27,
    "start_time": "2024-12-04T14:10:30.611Z"
   },
   {
    "duration": 58,
    "start_time": "2024-12-04T14:10:30.639Z"
   },
   {
    "duration": 23,
    "start_time": "2024-12-04T14:10:30.700Z"
   },
   {
    "duration": 33,
    "start_time": "2024-12-04T14:10:30.724Z"
   },
   {
    "duration": 74,
    "start_time": "2024-12-04T14:10:30.759Z"
   },
   {
    "duration": 10,
    "start_time": "2024-12-04T14:10:30.836Z"
   },
   {
    "duration": 458,
    "start_time": "2024-12-04T14:10:30.848Z"
   },
   {
    "duration": 484,
    "start_time": "2024-12-04T14:10:31.308Z"
   },
   {
    "duration": 397,
    "start_time": "2024-12-04T14:10:31.794Z"
   },
   {
    "duration": 418,
    "start_time": "2024-12-04T14:10:32.193Z"
   },
   {
    "duration": 268,
    "start_time": "2024-12-04T14:10:32.617Z"
   },
   {
    "duration": 182,
    "start_time": "2024-12-04T14:10:32.886Z"
   },
   {
    "duration": 168,
    "start_time": "2024-12-04T14:10:33.070Z"
   },
   {
    "duration": 158,
    "start_time": "2024-12-04T14:10:33.240Z"
   },
   {
    "duration": 173,
    "start_time": "2024-12-04T14:10:33.400Z"
   },
   {
    "duration": 6,
    "start_time": "2024-12-04T14:10:33.575Z"
   },
   {
    "duration": 40,
    "start_time": "2024-12-04T14:10:33.583Z"
   },
   {
    "duration": 3,
    "start_time": "2024-12-04T14:10:33.625Z"
   },
   {
    "duration": 17,
    "start_time": "2024-12-04T14:10:33.630Z"
   },
   {
    "duration": 43,
    "start_time": "2024-12-04T14:10:33.649Z"
   },
   {
    "duration": 7,
    "start_time": "2024-12-04T14:10:33.694Z"
   },
   {
    "duration": 8,
    "start_time": "2024-12-04T14:10:33.702Z"
   },
   {
    "duration": 10411,
    "start_time": "2024-12-04T14:10:33.711Z"
   },
   {
    "duration": 242,
    "start_time": "2024-12-04T14:10:44.127Z"
   },
   {
    "duration": 52,
    "start_time": "2024-12-04T14:10:44.371Z"
   },
   {
    "duration": 7,
    "start_time": "2024-12-04T14:10:44.425Z"
   },
   {
    "duration": 26,
    "start_time": "2024-12-04T14:10:44.434Z"
   },
   {
    "duration": 26,
    "start_time": "2024-12-04T14:10:44.463Z"
   },
   {
    "duration": 7,
    "start_time": "2024-12-04T14:10:44.491Z"
   },
   {
    "duration": 1811,
    "start_time": "2024-12-04T14:10:44.518Z"
   },
   {
    "duration": 10336,
    "start_time": "2024-12-04T14:11:35.727Z"
   },
   {
    "duration": 680,
    "start_time": "2024-12-04T14:11:46.065Z"
   },
   {
    "duration": 55,
    "start_time": "2024-12-04T14:11:46.746Z"
   },
   {
    "duration": 16,
    "start_time": "2024-12-04T14:11:46.803Z"
   },
   {
    "duration": 26,
    "start_time": "2024-12-04T14:11:46.821Z"
   },
   {
    "duration": 52,
    "start_time": "2024-12-04T14:11:46.849Z"
   },
   {
    "duration": 44,
    "start_time": "2024-12-04T14:11:46.902Z"
   },
   {
    "duration": 71,
    "start_time": "2024-12-04T14:11:46.948Z"
   },
   {
    "duration": 53,
    "start_time": "2024-12-04T14:11:47.020Z"
   },
   {
    "duration": 9,
    "start_time": "2024-12-04T14:11:47.076Z"
   },
   {
    "duration": 509,
    "start_time": "2024-12-04T14:11:47.087Z"
   },
   {
    "duration": 459,
    "start_time": "2024-12-04T14:11:47.598Z"
   },
   {
    "duration": 402,
    "start_time": "2024-12-04T14:11:48.059Z"
   },
   {
    "duration": 423,
    "start_time": "2024-12-04T14:11:48.463Z"
   },
   {
    "duration": 266,
    "start_time": "2024-12-04T14:11:48.887Z"
   },
   {
    "duration": 166,
    "start_time": "2024-12-04T14:11:49.154Z"
   },
   {
    "duration": 158,
    "start_time": "2024-12-04T14:11:49.321Z"
   },
   {
    "duration": 146,
    "start_time": "2024-12-04T14:11:49.481Z"
   },
   {
    "duration": 156,
    "start_time": "2024-12-04T14:11:49.629Z"
   },
   {
    "duration": 8,
    "start_time": "2024-12-04T14:11:49.788Z"
   },
   {
    "duration": 36,
    "start_time": "2024-12-04T14:11:49.798Z"
   },
   {
    "duration": 11,
    "start_time": "2024-12-04T14:11:49.836Z"
   },
   {
    "duration": 5,
    "start_time": "2024-12-04T14:11:49.849Z"
   },
   {
    "duration": 74,
    "start_time": "2024-12-04T14:11:49.856Z"
   },
   {
    "duration": 15,
    "start_time": "2024-12-04T14:11:49.932Z"
   },
   {
    "duration": 20,
    "start_time": "2024-12-04T14:11:49.949Z"
   },
   {
    "duration": 23435,
    "start_time": "2024-12-04T14:11:49.971Z"
   },
   {
    "duration": 195,
    "start_time": "2024-12-04T14:12:13.418Z"
   },
   {
    "duration": 53,
    "start_time": "2024-12-04T14:12:13.614Z"
   },
   {
    "duration": 54,
    "start_time": "2024-12-04T14:12:13.668Z"
   },
   {
    "duration": 10,
    "start_time": "2024-12-04T14:12:13.723Z"
   },
   {
    "duration": 9,
    "start_time": "2024-12-04T14:12:13.735Z"
   },
   {
    "duration": 6,
    "start_time": "2024-12-04T14:12:13.746Z"
   },
   {
    "duration": 1604,
    "start_time": "2024-12-04T14:12:13.753Z"
   },
   {
    "duration": 20,
    "start_time": "2024-12-04T14:13:05.957Z"
   },
   {
    "duration": 1475,
    "start_time": "2024-12-04T14:13:50.287Z"
   },
   {
    "duration": 26,
    "start_time": "2024-12-04T14:14:01.926Z"
   },
   {
    "duration": 6,
    "start_time": "2024-12-04T14:14:47.385Z"
   },
   {
    "duration": 7,
    "start_time": "2024-12-04T14:15:12.745Z"
   },
   {
    "duration": 8,
    "start_time": "2024-12-04T14:15:17.340Z"
   },
   {
    "duration": 7,
    "start_time": "2024-12-04T14:15:18.227Z"
   },
   {
    "duration": 10338,
    "start_time": "2024-12-04T14:15:22.846Z"
   },
   {
    "duration": 159,
    "start_time": "2024-12-04T14:15:33.186Z"
   },
   {
    "duration": 60,
    "start_time": "2024-12-04T14:15:33.347Z"
   },
   {
    "duration": 6,
    "start_time": "2024-12-04T14:15:33.419Z"
   },
   {
    "duration": 23,
    "start_time": "2024-12-04T14:15:33.427Z"
   },
   {
    "duration": 29,
    "start_time": "2024-12-04T14:15:33.452Z"
   },
   {
    "duration": 30,
    "start_time": "2024-12-04T14:15:33.483Z"
   },
   {
    "duration": 29,
    "start_time": "2024-12-04T14:15:33.515Z"
   },
   {
    "duration": 76,
    "start_time": "2024-12-04T14:15:33.547Z"
   },
   {
    "duration": 8,
    "start_time": "2024-12-04T14:15:33.626Z"
   },
   {
    "duration": 483,
    "start_time": "2024-12-04T14:15:33.636Z"
   },
   {
    "duration": 451,
    "start_time": "2024-12-04T14:15:34.121Z"
   },
   {
    "duration": 406,
    "start_time": "2024-12-04T14:15:34.574Z"
   },
   {
    "duration": 418,
    "start_time": "2024-12-04T14:15:34.981Z"
   },
   {
    "duration": 261,
    "start_time": "2024-12-04T14:15:35.400Z"
   },
   {
    "duration": 164,
    "start_time": "2024-12-04T14:15:35.663Z"
   },
   {
    "duration": 163,
    "start_time": "2024-12-04T14:15:35.829Z"
   },
   {
    "duration": 155,
    "start_time": "2024-12-04T14:15:35.993Z"
   },
   {
    "duration": 160,
    "start_time": "2024-12-04T14:15:36.150Z"
   },
   {
    "duration": 7,
    "start_time": "2024-12-04T14:15:36.318Z"
   },
   {
    "duration": 23,
    "start_time": "2024-12-04T14:15:36.327Z"
   },
   {
    "duration": 50,
    "start_time": "2024-12-04T14:15:36.351Z"
   },
   {
    "duration": 5,
    "start_time": "2024-12-04T14:15:36.403Z"
   },
   {
    "duration": 13,
    "start_time": "2024-12-04T14:15:36.410Z"
   },
   {
    "duration": 11,
    "start_time": "2024-12-04T14:15:36.424Z"
   },
   {
    "duration": 56,
    "start_time": "2024-12-04T14:15:36.436Z"
   },
   {
    "duration": 24084,
    "start_time": "2024-12-04T14:15:36.493Z"
   },
   {
    "duration": 218,
    "start_time": "2024-12-04T14:16:00.580Z"
   },
   {
    "duration": 52,
    "start_time": "2024-12-04T14:16:00.799Z"
   },
   {
    "duration": 5,
    "start_time": "2024-12-04T14:16:00.853Z"
   },
   {
    "duration": 36,
    "start_time": "2024-12-04T14:16:00.860Z"
   },
   {
    "duration": 11,
    "start_time": "2024-12-04T14:16:00.917Z"
   },
   {
    "duration": 36,
    "start_time": "2024-12-04T14:16:00.930Z"
   },
   {
    "duration": 10,
    "start_time": "2024-12-04T14:20:11.513Z"
   },
   {
    "duration": 165,
    "start_time": "2024-12-04T14:20:17.695Z"
   },
   {
    "duration": 5,
    "start_time": "2024-12-04T14:20:34.684Z"
   },
   {
    "duration": 5,
    "start_time": "2024-12-04T14:20:43.396Z"
   },
   {
    "duration": 5,
    "start_time": "2024-12-04T14:20:48.540Z"
   },
   {
    "duration": 6,
    "start_time": "2024-12-04T14:20:53.054Z"
   },
   {
    "duration": 4,
    "start_time": "2024-12-04T14:21:05.758Z"
   },
   {
    "duration": 6,
    "start_time": "2024-12-04T14:21:09.720Z"
   },
   {
    "duration": 5,
    "start_time": "2024-12-04T14:21:13.538Z"
   },
   {
    "duration": 5,
    "start_time": "2024-12-04T14:21:18.968Z"
   },
   {
    "duration": 4,
    "start_time": "2024-12-04T14:21:36.948Z"
   },
   {
    "duration": 5,
    "start_time": "2024-12-04T14:22:09.918Z"
   },
   {
    "duration": 5,
    "start_time": "2024-12-04T14:23:46.231Z"
   },
   {
    "duration": 3,
    "start_time": "2024-12-04T14:25:50.387Z"
   },
   {
    "duration": 43,
    "start_time": "2024-12-04T14:27:54.735Z"
   },
   {
    "duration": 437,
    "start_time": "2024-12-04T14:38:44.451Z"
   },
   {
    "duration": 440,
    "start_time": "2024-12-04T14:38:49.660Z"
   },
   {
    "duration": 407,
    "start_time": "2024-12-04T14:38:53.265Z"
   },
   {
    "duration": 163,
    "start_time": "2024-12-04T14:42:38.459Z"
   },
   {
    "duration": 132,
    "start_time": "2024-12-04T14:42:39.774Z"
   },
   {
    "duration": 137,
    "start_time": "2024-12-04T14:42:40.401Z"
   },
   {
    "duration": 132,
    "start_time": "2024-12-04T14:42:40.923Z"
   },
   {
    "duration": 299,
    "start_time": "2024-12-04T14:42:41.405Z"
   },
   {
    "duration": 146,
    "start_time": "2024-12-04T14:42:41.906Z"
   },
   {
    "duration": 17042,
    "start_time": "2024-12-05T06:07:50.002Z"
   },
   {
    "duration": 224,
    "start_time": "2024-12-05T06:08:07.046Z"
   },
   {
    "duration": 61,
    "start_time": "2024-12-05T06:08:07.272Z"
   },
   {
    "duration": 6,
    "start_time": "2024-12-05T06:08:07.361Z"
   },
   {
    "duration": 12,
    "start_time": "2024-12-05T06:08:07.368Z"
   },
   {
    "duration": 18,
    "start_time": "2024-12-05T06:08:07.381Z"
   },
   {
    "duration": 29,
    "start_time": "2024-12-05T06:08:07.400Z"
   },
   {
    "duration": 37,
    "start_time": "2024-12-05T06:08:07.431Z"
   },
   {
    "duration": 46,
    "start_time": "2024-12-05T06:08:07.470Z"
   },
   {
    "duration": 9,
    "start_time": "2024-12-05T06:08:07.519Z"
   },
   {
    "duration": 525,
    "start_time": "2024-12-05T06:08:07.530Z"
   },
   {
    "duration": 457,
    "start_time": "2024-12-05T06:08:08.056Z"
   },
   {
    "duration": 429,
    "start_time": "2024-12-05T06:08:08.515Z"
   },
   {
    "duration": 407,
    "start_time": "2024-12-05T06:08:08.946Z"
   },
   {
    "duration": 270,
    "start_time": "2024-12-05T06:08:09.355Z"
   },
   {
    "duration": 151,
    "start_time": "2024-12-05T06:08:09.627Z"
   },
   {
    "duration": 154,
    "start_time": "2024-12-05T06:08:09.779Z"
   },
   {
    "duration": 146,
    "start_time": "2024-12-05T06:08:09.935Z"
   },
   {
    "duration": 144,
    "start_time": "2024-12-05T06:08:10.083Z"
   },
   {
    "duration": 7,
    "start_time": "2024-12-05T06:08:10.228Z"
   },
   {
    "duration": 30,
    "start_time": "2024-12-05T06:08:10.236Z"
   },
   {
    "duration": 3,
    "start_time": "2024-12-05T06:08:10.267Z"
   },
   {
    "duration": 38,
    "start_time": "2024-12-05T06:08:10.272Z"
   },
   {
    "duration": 8,
    "start_time": "2024-12-05T06:08:10.312Z"
   },
   {
    "duration": 14,
    "start_time": "2024-12-05T06:08:10.322Z"
   },
   {
    "duration": 9,
    "start_time": "2024-12-05T06:08:10.337Z"
   },
   {
    "duration": 23752,
    "start_time": "2024-12-05T06:08:10.348Z"
   },
   {
    "duration": 541,
    "start_time": "2024-12-05T06:08:34.104Z"
   },
   {
    "duration": 53,
    "start_time": "2024-12-05T06:08:34.647Z"
   },
   {
    "duration": 5,
    "start_time": "2024-12-05T06:08:34.702Z"
   },
   {
    "duration": 14,
    "start_time": "2024-12-05T06:08:34.709Z"
   },
   {
    "duration": 38,
    "start_time": "2024-12-05T06:08:34.724Z"
   },
   {
    "duration": 9,
    "start_time": "2024-12-05T06:08:34.764Z"
   },
   {
    "duration": 41,
    "start_time": "2024-12-05T06:08:34.774Z"
   },
   {
    "duration": 455,
    "start_time": "2024-12-05T06:08:34.816Z"
   },
   {
    "duration": 447,
    "start_time": "2024-12-05T06:08:35.273Z"
   },
   {
    "duration": 422,
    "start_time": "2024-12-05T06:08:35.722Z"
   },
   {
    "duration": 168,
    "start_time": "2024-12-05T06:08:36.145Z"
   },
   {
    "duration": 149,
    "start_time": "2024-12-05T06:08:36.314Z"
   },
   {
    "duration": 156,
    "start_time": "2024-12-05T06:08:36.465Z"
   },
   {
    "duration": 270,
    "start_time": "2024-12-05T06:08:36.623Z"
   },
   {
    "duration": 157,
    "start_time": "2024-12-05T06:08:36.895Z"
   },
   {
    "duration": 146,
    "start_time": "2024-12-05T06:08:37.053Z"
   },
   {
    "duration": 122,
    "start_time": "2024-12-05T06:32:46.353Z"
   },
   {
    "duration": 69,
    "start_time": "2024-12-05T06:33:29.468Z"
   },
   {
    "duration": 101,
    "start_time": "2024-12-05T06:34:20.104Z"
   },
   {
    "duration": 57,
    "start_time": "2024-12-05T06:34:39.087Z"
   },
   {
    "duration": 16,
    "start_time": "2024-12-05T06:35:29.059Z"
   },
   {
    "duration": 13,
    "start_time": "2024-12-05T06:35:33.923Z"
   },
   {
    "duration": 144,
    "start_time": "2024-12-05T06:35:50.975Z"
   },
   {
    "duration": 12,
    "start_time": "2024-12-05T06:35:55.576Z"
   },
   {
    "duration": 15,
    "start_time": "2024-12-05T06:37:34.933Z"
   },
   {
    "duration": 146,
    "start_time": "2024-12-05T06:38:13.165Z"
   },
   {
    "duration": 10583,
    "start_time": "2024-12-05T06:39:18.410Z"
   },
   {
    "duration": 136,
    "start_time": "2024-12-05T06:39:28.995Z"
   },
   {
    "duration": 57,
    "start_time": "2024-12-05T06:39:29.133Z"
   },
   {
    "duration": 6,
    "start_time": "2024-12-05T06:39:29.192Z"
   },
   {
    "duration": 9,
    "start_time": "2024-12-05T06:39:29.199Z"
   },
   {
    "duration": 8,
    "start_time": "2024-12-05T06:39:29.210Z"
   },
   {
    "duration": 52,
    "start_time": "2024-12-05T06:39:29.219Z"
   },
   {
    "duration": 28,
    "start_time": "2024-12-05T06:39:29.273Z"
   },
   {
    "duration": 71,
    "start_time": "2024-12-05T06:39:29.304Z"
   },
   {
    "duration": 12,
    "start_time": "2024-12-05T06:39:29.378Z"
   },
   {
    "duration": 454,
    "start_time": "2024-12-05T06:39:29.393Z"
   },
   {
    "duration": 453,
    "start_time": "2024-12-05T06:39:29.849Z"
   },
   {
    "duration": 442,
    "start_time": "2024-12-05T06:39:30.304Z"
   },
   {
    "duration": 417,
    "start_time": "2024-12-05T06:39:30.748Z"
   },
   {
    "duration": 270,
    "start_time": "2024-12-05T06:39:31.167Z"
   },
   {
    "duration": 155,
    "start_time": "2024-12-05T06:39:31.439Z"
   },
   {
    "duration": 154,
    "start_time": "2024-12-05T06:39:31.596Z"
   },
   {
    "duration": 147,
    "start_time": "2024-12-05T06:39:31.752Z"
   },
   {
    "duration": 144,
    "start_time": "2024-12-05T06:39:31.901Z"
   },
   {
    "duration": 16,
    "start_time": "2024-12-05T06:39:32.046Z"
   },
   {
    "duration": 17,
    "start_time": "2024-12-05T06:39:32.064Z"
   },
   {
    "duration": 61,
    "start_time": "2024-12-05T06:39:32.082Z"
   },
   {
    "duration": 26,
    "start_time": "2024-12-05T06:39:32.144Z"
   },
   {
    "duration": 9,
    "start_time": "2024-12-05T06:39:32.171Z"
   },
   {
    "duration": 41,
    "start_time": "2024-12-05T06:39:32.182Z"
   },
   {
    "duration": 26,
    "start_time": "2024-12-05T06:39:32.225Z"
   },
   {
    "duration": 23884,
    "start_time": "2024-12-05T06:39:32.253Z"
   },
   {
    "duration": 244,
    "start_time": "2024-12-05T06:39:56.142Z"
   },
   {
    "duration": 52,
    "start_time": "2024-12-05T06:39:56.388Z"
   },
   {
    "duration": 5,
    "start_time": "2024-12-05T06:39:56.441Z"
   },
   {
    "duration": 16,
    "start_time": "2024-12-05T06:39:56.448Z"
   },
   {
    "duration": 27,
    "start_time": "2024-12-05T06:39:56.465Z"
   },
   {
    "duration": 9,
    "start_time": "2024-12-05T06:39:56.494Z"
   },
   {
    "duration": 7,
    "start_time": "2024-12-05T06:39:56.505Z"
   },
   {
    "duration": 38,
    "start_time": "2024-12-05T06:39:56.513Z"
   },
   {
    "duration": 367,
    "start_time": "2024-12-05T06:39:56.562Z"
   },
   {
    "duration": 432,
    "start_time": "2024-12-05T06:39:56.931Z"
   },
   {
    "duration": 377,
    "start_time": "2024-12-05T06:39:57.364Z"
   },
   {
    "duration": 164,
    "start_time": "2024-12-05T06:39:57.743Z"
   },
   {
    "duration": 145,
    "start_time": "2024-12-05T06:39:57.909Z"
   },
   {
    "duration": 146,
    "start_time": "2024-12-05T06:39:58.062Z"
   },
   {
    "duration": 257,
    "start_time": "2024-12-05T06:39:58.210Z"
   },
   {
    "duration": 158,
    "start_time": "2024-12-05T06:39:58.469Z"
   },
   {
    "duration": 149,
    "start_time": "2024-12-05T06:39:58.628Z"
   },
   {
    "duration": 9,
    "start_time": "2024-12-05T06:48:42.362Z"
   },
   {
    "duration": 156,
    "start_time": "2024-12-05T06:49:34.807Z"
   },
   {
    "duration": 20,
    "start_time": "2024-12-05T06:49:41.337Z"
   },
   {
    "duration": 11012,
    "start_time": "2024-12-05T06:50:01.680Z"
   },
   {
    "duration": 0,
    "start_time": "2024-12-05T06:50:12.695Z"
   },
   {
    "duration": 0,
    "start_time": "2024-12-05T06:50:12.697Z"
   },
   {
    "duration": 0,
    "start_time": "2024-12-05T06:50:12.698Z"
   },
   {
    "duration": 0,
    "start_time": "2024-12-05T06:50:12.699Z"
   },
   {
    "duration": 0,
    "start_time": "2024-12-05T06:50:12.701Z"
   },
   {
    "duration": 0,
    "start_time": "2024-12-05T06:50:12.702Z"
   },
   {
    "duration": 0,
    "start_time": "2024-12-05T06:50:12.703Z"
   },
   {
    "duration": 0,
    "start_time": "2024-12-05T06:50:12.704Z"
   },
   {
    "duration": 0,
    "start_time": "2024-12-05T06:50:12.706Z"
   },
   {
    "duration": 0,
    "start_time": "2024-12-05T06:50:12.707Z"
   },
   {
    "duration": 0,
    "start_time": "2024-12-05T06:50:12.708Z"
   },
   {
    "duration": 0,
    "start_time": "2024-12-05T06:50:12.709Z"
   },
   {
    "duration": 0,
    "start_time": "2024-12-05T06:50:12.710Z"
   },
   {
    "duration": 0,
    "start_time": "2024-12-05T06:50:12.711Z"
   },
   {
    "duration": 0,
    "start_time": "2024-12-05T06:50:12.712Z"
   },
   {
    "duration": 0,
    "start_time": "2024-12-05T06:50:12.713Z"
   },
   {
    "duration": 0,
    "start_time": "2024-12-05T06:50:12.714Z"
   },
   {
    "duration": 0,
    "start_time": "2024-12-05T06:50:12.715Z"
   },
   {
    "duration": 0,
    "start_time": "2024-12-05T06:50:12.716Z"
   },
   {
    "duration": 0,
    "start_time": "2024-12-05T06:50:12.717Z"
   },
   {
    "duration": 0,
    "start_time": "2024-12-05T06:50:12.718Z"
   },
   {
    "duration": 0,
    "start_time": "2024-12-05T06:50:12.719Z"
   },
   {
    "duration": 0,
    "start_time": "2024-12-05T06:50:12.720Z"
   },
   {
    "duration": 0,
    "start_time": "2024-12-05T06:50:12.762Z"
   },
   {
    "duration": 0,
    "start_time": "2024-12-05T06:50:12.763Z"
   },
   {
    "duration": 0,
    "start_time": "2024-12-05T06:50:12.764Z"
   },
   {
    "duration": 0,
    "start_time": "2024-12-05T06:50:12.765Z"
   },
   {
    "duration": 0,
    "start_time": "2024-12-05T06:50:12.766Z"
   },
   {
    "duration": 0,
    "start_time": "2024-12-05T06:50:12.767Z"
   },
   {
    "duration": 0,
    "start_time": "2024-12-05T06:50:12.768Z"
   },
   {
    "duration": 0,
    "start_time": "2024-12-05T06:50:12.769Z"
   },
   {
    "duration": 0,
    "start_time": "2024-12-05T06:50:12.770Z"
   },
   {
    "duration": 0,
    "start_time": "2024-12-05T06:50:12.771Z"
   },
   {
    "duration": 0,
    "start_time": "2024-12-05T06:50:12.772Z"
   },
   {
    "duration": 0,
    "start_time": "2024-12-05T06:50:12.773Z"
   },
   {
    "duration": 0,
    "start_time": "2024-12-05T06:50:12.774Z"
   },
   {
    "duration": 0,
    "start_time": "2024-12-05T06:50:12.776Z"
   },
   {
    "duration": 0,
    "start_time": "2024-12-05T06:50:12.778Z"
   },
   {
    "duration": 0,
    "start_time": "2024-12-05T06:50:12.779Z"
   },
   {
    "duration": 0,
    "start_time": "2024-12-05T06:50:12.780Z"
   },
   {
    "duration": 0,
    "start_time": "2024-12-05T06:50:12.781Z"
   },
   {
    "duration": 0,
    "start_time": "2024-12-05T06:50:12.782Z"
   },
   {
    "duration": 0,
    "start_time": "2024-12-05T06:50:12.783Z"
   },
   {
    "duration": 0,
    "start_time": "2024-12-05T06:50:12.784Z"
   },
   {
    "duration": 10504,
    "start_time": "2024-12-05T06:52:22.433Z"
   },
   {
    "duration": 136,
    "start_time": "2024-12-05T06:52:32.939Z"
   },
   {
    "duration": 57,
    "start_time": "2024-12-05T06:52:33.077Z"
   },
   {
    "duration": 5,
    "start_time": "2024-12-05T06:52:33.136Z"
   },
   {
    "duration": 22,
    "start_time": "2024-12-05T06:52:33.161Z"
   },
   {
    "duration": 32,
    "start_time": "2024-12-05T06:52:33.185Z"
   },
   {
    "duration": 29,
    "start_time": "2024-12-05T06:52:33.219Z"
   },
   {
    "duration": 33,
    "start_time": "2024-12-05T06:52:33.250Z"
   },
   {
    "duration": 64,
    "start_time": "2024-12-05T06:52:33.285Z"
   },
   {
    "duration": 11,
    "start_time": "2024-12-05T06:52:33.352Z"
   },
   {
    "duration": 448,
    "start_time": "2024-12-05T06:52:33.365Z"
   },
   {
    "duration": 455,
    "start_time": "2024-12-05T06:52:33.816Z"
   },
   {
    "duration": 391,
    "start_time": "2024-12-05T06:52:34.272Z"
   },
   {
    "duration": 391,
    "start_time": "2024-12-05T06:52:34.665Z"
   },
   {
    "duration": 267,
    "start_time": "2024-12-05T06:52:35.057Z"
   },
   {
    "duration": 157,
    "start_time": "2024-12-05T06:52:35.326Z"
   },
   {
    "duration": 153,
    "start_time": "2024-12-05T06:52:35.485Z"
   },
   {
    "duration": 152,
    "start_time": "2024-12-05T06:52:35.640Z"
   },
   {
    "duration": 146,
    "start_time": "2024-12-05T06:52:35.793Z"
   },
   {
    "duration": 6,
    "start_time": "2024-12-05T06:52:35.941Z"
   },
   {
    "duration": 30,
    "start_time": "2024-12-05T06:52:35.949Z"
   },
   {
    "duration": 3,
    "start_time": "2024-12-05T06:52:35.980Z"
   },
   {
    "duration": 27,
    "start_time": "2024-12-05T06:52:35.985Z"
   },
   {
    "duration": 28,
    "start_time": "2024-12-05T06:52:36.014Z"
   },
   {
    "duration": 25,
    "start_time": "2024-12-05T06:52:36.043Z"
   },
   {
    "duration": 54,
    "start_time": "2024-12-05T06:52:36.070Z"
   },
   {
    "duration": 23685,
    "start_time": "2024-12-05T06:52:36.125Z"
   },
   {
    "duration": 208,
    "start_time": "2024-12-05T06:52:59.814Z"
   },
   {
    "duration": 53,
    "start_time": "2024-12-05T06:53:00.024Z"
   },
   {
    "duration": 6,
    "start_time": "2024-12-05T06:53:00.078Z"
   },
   {
    "duration": 26,
    "start_time": "2024-12-05T06:53:00.085Z"
   },
   {
    "duration": 82,
    "start_time": "2024-12-05T06:53:00.113Z"
   },
   {
    "duration": 25,
    "start_time": "2024-12-05T06:53:00.196Z"
   },
   {
    "duration": 7,
    "start_time": "2024-12-05T06:53:00.223Z"
   },
   {
    "duration": 53,
    "start_time": "2024-12-05T06:53:00.232Z"
   },
   {
    "duration": 399,
    "start_time": "2024-12-05T06:53:00.287Z"
   },
   {
    "duration": 475,
    "start_time": "2024-12-05T06:53:00.688Z"
   },
   {
    "duration": 383,
    "start_time": "2024-12-05T06:53:01.165Z"
   },
   {
    "duration": 162,
    "start_time": "2024-12-05T06:53:01.550Z"
   },
   {
    "duration": 155,
    "start_time": "2024-12-05T06:53:01.713Z"
   },
   {
    "duration": 142,
    "start_time": "2024-12-05T06:53:01.871Z"
   },
   {
    "duration": 249,
    "start_time": "2024-12-05T06:53:02.014Z"
   },
   {
    "duration": 144,
    "start_time": "2024-12-05T06:53:02.264Z"
   },
   {
    "duration": 145,
    "start_time": "2024-12-05T06:53:02.410Z"
   },
   {
    "duration": 19,
    "start_time": "2024-12-05T06:53:02.556Z"
   },
   {
    "duration": 17552,
    "start_time": "2024-12-05T10:07:13.538Z"
   },
   {
    "duration": 274,
    "start_time": "2024-12-05T10:07:31.092Z"
   },
   {
    "duration": 60,
    "start_time": "2024-12-05T10:07:31.368Z"
   },
   {
    "duration": 31,
    "start_time": "2024-12-05T10:07:31.431Z"
   },
   {
    "duration": 10,
    "start_time": "2024-12-05T10:07:31.464Z"
   },
   {
    "duration": 13,
    "start_time": "2024-12-05T10:07:31.476Z"
   },
   {
    "duration": 29,
    "start_time": "2024-12-05T10:07:31.491Z"
   },
   {
    "duration": 51,
    "start_time": "2024-12-05T10:07:31.522Z"
   },
   {
    "duration": 45,
    "start_time": "2024-12-05T10:07:31.574Z"
   },
   {
    "duration": 8,
    "start_time": "2024-12-05T10:07:31.622Z"
   },
   {
    "duration": 492,
    "start_time": "2024-12-05T10:07:31.632Z"
   },
   {
    "duration": 458,
    "start_time": "2024-12-05T10:07:32.126Z"
   },
   {
    "duration": 431,
    "start_time": "2024-12-05T10:07:32.586Z"
   },
   {
    "duration": 451,
    "start_time": "2024-12-05T10:07:33.019Z"
   },
   {
    "duration": 275,
    "start_time": "2024-12-05T10:07:33.471Z"
   },
   {
    "duration": 152,
    "start_time": "2024-12-05T10:07:33.748Z"
   },
   {
    "duration": 161,
    "start_time": "2024-12-05T10:07:33.901Z"
   },
   {
    "duration": 143,
    "start_time": "2024-12-05T10:07:34.063Z"
   },
   {
    "duration": 144,
    "start_time": "2024-12-05T10:07:34.208Z"
   },
   {
    "duration": 13,
    "start_time": "2024-12-05T10:07:34.353Z"
   },
   {
    "duration": 17,
    "start_time": "2024-12-05T10:07:34.368Z"
   },
   {
    "duration": 6,
    "start_time": "2024-12-05T10:07:34.387Z"
   },
   {
    "duration": 16,
    "start_time": "2024-12-05T10:07:34.395Z"
   },
   {
    "duration": 10,
    "start_time": "2024-12-05T10:07:34.413Z"
   },
   {
    "duration": 5,
    "start_time": "2024-12-05T10:07:34.425Z"
   },
   {
    "duration": 13,
    "start_time": "2024-12-05T10:07:34.432Z"
   },
   {
    "duration": 23427,
    "start_time": "2024-12-05T10:07:34.446Z"
   },
   {
    "duration": 451,
    "start_time": "2024-12-05T10:07:57.876Z"
   },
   {
    "duration": 52,
    "start_time": "2024-12-05T10:07:58.328Z"
   },
   {
    "duration": 6,
    "start_time": "2024-12-05T10:07:58.381Z"
   },
   {
    "duration": 11,
    "start_time": "2024-12-05T10:07:58.389Z"
   },
   {
    "duration": 24,
    "start_time": "2024-12-05T10:07:58.402Z"
   },
   {
    "duration": 9,
    "start_time": "2024-12-05T10:07:58.427Z"
   },
   {
    "duration": 7,
    "start_time": "2024-12-05T10:07:58.437Z"
   },
   {
    "duration": 41,
    "start_time": "2024-12-05T10:07:58.461Z"
   },
   {
    "duration": 444,
    "start_time": "2024-12-05T10:07:58.503Z"
   },
   {
    "duration": 419,
    "start_time": "2024-12-05T10:07:58.949Z"
   },
   {
    "duration": 381,
    "start_time": "2024-12-05T10:07:59.370Z"
   },
   {
    "duration": 159,
    "start_time": "2024-12-05T10:07:59.753Z"
   },
   {
    "duration": 145,
    "start_time": "2024-12-05T10:07:59.914Z"
   },
   {
    "duration": 131,
    "start_time": "2024-12-05T10:08:00.062Z"
   },
   {
    "duration": 257,
    "start_time": "2024-12-05T10:08:00.195Z"
   },
   {
    "duration": 148,
    "start_time": "2024-12-05T10:08:00.461Z"
   },
   {
    "duration": 163,
    "start_time": "2024-12-05T10:08:00.611Z"
   },
   {
    "duration": 20,
    "start_time": "2024-12-05T10:08:00.775Z"
   },
   {
    "duration": 9,
    "start_time": "2024-12-05T10:08:26.060Z"
   },
   {
    "duration": 7,
    "start_time": "2024-12-05T10:08:57.706Z"
   },
   {
    "duration": 10,
    "start_time": "2024-12-05T10:09:06.125Z"
   },
   {
    "duration": 7,
    "start_time": "2024-12-05T10:09:17.202Z"
   },
   {
    "duration": 149,
    "start_time": "2024-12-05T10:12:19.912Z"
   },
   {
    "duration": 11,
    "start_time": "2024-12-05T10:12:28.566Z"
   },
   {
    "duration": 12,
    "start_time": "2024-12-05T10:15:50.904Z"
   },
   {
    "duration": 11,
    "start_time": "2024-12-05T10:16:02.181Z"
   },
   {
    "duration": 82,
    "start_time": "2024-12-05T10:16:02.753Z"
   },
   {
    "duration": 77,
    "start_time": "2024-12-05T10:16:11.271Z"
   },
   {
    "duration": 13,
    "start_time": "2024-12-05T10:16:40.044Z"
   },
   {
    "duration": 8,
    "start_time": "2024-12-05T10:16:43.631Z"
   },
   {
    "duration": 8,
    "start_time": "2024-12-05T10:18:39.618Z"
   },
   {
    "duration": 7,
    "start_time": "2024-12-05T10:18:40.305Z"
   },
   {
    "duration": 6,
    "start_time": "2024-12-05T10:18:40.867Z"
   },
   {
    "duration": 108,
    "start_time": "2024-12-05T10:19:36.651Z"
   },
   {
    "duration": 115,
    "start_time": "2024-12-05T10:19:46.156Z"
   },
   {
    "duration": 9,
    "start_time": "2024-12-05T10:19:56.550Z"
   },
   {
    "duration": 95,
    "start_time": "2024-12-05T10:20:05.254Z"
   },
   {
    "duration": 168,
    "start_time": "2024-12-05T10:20:17.877Z"
   },
   {
    "duration": 1708,
    "start_time": "2024-12-05T10:20:26.239Z"
   },
   {
    "duration": 96,
    "start_time": "2024-12-05T10:20:59.416Z"
   },
   {
    "duration": 82,
    "start_time": "2024-12-05T10:21:57.319Z"
   },
   {
    "duration": 86,
    "start_time": "2024-12-05T10:22:15.348Z"
   },
   {
    "duration": 7,
    "start_time": "2024-12-05T10:22:33.398Z"
   },
   {
    "duration": 7,
    "start_time": "2024-12-05T10:22:44.206Z"
   },
   {
    "duration": 6,
    "start_time": "2024-12-05T10:22:51.674Z"
   },
   {
    "duration": 1344,
    "start_time": "2024-12-05T10:32:15.651Z"
   },
   {
    "duration": 12,
    "start_time": "2024-12-05T10:37:17.818Z"
   },
   {
    "duration": 1377,
    "start_time": "2024-12-05T10:37:31.198Z"
   },
   {
    "duration": 17,
    "start_time": "2024-12-05T10:39:10.741Z"
   },
   {
    "duration": 7,
    "start_time": "2024-12-05T10:39:22.028Z"
   },
   {
    "duration": 4,
    "start_time": "2024-12-05T10:40:46.122Z"
   },
   {
    "duration": 12,
    "start_time": "2024-12-05T10:40:50.732Z"
   },
   {
    "duration": 17,
    "start_time": "2024-12-05T10:40:56.476Z"
   },
   {
    "duration": 19,
    "start_time": "2024-12-05T10:41:20.875Z"
   },
   {
    "duration": 18,
    "start_time": "2024-12-05T10:42:15.556Z"
   },
   {
    "duration": 9,
    "start_time": "2024-12-05T10:43:13.962Z"
   },
   {
    "duration": 13,
    "start_time": "2024-12-05T10:43:16.725Z"
   },
   {
    "duration": 10582,
    "start_time": "2024-12-05T11:32:13.777Z"
   },
   {
    "duration": 260,
    "start_time": "2024-12-05T11:32:24.362Z"
   },
   {
    "duration": 59,
    "start_time": "2024-12-05T11:32:24.624Z"
   },
   {
    "duration": 5,
    "start_time": "2024-12-05T11:32:24.685Z"
   },
   {
    "duration": 18,
    "start_time": "2024-12-05T11:32:24.692Z"
   },
   {
    "duration": 21,
    "start_time": "2024-12-05T11:32:24.711Z"
   },
   {
    "duration": 28,
    "start_time": "2024-12-05T11:32:24.734Z"
   },
   {
    "duration": 32,
    "start_time": "2024-12-05T11:32:24.764Z"
   },
   {
    "duration": 65,
    "start_time": "2024-12-05T11:32:24.798Z"
   },
   {
    "duration": 8,
    "start_time": "2024-12-05T11:32:24.868Z"
   },
   {
    "duration": 484,
    "start_time": "2024-12-05T11:32:24.879Z"
   },
   {
    "duration": 435,
    "start_time": "2024-12-05T11:32:25.364Z"
   },
   {
    "duration": 414,
    "start_time": "2024-12-05T11:32:25.801Z"
   },
   {
    "duration": 422,
    "start_time": "2024-12-05T11:32:26.216Z"
   },
   {
    "duration": 267,
    "start_time": "2024-12-05T11:32:26.640Z"
   },
   {
    "duration": 155,
    "start_time": "2024-12-05T11:32:26.908Z"
   },
   {
    "duration": 151,
    "start_time": "2024-12-05T11:32:27.065Z"
   },
   {
    "duration": 149,
    "start_time": "2024-12-05T11:32:27.217Z"
   },
   {
    "duration": 139,
    "start_time": "2024-12-05T11:32:27.368Z"
   },
   {
    "duration": 6,
    "start_time": "2024-12-05T11:32:27.509Z"
   },
   {
    "duration": 71,
    "start_time": "2024-12-05T11:32:27.517Z"
   },
   {
    "duration": 7,
    "start_time": "2024-12-05T11:32:27.589Z"
   },
   {
    "duration": 22,
    "start_time": "2024-12-05T11:32:27.598Z"
   },
   {
    "duration": 52,
    "start_time": "2024-12-05T11:32:27.623Z"
   },
   {
    "duration": 33,
    "start_time": "2024-12-05T11:32:27.677Z"
   },
   {
    "duration": 27,
    "start_time": "2024-12-05T11:32:27.712Z"
   },
   {
    "duration": 23435,
    "start_time": "2024-12-05T11:32:27.741Z"
   },
   {
    "duration": 261,
    "start_time": "2024-12-05T11:32:51.180Z"
   },
   {
    "duration": 50,
    "start_time": "2024-12-05T11:32:51.444Z"
   },
   {
    "duration": 5,
    "start_time": "2024-12-05T11:32:51.495Z"
   },
   {
    "duration": 42,
    "start_time": "2024-12-05T11:32:51.502Z"
   },
   {
    "duration": 23,
    "start_time": "2024-12-05T11:32:51.546Z"
   },
   {
    "duration": 37,
    "start_time": "2024-12-05T11:32:51.571Z"
   },
   {
    "duration": 28,
    "start_time": "2024-12-05T11:32:51.610Z"
   },
   {
    "duration": 47,
    "start_time": "2024-12-05T11:32:51.639Z"
   },
   {
    "duration": 392,
    "start_time": "2024-12-05T11:32:51.688Z"
   },
   {
    "duration": 472,
    "start_time": "2024-12-05T11:32:52.082Z"
   },
   {
    "duration": 378,
    "start_time": "2024-12-05T11:32:52.555Z"
   },
   {
    "duration": 164,
    "start_time": "2024-12-05T11:32:52.934Z"
   },
   {
    "duration": 144,
    "start_time": "2024-12-05T11:32:53.099Z"
   },
   {
    "duration": 156,
    "start_time": "2024-12-05T11:32:53.244Z"
   },
   {
    "duration": 251,
    "start_time": "2024-12-05T11:32:53.402Z"
   },
   {
    "duration": 153,
    "start_time": "2024-12-05T11:32:53.655Z"
   },
   {
    "duration": 142,
    "start_time": "2024-12-05T11:32:53.809Z"
   },
   {
    "duration": 15,
    "start_time": "2024-12-05T11:32:53.953Z"
   },
   {
    "duration": 10,
    "start_time": "2024-12-05T11:32:53.970Z"
   },
   {
    "duration": 6,
    "start_time": "2024-12-05T11:32:53.982Z"
   },
   {
    "duration": 1568,
    "start_time": "2024-12-05T11:32:53.990Z"
   },
   {
    "duration": 0,
    "start_time": "2024-12-05T11:32:55.560Z"
   },
   {
    "duration": 0,
    "start_time": "2024-12-05T11:32:55.561Z"
   },
   {
    "duration": 10,
    "start_time": "2024-12-05T11:34:57.159Z"
   },
   {
    "duration": 12,
    "start_time": "2024-12-05T11:34:58.216Z"
   },
   {
    "duration": 8,
    "start_time": "2024-12-05T11:35:15.307Z"
   },
   {
    "duration": 9,
    "start_time": "2024-12-05T11:41:04.642Z"
   },
   {
    "duration": 9,
    "start_time": "2024-12-05T11:41:05.700Z"
   },
   {
    "duration": 7,
    "start_time": "2024-12-05T11:41:09.065Z"
   },
   {
    "duration": 8,
    "start_time": "2024-12-05T11:41:35.537Z"
   },
   {
    "duration": 12,
    "start_time": "2024-12-05T11:42:28.300Z"
   },
   {
    "duration": 10,
    "start_time": "2024-12-05T11:42:32.622Z"
   },
   {
    "duration": 7,
    "start_time": "2024-12-05T11:42:33.427Z"
   },
   {
    "duration": 13,
    "start_time": "2024-12-05T11:42:49.020Z"
   },
   {
    "duration": 7,
    "start_time": "2024-12-05T11:42:49.771Z"
   },
   {
    "duration": 10,
    "start_time": "2024-12-05T11:46:57.173Z"
   },
   {
    "duration": 12,
    "start_time": "2024-12-05T11:47:00.866Z"
   },
   {
    "duration": 8,
    "start_time": "2024-12-05T11:47:01.514Z"
   },
   {
    "duration": 20,
    "start_time": "2024-12-05T11:47:08.826Z"
   },
   {
    "duration": 7,
    "start_time": "2024-12-05T11:47:20.030Z"
   },
   {
    "duration": 5,
    "start_time": "2024-12-05T11:47:56.899Z"
   },
   {
    "duration": 297,
    "start_time": "2024-12-05T11:48:59.527Z"
   },
   {
    "duration": 11406,
    "start_time": "2024-12-05T12:32:44.553Z"
   },
   {
    "duration": 278,
    "start_time": "2024-12-05T12:32:55.961Z"
   },
   {
    "duration": 62,
    "start_time": "2024-12-05T12:32:56.240Z"
   },
   {
    "duration": 6,
    "start_time": "2024-12-05T12:32:56.304Z"
   },
   {
    "duration": 27,
    "start_time": "2024-12-05T12:32:56.312Z"
   },
   {
    "duration": 30,
    "start_time": "2024-12-05T12:32:56.340Z"
   },
   {
    "duration": 22,
    "start_time": "2024-12-05T12:32:56.372Z"
   },
   {
    "duration": 27,
    "start_time": "2024-12-05T12:32:56.396Z"
   },
   {
    "duration": 66,
    "start_time": "2024-12-05T12:32:56.424Z"
   },
   {
    "duration": 9,
    "start_time": "2024-12-05T12:32:56.492Z"
   },
   {
    "duration": 443,
    "start_time": "2024-12-05T12:32:56.502Z"
   },
   {
    "duration": 434,
    "start_time": "2024-12-05T12:32:56.947Z"
   },
   {
    "duration": 387,
    "start_time": "2024-12-05T12:32:57.383Z"
   },
   {
    "duration": 398,
    "start_time": "2024-12-05T12:32:57.772Z"
   },
   {
    "duration": 265,
    "start_time": "2024-12-05T12:32:58.172Z"
   },
   {
    "duration": 149,
    "start_time": "2024-12-05T12:32:58.439Z"
   },
   {
    "duration": 154,
    "start_time": "2024-12-05T12:32:58.590Z"
   },
   {
    "duration": 168,
    "start_time": "2024-12-05T12:32:58.746Z"
   },
   {
    "duration": 142,
    "start_time": "2024-12-05T12:32:58.916Z"
   },
   {
    "duration": 7,
    "start_time": "2024-12-05T12:32:59.062Z"
   },
   {
    "duration": 43,
    "start_time": "2024-12-05T12:32:59.071Z"
   },
   {
    "duration": 6,
    "start_time": "2024-12-05T12:32:59.116Z"
   },
   {
    "duration": 42,
    "start_time": "2024-12-05T12:32:59.124Z"
   },
   {
    "duration": 23,
    "start_time": "2024-12-05T12:32:59.167Z"
   },
   {
    "duration": 20,
    "start_time": "2024-12-05T12:32:59.192Z"
   },
   {
    "duration": 62,
    "start_time": "2024-12-05T12:32:59.214Z"
   },
   {
    "duration": 23537,
    "start_time": "2024-12-05T12:32:59.277Z"
   },
   {
    "duration": 241,
    "start_time": "2024-12-05T12:33:22.818Z"
   },
   {
    "duration": 51,
    "start_time": "2024-12-05T12:33:23.061Z"
   },
   {
    "duration": 6,
    "start_time": "2024-12-05T12:33:23.114Z"
   },
   {
    "duration": 17,
    "start_time": "2024-12-05T12:33:23.122Z"
   },
   {
    "duration": 27,
    "start_time": "2024-12-05T12:33:23.141Z"
   },
   {
    "duration": 13,
    "start_time": "2024-12-05T12:33:23.169Z"
   },
   {
    "duration": 14,
    "start_time": "2024-12-05T12:33:23.184Z"
   },
   {
    "duration": 52,
    "start_time": "2024-12-05T12:33:23.199Z"
   },
   {
    "duration": 389,
    "start_time": "2024-12-05T12:33:23.253Z"
   },
   {
    "duration": 419,
    "start_time": "2024-12-05T12:33:23.643Z"
   },
   {
    "duration": 371,
    "start_time": "2024-12-05T12:33:24.064Z"
   },
   {
    "duration": 172,
    "start_time": "2024-12-05T12:33:24.436Z"
   },
   {
    "duration": 140,
    "start_time": "2024-12-05T12:33:24.609Z"
   },
   {
    "duration": 152,
    "start_time": "2024-12-05T12:33:24.751Z"
   },
   {
    "duration": 274,
    "start_time": "2024-12-05T12:33:24.905Z"
   },
   {
    "duration": 152,
    "start_time": "2024-12-05T12:33:25.181Z"
   },
   {
    "duration": 147,
    "start_time": "2024-12-05T12:33:25.334Z"
   },
   {
    "duration": 7,
    "start_time": "2024-12-05T12:33:25.483Z"
   },
   {
    "duration": 43,
    "start_time": "2024-12-05T12:33:25.492Z"
   },
   {
    "duration": 26,
    "start_time": "2024-12-05T12:33:25.537Z"
   },
   {
    "duration": 27,
    "start_time": "2024-12-05T12:33:25.565Z"
   },
   {
    "duration": 332,
    "start_time": "2024-12-05T12:33:25.593Z"
   },
   {
    "duration": 1589,
    "start_time": "2024-12-05T12:33:25.927Z"
   },
   {
    "duration": 5,
    "start_time": "2024-12-05T12:53:56.851Z"
   },
   {
    "duration": 11,
    "start_time": "2024-12-05T12:54:06.832Z"
   },
   {
    "duration": 12,
    "start_time": "2024-12-05T12:54:28.882Z"
   },
   {
    "duration": 11,
    "start_time": "2024-12-05T12:55:33.227Z"
   },
   {
    "duration": 16598,
    "start_time": "2024-12-06T04:59:12.691Z"
   },
   {
    "duration": 301,
    "start_time": "2024-12-06T04:59:29.291Z"
   },
   {
    "duration": 58,
    "start_time": "2024-12-06T04:59:29.594Z"
   },
   {
    "duration": 6,
    "start_time": "2024-12-06T04:59:29.654Z"
   },
   {
    "duration": 38,
    "start_time": "2024-12-06T04:59:29.661Z"
   },
   {
    "duration": 8,
    "start_time": "2024-12-06T04:59:29.700Z"
   },
   {
    "duration": 25,
    "start_time": "2024-12-06T04:59:29.710Z"
   },
   {
    "duration": 25,
    "start_time": "2024-12-06T04:59:29.736Z"
   },
   {
    "duration": 66,
    "start_time": "2024-12-06T04:59:29.763Z"
   },
   {
    "duration": 8,
    "start_time": "2024-12-06T04:59:29.832Z"
   },
   {
    "duration": 470,
    "start_time": "2024-12-06T04:59:29.841Z"
   },
   {
    "duration": 420,
    "start_time": "2024-12-06T04:59:30.312Z"
   },
   {
    "duration": 402,
    "start_time": "2024-12-06T04:59:30.734Z"
   },
   {
    "duration": 418,
    "start_time": "2024-12-06T04:59:31.138Z"
   },
   {
    "duration": 264,
    "start_time": "2024-12-06T04:59:31.558Z"
   },
   {
    "duration": 143,
    "start_time": "2024-12-06T04:59:31.825Z"
   },
   {
    "duration": 151,
    "start_time": "2024-12-06T04:59:31.969Z"
   },
   {
    "duration": 136,
    "start_time": "2024-12-06T04:59:32.121Z"
   },
   {
    "duration": 132,
    "start_time": "2024-12-06T04:59:32.258Z"
   },
   {
    "duration": 7,
    "start_time": "2024-12-06T04:59:32.398Z"
   },
   {
    "duration": 21,
    "start_time": "2024-12-06T04:59:32.406Z"
   },
   {
    "duration": 9,
    "start_time": "2024-12-06T04:59:32.428Z"
   },
   {
    "duration": 5,
    "start_time": "2024-12-06T04:59:32.438Z"
   },
   {
    "duration": 14,
    "start_time": "2024-12-06T04:59:32.445Z"
   },
   {
    "duration": 5,
    "start_time": "2024-12-06T04:59:32.460Z"
   },
   {
    "duration": 6,
    "start_time": "2024-12-06T04:59:32.466Z"
   },
   {
    "duration": 21686,
    "start_time": "2024-12-06T04:59:32.474Z"
   },
   {
    "duration": 1021,
    "start_time": "2024-12-06T04:59:54.163Z"
   },
   {
    "duration": 47,
    "start_time": "2024-12-06T04:59:55.187Z"
   },
   {
    "duration": 6,
    "start_time": "2024-12-06T04:59:55.235Z"
   },
   {
    "duration": 9,
    "start_time": "2024-12-06T04:59:55.242Z"
   },
   {
    "duration": 8,
    "start_time": "2024-12-06T04:59:55.253Z"
   },
   {
    "duration": 37,
    "start_time": "2024-12-06T04:59:55.263Z"
   },
   {
    "duration": 6,
    "start_time": "2024-12-06T04:59:55.302Z"
   },
   {
    "duration": 37,
    "start_time": "2024-12-06T04:59:55.310Z"
   },
   {
    "duration": 395,
    "start_time": "2024-12-06T04:59:55.349Z"
   },
   {
    "duration": 429,
    "start_time": "2024-12-06T04:59:55.746Z"
   },
   {
    "duration": 373,
    "start_time": "2024-12-06T04:59:56.176Z"
   },
   {
    "duration": 154,
    "start_time": "2024-12-06T04:59:56.550Z"
   },
   {
    "duration": 132,
    "start_time": "2024-12-06T04:59:56.705Z"
   },
   {
    "duration": 134,
    "start_time": "2024-12-06T04:59:56.838Z"
   },
   {
    "duration": 238,
    "start_time": "2024-12-06T04:59:56.974Z"
   },
   {
    "duration": 141,
    "start_time": "2024-12-06T04:59:57.214Z"
   },
   {
    "duration": 133,
    "start_time": "2024-12-06T04:59:57.356Z"
   },
   {
    "duration": 8,
    "start_time": "2024-12-06T04:59:57.498Z"
   },
   {
    "duration": 7,
    "start_time": "2024-12-06T04:59:57.507Z"
   },
   {
    "duration": 11,
    "start_time": "2024-12-06T04:59:57.515Z"
   },
   {
    "duration": 4,
    "start_time": "2024-12-06T04:59:57.528Z"
   },
   {
    "duration": 315,
    "start_time": "2024-12-06T04:59:57.534Z"
   },
   {
    "duration": 5,
    "start_time": "2024-12-06T04:59:57.850Z"
   },
   {
    "duration": 497,
    "start_time": "2024-12-06T05:03:58.607Z"
   },
   {
    "duration": 332,
    "start_time": "2024-12-06T05:05:18.612Z"
   },
   {
    "duration": 5,
    "start_time": "2024-12-06T05:05:35.863Z"
   },
   {
    "duration": 338,
    "start_time": "2024-12-06T05:05:36.506Z"
   },
   {
    "duration": 20,
    "start_time": "2024-12-06T05:06:50.701Z"
   },
   {
    "duration": 21,
    "start_time": "2024-12-06T05:07:19.965Z"
   },
   {
    "duration": 20,
    "start_time": "2024-12-06T05:07:39.767Z"
   },
   {
    "duration": 20,
    "start_time": "2024-12-06T05:08:05.490Z"
   },
   {
    "duration": 21,
    "start_time": "2024-12-06T05:08:25.495Z"
   },
   {
    "duration": 40,
    "start_time": "2024-12-06T05:08:44.060Z"
   },
   {
    "duration": 7,
    "start_time": "2024-12-06T05:08:55.294Z"
   },
   {
    "duration": 1259,
    "start_time": "2024-12-06T05:08:55.827Z"
   },
   {
    "duration": 16,
    "start_time": "2024-12-06T05:08:57.328Z"
   },
   {
    "duration": 44,
    "start_time": "2024-12-06T05:09:13.643Z"
   },
   {
    "duration": 10010,
    "start_time": "2024-12-06T05:10:03.255Z"
   },
   {
    "duration": 128,
    "start_time": "2024-12-06T05:10:13.267Z"
   },
   {
    "duration": 52,
    "start_time": "2024-12-06T05:10:13.396Z"
   },
   {
    "duration": 6,
    "start_time": "2024-12-06T05:10:13.450Z"
   },
   {
    "duration": 24,
    "start_time": "2024-12-06T05:10:13.458Z"
   },
   {
    "duration": 20,
    "start_time": "2024-12-06T05:10:13.484Z"
   },
   {
    "duration": 20,
    "start_time": "2024-12-06T05:10:13.506Z"
   },
   {
    "duration": 26,
    "start_time": "2024-12-06T05:10:13.528Z"
   },
   {
    "duration": 70,
    "start_time": "2024-12-06T05:10:13.555Z"
   },
   {
    "duration": 8,
    "start_time": "2024-12-06T05:10:13.629Z"
   },
   {
    "duration": 424,
    "start_time": "2024-12-06T05:10:13.638Z"
   },
   {
    "duration": 415,
    "start_time": "2024-12-06T05:10:14.064Z"
   },
   {
    "duration": 369,
    "start_time": "2024-12-06T05:10:14.481Z"
   },
   {
    "duration": 406,
    "start_time": "2024-12-06T05:10:14.851Z"
   },
   {
    "duration": 253,
    "start_time": "2024-12-06T05:10:15.259Z"
   },
   {
    "duration": 147,
    "start_time": "2024-12-06T05:10:15.513Z"
   },
   {
    "duration": 142,
    "start_time": "2024-12-06T05:10:15.662Z"
   },
   {
    "duration": 137,
    "start_time": "2024-12-06T05:10:15.805Z"
   },
   {
    "duration": 132,
    "start_time": "2024-12-06T05:10:15.943Z"
   },
   {
    "duration": 7,
    "start_time": "2024-12-06T05:10:16.076Z"
   },
   {
    "duration": 27,
    "start_time": "2024-12-06T05:10:16.084Z"
   },
   {
    "duration": 6,
    "start_time": "2024-12-06T05:10:16.114Z"
   },
   {
    "duration": 7,
    "start_time": "2024-12-06T05:10:16.122Z"
   },
   {
    "duration": 8,
    "start_time": "2024-12-06T05:10:16.131Z"
   },
   {
    "duration": 6,
    "start_time": "2024-12-06T05:10:16.140Z"
   },
   {
    "duration": 5,
    "start_time": "2024-12-06T05:10:16.147Z"
   },
   {
    "duration": 21722,
    "start_time": "2024-12-06T05:10:16.154Z"
   },
   {
    "duration": 209,
    "start_time": "2024-12-06T05:10:37.881Z"
   },
   {
    "duration": 48,
    "start_time": "2024-12-06T05:10:38.093Z"
   },
   {
    "duration": 6,
    "start_time": "2024-12-06T05:10:38.142Z"
   },
   {
    "duration": 7,
    "start_time": "2024-12-06T05:10:38.149Z"
   },
   {
    "duration": 42,
    "start_time": "2024-12-06T05:10:38.158Z"
   },
   {
    "duration": 10,
    "start_time": "2024-12-06T05:10:38.202Z"
   },
   {
    "duration": 6,
    "start_time": "2024-12-06T05:10:38.214Z"
   },
   {
    "duration": 64,
    "start_time": "2024-12-06T05:10:38.222Z"
   },
   {
    "duration": 386,
    "start_time": "2024-12-06T05:10:38.287Z"
   },
   {
    "duration": 431,
    "start_time": "2024-12-06T05:10:38.675Z"
   },
   {
    "duration": 399,
    "start_time": "2024-12-06T05:10:39.107Z"
   },
   {
    "duration": 159,
    "start_time": "2024-12-06T05:10:39.507Z"
   },
   {
    "duration": 152,
    "start_time": "2024-12-06T05:10:39.668Z"
   },
   {
    "duration": 143,
    "start_time": "2024-12-06T05:10:39.823Z"
   },
   {
    "duration": 237,
    "start_time": "2024-12-06T05:10:39.968Z"
   },
   {
    "duration": 149,
    "start_time": "2024-12-06T05:10:40.206Z"
   },
   {
    "duration": 146,
    "start_time": "2024-12-06T05:10:40.357Z"
   },
   {
    "duration": 8,
    "start_time": "2024-12-06T05:10:40.504Z"
   },
   {
    "duration": 20,
    "start_time": "2024-12-06T05:10:40.513Z"
   },
   {
    "duration": 8,
    "start_time": "2024-12-06T05:10:40.534Z"
   },
   {
    "duration": 16,
    "start_time": "2024-12-06T05:10:40.543Z"
   },
   {
    "duration": 357,
    "start_time": "2024-12-06T05:10:40.561Z"
   },
   {
    "duration": 47,
    "start_time": "2024-12-06T05:10:40.919Z"
   },
   {
    "duration": 37,
    "start_time": "2024-12-06T05:12:26.801Z"
   },
   {
    "duration": 332,
    "start_time": "2024-12-06T05:13:13.946Z"
   },
   {
    "duration": 5,
    "start_time": "2024-12-06T05:13:18.570Z"
   },
   {
    "duration": 337,
    "start_time": "2024-12-06T05:13:26.605Z"
   },
   {
    "duration": 9781,
    "start_time": "2024-12-06T05:14:50.170Z"
   },
   {
    "duration": 119,
    "start_time": "2024-12-06T05:14:59.953Z"
   },
   {
    "duration": 56,
    "start_time": "2024-12-06T05:15:00.074Z"
   },
   {
    "duration": 6,
    "start_time": "2024-12-06T05:15:00.131Z"
   },
   {
    "duration": 31,
    "start_time": "2024-12-06T05:15:00.138Z"
   },
   {
    "duration": 10,
    "start_time": "2024-12-06T05:15:00.170Z"
   },
   {
    "duration": 74,
    "start_time": "2024-12-06T05:15:00.181Z"
   },
   {
    "duration": 31,
    "start_time": "2024-12-06T05:15:00.257Z"
   },
   {
    "duration": 69,
    "start_time": "2024-12-06T05:15:00.290Z"
   },
   {
    "duration": 9,
    "start_time": "2024-12-06T05:15:00.362Z"
   },
   {
    "duration": 413,
    "start_time": "2024-12-06T05:15:00.372Z"
   },
   {
    "duration": 422,
    "start_time": "2024-12-06T05:15:00.787Z"
   },
   {
    "duration": 355,
    "start_time": "2024-12-06T05:15:01.210Z"
   },
   {
    "duration": 393,
    "start_time": "2024-12-06T05:15:01.567Z"
   },
   {
    "duration": 253,
    "start_time": "2024-12-06T05:15:01.962Z"
   },
   {
    "duration": 146,
    "start_time": "2024-12-06T05:15:02.217Z"
   },
   {
    "duration": 144,
    "start_time": "2024-12-06T05:15:02.365Z"
   },
   {
    "duration": 141,
    "start_time": "2024-12-06T05:15:02.511Z"
   },
   {
    "duration": 139,
    "start_time": "2024-12-06T05:15:02.654Z"
   },
   {
    "duration": 7,
    "start_time": "2024-12-06T05:15:02.797Z"
   },
   {
    "duration": 46,
    "start_time": "2024-12-06T05:15:02.806Z"
   },
   {
    "duration": 5,
    "start_time": "2024-12-06T05:15:02.853Z"
   },
   {
    "duration": 9,
    "start_time": "2024-12-06T05:15:02.860Z"
   },
   {
    "duration": 6,
    "start_time": "2024-12-06T05:15:02.871Z"
   },
   {
    "duration": 41,
    "start_time": "2024-12-06T05:15:02.879Z"
   },
   {
    "duration": 15,
    "start_time": "2024-12-06T05:15:02.922Z"
   },
   {
    "duration": 22273,
    "start_time": "2024-12-06T05:15:02.938Z"
   },
   {
    "duration": 222,
    "start_time": "2024-12-06T05:15:25.217Z"
   },
   {
    "duration": 49,
    "start_time": "2024-12-06T05:15:25.442Z"
   },
   {
    "duration": 4,
    "start_time": "2024-12-06T05:15:25.493Z"
   },
   {
    "duration": 17,
    "start_time": "2024-12-06T05:15:25.499Z"
   },
   {
    "duration": 13,
    "start_time": "2024-12-06T05:15:25.518Z"
   },
   {
    "duration": 6,
    "start_time": "2024-12-06T05:15:25.532Z"
   },
   {
    "duration": 17,
    "start_time": "2024-12-06T05:15:25.540Z"
   },
   {
    "duration": 64,
    "start_time": "2024-12-06T05:15:25.558Z"
   },
   {
    "duration": 413,
    "start_time": "2024-12-06T05:15:25.624Z"
   },
   {
    "duration": 451,
    "start_time": "2024-12-06T05:15:26.038Z"
   },
   {
    "duration": 418,
    "start_time": "2024-12-06T05:15:26.490Z"
   },
   {
    "duration": 166,
    "start_time": "2024-12-06T05:15:26.909Z"
   },
   {
    "duration": 134,
    "start_time": "2024-12-06T05:15:27.076Z"
   },
   {
    "duration": 132,
    "start_time": "2024-12-06T05:15:27.212Z"
   },
   {
    "duration": 241,
    "start_time": "2024-12-06T05:15:27.345Z"
   },
   {
    "duration": 143,
    "start_time": "2024-12-06T05:15:27.588Z"
   },
   {
    "duration": 145,
    "start_time": "2024-12-06T05:15:27.732Z"
   },
   {
    "duration": 7,
    "start_time": "2024-12-06T05:15:27.879Z"
   },
   {
    "duration": 18,
    "start_time": "2024-12-06T05:15:27.888Z"
   },
   {
    "duration": 8,
    "start_time": "2024-12-06T05:15:27.908Z"
   },
   {
    "duration": 14,
    "start_time": "2024-12-06T05:15:27.918Z"
   },
   {
    "duration": 300,
    "start_time": "2024-12-06T05:15:27.934Z"
   },
   {
    "duration": 6,
    "start_time": "2024-12-06T05:15:28.236Z"
   },
   {
    "duration": 364,
    "start_time": "2024-12-06T05:15:28.244Z"
   },
   {
    "duration": 7,
    "start_time": "2024-12-06T05:17:04.732Z"
   },
   {
    "duration": 365,
    "start_time": "2024-12-06T05:17:05.379Z"
   },
   {
    "duration": 6,
    "start_time": "2024-12-06T05:17:34.736Z"
   },
   {
    "duration": 342,
    "start_time": "2024-12-06T05:17:35.055Z"
   },
   {
    "duration": 9643,
    "start_time": "2024-12-06T05:17:42.604Z"
   },
   {
    "duration": 143,
    "start_time": "2024-12-06T05:17:52.249Z"
   },
   {
    "duration": 59,
    "start_time": "2024-12-06T05:17:52.394Z"
   },
   {
    "duration": 5,
    "start_time": "2024-12-06T05:17:52.455Z"
   },
   {
    "duration": 22,
    "start_time": "2024-12-06T05:17:52.462Z"
   },
   {
    "duration": 8,
    "start_time": "2024-12-06T05:17:52.498Z"
   },
   {
    "duration": 21,
    "start_time": "2024-12-06T05:17:52.508Z"
   },
   {
    "duration": 25,
    "start_time": "2024-12-06T05:17:52.530Z"
   },
   {
    "duration": 76,
    "start_time": "2024-12-06T05:17:52.556Z"
   },
   {
    "duration": 8,
    "start_time": "2024-12-06T05:17:52.636Z"
   },
   {
    "duration": 424,
    "start_time": "2024-12-06T05:17:52.646Z"
   },
   {
    "duration": 410,
    "start_time": "2024-12-06T05:17:53.071Z"
   },
   {
    "duration": 374,
    "start_time": "2024-12-06T05:17:53.483Z"
   },
   {
    "duration": 400,
    "start_time": "2024-12-06T05:17:53.858Z"
   },
   {
    "duration": 251,
    "start_time": "2024-12-06T05:17:54.260Z"
   },
   {
    "duration": 144,
    "start_time": "2024-12-06T05:17:54.513Z"
   },
   {
    "duration": 148,
    "start_time": "2024-12-06T05:17:54.659Z"
   },
   {
    "duration": 142,
    "start_time": "2024-12-06T05:17:54.809Z"
   },
   {
    "duration": 133,
    "start_time": "2024-12-06T05:17:54.953Z"
   },
   {
    "duration": 13,
    "start_time": "2024-12-06T05:17:55.088Z"
   },
   {
    "duration": 16,
    "start_time": "2024-12-06T05:17:55.103Z"
   },
   {
    "duration": 12,
    "start_time": "2024-12-06T05:17:55.120Z"
   },
   {
    "duration": 7,
    "start_time": "2024-12-06T05:17:55.134Z"
   },
   {
    "duration": 7,
    "start_time": "2024-12-06T05:17:55.142Z"
   },
   {
    "duration": 6,
    "start_time": "2024-12-06T05:17:55.151Z"
   },
   {
    "duration": 7,
    "start_time": "2024-12-06T05:17:55.158Z"
   },
   {
    "duration": 22074,
    "start_time": "2024-12-06T05:17:55.167Z"
   },
   {
    "duration": 211,
    "start_time": "2024-12-06T05:18:17.244Z"
   },
   {
    "duration": 55,
    "start_time": "2024-12-06T05:18:17.457Z"
   },
   {
    "duration": 6,
    "start_time": "2024-12-06T05:18:17.513Z"
   },
   {
    "duration": 6,
    "start_time": "2024-12-06T05:18:17.521Z"
   },
   {
    "duration": 9,
    "start_time": "2024-12-06T05:18:17.529Z"
   },
   {
    "duration": 7,
    "start_time": "2024-12-06T05:18:17.540Z"
   },
   {
    "duration": 7,
    "start_time": "2024-12-06T05:18:17.548Z"
   },
   {
    "duration": 69,
    "start_time": "2024-12-06T05:18:17.556Z"
   },
   {
    "duration": 400,
    "start_time": "2024-12-06T05:18:17.627Z"
   },
   {
    "duration": 436,
    "start_time": "2024-12-06T05:18:18.029Z"
   },
   {
    "duration": 379,
    "start_time": "2024-12-06T05:18:18.468Z"
   },
   {
    "duration": 159,
    "start_time": "2024-12-06T05:18:18.848Z"
   },
   {
    "duration": 127,
    "start_time": "2024-12-06T05:18:19.008Z"
   },
   {
    "duration": 152,
    "start_time": "2024-12-06T05:18:19.136Z"
   },
   {
    "duration": 234,
    "start_time": "2024-12-06T05:18:19.297Z"
   },
   {
    "duration": 147,
    "start_time": "2024-12-06T05:18:19.532Z"
   },
   {
    "duration": 141,
    "start_time": "2024-12-06T05:18:19.680Z"
   },
   {
    "duration": 8,
    "start_time": "2024-12-06T05:18:19.822Z"
   },
   {
    "duration": 17,
    "start_time": "2024-12-06T05:18:19.832Z"
   },
   {
    "duration": 8,
    "start_time": "2024-12-06T05:18:19.850Z"
   },
   {
    "duration": 18,
    "start_time": "2024-12-06T05:18:19.859Z"
   },
   {
    "duration": 291,
    "start_time": "2024-12-06T05:18:19.879Z"
   },
   {
    "duration": 6,
    "start_time": "2024-12-06T05:18:20.172Z"
   },
   {
    "duration": 385,
    "start_time": "2024-12-06T05:18:20.179Z"
   },
   {
    "duration": 12,
    "start_time": "2024-12-06T05:20:08.711Z"
   },
   {
    "duration": 7,
    "start_time": "2024-12-06T05:21:36.931Z"
   },
   {
    "duration": 370,
    "start_time": "2024-12-06T05:21:37.694Z"
   },
   {
    "duration": 9719,
    "start_time": "2024-12-06T06:42:44.747Z"
   },
   {
    "duration": 218,
    "start_time": "2024-12-06T06:42:54.467Z"
   },
   {
    "duration": 59,
    "start_time": "2024-12-06T06:42:54.686Z"
   },
   {
    "duration": 6,
    "start_time": "2024-12-06T06:42:54.747Z"
   },
   {
    "duration": 8,
    "start_time": "2024-12-06T06:42:54.754Z"
   },
   {
    "duration": 36,
    "start_time": "2024-12-06T06:42:54.764Z"
   },
   {
    "duration": 22,
    "start_time": "2024-12-06T06:42:54.801Z"
   },
   {
    "duration": 27,
    "start_time": "2024-12-06T06:42:54.825Z"
   },
   {
    "duration": 68,
    "start_time": "2024-12-06T06:42:54.854Z"
   },
   {
    "duration": 9,
    "start_time": "2024-12-06T06:42:54.925Z"
   },
   {
    "duration": 428,
    "start_time": "2024-12-06T06:42:54.935Z"
   },
   {
    "duration": 424,
    "start_time": "2024-12-06T06:42:55.365Z"
   },
   {
    "duration": 358,
    "start_time": "2024-12-06T06:42:55.790Z"
   },
   {
    "duration": 406,
    "start_time": "2024-12-06T06:42:56.150Z"
   },
   {
    "duration": 265,
    "start_time": "2024-12-06T06:42:56.558Z"
   },
   {
    "duration": 143,
    "start_time": "2024-12-06T06:42:56.825Z"
   },
   {
    "duration": 139,
    "start_time": "2024-12-06T06:42:56.970Z"
   },
   {
    "duration": 141,
    "start_time": "2024-12-06T06:42:57.111Z"
   },
   {
    "duration": 131,
    "start_time": "2024-12-06T06:42:57.254Z"
   },
   {
    "duration": 13,
    "start_time": "2024-12-06T06:42:57.387Z"
   },
   {
    "duration": 17,
    "start_time": "2024-12-06T06:42:57.401Z"
   },
   {
    "duration": 3,
    "start_time": "2024-12-06T06:42:57.420Z"
   },
   {
    "duration": 5,
    "start_time": "2024-12-06T06:42:57.424Z"
   },
   {
    "duration": 5,
    "start_time": "2024-12-06T06:42:57.431Z"
   },
   {
    "duration": 5,
    "start_time": "2024-12-06T06:42:57.437Z"
   },
   {
    "duration": 51,
    "start_time": "2024-12-06T06:42:57.443Z"
   },
   {
    "duration": 22082,
    "start_time": "2024-12-06T06:42:57.495Z"
   },
   {
    "duration": 213,
    "start_time": "2024-12-06T06:43:19.581Z"
   },
   {
    "duration": 57,
    "start_time": "2024-12-06T06:43:19.795Z"
   },
   {
    "duration": 5,
    "start_time": "2024-12-06T06:43:19.853Z"
   },
   {
    "duration": 15,
    "start_time": "2024-12-06T06:43:19.860Z"
   },
   {
    "duration": 31,
    "start_time": "2024-12-06T06:43:19.876Z"
   },
   {
    "duration": 10,
    "start_time": "2024-12-06T06:43:19.909Z"
   },
   {
    "duration": 8,
    "start_time": "2024-12-06T06:43:19.921Z"
   },
   {
    "duration": 63,
    "start_time": "2024-12-06T06:43:19.931Z"
   },
   {
    "duration": 393,
    "start_time": "2024-12-06T06:43:19.995Z"
   },
   {
    "duration": 449,
    "start_time": "2024-12-06T06:43:20.390Z"
   },
   {
    "duration": 430,
    "start_time": "2024-12-06T06:43:20.841Z"
   },
   {
    "duration": 164,
    "start_time": "2024-12-06T06:43:21.273Z"
   },
   {
    "duration": 140,
    "start_time": "2024-12-06T06:43:21.439Z"
   },
   {
    "duration": 153,
    "start_time": "2024-12-06T06:43:21.581Z"
   },
   {
    "duration": 261,
    "start_time": "2024-12-06T06:43:21.736Z"
   },
   {
    "duration": 154,
    "start_time": "2024-12-06T06:43:22.000Z"
   },
   {
    "duration": 148,
    "start_time": "2024-12-06T06:43:22.155Z"
   },
   {
    "duration": 9,
    "start_time": "2024-12-06T06:43:22.304Z"
   },
   {
    "duration": 21,
    "start_time": "2024-12-06T06:43:22.315Z"
   },
   {
    "duration": 15,
    "start_time": "2024-12-06T06:43:22.338Z"
   },
   {
    "duration": 6,
    "start_time": "2024-12-06T06:43:22.354Z"
   },
   {
    "duration": 302,
    "start_time": "2024-12-06T06:43:22.362Z"
   },
   {
    "duration": 6,
    "start_time": "2024-12-06T06:43:22.666Z"
   },
   {
    "duration": 366,
    "start_time": "2024-12-06T06:43:22.673Z"
   },
   {
    "duration": 7,
    "start_time": "2024-12-06T07:09:26.319Z"
   },
   {
    "duration": 21,
    "start_time": "2024-12-06T07:09:31.427Z"
   },
   {
    "duration": 11,
    "start_time": "2024-12-06T07:09:38.382Z"
   },
   {
    "duration": 9,
    "start_time": "2024-12-06T07:09:43.813Z"
   },
   {
    "duration": 9,
    "start_time": "2024-12-06T07:09:47.646Z"
   },
   {
    "duration": 19,
    "start_time": "2024-12-06T07:09:55.463Z"
   },
   {
    "duration": 7,
    "start_time": "2024-12-06T07:09:59.355Z"
   },
   {
    "duration": 3,
    "start_time": "2024-12-06T07:10:00.363Z"
   },
   {
    "duration": 1300,
    "start_time": "2024-12-06T07:17:00.819Z"
   },
   {
    "duration": 1086,
    "start_time": "2024-12-06T07:17:57.144Z"
   },
   {
    "duration": 8,
    "start_time": "2024-12-06T07:19:05.015Z"
   },
   {
    "duration": 14,
    "start_time": "2024-12-06T07:19:22.522Z"
   },
   {
    "duration": 15,
    "start_time": "2024-12-06T07:19:28.388Z"
   },
   {
    "duration": 9,
    "start_time": "2024-12-06T07:19:40.257Z"
   },
   {
    "duration": 10,
    "start_time": "2024-12-06T07:20:43.918Z"
   },
   {
    "duration": 17974,
    "start_time": "2024-12-06T10:30:10.692Z"
   },
   {
    "duration": 184,
    "start_time": "2024-12-06T10:30:28.669Z"
   },
   {
    "duration": 63,
    "start_time": "2024-12-06T10:30:28.855Z"
   },
   {
    "duration": 5,
    "start_time": "2024-12-06T10:30:28.920Z"
   },
   {
    "duration": 35,
    "start_time": "2024-12-06T10:30:28.928Z"
   },
   {
    "duration": 10,
    "start_time": "2024-12-06T10:30:28.965Z"
   },
   {
    "duration": 33,
    "start_time": "2024-12-06T10:30:28.977Z"
   },
   {
    "duration": 28,
    "start_time": "2024-12-06T10:30:29.012Z"
   },
   {
    "duration": 49,
    "start_time": "2024-12-06T10:30:29.062Z"
   },
   {
    "duration": 9,
    "start_time": "2024-12-06T10:30:29.113Z"
   },
   {
    "duration": 490,
    "start_time": "2024-12-06T10:30:29.124Z"
   },
   {
    "duration": 457,
    "start_time": "2024-12-06T10:30:29.616Z"
   },
   {
    "duration": 414,
    "start_time": "2024-12-06T10:30:30.077Z"
   },
   {
    "duration": 487,
    "start_time": "2024-12-06T10:30:30.494Z"
   },
   {
    "duration": 281,
    "start_time": "2024-12-06T10:30:30.983Z"
   },
   {
    "duration": 176,
    "start_time": "2024-12-06T10:30:31.266Z"
   },
   {
    "duration": 163,
    "start_time": "2024-12-06T10:30:31.443Z"
   },
   {
    "duration": 149,
    "start_time": "2024-12-06T10:30:31.608Z"
   },
   {
    "duration": 143,
    "start_time": "2024-12-06T10:30:31.762Z"
   },
   {
    "duration": 6,
    "start_time": "2024-12-06T10:30:31.907Z"
   },
   {
    "duration": 19,
    "start_time": "2024-12-06T10:30:31.915Z"
   },
   {
    "duration": 24,
    "start_time": "2024-12-06T10:30:31.935Z"
   },
   {
    "duration": 9,
    "start_time": "2024-12-06T10:30:31.962Z"
   },
   {
    "duration": 19,
    "start_time": "2024-12-06T10:30:31.972Z"
   },
   {
    "duration": 23,
    "start_time": "2024-12-06T10:30:31.993Z"
   },
   {
    "duration": 18,
    "start_time": "2024-12-06T10:30:32.018Z"
   },
   {
    "duration": 24681,
    "start_time": "2024-12-06T10:30:32.038Z"
   },
   {
    "duration": 432,
    "start_time": "2024-12-06T10:30:56.721Z"
   },
   {
    "duration": 55,
    "start_time": "2024-12-06T10:30:57.155Z"
   },
   {
    "duration": 4,
    "start_time": "2024-12-06T10:30:57.212Z"
   },
   {
    "duration": 20,
    "start_time": "2024-12-06T10:30:57.218Z"
   },
   {
    "duration": 28,
    "start_time": "2024-12-06T10:30:57.240Z"
   },
   {
    "duration": 14,
    "start_time": "2024-12-06T10:30:57.271Z"
   },
   {
    "duration": 22,
    "start_time": "2024-12-06T10:30:57.287Z"
   },
   {
    "duration": 55,
    "start_time": "2024-12-06T10:30:57.311Z"
   },
   {
    "duration": 409,
    "start_time": "2024-12-06T10:30:57.368Z"
   },
   {
    "duration": 504,
    "start_time": "2024-12-06T10:30:57.779Z"
   },
   {
    "duration": 434,
    "start_time": "2024-12-06T10:30:58.285Z"
   },
   {
    "duration": 198,
    "start_time": "2024-12-06T10:30:58.721Z"
   },
   {
    "duration": 151,
    "start_time": "2024-12-06T10:30:58.921Z"
   },
   {
    "duration": 151,
    "start_time": "2024-12-06T10:30:59.080Z"
   },
   {
    "duration": 259,
    "start_time": "2024-12-06T10:30:59.232Z"
   },
   {
    "duration": 161,
    "start_time": "2024-12-06T10:30:59.492Z"
   },
   {
    "duration": 152,
    "start_time": "2024-12-06T10:30:59.661Z"
   },
   {
    "duration": 9,
    "start_time": "2024-12-06T10:30:59.817Z"
   },
   {
    "duration": 8,
    "start_time": "2024-12-06T10:30:59.828Z"
   },
   {
    "duration": 7,
    "start_time": "2024-12-06T10:30:59.863Z"
   },
   {
    "duration": 11,
    "start_time": "2024-12-06T10:30:59.872Z"
   },
   {
    "duration": 351,
    "start_time": "2024-12-06T10:30:59.885Z"
   },
   {
    "duration": 6,
    "start_time": "2024-12-06T10:31:00.237Z"
   },
   {
    "duration": 460,
    "start_time": "2024-12-06T10:31:00.245Z"
   },
   {
    "duration": 10,
    "start_time": "2024-12-06T10:31:00.707Z"
   },
   {
    "duration": 22,
    "start_time": "2024-12-06T10:31:00.719Z"
   },
   {
    "duration": 35,
    "start_time": "2024-12-06T10:31:00.743Z"
   },
   {
    "duration": 6,
    "start_time": "2024-12-06T10:32:34.946Z"
   },
   {
    "duration": 153,
    "start_time": "2024-12-06T10:32:35.359Z"
   },
   {
    "duration": 4,
    "start_time": "2024-12-06T10:45:08.292Z"
   },
   {
    "duration": 14,
    "start_time": "2024-12-06T10:45:10.091Z"
   },
   {
    "duration": 13,
    "start_time": "2024-12-06T10:47:32.621Z"
   },
   {
    "duration": 10758,
    "start_time": "2024-12-06T10:47:38.353Z"
   },
   {
    "duration": 165,
    "start_time": "2024-12-06T10:47:49.114Z"
   },
   {
    "duration": 57,
    "start_time": "2024-12-06T10:47:49.280Z"
   },
   {
    "duration": 5,
    "start_time": "2024-12-06T10:47:49.339Z"
   },
   {
    "duration": 8,
    "start_time": "2024-12-06T10:47:49.362Z"
   },
   {
    "duration": 22,
    "start_time": "2024-12-06T10:47:49.372Z"
   },
   {
    "duration": 37,
    "start_time": "2024-12-06T10:47:49.396Z"
   },
   {
    "duration": 35,
    "start_time": "2024-12-06T10:47:49.434Z"
   },
   {
    "duration": 44,
    "start_time": "2024-12-06T10:47:49.473Z"
   },
   {
    "duration": 8,
    "start_time": "2024-12-06T10:47:49.520Z"
   },
   {
    "duration": 437,
    "start_time": "2024-12-06T10:47:49.530Z"
   },
   {
    "duration": 448,
    "start_time": "2024-12-06T10:47:49.968Z"
   },
   {
    "duration": 425,
    "start_time": "2024-12-06T10:47:50.417Z"
   },
   {
    "duration": 406,
    "start_time": "2024-12-06T10:47:50.844Z"
   },
   {
    "duration": 268,
    "start_time": "2024-12-06T10:47:51.252Z"
   },
   {
    "duration": 152,
    "start_time": "2024-12-06T10:47:51.522Z"
   },
   {
    "duration": 159,
    "start_time": "2024-12-06T10:47:51.676Z"
   },
   {
    "duration": 160,
    "start_time": "2024-12-06T10:47:51.837Z"
   },
   {
    "duration": 147,
    "start_time": "2024-12-06T10:47:51.999Z"
   },
   {
    "duration": 18,
    "start_time": "2024-12-06T10:47:52.148Z"
   },
   {
    "duration": 35,
    "start_time": "2024-12-06T10:47:52.168Z"
   },
   {
    "duration": 3,
    "start_time": "2024-12-06T10:47:52.205Z"
   },
   {
    "duration": 11,
    "start_time": "2024-12-06T10:47:52.209Z"
   },
   {
    "duration": 5,
    "start_time": "2024-12-06T10:47:52.221Z"
   },
   {
    "duration": 5,
    "start_time": "2024-12-06T10:47:52.228Z"
   },
   {
    "duration": 10,
    "start_time": "2024-12-06T10:47:52.234Z"
   },
   {
    "duration": 24063,
    "start_time": "2024-12-06T10:47:52.246Z"
   },
   {
    "duration": 208,
    "start_time": "2024-12-06T10:48:16.313Z"
   },
   {
    "duration": 52,
    "start_time": "2024-12-06T10:48:16.523Z"
   },
   {
    "duration": 7,
    "start_time": "2024-12-06T10:48:16.576Z"
   },
   {
    "duration": 12,
    "start_time": "2024-12-06T10:48:16.585Z"
   },
   {
    "duration": 27,
    "start_time": "2024-12-06T10:48:16.599Z"
   },
   {
    "duration": 13,
    "start_time": "2024-12-06T10:48:16.628Z"
   },
   {
    "duration": 10,
    "start_time": "2024-12-06T10:48:16.642Z"
   },
   {
    "duration": 41,
    "start_time": "2024-12-06T10:48:16.661Z"
   },
   {
    "duration": 422,
    "start_time": "2024-12-06T10:48:16.704Z"
   },
   {
    "duration": 434,
    "start_time": "2024-12-06T10:48:17.128Z"
   },
   {
    "duration": 388,
    "start_time": "2024-12-06T10:48:17.564Z"
   },
   {
    "duration": 160,
    "start_time": "2024-12-06T10:48:17.954Z"
   },
   {
    "duration": 136,
    "start_time": "2024-12-06T10:48:18.116Z"
   },
   {
    "duration": 146,
    "start_time": "2024-12-06T10:48:18.254Z"
   },
   {
    "duration": 247,
    "start_time": "2024-12-06T10:48:18.401Z"
   },
   {
    "duration": 164,
    "start_time": "2024-12-06T10:48:18.649Z"
   },
   {
    "duration": 168,
    "start_time": "2024-12-06T10:48:18.815Z"
   },
   {
    "duration": 8,
    "start_time": "2024-12-06T10:48:18.984Z"
   },
   {
    "duration": 7,
    "start_time": "2024-12-06T10:48:18.993Z"
   },
   {
    "duration": 5,
    "start_time": "2024-12-06T10:48:19.002Z"
   },
   {
    "duration": 9,
    "start_time": "2024-12-06T10:48:19.008Z"
   },
   {
    "duration": 353,
    "start_time": "2024-12-06T10:48:19.019Z"
   },
   {
    "duration": 6,
    "start_time": "2024-12-06T10:48:19.374Z"
   },
   {
    "duration": 352,
    "start_time": "2024-12-06T10:48:19.382Z"
   },
   {
    "duration": 10,
    "start_time": "2024-12-06T10:48:19.736Z"
   },
   {
    "duration": 38,
    "start_time": "2024-12-06T10:48:19.747Z"
   },
   {
    "duration": 5,
    "start_time": "2024-12-06T10:48:19.787Z"
   },
   {
    "duration": 12,
    "start_time": "2024-12-06T10:48:19.794Z"
   },
   {
    "duration": 7,
    "start_time": "2024-12-06T10:48:19.807Z"
   },
   {
    "duration": 5,
    "start_time": "2024-12-06T10:49:26.614Z"
   },
   {
    "duration": 85,
    "start_time": "2024-12-06T10:49:41.582Z"
   },
   {
    "duration": 14768,
    "start_time": "2024-12-06T10:49:50.758Z"
   },
   {
    "duration": 3,
    "start_time": "2024-12-06T10:51:18.630Z"
   },
   {
    "duration": 11,
    "start_time": "2024-12-06T10:59:26.239Z"
   },
   {
    "duration": 13,
    "start_time": "2024-12-06T10:59:43.571Z"
   },
   {
    "duration": 10657,
    "start_time": "2024-12-06T10:59:56.746Z"
   },
   {
    "duration": 146,
    "start_time": "2024-12-06T11:00:07.405Z"
   },
   {
    "duration": 68,
    "start_time": "2024-12-06T11:00:07.552Z"
   },
   {
    "duration": 5,
    "start_time": "2024-12-06T11:00:07.622Z"
   },
   {
    "duration": 40,
    "start_time": "2024-12-06T11:00:07.629Z"
   },
   {
    "duration": 13,
    "start_time": "2024-12-06T11:00:07.671Z"
   },
   {
    "duration": 25,
    "start_time": "2024-12-06T11:00:07.687Z"
   },
   {
    "duration": 56,
    "start_time": "2024-12-06T11:00:07.714Z"
   },
   {
    "duration": 44,
    "start_time": "2024-12-06T11:00:07.772Z"
   },
   {
    "duration": 43,
    "start_time": "2024-12-06T11:00:07.818Z"
   },
   {
    "duration": 453,
    "start_time": "2024-12-06T11:00:07.863Z"
   },
   {
    "duration": 492,
    "start_time": "2024-12-06T11:00:08.318Z"
   },
   {
    "duration": 454,
    "start_time": "2024-12-06T11:00:08.813Z"
   },
   {
    "duration": 436,
    "start_time": "2024-12-06T11:00:09.269Z"
   },
   {
    "duration": 295,
    "start_time": "2024-12-06T11:00:09.707Z"
   },
   {
    "duration": 171,
    "start_time": "2024-12-06T11:00:10.004Z"
   },
   {
    "duration": 160,
    "start_time": "2024-12-06T11:00:10.177Z"
   },
   {
    "duration": 161,
    "start_time": "2024-12-06T11:00:10.339Z"
   },
   {
    "duration": 188,
    "start_time": "2024-12-06T11:00:10.501Z"
   },
   {
    "duration": 8,
    "start_time": "2024-12-06T11:00:10.691Z"
   },
   {
    "duration": 27,
    "start_time": "2024-12-06T11:00:10.701Z"
   },
   {
    "duration": 4,
    "start_time": "2024-12-06T11:00:10.742Z"
   },
   {
    "duration": 19,
    "start_time": "2024-12-06T11:00:10.748Z"
   },
   {
    "duration": 59,
    "start_time": "2024-12-06T11:00:10.770Z"
   },
   {
    "duration": 7,
    "start_time": "2024-12-06T11:00:10.831Z"
   },
   {
    "duration": 37,
    "start_time": "2024-12-06T11:00:10.840Z"
   },
   {
    "duration": 25564,
    "start_time": "2024-12-06T11:00:10.880Z"
   },
   {
    "duration": 192,
    "start_time": "2024-12-06T11:00:36.447Z"
   },
   {
    "duration": 65,
    "start_time": "2024-12-06T11:00:36.641Z"
   },
   {
    "duration": 6,
    "start_time": "2024-12-06T11:00:36.708Z"
   },
   {
    "duration": 28,
    "start_time": "2024-12-06T11:00:36.716Z"
   },
   {
    "duration": 28,
    "start_time": "2024-12-06T11:00:36.746Z"
   },
   {
    "duration": 15,
    "start_time": "2024-12-06T11:00:36.777Z"
   },
   {
    "duration": 19,
    "start_time": "2024-12-06T11:00:36.794Z"
   },
   {
    "duration": 45,
    "start_time": "2024-12-06T11:00:36.815Z"
   },
   {
    "duration": 403,
    "start_time": "2024-12-06T11:00:36.867Z"
   },
   {
    "duration": 454,
    "start_time": "2024-12-06T11:00:37.272Z"
   },
   {
    "duration": 413,
    "start_time": "2024-12-06T11:00:37.728Z"
   },
   {
    "duration": 191,
    "start_time": "2024-12-06T11:00:38.143Z"
   },
   {
    "duration": 158,
    "start_time": "2024-12-06T11:00:38.335Z"
   },
   {
    "duration": 152,
    "start_time": "2024-12-06T11:00:38.495Z"
   },
   {
    "duration": 304,
    "start_time": "2024-12-06T11:00:38.648Z"
   },
   {
    "duration": 184,
    "start_time": "2024-12-06T11:00:38.954Z"
   },
   {
    "duration": 166,
    "start_time": "2024-12-06T11:00:39.140Z"
   },
   {
    "duration": 9,
    "start_time": "2024-12-06T11:00:39.308Z"
   },
   {
    "duration": 8,
    "start_time": "2024-12-06T11:00:39.319Z"
   },
   {
    "duration": 6,
    "start_time": "2024-12-06T11:00:39.329Z"
   },
   {
    "duration": 9,
    "start_time": "2024-12-06T11:00:39.362Z"
   },
   {
    "duration": 348,
    "start_time": "2024-12-06T11:00:39.374Z"
   },
   {
    "duration": 7,
    "start_time": "2024-12-06T11:00:39.724Z"
   },
   {
    "duration": 396,
    "start_time": "2024-12-06T11:00:39.733Z"
   },
   {
    "duration": 12,
    "start_time": "2024-12-06T11:00:40.131Z"
   },
   {
    "duration": 19,
    "start_time": "2024-12-06T11:00:40.145Z"
   },
   {
    "duration": 18,
    "start_time": "2024-12-06T11:00:40.166Z"
   },
   {
    "duration": 39,
    "start_time": "2024-12-06T11:00:40.186Z"
   },
   {
    "duration": 23,
    "start_time": "2024-12-06T11:00:40.226Z"
   },
   {
    "duration": 21,
    "start_time": "2024-12-06T11:00:40.251Z"
   },
   {
    "duration": 16741,
    "start_time": "2024-12-06T11:00:40.274Z"
   },
   {
    "duration": 0,
    "start_time": "2024-12-06T11:00:57.017Z"
   },
   {
    "duration": 12,
    "start_time": "2024-12-06T11:02:37.285Z"
   },
   {
    "duration": 11,
    "start_time": "2024-12-06T11:02:50.295Z"
   },
   {
    "duration": 16,
    "start_time": "2024-12-06T11:02:58.782Z"
   },
   {
    "duration": 5,
    "start_time": "2024-12-06T11:03:04.217Z"
   },
   {
    "duration": 6,
    "start_time": "2024-12-06T11:03:04.915Z"
   },
   {
    "duration": 3,
    "start_time": "2024-12-06T11:03:05.474Z"
   },
   {
    "duration": 5,
    "start_time": "2024-12-06T11:03:06.008Z"
   },
   {
    "duration": 3,
    "start_time": "2024-12-06T11:03:06.527Z"
   },
   {
    "duration": 15060,
    "start_time": "2024-12-06T11:03:07.104Z"
   },
   {
    "duration": 8,
    "start_time": "2024-12-06T11:14:26.574Z"
   },
   {
    "duration": 10723,
    "start_time": "2024-12-06T11:38:03.135Z"
   },
   {
    "duration": 199,
    "start_time": "2024-12-06T11:38:13.860Z"
   },
   {
    "duration": 57,
    "start_time": "2024-12-06T11:38:14.061Z"
   },
   {
    "duration": 6,
    "start_time": "2024-12-06T11:38:14.120Z"
   },
   {
    "duration": 38,
    "start_time": "2024-12-06T11:38:14.127Z"
   },
   {
    "duration": 9,
    "start_time": "2024-12-06T11:38:14.167Z"
   },
   {
    "duration": 22,
    "start_time": "2024-12-06T11:38:14.177Z"
   },
   {
    "duration": 62,
    "start_time": "2024-12-06T11:38:14.200Z"
   },
   {
    "duration": 49,
    "start_time": "2024-12-06T11:38:14.264Z"
   },
   {
    "duration": 9,
    "start_time": "2024-12-06T11:38:14.316Z"
   },
   {
    "duration": 436,
    "start_time": "2024-12-06T11:38:14.327Z"
   },
   {
    "duration": 438,
    "start_time": "2024-12-06T11:38:14.765Z"
   },
   {
    "duration": 424,
    "start_time": "2024-12-06T11:38:15.205Z"
   },
   {
    "duration": 422,
    "start_time": "2024-12-06T11:38:15.630Z"
   },
   {
    "duration": 270,
    "start_time": "2024-12-06T11:38:16.054Z"
   },
   {
    "duration": 158,
    "start_time": "2024-12-06T11:38:16.325Z"
   },
   {
    "duration": 156,
    "start_time": "2024-12-06T11:38:16.485Z"
   },
   {
    "duration": 150,
    "start_time": "2024-12-06T11:38:16.643Z"
   },
   {
    "duration": 152,
    "start_time": "2024-12-06T11:38:16.795Z"
   },
   {
    "duration": 16,
    "start_time": "2024-12-06T11:38:16.949Z"
   },
   {
    "duration": 29,
    "start_time": "2024-12-06T11:38:16.967Z"
   },
   {
    "duration": 3,
    "start_time": "2024-12-06T11:38:16.997Z"
   },
   {
    "duration": 5,
    "start_time": "2024-12-06T11:38:17.002Z"
   },
   {
    "duration": 20,
    "start_time": "2024-12-06T11:38:17.008Z"
   },
   {
    "duration": 17,
    "start_time": "2024-12-06T11:38:17.030Z"
   },
   {
    "duration": 8,
    "start_time": "2024-12-06T11:38:17.048Z"
   },
   {
    "duration": 24001,
    "start_time": "2024-12-06T11:38:17.057Z"
   },
   {
    "duration": 213,
    "start_time": "2024-12-06T11:38:41.065Z"
   },
   {
    "duration": 51,
    "start_time": "2024-12-06T11:38:41.280Z"
   },
   {
    "duration": 5,
    "start_time": "2024-12-06T11:38:41.333Z"
   },
   {
    "duration": 25,
    "start_time": "2024-12-06T11:38:41.340Z"
   },
   {
    "duration": 10,
    "start_time": "2024-12-06T11:38:41.367Z"
   },
   {
    "duration": 12,
    "start_time": "2024-12-06T11:38:41.378Z"
   },
   {
    "duration": 7,
    "start_time": "2024-12-06T11:38:41.391Z"
   },
   {
    "duration": 76,
    "start_time": "2024-12-06T11:38:41.400Z"
   },
   {
    "duration": 394,
    "start_time": "2024-12-06T11:38:41.478Z"
   },
   {
    "duration": 440,
    "start_time": "2024-12-06T11:38:41.874Z"
   },
   {
    "duration": 426,
    "start_time": "2024-12-06T11:38:42.315Z"
   },
   {
    "duration": 165,
    "start_time": "2024-12-06T11:38:42.742Z"
   },
   {
    "duration": 142,
    "start_time": "2024-12-06T11:38:42.908Z"
   },
   {
    "duration": 146,
    "start_time": "2024-12-06T11:38:43.051Z"
   },
   {
    "duration": 250,
    "start_time": "2024-12-06T11:38:43.199Z"
   },
   {
    "duration": 151,
    "start_time": "2024-12-06T11:38:43.450Z"
   },
   {
    "duration": 144,
    "start_time": "2024-12-06T11:38:43.603Z"
   },
   {
    "duration": 18,
    "start_time": "2024-12-06T11:38:43.749Z"
   },
   {
    "duration": 8,
    "start_time": "2024-12-06T11:38:43.769Z"
   },
   {
    "duration": 6,
    "start_time": "2024-12-06T11:38:43.779Z"
   },
   {
    "duration": 22,
    "start_time": "2024-12-06T11:38:43.786Z"
   },
   {
    "duration": 333,
    "start_time": "2024-12-06T11:38:43.810Z"
   },
   {
    "duration": 5,
    "start_time": "2024-12-06T11:38:44.145Z"
   },
   {
    "duration": 380,
    "start_time": "2024-12-06T11:38:44.152Z"
   },
   {
    "duration": 13,
    "start_time": "2024-12-06T11:38:44.533Z"
   },
   {
    "duration": 3,
    "start_time": "2024-12-06T11:38:44.548Z"
   },
   {
    "duration": 9,
    "start_time": "2024-12-06T11:38:44.553Z"
   },
   {
    "duration": 6,
    "start_time": "2024-12-06T11:38:44.563Z"
   },
   {
    "duration": 6,
    "start_time": "2024-12-06T11:38:44.570Z"
   },
   {
    "duration": 20,
    "start_time": "2024-12-06T11:38:44.577Z"
   },
   {
    "duration": 15665,
    "start_time": "2024-12-06T11:40:03.523Z"
   },
   {
    "duration": 15372,
    "start_time": "2024-12-06T11:40:33.756Z"
   },
   {
    "duration": 75,
    "start_time": "2024-12-07T08:54:24.837Z"
   },
   {
    "duration": 17004,
    "start_time": "2024-12-07T08:54:32.618Z"
   },
   {
    "duration": 210,
    "start_time": "2024-12-07T08:54:49.624Z"
   },
   {
    "duration": 57,
    "start_time": "2024-12-07T08:54:49.836Z"
   },
   {
    "duration": 5,
    "start_time": "2024-12-07T08:54:49.895Z"
   },
   {
    "duration": 20,
    "start_time": "2024-12-07T08:54:49.902Z"
   },
   {
    "duration": 28,
    "start_time": "2024-12-07T08:54:49.923Z"
   },
   {
    "duration": 26,
    "start_time": "2024-12-07T08:54:49.953Z"
   },
   {
    "duration": 28,
    "start_time": "2024-12-07T08:54:49.980Z"
   },
   {
    "duration": 70,
    "start_time": "2024-12-07T08:54:50.010Z"
   },
   {
    "duration": 9,
    "start_time": "2024-12-07T08:54:50.084Z"
   },
   {
    "duration": 487,
    "start_time": "2024-12-07T08:54:50.095Z"
   },
   {
    "duration": 476,
    "start_time": "2024-12-07T08:54:50.584Z"
   },
   {
    "duration": 382,
    "start_time": "2024-12-07T08:54:51.061Z"
   },
   {
    "duration": 393,
    "start_time": "2024-12-07T08:54:51.449Z"
   },
   {
    "duration": 268,
    "start_time": "2024-12-07T08:54:51.844Z"
   },
   {
    "duration": 155,
    "start_time": "2024-12-07T08:54:52.113Z"
   },
   {
    "duration": 153,
    "start_time": "2024-12-07T08:54:52.270Z"
   },
   {
    "duration": 147,
    "start_time": "2024-12-07T08:54:52.425Z"
   },
   {
    "duration": 142,
    "start_time": "2024-12-07T08:54:52.574Z"
   },
   {
    "duration": 1153,
    "start_time": "2024-12-07T08:54:52.717Z"
   },
   {
    "duration": 7,
    "start_time": "2024-12-07T08:54:53.871Z"
   },
   {
    "duration": 27,
    "start_time": "2024-12-07T08:54:53.879Z"
   },
   {
    "duration": 7,
    "start_time": "2024-12-07T08:54:53.907Z"
   },
   {
    "duration": 6,
    "start_time": "2024-12-07T08:54:53.916Z"
   },
   {
    "duration": 41,
    "start_time": "2024-12-07T08:54:53.924Z"
   },
   {
    "duration": 12,
    "start_time": "2024-12-07T08:54:53.967Z"
   },
   {
    "duration": 13,
    "start_time": "2024-12-07T08:54:53.982Z"
   },
   {
    "duration": 24075,
    "start_time": "2024-12-07T08:54:53.999Z"
   },
   {
    "duration": 361,
    "start_time": "2024-12-07T08:55:18.075Z"
   },
   {
    "duration": 56,
    "start_time": "2024-12-07T08:55:18.438Z"
   },
   {
    "duration": 5,
    "start_time": "2024-12-07T08:55:18.496Z"
   },
   {
    "duration": 5,
    "start_time": "2024-12-07T08:55:18.503Z"
   },
   {
    "duration": 9,
    "start_time": "2024-12-07T08:55:18.510Z"
   },
   {
    "duration": 14,
    "start_time": "2024-12-07T08:55:18.552Z"
   },
   {
    "duration": 8,
    "start_time": "2024-12-07T08:55:18.568Z"
   },
   {
    "duration": 72,
    "start_time": "2024-12-07T08:55:18.578Z"
   },
   {
    "duration": 405,
    "start_time": "2024-12-07T08:55:18.654Z"
   },
   {
    "duration": 423,
    "start_time": "2024-12-07T08:55:19.061Z"
   },
   {
    "duration": 445,
    "start_time": "2024-12-07T08:55:19.486Z"
   },
   {
    "duration": 304,
    "start_time": "2024-12-07T08:55:19.934Z"
   },
   {
    "duration": 153,
    "start_time": "2024-12-07T08:55:20.240Z"
   },
   {
    "duration": 163,
    "start_time": "2024-12-07T08:55:20.395Z"
   },
   {
    "duration": 139,
    "start_time": "2024-12-07T08:55:20.561Z"
   },
   {
    "duration": 165,
    "start_time": "2024-12-07T08:55:20.702Z"
   },
   {
    "duration": 157,
    "start_time": "2024-12-07T08:55:20.869Z"
   },
   {
    "duration": 8,
    "start_time": "2024-12-07T08:55:21.027Z"
   },
   {
    "duration": 25,
    "start_time": "2024-12-07T08:55:21.037Z"
   },
   {
    "duration": 22,
    "start_time": "2024-12-07T08:55:21.064Z"
   },
   {
    "duration": 16,
    "start_time": "2024-12-07T08:55:21.088Z"
   },
   {
    "duration": 351,
    "start_time": "2024-12-07T08:55:21.106Z"
   },
   {
    "duration": 9,
    "start_time": "2024-12-07T08:55:21.459Z"
   },
   {
    "duration": 441,
    "start_time": "2024-12-07T08:55:21.470Z"
   },
   {
    "duration": 11,
    "start_time": "2024-12-07T08:55:21.912Z"
   },
   {
    "duration": 8,
    "start_time": "2024-12-07T08:55:21.925Z"
   },
   {
    "duration": 5,
    "start_time": "2024-12-07T08:55:21.934Z"
   },
   {
    "duration": 4,
    "start_time": "2024-12-07T08:55:21.941Z"
   },
   {
    "duration": 16,
    "start_time": "2024-12-07T08:55:21.946Z"
   },
   {
    "duration": 7,
    "start_time": "2024-12-07T08:55:21.964Z"
   },
   {
    "duration": 14992,
    "start_time": "2024-12-07T08:55:21.973Z"
   },
   {
    "duration": 1293,
    "start_time": "2024-12-07T09:09:02.437Z"
   },
   {
    "duration": 10537,
    "start_time": "2024-12-07T09:09:12.793Z"
   },
   {
    "duration": 123,
    "start_time": "2024-12-07T09:09:23.332Z"
   },
   {
    "duration": 62,
    "start_time": "2024-12-07T09:09:23.458Z"
   },
   {
    "duration": 32,
    "start_time": "2024-12-07T09:09:23.522Z"
   },
   {
    "duration": 16,
    "start_time": "2024-12-07T09:09:23.555Z"
   },
   {
    "duration": 10,
    "start_time": "2024-12-07T09:09:23.572Z"
   },
   {
    "duration": 33,
    "start_time": "2024-12-07T09:09:23.583Z"
   },
   {
    "duration": 44,
    "start_time": "2024-12-07T09:09:23.618Z"
   },
   {
    "duration": 45,
    "start_time": "2024-12-07T09:09:23.664Z"
   },
   {
    "duration": 9,
    "start_time": "2024-12-07T09:09:23.712Z"
   },
   {
    "duration": 419,
    "start_time": "2024-12-07T09:09:23.751Z"
   },
   {
    "duration": 510,
    "start_time": "2024-12-07T09:09:24.172Z"
   },
   {
    "duration": 438,
    "start_time": "2024-12-07T09:09:24.684Z"
   },
   {
    "duration": 418,
    "start_time": "2024-12-07T09:09:25.125Z"
   },
   {
    "duration": 269,
    "start_time": "2024-12-07T09:09:25.550Z"
   },
   {
    "duration": 170,
    "start_time": "2024-12-07T09:09:25.821Z"
   },
   {
    "duration": 158,
    "start_time": "2024-12-07T09:09:25.993Z"
   },
   {
    "duration": 148,
    "start_time": "2024-12-07T09:09:26.152Z"
   },
   {
    "duration": 150,
    "start_time": "2024-12-07T09:09:26.303Z"
   },
   {
    "duration": 1211,
    "start_time": "2024-12-07T09:09:26.455Z"
   },
   {
    "duration": 8,
    "start_time": "2024-12-07T09:09:27.668Z"
   },
   {
    "duration": 25,
    "start_time": "2024-12-07T09:09:27.678Z"
   },
   {
    "duration": 4,
    "start_time": "2024-12-07T09:09:27.705Z"
   },
   {
    "duration": 26,
    "start_time": "2024-12-07T09:09:27.711Z"
   },
   {
    "duration": 12,
    "start_time": "2024-12-07T09:09:27.739Z"
   },
   {
    "duration": 15,
    "start_time": "2024-12-07T09:09:27.752Z"
   },
   {
    "duration": 6,
    "start_time": "2024-12-07T09:09:27.768Z"
   },
   {
    "duration": 23678,
    "start_time": "2024-12-07T09:09:27.778Z"
   },
   {
    "duration": 182,
    "start_time": "2024-12-07T09:09:51.458Z"
   },
   {
    "duration": 56,
    "start_time": "2024-12-07T09:09:51.642Z"
   },
   {
    "duration": 5,
    "start_time": "2024-12-07T09:09:51.700Z"
   },
   {
    "duration": 43,
    "start_time": "2024-12-07T09:09:51.707Z"
   },
   {
    "duration": 10,
    "start_time": "2024-12-07T09:09:51.752Z"
   },
   {
    "duration": 12,
    "start_time": "2024-12-07T09:09:51.764Z"
   },
   {
    "duration": 29,
    "start_time": "2024-12-07T09:09:51.778Z"
   },
   {
    "duration": 67,
    "start_time": "2024-12-07T09:09:51.809Z"
   },
   {
    "duration": 435,
    "start_time": "2024-12-07T09:09:51.877Z"
   },
   {
    "duration": 432,
    "start_time": "2024-12-07T09:09:52.314Z"
   },
   {
    "duration": 386,
    "start_time": "2024-12-07T09:09:52.750Z"
   },
   {
    "duration": 305,
    "start_time": "2024-12-07T09:09:53.138Z"
   },
   {
    "duration": 158,
    "start_time": "2024-12-07T09:09:53.444Z"
   },
   {
    "duration": 149,
    "start_time": "2024-12-07T09:09:53.604Z"
   },
   {
    "duration": 143,
    "start_time": "2024-12-07T09:09:53.755Z"
   },
   {
    "duration": 156,
    "start_time": "2024-12-07T09:09:53.899Z"
   },
   {
    "duration": 159,
    "start_time": "2024-12-07T09:09:54.057Z"
   },
   {
    "duration": 8,
    "start_time": "2024-12-07T09:09:54.217Z"
   },
   {
    "duration": 23,
    "start_time": "2024-12-07T09:09:54.227Z"
   },
   {
    "duration": 7,
    "start_time": "2024-12-07T09:09:54.252Z"
   },
   {
    "duration": 11,
    "start_time": "2024-12-07T09:09:54.261Z"
   },
   {
    "duration": 351,
    "start_time": "2024-12-07T09:09:54.273Z"
   },
   {
    "duration": 7,
    "start_time": "2024-12-07T09:09:54.626Z"
   },
   {
    "duration": 450,
    "start_time": "2024-12-07T09:09:54.635Z"
   },
   {
    "duration": 1339,
    "start_time": "2024-12-07T09:09:55.087Z"
   },
   {
    "duration": 15,
    "start_time": "2024-12-07T09:09:56.428Z"
   },
   {
    "duration": 3,
    "start_time": "2024-12-07T09:09:56.445Z"
   },
   {
    "duration": 6,
    "start_time": "2024-12-07T09:09:56.449Z"
   },
   {
    "duration": 9,
    "start_time": "2024-12-07T09:09:56.457Z"
   },
   {
    "duration": 6,
    "start_time": "2024-12-07T09:09:56.467Z"
   },
   {
    "duration": 115,
    "start_time": "2024-12-07T09:09:56.475Z"
   },
   {
    "duration": 14231,
    "start_time": "2024-12-07T09:09:56.592Z"
   }
  ],
  "kernelspec": {
   "display_name": "Python 3 (ipykernel)",
   "language": "python",
   "name": "python3"
  },
  "language_info": {
   "codemirror_mode": {
    "name": "ipython",
    "version": 3
   },
   "file_extension": ".py",
   "mimetype": "text/x-python",
   "name": "python",
   "nbconvert_exporter": "python",
   "pygments_lexer": "ipython3",
   "version": "3.9.5"
  },
  "toc": {
   "base_numbering": 1,
   "nav_menu": {},
   "number_sections": true,
   "sideBar": true,
   "skip_h1_title": true,
   "title_cell": "Table of Contents",
   "title_sidebar": "Contents",
   "toc_cell": false,
   "toc_position": {
    "height": "calc(100% - 180px)",
    "left": "10px",
    "top": "150px",
    "width": "286.390625px"
   },
   "toc_section_display": true,
   "toc_window_display": true
  }
 },
 "nbformat": 4,
 "nbformat_minor": 5
}
