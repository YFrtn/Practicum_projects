{
 "cells": [
  {
   "cell_type": "markdown",
   "metadata": {
    "id": "-VFbjcb3Awb7"
   },
   "source": [
    "# Исследование объявлений о продаже квартир\n",
    "\n",
    "В вашем распоряжении данные сервиса Яндекс Недвижимость — архив объявлений о продаже квартир в Санкт-Петербурге и соседних населённых пунктах за несколько лет. Вам нужно научиться определять рыночную стоимость объектов недвижимости. Для этого проведите исследовательский анализ данных и установите параметры, влияющие на цену объектов. Это позволит построить автоматизированную систему: она отследит аномалии и мошенническую деятельность.\n",
    "\n",
    "По каждой квартире на продажу доступны два вида данных. Первые вписаны пользователем, вторые — получены автоматически на основе картографических данных. Например, расстояние до центра, аэропорта и других объектов — эти данные автоматически получены из геосервисов. Количество парков и водоёмов также заполняется без участия пользователя."
   ]
  },
  {
   "cell_type": "markdown",
   "metadata": {
    "id": "aeFLH07FAwb9"
   },
   "source": [
    "## Откройте файл с данными и изучите общую информацию"
   ]
  },
  {
   "cell_type": "markdown",
   "metadata": {},
   "source": [
    "### **Загрузите данные из csv-файла в датафрейм c помощью библиотеки pandas.**"
   ]
  },
  {
   "cell_type": "code",
   "execution_count": 1,
   "metadata": {
    "id": "7MZxY65pAwb9"
   },
   "outputs": [
    {
     "data": {
      "text/html": [
       "<div>\n",
       "<style scoped>\n",
       "    .dataframe tbody tr th:only-of-type {\n",
       "        vertical-align: middle;\n",
       "    }\n",
       "\n",
       "    .dataframe tbody tr th {\n",
       "        vertical-align: top;\n",
       "    }\n",
       "\n",
       "    .dataframe thead th {\n",
       "        text-align: right;\n",
       "    }\n",
       "</style>\n",
       "<table border=\"1\" class=\"dataframe\">\n",
       "  <thead>\n",
       "    <tr style=\"text-align: right;\">\n",
       "      <th></th>\n",
       "      <th>total_images</th>\n",
       "      <th>last_price</th>\n",
       "      <th>total_area</th>\n",
       "      <th>first_day_exposition</th>\n",
       "      <th>rooms</th>\n",
       "      <th>ceiling_height</th>\n",
       "      <th>floors_total</th>\n",
       "      <th>living_area</th>\n",
       "      <th>floor</th>\n",
       "      <th>is_apartment</th>\n",
       "      <th>...</th>\n",
       "      <th>kitchen_area</th>\n",
       "      <th>balcony</th>\n",
       "      <th>locality_name</th>\n",
       "      <th>airports_nearest</th>\n",
       "      <th>cityCenters_nearest</th>\n",
       "      <th>parks_around3000</th>\n",
       "      <th>parks_nearest</th>\n",
       "      <th>ponds_around3000</th>\n",
       "      <th>ponds_nearest</th>\n",
       "      <th>days_exposition</th>\n",
       "    </tr>\n",
       "  </thead>\n",
       "  <tbody>\n",
       "    <tr>\n",
       "      <th>0</th>\n",
       "      <td>20</td>\n",
       "      <td>13000000.0</td>\n",
       "      <td>108.0</td>\n",
       "      <td>2019-03-07T00:00:00</td>\n",
       "      <td>3</td>\n",
       "      <td>2.70</td>\n",
       "      <td>16.0</td>\n",
       "      <td>51.0</td>\n",
       "      <td>8</td>\n",
       "      <td>NaN</td>\n",
       "      <td>...</td>\n",
       "      <td>25.0</td>\n",
       "      <td>NaN</td>\n",
       "      <td>Санкт-Петербург</td>\n",
       "      <td>18863.0</td>\n",
       "      <td>16028.0</td>\n",
       "      <td>1.0</td>\n",
       "      <td>482.0</td>\n",
       "      <td>2.0</td>\n",
       "      <td>755.0</td>\n",
       "      <td>NaN</td>\n",
       "    </tr>\n",
       "    <tr>\n",
       "      <th>1</th>\n",
       "      <td>7</td>\n",
       "      <td>3350000.0</td>\n",
       "      <td>40.4</td>\n",
       "      <td>2018-12-04T00:00:00</td>\n",
       "      <td>1</td>\n",
       "      <td>NaN</td>\n",
       "      <td>11.0</td>\n",
       "      <td>18.6</td>\n",
       "      <td>1</td>\n",
       "      <td>NaN</td>\n",
       "      <td>...</td>\n",
       "      <td>11.0</td>\n",
       "      <td>2.0</td>\n",
       "      <td>посёлок Шушары</td>\n",
       "      <td>12817.0</td>\n",
       "      <td>18603.0</td>\n",
       "      <td>0.0</td>\n",
       "      <td>NaN</td>\n",
       "      <td>0.0</td>\n",
       "      <td>NaN</td>\n",
       "      <td>81.0</td>\n",
       "    </tr>\n",
       "    <tr>\n",
       "      <th>2</th>\n",
       "      <td>10</td>\n",
       "      <td>5196000.0</td>\n",
       "      <td>56.0</td>\n",
       "      <td>2015-08-20T00:00:00</td>\n",
       "      <td>2</td>\n",
       "      <td>NaN</td>\n",
       "      <td>5.0</td>\n",
       "      <td>34.3</td>\n",
       "      <td>4</td>\n",
       "      <td>NaN</td>\n",
       "      <td>...</td>\n",
       "      <td>8.3</td>\n",
       "      <td>0.0</td>\n",
       "      <td>Санкт-Петербург</td>\n",
       "      <td>21741.0</td>\n",
       "      <td>13933.0</td>\n",
       "      <td>1.0</td>\n",
       "      <td>90.0</td>\n",
       "      <td>2.0</td>\n",
       "      <td>574.0</td>\n",
       "      <td>558.0</td>\n",
       "    </tr>\n",
       "    <tr>\n",
       "      <th>3</th>\n",
       "      <td>0</td>\n",
       "      <td>64900000.0</td>\n",
       "      <td>159.0</td>\n",
       "      <td>2015-07-24T00:00:00</td>\n",
       "      <td>3</td>\n",
       "      <td>NaN</td>\n",
       "      <td>14.0</td>\n",
       "      <td>NaN</td>\n",
       "      <td>9</td>\n",
       "      <td>NaN</td>\n",
       "      <td>...</td>\n",
       "      <td>NaN</td>\n",
       "      <td>0.0</td>\n",
       "      <td>Санкт-Петербург</td>\n",
       "      <td>28098.0</td>\n",
       "      <td>6800.0</td>\n",
       "      <td>2.0</td>\n",
       "      <td>84.0</td>\n",
       "      <td>3.0</td>\n",
       "      <td>234.0</td>\n",
       "      <td>424.0</td>\n",
       "    </tr>\n",
       "    <tr>\n",
       "      <th>4</th>\n",
       "      <td>2</td>\n",
       "      <td>10000000.0</td>\n",
       "      <td>100.0</td>\n",
       "      <td>2018-06-19T00:00:00</td>\n",
       "      <td>2</td>\n",
       "      <td>3.03</td>\n",
       "      <td>14.0</td>\n",
       "      <td>32.0</td>\n",
       "      <td>13</td>\n",
       "      <td>NaN</td>\n",
       "      <td>...</td>\n",
       "      <td>41.0</td>\n",
       "      <td>NaN</td>\n",
       "      <td>Санкт-Петербург</td>\n",
       "      <td>31856.0</td>\n",
       "      <td>8098.0</td>\n",
       "      <td>2.0</td>\n",
       "      <td>112.0</td>\n",
       "      <td>1.0</td>\n",
       "      <td>48.0</td>\n",
       "      <td>121.0</td>\n",
       "    </tr>\n",
       "  </tbody>\n",
       "</table>\n",
       "<p>5 rows × 22 columns</p>\n",
       "</div>"
      ],
      "text/plain": [
       "   total_images  last_price  total_area first_day_exposition  rooms  \\\n",
       "0            20  13000000.0       108.0  2019-03-07T00:00:00      3   \n",
       "1             7   3350000.0        40.4  2018-12-04T00:00:00      1   \n",
       "2            10   5196000.0        56.0  2015-08-20T00:00:00      2   \n",
       "3             0  64900000.0       159.0  2015-07-24T00:00:00      3   \n",
       "4             2  10000000.0       100.0  2018-06-19T00:00:00      2   \n",
       "\n",
       "   ceiling_height  floors_total  living_area  floor is_apartment  ...  \\\n",
       "0            2.70          16.0         51.0      8          NaN  ...   \n",
       "1             NaN          11.0         18.6      1          NaN  ...   \n",
       "2             NaN           5.0         34.3      4          NaN  ...   \n",
       "3             NaN          14.0          NaN      9          NaN  ...   \n",
       "4            3.03          14.0         32.0     13          NaN  ...   \n",
       "\n",
       "   kitchen_area  balcony    locality_name  airports_nearest  \\\n",
       "0          25.0      NaN  Санкт-Петербург           18863.0   \n",
       "1          11.0      2.0   посёлок Шушары           12817.0   \n",
       "2           8.3      0.0  Санкт-Петербург           21741.0   \n",
       "3           NaN      0.0  Санкт-Петербург           28098.0   \n",
       "4          41.0      NaN  Санкт-Петербург           31856.0   \n",
       "\n",
       "  cityCenters_nearest  parks_around3000  parks_nearest  ponds_around3000  \\\n",
       "0             16028.0               1.0          482.0               2.0   \n",
       "1             18603.0               0.0            NaN               0.0   \n",
       "2             13933.0               1.0           90.0               2.0   \n",
       "3              6800.0               2.0           84.0               3.0   \n",
       "4              8098.0               2.0          112.0               1.0   \n",
       "\n",
       "   ponds_nearest  days_exposition  \n",
       "0          755.0              NaN  \n",
       "1            NaN             81.0  \n",
       "2          574.0            558.0  \n",
       "3          234.0            424.0  \n",
       "4           48.0            121.0  \n",
       "\n",
       "[5 rows x 22 columns]"
      ]
     },
     "execution_count": 1,
     "metadata": {},
     "output_type": "execute_result"
    }
   ],
   "source": [
    "import pandas as pd\n",
    "\n",
    "import matplotlib.pyplot as plt\n",
    "\n",
    "try:\n",
    "    data = pd.read_csv('C:/Users/Student/Desktop/datasets/real_estate_data.csv', sep='\\t')\n",
    "except:\n",
    "    data = pd.read_csv('/datasets/real_estate_data.csv', sep='\\t')\n",
    "    \n",
    "data.head()"
   ]
  },
  {
   "cell_type": "markdown",
   "metadata": {},
   "source": [
    "### **Изучите общую информацию о полученном датафрейме.**"
   ]
  },
  {
   "cell_type": "code",
   "execution_count": 2,
   "metadata": {},
   "outputs": [
    {
     "name": "stdout",
     "output_type": "stream",
     "text": [
      "<class 'pandas.core.frame.DataFrame'>\n",
      "RangeIndex: 23699 entries, 0 to 23698\n",
      "Data columns (total 22 columns):\n",
      " #   Column                Non-Null Count  Dtype  \n",
      "---  ------                --------------  -----  \n",
      " 0   total_images          23699 non-null  int64  \n",
      " 1   last_price            23699 non-null  float64\n",
      " 2   total_area            23699 non-null  float64\n",
      " 3   first_day_exposition  23699 non-null  object \n",
      " 4   rooms                 23699 non-null  int64  \n",
      " 5   ceiling_height        14504 non-null  float64\n",
      " 6   floors_total          23613 non-null  float64\n",
      " 7   living_area           21796 non-null  float64\n",
      " 8   floor                 23699 non-null  int64  \n",
      " 9   is_apartment          2775 non-null   object \n",
      " 10  studio                23699 non-null  bool   \n",
      " 11  open_plan             23699 non-null  bool   \n",
      " 12  kitchen_area          21421 non-null  float64\n",
      " 13  balcony               12180 non-null  float64\n",
      " 14  locality_name         23650 non-null  object \n",
      " 15  airports_nearest      18157 non-null  float64\n",
      " 16  cityCenters_nearest   18180 non-null  float64\n",
      " 17  parks_around3000      18181 non-null  float64\n",
      " 18  parks_nearest         8079 non-null   float64\n",
      " 19  ponds_around3000      18181 non-null  float64\n",
      " 20  ponds_nearest         9110 non-null   float64\n",
      " 21  days_exposition       20518 non-null  float64\n",
      "dtypes: bool(2), float64(14), int64(3), object(3)\n",
      "memory usage: 3.7+ MB\n"
     ]
    }
   ],
   "source": [
    "data.info()"
   ]
  },
  {
   "cell_type": "code",
   "execution_count": 3,
   "metadata": {},
   "outputs": [
    {
     "data": {
      "text/plain": [
       "Index(['total_images', 'last_price', 'total_area', 'first_day_exposition',\n",
       "       'rooms', 'ceiling_height', 'floors_total', 'living_area', 'floor',\n",
       "       'is_apartment', 'studio', 'open_plan', 'kitchen_area', 'balcony',\n",
       "       'locality_name', 'airports_nearest', 'city_centers_nearest',\n",
       "       'parks_around3000', 'parks_nearest', 'ponds_around3000',\n",
       "       'ponds_nearest', 'days_exposition'],\n",
       "      dtype='object')"
      ]
     },
     "execution_count": 3,
     "metadata": {},
     "output_type": "execute_result"
    }
   ],
   "source": [
    "#переменуем столбец cityCenters_nearest на city_centers_nearest\n",
    "data = data.rename(columns={'cityCenters_nearest': 'city_centers_nearest'})\n",
    "\n",
    "#проверяем\n",
    "data.columns"
   ]
  },
  {
   "cell_type": "markdown",
   "metadata": {},
   "source": [
    "### **Постройте гистограмму для всех числовых столбцов таблицы на одном графике.**"
   ]
  },
  {
   "cell_type": "code",
   "execution_count": 4,
   "metadata": {
    "scrolled": true
   },
   "outputs": [
    {
     "data": {
      "image/png": "[encoded data removed]",
      "text/plain": [
       "<Figure size 1080x1440 with 20 Axes>"
      ]
     },
     "metadata": {
      "needs_background": "light"
     },
     "output_type": "display_data"
    }
   ],
   "source": [
    "data.hist(figsize=(15, 20));"
   ]
  },
  {
   "cell_type": "markdown",
   "metadata": {},
   "source": [
    "`last_pricez` цены в основном варьируются до 20 миллионов, но есть и объекты с очень высокими ценами, которые выделяются на общем фоне.\n",
    "\n",
    "`total_area`: большинство квартир имеют площадь до 100 квадратных метров. Есть и крупные кв более 200 кв.м.\n",
    "\n",
    "`rooms`: основная масса квартир 1-3 комнатами.\n",
    "\n",
    "`ceiling_height`: высота потолков в квартирах обычно колеблется от 2,5 до 3 метров.\n",
    "\n",
    "`floors_total`: большинство зданий это многоэтажки с 5-16 этажами.\n",
    "\n",
    "`living_area`: жилая площадь большинства кв от 30 до 50 кв м.\n",
    "\n",
    "`floor`: квартиры на низких этажах от 1 до 5, хотя данные распределены относительно равномерно.\n",
    "\n",
    "`kitchen_area`: площадь кухни в основном от 8 до 15 кв.м.\n",
    "\n",
    "`balcony`: многие квартиры имеют балкон, но есть немало объектов и без него.\n",
    "\n",
    "`airports_nearest`: расстояние до аэропорта чаще всего составляет от 15 до 30 км.\n",
    "\n",
    "`cityCenters_nearest`: кв чаще всего находится 10-20 км от центра города.\n",
    "\n",
    "`parks_around3000`: большинство квартир окружены в радиусе 3 км.\n",
    "\n",
    "`parks_nearest`: ближайший парк для большинства кв находится до 500 метров.\n",
    "\n",
    "`ponds_around3000`: возле большинства кв есть 1-2 водоёма в радиусе 3 км.\n",
    "\n",
    "`ponds_nearest`: многие квартиры расположены на расстоянии до 1 км от водоёма.\n",
    "\n",
    "`days_exposition`: среднее время нахождения квартиры в объявлении до 400 дней, причём самые частые значения — 100-150 дней."
   ]
  },
  {
   "cell_type": "markdown",
   "metadata": {
    "id": "-O5NtivEAwb9"
   },
   "source": [
    "## Выполните предобработку данных"
   ]
  },
  {
   "cell_type": "markdown",
   "metadata": {},
   "source": [
    "### **Найдите и изучите пропущенные значения в столбцах:**"
   ]
  },
  {
   "cell_type": "markdown",
   "metadata": {},
   "source": [
    "**Определите, в каких столбцах есть пропуски.**"
   ]
  },
  {
   "cell_type": "code",
   "execution_count": 5,
   "metadata": {
    "id": "7v3vAeTuAwb-",
    "scrolled": true
   },
   "outputs": [
    {
     "data": {
      "text/plain": [
       "total_images                0\n",
       "last_price                  0\n",
       "total_area                  0\n",
       "first_day_exposition        0\n",
       "rooms                       0\n",
       "ceiling_height           9195\n",
       "floors_total               86\n",
       "living_area              1903\n",
       "floor                       0\n",
       "is_apartment            20924\n",
       "studio                      0\n",
       "open_plan                   0\n",
       "kitchen_area             2278\n",
       "balcony                 11519\n",
       "locality_name              49\n",
       "airports_nearest         5542\n",
       "city_centers_nearest     5519\n",
       "parks_around3000         5518\n",
       "parks_nearest           15620\n",
       "ponds_around3000         5518\n",
       "ponds_nearest           14589\n",
       "days_exposition          3181\n",
       "dtype: int64"
      ]
     },
     "execution_count": 5,
     "metadata": {},
     "output_type": "execute_result"
    }
   ],
   "source": [
    "data.isna().sum()\n",
    "\n",
    "#в 14 столбцах были найдены пропуски "
   ]
  },
  {
   "cell_type": "markdown",
   "metadata": {},
   "source": [
    "**Заполните пропущенные значения там, где это возможно.**"
   ]
  },
  {
   "cell_type": "code",
   "execution_count": 6,
   "metadata": {},
   "outputs": [],
   "source": [
    "#Заменяем Nan на медианное значение\n",
    "data['ceiling_height'] = data['ceiling_height'].fillna(data['ceiling_height'].median())"
   ]
  },
  {
   "cell_type": "code",
   "execution_count": 7,
   "metadata": {},
   "outputs": [
    {
     "data": {
      "text/plain": [
       "total_images                0\n",
       "last_price                  0\n",
       "total_area                  0\n",
       "first_day_exposition        0\n",
       "rooms                       0\n",
       "ceiling_height              0\n",
       "floors_total               86\n",
       "living_area              1903\n",
       "floor                       0\n",
       "is_apartment            20924\n",
       "studio                      0\n",
       "open_plan                   0\n",
       "kitchen_area             2278\n",
       "balcony                     0\n",
       "locality_name              49\n",
       "airports_nearest         5542\n",
       "city_centers_nearest     5519\n",
       "parks_around3000         5518\n",
       "parks_nearest           15620\n",
       "ponds_around3000         5518\n",
       "ponds_nearest           14589\n",
       "days_exposition          3181\n",
       "dtype: int64"
      ]
     },
     "execution_count": 7,
     "metadata": {},
     "output_type": "execute_result"
    }
   ],
   "source": [
    "#заменяем Nan в числе балконов на 0 \n",
    "data['balcony'] = data['balcony'].fillna(0)\n",
    "\n",
    "#перпроверяем заменились ли Nan на 0\n",
    "data.isna().sum()"
   ]
  },
  {
   "cell_type": "code",
   "execution_count": 8,
   "metadata": {},
   "outputs": [
    {
     "data": {
      "text/plain": [
       "total_images                0\n",
       "last_price                  0\n",
       "total_area                  0\n",
       "first_day_exposition        0\n",
       "rooms                       0\n",
       "ceiling_height              0\n",
       "floors_total               86\n",
       "living_area              1903\n",
       "floor                       0\n",
       "is_apartment                0\n",
       "studio                      0\n",
       "open_plan                   0\n",
       "kitchen_area             2278\n",
       "balcony                     0\n",
       "locality_name              49\n",
       "airports_nearest         5542\n",
       "city_centers_nearest     5519\n",
       "parks_around3000         5518\n",
       "parks_nearest           15620\n",
       "ponds_around3000         5518\n",
       "ponds_nearest           14589\n",
       "days_exposition          3181\n",
       "dtype: int64"
      ]
     },
     "execution_count": 8,
     "metadata": {},
     "output_type": "execute_result"
    }
   ],
   "source": [
    "#методом unique() проверил все пропушенные столбцы и выявил, что можно заменить пропуски в 'is_apartment'\n",
    "\n",
    "data['is_apartment'] = data['is_apartment'].fillna(False)\n",
    "\n",
    "#проверяем \n",
    "data.isna().sum()"
   ]
  },
  {
   "cell_type": "markdown",
   "metadata": {},
   "source": [
    "**В ячейке с типом markdown укажите причины, которые могли привести к пропускам в данных.**"
   ]
  },
  {
   "cell_type": "markdown",
   "metadata": {},
   "source": [
    "**ceiling_height:** возможно, продавцу была неизвестна высота потолков, и он не имел возможности её измерить.\n",
    "\n",
    "**floors_total:** продавец мог не указать общее количество этажей, посчитав это несущественным. Если проанализировать пропуски в столбце floors_total и сопоставить их с этажом объекта (floor), можно заметить, что редко встречаются пропуски одновременно в обеих колонках. Это может означать, что продавец, указав этаж объекта, решил не указывать общее количество этажей, так как покупатель может уточнить это по телефону.\n",
    "\n",
    "**balcony** - продавцы могли пропустить информацию о наличии балконов, потому что их нет.\n",
    "\n",
    "**is_apartment** эти пропуски могут означать, что объект не является апартаментами, поэтому можно заменить на False.\n",
    "\n",
    "**living_area:** продавцы не всегда знают точную жилую площадь объекта, считая, что указания общей площади (total_area) достаточно для потенциального покупателя.\n",
    "\n",
    "**kitchen_area:** продавцы могли не владеть точными данными о площади кухни или посчитали эту информацию несущественной.\n",
    "\n",
    "**locality_name:** пропуски могли возникнуть из-за человеческого фактора — продавец забыл указать название населённого пункта или оно было пропущено в процессе сбора данных.\n",
    "\n",
    "**airports_nearest, cityCenters_nearest, parks_around3000, parks_nearest, ponds_around3000, ponds_nearest:** возможны сбои при выгрузке данных, либо в некоторых случаях рядом с объектом просто нет таких объектов, и информация о них не была указана."
   ]
  },
  {
   "cell_type": "markdown",
   "metadata": {},
   "source": [
    "### **Рассмотрите типы данных в каждом столбце**"
   ]
  },
  {
   "cell_type": "markdown",
   "metadata": {},
   "source": [
    "**Найдите столбцы, в которых нужно изменить тип данных.**\n",
    "\n",
    "**Преобразуйте тип данных в выбранных столбцах.**\n"
   ]
  },
  {
   "cell_type": "code",
   "execution_count": 9,
   "metadata": {},
   "outputs": [
    {
     "data": {
      "text/plain": [
       "0       2019-03-07\n",
       "1       2018-12-04\n",
       "2       2015-08-20\n",
       "3       2015-07-24\n",
       "4       2018-06-19\n",
       "           ...    \n",
       "23694   2017-03-21\n",
       "23695   2018-01-15\n",
       "23696   2018-02-11\n",
       "23697   2017-03-28\n",
       "23698   2017-07-21\n",
       "Name: first_day_exposition, Length: 23699, dtype: datetime64[ns]"
      ]
     },
     "execution_count": 9,
     "metadata": {},
     "output_type": "execute_result"
    }
   ],
   "source": [
    "data['first_day_exposition']  = pd.to_datetime(data['first_day_exposition'], format='%Y-%m-%dT%H:%M:%S')\n",
    "\n",
    "#проверяем, и видим, что данные тепеь в datetime64\n",
    "data['first_day_exposition']"
   ]
  },
  {
   "cell_type": "code",
   "execution_count": 10,
   "metadata": {},
   "outputs": [
    {
     "data": {
      "text/plain": [
       "0        0\n",
       "1        2\n",
       "2        0\n",
       "3        0\n",
       "4        0\n",
       "        ..\n",
       "23694    0\n",
       "23695    0\n",
       "23696    0\n",
       "23697    2\n",
       "23698    0\n",
       "Name: balcony, Length: 23699, dtype: int64"
      ]
     },
     "execution_count": 10,
     "metadata": {},
     "output_type": "execute_result"
    }
   ],
   "source": [
    "data['balcony'] = data['balcony'].astype(int)\n",
    "\n",
    "#проверяем, и видим, что данные тепеь в int64\n",
    "data['balcony']"
   ]
  },
  {
   "cell_type": "markdown",
   "metadata": {},
   "source": [
    "**В ячейке с типом markdown поясните, почему нужно изменить тип данных.**"
   ]
  },
  {
   "cell_type": "markdown",
   "metadata": {},
   "source": [
    "**data['first_day_exposition']** - изначально был object, но так как там указаны дата и время изменили тип данных на datetime64\n",
    "\n",
    "**data['balcony']** - данные представлены целыми числами, лучше хранить в виде int, так как дробные значения здесь не имеют смысла. "
   ]
  },
  {
   "cell_type": "markdown",
   "metadata": {},
   "source": [
    "### **Изучите уникальные значения в столбце с названиями и устраните неявные дубликаты**"
   ]
  },
  {
   "cell_type": "code",
   "execution_count": 11,
   "metadata": {},
   "outputs": [
    {
     "data": {
      "text/plain": [
       "array(['Санкт-Петербург', 'посёлок Шушары', 'городской посёлок Янино-1',\n",
       "       'посёлок Парголово', 'посёлок Мурино', 'Ломоносов', 'Сертолово',\n",
       "       'Петергоф', 'Пушкин', 'деревня Кудрово', 'Коммунар', 'Колпино',\n",
       "       'поселок городского типа Красный Бор', 'Гатчина', 'поселок Мурино',\n",
       "       'деревня Фёдоровское', 'Выборг', 'Кронштадт', 'Кировск',\n",
       "       'деревня Новое Девяткино', 'посёлок Металлострой',\n",
       "       'посёлок городского типа Лебяжье',\n",
       "       'посёлок городского типа Сиверский', 'поселок Молодцово',\n",
       "       'поселок городского типа Кузьмоловский',\n",
       "       'садовое товарищество Новая Ропша', 'Павловск',\n",
       "       'деревня Пикколово', 'Всеволожск', 'Волхов', 'Кингисепп',\n",
       "       'Приозерск', 'Сестрорецк', 'деревня Куттузи', 'посёлок Аннино',\n",
       "       'поселок городского типа Ефимовский', 'посёлок Плодовое',\n",
       "       'деревня Заклинье', 'поселок Торковичи', 'поселок Первомайское',\n",
       "       'Красное Село', 'посёлок Понтонный', 'Сясьстрой', 'деревня Старая',\n",
       "       'деревня Лесколово', 'посёлок Новый Свет', 'Сланцы',\n",
       "       'село Путилово', 'Ивангород', 'Мурино', 'Шлиссельбург',\n",
       "       'Никольское', 'Зеленогорск', 'Сосновый Бор', 'поселок Новый Свет',\n",
       "       'деревня Оржицы', 'деревня Кальтино', 'Кудрово',\n",
       "       'поселок Романовка', 'посёлок Бугры', 'поселок Бугры',\n",
       "       'поселок городского типа Рощино', 'Кириши', 'Луга', 'Волосово',\n",
       "       'Отрадное', 'село Павлово', 'поселок Оредеж', 'село Копорье',\n",
       "       'посёлок городского типа Красный Бор', 'посёлок Молодёжное',\n",
       "       'Тихвин', 'посёлок Победа', 'деревня Нурма',\n",
       "       'поселок городского типа Синявино', 'Тосно',\n",
       "       'посёлок городского типа Кузьмоловский', 'посёлок Стрельна',\n",
       "       'Бокситогорск', 'посёлок Александровская', 'деревня Лопухинка',\n",
       "       'Пикалёво', 'поселок Терволово',\n",
       "       'поселок городского типа Советский', 'Подпорожье',\n",
       "       'посёлок Петровское', 'посёлок городского типа Токсово',\n",
       "       'поселок Сельцо', 'посёлок городского типа Вырица',\n",
       "       'деревня Кипень', 'деревня Келози', 'деревня Вартемяги',\n",
       "       'посёлок Тельмана', 'поселок Севастьяново',\n",
       "       'городской поселок Большая Ижора', nan,\n",
       "       'городской посёлок Павлово', 'деревня Агалатово',\n",
       "       'посёлок Новогорелово', 'городской посёлок Лесогорский',\n",
       "       'деревня Лаголово', 'поселок Цвелодубово',\n",
       "       'поселок городского типа Рахья', 'поселок городского типа Вырица',\n",
       "       'деревня Белогорка', 'поселок Заводской',\n",
       "       'городской посёлок Новоселье', 'деревня Большие Колпаны',\n",
       "       'деревня Горбунки', 'деревня Батово', 'деревня Заневка',\n",
       "       'деревня Иссад', 'Приморск', 'городской посёлок Фёдоровское',\n",
       "       'деревня Мистолово', 'Новая Ладога', 'поселок Зимитицы',\n",
       "       'поселок Барышево', 'деревня Разметелево',\n",
       "       'поселок городского типа имени Свердлова', 'деревня Пеники',\n",
       "       'поселок Рябово', 'деревня Пудомяги', 'поселок станции Корнево',\n",
       "       'деревня Низино', 'деревня Бегуницы', 'посёлок Поляны',\n",
       "       'городской посёлок Мга', 'поселок Елизаветино',\n",
       "       'посёлок городского типа Кузнечное', 'деревня Колтуши',\n",
       "       'поселок Запорожское', 'посёлок городского типа Рощино',\n",
       "       'деревня Гостилицы', 'деревня Малое Карлино',\n",
       "       'посёлок Мичуринское', 'посёлок городского типа имени Морозова',\n",
       "       'посёлок Песочный', 'посёлок Сосново', 'деревня Аро',\n",
       "       'поселок Ильичёво', 'посёлок городского типа Тайцы',\n",
       "       'деревня Малое Верево', 'деревня Извара', 'поселок станции Вещево',\n",
       "       'село Паша', 'деревня Калитино',\n",
       "       'посёлок городского типа Ульяновка', 'деревня Чудской Бор',\n",
       "       'поселок городского типа Дубровка', 'деревня Мины',\n",
       "       'поселок Войсковицы', 'посёлок городского типа имени Свердлова',\n",
       "       'деревня Коркино', 'посёлок Ропша',\n",
       "       'поселок городского типа Приладожский', 'посёлок Щеглово',\n",
       "       'посёлок Гаврилово', 'Лодейное Поле', 'деревня Рабитицы',\n",
       "       'поселок городского типа Никольский', 'деревня Кузьмолово',\n",
       "       'деревня Малые Колпаны', 'поселок Тельмана',\n",
       "       'посёлок Петро-Славянка', 'городской посёлок Назия',\n",
       "       'посёлок Репино', 'посёлок Ильичёво', 'поселок Углово',\n",
       "       'поселок Старая Малукса', 'садовое товарищество Рахья',\n",
       "       'поселок Аннино', 'поселок Победа', 'деревня Меньково',\n",
       "       'деревня Старые Бегуницы', 'посёлок Сапёрный', 'поселок Семрино',\n",
       "       'поселок Гаврилово', 'поселок Глажево', 'поселок Кобринское',\n",
       "       'деревня Гарболово', 'деревня Юкки',\n",
       "       'поселок станции Приветнинское', 'деревня Мануйлово',\n",
       "       'деревня Пчева', 'поселок Поляны', 'поселок Цвылёво',\n",
       "       'поселок Мельниково', 'посёлок Пудость', 'посёлок Усть-Луга',\n",
       "       'Светогорск', 'Любань', 'поселок Селезнёво',\n",
       "       'поселок городского типа Рябово', 'Каменногорск', 'деревня Кривко',\n",
       "       'поселок Глебычево', 'деревня Парицы', 'поселок Жилпосёлок',\n",
       "       'посёлок городского типа Мга', 'городской поселок Янино-1',\n",
       "       'посёлок Войскорово', 'село Никольское', 'посёлок Терволово',\n",
       "       'поселок Стеклянный', 'посёлок городского типа Важины',\n",
       "       'посёлок Мыза-Ивановка', 'село Русско-Высоцкое',\n",
       "       'поселок городского типа Лебяжье',\n",
       "       'поселок городского типа Форносово', 'село Старая Ладога',\n",
       "       'поселок Житково', 'городской посёлок Виллози', 'деревня Лампово',\n",
       "       'деревня Шпаньково', 'деревня Лаврики', 'посёлок Сумино',\n",
       "       'посёлок Возрождение', 'деревня Старосиверская',\n",
       "       'посёлок Кикерино', 'поселок Возрождение',\n",
       "       'деревня Старое Хинколово', 'посёлок Пригородный',\n",
       "       'посёлок Торфяное', 'городской посёлок Будогощь',\n",
       "       'поселок Суходолье', 'поселок Красная Долина', 'деревня Хапо-Ое',\n",
       "       'поселок городского типа Дружная Горка', 'поселок Лисий Нос',\n",
       "       'деревня Яльгелево', 'посёлок Стеклянный', 'село Рождествено',\n",
       "       'деревня Старополье', 'посёлок Левашово', 'деревня Сяськелево',\n",
       "       'деревня Камышовка',\n",
       "       'садоводческое некоммерческое товарищество Лесная Поляна',\n",
       "       'деревня Хязельки', 'поселок Жилгородок',\n",
       "       'посёлок городского типа Павлово', 'деревня Ялгино',\n",
       "       'поселок Новый Учхоз', 'городской посёлок Рощино',\n",
       "       'поселок Гончарово', 'поселок Почап', 'посёлок Сапёрное',\n",
       "       'посёлок Платформа 69-й километр', 'поселок Каложицы',\n",
       "       'деревня Фалилеево', 'деревня Пельгора',\n",
       "       'поселок городского типа Лесогорский', 'деревня Торошковичи',\n",
       "       'посёлок Белоостров', 'посёлок Алексеевка', 'поселок Серебрянский',\n",
       "       'поселок Лукаши', 'поселок Петровское', 'деревня Щеглово',\n",
       "       'поселок Мичуринское', 'деревня Тарасово', 'поселок Кингисеппский',\n",
       "       'посёлок при железнодорожной станции Вещево', 'поселок Ушаки',\n",
       "       'деревня Котлы', 'деревня Сижно', 'деревня Торосово',\n",
       "       'посёлок Форт Красная Горка', 'поселок городского типа Токсово',\n",
       "       'деревня Новолисино', 'посёлок станции Громово', 'деревня Глинка',\n",
       "       'посёлок Мельниково', 'поселок городского типа Назия',\n",
       "       'деревня Старая Пустошь', 'поселок Коммунары', 'поселок Починок',\n",
       "       'посёлок городского типа Вознесенье', 'деревня Разбегаево',\n",
       "       'посёлок городского типа Рябово', 'поселок Гладкое',\n",
       "       'посёлок при железнодорожной станции Приветнинское',\n",
       "       'поселок Тёсово-4', 'посёлок Жилгородок', 'деревня Бор',\n",
       "       'посёлок Коробицыно', 'деревня Большая Вруда', 'деревня Курковицы',\n",
       "       'посёлок Лисий Нос', 'городской посёлок Советский',\n",
       "       'посёлок Кобралово', 'деревня Суоранда', 'поселок Кобралово',\n",
       "       'поселок городского типа Кондратьево',\n",
       "       'коттеджный поселок Счастье', 'поселок Любань', 'деревня Реброво',\n",
       "       'деревня Зимитицы', 'деревня Тойворово', 'поселок Семиозерье',\n",
       "       'поселок Лесное', 'поселок Совхозный', 'поселок Усть-Луга',\n",
       "       'посёлок Ленинское', 'посёлок Суйда',\n",
       "       'посёлок городского типа Форносово', 'деревня Нижние Осельки',\n",
       "       'посёлок станции Свирь', 'поселок Перово', 'Высоцк',\n",
       "       'поселок Гарболово', 'село Шум', 'поселок Котельский',\n",
       "       'поселок станции Лужайка', 'деревня Большая Пустомержа',\n",
       "       'поселок Красносельское', 'деревня Вахнова Кара', 'деревня Пижма',\n",
       "       'коттеджный поселок Кивеннапа Север', 'поселок Коробицыно',\n",
       "       'поселок Ромашки', 'посёлок Перово', 'деревня Каськово',\n",
       "       'деревня Куровицы', 'посёлок Плоское', 'поселок Сумино',\n",
       "       'поселок городского типа Большая Ижора', 'поселок Кирпичное',\n",
       "       'деревня Ям-Тесово', 'деревня Раздолье', 'деревня Терпилицы',\n",
       "       'посёлок Шугозеро', 'деревня Ваганово', 'поселок Пушное',\n",
       "       'садовое товарищество Садко', 'посёлок Усть-Ижора',\n",
       "       'деревня Выскатка', 'городской посёлок Свирьстрой',\n",
       "       'поселок Громово', 'деревня Кисельня', 'посёлок Старая Малукса',\n",
       "       'деревня Трубников Бор', 'поселок Калитино',\n",
       "       'посёлок Высокоключевой', 'садовое товарищество Приладожский',\n",
       "       'посёлок Пансионат Зелёный Бор', 'деревня Ненимяки',\n",
       "       'поселок Пансионат Зелёный Бор', 'деревня Снегирёвка',\n",
       "       'деревня Рапполово', 'деревня Пустынка', 'поселок Рабитицы',\n",
       "       'деревня Большой Сабск', 'деревня Русско', 'деревня Лупполово',\n",
       "       'деревня Большое Рейзино', 'деревня Малая Романовка',\n",
       "       'поселок Дружноселье', 'поселок Пчевжа', 'поселок Володарское',\n",
       "       'деревня Нижняя', 'коттеджный посёлок Лесное', 'деревня Тихковицы',\n",
       "       'деревня Борисова Грива', 'посёлок Дзержинского'], dtype=object)"
      ]
     },
     "execution_count": 11,
     "metadata": {},
     "output_type": "execute_result"
    }
   ],
   "source": [
    "#находим все неявные дупликаты\n",
    "data['locality_name'].unique()"
   ]
  },
  {
   "cell_type": "code",
   "execution_count": 12,
   "metadata": {},
   "outputs": [],
   "source": [
    "\n",
    "data['locality_name'] = (\n",
    "    data['locality_name']\n",
    "    .str.replace('ё', 'е')\n",
    "    .replace(['поселок', 'поселок городского типа', 'городской', 'городской поселок', 'деревня', 'село', 'станции', 'коттеджный', 'садовое товарищество', 'имени'], '', regex=True)\n",
    ")"
   ]
  },
  {
   "cell_type": "markdown",
   "metadata": {},
   "source": [
    "Заменил все буквы **\"ё\" на \"е\"** с помощью метода `str.replace()`, чтобы избежать дублирования и далее удалил описательные слова, такие как **\"поселок\", \"деревня\", \"село\", \"городской поселок\", \"поселок городского типа\"** и другие с помощью метода `replace()`. Это позволило упростить названия и привело к единому виду. Так как **\"ё\" заменил на \"е\"** прописал что убрал только **\"поселок\"**\", так как убрал поселок остаются слова **городского типа**, что будет не особо понятно и удалил эти слова соотвественно. И так остальные по данному принциппу. "
   ]
  },
  {
   "cell_type": "markdown",
   "metadata": {
    "id": "QCcvyY6YAwb-"
   },
   "source": [
    "## Добавьте в таблицу новые столбцы"
   ]
  },
  {
   "cell_type": "markdown",
   "metadata": {},
   "source": [
    "**цена одного квадратного метра (нужно поделить стоимость объекта на его общую площадь, а затем округлить до двух знаков после запятой)**"
   ]
  },
  {
   "cell_type": "code",
   "execution_count": 13,
   "metadata": {},
   "outputs": [
    {
     "data": {
      "text/plain": [
       "0        120370.37\n",
       "1         82920.79\n",
       "2         92785.71\n",
       "3        408176.10\n",
       "4        100000.00\n",
       "           ...    \n",
       "23694     72490.85\n",
       "23695     52542.37\n",
       "23696     44091.71\n",
       "23697    149511.40\n",
       "23698     41795.67\n",
       "Name: price_per_square, Length: 23699, dtype: float64"
      ]
     },
     "execution_count": 13,
     "metadata": {},
     "output_type": "execute_result"
    }
   ],
   "source": [
    "data['price_per_square'] = (data['last_price'] / data['total_area']).round(2)\n",
    "data['price_per_square']"
   ]
  },
  {
   "cell_type": "markdown",
   "metadata": {
    "id": "Z8eJek3IAwb-"
   },
   "source": [
    "**день недели публикации объявления (0 — понедельник, 1 — вторник и так далее)**"
   ]
  },
  {
   "cell_type": "code",
   "execution_count": 14,
   "metadata": {},
   "outputs": [
    {
     "data": {
      "text/plain": [
       "0        3\n",
       "1        1\n",
       "2        3\n",
       "3        4\n",
       "4        1\n",
       "        ..\n",
       "23694    1\n",
       "23695    0\n",
       "23696    6\n",
       "23697    1\n",
       "23698    4\n",
       "Name: publish_weekday, Length: 23699, dtype: int64"
      ]
     },
     "execution_count": 14,
     "metadata": {},
     "output_type": "execute_result"
    }
   ],
   "source": [
    "data['publish_weekday'] = data['first_day_exposition'].dt.weekday\n",
    "data['publish_weekday']"
   ]
  },
  {
   "cell_type": "markdown",
   "metadata": {},
   "source": [
    "**месяц публикации объявления**"
   ]
  },
  {
   "cell_type": "code",
   "execution_count": 15,
   "metadata": {},
   "outputs": [
    {
     "data": {
      "text/plain": [
       "0         3\n",
       "1        12\n",
       "2         8\n",
       "3         7\n",
       "4         6\n",
       "         ..\n",
       "23694     3\n",
       "23695     1\n",
       "23696     2\n",
       "23697     3\n",
       "23698     7\n",
       "Name: publish_month, Length: 23699, dtype: int64"
      ]
     },
     "execution_count": 15,
     "metadata": {},
     "output_type": "execute_result"
    }
   ],
   "source": [
    "data['publish_month'] = data['first_day_exposition'].dt.month\n",
    "data['publish_month']"
   ]
  },
  {
   "cell_type": "markdown",
   "metadata": {},
   "source": [
    "**год публикации объявления**"
   ]
  },
  {
   "cell_type": "code",
   "execution_count": 16,
   "metadata": {
    "scrolled": true
   },
   "outputs": [
    {
     "data": {
      "text/plain": [
       "0        2019\n",
       "1        2018\n",
       "2        2015\n",
       "3        2015\n",
       "4        2018\n",
       "         ... \n",
       "23694    2017\n",
       "23695    2018\n",
       "23696    2018\n",
       "23697    2017\n",
       "23698    2017\n",
       "Name: publish_year, Length: 23699, dtype: int64"
      ]
     },
     "execution_count": 16,
     "metadata": {},
     "output_type": "execute_result"
    }
   ],
   "source": [
    "data['publish_year'] = data['first_day_exposition'].dt.year\n",
    "data['publish_year']"
   ]
  },
  {
   "cell_type": "markdown",
   "metadata": {},
   "source": [
    "**тип этажа квартиры (значения — «‎первый», «последний», «другой»)**"
   ]
  },
  {
   "cell_type": "code",
   "execution_count": 17,
   "metadata": {},
   "outputs": [],
   "source": [
    "#прописываем функцию, если этаж будет равен 1, то это \"первый\", если этаж равен всего этажей в доме то это \"последний\" и остальные \"другие\"\n",
    "def type_floor(row):\n",
    "    if row['floor'] == 1:\n",
    "        return 'первый'\n",
    "    if row['floor'] == row['floors_total']:\n",
    "        return 'последний'\n",
    "    else:\n",
    "        return 'другой'\n",
    "\n",
    "# приминяем функцию через apply, чтобы на вход в функцию отправлялись строки, нужно указать параметр axis=1\n",
    "data['floor_type'] = data.apply(type_floor, axis=1)\n"
   ]
  },
  {
   "cell_type": "markdown",
   "metadata": {},
   "source": [
    "**расстояние до центра города в километрах (переведите из м в км и округлите до ближайших целых значений).**"
   ]
  },
  {
   "cell_type": "code",
   "execution_count": 18,
   "metadata": {},
   "outputs": [
    {
     "data": {
      "text/plain": [
       "0        16.0\n",
       "1        19.0\n",
       "2        14.0\n",
       "3         7.0\n",
       "4         8.0\n",
       "         ... \n",
       "23694     4.0\n",
       "23695     NaN\n",
       "23696     NaN\n",
       "23697    10.0\n",
       "23698     NaN\n",
       "Name: city_center_km, Length: 23699, dtype: float64"
      ]
     },
     "execution_count": 18,
     "metadata": {},
     "output_type": "execute_result"
    }
   ],
   "source": [
    "data['city_center_km'] = (data['city_centers_nearest'] / 1000).round()\n",
    "data['city_center_km']"
   ]
  },
  {
   "cell_type": "markdown",
   "metadata": {
    "id": "pPyxrKWTAwb-"
   },
   "source": [
    "## Проведите исследовательский анализ данных"
   ]
  },
  {
   "cell_type": "markdown",
   "metadata": {
    "id": "V2f0D3kLAwb-"
   },
   "source": [
    "**постройте отдельные гистограммы для каждого параметров ниже.**"
   ]
  },
  {
   "cell_type": "code",
   "execution_count": 19,
   "metadata": {
    "scrolled": true
   },
   "outputs": [
    {
     "data": {
      "text/plain": [
       "count    23698.000000\n",
       "mean        60.313220\n",
       "std         35.235136\n",
       "min         12.000000\n",
       "25%         40.000000\n",
       "50%         52.000000\n",
       "75%         69.875000\n",
       "max        631.200000\n",
       "Name: total_area, dtype: float64"
      ]
     },
     "execution_count": 19,
     "metadata": {},
     "output_type": "execute_result"
    },
    {
     "data": {
      "image/png": "[encoded data removed]",
      "text/plain": [
       "<Figure size 432x288 with 1 Axes>"
      ]
     },
     "metadata": {
      "needs_background": "light"
     },
     "output_type": "display_data"
    }
   ],
   "source": [
    "#общая площадь total_area\n",
    "\n",
    "data = data[(data['total_area'] >= 12) & (data['total_area'] <= 650)]\n",
    "\n",
    "data['total_area'].hist(bins=30,range=(12, 650))\n",
    "plt.title('Общая площадь')\n",
    "plt.xlabel('кв.м.')\n",
    "plt.ylabel('количество')\n",
    "data['total_area'].describe()\n"
   ]
  },
  {
   "cell_type": "markdown",
   "metadata": {},
   "source": [
    "Отбросили явно аномальные данные которые превыщают 650 кв.м. Большинство квартир имеют площадь от 40 до 70 кв. м."
   ]
  },
  {
   "cell_type": "code",
   "execution_count": 20,
   "metadata": {
    "scrolled": true
   },
   "outputs": [
    {
     "data": {
      "text/plain": [
       "count    21795.000000\n",
       "mean        34.440636\n",
       "std         21.883823\n",
       "min          2.000000\n",
       "25%         18.600000\n",
       "50%         30.000000\n",
       "75%         42.300000\n",
       "max        409.000000\n",
       "Name: living_area, dtype: float64"
      ]
     },
     "execution_count": 20,
     "metadata": {},
     "output_type": "execute_result"
    },
    {
     "data": {
      "image/png": "[encoded data removed]",
      "text/plain": [
       "<Figure size 432x288 with 1 Axes>"
      ]
     },
     "metadata": {
      "needs_background": "light"
     },
     "output_type": "display_data"
    }
   ],
   "source": [
    "#жилая площадь living_area \n",
    "\n",
    "data['living_area'].hist(bins=50, range=(0, 350))\n",
    "plt.title('Жилая площадь')\n",
    "plt.xlabel('кв.м.')\n",
    "plt.ylabel('количество')\n",
    "data['living_area'].describe()\n"
   ]
  },
  {
   "cell_type": "markdown",
   "metadata": {},
   "source": [
    "Основная масса квартир имеет жилую площадь в диапазоне от 18 до 42 кв м"
   ]
  },
  {
   "cell_type": "code",
   "execution_count": 21,
   "metadata": {},
   "outputs": [
    {
     "data": {
      "text/plain": [
       "count    21420.000000\n",
       "mean        10.565072\n",
       "std          5.864766\n",
       "min          1.300000\n",
       "25%          7.000000\n",
       "50%          9.100000\n",
       "75%         12.000000\n",
       "max        107.000000\n",
       "Name: kitchen_area, dtype: float64"
      ]
     },
     "execution_count": 21,
     "metadata": {},
     "output_type": "execute_result"
    },
    {
     "data": {
      "image/png": "[encoded data removed]",
      "text/plain": [
       "<Figure size 432x288 with 1 Axes>"
      ]
     },
     "metadata": {
      "needs_background": "light"
     },
     "output_type": "display_data"
    }
   ],
   "source": [
    "data['kitchen_area'].hist(bins=30, range=(1, 112))\n",
    "plt.title('Площадь кухни')\n",
    "plt.xlabel('кв.м.')\n",
    "plt.ylabel('количество')\n",
    "data['kitchen_area'].describe()\n"
   ]
  },
  {
   "cell_type": "markdown",
   "metadata": {},
   "source": [
    "Чаще всего кухни указаны 7-12 кв.м. Просторные кухни (20+ кв.м) встречаются редко."
   ]
  },
  {
   "cell_type": "code",
   "execution_count": 22,
   "metadata": {},
   "outputs": [
    {
     "data": {
      "text/plain": [
       "count    2.369600e+04\n",
       "mean     6.492452e+06\n",
       "std      9.336677e+06\n",
       "min      4.300000e+05\n",
       "25%      3.400000e+06\n",
       "50%      4.650000e+06\n",
       "75%      6.799250e+06\n",
       "max      4.013000e+08\n",
       "Name: last_price, dtype: float64"
      ]
     },
     "execution_count": 22,
     "metadata": {},
     "output_type": "execute_result"
    },
    {
     "data": {
      "image/png": "[encoded data removed]",
      "text/plain": [
       "<Figure size 432x288 with 1 Axes>"
      ]
     },
     "metadata": {
      "needs_background": "light"
     },
     "output_type": "display_data"
    }
   ],
   "source": [
    "#цена объекта last_price\n",
    "\n",
    "\n",
    "data = data[(data['last_price'] > 13000) & (data['last_price'] < 700000000)]\n",
    "\n",
    "data['last_price'].hist(bins=100, range=(13000, 420000000))\n",
    "plt.title('Цена')\n",
    "plt.xlabel('рублей')\n",
    "plt.ylabel('количество')\n",
    "data['last_price'].describe()\n"
   ]
  },
  {
   "cell_type": "markdown",
   "metadata": {},
   "source": [
    "Самая низкая (12000) и самая высокая (763000000) цены были сильно занижены и завышены они были удалены. \n",
    "\n",
    "Основное предложение на рынке квартир сосредоточено в диапазоне цен до 10 миллионов рублей, но присутствуют и элитные квартиры с гораздо более высокой стоимостью.\n"
   ]
  },
  {
   "cell_type": "code",
   "execution_count": 23,
   "metadata": {},
   "outputs": [
    {
     "data": {
      "text/plain": [
       "count    23497.000000\n",
       "mean         2.086054\n",
       "std          1.054079\n",
       "min          1.000000\n",
       "25%          1.000000\n",
       "50%          2.000000\n",
       "75%          3.000000\n",
       "max         15.000000\n",
       "Name: rooms, dtype: float64"
      ]
     },
     "execution_count": 23,
     "metadata": {},
     "output_type": "execute_result"
    },
    {
     "data": {
      "image/png": "[encoded data removed]",
      "text/plain": [
       "<Figure size 432x288 with 1 Axes>"
      ]
     },
     "metadata": {
      "needs_background": "light"
     },
     "output_type": "display_data"
    }
   ],
   "source": [
    "#количество комнат rooms\n",
    "\n",
    "data = data[(data['rooms'] > 0) & (data['rooms'] < 16)]\n",
    "\n",
    "data['rooms'].hist(bins=30, range=(0, 16)) \n",
    "plt.title('Количество комнат')\n",
    "plt.ylabel('количество')\n",
    "\n",
    "data['rooms'].describe() "
   ]
  },
  {
   "cell_type": "markdown",
   "metadata": {},
   "source": [
    "Основная масса квартир 1-3 комнатные, встречаются также и до 19 комнат, но крайне редко. "
   ]
  },
  {
   "cell_type": "code",
   "execution_count": 24,
   "metadata": {
    "scrolled": true
   },
   "outputs": [
    {
     "data": {
      "text/plain": [
       "count    23481.000000\n",
       "mean         2.698785\n",
       "std          0.247718\n",
       "min          2.200000\n",
       "25%          2.600000\n",
       "50%          2.650000\n",
       "75%          2.700000\n",
       "max         14.000000\n",
       "Name: ceiling_height, dtype: float64"
      ]
     },
     "execution_count": 24,
     "metadata": {},
     "output_type": "execute_result"
    },
    {
     "data": {
      "image/png": "[encoded data removed]",
      "text/plain": [
       "<Figure size 432x288 with 1 Axes>"
      ]
     },
     "metadata": {
      "needs_background": "light"
     },
     "output_type": "display_data"
    }
   ],
   "source": [
    "#высота потолков ceiling_height\n",
    "\n",
    "\n",
    "#пропишем функцию, которая в случае обнаружение потолков более или равно 20 м разделит их на 10 и получится правильные данные.\n",
    "\n",
    "def ceiling_improvements(height):\n",
    "    if pd.isna(height):\n",
    "        return height  # Возвращаем пропущенное значение как есть\n",
    "    if 33 > height >= 20:\n",
    "        return height / 10\n",
    "    return height\n",
    "\n",
    "data['ceiling_height'] = data['ceiling_height'].apply(ceiling_improvements);\n",
    "\n",
    "\n",
    "data = data[(data['ceiling_height'] > 2) & (data['ceiling_height'] < 15)];\n",
    "\n",
    "\n",
    "data['ceiling_height'].hist(bins=30, range=(2, 15))\n",
    "plt.title('Высота потолков')\n",
    "plt.xlabel('метров')\n",
    "plt.ylabel('количество')\n",
    "\n",
    "data['ceiling_height'].describe()"
   ]
  },
  {
   "cell_type": "markdown",
   "metadata": {},
   "source": [
    "Между цифрами от 20м до 32м были проставлены точки, так возможно при заполнении забыли поставить точки. Были данные 100м потолка, которые были удалены вместе с теми что ниже 2 м. \n",
    "\n",
    "Большинство квартир имеют высоту потолков в диапазоне от 2.5 до 2.8 метров, а выбросы превышающие 4 метра, скорее всего, представляют собой редкие случаи или ошибки в данных."
   ]
  },
  {
   "cell_type": "code",
   "execution_count": 25,
   "metadata": {
    "scrolled": true
   },
   "outputs": [
    {
     "data": {
      "image/png": "[encoded data removed]",
      "text/plain": [
       "<Figure size 432x288 with 1 Axes>"
      ]
     },
     "metadata": {
      "needs_background": "light"
     },
     "output_type": "display_data"
    }
   ],
   "source": [
    "#тип этажа квартиры («первый», «последний», «другой») floor_type\n",
    "\n",
    "data['floor_type'].hist(bins=30);\n"
   ]
  },
  {
   "cell_type": "markdown",
   "metadata": {},
   "source": [
    "По графику видно, что квартир на последних этажах больше чем на первых. Большинство квартир рассположены между первыми и последними этажами."
   ]
  },
  {
   "cell_type": "code",
   "execution_count": 26,
   "metadata": {
    "scrolled": true
   },
   "outputs": [
    {
     "data": {
      "text/plain": [
       "count    23398.000000\n",
       "mean        10.617241\n",
       "std          6.554077\n",
       "min          1.000000\n",
       "25%          5.000000\n",
       "50%          9.000000\n",
       "75%         16.000000\n",
       "max         36.000000\n",
       "Name: floors_total, dtype: float64"
      ]
     },
     "execution_count": 26,
     "metadata": {},
     "output_type": "execute_result"
    },
    {
     "data": {
      "image/png": "[encoded data removed]",
      "text/plain": [
       "<Figure size 432x288 with 1 Axes>"
      ]
     },
     "metadata": {
      "needs_background": "light"
     },
     "output_type": "display_data"
    }
   ],
   "source": [
    "#общее количество этажей в доме floors_total\n",
    "\n",
    "#проверив аномальные данные выявились 2 квартиры в общим количеством этажей 50 (Кронштадт) и 60 (Санкт-Петербург)\n",
    "#провериф количество комнат и город появились мысли, что при ручной забивке добавили случайным образом дополнительный 0 \n",
    "data[data['floors_total'] > 50][['locality_name', 'rooms']]\n",
    "\n",
    "# в связи с чем решено было привести данные в нормальный вид\n",
    "def floors_total_imprv(floor):\n",
    "    if floor >= 50:\n",
    "        return floor / 10\n",
    "    return floor\n",
    "\n",
    "data['floors_total'] = data['floors_total'].apply(floors_total_imprv)\n",
    "\n",
    "data['floors_total'].hist(bins=30, range=(0, 37))\n",
    "data['floors_total'].describe()\n"
   ]
  },
  {
   "cell_type": "markdown",
   "metadata": {},
   "source": [
    "Основное количество зданий приходится на диапазон от 5 до 14 этажей. Высотные здания с 30 и более этажами встречаются значительно реже."
   ]
  },
  {
   "cell_type": "code",
   "execution_count": 27,
   "metadata": {
    "scrolled": true
   },
   "outputs": [
    {
     "data": {
      "text/plain": [
       "count    18050.000000\n",
       "mean     14198.582438\n",
       "std       8627.441338\n",
       "min        181.000000\n",
       "25%       9235.000000\n",
       "50%      13094.000000\n",
       "75%      16293.000000\n",
       "max      65968.000000\n",
       "Name: city_centers_nearest, dtype: float64"
      ]
     },
     "execution_count": 27,
     "metadata": {},
     "output_type": "execute_result"
    },
    {
     "data": {
      "image/png": "[encoded data removed]",
      "text/plain": [
       "<Figure size 432x288 with 1 Axes>"
      ]
     },
     "metadata": {
      "needs_background": "light"
     },
     "output_type": "display_data"
    }
   ],
   "source": [
    "#расстояние до центра города в метрах city_centers_nearest\n",
    "\n",
    "data['city_centers_nearest'].hist(bins=30, range=(181, 66000))\n",
    "data['city_centers_nearest'].describe()"
   ]
  },
  {
   "cell_type": "markdown",
   "metadata": {},
   "source": [
    "Большинство объектов располагается на расстоянии от 9 до 16 км от центра города, однако и значительные выбросы, которые находятся как очень близко (меньше 1 км), так и на большом удалении (до 66 км)."
   ]
  },
  {
   "cell_type": "code",
   "execution_count": 28,
   "metadata": {},
   "outputs": [
    {
     "data": {
      "text/plain": [
       "count    8042.000000\n",
       "mean      490.367695\n",
       "std       342.500913\n",
       "min         1.000000\n",
       "25%       287.250000\n",
       "50%       453.000000\n",
       "75%       612.000000\n",
       "max      3190.000000\n",
       "Name: parks_nearest, dtype: float64"
      ]
     },
     "execution_count": 28,
     "metadata": {},
     "output_type": "execute_result"
    },
    {
     "data": {
      "image/png": "[encoded data removed]",
      "text/plain": [
       "<Figure size 432x288 with 1 Axes>"
      ]
     },
     "metadata": {
      "needs_background": "light"
     },
     "output_type": "display_data"
    }
   ],
   "source": [
    "data['parks_nearest'].hist(bins=30, range=(0, 3200))\n",
    "data['parks_nearest'].describe()"
   ]
  },
  {
   "cell_type": "markdown",
   "metadata": {},
   "source": [
    "Большинство кв имеют доступ к паркам в пределах 500-600 м, также имеются кв которые расположены подальше от парков до 3 км"
   ]
  },
  {
   "cell_type": "code",
   "execution_count": 29,
   "metadata": {
    "scrolled": true
   },
   "outputs": [
    {
     "data": {
      "text/plain": [
       "count    23179.000000\n",
       "mean         0.529876\n",
       "std          0.820399\n",
       "min          0.000000\n",
       "25%          0.000000\n",
       "50%          0.000000\n",
       "75%          1.000000\n",
       "max          4.000000\n",
       "Name: balcony, dtype: float64"
      ]
     },
     "execution_count": 29,
     "metadata": {},
     "output_type": "execute_result"
    },
    {
     "data": {
      "image/png": "[encoded data removed]",
      "text/plain": [
       "<Figure size 432x288 with 1 Axes>"
      ]
     },
     "metadata": {
      "needs_background": "light"
     },
     "output_type": "display_data"
    }
   ],
   "source": [
    "data = data[(data['balcony'] < 5)]\n",
    "data['balcony'].hist(bins=30, range=(0, 4));\n",
    "data['balcony'].describe()"
   ]
  },
  {
   "cell_type": "markdown",
   "metadata": {},
   "source": [
    "Большинство квартир не имеют балкона или имеют только один, тогда как наличие двух и более балконов — редкость и связано с более крупными объектами."
   ]
  },
  {
   "cell_type": "markdown",
   "metadata": {},
   "source": [
    "**Изучите, как быстро продавались квартиры (столбец days_exposition). Этот параметр показывает, сколько дней было размещено каждое объявление.**"
   ]
  },
  {
   "cell_type": "markdown",
   "metadata": {},
   "source": [
    "Постройте гистограмму."
   ]
  },
  {
   "cell_type": "code",
   "execution_count": 30,
   "metadata": {
    "scrolled": false
   },
   "outputs": [
    {
     "data": {
      "text/plain": [
       "count    20076.000000\n",
       "mean       181.650926\n",
       "std        220.268261\n",
       "min          1.000000\n",
       "25%         45.000000\n",
       "50%         96.000000\n",
       "75%        232.000000\n",
       "max       1580.000000\n",
       "Name: days_exposition, dtype: float64"
      ]
     },
     "execution_count": 30,
     "metadata": {},
     "output_type": "execute_result"
    },
    {
     "data": {
      "image/png": "[encoded data removed]",
      "text/plain": [
       "<Figure size 432x288 with 1 Axes>"
      ]
     },
     "metadata": {
      "needs_background": "light"
     },
     "output_type": "display_data"
    }
   ],
   "source": [
    "data['days_exposition'].hist(bins=30, range=(0, 1600))\n",
    "\n",
    "data['days_exposition'].describe()"
   ]
  },
  {
   "cell_type": "markdown",
   "metadata": {},
   "source": [
    "Посчитайте среднее и медиану."
   ]
  },
  {
   "cell_type": "code",
   "execution_count": 31,
   "metadata": {},
   "outputs": [
    {
     "data": {
      "text/plain": [
       "96.0"
      ]
     },
     "execution_count": 31,
     "metadata": {},
     "output_type": "execute_result"
    }
   ],
   "source": [
    "day_exp_median = data['days_exposition'].median()\n",
    "\n",
    "day_exp_median"
   ]
  },
  {
   "cell_type": "code",
   "execution_count": 32,
   "metadata": {},
   "outputs": [
    {
     "data": {
      "text/plain": [
       "181.65092647937837"
      ]
     },
     "execution_count": 32,
     "metadata": {},
     "output_type": "execute_result"
    }
   ],
   "source": [
    "day_exp_mean = data['days_exposition'].mean()\n",
    "day_exp_mean"
   ]
  },
  {
   "cell_type": "markdown",
   "metadata": {},
   "source": [
    "**Опишите, сколько времени обычно занимает продажа. Какие продажи можно считать быстрыми, а какие — необычно долгими:**\n",
    "Продажи, которые совершаются быстрее **96 дней** можно считать **быстрыми.**\n",
    "\n",
    "Продажи, которые занимают от **96 до 181 дней**, можно считать стандартными, а те, что занимают больше времени, но меньше **181 дней — долгими**\n",
    "\n",
    "**Более 250 дней**, можно считать **необычно долгими**"
   ]
  },
  {
   "cell_type": "markdown",
   "metadata": {},
   "source": [
    "**Определите факторы, которые больше всего влияют на общую (полную) стоимость объекта** (общей площади; жилой площади; площади кухни; количества комнат; этажа, на котором расположена квартира (первый, последний, другой);\n",
    "даты размещения (день недели, месяц, год)). "
   ]
  },
  {
   "cell_type": "code",
   "execution_count": 33,
   "metadata": {},
   "outputs": [
    {
     "data": {
      "text/html": [
       "<div>\n",
       "<style scoped>\n",
       "    .dataframe tbody tr th:only-of-type {\n",
       "        vertical-align: middle;\n",
       "    }\n",
       "\n",
       "    .dataframe tbody tr th {\n",
       "        vertical-align: top;\n",
       "    }\n",
       "\n",
       "    .dataframe thead th {\n",
       "        text-align: right;\n",
       "    }\n",
       "</style>\n",
       "<table border=\"1\" class=\"dataframe\">\n",
       "  <thead>\n",
       "    <tr style=\"text-align: right;\">\n",
       "      <th></th>\n",
       "      <th>last_price</th>\n",
       "      <th>total_area</th>\n",
       "      <th>living_area</th>\n",
       "      <th>kitchen_area</th>\n",
       "      <th>rooms</th>\n",
       "      <th>publish_weekday</th>\n",
       "      <th>publish_month</th>\n",
       "      <th>publish_year</th>\n",
       "    </tr>\n",
       "  </thead>\n",
       "  <tbody>\n",
       "    <tr>\n",
       "      <th>last_price</th>\n",
       "      <td>1.000000</td>\n",
       "      <td>0.693346</td>\n",
       "      <td>0.602880</td>\n",
       "      <td>0.512106</td>\n",
       "      <td>0.392126</td>\n",
       "      <td>-0.001621</td>\n",
       "      <td>-0.002855</td>\n",
       "      <td>-0.048711</td>\n",
       "    </tr>\n",
       "    <tr>\n",
       "      <th>total_area</th>\n",
       "      <td>0.693346</td>\n",
       "      <td>1.000000</td>\n",
       "      <td>0.939153</td>\n",
       "      <td>0.602574</td>\n",
       "      <td>0.760521</td>\n",
       "      <td>-0.004797</td>\n",
       "      <td>0.004880</td>\n",
       "      <td>-0.081868</td>\n",
       "    </tr>\n",
       "    <tr>\n",
       "      <th>living_area</th>\n",
       "      <td>0.602880</td>\n",
       "      <td>0.939153</td>\n",
       "      <td>1.000000</td>\n",
       "      <td>0.420760</td>\n",
       "      <td>0.849726</td>\n",
       "      <td>-0.005932</td>\n",
       "      <td>-0.002995</td>\n",
       "      <td>-0.073283</td>\n",
       "    </tr>\n",
       "    <tr>\n",
       "      <th>kitchen_area</th>\n",
       "      <td>0.512106</td>\n",
       "      <td>0.602574</td>\n",
       "      <td>0.420760</td>\n",
       "      <td>1.000000</td>\n",
       "      <td>0.265065</td>\n",
       "      <td>-0.008778</td>\n",
       "      <td>0.001099</td>\n",
       "      <td>-0.055537</td>\n",
       "    </tr>\n",
       "    <tr>\n",
       "      <th>rooms</th>\n",
       "      <td>0.392126</td>\n",
       "      <td>0.760521</td>\n",
       "      <td>0.849726</td>\n",
       "      <td>0.265065</td>\n",
       "      <td>1.000000</td>\n",
       "      <td>-0.003640</td>\n",
       "      <td>-0.000815</td>\n",
       "      <td>-0.055638</td>\n",
       "    </tr>\n",
       "    <tr>\n",
       "      <th>publish_weekday</th>\n",
       "      <td>-0.001621</td>\n",
       "      <td>-0.004797</td>\n",
       "      <td>-0.005932</td>\n",
       "      <td>-0.008778</td>\n",
       "      <td>-0.003640</td>\n",
       "      <td>1.000000</td>\n",
       "      <td>0.007736</td>\n",
       "      <td>-0.003404</td>\n",
       "    </tr>\n",
       "    <tr>\n",
       "      <th>publish_month</th>\n",
       "      <td>-0.002855</td>\n",
       "      <td>0.004880</td>\n",
       "      <td>-0.002995</td>\n",
       "      <td>0.001099</td>\n",
       "      <td>-0.000815</td>\n",
       "      <td>0.007736</td>\n",
       "      <td>1.000000</td>\n",
       "      <td>-0.268652</td>\n",
       "    </tr>\n",
       "    <tr>\n",
       "      <th>publish_year</th>\n",
       "      <td>-0.048711</td>\n",
       "      <td>-0.081868</td>\n",
       "      <td>-0.073283</td>\n",
       "      <td>-0.055537</td>\n",
       "      <td>-0.055638</td>\n",
       "      <td>-0.003404</td>\n",
       "      <td>-0.268652</td>\n",
       "      <td>1.000000</td>\n",
       "    </tr>\n",
       "  </tbody>\n",
       "</table>\n",
       "</div>"
      ],
      "text/plain": [
       "                 last_price  total_area  living_area  kitchen_area     rooms  \\\n",
       "last_price         1.000000    0.693346     0.602880      0.512106  0.392126   \n",
       "total_area         0.693346    1.000000     0.939153      0.602574  0.760521   \n",
       "living_area        0.602880    0.939153     1.000000      0.420760  0.849726   \n",
       "kitchen_area       0.512106    0.602574     0.420760      1.000000  0.265065   \n",
       "rooms              0.392126    0.760521     0.849726      0.265065  1.000000   \n",
       "publish_weekday   -0.001621   -0.004797    -0.005932     -0.008778 -0.003640   \n",
       "publish_month     -0.002855    0.004880    -0.002995      0.001099 -0.000815   \n",
       "publish_year      -0.048711   -0.081868    -0.073283     -0.055537 -0.055638   \n",
       "\n",
       "                 publish_weekday  publish_month  publish_year  \n",
       "last_price             -0.001621      -0.002855     -0.048711  \n",
       "total_area             -0.004797       0.004880     -0.081868  \n",
       "living_area            -0.005932      -0.002995     -0.073283  \n",
       "kitchen_area           -0.008778       0.001099     -0.055537  \n",
       "rooms                  -0.003640      -0.000815     -0.055638  \n",
       "publish_weekday         1.000000       0.007736     -0.003404  \n",
       "publish_month           0.007736       1.000000     -0.268652  \n",
       "publish_year           -0.003404      -0.268652      1.000000  "
      ]
     },
     "execution_count": 33,
     "metadata": {},
     "output_type": "execute_result"
    }
   ],
   "source": [
    "#для этого применим Коэффициент Пирсона \n",
    "\n",
    "factor_appears_corr = data[['last_price', 'total_area', 'living_area', 'kitchen_area', 'rooms', 'publish_weekday', 'publish_month', 'publish_year']].corr()\n",
    "factor_appears_corr"
   ]
  },
  {
   "cell_type": "markdown",
   "metadata": {},
   "source": [
    "**Общая площадь** корреляция 0.69 самый сильный фактор, напрямую влияющий на стоимость. Чем больше площадь, тем выше цена.\n",
    "\n",
    "**Жилая площадь** также  влияет на стоимость объекта, так как корреляция составляет 0.60, немного меньше, чем у общей площади. \n",
    "\n",
    "**Площадь кухни**, корреляция 0.51, также является значимым фактором."
   ]
  },
  {
   "cell_type": "markdown",
   "metadata": {},
   "source": [
    "**Постройте графики, которые покажут зависимость цены от указанных выше параметров. Для подготовки данных перед визуализацией вы можете использовать сводные таблицы.**"
   ]
  },
  {
   "cell_type": "code",
   "execution_count": 34,
   "metadata": {
    "scrolled": false
   },
   "outputs": [
    {
     "data": {
      "image/png": "[encoded data removed]",
      "text/plain": [
       "<Figure size 432x288 with 1 Axes>"
      ]
     },
     "metadata": {
      "needs_background": "light"
     },
     "output_type": "display_data"
    },
    {
     "data": {
      "image/png": "[encoded data removed]",
      "text/plain": [
       "<Figure size 432x288 with 1 Axes>"
      ]
     },
     "metadata": {
      "needs_background": "light"
     },
     "output_type": "display_data"
    },
    {
     "data": {
      "image/png": "[encoded data removed]",
      "text/plain": [
       "<Figure size 432x288 with 1 Axes>"
      ]
     },
     "metadata": {
      "needs_background": "light"
     },
     "output_type": "display_data"
    },
    {
     "data": {
      "image/png": "[encoded data removed]",
      "text/plain": [
       "<Figure size 432x288 with 1 Axes>"
      ]
     },
     "metadata": {
      "needs_background": "light"
     },
     "output_type": "display_data"
    },
    {
     "data": {
      "image/png": "[encoded data removed]",
      "text/plain": [
       "<Figure size 432x288 with 1 Axes>"
      ]
     },
     "metadata": {
      "needs_background": "light"
     },
     "output_type": "display_data"
    },
    {
     "data": {
      "image/png": "[encoded data removed]",
      "text/plain": [
       "<Figure size 432x288 with 1 Axes>"
      ]
     },
     "metadata": {
      "needs_background": "light"
     },
     "output_type": "display_data"
    },
    {
     "data": {
      "image/png": "[encoded data removed]",
      "text/plain": [
       "<Figure size 432x288 with 1 Axes>"
      ]
     },
     "metadata": {
      "needs_background": "light"
     },
     "output_type": "display_data"
    }
   ],
   "source": [
    "#сводных таблиц для подготовки данных\n",
    "# 'kitchen_area', 'rooms', 'publish_weekday', 'publish_month', 'publish_year'\n",
    "\n",
    "area_price = (\n",
    "    data.pivot_table(index='total_area', values='last_price', aggfunc='median')\n",
    "    .plot(title='Зависимость от общей площади')\n",
    "             )\n",
    "\n",
    "liv_area_price = (\n",
    "    data.pivot_table(index='living_area', values='last_price', aggfunc='median')\n",
    "    .plot(title='Зависимость от жилой площади')\n",
    "             )\n",
    "\n",
    "kitc_area_price = (\n",
    "    data.pivot_table(index='kitchen_area', values='last_price', aggfunc='median')\n",
    "    .plot(title='Зависимость от площади кухни')\n",
    "             )\n",
    "\n",
    "rooms_price = (\n",
    "    data.pivot_table(index='rooms', values='last_price', aggfunc='median')\n",
    "    .plot(title='Зависимость от количества комнат')\n",
    "             )\n",
    "weekday_price = (\n",
    "    data.pivot_table(index='publish_weekday', values='last_price', aggfunc='median')\n",
    "    .plot(title='Зависимость от дня недели публикации')\n",
    "             )\n",
    "\n",
    "month_price = (\n",
    "    data.pivot_table(index='publish_month', values='last_price', aggfunc='median')\n",
    "    .plot(title='Зависимость от месяца публикации')\n",
    "             )\n",
    "year_price = (\n",
    "    data.pivot_table(index='publish_year', values='last_price', aggfunc='median')\n",
    "    .plot(title='Зависимость от года публикации')\n",
    "             )"
   ]
  },
  {
   "cell_type": "markdown",
   "metadata": {},
   "source": [
    "**Посчитайте среднюю цену одного квадратного метра в 10 населённых пунктах с наибольшим числом объявлений — постройте сводную таблицу с количеством объявлений и средней ценой квадратного метра для этих населенных пунктов. Выделите населённые пункты с самой высокой и низкой стоимостью квадратного метра.**"
   ]
  },
  {
   "cell_type": "code",
   "execution_count": 35,
   "metadata": {},
   "outputs": [
    {
     "data": {
      "text/html": [
       "<div>\n",
       "<style scoped>\n",
       "    .dataframe tbody tr th:only-of-type {\n",
       "        vertical-align: middle;\n",
       "    }\n",
       "\n",
       "    .dataframe tbody tr th {\n",
       "        vertical-align: top;\n",
       "    }\n",
       "\n",
       "    .dataframe thead th {\n",
       "        text-align: right;\n",
       "    }\n",
       "</style>\n",
       "<table border=\"1\" class=\"dataframe\">\n",
       "  <thead>\n",
       "    <tr style=\"text-align: right;\">\n",
       "      <th></th>\n",
       "      <th>count_listing</th>\n",
       "      <th>price_mean</th>\n",
       "    </tr>\n",
       "    <tr>\n",
       "      <th>locality_name</th>\n",
       "      <th></th>\n",
       "      <th></th>\n",
       "    </tr>\n",
       "  </thead>\n",
       "  <tbody>\n",
       "    <tr>\n",
       "      <th>Мурино</th>\n",
       "      <td>520</td>\n",
       "      <td>84973.605212</td>\n",
       "    </tr>\n",
       "    <tr>\n",
       "      <th>Шушары</th>\n",
       "      <td>432</td>\n",
       "      <td>78557.999861</td>\n",
       "    </tr>\n",
       "    <tr>\n",
       "      <th>Всеволожск</th>\n",
       "      <td>383</td>\n",
       "      <td>68691.575587</td>\n",
       "    </tr>\n",
       "    <tr>\n",
       "      <th>Пушкин</th>\n",
       "      <td>369</td>\n",
       "      <td>103125.819377</td>\n",
       "    </tr>\n",
       "    <tr>\n",
       "      <th>Колпино</th>\n",
       "      <td>331</td>\n",
       "      <td>75328.635468</td>\n",
       "    </tr>\n",
       "    <tr>\n",
       "      <th>Парголово</th>\n",
       "      <td>323</td>\n",
       "      <td>90289.778019</td>\n",
       "    </tr>\n",
       "    <tr>\n",
       "      <th>Гатчина</th>\n",
       "      <td>301</td>\n",
       "      <td>68634.397043</td>\n",
       "    </tr>\n",
       "    <tr>\n",
       "      <th>Кудрово</th>\n",
       "      <td>279</td>\n",
       "      <td>92585.857097</td>\n",
       "    </tr>\n",
       "    <tr>\n",
       "      <th>Выборг</th>\n",
       "      <td>235</td>\n",
       "      <td>58238.143277</td>\n",
       "    </tr>\n",
       "    <tr>\n",
       "      <th>Петергоф</th>\n",
       "      <td>199</td>\n",
       "      <td>84326.707839</td>\n",
       "    </tr>\n",
       "  </tbody>\n",
       "</table>\n",
       "</div>"
      ],
      "text/plain": [
       "               count_listing     price_mean\n",
       "locality_name                              \n",
       " Мурино                  520   84973.605212\n",
       " Шушары                  432   78557.999861\n",
       "Всеволожск               383   68691.575587\n",
       "Пушкин                   369  103125.819377\n",
       "Колпино                  331   75328.635468\n",
       " Парголово               323   90289.778019\n",
       "Гатчина                  301   68634.397043\n",
       " Кудрово                 279   92585.857097\n",
       "Выборг                   235   58238.143277\n",
       "Петергоф                 199   84326.707839"
      ]
     },
     "execution_count": 35,
     "metadata": {},
     "output_type": "execute_result"
    }
   ],
   "source": [
    "#посчитаем количество объявлений и среднюю цену за кв.м.\n",
    "\n",
    "locality_info = data.pivot_table(\n",
    "    index='locality_name',\n",
    "    values='price_per_square',\n",
    "    aggfunc=['count', 'mean'])\n",
    "\n",
    "#переминуем столбцы для удобства\n",
    "locality_info.columns = ['count_listing', 'price_mean']\n",
    "locality_info\n",
    "\n",
    "#выявим топ 10, уберем Санкт-Петербург, так как он является городом а не населенным пунктом\n",
    "top_10_listing = locality_info[locality_info.index != 'Санкт-Петербург'].sort_values(by='count_listing', ascending=False).head(10)\n",
    "top_10_listing\n"
   ]
  },
  {
   "cell_type": "code",
   "execution_count": 36,
   "metadata": {},
   "outputs": [
    {
     "data": {
      "text/plain": [
       "count_listing       369.000000\n",
       "price_mean       103125.819377\n",
       "Name: Пушкин, dtype: float64"
      ]
     },
     "execution_count": 36,
     "metadata": {},
     "output_type": "execute_result"
    }
   ],
   "source": [
    "#населённые пункты с самой высокой стоимостью за кв.м.\n",
    "most_expensive = top_10_listing.loc[top_10_listing['price_mean'].idxmax()]\n",
    "most_expensive"
   ]
  },
  {
   "cell_type": "code",
   "execution_count": 37,
   "metadata": {},
   "outputs": [
    {
     "data": {
      "text/plain": [
       "count_listing      235.000000\n",
       "price_mean       58238.143277\n",
       "Name: Выборг, dtype: float64"
      ]
     },
     "execution_count": 37,
     "metadata": {},
     "output_type": "execute_result"
    }
   ],
   "source": [
    "#населённые пункты с самой низкой стоимостью за кв.м.\n",
    "least_expensive = top_10_listing.loc[top_10_listing['price_mean'].idxmin()]\n",
    "least_expensive\n"
   ]
  },
  {
   "cell_type": "markdown",
   "metadata": {},
   "source": [
    "<div class=\"alert alert-success\">\n",
    "\n",
    "**Артём:** 👍 Верно.\n",
    "\n",
    "</div>"
   ]
  },
  {
   "cell_type": "markdown",
   "metadata": {},
   "source": [
    "**Ранее вы посчитали расстояние до центра в километрах. Теперь выделите квартиры в Санкт-Петербурге с помощью столбца locality_name и вычислите их среднюю стоимость на разном удалении от центра. Учитывайте каждый километр расстояния: узнайте среднюю цену квартир в одном километре от центра, в двух и так далее. Опишите, как стоимость объектов зависит от расстояния до центра города — постройте график изменения средней цены для каждого километра от центра Петербурга.**"
   ]
  },
  {
   "cell_type": "code",
   "execution_count": 38,
   "metadata": {},
   "outputs": [
    {
     "data": {
      "image/png": "[encoded data removed]",
      "text/plain": [
       "<Figure size 432x288 with 1 Axes>"
      ]
     },
     "metadata": {
      "needs_background": "light"
     },
     "output_type": "display_data"
    }
   ],
   "source": [
    "price_by_km = (\n",
    "    data[data['locality_name'] == 'Санкт-Петербург']\n",
    "    .groupby('city_center_km')['last_price'].mean()\n",
    ")\n",
    "\n",
    "price_by_km.plot(x='city_center_km', y='last_price', marker='o');"
   ]
  },
  {
   "cell_type": "markdown",
   "metadata": {},
   "source": [
    "**Чем ближе объект к центру города, тем выше его стоимость**"
   ]
  },
  {
   "cell_type": "markdown",
   "metadata": {
    "id": "h7VpzkIDAwb-"
   },
   "source": [
    "## Напишите общий вывод"
   ]
  },
  {
   "cell_type": "markdown",
   "metadata": {
    "id": "3H4lnp_KAwb-"
   },
   "source": [
    "1. **Вывод по параметрам:**\n",
    "\n",
    "**Общая площадь**: Большинство квартир от 30 до 100 кв.м. Крупные квартиры более 200 кв.м редки.\n",
    "   \n",
    "**Жилая площадь**: Обычно от 30 до 60 кв.м, с увеличением для многокомнатных квартир.\n",
    "\n",
    "**Площадь кухни**: Чаще всего 8-15 кв.м. Просторные кухни (20+ кв.м) встречаются редко.\n",
    "\n",
    "**Цена объекта**: Основная масса квартир до 10 млн руб. Цены свыше 20 млн редки и характерны для элитной недвижимости.\n",
    "\n",
    "**Количество комнат**: Преобладают квартиры с 1-3 комнатами. Более 4 комнат — реже и дороже.\n",
    "\n",
    "**Высота потолков**: Обычно от 2.5 до 3 метров. Потолки выше 3 м редки и характерны для элитных объектов.\n",
    "\n",
    "**Тип этажа**: Первый и последний этажи менее популярны. Большинство квартир на средних этажах.\n",
    "\n",
    "**Этажность дома**: Большинство домов имеют от 5 до 16 этажей, меньше 5 этажей — редкость.\n",
    "\n",
    "**Расстояние до центра**: Большинство квартир находятся на расстоянии 10-20 км от центра города.\n",
    "\n",
    "**Расстояние до парка**: Большинство квартир расположены в пределах 500 метров от парка, что повышает их привлекательность.\n",
    "\n",
    "2. **Влияние времени продажи на цену:**\n",
    "\n",
    "Продажи, которые совершались быстрее **45 дней** можно считать **быстрыми.** Те, что занимали от **45 до 104 дней**, являются стандартными, а те, что занимают больше времени, но меньше **249 дней — долгими**. **Более 249 дней**, можно считать **необычно долгими**\n",
    "\n",
    "\n",
    "3. **Факторы влияющие на стоимость квартиры**\n",
    "\n",
    "**Общая площадь**: является основным фактором, влияющим на стоимость недвижимости. Корреляция между общей площадью и ценой составляет 0.70. Это свидетельствует о том, что квартиры с большей площадью стоят дороже.\n",
    "\n",
    "**Жилая площадь**: второй по важности фактор, влияющий на стоимость. Корреляция составляет 0.61. Большая жилая площадь также способствует увеличению стоимости объекта.\n",
    "\n",
    "**Площадь кухни**: корреляция составляет 0.52, что также подтверждает значимость этого параметра. Квартиры с более просторными кухнями имеют более высокую стоимость.\n",
    "\n",
    "**Количество комнат**: как показали графики и корреляционный анализ, количество комнат также влияет на цену квартиры, хотя зависимость не такая сильная, как у площади.\n",
    "\n",
    "**Дата размещения (день недели, месяц, год)**: корреляция с ценой для этих параметров незначительна (-0.02, 0.00, -0.06), что говорит о том, что время публикации объявления практически не влияет на цену.\n",
    "\n",
    "4. **Населённые пункты с самой высокой и низкой стоимостью квадратного метра**\n",
    "\n",
    "Было выявлено 10 населённых пунктов с наибольшим количеством объявлений о продаже квартир. Мы исключили Санкт-Петербург, чтобы сосредоточиться на соседних населённых пунктах.\n",
    "\n",
    "   **Пушкин** занимает первое место по средней стоимости квадратного метра. Средняя цена составляет **103,920 рублей** при количестве объявлений **234**.\n",
    "\n",
    "   **Всеволожск** имеет самую низкую среднюю цену за квадратный метр, которая составляет **67,339 рублей** при количестве объявлений **267**. Это может свидетельствовать о более удалённом расположении, менее развитой инфраструктуре или спросе на жилье в этом районе.\n",
    "   \n",
    "5. **Зависимость стоимости объектов от расстояния до центра города**\n",
    "\n",
    "Чем ближе объект недвижимости **к центру** Санкт-Петербурга, тем выше его стоимость. Однако существуют **исключения**, связанные с популярными жилыми районами или элитными объектами, что отражено на графике небольшими подъёмами в средней цене на определённых расстояниях.\n"
   ]
  }
 ],
 "metadata": {
  "ExecuteTimeLog": [
   {
    "duration": 742,
    "start_time": "2024-09-09T15:57:38.029Z"
   },
   {
    "duration": 147,
    "start_time": "2024-09-09T15:57:57.878Z"
   },
   {
    "duration": 112,
    "start_time": "2024-09-09T16:01:33.647Z"
   },
   {
    "duration": 2710,
    "start_time": "2024-09-09T16:02:54.988Z"
   },
   {
    "duration": 48,
    "start_time": "2024-09-09T16:03:28.055Z"
   },
   {
    "duration": 988,
    "start_time": "2024-09-09T16:07:21.993Z"
   },
   {
    "duration": 2223,
    "start_time": "2024-09-09T16:09:34.511Z"
   },
   {
    "duration": 2,
    "start_time": "2024-09-09T16:11:07.453Z"
   },
   {
    "duration": 88,
    "start_time": "2024-09-09T16:11:25.249Z"
   },
   {
    "duration": 27,
    "start_time": "2024-09-09T16:11:28.251Z"
   },
   {
    "duration": 11,
    "start_time": "2024-09-09T16:11:33.034Z"
   },
   {
    "duration": 10,
    "start_time": "2024-09-09T16:11:43.785Z"
   },
   {
    "duration": 145,
    "start_time": "2024-09-09T16:13:33.138Z"
   },
   {
    "duration": 14,
    "start_time": "2024-09-09T16:13:59.876Z"
   },
   {
    "duration": 2015,
    "start_time": "2024-09-09T16:14:00.443Z"
   },
   {
    "duration": 5,
    "start_time": "2024-09-09T16:15:25.949Z"
   },
   {
    "duration": 12,
    "start_time": "2024-09-09T16:15:58.749Z"
   },
   {
    "duration": 5,
    "start_time": "2024-09-09T16:16:05.914Z"
   },
   {
    "duration": 6,
    "start_time": "2024-09-09T16:16:32.690Z"
   },
   {
    "duration": 11,
    "start_time": "2024-09-09T16:16:46.033Z"
   },
   {
    "duration": 14,
    "start_time": "2024-09-09T16:16:59.554Z"
   },
   {
    "duration": 14,
    "start_time": "2024-09-09T16:17:16.596Z"
   },
   {
    "duration": 8,
    "start_time": "2024-09-09T16:17:21.762Z"
   },
   {
    "duration": 10,
    "start_time": "2024-09-09T16:17:44.892Z"
   },
   {
    "duration": 48,
    "start_time": "2024-09-09T16:18:00.359Z"
   },
   {
    "duration": 541,
    "start_time": "2024-09-09T16:18:08.645Z"
   },
   {
    "duration": 24,
    "start_time": "2024-09-09T16:18:09.188Z"
   },
   {
    "duration": 2251,
    "start_time": "2024-09-09T16:18:09.214Z"
   },
   {
    "duration": 10,
    "start_time": "2024-09-09T16:18:11.467Z"
   },
   {
    "duration": 22,
    "start_time": "2024-09-09T16:18:11.479Z"
   },
   {
    "duration": 10,
    "start_time": "2024-09-09T16:18:11.502Z"
   },
   {
    "duration": 10,
    "start_time": "2024-09-09T16:18:11.949Z"
   },
   {
    "duration": 82,
    "start_time": "2024-09-09T16:18:30.082Z"
   },
   {
    "duration": 6,
    "start_time": "2024-09-09T16:18:33.762Z"
   },
   {
    "duration": 10,
    "start_time": "2024-09-09T16:18:36.857Z"
   },
   {
    "duration": 5,
    "start_time": "2024-09-09T16:19:11.921Z"
   },
   {
    "duration": 10,
    "start_time": "2024-09-09T16:21:24.745Z"
   },
   {
    "duration": 11,
    "start_time": "2024-09-09T16:21:37.087Z"
   },
   {
    "duration": 64,
    "start_time": "2024-09-09T16:21:39.638Z"
   },
   {
    "duration": 10,
    "start_time": "2024-09-09T16:21:56.245Z"
   },
   {
    "duration": 3,
    "start_time": "2024-09-09T16:23:27.617Z"
   },
   {
    "duration": 28,
    "start_time": "2024-09-09T16:23:33.702Z"
   },
   {
    "duration": 9,
    "start_time": "2024-09-09T16:23:38.129Z"
   },
   {
    "duration": 10,
    "start_time": "2024-09-09T16:24:57.102Z"
   },
   {
    "duration": 7,
    "start_time": "2024-09-09T16:25:37.811Z"
   },
   {
    "duration": 8,
    "start_time": "2024-09-09T16:25:48.713Z"
   },
   {
    "duration": 55,
    "start_time": "2024-09-09T16:31:39.881Z"
   },
   {
    "duration": 82,
    "start_time": "2024-09-09T16:31:55.787Z"
   },
   {
    "duration": 3,
    "start_time": "2024-09-09T16:32:30.357Z"
   },
   {
    "duration": 5,
    "start_time": "2024-09-09T16:36:50.970Z"
   },
   {
    "duration": 5,
    "start_time": "2024-09-09T16:37:25.542Z"
   },
   {
    "duration": 5,
    "start_time": "2024-09-09T16:37:30.436Z"
   },
   {
    "duration": 5,
    "start_time": "2024-09-09T16:37:38.386Z"
   },
   {
    "duration": 5,
    "start_time": "2024-09-09T16:37:44.241Z"
   },
   {
    "duration": 8,
    "start_time": "2024-09-09T16:37:48.050Z"
   },
   {
    "duration": 4,
    "start_time": "2024-09-09T16:37:56.719Z"
   },
   {
    "duration": 11,
    "start_time": "2024-09-09T16:38:07.588Z"
   },
   {
    "duration": 6,
    "start_time": "2024-09-09T16:38:16.282Z"
   },
   {
    "duration": 4,
    "start_time": "2024-09-09T16:38:21.915Z"
   },
   {
    "duration": 4,
    "start_time": "2024-09-09T16:38:33.375Z"
   },
   {
    "duration": 5,
    "start_time": "2024-09-09T16:38:46.287Z"
   },
   {
    "duration": 29,
    "start_time": "2024-09-09T16:39:45.121Z"
   },
   {
    "duration": 10,
    "start_time": "2024-09-09T16:39:49.332Z"
   },
   {
    "duration": 11,
    "start_time": "2024-09-09T16:40:31.659Z"
   },
   {
    "duration": 5,
    "start_time": "2024-09-09T16:48:58.958Z"
   },
   {
    "duration": 46,
    "start_time": "2024-09-09T16:49:24.679Z"
   },
   {
    "duration": 9,
    "start_time": "2024-09-09T16:49:53.930Z"
   },
   {
    "duration": 49,
    "start_time": "2024-09-09T16:50:16.146Z"
   },
   {
    "duration": 56,
    "start_time": "2024-09-09T16:51:20.164Z"
   },
   {
    "duration": 44,
    "start_time": "2024-09-09T16:51:39.565Z"
   },
   {
    "duration": 5,
    "start_time": "2024-09-09T16:51:45.624Z"
   },
   {
    "duration": 8,
    "start_time": "2024-09-09T16:57:47.830Z"
   },
   {
    "duration": 7,
    "start_time": "2024-09-09T16:58:07.866Z"
   },
   {
    "duration": 8,
    "start_time": "2024-09-09T16:58:15.858Z"
   },
   {
    "duration": 830,
    "start_time": "2024-09-09T16:58:48.713Z"
   },
   {
    "duration": 5,
    "start_time": "2024-09-09T16:58:53.691Z"
   },
   {
    "duration": 4,
    "start_time": "2024-09-09T16:59:00.470Z"
   },
   {
    "duration": 5,
    "start_time": "2024-09-09T16:59:03.833Z"
   },
   {
    "duration": 5,
    "start_time": "2024-09-09T16:59:06.534Z"
   },
   {
    "duration": 4,
    "start_time": "2024-09-09T16:59:13.445Z"
   },
   {
    "duration": 803,
    "start_time": "2024-09-10T05:06:28.695Z"
   },
   {
    "duration": 16,
    "start_time": "2024-09-10T05:06:29.500Z"
   },
   {
    "duration": 2429,
    "start_time": "2024-09-10T05:06:29.517Z"
   },
   {
    "duration": 11,
    "start_time": "2024-09-10T05:06:31.949Z"
   },
   {
    "duration": 13,
    "start_time": "2024-09-10T05:06:31.962Z"
   },
   {
    "duration": 13,
    "start_time": "2024-09-10T05:06:31.977Z"
   },
   {
    "duration": 10,
    "start_time": "2024-09-10T05:06:31.992Z"
   },
   {
    "duration": 695,
    "start_time": "2024-09-10T10:09:40.932Z"
   },
   {
    "duration": 15,
    "start_time": "2024-09-10T10:09:41.629Z"
   },
   {
    "duration": 540,
    "start_time": "2024-09-10T10:09:45.390Z"
   },
   {
    "duration": 25,
    "start_time": "2024-09-10T10:09:45.932Z"
   },
   {
    "duration": 2367,
    "start_time": "2024-09-10T10:09:45.958Z"
   },
   {
    "duration": 14,
    "start_time": "2024-09-10T10:09:48.328Z"
   },
   {
    "duration": 16,
    "start_time": "2024-09-10T10:09:48.344Z"
   },
   {
    "duration": 57,
    "start_time": "2024-09-10T10:09:48.362Z"
   },
   {
    "duration": 7,
    "start_time": "2024-09-10T10:09:48.421Z"
   },
   {
    "duration": 10,
    "start_time": "2024-09-10T10:10:06.575Z"
   },
   {
    "duration": 7,
    "start_time": "2024-09-10T10:12:11.681Z"
   },
   {
    "duration": 7,
    "start_time": "2024-09-10T10:14:04.983Z"
   },
   {
    "duration": 102,
    "start_time": "2024-09-10T10:15:33.371Z"
   },
   {
    "duration": 6,
    "start_time": "2024-09-10T10:15:41.163Z"
   },
   {
    "duration": 5,
    "start_time": "2024-09-10T10:16:09.055Z"
   },
   {
    "duration": 6,
    "start_time": "2024-09-10T10:16:20.833Z"
   },
   {
    "duration": 7,
    "start_time": "2024-09-10T10:18:26.980Z"
   },
   {
    "duration": 11,
    "start_time": "2024-09-10T10:18:57.159Z"
   },
   {
    "duration": 30,
    "start_time": "2024-09-10T11:24:14.202Z"
   },
   {
    "duration": 17,
    "start_time": "2024-09-10T11:24:57.982Z"
   },
   {
    "duration": 3,
    "start_time": "2024-09-10T11:28:18.936Z"
   },
   {
    "duration": 3,
    "start_time": "2024-09-10T11:33:52.913Z"
   },
   {
    "duration": 105,
    "start_time": "2024-09-10T11:41:03.935Z"
   },
   {
    "duration": 7,
    "start_time": "2024-09-10T11:41:12.412Z"
   },
   {
    "duration": 7,
    "start_time": "2024-09-10T11:54:41.125Z"
   },
   {
    "duration": 7,
    "start_time": "2024-09-10T11:54:50.461Z"
   },
   {
    "duration": 10,
    "start_time": "2024-09-10T11:58:15.678Z"
   },
   {
    "duration": 5,
    "start_time": "2024-09-10T11:58:19.357Z"
   },
   {
    "duration": 3334,
    "start_time": "2024-09-10T11:59:06.063Z"
   },
   {
    "duration": 884,
    "start_time": "2024-09-10T11:59:25.723Z"
   },
   {
    "duration": 975,
    "start_time": "2024-09-10T11:59:36.690Z"
   },
   {
    "duration": 9,
    "start_time": "2024-09-10T12:00:12.457Z"
   },
   {
    "duration": 21,
    "start_time": "2024-09-10T12:00:17.521Z"
   },
   {
    "duration": 16,
    "start_time": "2024-09-10T12:00:27.186Z"
   },
   {
    "duration": 15,
    "start_time": "2024-09-10T12:01:51.450Z"
   },
   {
    "duration": 16,
    "start_time": "2024-09-10T12:02:00.453Z"
   },
   {
    "duration": 8,
    "start_time": "2024-09-10T12:03:20.841Z"
   },
   {
    "duration": 6,
    "start_time": "2024-09-10T12:03:23.897Z"
   },
   {
    "duration": 613,
    "start_time": "2024-09-10T12:35:53.766Z"
   },
   {
    "duration": 21,
    "start_time": "2024-09-10T12:35:54.381Z"
   },
   {
    "duration": 2545,
    "start_time": "2024-09-10T12:35:54.404Z"
   },
   {
    "duration": 24,
    "start_time": "2024-09-10T12:35:56.952Z"
   },
   {
    "duration": 33,
    "start_time": "2024-09-10T12:35:56.978Z"
   },
   {
    "duration": 61,
    "start_time": "2024-09-10T12:35:57.013Z"
   },
   {
    "duration": 16,
    "start_time": "2024-09-10T12:35:57.076Z"
   },
   {
    "duration": 53,
    "start_time": "2024-09-10T12:35:57.093Z"
   },
   {
    "duration": 20,
    "start_time": "2024-09-10T12:38:32.955Z"
   },
   {
    "duration": 7,
    "start_time": "2024-09-10T12:39:02.740Z"
   },
   {
    "duration": 2,
    "start_time": "2024-09-10T12:44:42.344Z"
   },
   {
    "duration": 15,
    "start_time": "2024-09-10T12:47:53.904Z"
   },
   {
    "duration": 17,
    "start_time": "2024-09-10T12:48:00.609Z"
   },
   {
    "duration": 7,
    "start_time": "2024-09-10T12:48:06.308Z"
   },
   {
    "duration": 6,
    "start_time": "2024-09-10T12:49:06.707Z"
   },
   {
    "duration": 2,
    "start_time": "2024-09-10T12:49:11.343Z"
   },
   {
    "duration": 10,
    "start_time": "2024-09-10T12:49:13.561Z"
   },
   {
    "duration": 8,
    "start_time": "2024-09-10T12:49:55.038Z"
   },
   {
    "duration": 2,
    "start_time": "2024-09-10T12:50:09.615Z"
   },
   {
    "duration": 11,
    "start_time": "2024-09-10T12:50:11.759Z"
   },
   {
    "duration": 15,
    "start_time": "2024-09-10T12:50:40.653Z"
   },
   {
    "duration": 6,
    "start_time": "2024-09-10T12:50:45.738Z"
   },
   {
    "duration": 6,
    "start_time": "2024-09-10T12:50:53.459Z"
   },
   {
    "duration": 6,
    "start_time": "2024-09-10T12:50:56.812Z"
   },
   {
    "duration": 20,
    "start_time": "2024-09-10T12:51:14.341Z"
   },
   {
    "duration": 14,
    "start_time": "2024-09-10T12:53:01.398Z"
   },
   {
    "duration": 7,
    "start_time": "2024-09-10T12:53:08.136Z"
   },
   {
    "duration": 15,
    "start_time": "2024-09-10T12:53:18.094Z"
   },
   {
    "duration": 7,
    "start_time": "2024-09-10T12:53:20.810Z"
   },
   {
    "duration": 54,
    "start_time": "2024-09-10T12:53:36.740Z"
   },
   {
    "duration": 7,
    "start_time": "2024-09-10T12:53:38.778Z"
   },
   {
    "duration": 73,
    "start_time": "2024-09-10T12:54:03.204Z"
   },
   {
    "duration": 6,
    "start_time": "2024-09-10T12:54:07.067Z"
   },
   {
    "duration": 87,
    "start_time": "2024-09-10T12:54:20.318Z"
   },
   {
    "duration": 6,
    "start_time": "2024-09-10T12:54:24.599Z"
   },
   {
    "duration": 108,
    "start_time": "2024-09-10T12:54:37.974Z"
   },
   {
    "duration": 7,
    "start_time": "2024-09-10T12:54:41.814Z"
   },
   {
    "duration": 127,
    "start_time": "2024-09-10T12:55:00.265Z"
   },
   {
    "duration": 6,
    "start_time": "2024-09-10T12:55:03.575Z"
   },
   {
    "duration": 13,
    "start_time": "2024-09-10T12:56:04.802Z"
   },
   {
    "duration": 14,
    "start_time": "2024-09-10T12:56:27.764Z"
   },
   {
    "duration": 8,
    "start_time": "2024-09-10T12:56:31.721Z"
   },
   {
    "duration": 6,
    "start_time": "2024-09-10T12:56:33.885Z"
   },
   {
    "duration": 7,
    "start_time": "2024-09-10T12:56:35.787Z"
   },
   {
    "duration": 13,
    "start_time": "2024-09-10T12:56:42.673Z"
   },
   {
    "duration": 7,
    "start_time": "2024-09-10T12:56:45.612Z"
   },
   {
    "duration": 19,
    "start_time": "2024-09-10T12:56:47.770Z"
   },
   {
    "duration": 13,
    "start_time": "2024-09-10T12:56:48.101Z"
   },
   {
    "duration": 2,
    "start_time": "2024-09-10T12:56:48.531Z"
   },
   {
    "duration": 603,
    "start_time": "2024-09-10T12:56:53.848Z"
   },
   {
    "duration": 24,
    "start_time": "2024-09-10T12:56:54.458Z"
   },
   {
    "duration": 2504,
    "start_time": "2024-09-10T12:56:54.484Z"
   },
   {
    "duration": 12,
    "start_time": "2024-09-10T12:56:56.991Z"
   },
   {
    "duration": 16,
    "start_time": "2024-09-10T12:56:57.006Z"
   },
   {
    "duration": 16,
    "start_time": "2024-09-10T12:56:57.024Z"
   },
   {
    "duration": 24,
    "start_time": "2024-09-10T12:56:57.042Z"
   },
   {
    "duration": 29,
    "start_time": "2024-09-10T12:56:57.068Z"
   },
   {
    "duration": 6,
    "start_time": "2024-09-10T12:56:57.099Z"
   },
   {
    "duration": 15,
    "start_time": "2024-09-10T12:56:57.106Z"
   },
   {
    "duration": 3,
    "start_time": "2024-09-10T12:56:57.123Z"
   },
   {
    "duration": 13,
    "start_time": "2024-09-10T12:57:09.306Z"
   },
   {
    "duration": 9,
    "start_time": "2024-09-10T12:57:11.661Z"
   },
   {
    "duration": 657,
    "start_time": "2024-09-10T17:17:51.822Z"
   },
   {
    "duration": 16,
    "start_time": "2024-09-10T17:17:52.482Z"
   },
   {
    "duration": 2492,
    "start_time": "2024-09-10T17:17:52.500Z"
   },
   {
    "duration": 12,
    "start_time": "2024-09-10T17:17:54.994Z"
   },
   {
    "duration": 14,
    "start_time": "2024-09-10T17:17:55.008Z"
   },
   {
    "duration": 21,
    "start_time": "2024-09-10T17:17:55.024Z"
   },
   {
    "duration": 71,
    "start_time": "2024-09-10T17:17:55.047Z"
   },
   {
    "duration": 86,
    "start_time": "2024-09-10T17:17:55.120Z"
   },
   {
    "duration": 12,
    "start_time": "2024-09-10T17:17:55.208Z"
   },
   {
    "duration": 19,
    "start_time": "2024-09-10T17:17:55.221Z"
   },
   {
    "duration": 7,
    "start_time": "2024-09-10T17:17:55.241Z"
   },
   {
    "duration": 12,
    "start_time": "2024-09-10T17:18:11.254Z"
   },
   {
    "duration": 7,
    "start_time": "2024-09-10T17:18:13.341Z"
   },
   {
    "duration": 9,
    "start_time": "2024-09-10T17:19:00.004Z"
   },
   {
    "duration": 7,
    "start_time": "2024-09-10T17:19:30.913Z"
   },
   {
    "duration": 15,
    "start_time": "2024-09-10T17:19:46.521Z"
   },
   {
    "duration": 6,
    "start_time": "2024-09-10T17:19:48.855Z"
   },
   {
    "duration": 13,
    "start_time": "2024-09-10T17:19:51.396Z"
   },
   {
    "duration": 6,
    "start_time": "2024-09-10T17:19:53.296Z"
   },
   {
    "duration": 3,
    "start_time": "2024-09-10T17:19:58.557Z"
   },
   {
    "duration": 6,
    "start_time": "2024-09-10T17:20:01.305Z"
   },
   {
    "duration": 15,
    "start_time": "2024-09-10T17:20:35.792Z"
   },
   {
    "duration": 7,
    "start_time": "2024-09-10T17:20:38.376Z"
   },
   {
    "duration": 13,
    "start_time": "2024-09-10T17:21:28.864Z"
   },
   {
    "duration": 6,
    "start_time": "2024-09-10T17:21:31.042Z"
   },
   {
    "duration": 71,
    "start_time": "2024-09-10T17:21:34.394Z"
   },
   {
    "duration": 7,
    "start_time": "2024-09-10T17:21:37.164Z"
   },
   {
    "duration": 40,
    "start_time": "2024-09-10T17:22:28.044Z"
   },
   {
    "duration": 7,
    "start_time": "2024-09-10T17:22:30.175Z"
   },
   {
    "duration": 15,
    "start_time": "2024-09-10T17:23:57.338Z"
   },
   {
    "duration": 6,
    "start_time": "2024-09-10T17:24:01.434Z"
   },
   {
    "duration": 12,
    "start_time": "2024-09-10T17:24:10.007Z"
   },
   {
    "duration": 67,
    "start_time": "2024-09-10T17:24:14.825Z"
   },
   {
    "duration": 6,
    "start_time": "2024-09-10T17:24:17.118Z"
   },
   {
    "duration": 10,
    "start_time": "2024-09-10T17:25:15.124Z"
   },
   {
    "duration": 3,
    "start_time": "2024-09-10T17:25:27.554Z"
   },
   {
    "duration": 6,
    "start_time": "2024-09-10T17:25:34.691Z"
   },
   {
    "duration": 556,
    "start_time": "2024-09-10T17:25:41.835Z"
   },
   {
    "duration": 16,
    "start_time": "2024-09-10T17:25:42.394Z"
   },
   {
    "duration": 2295,
    "start_time": "2024-09-10T17:25:42.420Z"
   },
   {
    "duration": 11,
    "start_time": "2024-09-10T17:25:44.717Z"
   },
   {
    "duration": 21,
    "start_time": "2024-09-10T17:25:44.730Z"
   },
   {
    "duration": 14,
    "start_time": "2024-09-10T17:25:44.752Z"
   },
   {
    "duration": 28,
    "start_time": "2024-09-10T17:25:44.767Z"
   },
   {
    "duration": 53,
    "start_time": "2024-09-10T17:25:44.797Z"
   },
   {
    "duration": 10,
    "start_time": "2024-09-10T17:25:44.852Z"
   },
   {
    "duration": 14,
    "start_time": "2024-09-10T17:25:44.863Z"
   },
   {
    "duration": 4,
    "start_time": "2024-09-10T17:25:44.879Z"
   },
   {
    "duration": 7,
    "start_time": "2024-09-10T17:25:45.595Z"
   },
   {
    "duration": 25,
    "start_time": "2024-09-10T17:28:50.523Z"
   },
   {
    "duration": 6,
    "start_time": "2024-09-10T17:28:53.214Z"
   },
   {
    "duration": 83,
    "start_time": "2024-09-10T17:29:10.407Z"
   },
   {
    "duration": 70,
    "start_time": "2024-09-10T17:29:23.741Z"
   },
   {
    "duration": 71,
    "start_time": "2024-09-10T17:29:39.727Z"
   },
   {
    "duration": 49,
    "start_time": "2024-09-10T17:30:19.008Z"
   },
   {
    "duration": 7,
    "start_time": "2024-09-10T17:30:21.175Z"
   },
   {
    "duration": 54,
    "start_time": "2024-09-10T17:30:31.663Z"
   },
   {
    "duration": 9,
    "start_time": "2024-09-10T17:30:35.758Z"
   },
   {
    "duration": 7,
    "start_time": "2024-09-10T17:31:06.606Z"
   },
   {
    "duration": 99,
    "start_time": "2024-09-10T17:31:30.180Z"
   },
   {
    "duration": 6,
    "start_time": "2024-09-10T17:31:34.108Z"
   },
   {
    "duration": 75,
    "start_time": "2024-09-10T17:32:27.016Z"
   },
   {
    "duration": 6,
    "start_time": "2024-09-10T17:32:30.094Z"
   },
   {
    "duration": 75,
    "start_time": "2024-09-10T17:32:31.858Z"
   },
   {
    "duration": 9,
    "start_time": "2024-09-10T17:32:35.194Z"
   },
   {
    "duration": 74,
    "start_time": "2024-09-10T17:32:40.027Z"
   },
   {
    "duration": 7,
    "start_time": "2024-09-10T17:32:45.809Z"
   },
   {
    "duration": 592,
    "start_time": "2024-09-10T17:32:52.605Z"
   },
   {
    "duration": 15,
    "start_time": "2024-09-10T17:32:53.199Z"
   },
   {
    "duration": 2389,
    "start_time": "2024-09-10T17:32:53.216Z"
   },
   {
    "duration": 11,
    "start_time": "2024-09-10T17:32:55.607Z"
   },
   {
    "duration": 27,
    "start_time": "2024-09-10T17:32:55.620Z"
   },
   {
    "duration": 13,
    "start_time": "2024-09-10T17:32:55.649Z"
   },
   {
    "duration": 11,
    "start_time": "2024-09-10T17:32:55.663Z"
   },
   {
    "duration": 8,
    "start_time": "2024-09-10T17:32:55.676Z"
   },
   {
    "duration": 13,
    "start_time": "2024-09-10T17:32:55.685Z"
   },
   {
    "duration": 139,
    "start_time": "2024-09-10T17:32:55.700Z"
   },
   {
    "duration": 3,
    "start_time": "2024-09-10T17:32:55.840Z"
   },
   {
    "duration": 135,
    "start_time": "2024-09-10T17:35:08.192Z"
   },
   {
    "duration": 6,
    "start_time": "2024-09-10T17:35:11.504Z"
   },
   {
    "duration": 142,
    "start_time": "2024-09-10T17:37:06.582Z"
   },
   {
    "duration": 6,
    "start_time": "2024-09-10T17:37:10.455Z"
   },
   {
    "duration": 134,
    "start_time": "2024-09-10T17:37:42.161Z"
   },
   {
    "duration": 7,
    "start_time": "2024-09-10T17:37:45.836Z"
   },
   {
    "duration": 161,
    "start_time": "2024-09-10T17:39:29.770Z"
   },
   {
    "duration": 234,
    "start_time": "2024-09-10T17:40:01.801Z"
   },
   {
    "duration": 7,
    "start_time": "2024-09-10T17:40:05.136Z"
   },
   {
    "duration": 223,
    "start_time": "2024-09-10T17:41:31.885Z"
   },
   {
    "duration": 7,
    "start_time": "2024-09-10T17:41:35.473Z"
   },
   {
    "duration": 1060,
    "start_time": "2024-09-10T17:45:52.545Z"
   },
   {
    "duration": 1005,
    "start_time": "2024-09-10T17:46:06.728Z"
   },
   {
    "duration": 27,
    "start_time": "2024-09-10T17:46:31.825Z"
   },
   {
    "duration": 8,
    "start_time": "2024-09-10T17:47:31.666Z"
   },
   {
    "duration": 8,
    "start_time": "2024-09-10T17:47:36.548Z"
   },
   {
    "duration": 8,
    "start_time": "2024-09-10T17:47:40.495Z"
   },
   {
    "duration": 4,
    "start_time": "2024-09-10T17:47:43.787Z"
   },
   {
    "duration": 1022,
    "start_time": "2024-09-10T17:48:42.602Z"
   },
   {
    "duration": 1183,
    "start_time": "2024-09-10T17:55:24.426Z"
   },
   {
    "duration": 7,
    "start_time": "2024-09-10T17:56:29.059Z"
   },
   {
    "duration": 10,
    "start_time": "2024-09-10T17:56:39.763Z"
   },
   {
    "duration": 7,
    "start_time": "2024-09-10T17:57:56.610Z"
   },
   {
    "duration": 7,
    "start_time": "2024-09-10T18:01:51.048Z"
   },
   {
    "duration": 8,
    "start_time": "2024-09-10T18:01:57.711Z"
   },
   {
    "duration": 9,
    "start_time": "2024-09-10T18:02:03.821Z"
   },
   {
    "duration": 8,
    "start_time": "2024-09-10T18:02:12.109Z"
   },
   {
    "duration": 9,
    "start_time": "2024-09-10T18:07:19.145Z"
   },
   {
    "duration": 9,
    "start_time": "2024-09-10T18:10:10.593Z"
   },
   {
    "duration": 35,
    "start_time": "2024-09-10T18:10:32.202Z"
   },
   {
    "duration": 6,
    "start_time": "2024-09-10T18:12:00.084Z"
   },
   {
    "duration": 8,
    "start_time": "2024-09-10T18:12:05.709Z"
   },
   {
    "duration": 3,
    "start_time": "2024-09-10T18:18:03.704Z"
   },
   {
    "duration": 1169,
    "start_time": "2024-09-10T18:18:58.258Z"
   },
   {
    "duration": 346,
    "start_time": "2024-09-10T18:20:31.434Z"
   },
   {
    "duration": 420,
    "start_time": "2024-09-10T18:20:35.797Z"
   },
   {
    "duration": 357,
    "start_time": "2024-09-10T18:20:43.985Z"
   },
   {
    "duration": 17,
    "start_time": "2024-09-10T18:24:13.389Z"
   },
   {
    "duration": 345,
    "start_time": "2024-09-10T18:24:17.765Z"
   },
   {
    "duration": 664,
    "start_time": "2024-09-11T04:26:55.025Z"
   },
   {
    "duration": 14,
    "start_time": "2024-09-11T04:26:55.692Z"
   },
   {
    "duration": 2681,
    "start_time": "2024-09-11T04:26:55.708Z"
   },
   {
    "duration": 11,
    "start_time": "2024-09-11T04:26:58.391Z"
   },
   {
    "duration": 11,
    "start_time": "2024-09-11T04:26:58.403Z"
   },
   {
    "duration": 12,
    "start_time": "2024-09-11T04:26:58.415Z"
   },
   {
    "duration": 15,
    "start_time": "2024-09-11T04:26:58.429Z"
   },
   {
    "duration": 27,
    "start_time": "2024-09-11T04:26:58.446Z"
   },
   {
    "duration": 11,
    "start_time": "2024-09-11T04:26:58.479Z"
   },
   {
    "duration": 248,
    "start_time": "2024-09-11T04:26:58.500Z"
   },
   {
    "duration": 8,
    "start_time": "2024-09-11T04:26:58.750Z"
   },
   {
    "duration": 27,
    "start_time": "2024-09-11T04:26:58.760Z"
   },
   {
    "duration": 11,
    "start_time": "2024-09-11T04:26:58.789Z"
   },
   {
    "duration": 7,
    "start_time": "2024-09-11T04:26:58.801Z"
   },
   {
    "duration": 394,
    "start_time": "2024-09-11T04:26:58.809Z"
   },
   {
    "duration": 5,
    "start_time": "2024-09-11T04:27:54.749Z"
   },
   {
    "duration": 69,
    "start_time": "2024-09-11T04:31:48.537Z"
   },
   {
    "duration": 62,
    "start_time": "2024-09-11T04:32:01.451Z"
   },
   {
    "duration": 39,
    "start_time": "2024-09-11T04:32:12.896Z"
   },
   {
    "duration": 22,
    "start_time": "2024-09-11T04:32:22.087Z"
   },
   {
    "duration": 7,
    "start_time": "2024-09-11T04:32:40.650Z"
   },
   {
    "duration": 22,
    "start_time": "2024-09-11T04:33:17.255Z"
   },
   {
    "duration": 575,
    "start_time": "2024-09-11T04:33:23.175Z"
   },
   {
    "duration": 24,
    "start_time": "2024-09-11T04:33:23.752Z"
   },
   {
    "duration": 2406,
    "start_time": "2024-09-11T04:33:23.782Z"
   },
   {
    "duration": 10,
    "start_time": "2024-09-11T04:33:26.191Z"
   },
   {
    "duration": 10,
    "start_time": "2024-09-11T04:33:26.203Z"
   },
   {
    "duration": 13,
    "start_time": "2024-09-11T04:33:26.214Z"
   },
   {
    "duration": 11,
    "start_time": "2024-09-11T04:33:26.228Z"
   },
   {
    "duration": 8,
    "start_time": "2024-09-11T04:33:26.240Z"
   },
   {
    "duration": 43,
    "start_time": "2024-09-11T04:33:26.250Z"
   },
   {
    "duration": 244,
    "start_time": "2024-09-11T04:33:26.295Z"
   },
   {
    "duration": 9,
    "start_time": "2024-09-11T04:33:26.540Z"
   },
   {
    "duration": 31,
    "start_time": "2024-09-11T04:33:26.551Z"
   },
   {
    "duration": 9,
    "start_time": "2024-09-11T04:33:26.587Z"
   },
   {
    "duration": 25,
    "start_time": "2024-09-11T04:33:26.599Z"
   },
   {
    "duration": 392,
    "start_time": "2024-09-11T04:33:26.626Z"
   },
   {
    "duration": 75,
    "start_time": "2024-09-11T04:33:27.019Z"
   },
   {
    "duration": 16,
    "start_time": "2024-09-11T04:33:34.647Z"
   },
   {
    "duration": 15,
    "start_time": "2024-09-11T04:33:52.026Z"
   },
   {
    "duration": 14,
    "start_time": "2024-09-11T04:34:08.807Z"
   },
   {
    "duration": 47,
    "start_time": "2024-09-11T04:34:21.564Z"
   },
   {
    "duration": 47,
    "start_time": "2024-09-11T04:34:29.978Z"
   },
   {
    "duration": 6,
    "start_time": "2024-09-11T04:34:46.736Z"
   },
   {
    "duration": 6,
    "start_time": "2024-09-11T04:35:08.116Z"
   },
   {
    "duration": 4,
    "start_time": "2024-09-11T04:36:20.930Z"
   },
   {
    "duration": 12,
    "start_time": "2024-09-11T04:36:30.981Z"
   },
   {
    "duration": 6,
    "start_time": "2024-09-11T04:36:48.810Z"
   },
   {
    "duration": 7,
    "start_time": "2024-09-11T04:47:54.666Z"
   },
   {
    "duration": 339,
    "start_time": "2024-09-11T04:54:45.144Z"
   },
   {
    "duration": 257,
    "start_time": "2024-09-11T04:56:44.369Z"
   },
   {
    "duration": 236,
    "start_time": "2024-09-11T04:56:53.157Z"
   },
   {
    "duration": 303,
    "start_time": "2024-09-11T04:56:56.523Z"
   },
   {
    "duration": 238,
    "start_time": "2024-09-11T04:57:03.277Z"
   },
   {
    "duration": 9,
    "start_time": "2024-09-11T04:57:51.017Z"
   },
   {
    "duration": 202,
    "start_time": "2024-09-11T05:03:47.097Z"
   },
   {
    "duration": 308,
    "start_time": "2024-09-11T05:03:57.327Z"
   },
   {
    "duration": 220,
    "start_time": "2024-09-11T05:04:01.428Z"
   },
   {
    "duration": 241,
    "start_time": "2024-09-11T05:04:18.696Z"
   },
   {
    "duration": 207,
    "start_time": "2024-09-11T05:04:27.018Z"
   },
   {
    "duration": 109,
    "start_time": "2024-09-11T05:06:55.745Z"
   },
   {
    "duration": 8,
    "start_time": "2024-09-11T05:06:59.334Z"
   },
   {
    "duration": 9,
    "start_time": "2024-09-11T05:07:02.449Z"
   },
   {
    "duration": 8,
    "start_time": "2024-09-11T05:07:10.795Z"
   },
   {
    "duration": 4,
    "start_time": "2024-09-11T05:07:14.417Z"
   },
   {
    "duration": 9,
    "start_time": "2024-09-11T05:08:10.416Z"
   },
   {
    "duration": 235,
    "start_time": "2024-09-11T05:16:23.078Z"
   },
   {
    "duration": 246,
    "start_time": "2024-09-11T05:16:31.377Z"
   },
   {
    "duration": 280,
    "start_time": "2024-09-11T05:16:48.608Z"
   },
   {
    "duration": 358,
    "start_time": "2024-09-11T05:16:58.923Z"
   },
   {
    "duration": 256,
    "start_time": "2024-09-11T05:17:05.753Z"
   },
   {
    "duration": 270,
    "start_time": "2024-09-11T05:17:13.607Z"
   },
   {
    "duration": 269,
    "start_time": "2024-09-11T05:17:23.367Z"
   },
   {
    "duration": 243,
    "start_time": "2024-09-11T05:17:27.989Z"
   },
   {
    "duration": 301,
    "start_time": "2024-09-11T05:17:48.648Z"
   },
   {
    "duration": 214,
    "start_time": "2024-09-11T05:17:56.707Z"
   },
   {
    "duration": 187,
    "start_time": "2024-09-11T05:17:59.930Z"
   },
   {
    "duration": 398,
    "start_time": "2024-09-11T05:18:47.162Z"
   },
   {
    "duration": 178,
    "start_time": "2024-09-11T05:18:55.589Z"
   },
   {
    "duration": 355,
    "start_time": "2024-09-11T05:19:03.570Z"
   },
   {
    "duration": 362,
    "start_time": "2024-09-11T05:19:29.619Z"
   },
   {
    "duration": 2000,
    "start_time": "2024-09-11T05:19:34.803Z"
   },
   {
    "duration": 272,
    "start_time": "2024-09-11T05:19:46.956Z"
   },
   {
    "duration": 10,
    "start_time": "2024-09-11T05:20:59.933Z"
   },
   {
    "duration": 9,
    "start_time": "2024-09-11T05:21:08.137Z"
   },
   {
    "duration": 73,
    "start_time": "2024-09-11T05:21:19.282Z"
   },
   {
    "duration": 8,
    "start_time": "2024-09-11T05:21:29.088Z"
   },
   {
    "duration": 15,
    "start_time": "2024-09-11T05:21:35.660Z"
   },
   {
    "duration": 22,
    "start_time": "2024-09-11T05:21:43.175Z"
   },
   {
    "duration": 9,
    "start_time": "2024-09-11T05:21:54.119Z"
   },
   {
    "duration": 9,
    "start_time": "2024-09-11T05:22:04.716Z"
   },
   {
    "duration": 8,
    "start_time": "2024-09-11T05:22:19.531Z"
   },
   {
    "duration": 11,
    "start_time": "2024-09-11T05:22:28.957Z"
   },
   {
    "duration": 11,
    "start_time": "2024-09-11T05:22:36.682Z"
   },
   {
    "duration": 14,
    "start_time": "2024-09-11T05:22:41.283Z"
   },
   {
    "duration": 11,
    "start_time": "2024-09-11T05:22:45.519Z"
   },
   {
    "duration": 10,
    "start_time": "2024-09-11T05:22:49.516Z"
   },
   {
    "duration": 10,
    "start_time": "2024-09-11T05:22:56.687Z"
   },
   {
    "duration": 19,
    "start_time": "2024-09-11T05:22:58.960Z"
   },
   {
    "duration": 9,
    "start_time": "2024-09-11T05:23:08.848Z"
   },
   {
    "duration": 10,
    "start_time": "2024-09-11T05:23:25.629Z"
   },
   {
    "duration": 14,
    "start_time": "2024-09-11T05:23:33.480Z"
   },
   {
    "duration": 8,
    "start_time": "2024-09-11T05:23:40.198Z"
   },
   {
    "duration": 8,
    "start_time": "2024-09-11T05:23:46.321Z"
   },
   {
    "duration": 13,
    "start_time": "2024-09-11T05:23:56.280Z"
   },
   {
    "duration": 11,
    "start_time": "2024-09-11T05:24:00.223Z"
   },
   {
    "duration": 19,
    "start_time": "2024-09-11T05:24:02.971Z"
   },
   {
    "duration": 10,
    "start_time": "2024-09-11T05:24:05.594Z"
   },
   {
    "duration": 14,
    "start_time": "2024-09-11T05:24:07.284Z"
   },
   {
    "duration": 10,
    "start_time": "2024-09-11T05:24:10.363Z"
   },
   {
    "duration": 11,
    "start_time": "2024-09-11T05:24:13.189Z"
   },
   {
    "duration": 16,
    "start_time": "2024-09-11T05:24:16.675Z"
   },
   {
    "duration": 8,
    "start_time": "2024-09-11T05:24:18.601Z"
   },
   {
    "duration": 256,
    "start_time": "2024-09-11T05:24:38.282Z"
   },
   {
    "duration": 229,
    "start_time": "2024-09-11T05:24:44.020Z"
   },
   {
    "duration": 237,
    "start_time": "2024-09-11T05:25:11.507Z"
   },
   {
    "duration": 14,
    "start_time": "2024-09-11T05:26:04.580Z"
   },
   {
    "duration": 220,
    "start_time": "2024-09-11T05:26:32.685Z"
   },
   {
    "duration": 416,
    "start_time": "2024-09-11T05:26:47.412Z"
   },
   {
    "duration": 214,
    "start_time": "2024-09-11T05:27:20.274Z"
   },
   {
    "duration": 248,
    "start_time": "2024-09-11T05:27:26.262Z"
   },
   {
    "duration": 238,
    "start_time": "2024-09-11T05:27:55.585Z"
   },
   {
    "duration": 254,
    "start_time": "2024-09-11T05:29:02.538Z"
   },
   {
    "duration": 247,
    "start_time": "2024-09-11T05:29:42.028Z"
   },
   {
    "duration": 230,
    "start_time": "2024-09-11T05:30:48.779Z"
   },
   {
    "duration": 222,
    "start_time": "2024-09-11T05:30:58.324Z"
   },
   {
    "duration": 227,
    "start_time": "2024-09-11T05:31:06.715Z"
   },
   {
    "duration": 255,
    "start_time": "2024-09-11T05:31:12.252Z"
   },
   {
    "duration": 279,
    "start_time": "2024-09-11T05:31:17.613Z"
   },
   {
    "duration": 240,
    "start_time": "2024-09-11T05:31:38.046Z"
   },
   {
    "duration": 238,
    "start_time": "2024-09-11T05:31:41.912Z"
   },
   {
    "duration": 239,
    "start_time": "2024-09-11T05:31:56.404Z"
   },
   {
    "duration": 234,
    "start_time": "2024-09-11T05:32:10.948Z"
   },
   {
    "duration": 10,
    "start_time": "2024-09-11T05:32:56.353Z"
   },
   {
    "duration": 232,
    "start_time": "2024-09-11T05:33:10.376Z"
   },
   {
    "duration": 229,
    "start_time": "2024-09-11T05:33:22.513Z"
   },
   {
    "duration": 213,
    "start_time": "2024-09-11T05:33:43.946Z"
   },
   {
    "duration": 226,
    "start_time": "2024-09-11T05:33:54.019Z"
   },
   {
    "duration": 230,
    "start_time": "2024-09-11T05:34:29.108Z"
   },
   {
    "duration": 404,
    "start_time": "2024-09-11T05:35:23.098Z"
   },
   {
    "duration": 214,
    "start_time": "2024-09-11T05:35:30.908Z"
   },
   {
    "duration": 211,
    "start_time": "2024-09-11T05:35:34.851Z"
   },
   {
    "duration": 234,
    "start_time": "2024-09-11T05:35:42.860Z"
   },
   {
    "duration": 11,
    "start_time": "2024-09-11T05:36:30.188Z"
   },
   {
    "duration": 208,
    "start_time": "2024-09-11T05:36:47.836Z"
   },
   {
    "duration": 206,
    "start_time": "2024-09-11T05:37:03.289Z"
   },
   {
    "duration": 1835,
    "start_time": "2024-09-11T05:37:57.491Z"
   },
   {
    "duration": 200,
    "start_time": "2024-09-11T05:38:12.440Z"
   },
   {
    "duration": 422,
    "start_time": "2024-09-11T05:38:25.456Z"
   },
   {
    "duration": 6,
    "start_time": "2024-09-11T05:38:42.138Z"
   },
   {
    "duration": 216,
    "start_time": "2024-09-11T05:39:08.779Z"
   },
   {
    "duration": 207,
    "start_time": "2024-09-11T06:09:54.108Z"
   },
   {
    "duration": 181,
    "start_time": "2024-09-11T06:10:49.202Z"
   },
   {
    "duration": 288,
    "start_time": "2024-09-11T06:10:56.893Z"
   },
   {
    "duration": 272,
    "start_time": "2024-09-11T06:11:24.887Z"
   },
   {
    "duration": 344,
    "start_time": "2024-09-11T06:11:38.292Z"
   },
   {
    "duration": 287,
    "start_time": "2024-09-11T06:12:48.225Z"
   },
   {
    "duration": 260,
    "start_time": "2024-09-11T06:13:21.428Z"
   },
   {
    "duration": 291,
    "start_time": "2024-09-11T06:13:28.293Z"
   },
   {
    "duration": 196,
    "start_time": "2024-09-11T06:13:35.388Z"
   },
   {
    "duration": 274,
    "start_time": "2024-09-11T06:13:47.502Z"
   },
   {
    "duration": 201,
    "start_time": "2024-09-11T06:13:54.005Z"
   },
   {
    "duration": 315,
    "start_time": "2024-09-11T06:14:00.571Z"
   },
   {
    "duration": 227,
    "start_time": "2024-09-11T06:16:11.313Z"
   },
   {
    "duration": 260,
    "start_time": "2024-09-11T06:16:27.949Z"
   },
   {
    "duration": 200,
    "start_time": "2024-09-11T06:16:31.618Z"
   },
   {
    "duration": 586,
    "start_time": "2024-09-11T06:18:32.504Z"
   },
   {
    "duration": 129,
    "start_time": "2024-09-11T06:20:47.800Z"
   },
   {
    "duration": 1366,
    "start_time": "2024-09-11T06:22:04.985Z"
   },
   {
    "duration": 1208,
    "start_time": "2024-09-11T06:22:19.952Z"
   },
   {
    "duration": 248,
    "start_time": "2024-09-11T06:22:35.402Z"
   },
   {
    "duration": 240,
    "start_time": "2024-09-11T06:22:41.909Z"
   },
   {
    "duration": 256,
    "start_time": "2024-09-11T06:22:50.205Z"
   },
   {
    "duration": 127,
    "start_time": "2024-09-11T06:23:18.762Z"
   },
   {
    "duration": 246,
    "start_time": "2024-09-11T06:23:52.034Z"
   },
   {
    "duration": 228,
    "start_time": "2024-09-11T06:24:21.998Z"
   },
   {
    "duration": 246,
    "start_time": "2024-09-11T06:24:31.364Z"
   },
   {
    "duration": 226,
    "start_time": "2024-09-11T06:25:09.073Z"
   },
   {
    "duration": 257,
    "start_time": "2024-09-11T06:25:15.226Z"
   },
   {
    "duration": 239,
    "start_time": "2024-09-11T06:25:27.859Z"
   },
   {
    "duration": 109,
    "start_time": "2024-09-11T06:25:45.476Z"
   },
   {
    "duration": 196,
    "start_time": "2024-09-11T06:29:31.188Z"
   },
   {
    "duration": 177,
    "start_time": "2024-09-11T06:30:10.829Z"
   },
   {
    "duration": 178,
    "start_time": "2024-09-11T06:30:32.278Z"
   },
   {
    "duration": 173,
    "start_time": "2024-09-11T06:30:54.513Z"
   },
   {
    "duration": 167,
    "start_time": "2024-09-11T06:31:01.366Z"
   },
   {
    "duration": 204,
    "start_time": "2024-09-11T06:31:09.695Z"
   },
   {
    "duration": 168,
    "start_time": "2024-09-11T06:31:14.616Z"
   },
   {
    "duration": 139,
    "start_time": "2024-09-11T06:31:28.144Z"
   },
   {
    "duration": 222,
    "start_time": "2024-09-11T06:31:34.422Z"
   },
   {
    "duration": 165,
    "start_time": "2024-09-11T06:31:37.475Z"
   },
   {
    "duration": 152,
    "start_time": "2024-09-11T06:31:58.125Z"
   },
   {
    "duration": 530,
    "start_time": "2024-09-11T06:32:04.563Z"
   },
   {
    "duration": 178,
    "start_time": "2024-09-11T06:32:13.231Z"
   },
   {
    "duration": 168,
    "start_time": "2024-09-11T06:32:31.515Z"
   },
   {
    "duration": 162,
    "start_time": "2024-09-11T06:32:36.593Z"
   },
   {
    "duration": 209,
    "start_time": "2024-09-11T06:33:07.092Z"
   },
   {
    "duration": 171,
    "start_time": "2024-09-11T06:33:12.540Z"
   },
   {
    "duration": 180,
    "start_time": "2024-09-11T06:33:16.919Z"
   },
   {
    "duration": 173,
    "start_time": "2024-09-11T06:33:20.116Z"
   },
   {
    "duration": 166,
    "start_time": "2024-09-11T06:33:23.671Z"
   },
   {
    "duration": 199,
    "start_time": "2024-09-11T06:33:33.650Z"
   },
   {
    "duration": 184,
    "start_time": "2024-09-11T06:33:44.278Z"
   },
   {
    "duration": 5,
    "start_time": "2024-09-11T06:34:02.040Z"
   },
   {
    "duration": 5,
    "start_time": "2024-09-11T06:34:12.144Z"
   },
   {
    "duration": 131,
    "start_time": "2024-09-11T06:37:29.416Z"
   },
   {
    "duration": 135,
    "start_time": "2024-09-11T06:50:21.206Z"
   },
   {
    "duration": 131,
    "start_time": "2024-09-11T06:51:15.102Z"
   },
   {
    "duration": 202,
    "start_time": "2024-09-11T06:54:22.916Z"
   },
   {
    "duration": 61,
    "start_time": "2024-09-11T06:54:48.153Z"
   },
   {
    "duration": 190,
    "start_time": "2024-09-11T06:54:59.918Z"
   },
   {
    "duration": 259,
    "start_time": "2024-09-11T06:55:10.448Z"
   },
   {
    "duration": 1457,
    "start_time": "2024-09-11T06:55:13.174Z"
   },
   {
    "duration": 251,
    "start_time": "2024-09-11T06:55:17.487Z"
   },
   {
    "duration": 282,
    "start_time": "2024-09-11T06:55:30.093Z"
   },
   {
    "duration": 793,
    "start_time": "2024-09-11T06:55:36.797Z"
   },
   {
    "duration": 203,
    "start_time": "2024-09-11T06:55:44.409Z"
   },
   {
    "duration": 223,
    "start_time": "2024-09-11T06:55:58.253Z"
   },
   {
    "duration": 207,
    "start_time": "2024-09-11T06:56:13.407Z"
   },
   {
    "duration": 173,
    "start_time": "2024-09-11T06:56:32.486Z"
   },
   {
    "duration": 258,
    "start_time": "2024-09-11T06:56:48.632Z"
   },
   {
    "duration": 271,
    "start_time": "2024-09-11T06:56:57.356Z"
   },
   {
    "duration": 262,
    "start_time": "2024-09-11T06:57:16.445Z"
   },
   {
    "duration": 297,
    "start_time": "2024-09-11T06:57:27.633Z"
   },
   {
    "duration": 240,
    "start_time": "2024-09-11T06:59:18.121Z"
   },
   {
    "duration": 124,
    "start_time": "2024-09-11T06:59:33.875Z"
   },
   {
    "duration": 248,
    "start_time": "2024-09-11T07:00:27.130Z"
   },
   {
    "duration": 233,
    "start_time": "2024-09-11T07:01:14.623Z"
   },
   {
    "duration": 234,
    "start_time": "2024-09-11T07:01:19.518Z"
   },
   {
    "duration": 105,
    "start_time": "2024-09-11T07:02:47.100Z"
   },
   {
    "duration": 159,
    "start_time": "2024-09-11T07:03:25.771Z"
   },
   {
    "duration": 184,
    "start_time": "2024-09-11T07:03:41.358Z"
   },
   {
    "duration": 285,
    "start_time": "2024-09-11T07:07:24.233Z"
   },
   {
    "duration": 234,
    "start_time": "2024-09-11T07:08:39.020Z"
   },
   {
    "duration": 263,
    "start_time": "2024-09-11T07:08:48.719Z"
   },
   {
    "duration": 149,
    "start_time": "2024-09-11T07:10:02.504Z"
   },
   {
    "duration": 179,
    "start_time": "2024-09-11T07:10:06.666Z"
   },
   {
    "duration": 3,
    "start_time": "2024-09-11T07:10:55.852Z"
   },
   {
    "duration": 104,
    "start_time": "2024-09-11T07:11:24.677Z"
   },
   {
    "duration": 157,
    "start_time": "2024-09-11T07:15:20.138Z"
   },
   {
    "duration": 183,
    "start_time": "2024-09-11T07:16:16.420Z"
   },
   {
    "duration": 192,
    "start_time": "2024-09-11T07:16:26.693Z"
   },
   {
    "duration": 705,
    "start_time": "2024-09-11T09:49:53.219Z"
   },
   {
    "duration": 17,
    "start_time": "2024-09-11T09:49:53.926Z"
   },
   {
    "duration": 46,
    "start_time": "2024-09-11T09:49:53.945Z"
   },
   {
    "duration": 2459,
    "start_time": "2024-09-11T09:49:53.994Z"
   },
   {
    "duration": 10,
    "start_time": "2024-09-11T09:49:56.455Z"
   },
   {
    "duration": 54,
    "start_time": "2024-09-11T09:49:56.466Z"
   },
   {
    "duration": 45,
    "start_time": "2024-09-11T09:49:56.523Z"
   },
   {
    "duration": 21,
    "start_time": "2024-09-11T09:49:56.570Z"
   },
   {
    "duration": 15,
    "start_time": "2024-09-11T09:49:56.593Z"
   },
   {
    "duration": 7,
    "start_time": "2024-09-11T09:49:56.612Z"
   },
   {
    "duration": 219,
    "start_time": "2024-09-11T09:49:56.621Z"
   },
   {
    "duration": 10,
    "start_time": "2024-09-11T09:49:56.841Z"
   },
   {
    "duration": 8,
    "start_time": "2024-09-11T09:49:56.853Z"
   },
   {
    "duration": 7,
    "start_time": "2024-09-11T09:49:56.863Z"
   },
   {
    "duration": 8,
    "start_time": "2024-09-11T09:49:56.872Z"
   },
   {
    "duration": 408,
    "start_time": "2024-09-11T09:49:56.881Z"
   },
   {
    "duration": 7,
    "start_time": "2024-09-11T09:49:57.291Z"
   },
   {
    "duration": 256,
    "start_time": "2024-09-11T09:49:57.300Z"
   },
   {
    "duration": 261,
    "start_time": "2024-09-11T09:49:57.558Z"
   },
   {
    "duration": 170,
    "start_time": "2024-09-11T09:49:57.821Z"
   },
   {
    "duration": 238,
    "start_time": "2024-09-11T09:49:57.993Z"
   },
   {
    "duration": 182,
    "start_time": "2024-09-11T09:49:58.233Z"
   },
   {
    "duration": 190,
    "start_time": "2024-09-11T09:49:58.417Z"
   },
   {
    "duration": 526,
    "start_time": "2024-09-11T09:50:02.875Z"
   },
   {
    "duration": 15,
    "start_time": "2024-09-11T09:50:03.403Z"
   },
   {
    "duration": 6,
    "start_time": "2024-09-11T09:50:03.419Z"
   },
   {
    "duration": 2327,
    "start_time": "2024-09-11T09:50:03.426Z"
   },
   {
    "duration": 10,
    "start_time": "2024-09-11T09:50:05.755Z"
   },
   {
    "duration": 20,
    "start_time": "2024-09-11T09:50:05.767Z"
   },
   {
    "duration": 32,
    "start_time": "2024-09-11T09:50:05.788Z"
   },
   {
    "duration": 41,
    "start_time": "2024-09-11T09:50:05.822Z"
   },
   {
    "duration": 188,
    "start_time": "2024-09-11T09:50:05.865Z"
   },
   {
    "duration": 30,
    "start_time": "2024-09-11T09:50:06.055Z"
   },
   {
    "duration": 238,
    "start_time": "2024-09-11T09:50:06.086Z"
   },
   {
    "duration": 7,
    "start_time": "2024-09-11T09:50:06.326Z"
   },
   {
    "duration": 26,
    "start_time": "2024-09-11T09:50:06.335Z"
   },
   {
    "duration": 8,
    "start_time": "2024-09-11T09:50:06.363Z"
   },
   {
    "duration": 56,
    "start_time": "2024-09-11T09:50:06.373Z"
   },
   {
    "duration": 367,
    "start_time": "2024-09-11T09:50:06.430Z"
   },
   {
    "duration": 8,
    "start_time": "2024-09-11T09:50:06.799Z"
   },
   {
    "duration": 326,
    "start_time": "2024-09-11T09:50:06.808Z"
   },
   {
    "duration": 175,
    "start_time": "2024-09-11T09:50:07.136Z"
   },
   {
    "duration": 245,
    "start_time": "2024-09-11T09:50:07.313Z"
   },
   {
    "duration": 236,
    "start_time": "2024-09-11T09:50:07.560Z"
   },
   {
    "duration": 190,
    "start_time": "2024-09-11T09:50:07.797Z"
   },
   {
    "duration": 173,
    "start_time": "2024-09-11T09:50:07.988Z"
   },
   {
    "duration": 15,
    "start_time": "2024-09-11T09:52:43.101Z"
   },
   {
    "duration": 12,
    "start_time": "2024-09-11T09:52:52.238Z"
   },
   {
    "duration": 11,
    "start_time": "2024-09-11T09:52:58.753Z"
   },
   {
    "duration": 130,
    "start_time": "2024-09-11T10:08:08.035Z"
   },
   {
    "duration": 164,
    "start_time": "2024-09-11T10:08:20.028Z"
   },
   {
    "duration": 166,
    "start_time": "2024-09-11T10:08:28.813Z"
   },
   {
    "duration": 102,
    "start_time": "2024-09-11T10:08:56.006Z"
   },
   {
    "duration": 163,
    "start_time": "2024-09-11T10:09:09.795Z"
   },
   {
    "duration": 172,
    "start_time": "2024-09-11T10:09:21.122Z"
   },
   {
    "duration": 270,
    "start_time": "2024-09-11T10:09:50.682Z"
   },
   {
    "duration": 15,
    "start_time": "2024-09-11T10:11:07.633Z"
   },
   {
    "duration": 73,
    "start_time": "2024-09-11T10:13:07.464Z"
   },
   {
    "duration": 177,
    "start_time": "2024-09-11T10:13:17.805Z"
   },
   {
    "duration": 12,
    "start_time": "2024-09-11T10:13:35.488Z"
   },
   {
    "duration": 164,
    "start_time": "2024-09-11T10:17:39.074Z"
   },
   {
    "duration": 108,
    "start_time": "2024-09-11T10:18:35.010Z"
   },
   {
    "duration": 176,
    "start_time": "2024-09-11T10:18:53.082Z"
   },
   {
    "duration": 182,
    "start_time": "2024-09-11T10:19:05.372Z"
   },
   {
    "duration": 79,
    "start_time": "2024-09-11T10:20:38.978Z"
   },
   {
    "duration": 144,
    "start_time": "2024-09-11T10:24:26.566Z"
   },
   {
    "duration": 100,
    "start_time": "2024-09-11T10:26:26.956Z"
   },
   {
    "duration": 102,
    "start_time": "2024-09-11T10:26:37.629Z"
   },
   {
    "duration": 96,
    "start_time": "2024-09-11T10:26:43.170Z"
   },
   {
    "duration": 152,
    "start_time": "2024-09-11T10:27:58.083Z"
   },
   {
    "duration": 151,
    "start_time": "2024-09-11T10:28:01.904Z"
   },
   {
    "duration": 168,
    "start_time": "2024-09-11T10:28:08.009Z"
   },
   {
    "duration": 301,
    "start_time": "2024-09-11T10:28:12.232Z"
   },
   {
    "duration": 158,
    "start_time": "2024-09-11T10:28:18.110Z"
   },
   {
    "duration": 158,
    "start_time": "2024-09-11T10:28:28.247Z"
   },
   {
    "duration": 158,
    "start_time": "2024-09-11T10:28:33.669Z"
   },
   {
    "duration": 146,
    "start_time": "2024-09-11T10:31:33.630Z"
   },
   {
    "duration": 94,
    "start_time": "2024-09-11T10:31:39.977Z"
   },
   {
    "duration": 581,
    "start_time": "2024-09-11T12:21:32.448Z"
   },
   {
    "duration": 21,
    "start_time": "2024-09-11T12:21:33.032Z"
   },
   {
    "duration": 12,
    "start_time": "2024-09-11T12:21:33.055Z"
   },
   {
    "duration": 2299,
    "start_time": "2024-09-11T12:21:33.070Z"
   },
   {
    "duration": 12,
    "start_time": "2024-09-11T12:21:35.371Z"
   },
   {
    "duration": 13,
    "start_time": "2024-09-11T12:21:35.385Z"
   },
   {
    "duration": 14,
    "start_time": "2024-09-11T12:21:35.400Z"
   },
   {
    "duration": 32,
    "start_time": "2024-09-11T12:21:35.415Z"
   },
   {
    "duration": 9,
    "start_time": "2024-09-11T12:21:35.448Z"
   },
   {
    "duration": 19,
    "start_time": "2024-09-11T12:21:35.461Z"
   },
   {
    "duration": 224,
    "start_time": "2024-09-11T12:21:35.482Z"
   },
   {
    "duration": 9,
    "start_time": "2024-09-11T12:21:35.708Z"
   },
   {
    "duration": 47,
    "start_time": "2024-09-11T12:21:35.718Z"
   },
   {
    "duration": 32,
    "start_time": "2024-09-11T12:21:35.767Z"
   },
   {
    "duration": 42,
    "start_time": "2024-09-11T12:21:35.800Z"
   },
   {
    "duration": 355,
    "start_time": "2024-09-11T12:21:35.844Z"
   },
   {
    "duration": 8,
    "start_time": "2024-09-11T12:21:36.201Z"
   },
   {
    "duration": 266,
    "start_time": "2024-09-11T12:21:36.211Z"
   },
   {
    "duration": 188,
    "start_time": "2024-09-11T12:21:36.479Z"
   },
   {
    "duration": 266,
    "start_time": "2024-09-11T12:21:36.669Z"
   },
   {
    "duration": 231,
    "start_time": "2024-09-11T12:21:36.936Z"
   },
   {
    "duration": 182,
    "start_time": "2024-09-11T12:21:37.168Z"
   },
   {
    "duration": 176,
    "start_time": "2024-09-11T12:21:37.351Z"
   },
   {
    "duration": 165,
    "start_time": "2024-09-11T12:21:37.529Z"
   },
   {
    "duration": 108,
    "start_time": "2024-09-11T12:21:37.696Z"
   },
   {
    "duration": 140,
    "start_time": "2024-09-11T12:23:12.178Z"
   },
   {
    "duration": 157,
    "start_time": "2024-09-11T12:23:17.239Z"
   },
   {
    "duration": 165,
    "start_time": "2024-09-11T12:23:33.359Z"
   },
   {
    "duration": 172,
    "start_time": "2024-09-11T12:23:37.609Z"
   },
   {
    "duration": 260,
    "start_time": "2024-09-11T12:23:47.445Z"
   },
   {
    "duration": 178,
    "start_time": "2024-09-11T12:24:53.161Z"
   },
   {
    "duration": 151,
    "start_time": "2024-09-11T12:25:15.351Z"
   },
   {
    "duration": 163,
    "start_time": "2024-09-11T12:25:52.419Z"
   },
   {
    "duration": 146,
    "start_time": "2024-09-11T12:26:01.701Z"
   },
   {
    "duration": 167,
    "start_time": "2024-09-11T12:26:07.291Z"
   },
   {
    "duration": 215,
    "start_time": "2024-09-11T12:26:50.258Z"
   },
   {
    "duration": 203,
    "start_time": "2024-09-11T12:26:54.753Z"
   },
   {
    "duration": 212,
    "start_time": "2024-09-11T12:27:03.351Z"
   },
   {
    "duration": 147,
    "start_time": "2024-09-11T12:27:07.489Z"
   },
   {
    "duration": 225,
    "start_time": "2024-09-11T12:27:19.686Z"
   },
   {
    "duration": 146,
    "start_time": "2024-09-11T12:27:28.300Z"
   },
   {
    "duration": 175,
    "start_time": "2024-09-11T12:27:31.357Z"
   },
   {
    "duration": 151,
    "start_time": "2024-09-11T12:27:34.845Z"
   },
   {
    "duration": 127,
    "start_time": "2024-09-11T12:27:44.301Z"
   },
   {
    "duration": 138,
    "start_time": "2024-09-11T12:28:06.871Z"
   },
   {
    "duration": 143,
    "start_time": "2024-09-11T12:28:20.271Z"
   },
   {
    "duration": 143,
    "start_time": "2024-09-11T12:28:35.626Z"
   },
   {
    "duration": 144,
    "start_time": "2024-09-11T12:28:40.623Z"
   },
   {
    "duration": 2,
    "start_time": "2024-09-11T12:29:29.004Z"
   },
   {
    "duration": 99,
    "start_time": "2024-09-11T12:29:31.715Z"
   },
   {
    "duration": 161,
    "start_time": "2024-09-11T12:30:00.189Z"
   },
   {
    "duration": 159,
    "start_time": "2024-09-11T12:30:05.237Z"
   },
   {
    "duration": 168,
    "start_time": "2024-09-11T12:30:07.996Z"
   },
   {
    "duration": 176,
    "start_time": "2024-09-11T12:30:27.839Z"
   },
   {
    "duration": 171,
    "start_time": "2024-09-11T12:31:55.188Z"
   },
   {
    "duration": 200,
    "start_time": "2024-09-11T12:32:01.115Z"
   },
   {
    "duration": 5,
    "start_time": "2024-09-11T12:32:26.220Z"
   },
   {
    "duration": 81,
    "start_time": "2024-09-11T12:37:57.359Z"
   },
   {
    "duration": 175,
    "start_time": "2024-09-11T12:38:01.936Z"
   },
   {
    "duration": 344,
    "start_time": "2024-09-11T12:38:38.250Z"
   },
   {
    "duration": 175,
    "start_time": "2024-09-11T12:38:41.401Z"
   },
   {
    "duration": 181,
    "start_time": "2024-09-11T12:38:45.279Z"
   },
   {
    "duration": 190,
    "start_time": "2024-09-11T12:38:47.545Z"
   },
   {
    "duration": 231,
    "start_time": "2024-09-11T12:38:54.558Z"
   },
   {
    "duration": 113,
    "start_time": "2024-09-11T12:40:08.129Z"
   },
   {
    "duration": 160,
    "start_time": "2024-09-11T12:40:41.082Z"
   },
   {
    "duration": 204,
    "start_time": "2024-09-11T12:40:51.310Z"
   },
   {
    "duration": 188,
    "start_time": "2024-09-11T12:41:03.662Z"
   },
   {
    "duration": 192,
    "start_time": "2024-09-11T12:41:15.740Z"
   },
   {
    "duration": 147,
    "start_time": "2024-09-11T12:42:33.676Z"
   },
   {
    "duration": 150,
    "start_time": "2024-09-11T12:42:39.308Z"
   },
   {
    "duration": 157,
    "start_time": "2024-09-11T12:42:51.763Z"
   },
   {
    "duration": 193,
    "start_time": "2024-09-11T12:42:58.191Z"
   },
   {
    "duration": 163,
    "start_time": "2024-09-11T12:43:04.574Z"
   },
   {
    "duration": 161,
    "start_time": "2024-09-11T12:43:09.363Z"
   },
   {
    "duration": 155,
    "start_time": "2024-09-11T12:44:51.741Z"
   },
   {
    "duration": 6,
    "start_time": "2024-09-11T12:47:32.089Z"
   },
   {
    "duration": 196,
    "start_time": "2024-09-11T12:47:55.024Z"
   },
   {
    "duration": 334,
    "start_time": "2024-09-11T12:48:01.134Z"
   },
   {
    "duration": 174,
    "start_time": "2024-09-11T12:53:58.347Z"
   },
   {
    "duration": 607,
    "start_time": "2024-09-12T10:01:55.886Z"
   },
   {
    "duration": 17,
    "start_time": "2024-09-12T10:01:56.495Z"
   },
   {
    "duration": 6,
    "start_time": "2024-09-12T10:01:56.514Z"
   },
   {
    "duration": 2513,
    "start_time": "2024-09-12T10:01:56.523Z"
   },
   {
    "duration": 12,
    "start_time": "2024-09-12T10:01:59.038Z"
   },
   {
    "duration": 26,
    "start_time": "2024-09-12T10:01:59.052Z"
   },
   {
    "duration": 15,
    "start_time": "2024-09-12T10:01:59.080Z"
   },
   {
    "duration": 16,
    "start_time": "2024-09-12T10:01:59.097Z"
   },
   {
    "duration": 8,
    "start_time": "2024-09-12T10:01:59.115Z"
   },
   {
    "duration": 6,
    "start_time": "2024-09-12T10:01:59.126Z"
   },
   {
    "duration": 233,
    "start_time": "2024-09-12T10:01:59.133Z"
   },
   {
    "duration": 9,
    "start_time": "2024-09-12T10:01:59.368Z"
   },
   {
    "duration": 9,
    "start_time": "2024-09-12T10:01:59.378Z"
   },
   {
    "duration": 12,
    "start_time": "2024-09-12T10:01:59.388Z"
   },
   {
    "duration": 8,
    "start_time": "2024-09-12T10:01:59.402Z"
   },
   {
    "duration": 378,
    "start_time": "2024-09-12T10:01:59.412Z"
   },
   {
    "duration": 8,
    "start_time": "2024-09-12T10:01:59.791Z"
   },
   {
    "duration": 292,
    "start_time": "2024-09-12T10:01:59.802Z"
   },
   {
    "duration": 270,
    "start_time": "2024-09-12T10:02:00.096Z"
   },
   {
    "duration": 172,
    "start_time": "2024-09-12T10:02:00.368Z"
   },
   {
    "duration": 239,
    "start_time": "2024-09-12T10:02:00.542Z"
   },
   {
    "duration": 194,
    "start_time": "2024-09-12T10:02:00.783Z"
   },
   {
    "duration": 182,
    "start_time": "2024-09-12T10:02:00.979Z"
   },
   {
    "duration": 166,
    "start_time": "2024-09-12T10:02:01.163Z"
   },
   {
    "duration": 157,
    "start_time": "2024-09-12T10:02:01.331Z"
   },
   {
    "duration": 181,
    "start_time": "2024-09-12T10:02:01.490Z"
   },
   {
    "duration": 170,
    "start_time": "2024-09-12T10:02:01.672Z"
   },
   {
    "duration": 198,
    "start_time": "2024-09-12T10:02:01.845Z"
   },
   {
    "duration": 292,
    "start_time": "2024-09-12T10:03:23.368Z"
   },
   {
    "duration": 143,
    "start_time": "2024-09-12T10:03:28.345Z"
   },
   {
    "duration": 7,
    "start_time": "2024-09-12T10:03:59.872Z"
   },
   {
    "duration": 5,
    "start_time": "2024-09-12T10:04:54.820Z"
   },
   {
    "duration": 77,
    "start_time": "2024-09-12T10:04:59.419Z"
   },
   {
    "duration": 3,
    "start_time": "2024-09-12T10:05:07.740Z"
   },
   {
    "duration": 4,
    "start_time": "2024-09-12T10:05:10.009Z"
   },
   {
    "duration": 5,
    "start_time": "2024-09-12T10:08:36.557Z"
   },
   {
    "duration": 6,
    "start_time": "2024-09-12T10:08:58.022Z"
   },
   {
    "duration": 6,
    "start_time": "2024-09-12T10:09:02.946Z"
   },
   {
    "duration": 6,
    "start_time": "2024-09-12T10:09:08.026Z"
   },
   {
    "duration": 103,
    "start_time": "2024-09-12T10:10:02.356Z"
   },
   {
    "duration": 211,
    "start_time": "2024-09-12T10:11:37.734Z"
   },
   {
    "duration": 151,
    "start_time": "2024-09-12T10:11:44.782Z"
   },
   {
    "duration": 180,
    "start_time": "2024-09-12T10:12:48.482Z"
   },
   {
    "duration": 4,
    "start_time": "2024-09-12T10:13:28.233Z"
   },
   {
    "duration": 3,
    "start_time": "2024-09-12T10:13:30.956Z"
   },
   {
    "duration": 4,
    "start_time": "2024-09-12T10:13:40.293Z"
   },
   {
    "duration": 5,
    "start_time": "2024-09-12T10:13:43.416Z"
   },
   {
    "duration": 6,
    "start_time": "2024-09-12T10:14:16.155Z"
   },
   {
    "duration": 6,
    "start_time": "2024-09-12T10:14:35.617Z"
   },
   {
    "duration": 5,
    "start_time": "2024-09-12T10:14:47.305Z"
   },
   {
    "duration": 5,
    "start_time": "2024-09-12T10:29:32.890Z"
   },
   {
    "duration": 5,
    "start_time": "2024-09-12T10:29:39.325Z"
   },
   {
    "duration": 27,
    "start_time": "2024-09-12T10:44:47.058Z"
   },
   {
    "duration": 14,
    "start_time": "2024-09-12T10:47:07.138Z"
   },
   {
    "duration": 10,
    "start_time": "2024-09-12T10:47:19.007Z"
   },
   {
    "duration": 10,
    "start_time": "2024-09-12T10:47:23.848Z"
   },
   {
    "duration": 7,
    "start_time": "2024-09-12T10:52:19.425Z"
   },
   {
    "duration": 1169,
    "start_time": "2024-09-12T10:52:27.975Z"
   },
   {
    "duration": 6,
    "start_time": "2024-09-12T10:52:33.931Z"
   },
   {
    "duration": 27,
    "start_time": "2024-09-12T10:52:44.561Z"
   },
   {
    "duration": 552,
    "start_time": "2024-09-12T10:53:05.658Z"
   },
   {
    "duration": 23,
    "start_time": "2024-09-12T10:53:06.214Z"
   },
   {
    "duration": 18,
    "start_time": "2024-09-12T10:53:06.239Z"
   },
   {
    "duration": 2476,
    "start_time": "2024-09-12T10:53:06.259Z"
   },
   {
    "duration": 12,
    "start_time": "2024-09-12T10:53:08.738Z"
   },
   {
    "duration": 24,
    "start_time": "2024-09-12T10:53:08.752Z"
   },
   {
    "duration": 13,
    "start_time": "2024-09-12T10:53:08.777Z"
   },
   {
    "duration": 22,
    "start_time": "2024-09-12T10:53:08.793Z"
   },
   {
    "duration": 21,
    "start_time": "2024-09-12T10:53:08.817Z"
   },
   {
    "duration": 16,
    "start_time": "2024-09-12T10:53:08.842Z"
   },
   {
    "duration": 242,
    "start_time": "2024-09-12T10:53:08.860Z"
   },
   {
    "duration": 8,
    "start_time": "2024-09-12T10:53:09.104Z"
   },
   {
    "duration": 17,
    "start_time": "2024-09-12T10:53:09.113Z"
   },
   {
    "duration": 7,
    "start_time": "2024-09-12T10:53:09.132Z"
   },
   {
    "duration": 9,
    "start_time": "2024-09-12T10:53:09.152Z"
   },
   {
    "duration": 340,
    "start_time": "2024-09-12T10:53:09.163Z"
   },
   {
    "duration": 7,
    "start_time": "2024-09-12T10:53:09.505Z"
   },
   {
    "duration": 280,
    "start_time": "2024-09-12T10:53:09.514Z"
   },
   {
    "duration": 181,
    "start_time": "2024-09-12T10:53:09.795Z"
   },
   {
    "duration": 261,
    "start_time": "2024-09-12T10:53:09.977Z"
   },
   {
    "duration": 218,
    "start_time": "2024-09-12T10:53:10.239Z"
   },
   {
    "duration": 151,
    "start_time": "2024-09-12T10:53:10.459Z"
   },
   {
    "duration": 174,
    "start_time": "2024-09-12T10:53:10.612Z"
   },
   {
    "duration": 157,
    "start_time": "2024-09-12T10:53:10.787Z"
   },
   {
    "duration": 141,
    "start_time": "2024-09-12T10:53:10.946Z"
   },
   {
    "duration": 171,
    "start_time": "2024-09-12T10:53:11.088Z"
   },
   {
    "duration": 172,
    "start_time": "2024-09-12T10:53:11.261Z"
   },
   {
    "duration": 164,
    "start_time": "2024-09-12T10:53:11.436Z"
   },
   {
    "duration": 5,
    "start_time": "2024-09-12T10:53:11.602Z"
   },
   {
    "duration": 8,
    "start_time": "2024-09-12T10:53:11.608Z"
   },
   {
    "duration": 14,
    "start_time": "2024-09-12T10:53:11.617Z"
   },
   {
    "duration": 27,
    "start_time": "2024-09-12T10:53:20.996Z"
   },
   {
    "duration": 24,
    "start_time": "2024-09-12T10:54:31.036Z"
   },
   {
    "duration": 9,
    "start_time": "2024-09-12T11:00:59.846Z"
   },
   {
    "duration": 2493,
    "start_time": "2024-09-12T11:10:14.406Z"
   },
   {
    "duration": 5881,
    "start_time": "2024-09-12T11:22:43.339Z"
   },
   {
    "duration": 5834,
    "start_time": "2024-09-12T11:23:13.256Z"
   },
   {
    "duration": 5925,
    "start_time": "2024-09-12T11:24:09.453Z"
   },
   {
    "duration": 6015,
    "start_time": "2024-09-12T11:24:27.169Z"
   },
   {
    "duration": 5882,
    "start_time": "2024-09-12T11:24:53.434Z"
   },
   {
    "duration": 8,
    "start_time": "2024-09-12T11:26:35.419Z"
   },
   {
    "duration": 21,
    "start_time": "2024-09-12T11:26:41.770Z"
   },
   {
    "duration": 17,
    "start_time": "2024-09-12T11:32:38.649Z"
   },
   {
    "duration": 534,
    "start_time": "2024-09-12T12:29:54.785Z"
   },
   {
    "duration": 15,
    "start_time": "2024-09-12T12:29:55.321Z"
   },
   {
    "duration": 16,
    "start_time": "2024-09-12T12:29:55.338Z"
   },
   {
    "duration": 2295,
    "start_time": "2024-09-12T12:29:55.356Z"
   },
   {
    "duration": 10,
    "start_time": "2024-09-12T12:29:57.653Z"
   },
   {
    "duration": 51,
    "start_time": "2024-09-12T12:29:57.665Z"
   },
   {
    "duration": 13,
    "start_time": "2024-09-12T12:29:57.718Z"
   },
   {
    "duration": 12,
    "start_time": "2024-09-12T12:29:57.733Z"
   },
   {
    "duration": 11,
    "start_time": "2024-09-12T12:29:57.747Z"
   },
   {
    "duration": 6,
    "start_time": "2024-09-12T12:29:57.761Z"
   },
   {
    "duration": 232,
    "start_time": "2024-09-12T12:29:57.768Z"
   },
   {
    "duration": 10,
    "start_time": "2024-09-12T12:29:58.001Z"
   },
   {
    "duration": 9,
    "start_time": "2024-09-12T12:29:58.012Z"
   },
   {
    "duration": 35,
    "start_time": "2024-09-12T12:29:58.023Z"
   },
   {
    "duration": 9,
    "start_time": "2024-09-12T12:29:58.059Z"
   },
   {
    "duration": 374,
    "start_time": "2024-09-12T12:29:58.070Z"
   },
   {
    "duration": 10,
    "start_time": "2024-09-12T12:29:58.446Z"
   },
   {
    "duration": 275,
    "start_time": "2024-09-12T12:29:58.457Z"
   },
   {
    "duration": 194,
    "start_time": "2024-09-12T12:29:58.734Z"
   },
   {
    "duration": 247,
    "start_time": "2024-09-12T12:29:58.929Z"
   },
   {
    "duration": 236,
    "start_time": "2024-09-12T12:29:59.177Z"
   },
   {
    "duration": 154,
    "start_time": "2024-09-12T12:29:59.414Z"
   },
   {
    "duration": 173,
    "start_time": "2024-09-12T12:29:59.569Z"
   },
   {
    "duration": 191,
    "start_time": "2024-09-12T12:29:59.744Z"
   },
   {
    "duration": 153,
    "start_time": "2024-09-12T12:29:59.936Z"
   },
   {
    "duration": 180,
    "start_time": "2024-09-12T12:30:00.090Z"
   },
   {
    "duration": 225,
    "start_time": "2024-09-12T12:30:00.272Z"
   },
   {
    "duration": 183,
    "start_time": "2024-09-12T12:30:00.500Z"
   },
   {
    "duration": 6,
    "start_time": "2024-09-12T12:30:00.686Z"
   },
   {
    "duration": 16,
    "start_time": "2024-09-12T12:30:00.693Z"
   },
   {
    "duration": 38,
    "start_time": "2024-09-12T12:30:00.711Z"
   },
   {
    "duration": 115,
    "start_time": "2024-09-12T12:30:00.751Z"
   },
   {
    "duration": 0,
    "start_time": "2024-09-12T12:30:00.867Z"
   },
   {
    "duration": 4,
    "start_time": "2024-09-12T12:30:11.842Z"
   },
   {
    "duration": 2,
    "start_time": "2024-09-12T12:30:16.272Z"
   },
   {
    "duration": 9,
    "start_time": "2024-09-12T12:31:54.082Z"
   },
   {
    "duration": 10,
    "start_time": "2024-09-12T12:32:06.906Z"
   },
   {
    "duration": 20,
    "start_time": "2024-09-12T12:32:12.152Z"
   },
   {
    "duration": 39,
    "start_time": "2024-09-12T12:33:30.709Z"
   },
   {
    "duration": 28,
    "start_time": "2024-09-12T12:34:49.681Z"
   },
   {
    "duration": 25,
    "start_time": "2024-09-12T12:35:37.316Z"
   },
   {
    "duration": 24,
    "start_time": "2024-09-12T12:36:46.877Z"
   },
   {
    "duration": 20,
    "start_time": "2024-09-12T12:36:53.911Z"
   },
   {
    "duration": 23,
    "start_time": "2024-09-12T12:37:07.648Z"
   },
   {
    "duration": 25,
    "start_time": "2024-09-12T12:38:20.747Z"
   },
   {
    "duration": 3,
    "start_time": "2024-09-12T12:39:27.372Z"
   },
   {
    "duration": 19,
    "start_time": "2024-09-12T12:39:31.380Z"
   },
   {
    "duration": 25,
    "start_time": "2024-09-12T12:40:18.828Z"
   },
   {
    "duration": 18,
    "start_time": "2024-09-12T12:40:22.187Z"
   },
   {
    "duration": 18,
    "start_time": "2024-09-12T12:41:45.564Z"
   },
   {
    "duration": 36,
    "start_time": "2024-09-12T12:43:22.091Z"
   },
   {
    "duration": 22,
    "start_time": "2024-09-12T12:43:32.466Z"
   },
   {
    "duration": 25,
    "start_time": "2024-09-12T12:43:40.916Z"
   },
   {
    "duration": 23,
    "start_time": "2024-09-12T12:45:02.577Z"
   },
   {
    "duration": 74,
    "start_time": "2024-09-12T12:50:47.740Z"
   },
   {
    "duration": 1072,
    "start_time": "2024-09-12T12:50:52.550Z"
   },
   {
    "duration": 1049,
    "start_time": "2024-09-12T12:51:36.673Z"
   },
   {
    "duration": 307,
    "start_time": "2024-09-12T12:51:48.720Z"
   },
   {
    "duration": 1102,
    "start_time": "2024-09-12T12:51:55.933Z"
   },
   {
    "duration": 27,
    "start_time": "2024-09-12T12:53:28.634Z"
   },
   {
    "duration": 1070,
    "start_time": "2024-09-12T12:53:55.433Z"
   },
   {
    "duration": 23,
    "start_time": "2024-09-12T12:54:07.781Z"
   },
   {
    "duration": 23,
    "start_time": "2024-09-12T12:54:22.399Z"
   },
   {
    "duration": 1386,
    "start_time": "2024-09-12T12:54:47.166Z"
   },
   {
    "duration": 24,
    "start_time": "2024-09-12T12:55:47.105Z"
   },
   {
    "duration": 24,
    "start_time": "2024-09-12T12:55:51.200Z"
   },
   {
    "duration": 841,
    "start_time": "2024-09-12T16:17:29.859Z"
   },
   {
    "duration": 17,
    "start_time": "2024-09-12T16:17:30.702Z"
   },
   {
    "duration": 11,
    "start_time": "2024-09-12T16:17:30.721Z"
   },
   {
    "duration": 2530,
    "start_time": "2024-09-12T16:17:30.734Z"
   },
   {
    "duration": 12,
    "start_time": "2024-09-12T16:17:33.267Z"
   },
   {
    "duration": 24,
    "start_time": "2024-09-12T16:17:33.281Z"
   },
   {
    "duration": 12,
    "start_time": "2024-09-12T16:17:33.307Z"
   },
   {
    "duration": 19,
    "start_time": "2024-09-12T16:17:33.320Z"
   },
   {
    "duration": 17,
    "start_time": "2024-09-12T16:17:33.340Z"
   },
   {
    "duration": 21,
    "start_time": "2024-09-12T16:17:33.359Z"
   },
   {
    "duration": 269,
    "start_time": "2024-09-12T16:17:33.384Z"
   },
   {
    "duration": 8,
    "start_time": "2024-09-12T16:17:33.654Z"
   },
   {
    "duration": 30,
    "start_time": "2024-09-12T16:17:33.663Z"
   },
   {
    "duration": 9,
    "start_time": "2024-09-12T16:17:33.697Z"
   },
   {
    "duration": 9,
    "start_time": "2024-09-12T16:17:33.708Z"
   },
   {
    "duration": 413,
    "start_time": "2024-09-12T16:17:33.719Z"
   },
   {
    "duration": 7,
    "start_time": "2024-09-12T16:17:34.133Z"
   },
   {
    "duration": 294,
    "start_time": "2024-09-12T16:17:34.142Z"
   },
   {
    "duration": 299,
    "start_time": "2024-09-12T16:17:34.439Z"
   },
   {
    "duration": 189,
    "start_time": "2024-09-12T16:17:34.740Z"
   },
   {
    "duration": 259,
    "start_time": "2024-09-12T16:17:34.931Z"
   },
   {
    "duration": 169,
    "start_time": "2024-09-12T16:17:35.193Z"
   },
   {
    "duration": 195,
    "start_time": "2024-09-12T16:17:35.363Z"
   },
   {
    "duration": 173,
    "start_time": "2024-09-12T16:17:35.559Z"
   },
   {
    "duration": 177,
    "start_time": "2024-09-12T16:17:35.734Z"
   },
   {
    "duration": 198,
    "start_time": "2024-09-12T16:17:35.912Z"
   },
   {
    "duration": 191,
    "start_time": "2024-09-12T16:17:36.112Z"
   },
   {
    "duration": 176,
    "start_time": "2024-09-12T16:17:36.305Z"
   },
   {
    "duration": 9,
    "start_time": "2024-09-12T16:17:36.484Z"
   },
   {
    "duration": 4,
    "start_time": "2024-09-12T16:17:36.496Z"
   },
   {
    "duration": 19,
    "start_time": "2024-09-12T16:17:36.502Z"
   },
   {
    "duration": 164,
    "start_time": "2024-09-12T16:17:36.522Z"
   },
   {
    "duration": 4,
    "start_time": "2024-09-12T16:17:36.688Z"
   },
   {
    "duration": 24,
    "start_time": "2024-09-12T16:19:01.193Z"
   },
   {
    "duration": 25,
    "start_time": "2024-09-12T16:19:06.008Z"
   },
   {
    "duration": 961,
    "start_time": "2024-09-12T16:19:57.450Z"
   },
   {
    "duration": 919,
    "start_time": "2024-09-12T16:20:11.281Z"
   },
   {
    "duration": 27,
    "start_time": "2024-09-12T16:20:26.202Z"
   },
   {
    "duration": 22,
    "start_time": "2024-09-12T16:20:32.324Z"
   },
   {
    "duration": 24,
    "start_time": "2024-09-12T16:20:46.411Z"
   },
   {
    "duration": 30,
    "start_time": "2024-09-12T16:23:26.688Z"
   },
   {
    "duration": 23,
    "start_time": "2024-09-12T16:24:03.883Z"
   },
   {
    "duration": 23,
    "start_time": "2024-09-12T16:24:12.422Z"
   },
   {
    "duration": 63,
    "start_time": "2024-09-12T16:25:29.318Z"
   },
   {
    "duration": 3,
    "start_time": "2024-09-12T16:26:00.360Z"
   },
   {
    "duration": 36,
    "start_time": "2024-09-12T16:26:06.065Z"
   },
   {
    "duration": 6,
    "start_time": "2024-09-12T16:26:09.342Z"
   },
   {
    "duration": 11,
    "start_time": "2024-09-12T16:26:11.486Z"
   },
   {
    "duration": 7,
    "start_time": "2024-09-12T16:30:04.185Z"
   },
   {
    "duration": 10,
    "start_time": "2024-09-12T16:30:18.687Z"
   },
   {
    "duration": 5,
    "start_time": "2024-09-12T16:32:06.836Z"
   },
   {
    "duration": 15,
    "start_time": "2024-09-12T16:32:21.370Z"
   },
   {
    "duration": 9,
    "start_time": "2024-09-12T16:42:30.664Z"
   },
   {
    "duration": 71,
    "start_time": "2024-09-12T16:49:13.748Z"
   },
   {
    "duration": 8,
    "start_time": "2024-09-12T16:49:24.667Z"
   },
   {
    "duration": 44,
    "start_time": "2024-09-12T16:49:29.147Z"
   },
   {
    "duration": 16,
    "start_time": "2024-09-12T16:50:45.170Z"
   },
   {
    "duration": 163,
    "start_time": "2024-09-12T16:56:18.901Z"
   },
   {
    "duration": 162,
    "start_time": "2024-09-12T17:01:42.365Z"
   },
   {
    "duration": 31,
    "start_time": "2024-09-12T17:17:43.575Z"
   },
   {
    "duration": 10,
    "start_time": "2024-09-12T17:17:49.319Z"
   },
   {
    "duration": 4,
    "start_time": "2024-09-12T17:26:24.743Z"
   },
   {
    "duration": 15,
    "start_time": "2024-09-12T17:26:39.332Z"
   },
   {
    "duration": 16,
    "start_time": "2024-09-12T17:29:33.233Z"
   },
   {
    "duration": 10,
    "start_time": "2024-09-12T17:34:34.914Z"
   },
   {
    "duration": 11,
    "start_time": "2024-09-12T17:37:58.458Z"
   },
   {
    "duration": 71,
    "start_time": "2024-09-12T17:52:58.251Z"
   },
   {
    "duration": 148,
    "start_time": "2024-09-12T17:53:29.081Z"
   },
   {
    "duration": 144,
    "start_time": "2024-09-12T17:54:07.341Z"
   },
   {
    "duration": 136,
    "start_time": "2024-09-12T17:54:22.531Z"
   },
   {
    "duration": 449,
    "start_time": "2024-09-12T21:37:49.248Z"
   },
   {
    "duration": 11,
    "start_time": "2024-09-12T21:37:49.699Z"
   },
   {
    "duration": 4,
    "start_time": "2024-09-12T21:37:49.711Z"
   },
   {
    "duration": 1738,
    "start_time": "2024-09-12T21:37:49.716Z"
   },
   {
    "duration": 7,
    "start_time": "2024-09-12T21:37:51.456Z"
   },
   {
    "duration": 14,
    "start_time": "2024-09-12T21:37:51.465Z"
   },
   {
    "duration": 24,
    "start_time": "2024-09-12T21:37:51.480Z"
   },
   {
    "duration": 31,
    "start_time": "2024-09-12T21:37:51.505Z"
   },
   {
    "duration": 10,
    "start_time": "2024-09-12T21:37:51.537Z"
   },
   {
    "duration": 6,
    "start_time": "2024-09-12T21:37:51.548Z"
   },
   {
    "duration": 178,
    "start_time": "2024-09-12T21:37:51.555Z"
   },
   {
    "duration": 6,
    "start_time": "2024-09-12T21:37:51.735Z"
   },
   {
    "duration": 42,
    "start_time": "2024-09-12T21:37:51.742Z"
   },
   {
    "duration": 31,
    "start_time": "2024-09-12T21:37:51.786Z"
   },
   {
    "duration": 40,
    "start_time": "2024-09-12T21:37:51.818Z"
   },
   {
    "duration": 287,
    "start_time": "2024-09-12T21:37:51.860Z"
   },
   {
    "duration": 5,
    "start_time": "2024-09-12T21:37:52.149Z"
   },
   {
    "duration": 196,
    "start_time": "2024-09-12T21:37:52.155Z"
   },
   {
    "duration": 130,
    "start_time": "2024-09-12T21:37:52.353Z"
   },
   {
    "duration": 186,
    "start_time": "2024-09-12T21:37:52.485Z"
   },
   {
    "duration": 180,
    "start_time": "2024-09-12T21:37:52.672Z"
   },
   {
    "duration": 115,
    "start_time": "2024-09-12T21:37:52.853Z"
   },
   {
    "duration": 158,
    "start_time": "2024-09-12T21:37:52.969Z"
   },
   {
    "duration": 128,
    "start_time": "2024-09-12T21:37:53.133Z"
   },
   {
    "duration": 120,
    "start_time": "2024-09-12T21:37:53.262Z"
   },
   {
    "duration": 142,
    "start_time": "2024-09-12T21:37:53.383Z"
   },
   {
    "duration": 121,
    "start_time": "2024-09-12T21:37:53.526Z"
   },
   {
    "duration": 123,
    "start_time": "2024-09-12T21:37:53.648Z"
   },
   {
    "duration": 4,
    "start_time": "2024-09-12T21:37:53.772Z"
   },
   {
    "duration": 12,
    "start_time": "2024-09-12T21:37:53.777Z"
   },
   {
    "duration": 23,
    "start_time": "2024-09-12T21:37:53.790Z"
   },
   {
    "duration": 27,
    "start_time": "2024-09-12T21:37:53.815Z"
   },
   {
    "duration": 12,
    "start_time": "2024-09-12T21:37:53.843Z"
   },
   {
    "duration": 17,
    "start_time": "2024-09-12T21:37:53.856Z"
   },
   {
    "duration": 106,
    "start_time": "2024-09-12T21:37:53.874Z"
   },
   {
    "duration": 469,
    "start_time": "2024-09-12T21:41:06.698Z"
   },
   {
    "duration": 325,
    "start_time": "2024-09-12T21:41:39.819Z"
   },
   {
    "duration": 755,
    "start_time": "2024-09-13T11:59:56.947Z"
   },
   {
    "duration": 2264,
    "start_time": "2024-09-13T12:00:29.800Z"
   },
   {
    "duration": 1919,
    "start_time": "2024-09-13T12:05:41.380Z"
   },
   {
    "duration": 497,
    "start_time": "2024-09-13T15:44:59.354Z"
   },
   {
    "duration": 124,
    "start_time": "2024-09-13T15:46:00.175Z"
   },
   {
    "duration": 8,
    "start_time": "2024-09-13T15:51:39.054Z"
   },
   {
    "duration": 7,
    "start_time": "2024-09-13T15:52:16.486Z"
   },
   {
    "duration": 594,
    "start_time": "2024-09-13T15:56:30.738Z"
   },
   {
    "duration": 72,
    "start_time": "2024-09-13T16:02:38.135Z"
   },
   {
    "duration": 543,
    "start_time": "2024-09-13T16:51:44.514Z"
   },
   {
    "duration": 12,
    "start_time": "2024-09-13T16:51:45.059Z"
   },
   {
    "duration": 117,
    "start_time": "2024-09-13T16:51:45.072Z"
   },
   {
    "duration": 1783,
    "start_time": "2024-09-13T16:51:45.190Z"
   },
   {
    "duration": 8,
    "start_time": "2024-09-13T16:51:46.975Z"
   },
   {
    "duration": 22,
    "start_time": "2024-09-13T16:51:46.984Z"
   },
   {
    "duration": 10,
    "start_time": "2024-09-13T16:51:47.007Z"
   },
   {
    "duration": 11,
    "start_time": "2024-09-13T16:51:47.018Z"
   },
   {
    "duration": 24,
    "start_time": "2024-09-13T16:51:47.030Z"
   },
   {
    "duration": 45,
    "start_time": "2024-09-13T16:51:47.057Z"
   },
   {
    "duration": 314,
    "start_time": "2024-09-13T16:51:47.104Z"
   },
   {
    "duration": 7,
    "start_time": "2024-09-13T16:51:47.419Z"
   },
   {
    "duration": 15,
    "start_time": "2024-09-13T16:51:47.427Z"
   },
   {
    "duration": 6,
    "start_time": "2024-09-13T16:51:47.443Z"
   },
   {
    "duration": 11,
    "start_time": "2024-09-13T16:51:47.450Z"
   },
   {
    "duration": 301,
    "start_time": "2024-09-13T16:51:47.462Z"
   },
   {
    "duration": 7,
    "start_time": "2024-09-13T16:51:47.764Z"
   },
   {
    "duration": 11,
    "start_time": "2024-09-13T16:51:47.773Z"
   },
   {
    "duration": 222,
    "start_time": "2024-09-13T16:51:47.785Z"
   },
   {
    "duration": 137,
    "start_time": "2024-09-13T16:51:48.008Z"
   },
   {
    "duration": 191,
    "start_time": "2024-09-13T16:51:48.146Z"
   },
   {
    "duration": 198,
    "start_time": "2024-09-13T16:51:48.338Z"
   },
   {
    "duration": 120,
    "start_time": "2024-09-13T16:51:48.538Z"
   },
   {
    "duration": 134,
    "start_time": "2024-09-13T16:51:48.659Z"
   },
   {
    "duration": 118,
    "start_time": "2024-09-13T16:51:48.795Z"
   },
   {
    "duration": 122,
    "start_time": "2024-09-13T16:51:48.914Z"
   },
   {
    "duration": 140,
    "start_time": "2024-09-13T16:51:49.038Z"
   },
   {
    "duration": 151,
    "start_time": "2024-09-13T16:51:49.181Z"
   },
   {
    "duration": 127,
    "start_time": "2024-09-13T16:51:49.334Z"
   },
   {
    "duration": 4,
    "start_time": "2024-09-13T16:51:49.462Z"
   },
   {
    "duration": 6,
    "start_time": "2024-09-13T16:51:49.467Z"
   },
   {
    "duration": 17,
    "start_time": "2024-09-13T16:51:49.474Z"
   },
   {
    "duration": 31,
    "start_time": "2024-09-13T16:51:49.492Z"
   },
   {
    "duration": 5,
    "start_time": "2024-09-13T16:51:49.524Z"
   },
   {
    "duration": 11,
    "start_time": "2024-09-13T16:51:49.530Z"
   },
   {
    "duration": 127,
    "start_time": "2024-09-13T16:51:49.543Z"
   },
   {
    "duration": 354,
    "start_time": "2024-09-13T16:51:49.672Z"
   },
   {
    "duration": 126,
    "start_time": "2024-09-13T16:52:11.675Z"
   },
   {
    "duration": 146,
    "start_time": "2024-09-13T16:52:28.014Z"
   },
   {
    "duration": 123,
    "start_time": "2024-09-13T16:53:14.679Z"
   },
   {
    "duration": 7,
    "start_time": "2024-09-13T16:53:30.948Z"
   },
   {
    "duration": 131,
    "start_time": "2024-09-13T16:53:36.248Z"
   },
   {
    "duration": 114,
    "start_time": "2024-09-13T16:53:44.283Z"
   },
   {
    "duration": 8,
    "start_time": "2024-09-13T16:53:50.759Z"
   },
   {
    "duration": 8,
    "start_time": "2024-09-13T16:55:56.513Z"
   },
   {
    "duration": 168,
    "start_time": "2024-09-13T16:56:26.107Z"
   },
   {
    "duration": 103,
    "start_time": "2024-09-13T16:57:10.896Z"
   },
   {
    "duration": 112,
    "start_time": "2024-09-13T16:57:14.702Z"
   },
   {
    "duration": 98,
    "start_time": "2024-09-13T16:57:18.843Z"
   },
   {
    "duration": 163,
    "start_time": "2024-09-13T16:57:23.566Z"
   },
   {
    "duration": 107,
    "start_time": "2024-09-13T16:57:30.391Z"
   },
   {
    "duration": 99,
    "start_time": "2024-09-13T16:57:33.757Z"
   },
   {
    "duration": 96,
    "start_time": "2024-09-13T16:57:36.393Z"
   },
   {
    "duration": 98,
    "start_time": "2024-09-13T16:57:39.652Z"
   },
   {
    "duration": 215,
    "start_time": "2024-09-13T16:57:43.974Z"
   },
   {
    "duration": 127,
    "start_time": "2024-09-13T16:57:49.615Z"
   },
   {
    "duration": 124,
    "start_time": "2024-09-13T16:58:05.825Z"
   },
   {
    "duration": 7,
    "start_time": "2024-09-13T16:58:31.800Z"
   },
   {
    "duration": 126,
    "start_time": "2024-09-13T16:58:44.299Z"
   },
   {
    "duration": 134,
    "start_time": "2024-09-13T16:58:55.630Z"
   },
   {
    "duration": 7,
    "start_time": "2024-09-13T16:59:14.033Z"
   },
   {
    "duration": 117,
    "start_time": "2024-09-13T16:59:42.237Z"
   },
   {
    "duration": 130,
    "start_time": "2024-09-13T16:59:52.429Z"
   },
   {
    "duration": 128,
    "start_time": "2024-09-13T17:00:23.805Z"
   },
   {
    "duration": 115,
    "start_time": "2024-09-13T17:03:17.770Z"
   },
   {
    "duration": 8,
    "start_time": "2024-09-13T17:04:39.180Z"
   },
   {
    "duration": 227,
    "start_time": "2024-09-13T17:04:53.907Z"
   },
   {
    "duration": 144,
    "start_time": "2024-09-13T17:05:05.393Z"
   },
   {
    "duration": 7,
    "start_time": "2024-09-13T17:05:20.721Z"
   },
   {
    "duration": 142,
    "start_time": "2024-09-13T17:05:34.372Z"
   },
   {
    "duration": 146,
    "start_time": "2024-09-13T17:06:18.407Z"
   },
   {
    "duration": 135,
    "start_time": "2024-09-13T17:06:25.792Z"
   },
   {
    "duration": 139,
    "start_time": "2024-09-13T17:06:36.874Z"
   },
   {
    "duration": 146,
    "start_time": "2024-09-13T17:06:43.005Z"
   },
   {
    "duration": 11,
    "start_time": "2024-09-13T17:07:22.375Z"
   },
   {
    "duration": 139,
    "start_time": "2024-09-13T17:07:27.289Z"
   },
   {
    "duration": 8,
    "start_time": "2024-09-13T17:07:54.887Z"
   },
   {
    "duration": 124,
    "start_time": "2024-09-13T17:10:25.522Z"
   },
   {
    "duration": 119,
    "start_time": "2024-09-13T17:10:34.080Z"
   },
   {
    "duration": 121,
    "start_time": "2024-09-13T17:10:46.872Z"
   },
   {
    "duration": 7,
    "start_time": "2024-09-13T17:11:53.577Z"
   },
   {
    "duration": 8,
    "start_time": "2024-09-13T17:12:04.679Z"
   },
   {
    "duration": 7,
    "start_time": "2024-09-13T17:13:12.761Z"
   },
   {
    "duration": 7,
    "start_time": "2024-09-13T17:14:17.678Z"
   },
   {
    "duration": 8,
    "start_time": "2024-09-13T17:16:59.680Z"
   },
   {
    "duration": 9,
    "start_time": "2024-09-13T17:17:19.641Z"
   },
   {
    "duration": 6,
    "start_time": "2024-09-13T17:17:37.400Z"
   },
   {
    "duration": 11,
    "start_time": "2024-09-13T17:17:43.017Z"
   },
   {
    "duration": 221,
    "start_time": "2024-09-13T17:18:20.414Z"
   },
   {
    "duration": 160,
    "start_time": "2024-09-13T17:18:29.872Z"
   },
   {
    "duration": 6,
    "start_time": "2024-09-13T17:18:34.612Z"
   },
   {
    "duration": 120,
    "start_time": "2024-09-13T17:18:47.872Z"
   },
   {
    "duration": 117,
    "start_time": "2024-09-13T17:19:15.190Z"
   },
   {
    "duration": 121,
    "start_time": "2024-09-13T17:19:20.885Z"
   },
   {
    "duration": 111,
    "start_time": "2024-09-13T17:19:34.402Z"
   },
   {
    "duration": 123,
    "start_time": "2024-09-13T17:19:42.555Z"
   },
   {
    "duration": 116,
    "start_time": "2024-09-13T17:19:47.889Z"
   },
   {
    "duration": 110,
    "start_time": "2024-09-13T17:19:50.538Z"
   },
   {
    "duration": 114,
    "start_time": "2024-09-13T17:19:54.843Z"
   },
   {
    "duration": 109,
    "start_time": "2024-09-13T17:19:58.073Z"
   },
   {
    "duration": 119,
    "start_time": "2024-09-13T17:20:06.309Z"
   },
   {
    "duration": 114,
    "start_time": "2024-09-13T17:20:09.311Z"
   },
   {
    "duration": 128,
    "start_time": "2024-09-13T17:20:12.545Z"
   },
   {
    "duration": 116,
    "start_time": "2024-09-13T17:20:23.639Z"
   },
   {
    "duration": 127,
    "start_time": "2024-09-13T17:20:39.133Z"
   },
   {
    "duration": 128,
    "start_time": "2024-09-13T17:21:25.678Z"
   },
   {
    "duration": 246,
    "start_time": "2024-09-13T17:21:46.930Z"
   },
   {
    "duration": 156,
    "start_time": "2024-09-13T17:21:58.800Z"
   },
   {
    "duration": 131,
    "start_time": "2024-09-13T17:22:28.620Z"
   },
   {
    "duration": 117,
    "start_time": "2024-09-13T17:25:33.008Z"
   },
   {
    "duration": 124,
    "start_time": "2024-09-13T17:28:55.874Z"
   },
   {
    "duration": 141,
    "start_time": "2024-09-13T17:29:12.555Z"
   },
   {
    "duration": 120,
    "start_time": "2024-09-13T17:29:25.254Z"
   },
   {
    "duration": 134,
    "start_time": "2024-09-13T17:29:41.176Z"
   },
   {
    "duration": 145,
    "start_time": "2024-09-13T17:29:59.196Z"
   },
   {
    "duration": 126,
    "start_time": "2024-09-13T17:30:17.812Z"
   },
   {
    "duration": 123,
    "start_time": "2024-09-13T17:30:36.270Z"
   },
   {
    "duration": 123,
    "start_time": "2024-09-13T17:30:43.159Z"
   },
   {
    "duration": 118,
    "start_time": "2024-09-13T17:30:46.982Z"
   },
   {
    "duration": 7,
    "start_time": "2024-09-13T17:32:18.112Z"
   },
   {
    "duration": 137,
    "start_time": "2024-09-13T17:33:03.909Z"
   },
   {
    "duration": 140,
    "start_time": "2024-09-13T17:35:26.993Z"
   },
   {
    "duration": 128,
    "start_time": "2024-09-13T17:35:30.513Z"
   },
   {
    "duration": 137,
    "start_time": "2024-09-13T17:36:06.857Z"
   },
   {
    "duration": 164,
    "start_time": "2024-09-13T17:42:26.713Z"
   },
   {
    "duration": 333,
    "start_time": "2024-09-13T17:42:37.753Z"
   },
   {
    "duration": 8,
    "start_time": "2024-09-13T17:43:15.376Z"
   },
   {
    "duration": 5,
    "start_time": "2024-09-13T17:43:20.686Z"
   },
   {
    "duration": 167,
    "start_time": "2024-09-13T17:43:36.487Z"
   },
   {
    "duration": 186,
    "start_time": "2024-09-13T17:43:47.241Z"
   },
   {
    "duration": 117,
    "start_time": "2024-09-13T17:47:40.791Z"
   },
   {
    "duration": 118,
    "start_time": "2024-09-13T18:00:48.022Z"
   },
   {
    "duration": 123,
    "start_time": "2024-09-13T18:01:13.473Z"
   },
   {
    "duration": 138,
    "start_time": "2024-09-13T18:01:40.428Z"
   },
   {
    "duration": 125,
    "start_time": "2024-09-13T18:01:47.133Z"
   },
   {
    "duration": 117,
    "start_time": "2024-09-13T18:02:42.147Z"
   },
   {
    "duration": 7,
    "start_time": "2024-09-13T18:03:17.067Z"
   },
   {
    "duration": 135,
    "start_time": "2024-09-13T18:03:31.415Z"
   },
   {
    "duration": 143,
    "start_time": "2024-09-13T18:03:47.781Z"
   },
   {
    "duration": 7,
    "start_time": "2024-09-13T18:24:00.982Z"
   },
   {
    "duration": 7,
    "start_time": "2024-09-13T18:24:09.454Z"
   },
   {
    "duration": 118,
    "start_time": "2024-09-13T18:24:27.083Z"
   },
   {
    "duration": 118,
    "start_time": "2024-09-13T18:24:36.240Z"
   },
   {
    "duration": 116,
    "start_time": "2024-09-13T18:24:39.901Z"
   },
   {
    "duration": 110,
    "start_time": "2024-09-13T18:24:46.725Z"
   },
   {
    "duration": 119,
    "start_time": "2024-09-13T18:24:55.148Z"
   },
   {
    "duration": 7,
    "start_time": "2024-09-13T18:27:16.507Z"
   },
   {
    "duration": 370,
    "start_time": "2024-09-13T18:28:33.561Z"
   },
   {
    "duration": 174,
    "start_time": "2024-09-13T18:30:09.601Z"
   },
   {
    "duration": 176,
    "start_time": "2024-09-13T18:30:29.506Z"
   },
   {
    "duration": 175,
    "start_time": "2024-09-13T18:30:41.755Z"
   },
   {
    "duration": 185,
    "start_time": "2024-09-13T18:30:56.014Z"
   },
   {
    "duration": 7,
    "start_time": "2024-09-13T18:31:11.613Z"
   },
   {
    "duration": 189,
    "start_time": "2024-09-13T18:32:32.276Z"
   },
   {
    "duration": 178,
    "start_time": "2024-09-13T18:32:37.810Z"
   },
   {
    "duration": 176,
    "start_time": "2024-09-13T18:32:41.904Z"
   },
   {
    "duration": 114,
    "start_time": "2024-09-13T18:32:47.275Z"
   },
   {
    "duration": 123,
    "start_time": "2024-09-13T18:32:53.585Z"
   },
   {
    "duration": 143,
    "start_time": "2024-09-13T18:32:57.294Z"
   },
   {
    "duration": 140,
    "start_time": "2024-09-13T18:33:02.479Z"
   },
   {
    "duration": 113,
    "start_time": "2024-09-13T18:34:14.855Z"
   },
   {
    "duration": 134,
    "start_time": "2024-09-13T18:34:24.720Z"
   },
   {
    "duration": 285,
    "start_time": "2024-09-13T18:34:33.379Z"
   },
   {
    "duration": 132,
    "start_time": "2024-09-13T18:34:47.581Z"
   },
   {
    "duration": 6,
    "start_time": "2024-09-13T18:34:54.301Z"
   },
   {
    "duration": 120,
    "start_time": "2024-09-13T18:35:10.222Z"
   },
   {
    "duration": 119,
    "start_time": "2024-09-13T18:35:20.351Z"
   },
   {
    "duration": 125,
    "start_time": "2024-09-13T18:35:28.645Z"
   },
   {
    "duration": 134,
    "start_time": "2024-09-13T18:36:16.102Z"
   },
   {
    "duration": 130,
    "start_time": "2024-09-13T18:36:21.886Z"
   },
   {
    "duration": 194,
    "start_time": "2024-09-13T18:37:29.208Z"
   },
   {
    "duration": 178,
    "start_time": "2024-09-13T18:40:15.575Z"
   },
   {
    "duration": 181,
    "start_time": "2024-09-13T18:41:13.298Z"
   },
   {
    "duration": 167,
    "start_time": "2024-09-13T18:41:20.645Z"
   },
   {
    "duration": 185,
    "start_time": "2024-09-13T18:41:27.220Z"
   },
   {
    "duration": 360,
    "start_time": "2024-09-13T18:41:32.795Z"
   },
   {
    "duration": 836,
    "start_time": "2024-09-13T18:41:37.773Z"
   },
   {
    "duration": 193,
    "start_time": "2024-09-13T18:41:43.316Z"
   },
   {
    "duration": 150,
    "start_time": "2024-09-13T18:41:47.251Z"
   },
   {
    "duration": 176,
    "start_time": "2024-09-13T18:41:50.521Z"
   },
   {
    "duration": 7,
    "start_time": "2024-09-13T18:44:36.846Z"
   },
   {
    "duration": 127,
    "start_time": "2024-09-13T18:45:07.311Z"
   },
   {
    "duration": 115,
    "start_time": "2024-09-13T18:47:37.571Z"
   },
   {
    "duration": 126,
    "start_time": "2024-09-13T18:47:56.037Z"
   },
   {
    "duration": 122,
    "start_time": "2024-09-13T18:49:08.272Z"
   },
   {
    "duration": 6,
    "start_time": "2024-09-13T18:49:59.240Z"
   },
   {
    "duration": 10,
    "start_time": "2024-09-13T18:51:28.419Z"
   },
   {
    "duration": 7,
    "start_time": "2024-09-13T18:51:33.360Z"
   },
   {
    "duration": 526,
    "start_time": "2024-09-13T18:52:12.569Z"
   },
   {
    "duration": 14,
    "start_time": "2024-09-13T18:52:13.096Z"
   },
   {
    "duration": 5,
    "start_time": "2024-09-13T18:52:13.111Z"
   },
   {
    "duration": 1792,
    "start_time": "2024-09-13T18:52:13.117Z"
   },
   {
    "duration": 8,
    "start_time": "2024-09-13T18:52:14.911Z"
   },
   {
    "duration": 17,
    "start_time": "2024-09-13T18:52:14.920Z"
   },
   {
    "duration": 15,
    "start_time": "2024-09-13T18:52:14.939Z"
   },
   {
    "duration": 20,
    "start_time": "2024-09-13T18:52:14.956Z"
   },
   {
    "duration": 11,
    "start_time": "2024-09-13T18:52:14.977Z"
   },
   {
    "duration": 39,
    "start_time": "2024-09-13T18:52:14.989Z"
   },
   {
    "duration": 380,
    "start_time": "2024-09-13T18:52:15.029Z"
   },
   {
    "duration": 7,
    "start_time": "2024-09-13T18:52:15.411Z"
   },
   {
    "duration": 6,
    "start_time": "2024-09-13T18:52:15.419Z"
   },
   {
    "duration": 10,
    "start_time": "2024-09-13T18:52:15.427Z"
   },
   {
    "duration": 69,
    "start_time": "2024-09-13T18:52:15.438Z"
   },
   {
    "duration": 615,
    "start_time": "2024-09-13T18:52:15.508Z"
   },
   {
    "duration": 6,
    "start_time": "2024-09-13T18:52:16.124Z"
   },
   {
    "duration": 276,
    "start_time": "2024-09-13T18:52:16.131Z"
   },
   {
    "duration": 169,
    "start_time": "2024-09-13T18:52:16.409Z"
   },
   {
    "duration": 137,
    "start_time": "2024-09-13T18:52:16.579Z"
   },
   {
    "duration": 250,
    "start_time": "2024-09-13T18:52:16.717Z"
   },
   {
    "duration": 139,
    "start_time": "2024-09-13T18:52:16.969Z"
   },
   {
    "duration": 8,
    "start_time": "2024-09-13T18:52:17.110Z"
   },
   {
    "duration": 130,
    "start_time": "2024-09-13T18:52:17.119Z"
   },
   {
    "duration": 139,
    "start_time": "2024-09-13T18:52:17.251Z"
   },
   {
    "duration": 138,
    "start_time": "2024-09-13T18:52:17.391Z"
   },
   {
    "duration": 118,
    "start_time": "2024-09-13T18:52:17.531Z"
   },
   {
    "duration": 126,
    "start_time": "2024-09-13T18:52:17.651Z"
   },
   {
    "duration": 3,
    "start_time": "2024-09-13T18:52:17.779Z"
   },
   {
    "duration": 61,
    "start_time": "2024-09-13T18:52:17.784Z"
   },
   {
    "duration": 21,
    "start_time": "2024-09-13T18:52:17.847Z"
   },
   {
    "duration": 20,
    "start_time": "2024-09-13T18:52:17.870Z"
   },
   {
    "duration": 5,
    "start_time": "2024-09-13T18:52:17.891Z"
   },
   {
    "duration": 12,
    "start_time": "2024-09-13T18:52:17.897Z"
   },
   {
    "duration": 111,
    "start_time": "2024-09-13T18:52:17.910Z"
   },
   {
    "duration": 345,
    "start_time": "2024-09-13T18:52:18.022Z"
   },
   {
    "duration": 130,
    "start_time": "2024-09-13T18:52:35.556Z"
   },
   {
    "duration": 179,
    "start_time": "2024-09-13T18:52:42.626Z"
   },
   {
    "duration": 7,
    "start_time": "2024-09-13T18:52:57.006Z"
   },
   {
    "duration": 7,
    "start_time": "2024-09-13T18:53:05.628Z"
   },
   {
    "duration": 64,
    "start_time": "2024-09-13T18:58:57.298Z"
   },
   {
    "duration": 6,
    "start_time": "2024-09-13T18:59:33.949Z"
   },
   {
    "duration": 7,
    "start_time": "2024-09-13T18:59:45.174Z"
   },
   {
    "duration": 7,
    "start_time": "2024-09-13T19:00:09.418Z"
   },
   {
    "duration": 7,
    "start_time": "2024-09-13T19:00:18.601Z"
   },
   {
    "duration": 5,
    "start_time": "2024-09-13T19:00:23.984Z"
   },
   {
    "duration": 9,
    "start_time": "2024-09-13T19:00:43.258Z"
   },
   {
    "duration": 5,
    "start_time": "2024-09-13T19:01:28.833Z"
   },
   {
    "duration": 4,
    "start_time": "2024-09-13T19:01:40.424Z"
   },
   {
    "duration": 132,
    "start_time": "2024-09-13T19:03:31.923Z"
   },
   {
    "duration": 18,
    "start_time": "2024-09-13T19:03:59.874Z"
   },
   {
    "duration": 11,
    "start_time": "2024-09-13T19:04:13.441Z"
   },
   {
    "duration": 10,
    "start_time": "2024-09-13T19:04:20.343Z"
   },
   {
    "duration": 12,
    "start_time": "2024-09-13T19:04:30.054Z"
   },
   {
    "duration": 11,
    "start_time": "2024-09-13T19:06:02.020Z"
   },
   {
    "duration": 11,
    "start_time": "2024-09-13T19:06:47.734Z"
   },
   {
    "duration": 119,
    "start_time": "2024-09-13T19:07:38.662Z"
   },
   {
    "duration": 1887,
    "start_time": "2024-09-13T19:08:17.061Z"
   },
   {
    "duration": 1917,
    "start_time": "2024-09-13T19:08:47.162Z"
   },
   {
    "duration": 1891,
    "start_time": "2024-09-13T19:09:27.454Z"
   },
   {
    "duration": 516,
    "start_time": "2024-09-13T19:09:46.695Z"
   },
   {
    "duration": 17,
    "start_time": "2024-09-13T19:09:47.213Z"
   },
   {
    "duration": 17,
    "start_time": "2024-09-13T19:09:47.232Z"
   },
   {
    "duration": 1751,
    "start_time": "2024-09-13T19:09:47.250Z"
   },
   {
    "duration": 8,
    "start_time": "2024-09-13T19:09:49.002Z"
   },
   {
    "duration": 8,
    "start_time": "2024-09-13T19:09:49.011Z"
   },
   {
    "duration": 13,
    "start_time": "2024-09-13T19:09:49.020Z"
   },
   {
    "duration": 10,
    "start_time": "2024-09-13T19:09:49.034Z"
   },
   {
    "duration": 7,
    "start_time": "2024-09-13T19:09:49.045Z"
   },
   {
    "duration": 11,
    "start_time": "2024-09-13T19:09:49.055Z"
   },
   {
    "duration": 204,
    "start_time": "2024-09-13T19:09:49.067Z"
   },
   {
    "duration": 8,
    "start_time": "2024-09-13T19:09:49.272Z"
   },
   {
    "duration": 12,
    "start_time": "2024-09-13T19:09:49.281Z"
   },
   {
    "duration": 13,
    "start_time": "2024-09-13T19:09:49.294Z"
   },
   {
    "duration": 22,
    "start_time": "2024-09-13T19:09:49.309Z"
   },
   {
    "duration": 311,
    "start_time": "2024-09-13T19:09:49.332Z"
   },
   {
    "duration": 6,
    "start_time": "2024-09-13T19:09:49.645Z"
   },
   {
    "duration": 147,
    "start_time": "2024-09-13T19:09:49.652Z"
   },
   {
    "duration": 149,
    "start_time": "2024-09-13T19:09:49.800Z"
   },
   {
    "duration": 139,
    "start_time": "2024-09-13T19:09:49.950Z"
   },
   {
    "duration": 254,
    "start_time": "2024-09-13T19:09:50.091Z"
   },
   {
    "duration": 131,
    "start_time": "2024-09-13T19:09:50.346Z"
   },
   {
    "duration": 1872,
    "start_time": "2024-09-13T19:09:50.478Z"
   },
   {
    "duration": 125,
    "start_time": "2024-09-13T19:09:52.351Z"
   },
   {
    "duration": 133,
    "start_time": "2024-09-13T19:09:52.477Z"
   },
   {
    "duration": 144,
    "start_time": "2024-09-13T19:09:52.615Z"
   },
   {
    "duration": 188,
    "start_time": "2024-09-13T19:09:52.761Z"
   },
   {
    "duration": 132,
    "start_time": "2024-09-13T19:09:52.952Z"
   },
   {
    "duration": 4,
    "start_time": "2024-09-13T19:09:53.086Z"
   },
   {
    "duration": 26,
    "start_time": "2024-09-13T19:09:53.091Z"
   },
   {
    "duration": 19,
    "start_time": "2024-09-13T19:09:53.118Z"
   },
   {
    "duration": 45,
    "start_time": "2024-09-13T19:09:53.138Z"
   },
   {
    "duration": 11,
    "start_time": "2024-09-13T19:09:53.184Z"
   },
   {
    "duration": 36,
    "start_time": "2024-09-13T19:09:53.197Z"
   },
   {
    "duration": 110,
    "start_time": "2024-09-13T19:09:53.234Z"
   },
   {
    "duration": 392,
    "start_time": "2024-09-13T19:09:53.346Z"
   },
   {
    "duration": 1993,
    "start_time": "2024-09-13T19:10:05.214Z"
   },
   {
    "duration": 2006,
    "start_time": "2024-09-13T19:12:21.296Z"
   },
   {
    "duration": 165,
    "start_time": "2024-09-13T19:12:32.274Z"
   },
   {
    "duration": 126,
    "start_time": "2024-09-13T19:12:40.950Z"
   },
   {
    "duration": 126,
    "start_time": "2024-09-13T19:15:30.711Z"
   },
   {
    "duration": 117,
    "start_time": "2024-09-13T19:17:08.555Z"
   },
   {
    "duration": 7,
    "start_time": "2024-09-13T19:20:02.340Z"
   },
   {
    "duration": 136,
    "start_time": "2024-09-13T19:20:59.699Z"
   },
   {
    "duration": 114,
    "start_time": "2024-09-13T19:21:20.936Z"
   },
   {
    "duration": 123,
    "start_time": "2024-09-13T19:22:08.190Z"
   },
   {
    "duration": 121,
    "start_time": "2024-09-13T19:22:25.067Z"
   },
   {
    "duration": 120,
    "start_time": "2024-09-13T19:22:38.016Z"
   },
   {
    "duration": 130,
    "start_time": "2024-09-13T19:22:43.919Z"
   },
   {
    "duration": 113,
    "start_time": "2024-09-13T19:22:48.563Z"
   },
   {
    "duration": 136,
    "start_time": "2024-09-13T19:22:53.213Z"
   },
   {
    "duration": 116,
    "start_time": "2024-09-13T19:22:59.278Z"
   },
   {
    "duration": 67,
    "start_time": "2024-09-13T19:24:25.911Z"
   },
   {
    "duration": 3,
    "start_time": "2024-09-13T19:24:31.378Z"
   },
   {
    "duration": 119,
    "start_time": "2024-09-13T19:24:46.262Z"
   },
   {
    "duration": 5,
    "start_time": "2024-09-13T19:25:03.490Z"
   },
   {
    "duration": 7,
    "start_time": "2024-09-13T19:25:28.286Z"
   },
   {
    "duration": 68,
    "start_time": "2024-09-13T19:25:37.549Z"
   },
   {
    "duration": 5,
    "start_time": "2024-09-13T19:25:43.449Z"
   },
   {
    "duration": 946,
    "start_time": "2024-09-13T19:26:04.749Z"
   },
   {
    "duration": 7,
    "start_time": "2024-09-13T19:26:19.605Z"
   },
   {
    "duration": 7,
    "start_time": "2024-09-13T19:26:40.737Z"
   },
   {
    "duration": 7,
    "start_time": "2024-09-13T19:27:10.568Z"
   },
   {
    "duration": 116,
    "start_time": "2024-09-13T19:27:31.330Z"
   },
   {
    "duration": 67,
    "start_time": "2024-09-13T19:32:24.797Z"
   },
   {
    "duration": 6,
    "start_time": "2024-09-13T19:32:30.171Z"
   },
   {
    "duration": 14,
    "start_time": "2024-09-13T19:33:16.671Z"
   },
   {
    "duration": 117,
    "start_time": "2024-09-13T19:34:11.633Z"
   },
   {
    "duration": 137,
    "start_time": "2024-09-13T19:34:27.415Z"
   },
   {
    "duration": 128,
    "start_time": "2024-09-13T19:34:30.550Z"
   },
   {
    "duration": 292,
    "start_time": "2024-09-13T19:34:44.528Z"
   },
   {
    "duration": 7,
    "start_time": "2024-09-13T19:36:47.881Z"
   },
   {
    "duration": 162,
    "start_time": "2024-09-13T19:37:31.559Z"
   },
   {
    "duration": 8,
    "start_time": "2024-09-13T19:44:07.099Z"
   },
   {
    "duration": 142,
    "start_time": "2024-09-13T19:44:44.941Z"
   },
   {
    "duration": 133,
    "start_time": "2024-09-13T19:44:57.158Z"
   },
   {
    "duration": 120,
    "start_time": "2024-09-13T19:45:00.561Z"
   },
   {
    "duration": 117,
    "start_time": "2024-09-13T19:49:28.714Z"
   },
   {
    "duration": 8,
    "start_time": "2024-09-13T19:50:01.283Z"
   },
   {
    "duration": 130,
    "start_time": "2024-09-13T19:50:29.560Z"
   },
   {
    "duration": 123,
    "start_time": "2024-09-13T19:51:21.399Z"
   },
   {
    "duration": 5,
    "start_time": "2024-09-13T19:51:47.237Z"
   },
   {
    "duration": 4,
    "start_time": "2024-09-13T19:51:49.124Z"
   },
   {
    "duration": 4,
    "start_time": "2024-09-13T19:52:34.113Z"
   },
   {
    "duration": 5,
    "start_time": "2024-09-13T19:52:36.492Z"
   },
   {
    "duration": 4,
    "start_time": "2024-09-13T19:52:56.200Z"
   },
   {
    "duration": 4,
    "start_time": "2024-09-13T19:53:01.856Z"
   },
   {
    "duration": 5,
    "start_time": "2024-09-13T19:53:17.495Z"
   },
   {
    "duration": 11,
    "start_time": "2024-09-13T20:22:15.544Z"
   },
   {
    "duration": 8,
    "start_time": "2024-09-13T20:22:18.689Z"
   },
   {
    "duration": 10,
    "start_time": "2024-09-13T20:22:39.917Z"
   },
   {
    "duration": 13,
    "start_time": "2024-09-13T20:23:43.389Z"
   },
   {
    "duration": 19,
    "start_time": "2024-09-13T20:23:43.591Z"
   },
   {
    "duration": 13,
    "start_time": "2024-09-13T20:24:26.603Z"
   },
   {
    "duration": 17,
    "start_time": "2024-09-13T20:24:37.869Z"
   },
   {
    "duration": 4,
    "start_time": "2024-09-13T20:27:24.196Z"
   },
   {
    "duration": 6,
    "start_time": "2024-09-13T20:27:35.423Z"
   },
   {
    "duration": 3,
    "start_time": "2024-09-13T20:27:39.676Z"
   },
   {
    "duration": 10,
    "start_time": "2024-09-13T20:29:02.068Z"
   },
   {
    "duration": 10,
    "start_time": "2024-09-13T20:29:37.783Z"
   },
   {
    "duration": 20,
    "start_time": "2024-09-13T20:30:19.429Z"
   },
   {
    "duration": 15,
    "start_time": "2024-09-13T20:30:26.192Z"
   },
   {
    "duration": 503,
    "start_time": "2024-09-13T20:30:50.770Z"
   },
   {
    "duration": 14,
    "start_time": "2024-09-13T20:30:51.274Z"
   },
   {
    "duration": 19,
    "start_time": "2024-09-13T20:30:51.289Z"
   },
   {
    "duration": 1781,
    "start_time": "2024-09-13T20:30:51.309Z"
   },
   {
    "duration": 9,
    "start_time": "2024-09-13T20:30:53.092Z"
   },
   {
    "duration": 43,
    "start_time": "2024-09-13T20:30:53.103Z"
   },
   {
    "duration": 18,
    "start_time": "2024-09-13T20:30:53.148Z"
   },
   {
    "duration": 27,
    "start_time": "2024-09-13T20:30:53.168Z"
   },
   {
    "duration": 21,
    "start_time": "2024-09-13T20:30:53.197Z"
   },
   {
    "duration": 9,
    "start_time": "2024-09-13T20:30:53.219Z"
   },
   {
    "duration": 235,
    "start_time": "2024-09-13T20:30:53.229Z"
   },
   {
    "duration": 8,
    "start_time": "2024-09-13T20:30:53.465Z"
   },
   {
    "duration": 20,
    "start_time": "2024-09-13T20:30:53.474Z"
   },
   {
    "duration": 15,
    "start_time": "2024-09-13T20:30:53.497Z"
   },
   {
    "duration": 22,
    "start_time": "2024-09-13T20:30:53.514Z"
   },
   {
    "duration": 303,
    "start_time": "2024-09-13T20:30:53.537Z"
   },
   {
    "duration": 6,
    "start_time": "2024-09-13T20:30:53.841Z"
   },
   {
    "duration": 139,
    "start_time": "2024-09-13T20:30:53.848Z"
   },
   {
    "duration": 147,
    "start_time": "2024-09-13T20:30:53.988Z"
   },
   {
    "duration": 133,
    "start_time": "2024-09-13T20:30:54.137Z"
   },
   {
    "duration": 240,
    "start_time": "2024-09-13T20:30:54.271Z"
   },
   {
    "duration": 136,
    "start_time": "2024-09-13T20:30:54.513Z"
   },
   {
    "duration": 141,
    "start_time": "2024-09-13T20:30:54.650Z"
   },
   {
    "duration": 120,
    "start_time": "2024-09-13T20:30:54.793Z"
   },
   {
    "duration": 158,
    "start_time": "2024-09-13T20:30:54.915Z"
   },
   {
    "duration": 165,
    "start_time": "2024-09-13T20:30:55.074Z"
   },
   {
    "duration": 131,
    "start_time": "2024-09-13T20:30:55.241Z"
   },
   {
    "duration": 145,
    "start_time": "2024-09-13T20:30:55.373Z"
   },
   {
    "duration": 4,
    "start_time": "2024-09-13T20:30:55.519Z"
   },
   {
    "duration": 5,
    "start_time": "2024-09-13T20:30:55.525Z"
   },
   {
    "duration": 28,
    "start_time": "2024-09-13T20:30:55.531Z"
   },
   {
    "duration": 42,
    "start_time": "2024-09-13T20:30:55.565Z"
   },
   {
    "duration": 18,
    "start_time": "2024-09-13T20:30:55.608Z"
   },
   {
    "duration": 5,
    "start_time": "2024-09-13T20:30:55.628Z"
   },
   {
    "duration": 11,
    "start_time": "2024-09-13T20:30:55.634Z"
   },
   {
    "duration": 78,
    "start_time": "2024-09-13T20:30:55.647Z"
   },
   {
    "duration": 0,
    "start_time": "2024-09-13T20:30:55.726Z"
   },
   {
    "duration": 31,
    "start_time": "2024-09-13T20:31:13.199Z"
   },
   {
    "duration": 28,
    "start_time": "2024-09-13T20:34:22.893Z"
   },
   {
    "duration": 36,
    "start_time": "2024-09-13T20:35:51.327Z"
   },
   {
    "duration": 24,
    "start_time": "2024-09-13T20:36:11.198Z"
   },
   {
    "duration": 516,
    "start_time": "2024-09-13T20:36:37.413Z"
   },
   {
    "duration": 12,
    "start_time": "2024-09-13T20:36:37.931Z"
   },
   {
    "duration": 12,
    "start_time": "2024-09-13T20:36:37.944Z"
   },
   {
    "duration": 1728,
    "start_time": "2024-09-13T20:36:37.957Z"
   },
   {
    "duration": 7,
    "start_time": "2024-09-13T20:36:39.687Z"
   },
   {
    "duration": 18,
    "start_time": "2024-09-13T20:36:39.695Z"
   },
   {
    "duration": 24,
    "start_time": "2024-09-13T20:36:39.714Z"
   },
   {
    "duration": 9,
    "start_time": "2024-09-13T20:36:39.739Z"
   },
   {
    "duration": 10,
    "start_time": "2024-09-13T20:36:39.749Z"
   },
   {
    "duration": 11,
    "start_time": "2024-09-13T20:36:39.761Z"
   },
   {
    "duration": 198,
    "start_time": "2024-09-13T20:36:39.773Z"
   },
   {
    "duration": 7,
    "start_time": "2024-09-13T20:36:39.972Z"
   },
   {
    "duration": 11,
    "start_time": "2024-09-13T20:36:39.980Z"
   },
   {
    "duration": 19,
    "start_time": "2024-09-13T20:36:39.992Z"
   },
   {
    "duration": 5,
    "start_time": "2024-09-13T20:36:40.012Z"
   },
   {
    "duration": 317,
    "start_time": "2024-09-13T20:36:40.018Z"
   },
   {
    "duration": 7,
    "start_time": "2024-09-13T20:36:40.336Z"
   },
   {
    "duration": 141,
    "start_time": "2024-09-13T20:36:40.344Z"
   },
   {
    "duration": 145,
    "start_time": "2024-09-13T20:36:40.486Z"
   },
   {
    "duration": 136,
    "start_time": "2024-09-13T20:36:40.632Z"
   },
   {
    "duration": 237,
    "start_time": "2024-09-13T20:36:40.769Z"
   },
   {
    "duration": 139,
    "start_time": "2024-09-13T20:36:41.007Z"
   },
   {
    "duration": 139,
    "start_time": "2024-09-13T20:36:41.147Z"
   },
   {
    "duration": 122,
    "start_time": "2024-09-13T20:36:41.288Z"
   },
   {
    "duration": 140,
    "start_time": "2024-09-13T20:36:41.412Z"
   },
   {
    "duration": 129,
    "start_time": "2024-09-13T20:36:41.553Z"
   },
   {
    "duration": 128,
    "start_time": "2024-09-13T20:36:41.684Z"
   },
   {
    "duration": 134,
    "start_time": "2024-09-13T20:36:41.815Z"
   },
   {
    "duration": 5,
    "start_time": "2024-09-13T20:36:41.950Z"
   },
   {
    "duration": 14,
    "start_time": "2024-09-13T20:36:41.956Z"
   },
   {
    "duration": 21,
    "start_time": "2024-09-13T20:36:41.971Z"
   },
   {
    "duration": 31,
    "start_time": "2024-09-13T20:36:41.994Z"
   },
   {
    "duration": 21,
    "start_time": "2024-09-13T20:36:42.027Z"
   },
   {
    "duration": 5,
    "start_time": "2024-09-13T20:36:42.049Z"
   },
   {
    "duration": 24,
    "start_time": "2024-09-13T20:36:42.055Z"
   },
   {
    "duration": 87,
    "start_time": "2024-09-13T20:36:42.080Z"
   },
   {
    "duration": 0,
    "start_time": "2024-09-13T20:36:42.168Z"
   },
   {
    "duration": 22,
    "start_time": "2024-09-13T20:36:51.962Z"
   },
   {
    "duration": 3,
    "start_time": "2024-09-13T20:46:53.238Z"
   },
   {
    "duration": 15,
    "start_time": "2024-09-13T20:48:14.753Z"
   },
   {
    "duration": 661,
    "start_time": "2024-09-14T09:02:53.665Z"
   },
   {
    "duration": 16,
    "start_time": "2024-09-14T09:02:54.328Z"
   },
   {
    "duration": 7,
    "start_time": "2024-09-14T09:02:54.346Z"
   },
   {
    "duration": 2533,
    "start_time": "2024-09-14T09:02:54.355Z"
   },
   {
    "duration": 10,
    "start_time": "2024-09-14T09:02:56.891Z"
   },
   {
    "duration": 24,
    "start_time": "2024-09-14T09:02:56.903Z"
   },
   {
    "duration": 13,
    "start_time": "2024-09-14T09:02:56.928Z"
   },
   {
    "duration": 23,
    "start_time": "2024-09-14T09:02:56.943Z"
   },
   {
    "duration": 7,
    "start_time": "2024-09-14T09:02:56.968Z"
   },
   {
    "duration": 7,
    "start_time": "2024-09-14T09:02:56.977Z"
   },
   {
    "duration": 249,
    "start_time": "2024-09-14T09:02:56.985Z"
   },
   {
    "duration": 9,
    "start_time": "2024-09-14T09:02:57.236Z"
   },
   {
    "duration": 17,
    "start_time": "2024-09-14T09:02:57.256Z"
   },
   {
    "duration": 17,
    "start_time": "2024-09-14T09:02:57.276Z"
   },
   {
    "duration": 8,
    "start_time": "2024-09-14T09:02:57.294Z"
   },
   {
    "duration": 390,
    "start_time": "2024-09-14T09:02:57.303Z"
   },
   {
    "duration": 7,
    "start_time": "2024-09-14T09:02:57.695Z"
   },
   {
    "duration": 184,
    "start_time": "2024-09-14T09:02:57.704Z"
   },
   {
    "duration": 218,
    "start_time": "2024-09-14T09:02:57.890Z"
   },
   {
    "duration": 272,
    "start_time": "2024-09-14T09:02:58.110Z"
   },
   {
    "duration": 257,
    "start_time": "2024-09-14T09:02:58.384Z"
   },
   {
    "duration": 201,
    "start_time": "2024-09-14T09:02:58.643Z"
   },
   {
    "duration": 191,
    "start_time": "2024-09-14T09:02:58.846Z"
   },
   {
    "duration": 204,
    "start_time": "2024-09-14T09:02:59.039Z"
   },
   {
    "duration": 213,
    "start_time": "2024-09-14T09:02:59.244Z"
   },
   {
    "duration": 175,
    "start_time": "2024-09-14T09:02:59.459Z"
   },
   {
    "duration": 191,
    "start_time": "2024-09-14T09:02:59.636Z"
   },
   {
    "duration": 191,
    "start_time": "2024-09-14T09:02:59.829Z"
   },
   {
    "duration": 7,
    "start_time": "2024-09-14T09:03:00.022Z"
   },
   {
    "duration": 56,
    "start_time": "2024-09-14T09:03:00.031Z"
   },
   {
    "duration": 99,
    "start_time": "2024-09-14T09:03:00.089Z"
   },
   {
    "duration": 41,
    "start_time": "2024-09-14T09:03:00.190Z"
   },
   {
    "duration": 69,
    "start_time": "2024-09-14T09:03:00.233Z"
   },
   {
    "duration": 0,
    "start_time": "2024-09-14T09:03:00.304Z"
   },
   {
    "duration": 0,
    "start_time": "2024-09-14T09:03:00.305Z"
   },
   {
    "duration": 0,
    "start_time": "2024-09-14T09:03:00.306Z"
   },
   {
    "duration": 0,
    "start_time": "2024-09-14T09:03:00.307Z"
   },
   {
    "duration": 0,
    "start_time": "2024-09-14T09:03:00.309Z"
   },
   {
    "duration": 72,
    "start_time": "2024-09-14T09:08:17.221Z"
   },
   {
    "duration": 52,
    "start_time": "2024-09-14T09:08:30.140Z"
   },
   {
    "duration": 50,
    "start_time": "2024-09-14T09:08:40.051Z"
   },
   {
    "duration": 49,
    "start_time": "2024-09-14T09:08:47.348Z"
   },
   {
    "duration": 50,
    "start_time": "2024-09-14T09:08:59.373Z"
   },
   {
    "duration": 60,
    "start_time": "2024-09-14T09:16:36.645Z"
   },
   {
    "duration": 1145,
    "start_time": "2024-09-14T09:21:17.268Z"
   },
   {
    "duration": 240,
    "start_time": "2024-09-14T09:27:59.791Z"
   },
   {
    "duration": 328,
    "start_time": "2024-09-14T09:28:33.723Z"
   },
   {
    "duration": 184,
    "start_time": "2024-09-14T09:28:50.138Z"
   },
   {
    "duration": 130,
    "start_time": "2024-09-14T09:28:53.854Z"
   },
   {
    "duration": 228,
    "start_time": "2024-09-14T09:29:41.339Z"
   },
   {
    "duration": 214,
    "start_time": "2024-09-14T09:30:08.591Z"
   },
   {
    "duration": 2684,
    "start_time": "2024-09-14T09:32:37.615Z"
   },
   {
    "duration": 2701,
    "start_time": "2024-09-14T09:32:43.184Z"
   },
   {
    "duration": 1101,
    "start_time": "2024-09-14T09:59:38.616Z"
   },
   {
    "duration": 1105,
    "start_time": "2024-09-14T09:59:54.972Z"
   },
   {
    "duration": 1106,
    "start_time": "2024-09-14T10:00:24.586Z"
   },
   {
    "duration": 14,
    "start_time": "2024-09-14T10:00:49.217Z"
   },
   {
    "duration": 1040,
    "start_time": "2024-09-14T10:01:02.715Z"
   },
   {
    "duration": 1001,
    "start_time": "2024-09-14T10:01:28.361Z"
   },
   {
    "duration": 21,
    "start_time": "2024-09-14T10:01:45.619Z"
   },
   {
    "duration": 1027,
    "start_time": "2024-09-14T10:01:58.320Z"
   },
   {
    "duration": 10,
    "start_time": "2024-09-14T10:02:49.759Z"
   },
   {
    "duration": 146,
    "start_time": "2024-09-14T10:04:31.379Z"
   },
   {
    "duration": 67,
    "start_time": "2024-09-14T10:05:26.569Z"
   },
   {
    "duration": 68,
    "start_time": "2024-09-14T10:05:37.393Z"
   },
   {
    "duration": 148,
    "start_time": "2024-09-14T10:05:42.969Z"
   },
   {
    "duration": 157,
    "start_time": "2024-09-14T10:06:15.817Z"
   },
   {
    "duration": 64,
    "start_time": "2024-09-14T10:06:30.291Z"
   },
   {
    "duration": 144,
    "start_time": "2024-09-14T10:06:48.905Z"
   },
   {
    "duration": 160,
    "start_time": "2024-09-14T10:07:00.184Z"
   },
   {
    "duration": 351,
    "start_time": "2024-09-14T10:08:36.564Z"
   },
   {
    "duration": 148,
    "start_time": "2024-09-14T10:08:39.849Z"
   },
   {
    "duration": 331,
    "start_time": "2024-09-14T10:10:38.254Z"
   },
   {
    "duration": 458,
    "start_time": "2024-09-14T10:11:28.692Z"
   },
   {
    "duration": 607,
    "start_time": "2024-09-14T10:12:08.478Z"
   },
   {
    "duration": 800,
    "start_time": "2024-09-14T10:13:43.372Z"
   },
   {
    "duration": 1009,
    "start_time": "2024-09-14T10:14:06.868Z"
   },
   {
    "duration": 1277,
    "start_time": "2024-09-14T10:14:30.803Z"
   },
   {
    "duration": 1134,
    "start_time": "2024-09-14T10:14:35.658Z"
   },
   {
    "duration": 1128,
    "start_time": "2024-09-14T10:15:11.129Z"
   },
   {
    "duration": 180,
    "start_time": "2024-09-14T10:25:12.437Z"
   },
   {
    "duration": 167,
    "start_time": "2024-09-14T10:25:25.639Z"
   },
   {
    "duration": 153,
    "start_time": "2024-09-14T10:26:52.336Z"
   },
   {
    "duration": 356,
    "start_time": "2024-09-14T10:27:01.219Z"
   },
   {
    "duration": 168,
    "start_time": "2024-09-14T10:27:15.788Z"
   },
   {
    "duration": 222,
    "start_time": "2024-09-14T10:27:33.014Z"
   },
   {
    "duration": 226,
    "start_time": "2024-09-14T10:28:09.175Z"
   },
   {
    "duration": 201,
    "start_time": "2024-09-14T10:28:16.464Z"
   },
   {
    "duration": 213,
    "start_time": "2024-09-14T10:28:21.396Z"
   },
   {
    "duration": 213,
    "start_time": "2024-09-14T10:29:17.980Z"
   },
   {
    "duration": 222,
    "start_time": "2024-09-14T10:31:06.748Z"
   },
   {
    "duration": 213,
    "start_time": "2024-09-14T10:31:13.455Z"
   },
   {
    "duration": 174,
    "start_time": "2024-09-14T10:31:24.272Z"
   },
   {
    "duration": 189,
    "start_time": "2024-09-14T10:31:46.334Z"
   },
   {
    "duration": 222,
    "start_time": "2024-09-14T10:31:56.548Z"
   },
   {
    "duration": 397,
    "start_time": "2024-09-14T10:32:23.660Z"
   },
   {
    "duration": 268,
    "start_time": "2024-09-14T10:33:46.671Z"
   },
   {
    "duration": 308,
    "start_time": "2024-09-14T10:38:07.525Z"
   },
   {
    "duration": 261,
    "start_time": "2024-09-14T10:38:41.238Z"
   },
   {
    "duration": 203,
    "start_time": "2024-09-14T10:39:09.560Z"
   },
   {
    "duration": 195,
    "start_time": "2024-09-14T10:39:38.200Z"
   },
   {
    "duration": 1034,
    "start_time": "2024-09-14T10:40:21.380Z"
   },
   {
    "duration": 990,
    "start_time": "2024-09-14T10:40:26.588Z"
   },
   {
    "duration": 956,
    "start_time": "2024-09-14T10:40:37.766Z"
   },
   {
    "duration": 1346,
    "start_time": "2024-09-14T10:40:50.447Z"
   },
   {
    "duration": 306,
    "start_time": "2024-09-14T10:41:15.203Z"
   },
   {
    "duration": 158,
    "start_time": "2024-09-14T10:41:23.779Z"
   },
   {
    "duration": 150,
    "start_time": "2024-09-14T10:41:34.230Z"
   },
   {
    "duration": 11,
    "start_time": "2024-09-14T10:53:23.465Z"
   },
   {
    "duration": 16,
    "start_time": "2024-09-14T10:53:26.385Z"
   },
   {
    "duration": 891,
    "start_time": "2024-09-14T10:54:16.760Z"
   },
   {
    "duration": 20,
    "start_time": "2024-09-14T10:54:17.654Z"
   },
   {
    "duration": 7,
    "start_time": "2024-09-14T10:54:17.676Z"
   },
   {
    "duration": 2244,
    "start_time": "2024-09-14T10:54:17.685Z"
   },
   {
    "duration": 10,
    "start_time": "2024-09-14T10:54:19.931Z"
   },
   {
    "duration": 36,
    "start_time": "2024-09-14T10:54:19.943Z"
   },
   {
    "duration": 14,
    "start_time": "2024-09-14T10:54:19.981Z"
   },
   {
    "duration": 13,
    "start_time": "2024-09-14T10:54:19.997Z"
   },
   {
    "duration": 27,
    "start_time": "2024-09-14T10:54:20.012Z"
   },
   {
    "duration": 31,
    "start_time": "2024-09-14T10:54:20.041Z"
   },
   {
    "duration": 267,
    "start_time": "2024-09-14T10:54:20.074Z"
   },
   {
    "duration": 17,
    "start_time": "2024-09-14T10:54:20.343Z"
   },
   {
    "duration": 21,
    "start_time": "2024-09-14T10:54:20.362Z"
   },
   {
    "duration": 44,
    "start_time": "2024-09-14T10:54:20.387Z"
   },
   {
    "duration": 20,
    "start_time": "2024-09-14T10:54:20.433Z"
   },
   {
    "duration": 365,
    "start_time": "2024-09-14T10:54:20.455Z"
   },
   {
    "duration": 8,
    "start_time": "2024-09-14T10:54:20.822Z"
   },
   {
    "duration": 209,
    "start_time": "2024-09-14T10:54:20.832Z"
   },
   {
    "duration": 276,
    "start_time": "2024-09-14T10:54:21.043Z"
   },
   {
    "duration": 225,
    "start_time": "2024-09-14T10:54:21.321Z"
   },
   {
    "duration": 404,
    "start_time": "2024-09-14T10:54:21.547Z"
   },
   {
    "duration": 222,
    "start_time": "2024-09-14T10:54:21.955Z"
   },
   {
    "duration": 213,
    "start_time": "2024-09-14T10:54:22.179Z"
   },
   {
    "duration": 173,
    "start_time": "2024-09-14T10:54:22.394Z"
   },
   {
    "duration": 212,
    "start_time": "2024-09-14T10:54:22.568Z"
   },
   {
    "duration": 202,
    "start_time": "2024-09-14T10:54:22.782Z"
   },
   {
    "duration": 192,
    "start_time": "2024-09-14T10:54:22.986Z"
   },
   {
    "duration": 218,
    "start_time": "2024-09-14T10:54:23.180Z"
   },
   {
    "duration": 8,
    "start_time": "2024-09-14T10:54:23.401Z"
   },
   {
    "duration": 7,
    "start_time": "2024-09-14T10:54:23.411Z"
   },
   {
    "duration": 7,
    "start_time": "2024-09-14T10:54:23.420Z"
   },
   {
    "duration": 51,
    "start_time": "2024-09-14T10:54:23.429Z"
   },
   {
    "duration": 1304,
    "start_time": "2024-09-14T10:54:23.482Z"
   },
   {
    "duration": 28,
    "start_time": "2024-09-14T10:54:24.788Z"
   },
   {
    "duration": 6,
    "start_time": "2024-09-14T10:54:24.818Z"
   },
   {
    "duration": 35,
    "start_time": "2024-09-14T10:54:24.827Z"
   },
   {
    "duration": 76,
    "start_time": "2024-09-14T10:54:24.864Z"
   },
   {
    "duration": 0,
    "start_time": "2024-09-14T10:54:24.942Z"
   },
   {
    "duration": 7,
    "start_time": "2024-09-14T10:54:58.069Z"
   },
   {
    "duration": 6,
    "start_time": "2024-09-14T10:55:01.083Z"
   },
   {
    "duration": 9,
    "start_time": "2024-09-14T11:01:41.922Z"
   },
   {
    "duration": 146,
    "start_time": "2024-09-14T11:01:52.043Z"
   },
   {
    "duration": 959,
    "start_time": "2024-09-14T13:17:12.462Z"
   },
   {
    "duration": 16,
    "start_time": "2024-09-14T13:17:13.423Z"
   },
   {
    "duration": 18,
    "start_time": "2024-09-14T13:17:13.440Z"
   },
   {
    "duration": 1749,
    "start_time": "2024-09-14T13:17:13.459Z"
   },
   {
    "duration": 8,
    "start_time": "2024-09-14T13:17:15.211Z"
   },
   {
    "duration": 18,
    "start_time": "2024-09-14T13:17:15.221Z"
   },
   {
    "duration": 37,
    "start_time": "2024-09-14T13:17:15.240Z"
   },
   {
    "duration": 23,
    "start_time": "2024-09-14T13:17:15.278Z"
   },
   {
    "duration": 40,
    "start_time": "2024-09-14T13:17:15.302Z"
   },
   {
    "duration": 6,
    "start_time": "2024-09-14T13:17:15.344Z"
   },
   {
    "duration": 200,
    "start_time": "2024-09-14T13:17:15.351Z"
   },
   {
    "duration": 7,
    "start_time": "2024-09-14T13:17:15.553Z"
   },
   {
    "duration": 15,
    "start_time": "2024-09-14T13:17:15.561Z"
   },
   {
    "duration": 7,
    "start_time": "2024-09-14T13:17:15.578Z"
   },
   {
    "duration": 6,
    "start_time": "2024-09-14T13:17:15.586Z"
   },
   {
    "duration": 315,
    "start_time": "2024-09-14T13:17:15.594Z"
   },
   {
    "duration": 8,
    "start_time": "2024-09-14T13:17:15.910Z"
   },
   {
    "duration": 166,
    "start_time": "2024-09-14T13:17:15.919Z"
   },
   {
    "duration": 189,
    "start_time": "2024-09-14T13:17:16.086Z"
   },
   {
    "duration": 160,
    "start_time": "2024-09-14T13:17:16.277Z"
   },
   {
    "duration": 314,
    "start_time": "2024-09-14T13:17:16.439Z"
   },
   {
    "duration": 168,
    "start_time": "2024-09-14T13:17:16.754Z"
   },
   {
    "duration": 170,
    "start_time": "2024-09-14T13:17:16.925Z"
   },
   {
    "duration": 141,
    "start_time": "2024-09-14T13:17:17.097Z"
   },
   {
    "duration": 159,
    "start_time": "2024-09-14T13:17:17.240Z"
   },
   {
    "duration": 168,
    "start_time": "2024-09-14T13:17:17.401Z"
   },
   {
    "duration": 160,
    "start_time": "2024-09-14T13:17:17.571Z"
   },
   {
    "duration": 154,
    "start_time": "2024-09-14T13:17:17.732Z"
   },
   {
    "duration": 4,
    "start_time": "2024-09-14T13:17:17.888Z"
   },
   {
    "duration": 4,
    "start_time": "2024-09-14T13:17:17.893Z"
   },
   {
    "duration": 3,
    "start_time": "2024-09-14T13:17:17.898Z"
   },
   {
    "duration": 18,
    "start_time": "2024-09-14T13:17:17.902Z"
   },
   {
    "duration": 1016,
    "start_time": "2024-09-14T13:17:17.921Z"
   },
   {
    "duration": 23,
    "start_time": "2024-09-14T13:17:18.939Z"
   },
   {
    "duration": 6,
    "start_time": "2024-09-14T13:17:18.975Z"
   },
   {
    "duration": 5,
    "start_time": "2024-09-14T13:17:18.983Z"
   },
   {
    "duration": 130,
    "start_time": "2024-09-14T13:17:18.990Z"
   },
   {
    "duration": 70,
    "start_time": "2024-09-14T13:17:19.122Z"
   },
   {
    "duration": 565,
    "start_time": "2024-09-14T13:20:16.901Z"
   },
   {
    "duration": 52,
    "start_time": "2024-09-14T13:45:43.296Z"
   },
   {
    "duration": 1039,
    "start_time": "2024-09-14T13:45:48.842Z"
   },
   {
    "duration": 25,
    "start_time": "2024-09-14T13:45:49.884Z"
   },
   {
    "duration": 11,
    "start_time": "2024-09-14T13:45:49.911Z"
   },
   {
    "duration": 2210,
    "start_time": "2024-09-14T13:45:49.924Z"
   },
   {
    "duration": 14,
    "start_time": "2024-09-14T13:45:52.137Z"
   },
   {
    "duration": 33,
    "start_time": "2024-09-14T13:45:52.153Z"
   },
   {
    "duration": 15,
    "start_time": "2024-09-14T13:45:52.188Z"
   },
   {
    "duration": 25,
    "start_time": "2024-09-14T13:45:52.206Z"
   },
   {
    "duration": 33,
    "start_time": "2024-09-14T13:45:52.232Z"
   },
   {
    "duration": 11,
    "start_time": "2024-09-14T13:45:52.267Z"
   },
   {
    "duration": 314,
    "start_time": "2024-09-14T13:45:52.280Z"
   },
   {
    "duration": 14,
    "start_time": "2024-09-14T13:45:52.596Z"
   },
   {
    "duration": 9,
    "start_time": "2024-09-14T13:45:52.612Z"
   },
   {
    "duration": 12,
    "start_time": "2024-09-14T13:45:52.624Z"
   },
   {
    "duration": 8,
    "start_time": "2024-09-14T13:45:52.638Z"
   },
   {
    "duration": 385,
    "start_time": "2024-09-14T13:45:52.648Z"
   },
   {
    "duration": 8,
    "start_time": "2024-09-14T13:45:53.034Z"
   },
   {
    "duration": 198,
    "start_time": "2024-09-14T13:45:53.044Z"
   },
   {
    "duration": 224,
    "start_time": "2024-09-14T13:45:53.244Z"
   },
   {
    "duration": 228,
    "start_time": "2024-09-14T13:45:53.470Z"
   },
   {
    "duration": 394,
    "start_time": "2024-09-14T13:45:53.705Z"
   },
   {
    "duration": 250,
    "start_time": "2024-09-14T13:45:54.101Z"
   },
   {
    "duration": 208,
    "start_time": "2024-09-14T13:45:54.353Z"
   },
   {
    "duration": 172,
    "start_time": "2024-09-14T13:45:54.562Z"
   },
   {
    "duration": 226,
    "start_time": "2024-09-14T13:45:54.736Z"
   },
   {
    "duration": 204,
    "start_time": "2024-09-14T13:45:54.964Z"
   },
   {
    "duration": 187,
    "start_time": "2024-09-14T13:45:55.170Z"
   },
   {
    "duration": 210,
    "start_time": "2024-09-14T13:45:55.359Z"
   },
   {
    "duration": 6,
    "start_time": "2024-09-14T13:45:55.571Z"
   },
   {
    "duration": 5,
    "start_time": "2024-09-14T13:45:55.578Z"
   },
   {
    "duration": 3,
    "start_time": "2024-09-14T13:45:55.606Z"
   },
   {
    "duration": 33,
    "start_time": "2024-09-14T13:45:55.611Z"
   },
   {
    "duration": 1224,
    "start_time": "2024-09-14T13:45:55.646Z"
   },
   {
    "duration": 40,
    "start_time": "2024-09-14T13:45:56.872Z"
   },
   {
    "duration": 6,
    "start_time": "2024-09-14T13:45:56.914Z"
   },
   {
    "duration": 7,
    "start_time": "2024-09-14T13:45:56.921Z"
   },
   {
    "duration": 162,
    "start_time": "2024-09-14T13:45:56.929Z"
   },
   {
    "duration": 588,
    "start_time": "2024-09-14T13:45:57.093Z"
   },
   {
    "duration": 177,
    "start_time": "2024-09-14T13:46:31.973Z"
   },
   {
    "duration": 174,
    "start_time": "2024-09-14T13:46:43.280Z"
   },
   {
    "duration": 186,
    "start_time": "2024-09-14T13:48:12.568Z"
   },
   {
    "duration": 196,
    "start_time": "2024-09-14T13:48:22.247Z"
   },
   {
    "duration": 210,
    "start_time": "2024-09-14T13:49:39.476Z"
   },
   {
    "duration": 196,
    "start_time": "2024-09-14T13:49:50.022Z"
   },
   {
    "duration": 10,
    "start_time": "2024-09-14T13:55:59.058Z"
   },
   {
    "duration": 11,
    "start_time": "2024-09-14T13:56:22.931Z"
   },
   {
    "duration": 23,
    "start_time": "2024-09-14T13:56:38.078Z"
   },
   {
    "duration": 29,
    "start_time": "2024-09-14T13:57:05.921Z"
   },
   {
    "duration": 6,
    "start_time": "2024-09-14T13:57:21.402Z"
   },
   {
    "duration": 942,
    "start_time": "2024-09-14T13:57:35.214Z"
   },
   {
    "duration": 15,
    "start_time": "2024-09-14T13:57:36.158Z"
   },
   {
    "duration": 9,
    "start_time": "2024-09-14T13:57:36.175Z"
   },
   {
    "duration": 2369,
    "start_time": "2024-09-14T13:57:36.185Z"
   },
   {
    "duration": 15,
    "start_time": "2024-09-14T13:57:38.556Z"
   },
   {
    "duration": 20,
    "start_time": "2024-09-14T13:57:38.573Z"
   },
   {
    "duration": 21,
    "start_time": "2024-09-14T13:57:38.595Z"
   },
   {
    "duration": 18,
    "start_time": "2024-09-14T13:57:38.618Z"
   },
   {
    "duration": 13,
    "start_time": "2024-09-14T13:57:38.639Z"
   },
   {
    "duration": 10,
    "start_time": "2024-09-14T13:57:38.656Z"
   },
   {
    "duration": 414,
    "start_time": "2024-09-14T13:57:38.669Z"
   },
   {
    "duration": 9,
    "start_time": "2024-09-14T13:57:39.085Z"
   },
   {
    "duration": 17,
    "start_time": "2024-09-14T13:57:39.096Z"
   },
   {
    "duration": 7,
    "start_time": "2024-09-14T13:57:39.115Z"
   },
   {
    "duration": 8,
    "start_time": "2024-09-14T13:57:39.124Z"
   },
   {
    "duration": 427,
    "start_time": "2024-09-14T13:57:39.134Z"
   },
   {
    "duration": 9,
    "start_time": "2024-09-14T13:57:39.563Z"
   },
   {
    "duration": 222,
    "start_time": "2024-09-14T13:57:39.574Z"
   },
   {
    "duration": 218,
    "start_time": "2024-09-14T13:57:39.798Z"
   },
   {
    "duration": 219,
    "start_time": "2024-09-14T13:57:40.017Z"
   },
   {
    "duration": 381,
    "start_time": "2024-09-14T13:57:40.238Z"
   },
   {
    "duration": 36,
    "start_time": "2024-09-14T13:57:40.622Z"
   },
   {
    "duration": 245,
    "start_time": "2024-09-14T13:57:40.661Z"
   },
   {
    "duration": 179,
    "start_time": "2024-09-14T13:57:40.908Z"
   },
   {
    "duration": 203,
    "start_time": "2024-09-14T13:57:41.089Z"
   },
   {
    "duration": 184,
    "start_time": "2024-09-14T13:57:41.294Z"
   },
   {
    "duration": 202,
    "start_time": "2024-09-14T13:57:41.481Z"
   },
   {
    "duration": 184,
    "start_time": "2024-09-14T13:57:41.686Z"
   },
   {
    "duration": 6,
    "start_time": "2024-09-14T13:57:41.872Z"
   },
   {
    "duration": 18,
    "start_time": "2024-09-14T13:57:41.879Z"
   },
   {
    "duration": 51,
    "start_time": "2024-09-14T13:57:41.899Z"
   },
   {
    "duration": 47,
    "start_time": "2024-09-14T13:57:41.952Z"
   },
   {
    "duration": 1175,
    "start_time": "2024-09-14T13:57:42.001Z"
   },
   {
    "duration": 38,
    "start_time": "2024-09-14T13:57:43.178Z"
   },
   {
    "duration": 7,
    "start_time": "2024-09-14T13:57:43.218Z"
   },
   {
    "duration": 30,
    "start_time": "2024-09-14T13:57:43.226Z"
   },
   {
    "duration": 128,
    "start_time": "2024-09-14T13:57:43.258Z"
   },
   {
    "duration": 458,
    "start_time": "2024-09-14T13:57:43.388Z"
   },
   {
    "duration": 5,
    "start_time": "2024-09-14T13:59:36.844Z"
   },
   {
    "duration": 28,
    "start_time": "2024-09-14T13:59:46.553Z"
   },
   {
    "duration": 1180,
    "start_time": "2024-09-14T14:00:56.027Z"
   },
   {
    "duration": 8,
    "start_time": "2024-09-14T14:01:03.831Z"
   },
   {
    "duration": 7,
    "start_time": "2024-09-14T14:01:48.542Z"
   },
   {
    "duration": 7,
    "start_time": "2024-09-14T14:02:10.033Z"
   },
   {
    "duration": 39,
    "start_time": "2024-09-14T14:02:30.703Z"
   },
   {
    "duration": 49,
    "start_time": "2024-09-14T14:02:45.046Z"
   },
   {
    "duration": 34,
    "start_time": "2024-09-14T14:03:08.149Z"
   },
   {
    "duration": 230,
    "start_time": "2024-09-14T14:04:13.188Z"
   },
   {
    "duration": 5,
    "start_time": "2024-09-14T14:05:05.066Z"
   },
   {
    "duration": 6,
    "start_time": "2024-09-14T14:05:10.550Z"
   },
   {
    "duration": 8,
    "start_time": "2024-09-14T14:05:33.643Z"
   },
   {
    "duration": 10,
    "start_time": "2024-09-14T14:06:32.686Z"
   },
   {
    "duration": 874,
    "start_time": "2024-09-14T18:04:21.738Z"
   },
   {
    "duration": 19,
    "start_time": "2024-09-14T18:04:22.614Z"
   },
   {
    "duration": 10,
    "start_time": "2024-09-14T18:04:22.634Z"
   },
   {
    "duration": 1592,
    "start_time": "2024-09-14T18:04:22.645Z"
   },
   {
    "duration": 8,
    "start_time": "2024-09-14T18:04:24.239Z"
   },
   {
    "duration": 12,
    "start_time": "2024-09-14T18:04:24.248Z"
   },
   {
    "duration": 10,
    "start_time": "2024-09-14T18:04:24.261Z"
   },
   {
    "duration": 20,
    "start_time": "2024-09-14T18:04:24.272Z"
   },
   {
    "duration": 14,
    "start_time": "2024-09-14T18:04:24.293Z"
   },
   {
    "duration": 6,
    "start_time": "2024-09-14T18:04:24.308Z"
   },
   {
    "duration": 189,
    "start_time": "2024-09-14T18:04:24.315Z"
   },
   {
    "duration": 7,
    "start_time": "2024-09-14T18:04:24.505Z"
   },
   {
    "duration": 6,
    "start_time": "2024-09-14T18:04:24.514Z"
   },
   {
    "duration": 6,
    "start_time": "2024-09-14T18:04:24.523Z"
   },
   {
    "duration": 11,
    "start_time": "2024-09-14T18:04:24.530Z"
   },
   {
    "duration": 328,
    "start_time": "2024-09-14T18:04:24.543Z"
   },
   {
    "duration": 6,
    "start_time": "2024-09-14T18:04:24.872Z"
   },
   {
    "duration": 139,
    "start_time": "2024-09-14T18:04:24.879Z"
   },
   {
    "duration": 159,
    "start_time": "2024-09-14T18:04:25.020Z"
   },
   {
    "duration": 148,
    "start_time": "2024-09-14T18:04:25.181Z"
   },
   {
    "duration": 250,
    "start_time": "2024-09-14T18:04:25.330Z"
   },
   {
    "duration": 150,
    "start_time": "2024-09-14T18:04:25.582Z"
   },
   {
    "duration": 152,
    "start_time": "2024-09-14T18:04:25.733Z"
   },
   {
    "duration": 117,
    "start_time": "2024-09-14T18:04:25.886Z"
   },
   {
    "duration": 138,
    "start_time": "2024-09-14T18:04:26.005Z"
   },
   {
    "duration": 130,
    "start_time": "2024-09-14T18:04:26.144Z"
   },
   {
    "duration": 139,
    "start_time": "2024-09-14T18:04:26.276Z"
   },
   {
    "duration": 8,
    "start_time": "2024-09-14T18:04:26.417Z"
   },
   {
    "duration": 165,
    "start_time": "2024-09-14T18:04:26.427Z"
   },
   {
    "duration": 15,
    "start_time": "2024-09-14T18:04:26.593Z"
   },
   {
    "duration": 3,
    "start_time": "2024-09-14T18:04:26.610Z"
   },
   {
    "duration": 4,
    "start_time": "2024-09-14T18:04:26.615Z"
   },
   {
    "duration": 24,
    "start_time": "2024-09-14T18:04:26.621Z"
   },
   {
    "duration": 847,
    "start_time": "2024-09-14T18:04:26.646Z"
   },
   {
    "duration": 26,
    "start_time": "2024-09-14T18:04:27.494Z"
   },
   {
    "duration": 37,
    "start_time": "2024-09-14T18:04:27.521Z"
   },
   {
    "duration": 8,
    "start_time": "2024-09-14T18:04:27.560Z"
   },
   {
    "duration": 102,
    "start_time": "2024-09-14T18:04:27.569Z"
   },
   {
    "duration": 376,
    "start_time": "2024-09-14T18:04:27.673Z"
   },
   {
    "duration": 154,
    "start_time": "2024-09-14T18:09:48.363Z"
   },
   {
    "duration": 138,
    "start_time": "2024-09-14T18:27:14.705Z"
   },
   {
    "duration": 1144,
    "start_time": "2024-09-14T19:19:49.037Z"
   },
   {
    "duration": 15,
    "start_time": "2024-09-14T19:19:50.183Z"
   },
   {
    "duration": 6,
    "start_time": "2024-09-14T19:19:50.200Z"
   },
   {
    "duration": 1839,
    "start_time": "2024-09-14T19:19:50.207Z"
   },
   {
    "duration": 9,
    "start_time": "2024-09-14T19:19:52.048Z"
   },
   {
    "duration": 39,
    "start_time": "2024-09-14T19:19:52.059Z"
   },
   {
    "duration": 13,
    "start_time": "2024-09-14T19:19:52.099Z"
   },
   {
    "duration": 21,
    "start_time": "2024-09-14T19:19:52.113Z"
   },
   {
    "duration": 50,
    "start_time": "2024-09-14T19:19:52.135Z"
   },
   {
    "duration": 23,
    "start_time": "2024-09-14T19:19:52.186Z"
   },
   {
    "duration": 221,
    "start_time": "2024-09-14T19:19:52.210Z"
   },
   {
    "duration": 8,
    "start_time": "2024-09-14T19:19:52.433Z"
   },
   {
    "duration": 10,
    "start_time": "2024-09-14T19:19:52.442Z"
   },
   {
    "duration": 12,
    "start_time": "2024-09-14T19:19:52.454Z"
   },
   {
    "duration": 32,
    "start_time": "2024-09-14T19:19:52.467Z"
   },
   {
    "duration": 331,
    "start_time": "2024-09-14T19:19:52.501Z"
   },
   {
    "duration": 8,
    "start_time": "2024-09-14T19:19:52.834Z"
   },
   {
    "duration": 196,
    "start_time": "2024-09-14T19:19:52.843Z"
   },
   {
    "duration": 198,
    "start_time": "2024-09-14T19:19:53.040Z"
   },
   {
    "duration": 173,
    "start_time": "2024-09-14T19:19:53.240Z"
   },
   {
    "duration": 308,
    "start_time": "2024-09-14T19:19:53.414Z"
   },
   {
    "duration": 189,
    "start_time": "2024-09-14T19:19:53.723Z"
   },
   {
    "duration": 173,
    "start_time": "2024-09-14T19:19:53.913Z"
   },
   {
    "duration": 144,
    "start_time": "2024-09-14T19:19:54.088Z"
   },
   {
    "duration": 182,
    "start_time": "2024-09-14T19:19:54.233Z"
   },
   {
    "duration": 159,
    "start_time": "2024-09-14T19:19:54.417Z"
   },
   {
    "duration": 164,
    "start_time": "2024-09-14T19:19:54.578Z"
   },
   {
    "duration": 172,
    "start_time": "2024-09-14T19:19:54.743Z"
   },
   {
    "duration": 169,
    "start_time": "2024-09-14T19:19:54.917Z"
   },
   {
    "duration": 5,
    "start_time": "2024-09-14T19:19:55.087Z"
   },
   {
    "duration": 7,
    "start_time": "2024-09-14T19:19:55.094Z"
   },
   {
    "duration": 9,
    "start_time": "2024-09-14T19:19:55.107Z"
   },
   {
    "duration": 25,
    "start_time": "2024-09-14T19:19:55.118Z"
   },
   {
    "duration": 1002,
    "start_time": "2024-09-14T19:19:55.144Z"
   },
   {
    "duration": 24,
    "start_time": "2024-09-14T19:19:56.148Z"
   },
   {
    "duration": 9,
    "start_time": "2024-09-14T19:19:56.174Z"
   },
   {
    "duration": 24,
    "start_time": "2024-09-14T19:19:56.184Z"
   },
   {
    "duration": 144,
    "start_time": "2024-09-14T19:19:56.209Z"
   },
   {
    "duration": 491,
    "start_time": "2024-09-14T19:19:56.354Z"
   },
   {
    "duration": 1059,
    "start_time": "2024-09-15T01:41:24.704Z"
   },
   {
    "duration": 15,
    "start_time": "2024-09-15T01:41:25.765Z"
   },
   {
    "duration": 7,
    "start_time": "2024-09-15T01:41:25.781Z"
   },
   {
    "duration": 1922,
    "start_time": "2024-09-15T01:41:25.789Z"
   },
   {
    "duration": 10,
    "start_time": "2024-09-15T01:41:27.713Z"
   },
   {
    "duration": 16,
    "start_time": "2024-09-15T01:41:27.724Z"
   },
   {
    "duration": 15,
    "start_time": "2024-09-15T01:41:27.741Z"
   },
   {
    "duration": 10,
    "start_time": "2024-09-15T01:41:27.757Z"
   },
   {
    "duration": 19,
    "start_time": "2024-09-15T01:41:27.769Z"
   },
   {
    "duration": 6,
    "start_time": "2024-09-15T01:41:27.789Z"
   },
   {
    "duration": 226,
    "start_time": "2024-09-15T01:41:27.797Z"
   },
   {
    "duration": 8,
    "start_time": "2024-09-15T01:41:28.025Z"
   },
   {
    "duration": 20,
    "start_time": "2024-09-15T01:41:28.034Z"
   },
   {
    "duration": 8,
    "start_time": "2024-09-15T01:41:28.057Z"
   },
   {
    "duration": 7,
    "start_time": "2024-09-15T01:41:28.067Z"
   },
   {
    "duration": 362,
    "start_time": "2024-09-15T01:41:28.076Z"
   },
   {
    "duration": 14,
    "start_time": "2024-09-15T01:41:28.440Z"
   },
   {
    "duration": 206,
    "start_time": "2024-09-15T01:41:28.455Z"
   },
   {
    "duration": 213,
    "start_time": "2024-09-15T01:41:28.663Z"
   },
   {
    "duration": 194,
    "start_time": "2024-09-15T01:41:28.878Z"
   },
   {
    "duration": 348,
    "start_time": "2024-09-15T01:41:29.074Z"
   },
   {
    "duration": 191,
    "start_time": "2024-09-15T01:41:29.423Z"
   },
   {
    "duration": 180,
    "start_time": "2024-09-15T01:41:29.616Z"
   },
   {
    "duration": 137,
    "start_time": "2024-09-15T01:41:29.798Z"
   },
   {
    "duration": 186,
    "start_time": "2024-09-15T01:41:29.936Z"
   },
   {
    "duration": 180,
    "start_time": "2024-09-15T01:41:30.123Z"
   },
   {
    "duration": 181,
    "start_time": "2024-09-15T01:41:30.305Z"
   },
   {
    "duration": 176,
    "start_time": "2024-09-15T01:41:30.488Z"
   },
   {
    "duration": 164,
    "start_time": "2024-09-15T01:41:30.666Z"
   },
   {
    "duration": 6,
    "start_time": "2024-09-15T01:41:30.832Z"
   },
   {
    "duration": 5,
    "start_time": "2024-09-15T01:41:30.853Z"
   },
   {
    "duration": 19,
    "start_time": "2024-09-15T01:41:30.860Z"
   },
   {
    "duration": 39,
    "start_time": "2024-09-15T01:41:30.880Z"
   },
   {
    "duration": 1144,
    "start_time": "2024-09-15T01:41:30.921Z"
   },
   {
    "duration": 24,
    "start_time": "2024-09-15T01:41:32.067Z"
   },
   {
    "duration": 7,
    "start_time": "2024-09-15T01:41:32.092Z"
   },
   {
    "duration": 10,
    "start_time": "2024-09-15T01:41:32.101Z"
   },
   {
    "duration": 144,
    "start_time": "2024-09-15T01:41:32.112Z"
   },
   {
    "duration": 417,
    "start_time": "2024-09-15T01:41:32.258Z"
   },
   {
    "duration": 18,
    "start_time": "2024-09-15T01:42:10.993Z"
   },
   {
    "duration": 154,
    "start_time": "2024-09-15T01:44:11.699Z"
   },
   {
    "duration": 163,
    "start_time": "2024-09-15T01:45:14.387Z"
   },
   {
    "duration": 156,
    "start_time": "2024-09-15T01:45:23.987Z"
   },
   {
    "duration": 784,
    "start_time": "2024-09-15T01:45:37.180Z"
   },
   {
    "duration": 16,
    "start_time": "2024-09-15T01:45:37.965Z"
   },
   {
    "duration": 6,
    "start_time": "2024-09-15T01:45:37.982Z"
   },
   {
    "duration": 1921,
    "start_time": "2024-09-15T01:45:37.990Z"
   },
   {
    "duration": 10,
    "start_time": "2024-09-15T01:45:39.914Z"
   },
   {
    "duration": 19,
    "start_time": "2024-09-15T01:45:39.925Z"
   },
   {
    "duration": 14,
    "start_time": "2024-09-15T01:45:39.946Z"
   },
   {
    "duration": 10,
    "start_time": "2024-09-15T01:45:39.962Z"
   },
   {
    "duration": 19,
    "start_time": "2024-09-15T01:45:39.974Z"
   },
   {
    "duration": 6,
    "start_time": "2024-09-15T01:45:39.994Z"
   },
   {
    "duration": 277,
    "start_time": "2024-09-15T01:45:40.002Z"
   },
   {
    "duration": 8,
    "start_time": "2024-09-15T01:45:40.280Z"
   },
   {
    "duration": 15,
    "start_time": "2024-09-15T01:45:40.289Z"
   },
   {
    "duration": 8,
    "start_time": "2024-09-15T01:45:40.306Z"
   },
   {
    "duration": 7,
    "start_time": "2024-09-15T01:45:40.315Z"
   },
   {
    "duration": 432,
    "start_time": "2024-09-15T01:45:40.323Z"
   },
   {
    "duration": 7,
    "start_time": "2024-09-15T01:45:40.756Z"
   },
   {
    "duration": 191,
    "start_time": "2024-09-15T01:45:40.764Z"
   },
   {
    "duration": 320,
    "start_time": "2024-09-15T01:45:40.956Z"
   },
   {
    "duration": 322,
    "start_time": "2024-09-15T01:45:41.278Z"
   },
   {
    "duration": 645,
    "start_time": "2024-09-15T01:45:41.654Z"
   },
   {
    "duration": 359,
    "start_time": "2024-09-15T01:45:42.301Z"
   },
   {
    "duration": 196,
    "start_time": "2024-09-15T01:45:42.662Z"
   },
   {
    "duration": 146,
    "start_time": "2024-09-15T01:45:42.859Z"
   },
   {
    "duration": 184,
    "start_time": "2024-09-15T01:45:43.007Z"
   },
   {
    "duration": 178,
    "start_time": "2024-09-15T01:45:43.193Z"
   },
   {
    "duration": 171,
    "start_time": "2024-09-15T01:45:43.373Z"
   },
   {
    "duration": 180,
    "start_time": "2024-09-15T01:45:43.553Z"
   },
   {
    "duration": 173,
    "start_time": "2024-09-15T01:45:43.735Z"
   },
   {
    "duration": 5,
    "start_time": "2024-09-15T01:45:43.910Z"
   },
   {
    "duration": 12,
    "start_time": "2024-09-15T01:45:43.917Z"
   },
   {
    "duration": 10,
    "start_time": "2024-09-15T01:45:43.931Z"
   },
   {
    "duration": 27,
    "start_time": "2024-09-15T01:45:43.943Z"
   },
   {
    "duration": 1078,
    "start_time": "2024-09-15T01:45:43.972Z"
   },
   {
    "duration": 25,
    "start_time": "2024-09-15T01:45:45.052Z"
   },
   {
    "duration": 6,
    "start_time": "2024-09-15T01:45:45.079Z"
   },
   {
    "duration": 7,
    "start_time": "2024-09-15T01:45:45.087Z"
   },
   {
    "duration": 150,
    "start_time": "2024-09-15T01:45:45.095Z"
   },
   {
    "duration": 367,
    "start_time": "2024-09-15T01:45:45.253Z"
   },
   {
    "duration": 167,
    "start_time": "2024-09-15T01:46:02.042Z"
   },
   {
    "duration": 9,
    "start_time": "2024-09-15T02:00:02.149Z"
   },
   {
    "duration": 169,
    "start_time": "2024-09-15T02:00:11.452Z"
   },
   {
    "duration": 177,
    "start_time": "2024-09-15T02:00:35.711Z"
   },
   {
    "duration": 9,
    "start_time": "2024-09-15T02:01:23.687Z"
   },
   {
    "duration": 170,
    "start_time": "2024-09-15T02:01:28.303Z"
   },
   {
    "duration": 5,
    "start_time": "2024-09-15T02:02:20.787Z"
   },
   {
    "duration": 5,
    "start_time": "2024-09-15T02:02:23.705Z"
   },
   {
    "duration": 18,
    "start_time": "2024-09-15T02:22:13.865Z"
   },
   {
    "duration": 1121,
    "start_time": "2024-09-15T02:24:18.033Z"
   },
   {
    "duration": 24,
    "start_time": "2024-09-15T02:31:57.506Z"
   },
   {
    "duration": 834,
    "start_time": "2024-09-15T02:57:15.575Z"
   },
   {
    "duration": 14,
    "start_time": "2024-09-15T02:57:16.411Z"
   },
   {
    "duration": 5,
    "start_time": "2024-09-15T02:57:16.426Z"
   },
   {
    "duration": 2286,
    "start_time": "2024-09-15T02:57:16.433Z"
   },
   {
    "duration": 10,
    "start_time": "2024-09-15T02:57:18.722Z"
   },
   {
    "duration": 59,
    "start_time": "2024-09-15T02:57:18.733Z"
   },
   {
    "duration": 28,
    "start_time": "2024-09-15T02:57:18.793Z"
   },
   {
    "duration": 11,
    "start_time": "2024-09-15T02:57:18.823Z"
   },
   {
    "duration": 10,
    "start_time": "2024-09-15T02:57:18.836Z"
   },
   {
    "duration": 11,
    "start_time": "2024-09-15T02:57:18.848Z"
   },
   {
    "duration": 210,
    "start_time": "2024-09-15T02:57:18.860Z"
   },
   {
    "duration": 7,
    "start_time": "2024-09-15T02:57:19.072Z"
   },
   {
    "duration": 7,
    "start_time": "2024-09-15T02:57:19.081Z"
   },
   {
    "duration": 6,
    "start_time": "2024-09-15T02:57:19.091Z"
   },
   {
    "duration": 6,
    "start_time": "2024-09-15T02:57:19.099Z"
   },
   {
    "duration": 378,
    "start_time": "2024-09-15T02:57:19.107Z"
   },
   {
    "duration": 7,
    "start_time": "2024-09-15T02:57:19.486Z"
   },
   {
    "duration": 176,
    "start_time": "2024-09-15T02:57:19.494Z"
   },
   {
    "duration": 206,
    "start_time": "2024-09-15T02:57:19.672Z"
   },
   {
    "duration": 179,
    "start_time": "2024-09-15T02:57:19.879Z"
   },
   {
    "duration": 326,
    "start_time": "2024-09-15T02:57:20.059Z"
   },
   {
    "duration": 207,
    "start_time": "2024-09-15T02:57:20.387Z"
   },
   {
    "duration": 233,
    "start_time": "2024-09-15T02:57:20.596Z"
   },
   {
    "duration": 147,
    "start_time": "2024-09-15T02:57:20.831Z"
   },
   {
    "duration": 176,
    "start_time": "2024-09-15T02:57:20.979Z"
   },
   {
    "duration": 167,
    "start_time": "2024-09-15T02:57:21.157Z"
   },
   {
    "duration": 178,
    "start_time": "2024-09-15T02:57:21.325Z"
   },
   {
    "duration": 196,
    "start_time": "2024-09-15T02:57:21.505Z"
   },
   {
    "duration": 11,
    "start_time": "2024-09-15T02:57:21.703Z"
   },
   {
    "duration": 200,
    "start_time": "2024-09-15T02:57:21.716Z"
   },
   {
    "duration": 5,
    "start_time": "2024-09-15T02:57:21.918Z"
   },
   {
    "duration": 11,
    "start_time": "2024-09-15T02:57:21.925Z"
   },
   {
    "duration": 33,
    "start_time": "2024-09-15T02:57:21.937Z"
   },
   {
    "duration": 24,
    "start_time": "2024-09-15T02:57:21.972Z"
   },
   {
    "duration": 1133,
    "start_time": "2024-09-15T02:57:21.998Z"
   },
   {
    "duration": 29,
    "start_time": "2024-09-15T02:57:23.133Z"
   },
   {
    "duration": 104,
    "start_time": "2024-09-15T02:57:23.164Z"
   },
   {
    "duration": 12,
    "start_time": "2024-09-15T02:57:23.270Z"
   },
   {
    "duration": 141,
    "start_time": "2024-09-15T02:57:23.284Z"
   },
   {
    "duration": 431,
    "start_time": "2024-09-15T02:57:23.427Z"
   },
   {
    "duration": 5,
    "start_time": "2024-09-15T02:58:23.250Z"
   },
   {
    "duration": 95,
    "start_time": "2024-09-15T02:58:33.207Z"
   },
   {
    "duration": 8,
    "start_time": "2024-09-15T02:58:36.683Z"
   },
   {
    "duration": 5,
    "start_time": "2024-09-15T02:58:42.453Z"
   },
   {
    "duration": 127,
    "start_time": "2024-09-15T03:03:42.907Z"
   },
   {
    "duration": 1162,
    "start_time": "2024-09-15T07:30:17.053Z"
   },
   {
    "duration": 16,
    "start_time": "2024-09-15T07:30:18.217Z"
   },
   {
    "duration": 16,
    "start_time": "2024-09-15T07:30:18.234Z"
   },
   {
    "duration": 1903,
    "start_time": "2024-09-15T07:30:18.252Z"
   },
   {
    "duration": 9,
    "start_time": "2024-09-15T07:30:20.157Z"
   },
   {
    "duration": 22,
    "start_time": "2024-09-15T07:30:20.167Z"
   },
   {
    "duration": 11,
    "start_time": "2024-09-15T07:30:20.190Z"
   },
   {
    "duration": 12,
    "start_time": "2024-09-15T07:30:20.203Z"
   },
   {
    "duration": 8,
    "start_time": "2024-09-15T07:30:20.216Z"
   },
   {
    "duration": 25,
    "start_time": "2024-09-15T07:30:20.226Z"
   },
   {
    "duration": 218,
    "start_time": "2024-09-15T07:30:20.252Z"
   },
   {
    "duration": 8,
    "start_time": "2024-09-15T07:30:20.472Z"
   },
   {
    "duration": 30,
    "start_time": "2024-09-15T07:30:20.482Z"
   },
   {
    "duration": 16,
    "start_time": "2024-09-15T07:30:20.513Z"
   },
   {
    "duration": 7,
    "start_time": "2024-09-15T07:30:20.530Z"
   },
   {
    "duration": 344,
    "start_time": "2024-09-15T07:30:20.539Z"
   },
   {
    "duration": 7,
    "start_time": "2024-09-15T07:30:20.885Z"
   },
   {
    "duration": 178,
    "start_time": "2024-09-15T07:30:20.893Z"
   },
   {
    "duration": 207,
    "start_time": "2024-09-15T07:30:21.073Z"
   },
   {
    "duration": 181,
    "start_time": "2024-09-15T07:30:21.281Z"
   },
   {
    "duration": 326,
    "start_time": "2024-09-15T07:30:21.463Z"
   },
   {
    "duration": 188,
    "start_time": "2024-09-15T07:30:21.791Z"
   },
   {
    "duration": 182,
    "start_time": "2024-09-15T07:30:21.980Z"
   },
   {
    "duration": 146,
    "start_time": "2024-09-15T07:30:22.163Z"
   },
   {
    "duration": 183,
    "start_time": "2024-09-15T07:30:22.310Z"
   },
   {
    "duration": 170,
    "start_time": "2024-09-15T07:30:22.494Z"
   },
   {
    "duration": 166,
    "start_time": "2024-09-15T07:30:22.666Z"
   },
   {
    "duration": 201,
    "start_time": "2024-09-15T07:30:22.836Z"
   },
   {
    "duration": 9,
    "start_time": "2024-09-15T07:30:23.039Z"
   },
   {
    "duration": 182,
    "start_time": "2024-09-15T07:30:23.050Z"
   },
   {
    "duration": 5,
    "start_time": "2024-09-15T07:30:23.234Z"
   },
   {
    "duration": 5,
    "start_time": "2024-09-15T07:30:23.240Z"
   },
   {
    "duration": 8,
    "start_time": "2024-09-15T07:30:23.246Z"
   },
   {
    "duration": 40,
    "start_time": "2024-09-15T07:30:23.256Z"
   },
   {
    "duration": 1101,
    "start_time": "2024-09-15T07:30:23.298Z"
   },
   {
    "duration": 28,
    "start_time": "2024-09-15T07:30:24.400Z"
   },
   {
    "duration": 8,
    "start_time": "2024-09-15T07:30:24.429Z"
   },
   {
    "duration": 7,
    "start_time": "2024-09-15T07:30:24.438Z"
   },
   {
    "duration": 88,
    "start_time": "2024-09-15T07:30:24.446Z"
   },
   {
    "duration": 0,
    "start_time": "2024-09-15T07:30:24.535Z"
   },
   {
    "duration": 422,
    "start_time": "2024-09-15T07:30:49.215Z"
   },
   {
    "duration": 54,
    "start_time": "2024-09-15T15:29:32.872Z"
   },
   {
    "duration": 1017,
    "start_time": "2024-09-15T15:29:38.554Z"
   },
   {
    "duration": 18,
    "start_time": "2024-09-15T15:29:39.575Z"
   },
   {
    "duration": 7,
    "start_time": "2024-09-15T15:29:39.594Z"
   },
   {
    "duration": 2232,
    "start_time": "2024-09-15T15:29:39.605Z"
   },
   {
    "duration": 10,
    "start_time": "2024-09-15T15:29:41.839Z"
   },
   {
    "duration": 14,
    "start_time": "2024-09-15T15:29:41.851Z"
   },
   {
    "duration": 11,
    "start_time": "2024-09-15T15:29:41.866Z"
   },
   {
    "duration": 10,
    "start_time": "2024-09-15T15:29:41.879Z"
   },
   {
    "duration": 12,
    "start_time": "2024-09-15T15:29:41.890Z"
   },
   {
    "duration": 13,
    "start_time": "2024-09-15T15:29:41.903Z"
   },
   {
    "duration": 209,
    "start_time": "2024-09-15T15:29:41.917Z"
   },
   {
    "duration": 7,
    "start_time": "2024-09-15T15:29:42.128Z"
   },
   {
    "duration": 7,
    "start_time": "2024-09-15T15:29:42.137Z"
   },
   {
    "duration": 7,
    "start_time": "2024-09-15T15:29:42.148Z"
   },
   {
    "duration": 8,
    "start_time": "2024-09-15T15:29:42.156Z"
   },
   {
    "duration": 354,
    "start_time": "2024-09-15T15:29:42.165Z"
   },
   {
    "duration": 7,
    "start_time": "2024-09-15T15:29:42.520Z"
   },
   {
    "duration": 169,
    "start_time": "2024-09-15T15:29:42.529Z"
   },
   {
    "duration": 219,
    "start_time": "2024-09-15T15:29:42.699Z"
   },
   {
    "duration": 192,
    "start_time": "2024-09-15T15:29:42.920Z"
   },
   {
    "duration": 363,
    "start_time": "2024-09-15T15:29:43.114Z"
   },
   {
    "duration": 203,
    "start_time": "2024-09-15T15:29:43.479Z"
   },
   {
    "duration": 200,
    "start_time": "2024-09-15T15:29:43.684Z"
   },
   {
    "duration": 153,
    "start_time": "2024-09-15T15:29:43.886Z"
   },
   {
    "duration": 195,
    "start_time": "2024-09-15T15:29:44.041Z"
   },
   {
    "duration": 181,
    "start_time": "2024-09-15T15:29:44.238Z"
   },
   {
    "duration": 188,
    "start_time": "2024-09-15T15:29:44.421Z"
   },
   {
    "duration": 209,
    "start_time": "2024-09-15T15:29:44.611Z"
   },
   {
    "duration": 11,
    "start_time": "2024-09-15T15:29:44.822Z"
   },
   {
    "duration": 212,
    "start_time": "2024-09-15T15:29:44.835Z"
   },
   {
    "duration": 5,
    "start_time": "2024-09-15T15:29:45.049Z"
   },
   {
    "duration": 15,
    "start_time": "2024-09-15T15:29:45.056Z"
   },
   {
    "duration": 27,
    "start_time": "2024-09-15T15:29:45.073Z"
   },
   {
    "duration": 28,
    "start_time": "2024-09-15T15:29:45.102Z"
   },
   {
    "duration": 1142,
    "start_time": "2024-09-15T15:29:45.131Z"
   },
   {
    "duration": 31,
    "start_time": "2024-09-15T15:29:46.275Z"
   },
   {
    "duration": 6,
    "start_time": "2024-09-15T15:29:46.307Z"
   },
   {
    "duration": 15,
    "start_time": "2024-09-15T15:29:46.314Z"
   },
   {
    "duration": 167,
    "start_time": "2024-09-15T15:29:46.331Z"
   },
   {
    "duration": 416,
    "start_time": "2024-09-15T15:29:46.500Z"
   },
   {
    "duration": 189,
    "start_time": "2024-09-15T15:45:05.776Z"
   },
   {
    "duration": 167,
    "start_time": "2024-09-15T15:45:11.463Z"
   },
   {
    "duration": 169,
    "start_time": "2024-09-15T15:45:21.688Z"
   },
   {
    "duration": 199,
    "start_time": "2024-09-15T15:45:33.437Z"
   },
   {
    "duration": 192,
    "start_time": "2024-09-15T15:45:41.364Z"
   },
   {
    "duration": 173,
    "start_time": "2024-09-15T15:45:44.545Z"
   },
   {
    "duration": 250,
    "start_time": "2024-09-15T15:45:51.330Z"
   },
   {
    "duration": 337,
    "start_time": "2024-09-15T15:47:03.388Z"
   },
   {
    "duration": 270,
    "start_time": "2024-09-15T15:47:12.802Z"
   },
   {
    "duration": 272,
    "start_time": "2024-09-15T15:47:23.304Z"
   },
   {
    "duration": 251,
    "start_time": "2024-09-15T15:47:33.945Z"
   },
   {
    "duration": 212,
    "start_time": "2024-09-15T15:48:00.422Z"
   },
   {
    "duration": 197,
    "start_time": "2024-09-15T15:48:11.550Z"
   },
   {
    "duration": 280,
    "start_time": "2024-09-15T15:48:34.617Z"
   },
   {
    "duration": 182,
    "start_time": "2024-09-15T15:48:39.987Z"
   },
   {
    "duration": 19,
    "start_time": "2024-09-15T15:52:37.434Z"
   },
   {
    "duration": 402,
    "start_time": "2024-09-15T15:53:09.820Z"
   },
   {
    "duration": 828,
    "start_time": "2024-09-15T15:53:19.996Z"
   },
   {
    "duration": 16,
    "start_time": "2024-09-15T15:53:20.826Z"
   },
   {
    "duration": 23,
    "start_time": "2024-09-15T15:53:20.844Z"
   },
   {
    "duration": 2056,
    "start_time": "2024-09-15T15:53:20.869Z"
   },
   {
    "duration": 10,
    "start_time": "2024-09-15T15:53:22.928Z"
   },
   {
    "duration": 11,
    "start_time": "2024-09-15T15:53:22.939Z"
   },
   {
    "duration": 11,
    "start_time": "2024-09-15T15:53:22.952Z"
   },
   {
    "duration": 27,
    "start_time": "2024-09-15T15:53:22.964Z"
   },
   {
    "duration": 16,
    "start_time": "2024-09-15T15:53:22.992Z"
   },
   {
    "duration": 6,
    "start_time": "2024-09-15T15:53:23.010Z"
   },
   {
    "duration": 266,
    "start_time": "2024-09-15T15:53:23.017Z"
   },
   {
    "duration": 9,
    "start_time": "2024-09-15T15:53:23.285Z"
   },
   {
    "duration": 14,
    "start_time": "2024-09-15T15:53:23.296Z"
   },
   {
    "duration": 8,
    "start_time": "2024-09-15T15:53:23.313Z"
   },
   {
    "duration": 7,
    "start_time": "2024-09-15T15:53:23.323Z"
   },
   {
    "duration": 368,
    "start_time": "2024-09-15T15:53:23.332Z"
   },
   {
    "duration": 8,
    "start_time": "2024-09-15T15:53:23.701Z"
   },
   {
    "duration": 188,
    "start_time": "2024-09-15T15:53:23.711Z"
   },
   {
    "duration": 219,
    "start_time": "2024-09-15T15:53:23.904Z"
   },
   {
    "duration": 206,
    "start_time": "2024-09-15T15:53:24.124Z"
   },
   {
    "duration": 374,
    "start_time": "2024-09-15T15:53:24.331Z"
   },
   {
    "duration": 228,
    "start_time": "2024-09-15T15:53:24.707Z"
   },
   {
    "duration": 194,
    "start_time": "2024-09-15T15:53:24.937Z"
   },
   {
    "duration": 155,
    "start_time": "2024-09-15T15:53:25.133Z"
   },
   {
    "duration": 193,
    "start_time": "2024-09-15T15:53:25.290Z"
   },
   {
    "duration": 177,
    "start_time": "2024-09-15T15:53:25.485Z"
   },
   {
    "duration": 181,
    "start_time": "2024-09-15T15:53:25.663Z"
   },
   {
    "duration": 226,
    "start_time": "2024-09-15T15:53:25.845Z"
   },
   {
    "duration": 35,
    "start_time": "2024-09-15T15:53:26.073Z"
   },
   {
    "duration": 188,
    "start_time": "2024-09-15T15:53:26.109Z"
   },
   {
    "duration": 9,
    "start_time": "2024-09-15T15:53:26.299Z"
   },
   {
    "duration": 5,
    "start_time": "2024-09-15T15:53:26.310Z"
   },
   {
    "duration": 5,
    "start_time": "2024-09-15T15:53:26.316Z"
   },
   {
    "duration": 19,
    "start_time": "2024-09-15T15:53:26.323Z"
   },
   {
    "duration": 1937,
    "start_time": "2024-09-15T15:53:26.344Z"
   },
   {
    "duration": 31,
    "start_time": "2024-09-15T15:53:28.283Z"
   },
   {
    "duration": 6,
    "start_time": "2024-09-15T15:53:28.315Z"
   },
   {
    "duration": 19,
    "start_time": "2024-09-15T15:53:28.322Z"
   },
   {
    "duration": 170,
    "start_time": "2024-09-15T15:53:28.342Z"
   },
   {
    "duration": 354,
    "start_time": "2024-09-15T15:53:28.514Z"
   },
   {
    "duration": 19,
    "start_time": "2024-09-15T15:53:49.509Z"
   },
   {
    "duration": 203,
    "start_time": "2024-09-15T15:53:52.040Z"
   },
   {
    "duration": 359,
    "start_time": "2024-09-15T15:54:03.617Z"
   },
   {
    "duration": 454,
    "start_time": "2024-09-15T15:54:11.813Z"
   },
   {
    "duration": 379,
    "start_time": "2024-09-15T15:54:18.422Z"
   },
   {
    "duration": 341,
    "start_time": "2024-09-15T15:54:23.525Z"
   },
   {
    "duration": 1020,
    "start_time": "2024-09-15T16:54:07.995Z"
   },
   {
    "duration": 16,
    "start_time": "2024-09-15T16:54:09.017Z"
   },
   {
    "duration": 26,
    "start_time": "2024-09-15T16:54:09.034Z"
   },
   {
    "duration": 1979,
    "start_time": "2024-09-15T16:54:09.062Z"
   },
   {
    "duration": 12,
    "start_time": "2024-09-15T16:54:11.043Z"
   },
   {
    "duration": 12,
    "start_time": "2024-09-15T16:54:11.057Z"
   },
   {
    "duration": 11,
    "start_time": "2024-09-15T16:54:11.071Z"
   },
   {
    "duration": 25,
    "start_time": "2024-09-15T16:54:11.084Z"
   },
   {
    "duration": 7,
    "start_time": "2024-09-15T16:54:11.111Z"
   },
   {
    "duration": 7,
    "start_time": "2024-09-15T16:54:11.120Z"
   },
   {
    "duration": 243,
    "start_time": "2024-09-15T16:54:11.129Z"
   },
   {
    "duration": 9,
    "start_time": "2024-09-15T16:54:11.374Z"
   },
   {
    "duration": 23,
    "start_time": "2024-09-15T16:54:11.385Z"
   },
   {
    "duration": 9,
    "start_time": "2024-09-15T16:54:11.410Z"
   },
   {
    "duration": 8,
    "start_time": "2024-09-15T16:54:11.421Z"
   },
   {
    "duration": 359,
    "start_time": "2024-09-15T16:54:11.430Z"
   },
   {
    "duration": 9,
    "start_time": "2024-09-15T16:54:11.791Z"
   },
   {
    "duration": 215,
    "start_time": "2024-09-15T16:54:11.806Z"
   },
   {
    "duration": 212,
    "start_time": "2024-09-15T16:54:12.023Z"
   },
   {
    "duration": 183,
    "start_time": "2024-09-15T16:54:12.237Z"
   },
   {
    "duration": 351,
    "start_time": "2024-09-15T16:54:12.422Z"
   },
   {
    "duration": 236,
    "start_time": "2024-09-15T16:54:12.775Z"
   },
   {
    "duration": 199,
    "start_time": "2024-09-15T16:54:13.013Z"
   },
   {
    "duration": 148,
    "start_time": "2024-09-15T16:54:13.214Z"
   },
   {
    "duration": 179,
    "start_time": "2024-09-15T16:54:13.364Z"
   },
   {
    "duration": 174,
    "start_time": "2024-09-15T16:54:13.545Z"
   },
   {
    "duration": 197,
    "start_time": "2024-09-15T16:54:13.721Z"
   },
   {
    "duration": 202,
    "start_time": "2024-09-15T16:54:13.921Z"
   },
   {
    "duration": 29,
    "start_time": "2024-09-15T16:54:14.125Z"
   },
   {
    "duration": 195,
    "start_time": "2024-09-15T16:54:14.156Z"
   },
   {
    "duration": 6,
    "start_time": "2024-09-15T16:54:14.352Z"
   },
   {
    "duration": 17,
    "start_time": "2024-09-15T16:54:14.360Z"
   },
   {
    "duration": 11,
    "start_time": "2024-09-15T16:54:14.378Z"
   },
   {
    "duration": 40,
    "start_time": "2024-09-15T16:54:14.391Z"
   },
   {
    "duration": 1141,
    "start_time": "2024-09-15T16:54:14.433Z"
   },
   {
    "duration": 31,
    "start_time": "2024-09-15T16:54:15.575Z"
   },
   {
    "duration": 28,
    "start_time": "2024-09-15T16:54:15.608Z"
   },
   {
    "duration": 22,
    "start_time": "2024-09-15T16:54:15.638Z"
   },
   {
    "duration": 149,
    "start_time": "2024-09-15T16:54:15.661Z"
   },
   {
    "duration": 435,
    "start_time": "2024-09-15T16:54:15.812Z"
   },
   {
    "duration": 47,
    "start_time": "2024-09-16T05:18:32.035Z"
   },
   {
    "duration": 1195,
    "start_time": "2024-09-16T05:18:39.276Z"
   },
   {
    "duration": 15,
    "start_time": "2024-09-16T05:18:40.474Z"
   },
   {
    "duration": 7,
    "start_time": "2024-09-16T05:18:40.491Z"
   },
   {
    "duration": 1910,
    "start_time": "2024-09-16T05:18:40.500Z"
   },
   {
    "duration": 14,
    "start_time": "2024-09-16T05:18:42.414Z"
   },
   {
    "duration": 16,
    "start_time": "2024-09-16T05:18:42.430Z"
   },
   {
    "duration": 15,
    "start_time": "2024-09-16T05:18:42.448Z"
   },
   {
    "duration": 26,
    "start_time": "2024-09-16T05:18:42.465Z"
   },
   {
    "duration": 8,
    "start_time": "2024-09-16T05:18:42.492Z"
   },
   {
    "duration": 6,
    "start_time": "2024-09-16T05:18:42.502Z"
   },
   {
    "duration": 233,
    "start_time": "2024-09-16T05:18:42.509Z"
   },
   {
    "duration": 8,
    "start_time": "2024-09-16T05:18:42.743Z"
   },
   {
    "duration": 11,
    "start_time": "2024-09-16T05:18:42.753Z"
   },
   {
    "duration": 23,
    "start_time": "2024-09-16T05:18:42.767Z"
   },
   {
    "duration": 7,
    "start_time": "2024-09-16T05:18:42.792Z"
   },
   {
    "duration": 344,
    "start_time": "2024-09-16T05:18:42.800Z"
   },
   {
    "duration": 7,
    "start_time": "2024-09-16T05:18:43.146Z"
   },
   {
    "duration": 200,
    "start_time": "2024-09-16T05:18:43.154Z"
   },
   {
    "duration": 219,
    "start_time": "2024-09-16T05:18:43.356Z"
   },
   {
    "duration": 272,
    "start_time": "2024-09-16T05:18:43.576Z"
   },
   {
    "duration": 248,
    "start_time": "2024-09-16T05:18:43.850Z"
   },
   {
    "duration": 192,
    "start_time": "2024-09-16T05:18:44.100Z"
   },
   {
    "duration": 183,
    "start_time": "2024-09-16T05:18:44.295Z"
   },
   {
    "duration": 146,
    "start_time": "2024-09-16T05:18:44.480Z"
   },
   {
    "duration": 184,
    "start_time": "2024-09-16T05:18:44.628Z"
   },
   {
    "duration": 172,
    "start_time": "2024-09-16T05:18:44.814Z"
   },
   {
    "duration": 171,
    "start_time": "2024-09-16T05:18:44.987Z"
   },
   {
    "duration": 184,
    "start_time": "2024-09-16T05:18:45.160Z"
   },
   {
    "duration": 5,
    "start_time": "2024-09-16T05:18:45.347Z"
   },
   {
    "duration": 58,
    "start_time": "2024-09-16T05:18:45.354Z"
   },
   {
    "duration": 173,
    "start_time": "2024-09-16T05:18:45.413Z"
   },
   {
    "duration": 5,
    "start_time": "2024-09-16T05:18:45.588Z"
   },
   {
    "duration": 16,
    "start_time": "2024-09-16T05:18:45.594Z"
   },
   {
    "duration": 16,
    "start_time": "2024-09-16T05:18:45.611Z"
   },
   {
    "duration": 24,
    "start_time": "2024-09-16T05:18:45.629Z"
   },
   {
    "duration": 1078,
    "start_time": "2024-09-16T05:18:45.654Z"
   },
   {
    "duration": 21,
    "start_time": "2024-09-16T05:18:46.734Z"
   },
   {
    "duration": 12,
    "start_time": "2024-09-16T05:18:46.756Z"
   },
   {
    "duration": 30,
    "start_time": "2024-09-16T05:18:46.770Z"
   },
   {
    "duration": 159,
    "start_time": "2024-09-16T05:18:46.802Z"
   },
   {
    "duration": 431,
    "start_time": "2024-09-16T05:18:46.965Z"
   },
   {
    "duration": 731,
    "start_time": "2024-09-16T05:19:01.016Z"
   },
   {
    "duration": 22,
    "start_time": "2024-09-16T05:19:01.749Z"
   },
   {
    "duration": 18,
    "start_time": "2024-09-16T05:19:01.773Z"
   },
   {
    "duration": 1961,
    "start_time": "2024-09-16T05:19:01.793Z"
   },
   {
    "duration": 12,
    "start_time": "2024-09-16T05:19:03.757Z"
   },
   {
    "duration": 28,
    "start_time": "2024-09-16T05:19:03.770Z"
   },
   {
    "duration": 24,
    "start_time": "2024-09-16T05:19:03.800Z"
   },
   {
    "duration": 15,
    "start_time": "2024-09-16T05:19:03.825Z"
   },
   {
    "duration": 15,
    "start_time": "2024-09-16T05:19:03.841Z"
   },
   {
    "duration": 22,
    "start_time": "2024-09-16T05:19:03.857Z"
   },
   {
    "duration": 224,
    "start_time": "2024-09-16T05:19:03.880Z"
   },
   {
    "duration": 10,
    "start_time": "2024-09-16T05:19:04.106Z"
   },
   {
    "duration": 21,
    "start_time": "2024-09-16T05:19:04.117Z"
   },
   {
    "duration": 12,
    "start_time": "2024-09-16T05:19:04.141Z"
   },
   {
    "duration": 7,
    "start_time": "2024-09-16T05:19:04.154Z"
   },
   {
    "duration": 374,
    "start_time": "2024-09-16T05:19:04.163Z"
   },
   {
    "duration": 7,
    "start_time": "2024-09-16T05:19:04.538Z"
   },
   {
    "duration": 178,
    "start_time": "2024-09-16T05:19:04.547Z"
   },
   {
    "duration": 207,
    "start_time": "2024-09-16T05:19:04.726Z"
   },
   {
    "duration": 183,
    "start_time": "2024-09-16T05:19:04.934Z"
   },
   {
    "duration": 322,
    "start_time": "2024-09-16T05:19:05.119Z"
   },
   {
    "duration": 212,
    "start_time": "2024-09-16T05:19:05.443Z"
   },
   {
    "duration": 209,
    "start_time": "2024-09-16T05:19:05.657Z"
   },
   {
    "duration": 150,
    "start_time": "2024-09-16T05:19:05.868Z"
   },
   {
    "duration": 184,
    "start_time": "2024-09-16T05:19:06.019Z"
   },
   {
    "duration": 173,
    "start_time": "2024-09-16T05:19:06.205Z"
   },
   {
    "duration": 228,
    "start_time": "2024-09-16T05:19:06.380Z"
   },
   {
    "duration": 182,
    "start_time": "2024-09-16T05:19:06.610Z"
   },
   {
    "duration": 4,
    "start_time": "2024-09-16T05:19:06.794Z"
   },
   {
    "duration": 26,
    "start_time": "2024-09-16T05:19:06.800Z"
   },
   {
    "duration": 6,
    "start_time": "2024-09-16T05:19:06.827Z"
   },
   {
    "duration": 192,
    "start_time": "2024-09-16T05:19:06.834Z"
   },
   {
    "duration": 5,
    "start_time": "2024-09-16T05:19:07.028Z"
   },
   {
    "duration": 15,
    "start_time": "2024-09-16T05:19:07.034Z"
   },
   {
    "duration": 3,
    "start_time": "2024-09-16T05:19:07.050Z"
   },
   {
    "duration": 34,
    "start_time": "2024-09-16T05:19:07.055Z"
   },
   {
    "duration": 1121,
    "start_time": "2024-09-16T05:19:07.091Z"
   },
   {
    "duration": 22,
    "start_time": "2024-09-16T05:19:08.214Z"
   },
   {
    "duration": 26,
    "start_time": "2024-09-16T05:19:08.237Z"
   },
   {
    "duration": 11,
    "start_time": "2024-09-16T05:19:08.265Z"
   },
   {
    "duration": 137,
    "start_time": "2024-09-16T05:19:08.289Z"
   },
   {
    "duration": 374,
    "start_time": "2024-09-16T05:19:08.428Z"
   },
   {
    "duration": 9,
    "start_time": "2024-09-16T05:19:42.180Z"
   },
   {
    "duration": 25,
    "start_time": "2024-09-16T05:21:50.217Z"
   },
   {
    "duration": 389,
    "start_time": "2024-09-16T05:21:50.581Z"
   },
   {
    "duration": 47,
    "start_time": "2024-09-16T05:22:55.695Z"
   },
   {
    "duration": 52,
    "start_time": "2024-09-16T05:23:01.956Z"
   },
   {
    "duration": 16,
    "start_time": "2024-09-16T05:23:12.033Z"
   },
   {
    "duration": 329,
    "start_time": "2024-09-16T05:23:14.781Z"
   },
   {
    "duration": 77,
    "start_time": "2024-09-16T05:23:23.754Z"
   },
   {
    "duration": 16,
    "start_time": "2024-09-16T05:23:30.841Z"
   },
   {
    "duration": 349,
    "start_time": "2024-09-16T05:23:32.874Z"
   },
   {
    "duration": 19,
    "start_time": "2024-09-16T05:24:08.110Z"
   },
   {
    "duration": 326,
    "start_time": "2024-09-16T05:24:08.375Z"
   },
   {
    "duration": 17,
    "start_time": "2024-09-16T05:24:18.079Z"
   },
   {
    "duration": 367,
    "start_time": "2024-09-16T05:24:18.573Z"
   },
   {
    "duration": 51,
    "start_time": "2024-09-16T10:45:05.495Z"
   },
   {
    "duration": 1214,
    "start_time": "2024-09-16T10:45:10.751Z"
   },
   {
    "duration": 16,
    "start_time": "2024-09-16T10:45:11.966Z"
   },
   {
    "duration": 17,
    "start_time": "2024-09-16T10:45:11.984Z"
   },
   {
    "duration": 2084,
    "start_time": "2024-09-16T10:45:12.004Z"
   },
   {
    "duration": 11,
    "start_time": "2024-09-16T10:45:14.090Z"
   },
   {
    "duration": 22,
    "start_time": "2024-09-16T10:45:14.102Z"
   },
   {
    "duration": 12,
    "start_time": "2024-09-16T10:45:14.126Z"
   },
   {
    "duration": 12,
    "start_time": "2024-09-16T10:45:14.140Z"
   },
   {
    "duration": 28,
    "start_time": "2024-09-16T10:45:14.154Z"
   },
   {
    "duration": 7,
    "start_time": "2024-09-16T10:45:14.184Z"
   },
   {
    "duration": 228,
    "start_time": "2024-09-16T10:45:14.193Z"
   },
   {
    "duration": 9,
    "start_time": "2024-09-16T10:45:14.423Z"
   },
   {
    "duration": 12,
    "start_time": "2024-09-16T10:45:14.434Z"
   },
   {
    "duration": 35,
    "start_time": "2024-09-16T10:45:14.447Z"
   },
   {
    "duration": 11,
    "start_time": "2024-09-16T10:45:14.485Z"
   },
   {
    "duration": 359,
    "start_time": "2024-09-16T10:45:14.498Z"
   },
   {
    "duration": 8,
    "start_time": "2024-09-16T10:45:14.859Z"
   },
   {
    "duration": 185,
    "start_time": "2024-09-16T10:45:14.875Z"
   },
   {
    "duration": 244,
    "start_time": "2024-09-16T10:45:15.062Z"
   },
   {
    "duration": 200,
    "start_time": "2024-09-16T10:45:15.308Z"
   },
   {
    "duration": 368,
    "start_time": "2024-09-16T10:45:15.510Z"
   },
   {
    "duration": 204,
    "start_time": "2024-09-16T10:45:15.880Z"
   },
   {
    "duration": 206,
    "start_time": "2024-09-16T10:45:16.086Z"
   },
   {
    "duration": 158,
    "start_time": "2024-09-16T10:45:16.294Z"
   },
   {
    "duration": 197,
    "start_time": "2024-09-16T10:45:16.455Z"
   },
   {
    "duration": 184,
    "start_time": "2024-09-16T10:45:16.654Z"
   },
   {
    "duration": 178,
    "start_time": "2024-09-16T10:45:16.839Z"
   },
   {
    "duration": 195,
    "start_time": "2024-09-16T10:45:17.020Z"
   },
   {
    "duration": 182,
    "start_time": "2024-09-16T10:45:17.217Z"
   },
   {
    "duration": 86,
    "start_time": "2024-09-16T10:45:17.401Z"
   },
   {
    "duration": 0,
    "start_time": "2024-09-16T10:45:17.488Z"
   },
   {
    "duration": 0,
    "start_time": "2024-09-16T10:45:17.490Z"
   },
   {
    "duration": 0,
    "start_time": "2024-09-16T10:45:17.492Z"
   },
   {
    "duration": 0,
    "start_time": "2024-09-16T10:45:17.493Z"
   },
   {
    "duration": 0,
    "start_time": "2024-09-16T10:45:17.495Z"
   },
   {
    "duration": 0,
    "start_time": "2024-09-16T10:45:17.496Z"
   },
   {
    "duration": 0,
    "start_time": "2024-09-16T10:45:17.498Z"
   },
   {
    "duration": 0,
    "start_time": "2024-09-16T10:45:17.499Z"
   },
   {
    "duration": 0,
    "start_time": "2024-09-16T10:45:17.501Z"
   },
   {
    "duration": 10,
    "start_time": "2024-09-16T10:55:28.857Z"
   },
   {
    "duration": 9,
    "start_time": "2024-09-16T10:55:40.380Z"
   },
   {
    "duration": 179,
    "start_time": "2024-09-16T10:55:47.820Z"
   },
   {
    "duration": 10,
    "start_time": "2024-09-16T10:56:28.990Z"
   },
   {
    "duration": 364,
    "start_time": "2024-09-16T10:56:40.373Z"
   },
   {
    "duration": 7,
    "start_time": "2024-09-16T10:56:56.554Z"
   },
   {
    "duration": 11,
    "start_time": "2024-09-16T10:57:03.899Z"
   },
   {
    "duration": 208,
    "start_time": "2024-09-16T10:57:08.359Z"
   },
   {
    "duration": 16,
    "start_time": "2024-09-16T10:57:40.409Z"
   },
   {
    "duration": 202,
    "start_time": "2024-09-16T10:57:46.132Z"
   },
   {
    "duration": 217,
    "start_time": "2024-09-16T10:58:01.572Z"
   },
   {
    "duration": 164,
    "start_time": "2024-09-16T10:58:14.537Z"
   },
   {
    "duration": 217,
    "start_time": "2024-09-16T10:58:18.602Z"
   },
   {
    "duration": 187,
    "start_time": "2024-09-16T10:58:27.202Z"
   },
   {
    "duration": 6,
    "start_time": "2024-09-16T10:58:44.937Z"
   },
   {
    "duration": 6,
    "start_time": "2024-09-16T10:58:48.685Z"
   },
   {
    "duration": 23,
    "start_time": "2024-09-16T10:59:50.205Z"
   },
   {
    "duration": 1186,
    "start_time": "2024-09-16T11:00:24.101Z"
   },
   {
    "duration": 24,
    "start_time": "2024-09-16T11:00:40.858Z"
   },
   {
    "duration": 6,
    "start_time": "2024-09-16T11:00:55.366Z"
   },
   {
    "duration": 8,
    "start_time": "2024-09-16T11:00:58.140Z"
   },
   {
    "duration": 8,
    "start_time": "2024-09-16T11:01:05.957Z"
   },
   {
    "duration": 176,
    "start_time": "2024-09-16T11:01:10.537Z"
   },
   {
    "duration": 856,
    "start_time": "2024-09-16T11:03:15.249Z"
   },
   {
    "duration": 16,
    "start_time": "2024-09-16T11:03:16.107Z"
   },
   {
    "duration": 44,
    "start_time": "2024-09-16T11:03:16.125Z"
   },
   {
    "duration": 2134,
    "start_time": "2024-09-16T11:03:16.171Z"
   },
   {
    "duration": 10,
    "start_time": "2024-09-16T11:03:18.306Z"
   },
   {
    "duration": 20,
    "start_time": "2024-09-16T11:03:18.317Z"
   },
   {
    "duration": 18,
    "start_time": "2024-09-16T11:03:18.339Z"
   },
   {
    "duration": 25,
    "start_time": "2024-09-16T11:03:18.358Z"
   },
   {
    "duration": 63,
    "start_time": "2024-09-16T11:03:18.385Z"
   },
   {
    "duration": 12,
    "start_time": "2024-09-16T11:03:18.451Z"
   },
   {
    "duration": 231,
    "start_time": "2024-09-16T11:03:18.465Z"
   },
   {
    "duration": 8,
    "start_time": "2024-09-16T11:03:18.698Z"
   },
   {
    "duration": 8,
    "start_time": "2024-09-16T11:03:18.708Z"
   },
   {
    "duration": 8,
    "start_time": "2024-09-16T11:03:18.717Z"
   },
   {
    "duration": 8,
    "start_time": "2024-09-16T11:03:18.727Z"
   },
   {
    "duration": 347,
    "start_time": "2024-09-16T11:03:18.776Z"
   },
   {
    "duration": 8,
    "start_time": "2024-09-16T11:03:19.124Z"
   },
   {
    "duration": 211,
    "start_time": "2024-09-16T11:03:19.133Z"
   },
   {
    "duration": 261,
    "start_time": "2024-09-16T11:03:19.346Z"
   },
   {
    "duration": 204,
    "start_time": "2024-09-16T11:03:19.608Z"
   },
   {
    "duration": 383,
    "start_time": "2024-09-16T11:03:19.813Z"
   },
   {
    "duration": 227,
    "start_time": "2024-09-16T11:03:20.197Z"
   },
   {
    "duration": 237,
    "start_time": "2024-09-16T11:03:20.426Z"
   },
   {
    "duration": 178,
    "start_time": "2024-09-16T11:03:20.665Z"
   },
   {
    "duration": 211,
    "start_time": "2024-09-16T11:03:20.845Z"
   },
   {
    "duration": 211,
    "start_time": "2024-09-16T11:03:21.059Z"
   },
   {
    "duration": 176,
    "start_time": "2024-09-16T11:03:21.275Z"
   },
   {
    "duration": 188,
    "start_time": "2024-09-16T11:03:21.454Z"
   },
   {
    "duration": 210,
    "start_time": "2024-09-16T11:03:21.644Z"
   },
   {
    "duration": 6,
    "start_time": "2024-09-16T11:03:21.856Z"
   },
   {
    "duration": 16,
    "start_time": "2024-09-16T11:03:21.863Z"
   },
   {
    "duration": 26,
    "start_time": "2024-09-16T11:03:21.881Z"
   },
   {
    "duration": 1208,
    "start_time": "2024-09-16T11:03:21.909Z"
   },
   {
    "duration": 24,
    "start_time": "2024-09-16T11:03:23.118Z"
   },
   {
    "duration": 5,
    "start_time": "2024-09-16T11:03:23.144Z"
   },
   {
    "duration": 29,
    "start_time": "2024-09-16T11:03:23.151Z"
   },
   {
    "duration": 164,
    "start_time": "2024-09-16T11:03:23.182Z"
   },
   {
    "duration": 89,
    "start_time": "2024-09-16T11:03:23.348Z"
   },
   {
    "duration": 212,
    "start_time": "2024-09-16T11:04:12.896Z"
   },
   {
    "duration": 214,
    "start_time": "2024-09-16T11:04:18.101Z"
   },
   {
    "duration": 155,
    "start_time": "2024-09-16T11:16:37.647Z"
   },
   {
    "duration": 158,
    "start_time": "2024-09-16T11:17:00.160Z"
   },
   {
    "duration": 173,
    "start_time": "2024-09-16T11:17:28.039Z"
   },
   {
    "duration": 57,
    "start_time": "2024-09-16T11:19:04.188Z"
   },
   {
    "duration": 31,
    "start_time": "2024-09-16T11:24:03.983Z"
   },
   {
    "duration": 496,
    "start_time": "2024-09-16T11:24:35.734Z"
   },
   {
    "duration": 304,
    "start_time": "2024-09-16T11:33:33.129Z"
   },
   {
    "duration": 192,
    "start_time": "2024-09-16T11:33:49.998Z"
   },
   {
    "duration": 12,
    "start_time": "2024-09-16T11:34:16.462Z"
   },
   {
    "duration": 20,
    "start_time": "2024-09-16T11:34:53.524Z"
   },
   {
    "duration": 199,
    "start_time": "2024-09-16T11:35:11.443Z"
   },
   {
    "duration": 636,
    "start_time": "2024-09-16T11:35:27.694Z"
   },
   {
    "duration": 869,
    "start_time": "2024-09-16T11:35:38.765Z"
   },
   {
    "duration": 17,
    "start_time": "2024-09-16T11:35:39.636Z"
   },
   {
    "duration": 27,
    "start_time": "2024-09-16T11:35:39.655Z"
   },
   {
    "duration": 2161,
    "start_time": "2024-09-16T11:35:39.684Z"
   },
   {
    "duration": 13,
    "start_time": "2024-09-16T11:35:41.847Z"
   },
   {
    "duration": 21,
    "start_time": "2024-09-16T11:35:41.862Z"
   },
   {
    "duration": 13,
    "start_time": "2024-09-16T11:35:41.885Z"
   },
   {
    "duration": 16,
    "start_time": "2024-09-16T11:35:41.900Z"
   },
   {
    "duration": 9,
    "start_time": "2024-09-16T11:35:41.918Z"
   },
   {
    "duration": 49,
    "start_time": "2024-09-16T11:35:41.930Z"
   },
   {
    "duration": 240,
    "start_time": "2024-09-16T11:35:41.981Z"
   },
   {
    "duration": 10,
    "start_time": "2024-09-16T11:35:42.223Z"
   },
   {
    "duration": 9,
    "start_time": "2024-09-16T11:35:42.235Z"
   },
   {
    "duration": 32,
    "start_time": "2024-09-16T11:35:42.246Z"
   },
   {
    "duration": 8,
    "start_time": "2024-09-16T11:35:42.280Z"
   },
   {
    "duration": 382,
    "start_time": "2024-09-16T11:35:42.289Z"
   },
   {
    "duration": 8,
    "start_time": "2024-09-16T11:35:42.675Z"
   },
   {
    "duration": 225,
    "start_time": "2024-09-16T11:35:42.685Z"
   },
   {
    "duration": 237,
    "start_time": "2024-09-16T11:35:42.912Z"
   },
   {
    "duration": 231,
    "start_time": "2024-09-16T11:35:43.151Z"
   },
   {
    "duration": 377,
    "start_time": "2024-09-16T11:35:43.384Z"
   },
   {
    "duration": 208,
    "start_time": "2024-09-16T11:35:43.763Z"
   },
   {
    "duration": 202,
    "start_time": "2024-09-16T11:35:43.973Z"
   },
   {
    "duration": 142,
    "start_time": "2024-09-16T11:35:44.177Z"
   },
   {
    "duration": 205,
    "start_time": "2024-09-16T11:35:44.321Z"
   },
   {
    "duration": 197,
    "start_time": "2024-09-16T11:35:44.527Z"
   },
   {
    "duration": 183,
    "start_time": "2024-09-16T11:35:44.726Z"
   },
   {
    "duration": 190,
    "start_time": "2024-09-16T11:35:44.913Z"
   },
   {
    "duration": 209,
    "start_time": "2024-09-16T11:35:45.105Z"
   },
   {
    "duration": 201,
    "start_time": "2024-09-16T11:35:45.315Z"
   },
   {
    "duration": 7,
    "start_time": "2024-09-16T11:35:45.517Z"
   },
   {
    "duration": 5,
    "start_time": "2024-09-16T11:35:45.525Z"
   },
   {
    "duration": 50,
    "start_time": "2024-09-16T11:35:45.532Z"
   },
   {
    "duration": 1205,
    "start_time": "2024-09-16T11:35:45.583Z"
   },
   {
    "duration": 25,
    "start_time": "2024-09-16T11:35:46.790Z"
   },
   {
    "duration": 6,
    "start_time": "2024-09-16T11:35:46.816Z"
   },
   {
    "duration": 8,
    "start_time": "2024-09-16T11:35:46.823Z"
   },
   {
    "duration": 194,
    "start_time": "2024-09-16T11:35:46.832Z"
   },
   {
    "duration": 378,
    "start_time": "2024-09-16T11:35:47.028Z"
   },
   {
    "duration": 378,
    "start_time": "2024-09-16T11:35:53.161Z"
   },
   {
    "duration": 153,
    "start_time": "2024-09-16T11:36:16.512Z"
   },
   {
    "duration": 142,
    "start_time": "2024-09-16T11:36:23.054Z"
   },
   {
    "duration": 9,
    "start_time": "2024-09-16T11:36:42.955Z"
   },
   {
    "duration": 14,
    "start_time": "2024-09-16T11:38:01.637Z"
   },
   {
    "duration": 13,
    "start_time": "2024-09-16T11:38:04.080Z"
   },
   {
    "duration": 5,
    "start_time": "2024-09-16T11:38:20.125Z"
   },
   {
    "duration": 8,
    "start_time": "2024-09-16T11:38:23.642Z"
   },
   {
    "duration": 995,
    "start_time": "2024-09-16T11:39:22.598Z"
   },
   {
    "duration": 1010,
    "start_time": "2024-09-16T11:39:34.090Z"
   },
   {
    "duration": 13,
    "start_time": "2024-09-16T11:39:45.397Z"
   },
   {
    "duration": 20,
    "start_time": "2024-09-16T11:39:56.240Z"
   },
   {
    "duration": 357,
    "start_time": "2024-09-16T11:40:09.647Z"
   },
   {
    "duration": 828,
    "start_time": "2024-09-16T11:40:18.983Z"
   },
   {
    "duration": 16,
    "start_time": "2024-09-16T11:40:19.813Z"
   },
   {
    "duration": 6,
    "start_time": "2024-09-16T11:40:19.830Z"
   },
   {
    "duration": 2115,
    "start_time": "2024-09-16T11:40:19.838Z"
   },
   {
    "duration": 12,
    "start_time": "2024-09-16T11:40:21.954Z"
   },
   {
    "duration": 23,
    "start_time": "2024-09-16T11:40:21.967Z"
   },
   {
    "duration": 12,
    "start_time": "2024-09-16T11:40:21.991Z"
   },
   {
    "duration": 37,
    "start_time": "2024-09-16T11:40:22.005Z"
   },
   {
    "duration": 8,
    "start_time": "2024-09-16T11:40:22.044Z"
   },
   {
    "duration": 25,
    "start_time": "2024-09-16T11:40:22.054Z"
   },
   {
    "duration": 227,
    "start_time": "2024-09-16T11:40:22.080Z"
   },
   {
    "duration": 8,
    "start_time": "2024-09-16T11:40:22.309Z"
   },
   {
    "duration": 9,
    "start_time": "2024-09-16T11:40:22.318Z"
   },
   {
    "duration": 16,
    "start_time": "2024-09-16T11:40:22.329Z"
   },
   {
    "duration": 30,
    "start_time": "2024-09-16T11:40:22.347Z"
   },
   {
    "duration": 397,
    "start_time": "2024-09-16T11:40:22.379Z"
   },
   {
    "duration": 8,
    "start_time": "2024-09-16T11:40:22.778Z"
   },
   {
    "duration": 203,
    "start_time": "2024-09-16T11:40:22.788Z"
   },
   {
    "duration": 217,
    "start_time": "2024-09-16T11:40:22.993Z"
   },
   {
    "duration": 218,
    "start_time": "2024-09-16T11:40:23.213Z"
   },
   {
    "duration": 379,
    "start_time": "2024-09-16T11:40:23.433Z"
   },
   {
    "duration": 216,
    "start_time": "2024-09-16T11:40:23.814Z"
   },
   {
    "duration": 209,
    "start_time": "2024-09-16T11:40:24.032Z"
   },
   {
    "duration": 151,
    "start_time": "2024-09-16T11:40:24.243Z"
   },
   {
    "duration": 213,
    "start_time": "2024-09-16T11:40:24.395Z"
   },
   {
    "duration": 197,
    "start_time": "2024-09-16T11:40:24.610Z"
   },
   {
    "duration": 191,
    "start_time": "2024-09-16T11:40:24.810Z"
   },
   {
    "duration": 185,
    "start_time": "2024-09-16T11:40:25.004Z"
   },
   {
    "duration": 21,
    "start_time": "2024-09-16T11:40:25.191Z"
   },
   {
    "duration": 216,
    "start_time": "2024-09-16T11:40:25.214Z"
   },
   {
    "duration": 5,
    "start_time": "2024-09-16T11:40:25.432Z"
   },
   {
    "duration": 6,
    "start_time": "2024-09-16T11:40:25.440Z"
   },
   {
    "duration": 48,
    "start_time": "2024-09-16T11:40:25.448Z"
   },
   {
    "duration": 1246,
    "start_time": "2024-09-16T11:40:25.498Z"
   },
   {
    "duration": 38,
    "start_time": "2024-09-16T11:40:26.746Z"
   },
   {
    "duration": 5,
    "start_time": "2024-09-16T11:40:26.786Z"
   },
   {
    "duration": 8,
    "start_time": "2024-09-16T11:40:26.793Z"
   },
   {
    "duration": 175,
    "start_time": "2024-09-16T11:40:26.802Z"
   },
   {
    "duration": 355,
    "start_time": "2024-09-16T11:40:26.979Z"
   },
   {
    "duration": 598,
    "start_time": "2024-09-16T11:40:34.495Z"
   },
   {
    "duration": 478,
    "start_time": "2024-09-16T11:41:16.865Z"
   },
   {
    "duration": 11,
    "start_time": "2024-09-16T11:47:06.927Z"
   },
   {
    "duration": 893,
    "start_time": "2024-09-16T11:47:17.379Z"
   },
   {
    "duration": 18,
    "start_time": "2024-09-16T11:47:18.274Z"
   },
   {
    "duration": 7,
    "start_time": "2024-09-16T11:47:18.294Z"
   },
   {
    "duration": 2094,
    "start_time": "2024-09-16T11:47:18.303Z"
   },
   {
    "duration": 11,
    "start_time": "2024-09-16T11:47:20.399Z"
   },
   {
    "duration": 81,
    "start_time": "2024-09-16T11:47:20.411Z"
   },
   {
    "duration": 65,
    "start_time": "2024-09-16T11:47:20.494Z"
   },
   {
    "duration": 44,
    "start_time": "2024-09-16T11:47:20.561Z"
   },
   {
    "duration": 24,
    "start_time": "2024-09-16T11:47:20.608Z"
   },
   {
    "duration": 22,
    "start_time": "2024-09-16T11:47:20.636Z"
   },
   {
    "duration": 227,
    "start_time": "2024-09-16T11:47:20.660Z"
   },
   {
    "duration": 8,
    "start_time": "2024-09-16T11:47:20.888Z"
   },
   {
    "duration": 27,
    "start_time": "2024-09-16T11:47:20.898Z"
   },
   {
    "duration": 16,
    "start_time": "2024-09-16T11:47:20.927Z"
   },
   {
    "duration": 11,
    "start_time": "2024-09-16T11:47:20.945Z"
   },
   {
    "duration": 364,
    "start_time": "2024-09-16T11:47:20.976Z"
   },
   {
    "duration": 9,
    "start_time": "2024-09-16T11:47:21.342Z"
   },
   {
    "duration": 326,
    "start_time": "2024-09-16T11:47:21.353Z"
   },
   {
    "duration": 426,
    "start_time": "2024-09-16T11:47:21.681Z"
   },
   {
    "duration": 476,
    "start_time": "2024-09-16T11:47:22.108Z"
   },
   {
    "duration": 626,
    "start_time": "2024-09-16T11:47:22.585Z"
   },
   {
    "duration": 221,
    "start_time": "2024-09-16T11:47:23.213Z"
   },
   {
    "duration": 202,
    "start_time": "2024-09-16T11:47:23.435Z"
   },
   {
    "duration": 150,
    "start_time": "2024-09-16T11:47:23.639Z"
   },
   {
    "duration": 202,
    "start_time": "2024-09-16T11:47:23.791Z"
   },
   {
    "duration": 193,
    "start_time": "2024-09-16T11:47:23.994Z"
   },
   {
    "duration": 182,
    "start_time": "2024-09-16T11:47:24.189Z"
   },
   {
    "duration": 186,
    "start_time": "2024-09-16T11:47:24.375Z"
   },
   {
    "duration": 193,
    "start_time": "2024-09-16T11:47:24.563Z"
   },
   {
    "duration": 6,
    "start_time": "2024-09-16T11:47:24.758Z"
   },
   {
    "duration": 9,
    "start_time": "2024-09-16T11:47:24.776Z"
   },
   {
    "duration": 24,
    "start_time": "2024-09-16T11:47:24.787Z"
   },
   {
    "duration": 1196,
    "start_time": "2024-09-16T11:47:24.812Z"
   },
   {
    "duration": 35,
    "start_time": "2024-09-16T11:47:26.010Z"
   },
   {
    "duration": 7,
    "start_time": "2024-09-16T11:47:26.047Z"
   },
   {
    "duration": 8,
    "start_time": "2024-09-16T11:47:26.076Z"
   },
   {
    "duration": 170,
    "start_time": "2024-09-16T11:47:26.086Z"
   },
   {
    "duration": 24,
    "start_time": "2024-09-16T11:47:26.258Z"
   },
   {
    "duration": 422,
    "start_time": "2024-09-16T11:47:26.284Z"
   },
   {
    "duration": 11,
    "start_time": "2024-09-16T11:49:32.046Z"
   },
   {
    "duration": 11,
    "start_time": "2024-09-16T11:49:46.669Z"
   },
   {
    "duration": 808,
    "start_time": "2024-09-16T11:49:52.298Z"
   },
   {
    "duration": 17,
    "start_time": "2024-09-16T11:49:53.109Z"
   },
   {
    "duration": 7,
    "start_time": "2024-09-16T11:49:53.127Z"
   },
   {
    "duration": 2185,
    "start_time": "2024-09-16T11:49:53.136Z"
   },
   {
    "duration": 10,
    "start_time": "2024-09-16T11:49:55.323Z"
   },
   {
    "duration": 11,
    "start_time": "2024-09-16T11:49:55.335Z"
   },
   {
    "duration": 23,
    "start_time": "2024-09-16T11:49:55.347Z"
   },
   {
    "duration": 12,
    "start_time": "2024-09-16T11:49:55.372Z"
   },
   {
    "duration": 8,
    "start_time": "2024-09-16T11:49:55.386Z"
   },
   {
    "duration": 6,
    "start_time": "2024-09-16T11:49:55.397Z"
   },
   {
    "duration": 249,
    "start_time": "2024-09-16T11:49:55.405Z"
   },
   {
    "duration": 23,
    "start_time": "2024-09-16T11:49:55.657Z"
   },
   {
    "duration": 12,
    "start_time": "2024-09-16T11:49:55.682Z"
   },
   {
    "duration": 11,
    "start_time": "2024-09-16T11:49:55.696Z"
   },
   {
    "duration": 11,
    "start_time": "2024-09-16T11:49:55.709Z"
   },
   {
    "duration": 380,
    "start_time": "2024-09-16T11:49:55.721Z"
   },
   {
    "duration": 8,
    "start_time": "2024-09-16T11:49:56.103Z"
   },
   {
    "duration": 201,
    "start_time": "2024-09-16T11:49:56.112Z"
   },
   {
    "duration": 231,
    "start_time": "2024-09-16T11:49:56.315Z"
   },
   {
    "duration": 199,
    "start_time": "2024-09-16T11:49:56.548Z"
   },
   {
    "duration": 371,
    "start_time": "2024-09-16T11:49:56.748Z"
   },
   {
    "duration": 207,
    "start_time": "2024-09-16T11:49:57.120Z"
   },
   {
    "duration": 10,
    "start_time": "2024-09-16T11:49:57.328Z"
   },
   {
    "duration": 236,
    "start_time": "2024-09-16T11:49:57.340Z"
   },
   {
    "duration": 11,
    "start_time": "2024-09-16T11:49:57.577Z"
   },
   {
    "duration": 159,
    "start_time": "2024-09-16T11:49:57.589Z"
   },
   {
    "duration": 198,
    "start_time": "2024-09-16T11:49:57.749Z"
   },
   {
    "duration": 196,
    "start_time": "2024-09-16T11:49:57.952Z"
   },
   {
    "duration": 214,
    "start_time": "2024-09-16T11:49:58.150Z"
   },
   {
    "duration": 177,
    "start_time": "2024-09-16T11:49:58.367Z"
   },
   {
    "duration": 204,
    "start_time": "2024-09-16T11:49:58.546Z"
   },
   {
    "duration": 5,
    "start_time": "2024-09-16T11:49:58.752Z"
   },
   {
    "duration": 21,
    "start_time": "2024-09-16T11:49:58.759Z"
   },
   {
    "duration": 21,
    "start_time": "2024-09-16T11:49:58.782Z"
   },
   {
    "duration": 1310,
    "start_time": "2024-09-16T11:49:58.805Z"
   },
   {
    "duration": 24,
    "start_time": "2024-09-16T11:50:00.117Z"
   },
   {
    "duration": 24,
    "start_time": "2024-09-16T11:50:00.142Z"
   },
   {
    "duration": 35,
    "start_time": "2024-09-16T11:50:00.167Z"
   },
   {
    "duration": 149,
    "start_time": "2024-09-16T11:50:00.204Z"
   },
   {
    "duration": 387,
    "start_time": "2024-09-16T11:50:00.355Z"
   },
   {
    "duration": 214,
    "start_time": "2024-09-16T11:54:40.135Z"
   },
   {
    "duration": 185,
    "start_time": "2024-09-16T11:54:51.564Z"
   },
   {
    "duration": 193,
    "start_time": "2024-09-16T11:55:04.159Z"
   },
   {
    "duration": 838,
    "start_time": "2024-09-16T11:55:13.561Z"
   },
   {
    "duration": 16,
    "start_time": "2024-09-16T11:55:14.400Z"
   },
   {
    "duration": 6,
    "start_time": "2024-09-16T11:55:14.419Z"
   },
   {
    "duration": 2145,
    "start_time": "2024-09-16T11:55:14.428Z"
   },
   {
    "duration": 10,
    "start_time": "2024-09-16T11:55:16.574Z"
   },
   {
    "duration": 27,
    "start_time": "2024-09-16T11:55:16.586Z"
   },
   {
    "duration": 13,
    "start_time": "2024-09-16T11:55:16.614Z"
   },
   {
    "duration": 22,
    "start_time": "2024-09-16T11:55:16.629Z"
   },
   {
    "duration": 30,
    "start_time": "2024-09-16T11:55:16.652Z"
   },
   {
    "duration": 8,
    "start_time": "2024-09-16T11:55:16.683Z"
   },
   {
    "duration": 237,
    "start_time": "2024-09-16T11:55:16.693Z"
   },
   {
    "duration": 7,
    "start_time": "2024-09-16T11:55:16.932Z"
   },
   {
    "duration": 9,
    "start_time": "2024-09-16T11:55:16.942Z"
   },
   {
    "duration": 28,
    "start_time": "2024-09-16T11:55:16.952Z"
   },
   {
    "duration": 8,
    "start_time": "2024-09-16T11:55:16.982Z"
   },
   {
    "duration": 372,
    "start_time": "2024-09-16T11:55:16.992Z"
   },
   {
    "duration": 15,
    "start_time": "2024-09-16T11:55:17.365Z"
   },
   {
    "duration": 200,
    "start_time": "2024-09-16T11:55:17.382Z"
   },
   {
    "duration": 219,
    "start_time": "2024-09-16T11:55:17.583Z"
   },
   {
    "duration": 204,
    "start_time": "2024-09-16T11:55:17.803Z"
   },
   {
    "duration": 393,
    "start_time": "2024-09-16T11:55:18.009Z"
   },
   {
    "duration": 210,
    "start_time": "2024-09-16T11:55:18.404Z"
   },
   {
    "duration": 10,
    "start_time": "2024-09-16T11:55:18.615Z"
   },
   {
    "duration": 216,
    "start_time": "2024-09-16T11:55:18.627Z"
   },
   {
    "duration": 10,
    "start_time": "2024-09-16T11:55:18.845Z"
   },
   {
    "duration": 171,
    "start_time": "2024-09-16T11:55:18.857Z"
   },
   {
    "duration": 201,
    "start_time": "2024-09-16T11:55:19.029Z"
   },
   {
    "duration": 221,
    "start_time": "2024-09-16T11:55:19.232Z"
   },
   {
    "duration": 183,
    "start_time": "2024-09-16T11:55:19.454Z"
   },
   {
    "duration": 183,
    "start_time": "2024-09-16T11:55:19.639Z"
   },
   {
    "duration": 205,
    "start_time": "2024-09-16T11:55:19.824Z"
   },
   {
    "duration": 6,
    "start_time": "2024-09-16T11:55:20.031Z"
   },
   {
    "duration": 14,
    "start_time": "2024-09-16T11:55:20.040Z"
   },
   {
    "duration": 30,
    "start_time": "2024-09-16T11:55:20.056Z"
   },
   {
    "duration": 1503,
    "start_time": "2024-09-16T11:55:20.089Z"
   },
   {
    "duration": 24,
    "start_time": "2024-09-16T11:55:21.593Z"
   },
   {
    "duration": 65,
    "start_time": "2024-09-16T11:55:21.619Z"
   },
   {
    "duration": 8,
    "start_time": "2024-09-16T11:55:21.686Z"
   },
   {
    "duration": 383,
    "start_time": "2024-09-16T11:55:21.696Z"
   },
   {
    "duration": 663,
    "start_time": "2024-09-16T11:55:22.085Z"
   },
   {
    "duration": 9,
    "start_time": "2024-09-16T11:55:52.987Z"
   },
   {
    "duration": 216,
    "start_time": "2024-09-16T11:56:17.598Z"
   },
   {
    "duration": 10,
    "start_time": "2024-09-16T11:56:25.575Z"
   },
   {
    "duration": 9,
    "start_time": "2024-09-16T11:56:30.280Z"
   },
   {
    "duration": 484,
    "start_time": "2024-09-16T11:56:43.650Z"
   },
   {
    "duration": 198,
    "start_time": "2024-09-16T11:57:30.161Z"
   },
   {
    "duration": 11,
    "start_time": "2024-09-16T11:57:36.469Z"
   },
   {
    "duration": 787,
    "start_time": "2024-09-16T11:57:41.514Z"
   },
   {
    "duration": 16,
    "start_time": "2024-09-16T11:57:42.302Z"
   },
   {
    "duration": 15,
    "start_time": "2024-09-16T11:57:42.319Z"
   },
   {
    "duration": 2081,
    "start_time": "2024-09-16T11:57:42.336Z"
   },
   {
    "duration": 11,
    "start_time": "2024-09-16T11:57:44.418Z"
   },
   {
    "duration": 11,
    "start_time": "2024-09-16T11:57:44.431Z"
   },
   {
    "duration": 12,
    "start_time": "2024-09-16T11:57:44.444Z"
   },
   {
    "duration": 15,
    "start_time": "2024-09-16T11:57:44.475Z"
   },
   {
    "duration": 11,
    "start_time": "2024-09-16T11:57:44.492Z"
   },
   {
    "duration": 25,
    "start_time": "2024-09-16T11:57:44.507Z"
   },
   {
    "duration": 238,
    "start_time": "2024-09-16T11:57:44.534Z"
   },
   {
    "duration": 8,
    "start_time": "2024-09-16T11:57:44.774Z"
   },
   {
    "duration": 9,
    "start_time": "2024-09-16T11:57:44.784Z"
   },
   {
    "duration": 8,
    "start_time": "2024-09-16T11:57:44.794Z"
   },
   {
    "duration": 7,
    "start_time": "2024-09-16T11:57:44.804Z"
   },
   {
    "duration": 383,
    "start_time": "2024-09-16T11:57:44.812Z"
   },
   {
    "duration": 7,
    "start_time": "2024-09-16T11:57:45.196Z"
   },
   {
    "duration": 200,
    "start_time": "2024-09-16T11:57:45.205Z"
   },
   {
    "duration": 229,
    "start_time": "2024-09-16T11:57:45.406Z"
   },
   {
    "duration": 207,
    "start_time": "2024-09-16T11:57:45.637Z"
   },
   {
    "duration": 387,
    "start_time": "2024-09-16T11:57:45.846Z"
   },
   {
    "duration": 210,
    "start_time": "2024-09-16T11:57:46.235Z"
   },
   {
    "duration": 9,
    "start_time": "2024-09-16T11:57:46.447Z"
   },
   {
    "duration": 220,
    "start_time": "2024-09-16T11:57:46.458Z"
   },
   {
    "duration": 9,
    "start_time": "2024-09-16T11:57:46.679Z"
   },
   {
    "duration": 165,
    "start_time": "2024-09-16T11:57:46.690Z"
   },
   {
    "duration": 201,
    "start_time": "2024-09-16T11:57:46.857Z"
   },
   {
    "duration": 186,
    "start_time": "2024-09-16T11:57:47.061Z"
   },
   {
    "duration": 173,
    "start_time": "2024-09-16T11:57:47.249Z"
   },
   {
    "duration": 171,
    "start_time": "2024-09-16T11:57:47.424Z"
   },
   {
    "duration": 195,
    "start_time": "2024-09-16T11:57:47.597Z"
   },
   {
    "duration": 5,
    "start_time": "2024-09-16T11:57:47.794Z"
   },
   {
    "duration": 13,
    "start_time": "2024-09-16T11:57:47.801Z"
   },
   {
    "duration": 18,
    "start_time": "2024-09-16T11:57:47.816Z"
   },
   {
    "duration": 1184,
    "start_time": "2024-09-16T11:57:47.836Z"
   },
   {
    "duration": 25,
    "start_time": "2024-09-16T11:57:49.022Z"
   },
   {
    "duration": 12,
    "start_time": "2024-09-16T11:57:49.049Z"
   },
   {
    "duration": 9,
    "start_time": "2024-09-16T11:57:49.077Z"
   },
   {
    "duration": 156,
    "start_time": "2024-09-16T11:57:49.088Z"
   },
   {
    "duration": 374,
    "start_time": "2024-09-16T11:57:49.246Z"
   },
   {
    "duration": 16,
    "start_time": "2024-09-16T11:58:01.860Z"
   },
   {
    "duration": 10,
    "start_time": "2024-09-16T11:58:27.565Z"
   },
   {
    "duration": 10,
    "start_time": "2024-09-16T11:58:42.288Z"
   },
   {
    "duration": 10,
    "start_time": "2024-09-16T11:58:44.840Z"
   },
   {
    "duration": 10,
    "start_time": "2024-09-16T11:58:48.341Z"
   },
   {
    "duration": 12,
    "start_time": "2024-09-16T12:04:24.397Z"
   },
   {
    "duration": 55,
    "start_time": "2024-09-16T12:05:06.045Z"
   },
   {
    "duration": 11,
    "start_time": "2024-09-16T12:05:14.222Z"
   },
   {
    "duration": 9,
    "start_time": "2024-09-16T12:05:20.189Z"
   },
   {
    "duration": 819,
    "start_time": "2024-09-16T12:05:38.097Z"
   },
   {
    "duration": 17,
    "start_time": "2024-09-16T12:05:38.918Z"
   },
   {
    "duration": 8,
    "start_time": "2024-09-16T12:05:38.936Z"
   },
   {
    "duration": 2191,
    "start_time": "2024-09-16T12:05:38.946Z"
   },
   {
    "duration": 11,
    "start_time": "2024-09-16T12:05:41.138Z"
   },
   {
    "duration": 13,
    "start_time": "2024-09-16T12:05:41.150Z"
   },
   {
    "duration": 16,
    "start_time": "2024-09-16T12:05:41.165Z"
   },
   {
    "duration": 12,
    "start_time": "2024-09-16T12:05:41.183Z"
   },
   {
    "duration": 10,
    "start_time": "2024-09-16T12:05:41.197Z"
   },
   {
    "duration": 8,
    "start_time": "2024-09-16T12:05:41.211Z"
   },
   {
    "duration": 278,
    "start_time": "2024-09-16T12:05:41.221Z"
   },
   {
    "duration": 9,
    "start_time": "2024-09-16T12:05:41.500Z"
   },
   {
    "duration": 20,
    "start_time": "2024-09-16T12:05:41.510Z"
   },
   {
    "duration": 8,
    "start_time": "2024-09-16T12:05:41.531Z"
   },
   {
    "duration": 35,
    "start_time": "2024-09-16T12:05:41.541Z"
   },
   {
    "duration": 348,
    "start_time": "2024-09-16T12:05:41.578Z"
   },
   {
    "duration": 8,
    "start_time": "2024-09-16T12:05:41.927Z"
   },
   {
    "duration": 207,
    "start_time": "2024-09-16T12:05:41.937Z"
   },
   {
    "duration": 233,
    "start_time": "2024-09-16T12:05:42.145Z"
   },
   {
    "duration": 204,
    "start_time": "2024-09-16T12:05:42.380Z"
   },
   {
    "duration": 368,
    "start_time": "2024-09-16T12:05:42.585Z"
   },
   {
    "duration": 210,
    "start_time": "2024-09-16T12:05:42.955Z"
   },
   {
    "duration": 60,
    "start_time": "2024-09-16T12:05:43.167Z"
   },
   {
    "duration": 0,
    "start_time": "2024-09-16T12:05:43.229Z"
   },
   {
    "duration": 0,
    "start_time": "2024-09-16T12:05:43.231Z"
   },
   {
    "duration": 0,
    "start_time": "2024-09-16T12:05:43.233Z"
   },
   {
    "duration": 0,
    "start_time": "2024-09-16T12:05:43.235Z"
   },
   {
    "duration": 0,
    "start_time": "2024-09-16T12:05:43.236Z"
   },
   {
    "duration": 0,
    "start_time": "2024-09-16T12:05:43.238Z"
   },
   {
    "duration": 0,
    "start_time": "2024-09-16T12:05:43.239Z"
   },
   {
    "duration": 0,
    "start_time": "2024-09-16T12:05:43.241Z"
   },
   {
    "duration": 0,
    "start_time": "2024-09-16T12:05:43.242Z"
   },
   {
    "duration": 0,
    "start_time": "2024-09-16T12:05:43.243Z"
   },
   {
    "duration": 0,
    "start_time": "2024-09-16T12:05:43.245Z"
   },
   {
    "duration": 0,
    "start_time": "2024-09-16T12:05:43.246Z"
   },
   {
    "duration": 0,
    "start_time": "2024-09-16T12:05:43.247Z"
   },
   {
    "duration": 0,
    "start_time": "2024-09-16T12:05:43.249Z"
   },
   {
    "duration": 0,
    "start_time": "2024-09-16T12:05:43.250Z"
   },
   {
    "duration": 0,
    "start_time": "2024-09-16T12:05:43.251Z"
   },
   {
    "duration": 7,
    "start_time": "2024-09-16T12:06:59.329Z"
   },
   {
    "duration": 14,
    "start_time": "2024-09-16T12:07:05.943Z"
   },
   {
    "duration": 219,
    "start_time": "2024-09-16T12:07:35.444Z"
   },
   {
    "duration": 830,
    "start_time": "2024-09-16T12:07:40.861Z"
   },
   {
    "duration": 17,
    "start_time": "2024-09-16T12:07:41.693Z"
   },
   {
    "duration": 7,
    "start_time": "2024-09-16T12:07:41.711Z"
   },
   {
    "duration": 2152,
    "start_time": "2024-09-16T12:07:41.720Z"
   },
   {
    "duration": 11,
    "start_time": "2024-09-16T12:07:43.874Z"
   },
   {
    "duration": 5,
    "start_time": "2024-09-16T12:07:43.887Z"
   },
   {
    "duration": 11,
    "start_time": "2024-09-16T12:07:43.894Z"
   },
   {
    "duration": 13,
    "start_time": "2024-09-16T12:07:43.907Z"
   },
   {
    "duration": 58,
    "start_time": "2024-09-16T12:07:43.922Z"
   },
   {
    "duration": 9,
    "start_time": "2024-09-16T12:07:43.983Z"
   },
   {
    "duration": 9,
    "start_time": "2024-09-16T12:07:43.994Z"
   },
   {
    "duration": 253,
    "start_time": "2024-09-16T12:07:44.005Z"
   },
   {
    "duration": 17,
    "start_time": "2024-09-16T12:07:44.260Z"
   },
   {
    "duration": 8,
    "start_time": "2024-09-16T12:07:44.279Z"
   },
   {
    "duration": 8,
    "start_time": "2024-09-16T12:07:44.289Z"
   },
   {
    "duration": 8,
    "start_time": "2024-09-16T12:07:44.298Z"
   },
   {
    "duration": 379,
    "start_time": "2024-09-16T12:07:44.308Z"
   },
   {
    "duration": 7,
    "start_time": "2024-09-16T12:07:44.689Z"
   },
   {
    "duration": 221,
    "start_time": "2024-09-16T12:07:44.698Z"
   },
   {
    "duration": 237,
    "start_time": "2024-09-16T12:07:44.921Z"
   },
   {
    "duration": 225,
    "start_time": "2024-09-16T12:07:45.160Z"
   },
   {
    "duration": 392,
    "start_time": "2024-09-16T12:07:45.386Z"
   },
   {
    "duration": 214,
    "start_time": "2024-09-16T12:07:45.780Z"
   },
   {
    "duration": 229,
    "start_time": "2024-09-16T12:07:45.996Z"
   },
   {
    "duration": 10,
    "start_time": "2024-09-16T12:07:46.226Z"
   },
   {
    "duration": 176,
    "start_time": "2024-09-16T12:07:46.238Z"
   },
   {
    "duration": 211,
    "start_time": "2024-09-16T12:07:46.416Z"
   },
   {
    "duration": 190,
    "start_time": "2024-09-16T12:07:46.631Z"
   },
   {
    "duration": 194,
    "start_time": "2024-09-16T12:07:46.823Z"
   },
   {
    "duration": 191,
    "start_time": "2024-09-16T12:07:47.018Z"
   },
   {
    "duration": 196,
    "start_time": "2024-09-16T12:07:47.211Z"
   },
   {
    "duration": 7,
    "start_time": "2024-09-16T12:07:47.409Z"
   },
   {
    "duration": 5,
    "start_time": "2024-09-16T12:07:47.418Z"
   },
   {
    "duration": 53,
    "start_time": "2024-09-16T12:07:47.425Z"
   },
   {
    "duration": 1270,
    "start_time": "2024-09-16T12:07:47.479Z"
   },
   {
    "duration": 43,
    "start_time": "2024-09-16T12:07:48.751Z"
   },
   {
    "duration": 6,
    "start_time": "2024-09-16T12:07:48.795Z"
   },
   {
    "duration": 9,
    "start_time": "2024-09-16T12:07:48.802Z"
   },
   {
    "duration": 153,
    "start_time": "2024-09-16T12:07:48.813Z"
   },
   {
    "duration": 385,
    "start_time": "2024-09-16T12:07:48.968Z"
   },
   {
    "duration": 349,
    "start_time": "2024-09-16T12:07:56.428Z"
   },
   {
    "duration": 141,
    "start_time": "2024-09-16T12:14:39.344Z"
   },
   {
    "duration": 134,
    "start_time": "2024-09-16T12:14:46.429Z"
   },
   {
    "duration": 126,
    "start_time": "2024-09-16T12:14:54.790Z"
   },
   {
    "duration": 130,
    "start_time": "2024-09-16T12:15:11.741Z"
   },
   {
    "duration": 136,
    "start_time": "2024-09-16T12:15:17.964Z"
   },
   {
    "duration": 7,
    "start_time": "2024-09-16T12:15:24.176Z"
   },
   {
    "duration": 6,
    "start_time": "2024-09-16T12:15:31.352Z"
   },
   {
    "duration": 26,
    "start_time": "2024-09-16T12:15:57.992Z"
   },
   {
    "duration": 7,
    "start_time": "2024-09-16T12:16:06.227Z"
   },
   {
    "duration": 6,
    "start_time": "2024-09-16T12:16:08.344Z"
   },
   {
    "duration": 209,
    "start_time": "2024-09-16T12:17:19.889Z"
   },
   {
    "duration": 1169,
    "start_time": "2024-09-16T12:18:54.321Z"
   },
   {
    "duration": 18,
    "start_time": "2024-09-16T12:19:11.719Z"
   },
   {
    "duration": 5,
    "start_time": "2024-09-16T12:19:51.802Z"
   },
   {
    "duration": 6,
    "start_time": "2024-09-16T12:19:54.202Z"
   },
   {
    "duration": 189,
    "start_time": "2024-09-16T12:20:42.901Z"
   },
   {
    "duration": 178,
    "start_time": "2024-09-16T12:20:57.024Z"
   },
   {
    "duration": 179,
    "start_time": "2024-09-16T12:32:26.358Z"
   },
   {
    "duration": 156,
    "start_time": "2024-09-16T12:32:48.687Z"
   },
   {
    "duration": 175,
    "start_time": "2024-09-16T12:36:22.407Z"
   },
   {
    "duration": 181,
    "start_time": "2024-09-16T12:37:03.551Z"
   },
   {
    "duration": 305,
    "start_time": "2024-09-16T12:38:48.544Z"
   },
   {
    "duration": 179,
    "start_time": "2024-09-16T12:40:01.750Z"
   },
   {
    "duration": 167,
    "start_time": "2024-09-16T12:41:21.019Z"
   },
   {
    "duration": 154,
    "start_time": "2024-09-16T12:42:24.557Z"
   },
   {
    "duration": 178,
    "start_time": "2024-09-16T12:46:58.907Z"
   },
   {
    "duration": 253,
    "start_time": "2024-09-16T12:47:03.221Z"
   },
   {
    "duration": 190,
    "start_time": "2024-09-16T12:47:54.780Z"
   },
   {
    "duration": 207,
    "start_time": "2024-09-16T12:50:58.849Z"
   },
   {
    "duration": 177,
    "start_time": "2024-09-16T12:52:28.381Z"
   },
   {
    "duration": 767,
    "start_time": "2024-09-16T17:30:10.818Z"
   },
   {
    "duration": 11,
    "start_time": "2024-09-16T17:30:11.586Z"
   },
   {
    "duration": 23,
    "start_time": "2024-09-16T17:30:11.598Z"
   },
   {
    "duration": 1655,
    "start_time": "2024-09-16T17:30:11.622Z"
   },
   {
    "duration": 13,
    "start_time": "2024-09-16T17:30:13.280Z"
   },
   {
    "duration": 48,
    "start_time": "2024-09-16T17:30:13.295Z"
   },
   {
    "duration": 29,
    "start_time": "2024-09-16T17:30:13.345Z"
   },
   {
    "duration": 14,
    "start_time": "2024-09-16T17:30:13.376Z"
   },
   {
    "duration": 21,
    "start_time": "2024-09-16T17:30:13.391Z"
   },
   {
    "duration": 13,
    "start_time": "2024-09-16T17:30:13.413Z"
   },
   {
    "duration": 6,
    "start_time": "2024-09-16T17:30:13.427Z"
   },
   {
    "duration": 207,
    "start_time": "2024-09-16T17:30:13.434Z"
   },
   {
    "duration": 6,
    "start_time": "2024-09-16T17:30:13.643Z"
   },
   {
    "duration": 20,
    "start_time": "2024-09-16T17:30:13.651Z"
   },
   {
    "duration": 8,
    "start_time": "2024-09-16T17:30:13.672Z"
   },
   {
    "duration": 24,
    "start_time": "2024-09-16T17:30:13.681Z"
   },
   {
    "duration": 346,
    "start_time": "2024-09-16T17:30:13.706Z"
   },
   {
    "duration": 6,
    "start_time": "2024-09-16T17:30:14.054Z"
   },
   {
    "duration": 155,
    "start_time": "2024-09-16T17:30:14.061Z"
   },
   {
    "duration": 161,
    "start_time": "2024-09-16T17:30:14.217Z"
   },
   {
    "duration": 157,
    "start_time": "2024-09-16T17:30:14.379Z"
   },
   {
    "duration": 263,
    "start_time": "2024-09-16T17:30:14.538Z"
   },
   {
    "duration": 154,
    "start_time": "2024-09-16T17:30:14.816Z"
   },
   {
    "duration": 163,
    "start_time": "2024-09-16T17:30:14.972Z"
   },
   {
    "duration": 126,
    "start_time": "2024-09-16T17:30:15.136Z"
   },
   {
    "duration": 159,
    "start_time": "2024-09-16T17:30:15.263Z"
   },
   {
    "duration": 139,
    "start_time": "2024-09-16T17:30:15.424Z"
   },
   {
    "duration": 172,
    "start_time": "2024-09-16T17:30:15.565Z"
   },
   {
    "duration": 143,
    "start_time": "2024-09-16T17:30:15.738Z"
   },
   {
    "duration": 147,
    "start_time": "2024-09-16T17:30:15.883Z"
   },
   {
    "duration": 4,
    "start_time": "2024-09-16T17:30:16.031Z"
   },
   {
    "duration": 7,
    "start_time": "2024-09-16T17:30:16.036Z"
   },
   {
    "duration": 35,
    "start_time": "2024-09-16T17:30:16.045Z"
   },
   {
    "duration": 952,
    "start_time": "2024-09-16T17:30:16.081Z"
   },
   {
    "duration": 26,
    "start_time": "2024-09-16T17:30:17.035Z"
   },
   {
    "duration": 5,
    "start_time": "2024-09-16T17:30:17.062Z"
   },
   {
    "duration": 12,
    "start_time": "2024-09-16T17:30:17.068Z"
   },
   {
    "duration": 141,
    "start_time": "2024-09-16T17:30:17.081Z"
   },
   {
    "duration": 397,
    "start_time": "2024-09-16T17:30:17.224Z"
   },
   {
    "duration": 710,
    "start_time": "2024-09-22T12:29:52.006Z"
   },
   {
    "duration": 888,
    "start_time": "2025-06-24T06:58:19.887Z"
   },
   {
    "duration": 0,
    "start_time": "2025-06-24T06:58:20.778Z"
   },
   {
    "duration": 0,
    "start_time": "2025-06-24T06:58:20.779Z"
   },
   {
    "duration": 0,
    "start_time": "2025-06-24T06:58:20.780Z"
   },
   {
    "duration": 0,
    "start_time": "2025-06-24T06:58:20.781Z"
   },
   {
    "duration": 0,
    "start_time": "2025-06-24T06:58:20.783Z"
   },
   {
    "duration": 0,
    "start_time": "2025-06-24T06:58:20.784Z"
   },
   {
    "duration": 0,
    "start_time": "2025-06-24T06:58:20.785Z"
   },
   {
    "duration": 0,
    "start_time": "2025-06-24T06:58:20.786Z"
   },
   {
    "duration": 0,
    "start_time": "2025-06-24T06:58:20.787Z"
   },
   {
    "duration": 0,
    "start_time": "2025-06-24T06:58:20.789Z"
   },
   {
    "duration": 0,
    "start_time": "2025-06-24T06:58:20.790Z"
   },
   {
    "duration": 0,
    "start_time": "2025-06-24T06:58:20.791Z"
   },
   {
    "duration": 0,
    "start_time": "2025-06-24T06:58:20.793Z"
   },
   {
    "duration": 0,
    "start_time": "2025-06-24T06:58:20.793Z"
   },
   {
    "duration": 0,
    "start_time": "2025-06-24T06:58:20.795Z"
   },
   {
    "duration": 0,
    "start_time": "2025-06-24T06:58:20.796Z"
   },
   {
    "duration": 0,
    "start_time": "2025-06-24T06:58:20.797Z"
   },
   {
    "duration": 0,
    "start_time": "2025-06-24T06:58:20.798Z"
   },
   {
    "duration": 0,
    "start_time": "2025-06-24T06:58:20.799Z"
   },
   {
    "duration": 0,
    "start_time": "2025-06-24T06:58:20.800Z"
   },
   {
    "duration": 0,
    "start_time": "2025-06-24T06:58:20.801Z"
   },
   {
    "duration": 0,
    "start_time": "2025-06-24T06:58:20.802Z"
   },
   {
    "duration": 0,
    "start_time": "2025-06-24T06:58:20.804Z"
   },
   {
    "duration": 0,
    "start_time": "2025-06-24T06:58:20.805Z"
   },
   {
    "duration": 0,
    "start_time": "2025-06-24T06:58:20.806Z"
   },
   {
    "duration": 0,
    "start_time": "2025-06-24T06:58:20.807Z"
   },
   {
    "duration": 0,
    "start_time": "2025-06-24T06:58:20.808Z"
   },
   {
    "duration": 0,
    "start_time": "2025-06-24T06:58:20.809Z"
   },
   {
    "duration": 0,
    "start_time": "2025-06-24T06:58:20.810Z"
   },
   {
    "duration": 0,
    "start_time": "2025-06-24T06:58:20.811Z"
   },
   {
    "duration": 0,
    "start_time": "2025-06-24T06:58:20.812Z"
   },
   {
    "duration": 0,
    "start_time": "2025-06-24T06:58:20.813Z"
   },
   {
    "duration": 0,
    "start_time": "2025-06-24T06:58:20.814Z"
   },
   {
    "duration": 0,
    "start_time": "2025-06-24T06:58:20.871Z"
   },
   {
    "duration": 0,
    "start_time": "2025-06-24T06:58:20.873Z"
   },
   {
    "duration": 0,
    "start_time": "2025-06-24T06:58:20.875Z"
   },
   {
    "duration": 0,
    "start_time": "2025-06-24T06:58:20.877Z"
   },
   {
    "duration": 0,
    "start_time": "2025-06-24T06:58:20.878Z"
   },
   {
    "duration": 856,
    "start_time": "2025-06-24T06:58:35.491Z"
   },
   {
    "duration": 22,
    "start_time": "2025-06-24T06:58:36.349Z"
   },
   {
    "duration": 7,
    "start_time": "2025-06-24T06:58:36.373Z"
   },
   {
    "duration": 1908,
    "start_time": "2025-06-24T06:58:36.382Z"
   },
   {
    "duration": 11,
    "start_time": "2025-06-24T06:58:38.293Z"
   },
   {
    "duration": 6,
    "start_time": "2025-06-24T06:58:38.306Z"
   },
   {
    "duration": 12,
    "start_time": "2025-06-24T06:58:38.314Z"
   },
   {
    "duration": 46,
    "start_time": "2025-06-24T06:58:38.327Z"
   },
   {
    "duration": 13,
    "start_time": "2025-06-24T06:58:38.375Z"
   },
   {
    "duration": 12,
    "start_time": "2025-06-24T06:58:38.390Z"
   },
   {
    "duration": 16,
    "start_time": "2025-06-24T06:58:38.404Z"
   },
   {
    "duration": 239,
    "start_time": "2025-06-24T06:58:38.422Z"
   },
   {
    "duration": 14,
    "start_time": "2025-06-24T06:58:38.663Z"
   },
   {
    "duration": 9,
    "start_time": "2025-06-24T06:58:38.680Z"
   },
   {
    "duration": 8,
    "start_time": "2025-06-24T06:58:38.691Z"
   },
   {
    "duration": 32,
    "start_time": "2025-06-24T06:58:38.701Z"
   },
   {
    "duration": 339,
    "start_time": "2025-06-24T06:58:38.735Z"
   },
   {
    "duration": 10,
    "start_time": "2025-06-24T06:58:39.076Z"
   },
   {
    "duration": 218,
    "start_time": "2025-06-24T06:58:39.087Z"
   },
   {
    "duration": 198,
    "start_time": "2025-06-24T06:58:39.307Z"
   },
   {
    "duration": 179,
    "start_time": "2025-06-24T06:58:39.507Z"
   },
   {
    "duration": 361,
    "start_time": "2025-06-24T06:58:39.688Z"
   },
   {
    "duration": 200,
    "start_time": "2025-06-24T06:58:40.051Z"
   },
   {
    "duration": 196,
    "start_time": "2025-06-24T06:58:40.253Z"
   },
   {
    "duration": 149,
    "start_time": "2025-06-24T06:58:40.451Z"
   },
   {
    "duration": 187,
    "start_time": "2025-06-24T06:58:40.601Z"
   },
   {
    "duration": 196,
    "start_time": "2025-06-24T06:58:40.791Z"
   },
   {
    "duration": 187,
    "start_time": "2025-06-24T06:58:40.989Z"
   },
   {
    "duration": 177,
    "start_time": "2025-06-24T06:58:41.177Z"
   },
   {
    "duration": 182,
    "start_time": "2025-06-24T06:58:41.355Z"
   },
   {
    "duration": 5,
    "start_time": "2025-06-24T06:58:41.539Z"
   },
   {
    "duration": 4,
    "start_time": "2025-06-24T06:58:41.546Z"
   },
   {
    "duration": 36,
    "start_time": "2025-06-24T06:58:41.551Z"
   },
   {
    "duration": 1153,
    "start_time": "2025-06-24T06:58:41.588Z"
   },
   {
    "duration": 34,
    "start_time": "2025-06-24T06:58:42.742Z"
   },
   {
    "duration": 7,
    "start_time": "2025-06-24T06:58:42.777Z"
   },
   {
    "duration": 83,
    "start_time": "2025-06-24T06:58:42.786Z"
   },
   {
    "duration": 126,
    "start_time": "2025-06-24T06:58:42.871Z"
   }
  ],
  "colab": {
   "provenance": []
  },
  "kernelspec": {
   "display_name": "Python 3 (ipykernel)",
   "language": "python",
   "name": "python3"
  },
  "language_info": {
   "codemirror_mode": {
    "name": "ipython",
    "version": 3
   },
   "file_extension": ".py",
   "mimetype": "text/x-python",
   "name": "python",
   "nbconvert_exporter": "python",
   "pygments_lexer": "ipython3",
   "version": "3.9.5"
  },
  "toc": {
   "base_numbering": 1,
   "nav_menu": {},
   "number_sections": true,
   "sideBar": true,
   "skip_h1_title": true,
   "title_cell": "Table of Contents",
   "title_sidebar": "Contents",
   "toc_cell": false,
   "toc_position": {
    "height": "calc(100% - 180px)",
    "left": "10px",
    "top": "150px",
    "width": "165px"
   },
   "toc_section_display": true,
   "toc_window_display": true
  }
 },
 "nbformat": 4,
 "nbformat_minor": 1
}
