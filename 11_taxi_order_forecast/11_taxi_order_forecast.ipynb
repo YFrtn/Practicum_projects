{
 "cells": [
  {
   "cell_type": "markdown",
   "metadata": {
    "toc": true
   },
   "source": [
    "<h1>Содержание<span class=\"tocSkip\"></span></h1>\n",
    "<div class=\"toc\"><ul class=\"toc-item\"><li><span><a href=\"#Подготовка\" data-toc-modified-id=\"Подготовка-1\"><span class=\"toc-item-num\">1&nbsp;&nbsp;</span>Подготовка</a></span></li><li><span><a href=\"#Анализ\" data-toc-modified-id=\"Анализ-2\"><span class=\"toc-item-num\">2&nbsp;&nbsp;</span>Анализ</a></span></li><li><span><a href=\"#Обучение\" data-toc-modified-id=\"Обучение-3\"><span class=\"toc-item-num\">3&nbsp;&nbsp;</span>Обучение</a></span></li><li><span><a href=\"#Тестирование\" data-toc-modified-id=\"Тестирование-4\"><span class=\"toc-item-num\">4&nbsp;&nbsp;</span>Тестирование</a></span></li><li><span><a href=\"#Чек-лист-проверки\" data-toc-modified-id=\"Чек-лист-проверки-5\"><span class=\"toc-item-num\">5&nbsp;&nbsp;</span>Чек-лист проверки</a></span></li></ul></div>"
   ]
  },
  {
   "cell_type": "markdown",
   "metadata": {},
   "source": [
    "#  Прогнозирование заказов такси"
   ]
  },
  {
   "cell_type": "markdown",
   "metadata": {},
   "source": [
    "Компания «Чётенькое такси» собрала исторические данные о заказах такси в аэропортах. Чтобы привлекать больше водителей в период пиковой нагрузки, нужно спрогнозировать количество заказов такси на следующий час. Постройте модель для такого предсказания.\n",
    "\n",
    "Значение метрики *RMSE* на тестовой выборке должно быть не больше 48.\n",
    "\n",
    "Вам нужно:\n",
    "\n",
    "1. Загрузить данные и выполнить их ресемплирование по одному часу.\n",
    "2. Проанализировать данные.\n",
    "3. Обучить разные модели с различными гиперпараметрами. Сделать тестовую выборку размером 10% от исходных данных.\n",
    "4. Проверить данные на тестовой выборке и сделать выводы.\n",
    "\n",
    "\n",
    "Данные лежат в файле `taxi.csv`. Количество заказов находится в столбце `num_orders` (от англ. *number of orders*, «число заказов»)."
   ]
  },
  {
   "cell_type": "markdown",
   "metadata": {},
   "source": [
    "## Подготовка"
   ]
  },
  {
   "cell_type": "code",
   "execution_count": 1,
   "metadata": {},
   "outputs": [],
   "source": [
    "# библиотеки\n",
    "\n",
    "import pandas as pd\n",
    "import matplotlib.pyplot as plt\n",
    "import lightgbm as lgb\n",
    "\n",
    "from statsmodels.tsa.seasonal import seasonal_decompose\n",
    "from sklearn.model_selection import train_test_split, TimeSeriesSplit, GridSearchCV\n",
    "from sklearn.ensemble import RandomForestRegressor\n",
    "from sklearn.tree import DecisionTreeRegressor\n",
    "from sklearn.linear_model import LinearRegression\n",
    "from sklearn.metrics import mean_squared_error\n",
    "from catboost import CatBoostRegressor\n",
    "\n",
    "RANDOM_STATE = 42\n",
    "TEST_SIZE = 0.1"
   ]
  },
  {
   "cell_type": "code",
   "execution_count": 2,
   "metadata": {},
   "outputs": [],
   "source": [
    "# загрузка данных \n",
    "\n",
    "try:\n",
    "    data = pd.read_csv('https://code.s3.yandex.net/datasets/taxi.csv', index_col=[0], parse_dates=[0])\n",
    "except:\n",
    "    data = pd.read_csv('/datasets/taxi.csv', index_col=[0], parse_dates=[0])\n",
    "    \n"
   ]
  },
  {
   "cell_type": "code",
   "execution_count": 3,
   "metadata": {
    "scrolled": false
   },
   "outputs": [
    {
     "data": {
      "text/plain": [
       "True"
      ]
     },
     "metadata": {},
     "output_type": "display_data"
    },
    {
     "name": "stdout",
     "output_type": "stream",
     "text": [
      "<class 'pandas.core.frame.DataFrame'>\n",
      "DatetimeIndex: 26496 entries, 2018-03-01 00:00:00 to 2018-08-31 23:50:00\n",
      "Data columns (total 1 columns):\n",
      " #   Column      Non-Null Count  Dtype\n",
      "---  ------      --------------  -----\n",
      " 0   num_orders  26496 non-null  int64\n",
      "dtypes: int64(1)\n",
      "memory usage: 414.0 KB\n"
     ]
    },
    {
     "data": {
      "text/plain": [
       "None"
      ]
     },
     "metadata": {},
     "output_type": "display_data"
    },
    {
     "data": {
      "text/html": [
       "<div>\n",
       "<style scoped>\n",
       "    .dataframe tbody tr th:only-of-type {\n",
       "        vertical-align: middle;\n",
       "    }\n",
       "\n",
       "    .dataframe tbody tr th {\n",
       "        vertical-align: top;\n",
       "    }\n",
       "\n",
       "    .dataframe thead th {\n",
       "        text-align: right;\n",
       "    }\n",
       "</style>\n",
       "<table border=\"1\" class=\"dataframe\">\n",
       "  <thead>\n",
       "    <tr style=\"text-align: right;\">\n",
       "      <th></th>\n",
       "      <th>num_orders</th>\n",
       "    </tr>\n",
       "    <tr>\n",
       "      <th>datetime</th>\n",
       "      <th></th>\n",
       "    </tr>\n",
       "  </thead>\n",
       "  <tbody>\n",
       "    <tr>\n",
       "      <th>2018-03-01 00:00:00</th>\n",
       "      <td>9</td>\n",
       "    </tr>\n",
       "    <tr>\n",
       "      <th>2018-03-01 00:10:00</th>\n",
       "      <td>14</td>\n",
       "    </tr>\n",
       "    <tr>\n",
       "      <th>2018-03-01 00:20:00</th>\n",
       "      <td>28</td>\n",
       "    </tr>\n",
       "    <tr>\n",
       "      <th>2018-03-01 00:30:00</th>\n",
       "      <td>20</td>\n",
       "    </tr>\n",
       "    <tr>\n",
       "      <th>2018-03-01 00:40:00</th>\n",
       "      <td>32</td>\n",
       "    </tr>\n",
       "  </tbody>\n",
       "</table>\n",
       "</div>"
      ],
      "text/plain": [
       "                     num_orders\n",
       "datetime                       \n",
       "2018-03-01 00:00:00           9\n",
       "2018-03-01 00:10:00          14\n",
       "2018-03-01 00:20:00          28\n",
       "2018-03-01 00:30:00          20\n",
       "2018-03-01 00:40:00          32"
      ]
     },
     "metadata": {},
     "output_type": "display_data"
    }
   ],
   "source": [
    "# Проверим индекс на монотонность\n",
    "\n",
    "display(data.index.is_monotonic)\n",
    "display(data.info())\n",
    "display(data.head())"
   ]
  },
  {
   "cell_type": "code",
   "execution_count": 4,
   "metadata": {},
   "outputs": [],
   "source": [
    "# ресемплирование по 1 часу\n",
    "\n",
    "data = data.resample('1H').sum()"
   ]
  },
  {
   "cell_type": "markdown",
   "metadata": {},
   "source": [
    "- данные загружены\n",
    "- осуществлена настройка индекса\n",
    "- данные отсартированы по индексу \n",
    "- пропусков нет\n",
    "- выполнено ресемплирование по 1 часу"
   ]
  },
  {
   "cell_type": "markdown",
   "metadata": {},
   "source": [
    "## Анализ"
   ]
  },
  {
   "cell_type": "code",
   "execution_count": 5,
   "metadata": {},
   "outputs": [],
   "source": [
    "# Декомпозиция временного ряда на тренд, сезонность и шум с правильной переменной\n",
    "\n",
    "decomposition = seasonal_decompose(data)\n",
    "\n"
   ]
  },
  {
   "cell_type": "code",
   "execution_count": 6,
   "metadata": {},
   "outputs": [
    {
     "data": {
      "image/png": "[encoded data removed]",
      "text/plain": [
       "<Figure size 720x576 with 3 Axes>"
      ]
     },
     "metadata": {
      "needs_background": "light"
     },
     "output_type": "display_data"
    }
   ],
   "source": [
    "# Построим графики\n",
    "plt.figure(figsize=(10, 8))\n",
    "\n",
    "plt.subplot(412)\n",
    "plt.plot(decomposition.trend)\n",
    "plt.title('Trend')\n",
    "\n",
    "plt.subplot(413)\n",
    "plt.plot(decomposition.seasonal)\n",
    "plt.title('Seasonal')\n",
    "\n",
    "plt.subplot(414)\n",
    "plt.plot(decomposition.resid)\n",
    "plt.title('Residual')\n",
    "\n",
    "plt.tight_layout()\n",
    "plt.show()"
   ]
  },
  {
   "cell_type": "markdown",
   "metadata": {},
   "source": [
    "- наблюдается тренд (идет рост заказов)\n",
    "- также присутствует сезонность"
   ]
  },
  {
   "cell_type": "markdown",
   "metadata": {},
   "source": [
    "## Обучение"
   ]
  },
  {
   "cell_type": "code",
   "execution_count": 7,
   "metadata": {},
   "outputs": [],
   "source": [
    "# Функция генерации признаков\n",
    "\n",
    "def get_features(df):\n",
    "    df['month'] = df.index.month\n",
    "    df['day'] = df.index.day\n",
    "    df['dayofweek'] = df.index.dayofweek\n",
    "    df['hour'] = df.index.hour\n",
    "    \n",
    "    for lag in range(1, 6):\n",
    "        df[f'lag_{lag}'] = df['num_orders'].shift(lag)\n",
    "    \n",
    "    df['rolling_mean'] = df['num_orders'].shift().rolling(5).mean()\n",
    "    df.dropna(inplace=True)\n",
    "    return df\n",
    "\n",
    "data = get_features(data)\n"
   ]
  },
  {
   "cell_type": "code",
   "execution_count": 8,
   "metadata": {},
   "outputs": [],
   "source": [
    "# Разделение данных\n",
    "\n",
    "X = data.drop(columns=['num_orders'])\n",
    "y = data['num_orders']\n",
    "X_train, X_test, y_train, y_test = train_test_split(\n",
    "    X, y, shuffle=False, test_size=TEST_SIZE, random_state=RANDOM_STATE)"
   ]
  },
  {
   "cell_type": "code",
   "execution_count": 9,
   "metadata": {},
   "outputs": [],
   "source": [
    "# Обучение моделей\n",
    "\n",
    "models = []"
   ]
  },
  {
   "cell_type": "code",
   "execution_count": 10,
   "metadata": {},
   "outputs": [],
   "source": [
    "# Линейная регрессия\n",
    "\n",
    "model = LinearRegression()\n",
    "model.fit(X_train, y_train)\n",
    "predictions = model.predict(X_test)\n",
    "rmse = mean_squared_error(y_test, predictions, squared=False)\n",
    "models.append(('LinearRegression', rmse))"
   ]
  },
  {
   "cell_type": "code",
   "execution_count": 11,
   "metadata": {},
   "outputs": [],
   "source": [
    "# DecisionTreeRegressor\n",
    "\n",
    "params = {'max_depth': range(1, 11, 2)}\n",
    "ts_cv = TimeSeriesSplit(n_splits=3)\n",
    "gsearch = GridSearchCV(DecisionTreeRegressor(random_state=17), params, cv=ts_cv)\n",
    "gsearch.fit(X_train, y_train)\n",
    "predictions = gsearch.best_estimator_.predict(X_test)\n",
    "rmse = mean_squared_error(y_test, predictions, squared=False)\n",
    "models.append(('DecisionTreeRegressor', rmse))"
   ]
  },
  {
   "cell_type": "code",
   "execution_count": 12,
   "metadata": {},
   "outputs": [],
   "source": [
    "# RandomForestRegressor\n",
    "\n",
    "params = {'n_estimators': range(50, 100, 10), 'max_depth': range(1, 11, 2)}\n",
    "gsearch = GridSearchCV(RandomForestRegressor(random_state=17), params, cv=ts_cv)\n",
    "gsearch.fit(X_train, y_train)\n",
    "predictions = gsearch.best_estimator_.predict(X_test)\n",
    "rmse = mean_squared_error(y_test, predictions, squared=False)\n",
    "models.append(('RandomForestRegressor', rmse))\n"
   ]
  },
  {
   "cell_type": "code",
   "execution_count": 13,
   "metadata": {},
   "outputs": [],
   "source": [
    "# LightGBM\n",
    "\n",
    "model = lgb.LGBMRegressor()\n",
    "model.fit(X_train, y_train)\n",
    "predictions = model.predict(X_test)\n",
    "rmse = mean_squared_error(y_test, predictions, squared=False)\n",
    "models.append(('LightGBM', rmse))"
   ]
  },
  {
   "cell_type": "markdown",
   "metadata": {},
   "source": [
    "## Тестирование"
   ]
  },
  {
   "cell_type": "code",
   "execution_count": 14,
   "metadata": {
    "scrolled": true
   },
   "outputs": [
    {
     "name": "stdout",
     "output_type": "stream",
     "text": [
      "                   Model       RMSE\n",
      "3               LightGBM  44.431423\n",
      "2  RandomForestRegressor  48.831177\n",
      "0       LinearRegression  52.692761\n",
      "1  DecisionTreeRegressor  57.534135\n"
     ]
    }
   ],
   "source": [
    "# Вывод результатов\n",
    "\n",
    "result = pd.DataFrame(models, columns=['Model', 'RMSE'])\n",
    "print(result.sort_values(by='RMSE'))"
   ]
  },
  {
   "cell_type": "markdown",
   "metadata": {},
   "source": [
    "\n",
    "**Выводы:**\n",
    "1. Наилучший результат показала модель `LightGBM с RMSE = 44.43`, что соответствует поставленному требованию (RMSE <= 48).\n",
    "2. `RandomForestRegressor` также показал достойный результат `RMSE = 48.83`, но чуть хуже `LightGBM`.\n",
    "3. `Линейная регрессия и DecisionTreeRegressor` продемонстрировали худшие результаты, что говорит о том, что они не справляются с прогнозированием временного ряда.\n",
    "4. Для дальнейшего улучшения модели можно попробовать добавить больше лагов, использовать дополнительные признаки или использовать ансамблирование моделей."
   ]
  }
 ],
 "metadata": {
  "ExecuteTimeLog": [
   {
    "duration": 49,
    "start_time": "2025-03-06T08:52:57.104Z"
   },
   {
    "duration": 381,
    "start_time": "2025-03-06T08:53:01.429Z"
   },
   {
    "duration": 68,
    "start_time": "2025-03-06T08:53:01.811Z"
   },
   {
    "duration": 12,
    "start_time": "2025-03-06T08:53:34.716Z"
   },
   {
    "duration": 72,
    "start_time": "2025-03-06T08:53:58.077Z"
   },
   {
    "duration": 10,
    "start_time": "2025-03-06T08:53:58.639Z"
   },
   {
    "duration": 21,
    "start_time": "2025-03-06T08:54:13.159Z"
   },
   {
    "duration": 29,
    "start_time": "2025-03-06T08:55:37.341Z"
   },
   {
    "duration": 378,
    "start_time": "2025-03-06T08:55:42.814Z"
   },
   {
    "duration": 79,
    "start_time": "2025-03-06T08:55:43.194Z"
   },
   {
    "duration": 20,
    "start_time": "2025-03-06T08:55:43.275Z"
   },
   {
    "duration": 75,
    "start_time": "2025-03-06T09:03:43.950Z"
   },
   {
    "duration": 1935,
    "start_time": "2025-03-06T09:03:49.106Z"
   },
   {
    "duration": 69,
    "start_time": "2025-03-06T09:03:51.043Z"
   },
   {
    "duration": 18,
    "start_time": "2025-03-06T09:03:51.114Z"
   },
   {
    "duration": 571,
    "start_time": "2025-03-06T09:03:51.133Z"
   },
   {
    "duration": 1504,
    "start_time": "2025-03-06T09:18:30.275Z"
   },
   {
    "duration": 85,
    "start_time": "2025-03-06T09:18:31.781Z"
   },
   {
    "duration": 19,
    "start_time": "2025-03-06T09:18:31.867Z"
   },
   {
    "duration": 86,
    "start_time": "2025-03-06T09:18:31.887Z"
   },
   {
    "duration": 452,
    "start_time": "2025-03-06T09:18:31.975Z"
   },
   {
    "duration": 5,
    "start_time": "2025-03-06T09:18:49.798Z"
   },
   {
    "duration": 6,
    "start_time": "2025-03-06T09:18:59.441Z"
   },
   {
    "duration": 6,
    "start_time": "2025-03-06T09:19:09.210Z"
   },
   {
    "duration": 127,
    "start_time": "2025-03-06T09:19:18.740Z"
   },
   {
    "duration": 6,
    "start_time": "2025-03-06T09:19:27.064Z"
   },
   {
    "duration": 5,
    "start_time": "2025-03-06T09:19:41.959Z"
   },
   {
    "duration": 6,
    "start_time": "2025-03-06T09:22:20.440Z"
   },
   {
    "duration": 1557,
    "start_time": "2025-03-06T09:22:50.133Z"
   },
   {
    "duration": 81,
    "start_time": "2025-03-06T09:22:51.692Z"
   },
   {
    "duration": 18,
    "start_time": "2025-03-06T09:22:51.775Z"
   },
   {
    "duration": 27,
    "start_time": "2025-03-06T09:22:51.795Z"
   },
   {
    "duration": 451,
    "start_time": "2025-03-06T09:22:51.824Z"
   },
   {
    "duration": 5,
    "start_time": "2025-03-06T09:22:52.277Z"
   },
   {
    "duration": 395,
    "start_time": "2025-03-06T09:22:52.284Z"
   },
   {
    "duration": 1550,
    "start_time": "2025-03-06T09:25:03.105Z"
   },
   {
    "duration": 71,
    "start_time": "2025-03-06T09:25:04.657Z"
   },
   {
    "duration": 110,
    "start_time": "2025-03-06T09:25:04.730Z"
   },
   {
    "duration": 149,
    "start_time": "2025-03-06T09:25:04.842Z"
   },
   {
    "duration": 384,
    "start_time": "2025-03-06T09:25:04.993Z"
   },
   {
    "duration": 5,
    "start_time": "2025-03-06T09:25:05.378Z"
   },
   {
    "duration": 278,
    "start_time": "2025-03-06T09:25:05.385Z"
   },
   {
    "duration": 1535,
    "start_time": "2025-03-06T09:26:24.387Z"
   },
   {
    "duration": 73,
    "start_time": "2025-03-06T09:26:25.924Z"
   },
   {
    "duration": 19,
    "start_time": "2025-03-06T09:26:25.999Z"
   },
   {
    "duration": 8,
    "start_time": "2025-03-06T09:26:26.020Z"
   },
   {
    "duration": 12,
    "start_time": "2025-03-06T09:26:26.030Z"
   },
   {
    "duration": 385,
    "start_time": "2025-03-06T09:26:26.044Z"
   },
   {
    "duration": 6,
    "start_time": "2025-03-06T09:26:26.430Z"
   },
   {
    "duration": 326,
    "start_time": "2025-03-06T09:26:26.437Z"
   },
   {
    "duration": 4,
    "start_time": "2025-03-06T09:26:46.229Z"
   },
   {
    "duration": 229,
    "start_time": "2025-03-06T09:26:51.712Z"
   },
   {
    "duration": 8,
    "start_time": "2025-03-06T09:29:10.484Z"
   },
   {
    "duration": 1539,
    "start_time": "2025-03-06T09:30:10.494Z"
   },
   {
    "duration": 70,
    "start_time": "2025-03-06T09:30:12.035Z"
   },
   {
    "duration": 19,
    "start_time": "2025-03-06T09:30:12.107Z"
   },
   {
    "duration": 8,
    "start_time": "2025-03-06T09:30:12.128Z"
   },
   {
    "duration": 12,
    "start_time": "2025-03-06T09:30:12.138Z"
   },
   {
    "duration": 369,
    "start_time": "2025-03-06T09:30:12.152Z"
   },
   {
    "duration": 6,
    "start_time": "2025-03-06T09:30:12.523Z"
   },
   {
    "duration": 269,
    "start_time": "2025-03-06T09:30:12.530Z"
   },
   {
    "duration": 6,
    "start_time": "2025-03-06T09:30:12.801Z"
   },
   {
    "duration": 34,
    "start_time": "2025-03-06T09:30:12.809Z"
   },
   {
    "duration": 115,
    "start_time": "2025-03-06T09:30:12.845Z"
   },
   {
    "duration": 139,
    "start_time": "2025-03-06T09:30:12.961Z"
   },
   {
    "duration": 0,
    "start_time": "2025-03-06T09:30:13.102Z"
   },
   {
    "duration": 0,
    "start_time": "2025-03-06T09:30:13.103Z"
   },
   {
    "duration": 1461,
    "start_time": "2025-03-06T09:33:49.803Z"
   },
   {
    "duration": 87,
    "start_time": "2025-03-06T09:33:51.266Z"
   },
   {
    "duration": 67,
    "start_time": "2025-03-06T09:33:51.354Z"
   },
   {
    "duration": 53,
    "start_time": "2025-03-06T09:33:51.423Z"
   },
   {
    "duration": 46,
    "start_time": "2025-03-06T09:33:51.478Z"
   },
   {
    "duration": 408,
    "start_time": "2025-03-06T09:33:51.526Z"
   },
   {
    "duration": 7,
    "start_time": "2025-03-06T09:33:51.936Z"
   },
   {
    "duration": 258,
    "start_time": "2025-03-06T09:33:51.945Z"
   },
   {
    "duration": 7,
    "start_time": "2025-03-06T09:33:52.205Z"
   },
   {
    "duration": 61,
    "start_time": "2025-03-06T09:33:52.214Z"
   },
   {
    "duration": 36,
    "start_time": "2025-03-06T09:33:52.276Z"
   },
   {
    "duration": 26,
    "start_time": "2025-03-06T09:33:52.314Z"
   },
   {
    "duration": 24,
    "start_time": "2025-03-06T09:33:52.342Z"
   },
   {
    "duration": 5035,
    "start_time": "2025-03-06T09:33:52.369Z"
   },
   {
    "duration": 163,
    "start_time": "2025-03-06T09:33:57.406Z"
   },
   {
    "duration": 10,
    "start_time": "2025-03-06T09:34:28.238Z"
   },
   {
    "duration": 1515,
    "start_time": "2025-03-06T09:34:51.178Z"
   },
   {
    "duration": 99,
    "start_time": "2025-03-06T09:34:52.695Z"
   },
   {
    "duration": 27,
    "start_time": "2025-03-06T09:34:52.796Z"
   },
   {
    "duration": 27,
    "start_time": "2025-03-06T09:34:52.825Z"
   },
   {
    "duration": 30,
    "start_time": "2025-03-06T09:34:52.854Z"
   },
   {
    "duration": 382,
    "start_time": "2025-03-06T09:34:52.886Z"
   },
   {
    "duration": 5,
    "start_time": "2025-03-06T09:34:53.270Z"
   },
   {
    "duration": 388,
    "start_time": "2025-03-06T09:34:53.277Z"
   },
   {
    "duration": 7,
    "start_time": "2025-03-06T09:34:53.667Z"
   },
   {
    "duration": 61,
    "start_time": "2025-03-06T09:34:53.675Z"
   },
   {
    "duration": 47,
    "start_time": "2025-03-06T09:34:53.738Z"
   },
   {
    "duration": 36,
    "start_time": "2025-03-06T09:34:53.787Z"
   },
   {
    "duration": 71,
    "start_time": "2025-03-06T09:34:53.825Z"
   },
   {
    "duration": 5081,
    "start_time": "2025-03-06T09:34:53.899Z"
   },
   {
    "duration": 20,
    "start_time": "2025-03-06T09:34:58.982Z"
   },
   {
    "duration": 5,
    "start_time": "2025-03-06T09:34:59.003Z"
   },
   {
    "duration": 5178,
    "start_time": "2025-03-06T09:37:37.528Z"
   },
   {
    "duration": 5046,
    "start_time": "2025-03-06T09:37:53.667Z"
   },
   {
    "duration": 109,
    "start_time": "2025-03-06T09:39:35.452Z"
   },
   {
    "duration": 75,
    "start_time": "2025-03-06T09:39:43.400Z"
   },
   {
    "duration": 1544,
    "start_time": "2025-03-06T09:39:48.133Z"
   },
   {
    "duration": 76,
    "start_time": "2025-03-06T09:39:49.679Z"
   },
   {
    "duration": 17,
    "start_time": "2025-03-06T09:39:49.756Z"
   },
   {
    "duration": 9,
    "start_time": "2025-03-06T09:39:49.775Z"
   },
   {
    "duration": 13,
    "start_time": "2025-03-06T09:39:49.786Z"
   },
   {
    "duration": 387,
    "start_time": "2025-03-06T09:39:49.801Z"
   },
   {
    "duration": 6,
    "start_time": "2025-03-06T09:39:50.190Z"
   },
   {
    "duration": 281,
    "start_time": "2025-03-06T09:39:50.198Z"
   },
   {
    "duration": 7,
    "start_time": "2025-03-06T09:39:50.481Z"
   },
   {
    "duration": 35,
    "start_time": "2025-03-06T09:39:50.490Z"
   },
   {
    "duration": 139,
    "start_time": "2025-03-06T09:39:50.527Z"
   },
   {
    "duration": 101,
    "start_time": "2025-03-06T09:39:50.668Z"
   },
   {
    "duration": 26,
    "start_time": "2025-03-06T09:39:50.771Z"
   },
   {
    "duration": 5098,
    "start_time": "2025-03-06T09:39:50.800Z"
   },
   {
    "duration": 34,
    "start_time": "2025-03-06T09:40:37.607Z"
   },
   {
    "duration": 127,
    "start_time": "2025-03-06T09:49:00.865Z"
   },
   {
    "duration": 3,
    "start_time": "2025-03-06T09:49:19.684Z"
   },
   {
    "duration": 1422,
    "start_time": "2025-03-06T09:49:23.781Z"
   },
   {
    "duration": 271,
    "start_time": "2025-03-06T09:49:25.206Z"
   },
   {
    "duration": 20,
    "start_time": "2025-03-06T09:49:25.479Z"
   },
   {
    "duration": 19,
    "start_time": "2025-03-06T09:49:25.500Z"
   },
   {
    "duration": 20,
    "start_time": "2025-03-06T09:49:25.520Z"
   },
   {
    "duration": 19,
    "start_time": "2025-03-06T09:49:25.543Z"
   },
   {
    "duration": 18,
    "start_time": "2025-03-06T09:49:25.564Z"
   },
   {
    "duration": 22,
    "start_time": "2025-03-06T09:49:25.584Z"
   },
   {
    "duration": 25,
    "start_time": "2025-03-06T09:49:25.608Z"
   },
   {
    "duration": 21,
    "start_time": "2025-03-06T09:49:25.635Z"
   },
   {
    "duration": 5008,
    "start_time": "2025-03-06T09:49:25.658Z"
   },
   {
    "duration": 698,
    "start_time": "2025-03-06T09:50:01.441Z"
   },
   {
    "duration": 520,
    "start_time": "2025-03-06T09:53:05.208Z"
   },
   {
    "duration": 1601,
    "start_time": "2025-03-06T15:07:28.229Z"
   },
   {
    "duration": 130,
    "start_time": "2025-03-06T15:07:29.832Z"
   },
   {
    "duration": 20,
    "start_time": "2025-03-06T15:07:29.964Z"
   },
   {
    "duration": 8,
    "start_time": "2025-03-06T15:07:29.986Z"
   },
   {
    "duration": 8,
    "start_time": "2025-03-06T15:07:29.996Z"
   },
   {
    "duration": 873,
    "start_time": "2025-03-06T15:07:30.005Z"
   },
   {
    "duration": 7,
    "start_time": "2025-03-06T15:07:30.880Z"
   },
   {
    "duration": 42,
    "start_time": "2025-03-06T15:07:30.888Z"
   },
   {
    "duration": 10,
    "start_time": "2025-03-06T15:07:30.932Z"
   },
   {
    "duration": 18,
    "start_time": "2025-03-06T15:07:30.944Z"
   },
   {
    "duration": 12,
    "start_time": "2025-03-06T15:07:30.964Z"
   },
   {
    "duration": 5207,
    "start_time": "2025-03-06T15:07:30.977Z"
   },
   {
    "duration": 524,
    "start_time": "2025-03-06T15:09:05.625Z"
   },
   {
    "duration": 613,
    "start_time": "2025-03-06T15:09:32.157Z"
   },
   {
    "duration": 523,
    "start_time": "2025-03-06T15:11:02.613Z"
   },
   {
    "duration": 1421,
    "start_time": "2025-03-06T15:15:03.706Z"
   },
   {
    "duration": 1374,
    "start_time": "2025-03-06T15:15:13.326Z"
   },
   {
    "duration": 82,
    "start_time": "2025-03-06T15:15:14.702Z"
   },
   {
    "duration": 21,
    "start_time": "2025-03-06T15:15:14.786Z"
   },
   {
    "duration": 8,
    "start_time": "2025-03-06T15:15:14.809Z"
   },
   {
    "duration": 8,
    "start_time": "2025-03-06T15:15:14.819Z"
   },
   {
    "duration": 248,
    "start_time": "2025-03-06T15:15:14.829Z"
   },
   {
    "duration": 635,
    "start_time": "2025-03-06T15:15:15.079Z"
   },
   {
    "duration": 8,
    "start_time": "2025-03-06T15:15:15.716Z"
   },
   {
    "duration": 19,
    "start_time": "2025-03-06T15:15:15.726Z"
   },
   {
    "duration": 9,
    "start_time": "2025-03-06T15:15:15.747Z"
   },
   {
    "duration": 4,
    "start_time": "2025-03-06T15:15:15.758Z"
   },
   {
    "duration": 6,
    "start_time": "2025-03-06T15:15:15.764Z"
   },
   {
    "duration": 5322,
    "start_time": "2025-03-06T15:15:15.771Z"
   },
   {
    "duration": 4,
    "start_time": "2025-03-06T15:20:58.372Z"
   },
   {
    "duration": 28,
    "start_time": "2025-03-06T15:21:16.599Z"
   },
   {
    "duration": 121,
    "start_time": "2025-03-06T15:21:41.292Z"
   },
   {
    "duration": 11,
    "start_time": "2025-03-06T15:21:54.538Z"
   },
   {
    "duration": 59,
    "start_time": "2025-03-06T15:22:03.069Z"
   },
   {
    "duration": 10,
    "start_time": "2025-03-06T15:22:11.262Z"
   },
   {
    "duration": 11,
    "start_time": "2025-03-06T15:28:52.515Z"
   },
   {
    "duration": 6,
    "start_time": "2025-03-06T15:29:17.703Z"
   },
   {
    "duration": 2,
    "start_time": "2025-03-06T15:29:18.347Z"
   },
   {
    "duration": 10,
    "start_time": "2025-03-06T15:29:24.021Z"
   },
   {
    "duration": 1519,
    "start_time": "2025-03-06T15:29:56.427Z"
   },
   {
    "duration": 73,
    "start_time": "2025-03-06T15:29:57.948Z"
   },
   {
    "duration": 20,
    "start_time": "2025-03-06T15:29:58.022Z"
   },
   {
    "duration": 8,
    "start_time": "2025-03-06T15:29:58.044Z"
   },
   {
    "duration": 11,
    "start_time": "2025-03-06T15:29:58.053Z"
   },
   {
    "duration": 656,
    "start_time": "2025-03-06T15:29:58.066Z"
   },
   {
    "duration": 18,
    "start_time": "2025-03-06T15:29:58.723Z"
   },
   {
    "duration": 24,
    "start_time": "2025-03-06T15:29:58.742Z"
   },
   {
    "duration": 3,
    "start_time": "2025-03-06T15:29:58.767Z"
   },
   {
    "duration": 8,
    "start_time": "2025-03-06T15:29:58.771Z"
   },
   {
    "duration": 8,
    "start_time": "2025-03-06T15:30:13.347Z"
   },
   {
    "duration": 168,
    "start_time": "2025-03-06T15:30:15.161Z"
   },
   {
    "duration": 1684,
    "start_time": "2025-03-06T15:31:07.912Z"
   },
   {
    "duration": 71,
    "start_time": "2025-03-06T15:31:09.599Z"
   },
   {
    "duration": 21,
    "start_time": "2025-03-06T15:31:09.672Z"
   },
   {
    "duration": 9,
    "start_time": "2025-03-06T15:31:09.695Z"
   },
   {
    "duration": 51,
    "start_time": "2025-03-06T15:31:09.706Z"
   },
   {
    "duration": 643,
    "start_time": "2025-03-06T15:31:09.759Z"
   },
   {
    "duration": 148,
    "start_time": "2025-03-06T15:31:10.404Z"
   },
   {
    "duration": 5,
    "start_time": "2025-03-06T15:31:10.555Z"
   },
   {
    "duration": 13,
    "start_time": "2025-03-06T15:31:10.561Z"
   },
   {
    "duration": 12,
    "start_time": "2025-03-06T15:31:10.576Z"
   },
   {
    "duration": 249,
    "start_time": "2025-03-06T15:31:10.590Z"
   },
   {
    "duration": 22011,
    "start_time": "2025-03-06T15:31:10.841Z"
   },
   {
    "duration": 2562,
    "start_time": "2025-03-06T15:31:32.854Z"
   },
   {
    "duration": 7,
    "start_time": "2025-03-06T15:31:35.418Z"
   },
   {
    "duration": 1397,
    "start_time": "2025-03-06T15:35:27.948Z"
   },
   {
    "duration": 71,
    "start_time": "2025-03-06T15:35:29.348Z"
   },
   {
    "duration": 105,
    "start_time": "2025-03-06T15:35:29.421Z"
   },
   {
    "duration": 10,
    "start_time": "2025-03-06T15:35:29.528Z"
   },
   {
    "duration": 10,
    "start_time": "2025-03-06T15:35:29.541Z"
   },
   {
    "duration": 671,
    "start_time": "2025-03-06T15:35:29.552Z"
   },
   {
    "duration": 107,
    "start_time": "2025-03-06T15:35:30.225Z"
   },
   {
    "duration": 8,
    "start_time": "2025-03-06T15:35:30.333Z"
   },
   {
    "duration": 10,
    "start_time": "2025-03-06T15:35:30.343Z"
   },
   {
    "duration": 47,
    "start_time": "2025-03-06T15:35:30.354Z"
   },
   {
    "duration": 271,
    "start_time": "2025-03-06T15:35:30.403Z"
   },
   {
    "duration": 22201,
    "start_time": "2025-03-06T15:35:30.676Z"
   },
   {
    "duration": 10254,
    "start_time": "2025-03-06T15:35:52.879Z"
   },
   {
    "duration": 85,
    "start_time": "2025-03-06T15:36:03.136Z"
   },
   {
    "duration": 1479,
    "start_time": "2025-03-06T15:37:13.822Z"
   },
   {
    "duration": 110,
    "start_time": "2025-03-06T15:37:15.303Z"
   },
   {
    "duration": 20,
    "start_time": "2025-03-06T15:37:15.415Z"
   },
   {
    "duration": 88,
    "start_time": "2025-03-06T15:37:15.437Z"
   },
   {
    "duration": 9,
    "start_time": "2025-03-06T15:37:15.527Z"
   },
   {
    "duration": 609,
    "start_time": "2025-03-06T15:37:15.537Z"
   },
   {
    "duration": 92,
    "start_time": "2025-03-06T15:37:16.148Z"
   },
   {
    "duration": 6,
    "start_time": "2025-03-06T15:37:16.242Z"
   },
   {
    "duration": 45,
    "start_time": "2025-03-06T15:37:16.249Z"
   },
   {
    "duration": 11,
    "start_time": "2025-03-06T15:37:16.295Z"
   },
   {
    "duration": 305,
    "start_time": "2025-03-06T15:37:16.308Z"
   },
   {
    "duration": 21587,
    "start_time": "2025-03-06T15:37:16.615Z"
   },
   {
    "duration": 924,
    "start_time": "2025-03-06T15:37:38.203Z"
   },
   {
    "duration": 7,
    "start_time": "2025-03-06T15:37:39.215Z"
   }
  ],
  "kernelspec": {
   "display_name": "Python 3 (ipykernel)",
   "language": "python",
   "name": "python3"
  },
  "language_info": {
   "codemirror_mode": {
    "name": "ipython",
    "version": 3
   },
   "file_extension": ".py",
   "mimetype": "text/x-python",
   "name": "python",
   "nbconvert_exporter": "python",
   "pygments_lexer": "ipython3",
   "version": "3.9.5"
  },
  "toc": {
   "base_numbering": 1,
   "nav_menu": {},
   "number_sections": true,
   "sideBar": true,
   "skip_h1_title": true,
   "title_cell": "Содержание",
   "title_sidebar": "Contents",
   "toc_cell": true,
   "toc_position": {},
   "toc_section_display": true,
   "toc_window_display": true
  }
 },
 "nbformat": 4,
 "nbformat_minor": 2
}
