{
 "cells": [
  {
   "cell_type": "markdown",
   "id": "63d4d2ce",
   "metadata": {
    "deletable": false,
    "editable": false,
    "id": "c81daeeb"
   },
   "source": [
    "# Исследование надежности заемщиков\n"
   ]
  },
  {
   "cell_type": "markdown",
   "id": "b9de76bc",
   "metadata": {
    "deletable": false,
    "editable": false,
    "id": "827c20bf"
   },
   "source": [
    "Во второй части проекта вы выполните шаги 3 и 4. Их вручную проверит ревьюер.\n",
    "Чтобы вам не пришлось писать код заново для шагов 1 и 2, мы добавили авторские решения в ячейки с кодом. \n",
    "\n"
   ]
  },
  {
   "cell_type": "markdown",
   "id": "03e919e8",
   "metadata": {
    "deletable": false,
    "editable": false,
    "id": "744d7639"
   },
   "source": [
    "## Откройте таблицу и изучите общую информацию о данных"
   ]
  },
  {
   "cell_type": "markdown",
   "id": "60a62514",
   "metadata": {
    "deletable": false,
    "editable": false,
    "id": "e7a14c31"
   },
   "source": [
    "**Задание 1. Импортируйте библиотеку pandas. Считайте данные из csv-файла в датафрейм и сохраните в переменную `data`. Путь к файлу:**\n",
    "\n",
    "`/datasets/data.csv`"
   ]
  },
  {
   "cell_type": "code",
   "execution_count": 1,
   "id": "69f4b7e1",
   "metadata": {
    "deletable": false,
    "id": "7bcf75c9"
   },
   "outputs": [],
   "source": [
    "import pandas as pd\n",
    "\n",
    "try:\n",
    "    data = pd.read_csv('/datasets/data.csv')\n",
    "except:\n",
    "    data = pd.read_csv('https://code.s3.yandex.net/datasets/data.csv')"
   ]
  },
  {
   "cell_type": "markdown",
   "id": "1de73a59",
   "metadata": {
    "deletable": false,
    "editable": false,
    "id": "b8038fe3"
   },
   "source": [
    "**Задание 2. Выведите первые 20 строчек датафрейма `data` на экран.**"
   ]
  },
  {
   "cell_type": "code",
   "execution_count": 2,
   "id": "7eeea347",
   "metadata": {
    "deletable": false,
    "id": "2a7cab99",
    "outputId": "1a8f3ef2-d323-4ec2-ddf7-89670b5944c4"
   },
   "outputs": [
    {
     "data": {
      "text/html": [
       "<div>\n",
       "<style scoped>\n",
       "    .dataframe tbody tr th:only-of-type {\n",
       "        vertical-align: middle;\n",
       "    }\n",
       "\n",
       "    .dataframe tbody tr th {\n",
       "        vertical-align: top;\n",
       "    }\n",
       "\n",
       "    .dataframe thead th {\n",
       "        text-align: right;\n",
       "    }\n",
       "</style>\n",
       "<table border=\"1\" class=\"dataframe\">\n",
       "  <thead>\n",
       "    <tr style=\"text-align: right;\">\n",
       "      <th></th>\n",
       "      <th>children</th>\n",
       "      <th>days_employed</th>\n",
       "      <th>dob_years</th>\n",
       "      <th>education</th>\n",
       "      <th>education_id</th>\n",
       "      <th>family_status</th>\n",
       "      <th>family_status_id</th>\n",
       "      <th>gender</th>\n",
       "      <th>income_type</th>\n",
       "      <th>debt</th>\n",
       "      <th>total_income</th>\n",
       "      <th>purpose</th>\n",
       "    </tr>\n",
       "  </thead>\n",
       "  <tbody>\n",
       "    <tr>\n",
       "      <th>0</th>\n",
       "      <td>1</td>\n",
       "      <td>-8437.673028</td>\n",
       "      <td>42</td>\n",
       "      <td>высшее</td>\n",
       "      <td>0</td>\n",
       "      <td>женат / замужем</td>\n",
       "      <td>0</td>\n",
       "      <td>F</td>\n",
       "      <td>сотрудник</td>\n",
       "      <td>0</td>\n",
       "      <td>253875.639453</td>\n",
       "      <td>покупка жилья</td>\n",
       "    </tr>\n",
       "    <tr>\n",
       "      <th>1</th>\n",
       "      <td>1</td>\n",
       "      <td>-4024.803754</td>\n",
       "      <td>36</td>\n",
       "      <td>среднее</td>\n",
       "      <td>1</td>\n",
       "      <td>женат / замужем</td>\n",
       "      <td>0</td>\n",
       "      <td>F</td>\n",
       "      <td>сотрудник</td>\n",
       "      <td>0</td>\n",
       "      <td>112080.014102</td>\n",
       "      <td>приобретение автомобиля</td>\n",
       "    </tr>\n",
       "    <tr>\n",
       "      <th>2</th>\n",
       "      <td>0</td>\n",
       "      <td>-5623.422610</td>\n",
       "      <td>33</td>\n",
       "      <td>Среднее</td>\n",
       "      <td>1</td>\n",
       "      <td>женат / замужем</td>\n",
       "      <td>0</td>\n",
       "      <td>M</td>\n",
       "      <td>сотрудник</td>\n",
       "      <td>0</td>\n",
       "      <td>145885.952297</td>\n",
       "      <td>покупка жилья</td>\n",
       "    </tr>\n",
       "    <tr>\n",
       "      <th>3</th>\n",
       "      <td>3</td>\n",
       "      <td>-4124.747207</td>\n",
       "      <td>32</td>\n",
       "      <td>среднее</td>\n",
       "      <td>1</td>\n",
       "      <td>женат / замужем</td>\n",
       "      <td>0</td>\n",
       "      <td>M</td>\n",
       "      <td>сотрудник</td>\n",
       "      <td>0</td>\n",
       "      <td>267628.550329</td>\n",
       "      <td>дополнительное образование</td>\n",
       "    </tr>\n",
       "    <tr>\n",
       "      <th>4</th>\n",
       "      <td>0</td>\n",
       "      <td>340266.072047</td>\n",
       "      <td>53</td>\n",
       "      <td>среднее</td>\n",
       "      <td>1</td>\n",
       "      <td>гражданский брак</td>\n",
       "      <td>1</td>\n",
       "      <td>F</td>\n",
       "      <td>пенсионер</td>\n",
       "      <td>0</td>\n",
       "      <td>158616.077870</td>\n",
       "      <td>сыграть свадьбу</td>\n",
       "    </tr>\n",
       "    <tr>\n",
       "      <th>5</th>\n",
       "      <td>0</td>\n",
       "      <td>-926.185831</td>\n",
       "      <td>27</td>\n",
       "      <td>высшее</td>\n",
       "      <td>0</td>\n",
       "      <td>гражданский брак</td>\n",
       "      <td>1</td>\n",
       "      <td>M</td>\n",
       "      <td>компаньон</td>\n",
       "      <td>0</td>\n",
       "      <td>255763.565419</td>\n",
       "      <td>покупка жилья</td>\n",
       "    </tr>\n",
       "    <tr>\n",
       "      <th>6</th>\n",
       "      <td>0</td>\n",
       "      <td>-2879.202052</td>\n",
       "      <td>43</td>\n",
       "      <td>высшее</td>\n",
       "      <td>0</td>\n",
       "      <td>женат / замужем</td>\n",
       "      <td>0</td>\n",
       "      <td>F</td>\n",
       "      <td>компаньон</td>\n",
       "      <td>0</td>\n",
       "      <td>240525.971920</td>\n",
       "      <td>операции с жильем</td>\n",
       "    </tr>\n",
       "    <tr>\n",
       "      <th>7</th>\n",
       "      <td>0</td>\n",
       "      <td>-152.779569</td>\n",
       "      <td>50</td>\n",
       "      <td>СРЕДНЕЕ</td>\n",
       "      <td>1</td>\n",
       "      <td>женат / замужем</td>\n",
       "      <td>0</td>\n",
       "      <td>M</td>\n",
       "      <td>сотрудник</td>\n",
       "      <td>0</td>\n",
       "      <td>135823.934197</td>\n",
       "      <td>образование</td>\n",
       "    </tr>\n",
       "    <tr>\n",
       "      <th>8</th>\n",
       "      <td>2</td>\n",
       "      <td>-6929.865299</td>\n",
       "      <td>35</td>\n",
       "      <td>ВЫСШЕЕ</td>\n",
       "      <td>0</td>\n",
       "      <td>гражданский брак</td>\n",
       "      <td>1</td>\n",
       "      <td>F</td>\n",
       "      <td>сотрудник</td>\n",
       "      <td>0</td>\n",
       "      <td>95856.832424</td>\n",
       "      <td>на проведение свадьбы</td>\n",
       "    </tr>\n",
       "    <tr>\n",
       "      <th>9</th>\n",
       "      <td>0</td>\n",
       "      <td>-2188.756445</td>\n",
       "      <td>41</td>\n",
       "      <td>среднее</td>\n",
       "      <td>1</td>\n",
       "      <td>женат / замужем</td>\n",
       "      <td>0</td>\n",
       "      <td>M</td>\n",
       "      <td>сотрудник</td>\n",
       "      <td>0</td>\n",
       "      <td>144425.938277</td>\n",
       "      <td>покупка жилья для семьи</td>\n",
       "    </tr>\n",
       "    <tr>\n",
       "      <th>10</th>\n",
       "      <td>2</td>\n",
       "      <td>-4171.483647</td>\n",
       "      <td>36</td>\n",
       "      <td>высшее</td>\n",
       "      <td>0</td>\n",
       "      <td>женат / замужем</td>\n",
       "      <td>0</td>\n",
       "      <td>M</td>\n",
       "      <td>компаньон</td>\n",
       "      <td>0</td>\n",
       "      <td>113943.491460</td>\n",
       "      <td>покупка недвижимости</td>\n",
       "    </tr>\n",
       "    <tr>\n",
       "      <th>11</th>\n",
       "      <td>0</td>\n",
       "      <td>-792.701887</td>\n",
       "      <td>40</td>\n",
       "      <td>среднее</td>\n",
       "      <td>1</td>\n",
       "      <td>женат / замужем</td>\n",
       "      <td>0</td>\n",
       "      <td>F</td>\n",
       "      <td>сотрудник</td>\n",
       "      <td>0</td>\n",
       "      <td>77069.234271</td>\n",
       "      <td>покупка коммерческой недвижимости</td>\n",
       "    </tr>\n",
       "    <tr>\n",
       "      <th>12</th>\n",
       "      <td>0</td>\n",
       "      <td>NaN</td>\n",
       "      <td>65</td>\n",
       "      <td>среднее</td>\n",
       "      <td>1</td>\n",
       "      <td>гражданский брак</td>\n",
       "      <td>1</td>\n",
       "      <td>M</td>\n",
       "      <td>пенсионер</td>\n",
       "      <td>0</td>\n",
       "      <td>NaN</td>\n",
       "      <td>сыграть свадьбу</td>\n",
       "    </tr>\n",
       "    <tr>\n",
       "      <th>13</th>\n",
       "      <td>0</td>\n",
       "      <td>-1846.641941</td>\n",
       "      <td>54</td>\n",
       "      <td>неоконченное высшее</td>\n",
       "      <td>2</td>\n",
       "      <td>женат / замужем</td>\n",
       "      <td>0</td>\n",
       "      <td>F</td>\n",
       "      <td>сотрудник</td>\n",
       "      <td>0</td>\n",
       "      <td>130458.228857</td>\n",
       "      <td>приобретение автомобиля</td>\n",
       "    </tr>\n",
       "    <tr>\n",
       "      <th>14</th>\n",
       "      <td>0</td>\n",
       "      <td>-1844.956182</td>\n",
       "      <td>56</td>\n",
       "      <td>высшее</td>\n",
       "      <td>0</td>\n",
       "      <td>гражданский брак</td>\n",
       "      <td>1</td>\n",
       "      <td>F</td>\n",
       "      <td>компаньон</td>\n",
       "      <td>1</td>\n",
       "      <td>165127.911772</td>\n",
       "      <td>покупка жилой недвижимости</td>\n",
       "    </tr>\n",
       "    <tr>\n",
       "      <th>15</th>\n",
       "      <td>1</td>\n",
       "      <td>-972.364419</td>\n",
       "      <td>26</td>\n",
       "      <td>среднее</td>\n",
       "      <td>1</td>\n",
       "      <td>женат / замужем</td>\n",
       "      <td>0</td>\n",
       "      <td>F</td>\n",
       "      <td>сотрудник</td>\n",
       "      <td>0</td>\n",
       "      <td>116820.904450</td>\n",
       "      <td>строительство собственной недвижимости</td>\n",
       "    </tr>\n",
       "    <tr>\n",
       "      <th>16</th>\n",
       "      <td>0</td>\n",
       "      <td>-1719.934226</td>\n",
       "      <td>35</td>\n",
       "      <td>среднее</td>\n",
       "      <td>1</td>\n",
       "      <td>женат / замужем</td>\n",
       "      <td>0</td>\n",
       "      <td>F</td>\n",
       "      <td>сотрудник</td>\n",
       "      <td>0</td>\n",
       "      <td>289202.704229</td>\n",
       "      <td>недвижимость</td>\n",
       "    </tr>\n",
       "    <tr>\n",
       "      <th>17</th>\n",
       "      <td>0</td>\n",
       "      <td>-2369.999720</td>\n",
       "      <td>33</td>\n",
       "      <td>высшее</td>\n",
       "      <td>0</td>\n",
       "      <td>гражданский брак</td>\n",
       "      <td>1</td>\n",
       "      <td>M</td>\n",
       "      <td>сотрудник</td>\n",
       "      <td>0</td>\n",
       "      <td>90410.586745</td>\n",
       "      <td>строительство недвижимости</td>\n",
       "    </tr>\n",
       "    <tr>\n",
       "      <th>18</th>\n",
       "      <td>0</td>\n",
       "      <td>400281.136913</td>\n",
       "      <td>53</td>\n",
       "      <td>среднее</td>\n",
       "      <td>1</td>\n",
       "      <td>вдовец / вдова</td>\n",
       "      <td>2</td>\n",
       "      <td>F</td>\n",
       "      <td>пенсионер</td>\n",
       "      <td>0</td>\n",
       "      <td>56823.777243</td>\n",
       "      <td>на покупку подержанного автомобиля</td>\n",
       "    </tr>\n",
       "    <tr>\n",
       "      <th>19</th>\n",
       "      <td>0</td>\n",
       "      <td>-10038.818549</td>\n",
       "      <td>48</td>\n",
       "      <td>СРЕДНЕЕ</td>\n",
       "      <td>1</td>\n",
       "      <td>в разводе</td>\n",
       "      <td>3</td>\n",
       "      <td>F</td>\n",
       "      <td>сотрудник</td>\n",
       "      <td>0</td>\n",
       "      <td>242831.107982</td>\n",
       "      <td>на покупку своего автомобиля</td>\n",
       "    </tr>\n",
       "  </tbody>\n",
       "</table>\n",
       "</div>"
      ],
      "text/plain": [
       "    children  days_employed  dob_years            education  education_id  \\\n",
       "0          1   -8437.673028         42               высшее             0   \n",
       "1          1   -4024.803754         36              среднее             1   \n",
       "2          0   -5623.422610         33              Среднее             1   \n",
       "3          3   -4124.747207         32              среднее             1   \n",
       "4          0  340266.072047         53              среднее             1   \n",
       "5          0    -926.185831         27               высшее             0   \n",
       "6          0   -2879.202052         43               высшее             0   \n",
       "7          0    -152.779569         50              СРЕДНЕЕ             1   \n",
       "8          2   -6929.865299         35               ВЫСШЕЕ             0   \n",
       "9          0   -2188.756445         41              среднее             1   \n",
       "10         2   -4171.483647         36               высшее             0   \n",
       "11         0    -792.701887         40              среднее             1   \n",
       "12         0            NaN         65              среднее             1   \n",
       "13         0   -1846.641941         54  неоконченное высшее             2   \n",
       "14         0   -1844.956182         56               высшее             0   \n",
       "15         1    -972.364419         26              среднее             1   \n",
       "16         0   -1719.934226         35              среднее             1   \n",
       "17         0   -2369.999720         33               высшее             0   \n",
       "18         0  400281.136913         53              среднее             1   \n",
       "19         0  -10038.818549         48              СРЕДНЕЕ             1   \n",
       "\n",
       "       family_status  family_status_id gender income_type  debt  \\\n",
       "0    женат / замужем                 0      F   сотрудник     0   \n",
       "1    женат / замужем                 0      F   сотрудник     0   \n",
       "2    женат / замужем                 0      M   сотрудник     0   \n",
       "3    женат / замужем                 0      M   сотрудник     0   \n",
       "4   гражданский брак                 1      F   пенсионер     0   \n",
       "5   гражданский брак                 1      M   компаньон     0   \n",
       "6    женат / замужем                 0      F   компаньон     0   \n",
       "7    женат / замужем                 0      M   сотрудник     0   \n",
       "8   гражданский брак                 1      F   сотрудник     0   \n",
       "9    женат / замужем                 0      M   сотрудник     0   \n",
       "10   женат / замужем                 0      M   компаньон     0   \n",
       "11   женат / замужем                 0      F   сотрудник     0   \n",
       "12  гражданский брак                 1      M   пенсионер     0   \n",
       "13   женат / замужем                 0      F   сотрудник     0   \n",
       "14  гражданский брак                 1      F   компаньон     1   \n",
       "15   женат / замужем                 0      F   сотрудник     0   \n",
       "16   женат / замужем                 0      F   сотрудник     0   \n",
       "17  гражданский брак                 1      M   сотрудник     0   \n",
       "18    вдовец / вдова                 2      F   пенсионер     0   \n",
       "19         в разводе                 3      F   сотрудник     0   \n",
       "\n",
       "     total_income                                 purpose  \n",
       "0   253875.639453                           покупка жилья  \n",
       "1   112080.014102                 приобретение автомобиля  \n",
       "2   145885.952297                           покупка жилья  \n",
       "3   267628.550329              дополнительное образование  \n",
       "4   158616.077870                         сыграть свадьбу  \n",
       "5   255763.565419                           покупка жилья  \n",
       "6   240525.971920                       операции с жильем  \n",
       "7   135823.934197                             образование  \n",
       "8    95856.832424                   на проведение свадьбы  \n",
       "9   144425.938277                 покупка жилья для семьи  \n",
       "10  113943.491460                    покупка недвижимости  \n",
       "11   77069.234271       покупка коммерческой недвижимости  \n",
       "12            NaN                         сыграть свадьбу  \n",
       "13  130458.228857                 приобретение автомобиля  \n",
       "14  165127.911772              покупка жилой недвижимости  \n",
       "15  116820.904450  строительство собственной недвижимости  \n",
       "16  289202.704229                            недвижимость  \n",
       "17   90410.586745              строительство недвижимости  \n",
       "18   56823.777243      на покупку подержанного автомобиля  \n",
       "19  242831.107982            на покупку своего автомобиля  "
      ]
     },
     "execution_count": 2,
     "metadata": {},
     "output_type": "execute_result"
    }
   ],
   "source": [
    "data.head(20)"
   ]
  },
  {
   "cell_type": "markdown",
   "id": "8fd3eb70",
   "metadata": {
    "deletable": false,
    "editable": false,
    "id": "1c12e233"
   },
   "source": [
    "**Задание 3. Выведите основную информацию о датафрейме с помощью метода `info()`.**"
   ]
  },
  {
   "cell_type": "code",
   "execution_count": 3,
   "id": "2258745a",
   "metadata": {
    "deletable": false,
    "id": "2b757bca",
    "outputId": "15376089-8dad-46c9-b520-c05248d43158"
   },
   "outputs": [
    {
     "name": "stdout",
     "output_type": "stream",
     "text": [
      "<class 'pandas.core.frame.DataFrame'>\n",
      "RangeIndex: 21525 entries, 0 to 21524\n",
      "Data columns (total 12 columns):\n",
      " #   Column            Non-Null Count  Dtype  \n",
      "---  ------            --------------  -----  \n",
      " 0   children          21525 non-null  int64  \n",
      " 1   days_employed     19351 non-null  float64\n",
      " 2   dob_years         21525 non-null  int64  \n",
      " 3   education         21525 non-null  object \n",
      " 4   education_id      21525 non-null  int64  \n",
      " 5   family_status     21525 non-null  object \n",
      " 6   family_status_id  21525 non-null  int64  \n",
      " 7   gender            21525 non-null  object \n",
      " 8   income_type       21525 non-null  object \n",
      " 9   debt              21525 non-null  int64  \n",
      " 10  total_income      19351 non-null  float64\n",
      " 11  purpose           21525 non-null  object \n",
      "dtypes: float64(2), int64(5), object(5)\n",
      "memory usage: 2.0+ MB\n"
     ]
    }
   ],
   "source": [
    "data.info()"
   ]
  },
  {
   "cell_type": "markdown",
   "id": "e861e2ab",
   "metadata": {
    "deletable": false,
    "editable": false,
    "id": "333ec665"
   },
   "source": [
    "## Предобработка данных"
   ]
  },
  {
   "cell_type": "markdown",
   "id": "d0f96fce",
   "metadata": {
    "deletable": false,
    "editable": false,
    "id": "02d92d53"
   },
   "source": [
    "### Удаление пропусков"
   ]
  },
  {
   "cell_type": "markdown",
   "id": "ddcc1d79",
   "metadata": {
    "deletable": false,
    "editable": false,
    "id": "cd84967c"
   },
   "source": [
    "**Задание 4. Выведите количество пропущенных значений для каждого столбца. Используйте комбинацию двух методов.**"
   ]
  },
  {
   "cell_type": "code",
   "execution_count": 4,
   "id": "dd1da238",
   "metadata": {
    "deletable": false,
    "id": "7f9b2309",
    "outputId": "81f4d817-781c-465c-ed15-91ce4446810d"
   },
   "outputs": [
    {
     "data": {
      "text/plain": [
       "children               0\n",
       "days_employed       2174\n",
       "dob_years              0\n",
       "education              0\n",
       "education_id           0\n",
       "family_status          0\n",
       "family_status_id       0\n",
       "gender                 0\n",
       "income_type            0\n",
       "debt                   0\n",
       "total_income        2174\n",
       "purpose                0\n",
       "dtype: int64"
      ]
     },
     "execution_count": 4,
     "metadata": {},
     "output_type": "execute_result"
    }
   ],
   "source": [
    "data.isna().sum()"
   ]
  },
  {
   "cell_type": "markdown",
   "id": "fb179b9d",
   "metadata": {
    "deletable": false,
    "editable": false,
    "id": "db86e27b"
   },
   "source": [
    "**Задание 5. В двух столбцах есть пропущенные значения. Один из них — `days_employed`. Пропуски в этом столбце вы обработаете на следующем этапе. Другой столбец с пропущенными значениями — `total_income` — хранит данные о доходах. На сумму дохода сильнее всего влияет тип занятости, поэтому заполнить пропуски в этом столбце нужно медианным значением по каждому типу из столбца `income_type`. Например, у человека с типом занятости `сотрудник` пропуск в столбце `total_income` должен быть заполнен медианным доходом среди всех записей с тем же типом.**"
   ]
  },
  {
   "cell_type": "code",
   "execution_count": 5,
   "id": "11bd9b79",
   "metadata": {
    "deletable": false,
    "id": "42006a93"
   },
   "outputs": [],
   "source": [
    "for t in data['income_type'].unique():\n",
    "    data.loc[(data['income_type'] == t) & (data['total_income'].isna()), 'total_income'] = \\\n",
    "    data.loc[(data['income_type'] == t), 'total_income'].median()"
   ]
  },
  {
   "cell_type": "markdown",
   "id": "f16fe204",
   "metadata": {
    "deletable": false,
    "editable": false,
    "id": "89da5ece"
   },
   "source": [
    "### Обработка аномальных значений"
   ]
  },
  {
   "cell_type": "markdown",
   "id": "769a34a8",
   "metadata": {
    "deletable": false,
    "editable": false,
    "id": "57964554"
   },
   "source": [
    "**Задание 6. В данных могут встречаться артефакты (аномалии) — значения, которые не отражают действительность и появились по какой-то ошибке. таким артефактом будет отрицательное количество дней трудового стажа в столбце `days_employed`. Для реальных данных это нормально. Обработайте значения в этом столбце: замените все отрицательные значения положительными с помощью метода `abs()`.**"
   ]
  },
  {
   "cell_type": "code",
   "execution_count": 6,
   "id": "c5d28f6a",
   "metadata": {
    "deletable": false,
    "id": "f6f055bf"
   },
   "outputs": [],
   "source": [
    "data['days_employed'] = data['days_employed'].abs()"
   ]
  },
  {
   "cell_type": "markdown",
   "id": "6c7f1bea",
   "metadata": {
    "deletable": false,
    "editable": false,
    "id": "6107dd2f"
   },
   "source": [
    "**Задание 7. Для каждого типа занятости выведите медианное значение трудового стажа `days_employed` в днях.**"
   ]
  },
  {
   "cell_type": "code",
   "execution_count": 7,
   "id": "7d1bbd82",
   "metadata": {
    "deletable": false,
    "id": "85a5faf6",
    "outputId": "801ef80e-522b-4668-f34e-565af7432bcf"
   },
   "outputs": [
    {
     "data": {
      "text/plain": [
       "income_type\n",
       "безработный        366413.652744\n",
       "в декрете            3296.759962\n",
       "госслужащий          2689.368353\n",
       "компаньон            1547.382223\n",
       "пенсионер          365213.306266\n",
       "предприниматель       520.848083\n",
       "сотрудник            1574.202821\n",
       "студент               578.751554\n",
       "Name: days_employed, dtype: float64"
      ]
     },
     "execution_count": 7,
     "metadata": {},
     "output_type": "execute_result"
    }
   ],
   "source": [
    "data.groupby('income_type')['days_employed'].agg('median')"
   ]
  },
  {
   "cell_type": "markdown",
   "id": "7e7fcc2e",
   "metadata": {
    "deletable": false,
    "editable": false,
    "id": "38d1a030"
   },
   "source": [
    "У двух типов (безработные и пенсионеры) получатся аномально большие значения. Исправить такие значения сложно, поэтому оставьте их как есть. Тем более этот столбец не понадобится вам для исследования."
   ]
  },
  {
   "cell_type": "markdown",
   "id": "9d6829ba",
   "metadata": {
    "deletable": false,
    "editable": false,
    "id": "d8a9f147"
   },
   "source": [
    "**Задание 8. Выведите перечень уникальных значений столбца `children`.**"
   ]
  },
  {
   "cell_type": "code",
   "execution_count": 8,
   "id": "f6330247",
   "metadata": {
    "deletable": false,
    "id": "ef5056eb",
    "outputId": "6975b15c-7f95-4697-d16d-a0c79b657b03"
   },
   "outputs": [
    {
     "data": {
      "text/plain": [
       "array([ 1,  0,  3,  2, -1,  4, 20,  5])"
      ]
     },
     "execution_count": 8,
     "metadata": {},
     "output_type": "execute_result"
    }
   ],
   "source": [
    "data['children'].unique()"
   ]
  },
  {
   "cell_type": "markdown",
   "id": "c24966bf",
   "metadata": {
    "deletable": false,
    "editable": false,
    "id": "40b9ebf2"
   },
   "source": [
    "**Задание 9. В столбце `children` есть два аномальных значения. Удалите строки, в которых встречаются такие аномальные значения из датафрейма `data`.**"
   ]
  },
  {
   "cell_type": "code",
   "execution_count": 9,
   "id": "464d6560",
   "metadata": {
    "deletable": false,
    "id": "3ff9801d"
   },
   "outputs": [],
   "source": [
    "data = data[(data['children'] != -1) & (data['children'] != 20)]"
   ]
  },
  {
   "cell_type": "markdown",
   "id": "d0b1736b",
   "metadata": {
    "deletable": false,
    "editable": false,
    "id": "bbc4d0ce"
   },
   "source": [
    "**Задание 10. Ещё раз выведите перечень уникальных значений столбца `children`, чтобы убедиться, что артефакты удалены.**"
   ]
  },
  {
   "cell_type": "code",
   "execution_count": 10,
   "id": "fbedc519",
   "metadata": {
    "deletable": false,
    "id": "ad4fa8b7",
    "outputId": "b2097101-d49d-44d9-901b-32a65c9463d1"
   },
   "outputs": [
    {
     "data": {
      "text/plain": [
       "array([1, 0, 3, 2, 4, 5])"
      ]
     },
     "execution_count": 10,
     "metadata": {},
     "output_type": "execute_result"
    }
   ],
   "source": [
    "data['children'].unique()"
   ]
  },
  {
   "cell_type": "markdown",
   "id": "adfb76e7",
   "metadata": {
    "deletable": false,
    "editable": false,
    "id": "75440b63"
   },
   "source": [
    "### Удаление пропусков (продолжение)"
   ]
  },
  {
   "cell_type": "markdown",
   "id": "8c8acb3a",
   "metadata": {
    "deletable": false,
    "editable": false,
    "id": "f4ea573f"
   },
   "source": [
    "**Задание 11. Заполните пропуски в столбце `days_employed` медианными значениями по каждого типа занятости `income_type`.**"
   ]
  },
  {
   "cell_type": "code",
   "execution_count": 11,
   "id": "c0629c2e",
   "metadata": {
    "deletable": false,
    "id": "af6b1a7e"
   },
   "outputs": [],
   "source": [
    "for t in data['income_type'].unique():\n",
    "    data.loc[(data['income_type'] == t) & (data['days_employed'].isna()), 'days_employed'] = \\\n",
    "    data.loc[(data['income_type'] == t), 'days_employed'].median()"
   ]
  },
  {
   "cell_type": "markdown",
   "id": "d1ba3a75",
   "metadata": {
    "deletable": false,
    "editable": false,
    "id": "2753f40d"
   },
   "source": [
    "**Задание 12. Убедитесь, что все пропуски заполнены. Проверьте себя и ещё раз выведите количество пропущенных значений для каждого столбца с помощью двух методов.**"
   ]
  },
  {
   "cell_type": "code",
   "execution_count": 12,
   "id": "1510df85",
   "metadata": {
    "deletable": false,
    "id": "55f78bc2",
    "outputId": "8da1e4e1-358e-4e87-98c9-f261bce0a7b2"
   },
   "outputs": [
    {
     "data": {
      "text/plain": [
       "children            0\n",
       "days_employed       0\n",
       "dob_years           0\n",
       "education           0\n",
       "education_id        0\n",
       "family_status       0\n",
       "family_status_id    0\n",
       "gender              0\n",
       "income_type         0\n",
       "debt                0\n",
       "total_income        0\n",
       "purpose             0\n",
       "dtype: int64"
      ]
     },
     "execution_count": 12,
     "metadata": {},
     "output_type": "execute_result"
    }
   ],
   "source": [
    "data.isna().sum()"
   ]
  },
  {
   "cell_type": "markdown",
   "id": "45033895",
   "metadata": {
    "deletable": false,
    "editable": false,
    "id": "ddc81e43"
   },
   "source": [
    "### Изменение типов данных"
   ]
  },
  {
   "cell_type": "markdown",
   "id": "af82ae6e",
   "metadata": {
    "deletable": false,
    "editable": false,
    "id": "42d19d24"
   },
   "source": [
    "**Задание 13. Замените вещественный тип данных в столбце `total_income` на целочисленный с помощью метода `astype()`.**"
   ]
  },
  {
   "cell_type": "code",
   "execution_count": 13,
   "id": "77fd26fc",
   "metadata": {
    "deletable": false,
    "id": "920b65ad"
   },
   "outputs": [],
   "source": [
    "data['total_income'] = data['total_income'].astype(int)"
   ]
  },
  {
   "cell_type": "markdown",
   "id": "cd8e6ab8",
   "metadata": {
    "deletable": false,
    "editable": false,
    "id": "80c420ba"
   },
   "source": [
    "### Обработка дубликатов"
   ]
  },
  {
   "cell_type": "markdown",
   "id": "94bd7d57",
   "metadata": {
    "deletable": false,
    "editable": false
   },
   "source": [
    "**Задание 14. Обработайте неявные дубликаты в столбце `education`. В этом столбце есть одни и те же значения, но записанные по-разному: с использованием заглавных и строчных букв. Приведите их к нижнему регистру. Проверьте остальные столбцы.**"
   ]
  },
  {
   "cell_type": "code",
   "execution_count": 14,
   "id": "c3204768",
   "metadata": {
    "deletable": false
   },
   "outputs": [],
   "source": [
    "data['education'] = data['education'].str.lower()"
   ]
  },
  {
   "cell_type": "markdown",
   "id": "e8e355fa",
   "metadata": {
    "deletable": false,
    "editable": false,
    "id": "dc587695"
   },
   "source": [
    "**Задание 15. Выведите на экран количество строк-дубликатов в данных. Если такие строки присутствуют, удалите их.**"
   ]
  },
  {
   "cell_type": "code",
   "execution_count": 15,
   "id": "30640c10",
   "metadata": {
    "deletable": false,
    "id": "3ee445e4",
    "outputId": "9684deba-1934-42d1-99e1-cda61740f822"
   },
   "outputs": [
    {
     "data": {
      "text/plain": [
       "71"
      ]
     },
     "execution_count": 15,
     "metadata": {},
     "output_type": "execute_result"
    }
   ],
   "source": [
    "data.duplicated().sum()"
   ]
  },
  {
   "cell_type": "code",
   "execution_count": 16,
   "id": "ca8ec55d",
   "metadata": {
    "deletable": false,
    "id": "8575fe05"
   },
   "outputs": [],
   "source": [
    "data = data.drop_duplicates()"
   ]
  },
  {
   "cell_type": "markdown",
   "id": "7492c218",
   "metadata": {
    "deletable": false,
    "editable": false,
    "id": "9904cf55"
   },
   "source": [
    "### Категоризация данных"
   ]
  },
  {
   "cell_type": "markdown",
   "id": "8a2ba41d",
   "metadata": {
    "deletable": false,
    "editable": false,
    "id": "72fcc8a2"
   },
   "source": [
    "**Задание 16. На основании диапазонов, указанных ниже, создайте в датафрейме `data` столбец `total_income_category` с категориями:**\n",
    "\n",
    "- 0–30000 — `'E'`;\n",
    "- 30001–50000 — `'D'`;\n",
    "- 50001–200000 — `'C'`;\n",
    "- 200001–1000000 — `'B'`;\n",
    "- 1000001 и выше — `'A'`.\n",
    "\n",
    "\n",
    "**Например, кредитополучателю с доходом 25000 нужно назначить категорию `'E'`, а клиенту, получающему 235000, — `'B'`. Используйте собственную функцию с именем `categorize_income()` и метод `apply()`.**"
   ]
  },
  {
   "cell_type": "code",
   "execution_count": 17,
   "id": "5076d47e",
   "metadata": {
    "deletable": false,
    "id": "e1771346"
   },
   "outputs": [],
   "source": [
    "def categorize_income(income):\n",
    "    try:\n",
    "        if 0 <= income <= 30000:\n",
    "            return 'E'\n",
    "        elif 30001 <= income <= 50000:\n",
    "            return 'D'\n",
    "        elif 50001 <= income <= 200000:\n",
    "            return 'C'\n",
    "        elif 200001 <= income <= 1000000:\n",
    "            return 'B'\n",
    "        elif income >= 1000001:\n",
    "            return 'A'\n",
    "    except:\n",
    "        pass"
   ]
  },
  {
   "cell_type": "code",
   "execution_count": 18,
   "id": "7afce6b0",
   "metadata": {
    "deletable": false,
    "id": "d5f3586d"
   },
   "outputs": [],
   "source": [
    "data['total_income_category'] = data['total_income'].apply(categorize_income)"
   ]
  },
  {
   "cell_type": "markdown",
   "id": "af0360f5",
   "metadata": {
    "deletable": false,
    "editable": false,
    "id": "dde49b5c"
   },
   "source": [
    "**Задание 17. Выведите на экран перечень уникальных целей взятия кредита из столбца `purpose`.**"
   ]
  },
  {
   "cell_type": "code",
   "execution_count": 19,
   "id": "4ed785a4",
   "metadata": {
    "deletable": false,
    "id": "f67ce9b3",
    "outputId": "673c12d9-7d7e-4ae0-9812-c622c89dd244"
   },
   "outputs": [
    {
     "data": {
      "text/plain": [
       "array(['покупка жилья', 'приобретение автомобиля',\n",
       "       'дополнительное образование', 'сыграть свадьбу',\n",
       "       'операции с жильем', 'образование', 'на проведение свадьбы',\n",
       "       'покупка жилья для семьи', 'покупка недвижимости',\n",
       "       'покупка коммерческой недвижимости', 'покупка жилой недвижимости',\n",
       "       'строительство собственной недвижимости', 'недвижимость',\n",
       "       'строительство недвижимости', 'на покупку подержанного автомобиля',\n",
       "       'на покупку своего автомобиля',\n",
       "       'операции с коммерческой недвижимостью',\n",
       "       'строительство жилой недвижимости', 'жилье',\n",
       "       'операции со своей недвижимостью', 'автомобили',\n",
       "       'заняться образованием', 'сделка с подержанным автомобилем',\n",
       "       'получение образования', 'автомобиль', 'свадьба',\n",
       "       'получение дополнительного образования', 'покупка своего жилья',\n",
       "       'операции с недвижимостью', 'получение высшего образования',\n",
       "       'свой автомобиль', 'сделка с автомобилем',\n",
       "       'профильное образование', 'высшее образование',\n",
       "       'покупка жилья для сдачи', 'на покупку автомобиля', 'ремонт жилью',\n",
       "       'заняться высшим образованием'], dtype=object)"
      ]
     },
     "execution_count": 19,
     "metadata": {},
     "output_type": "execute_result"
    }
   ],
   "source": [
    "data['purpose'].unique()"
   ]
  },
  {
   "cell_type": "markdown",
   "id": "89b92bd8",
   "metadata": {
    "deletable": false,
    "editable": false,
    "id": "85d0aef0"
   },
   "source": [
    "**Задание 18. Создайте функцию, которая на основании данных из столбца `purpose` сформирует новый столбец `purpose_category`, в который войдут следующие категории:**\n",
    "\n",
    "- `'операции с автомобилем'`,\n",
    "- `'операции с недвижимостью'`,\n",
    "- `'проведение свадьбы'`,\n",
    "- `'получение образования'`.\n",
    "\n",
    "**Например, если в столбце `purpose` находится подстрока `'на покупку автомобиля'`, то в столбце `purpose_category` должна появиться строка `'операции с автомобилем'`.**\n",
    "\n",
    "**Используйте собственную функцию с именем `categorize_purpose()` и метод `apply()`. Изучите данные в столбце `purpose` и определите, какие подстроки помогут вам правильно определить категорию.**"
   ]
  },
  {
   "cell_type": "code",
   "execution_count": 20,
   "id": "2b06aa05",
   "metadata": {
    "deletable": false,
    "id": "e149fab4"
   },
   "outputs": [],
   "source": [
    "def categorize_purpose(row):\n",
    "    try:\n",
    "        if 'автом' in row:\n",
    "            return 'операции с автомобилем'\n",
    "        elif 'жил' in row or 'недвиж' in row:\n",
    "            return 'операции с недвижимостью'\n",
    "        elif 'свад' in row:\n",
    "            return 'проведение свадьбы'\n",
    "        elif 'образов' in row:\n",
    "            return 'получение образования'\n",
    "    except:\n",
    "        return 'нет категории'"
   ]
  },
  {
   "cell_type": "code",
   "execution_count": 21,
   "id": "a68d63e8",
   "metadata": {
    "deletable": false,
    "id": "bf36e69b"
   },
   "outputs": [],
   "source": [
    "data['purpose_category'] = data['purpose'].apply(categorize_purpose)"
   ]
  },
  {
   "cell_type": "markdown",
   "id": "2d76f256",
   "metadata": {
    "deletable": false,
    "editable": false,
    "id": "09b242bf"
   },
   "source": [
    "### Шаг 3. Исследуйте данные и ответьте на вопросы"
   ]
  },
  {
   "cell_type": "markdown",
   "id": "93bfd2fc",
   "metadata": {
    "deletable": false,
    "editable": false,
    "id": "c5d66278"
   },
   "source": [
    "#### 3.1 Есть ли зависимость между количеством детей и возвратом кредита в срок?"
   ]
  },
  {
   "cell_type": "code",
   "execution_count": 22,
   "id": "f068a34b",
   "metadata": {
    "deletable": false,
    "id": "2cacfc4a"
   },
   "outputs": [
    {
     "data": {
      "text/html": [
       "<div>\n",
       "<style scoped>\n",
       "    .dataframe tbody tr th:only-of-type {\n",
       "        vertical-align: middle;\n",
       "    }\n",
       "\n",
       "    .dataframe tbody tr th {\n",
       "        vertical-align: top;\n",
       "    }\n",
       "\n",
       "    .dataframe thead tr th {\n",
       "        text-align: left;\n",
       "    }\n",
       "\n",
       "    .dataframe thead tr:last-of-type th {\n",
       "        text-align: right;\n",
       "    }\n",
       "</style>\n",
       "<table border=\"1\" class=\"dataframe\">\n",
       "  <thead>\n",
       "    <tr>\n",
       "      <th></th>\n",
       "      <th>debt</th>\n",
       "    </tr>\n",
       "    <tr>\n",
       "      <th></th>\n",
       "      <th>mean</th>\n",
       "    </tr>\n",
       "    <tr>\n",
       "      <th>children</th>\n",
       "      <th></th>\n",
       "    </tr>\n",
       "  </thead>\n",
       "  <tbody>\n",
       "    <tr>\n",
       "      <th>0</th>\n",
       "      <td>0.075438</td>\n",
       "    </tr>\n",
       "    <tr>\n",
       "      <th>1</th>\n",
       "      <td>0.092346</td>\n",
       "    </tr>\n",
       "    <tr>\n",
       "      <th>2</th>\n",
       "      <td>0.094542</td>\n",
       "    </tr>\n",
       "    <tr>\n",
       "      <th>3</th>\n",
       "      <td>0.081818</td>\n",
       "    </tr>\n",
       "    <tr>\n",
       "      <th>4</th>\n",
       "      <td>0.097561</td>\n",
       "    </tr>\n",
       "    <tr>\n",
       "      <th>5</th>\n",
       "      <td>0.000000</td>\n",
       "    </tr>\n",
       "  </tbody>\n",
       "</table>\n",
       "</div>"
      ],
      "text/plain": [
       "              debt\n",
       "              mean\n",
       "children          \n",
       "0         0.075438\n",
       "1         0.092346\n",
       "2         0.094542\n",
       "3         0.081818\n",
       "4         0.097561\n",
       "5         0.000000"
      ]
     },
     "execution_count": 22,
     "metadata": {},
     "output_type": "execute_result"
    }
   ],
   "source": [
    "# Ваш код будет здесь. Вы можете создавать новые ячейки.\n",
    "\n",
    "# Сгруппируем данные по количеству детей и подсчета доли должников\n",
    "\n",
    "children_debt = data.groupby('children').agg({'debt': ['mean']})\n",
    "children_debt"
   ]
  },
  {
   "cell_type": "code",
   "execution_count": 23,
   "id": "dd95fce0",
   "metadata": {},
   "outputs": [],
   "source": [
    "# Переименуем столбец для удобства\n",
    "children_debt.columns = ['debt_ratio']\n"
   ]
  },
  {
   "cell_type": "code",
   "execution_count": 24,
   "id": "ed9fb3af",
   "metadata": {
    "scrolled": true
   },
   "outputs": [
    {
     "data": {
      "text/html": [
       "<div>\n",
       "<style scoped>\n",
       "    .dataframe tbody tr th:only-of-type {\n",
       "        vertical-align: middle;\n",
       "    }\n",
       "\n",
       "    .dataframe tbody tr th {\n",
       "        vertical-align: top;\n",
       "    }\n",
       "\n",
       "    .dataframe thead th {\n",
       "        text-align: right;\n",
       "    }\n",
       "</style>\n",
       "<table border=\"1\" class=\"dataframe\">\n",
       "  <thead>\n",
       "    <tr style=\"text-align: right;\">\n",
       "      <th></th>\n",
       "      <th>debt_ratio</th>\n",
       "    </tr>\n",
       "    <tr>\n",
       "      <th>children</th>\n",
       "      <th></th>\n",
       "    </tr>\n",
       "  </thead>\n",
       "  <tbody>\n",
       "    <tr>\n",
       "      <th>0</th>\n",
       "      <td>7.543822</td>\n",
       "    </tr>\n",
       "    <tr>\n",
       "      <th>1</th>\n",
       "      <td>9.234609</td>\n",
       "    </tr>\n",
       "    <tr>\n",
       "      <th>2</th>\n",
       "      <td>9.454191</td>\n",
       "    </tr>\n",
       "    <tr>\n",
       "      <th>3</th>\n",
       "      <td>8.181818</td>\n",
       "    </tr>\n",
       "    <tr>\n",
       "      <th>4</th>\n",
       "      <td>9.756098</td>\n",
       "    </tr>\n",
       "    <tr>\n",
       "      <th>5</th>\n",
       "      <td>0.000000</td>\n",
       "    </tr>\n",
       "  </tbody>\n",
       "</table>\n",
       "</div>"
      ],
      "text/plain": [
       "          debt_ratio\n",
       "children            \n",
       "0           7.543822\n",
       "1           9.234609\n",
       "2           9.454191\n",
       "3           8.181818\n",
       "4           9.756098\n",
       "5           0.000000"
      ]
     },
     "execution_count": 24,
     "metadata": {},
     "output_type": "execute_result"
    }
   ],
   "source": [
    "# Умножим на 100, чтобы получить процент должников\n",
    "children_debt['debt_ratio'] = children_debt['debt_ratio'] * 100\n",
    "children_debt"
   ]
  },
  {
   "cell_type": "markdown",
   "id": "d1243e7e",
   "metadata": {
    "deletable": false,
    "id": "3a6b99ec"
   },
   "source": [
    "**Вывод:**  \n",
    "\n",
    "**Зависимости между количеством детей и возвратом кредита в срок не наблюдается. Однако можно заметить, что заемщики с 1-2 детьми имеют несколько более высокий процент должников по сравнению с заемщиками без детей.** "
   ]
  },
  {
   "cell_type": "markdown",
   "id": "2edb52ba",
   "metadata": {
    "deletable": false,
    "editable": false,
    "id": "97be82ca"
   },
   "source": [
    "#### 3.2 Есть ли зависимость между семейным положением и возвратом кредита в срок?"
   ]
  },
  {
   "cell_type": "code",
   "execution_count": 25,
   "id": "11104cc7",
   "metadata": {
    "deletable": false,
    "id": "dc3f7ee8"
   },
   "outputs": [
    {
     "data": {
      "text/html": [
       "<div>\n",
       "<style scoped>\n",
       "    .dataframe tbody tr th:only-of-type {\n",
       "        vertical-align: middle;\n",
       "    }\n",
       "\n",
       "    .dataframe tbody tr th {\n",
       "        vertical-align: top;\n",
       "    }\n",
       "\n",
       "    .dataframe thead tr th {\n",
       "        text-align: left;\n",
       "    }\n",
       "\n",
       "    .dataframe thead tr:last-of-type th {\n",
       "        text-align: right;\n",
       "    }\n",
       "</style>\n",
       "<table border=\"1\" class=\"dataframe\">\n",
       "  <thead>\n",
       "    <tr>\n",
       "      <th></th>\n",
       "      <th>debt</th>\n",
       "    </tr>\n",
       "    <tr>\n",
       "      <th></th>\n",
       "      <th>mean</th>\n",
       "    </tr>\n",
       "    <tr>\n",
       "      <th>family_status</th>\n",
       "      <th></th>\n",
       "    </tr>\n",
       "  </thead>\n",
       "  <tbody>\n",
       "    <tr>\n",
       "      <th>Не женат / не замужем</th>\n",
       "      <td>0.097639</td>\n",
       "    </tr>\n",
       "    <tr>\n",
       "      <th>в разводе</th>\n",
       "      <td>0.070648</td>\n",
       "    </tr>\n",
       "    <tr>\n",
       "      <th>вдовец / вдова</th>\n",
       "      <td>0.066246</td>\n",
       "    </tr>\n",
       "    <tr>\n",
       "      <th>гражданский брак</th>\n",
       "      <td>0.093130</td>\n",
       "    </tr>\n",
       "    <tr>\n",
       "      <th>женат / замужем</th>\n",
       "      <td>0.075606</td>\n",
       "    </tr>\n",
       "  </tbody>\n",
       "</table>\n",
       "</div>"
      ],
      "text/plain": [
       "                           debt\n",
       "                           mean\n",
       "family_status                  \n",
       "Не женат / не замужем  0.097639\n",
       "в разводе              0.070648\n",
       "вдовец / вдова         0.066246\n",
       "гражданский брак       0.093130\n",
       "женат / замужем        0.075606"
      ]
     },
     "execution_count": 25,
     "metadata": {},
     "output_type": "execute_result"
    }
   ],
   "source": [
    "# Ваш код будет здесь. Вы можете создавать новые ячейки.\n",
    "\n",
    "# Сгруппируем данные по семейному статусу и возвратом кредита в срок\n",
    "\n",
    "family_status_debt = data.groupby('family_status').agg({'debt' : ['mean']})\n",
    "family_status_debt"
   ]
  },
  {
   "cell_type": "code",
   "execution_count": 26,
   "id": "d2dd8ccd",
   "metadata": {},
   "outputs": [
    {
     "data": {
      "text/html": [
       "<div>\n",
       "<style scoped>\n",
       "    .dataframe tbody tr th:only-of-type {\n",
       "        vertical-align: middle;\n",
       "    }\n",
       "\n",
       "    .dataframe tbody tr th {\n",
       "        vertical-align: top;\n",
       "    }\n",
       "\n",
       "    .dataframe thead th {\n",
       "        text-align: right;\n",
       "    }\n",
       "</style>\n",
       "<table border=\"1\" class=\"dataframe\">\n",
       "  <thead>\n",
       "    <tr style=\"text-align: right;\">\n",
       "      <th></th>\n",
       "      <th>dept_ratio</th>\n",
       "    </tr>\n",
       "    <tr>\n",
       "      <th>family_status</th>\n",
       "      <th></th>\n",
       "    </tr>\n",
       "  </thead>\n",
       "  <tbody>\n",
       "    <tr>\n",
       "      <th>Не женат / не замужем</th>\n",
       "      <td>0.097639</td>\n",
       "    </tr>\n",
       "    <tr>\n",
       "      <th>в разводе</th>\n",
       "      <td>0.070648</td>\n",
       "    </tr>\n",
       "    <tr>\n",
       "      <th>вдовец / вдова</th>\n",
       "      <td>0.066246</td>\n",
       "    </tr>\n",
       "    <tr>\n",
       "      <th>гражданский брак</th>\n",
       "      <td>0.093130</td>\n",
       "    </tr>\n",
       "    <tr>\n",
       "      <th>женат / замужем</th>\n",
       "      <td>0.075606</td>\n",
       "    </tr>\n",
       "  </tbody>\n",
       "</table>\n",
       "</div>"
      ],
      "text/plain": [
       "                       dept_ratio\n",
       "family_status                    \n",
       "Не женат / не замужем    0.097639\n",
       "в разводе                0.070648\n",
       "вдовец / вдова           0.066246\n",
       "гражданский брак         0.093130\n",
       "женат / замужем          0.075606"
      ]
     },
     "execution_count": 26,
     "metadata": {},
     "output_type": "execute_result"
    }
   ],
   "source": [
    "# Переменуем столбец для удобства\n",
    "\n",
    "family_status_debt.columns = ['dept_ratio']\n",
    "family_status_debt"
   ]
  },
  {
   "cell_type": "code",
   "execution_count": 27,
   "id": "9715bc61",
   "metadata": {
    "scrolled": true
   },
   "outputs": [
    {
     "data": {
      "text/html": [
       "<div>\n",
       "<style scoped>\n",
       "    .dataframe tbody tr th:only-of-type {\n",
       "        vertical-align: middle;\n",
       "    }\n",
       "\n",
       "    .dataframe tbody tr th {\n",
       "        vertical-align: top;\n",
       "    }\n",
       "\n",
       "    .dataframe thead th {\n",
       "        text-align: right;\n",
       "    }\n",
       "</style>\n",
       "<table border=\"1\" class=\"dataframe\">\n",
       "  <thead>\n",
       "    <tr style=\"text-align: right;\">\n",
       "      <th></th>\n",
       "      <th>dept_ratio</th>\n",
       "    </tr>\n",
       "    <tr>\n",
       "      <th>family_status</th>\n",
       "      <th></th>\n",
       "    </tr>\n",
       "  </thead>\n",
       "  <tbody>\n",
       "    <tr>\n",
       "      <th>Не женат / не замужем</th>\n",
       "      <td>9.763948</td>\n",
       "    </tr>\n",
       "    <tr>\n",
       "      <th>в разводе</th>\n",
       "      <td>7.064760</td>\n",
       "    </tr>\n",
       "    <tr>\n",
       "      <th>вдовец / вдова</th>\n",
       "      <td>6.624606</td>\n",
       "    </tr>\n",
       "    <tr>\n",
       "      <th>гражданский брак</th>\n",
       "      <td>9.313014</td>\n",
       "    </tr>\n",
       "    <tr>\n",
       "      <th>женат / замужем</th>\n",
       "      <td>7.560558</td>\n",
       "    </tr>\n",
       "  </tbody>\n",
       "</table>\n",
       "</div>"
      ],
      "text/plain": [
       "                       dept_ratio\n",
       "family_status                    \n",
       "Не женат / не замужем    9.763948\n",
       "в разводе                7.064760\n",
       "вдовец / вдова           6.624606\n",
       "гражданский брак         9.313014\n",
       "женат / замужем          7.560558"
      ]
     },
     "execution_count": 27,
     "metadata": {},
     "output_type": "execute_result"
    }
   ],
   "source": [
    "# Умножем на 100, чтобы вычислить процент должников\n",
    "\n",
    "family_status_debt['dept_ratio'] = family_status_debt['dept_ratio'] * 100\n",
    "family_status_debt"
   ]
  },
  {
   "cell_type": "markdown",
   "id": "d5e2815a",
   "metadata": {
    "deletable": false,
    "id": "1cef7837"
   },
   "source": [
    "**Вывод:** \n",
    "\n",
    "**Люди с семейный статусом \"не женат/не замужем\" и \"гражданский брак\" чаще имеют задолженность по кредитом. В то же время люди со статусом \"вдовец/вдова\", \"в разводе\" и \"женат/замужем\", менее склонны к просрочкам.**\n",
    "\n",
    "**Это может быть связано с уровнем финансовой стабильности в разных категориях. Женатые и вдовцы/вдовы могут быть более финансово устойчивыми и ответственными, что объясняет их более низкие показатели задолженности.**"
   ]
  },
  {
   "cell_type": "markdown",
   "id": "d93c3918",
   "metadata": {
    "deletable": false,
    "editable": false,
    "id": "1e8b2fca"
   },
   "source": [
    "#### 3.3 Есть ли зависимость между уровнем дохода и возвратом кредита в срок?"
   ]
  },
  {
   "cell_type": "code",
   "execution_count": 28,
   "id": "f87117f5",
   "metadata": {
    "deletable": false,
    "id": "cd7e3720"
   },
   "outputs": [
    {
     "data": {
      "text/html": [
       "<div>\n",
       "<style scoped>\n",
       "    .dataframe tbody tr th:only-of-type {\n",
       "        vertical-align: middle;\n",
       "    }\n",
       "\n",
       "    .dataframe tbody tr th {\n",
       "        vertical-align: top;\n",
       "    }\n",
       "\n",
       "    .dataframe thead tr th {\n",
       "        text-align: left;\n",
       "    }\n",
       "\n",
       "    .dataframe thead tr:last-of-type th {\n",
       "        text-align: right;\n",
       "    }\n",
       "</style>\n",
       "<table border=\"1\" class=\"dataframe\">\n",
       "  <thead>\n",
       "    <tr>\n",
       "      <th></th>\n",
       "      <th colspan=\"2\" halign=\"left\">debt</th>\n",
       "    </tr>\n",
       "    <tr>\n",
       "      <th></th>\n",
       "      <th>mean</th>\n",
       "      <th>count</th>\n",
       "    </tr>\n",
       "    <tr>\n",
       "      <th>total_income_category</th>\n",
       "      <th></th>\n",
       "      <th></th>\n",
       "    </tr>\n",
       "  </thead>\n",
       "  <tbody>\n",
       "    <tr>\n",
       "      <th>A</th>\n",
       "      <td>0.080000</td>\n",
       "      <td>25</td>\n",
       "    </tr>\n",
       "    <tr>\n",
       "      <th>B</th>\n",
       "      <td>0.070602</td>\n",
       "      <td>5014</td>\n",
       "    </tr>\n",
       "    <tr>\n",
       "      <th>C</th>\n",
       "      <td>0.084982</td>\n",
       "      <td>15921</td>\n",
       "    </tr>\n",
       "    <tr>\n",
       "      <th>D</th>\n",
       "      <td>0.060172</td>\n",
       "      <td>349</td>\n",
       "    </tr>\n",
       "    <tr>\n",
       "      <th>E</th>\n",
       "      <td>0.090909</td>\n",
       "      <td>22</td>\n",
       "    </tr>\n",
       "  </tbody>\n",
       "</table>\n",
       "</div>"
      ],
      "text/plain": [
       "                           debt       \n",
       "                           mean  count\n",
       "total_income_category                 \n",
       "A                      0.080000     25\n",
       "B                      0.070602   5014\n",
       "C                      0.084982  15921\n",
       "D                      0.060172    349\n",
       "E                      0.090909     22"
      ]
     },
     "execution_count": 28,
     "metadata": {},
     "output_type": "execute_result"
    }
   ],
   "source": [
    "# Ваш код будет здесь. Вы можете создавать новые ячейки.\n",
    "\n",
    "# Сгруппируем данные по уровню дохода и возвратом кредита в срок\n",
    "\n",
    "total_income_debt = data.groupby('total_income_category').agg({\n",
    "    'debt': ['mean', 'count']\n",
    "})\n",
    "total_income_debt"
   ]
  },
  {
   "cell_type": "code",
   "execution_count": 29,
   "id": "56e52732",
   "metadata": {
    "scrolled": true
   },
   "outputs": [
    {
     "data": {
      "text/html": [
       "<div>\n",
       "<style scoped>\n",
       "    .dataframe tbody tr th:only-of-type {\n",
       "        vertical-align: middle;\n",
       "    }\n",
       "\n",
       "    .dataframe tbody tr th {\n",
       "        vertical-align: top;\n",
       "    }\n",
       "\n",
       "    .dataframe thead th {\n",
       "        text-align: right;\n",
       "    }\n",
       "</style>\n",
       "<table border=\"1\" class=\"dataframe\">\n",
       "  <thead>\n",
       "    <tr style=\"text-align: right;\">\n",
       "      <th></th>\n",
       "      <th>dept_ratio</th>\n",
       "      <th>group_size</th>\n",
       "    </tr>\n",
       "    <tr>\n",
       "      <th>total_income_category</th>\n",
       "      <th></th>\n",
       "      <th></th>\n",
       "    </tr>\n",
       "  </thead>\n",
       "  <tbody>\n",
       "    <tr>\n",
       "      <th>A</th>\n",
       "      <td>0.080000</td>\n",
       "      <td>25</td>\n",
       "    </tr>\n",
       "    <tr>\n",
       "      <th>B</th>\n",
       "      <td>0.070602</td>\n",
       "      <td>5014</td>\n",
       "    </tr>\n",
       "    <tr>\n",
       "      <th>C</th>\n",
       "      <td>0.084982</td>\n",
       "      <td>15921</td>\n",
       "    </tr>\n",
       "    <tr>\n",
       "      <th>D</th>\n",
       "      <td>0.060172</td>\n",
       "      <td>349</td>\n",
       "    </tr>\n",
       "    <tr>\n",
       "      <th>E</th>\n",
       "      <td>0.090909</td>\n",
       "      <td>22</td>\n",
       "    </tr>\n",
       "  </tbody>\n",
       "</table>\n",
       "</div>"
      ],
      "text/plain": [
       "                       dept_ratio  group_size\n",
       "total_income_category                        \n",
       "A                        0.080000          25\n",
       "B                        0.070602        5014\n",
       "C                        0.084982       15921\n",
       "D                        0.060172         349\n",
       "E                        0.090909          22"
      ]
     },
     "execution_count": 29,
     "metadata": {},
     "output_type": "execute_result"
    }
   ],
   "source": [
    "# Переменуем столбец для удобства\n",
    "\n",
    "total_income_debt.columns = ['dept_ratio', 'group_size']\n",
    "total_income_debt"
   ]
  },
  {
   "cell_type": "code",
   "execution_count": 30,
   "id": "fe7776fb",
   "metadata": {},
   "outputs": [
    {
     "data": {
      "text/html": [
       "<div>\n",
       "<style scoped>\n",
       "    .dataframe tbody tr th:only-of-type {\n",
       "        vertical-align: middle;\n",
       "    }\n",
       "\n",
       "    .dataframe tbody tr th {\n",
       "        vertical-align: top;\n",
       "    }\n",
       "\n",
       "    .dataframe thead th {\n",
       "        text-align: right;\n",
       "    }\n",
       "</style>\n",
       "<table border=\"1\" class=\"dataframe\">\n",
       "  <thead>\n",
       "    <tr style=\"text-align: right;\">\n",
       "      <th></th>\n",
       "      <th>dept_ratio</th>\n",
       "      <th>group_size</th>\n",
       "    </tr>\n",
       "    <tr>\n",
       "      <th>total_income_category</th>\n",
       "      <th></th>\n",
       "      <th></th>\n",
       "    </tr>\n",
       "  </thead>\n",
       "  <tbody>\n",
       "    <tr>\n",
       "      <th>A</th>\n",
       "      <td>8.000000</td>\n",
       "      <td>25</td>\n",
       "    </tr>\n",
       "    <tr>\n",
       "      <th>B</th>\n",
       "      <td>7.060231</td>\n",
       "      <td>5014</td>\n",
       "    </tr>\n",
       "    <tr>\n",
       "      <th>C</th>\n",
       "      <td>8.498210</td>\n",
       "      <td>15921</td>\n",
       "    </tr>\n",
       "    <tr>\n",
       "      <th>D</th>\n",
       "      <td>6.017192</td>\n",
       "      <td>349</td>\n",
       "    </tr>\n",
       "    <tr>\n",
       "      <th>E</th>\n",
       "      <td>9.090909</td>\n",
       "      <td>22</td>\n",
       "    </tr>\n",
       "  </tbody>\n",
       "</table>\n",
       "</div>"
      ],
      "text/plain": [
       "                       dept_ratio  group_size\n",
       "total_income_category                        \n",
       "A                        8.000000          25\n",
       "B                        7.060231        5014\n",
       "C                        8.498210       15921\n",
       "D                        6.017192         349\n",
       "E                        9.090909          22"
      ]
     },
     "execution_count": 30,
     "metadata": {},
     "output_type": "execute_result"
    }
   ],
   "source": [
    "# Умножем на 100, чтобы вычислить процент должников\n",
    "\n",
    "total_income_debt['dept_ratio'] = total_income_debt['dept_ratio'] * 100\n",
    "total_income_debt\n"
   ]
  },
  {
   "cell_type": "markdown",
   "id": "b5bc7ef3",
   "metadata": {
    "deletable": false,
    "id": "e8593def"
   },
   "source": [
    "**Вывод:** \n",
    "\n",
    "**Уровень дохода имеет влияние на возврат кредита в срок, но эта зависимость не всегда линейна.**\n",
    "\n",
    "~~На основе выявленных данных заемщики категории с низским доходом, в нашем случае \"Е\" имеют более высокий риск просрочки кредитов, но также и высокий процент должников наблюдается в категории с самым высоким доходом (категория \"A\").~~\n",
    "\n",
    "Действительно, после вывода размеров групп, то стало понятно, что **категории \"A\" и \"E\"**, нельзя использовать для надежных выводов, так как малые размеры могут искажать результаты.\n",
    "\n",
    "**Категоря \"В\"** имеет низкий процент должников, **категория \"С\"** более высокий процент должников что говорит о некотором увеличении риска невозврата. Несмотря на более низкий процент должников **категория \"D\"**, размер выборки для этой категории меньше по сравнению с \"B\" и \"C\", это может потребовать дополнительных проверок для надежности данных."
   ]
  },
  {
   "cell_type": "markdown",
   "id": "3ec22390",
   "metadata": {
    "deletable": false,
    "editable": false,
    "id": "99ecbd1f"
   },
   "source": [
    "#### 3.4 Как разные цели кредита влияют на его возврат в срок?"
   ]
  },
  {
   "cell_type": "markdown",
   "id": "21420805",
   "metadata": {
    "deletable": false,
    "id": "2b687290"
   },
   "source": [
    "# Ваш код будет здесь. Вы можете создавать новые ячейки.\n",
    "\n",
    "~~# Сгруппируем данные по цели кредита и возвратом кредита в срок~~\n",
    "\n",
    "\n",
    "~~purpose_category_debt = data.groupby('purpose_category').agg({\n",
    "    'debt': ['mean']\n",
    "})\n",
    "purpose_category_debt~~"
   ]
  },
  {
   "cell_type": "markdown",
   "id": "aa2ebc2c",
   "metadata": {},
   "source": [
    "~~# Переменуем столбец для удобства~~\n",
    "\n",
    "~~purpose_category_debt.columns = ['dept_ratio']~~\n",
    "~~purpose_category_debt~~"
   ]
  },
  {
   "cell_type": "markdown",
   "id": "549b8f37",
   "metadata": {},
   "source": [
    "~~# Умножем на 100, чтобы вычислить процент должников~~\n",
    "\n",
    "~~purpose_category_debt['dept_ratio'] = purpose_category_debt['dept_ratio'] * 100\n",
    "purpose_category_debt~~"
   ]
  },
  {
   "cell_type": "code",
   "execution_count": 40,
   "id": "ad51ed95",
   "metadata": {},
   "outputs": [
    {
     "data": {
      "text/html": [
       "<div>\n",
       "<style scoped>\n",
       "    .dataframe tbody tr th:only-of-type {\n",
       "        vertical-align: middle;\n",
       "    }\n",
       "\n",
       "    .dataframe tbody tr th {\n",
       "        vertical-align: top;\n",
       "    }\n",
       "\n",
       "    .dataframe thead th {\n",
       "        text-align: right;\n",
       "    }\n",
       "</style>\n",
       "<table border=\"1\" class=\"dataframe\">\n",
       "  <thead>\n",
       "    <tr style=\"text-align: right;\">\n",
       "      <th></th>\n",
       "      <th>debt</th>\n",
       "    </tr>\n",
       "    <tr>\n",
       "      <th>purpose_category</th>\n",
       "      <th></th>\n",
       "    </tr>\n",
       "  </thead>\n",
       "  <tbody>\n",
       "    <tr>\n",
       "      <th>операции с автомобилем</th>\n",
       "      <td>9.347978</td>\n",
       "    </tr>\n",
       "    <tr>\n",
       "      <th>операции с недвижимостью</th>\n",
       "      <td>7.255139</td>\n",
       "    </tr>\n",
       "    <tr>\n",
       "      <th>получение образования</th>\n",
       "      <td>9.252758</td>\n",
       "    </tr>\n",
       "    <tr>\n",
       "      <th>проведение свадьбы</th>\n",
       "      <td>7.911803</td>\n",
       "    </tr>\n",
       "  </tbody>\n",
       "</table>\n",
       "</div>"
      ],
      "text/plain": [
       "                              debt\n",
       "purpose_category                  \n",
       "операции с автомобилем    9.347978\n",
       "операции с недвижимостью  7.255139\n",
       "получение образования     9.252758\n",
       "проведение свадьбы        7.911803"
      ]
     },
     "execution_count": 40,
     "metadata": {},
     "output_type": "execute_result"
    }
   ],
   "source": [
    "#Применим метод сводных таблиц, где idex-ом укажем purpose_category_pivot и в values передадим debt\n",
    "\n",
    "purpose_category_pivot = data.pivot_table(index='purpose_category', values='debt')\n",
    "purpose_category_pivot = purpose_category_pivot * 100\n",
    "purpose_category_pivot"
   ]
  },
  {
   "cell_type": "markdown",
   "id": "af7db123",
   "metadata": {
    "deletable": false,
    "id": "b4bb2ce6"
   },
   "source": [
    "**Вывод:** \n",
    "\n",
    "**Цели кредита оказывают влияние на возврат кредита в срок. Кредиты, взятые на операции с *автомобилем и получение образования*, имеют более высокий риск просрочки, чем кредиты, связанные с *недвижимостью и проведением свадьбы*.**"
   ]
  },
  {
   "cell_type": "markdown",
   "id": "5da63784",
   "metadata": {
    "deletable": false,
    "editable": false,
    "id": "09c3ac4c"
   },
   "source": [
    "#### 3.5 Приведите возможные причины появления пропусков в исходных данных."
   ]
  },
  {
   "cell_type": "markdown",
   "id": "4e6ff3eb",
   "metadata": {
    "deletable": false,
    "id": "9da2ceda"
   },
   "source": [
    "*Ответ:* \n",
    "\n",
    "**Ошибки при вводе данных.** \n",
    "*Пропуски могут возникнуть из за ошибок при вводе информации. Например, сотрудники, заносящие данные о заемщиках, могли пропустить некоторые поля либо случайно забыть их заполнить.*\n",
    "\n",
    "**Отказ клиента от предоставления информации.** \n",
    "*Возможно заемщики отказались предоставлять информацию, например, о своем доходе или семейном положении, что могло привести к появлению пропусков в данных.*\n",
    "\n",
    "**Технические сбои при сборе данных.** \n",
    "*Возможны случаи технических сбоев в системе (при выгрузке данных), в результате чего часть данных могла быть утрачена или не записана корректно.*"
   ]
  },
  {
   "cell_type": "markdown",
   "id": "d1b2d5f6",
   "metadata": {
    "deletable": false,
    "editable": false,
    "id": "7b0487d6"
   },
   "source": [
    "#### 3.6 Объясните, почему заполнить пропуски медианным значением — лучшее решение для количественных переменных."
   ]
  },
  {
   "cell_type": "markdown",
   "id": "23d05e7b",
   "metadata": {
    "deletable": false,
    "id": "7ecf2b8e"
   },
   "source": [
    "*Ответ:* **Она более устойчива к выбросам, аномально высоким или низким значениям, чем среднее значение. Это надежный метод, который помогает поддерживать точность данных при обработке количественных переменных.**"
   ]
  },
  {
   "cell_type": "markdown",
   "id": "8e819840",
   "metadata": {
    "deletable": false,
    "editable": false,
    "id": "6db5255a"
   },
   "source": [
    "### Шаг 4: общий вывод."
   ]
  },
  {
   "cell_type": "markdown",
   "id": "750daa97",
   "metadata": {
    "deletable": false,
    "id": "bad65432"
   },
   "source": [
    "Напишите ваш общий вывод. \n",
    "\n",
    "Анализ данных показал, что люди, **не состоящие в браке или в гражданском браке, а также заемщики с низким и высоким доходом**, чаще просрочивают платежи. Кредиты **на автомобили и образование** также связаны с большим риском просрочек. В то же время **количество детей** не оказывает значительного влияния на возврат кредита, хотя **заемщики с 1-2 детьми** имеют несколько более высокий процент задолженности."
   ]
  }
 ],
 "metadata": {
  "ExecuteTimeLog": [
   {
    "duration": 59,
    "start_time": "2024-08-26T06:14:27.968Z"
   },
   {
    "duration": 504,
    "start_time": "2024-08-26T06:14:34.930Z"
   },
   {
    "duration": 21,
    "start_time": "2024-08-26T06:14:35.436Z"
   },
   {
    "duration": 18,
    "start_time": "2024-08-26T06:14:35.459Z"
   },
   {
    "duration": 40,
    "start_time": "2024-08-26T06:14:35.479Z"
   },
   {
    "duration": 64,
    "start_time": "2024-08-26T06:14:35.521Z"
   },
   {
    "duration": 4,
    "start_time": "2024-08-26T06:14:35.586Z"
   },
   {
    "duration": 35,
    "start_time": "2024-08-26T06:14:35.592Z"
   },
   {
    "duration": 31,
    "start_time": "2024-08-26T06:14:35.628Z"
   },
   {
    "duration": 40,
    "start_time": "2024-08-26T06:14:35.661Z"
   },
   {
    "duration": 43,
    "start_time": "2024-08-26T06:14:35.703Z"
   },
   {
    "duration": 67,
    "start_time": "2024-08-26T06:14:35.747Z"
   },
   {
    "duration": 13,
    "start_time": "2024-08-26T06:14:35.816Z"
   },
   {
    "duration": 31,
    "start_time": "2024-08-26T06:14:35.831Z"
   },
   {
    "duration": 52,
    "start_time": "2024-08-26T06:14:35.864Z"
   },
   {
    "duration": 55,
    "start_time": "2024-08-26T06:14:35.918Z"
   },
   {
    "duration": 36,
    "start_time": "2024-08-26T06:14:35.975Z"
   },
   {
    "duration": 97,
    "start_time": "2024-08-26T06:14:36.012Z"
   },
   {
    "duration": 37,
    "start_time": "2024-08-26T06:14:36.111Z"
   },
   {
    "duration": 38,
    "start_time": "2024-08-26T06:14:36.150Z"
   },
   {
    "duration": 29,
    "start_time": "2024-08-26T06:14:36.190Z"
   },
   {
    "duration": 59,
    "start_time": "2024-08-26T06:14:36.221Z"
   },
   {
    "duration": 35,
    "start_time": "2024-08-26T06:14:36.282Z"
   },
   {
    "duration": 15,
    "start_time": "2024-08-26T06:14:36.319Z"
   },
   {
    "duration": 13,
    "start_time": "2024-08-26T06:14:36.336Z"
   },
   {
    "duration": 38,
    "start_time": "2024-08-26T06:14:36.351Z"
   },
   {
    "duration": 3,
    "start_time": "2024-08-26T06:17:24.441Z"
   },
   {
    "duration": 20,
    "start_time": "2024-08-26T06:18:44.989Z"
   },
   {
    "duration": 6,
    "start_time": "2024-08-26T06:26:31.827Z"
   },
   {
    "duration": 10,
    "start_time": "2024-08-26T06:26:42.285Z"
   },
   {
    "duration": 891,
    "start_time": "2024-08-26T06:29:44.021Z"
   },
   {
    "duration": 813,
    "start_time": "2024-08-26T06:29:48.679Z"
   },
   {
    "duration": 3,
    "start_time": "2024-08-26T06:30:41.711Z"
   },
   {
    "duration": 993,
    "start_time": "2024-08-26T06:30:45.867Z"
   },
   {
    "duration": 8,
    "start_time": "2024-08-26T06:30:58.177Z"
   },
   {
    "duration": 491,
    "start_time": "2024-08-26T06:33:05.623Z"
   },
   {
    "duration": 22,
    "start_time": "2024-08-26T06:33:06.116Z"
   },
   {
    "duration": 62,
    "start_time": "2024-08-26T06:33:06.140Z"
   },
   {
    "duration": 26,
    "start_time": "2024-08-26T06:33:06.205Z"
   },
   {
    "duration": 33,
    "start_time": "2024-08-26T06:33:06.233Z"
   },
   {
    "duration": 4,
    "start_time": "2024-08-26T06:33:06.267Z"
   },
   {
    "duration": 24,
    "start_time": "2024-08-26T06:33:06.272Z"
   },
   {
    "duration": 4,
    "start_time": "2024-08-26T06:33:06.297Z"
   },
   {
    "duration": 19,
    "start_time": "2024-08-26T06:33:06.302Z"
   },
   {
    "duration": 9,
    "start_time": "2024-08-26T06:33:06.324Z"
   },
   {
    "duration": 36,
    "start_time": "2024-08-26T06:33:06.335Z"
   },
   {
    "duration": 22,
    "start_time": "2024-08-26T06:33:06.373Z"
   },
   {
    "duration": 19,
    "start_time": "2024-08-26T06:33:06.396Z"
   },
   {
    "duration": 12,
    "start_time": "2024-08-26T06:33:06.416Z"
   },
   {
    "duration": 21,
    "start_time": "2024-08-26T06:33:06.429Z"
   },
   {
    "duration": 15,
    "start_time": "2024-08-26T06:33:06.451Z"
   },
   {
    "duration": 4,
    "start_time": "2024-08-26T06:33:06.468Z"
   },
   {
    "duration": 29,
    "start_time": "2024-08-26T06:33:06.473Z"
   },
   {
    "duration": 29,
    "start_time": "2024-08-26T06:33:06.504Z"
   },
   {
    "duration": 7,
    "start_time": "2024-08-26T06:33:06.534Z"
   },
   {
    "duration": 15,
    "start_time": "2024-08-26T06:33:06.542Z"
   },
   {
    "duration": 34,
    "start_time": "2024-08-26T06:33:06.558Z"
   },
   {
    "duration": 3,
    "start_time": "2024-08-26T06:33:06.594Z"
   },
   {
    "duration": 8,
    "start_time": "2024-08-26T06:33:06.598Z"
   },
   {
    "duration": 16,
    "start_time": "2024-08-26T06:33:06.607Z"
   },
   {
    "duration": 8,
    "start_time": "2024-08-26T06:33:06.625Z"
   },
   {
    "duration": 3,
    "start_time": "2024-08-26T06:33:06.635Z"
   },
   {
    "duration": 11,
    "start_time": "2024-08-26T06:35:05.398Z"
   },
   {
    "duration": 3,
    "start_time": "2024-08-26T06:35:10.866Z"
   },
   {
    "duration": 6,
    "start_time": "2024-08-26T06:35:24.662Z"
   },
   {
    "duration": 20,
    "start_time": "2024-08-26T06:41:58.078Z"
   },
   {
    "duration": 11,
    "start_time": "2024-08-26T06:44:31.361Z"
   },
   {
    "duration": 12,
    "start_time": "2024-08-26T06:45:01.319Z"
   },
   {
    "duration": 12,
    "start_time": "2024-08-26T06:45:22.626Z"
   },
   {
    "duration": 314,
    "start_time": "2024-08-26T06:46:22.441Z"
   },
   {
    "duration": 227,
    "start_time": "2024-08-26T06:47:06.775Z"
   },
   {
    "duration": 494,
    "start_time": "2024-08-26T06:47:47.420Z"
   },
   {
    "duration": 25,
    "start_time": "2024-08-26T06:47:47.916Z"
   },
   {
    "duration": 16,
    "start_time": "2024-08-26T06:47:47.943Z"
   },
   {
    "duration": 25,
    "start_time": "2024-08-26T06:47:47.962Z"
   },
   {
    "duration": 67,
    "start_time": "2024-08-26T06:47:47.989Z"
   },
   {
    "duration": 7,
    "start_time": "2024-08-26T06:47:48.059Z"
   },
   {
    "duration": 23,
    "start_time": "2024-08-26T06:47:48.068Z"
   },
   {
    "duration": 19,
    "start_time": "2024-08-26T06:47:48.093Z"
   },
   {
    "duration": 103,
    "start_time": "2024-08-26T06:47:48.114Z"
   },
   {
    "duration": 15,
    "start_time": "2024-08-26T06:47:48.221Z"
   },
   {
    "duration": 36,
    "start_time": "2024-08-26T06:47:48.238Z"
   },
   {
    "duration": 14,
    "start_time": "2024-08-26T06:47:48.276Z"
   },
   {
    "duration": 7,
    "start_time": "2024-08-26T06:47:48.291Z"
   },
   {
    "duration": 25,
    "start_time": "2024-08-26T06:47:48.300Z"
   },
   {
    "duration": 34,
    "start_time": "2024-08-26T06:47:48.327Z"
   },
   {
    "duration": 16,
    "start_time": "2024-08-26T06:47:48.363Z"
   },
   {
    "duration": 4,
    "start_time": "2024-08-26T06:47:48.380Z"
   },
   {
    "duration": 23,
    "start_time": "2024-08-26T06:47:48.385Z"
   },
   {
    "duration": 11,
    "start_time": "2024-08-26T06:47:48.410Z"
   },
   {
    "duration": 15,
    "start_time": "2024-08-26T06:47:48.423Z"
   },
   {
    "duration": 11,
    "start_time": "2024-08-26T06:47:48.440Z"
   },
   {
    "duration": 14,
    "start_time": "2024-08-26T06:47:48.452Z"
   },
   {
    "duration": 15,
    "start_time": "2024-08-26T06:47:48.467Z"
   },
   {
    "duration": 12,
    "start_time": "2024-08-26T06:47:48.483Z"
   },
   {
    "duration": 17,
    "start_time": "2024-08-26T06:47:48.497Z"
   },
   {
    "duration": 275,
    "start_time": "2024-08-26T06:47:48.515Z"
   },
   {
    "duration": 0,
    "start_time": "2024-08-26T06:47:48.792Z"
   },
   {
    "duration": 0,
    "start_time": "2024-08-26T06:47:48.793Z"
   },
   {
    "duration": 229,
    "start_time": "2024-08-26T06:47:57.162Z"
   },
   {
    "duration": 6,
    "start_time": "2024-08-26T06:48:35.016Z"
   },
   {
    "duration": 1903,
    "start_time": "2024-08-26T06:49:07.030Z"
   },
   {
    "duration": 238,
    "start_time": "2024-08-26T06:50:13.215Z"
   },
   {
    "duration": 924,
    "start_time": "2024-08-26T06:50:47.220Z"
   },
   {
    "duration": 1318,
    "start_time": "2024-08-26T06:56:47.777Z"
   },
   {
    "duration": 4,
    "start_time": "2024-08-26T06:57:53.021Z"
   },
   {
    "duration": 12,
    "start_time": "2024-08-26T06:58:49.399Z"
   },
   {
    "duration": 3,
    "start_time": "2024-08-26T06:59:05.840Z"
   },
   {
    "duration": 7,
    "start_time": "2024-08-26T06:59:13.111Z"
   },
   {
    "duration": 7,
    "start_time": "2024-08-26T07:01:31.968Z"
   },
   {
    "duration": 561,
    "start_time": "2024-08-26T09:53:12.349Z"
   },
   {
    "duration": 24,
    "start_time": "2024-08-26T09:53:12.911Z"
   },
   {
    "duration": 15,
    "start_time": "2024-08-26T09:53:12.936Z"
   },
   {
    "duration": 15,
    "start_time": "2024-08-26T09:53:12.953Z"
   },
   {
    "duration": 55,
    "start_time": "2024-08-26T09:53:12.969Z"
   },
   {
    "duration": 3,
    "start_time": "2024-08-26T09:53:13.025Z"
   },
   {
    "duration": 13,
    "start_time": "2024-08-26T09:53:13.030Z"
   },
   {
    "duration": 12,
    "start_time": "2024-08-26T09:53:13.046Z"
   },
   {
    "duration": 12,
    "start_time": "2024-08-26T09:53:13.061Z"
   },
   {
    "duration": 4,
    "start_time": "2024-08-26T09:53:13.079Z"
   },
   {
    "duration": 92,
    "start_time": "2024-08-26T09:53:13.084Z"
   },
   {
    "duration": 42,
    "start_time": "2024-08-26T09:53:13.178Z"
   },
   {
    "duration": 13,
    "start_time": "2024-08-26T09:53:13.222Z"
   },
   {
    "duration": 16,
    "start_time": "2024-08-26T09:53:13.236Z"
   },
   {
    "duration": 39,
    "start_time": "2024-08-26T09:53:13.254Z"
   },
   {
    "duration": 25,
    "start_time": "2024-08-26T09:53:13.295Z"
   },
   {
    "duration": 5,
    "start_time": "2024-08-26T09:53:13.322Z"
   },
   {
    "duration": 27,
    "start_time": "2024-08-26T09:53:13.329Z"
   },
   {
    "duration": 11,
    "start_time": "2024-08-26T09:53:13.358Z"
   },
   {
    "duration": 5,
    "start_time": "2024-08-26T09:53:13.371Z"
   },
   {
    "duration": 21,
    "start_time": "2024-08-26T09:53:13.378Z"
   },
   {
    "duration": 15,
    "start_time": "2024-08-26T09:53:13.400Z"
   },
   {
    "duration": 3,
    "start_time": "2024-08-26T09:53:13.416Z"
   },
   {
    "duration": 27,
    "start_time": "2024-08-26T09:53:13.420Z"
   },
   {
    "duration": 13,
    "start_time": "2024-08-26T09:53:13.448Z"
   },
   {
    "duration": 21,
    "start_time": "2024-08-26T09:53:13.463Z"
   },
   {
    "duration": 25,
    "start_time": "2024-08-26T09:53:13.486Z"
   },
   {
    "duration": 9,
    "start_time": "2024-08-26T09:53:13.515Z"
   },
   {
    "duration": 20,
    "start_time": "2024-08-26T09:53:13.526Z"
   },
   {
    "duration": 21,
    "start_time": "2024-08-26T09:54:13.584Z"
   },
   {
    "duration": 23,
    "start_time": "2024-08-26T09:57:27.529Z"
   },
   {
    "duration": 10,
    "start_time": "2024-08-26T09:58:27.547Z"
   },
   {
    "duration": 8,
    "start_time": "2024-08-26T09:58:43.084Z"
   },
   {
    "duration": 10,
    "start_time": "2024-08-26T09:59:22.078Z"
   },
   {
    "duration": 11,
    "start_time": "2024-08-26T10:01:00.400Z"
   },
   {
    "duration": 7,
    "start_time": "2024-08-26T10:01:04.621Z"
   },
   {
    "duration": 7,
    "start_time": "2024-08-26T10:01:08.436Z"
   },
   {
    "duration": 21,
    "start_time": "2024-08-26T10:06:27.042Z"
   },
   {
    "duration": 14,
    "start_time": "2024-08-26T10:52:34.931Z"
   },
   {
    "duration": 8,
    "start_time": "2024-08-26T10:53:01.175Z"
   },
   {
    "duration": 7,
    "start_time": "2024-08-26T10:53:11.235Z"
   },
   {
    "duration": 7,
    "start_time": "2024-08-26T10:53:28.423Z"
   },
   {
    "duration": 8,
    "start_time": "2024-08-26T10:53:36.992Z"
   },
   {
    "duration": 771,
    "start_time": "2024-08-26T14:51:20.815Z"
   },
   {
    "duration": 23,
    "start_time": "2024-08-26T14:51:21.588Z"
   },
   {
    "duration": 21,
    "start_time": "2024-08-26T14:51:21.613Z"
   },
   {
    "duration": 16,
    "start_time": "2024-08-26T14:51:21.637Z"
   },
   {
    "duration": 74,
    "start_time": "2024-08-26T14:51:21.655Z"
   },
   {
    "duration": 4,
    "start_time": "2024-08-26T14:51:21.731Z"
   },
   {
    "duration": 12,
    "start_time": "2024-08-26T14:51:21.737Z"
   },
   {
    "duration": 5,
    "start_time": "2024-08-26T14:51:21.750Z"
   },
   {
    "duration": 6,
    "start_time": "2024-08-26T14:51:21.757Z"
   },
   {
    "duration": 4,
    "start_time": "2024-08-26T14:51:21.767Z"
   },
   {
    "duration": 85,
    "start_time": "2024-08-26T14:51:21.773Z"
   },
   {
    "duration": 11,
    "start_time": "2024-08-26T14:51:21.859Z"
   },
   {
    "duration": 4,
    "start_time": "2024-08-26T14:51:21.872Z"
   },
   {
    "duration": 15,
    "start_time": "2024-08-26T14:51:21.877Z"
   },
   {
    "duration": 32,
    "start_time": "2024-08-26T14:51:21.894Z"
   },
   {
    "duration": 25,
    "start_time": "2024-08-26T14:51:21.928Z"
   },
   {
    "duration": 4,
    "start_time": "2024-08-26T14:51:21.954Z"
   },
   {
    "duration": 16,
    "start_time": "2024-08-26T14:51:21.960Z"
   },
   {
    "duration": 7,
    "start_time": "2024-08-26T14:51:21.978Z"
   },
   {
    "duration": 5,
    "start_time": "2024-08-26T14:51:21.986Z"
   },
   {
    "duration": 44,
    "start_time": "2024-08-26T14:51:21.992Z"
   },
   {
    "duration": 21,
    "start_time": "2024-08-26T14:51:22.038Z"
   },
   {
    "duration": 3,
    "start_time": "2024-08-26T14:51:22.061Z"
   },
   {
    "duration": 12,
    "start_time": "2024-08-26T14:51:22.066Z"
   },
   {
    "duration": 13,
    "start_time": "2024-08-26T14:51:22.080Z"
   },
   {
    "duration": 6,
    "start_time": "2024-08-26T14:51:22.095Z"
   },
   {
    "duration": 9,
    "start_time": "2024-08-26T14:51:22.125Z"
   },
   {
    "duration": 17,
    "start_time": "2024-08-26T14:51:22.139Z"
   },
   {
    "duration": 9,
    "start_time": "2024-08-26T14:51:22.158Z"
   },
   {
    "duration": 16,
    "start_time": "2024-08-26T14:51:22.168Z"
   },
   {
    "duration": 48,
    "start_time": "2024-08-26T14:51:22.186Z"
   },
   {
    "duration": 10,
    "start_time": "2024-08-26T14:51:22.236Z"
   },
   {
    "duration": 7,
    "start_time": "2024-08-26T14:51:22.248Z"
   },
   {
    "duration": 52,
    "start_time": "2024-08-27T04:50:01.120Z"
   },
   {
    "duration": 8,
    "start_time": "2024-08-27T04:50:06.693Z"
   },
   {
    "duration": 7,
    "start_time": "2024-08-27T04:50:10.285Z"
   },
   {
    "duration": 16,
    "start_time": "2024-08-27T04:50:14.323Z"
   },
   {
    "duration": 741,
    "start_time": "2024-08-27T04:50:18.842Z"
   },
   {
    "duration": 32,
    "start_time": "2024-08-27T04:50:19.585Z"
   },
   {
    "duration": 33,
    "start_time": "2024-08-27T04:50:19.620Z"
   },
   {
    "duration": 15,
    "start_time": "2024-08-27T04:50:19.655Z"
   },
   {
    "duration": 37,
    "start_time": "2024-08-27T04:50:19.672Z"
   },
   {
    "duration": 16,
    "start_time": "2024-08-27T04:50:19.710Z"
   },
   {
    "duration": 15,
    "start_time": "2024-08-27T04:50:19.732Z"
   },
   {
    "duration": 4,
    "start_time": "2024-08-27T04:50:19.748Z"
   },
   {
    "duration": 7,
    "start_time": "2024-08-27T04:50:19.754Z"
   },
   {
    "duration": 4,
    "start_time": "2024-08-27T04:50:19.763Z"
   },
   {
    "duration": 69,
    "start_time": "2024-08-27T04:50:19.768Z"
   },
   {
    "duration": 10,
    "start_time": "2024-08-27T04:50:19.840Z"
   },
   {
    "duration": 3,
    "start_time": "2024-08-27T04:50:19.852Z"
   },
   {
    "duration": 12,
    "start_time": "2024-08-27T04:50:19.857Z"
   },
   {
    "duration": 19,
    "start_time": "2024-08-27T04:50:19.871Z"
   },
   {
    "duration": 46,
    "start_time": "2024-08-27T04:50:19.891Z"
   },
   {
    "duration": 4,
    "start_time": "2024-08-27T04:50:19.939Z"
   },
   {
    "duration": 12,
    "start_time": "2024-08-27T04:50:19.944Z"
   },
   {
    "duration": 5,
    "start_time": "2024-08-27T04:50:19.958Z"
   },
   {
    "duration": 4,
    "start_time": "2024-08-27T04:50:19.964Z"
   },
   {
    "duration": 9,
    "start_time": "2024-08-27T04:50:19.969Z"
   },
   {
    "duration": 11,
    "start_time": "2024-08-27T04:50:19.980Z"
   },
   {
    "duration": 3,
    "start_time": "2024-08-27T04:50:19.993Z"
   },
   {
    "duration": 16,
    "start_time": "2024-08-27T04:50:20.027Z"
   },
   {
    "duration": 14,
    "start_time": "2024-08-27T04:50:20.044Z"
   },
   {
    "duration": 6,
    "start_time": "2024-08-27T04:50:20.059Z"
   },
   {
    "duration": 9,
    "start_time": "2024-08-27T04:50:20.066Z"
   },
   {
    "duration": 14,
    "start_time": "2024-08-27T04:50:20.077Z"
   },
   {
    "duration": 42,
    "start_time": "2024-08-27T04:50:20.093Z"
   },
   {
    "duration": 11,
    "start_time": "2024-08-27T04:50:20.138Z"
   },
   {
    "duration": 14,
    "start_time": "2024-08-27T04:50:20.150Z"
   },
   {
    "duration": 6,
    "start_time": "2024-08-27T04:50:20.166Z"
   },
   {
    "duration": 8,
    "start_time": "2024-08-27T04:50:20.173Z"
   },
   {
    "duration": 7,
    "start_time": "2024-08-27T04:50:29.266Z"
   },
   {
    "duration": 13,
    "start_time": "2024-08-27T04:50:33.455Z"
   },
   {
    "duration": 9,
    "start_time": "2024-08-27T04:50:51.297Z"
   },
   {
    "duration": 343,
    "start_time": "2024-08-27T04:53:11.237Z"
   },
   {
    "duration": 13,
    "start_time": "2024-08-27T04:53:17.968Z"
   },
   {
    "duration": 7,
    "start_time": "2024-08-27T04:53:25.510Z"
   },
   {
    "duration": 11,
    "start_time": "2024-08-27T04:53:30.931Z"
   },
   {
    "duration": 467,
    "start_time": "2024-08-27T05:38:14.368Z"
   },
   {
    "duration": 22,
    "start_time": "2024-08-27T05:38:14.837Z"
   },
   {
    "duration": 15,
    "start_time": "2024-08-27T05:38:14.860Z"
   },
   {
    "duration": 10,
    "start_time": "2024-08-27T05:38:14.877Z"
   },
   {
    "duration": 60,
    "start_time": "2024-08-27T05:38:14.888Z"
   },
   {
    "duration": 3,
    "start_time": "2024-08-27T05:38:14.950Z"
   },
   {
    "duration": 10,
    "start_time": "2024-08-27T05:38:14.954Z"
   },
   {
    "duration": 4,
    "start_time": "2024-08-27T05:38:14.965Z"
   },
   {
    "duration": 6,
    "start_time": "2024-08-27T05:38:14.971Z"
   },
   {
    "duration": 4,
    "start_time": "2024-08-27T05:38:14.981Z"
   },
   {
    "duration": 71,
    "start_time": "2024-08-27T05:38:14.987Z"
   },
   {
    "duration": 11,
    "start_time": "2024-08-27T05:38:15.059Z"
   },
   {
    "duration": 24,
    "start_time": "2024-08-27T05:38:15.072Z"
   },
   {
    "duration": 24,
    "start_time": "2024-08-27T05:38:15.098Z"
   },
   {
    "duration": 44,
    "start_time": "2024-08-27T05:38:15.123Z"
   },
   {
    "duration": 18,
    "start_time": "2024-08-27T05:38:15.168Z"
   },
   {
    "duration": 4,
    "start_time": "2024-08-27T05:38:15.187Z"
   },
   {
    "duration": 15,
    "start_time": "2024-08-27T05:38:15.192Z"
   },
   {
    "duration": 17,
    "start_time": "2024-08-27T05:38:15.208Z"
   },
   {
    "duration": 12,
    "start_time": "2024-08-27T05:38:15.226Z"
   },
   {
    "duration": 23,
    "start_time": "2024-08-27T05:38:15.240Z"
   },
   {
    "duration": 19,
    "start_time": "2024-08-27T05:38:15.264Z"
   },
   {
    "duration": 6,
    "start_time": "2024-08-27T05:38:15.285Z"
   },
   {
    "duration": 54,
    "start_time": "2024-08-27T05:38:15.293Z"
   },
   {
    "duration": 26,
    "start_time": "2024-08-27T05:38:15.349Z"
   },
   {
    "duration": 7,
    "start_time": "2024-08-27T05:38:15.377Z"
   },
   {
    "duration": 11,
    "start_time": "2024-08-27T05:38:15.386Z"
   },
   {
    "duration": 12,
    "start_time": "2024-08-27T05:38:15.400Z"
   },
   {
    "duration": 7,
    "start_time": "2024-08-27T05:38:15.414Z"
   },
   {
    "duration": 8,
    "start_time": "2024-08-27T05:38:15.426Z"
   },
   {
    "duration": 16,
    "start_time": "2024-08-27T05:38:15.435Z"
   },
   {
    "duration": 75,
    "start_time": "2024-08-27T05:38:15.452Z"
   },
   {
    "duration": 0,
    "start_time": "2024-08-27T05:38:15.529Z"
   },
   {
    "duration": 0,
    "start_time": "2024-08-27T05:38:15.530Z"
   },
   {
    "duration": 10,
    "start_time": "2024-08-27T05:40:26.420Z"
   },
   {
    "duration": 8,
    "start_time": "2024-08-27T05:40:43.804Z"
   },
   {
    "duration": 8,
    "start_time": "2024-08-27T05:40:57.322Z"
   },
   {
    "duration": 21,
    "start_time": "2024-08-27T05:41:04.635Z"
   },
   {
    "duration": 19,
    "start_time": "2024-08-27T05:41:17.794Z"
   },
   {
    "duration": 15,
    "start_time": "2024-08-27T05:43:33.375Z"
   },
   {
    "duration": 22,
    "start_time": "2024-08-27T05:43:54.020Z"
   },
   {
    "duration": 15,
    "start_time": "2024-08-27T05:43:57.979Z"
   }
  ],
  "colab": {
   "name": "dpp_template_part2.ipynb",
   "provenance": []
  },
  "kernelspec": {
   "display_name": "Python 3 (ipykernel)",
   "language": "python",
   "name": "python3"
  },
  "language_info": {
   "codemirror_mode": {
    "name": "ipython",
    "version": 3
   },
   "file_extension": ".py",
   "mimetype": "text/x-python",
   "name": "python",
   "nbconvert_exporter": "python",
   "pygments_lexer": "ipython3",
   "version": "3.9.5"
  },
  "toc": {
   "base_numbering": 1,
   "nav_menu": {},
   "number_sections": true,
   "sideBar": true,
   "skip_h1_title": true,
   "title_cell": "Table of Contents",
   "title_sidebar": "Contents",
   "toc_cell": false,
   "toc_position": {},
   "toc_section_display": true,
   "toc_window_display": false
  }
 },
 "nbformat": 4,
 "nbformat_minor": 5
}
