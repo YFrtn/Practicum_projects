{
 "cells": [
  {
   "cell_type": "markdown",
   "id": "4f11de00",
   "metadata": {
    "deletable": false,
    "editable": false,
    "id": "4f11de00"
   },
   "source": [
    "# Исследование надежности заемщиков"
   ]
  },
  {
   "cell_type": "markdown",
   "id": "f09d6878",
   "metadata": {
    "deletable": false,
    "editable": false,
    "id": "f09d6878"
   },
   "source": [
    "Это первая часть проекта, она будет проверена автоматически. Вторую часть проверит ревьюер. "
   ]
  },
  {
   "cell_type": "markdown",
   "id": "516620ee",
   "metadata": {
    "deletable": false,
    "editable": false,
    "id": "516620ee"
   },
   "source": [
    "## Откройте таблицу и изучите общую информацию о данных"
   ]
  },
  {
   "cell_type": "markdown",
   "id": "76a8a9ce",
   "metadata": {
    "deletable": false,
    "editable": false,
    "id": "76a8a9ce",
    "tags": [
     "start_task"
    ]
   },
   "source": [
    "**Задание 1. Импортируйте библиотеку pandas. Считайте данные из csv-файла в датафрейм и сохраните в переменную `data`. Путь к файлу:**\n",
    "\n",
    "`/datasets/data.csv`"
   ]
  },
  {
   "cell_type": "code",
   "execution_count": 1,
   "id": "fab207d0",
   "metadata": {
    "id": "fab207d0"
   },
   "outputs": [],
   "source": [
    "# импортируйте библиотеку pandas\n",
    "import pandas as pd"
   ]
  },
  {
   "cell_type": "code",
   "execution_count": 2,
   "id": "6c82b607",
   "metadata": {
    "id": "6c82b607"
   },
   "outputs": [],
   "source": [
    "# прочитайте csv-файл\n",
    "data = pd.read_csv('/datasets/data.csv')"
   ]
  },
  {
   "cell_type": "markdown",
   "id": "08bbb5b3",
   "metadata": {
    "deletable": false,
    "editable": false,
    "id": "08bbb5b3",
    "tags": [
     "start_task"
    ]
   },
   "source": [
    "**Задание 2. Выведите первые 20 строчек датафрейма `data` на экран.**"
   ]
  },
  {
   "cell_type": "code",
   "execution_count": 3,
   "id": "4ff33b36",
   "metadata": {
    "id": "4ff33b36"
   },
   "outputs": [
    {
     "data": {
      "text/html": [
       "<div>\n",
       "<style scoped>\n",
       "    .dataframe tbody tr th:only-of-type {\n",
       "        vertical-align: middle;\n",
       "    }\n",
       "\n",
       "    .dataframe tbody tr th {\n",
       "        vertical-align: top;\n",
       "    }\n",
       "\n",
       "    .dataframe thead th {\n",
       "        text-align: right;\n",
       "    }\n",
       "</style>\n",
       "<table border=\"1\" class=\"dataframe\">\n",
       "  <thead>\n",
       "    <tr style=\"text-align: right;\">\n",
       "      <th></th>\n",
       "      <th>children</th>\n",
       "      <th>days_employed</th>\n",
       "      <th>dob_years</th>\n",
       "      <th>education</th>\n",
       "      <th>education_id</th>\n",
       "      <th>family_status</th>\n",
       "      <th>family_status_id</th>\n",
       "      <th>gender</th>\n",
       "      <th>income_type</th>\n",
       "      <th>debt</th>\n",
       "      <th>total_income</th>\n",
       "      <th>purpose</th>\n",
       "    </tr>\n",
       "  </thead>\n",
       "  <tbody>\n",
       "    <tr>\n",
       "      <th>0</th>\n",
       "      <td>1</td>\n",
       "      <td>-8437.673028</td>\n",
       "      <td>42</td>\n",
       "      <td>высшее</td>\n",
       "      <td>0</td>\n",
       "      <td>женат / замужем</td>\n",
       "      <td>0</td>\n",
       "      <td>F</td>\n",
       "      <td>сотрудник</td>\n",
       "      <td>0</td>\n",
       "      <td>253875.639453</td>\n",
       "      <td>покупка жилья</td>\n",
       "    </tr>\n",
       "    <tr>\n",
       "      <th>1</th>\n",
       "      <td>1</td>\n",
       "      <td>-4024.803754</td>\n",
       "      <td>36</td>\n",
       "      <td>среднее</td>\n",
       "      <td>1</td>\n",
       "      <td>женат / замужем</td>\n",
       "      <td>0</td>\n",
       "      <td>F</td>\n",
       "      <td>сотрудник</td>\n",
       "      <td>0</td>\n",
       "      <td>112080.014102</td>\n",
       "      <td>приобретение автомобиля</td>\n",
       "    </tr>\n",
       "    <tr>\n",
       "      <th>2</th>\n",
       "      <td>0</td>\n",
       "      <td>-5623.422610</td>\n",
       "      <td>33</td>\n",
       "      <td>Среднее</td>\n",
       "      <td>1</td>\n",
       "      <td>женат / замужем</td>\n",
       "      <td>0</td>\n",
       "      <td>M</td>\n",
       "      <td>сотрудник</td>\n",
       "      <td>0</td>\n",
       "      <td>145885.952297</td>\n",
       "      <td>покупка жилья</td>\n",
       "    </tr>\n",
       "    <tr>\n",
       "      <th>3</th>\n",
       "      <td>3</td>\n",
       "      <td>-4124.747207</td>\n",
       "      <td>32</td>\n",
       "      <td>среднее</td>\n",
       "      <td>1</td>\n",
       "      <td>женат / замужем</td>\n",
       "      <td>0</td>\n",
       "      <td>M</td>\n",
       "      <td>сотрудник</td>\n",
       "      <td>0</td>\n",
       "      <td>267628.550329</td>\n",
       "      <td>дополнительное образование</td>\n",
       "    </tr>\n",
       "    <tr>\n",
       "      <th>4</th>\n",
       "      <td>0</td>\n",
       "      <td>340266.072047</td>\n",
       "      <td>53</td>\n",
       "      <td>среднее</td>\n",
       "      <td>1</td>\n",
       "      <td>гражданский брак</td>\n",
       "      <td>1</td>\n",
       "      <td>F</td>\n",
       "      <td>пенсионер</td>\n",
       "      <td>0</td>\n",
       "      <td>158616.077870</td>\n",
       "      <td>сыграть свадьбу</td>\n",
       "    </tr>\n",
       "    <tr>\n",
       "      <th>5</th>\n",
       "      <td>0</td>\n",
       "      <td>-926.185831</td>\n",
       "      <td>27</td>\n",
       "      <td>высшее</td>\n",
       "      <td>0</td>\n",
       "      <td>гражданский брак</td>\n",
       "      <td>1</td>\n",
       "      <td>M</td>\n",
       "      <td>компаньон</td>\n",
       "      <td>0</td>\n",
       "      <td>255763.565419</td>\n",
       "      <td>покупка жилья</td>\n",
       "    </tr>\n",
       "    <tr>\n",
       "      <th>6</th>\n",
       "      <td>0</td>\n",
       "      <td>-2879.202052</td>\n",
       "      <td>43</td>\n",
       "      <td>высшее</td>\n",
       "      <td>0</td>\n",
       "      <td>женат / замужем</td>\n",
       "      <td>0</td>\n",
       "      <td>F</td>\n",
       "      <td>компаньон</td>\n",
       "      <td>0</td>\n",
       "      <td>240525.971920</td>\n",
       "      <td>операции с жильем</td>\n",
       "    </tr>\n",
       "    <tr>\n",
       "      <th>7</th>\n",
       "      <td>0</td>\n",
       "      <td>-152.779569</td>\n",
       "      <td>50</td>\n",
       "      <td>СРЕДНЕЕ</td>\n",
       "      <td>1</td>\n",
       "      <td>женат / замужем</td>\n",
       "      <td>0</td>\n",
       "      <td>M</td>\n",
       "      <td>сотрудник</td>\n",
       "      <td>0</td>\n",
       "      <td>135823.934197</td>\n",
       "      <td>образование</td>\n",
       "    </tr>\n",
       "    <tr>\n",
       "      <th>8</th>\n",
       "      <td>2</td>\n",
       "      <td>-6929.865299</td>\n",
       "      <td>35</td>\n",
       "      <td>ВЫСШЕЕ</td>\n",
       "      <td>0</td>\n",
       "      <td>гражданский брак</td>\n",
       "      <td>1</td>\n",
       "      <td>F</td>\n",
       "      <td>сотрудник</td>\n",
       "      <td>0</td>\n",
       "      <td>95856.832424</td>\n",
       "      <td>на проведение свадьбы</td>\n",
       "    </tr>\n",
       "    <tr>\n",
       "      <th>9</th>\n",
       "      <td>0</td>\n",
       "      <td>-2188.756445</td>\n",
       "      <td>41</td>\n",
       "      <td>среднее</td>\n",
       "      <td>1</td>\n",
       "      <td>женат / замужем</td>\n",
       "      <td>0</td>\n",
       "      <td>M</td>\n",
       "      <td>сотрудник</td>\n",
       "      <td>0</td>\n",
       "      <td>144425.938277</td>\n",
       "      <td>покупка жилья для семьи</td>\n",
       "    </tr>\n",
       "    <tr>\n",
       "      <th>10</th>\n",
       "      <td>2</td>\n",
       "      <td>-4171.483647</td>\n",
       "      <td>36</td>\n",
       "      <td>высшее</td>\n",
       "      <td>0</td>\n",
       "      <td>женат / замужем</td>\n",
       "      <td>0</td>\n",
       "      <td>M</td>\n",
       "      <td>компаньон</td>\n",
       "      <td>0</td>\n",
       "      <td>113943.491460</td>\n",
       "      <td>покупка недвижимости</td>\n",
       "    </tr>\n",
       "    <tr>\n",
       "      <th>11</th>\n",
       "      <td>0</td>\n",
       "      <td>-792.701887</td>\n",
       "      <td>40</td>\n",
       "      <td>среднее</td>\n",
       "      <td>1</td>\n",
       "      <td>женат / замужем</td>\n",
       "      <td>0</td>\n",
       "      <td>F</td>\n",
       "      <td>сотрудник</td>\n",
       "      <td>0</td>\n",
       "      <td>77069.234271</td>\n",
       "      <td>покупка коммерческой недвижимости</td>\n",
       "    </tr>\n",
       "    <tr>\n",
       "      <th>12</th>\n",
       "      <td>0</td>\n",
       "      <td>NaN</td>\n",
       "      <td>65</td>\n",
       "      <td>среднее</td>\n",
       "      <td>1</td>\n",
       "      <td>гражданский брак</td>\n",
       "      <td>1</td>\n",
       "      <td>M</td>\n",
       "      <td>пенсионер</td>\n",
       "      <td>0</td>\n",
       "      <td>NaN</td>\n",
       "      <td>сыграть свадьбу</td>\n",
       "    </tr>\n",
       "    <tr>\n",
       "      <th>13</th>\n",
       "      <td>0</td>\n",
       "      <td>-1846.641941</td>\n",
       "      <td>54</td>\n",
       "      <td>неоконченное высшее</td>\n",
       "      <td>2</td>\n",
       "      <td>женат / замужем</td>\n",
       "      <td>0</td>\n",
       "      <td>F</td>\n",
       "      <td>сотрудник</td>\n",
       "      <td>0</td>\n",
       "      <td>130458.228857</td>\n",
       "      <td>приобретение автомобиля</td>\n",
       "    </tr>\n",
       "    <tr>\n",
       "      <th>14</th>\n",
       "      <td>0</td>\n",
       "      <td>-1844.956182</td>\n",
       "      <td>56</td>\n",
       "      <td>высшее</td>\n",
       "      <td>0</td>\n",
       "      <td>гражданский брак</td>\n",
       "      <td>1</td>\n",
       "      <td>F</td>\n",
       "      <td>компаньон</td>\n",
       "      <td>1</td>\n",
       "      <td>165127.911772</td>\n",
       "      <td>покупка жилой недвижимости</td>\n",
       "    </tr>\n",
       "    <tr>\n",
       "      <th>15</th>\n",
       "      <td>1</td>\n",
       "      <td>-972.364419</td>\n",
       "      <td>26</td>\n",
       "      <td>среднее</td>\n",
       "      <td>1</td>\n",
       "      <td>женат / замужем</td>\n",
       "      <td>0</td>\n",
       "      <td>F</td>\n",
       "      <td>сотрудник</td>\n",
       "      <td>0</td>\n",
       "      <td>116820.904450</td>\n",
       "      <td>строительство собственной недвижимости</td>\n",
       "    </tr>\n",
       "    <tr>\n",
       "      <th>16</th>\n",
       "      <td>0</td>\n",
       "      <td>-1719.934226</td>\n",
       "      <td>35</td>\n",
       "      <td>среднее</td>\n",
       "      <td>1</td>\n",
       "      <td>женат / замужем</td>\n",
       "      <td>0</td>\n",
       "      <td>F</td>\n",
       "      <td>сотрудник</td>\n",
       "      <td>0</td>\n",
       "      <td>289202.704229</td>\n",
       "      <td>недвижимость</td>\n",
       "    </tr>\n",
       "    <tr>\n",
       "      <th>17</th>\n",
       "      <td>0</td>\n",
       "      <td>-2369.999720</td>\n",
       "      <td>33</td>\n",
       "      <td>высшее</td>\n",
       "      <td>0</td>\n",
       "      <td>гражданский брак</td>\n",
       "      <td>1</td>\n",
       "      <td>M</td>\n",
       "      <td>сотрудник</td>\n",
       "      <td>0</td>\n",
       "      <td>90410.586745</td>\n",
       "      <td>строительство недвижимости</td>\n",
       "    </tr>\n",
       "    <tr>\n",
       "      <th>18</th>\n",
       "      <td>0</td>\n",
       "      <td>400281.136913</td>\n",
       "      <td>53</td>\n",
       "      <td>среднее</td>\n",
       "      <td>1</td>\n",
       "      <td>вдовец / вдова</td>\n",
       "      <td>2</td>\n",
       "      <td>F</td>\n",
       "      <td>пенсионер</td>\n",
       "      <td>0</td>\n",
       "      <td>56823.777243</td>\n",
       "      <td>на покупку подержанного автомобиля</td>\n",
       "    </tr>\n",
       "    <tr>\n",
       "      <th>19</th>\n",
       "      <td>0</td>\n",
       "      <td>-10038.818549</td>\n",
       "      <td>48</td>\n",
       "      <td>СРЕДНЕЕ</td>\n",
       "      <td>1</td>\n",
       "      <td>в разводе</td>\n",
       "      <td>3</td>\n",
       "      <td>F</td>\n",
       "      <td>сотрудник</td>\n",
       "      <td>0</td>\n",
       "      <td>242831.107982</td>\n",
       "      <td>на покупку своего автомобиля</td>\n",
       "    </tr>\n",
       "  </tbody>\n",
       "</table>\n",
       "</div>"
      ],
      "text/plain": [
       "    children  days_employed  dob_years            education  education_id  \\\n",
       "0          1   -8437.673028         42               высшее             0   \n",
       "1          1   -4024.803754         36              среднее             1   \n",
       "2          0   -5623.422610         33              Среднее             1   \n",
       "3          3   -4124.747207         32              среднее             1   \n",
       "4          0  340266.072047         53              среднее             1   \n",
       "5          0    -926.185831         27               высшее             0   \n",
       "6          0   -2879.202052         43               высшее             0   \n",
       "7          0    -152.779569         50              СРЕДНЕЕ             1   \n",
       "8          2   -6929.865299         35               ВЫСШЕЕ             0   \n",
       "9          0   -2188.756445         41              среднее             1   \n",
       "10         2   -4171.483647         36               высшее             0   \n",
       "11         0    -792.701887         40              среднее             1   \n",
       "12         0            NaN         65              среднее             1   \n",
       "13         0   -1846.641941         54  неоконченное высшее             2   \n",
       "14         0   -1844.956182         56               высшее             0   \n",
       "15         1    -972.364419         26              среднее             1   \n",
       "16         0   -1719.934226         35              среднее             1   \n",
       "17         0   -2369.999720         33               высшее             0   \n",
       "18         0  400281.136913         53              среднее             1   \n",
       "19         0  -10038.818549         48              СРЕДНЕЕ             1   \n",
       "\n",
       "       family_status  family_status_id gender income_type  debt  \\\n",
       "0    женат / замужем                 0      F   сотрудник     0   \n",
       "1    женат / замужем                 0      F   сотрудник     0   \n",
       "2    женат / замужем                 0      M   сотрудник     0   \n",
       "3    женат / замужем                 0      M   сотрудник     0   \n",
       "4   гражданский брак                 1      F   пенсионер     0   \n",
       "5   гражданский брак                 1      M   компаньон     0   \n",
       "6    женат / замужем                 0      F   компаньон     0   \n",
       "7    женат / замужем                 0      M   сотрудник     0   \n",
       "8   гражданский брак                 1      F   сотрудник     0   \n",
       "9    женат / замужем                 0      M   сотрудник     0   \n",
       "10   женат / замужем                 0      M   компаньон     0   \n",
       "11   женат / замужем                 0      F   сотрудник     0   \n",
       "12  гражданский брак                 1      M   пенсионер     0   \n",
       "13   женат / замужем                 0      F   сотрудник     0   \n",
       "14  гражданский брак                 1      F   компаньон     1   \n",
       "15   женат / замужем                 0      F   сотрудник     0   \n",
       "16   женат / замужем                 0      F   сотрудник     0   \n",
       "17  гражданский брак                 1      M   сотрудник     0   \n",
       "18    вдовец / вдова                 2      F   пенсионер     0   \n",
       "19         в разводе                 3      F   сотрудник     0   \n",
       "\n",
       "     total_income                                 purpose  \n",
       "0   253875.639453                           покупка жилья  \n",
       "1   112080.014102                 приобретение автомобиля  \n",
       "2   145885.952297                           покупка жилья  \n",
       "3   267628.550329              дополнительное образование  \n",
       "4   158616.077870                         сыграть свадьбу  \n",
       "5   255763.565419                           покупка жилья  \n",
       "6   240525.971920                       операции с жильем  \n",
       "7   135823.934197                             образование  \n",
       "8    95856.832424                   на проведение свадьбы  \n",
       "9   144425.938277                 покупка жилья для семьи  \n",
       "10  113943.491460                    покупка недвижимости  \n",
       "11   77069.234271       покупка коммерческой недвижимости  \n",
       "12            NaN                         сыграть свадьбу  \n",
       "13  130458.228857                 приобретение автомобиля  \n",
       "14  165127.911772              покупка жилой недвижимости  \n",
       "15  116820.904450  строительство собственной недвижимости  \n",
       "16  289202.704229                            недвижимость  \n",
       "17   90410.586745              строительство недвижимости  \n",
       "18   56823.777243      на покупку подержанного автомобиля  \n",
       "19  242831.107982            на покупку своего автомобиля  "
      ]
     },
     "execution_count": 3,
     "metadata": {},
     "output_type": "execute_result"
    }
   ],
   "source": [
    "# ваш код здесь\n",
    "data.head(20)"
   ]
  },
  {
   "cell_type": "markdown",
   "id": "c8f382ae",
   "metadata": {
    "deletable": false,
    "editable": false,
    "id": "c8f382ae",
    "tags": [
     "start_task"
    ]
   },
   "source": [
    "**Задание 3. Выведите основную информацию о датафрейме с помощью метода `info()`.**"
   ]
  },
  {
   "cell_type": "code",
   "execution_count": 4,
   "id": "e1ed9908",
   "metadata": {
    "id": "e1ed9908"
   },
   "outputs": [
    {
     "name": "stdout",
     "output_type": "stream",
     "text": [
      "<class 'pandas.core.frame.DataFrame'>\n",
      "RangeIndex: 21525 entries, 0 to 21524\n",
      "Data columns (total 12 columns):\n",
      " #   Column            Non-Null Count  Dtype  \n",
      "---  ------            --------------  -----  \n",
      " 0   children          21525 non-null  int64  \n",
      " 1   days_employed     19351 non-null  float64\n",
      " 2   dob_years         21525 non-null  int64  \n",
      " 3   education         21525 non-null  object \n",
      " 4   education_id      21525 non-null  int64  \n",
      " 5   family_status     21525 non-null  object \n",
      " 6   family_status_id  21525 non-null  int64  \n",
      " 7   gender            21525 non-null  object \n",
      " 8   income_type       21525 non-null  object \n",
      " 9   debt              21525 non-null  int64  \n",
      " 10  total_income      19351 non-null  float64\n",
      " 11  purpose           21525 non-null  object \n",
      "dtypes: float64(2), int64(5), object(5)\n",
      "memory usage: 2.0+ MB\n"
     ]
    }
   ],
   "source": [
    "# ваш код здесь\n",
    "data.info()"
   ]
  },
  {
   "cell_type": "markdown",
   "id": "f969a1cd",
   "metadata": {
    "deletable": false,
    "editable": false,
    "id": "f969a1cd"
   },
   "source": [
    "## Предобработка данных"
   ]
  },
  {
   "cell_type": "markdown",
   "id": "7283e864",
   "metadata": {
    "deletable": false,
    "editable": false,
    "id": "7283e864"
   },
   "source": [
    "### Удаление пропусков"
   ]
  },
  {
   "cell_type": "markdown",
   "id": "c9a0745e",
   "metadata": {
    "deletable": false,
    "editable": false,
    "id": "c9a0745e",
    "tags": [
     "start_task"
    ]
   },
   "source": [
    "**Задание 4. Выведите количество пропущенных значений для каждого столбца. Используйте комбинацию двух методов.**"
   ]
  },
  {
   "cell_type": "code",
   "execution_count": 5,
   "id": "b7a096e1",
   "metadata": {
    "id": "b7a096e1"
   },
   "outputs": [
    {
     "data": {
      "text/plain": [
       "children               0\n",
       "days_employed       2174\n",
       "dob_years              0\n",
       "education              0\n",
       "education_id           0\n",
       "family_status          0\n",
       "family_status_id       0\n",
       "gender                 0\n",
       "income_type            0\n",
       "debt                   0\n",
       "total_income        2174\n",
       "purpose                0\n",
       "dtype: int64"
      ]
     },
     "execution_count": 5,
     "metadata": {},
     "output_type": "execute_result"
    }
   ],
   "source": [
    "# ваш код здесь\n",
    "data.isna().sum()"
   ]
  },
  {
   "cell_type": "markdown",
   "id": "c2578616",
   "metadata": {
    "deletable": false,
    "editable": false,
    "id": "c2578616",
    "tags": [
     "start_task"
    ]
   },
   "source": [
    "**Задание 5. В двух столбцах есть пропущенные значения. Один из них — `days_employed`. Пропуски в этом столбце вы обработаете на следующем этапе. Другой столбец с пропущенными значениями — `total_income` — хранит данные о доходах. На сумму дохода сильнее всего влияет тип занятости, поэтому заполнить пропуски в этом столбце нужно медианным значением по каждому типу из столбца `income_type`. Например, у человека с типом занятости `сотрудник` пропуск в столбце `total_income` должен быть заполнен медианным доходом среди всех записей с тем же типом.**"
   ]
  },
  {
   "cell_type": "code",
   "execution_count": 6,
   "id": "e8afc4bc",
   "metadata": {
    "id": "e8afc4bc"
   },
   "outputs": [
    {
     "name": "stdout",
     "output_type": "stream",
     "text": [
      "['сотрудник' 'пенсионер' 'компаньон' 'госслужащий' 'безработный'\n",
      " 'предприниматель' 'студент' 'в декрете']\n",
      "children               0\n",
      "days_employed       2174\n",
      "dob_years              0\n",
      "education              0\n",
      "education_id           0\n",
      "family_status          0\n",
      "family_status_id       0\n",
      "gender                 0\n",
      "income_type            0\n",
      "debt                   0\n",
      "total_income           0\n",
      "purpose                0\n",
      "dtype: int64\n"
     ]
    }
   ],
   "source": [
    "# ваш код здесь\n",
    "\n",
    "unique_income_types = data['income_type'].unique()\n",
    "print(unique_income_types)\n",
    "\n",
    "for income_type in unique_income_types:\n",
    "    medians = data[data['income_type'] == income_type]['total_income'].median()\n",
    "    data.loc[data['income_type'] == income_type, 'total_income'] = data.loc[data['income_type'] == income_type, 'total_income'].fillna(medians)\n",
    "\n",
    "print(data.isna().sum())\n",
    "\n"
   ]
  },
  {
   "cell_type": "markdown",
   "id": "ae986d46",
   "metadata": {
    "deletable": false,
    "editable": false,
    "id": "ae986d46"
   },
   "source": [
    "### Обработка аномальных значений"
   ]
  },
  {
   "cell_type": "markdown",
   "id": "b049cbae",
   "metadata": {
    "deletable": false,
    "editable": false,
    "id": "b049cbae",
    "tags": [
     "start_task"
    ]
   },
   "source": [
    "**Задание 6. В данных могут встречаться артефакты (аномалии) — значения, которые не отражают действительность и появились по какой-то ошибке. Таким артефактом будет отрицательное количество дней трудового стажа в столбце `days_employed`. Для реальных данных это нормально. Обработайте значения в этом столбце: замените все отрицательные значения положительными с помощью метода `abs()`.**"
   ]
  },
  {
   "cell_type": "code",
   "execution_count": 7,
   "id": "187779b0",
   "metadata": {
    "id": "187779b0"
   },
   "outputs": [],
   "source": [
    "# ваш код здесь\n",
    "\n",
    "data['days_employed'] = data['days_employed'].abs()\n"
   ]
  },
  {
   "cell_type": "markdown",
   "id": "a13054c2",
   "metadata": {
    "deletable": false,
    "editable": false,
    "id": "a13054c2",
    "tags": [
     "start_task"
    ]
   },
   "source": [
    "**Задание 7. Для каждого типа занятости выведите медианное значение трудового стажа `days_employed` в днях.**"
   ]
  },
  {
   "cell_type": "code",
   "execution_count": 8,
   "id": "f3f5810c",
   "metadata": {
    "id": "f3f5810c"
   },
   "outputs": [
    {
     "data": {
      "text/plain": [
       "income_type\n",
       "безработный        366413.652744\n",
       "в декрете            3296.759962\n",
       "госслужащий          2689.368353\n",
       "компаньон            1547.382223\n",
       "пенсионер          365213.306266\n",
       "предприниматель       520.848083\n",
       "сотрудник            1574.202821\n",
       "студент               578.751554\n",
       "Name: days_employed, dtype: float64"
      ]
     },
     "execution_count": 8,
     "metadata": {},
     "output_type": "execute_result"
    }
   ],
   "source": [
    "# ваш код здесь\n",
    "\n",
    "data_days_grouped = data.groupby('income_type')['days_employed'].median()\n",
    "data_days_grouped"
   ]
  },
  {
   "cell_type": "markdown",
   "id": "dbc3168c",
   "metadata": {
    "deletable": false,
    "editable": false,
    "id": "dbc3168c"
   },
   "source": [
    "У двух типов (безработные и пенсионеры) получатся аномально большие значения. Исправить такие значения сложно, поэтому оставьте их как есть."
   ]
  },
  {
   "cell_type": "markdown",
   "id": "ff4378c2",
   "metadata": {
    "deletable": false,
    "editable": false,
    "id": "ff4378c2",
    "tags": [
     "start_task"
    ]
   },
   "source": [
    "**Задание 8. Выведите перечень уникальных значений столбца `children`.**"
   ]
  },
  {
   "cell_type": "code",
   "execution_count": 9,
   "id": "9bd0c232",
   "metadata": {
    "id": "9bd0c232"
   },
   "outputs": [
    {
     "data": {
      "text/plain": [
       "array([ 1,  0,  3,  2, -1,  4, 20,  5])"
      ]
     },
     "execution_count": 9,
     "metadata": {},
     "output_type": "execute_result"
    }
   ],
   "source": [
    "# ваш код здесь\n",
    "\n",
    "data['children'].unique()"
   ]
  },
  {
   "cell_type": "markdown",
   "id": "8e911990",
   "metadata": {
    "deletable": false,
    "editable": false,
    "id": "8e911990",
    "tags": [
     "start_task"
    ]
   },
   "source": [
    "**Задание 9. В столбце `children` есть два аномальных значения. Удалите строки, в которых встречаются такие аномальные значения из датафрейма `data`.**"
   ]
  },
  {
   "cell_type": "code",
   "execution_count": 10,
   "id": "6d5ba289",
   "metadata": {
    "id": "6d5ba289"
   },
   "outputs": [],
   "source": [
    "# ваш код здесь\n",
    "anomalous_indices = data[(data['children'] == -1) | (data['children'] == 20)].index\n",
    "data = data.drop(anomalous_indices)\n",
    "\n"
   ]
  },
  {
   "cell_type": "markdown",
   "id": "18d77455",
   "metadata": {
    "deletable": false,
    "editable": false,
    "id": "18d77455",
    "tags": [
     "start_task"
    ]
   },
   "source": [
    "**Задание 10. Ещё раз выведите перечень уникальных значений столбца `children`, чтобы убедиться, что артефакты удалены.**"
   ]
  },
  {
   "cell_type": "code",
   "execution_count": 11,
   "id": "2c5fa92c",
   "metadata": {
    "id": "2c5fa92c"
   },
   "outputs": [
    {
     "data": {
      "text/plain": [
       "array([1, 0, 3, 2, 4, 5])"
      ]
     },
     "execution_count": 11,
     "metadata": {},
     "output_type": "execute_result"
    }
   ],
   "source": [
    "# ваш код здесь\n",
    "data['children'].unique()"
   ]
  },
  {
   "cell_type": "markdown",
   "id": "0ec07dee",
   "metadata": {
    "deletable": false,
    "editable": false,
    "id": "0ec07dee"
   },
   "source": [
    "### Удаление пропусков (продолжение)"
   ]
  },
  {
   "cell_type": "markdown",
   "id": "0fc3ae3f",
   "metadata": {
    "deletable": false,
    "editable": false,
    "id": "0fc3ae3f",
    "tags": [
     "start_task"
    ]
   },
   "source": [
    "**Задание 11. Заполните пропуски в столбце `days_employed` медианными значениями по каждому типу занятости `income_type`.**"
   ]
  },
  {
   "cell_type": "code",
   "execution_count": 12,
   "id": "e2aea7ac",
   "metadata": {
    "id": "e2aea7ac"
   },
   "outputs": [],
   "source": [
    "# ваш код здесь\n",
    "#data['days_employed'].fillna()\n",
    "\n",
    "for income_type in unique_income_types:\n",
    "    medians = data[data['income_type'] == income_type]['days_employed'].median()\n",
    "    data.loc[data['income_type'] == income_type, 'days_employed'] = data.loc[data['income_type'] == income_type, 'days_employed'].fillna(medians)\n",
    "\n",
    "\n",
    "\n"
   ]
  },
  {
   "cell_type": "markdown",
   "id": "97b0b795",
   "metadata": {
    "deletable": false,
    "editable": false,
    "id": "97b0b795",
    "tags": [
     "start_task"
    ]
   },
   "source": [
    "**Задание 12. Убедитесь, что все пропуски заполнены. Проверьте себя и ещё раз выведите количество пропущенных значений для каждого столбца с помощью двух методов.**"
   ]
  },
  {
   "cell_type": "code",
   "execution_count": 13,
   "id": "79632a21",
   "metadata": {
    "id": "79632a21"
   },
   "outputs": [
    {
     "data": {
      "text/plain": [
       "children            0\n",
       "days_employed       0\n",
       "dob_years           0\n",
       "education           0\n",
       "education_id        0\n",
       "family_status       0\n",
       "family_status_id    0\n",
       "gender              0\n",
       "income_type         0\n",
       "debt                0\n",
       "total_income        0\n",
       "purpose             0\n",
       "dtype: int64"
      ]
     },
     "execution_count": 13,
     "metadata": {},
     "output_type": "execute_result"
    }
   ],
   "source": [
    "# ваш код здесь\n",
    "data.isna().sum()"
   ]
  },
  {
   "cell_type": "markdown",
   "id": "bd4aeb20",
   "metadata": {
    "deletable": false,
    "editable": false,
    "id": "bd4aeb20"
   },
   "source": [
    "### Изменение типов данных"
   ]
  },
  {
   "cell_type": "markdown",
   "id": "963bfa58",
   "metadata": {
    "deletable": false,
    "editable": false,
    "id": "963bfa58",
    "tags": [
     "start_task"
    ]
   },
   "source": [
    "**Задание 13. Замените вещественный тип данных в столбце `total_income` на целочисленный с помощью метода `astype()`.**"
   ]
  },
  {
   "cell_type": "code",
   "execution_count": 14,
   "id": "73da6ea0",
   "metadata": {
    "id": "73da6ea0"
   },
   "outputs": [],
   "source": [
    "# ваш код здесь\n",
    "data['total_income'] = data['total_income'].astype('int')"
   ]
  },
  {
   "cell_type": "markdown",
   "id": "d290239e",
   "metadata": {
    "deletable": false,
    "editable": false,
    "id": "d290239e"
   },
   "source": [
    "### Обработка дубликатов"
   ]
  },
  {
   "cell_type": "markdown",
   "id": "1b5844fd",
   "metadata": {
    "deletable": false,
    "editable": false,
    "id": "1b5844fd",
    "tags": [
     "start_task"
    ]
   },
   "source": [
    "**Задание 14. Обработайте неявные дубликаты в столбце `education`. В этом столбце есть одни и те же значения, но записанные по-разному: с использованием заглавных и строчных букв. Приведите их к нижнему регистру.**"
   ]
  },
  {
   "cell_type": "code",
   "execution_count": 15,
   "id": "3f2504b3",
   "metadata": {
    "id": "3f2504b3"
   },
   "outputs": [],
   "source": [
    "# ваш код здесь\n",
    "data['education'] = data['education'].str.lower()"
   ]
  },
  {
   "cell_type": "markdown",
   "id": "4c22acbc",
   "metadata": {
    "deletable": false,
    "editable": false,
    "id": "4c22acbc",
    "tags": [
     "start_task"
    ]
   },
   "source": [
    "**Задание 15. Выведите на экран количество строк-дубликатов в данных. Если такие строки присутствуют, удалите их.**"
   ]
  },
  {
   "cell_type": "code",
   "execution_count": 16,
   "id": "d34a4325",
   "metadata": {
    "id": "d34a4325"
   },
   "outputs": [
    {
     "data": {
      "text/plain": [
       "71"
      ]
     },
     "execution_count": 16,
     "metadata": {},
     "output_type": "execute_result"
    }
   ],
   "source": [
    "# посчитайте дубликаты\n",
    "data.duplicated().sum()\n"
   ]
  },
  {
   "cell_type": "code",
   "execution_count": 17,
   "id": "6e1a6499",
   "metadata": {
    "id": "6e1a6499"
   },
   "outputs": [],
   "source": [
    "# удалите дубликаты\n",
    "data = data.drop_duplicates()"
   ]
  },
  {
   "cell_type": "markdown",
   "id": "e5686ccc",
   "metadata": {
    "deletable": false,
    "editable": false,
    "id": "e5686ccc"
   },
   "source": [
    "### Категоризация данных"
   ]
  },
  {
   "cell_type": "markdown",
   "id": "636e9acd",
   "metadata": {
    "deletable": false,
    "editable": false,
    "id": "636e9acd",
    "tags": [
     "start_task"
    ]
   },
   "source": [
    "**Задание 16. На основании диапазонов, указанных ниже, создайте в датафрейме `data` столбец `total_income_category` с категориями:**\n",
    "\n",
    "- 0–30000 — `'E'`;\n",
    "- 30001–50000 — `'D'`;\n",
    "- 50001–200000 — `'C'`;\n",
    "- 200001–1000000 — `'B'`;\n",
    "- 1000001 и выше — `'A'`.\n",
    "\n",
    "\n",
    "**Например, кредитополучателю с доходом 25000 нужно назначить категорию `'E'`, а клиенту, получающему 235000, — `'B'`. Используйте собственную функцию с именем `categorize_income()` и метод `apply()`.**"
   ]
  },
  {
   "cell_type": "code",
   "execution_count": 18,
   "id": "880a77e5",
   "metadata": {
    "id": "880a77e5"
   },
   "outputs": [],
   "source": [
    "# создайте функцию categorize_income()\n",
    "\n",
    "\n",
    "def categorize_income(total_income): \n",
    "    \n",
    "    \n",
    "    if total_income < 30000:\n",
    "        return 'E'\n",
    "    if total_income < 50000:\n",
    "        return 'D'\n",
    "    if total_income < 200000:\n",
    "        return 'C'\n",
    "    if total_income < 1000000:\n",
    "        return 'B'\n",
    "    \n",
    "    return 'A'\n",
    "    "
   ]
  },
  {
   "cell_type": "code",
   "execution_count": 19,
   "id": "6f25f161",
   "metadata": {
    "id": "6f25f161"
   },
   "outputs": [],
   "source": [
    "# примените функцию методом apply()\n",
    "data['total_income_category'] = data['total_income'].apply(categorize_income)"
   ]
  },
  {
   "cell_type": "markdown",
   "id": "3363b685",
   "metadata": {
    "deletable": false,
    "editable": false,
    "id": "3363b685",
    "tags": [
     "start_task"
    ]
   },
   "source": [
    "**Задание 17. Выведите на экран перечень уникальных целей взятия кредита из столбца `purpose`.**"
   ]
  },
  {
   "cell_type": "code",
   "execution_count": 20,
   "id": "e59f2c15",
   "metadata": {
    "id": "e59f2c15"
   },
   "outputs": [
    {
     "data": {
      "text/plain": [
       "array(['покупка жилья', 'приобретение автомобиля',\n",
       "       'дополнительное образование', 'сыграть свадьбу',\n",
       "       'операции с жильем', 'образование', 'на проведение свадьбы',\n",
       "       'покупка жилья для семьи', 'покупка недвижимости',\n",
       "       'покупка коммерческой недвижимости', 'покупка жилой недвижимости',\n",
       "       'строительство собственной недвижимости', 'недвижимость',\n",
       "       'строительство недвижимости', 'на покупку подержанного автомобиля',\n",
       "       'на покупку своего автомобиля',\n",
       "       'операции с коммерческой недвижимостью',\n",
       "       'строительство жилой недвижимости', 'жилье',\n",
       "       'операции со своей недвижимостью', 'автомобили',\n",
       "       'заняться образованием', 'сделка с подержанным автомобилем',\n",
       "       'получение образования', 'автомобиль', 'свадьба',\n",
       "       'получение дополнительного образования', 'покупка своего жилья',\n",
       "       'операции с недвижимостью', 'получение высшего образования',\n",
       "       'свой автомобиль', 'сделка с автомобилем',\n",
       "       'профильное образование', 'высшее образование',\n",
       "       'покупка жилья для сдачи', 'на покупку автомобиля', 'ремонт жилью',\n",
       "       'заняться высшим образованием'], dtype=object)"
      ]
     },
     "execution_count": 20,
     "metadata": {},
     "output_type": "execute_result"
    }
   ],
   "source": [
    "# ваш код здесь\n",
    "data['purpose'].unique()"
   ]
  },
  {
   "cell_type": "markdown",
   "id": "bb33e847",
   "metadata": {
    "deletable": false,
    "editable": false,
    "id": "bb33e847",
    "tags": [
     "start_task"
    ]
   },
   "source": [
    "**Задание 18. Создайте функцию, которая на основании данных из столбца `purpose` сформирует новый столбец `purpose_category`, в который войдут следующие категории:**\n",
    "\n",
    "- `'операции с автомобилем'`,\n",
    "- `'операции с недвижимостью'`,\n",
    "- `'проведение свадьбы'`,\n",
    "- `'получение образования'`.\n",
    "\n",
    "**Например, если в столбце `purpose` находится подстрока `'на покупку автомобиля'`, то в столбце `purpose_category` должна появиться строка `'операции с автомобилем'`.**\n",
    "\n",
    "**Используйте собственную функцию с именем `categorize_purpose()` и метод `apply()`. Изучите данные в столбце `purpose` и определите, какие подстроки помогут вам правильно определить категорию.**"
   ]
  },
  {
   "cell_type": "code",
   "execution_count": 21,
   "id": "63909b83",
   "metadata": {
    "id": "63909b83"
   },
   "outputs": [],
   "source": [
    "# создайте функцию categorize_purpose()\n",
    "\n",
    "def categorize_purpose(purpose):\n",
    "    if 'автомо' in purpose:\n",
    "        return 'операции с автомобилем'\n",
    "    if 'недви' in purpose or 'жиль' in purpose:\n",
    "        return 'операции с недвижимостью'\n",
    "    if 'свадь' in purpose:\n",
    "        return 'проведение свадьбы'\n",
    "    if 'образов' in purpose:\n",
    "        return 'получение образования'"
   ]
  },
  {
   "cell_type": "code",
   "execution_count": 22,
   "id": "7cb4a81d",
   "metadata": {
    "id": "7cb4a81d"
   },
   "outputs": [],
   "source": [
    "# примените функцию методом apply()\n",
    "data['purpose_category'] = data['purpose'].apply(categorize_purpose)"
   ]
  },
  {
   "cell_type": "code",
   "execution_count": null,
   "id": "e3e54a19",
   "metadata": {},
   "outputs": [],
   "source": []
  }
 ],
 "metadata": {
  "ExecuteTimeLog": [
   {
    "duration": 62,
    "start_time": "2024-08-23T06:58:54.745Z"
   },
   {
    "duration": 7,
    "start_time": "2024-08-23T06:59:01.265Z"
   },
   {
    "duration": 6,
    "start_time": "2024-08-23T07:01:24.396Z"
   },
   {
    "duration": 47,
    "start_time": "2024-08-23T07:01:29.091Z"
   },
   {
    "duration": 0,
    "start_time": "2024-08-23T07:01:29.140Z"
   },
   {
    "duration": 0,
    "start_time": "2024-08-23T07:01:29.142Z"
   },
   {
    "duration": 0,
    "start_time": "2024-08-23T07:01:29.143Z"
   },
   {
    "duration": 0,
    "start_time": "2024-08-23T07:01:29.144Z"
   },
   {
    "duration": 0,
    "start_time": "2024-08-23T07:01:29.146Z"
   },
   {
    "duration": 0,
    "start_time": "2024-08-23T07:01:29.147Z"
   },
   {
    "duration": 0,
    "start_time": "2024-08-23T07:01:29.148Z"
   },
   {
    "duration": 0,
    "start_time": "2024-08-23T07:01:29.149Z"
   },
   {
    "duration": 0,
    "start_time": "2024-08-23T07:01:29.150Z"
   },
   {
    "duration": 0,
    "start_time": "2024-08-23T07:01:29.151Z"
   },
   {
    "duration": 0,
    "start_time": "2024-08-23T07:01:29.152Z"
   },
   {
    "duration": 0,
    "start_time": "2024-08-23T07:01:29.153Z"
   },
   {
    "duration": 0,
    "start_time": "2024-08-23T07:01:29.165Z"
   },
   {
    "duration": 0,
    "start_time": "2024-08-23T07:01:29.166Z"
   },
   {
    "duration": 0,
    "start_time": "2024-08-23T07:01:29.167Z"
   },
   {
    "duration": 0,
    "start_time": "2024-08-23T07:01:29.168Z"
   },
   {
    "duration": 0,
    "start_time": "2024-08-23T07:01:29.169Z"
   },
   {
    "duration": 0,
    "start_time": "2024-08-23T07:01:29.170Z"
   },
   {
    "duration": 3,
    "start_time": "2024-08-23T07:01:29.173Z"
   },
   {
    "duration": 109,
    "start_time": "2024-08-23T07:01:29.178Z"
   },
   {
    "duration": 5,
    "start_time": "2024-08-23T07:01:29.289Z"
   },
   {
    "duration": 393,
    "start_time": "2024-08-23T07:02:08.601Z"
   },
   {
    "duration": 141,
    "start_time": "2024-08-23T07:02:10.561Z"
   },
   {
    "duration": 22,
    "start_time": "2024-08-23T07:02:12.845Z"
   },
   {
    "duration": 16,
    "start_time": "2024-08-23T07:02:44.950Z"
   },
   {
    "duration": 32,
    "start_time": "2024-08-23T07:05:16.387Z"
   },
   {
    "duration": 8,
    "start_time": "2024-08-23T07:05:25.419Z"
   },
   {
    "duration": 23,
    "start_time": "2024-08-23T07:06:27.890Z"
   },
   {
    "duration": 6,
    "start_time": "2024-08-23T07:06:41.931Z"
   },
   {
    "duration": 4,
    "start_time": "2024-08-23T07:06:47.436Z"
   },
   {
    "duration": 6,
    "start_time": "2024-08-23T07:06:56.639Z"
   },
   {
    "duration": 7,
    "start_time": "2024-08-23T07:07:01.365Z"
   },
   {
    "duration": 4,
    "start_time": "2024-08-23T07:07:08.965Z"
   },
   {
    "duration": 12,
    "start_time": "2024-08-23T07:08:12.796Z"
   },
   {
    "duration": 26,
    "start_time": "2024-08-23T07:30:02.626Z"
   },
   {
    "duration": 9,
    "start_time": "2024-08-23T07:34:04.360Z"
   },
   {
    "duration": 374,
    "start_time": "2024-08-23T10:15:18.805Z"
   },
   {
    "duration": 157,
    "start_time": "2024-08-23T10:15:19.181Z"
   },
   {
    "duration": 23,
    "start_time": "2024-08-23T10:15:19.339Z"
   },
   {
    "duration": 19,
    "start_time": "2024-08-23T10:15:19.364Z"
   },
   {
    "duration": 10,
    "start_time": "2024-08-23T10:15:19.384Z"
   },
   {
    "duration": 6,
    "start_time": "2024-08-23T10:15:19.396Z"
   },
   {
    "duration": 6,
    "start_time": "2024-08-23T10:15:19.404Z"
   },
   {
    "duration": 20,
    "start_time": "2024-08-23T10:15:19.411Z"
   },
   {
    "duration": 22,
    "start_time": "2024-08-23T10:15:19.432Z"
   },
   {
    "duration": 2,
    "start_time": "2024-08-23T10:15:19.456Z"
   },
   {
    "duration": 18,
    "start_time": "2024-08-23T10:15:19.459Z"
   },
   {
    "duration": 6,
    "start_time": "2024-08-23T10:15:19.479Z"
   },
   {
    "duration": 4,
    "start_time": "2024-08-23T10:15:19.486Z"
   },
   {
    "duration": 4,
    "start_time": "2024-08-23T10:15:19.491Z"
   },
   {
    "duration": 3,
    "start_time": "2024-08-23T10:15:19.496Z"
   },
   {
    "duration": 4,
    "start_time": "2024-08-23T10:15:19.500Z"
   },
   {
    "duration": 15,
    "start_time": "2024-08-23T10:15:19.505Z"
   },
   {
    "duration": 14,
    "start_time": "2024-08-23T10:15:19.522Z"
   },
   {
    "duration": 22,
    "start_time": "2024-08-23T10:15:19.538Z"
   },
   {
    "duration": 3,
    "start_time": "2024-08-23T10:15:19.562Z"
   },
   {
    "duration": 19,
    "start_time": "2024-08-23T10:15:19.566Z"
   },
   {
    "duration": 21,
    "start_time": "2024-08-23T10:15:19.586Z"
   },
   {
    "duration": 8,
    "start_time": "2024-08-23T10:18:26.779Z"
   },
   {
    "duration": 24,
    "start_time": "2024-08-23T10:18:32.532Z"
   },
   {
    "duration": 21,
    "start_time": "2024-08-23T10:18:59.603Z"
   },
   {
    "duration": 8,
    "start_time": "2024-08-23T10:20:06.775Z"
   },
   {
    "duration": 63,
    "start_time": "2024-08-23T10:20:54.626Z"
   },
   {
    "duration": 13,
    "start_time": "2024-08-23T10:21:00.887Z"
   },
   {
    "duration": 14,
    "start_time": "2024-08-23T10:21:08.152Z"
   },
   {
    "duration": 20,
    "start_time": "2024-08-23T10:22:22.074Z"
   },
   {
    "duration": 15,
    "start_time": "2024-08-23T10:22:33.724Z"
   },
   {
    "duration": 17,
    "start_time": "2024-08-23T10:24:55.955Z"
   },
   {
    "duration": 24,
    "start_time": "2024-08-23T10:25:28.598Z"
   },
   {
    "duration": 18,
    "start_time": "2024-08-23T10:25:53.012Z"
   },
   {
    "duration": 25,
    "start_time": "2024-08-23T10:26:59.067Z"
   },
   {
    "duration": 19,
    "start_time": "2024-08-23T10:27:22.288Z"
   },
   {
    "duration": 21,
    "start_time": "2024-08-23T10:28:38.514Z"
   },
   {
    "duration": 29,
    "start_time": "2024-08-23T10:35:16.842Z"
   },
   {
    "duration": 26,
    "start_time": "2024-08-23T10:36:14.537Z"
   },
   {
    "duration": 39,
    "start_time": "2024-08-23T10:36:54.723Z"
   },
   {
    "duration": 33,
    "start_time": "2024-08-23T10:37:53.087Z"
   },
   {
    "duration": 28,
    "start_time": "2024-08-23T10:39:18.621Z"
   },
   {
    "duration": 29,
    "start_time": "2024-08-23T10:39:35.784Z"
   },
   {
    "duration": 32,
    "start_time": "2024-08-23T10:40:09.891Z"
   },
   {
    "duration": 28,
    "start_time": "2024-08-23T10:42:56.029Z"
   },
   {
    "duration": 25,
    "start_time": "2024-08-23T10:43:55.119Z"
   },
   {
    "duration": 25,
    "start_time": "2024-08-23T10:44:18.418Z"
   },
   {
    "duration": 13,
    "start_time": "2024-08-23T10:44:24.073Z"
   },
   {
    "duration": 10,
    "start_time": "2024-08-23T10:44:45.601Z"
   },
   {
    "duration": 10,
    "start_time": "2024-08-23T10:44:49.567Z"
   },
   {
    "duration": 407,
    "start_time": "2024-08-23T10:44:55.158Z"
   },
   {
    "duration": 77,
    "start_time": "2024-08-23T10:44:55.567Z"
   },
   {
    "duration": 22,
    "start_time": "2024-08-23T10:44:55.646Z"
   },
   {
    "duration": 16,
    "start_time": "2024-08-23T10:44:55.671Z"
   },
   {
    "duration": 11,
    "start_time": "2024-08-23T10:44:55.688Z"
   },
   {
    "duration": 41,
    "start_time": "2024-08-23T10:44:55.701Z"
   },
   {
    "duration": 11,
    "start_time": "2024-08-23T10:44:55.744Z"
   },
   {
    "duration": 7,
    "start_time": "2024-08-23T10:44:55.756Z"
   },
   {
    "duration": 12,
    "start_time": "2024-08-23T10:44:55.764Z"
   },
   {
    "duration": 3,
    "start_time": "2024-08-23T10:44:55.779Z"
   },
   {
    "duration": 4,
    "start_time": "2024-08-23T10:44:55.783Z"
   },
   {
    "duration": 19,
    "start_time": "2024-08-23T10:44:55.788Z"
   },
   {
    "duration": 10,
    "start_time": "2024-08-23T10:44:55.809Z"
   },
   {
    "duration": 21,
    "start_time": "2024-08-23T10:44:55.821Z"
   },
   {
    "duration": 3,
    "start_time": "2024-08-23T10:44:55.844Z"
   },
   {
    "duration": 6,
    "start_time": "2024-08-23T10:44:55.849Z"
   },
   {
    "duration": 8,
    "start_time": "2024-08-23T10:44:55.856Z"
   },
   {
    "duration": 14,
    "start_time": "2024-08-23T10:44:55.866Z"
   },
   {
    "duration": 5,
    "start_time": "2024-08-23T10:44:55.882Z"
   },
   {
    "duration": 7,
    "start_time": "2024-08-23T10:44:55.889Z"
   },
   {
    "duration": 11,
    "start_time": "2024-08-23T10:44:55.897Z"
   },
   {
    "duration": 18,
    "start_time": "2024-08-23T10:44:55.909Z"
   },
   {
    "duration": 26,
    "start_time": "2024-08-23T10:45:01.090Z"
   },
   {
    "duration": 25,
    "start_time": "2024-08-23T10:45:10.642Z"
   },
   {
    "duration": 67,
    "start_time": "2024-08-23T10:45:39.475Z"
   },
   {
    "duration": 10,
    "start_time": "2024-08-23T10:45:51.705Z"
   },
   {
    "duration": 11,
    "start_time": "2024-08-23T10:45:54.510Z"
   },
   {
    "duration": 60,
    "start_time": "2024-08-23T10:45:57.661Z"
   },
   {
    "duration": 11,
    "start_time": "2024-08-23T10:46:00.895Z"
   },
   {
    "duration": 12,
    "start_time": "2024-08-23T10:46:07.108Z"
   },
   {
    "duration": 11,
    "start_time": "2024-08-23T10:46:20.670Z"
   },
   {
    "duration": 12,
    "start_time": "2024-08-23T10:46:56.909Z"
   },
   {
    "duration": 11,
    "start_time": "2024-08-23T10:47:05.785Z"
   },
   {
    "duration": 12,
    "start_time": "2024-08-23T10:47:10.342Z"
   },
   {
    "duration": 416,
    "start_time": "2024-08-23T10:47:15.964Z"
   },
   {
    "duration": 78,
    "start_time": "2024-08-23T10:47:16.382Z"
   },
   {
    "duration": 21,
    "start_time": "2024-08-23T10:47:16.462Z"
   },
   {
    "duration": 19,
    "start_time": "2024-08-23T10:47:16.486Z"
   },
   {
    "duration": 9,
    "start_time": "2024-08-23T10:47:16.507Z"
   },
   {
    "duration": 29,
    "start_time": "2024-08-23T10:47:16.518Z"
   },
   {
    "duration": 17,
    "start_time": "2024-08-23T10:47:16.548Z"
   },
   {
    "duration": 11,
    "start_time": "2024-08-23T10:47:16.567Z"
   },
   {
    "duration": 17,
    "start_time": "2024-08-23T10:47:16.580Z"
   },
   {
    "duration": 7,
    "start_time": "2024-08-23T10:47:16.599Z"
   },
   {
    "duration": 5,
    "start_time": "2024-08-23T10:47:16.607Z"
   },
   {
    "duration": 4,
    "start_time": "2024-08-23T10:47:16.613Z"
   },
   {
    "duration": 4,
    "start_time": "2024-08-23T10:47:16.618Z"
   },
   {
    "duration": 7,
    "start_time": "2024-08-23T10:47:16.624Z"
   },
   {
    "duration": 12,
    "start_time": "2024-08-23T10:47:16.632Z"
   },
   {
    "duration": 10,
    "start_time": "2024-08-23T10:47:16.646Z"
   },
   {
    "duration": 5,
    "start_time": "2024-08-23T10:47:16.658Z"
   },
   {
    "duration": 16,
    "start_time": "2024-08-23T10:47:16.664Z"
   },
   {
    "duration": 7,
    "start_time": "2024-08-23T10:47:16.681Z"
   },
   {
    "duration": 11,
    "start_time": "2024-08-23T10:47:16.690Z"
   },
   {
    "duration": 10,
    "start_time": "2024-08-23T10:47:16.703Z"
   },
   {
    "duration": 5,
    "start_time": "2024-08-23T10:47:16.715Z"
   },
   {
    "duration": 21,
    "start_time": "2024-08-23T10:47:22.447Z"
   },
   {
    "duration": 23,
    "start_time": "2024-08-23T10:48:15.593Z"
   },
   {
    "duration": 21,
    "start_time": "2024-08-23T10:48:19.915Z"
   },
   {
    "duration": 23,
    "start_time": "2024-08-23T10:48:33.588Z"
   },
   {
    "duration": 23,
    "start_time": "2024-08-23T10:48:36.487Z"
   },
   {
    "duration": 23,
    "start_time": "2024-08-23T10:48:43.380Z"
   },
   {
    "duration": 31,
    "start_time": "2024-08-23T10:48:55.154Z"
   },
   {
    "duration": 32,
    "start_time": "2024-08-23T10:49:32.240Z"
   },
   {
    "duration": 26,
    "start_time": "2024-08-23T10:49:54.653Z"
   },
   {
    "duration": 16,
    "start_time": "2024-08-23T10:50:15.593Z"
   },
   {
    "duration": 17,
    "start_time": "2024-08-23T10:50:23.939Z"
   },
   {
    "duration": 16,
    "start_time": "2024-08-23T10:50:40.086Z"
   },
   {
    "duration": 363,
    "start_time": "2024-08-23T10:50:43.716Z"
   },
   {
    "duration": 78,
    "start_time": "2024-08-23T10:50:44.081Z"
   },
   {
    "duration": 22,
    "start_time": "2024-08-23T10:50:44.160Z"
   },
   {
    "duration": 15,
    "start_time": "2024-08-23T10:50:44.184Z"
   },
   {
    "duration": 10,
    "start_time": "2024-08-23T10:50:44.201Z"
   },
   {
    "duration": 62,
    "start_time": "2024-08-23T10:50:44.212Z"
   },
   {
    "duration": 3,
    "start_time": "2024-08-23T10:50:44.275Z"
   },
   {
    "duration": 6,
    "start_time": "2024-08-23T10:50:44.279Z"
   },
   {
    "duration": 3,
    "start_time": "2024-08-23T10:50:44.287Z"
   },
   {
    "duration": 3,
    "start_time": "2024-08-23T10:50:44.293Z"
   },
   {
    "duration": 3,
    "start_time": "2024-08-23T10:50:44.298Z"
   },
   {
    "duration": 3,
    "start_time": "2024-08-23T10:50:44.303Z"
   },
   {
    "duration": 17,
    "start_time": "2024-08-23T10:50:44.308Z"
   },
   {
    "duration": 17,
    "start_time": "2024-08-23T10:50:44.326Z"
   },
   {
    "duration": 17,
    "start_time": "2024-08-23T10:50:44.344Z"
   },
   {
    "duration": 7,
    "start_time": "2024-08-23T10:50:44.363Z"
   },
   {
    "duration": 4,
    "start_time": "2024-08-23T10:50:44.371Z"
   },
   {
    "duration": 3,
    "start_time": "2024-08-23T10:50:44.377Z"
   },
   {
    "duration": 4,
    "start_time": "2024-08-23T10:50:44.382Z"
   },
   {
    "duration": 4,
    "start_time": "2024-08-23T10:50:44.387Z"
   },
   {
    "duration": 9,
    "start_time": "2024-08-23T10:50:44.392Z"
   },
   {
    "duration": 13,
    "start_time": "2024-08-23T10:50:44.402Z"
   },
   {
    "duration": 3,
    "start_time": "2024-08-23T10:50:48.323Z"
   },
   {
    "duration": 27,
    "start_time": "2024-08-23T10:55:38.655Z"
   },
   {
    "duration": 16,
    "start_time": "2024-08-23T10:55:48.932Z"
   },
   {
    "duration": 15,
    "start_time": "2024-08-23T10:56:04.585Z"
   },
   {
    "duration": 413,
    "start_time": "2024-08-23T10:56:12.569Z"
   },
   {
    "duration": 80,
    "start_time": "2024-08-23T10:56:12.984Z"
   },
   {
    "duration": 22,
    "start_time": "2024-08-23T10:56:13.065Z"
   },
   {
    "duration": 28,
    "start_time": "2024-08-23T10:56:13.088Z"
   },
   {
    "duration": 32,
    "start_time": "2024-08-23T10:56:13.119Z"
   },
   {
    "duration": 35,
    "start_time": "2024-08-23T10:56:13.153Z"
   },
   {
    "duration": 8,
    "start_time": "2024-08-23T10:56:13.190Z"
   },
   {
    "duration": 18,
    "start_time": "2024-08-23T10:56:13.199Z"
   },
   {
    "duration": 21,
    "start_time": "2024-08-23T10:56:13.219Z"
   },
   {
    "duration": 14,
    "start_time": "2024-08-23T10:56:13.242Z"
   },
   {
    "duration": 19,
    "start_time": "2024-08-23T10:56:13.258Z"
   },
   {
    "duration": 16,
    "start_time": "2024-08-23T10:56:13.278Z"
   },
   {
    "duration": 24,
    "start_time": "2024-08-23T10:56:13.295Z"
   },
   {
    "duration": 18,
    "start_time": "2024-08-23T10:56:13.322Z"
   },
   {
    "duration": 20,
    "start_time": "2024-08-23T10:56:13.341Z"
   },
   {
    "duration": 31,
    "start_time": "2024-08-23T10:56:13.363Z"
   },
   {
    "duration": 18,
    "start_time": "2024-08-23T10:56:13.396Z"
   },
   {
    "duration": 32,
    "start_time": "2024-08-23T10:56:13.415Z"
   },
   {
    "duration": 18,
    "start_time": "2024-08-23T10:56:13.449Z"
   },
   {
    "duration": 20,
    "start_time": "2024-08-23T10:56:13.468Z"
   },
   {
    "duration": 21,
    "start_time": "2024-08-23T10:56:13.489Z"
   },
   {
    "duration": 21,
    "start_time": "2024-08-23T10:56:13.511Z"
   },
   {
    "duration": 31,
    "start_time": "2024-08-23T10:56:16.841Z"
   },
   {
    "duration": 29,
    "start_time": "2024-08-23T10:57:58.822Z"
   },
   {
    "duration": 24,
    "start_time": "2024-08-23T10:58:04.279Z"
   },
   {
    "duration": 1072,
    "start_time": "2024-08-23T10:58:37.722Z"
   },
   {
    "duration": 414,
    "start_time": "2024-08-23T11:02:56.183Z"
   },
   {
    "duration": 80,
    "start_time": "2024-08-23T11:02:56.599Z"
   },
   {
    "duration": 23,
    "start_time": "2024-08-23T11:02:56.680Z"
   },
   {
    "duration": 15,
    "start_time": "2024-08-23T11:02:56.705Z"
   },
   {
    "duration": 9,
    "start_time": "2024-08-23T11:02:56.722Z"
   },
   {
    "duration": 44,
    "start_time": "2024-08-23T11:02:56.733Z"
   },
   {
    "duration": 3,
    "start_time": "2024-08-23T11:02:56.778Z"
   },
   {
    "duration": 4,
    "start_time": "2024-08-23T11:02:56.782Z"
   },
   {
    "duration": 6,
    "start_time": "2024-08-23T11:02:56.787Z"
   },
   {
    "duration": 5,
    "start_time": "2024-08-23T11:02:56.796Z"
   },
   {
    "duration": 13,
    "start_time": "2024-08-23T11:02:56.802Z"
   },
   {
    "duration": 14,
    "start_time": "2024-08-23T11:02:56.816Z"
   },
   {
    "duration": 3,
    "start_time": "2024-08-23T11:02:56.832Z"
   },
   {
    "duration": 5,
    "start_time": "2024-08-23T11:02:56.836Z"
   },
   {
    "duration": 3,
    "start_time": "2024-08-23T11:02:56.842Z"
   },
   {
    "duration": 4,
    "start_time": "2024-08-23T11:02:56.847Z"
   },
   {
    "duration": 2,
    "start_time": "2024-08-23T11:02:56.861Z"
   },
   {
    "duration": 11,
    "start_time": "2024-08-23T11:02:56.864Z"
   },
   {
    "duration": 3,
    "start_time": "2024-08-23T11:02:56.876Z"
   },
   {
    "duration": 3,
    "start_time": "2024-08-23T11:02:56.881Z"
   },
   {
    "duration": 5,
    "start_time": "2024-08-23T11:02:56.885Z"
   },
   {
    "duration": 5,
    "start_time": "2024-08-23T11:02:56.891Z"
   },
   {
    "duration": 6,
    "start_time": "2024-08-23T11:17:35.048Z"
   },
   {
    "duration": 55,
    "start_time": "2024-08-23T11:26:40.535Z"
   },
   {
    "duration": 64,
    "start_time": "2024-08-23T11:27:02.617Z"
   },
   {
    "duration": 123,
    "start_time": "2024-08-23T11:27:24.851Z"
   },
   {
    "duration": 62,
    "start_time": "2024-08-23T11:27:35.934Z"
   },
   {
    "duration": 58,
    "start_time": "2024-08-23T11:29:02.172Z"
   },
   {
    "duration": 55,
    "start_time": "2024-08-23T11:29:35.381Z"
   },
   {
    "duration": 69,
    "start_time": "2024-08-23T11:29:50.380Z"
   },
   {
    "duration": 61,
    "start_time": "2024-08-23T11:30:06.381Z"
   },
   {
    "duration": 59,
    "start_time": "2024-08-23T11:30:12.554Z"
   },
   {
    "duration": 61,
    "start_time": "2024-08-23T11:32:04.247Z"
   },
   {
    "duration": 63,
    "start_time": "2024-08-23T11:32:08.458Z"
   },
   {
    "duration": 20,
    "start_time": "2024-08-23T11:33:19.604Z"
   },
   {
    "duration": 67,
    "start_time": "2024-08-23T11:33:27.981Z"
   },
   {
    "duration": 60,
    "start_time": "2024-08-23T11:33:31.269Z"
   },
   {
    "duration": 94,
    "start_time": "2024-08-23T11:33:39.249Z"
   },
   {
    "duration": 62,
    "start_time": "2024-08-23T11:33:43.887Z"
   },
   {
    "duration": 63,
    "start_time": "2024-08-23T11:33:47.962Z"
   },
   {
    "duration": 59,
    "start_time": "2024-08-23T11:33:58.535Z"
   },
   {
    "duration": 56,
    "start_time": "2024-08-23T11:34:07.502Z"
   },
   {
    "duration": 64,
    "start_time": "2024-08-23T11:34:42.525Z"
   },
   {
    "duration": 83,
    "start_time": "2024-08-23T11:34:49.597Z"
   },
   {
    "duration": 59,
    "start_time": "2024-08-23T11:35:10.247Z"
   },
   {
    "duration": 22,
    "start_time": "2024-08-23T11:54:14.618Z"
   },
   {
    "duration": 4,
    "start_time": "2024-08-23T11:54:29.392Z"
   },
   {
    "duration": 5,
    "start_time": "2024-08-23T12:16:55.844Z"
   },
   {
    "duration": 7,
    "start_time": "2024-08-23T12:17:13.781Z"
   },
   {
    "duration": 61,
    "start_time": "2024-08-23T12:18:03.808Z"
   },
   {
    "duration": 55,
    "start_time": "2024-08-23T12:18:11.615Z"
   },
   {
    "duration": 52,
    "start_time": "2024-08-23T12:18:15.038Z"
   },
   {
    "duration": 3,
    "start_time": "2024-08-23T12:20:29.108Z"
   },
   {
    "duration": 6,
    "start_time": "2024-08-23T12:20:36.260Z"
   },
   {
    "duration": 12,
    "start_time": "2024-08-23T12:20:45.378Z"
   },
   {
    "duration": 8,
    "start_time": "2024-08-23T12:21:46.849Z"
   },
   {
    "duration": 5,
    "start_time": "2024-08-23T12:25:47.596Z"
   },
   {
    "duration": 22,
    "start_time": "2024-08-23T12:31:46.472Z"
   },
   {
    "duration": 441,
    "start_time": "2024-08-25T11:31:06.937Z"
   },
   {
    "duration": 155,
    "start_time": "2024-08-25T11:31:07.380Z"
   },
   {
    "duration": 23,
    "start_time": "2024-08-25T11:31:07.537Z"
   },
   {
    "duration": 23,
    "start_time": "2024-08-25T11:31:07.562Z"
   },
   {
    "duration": 28,
    "start_time": "2024-08-25T11:31:07.587Z"
   },
   {
    "duration": 91,
    "start_time": "2024-08-25T11:31:07.617Z"
   },
   {
    "duration": 3,
    "start_time": "2024-08-25T11:31:07.710Z"
   },
   {
    "duration": 27,
    "start_time": "2024-08-25T11:31:07.715Z"
   },
   {
    "duration": 23,
    "start_time": "2024-08-25T11:31:07.744Z"
   },
   {
    "duration": 11,
    "start_time": "2024-08-25T11:31:07.768Z"
   },
   {
    "duration": 31,
    "start_time": "2024-08-25T11:31:07.780Z"
   },
   {
    "duration": 29,
    "start_time": "2024-08-25T11:31:07.812Z"
   },
   {
    "duration": 23,
    "start_time": "2024-08-25T11:31:07.842Z"
   },
   {
    "duration": 28,
    "start_time": "2024-08-25T11:31:07.867Z"
   },
   {
    "duration": 31,
    "start_time": "2024-08-25T11:31:07.897Z"
   },
   {
    "duration": 37,
    "start_time": "2024-08-25T11:31:07.930Z"
   },
   {
    "duration": 39,
    "start_time": "2024-08-25T11:31:07.969Z"
   },
   {
    "duration": 22,
    "start_time": "2024-08-25T11:31:08.009Z"
   },
   {
    "duration": 42,
    "start_time": "2024-08-25T11:31:08.032Z"
   },
   {
    "duration": 22,
    "start_time": "2024-08-25T11:31:08.076Z"
   },
   {
    "duration": 16,
    "start_time": "2024-08-25T11:31:08.100Z"
   },
   {
    "duration": 21,
    "start_time": "2024-08-25T11:31:08.118Z"
   },
   {
    "duration": 6,
    "start_time": "2024-08-25T11:36:20.492Z"
   },
   {
    "duration": 9,
    "start_time": "2024-08-25T11:39:46.300Z"
   },
   {
    "duration": 9,
    "start_time": "2024-08-25T11:40:12.796Z"
   },
   {
    "duration": 75,
    "start_time": "2024-08-25T11:40:39.967Z"
   },
   {
    "duration": 12,
    "start_time": "2024-08-25T11:44:15.043Z"
   },
   {
    "duration": 6,
    "start_time": "2024-08-25T11:45:06.197Z"
   },
   {
    "duration": 4,
    "start_time": "2024-08-25T11:45:14.729Z"
   },
   {
    "duration": 2,
    "start_time": "2024-08-25T11:45:39.595Z"
   },
   {
    "duration": 7,
    "start_time": "2024-08-25T11:45:47.939Z"
   },
   {
    "duration": 5,
    "start_time": "2024-08-25T11:46:05.548Z"
   },
   {
    "duration": 5,
    "start_time": "2024-08-25T11:46:09.612Z"
   },
   {
    "duration": 6,
    "start_time": "2024-08-25T11:46:19.655Z"
   },
   {
    "duration": 6,
    "start_time": "2024-08-25T11:46:27.140Z"
   },
   {
    "duration": 3,
    "start_time": "2024-08-25T11:47:00.879Z"
   },
   {
    "duration": 58,
    "start_time": "2024-08-25T11:48:47.684Z"
   },
   {
    "duration": 66,
    "start_time": "2024-08-25T11:49:44.985Z"
   },
   {
    "duration": 52,
    "start_time": "2024-08-25T11:50:19.476Z"
   },
   {
    "duration": 10,
    "start_time": "2024-08-25T11:52:53.527Z"
   },
   {
    "duration": 6,
    "start_time": "2024-08-25T11:53:31.345Z"
   },
   {
    "duration": 4,
    "start_time": "2024-08-25T12:05:05.851Z"
   },
   {
    "duration": 433,
    "start_time": "2024-08-25T12:07:06.328Z"
   },
   {
    "duration": 99,
    "start_time": "2024-08-25T12:07:06.763Z"
   },
   {
    "duration": 25,
    "start_time": "2024-08-25T12:07:06.864Z"
   },
   {
    "duration": 16,
    "start_time": "2024-08-25T12:07:06.891Z"
   },
   {
    "duration": 11,
    "start_time": "2024-08-25T12:07:06.908Z"
   },
   {
    "duration": 83,
    "start_time": "2024-08-25T12:07:06.921Z"
   },
   {
    "duration": 4,
    "start_time": "2024-08-25T12:07:07.005Z"
   },
   {
    "duration": 14,
    "start_time": "2024-08-25T12:07:07.010Z"
   },
   {
    "duration": 29,
    "start_time": "2024-08-25T12:07:07.025Z"
   },
   {
    "duration": 9,
    "start_time": "2024-08-25T12:07:07.058Z"
   },
   {
    "duration": 10,
    "start_time": "2024-08-25T12:07:07.069Z"
   },
   {
    "duration": 52,
    "start_time": "2024-08-25T12:07:07.081Z"
   },
   {
    "duration": 10,
    "start_time": "2024-08-25T12:07:07.135Z"
   },
   {
    "duration": 17,
    "start_time": "2024-08-25T12:07:07.146Z"
   },
   {
    "duration": 10,
    "start_time": "2024-08-25T12:07:07.165Z"
   },
   {
    "duration": 4,
    "start_time": "2024-08-25T12:07:07.177Z"
   },
   {
    "duration": 3,
    "start_time": "2024-08-25T12:07:07.182Z"
   },
   {
    "duration": 18,
    "start_time": "2024-08-25T12:07:07.186Z"
   },
   {
    "duration": 7,
    "start_time": "2024-08-25T12:07:07.205Z"
   },
   {
    "duration": 4,
    "start_time": "2024-08-25T12:07:07.214Z"
   },
   {
    "duration": 4,
    "start_time": "2024-08-25T12:07:07.219Z"
   },
   {
    "duration": 7,
    "start_time": "2024-08-25T12:07:07.224Z"
   },
   {
    "duration": 7,
    "start_time": "2024-08-25T12:07:50.506Z"
   },
   {
    "duration": 17,
    "start_time": "2024-08-25T12:09:43.559Z"
   },
   {
    "duration": 11,
    "start_time": "2024-08-25T12:10:11.526Z"
   },
   {
    "duration": 20,
    "start_time": "2024-08-25T12:10:40.747Z"
   },
   {
    "duration": 16,
    "start_time": "2024-08-25T12:10:46.109Z"
   },
   {
    "duration": 17,
    "start_time": "2024-08-25T12:10:58.993Z"
   },
   {
    "duration": 47,
    "start_time": "2024-08-25T12:11:11.091Z"
   },
   {
    "duration": 34,
    "start_time": "2024-08-25T12:11:41.786Z"
   },
   {
    "duration": 2,
    "start_time": "2024-08-25T12:11:58.433Z"
   },
   {
    "duration": 5,
    "start_time": "2024-08-25T12:14:05.157Z"
   },
   {
    "duration": 66,
    "start_time": "2024-08-25T12:15:45.689Z"
   },
   {
    "duration": 5,
    "start_time": "2024-08-25T12:17:07.900Z"
   },
   {
    "duration": 60,
    "start_time": "2024-08-25T12:17:13.287Z"
   },
   {
    "duration": 4,
    "start_time": "2024-08-25T12:17:21.717Z"
   },
   {
    "duration": 303,
    "start_time": "2024-08-25T12:19:54.146Z"
   },
   {
    "duration": 5,
    "start_time": "2024-08-25T12:20:07.883Z"
   },
   {
    "duration": 3,
    "start_time": "2024-08-25T12:20:28.134Z"
   },
   {
    "duration": 3,
    "start_time": "2024-08-25T12:20:50.402Z"
   },
   {
    "duration": 4,
    "start_time": "2024-08-25T12:22:51.060Z"
   },
   {
    "duration": 289,
    "start_time": "2024-08-25T12:22:54.070Z"
   },
   {
    "duration": 5,
    "start_time": "2024-08-25T12:23:09.728Z"
   },
   {
    "duration": 254,
    "start_time": "2024-08-25T12:23:11.876Z"
   },
   {
    "duration": 3,
    "start_time": "2024-08-25T12:23:36.286Z"
   },
   {
    "duration": 255,
    "start_time": "2024-08-25T12:23:37.682Z"
   },
   {
    "duration": 63,
    "start_time": "2024-08-25T12:24:06.302Z"
   },
   {
    "duration": 446,
    "start_time": "2024-08-25T12:24:07.280Z"
   },
   {
    "duration": 5,
    "start_time": "2024-08-25T12:24:31.985Z"
   },
   {
    "duration": 9,
    "start_time": "2024-08-25T12:24:32.696Z"
   },
   {
    "duration": 10,
    "start_time": "2024-08-25T12:24:46.872Z"
   },
   {
    "duration": 5,
    "start_time": "2024-08-25T12:24:47.012Z"
   },
   {
    "duration": 3,
    "start_time": "2024-08-25T12:25:46.861Z"
   },
   {
    "duration": 8,
    "start_time": "2024-08-25T12:25:47.347Z"
   },
   {
    "duration": 6,
    "start_time": "2024-08-25T12:27:39.356Z"
   },
   {
    "duration": 409,
    "start_time": "2024-08-26T05:44:45.455Z"
   },
   {
    "duration": 141,
    "start_time": "2024-08-26T05:44:45.866Z"
   },
   {
    "duration": 22,
    "start_time": "2024-08-26T05:44:46.009Z"
   },
   {
    "duration": 15,
    "start_time": "2024-08-26T05:44:46.033Z"
   },
   {
    "duration": 9,
    "start_time": "2024-08-26T05:44:46.050Z"
   },
   {
    "duration": 61,
    "start_time": "2024-08-26T05:44:46.060Z"
   },
   {
    "duration": 16,
    "start_time": "2024-08-26T05:44:46.123Z"
   },
   {
    "duration": 10,
    "start_time": "2024-08-26T05:44:46.140Z"
   },
   {
    "duration": 9,
    "start_time": "2024-08-26T05:44:46.151Z"
   },
   {
    "duration": 30,
    "start_time": "2024-08-26T05:44:46.163Z"
   },
   {
    "duration": 16,
    "start_time": "2024-08-26T05:44:46.194Z"
   },
   {
    "duration": 65,
    "start_time": "2024-08-26T05:44:46.212Z"
   },
   {
    "duration": 9,
    "start_time": "2024-08-26T05:44:46.278Z"
   },
   {
    "duration": 3,
    "start_time": "2024-08-26T05:44:46.289Z"
   },
   {
    "duration": 14,
    "start_time": "2024-08-26T05:44:46.293Z"
   },
   {
    "duration": 31,
    "start_time": "2024-08-26T05:44:46.308Z"
   },
   {
    "duration": 16,
    "start_time": "2024-08-26T05:44:46.340Z"
   },
   {
    "duration": 3,
    "start_time": "2024-08-26T05:44:46.357Z"
   },
   {
    "duration": 12,
    "start_time": "2024-08-26T05:44:46.361Z"
   },
   {
    "duration": 5,
    "start_time": "2024-08-26T05:44:46.375Z"
   },
   {
    "duration": 16,
    "start_time": "2024-08-26T05:44:46.381Z"
   },
   {
    "duration": 6,
    "start_time": "2024-08-26T05:44:46.399Z"
   },
   {
    "duration": 417,
    "start_time": "2024-08-26T05:56:26.429Z"
   },
   {
    "duration": 79,
    "start_time": "2024-08-26T05:56:26.848Z"
   },
   {
    "duration": 26,
    "start_time": "2024-08-26T05:56:26.928Z"
   },
   {
    "duration": 26,
    "start_time": "2024-08-26T05:56:26.956Z"
   },
   {
    "duration": 11,
    "start_time": "2024-08-26T05:56:26.984Z"
   },
   {
    "duration": 71,
    "start_time": "2024-08-26T05:56:26.997Z"
   },
   {
    "duration": 3,
    "start_time": "2024-08-26T05:56:27.070Z"
   },
   {
    "duration": 10,
    "start_time": "2024-08-26T05:56:27.074Z"
   },
   {
    "duration": 4,
    "start_time": "2024-08-26T05:56:27.085Z"
   },
   {
    "duration": 9,
    "start_time": "2024-08-26T05:56:27.092Z"
   },
   {
    "duration": 5,
    "start_time": "2024-08-26T05:56:27.102Z"
   },
   {
    "duration": 48,
    "start_time": "2024-08-26T05:56:27.138Z"
   },
   {
    "duration": 9,
    "start_time": "2024-08-26T05:56:27.188Z"
   },
   {
    "duration": 5,
    "start_time": "2024-08-26T05:56:27.199Z"
   },
   {
    "duration": 14,
    "start_time": "2024-08-26T05:56:27.206Z"
   },
   {
    "duration": 20,
    "start_time": "2024-08-26T05:56:27.238Z"
   },
   {
    "duration": 16,
    "start_time": "2024-08-26T05:56:27.260Z"
   },
   {
    "duration": 3,
    "start_time": "2024-08-26T05:56:27.277Z"
   },
   {
    "duration": 11,
    "start_time": "2024-08-26T05:56:27.282Z"
   },
   {
    "duration": 5,
    "start_time": "2024-08-26T05:56:27.296Z"
   },
   {
    "duration": 6,
    "start_time": "2024-08-26T05:56:27.303Z"
   },
   {
    "duration": 8,
    "start_time": "2024-08-26T05:56:27.338Z"
   }
  ],
  "colab": {
   "provenance": []
  },
  "kernelspec": {
   "display_name": "Python 3 (ipykernel)",
   "language": "python",
   "name": "python3"
  },
  "language_info": {
   "codemirror_mode": {
    "name": "ipython",
    "version": 3
   },
   "file_extension": ".py",
   "mimetype": "text/x-python",
   "name": "python",
   "nbconvert_exporter": "python",
   "pygments_lexer": "ipython3",
   "version": "3.9.5"
  },
  "toc": {
   "base_numbering": 1,
   "nav_menu": {},
   "number_sections": true,
   "sideBar": true,
   "skip_h1_title": true,
   "title_cell": "Table of Contents",
   "title_sidebar": "Contents",
   "toc_cell": false,
   "toc_position": {},
   "toc_section_display": true,
   "toc_window_display": false
  }
 },
 "nbformat": 4,
 "nbformat_minor": 5
}
