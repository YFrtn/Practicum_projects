{
 "cells": [
  {
   "cell_type": "markdown",
   "metadata": {
    "deletable": false,
    "editable": false,
    "id": "E0vqbgi9ay0H"
   },
   "source": [
    "# Яндекс Музыка"
   ]
  },
  {
   "cell_type": "markdown",
   "metadata": {
    "deletable": false,
    "editable": false,
    "id": "VUC88oWjTJw2"
   },
   "source": [
    "Сравнение Москвы и Петербурга окружено мифами. Например:\n",
    " * Москва — мегаполис, подчинённый жёсткому ритму рабочей недели;\n",
    " * Петербург — культурная столица, со своими вкусами.\n",
    "\n",
    "На данных Яндекс Музыки вы сравните поведение пользователей двух столиц.\n",
    "\n",
    "**Цель исследования** — проверьте три гипотезы:\n",
    "1. Активность пользователей зависит от дня недели. Причём в Москве и Петербурге это проявляется по-разному.\n",
    "2. В понедельник утром в Москве преобладают одни жанры, а в Петербурге — другие. Так же и вечером пятницы преобладают разные жанры — в зависимости от города.\n",
    "3. Москва и Петербург предпочитают разные жанры музыки. В Москве чаще слушают поп-музыку, в Петербурге — русский рэп.\n",
    "\n",
    "**Ход исследования**\n",
    "\n",
    "Данные о поведении пользователей вы получите из файла `yandex_music_project.csv`. О качестве данных ничего не известно. Поэтому перед проверкой гипотез понадобится обзор данных.\n",
    "\n",
    "Вы проверите данные на ошибки и оцените их влияние на исследование. Затем, на этапе предобработки вы поищете возможность исправить самые критичные ошибки данных.\n",
    "\n",
    "Таким образом, исследование пройдёт в три этапа:\n",
    " 1. Обзор данных.\n",
    " 2. Предобработка данных.\n",
    " 3. Проверка гипотез.\n",
    "\n"
   ]
  },
  {
   "cell_type": "markdown",
   "metadata": {
    "deletable": false,
    "editable": false,
    "id": "Ml1hmfXC_Zcs"
   },
   "source": [
    "## Обзор данных\n",
    "\n",
    "Составьте первое представление о данных Яндекс Музыки.\n",
    "\n",
    "\n"
   ]
  },
  {
   "cell_type": "markdown",
   "metadata": {
    "deletable": false,
    "editable": false,
    "id": "57eAOGIz_Zcs",
    "tags": [
     "start_task"
    ]
   },
   "source": [
    "**Задание 1**"
   ]
  },
  {
   "cell_type": "code",
   "execution_count": 1,
   "metadata": {
    "deletable": false,
    "id": "AXN7PHPN_Zcs"
   },
   "outputs": [],
   "source": [
    "# импорт библиотеки pandas\n",
    "\n",
    "import pandas as pd"
   ]
  },
  {
   "cell_type": "markdown",
   "metadata": {
    "deletable": false,
    "editable": false,
    "id": "SG23P8tt_Zcs",
    "tags": [
     "start_task"
    ]
   },
   "source": [
    "**Задание 2**"
   ]
  },
  {
   "cell_type": "code",
   "execution_count": 2,
   "metadata": {
    "deletable": false,
    "id": "fFVu7vqh_Zct"
   },
   "outputs": [],
   "source": [
    "# чтение файла с данными и сохранение в df\n",
    "\n",
    "df = pd.read_csv('/datasets/yandex_music_project.csv')"
   ]
  },
  {
   "cell_type": "markdown",
   "metadata": {
    "deletable": false,
    "editable": false,
    "id": "rDoOMd3uTqnZ",
    "tags": [
     "start_task"
    ]
   },
   "source": [
    "**Задание 3**"
   ]
  },
  {
   "cell_type": "code",
   "execution_count": 3,
   "metadata": {
    "deletable": false,
    "id": "oWTVX3gW_Zct"
   },
   "outputs": [
    {
     "data": {
      "text/html": [
       "<div>\n",
       "<style scoped>\n",
       "    .dataframe tbody tr th:only-of-type {\n",
       "        vertical-align: middle;\n",
       "    }\n",
       "\n",
       "    .dataframe tbody tr th {\n",
       "        vertical-align: top;\n",
       "    }\n",
       "\n",
       "    .dataframe thead th {\n",
       "        text-align: right;\n",
       "    }\n",
       "</style>\n",
       "<table border=\"1\" class=\"dataframe\">\n",
       "  <thead>\n",
       "    <tr style=\"text-align: right;\">\n",
       "      <th></th>\n",
       "      <th>userID</th>\n",
       "      <th>Track</th>\n",
       "      <th>artist</th>\n",
       "      <th>genre</th>\n",
       "      <th>City</th>\n",
       "      <th>time</th>\n",
       "      <th>Day</th>\n",
       "    </tr>\n",
       "  </thead>\n",
       "  <tbody>\n",
       "    <tr>\n",
       "      <th>0</th>\n",
       "      <td>FFB692EC</td>\n",
       "      <td>Kamigata To Boots</td>\n",
       "      <td>The Mass Missile</td>\n",
       "      <td>rock</td>\n",
       "      <td>Saint-Petersburg</td>\n",
       "      <td>20:28:33</td>\n",
       "      <td>Wednesday</td>\n",
       "    </tr>\n",
       "    <tr>\n",
       "      <th>1</th>\n",
       "      <td>55204538</td>\n",
       "      <td>Delayed Because of Accident</td>\n",
       "      <td>Andreas Rönnberg</td>\n",
       "      <td>rock</td>\n",
       "      <td>Moscow</td>\n",
       "      <td>14:07:09</td>\n",
       "      <td>Friday</td>\n",
       "    </tr>\n",
       "    <tr>\n",
       "      <th>2</th>\n",
       "      <td>20EC38</td>\n",
       "      <td>Funiculì funiculà</td>\n",
       "      <td>Mario Lanza</td>\n",
       "      <td>pop</td>\n",
       "      <td>Saint-Petersburg</td>\n",
       "      <td>20:58:07</td>\n",
       "      <td>Wednesday</td>\n",
       "    </tr>\n",
       "    <tr>\n",
       "      <th>3</th>\n",
       "      <td>A3DD03C9</td>\n",
       "      <td>Dragons in the Sunset</td>\n",
       "      <td>Fire + Ice</td>\n",
       "      <td>folk</td>\n",
       "      <td>Saint-Petersburg</td>\n",
       "      <td>08:37:09</td>\n",
       "      <td>Monday</td>\n",
       "    </tr>\n",
       "    <tr>\n",
       "      <th>4</th>\n",
       "      <td>E2DC1FAE</td>\n",
       "      <td>Soul People</td>\n",
       "      <td>Space Echo</td>\n",
       "      <td>dance</td>\n",
       "      <td>Moscow</td>\n",
       "      <td>08:34:34</td>\n",
       "      <td>Monday</td>\n",
       "    </tr>\n",
       "    <tr>\n",
       "      <th>5</th>\n",
       "      <td>842029A1</td>\n",
       "      <td>Преданная</td>\n",
       "      <td>IMPERVTOR</td>\n",
       "      <td>rusrap</td>\n",
       "      <td>Saint-Petersburg</td>\n",
       "      <td>13:09:41</td>\n",
       "      <td>Friday</td>\n",
       "    </tr>\n",
       "    <tr>\n",
       "      <th>6</th>\n",
       "      <td>4CB90AA5</td>\n",
       "      <td>True</td>\n",
       "      <td>Roman Messer</td>\n",
       "      <td>dance</td>\n",
       "      <td>Moscow</td>\n",
       "      <td>13:00:07</td>\n",
       "      <td>Wednesday</td>\n",
       "    </tr>\n",
       "    <tr>\n",
       "      <th>7</th>\n",
       "      <td>F03E1C1F</td>\n",
       "      <td>Feeling This Way</td>\n",
       "      <td>Polina Griffith</td>\n",
       "      <td>dance</td>\n",
       "      <td>Moscow</td>\n",
       "      <td>20:47:49</td>\n",
       "      <td>Wednesday</td>\n",
       "    </tr>\n",
       "    <tr>\n",
       "      <th>8</th>\n",
       "      <td>8FA1D3BE</td>\n",
       "      <td>И вновь продолжается бой</td>\n",
       "      <td>NaN</td>\n",
       "      <td>ruspop</td>\n",
       "      <td>Moscow</td>\n",
       "      <td>09:17:40</td>\n",
       "      <td>Friday</td>\n",
       "    </tr>\n",
       "    <tr>\n",
       "      <th>9</th>\n",
       "      <td>E772D5C0</td>\n",
       "      <td>Pessimist</td>\n",
       "      <td>NaN</td>\n",
       "      <td>dance</td>\n",
       "      <td>Saint-Petersburg</td>\n",
       "      <td>21:20:49</td>\n",
       "      <td>Wednesday</td>\n",
       "    </tr>\n",
       "  </tbody>\n",
       "</table>\n",
       "</div>"
      ],
      "text/plain": [
       "     userID                        Track            artist   genre  \\\n",
       "0  FFB692EC            Kamigata To Boots  The Mass Missile    rock   \n",
       "1  55204538  Delayed Because of Accident  Andreas Rönnberg    rock   \n",
       "2    20EC38            Funiculì funiculà       Mario Lanza     pop   \n",
       "3  A3DD03C9        Dragons in the Sunset        Fire + Ice    folk   \n",
       "4  E2DC1FAE                  Soul People        Space Echo   dance   \n",
       "5  842029A1                    Преданная         IMPERVTOR  rusrap   \n",
       "6  4CB90AA5                         True      Roman Messer   dance   \n",
       "7  F03E1C1F             Feeling This Way   Polina Griffith   dance   \n",
       "8  8FA1D3BE     И вновь продолжается бой               NaN  ruspop   \n",
       "9  E772D5C0                    Pessimist               NaN   dance   \n",
       "\n",
       "             City        time        Day  \n",
       "0  Saint-Petersburg  20:28:33  Wednesday  \n",
       "1            Moscow  14:07:09     Friday  \n",
       "2  Saint-Petersburg  20:58:07  Wednesday  \n",
       "3  Saint-Petersburg  08:37:09     Monday  \n",
       "4            Moscow  08:34:34     Monday  \n",
       "5  Saint-Petersburg  13:09:41     Friday  \n",
       "6            Moscow  13:00:07  Wednesday  \n",
       "7            Moscow  20:47:49  Wednesday  \n",
       "8            Moscow  09:17:40     Friday  \n",
       "9  Saint-Petersburg  21:20:49  Wednesday  "
      ]
     },
     "execution_count": 3,
     "metadata": {},
     "output_type": "execute_result"
    }
   ],
   "source": [
    "# получение первых 10 строк таблицы df\n",
    "\n",
    "df.head(10)"
   ]
  },
  {
   "cell_type": "markdown",
   "metadata": {
    "deletable": false,
    "editable": false,
    "id": "EO73Kwic_Zct",
    "tags": [
     "start_task"
    ]
   },
   "source": [
    "**Задание 4**"
   ]
  },
  {
   "cell_type": "code",
   "execution_count": 4,
   "metadata": {
    "deletable": false,
    "id": "DSf2kIb-_Zct"
   },
   "outputs": [
    {
     "name": "stdout",
     "output_type": "stream",
     "text": [
      "<class 'pandas.core.frame.DataFrame'>\n",
      "RangeIndex: 65079 entries, 0 to 65078\n",
      "Data columns (total 7 columns):\n",
      " #   Column    Non-Null Count  Dtype \n",
      "---  ------    --------------  ----- \n",
      " 0     userID  65079 non-null  object\n",
      " 1   Track     63848 non-null  object\n",
      " 2   artist    57876 non-null  object\n",
      " 3   genre     63881 non-null  object\n",
      " 4     City    65079 non-null  object\n",
      " 5   time      65079 non-null  object\n",
      " 6   Day       65079 non-null  object\n",
      "dtypes: object(7)\n",
      "memory usage: 3.5+ MB\n"
     ]
    }
   ],
   "source": [
    "# получение общей информации о данных в таблице df\n",
    "\n",
    "df.info()"
   ]
  },
  {
   "cell_type": "markdown",
   "metadata": {
    "deletable": false,
    "editable": false,
    "id": "TaQ2Iwbr_Zct"
   },
   "source": [
    "Количество значений в столбцах различается. Значит, в данных есть пропущенные значения."
   ]
  },
  {
   "cell_type": "markdown",
   "metadata": {
    "deletable": false,
    "editable": false,
    "id": "4P0UCWzswgEm",
    "tags": [
     "start_task"
    ]
   },
   "source": [
    "**Задание 5**"
   ]
  },
  {
   "cell_type": "code",
   "execution_count": 5,
   "metadata": {
    "id": "c137-ZstwgEm",
    "scrolled": true
   },
   "outputs": [],
   "source": [
    "# Напишите ваш ответ здесь комментарием. Не удаляйте символ #. Не меняйте тип этой ячейки на Markdown.\n",
    "\n",
    "# Третья ошибка: в столбце '  userID' помимо ошибки с пробелами, также допущена ошибка в разделении слов между собой, необходимо прописать между ними нижний пробел, правильно будет 'user_id'. \n"
   ]
  },
  {
   "cell_type": "markdown",
   "metadata": {
    "deletable": false,
    "editable": false,
    "id": "MCB6-dXG_Zct"
   },
   "source": [
    "**Выводы**\n",
    "\n",
    "В каждой строке таблицы — данные о прослушанном треке. Часть колонок описывает саму композицию: название, исполнителя и жанр. Остальные данные рассказывают о пользователе: из какого он города, когда он слушал музыку.\n",
    "\n",
    "Предварительно можно утверждать, что данных достаточно для проверки гипотез. Но встречаются пропуски в данных, а в названиях колонок — расхождения с хорошим стилем.\n",
    "\n",
    "Чтобы двигаться дальше, нужно устранить проблемы в данных."
   ]
  },
  {
   "cell_type": "markdown",
   "metadata": {
    "deletable": false,
    "editable": false,
    "id": "SjYF6Ub9_Zct"
   },
   "source": [
    "## Предобработка данных"
   ]
  },
  {
   "cell_type": "markdown",
   "metadata": {
    "deletable": false,
    "editable": false,
    "id": "dIaKXr29_Zct",
    "tags": [
     "start_task"
    ]
   },
   "source": [
    "### Переименование столбцов\n",
    "\n",
    "**Задание 6**"
   ]
  },
  {
   "cell_type": "code",
   "execution_count": 6,
   "metadata": {
    "deletable": false,
    "id": "oKOTdF_Q_Zct"
   },
   "outputs": [
    {
     "data": {
      "text/plain": [
       "Index(['  userID', 'Track', 'artist', 'genre', '  City  ', 'time', 'Day'], dtype='object')"
      ]
     },
     "execution_count": 6,
     "metadata": {},
     "output_type": "execute_result"
    }
   ],
   "source": [
    "# перечень названий столбцов таблицы df\n",
    "\n",
    "df.columns"
   ]
  },
  {
   "cell_type": "markdown",
   "metadata": {
    "deletable": false,
    "editable": false,
    "id": "zj5534cv_Zct",
    "tags": [
     "start_task"
    ]
   },
   "source": [
    "**Задание 7**"
   ]
  },
  {
   "cell_type": "code",
   "execution_count": 7,
   "metadata": {
    "deletable": false,
    "id": "ISlFqs5y_Zct"
   },
   "outputs": [],
   "source": [
    "# переименование столбцов\n",
    "\n",
    "df = df.rename(columns={\n",
    "    '  userID': 'user_id',\n",
    "    'Track': 'track',\n",
    "    '  City  ': 'city',\n",
    "    'Day': 'day'})"
   ]
  },
  {
   "cell_type": "markdown",
   "metadata": {
    "deletable": false,
    "editable": false,
    "id": "1dqbh00J_Zct",
    "tags": [
     "start_task"
    ]
   },
   "source": [
    "**Задание 8**"
   ]
  },
  {
   "cell_type": "code",
   "execution_count": 8,
   "metadata": {
    "deletable": false,
    "id": "d4NOAmTW_Zct"
   },
   "outputs": [
    {
     "data": {
      "text/plain": [
       "Index(['user_id', 'track', 'artist', 'genre', 'city', 'time', 'day'], dtype='object')"
      ]
     },
     "execution_count": 8,
     "metadata": {},
     "output_type": "execute_result"
    }
   ],
   "source": [
    "# проверка результатов - перечень названий столбцов\n",
    "\n",
    "df.columns"
   ]
  },
  {
   "cell_type": "markdown",
   "metadata": {
    "deletable": false,
    "editable": false,
    "id": "5ISfbcfY_Zct",
    "tags": [
     "start_task"
    ]
   },
   "source": [
    "### Обработка пропущенных значений\n",
    "\n",
    "**Задание 9**"
   ]
  },
  {
   "cell_type": "code",
   "execution_count": 9,
   "metadata": {
    "deletable": false,
    "id": "RskX29qr_Zct"
   },
   "outputs": [
    {
     "data": {
      "text/plain": [
       "user_id       0\n",
       "track      1231\n",
       "artist     7203\n",
       "genre      1198\n",
       "city          0\n",
       "time          0\n",
       "day           0\n",
       "dtype: int64"
      ]
     },
     "execution_count": 9,
     "metadata": {},
     "output_type": "execute_result"
    }
   ],
   "source": [
    "# подсчёт пропусков\n",
    "\n",
    "df.isna().sum()"
   ]
  },
  {
   "cell_type": "markdown",
   "metadata": {
    "deletable": false,
    "editable": false,
    "id": "fSv2laPA_Zct",
    "tags": [
     "start_task"
    ]
   },
   "source": [
    "**Задание 10**"
   ]
  },
  {
   "cell_type": "code",
   "execution_count": 10,
   "metadata": {
    "deletable": false,
    "id": "KplB5qWs_Zct"
   },
   "outputs": [],
   "source": [
    "# замена пропущенных значений на 'unknown'\n",
    "\n",
    "columns_to_replace = ['track', 'artist', 'genre']\n",
    "\n",
    "for column in columns_to_replace:\n",
    "    df[column] = df[column].fillna('unknown')\n",
    "    \n"
   ]
  },
  {
   "cell_type": "markdown",
   "metadata": {
    "deletable": false,
    "editable": false,
    "id": "Ilsm-MZo_Zct",
    "tags": [
     "start_task"
    ]
   },
   "source": [
    "**Задание 11**"
   ]
  },
  {
   "cell_type": "code",
   "execution_count": 11,
   "metadata": {
    "deletable": false,
    "id": "Tq4nYRX4_Zct"
   },
   "outputs": [
    {
     "data": {
      "text/plain": [
       "user_id    0\n",
       "track      0\n",
       "artist     0\n",
       "genre      0\n",
       "city       0\n",
       "time       0\n",
       "day        0\n",
       "dtype: int64"
      ]
     },
     "execution_count": 11,
     "metadata": {},
     "output_type": "execute_result"
    }
   ],
   "source": [
    "# проверка на отсутствие пропусков\n",
    "\n",
    "df.isna().sum()"
   ]
  },
  {
   "cell_type": "markdown",
   "metadata": {
    "deletable": false,
    "editable": false,
    "id": "BWKRtBJ3_Zct",
    "tags": [
     "start_task"
    ]
   },
   "source": [
    "### Обработка дубликатов\n",
    "\n",
    "**Задание 12**"
   ]
  },
  {
   "cell_type": "code",
   "execution_count": 12,
   "metadata": {
    "deletable": false,
    "id": "36eES_S0_Zct"
   },
   "outputs": [
    {
     "data": {
      "text/plain": [
       "3826"
      ]
     },
     "execution_count": 12,
     "metadata": {},
     "output_type": "execute_result"
    }
   ],
   "source": [
    "# подсчёт явных дубликатов\n",
    "\n",
    "df.duplicated().sum()"
   ]
  },
  {
   "cell_type": "markdown",
   "metadata": {
    "deletable": false,
    "editable": false,
    "id": "Ot25h6XR_Zct",
    "tags": [
     "start_task"
    ]
   },
   "source": [
    "**Задание 13**"
   ]
  },
  {
   "cell_type": "code",
   "execution_count": 13,
   "metadata": {
    "deletable": false,
    "id": "exFHq6tt_Zct"
   },
   "outputs": [],
   "source": [
    "# удаление явных дубликатов, создание новых индексов и удаление старых\n",
    "\n",
    "df = df.drop_duplicates().reset_index(drop=True)"
   ]
  },
  {
   "cell_type": "markdown",
   "metadata": {
    "deletable": false,
    "editable": false,
    "id": "Im2YwBEG_Zct",
    "tags": [
     "start_task"
    ]
   },
   "source": [
    "**Задание 14**"
   ]
  },
  {
   "cell_type": "code",
   "execution_count": 14,
   "metadata": {
    "deletable": false,
    "id": "-8PuNWQ0_Zct"
   },
   "outputs": [
    {
     "data": {
      "text/plain": [
       "0"
      ]
     },
     "execution_count": 14,
     "metadata": {},
     "output_type": "execute_result"
    }
   ],
   "source": [
    "# проверка на отсутствие явных дубликатов\n",
    "\n",
    "df.duplicated().sum()"
   ]
  },
  {
   "cell_type": "markdown",
   "metadata": {
    "deletable": false,
    "editable": false,
    "id": "eSjWwsOh_Zct",
    "tags": [
     "start_task"
    ]
   },
   "source": [
    "**Задание 15**"
   ]
  },
  {
   "cell_type": "code",
   "execution_count": 15,
   "metadata": {
    "deletable": false,
    "id": "JIUcqzZN_Zct"
   },
   "outputs": [
    {
     "data": {
      "text/plain": [
       "array(['acid', 'acoustic', 'action', 'adult', 'africa', 'afrikaans',\n",
       "       'alternative', 'alternativepunk', 'ambient', 'americana',\n",
       "       'animated', 'anime', 'arabesk', 'arabic', 'arena',\n",
       "       'argentinetango', 'art', 'audiobook', 'author', 'avantgarde',\n",
       "       'axé', 'baile', 'balkan', 'beats', 'bigroom', 'black', 'bluegrass',\n",
       "       'blues', 'bollywood', 'bossa', 'brazilian', 'breakbeat', 'breaks',\n",
       "       'broadway', 'cantautori', 'cantopop', 'canzone', 'caribbean',\n",
       "       'caucasian', 'celtic', 'chamber', 'chanson', 'children', 'chill',\n",
       "       'chinese', 'choral', 'christian', 'christmas', 'classical',\n",
       "       'classicmetal', 'club', 'colombian', 'comedy', 'conjazz',\n",
       "       'contemporary', 'country', 'cuban', 'dance', 'dancehall',\n",
       "       'dancepop', 'dark', 'death', 'deep', 'deutschrock', 'deutschspr',\n",
       "       'dirty', 'disco', 'dnb', 'documentary', 'downbeat', 'downtempo',\n",
       "       'drum', 'dub', 'dubstep', 'eastern', 'easy', 'electronic',\n",
       "       'electropop', 'emo', 'entehno', 'epicmetal', 'estrada', 'ethnic',\n",
       "       'eurofolk', 'european', 'experimental', 'extrememetal', 'fado',\n",
       "       'fairytail', 'film', 'fitness', 'flamenco', 'folk', 'folklore',\n",
       "       'folkmetal', 'folkrock', 'folktronica', 'forró', 'frankreich',\n",
       "       'französisch', 'french', 'funk', 'future', 'gangsta', 'garage',\n",
       "       'german', 'ghazal', 'gitarre', 'glitch', 'gospel', 'gothic',\n",
       "       'grime', 'grunge', 'gypsy', 'handsup', \"hard'n'heavy\", 'hardcore',\n",
       "       'hardstyle', 'hardtechno', 'hip', 'hip-hop', 'hiphop',\n",
       "       'historisch', 'holiday', 'hop', 'horror', 'house', 'hymn', 'idm',\n",
       "       'independent', 'indian', 'indie', 'indipop', 'industrial',\n",
       "       'inspirational', 'instrumental', 'international', 'irish', 'jam',\n",
       "       'japanese', 'jazz', 'jewish', 'jpop', 'jungle', 'k-pop',\n",
       "       'karadeniz', 'karaoke', 'kayokyoku', 'korean', 'laiko', 'latin',\n",
       "       'latino', 'leftfield', 'local', 'lounge', 'loungeelectronic',\n",
       "       'lovers', 'malaysian', 'mandopop', 'marschmusik', 'meditative',\n",
       "       'mediterranean', 'melodic', 'metal', 'metalcore', 'mexican',\n",
       "       'middle', 'minimal', 'miscellaneous', 'modern', 'mood', 'mpb',\n",
       "       'muslim', 'native', 'neoklassik', 'neue', 'new', 'newage',\n",
       "       'newwave', 'nu', 'nujazz', 'numetal', 'oceania', 'old', 'opera',\n",
       "       'orchestral', 'other', 'piano', 'podcasts', 'pop', 'popdance',\n",
       "       'popelectronic', 'popeurodance', 'poprussian', 'post',\n",
       "       'posthardcore', 'postrock', 'power', 'progmetal', 'progressive',\n",
       "       'psychedelic', 'punjabi', 'punk', 'quebecois', 'ragga', 'ram',\n",
       "       'rancheras', 'rap', 'rave', 'reggae', 'reggaeton', 'regional',\n",
       "       'relax', 'religious', 'retro', 'rhythm', 'rnb', 'rnr', 'rock',\n",
       "       'rockabilly', 'rockalternative', 'rockindie', 'rockother',\n",
       "       'romance', 'roots', 'ruspop', 'rusrap', 'rusrock', 'russian',\n",
       "       'salsa', 'samba', 'scenic', 'schlager', 'self', 'sertanejo',\n",
       "       'shanson', 'shoegazing', 'showtunes', 'singer', 'ska', 'skarock',\n",
       "       'slow', 'smooth', 'soft', 'soul', 'soulful', 'sound', 'soundtrack',\n",
       "       'southern', 'specialty', 'speech', 'spiritual', 'sport',\n",
       "       'stonerrock', 'surf', 'swing', 'synthpop', 'synthrock',\n",
       "       'sängerportrait', 'tango', 'tanzorchester', 'taraftar', 'tatar',\n",
       "       'tech', 'techno', 'teen', 'thrash', 'top', 'traditional',\n",
       "       'tradjazz', 'trance', 'tribal', 'trip', 'triphop', 'tropical',\n",
       "       'türk', 'türkçe', 'ukrrock', 'unknown', 'urban', 'uzbek',\n",
       "       'variété', 'vi', 'videogame', 'vocal', 'western', 'world',\n",
       "       'worldbeat', 'ïîï', 'электроника'], dtype=object)"
      ]
     },
     "execution_count": 15,
     "metadata": {},
     "output_type": "execute_result"
    }
   ],
   "source": [
    "# просмотр уникальных отсортированных названий жанров\n",
    "\n",
    "\n",
    "df_genre_sorted = df['genre'].sort_values().unique()\n",
    "\n",
    "df_genre_sorted"
   ]
  },
  {
   "cell_type": "markdown",
   "metadata": {
    "deletable": false,
    "editable": false,
    "id": "qej-Qmuo_Zct",
    "tags": [
     "start_task"
    ]
   },
   "source": [
    "**Задание 16**"
   ]
  },
  {
   "cell_type": "code",
   "execution_count": 16,
   "metadata": {
    "deletable": false,
    "id": "ErNDkmns_Zct"
   },
   "outputs": [],
   "source": [
    "# устранение неявных дубликатов\n",
    "\n",
    "unique_duplicates = ['hip', 'hop', 'hip-hop']\n",
    "\n",
    "df['genre'] = df['genre'].replace(unique_duplicates, 'hiphop')\n",
    "\n"
   ]
  },
  {
   "cell_type": "markdown",
   "metadata": {
    "deletable": false,
    "editable": false,
    "id": "zQKF16_RG15m",
    "tags": [
     "start_task"
    ]
   },
   "source": [
    "**Задание 17**"
   ]
  },
  {
   "cell_type": "code",
   "execution_count": 17,
   "metadata": {
    "deletable": false,
    "id": "wvixALnFG15m",
    "scrolled": true
   },
   "outputs": [
    {
     "data": {
      "text/plain": [
       "array(['acid', 'acoustic', 'action', 'adult', 'africa', 'afrikaans',\n",
       "       'alternative', 'alternativepunk', 'ambient', 'americana',\n",
       "       'animated', 'anime', 'arabesk', 'arabic', 'arena',\n",
       "       'argentinetango', 'art', 'audiobook', 'author', 'avantgarde',\n",
       "       'axé', 'baile', 'balkan', 'beats', 'bigroom', 'black', 'bluegrass',\n",
       "       'blues', 'bollywood', 'bossa', 'brazilian', 'breakbeat', 'breaks',\n",
       "       'broadway', 'cantautori', 'cantopop', 'canzone', 'caribbean',\n",
       "       'caucasian', 'celtic', 'chamber', 'chanson', 'children', 'chill',\n",
       "       'chinese', 'choral', 'christian', 'christmas', 'classical',\n",
       "       'classicmetal', 'club', 'colombian', 'comedy', 'conjazz',\n",
       "       'contemporary', 'country', 'cuban', 'dance', 'dancehall',\n",
       "       'dancepop', 'dark', 'death', 'deep', 'deutschrock', 'deutschspr',\n",
       "       'dirty', 'disco', 'dnb', 'documentary', 'downbeat', 'downtempo',\n",
       "       'drum', 'dub', 'dubstep', 'eastern', 'easy', 'electronic',\n",
       "       'electropop', 'emo', 'entehno', 'epicmetal', 'estrada', 'ethnic',\n",
       "       'eurofolk', 'european', 'experimental', 'extrememetal', 'fado',\n",
       "       'fairytail', 'film', 'fitness', 'flamenco', 'folk', 'folklore',\n",
       "       'folkmetal', 'folkrock', 'folktronica', 'forró', 'frankreich',\n",
       "       'französisch', 'french', 'funk', 'future', 'gangsta', 'garage',\n",
       "       'german', 'ghazal', 'gitarre', 'glitch', 'gospel', 'gothic',\n",
       "       'grime', 'grunge', 'gypsy', 'handsup', \"hard'n'heavy\", 'hardcore',\n",
       "       'hardstyle', 'hardtechno', 'hiphop', 'historisch', 'holiday',\n",
       "       'horror', 'house', 'hymn', 'idm', 'independent', 'indian', 'indie',\n",
       "       'indipop', 'industrial', 'inspirational', 'instrumental',\n",
       "       'international', 'irish', 'jam', 'japanese', 'jazz', 'jewish',\n",
       "       'jpop', 'jungle', 'k-pop', 'karadeniz', 'karaoke', 'kayokyoku',\n",
       "       'korean', 'laiko', 'latin', 'latino', 'leftfield', 'local',\n",
       "       'lounge', 'loungeelectronic', 'lovers', 'malaysian', 'mandopop',\n",
       "       'marschmusik', 'meditative', 'mediterranean', 'melodic', 'metal',\n",
       "       'metalcore', 'mexican', 'middle', 'minimal', 'miscellaneous',\n",
       "       'modern', 'mood', 'mpb', 'muslim', 'native', 'neoklassik', 'neue',\n",
       "       'new', 'newage', 'newwave', 'nu', 'nujazz', 'numetal', 'oceania',\n",
       "       'old', 'opera', 'orchestral', 'other', 'piano', 'podcasts', 'pop',\n",
       "       'popdance', 'popelectronic', 'popeurodance', 'poprussian', 'post',\n",
       "       'posthardcore', 'postrock', 'power', 'progmetal', 'progressive',\n",
       "       'psychedelic', 'punjabi', 'punk', 'quebecois', 'ragga', 'ram',\n",
       "       'rancheras', 'rap', 'rave', 'reggae', 'reggaeton', 'regional',\n",
       "       'relax', 'religious', 'retro', 'rhythm', 'rnb', 'rnr', 'rock',\n",
       "       'rockabilly', 'rockalternative', 'rockindie', 'rockother',\n",
       "       'romance', 'roots', 'ruspop', 'rusrap', 'rusrock', 'russian',\n",
       "       'salsa', 'samba', 'scenic', 'schlager', 'self', 'sertanejo',\n",
       "       'shanson', 'shoegazing', 'showtunes', 'singer', 'ska', 'skarock',\n",
       "       'slow', 'smooth', 'soft', 'soul', 'soulful', 'sound', 'soundtrack',\n",
       "       'southern', 'specialty', 'speech', 'spiritual', 'sport',\n",
       "       'stonerrock', 'surf', 'swing', 'synthpop', 'synthrock',\n",
       "       'sängerportrait', 'tango', 'tanzorchester', 'taraftar', 'tatar',\n",
       "       'tech', 'techno', 'teen', 'thrash', 'top', 'traditional',\n",
       "       'tradjazz', 'trance', 'tribal', 'trip', 'triphop', 'tropical',\n",
       "       'türk', 'türkçe', 'ukrrock', 'unknown', 'urban', 'uzbek',\n",
       "       'variété', 'vi', 'videogame', 'vocal', 'western', 'world',\n",
       "       'worldbeat', 'ïîï', 'электроника'], dtype=object)"
      ]
     },
     "execution_count": 17,
     "metadata": {},
     "output_type": "execute_result"
    }
   ],
   "source": [
    "# проверка на отсутствие неявных дубликатов\n",
    "\n",
    "df['genre'].sort_values().unique()"
   ]
  },
  {
   "cell_type": "markdown",
   "metadata": {
    "deletable": false,
    "editable": false,
    "id": "jz6a9-7HQUDd"
   },
   "source": [
    "**Выводы**\n",
    "\n",
    "Предобработка обнаружила три проблемы в данных:\n",
    "\n",
    "- нарушения в стиле заголовков,\n",
    "- пропущенные значения,\n",
    "- дубликаты — явные и неявные.\n",
    "\n",
    "Вы исправили заголовки, чтобы упростить работу с таблицей. Без дубликатов исследование станет более точным.\n",
    "\n",
    "Пропущенные значения вы заменили на `'unknown'`. Ещё предстоит увидеть, не повредят ли исследованию пропуски в колонке `genre`.\n",
    "\n",
    "Теперь можно перейти к проверке гипотез."
   ]
  },
  {
   "cell_type": "markdown",
   "metadata": {
    "deletable": false,
    "editable": false,
    "id": "WttZHXH0SqKk"
   },
   "source": [
    "## Проверка гипотез"
   ]
  },
  {
   "cell_type": "markdown",
   "metadata": {
    "deletable": false,
    "editable": false,
    "id": "Im936VVi_Zcu"
   },
   "source": [
    "### Сравнение поведения пользователей двух столиц"
   ]
  },
  {
   "cell_type": "markdown",
   "metadata": {
    "deletable": false,
    "editable": false,
    "id": "nwt_MuaL_Zcu"
   },
   "source": [
    "Первая гипотеза утверждает, что пользователи по-разному слушают музыку в Москве и Санкт-Петербурге. Проверим это предположение по данным о трёх днях недели — понедельнике, среде и пятнице. Для этого:\n",
    "\n",
    "* Разделим пользователей Москвы и Санкт-Петербурга.\n",
    "* Сравним, сколько треков послушала каждая группа пользователей в понедельник, среду и пятницу.\n"
   ]
  },
  {
   "cell_type": "markdown",
   "metadata": {
    "deletable": false,
    "id": "8Dw_YMmT_Zcu",
    "tags": [
     "start_task"
    ]
   },
   "source": [
    "**Задание 18**\n",
    "\n"
   ]
  },
  {
   "cell_type": "code",
   "execution_count": 18,
   "metadata": {
    "deletable": false,
    "id": "0_Qs96oh_Zcu"
   },
   "outputs": [
    {
     "data": {
      "text/plain": [
       "city\n",
       "Moscow              42741\n",
       "Saint-Petersburg    18512\n",
       "Name: genre, dtype: int64"
      ]
     },
     "execution_count": 18,
     "metadata": {},
     "output_type": "execute_result"
    }
   ],
   "source": [
    "# подсчёт прослушиваний в каждом городе\n",
    "\n",
    "city_count = df.groupby('city')['genre'].count()\n",
    "\n",
    "city_count"
   ]
  },
  {
   "cell_type": "markdown",
   "metadata": {
    "id": "dzli3w8o_Zcu",
    "tags": [
     "start_task"
    ]
   },
   "source": [
    "**Задание 19**\n"
   ]
  },
  {
   "cell_type": "code",
   "execution_count": 19,
   "metadata": {
    "deletable": false,
    "id": "uZMKjiJz_Zcu"
   },
   "outputs": [
    {
     "data": {
      "text/plain": [
       "day\n",
       "Friday       21840\n",
       "Monday       21354\n",
       "Wednesday    18059\n",
       "Name: genre, dtype: int64"
      ]
     },
     "execution_count": 19,
     "metadata": {},
     "output_type": "execute_result"
    }
   ],
   "source": [
    "# подсчёт прослушиваний в каждый из трёх дней\n",
    "\n",
    "days_count = df.groupby('day')['genre'].count()\n",
    "days_count\n"
   ]
  },
  {
   "cell_type": "markdown",
   "metadata": {
    "deletable": false,
    "editable": false,
    "id": "POzs8bGa_Zcu",
    "tags": [
     "start_task"
    ]
   },
   "source": [
    "**Задание 20**"
   ]
  },
  {
   "cell_type": "code",
   "execution_count": 20,
   "metadata": {
    "deletable": false,
    "id": "Nz3GdQB1_Zcu"
   },
   "outputs": [],
   "source": [
    "def number_tracks(day, city):\n",
    "    track_list = df[df['day'] == day] \n",
    "    track_list = track_list[track_list['city'] == city] # выберите только строки track_list со значением переменной city в столбце city\n",
    "    track_list_count = track_list['user_id'].count() # вызовите метод подсчета строк для track_list и выберите столбец user_id\n",
    "    return track_list_count # верните значение track_list_count из функции\n"
   ]
  },
  {
   "cell_type": "markdown",
   "metadata": {
    "deletable": false,
    "editable": false,
    "id": "ytf7xFrFJQ2r",
    "tags": [
     "start_task"
    ]
   },
   "source": [
    "**Задание 21**"
   ]
  },
  {
   "cell_type": "code",
   "execution_count": 21,
   "metadata": {
    "deletable": false,
    "id": "rJcRATNQ_Zcu"
   },
   "outputs": [
    {
     "data": {
      "text/plain": [
       "15740"
      ]
     },
     "execution_count": 21,
     "metadata": {},
     "output_type": "execute_result"
    }
   ],
   "source": [
    "# количество прослушиваний в Москве по понедельникам\n",
    "number_tracks('Monday', 'Moscow')"
   ]
  },
  {
   "cell_type": "code",
   "execution_count": 22,
   "metadata": {
    "deletable": false,
    "id": "hq_ncZ5T_Zcu"
   },
   "outputs": [
    {
     "data": {
      "text/plain": [
       "5614"
      ]
     },
     "execution_count": 22,
     "metadata": {},
     "output_type": "execute_result"
    }
   ],
   "source": [
    "# количество прослушиваний в Санкт-Петербурге по понедельникам\n",
    "number_tracks('Monday', 'Saint-Petersburg')"
   ]
  },
  {
   "cell_type": "code",
   "execution_count": 23,
   "metadata": {
    "deletable": false,
    "id": "_NTy2VPU_Zcu"
   },
   "outputs": [
    {
     "data": {
      "text/plain": [
       "11056"
      ]
     },
     "execution_count": 23,
     "metadata": {},
     "output_type": "execute_result"
    }
   ],
   "source": [
    "# количество прослушиваний в Москве по средам\n",
    "number_tracks('Wednesday', 'Moscow')"
   ]
  },
  {
   "cell_type": "code",
   "execution_count": 24,
   "metadata": {
    "deletable": false,
    "id": "j2y3TAwo_Zcu"
   },
   "outputs": [
    {
     "data": {
      "text/plain": [
       "7003"
      ]
     },
     "execution_count": 24,
     "metadata": {},
     "output_type": "execute_result"
    }
   ],
   "source": [
    "# количество прослушиваний в Санкт-Петербурге по средам\n",
    "number_tracks('Wednesday', 'Saint-Petersburg')"
   ]
  },
  {
   "cell_type": "code",
   "execution_count": 25,
   "metadata": {
    "deletable": false,
    "id": "vYDw5u_K_Zcu"
   },
   "outputs": [
    {
     "data": {
      "text/plain": [
       "15945"
      ]
     },
     "execution_count": 25,
     "metadata": {},
     "output_type": "execute_result"
    }
   ],
   "source": [
    "# количество прослушиваний в Москве по пятницам\n",
    "number_tracks('Friday', 'Moscow')"
   ]
  },
  {
   "cell_type": "code",
   "execution_count": 26,
   "metadata": {
    "deletable": false,
    "id": "8_yzFtW3_Zcu"
   },
   "outputs": [
    {
     "data": {
      "text/plain": [
       "5895"
      ]
     },
     "execution_count": 26,
     "metadata": {},
     "output_type": "execute_result"
    }
   ],
   "source": [
    "# количество прослушиваний в Санкт-Петербурге по пятницам\n",
    "number_tracks('Friday', 'Saint-Petersburg')"
   ]
  },
  {
   "cell_type": "markdown",
   "metadata": {
    "deletable": false,
    "editable": false,
    "id": "7QXffbO-_Zcu",
    "tags": [
     "start_task"
    ]
   },
   "source": [
    "**Задание 22**"
   ]
  },
  {
   "cell_type": "code",
   "execution_count": 27,
   "metadata": {
    "deletable": false,
    "id": "APAcLpOr_Zcu"
   },
   "outputs": [
    {
     "data": {
      "text/html": [
       "<div>\n",
       "<style scoped>\n",
       "    .dataframe tbody tr th:only-of-type {\n",
       "        vertical-align: middle;\n",
       "    }\n",
       "\n",
       "    .dataframe tbody tr th {\n",
       "        vertical-align: top;\n",
       "    }\n",
       "\n",
       "    .dataframe thead th {\n",
       "        text-align: right;\n",
       "    }\n",
       "</style>\n",
       "<table border=\"1\" class=\"dataframe\">\n",
       "  <thead>\n",
       "    <tr style=\"text-align: right;\">\n",
       "      <th></th>\n",
       "      <th>city</th>\n",
       "      <th>monday</th>\n",
       "      <th>wednesday</th>\n",
       "      <th>friday</th>\n",
       "    </tr>\n",
       "  </thead>\n",
       "  <tbody>\n",
       "    <tr>\n",
       "      <th>0</th>\n",
       "      <td>Москва</td>\n",
       "      <td>15740</td>\n",
       "      <td>11056</td>\n",
       "      <td>15945</td>\n",
       "    </tr>\n",
       "    <tr>\n",
       "      <th>1</th>\n",
       "      <td>Санкт-Петербург</td>\n",
       "      <td>5614</td>\n",
       "      <td>7003</td>\n",
       "      <td>5895</td>\n",
       "    </tr>\n",
       "  </tbody>\n",
       "</table>\n",
       "</div>"
      ],
      "text/plain": [
       "              city  monday  wednesday  friday\n",
       "0           Москва   15740      11056   15945\n",
       "1  Санкт-Петербург    5614       7003    5895"
      ]
     },
     "execution_count": 27,
     "metadata": {},
     "output_type": "execute_result"
    }
   ],
   "source": [
    "# создание таблицы с результатами\n",
    "# вывод таблицы на экран\n",
    "columns = ['city', 'monday', 'wednesday', 'friday']\n",
    "\n",
    "\n",
    "info = pd.DataFrame(data=[['Москва', 15740, 11056, 15945], ['Санкт-Петербург', 5614, 7003, 5895]], columns=columns)\n",
    "\n",
    "info"
   ]
  },
  {
   "cell_type": "markdown",
   "metadata": {
    "deletable": false,
    "editable": false,
    "id": "-EgPIHYu_Zcu"
   },
   "source": [
    "**Выводы**\n",
    "\n",
    "Данные показывают разницу поведения пользователей:\n",
    "\n",
    "- В Москве пик прослушиваний приходится на понедельник и пятницу, а в среду заметен спад.\n",
    "- В Петербурге, наоборот, больше слушают музыку по средам. Активность в понедельник и пятницу здесь почти в равной мере уступает среде.\n",
    "\n",
    "Значит, данные говорят в пользу первой гипотезы."
   ]
  },
  {
   "cell_type": "markdown",
   "metadata": {
    "deletable": false,
    "editable": false,
    "id": "atZAxtq4_Zcu"
   },
   "source": [
    "### Музыка в начале и в конце недели"
   ]
  },
  {
   "cell_type": "markdown",
   "metadata": {
    "deletable": false,
    "editable": false,
    "id": "eXrQqXFH_Zcu"
   },
   "source": [
    "Согласно второй гипотезе, утром в понедельник в Москве преобладают одни жанры, а в Петербурге — другие. Так же и вечером пятницы преобладают разные жанры — в зависимости от города."
   ]
  },
  {
   "cell_type": "markdown",
   "metadata": {
    "deletable": false,
    "editable": false,
    "id": "S8UcW6Hw_Zcu",
    "tags": [
     "start_task"
    ]
   },
   "source": [
    "**Задание 23**"
   ]
  },
  {
   "cell_type": "code",
   "execution_count": 28,
   "metadata": {
    "deletable": false,
    "id": "qeaFfM_P_Zcu"
   },
   "outputs": [],
   "source": [
    "# получение таблицы moscow_general из тех строк таблицы df, для которых значение в столбце 'city' равно 'Moscow'\n",
    "\n",
    "moscow_general = df[df['city'] == 'Moscow']\n",
    "\n"
   ]
  },
  {
   "cell_type": "code",
   "execution_count": 29,
   "metadata": {
    "deletable": false,
    "id": "ORaVRKto_Zcu"
   },
   "outputs": [],
   "source": [
    "# получение таблицы spb_general из тех строк таблицы df, для которых значение в столбце 'city' равно 'Saint-Petersburg'\n",
    "\n",
    "spb_general = df[df['city'] == 'Saint-Petersburg']\n"
   ]
  },
  {
   "cell_type": "markdown",
   "metadata": {
    "deletable": false,
    "editable": false,
    "id": "MEJV-CX2_Zcu",
    "tags": [
     "start_task"
    ]
   },
   "source": [
    "**Задание 24**"
   ]
  },
  {
   "cell_type": "code",
   "execution_count": 30,
   "metadata": {
    "deletable": false,
    "id": "laJT9BYl_Zcu"
   },
   "outputs": [],
   "source": [
    "def genre_weekday(df, day, time1, time2):\n",
    "    # последовательная фильтрация\n",
    "    # оставляем в genre_df только те строки df, у которых день равен day\n",
    "    genre_df = df[df['day'] == day] # ваш код здесь\n",
    "    # оставляем в genre_df только те строки genre_df, у которых время меньше time2\n",
    "    genre_df = genre_df[genre_df['time'] < time2] # ваш код здесь\n",
    "    # оставляем в genre_df только те строки genre_df, у которых время больше time1\n",
    "    genre_df = genre_df[genre_df['time'] > time1] # ваш код здесь\n",
    "    # сгруппируем отфильтрованный датафрейм по столбцу с названиями жанров, возьмём столбец genre и посчитаем кол-во строк для каждого жанра методом count()\n",
    "    genre_df_grouped = genre_df.groupby('genre')['genre'].count() # ваш код здесь\n",
    "    # отсортируем результат по убыванию (чтобы в начале Series оказались самые популярные жанры)\n",
    "    genre_df_sorted = genre_df_grouped.sort_values(ascending=False) # ваш код здесь\n",
    "    # вернём Series с 10 самыми популярными жанрами в указанный отрезок времени заданного дня\n",
    "    return genre_df_sorted[:10]\n"
   ]
  },
  {
   "cell_type": "markdown",
   "metadata": {
    "deletable": false,
    "editable": false,
    "id": "la2s2_PF_Zcu",
    "tags": [
     "start_task"
    ]
   },
   "source": [
    "**Задание 25**"
   ]
  },
  {
   "cell_type": "code",
   "execution_count": 31,
   "metadata": {
    "deletable": false,
    "id": "yz7itPUQ_Zcu"
   },
   "outputs": [
    {
     "data": {
      "text/plain": [
       "genre\n",
       "pop            781\n",
       "dance          549\n",
       "electronic     480\n",
       "rock           474\n",
       "hiphop         286\n",
       "ruspop         186\n",
       "world          181\n",
       "rusrap         175\n",
       "alternative    164\n",
       "unknown        161\n",
       "Name: genre, dtype: int64"
      ]
     },
     "execution_count": 31,
     "metadata": {},
     "output_type": "execute_result"
    }
   ],
   "source": [
    "# вызов функции для утра понедельника в Москве (вместо df — таблица moscow_general)\n",
    "\n",
    "genre_weekday(moscow_general, 'Monday', '07:00', '11:00')"
   ]
  },
  {
   "cell_type": "code",
   "execution_count": 32,
   "metadata": {
    "deletable": false,
    "id": "kwUcHPdy_Zcu"
   },
   "outputs": [
    {
     "data": {
      "text/plain": [
       "genre\n",
       "pop            218\n",
       "dance          182\n",
       "rock           162\n",
       "electronic     147\n",
       "hiphop          80\n",
       "ruspop          64\n",
       "alternative     58\n",
       "rusrap          55\n",
       "jazz            44\n",
       "classical       40\n",
       "Name: genre, dtype: int64"
      ]
     },
     "execution_count": 32,
     "metadata": {},
     "output_type": "execute_result"
    }
   ],
   "source": [
    "# вызов функции для утра понедельника в Петербурге (вместо df — таблица spb_general)\n",
    "\n",
    "genre_weekday(spb_general, 'Monday', '07:00', '11:00')"
   ]
  },
  {
   "cell_type": "code",
   "execution_count": 33,
   "metadata": {
    "deletable": false,
    "id": "EzXVRE1o_Zcu"
   },
   "outputs": [
    {
     "data": {
      "text/plain": [
       "genre\n",
       "pop            713\n",
       "rock           517\n",
       "dance          495\n",
       "electronic     482\n",
       "hiphop         273\n",
       "world          208\n",
       "ruspop         170\n",
       "alternative    163\n",
       "classical      163\n",
       "rusrap         142\n",
       "Name: genre, dtype: int64"
      ]
     },
     "execution_count": 33,
     "metadata": {},
     "output_type": "execute_result"
    }
   ],
   "source": [
    "# вызов функции для вечера пятницы в Москве\n",
    "\n",
    "genre_weekday(moscow_general, 'Friday', '17:00', '23:00')"
   ]
  },
  {
   "cell_type": "code",
   "execution_count": 34,
   "metadata": {
    "deletable": false,
    "id": "JZaEKu5v_Zcu"
   },
   "outputs": [
    {
     "data": {
      "text/plain": [
       "genre\n",
       "pop            256\n",
       "electronic     216\n",
       "rock           216\n",
       "dance          210\n",
       "hiphop          97\n",
       "alternative     63\n",
       "jazz            61\n",
       "classical       60\n",
       "rusrap          59\n",
       "world           54\n",
       "Name: genre, dtype: int64"
      ]
     },
     "execution_count": 34,
     "metadata": {},
     "output_type": "execute_result"
    }
   ],
   "source": [
    "# вызов функции для вечера пятницы в Петербурге\n",
    "\n",
    "genre_weekday(spb_general, 'Friday', '17:00', '23:00')"
   ]
  },
  {
   "cell_type": "markdown",
   "metadata": {
    "deletable": false,
    "editable": false,
    "id": "wrCe4MNX_Zcu"
   },
   "source": [
    "**Выводы**\n",
    "\n",
    "Если сравнить топ-10 жанров в понедельник утром, можно сделать такие выводы:\n",
    "\n",
    "1. В Москве и Петербурге слушают похожую музыку. Единственное различие — в московский рейтинг вошёл жанр “world”, а в петербургский — джаз и классика.\n",
    "\n",
    "2. В Москве пропущенных значений оказалось так много, что значение `'unknown'` заняло десятое место среди самых популярных жанров. Значит, пропущенные значения занимают существенную долю в данных и угрожают достоверности исследования.\n",
    "\n",
    "Вечер пятницы не меняет эту картину. Некоторые жанры поднимаются немного выше, другие спускаются, но в целом топ-10 остаётся тем же самым.\n",
    "\n",
    "Таким образом, вторая гипотеза подтвердилась лишь частично:\n",
    "* Пользователи слушают похожую музыку в начале недели и в конце.\n",
    "* Разница между Москвой и Петербургом не слишком выражена. В Москве чаще слушают русскую популярную музыку, в Петербурге — джаз.\n",
    "\n",
    "Однако пропуски в данных ставят под сомнение этот результат. В Москве их так много, что рейтинг топ-10 мог бы выглядеть иначе, если бы не утерянные  данные о жанрах."
   ]
  },
  {
   "cell_type": "markdown",
   "metadata": {
    "deletable": false,
    "editable": false,
    "id": "JolODAqr_Zcu"
   },
   "source": [
    "### Жанровые предпочтения в Москве и Петербурге\n",
    "\n",
    "Гипотеза: Петербург — столица рэпа, музыку этого жанра там слушают чаще, чем в Москве.  А Москва — город контрастов, в котором, тем не менее, преобладает поп-музыка."
   ]
  },
  {
   "cell_type": "markdown",
   "metadata": {
    "deletable": false,
    "editable": false,
    "id": "DlegSvaT_Zcu",
    "tags": [
     "start_task"
    ]
   },
   "source": [
    "**Задание 26**"
   ]
  },
  {
   "cell_type": "code",
   "execution_count": 35,
   "metadata": {
    "deletable": false,
    "id": "r19lIPke_Zcu"
   },
   "outputs": [],
   "source": [
    "# одной строкой: группировка таблицы moscow_general по столбцу 'genre', выбор столбца `genre`, подсчёт числа значений 'genre' методом count(), сохранение в moscow_genres\n",
    "# сортировка получившегося Series в порядке убывания и сохранение обратно в moscow_genres\n",
    "\n",
    "moscow_genres = moscow_general.groupby('genre')['genre'].count().sort_values(ascending=False)\n"
   ]
  },
  {
   "cell_type": "markdown",
   "metadata": {
    "deletable": false,
    "editable": false,
    "id": "6kMuomxTiIr8",
    "tags": [
     "start_task"
    ]
   },
   "source": [
    "**Задание 27**"
   ]
  },
  {
   "cell_type": "code",
   "execution_count": 36,
   "metadata": {
    "deletable": false,
    "id": "WhCSooF8_Zcv"
   },
   "outputs": [
    {
     "data": {
      "text/plain": [
       "genre\n",
       "pop            5892\n",
       "dance          4435\n",
       "rock           3965\n",
       "electronic     3786\n",
       "hiphop         2096\n",
       "classical      1616\n",
       "world          1432\n",
       "alternative    1379\n",
       "ruspop         1372\n",
       "rusrap         1161\n",
       "Name: genre, dtype: int64"
      ]
     },
     "execution_count": 36,
     "metadata": {},
     "output_type": "execute_result"
    }
   ],
   "source": [
    "# просмотр первых 10 строк moscow_genres\n",
    "moscow_genres.head(10)"
   ]
  },
  {
   "cell_type": "markdown",
   "metadata": {
    "deletable": false,
    "editable": false,
    "id": "cnPG2vnN_Zcv",
    "tags": [
     "start_task"
    ]
   },
   "source": [
    "**Задание 28**"
   ]
  },
  {
   "cell_type": "code",
   "execution_count": 37,
   "metadata": {
    "deletable": false,
    "id": "gluLIpE7_Zcv"
   },
   "outputs": [],
   "source": [
    "# одной строкой: группировка таблицы spb_general по столбцу 'genre', выбор столбца `genre`, подсчёт числа значений 'genre' методом count(), сохранение в spb_genres\n",
    "# сортировка получившегося Series в порядке убывания и сохранение обратно в spb_genres\n",
    "\n",
    "spb_genres = spb_general.groupby('genre')['genre'].count().sort_values(ascending=False)"
   ]
  },
  {
   "cell_type": "markdown",
   "metadata": {
    "deletable": false,
    "editable": false,
    "id": "5Doha_ODgyQ8",
    "tags": [
     "start_task"
    ]
   },
   "source": [
    "**Задание 29**"
   ]
  },
  {
   "cell_type": "code",
   "execution_count": 38,
   "metadata": {
    "deletable": false,
    "id": "uaGJHjVU_Zcv"
   },
   "outputs": [
    {
     "data": {
      "text/plain": [
       "genre\n",
       "pop            2431\n",
       "dance          1932\n",
       "rock           1879\n",
       "electronic     1736\n",
       "hiphop          960\n",
       "alternative     649\n",
       "classical       646\n",
       "rusrap          564\n",
       "ruspop          538\n",
       "world           515\n",
       "Name: genre, dtype: int64"
      ]
     },
     "execution_count": 38,
     "metadata": {},
     "output_type": "execute_result"
    }
   ],
   "source": [
    "# просмотр первых 10 строк spb_genres\n",
    "\n",
    "spb_genres.head(10)"
   ]
  },
  {
   "cell_type": "markdown",
   "metadata": {
    "deletable": false,
    "editable": false,
    "id": "RY51YJYu_Zcv"
   },
   "source": [
    "**Выводы**"
   ]
  },
  {
   "cell_type": "markdown",
   "metadata": {
    "deletable": false,
    "editable": false,
    "id": "nVhnJEm__Zcv"
   },
   "source": [
    "Гипотеза частично подтвердилась:\n",
    "* Поп-музыка — самый популярный жанр в Москве, как и предполагала гипотеза. Более того, в топ-10 жанров встречается близкий жанр — русская популярная музыка.\n",
    "* Вопреки ожиданиям, рэп одинаково популярен в Москве и Петербурге.\n"
   ]
  },
  {
   "cell_type": "markdown",
   "metadata": {
    "deletable": false,
    "editable": false,
    "id": "ykKQ0N65_Zcv"
   },
   "source": [
    "## Итоги исследования"
   ]
  },
  {
   "cell_type": "markdown",
   "metadata": {
    "deletable": false,
    "editable": false,
    "id": "tjUwbHb3_Zcv"
   },
   "source": [
    "Вы проверили три гипотезы и установили:\n",
    "\n",
    "1. День недели по-разному влияет на активность пользователей в Москве и Петербурге.\n",
    "\n",
    "Первая гипотеза полностью подтвердилась.\n",
    "\n",
    "2. Музыкальные предпочтения не сильно меняются в течение недели — будь то Москва или Петербург. Небольшие различия заметны в начале недели, по понедельникам:\n",
    "* в Москве слушают музыку жанра “world”,\n",
    "* в Петербурге — джаз и классику.\n",
    "\n",
    "Таким образом, вторая гипотеза подтвердилась лишь отчасти. Этот результат мог оказаться иным, если бы не пропуски в данных.\n",
    "\n",
    "3. Во вкусах пользователей Москвы и Петербурга больше общего, чем различий. Вопреки ожиданиям, предпочтения жанров в Петербурге напоминают московские.\n",
    "\n",
    "Третья гипотеза не подтвердилась. Если различия в предпочтениях и существуют, на основной массе пользователей они незаметны.\n",
    "\n",
    "**На практике исследования содержат проверки статистических гипотез.**\n",
    "Из части данных одного сервиса невозможно сделать какие-то выводы о всех пользователях сервиса без методов статистики.\n",
    "Проверки статистических гипотез покажут, насколько они достоверны, исходя из имеющихся данных.\n",
    "С методами проверок гипотез вы ещё познакомитесь в следующих темах."
   ]
  }
 ],
 "metadata": {
  "ExecuteTimeLog": [
   {
    "duration": 387,
    "start_time": "2024-08-12T11:19:03.294Z"
   },
   {
    "duration": 3,
    "start_time": "2024-08-12T11:27:11.236Z"
   },
   {
    "duration": 205,
    "start_time": "2024-08-12T11:27:15.232Z"
   },
   {
    "duration": 200,
    "start_time": "2024-08-12T11:27:22.138Z"
   },
   {
    "duration": 198,
    "start_time": "2024-08-12T11:27:25.003Z"
   },
   {
    "duration": 12,
    "start_time": "2024-08-12T11:27:29.149Z"
   },
   {
    "duration": 43,
    "start_time": "2024-08-12T11:27:37.631Z"
   },
   {
    "duration": 34,
    "start_time": "2024-08-12T11:27:39.997Z"
   },
   {
    "duration": 33,
    "start_time": "2024-08-12T11:27:44.906Z"
   },
   {
    "duration": 33,
    "start_time": "2024-08-12T11:28:04.965Z"
   },
   {
    "duration": 35,
    "start_time": "2024-08-12T11:28:16.055Z"
   },
   {
    "duration": 11,
    "start_time": "2024-08-12T11:28:29.360Z"
   },
   {
    "duration": 31,
    "start_time": "2024-08-12T11:36:50.630Z"
   },
   {
    "duration": 18,
    "start_time": "2024-08-12T11:37:12.734Z"
   },
   {
    "duration": 24,
    "start_time": "2024-08-12T11:37:25.116Z"
   },
   {
    "duration": 19,
    "start_time": "2024-08-12T11:37:29.411Z"
   },
   {
    "duration": 18,
    "start_time": "2024-08-12T11:37:47.798Z"
   },
   {
    "duration": 17,
    "start_time": "2024-08-12T11:38:32.692Z"
   },
   {
    "duration": 20,
    "start_time": "2024-08-12T11:38:40.443Z"
   },
   {
    "duration": 18,
    "start_time": "2024-08-12T11:38:45.561Z"
   },
   {
    "duration": 19,
    "start_time": "2024-08-12T11:38:49.319Z"
   },
   {
    "duration": 27,
    "start_time": "2024-08-12T11:38:57.574Z"
   },
   {
    "duration": 17,
    "start_time": "2024-08-12T11:39:08.473Z"
   },
   {
    "duration": 23,
    "start_time": "2024-08-12T11:39:14.381Z"
   },
   {
    "duration": 16,
    "start_time": "2024-08-12T11:39:25.789Z"
   },
   {
    "duration": 18,
    "start_time": "2024-08-12T11:39:31.931Z"
   },
   {
    "duration": 11,
    "start_time": "2024-08-12T11:40:20.495Z"
   },
   {
    "duration": 16,
    "start_time": "2024-08-12T11:40:39.395Z"
   },
   {
    "duration": 21,
    "start_time": "2024-08-12T11:40:48.923Z"
   },
   {
    "duration": 23,
    "start_time": "2024-08-12T11:40:54.669Z"
   },
   {
    "duration": 4,
    "start_time": "2024-08-12T11:44:14.691Z"
   },
   {
    "duration": 23,
    "start_time": "2024-08-12T11:44:39.758Z"
   },
   {
    "duration": 4,
    "start_time": "2024-08-12T11:45:00.912Z"
   },
   {
    "duration": 4,
    "start_time": "2024-08-12T11:46:14.140Z"
   },
   {
    "duration": 4,
    "start_time": "2024-08-12T11:46:17.321Z"
   },
   {
    "duration": 3,
    "start_time": "2024-08-12T11:46:22.724Z"
   },
   {
    "duration": 4,
    "start_time": "2024-08-12T11:46:28.211Z"
   },
   {
    "duration": 2,
    "start_time": "2024-08-12T11:46:36.935Z"
   },
   {
    "duration": 4,
    "start_time": "2024-08-12T11:46:42.717Z"
   },
   {
    "duration": 2,
    "start_time": "2024-08-12T11:47:12.016Z"
   },
   {
    "duration": 2,
    "start_time": "2024-08-12T11:47:42.990Z"
   },
   {
    "duration": 424,
    "start_time": "2024-08-12T11:47:55.878Z"
   },
   {
    "duration": 198,
    "start_time": "2024-08-12T11:47:56.304Z"
   },
   {
    "duration": 19,
    "start_time": "2024-08-12T11:47:56.504Z"
   },
   {
    "duration": 47,
    "start_time": "2024-08-12T11:47:56.526Z"
   },
   {
    "duration": 3,
    "start_time": "2024-08-12T11:47:56.575Z"
   },
   {
    "duration": 23,
    "start_time": "2024-08-12T11:47:56.580Z"
   },
   {
    "duration": 17,
    "start_time": "2024-08-12T11:47:56.605Z"
   },
   {
    "duration": 28,
    "start_time": "2024-08-12T11:47:56.623Z"
   },
   {
    "duration": 10,
    "start_time": "2024-08-12T11:47:56.653Z"
   },
   {
    "duration": 11,
    "start_time": "2024-08-12T11:47:56.667Z"
   },
   {
    "duration": 6,
    "start_time": "2024-08-12T11:47:56.680Z"
   },
   {
    "duration": 29,
    "start_time": "2024-08-12T11:47:56.688Z"
   },
   {
    "duration": 7,
    "start_time": "2024-08-12T11:47:56.718Z"
   },
   {
    "duration": 29,
    "start_time": "2024-08-12T11:47:56.726Z"
   },
   {
    "duration": 8,
    "start_time": "2024-08-12T11:47:56.757Z"
   },
   {
    "duration": 3,
    "start_time": "2024-08-12T11:47:56.767Z"
   },
   {
    "duration": 3,
    "start_time": "2024-08-12T11:47:56.772Z"
   },
   {
    "duration": 10,
    "start_time": "2024-08-12T11:47:56.776Z"
   },
   {
    "duration": 13,
    "start_time": "2024-08-12T11:47:56.788Z"
   },
   {
    "duration": 65,
    "start_time": "2024-08-12T11:47:56.803Z"
   },
   {
    "duration": 0,
    "start_time": "2024-08-12T11:47:56.870Z"
   },
   {
    "duration": 0,
    "start_time": "2024-08-12T11:47:56.871Z"
   },
   {
    "duration": 0,
    "start_time": "2024-08-12T11:47:56.873Z"
   },
   {
    "duration": 0,
    "start_time": "2024-08-12T11:47:56.874Z"
   },
   {
    "duration": 0,
    "start_time": "2024-08-12T11:47:56.875Z"
   },
   {
    "duration": 0,
    "start_time": "2024-08-12T11:47:56.877Z"
   },
   {
    "duration": 0,
    "start_time": "2024-08-12T11:47:56.878Z"
   },
   {
    "duration": 0,
    "start_time": "2024-08-12T11:47:56.879Z"
   },
   {
    "duration": 0,
    "start_time": "2024-08-12T11:47:56.880Z"
   },
   {
    "duration": 0,
    "start_time": "2024-08-12T11:47:56.881Z"
   },
   {
    "duration": 0,
    "start_time": "2024-08-12T11:47:56.882Z"
   },
   {
    "duration": 0,
    "start_time": "2024-08-12T11:47:56.884Z"
   },
   {
    "duration": 0,
    "start_time": "2024-08-12T11:47:56.886Z"
   },
   {
    "duration": 0,
    "start_time": "2024-08-12T11:47:56.887Z"
   },
   {
    "duration": 0,
    "start_time": "2024-08-12T11:47:56.889Z"
   },
   {
    "duration": 0,
    "start_time": "2024-08-12T11:47:56.890Z"
   },
   {
    "duration": 0,
    "start_time": "2024-08-12T11:47:56.891Z"
   },
   {
    "duration": 0,
    "start_time": "2024-08-12T11:47:56.892Z"
   },
   {
    "duration": 3,
    "start_time": "2024-08-12T11:48:04.116Z"
   },
   {
    "duration": 5,
    "start_time": "2024-08-12T11:48:07.537Z"
   },
   {
    "duration": 12,
    "start_time": "2024-08-12T11:48:57.610Z"
   },
   {
    "duration": 4,
    "start_time": "2024-08-12T11:49:25.952Z"
   },
   {
    "duration": 30,
    "start_time": "2024-08-12T11:50:24.631Z"
   },
   {
    "duration": 29,
    "start_time": "2024-08-12T12:01:28.196Z"
   },
   {
    "duration": 24,
    "start_time": "2024-08-12T12:02:33.184Z"
   },
   {
    "duration": 31,
    "start_time": "2024-08-12T12:02:37.770Z"
   },
   {
    "duration": 52,
    "start_time": "2024-08-12T12:02:47.185Z"
   },
   {
    "duration": 37,
    "start_time": "2024-08-12T12:02:59.097Z"
   },
   {
    "duration": 23,
    "start_time": "2024-08-12T12:03:06.257Z"
   },
   {
    "duration": 30,
    "start_time": "2024-08-12T12:03:09.572Z"
   },
   {
    "duration": 76,
    "start_time": "2024-08-12T12:05:32.271Z"
   },
   {
    "duration": 89,
    "start_time": "2024-08-12T12:07:11.798Z"
   },
   {
    "duration": 68,
    "start_time": "2024-08-12T12:07:41.418Z"
   },
   {
    "duration": 71,
    "start_time": "2024-08-12T12:14:21.611Z"
   },
   {
    "duration": 3,
    "start_time": "2024-08-12T12:15:04.121Z"
   },
   {
    "duration": 6,
    "start_time": "2024-08-12T12:15:11.991Z"
   },
   {
    "duration": 7,
    "start_time": "2024-08-12T12:15:29.733Z"
   },
   {
    "duration": 9,
    "start_time": "2024-08-12T12:15:36.427Z"
   },
   {
    "duration": 11,
    "start_time": "2024-08-12T12:17:51.883Z"
   },
   {
    "duration": 11,
    "start_time": "2024-08-12T12:18:01.132Z"
   },
   {
    "duration": 10,
    "start_time": "2024-08-12T12:18:38.985Z"
   },
   {
    "duration": 11,
    "start_time": "2024-08-12T12:18:43.951Z"
   },
   {
    "duration": 10,
    "start_time": "2024-08-12T12:19:26.080Z"
   },
   {
    "duration": 11,
    "start_time": "2024-08-12T12:19:41.885Z"
   },
   {
    "duration": 11,
    "start_time": "2024-08-12T12:19:50.643Z"
   },
   {
    "duration": 11,
    "start_time": "2024-08-12T12:19:56.644Z"
   },
   {
    "duration": 7,
    "start_time": "2024-08-12T12:20:05.523Z"
   },
   {
    "duration": 10,
    "start_time": "2024-08-12T12:20:11.164Z"
   },
   {
    "duration": 46,
    "start_time": "2024-08-12T12:21:35.063Z"
   },
   {
    "duration": 65,
    "start_time": "2024-08-12T12:21:47.700Z"
   },
   {
    "duration": 7,
    "start_time": "2024-08-12T12:21:55.690Z"
   },
   {
    "duration": 10,
    "start_time": "2024-08-12T12:22:02.725Z"
   },
   {
    "duration": 8,
    "start_time": "2024-08-12T12:22:07.757Z"
   },
   {
    "duration": 77,
    "start_time": "2024-08-12T12:22:40.749Z"
   },
   {
    "duration": 47,
    "start_time": "2024-08-12T12:22:49.852Z"
   },
   {
    "duration": 46,
    "start_time": "2024-08-12T12:23:02.903Z"
   },
   {
    "duration": 4,
    "start_time": "2024-08-12T12:36:40.123Z"
   },
   {
    "duration": 424,
    "start_time": "2024-08-12T12:37:06.570Z"
   },
   {
    "duration": 205,
    "start_time": "2024-08-12T12:37:06.996Z"
   },
   {
    "duration": 31,
    "start_time": "2024-08-12T12:37:07.203Z"
   },
   {
    "duration": 67,
    "start_time": "2024-08-12T12:37:07.237Z"
   },
   {
    "duration": 9,
    "start_time": "2024-08-12T12:37:07.306Z"
   },
   {
    "duration": 39,
    "start_time": "2024-08-12T12:37:07.317Z"
   },
   {
    "duration": 36,
    "start_time": "2024-08-12T12:37:07.358Z"
   },
   {
    "duration": 66,
    "start_time": "2024-08-12T12:37:07.395Z"
   },
   {
    "duration": 90,
    "start_time": "2024-08-12T12:37:07.464Z"
   },
   {
    "duration": 52,
    "start_time": "2024-08-12T12:37:07.558Z"
   },
   {
    "duration": 47,
    "start_time": "2024-08-12T12:37:07.612Z"
   },
   {
    "duration": 93,
    "start_time": "2024-08-12T12:37:07.661Z"
   },
   {
    "duration": 86,
    "start_time": "2024-08-12T12:37:07.755Z"
   },
   {
    "duration": 78,
    "start_time": "2024-08-12T12:37:07.842Z"
   },
   {
    "duration": 60,
    "start_time": "2024-08-12T12:37:07.922Z"
   },
   {
    "duration": 56,
    "start_time": "2024-08-12T12:37:07.984Z"
   },
   {
    "duration": 11,
    "start_time": "2024-08-12T12:37:08.041Z"
   },
   {
    "duration": 31,
    "start_time": "2024-08-12T12:37:08.053Z"
   },
   {
    "duration": 23,
    "start_time": "2024-08-12T12:37:08.086Z"
   },
   {
    "duration": 56,
    "start_time": "2024-08-12T12:37:08.110Z"
   },
   {
    "duration": 0,
    "start_time": "2024-08-12T12:37:08.168Z"
   },
   {
    "duration": 0,
    "start_time": "2024-08-12T12:37:08.169Z"
   },
   {
    "duration": 0,
    "start_time": "2024-08-12T12:37:08.170Z"
   },
   {
    "duration": 0,
    "start_time": "2024-08-12T12:37:08.171Z"
   },
   {
    "duration": 0,
    "start_time": "2024-08-12T12:37:08.172Z"
   },
   {
    "duration": 0,
    "start_time": "2024-08-12T12:37:08.173Z"
   },
   {
    "duration": 0,
    "start_time": "2024-08-12T12:37:08.174Z"
   },
   {
    "duration": 0,
    "start_time": "2024-08-12T12:37:08.175Z"
   },
   {
    "duration": 0,
    "start_time": "2024-08-12T12:37:08.177Z"
   },
   {
    "duration": 0,
    "start_time": "2024-08-12T12:37:08.178Z"
   },
   {
    "duration": 0,
    "start_time": "2024-08-12T12:37:08.179Z"
   },
   {
    "duration": 0,
    "start_time": "2024-08-12T12:37:08.180Z"
   },
   {
    "duration": 0,
    "start_time": "2024-08-12T12:37:08.181Z"
   },
   {
    "duration": 0,
    "start_time": "2024-08-12T12:37:08.182Z"
   },
   {
    "duration": 0,
    "start_time": "2024-08-12T12:37:08.183Z"
   },
   {
    "duration": 0,
    "start_time": "2024-08-12T12:37:08.184Z"
   },
   {
    "duration": 0,
    "start_time": "2024-08-12T12:37:08.185Z"
   },
   {
    "duration": 0,
    "start_time": "2024-08-12T12:37:08.187Z"
   },
   {
    "duration": 4,
    "start_time": "2024-08-12T12:37:18.435Z"
   },
   {
    "duration": 66,
    "start_time": "2024-08-12T12:38:11.742Z"
   },
   {
    "duration": 12,
    "start_time": "2024-08-12T12:38:56.312Z"
   },
   {
    "duration": 21,
    "start_time": "2024-08-12T12:39:13.838Z"
   },
   {
    "duration": 16,
    "start_time": "2024-08-12T12:39:37.608Z"
   },
   {
    "duration": 11,
    "start_time": "2024-08-12T12:40:05.679Z"
   },
   {
    "duration": 8,
    "start_time": "2024-08-12T12:40:15.427Z"
   },
   {
    "duration": 9,
    "start_time": "2024-08-12T12:40:31.146Z"
   },
   {
    "duration": 45,
    "start_time": "2024-08-12T12:41:15.198Z"
   },
   {
    "duration": 47,
    "start_time": "2024-08-12T12:42:04.329Z"
   },
   {
    "duration": 11,
    "start_time": "2024-08-12T12:42:30.993Z"
   },
   {
    "duration": 46,
    "start_time": "2024-08-12T12:42:36.182Z"
   },
   {
    "duration": 52,
    "start_time": "2024-08-12T12:42:45.978Z"
   },
   {
    "duration": 5,
    "start_time": "2024-08-12T12:43:21.979Z"
   },
   {
    "duration": 63,
    "start_time": "2024-08-12T12:44:29.697Z"
   },
   {
    "duration": 55,
    "start_time": "2024-08-12T12:46:21.453Z"
   },
   {
    "duration": 5,
    "start_time": "2024-08-12T12:46:50.335Z"
   },
   {
    "duration": 45,
    "start_time": "2024-08-12T12:47:06.348Z"
   },
   {
    "duration": 431,
    "start_time": "2024-08-12T12:47:10.248Z"
   },
   {
    "duration": 186,
    "start_time": "2024-08-12T12:47:10.681Z"
   },
   {
    "duration": 19,
    "start_time": "2024-08-12T12:47:10.869Z"
   },
   {
    "duration": 34,
    "start_time": "2024-08-12T12:47:10.890Z"
   },
   {
    "duration": 3,
    "start_time": "2024-08-12T12:47:10.926Z"
   },
   {
    "duration": 27,
    "start_time": "2024-08-12T12:47:10.931Z"
   },
   {
    "duration": 15,
    "start_time": "2024-08-12T12:47:10.959Z"
   },
   {
    "duration": 11,
    "start_time": "2024-08-12T12:47:10.976Z"
   },
   {
    "duration": 34,
    "start_time": "2024-08-12T12:47:10.989Z"
   },
   {
    "duration": 30,
    "start_time": "2024-08-12T12:47:11.026Z"
   },
   {
    "duration": 30,
    "start_time": "2024-08-12T12:47:11.058Z"
   },
   {
    "duration": 96,
    "start_time": "2024-08-12T12:47:11.089Z"
   },
   {
    "duration": 96,
    "start_time": "2024-08-12T12:47:11.187Z"
   },
   {
    "duration": 87,
    "start_time": "2024-08-12T12:47:11.285Z"
   },
   {
    "duration": 48,
    "start_time": "2024-08-12T12:47:11.374Z"
   },
   {
    "duration": 31,
    "start_time": "2024-08-12T12:47:11.424Z"
   },
   {
    "duration": 82,
    "start_time": "2024-08-12T12:47:11.457Z"
   },
   {
    "duration": 2,
    "start_time": "2024-08-12T12:47:11.541Z"
   },
   {
    "duration": 4,
    "start_time": "2024-08-12T12:47:11.544Z"
   },
   {
    "duration": 69,
    "start_time": "2024-08-12T12:47:11.550Z"
   },
   {
    "duration": 0,
    "start_time": "2024-08-12T12:47:11.621Z"
   },
   {
    "duration": 0,
    "start_time": "2024-08-12T12:47:11.622Z"
   },
   {
    "duration": 0,
    "start_time": "2024-08-12T12:47:11.623Z"
   },
   {
    "duration": 0,
    "start_time": "2024-08-12T12:47:11.624Z"
   },
   {
    "duration": 0,
    "start_time": "2024-08-12T12:47:11.625Z"
   },
   {
    "duration": 0,
    "start_time": "2024-08-12T12:47:11.626Z"
   },
   {
    "duration": 0,
    "start_time": "2024-08-12T12:47:11.627Z"
   },
   {
    "duration": 0,
    "start_time": "2024-08-12T12:47:11.629Z"
   },
   {
    "duration": 0,
    "start_time": "2024-08-12T12:47:11.629Z"
   },
   {
    "duration": 0,
    "start_time": "2024-08-12T12:47:11.630Z"
   },
   {
    "duration": 0,
    "start_time": "2024-08-12T12:47:11.631Z"
   },
   {
    "duration": 0,
    "start_time": "2024-08-12T12:47:11.632Z"
   },
   {
    "duration": 0,
    "start_time": "2024-08-12T12:47:11.633Z"
   },
   {
    "duration": 0,
    "start_time": "2024-08-12T12:47:11.634Z"
   },
   {
    "duration": 0,
    "start_time": "2024-08-12T12:47:11.635Z"
   },
   {
    "duration": 0,
    "start_time": "2024-08-12T12:47:11.636Z"
   },
   {
    "duration": 0,
    "start_time": "2024-08-12T12:47:11.637Z"
   },
   {
    "duration": 0,
    "start_time": "2024-08-12T12:47:11.638Z"
   },
   {
    "duration": 46,
    "start_time": "2024-08-12T12:47:43.777Z"
   },
   {
    "duration": 13,
    "start_time": "2024-08-12T12:47:50.875Z"
   },
   {
    "duration": 13,
    "start_time": "2024-08-12T12:47:56.796Z"
   },
   {
    "duration": 14,
    "start_time": "2024-08-12T12:48:30.705Z"
   },
   {
    "duration": 427,
    "start_time": "2024-08-12T12:48:37.419Z"
   },
   {
    "duration": 194,
    "start_time": "2024-08-12T12:48:37.847Z"
   },
   {
    "duration": 24,
    "start_time": "2024-08-12T12:48:38.042Z"
   },
   {
    "duration": 44,
    "start_time": "2024-08-12T12:48:38.069Z"
   },
   {
    "duration": 3,
    "start_time": "2024-08-12T12:48:38.115Z"
   },
   {
    "duration": 11,
    "start_time": "2024-08-12T12:48:38.120Z"
   },
   {
    "duration": 28,
    "start_time": "2024-08-12T12:48:38.132Z"
   },
   {
    "duration": 23,
    "start_time": "2024-08-12T12:48:38.161Z"
   },
   {
    "duration": 38,
    "start_time": "2024-08-12T12:48:38.185Z"
   },
   {
    "duration": 22,
    "start_time": "2024-08-12T12:48:38.226Z"
   },
   {
    "duration": 43,
    "start_time": "2024-08-12T12:48:38.249Z"
   },
   {
    "duration": 87,
    "start_time": "2024-08-12T12:48:38.294Z"
   },
   {
    "duration": 94,
    "start_time": "2024-08-12T12:48:38.383Z"
   },
   {
    "duration": 65,
    "start_time": "2024-08-12T12:48:38.479Z"
   },
   {
    "duration": 53,
    "start_time": "2024-08-12T12:48:38.546Z"
   },
   {
    "duration": 12,
    "start_time": "2024-08-12T12:48:38.601Z"
   },
   {
    "duration": 25,
    "start_time": "2024-08-12T12:48:38.614Z"
   },
   {
    "duration": 35,
    "start_time": "2024-08-12T12:48:38.641Z"
   },
   {
    "duration": 43,
    "start_time": "2024-08-12T12:48:38.677Z"
   },
   {
    "duration": 594,
    "start_time": "2024-08-12T12:48:38.722Z"
   },
   {
    "duration": 0,
    "start_time": "2024-08-12T12:48:39.318Z"
   },
   {
    "duration": 0,
    "start_time": "2024-08-12T12:48:39.320Z"
   },
   {
    "duration": 0,
    "start_time": "2024-08-12T12:48:39.322Z"
   },
   {
    "duration": 0,
    "start_time": "2024-08-12T12:48:39.324Z"
   },
   {
    "duration": 0,
    "start_time": "2024-08-12T12:48:39.325Z"
   },
   {
    "duration": 0,
    "start_time": "2024-08-12T12:48:39.327Z"
   },
   {
    "duration": 0,
    "start_time": "2024-08-12T12:48:39.328Z"
   },
   {
    "duration": 0,
    "start_time": "2024-08-12T12:48:39.330Z"
   },
   {
    "duration": 0,
    "start_time": "2024-08-12T12:48:39.331Z"
   },
   {
    "duration": 0,
    "start_time": "2024-08-12T12:48:39.333Z"
   },
   {
    "duration": 0,
    "start_time": "2024-08-12T12:48:39.334Z"
   },
   {
    "duration": 0,
    "start_time": "2024-08-12T12:48:39.335Z"
   },
   {
    "duration": 0,
    "start_time": "2024-08-12T12:48:39.336Z"
   },
   {
    "duration": 0,
    "start_time": "2024-08-12T12:48:39.337Z"
   },
   {
    "duration": 0,
    "start_time": "2024-08-12T12:48:39.338Z"
   },
   {
    "duration": 0,
    "start_time": "2024-08-12T12:48:39.340Z"
   },
   {
    "duration": 0,
    "start_time": "2024-08-12T12:48:39.341Z"
   },
   {
    "duration": 0,
    "start_time": "2024-08-12T12:48:39.342Z"
   },
   {
    "duration": 46,
    "start_time": "2024-08-12T12:50:46.327Z"
   },
   {
    "duration": 46,
    "start_time": "2024-08-12T12:50:59.931Z"
   },
   {
    "duration": 46,
    "start_time": "2024-08-12T12:51:11.956Z"
   },
   {
    "duration": 46,
    "start_time": "2024-08-12T12:51:19.981Z"
   },
   {
    "duration": 10,
    "start_time": "2024-08-12T12:51:47.972Z"
   },
   {
    "duration": 5,
    "start_time": "2024-08-12T12:51:54.073Z"
   },
   {
    "duration": 452,
    "start_time": "2024-08-12T12:52:43.831Z"
   },
   {
    "duration": 199,
    "start_time": "2024-08-12T12:52:44.285Z"
   },
   {
    "duration": 18,
    "start_time": "2024-08-12T12:52:44.486Z"
   },
   {
    "duration": 51,
    "start_time": "2024-08-12T12:52:44.506Z"
   },
   {
    "duration": 3,
    "start_time": "2024-08-12T12:52:44.558Z"
   },
   {
    "duration": 16,
    "start_time": "2024-08-12T12:52:44.562Z"
   },
   {
    "duration": 21,
    "start_time": "2024-08-12T12:52:44.580Z"
   },
   {
    "duration": 18,
    "start_time": "2024-08-12T12:52:44.603Z"
   },
   {
    "duration": 33,
    "start_time": "2024-08-12T12:52:44.623Z"
   },
   {
    "duration": 31,
    "start_time": "2024-08-12T12:52:44.659Z"
   },
   {
    "duration": 29,
    "start_time": "2024-08-12T12:52:44.692Z"
   },
   {
    "duration": 82,
    "start_time": "2024-08-12T12:52:44.722Z"
   },
   {
    "duration": 91,
    "start_time": "2024-08-12T12:52:44.805Z"
   },
   {
    "duration": 71,
    "start_time": "2024-08-12T12:52:44.898Z"
   },
   {
    "duration": 47,
    "start_time": "2024-08-12T12:52:44.971Z"
   },
   {
    "duration": 62,
    "start_time": "2024-08-12T12:52:45.020Z"
   },
   {
    "duration": 65,
    "start_time": "2024-08-12T12:52:45.084Z"
   },
   {
    "duration": 24,
    "start_time": "2024-08-12T12:52:45.151Z"
   },
   {
    "duration": 25,
    "start_time": "2024-08-12T12:52:45.177Z"
   },
   {
    "duration": 74,
    "start_time": "2024-08-12T12:52:45.204Z"
   },
   {
    "duration": 0,
    "start_time": "2024-08-12T12:52:45.281Z"
   },
   {
    "duration": 0,
    "start_time": "2024-08-12T12:52:45.282Z"
   },
   {
    "duration": 0,
    "start_time": "2024-08-12T12:52:45.283Z"
   },
   {
    "duration": 0,
    "start_time": "2024-08-12T12:52:45.285Z"
   },
   {
    "duration": 0,
    "start_time": "2024-08-12T12:52:45.286Z"
   },
   {
    "duration": 0,
    "start_time": "2024-08-12T12:52:45.287Z"
   },
   {
    "duration": 0,
    "start_time": "2024-08-12T12:52:45.288Z"
   },
   {
    "duration": 0,
    "start_time": "2024-08-12T12:52:45.290Z"
   },
   {
    "duration": 0,
    "start_time": "2024-08-12T12:52:45.291Z"
   },
   {
    "duration": 0,
    "start_time": "2024-08-12T12:52:45.292Z"
   },
   {
    "duration": 0,
    "start_time": "2024-08-12T12:52:45.293Z"
   },
   {
    "duration": 0,
    "start_time": "2024-08-12T12:52:45.294Z"
   },
   {
    "duration": 0,
    "start_time": "2024-08-12T12:52:45.295Z"
   },
   {
    "duration": 0,
    "start_time": "2024-08-12T12:52:45.296Z"
   },
   {
    "duration": 0,
    "start_time": "2024-08-12T12:52:45.297Z"
   },
   {
    "duration": 0,
    "start_time": "2024-08-12T12:52:45.298Z"
   },
   {
    "duration": 0,
    "start_time": "2024-08-12T12:52:45.299Z"
   },
   {
    "duration": 0,
    "start_time": "2024-08-12T12:52:45.301Z"
   },
   {
    "duration": 63,
    "start_time": "2024-08-12T12:53:23.587Z"
   },
   {
    "duration": 117,
    "start_time": "2024-08-12T12:53:43.860Z"
   },
   {
    "duration": 51,
    "start_time": "2024-08-12T12:54:04.294Z"
   },
   {
    "duration": 11,
    "start_time": "2024-08-12T12:54:18.515Z"
   },
   {
    "duration": 47,
    "start_time": "2024-08-12T12:54:28.668Z"
   },
   {
    "duration": 17,
    "start_time": "2024-08-12T12:55:09.113Z"
   },
   {
    "duration": 60,
    "start_time": "2024-08-12T12:55:24.105Z"
   },
   {
    "duration": 54,
    "start_time": "2024-08-12T12:55:26.628Z"
   },
   {
    "duration": 69,
    "start_time": "2024-08-13T07:05:14.346Z"
   },
   {
    "duration": 9,
    "start_time": "2024-08-13T07:05:31.336Z"
   },
   {
    "duration": 8,
    "start_time": "2024-08-13T07:05:46.559Z"
   },
   {
    "duration": 456,
    "start_time": "2024-08-13T07:05:58.938Z"
   },
   {
    "duration": 492,
    "start_time": "2024-08-13T07:05:59.396Z"
   },
   {
    "duration": 22,
    "start_time": "2024-08-13T07:05:59.890Z"
   },
   {
    "duration": 60,
    "start_time": "2024-08-13T07:05:59.915Z"
   },
   {
    "duration": 3,
    "start_time": "2024-08-13T07:05:59.977Z"
   },
   {
    "duration": 5,
    "start_time": "2024-08-13T07:05:59.981Z"
   },
   {
    "duration": 98,
    "start_time": "2024-08-13T07:05:59.989Z"
   },
   {
    "duration": 42,
    "start_time": "2024-08-13T07:06:00.090Z"
   },
   {
    "duration": 137,
    "start_time": "2024-08-13T07:06:00.135Z"
   },
   {
    "duration": 423,
    "start_time": "2024-08-13T07:06:00.277Z"
   },
   {
    "duration": 51,
    "start_time": "2024-08-13T07:06:00.702Z"
   },
   {
    "duration": 121,
    "start_time": "2024-08-13T07:06:00.755Z"
   },
   {
    "duration": 100,
    "start_time": "2024-08-13T07:06:00.879Z"
   },
   {
    "duration": 81,
    "start_time": "2024-08-13T07:06:00.980Z"
   },
   {
    "duration": 85,
    "start_time": "2024-08-13T07:06:01.063Z"
   },
   {
    "duration": 16,
    "start_time": "2024-08-13T07:06:01.151Z"
   },
   {
    "duration": 136,
    "start_time": "2024-08-13T07:06:01.169Z"
   },
   {
    "duration": 59,
    "start_time": "2024-08-13T07:06:01.307Z"
   },
   {
    "duration": 3,
    "start_time": "2024-08-13T07:06:01.368Z"
   },
   {
    "duration": 66,
    "start_time": "2024-08-13T07:06:01.373Z"
   },
   {
    "duration": 0,
    "start_time": "2024-08-13T07:06:01.441Z"
   },
   {
    "duration": 0,
    "start_time": "2024-08-13T07:06:01.442Z"
   },
   {
    "duration": 0,
    "start_time": "2024-08-13T07:06:01.443Z"
   },
   {
    "duration": 0,
    "start_time": "2024-08-13T07:06:01.444Z"
   },
   {
    "duration": 0,
    "start_time": "2024-08-13T07:06:01.446Z"
   },
   {
    "duration": 0,
    "start_time": "2024-08-13T07:06:01.446Z"
   },
   {
    "duration": 0,
    "start_time": "2024-08-13T07:06:01.447Z"
   },
   {
    "duration": 0,
    "start_time": "2024-08-13T07:06:01.448Z"
   },
   {
    "duration": 0,
    "start_time": "2024-08-13T07:06:01.449Z"
   },
   {
    "duration": 0,
    "start_time": "2024-08-13T07:06:01.450Z"
   },
   {
    "duration": 0,
    "start_time": "2024-08-13T07:06:01.452Z"
   },
   {
    "duration": 0,
    "start_time": "2024-08-13T07:06:01.454Z"
   },
   {
    "duration": 0,
    "start_time": "2024-08-13T07:06:01.455Z"
   },
   {
    "duration": 0,
    "start_time": "2024-08-13T07:06:01.457Z"
   },
   {
    "duration": 0,
    "start_time": "2024-08-13T07:06:01.458Z"
   },
   {
    "duration": 0,
    "start_time": "2024-08-13T07:06:01.459Z"
   },
   {
    "duration": 0,
    "start_time": "2024-08-13T07:06:01.461Z"
   },
   {
    "duration": 0,
    "start_time": "2024-08-13T07:06:01.463Z"
   },
   {
    "duration": 14,
    "start_time": "2024-08-13T07:06:57.629Z"
   },
   {
    "duration": 46,
    "start_time": "2024-08-13T07:07:07.907Z"
   },
   {
    "duration": 37,
    "start_time": "2024-08-13T07:07:13.854Z"
   },
   {
    "duration": 13,
    "start_time": "2024-08-13T07:07:21.312Z"
   },
   {
    "duration": 36,
    "start_time": "2024-08-13T07:07:32.501Z"
   },
   {
    "duration": 21,
    "start_time": "2024-08-13T07:08:34.490Z"
   },
   {
    "duration": 31,
    "start_time": "2024-08-13T07:11:02.513Z"
   },
   {
    "duration": 36,
    "start_time": "2024-08-13T07:11:10.538Z"
   },
   {
    "duration": 39,
    "start_time": "2024-08-13T07:11:23.424Z"
   },
   {
    "duration": 19,
    "start_time": "2024-08-13T07:11:33.820Z"
   },
   {
    "duration": 4,
    "start_time": "2024-08-13T07:14:11.225Z"
   },
   {
    "duration": 5,
    "start_time": "2024-08-13T07:14:20.626Z"
   },
   {
    "duration": 36,
    "start_time": "2024-08-13T07:15:07.541Z"
   },
   {
    "duration": 13,
    "start_time": "2024-08-13T07:15:51.368Z"
   },
   {
    "duration": 5,
    "start_time": "2024-08-13T07:16:04.287Z"
   },
   {
    "duration": 13,
    "start_time": "2024-08-13T07:16:06.957Z"
   },
   {
    "duration": 385,
    "start_time": "2024-08-13T09:45:13.967Z"
   },
   {
    "duration": 281,
    "start_time": "2024-08-13T09:45:14.354Z"
   },
   {
    "duration": 17,
    "start_time": "2024-08-13T09:45:14.636Z"
   },
   {
    "duration": 59,
    "start_time": "2024-08-13T09:45:14.655Z"
   },
   {
    "duration": 81,
    "start_time": "2024-08-13T09:45:14.715Z"
   },
   {
    "duration": 36,
    "start_time": "2024-08-13T09:45:14.798Z"
   },
   {
    "duration": 37,
    "start_time": "2024-08-13T09:45:14.836Z"
   },
   {
    "duration": 36,
    "start_time": "2024-08-13T09:45:14.874Z"
   },
   {
    "duration": 62,
    "start_time": "2024-08-13T09:45:14.912Z"
   },
   {
    "duration": 37,
    "start_time": "2024-08-13T09:45:14.977Z"
   },
   {
    "duration": 36,
    "start_time": "2024-08-13T09:45:15.016Z"
   },
   {
    "duration": 133,
    "start_time": "2024-08-13T09:45:15.053Z"
   },
   {
    "duration": 84,
    "start_time": "2024-08-13T09:45:15.188Z"
   },
   {
    "duration": 75,
    "start_time": "2024-08-13T09:45:15.273Z"
   },
   {
    "duration": 58,
    "start_time": "2024-08-13T09:45:15.350Z"
   },
   {
    "duration": 70,
    "start_time": "2024-08-13T09:45:15.410Z"
   },
   {
    "duration": 67,
    "start_time": "2024-08-13T09:45:15.481Z"
   },
   {
    "duration": 12,
    "start_time": "2024-08-13T09:45:15.549Z"
   },
   {
    "duration": 17,
    "start_time": "2024-08-13T09:45:15.563Z"
   },
   {
    "duration": 100,
    "start_time": "2024-08-13T09:45:15.581Z"
   },
   {
    "duration": 0,
    "start_time": "2024-08-13T09:45:15.683Z"
   },
   {
    "duration": 0,
    "start_time": "2024-08-13T09:45:15.685Z"
   },
   {
    "duration": 0,
    "start_time": "2024-08-13T09:45:15.686Z"
   },
   {
    "duration": 0,
    "start_time": "2024-08-13T09:45:15.688Z"
   },
   {
    "duration": 0,
    "start_time": "2024-08-13T09:45:15.690Z"
   },
   {
    "duration": 0,
    "start_time": "2024-08-13T09:45:15.691Z"
   },
   {
    "duration": 0,
    "start_time": "2024-08-13T09:45:15.693Z"
   },
   {
    "duration": 0,
    "start_time": "2024-08-13T09:45:15.696Z"
   },
   {
    "duration": 0,
    "start_time": "2024-08-13T09:45:15.697Z"
   },
   {
    "duration": 0,
    "start_time": "2024-08-13T09:45:15.699Z"
   },
   {
    "duration": 0,
    "start_time": "2024-08-13T09:45:15.700Z"
   },
   {
    "duration": 0,
    "start_time": "2024-08-13T09:45:15.702Z"
   },
   {
    "duration": 0,
    "start_time": "2024-08-13T09:45:15.704Z"
   },
   {
    "duration": 0,
    "start_time": "2024-08-13T09:45:15.705Z"
   },
   {
    "duration": 0,
    "start_time": "2024-08-13T09:45:15.707Z"
   },
   {
    "duration": 0,
    "start_time": "2024-08-13T09:45:15.708Z"
   },
   {
    "duration": 0,
    "start_time": "2024-08-13T09:45:15.710Z"
   },
   {
    "duration": 0,
    "start_time": "2024-08-13T09:45:15.712Z"
   },
   {
    "duration": 51,
    "start_time": "2024-08-13T09:46:27.351Z"
   },
   {
    "duration": 4,
    "start_time": "2024-08-13T09:53:58.229Z"
   },
   {
    "duration": 4,
    "start_time": "2024-08-13T09:54:00.970Z"
   },
   {
    "duration": 68,
    "start_time": "2024-08-13T09:55:47.154Z"
   },
   {
    "duration": 20,
    "start_time": "2024-08-13T09:56:07.001Z"
   },
   {
    "duration": 19,
    "start_time": "2024-08-13T09:56:16.176Z"
   },
   {
    "duration": 17,
    "start_time": "2024-08-13T09:56:28.532Z"
   },
   {
    "duration": 3,
    "start_time": "2024-08-13T09:56:35.888Z"
   },
   {
    "duration": 439,
    "start_time": "2024-08-13T10:13:50.099Z"
   },
   {
    "duration": 184,
    "start_time": "2024-08-13T10:13:50.540Z"
   },
   {
    "duration": 18,
    "start_time": "2024-08-13T10:13:50.726Z"
   },
   {
    "duration": 34,
    "start_time": "2024-08-13T10:13:50.747Z"
   },
   {
    "duration": 25,
    "start_time": "2024-08-13T10:13:50.782Z"
   },
   {
    "duration": 4,
    "start_time": "2024-08-13T10:13:50.810Z"
   },
   {
    "duration": 13,
    "start_time": "2024-08-13T10:13:50.816Z"
   },
   {
    "duration": 55,
    "start_time": "2024-08-13T10:13:50.831Z"
   },
   {
    "duration": 44,
    "start_time": "2024-08-13T10:13:50.888Z"
   },
   {
    "duration": 27,
    "start_time": "2024-08-13T10:13:50.936Z"
   },
   {
    "duration": 35,
    "start_time": "2024-08-13T10:13:50.965Z"
   },
   {
    "duration": 87,
    "start_time": "2024-08-13T10:13:51.002Z"
   },
   {
    "duration": 81,
    "start_time": "2024-08-13T10:13:51.091Z"
   },
   {
    "duration": 63,
    "start_time": "2024-08-13T10:13:51.174Z"
   },
   {
    "duration": 46,
    "start_time": "2024-08-13T10:13:51.239Z"
   },
   {
    "duration": 29,
    "start_time": "2024-08-13T10:13:51.287Z"
   },
   {
    "duration": 72,
    "start_time": "2024-08-13T10:13:51.318Z"
   },
   {
    "duration": 13,
    "start_time": "2024-08-13T10:13:51.392Z"
   },
   {
    "duration": 17,
    "start_time": "2024-08-13T10:13:51.407Z"
   },
   {
    "duration": 9,
    "start_time": "2024-08-13T10:13:51.426Z"
   },
   {
    "duration": 19,
    "start_time": "2024-08-13T10:13:51.437Z"
   },
   {
    "duration": 20,
    "start_time": "2024-08-13T10:13:51.458Z"
   },
   {
    "duration": 16,
    "start_time": "2024-08-13T10:13:51.480Z"
   },
   {
    "duration": 18,
    "start_time": "2024-08-13T10:13:51.498Z"
   },
   {
    "duration": 16,
    "start_time": "2024-08-13T10:13:51.518Z"
   },
   {
    "duration": 22,
    "start_time": "2024-08-13T10:13:51.536Z"
   },
   {
    "duration": 19,
    "start_time": "2024-08-13T10:13:51.560Z"
   },
   {
    "duration": 3,
    "start_time": "2024-08-13T10:13:51.582Z"
   },
   {
    "duration": 5,
    "start_time": "2024-08-13T10:13:51.586Z"
   },
   {
    "duration": 81,
    "start_time": "2024-08-13T10:13:51.592Z"
   },
   {
    "duration": 0,
    "start_time": "2024-08-13T10:13:51.675Z"
   },
   {
    "duration": 0,
    "start_time": "2024-08-13T10:13:51.676Z"
   },
   {
    "duration": 0,
    "start_time": "2024-08-13T10:13:51.677Z"
   },
   {
    "duration": 0,
    "start_time": "2024-08-13T10:13:51.678Z"
   },
   {
    "duration": 1,
    "start_time": "2024-08-13T10:13:51.679Z"
   },
   {
    "duration": 0,
    "start_time": "2024-08-13T10:13:51.681Z"
   },
   {
    "duration": 0,
    "start_time": "2024-08-13T10:13:51.681Z"
   },
   {
    "duration": 0,
    "start_time": "2024-08-13T10:13:51.683Z"
   },
   {
    "duration": 24,
    "start_time": "2024-08-13T10:14:38.858Z"
   },
   {
    "duration": 19,
    "start_time": "2024-08-13T10:15:14.710Z"
   },
   {
    "duration": 41,
    "start_time": "2024-08-13T10:15:30.386Z"
   },
   {
    "duration": 19,
    "start_time": "2024-08-13T10:15:42.760Z"
   },
   {
    "duration": 19,
    "start_time": "2024-08-13T10:15:54.219Z"
   },
   {
    "duration": 25,
    "start_time": "2024-08-13T10:16:33.388Z"
   },
   {
    "duration": 19,
    "start_time": "2024-08-13T10:16:43.527Z"
   },
   {
    "duration": 435,
    "start_time": "2024-08-13T11:22:21.879Z"
   },
   {
    "duration": 190,
    "start_time": "2024-08-13T11:22:22.317Z"
   },
   {
    "duration": 17,
    "start_time": "2024-08-13T11:22:22.509Z"
   },
   {
    "duration": 54,
    "start_time": "2024-08-13T11:22:22.528Z"
   },
   {
    "duration": 3,
    "start_time": "2024-08-13T11:22:22.584Z"
   },
   {
    "duration": 20,
    "start_time": "2024-08-13T11:22:22.588Z"
   },
   {
    "duration": 56,
    "start_time": "2024-08-13T11:22:22.610Z"
   },
   {
    "duration": 10,
    "start_time": "2024-08-13T11:22:22.668Z"
   },
   {
    "duration": 38,
    "start_time": "2024-08-13T11:22:22.680Z"
   },
   {
    "duration": 23,
    "start_time": "2024-08-13T11:22:22.721Z"
   },
   {
    "duration": 29,
    "start_time": "2024-08-13T11:22:22.745Z"
   },
   {
    "duration": 95,
    "start_time": "2024-08-13T11:22:22.776Z"
   },
   {
    "duration": 105,
    "start_time": "2024-08-13T11:22:22.873Z"
   },
   {
    "duration": 65,
    "start_time": "2024-08-13T11:22:22.979Z"
   },
   {
    "duration": 45,
    "start_time": "2024-08-13T11:22:23.046Z"
   },
   {
    "duration": 24,
    "start_time": "2024-08-13T11:22:23.093Z"
   },
   {
    "duration": 45,
    "start_time": "2024-08-13T11:22:23.119Z"
   },
   {
    "duration": 11,
    "start_time": "2024-08-13T11:22:23.166Z"
   },
   {
    "duration": 81,
    "start_time": "2024-08-13T11:22:23.178Z"
   },
   {
    "duration": 64,
    "start_time": "2024-08-13T11:22:23.261Z"
   },
   {
    "duration": 65,
    "start_time": "2024-08-13T11:22:23.326Z"
   },
   {
    "duration": 33,
    "start_time": "2024-08-13T11:22:23.393Z"
   },
   {
    "duration": 14,
    "start_time": "2024-08-13T11:22:23.428Z"
   },
   {
    "duration": 24,
    "start_time": "2024-08-13T11:22:23.444Z"
   },
   {
    "duration": 12,
    "start_time": "2024-08-13T11:22:23.469Z"
   },
   {
    "duration": 8,
    "start_time": "2024-08-13T11:22:23.482Z"
   },
   {
    "duration": 29,
    "start_time": "2024-08-13T11:22:23.491Z"
   },
   {
    "duration": 32,
    "start_time": "2024-08-13T11:22:23.523Z"
   },
   {
    "duration": 32,
    "start_time": "2024-08-13T11:22:23.556Z"
   },
   {
    "duration": 81,
    "start_time": "2024-08-13T11:22:23.590Z"
   },
   {
    "duration": 0,
    "start_time": "2024-08-13T11:22:23.672Z"
   },
   {
    "duration": 0,
    "start_time": "2024-08-13T11:22:23.673Z"
   },
   {
    "duration": 0,
    "start_time": "2024-08-13T11:22:23.675Z"
   },
   {
    "duration": 0,
    "start_time": "2024-08-13T11:22:23.676Z"
   },
   {
    "duration": 0,
    "start_time": "2024-08-13T11:22:23.677Z"
   },
   {
    "duration": 0,
    "start_time": "2024-08-13T11:22:23.678Z"
   },
   {
    "duration": 0,
    "start_time": "2024-08-13T11:22:23.679Z"
   },
   {
    "duration": 0,
    "start_time": "2024-08-13T11:22:23.680Z"
   },
   {
    "duration": 15,
    "start_time": "2024-08-13T11:23:46.768Z"
   },
   {
    "duration": 17,
    "start_time": "2024-08-13T11:24:59.908Z"
   },
   {
    "duration": 14,
    "start_time": "2024-08-13T11:25:01.834Z"
   },
   {
    "duration": 15,
    "start_time": "2024-08-13T11:25:04.392Z"
   },
   {
    "duration": 19,
    "start_time": "2024-08-13T11:25:06.713Z"
   },
   {
    "duration": 16,
    "start_time": "2024-08-13T11:25:09.160Z"
   },
   {
    "duration": 68,
    "start_time": "2024-08-13T11:26:38.075Z"
   },
   {
    "duration": 8,
    "start_time": "2024-08-13T11:29:21.065Z"
   },
   {
    "duration": 4,
    "start_time": "2024-08-13T11:33:39.494Z"
   },
   {
    "duration": 4,
    "start_time": "2024-08-13T11:33:41.850Z"
   },
   {
    "duration": 9,
    "start_time": "2024-08-13T11:33:50.836Z"
   },
   {
    "duration": 21,
    "start_time": "2024-08-13T11:35:47.067Z"
   },
   {
    "duration": 19,
    "start_time": "2024-08-13T11:36:41.693Z"
   },
   {
    "duration": 10,
    "start_time": "2024-08-13T11:36:46.227Z"
   },
   {
    "duration": 12,
    "start_time": "2024-08-13T11:36:51.256Z"
   },
   {
    "duration": 7,
    "start_time": "2024-08-13T11:39:00.554Z"
   },
   {
    "duration": 6,
    "start_time": "2024-08-13T11:43:56.606Z"
   },
   {
    "duration": 92,
    "start_time": "2024-08-13T11:56:51.749Z"
   },
   {
    "duration": 7,
    "start_time": "2024-08-13T11:59:00.616Z"
   },
   {
    "duration": 16,
    "start_time": "2024-08-13T11:59:12.898Z"
   },
   {
    "duration": 34,
    "start_time": "2024-08-13T11:59:17.931Z"
   },
   {
    "duration": 19,
    "start_time": "2024-08-13T11:59:39.723Z"
   },
   {
    "duration": 45,
    "start_time": "2024-08-13T12:00:24.040Z"
   },
   {
    "duration": 37,
    "start_time": "2024-08-13T12:00:53.480Z"
   },
   {
    "duration": 56,
    "start_time": "2024-08-13T12:01:12.384Z"
   },
   {
    "duration": 66,
    "start_time": "2024-08-13T12:01:21.848Z"
   },
   {
    "duration": 54,
    "start_time": "2024-08-13T12:01:47.487Z"
   },
   {
    "duration": 51,
    "start_time": "2024-08-13T12:02:08.320Z"
   },
   {
    "duration": 35,
    "start_time": "2024-08-13T12:02:15.823Z"
   },
   {
    "duration": 4,
    "start_time": "2024-08-13T12:02:46.703Z"
   },
   {
    "duration": 8,
    "start_time": "2024-08-13T12:03:03.096Z"
   },
   {
    "duration": 8,
    "start_time": "2024-08-13T12:03:10.420Z"
   },
   {
    "duration": 26,
    "start_time": "2024-08-13T12:03:32.509Z"
   },
   {
    "duration": 20,
    "start_time": "2024-08-13T12:04:26.707Z"
   },
   {
    "duration": 2,
    "start_time": "2024-08-13T12:04:36.477Z"
   },
   {
    "duration": 3,
    "start_time": "2024-08-13T12:04:37.134Z"
   },
   {
    "duration": 15,
    "start_time": "2024-08-13T12:04:54.173Z"
   },
   {
    "duration": 19,
    "start_time": "2024-08-13T12:05:23.952Z"
   },
   {
    "duration": 15,
    "start_time": "2024-08-13T12:05:44.273Z"
   },
   {
    "duration": 13,
    "start_time": "2024-08-13T12:18:40.840Z"
   },
   {
    "duration": 11,
    "start_time": "2024-08-13T12:19:13.375Z"
   },
   {
    "duration": 9,
    "start_time": "2024-08-13T12:19:23.963Z"
   },
   {
    "duration": 12,
    "start_time": "2024-08-13T12:19:31.881Z"
   },
   {
    "duration": 9,
    "start_time": "2024-08-13T12:19:53.028Z"
   },
   {
    "duration": 13,
    "start_time": "2024-08-13T12:19:56.715Z"
   },
   {
    "duration": 12,
    "start_time": "2024-08-13T12:20:07.499Z"
   },
   {
    "duration": 11,
    "start_time": "2024-08-13T12:20:26.935Z"
   },
   {
    "duration": 5,
    "start_time": "2024-08-13T12:21:02.655Z"
   },
   {
    "duration": 4,
    "start_time": "2024-08-13T12:21:05.803Z"
   },
   {
    "duration": 7,
    "start_time": "2024-08-13T12:22:18.182Z"
   },
   {
    "duration": 389,
    "start_time": "2024-08-13T12:22:44.748Z"
   },
   {
    "duration": 195,
    "start_time": "2024-08-13T12:22:45.139Z"
   },
   {
    "duration": 19,
    "start_time": "2024-08-13T12:22:45.335Z"
   },
   {
    "duration": 41,
    "start_time": "2024-08-13T12:22:45.357Z"
   },
   {
    "duration": 32,
    "start_time": "2024-08-13T12:22:45.400Z"
   },
   {
    "duration": 40,
    "start_time": "2024-08-13T12:22:45.433Z"
   },
   {
    "duration": 30,
    "start_time": "2024-08-13T12:22:45.475Z"
   },
   {
    "duration": 50,
    "start_time": "2024-08-13T12:22:45.507Z"
   },
   {
    "duration": 61,
    "start_time": "2024-08-13T12:22:45.559Z"
   },
   {
    "duration": 31,
    "start_time": "2024-08-13T12:22:45.624Z"
   },
   {
    "duration": 42,
    "start_time": "2024-08-13T12:22:45.657Z"
   },
   {
    "duration": 87,
    "start_time": "2024-08-13T12:22:45.701Z"
   },
   {
    "duration": 83,
    "start_time": "2024-08-13T12:22:45.791Z"
   },
   {
    "duration": 76,
    "start_time": "2024-08-13T12:22:45.876Z"
   },
   {
    "duration": 56,
    "start_time": "2024-08-13T12:22:45.953Z"
   },
   {
    "duration": 11,
    "start_time": "2024-08-13T12:22:46.011Z"
   },
   {
    "duration": 46,
    "start_time": "2024-08-13T12:22:46.024Z"
   },
   {
    "duration": 12,
    "start_time": "2024-08-13T12:22:46.072Z"
   },
   {
    "duration": 33,
    "start_time": "2024-08-13T12:22:46.085Z"
   },
   {
    "duration": 3,
    "start_time": "2024-08-13T12:22:46.119Z"
   },
   {
    "duration": 35,
    "start_time": "2024-08-13T12:22:46.123Z"
   },
   {
    "duration": 28,
    "start_time": "2024-08-13T12:22:46.160Z"
   },
   {
    "duration": 18,
    "start_time": "2024-08-13T12:22:46.189Z"
   },
   {
    "duration": 15,
    "start_time": "2024-08-13T12:22:46.208Z"
   },
   {
    "duration": 27,
    "start_time": "2024-08-13T12:22:46.224Z"
   },
   {
    "duration": 17,
    "start_time": "2024-08-13T12:22:46.252Z"
   },
   {
    "duration": 9,
    "start_time": "2024-08-13T12:22:46.271Z"
   },
   {
    "duration": 31,
    "start_time": "2024-08-13T12:22:46.283Z"
   },
   {
    "duration": 13,
    "start_time": "2024-08-13T12:22:46.316Z"
   },
   {
    "duration": 8,
    "start_time": "2024-08-13T12:22:46.331Z"
   },
   {
    "duration": 32,
    "start_time": "2024-08-13T12:22:46.341Z"
   },
   {
    "duration": 18,
    "start_time": "2024-08-13T12:22:46.375Z"
   },
   {
    "duration": 49,
    "start_time": "2024-08-13T12:22:46.394Z"
   },
   {
    "duration": 26,
    "start_time": "2024-08-13T12:22:46.445Z"
   },
   {
    "duration": 22,
    "start_time": "2024-08-13T12:22:46.472Z"
   },
   {
    "duration": 16,
    "start_time": "2024-08-13T12:22:46.496Z"
   },
   {
    "duration": 7,
    "start_time": "2024-08-13T12:22:46.513Z"
   },
   {
    "duration": 11,
    "start_time": "2024-08-13T12:22:46.522Z"
   }
  ],
  "celltoolbar": "Отсутствует",
  "colab": {
   "collapsed_sections": [
    "E0vqbgi9ay0H",
    "VUC88oWjTJw2"
   ],
   "provenance": []
  },
  "kernelspec": {
   "display_name": "Python 3 (ipykernel)",
   "language": "python",
   "name": "python3"
  },
  "language_info": {
   "codemirror_mode": {
    "name": "ipython",
    "version": 3
   },
   "file_extension": ".py",
   "mimetype": "text/x-python",
   "name": "python",
   "nbconvert_exporter": "python",
   "pygments_lexer": "ipython3",
   "version": "3.9.5"
  },
  "toc": {
   "base_numbering": 1,
   "nav_menu": {
    "height": "215px",
    "width": "403px"
   },
   "number_sections": true,
   "sideBar": true,
   "skip_h1_title": true,
   "title_cell": "Table of Contents",
   "title_sidebar": "Contents",
   "toc_cell": false,
   "toc_position": {
    "height": "calc(100% - 180px)",
    "left": "10px",
    "top": "150px",
    "width": "285.825px"
   },
   "toc_section_display": true,
   "toc_window_display": false
  }
 },
 "nbformat": 4,
 "nbformat_minor": 1
}
