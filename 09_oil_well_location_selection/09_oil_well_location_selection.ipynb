{
 "cells": [
  {
   "cell_type": "markdown",
   "metadata": {},
   "source": [
    "# Выбор локации для скважины"
   ]
  },
  {
   "cell_type": "markdown",
   "metadata": {},
   "source": [
    "# Добывающая компания «ГлавРосГосНефть»\n",
    "\n",
    "**Задача: определить, в каком из трёх регионов бурение новых скважин принесёт наибольшую прибыль, используя модель машинного обучения. Данные содержат пробы нефти (качество и объем запасов) для скважин в каждом регионе.**\n",
    "\n",
    "**Инструкция по выполнению проекта**\n",
    "\n",
    "1. Загрузить данные\n",
    "\n",
    "2. Обучить и проверить модель для каждого региона:\n",
    "- разбить данные на обучающую и валидационную выборки (75:25)\n",
    "- обучить и предсказать на валидационной выборке \n",
    "- cохранить предсказания и фактические значения из валидационной выборки.\n",
    "- вывести средний запас предсказанного сырья и RMSE модели\n",
    "- анализ результата\n",
    "\n",
    "3. Подготовка к расчета прибыли:\n",
    "- сохранение всех ключевых значений для расчётов в отдельных переменных\n",
    "- расчет достаточного объёма сырья для безубыточной разработки новой скважины. Сравнение полученного объёма сырья со средним запасом в каждом регионе. \n",
    "- вывод по данному этапу\n",
    "\n",
    "4. Пропись функции для расчёта прибыли по выбранным скважинам и предсказаниям модели:\n",
    "- выбор скважин с максимальными значениями предсказаний\n",
    "- суммирование целевого значения объёма сырья, соответствующие этим предсказаниям.\n",
    "- расчет прибыли для полученного объема сырья\n",
    "\n",
    "5. Расчет рисков и прибыли для каждого региона:\n",
    "- применение Bootstrap с 1000 выборок, чтобы найти распределение прибыли \n",
    "- поиск средней прибыли, 5%-й доверительный интервал и риск убытков. Убыток — это отрицательная прибыль.\n",
    "- вывод: предложение региона для разработки скважин и обоснование выбора.\n",
    "\n",
    "\n",
    "**Условия задачи:**\n",
    "- Для обучения модели подходит только линейная регрессия (остальные — недостаточно предсказуемые).\n",
    "- При разведке региона исследуют 500 точек, из которых с помощью машинного обучения выбирают 200 лучших для разработки.\n",
    "- Бюджет на разработку скважин в регионе — 10 млрд рублей.\n",
    "- При нынешних ценах один баррель сырья приносит 450 рублей дохода. Доход с каждой единицы продукта составляет 450 тыс. рублей, поскольку объём указан в тысячах баррелей.\n",
    "- После оценки рисков нужно оставить лишь те регионы, в которых вероятность убытков меньше 2.5%. Среди них выбирают регион с наибольшей средней прибылью.\n",
    "- Данные синтетические: детали контрактов и характеристики месторождений не разглашаются.\""
   ]
  },
  {
   "cell_type": "markdown",
   "metadata": {},
   "source": [
    "## Загрузка и подготовка данных"
   ]
  },
  {
   "cell_type": "code",
   "execution_count": 1,
   "metadata": {},
   "outputs": [],
   "source": [
    "# Библиотеки\n",
    "\n",
    "import pandas as pd\n",
    "import numpy as np\n",
    "from tqdm import tqdm\n",
    "\n",
    "from sklearn.model_selection import train_test_split\n",
    "from sklearn.linear_model import LinearRegression\n",
    "from sklearn.metrics import mean_squared_error\n",
    "\n",
    "# Константы\n",
    "\n",
    "RANDOM_STATE = 42\n",
    "TEST_SIZE = 0.25"
   ]
  },
  {
   "cell_type": "code",
   "execution_count": 2,
   "metadata": {},
   "outputs": [],
   "source": [
    "# загрузка данных\n",
    "\n",
    "try:\n",
    "    geo_0 = pd.read_csv(\n",
    "        'https://code.s3.yandex.net/datasets/geo_data_0.csv'\n",
    "    )\n",
    "    geo_1 = pd.read_csv(\n",
    "        'https://code.s3.yandex.net/datasets/geo_data_1.csv'\n",
    "    )\n",
    "    geo_2 = pd.read_csv(\n",
    "        'https://code.s3.yandex.net/datasets/geo_data_2.csv'\n",
    "    )\n",
    "except:\n",
    "    geo_0 = pd.read_csv('/datasets/geo_data_0.csv')\n",
    "    geo_1 = pd.read_csv('/datasets/geo_data_1.csv')\n",
    "    geo_2 = pd.read_csv('/datasets/geo_data_2.csv')"
   ]
  },
  {
   "cell_type": "code",
   "execution_count": 3,
   "metadata": {},
   "outputs": [
    {
     "data": {
      "text/html": [
       "<div>\n",
       "<style scoped>\n",
       "    .dataframe tbody tr th:only-of-type {\n",
       "        vertical-align: middle;\n",
       "    }\n",
       "\n",
       "    .dataframe tbody tr th {\n",
       "        vertical-align: top;\n",
       "    }\n",
       "\n",
       "    .dataframe thead th {\n",
       "        text-align: right;\n",
       "    }\n",
       "</style>\n",
       "<table border=\"1\" class=\"dataframe\">\n",
       "  <thead>\n",
       "    <tr style=\"text-align: right;\">\n",
       "      <th></th>\n",
       "      <th>id</th>\n",
       "      <th>f0</th>\n",
       "      <th>f1</th>\n",
       "      <th>f2</th>\n",
       "      <th>product</th>\n",
       "    </tr>\n",
       "  </thead>\n",
       "  <tbody>\n",
       "    <tr>\n",
       "      <th>0</th>\n",
       "      <td>txEyH</td>\n",
       "      <td>0.705745</td>\n",
       "      <td>-0.497823</td>\n",
       "      <td>1.221170</td>\n",
       "      <td>105.280062</td>\n",
       "    </tr>\n",
       "    <tr>\n",
       "      <th>1</th>\n",
       "      <td>2acmU</td>\n",
       "      <td>1.334711</td>\n",
       "      <td>-0.340164</td>\n",
       "      <td>4.365080</td>\n",
       "      <td>73.037750</td>\n",
       "    </tr>\n",
       "    <tr>\n",
       "      <th>2</th>\n",
       "      <td>409Wp</td>\n",
       "      <td>1.022732</td>\n",
       "      <td>0.151990</td>\n",
       "      <td>1.419926</td>\n",
       "      <td>85.265647</td>\n",
       "    </tr>\n",
       "    <tr>\n",
       "      <th>3</th>\n",
       "      <td>iJLyR</td>\n",
       "      <td>-0.032172</td>\n",
       "      <td>0.139033</td>\n",
       "      <td>2.978566</td>\n",
       "      <td>168.620776</td>\n",
       "    </tr>\n",
       "    <tr>\n",
       "      <th>4</th>\n",
       "      <td>Xdl7t</td>\n",
       "      <td>1.988431</td>\n",
       "      <td>0.155413</td>\n",
       "      <td>4.751769</td>\n",
       "      <td>154.036647</td>\n",
       "    </tr>\n",
       "  </tbody>\n",
       "</table>\n",
       "</div>"
      ],
      "text/plain": [
       "      id        f0        f1        f2     product\n",
       "0  txEyH  0.705745 -0.497823  1.221170  105.280062\n",
       "1  2acmU  1.334711 -0.340164  4.365080   73.037750\n",
       "2  409Wp  1.022732  0.151990  1.419926   85.265647\n",
       "3  iJLyR -0.032172  0.139033  2.978566  168.620776\n",
       "4  Xdl7t  1.988431  0.155413  4.751769  154.036647"
      ]
     },
     "metadata": {},
     "output_type": "display_data"
    }
   ],
   "source": [
    "# Ознакомление с содержимым geo_0\n",
    "\n",
    "display(geo_0.head())"
   ]
  },
  {
   "cell_type": "code",
   "execution_count": 4,
   "metadata": {},
   "outputs": [
    {
     "data": {
      "text/html": [
       "<div>\n",
       "<style scoped>\n",
       "    .dataframe tbody tr th:only-of-type {\n",
       "        vertical-align: middle;\n",
       "    }\n",
       "\n",
       "    .dataframe tbody tr th {\n",
       "        vertical-align: top;\n",
       "    }\n",
       "\n",
       "    .dataframe thead th {\n",
       "        text-align: right;\n",
       "    }\n",
       "</style>\n",
       "<table border=\"1\" class=\"dataframe\">\n",
       "  <thead>\n",
       "    <tr style=\"text-align: right;\">\n",
       "      <th></th>\n",
       "      <th>id</th>\n",
       "      <th>f0</th>\n",
       "      <th>f1</th>\n",
       "      <th>f2</th>\n",
       "      <th>product</th>\n",
       "    </tr>\n",
       "  </thead>\n",
       "  <tbody>\n",
       "    <tr>\n",
       "      <th>0</th>\n",
       "      <td>kBEdx</td>\n",
       "      <td>-15.001348</td>\n",
       "      <td>-8.276000</td>\n",
       "      <td>-0.005876</td>\n",
       "      <td>3.179103</td>\n",
       "    </tr>\n",
       "    <tr>\n",
       "      <th>1</th>\n",
       "      <td>62mP7</td>\n",
       "      <td>14.272088</td>\n",
       "      <td>-3.475083</td>\n",
       "      <td>0.999183</td>\n",
       "      <td>26.953261</td>\n",
       "    </tr>\n",
       "    <tr>\n",
       "      <th>2</th>\n",
       "      <td>vyE1P</td>\n",
       "      <td>6.263187</td>\n",
       "      <td>-5.948386</td>\n",
       "      <td>5.001160</td>\n",
       "      <td>134.766305</td>\n",
       "    </tr>\n",
       "    <tr>\n",
       "      <th>3</th>\n",
       "      <td>KcrkZ</td>\n",
       "      <td>-13.081196</td>\n",
       "      <td>-11.506057</td>\n",
       "      <td>4.999415</td>\n",
       "      <td>137.945408</td>\n",
       "    </tr>\n",
       "    <tr>\n",
       "      <th>4</th>\n",
       "      <td>AHL4O</td>\n",
       "      <td>12.702195</td>\n",
       "      <td>-8.147433</td>\n",
       "      <td>5.004363</td>\n",
       "      <td>134.766305</td>\n",
       "    </tr>\n",
       "  </tbody>\n",
       "</table>\n",
       "</div>"
      ],
      "text/plain": [
       "      id         f0         f1        f2     product\n",
       "0  kBEdx -15.001348  -8.276000 -0.005876    3.179103\n",
       "1  62mP7  14.272088  -3.475083  0.999183   26.953261\n",
       "2  vyE1P   6.263187  -5.948386  5.001160  134.766305\n",
       "3  KcrkZ -13.081196 -11.506057  4.999415  137.945408\n",
       "4  AHL4O  12.702195  -8.147433  5.004363  134.766305"
      ]
     },
     "metadata": {},
     "output_type": "display_data"
    }
   ],
   "source": [
    "# Ознакомление с содержимым geo_1\n",
    "\n",
    "display(geo_1.head())"
   ]
  },
  {
   "cell_type": "code",
   "execution_count": 5,
   "metadata": {},
   "outputs": [
    {
     "data": {
      "text/html": [
       "<div>\n",
       "<style scoped>\n",
       "    .dataframe tbody tr th:only-of-type {\n",
       "        vertical-align: middle;\n",
       "    }\n",
       "\n",
       "    .dataframe tbody tr th {\n",
       "        vertical-align: top;\n",
       "    }\n",
       "\n",
       "    .dataframe thead th {\n",
       "        text-align: right;\n",
       "    }\n",
       "</style>\n",
       "<table border=\"1\" class=\"dataframe\">\n",
       "  <thead>\n",
       "    <tr style=\"text-align: right;\">\n",
       "      <th></th>\n",
       "      <th>id</th>\n",
       "      <th>f0</th>\n",
       "      <th>f1</th>\n",
       "      <th>f2</th>\n",
       "      <th>product</th>\n",
       "    </tr>\n",
       "  </thead>\n",
       "  <tbody>\n",
       "    <tr>\n",
       "      <th>0</th>\n",
       "      <td>fwXo0</td>\n",
       "      <td>-1.146987</td>\n",
       "      <td>0.963328</td>\n",
       "      <td>-0.828965</td>\n",
       "      <td>27.758673</td>\n",
       "    </tr>\n",
       "    <tr>\n",
       "      <th>1</th>\n",
       "      <td>WJtFt</td>\n",
       "      <td>0.262778</td>\n",
       "      <td>0.269839</td>\n",
       "      <td>-2.530187</td>\n",
       "      <td>56.069697</td>\n",
       "    </tr>\n",
       "    <tr>\n",
       "      <th>2</th>\n",
       "      <td>ovLUW</td>\n",
       "      <td>0.194587</td>\n",
       "      <td>0.289035</td>\n",
       "      <td>-5.586433</td>\n",
       "      <td>62.871910</td>\n",
       "    </tr>\n",
       "    <tr>\n",
       "      <th>3</th>\n",
       "      <td>q6cA6</td>\n",
       "      <td>2.236060</td>\n",
       "      <td>-0.553760</td>\n",
       "      <td>0.930038</td>\n",
       "      <td>114.572842</td>\n",
       "    </tr>\n",
       "    <tr>\n",
       "      <th>4</th>\n",
       "      <td>WPMUX</td>\n",
       "      <td>-0.515993</td>\n",
       "      <td>1.716266</td>\n",
       "      <td>5.899011</td>\n",
       "      <td>149.600746</td>\n",
       "    </tr>\n",
       "  </tbody>\n",
       "</table>\n",
       "</div>"
      ],
      "text/plain": [
       "      id        f0        f1        f2     product\n",
       "0  fwXo0 -1.146987  0.963328 -0.828965   27.758673\n",
       "1  WJtFt  0.262778  0.269839 -2.530187   56.069697\n",
       "2  ovLUW  0.194587  0.289035 -5.586433   62.871910\n",
       "3  q6cA6  2.236060 -0.553760  0.930038  114.572842\n",
       "4  WPMUX -0.515993  1.716266  5.899011  149.600746"
      ]
     },
     "metadata": {},
     "output_type": "display_data"
    }
   ],
   "source": [
    "# Ознакомление с содержимым geo_2\n",
    "\n",
    "display(geo_2.head())"
   ]
  },
  {
   "cell_type": "code",
   "execution_count": 6,
   "metadata": {},
   "outputs": [
    {
     "name": "stdout",
     "output_type": "stream",
     "text": [
      "<class 'pandas.core.frame.DataFrame'>\n",
      "RangeIndex: 100000 entries, 0 to 99999\n",
      "Data columns (total 5 columns):\n",
      " #   Column   Non-Null Count   Dtype  \n",
      "---  ------   --------------   -----  \n",
      " 0   id       100000 non-null  object \n",
      " 1   f0       100000 non-null  float64\n",
      " 2   f1       100000 non-null  float64\n",
      " 3   f2       100000 non-null  float64\n",
      " 4   product  100000 non-null  float64\n",
      "dtypes: float64(4), object(1)\n",
      "memory usage: 3.8+ MB\n"
     ]
    },
    {
     "data": {
      "text/plain": [
       "None"
      ]
     },
     "metadata": {},
     "output_type": "display_data"
    }
   ],
   "source": [
    "# Информация о наборе данных geo_0\n",
    "\n",
    "display(geo_0.info())"
   ]
  },
  {
   "cell_type": "code",
   "execution_count": 7,
   "metadata": {},
   "outputs": [
    {
     "name": "stdout",
     "output_type": "stream",
     "text": [
      "<class 'pandas.core.frame.DataFrame'>\n",
      "RangeIndex: 100000 entries, 0 to 99999\n",
      "Data columns (total 5 columns):\n",
      " #   Column   Non-Null Count   Dtype  \n",
      "---  ------   --------------   -----  \n",
      " 0   id       100000 non-null  object \n",
      " 1   f0       100000 non-null  float64\n",
      " 2   f1       100000 non-null  float64\n",
      " 3   f2       100000 non-null  float64\n",
      " 4   product  100000 non-null  float64\n",
      "dtypes: float64(4), object(1)\n",
      "memory usage: 3.8+ MB\n"
     ]
    },
    {
     "data": {
      "text/plain": [
       "None"
      ]
     },
     "metadata": {},
     "output_type": "display_data"
    }
   ],
   "source": [
    "# Информация о наборе данных geo_1\n",
    "\n",
    "display(geo_1.info())"
   ]
  },
  {
   "cell_type": "code",
   "execution_count": 8,
   "metadata": {},
   "outputs": [
    {
     "name": "stdout",
     "output_type": "stream",
     "text": [
      "<class 'pandas.core.frame.DataFrame'>\n",
      "RangeIndex: 100000 entries, 0 to 99999\n",
      "Data columns (total 5 columns):\n",
      " #   Column   Non-Null Count   Dtype  \n",
      "---  ------   --------------   -----  \n",
      " 0   id       100000 non-null  object \n",
      " 1   f0       100000 non-null  float64\n",
      " 2   f1       100000 non-null  float64\n",
      " 3   f2       100000 non-null  float64\n",
      " 4   product  100000 non-null  float64\n",
      "dtypes: float64(4), object(1)\n",
      "memory usage: 3.8+ MB\n"
     ]
    },
    {
     "data": {
      "text/plain": [
       "None"
      ]
     },
     "metadata": {},
     "output_type": "display_data"
    }
   ],
   "source": [
    "# Информация о наборе данных geo_2\n",
    "\n",
    "display(geo_2.info())"
   ]
  },
  {
   "cell_type": "code",
   "execution_count": 9,
   "metadata": {
    "scrolled": true
   },
   "outputs": [
    {
     "data": {
      "text/plain": [
       "0"
      ]
     },
     "metadata": {},
     "output_type": "display_data"
    }
   ],
   "source": [
    "# Проверка на дубликаты geo_0\n",
    "\n",
    "display(geo_0.duplicated().sum())"
   ]
  },
  {
   "cell_type": "code",
   "execution_count": 10,
   "metadata": {},
   "outputs": [
    {
     "data": {
      "text/plain": [
       "0"
      ]
     },
     "metadata": {},
     "output_type": "display_data"
    }
   ],
   "source": [
    "# Проверка на дубликаты geo_1\n",
    "\n",
    "display(geo_1.duplicated().sum())"
   ]
  },
  {
   "cell_type": "code",
   "execution_count": 11,
   "metadata": {},
   "outputs": [
    {
     "data": {
      "text/plain": [
       "0"
      ]
     },
     "metadata": {},
     "output_type": "display_data"
    }
   ],
   "source": [
    "# Проверка на дубликаты geo_2\n",
    "\n",
    "display(geo_2.duplicated().sum())"
   ]
  },
  {
   "cell_type": "code",
   "execution_count": 12,
   "metadata": {},
   "outputs": [
    {
     "data": {
      "text/plain": [
       "id          99990\n",
       "f0         100000\n",
       "f1         100000\n",
       "f2         100000\n",
       "product    100000\n",
       "dtype: int64"
      ]
     },
     "metadata": {},
     "output_type": "display_data"
    }
   ],
   "source": [
    "# Проверка на неявные дубликаты geo_0\n",
    "\n",
    "display(geo_0.nunique())"
   ]
  },
  {
   "cell_type": "code",
   "execution_count": 13,
   "metadata": {},
   "outputs": [
    {
     "data": {
      "text/plain": [
       "id          99996\n",
       "f0         100000\n",
       "f1         100000\n",
       "f2         100000\n",
       "product        12\n",
       "dtype: int64"
      ]
     },
     "metadata": {},
     "output_type": "display_data"
    }
   ],
   "source": [
    "# Проверка на неявные дубликаты geo_1\n",
    "\n",
    "display(geo_1.nunique())"
   ]
  },
  {
   "cell_type": "code",
   "execution_count": 14,
   "metadata": {},
   "outputs": [
    {
     "data": {
      "text/plain": [
       "id          99996\n",
       "f0         100000\n",
       "f1         100000\n",
       "f2         100000\n",
       "product    100000\n",
       "dtype: int64"
      ]
     },
     "metadata": {},
     "output_type": "display_data"
    }
   ],
   "source": [
    "# Проверка на неявные дубликаты geo_2\n",
    "\n",
    "display(geo_2.nunique())"
   ]
  },
  {
   "cell_type": "code",
   "execution_count": 15,
   "metadata": {},
   "outputs": [
    {
     "data": {
      "text/plain": [
       "10"
      ]
     },
     "metadata": {},
     "output_type": "display_data"
    },
    {
     "data": {
      "text/plain": [
       "4"
      ]
     },
     "metadata": {},
     "output_type": "display_data"
    },
    {
     "data": {
      "text/plain": [
       "4"
      ]
     },
     "metadata": {},
     "output_type": "display_data"
    }
   ],
   "source": [
    "# Видны дубликаты по id\n",
    "\n",
    "display(geo_0['id'].duplicated().sum())\n",
    "display(geo_1['id'].duplicated().sum())\n",
    "display(geo_2['id'].duplicated().sum())"
   ]
  },
  {
   "cell_type": "code",
   "execution_count": 16,
   "metadata": {},
   "outputs": [
    {
     "data": {
      "text/plain": [
       "0"
      ]
     },
     "metadata": {},
     "output_type": "display_data"
    },
    {
     "data": {
      "text/plain": [
       "0"
      ]
     },
     "metadata": {},
     "output_type": "display_data"
    },
    {
     "data": {
      "text/plain": [
       "0"
      ]
     },
     "metadata": {},
     "output_type": "display_data"
    }
   ],
   "source": [
    "# Удалим дублирующиеся id, так как в одни и те же id записаны разные данные\n",
    "\n",
    "geo_0 = geo_0.drop_duplicates(subset='id', keep='first')\n",
    "geo_1 = geo_1.drop_duplicates(subset='id', keep='first')\n",
    "geo_2 = geo_2.drop_duplicates(subset='id', keep='first')\n",
    "\n",
    "# Проверка\n",
    "\n",
    "display(geo_0['id'].duplicated().sum())\n",
    "display(geo_1['id'].duplicated().sum())\n",
    "display(geo_2['id'].duplicated().sum())"
   ]
  },
  {
   "cell_type": "markdown",
   "metadata": {},
   "source": [
    "Вывод:\n",
    "\n",
    "1. **Загрузка данных:**\n",
    "   - Данные из всех трех регионов успешно загружены.\n",
    "   - Размеры наборов данных: 100,000 строк и 5 столбцов в каждом.\n",
    "   - Типы данных корректны.\n",
    "   \n",
    "\n",
    "2. **Проверка данных:**\n",
    "   - Пропущенные значения: отсутствуют во всех наборах данных.\n",
    "   - Дубликаты на уровне `id`:\n",
    "     - **geo_0**: 10 повторов.\n",
    "     - **geo_1**: 4 повтора.\n",
    "     - **geo_2**: 4 повтора.\n",
    "     - Далее они были удалены (удалены второые и последующие дубли)\n",
    "   - Уникальные значения:\n",
    "     - `id`: около 99,990–99,996 уникальных `id` в каждом наборе (некоторые повторяются).\n",
    "     - `product` в **geo_1** имеет всего 12 уникальных значений, остальные регионы показывают уникальные значения для всех записей.\n"
   ]
  },
  {
   "cell_type": "markdown",
   "metadata": {},
   "source": [
    "## Обучение и проверка модели"
   ]
  },
  {
   "cell_type": "code",
   "execution_count": 17,
   "metadata": {},
   "outputs": [
    {
     "data": {
      "text/html": [
       "<div>\n",
       "<style scoped>\n",
       "    .dataframe tbody tr th:only-of-type {\n",
       "        vertical-align: middle;\n",
       "    }\n",
       "\n",
       "    .dataframe tbody tr th {\n",
       "        vertical-align: top;\n",
       "    }\n",
       "\n",
       "    .dataframe thead th {\n",
       "        text-align: right;\n",
       "    }\n",
       "</style>\n",
       "<table border=\"1\" class=\"dataframe\">\n",
       "  <thead>\n",
       "    <tr style=\"text-align: right;\">\n",
       "      <th></th>\n",
       "      <th>f0</th>\n",
       "      <th>f1</th>\n",
       "      <th>f2</th>\n",
       "      <th>product</th>\n",
       "    </tr>\n",
       "    <tr>\n",
       "      <th>id</th>\n",
       "      <th></th>\n",
       "      <th></th>\n",
       "      <th></th>\n",
       "      <th></th>\n",
       "    </tr>\n",
       "  </thead>\n",
       "  <tbody>\n",
       "    <tr>\n",
       "      <th>txEyH</th>\n",
       "      <td>0.705745</td>\n",
       "      <td>-0.497823</td>\n",
       "      <td>1.221170</td>\n",
       "      <td>105.280062</td>\n",
       "    </tr>\n",
       "    <tr>\n",
       "      <th>2acmU</th>\n",
       "      <td>1.334711</td>\n",
       "      <td>-0.340164</td>\n",
       "      <td>4.365080</td>\n",
       "      <td>73.037750</td>\n",
       "    </tr>\n",
       "    <tr>\n",
       "      <th>409Wp</th>\n",
       "      <td>1.022732</td>\n",
       "      <td>0.151990</td>\n",
       "      <td>1.419926</td>\n",
       "      <td>85.265647</td>\n",
       "    </tr>\n",
       "    <tr>\n",
       "      <th>iJLyR</th>\n",
       "      <td>-0.032172</td>\n",
       "      <td>0.139033</td>\n",
       "      <td>2.978566</td>\n",
       "      <td>168.620776</td>\n",
       "    </tr>\n",
       "    <tr>\n",
       "      <th>Xdl7t</th>\n",
       "      <td>1.988431</td>\n",
       "      <td>0.155413</td>\n",
       "      <td>4.751769</td>\n",
       "      <td>154.036647</td>\n",
       "    </tr>\n",
       "  </tbody>\n",
       "</table>\n",
       "</div>"
      ],
      "text/plain": [
       "             f0        f1        f2     product\n",
       "id                                             \n",
       "txEyH  0.705745 -0.497823  1.221170  105.280062\n",
       "2acmU  1.334711 -0.340164  4.365080   73.037750\n",
       "409Wp  1.022732  0.151990  1.419926   85.265647\n",
       "iJLyR -0.032172  0.139033  2.978566  168.620776\n",
       "Xdl7t  1.988431  0.155413  4.751769  154.036647"
      ]
     },
     "metadata": {},
     "output_type": "display_data"
    },
    {
     "data": {
      "text/html": [
       "<div>\n",
       "<style scoped>\n",
       "    .dataframe tbody tr th:only-of-type {\n",
       "        vertical-align: middle;\n",
       "    }\n",
       "\n",
       "    .dataframe tbody tr th {\n",
       "        vertical-align: top;\n",
       "    }\n",
       "\n",
       "    .dataframe thead th {\n",
       "        text-align: right;\n",
       "    }\n",
       "</style>\n",
       "<table border=\"1\" class=\"dataframe\">\n",
       "  <thead>\n",
       "    <tr style=\"text-align: right;\">\n",
       "      <th></th>\n",
       "      <th>f0</th>\n",
       "      <th>f1</th>\n",
       "      <th>f2</th>\n",
       "      <th>product</th>\n",
       "    </tr>\n",
       "    <tr>\n",
       "      <th>id</th>\n",
       "      <th></th>\n",
       "      <th></th>\n",
       "      <th></th>\n",
       "      <th></th>\n",
       "    </tr>\n",
       "  </thead>\n",
       "  <tbody>\n",
       "    <tr>\n",
       "      <th>kBEdx</th>\n",
       "      <td>-15.001348</td>\n",
       "      <td>-8.276000</td>\n",
       "      <td>-0.005876</td>\n",
       "      <td>3.179103</td>\n",
       "    </tr>\n",
       "    <tr>\n",
       "      <th>62mP7</th>\n",
       "      <td>14.272088</td>\n",
       "      <td>-3.475083</td>\n",
       "      <td>0.999183</td>\n",
       "      <td>26.953261</td>\n",
       "    </tr>\n",
       "    <tr>\n",
       "      <th>vyE1P</th>\n",
       "      <td>6.263187</td>\n",
       "      <td>-5.948386</td>\n",
       "      <td>5.001160</td>\n",
       "      <td>134.766305</td>\n",
       "    </tr>\n",
       "    <tr>\n",
       "      <th>KcrkZ</th>\n",
       "      <td>-13.081196</td>\n",
       "      <td>-11.506057</td>\n",
       "      <td>4.999415</td>\n",
       "      <td>137.945408</td>\n",
       "    </tr>\n",
       "    <tr>\n",
       "      <th>AHL4O</th>\n",
       "      <td>12.702195</td>\n",
       "      <td>-8.147433</td>\n",
       "      <td>5.004363</td>\n",
       "      <td>134.766305</td>\n",
       "    </tr>\n",
       "  </tbody>\n",
       "</table>\n",
       "</div>"
      ],
      "text/plain": [
       "              f0         f1        f2     product\n",
       "id                                               \n",
       "kBEdx -15.001348  -8.276000 -0.005876    3.179103\n",
       "62mP7  14.272088  -3.475083  0.999183   26.953261\n",
       "vyE1P   6.263187  -5.948386  5.001160  134.766305\n",
       "KcrkZ -13.081196 -11.506057  4.999415  137.945408\n",
       "AHL4O  12.702195  -8.147433  5.004363  134.766305"
      ]
     },
     "metadata": {},
     "output_type": "display_data"
    },
    {
     "data": {
      "text/html": [
       "<div>\n",
       "<style scoped>\n",
       "    .dataframe tbody tr th:only-of-type {\n",
       "        vertical-align: middle;\n",
       "    }\n",
       "\n",
       "    .dataframe tbody tr th {\n",
       "        vertical-align: top;\n",
       "    }\n",
       "\n",
       "    .dataframe thead th {\n",
       "        text-align: right;\n",
       "    }\n",
       "</style>\n",
       "<table border=\"1\" class=\"dataframe\">\n",
       "  <thead>\n",
       "    <tr style=\"text-align: right;\">\n",
       "      <th></th>\n",
       "      <th>f0</th>\n",
       "      <th>f1</th>\n",
       "      <th>f2</th>\n",
       "      <th>product</th>\n",
       "    </tr>\n",
       "    <tr>\n",
       "      <th>id</th>\n",
       "      <th></th>\n",
       "      <th></th>\n",
       "      <th></th>\n",
       "      <th></th>\n",
       "    </tr>\n",
       "  </thead>\n",
       "  <tbody>\n",
       "    <tr>\n",
       "      <th>fwXo0</th>\n",
       "      <td>-1.146987</td>\n",
       "      <td>0.963328</td>\n",
       "      <td>-0.828965</td>\n",
       "      <td>27.758673</td>\n",
       "    </tr>\n",
       "    <tr>\n",
       "      <th>WJtFt</th>\n",
       "      <td>0.262778</td>\n",
       "      <td>0.269839</td>\n",
       "      <td>-2.530187</td>\n",
       "      <td>56.069697</td>\n",
       "    </tr>\n",
       "    <tr>\n",
       "      <th>ovLUW</th>\n",
       "      <td>0.194587</td>\n",
       "      <td>0.289035</td>\n",
       "      <td>-5.586433</td>\n",
       "      <td>62.871910</td>\n",
       "    </tr>\n",
       "    <tr>\n",
       "      <th>q6cA6</th>\n",
       "      <td>2.236060</td>\n",
       "      <td>-0.553760</td>\n",
       "      <td>0.930038</td>\n",
       "      <td>114.572842</td>\n",
       "    </tr>\n",
       "    <tr>\n",
       "      <th>WPMUX</th>\n",
       "      <td>-0.515993</td>\n",
       "      <td>1.716266</td>\n",
       "      <td>5.899011</td>\n",
       "      <td>149.600746</td>\n",
       "    </tr>\n",
       "  </tbody>\n",
       "</table>\n",
       "</div>"
      ],
      "text/plain": [
       "             f0        f1        f2     product\n",
       "id                                             \n",
       "fwXo0 -1.146987  0.963328 -0.828965   27.758673\n",
       "WJtFt  0.262778  0.269839 -2.530187   56.069697\n",
       "ovLUW  0.194587  0.289035 -5.586433   62.871910\n",
       "q6cA6  2.236060 -0.553760  0.930038  114.572842\n",
       "WPMUX -0.515993  1.716266  5.899011  149.600746"
      ]
     },
     "metadata": {},
     "output_type": "display_data"
    }
   ],
   "source": [
    "# установим id в качестве индекса\n",
    "\n",
    "geo_0 = geo_0.set_index('id')\n",
    "geo_1 = geo_1.set_index('id')\n",
    "geo_2 = geo_2.set_index('id')\n",
    "\n",
    "# проверим\n",
    "\n",
    "display(geo_0.head())\n",
    "display(geo_1.head())\n",
    "display(geo_2.head())"
   ]
  },
  {
   "cell_type": "code",
   "execution_count": 18,
   "metadata": {},
   "outputs": [
    {
     "data": {
      "text/plain": [
       "3"
      ]
     },
     "execution_count": 18,
     "metadata": {},
     "output_type": "execute_result"
    }
   ],
   "source": [
    "# Список для всех наборов данных\n",
    "\n",
    "datasets = [geo_0, geo_1, geo_2]\n",
    "\n",
    "# проверим\n",
    "\n",
    "len(datasets)"
   ]
  },
  {
   "cell_type": "code",
   "execution_count": 19,
   "metadata": {},
   "outputs": [],
   "source": [
    "# Список для хранения разделённых выборок\n",
    "\n",
    "splits = []"
   ]
  },
  {
   "cell_type": "code",
   "execution_count": 20,
   "metadata": {
    "scrolled": true
   },
   "outputs": [
    {
     "data": {
      "text/plain": [
       "3"
      ]
     },
     "execution_count": 20,
     "metadata": {},
     "output_type": "execute_result"
    }
   ],
   "source": [
    "for data in datasets:\n",
    "\n",
    "    X = data.drop('product', axis=1)\n",
    "    y = data['product']\n",
    "    X_train, X_valid, y_train, y_valid = train_test_split(\n",
    "        X, y,\n",
    "        test_size=TEST_SIZE,\n",
    "        random_state=RANDOM_STATE\n",
    "    )\n",
    "    splits.append((X_train, X_valid, y_train, y_valid))\n",
    "    \n",
    "# проверим\n",
    "\n",
    "len(splits)"
   ]
  },
  {
   "cell_type": "code",
   "execution_count": 21,
   "metadata": {},
   "outputs": [],
   "source": [
    "# Список для хранения предсказаний (понадобится в шаге 4)\n",
    "\n",
    "predictions = []\n",
    "\n",
    "# Список для хранения RMSE\n",
    "\n",
    "rmse_scores = []\n",
    "\n",
    "# Список для хранения средних предсказаний\n",
    "\n",
    "average_predictions = []"
   ]
  },
  {
   "cell_type": "code",
   "execution_count": 22,
   "metadata": {
    "scrolled": true
   },
   "outputs": [],
   "source": [
    "for X_train, X_valid, y_train, y_valid in splits:\n",
    "\n",
    "    # Обучение и тренировка\n",
    "    \n",
    "    model = LinearRegression()\n",
    "    model.fit(X_train, y_train)\n",
    "    \n",
    "    # Предсказания на валидационной выборке\n",
    "    \n",
    "    y_pred = model.predict(X_valid)\n",
    "    \n",
    "    # Вычисляем RMSE\n",
    "    \n",
    "    predictions.append((y_valid, y_pred))\n",
    "    rmse = np.sqrt(mean_squared_error(y_valid, y_pred))\n",
    "    rmse_scores.append(rmse)\n",
    "    \n",
    "    # Вычисляем средний предсказанный запас сырья\n",
    "    \n",
    "    average_pred = y_pred.mean()\n",
    "    average_predictions.append(average_pred)\n"
   ]
  },
  {
   "cell_type": "code",
   "execution_count": 23,
   "metadata": {},
   "outputs": [],
   "source": [
    "# Выводим результат \n",
    "\n",
    "results = {\n",
    "    \"Регион\": [\"Geo_0\", \"Geo_1\", \"Geo_2\"],\n",
    "    \"RMSE\": rmse_scores,\n",
    "    \"Cредний запас предсказанного сырья\": average_predictions\n",
    "}"
   ]
  },
  {
   "cell_type": "code",
   "execution_count": 24,
   "metadata": {
    "scrolled": true
   },
   "outputs": [
    {
     "data": {
      "text/html": [
       "<div>\n",
       "<style scoped>\n",
       "    .dataframe tbody tr th:only-of-type {\n",
       "        vertical-align: middle;\n",
       "    }\n",
       "\n",
       "    .dataframe tbody tr th {\n",
       "        vertical-align: top;\n",
       "    }\n",
       "\n",
       "    .dataframe thead th {\n",
       "        text-align: right;\n",
       "    }\n",
       "</style>\n",
       "<table border=\"1\" class=\"dataframe\">\n",
       "  <thead>\n",
       "    <tr style=\"text-align: right;\">\n",
       "      <th></th>\n",
       "      <th>Регион</th>\n",
       "      <th>RMSE</th>\n",
       "      <th>Cредний запас предсказанного сырья</th>\n",
       "    </tr>\n",
       "  </thead>\n",
       "  <tbody>\n",
       "    <tr>\n",
       "      <th>0</th>\n",
       "      <td>Geo_0</td>\n",
       "      <td>37.685089</td>\n",
       "      <td>92.609840</td>\n",
       "    </tr>\n",
       "    <tr>\n",
       "      <th>1</th>\n",
       "      <td>Geo_1</td>\n",
       "      <td>0.892827</td>\n",
       "      <td>68.577035</td>\n",
       "    </tr>\n",
       "    <tr>\n",
       "      <th>2</th>\n",
       "      <td>Geo_2</td>\n",
       "      <td>40.080822</td>\n",
       "      <td>94.934787</td>\n",
       "    </tr>\n",
       "  </tbody>\n",
       "</table>\n",
       "</div>"
      ],
      "text/plain": [
       "  Регион       RMSE  Cредний запас предсказанного сырья\n",
       "0  Geo_0  37.685089                           92.609840\n",
       "1  Geo_1   0.892827                           68.577035\n",
       "2  Geo_2  40.080822                           94.934787"
      ]
     },
     "execution_count": 24,
     "metadata": {},
     "output_type": "execute_result"
    }
   ],
   "source": [
    "# Создание DataFrame для отображения результатов\n",
    "\n",
    "results_df = pd.DataFrame(results)\n",
    "\n",
    "results_df"
   ]
  },
  {
   "cell_type": "markdown",
   "metadata": {},
   "source": [
    "Результаты проверки моделей для каждого региона:\n",
    "\n",
    "**Geo_0:**\n",
    "\n",
    "- RMSE: 37.69\n",
    "- Средний предсказанный запас сырья: 92.61 тыс. баррелей\n",
    "\n",
    "**Geo_1:**\n",
    "\n",
    "- RMSE: 0.89\n",
    "- Средний предсказанный запас сырья: 68.58 тыс. баррелей\n",
    "\n",
    "**Geo_2:**\n",
    "\n",
    "- RMSE: 40.08\n",
    "- Средний предсказанный запас сырья: 94.93 тыс. баррелей"
   ]
  },
  {
   "cell_type": "markdown",
   "metadata": {},
   "source": [
    "## Подготовка к расчёту прибыли"
   ]
  },
  {
   "cell_type": "code",
   "execution_count": 25,
   "metadata": {},
   "outputs": [],
   "source": [
    "# Бюджет на разработку (10 млрд рублей)\n",
    "\n",
    "BUDGET = 10_000_000_000\n",
    "\n",
    "# Доход с 1 тыс. баррелей\n",
    "\n",
    "BARREL_INCOME = 450_000\n",
    "\n",
    "# Количество скважин для разработки\n",
    "\n",
    "WELL_COUNT = 200\n",
    "\n",
    "# Общее количество скважин в регионе\n",
    "    \n",
    "REGION_WELL_COUNT = 500"
   ]
  },
  {
   "cell_type": "code",
   "execution_count": 26,
   "metadata": {},
   "outputs": [
    {
     "name": "stdout",
     "output_type": "stream",
     "text": [
      "Достаточный объём сырья для безубыточности: 111.11 тыс. баррелей\n"
     ]
    }
   ],
   "source": [
    "# Формула: минимальный объём сырья = бюджет / доход на 1 тыс. баррелей / количество скважин\n",
    "\n",
    "min_volume_for_profit = BUDGET / (BARREL_INCOME * WELL_COUNT)\n",
    "print(f\"Достаточный объём сырья для безубыточности: {min_volume_for_profit:.2f} тыс. баррелей\")"
   ]
  },
  {
   "cell_type": "code",
   "execution_count": 27,
   "metadata": {},
   "outputs": [
    {
     "name": "stdout",
     "output_type": "stream",
     "text": [
      "Средний запас сырья в регионе Geo_0: 92.61 тыс. баррелей\n",
      "Регион Geo_0 не достигает безубыточного объёма сырья.\n",
      "Средний запас сырья в регионе Geo_1: 68.58 тыс. баррелей\n",
      "Регион Geo_1 не достигает безубыточного объёма сырья.\n",
      "Средний запас сырья в регионе Geo_2: 94.93 тыс. баррелей\n",
      "Регион Geo_2 не достигает безубыточного объёма сырья.\n"
     ]
    }
   ],
   "source": [
    "# Сравнение с средними запасами в каждом регионе\n",
    "\n",
    "for i, avg_pred in enumerate(average_predictions):\n",
    "    print(f\"Средний запас сырья в регионе Geo_{i}: {avg_pred:.2f} тыс. баррелей\")\n",
    "    if avg_pred > min_volume_for_profit:\n",
    "        print(f\"Регион Geo_{i} превышает безубыточный объём сырья.\")\n",
    "    else:\n",
    "        print(f\"Регион Geo_{i} не достигает безубыточного объёма сырья.\")\n",
    "\n"
   ]
  },
  {
   "cell_type": "markdown",
   "metadata": {},
   "source": [
    "**Вывод:**\n",
    "\n",
    "Проведённый анализ показал, что при текущих условиях (бюджет 10 млрд рублей, доход 450 тыс. рублей за 1 тыс. баррелей):\n",
    "\n",
    "- Средний запас нефти в регионах `Geo_0 (92.61 тыс. баррелей)`, `Geo_1 (68.58 тыс. баррелей)` и `Geo_2 (94.93 тыс. баррелей)` ниже `безубыточного объёма (111 тыс. баррелей)`.\n",
    "\n",
    "- Это указывает на то, что разработка всех скважин в регионе будет убыточной.\n"
   ]
  },
  {
   "cell_type": "markdown",
   "metadata": {},
   "source": [
    "## Расчёт прибыли и рисков "
   ]
  },
  {
   "cell_type": "code",
   "execution_count": 28,
   "metadata": {},
   "outputs": [
    {
     "data": {
      "text/html": [
       "<div>\n",
       "<style scoped>\n",
       "    .dataframe tbody tr th:only-of-type {\n",
       "        vertical-align: middle;\n",
       "    }\n",
       "\n",
       "    .dataframe tbody tr th {\n",
       "        vertical-align: top;\n",
       "    }\n",
       "\n",
       "    .dataframe thead th {\n",
       "        text-align: right;\n",
       "    }\n",
       "</style>\n",
       "<table border=\"1\" class=\"dataframe\">\n",
       "  <thead>\n",
       "    <tr style=\"text-align: right;\">\n",
       "      <th></th>\n",
       "      <th>Регион</th>\n",
       "      <th>Прибыль (млрд)</th>\n",
       "    </tr>\n",
       "  </thead>\n",
       "  <tbody>\n",
       "    <tr>\n",
       "      <th>0</th>\n",
       "      <td>Geo_0</td>\n",
       "      <td>3.469</td>\n",
       "    </tr>\n",
       "    <tr>\n",
       "      <th>1</th>\n",
       "      <td>Geo_1</td>\n",
       "      <td>2.415</td>\n",
       "    </tr>\n",
       "    <tr>\n",
       "      <th>2</th>\n",
       "      <td>Geo_2</td>\n",
       "      <td>2.397</td>\n",
       "    </tr>\n",
       "  </tbody>\n",
       "</table>\n",
       "</div>"
      ],
      "text/plain": [
       "  Регион Прибыль (млрд)\n",
       "0  Geo_0          3.469\n",
       "1  Geo_1          2.415\n",
       "2  Geo_2          2.397"
      ]
     },
     "execution_count": 28,
     "metadata": {},
     "output_type": "execute_result"
    }
   ],
   "source": [
    "# Функция для расчёта прибыли\n",
    "def calculate_profit(target, predictions, BUDGET, BARREL_INCOME, WELL_COUNT):\n",
    "    \"\"\"\n",
    "    Расчёт прибыли для заданного количества скважин\n",
    "    \"\"\"\n",
    "    selected_indices = predictions.sort_values(ascending=False).index.drop_duplicates()[:WELL_COUNT]\n",
    "    selected_target = target.loc[selected_indices]\n",
    "    #print(f\"Размер selected_target: {len(selected_target)} (Ожидается {WELL_COUNT})\")\n",
    "    total_product = selected_target.sum()\n",
    "    revenue = total_product * BARREL_INCOME\n",
    "    profit = revenue - BUDGET\n",
    "    return profit\n",
    "\n",
    "# Применение функции для каждого региона\n",
    "\n",
    "profits = []\n",
    "\n",
    "for i, (y_valid, y_pred) in enumerate(predictions):\n",
    "    y_pred_series = pd.Series(y_pred, index=y_valid.index)\n",
    "    profit = calculate_profit(\n",
    "        target=y_valid,\n",
    "        predictions=y_pred_series,\n",
    "        BUDGET=BUDGET,\n",
    "        BARREL_INCOME=BARREL_INCOME,\n",
    "        WELL_COUNT=WELL_COUNT\n",
    "    )\n",
    "    profits.append({\"Регион\": f\"Geo_{i}\", \"Прибыль (млрд)\": profit})\n",
    "    \n",
    "\n",
    "# Создание DataFrame с прибылью\n",
    "\n",
    "profits_df = pd.DataFrame(profits)\n",
    "\n",
    "# Форматируем прибыль в миллиардах с пробелами как разделителями тысяч\n",
    "\n",
    "profits_df['Прибыль (млрд)'] = profits_df['Прибыль (млрд)'] / 1_000_000_000\n",
    "profits_df['Прибыль (млрд)'] = profits_df['Прибыль (млрд)'].apply(lambda x: f\"{x:,.3f}\")\n",
    "\n",
    "\n",
    "profits_df"
   ]
  },
  {
   "cell_type": "markdown",
   "metadata": {},
   "source": [
    "*На основе расчёта прибыли для каждого региона, мы выбрали 200 скважин с наибольшими предсказанными значениями запасов нефти и рассчитали прибыль для каждой из этих локаций.*\n",
    "\n",
    "\t1.\tGeo_0: Прибыль составила 3.469 миллиарда рублей.\n",
    "\t2.\tGeo_1: Прибыль составила 2.415 миллиарда рублей.\n",
    "\t3.\tGeo_2: Прибыль составила 2.397 миллиарда рублей.\n",
    "    \n",
    "Таким образом, если мы ориентируемся исключительно на прибыль, `Geo_0` является наилучшим выбором для разработки новых скважин."
   ]
  },
  {
   "cell_type": "markdown",
   "metadata": {},
   "source": [
    "## Риски и прибыль каждого региона"
   ]
  },
  {
   "cell_type": "code",
   "execution_count": 29,
   "metadata": {},
   "outputs": [],
   "source": [
    "# Функция для расчёта прибыли с Bootstrap\n",
    "\n",
    "def bootstrap_profit(target, predictions, n_samples, BUDGET, \n",
    "                     BARREL_INCOME, REGION_WELL_COUNT, WELL_COUNT):\n",
    "    state = np.random.RandomState(RANDOM_STATE)\n",
    "    profits = []\n",
    "    for _ in range(n_samples):\n",
    "        # Генерация индексов с заменой\n",
    "        \n",
    "        sampled_indices = state.choice(\n",
    "            predictions.index, size=REGION_WELL_COUNT, replace=True\n",
    "        )\n",
    "        \n",
    "        # Формируем выборки target и predictions\n",
    "        sampled_target = target.loc[sampled_indices]\n",
    "        sampled_predictions = predictions[sampled_indices]\n",
    "        \n",
    "        # Вычисляем прибыль\n",
    "        profit = calculate_profit(\n",
    "            target=sampled_target,\n",
    "            predictions=sampled_predictions,\n",
    "            BUDGET=BUDGET,\n",
    "            BARREL_INCOME=BARREL_INCOME,\n",
    "            WELL_COUNT=WELL_COUNT\n",
    "        )\n",
    "        profits.append(profit)\n",
    "    return profits"
   ]
  },
  {
   "cell_type": "code",
   "execution_count": 30,
   "metadata": {},
   "outputs": [
    {
     "name": "stdout",
     "output_type": "stream",
     "text": [
      "  Регион  Средняя прибыль (млрд)         95%-й доверительный интервал (млрд)  \\\n",
      "0  Geo_0                0.498949   (-0.04514548570310179, 1.025832538009626)   \n",
      "1  Geo_1                0.505131   (0.09030573287806311, 0.9551679778956492)   \n",
      "2  Geo_2                0.477378  (-0.05166368902573333, 1.0114617231210576)   \n",
      "\n",
      "   Риск убытков (%)  \n",
      "0               3.4  \n",
      "1               0.6  \n",
      "2               4.4  \n"
     ]
    }
   ],
   "source": [
    "# Расчёт Bootstrap\n",
    "\n",
    "bootstrap_results = []\n",
    "n_samples = 1000\n",
    "for i, (y_valid, y_pred) in enumerate(predictions):\n",
    "    y_pred_series = pd.Series(y_pred, index=y_valid.index)\n",
    "    profits = bootstrap_profit(\n",
    "        target=y_valid,\n",
    "        predictions=y_pred_series,\n",
    "        n_samples=n_samples,\n",
    "        BUDGET=BUDGET,\n",
    "        BARREL_INCOME=BARREL_INCOME,\n",
    "        REGION_WELL_COUNT=REGION_WELL_COUNT,\n",
    "        WELL_COUNT=WELL_COUNT\n",
    "    )\n",
    "    mean_profit = np.mean(profits)\n",
    "    lower_bound = np.percentile(profits, 2.5)\n",
    "    upper_bound = np.percentile(profits, 97.5)\n",
    "    loss_risk = (np.array(profits) < 0).mean()\n",
    "    \n",
    "    bootstrap_results.append({\n",
    "        \"Регион\": f\"Geo_{i}\",\n",
    "        \"Средняя прибыль (млрд)\": mean_profit / 1_000_000_000,\n",
    "        \"95%-й доверительный интервал (млрд)\": (\n",
    "            lower_bound / 1_000_000_000, upper_bound / 1_000_000_000\n",
    "        ),\n",
    "        \"Риск убытков (%)\": loss_risk * 100\n",
    "    })\n",
    "\n",
    "bootstrap_df = pd.DataFrame(bootstrap_results)\n",
    "print(bootstrap_df)"
   ]
  },
  {
   "cell_type": "markdown",
   "metadata": {},
   "source": [
    "**Выводы**\n",
    "\n",
    "1. `Регион Geo_0`:\n",
    "\n",
    "\t•\tСредняя прибыль: 0.620 млрд рублей.\n",
    "    \n",
    "\t•\t95%-й доверительный интервал: от 0.028 до 1.227 млрд рублей.\n",
    "    \n",
    "\t•\tРиск убытков: 1.9%.\n",
    "\n",
    "  `Регион Geo_0` демонстрирует стабильные показатели с низким риском убытков (менее 2%) и положительной средней прибылью. Этот регион подходит для разработки, но его средняя прибыль ниже, чем у `Geo_1`.\n",
    "\n",
    "___________________________________________________________________________________________________________________\n",
    "2. `Регион Geo_1`:\n",
    "\n",
    "\t•\tСредняя прибыль: 0.640 млрд рублей.\n",
    "    \n",
    "\t•\t95%-й доверительный интервал: от 0.152 до 1.223 млрд рублей.\n",
    "    \n",
    "\t•\tРиск убытков: 0.5%.\n",
    "\n",
    "  `Geo_1` является наиболее предпочтительным регионом для разработки. Он имеет наименьший риск убытков (всего 0.5%) и самую высокую среднюю прибыль. Этот регион можно рекомендовать для реализации проекта.\n",
    "\n",
    "___________________________________________________________________________________________________________________\n",
    "3. `Регион Geo_2`:\n",
    "\n",
    "\t•\tСредняя прибыль: 0.598 млрд рублей.\n",
    "    \n",
    "\t•\t95%-й доверительный интервал: от -0.018 до 1.272 млрд рублей.\n",
    "    \n",
    "\t•\tРиск убытков: 3.1%.\n",
    "\n",
    "  Хотя `Geo_2` имеет положительную среднюю прибыль, его риск убытков (3.1%) выше, чем у других регионов. Кроме того, нижняя граница доверительного интервала находится в отрицательной области, что делает этот регион менее стабильным для инвестиций."
   ]
  }
 ],
 "metadata": {
  "ExecuteTimeLog": [
   {
    "duration": 385,
    "start_time": "2024-12-22T05:39:32.851Z"
   },
   {
    "duration": 3,
    "start_time": "2024-12-22T05:39:54.310Z"
   },
   {
    "duration": 1008,
    "start_time": "2024-12-22T05:42:37.113Z"
   },
   {
    "duration": 16,
    "start_time": "2024-12-22T05:42:47.952Z"
   },
   {
    "duration": 14,
    "start_time": "2024-12-22T05:43:03.269Z"
   },
   {
    "duration": 16,
    "start_time": "2024-12-22T05:43:05.973Z"
   },
   {
    "duration": 16,
    "start_time": "2024-12-22T05:43:16.975Z"
   },
   {
    "duration": 30,
    "start_time": "2024-12-22T05:44:04.138Z"
   },
   {
    "duration": 23,
    "start_time": "2024-12-22T05:44:13.445Z"
   },
   {
    "duration": 27,
    "start_time": "2024-12-22T05:44:36.879Z"
   },
   {
    "duration": 30,
    "start_time": "2024-12-22T05:44:51.135Z"
   },
   {
    "duration": 24,
    "start_time": "2024-12-22T05:45:05.101Z"
   },
   {
    "duration": 25,
    "start_time": "2024-12-22T05:45:11.298Z"
   },
   {
    "duration": 26,
    "start_time": "2024-12-22T05:45:13.934Z"
   },
   {
    "duration": 22,
    "start_time": "2024-12-22T05:45:31.371Z"
   },
   {
    "duration": 381,
    "start_time": "2024-12-22T05:45:39.256Z"
   },
   {
    "duration": 950,
    "start_time": "2024-12-22T05:45:39.639Z"
   },
   {
    "duration": 39,
    "start_time": "2024-12-22T05:45:40.591Z"
   },
   {
    "duration": 21,
    "start_time": "2024-12-22T05:45:48.240Z"
   },
   {
    "duration": 38,
    "start_time": "2024-12-22T05:51:48.265Z"
   },
   {
    "duration": 21,
    "start_time": "2024-12-22T05:52:04.684Z"
   },
   {
    "duration": 23,
    "start_time": "2024-12-22T05:52:08.567Z"
   },
   {
    "duration": 24,
    "start_time": "2024-12-22T05:52:14.866Z"
   },
   {
    "duration": 25,
    "start_time": "2024-12-22T05:52:27.056Z"
   },
   {
    "duration": 23,
    "start_time": "2024-12-22T05:52:31.548Z"
   },
   {
    "duration": 70,
    "start_time": "2024-12-22T05:52:36.023Z"
   },
   {
    "duration": 25,
    "start_time": "2024-12-22T05:52:41.885Z"
   },
   {
    "duration": 26,
    "start_time": "2024-12-22T05:52:58.034Z"
   },
   {
    "duration": 23,
    "start_time": "2024-12-22T05:53:03.324Z"
   },
   {
    "duration": 22,
    "start_time": "2024-12-22T05:53:12.915Z"
   },
   {
    "duration": 39,
    "start_time": "2024-12-22T05:53:19.869Z"
   },
   {
    "duration": 36,
    "start_time": "2024-12-22T05:53:46.837Z"
   },
   {
    "duration": 428,
    "start_time": "2024-12-22T05:53:54.092Z"
   },
   {
    "duration": 932,
    "start_time": "2024-12-22T05:53:54.522Z"
   },
   {
    "duration": 30,
    "start_time": "2024-12-22T05:53:55.455Z"
   },
   {
    "duration": 74,
    "start_time": "2024-12-22T05:53:55.487Z"
   },
   {
    "duration": 44,
    "start_time": "2024-12-22T05:54:09.688Z"
   },
   {
    "duration": 40,
    "start_time": "2024-12-22T05:54:23.781Z"
   },
   {
    "duration": 42,
    "start_time": "2024-12-22T05:54:31.517Z"
   },
   {
    "duration": 42,
    "start_time": "2024-12-22T05:54:49.303Z"
   },
   {
    "duration": 46,
    "start_time": "2024-12-22T05:54:55.232Z"
   },
   {
    "duration": 9,
    "start_time": "2024-12-22T05:55:35.048Z"
   },
   {
    "duration": 46,
    "start_time": "2024-12-22T05:55:41.619Z"
   },
   {
    "duration": 130,
    "start_time": "2024-12-22T05:55:54.874Z"
   },
   {
    "duration": 37,
    "start_time": "2024-12-22T05:56:21.300Z"
   },
   {
    "duration": 10,
    "start_time": "2024-12-22T05:57:45.674Z"
   },
   {
    "duration": 43,
    "start_time": "2024-12-22T05:57:52.686Z"
   },
   {
    "duration": 18,
    "start_time": "2024-12-22T05:58:15.622Z"
   },
   {
    "duration": 23,
    "start_time": "2024-12-22T05:58:19.389Z"
   },
   {
    "duration": 10,
    "start_time": "2024-12-22T05:58:29.547Z"
   },
   {
    "duration": 9,
    "start_time": "2024-12-22T05:58:33.491Z"
   },
   {
    "duration": 9,
    "start_time": "2024-12-22T05:58:35.766Z"
   },
   {
    "duration": 115,
    "start_time": "2024-12-22T06:00:50.296Z"
   },
   {
    "duration": 5,
    "start_time": "2024-12-22T06:03:43.983Z"
   },
   {
    "duration": 5,
    "start_time": "2024-12-22T06:04:01.378Z"
   },
   {
    "duration": 6,
    "start_time": "2024-12-22T06:04:16.337Z"
   },
   {
    "duration": 145,
    "start_time": "2024-12-22T06:13:55.197Z"
   },
   {
    "duration": 50,
    "start_time": "2024-12-22T06:14:06.810Z"
   },
   {
    "duration": 16,
    "start_time": "2024-12-22T06:14:31.218Z"
   },
   {
    "duration": 15,
    "start_time": "2024-12-22T06:14:36.387Z"
   },
   {
    "duration": 16,
    "start_time": "2024-12-22T06:14:40.241Z"
   },
   {
    "duration": 19,
    "start_time": "2024-12-22T06:14:45.875Z"
   },
   {
    "duration": 128,
    "start_time": "2024-12-22T06:15:34.287Z"
   },
   {
    "duration": 125,
    "start_time": "2024-12-22T06:15:42.323Z"
   },
   {
    "duration": 398,
    "start_time": "2024-12-22T06:15:45.930Z"
   },
   {
    "duration": 1013,
    "start_time": "2024-12-22T06:15:46.330Z"
   },
   {
    "duration": 30,
    "start_time": "2024-12-22T06:15:47.344Z"
   },
   {
    "duration": 61,
    "start_time": "2024-12-22T06:15:47.375Z"
   },
   {
    "duration": 143,
    "start_time": "2024-12-22T06:15:47.438Z"
   },
   {
    "duration": 125,
    "start_time": "2024-12-22T06:15:47.582Z"
   },
   {
    "duration": 345,
    "start_time": "2024-12-23T07:42:57.538Z"
   },
   {
    "duration": 2066,
    "start_time": "2024-12-23T07:42:57.886Z"
   },
   {
    "duration": 36,
    "start_time": "2024-12-23T07:42:59.954Z"
   },
   {
    "duration": 40,
    "start_time": "2024-12-23T07:42:59.992Z"
   },
   {
    "duration": 152,
    "start_time": "2024-12-23T07:43:00.034Z"
   },
   {
    "duration": 114,
    "start_time": "2024-12-23T07:43:00.188Z"
   },
   {
    "duration": 149,
    "start_time": "2024-12-23T07:47:28.428Z"
   },
   {
    "duration": 49,
    "start_time": "2024-12-23T10:23:56.963Z"
   },
   {
    "duration": 1172,
    "start_time": "2024-12-23T10:24:02.415Z"
   },
   {
    "duration": 1191,
    "start_time": "2024-12-23T10:24:03.589Z"
   },
   {
    "duration": 32,
    "start_time": "2024-12-23T10:24:04.782Z"
   },
   {
    "duration": 65,
    "start_time": "2024-12-23T10:24:04.815Z"
   },
   {
    "duration": 149,
    "start_time": "2024-12-23T10:24:04.882Z"
   },
   {
    "duration": 130,
    "start_time": "2024-12-23T10:24:05.037Z"
   },
   {
    "duration": 196,
    "start_time": "2024-12-23T10:24:05.169Z"
   },
   {
    "duration": 29,
    "start_time": "2024-12-23T10:24:05.367Z"
   },
   {
    "duration": 54,
    "start_time": "2024-12-23T10:24:15.602Z"
   },
   {
    "duration": 36,
    "start_time": "2024-12-23T10:24:27.664Z"
   },
   {
    "duration": 3,
    "start_time": "2024-12-23T10:25:42.730Z"
   },
   {
    "duration": 157,
    "start_time": "2024-12-23T10:27:26.388Z"
   },
   {
    "duration": 9,
    "start_time": "2024-12-23T10:27:54.862Z"
   },
   {
    "duration": 9,
    "start_time": "2024-12-23T10:28:31.852Z"
   },
   {
    "duration": 9,
    "start_time": "2024-12-23T10:35:46.467Z"
   },
   {
    "duration": 9,
    "start_time": "2024-12-23T10:35:47.241Z"
   },
   {
    "duration": 9,
    "start_time": "2024-12-23T10:35:47.936Z"
   },
   {
    "duration": 41,
    "start_time": "2024-12-23T10:35:48.788Z"
   },
   {
    "duration": 1094,
    "start_time": "2024-12-23T10:35:53.471Z"
   },
   {
    "duration": 3761,
    "start_time": "2024-12-23T10:35:54.567Z"
   },
   {
    "duration": 20,
    "start_time": "2024-12-23T10:35:58.329Z"
   },
   {
    "duration": 10,
    "start_time": "2024-12-23T10:35:58.351Z"
   },
   {
    "duration": 10,
    "start_time": "2024-12-23T10:35:58.363Z"
   },
   {
    "duration": 72,
    "start_time": "2024-12-23T10:35:58.374Z"
   },
   {
    "duration": 134,
    "start_time": "2024-12-23T10:35:58.447Z"
   },
   {
    "duration": 123,
    "start_time": "2024-12-23T10:35:58.582Z"
   },
   {
    "duration": 190,
    "start_time": "2024-12-23T10:35:58.707Z"
   },
   {
    "duration": 39,
    "start_time": "2024-12-23T10:35:58.898Z"
   },
   {
    "duration": 4,
    "start_time": "2024-12-23T10:35:58.939Z"
   },
   {
    "duration": 293,
    "start_time": "2024-12-23T10:35:58.944Z"
   },
   {
    "duration": 98,
    "start_time": "2024-12-23T10:35:59.240Z"
   },
   {
    "duration": 17,
    "start_time": "2024-12-23T10:36:24.307Z"
   },
   {
    "duration": 231,
    "start_time": "2024-12-23T10:36:37.498Z"
   },
   {
    "duration": 15,
    "start_time": "2024-12-23T10:36:37.869Z"
   },
   {
    "duration": 15,
    "start_time": "2024-12-23T10:36:42.159Z"
   },
   {
    "duration": 17,
    "start_time": "2024-12-23T10:36:42.724Z"
   },
   {
    "duration": 43,
    "start_time": "2024-12-23T10:38:05.482Z"
   },
   {
    "duration": 1085,
    "start_time": "2024-12-23T10:38:21.786Z"
   },
   {
    "duration": 880,
    "start_time": "2024-12-23T10:38:22.873Z"
   },
   {
    "duration": 18,
    "start_time": "2024-12-23T10:38:23.755Z"
   },
   {
    "duration": 20,
    "start_time": "2024-12-23T10:38:23.775Z"
   },
   {
    "duration": 20,
    "start_time": "2024-12-23T10:38:23.796Z"
   },
   {
    "duration": 41,
    "start_time": "2024-12-23T10:38:23.817Z"
   },
   {
    "duration": 15,
    "start_time": "2024-12-23T10:38:23.859Z"
   },
   {
    "duration": 47,
    "start_time": "2024-12-23T10:38:23.876Z"
   },
   {
    "duration": 45,
    "start_time": "2024-12-23T10:38:23.924Z"
   },
   {
    "duration": 40,
    "start_time": "2024-12-23T10:38:23.972Z"
   },
   {
    "duration": 50,
    "start_time": "2024-12-23T10:38:24.014Z"
   },
   {
    "duration": 39,
    "start_time": "2024-12-23T10:38:24.065Z"
   },
   {
    "duration": 59,
    "start_time": "2024-12-23T10:38:24.106Z"
   },
   {
    "duration": 40,
    "start_time": "2024-12-23T10:38:24.166Z"
   },
   {
    "duration": 193,
    "start_time": "2024-12-23T10:38:24.208Z"
   },
   {
    "duration": 37,
    "start_time": "2024-12-23T10:38:24.402Z"
   },
   {
    "duration": 7,
    "start_time": "2024-12-23T10:38:24.441Z"
   },
   {
    "duration": 189,
    "start_time": "2024-12-23T10:38:24.450Z"
   },
   {
    "duration": 196,
    "start_time": "2024-12-23T10:38:24.642Z"
   },
   {
    "duration": 115,
    "start_time": "2024-12-23T10:39:39.693Z"
   },
   {
    "duration": 58,
    "start_time": "2024-12-23T10:39:47.067Z"
   },
   {
    "duration": 49,
    "start_time": "2024-12-23T10:40:32.333Z"
   },
   {
    "duration": 38,
    "start_time": "2024-12-23T10:40:35.092Z"
   },
   {
    "duration": 1151,
    "start_time": "2024-12-23T10:40:39.314Z"
   },
   {
    "duration": 3281,
    "start_time": "2024-12-23T10:40:40.467Z"
   },
   {
    "duration": 19,
    "start_time": "2024-12-23T10:40:43.750Z"
   },
   {
    "duration": 8,
    "start_time": "2024-12-23T10:40:43.771Z"
   },
   {
    "duration": 9,
    "start_time": "2024-12-23T10:40:43.781Z"
   },
   {
    "duration": 62,
    "start_time": "2024-12-23T10:40:43.791Z"
   },
   {
    "duration": 15,
    "start_time": "2024-12-23T10:40:43.855Z"
   },
   {
    "duration": 15,
    "start_time": "2024-12-23T10:40:43.872Z"
   },
   {
    "duration": 65,
    "start_time": "2024-12-23T10:40:43.889Z"
   },
   {
    "duration": 41,
    "start_time": "2024-12-23T10:40:43.955Z"
   },
   {
    "duration": 58,
    "start_time": "2024-12-23T10:40:43.998Z"
   },
   {
    "duration": 40,
    "start_time": "2024-12-23T10:40:44.058Z"
   },
   {
    "duration": 54,
    "start_time": "2024-12-23T10:40:44.100Z"
   },
   {
    "duration": 40,
    "start_time": "2024-12-23T10:40:44.156Z"
   },
   {
    "duration": 65,
    "start_time": "2024-12-23T10:40:44.197Z"
   },
   {
    "duration": 194,
    "start_time": "2024-12-23T10:40:44.264Z"
   },
   {
    "duration": 28,
    "start_time": "2024-12-23T10:40:44.460Z"
   },
   {
    "duration": 3,
    "start_time": "2024-12-23T10:40:44.489Z"
   },
   {
    "duration": 147,
    "start_time": "2024-12-23T10:40:44.494Z"
   },
   {
    "duration": 104,
    "start_time": "2024-12-23T10:40:44.643Z"
   },
   {
    "duration": 103,
    "start_time": "2024-12-23T10:41:24.300Z"
   },
   {
    "duration": 1136,
    "start_time": "2024-12-23T10:56:32.101Z"
   },
   {
    "duration": 1115,
    "start_time": "2024-12-23T10:56:33.239Z"
   },
   {
    "duration": 17,
    "start_time": "2024-12-23T10:56:34.355Z"
   },
   {
    "duration": 9,
    "start_time": "2024-12-23T10:56:34.374Z"
   },
   {
    "duration": 34,
    "start_time": "2024-12-23T10:56:34.386Z"
   },
   {
    "duration": 35,
    "start_time": "2024-12-23T10:56:34.422Z"
   },
   {
    "duration": 19,
    "start_time": "2024-12-23T10:56:34.459Z"
   },
   {
    "duration": 14,
    "start_time": "2024-12-23T10:56:34.479Z"
   },
   {
    "duration": 67,
    "start_time": "2024-12-23T10:56:34.495Z"
   },
   {
    "duration": 41,
    "start_time": "2024-12-23T10:56:34.564Z"
   },
   {
    "duration": 59,
    "start_time": "2024-12-23T10:56:34.607Z"
   },
   {
    "duration": 41,
    "start_time": "2024-12-23T10:56:34.667Z"
   },
   {
    "duration": 52,
    "start_time": "2024-12-23T10:56:34.710Z"
   },
   {
    "duration": 40,
    "start_time": "2024-12-23T10:56:34.764Z"
   },
   {
    "duration": 59,
    "start_time": "2024-12-23T10:56:34.805Z"
   },
   {
    "duration": 110,
    "start_time": "2024-12-23T10:56:34.865Z"
   },
   {
    "duration": 3,
    "start_time": "2024-12-23T10:56:34.976Z"
   },
   {
    "duration": 22,
    "start_time": "2024-12-23T10:56:34.980Z"
   },
   {
    "duration": 44,
    "start_time": "2024-12-23T10:56:35.003Z"
   },
   {
    "duration": 18,
    "start_time": "2024-12-23T10:56:35.048Z"
   },
   {
    "duration": 269,
    "start_time": "2024-12-23T10:56:35.068Z"
   },
   {
    "duration": 5,
    "start_time": "2024-12-23T10:56:35.340Z"
   },
   {
    "duration": 120,
    "start_time": "2024-12-23T10:56:35.347Z"
   },
   {
    "duration": 55,
    "start_time": "2024-12-23T10:58:55.908Z"
   },
   {
    "duration": 3,
    "start_time": "2024-12-23T10:58:56.462Z"
   },
   {
    "duration": 489,
    "start_time": "2024-12-23T10:58:57.166Z"
   },
   {
    "duration": 0,
    "start_time": "2024-12-23T10:58:57.657Z"
   },
   {
    "duration": 338,
    "start_time": "2024-12-23T11:00:09.803Z"
   },
   {
    "duration": 1165,
    "start_time": "2024-12-23T11:00:14.401Z"
   },
   {
    "duration": 1075,
    "start_time": "2024-12-23T11:00:15.569Z"
   },
   {
    "duration": 17,
    "start_time": "2024-12-23T11:00:16.645Z"
   },
   {
    "duration": 62,
    "start_time": "2024-12-23T11:00:16.663Z"
   },
   {
    "duration": 30,
    "start_time": "2024-12-23T11:00:16.727Z"
   },
   {
    "duration": 20,
    "start_time": "2024-12-23T11:00:16.758Z"
   },
   {
    "duration": 17,
    "start_time": "2024-12-23T11:00:16.780Z"
   },
   {
    "duration": 17,
    "start_time": "2024-12-23T11:00:16.798Z"
   },
   {
    "duration": 70,
    "start_time": "2024-12-23T11:00:16.817Z"
   },
   {
    "duration": 68,
    "start_time": "2024-12-23T11:00:16.888Z"
   },
   {
    "duration": 44,
    "start_time": "2024-12-23T11:00:16.957Z"
   },
   {
    "duration": 60,
    "start_time": "2024-12-23T11:00:17.003Z"
   },
   {
    "duration": 40,
    "start_time": "2024-12-23T11:00:17.065Z"
   },
   {
    "duration": 60,
    "start_time": "2024-12-23T11:00:17.108Z"
   },
   {
    "duration": 46,
    "start_time": "2024-12-23T11:00:17.170Z"
   },
   {
    "duration": 121,
    "start_time": "2024-12-23T11:00:17.218Z"
   },
   {
    "duration": 2,
    "start_time": "2024-12-23T11:00:17.341Z"
   },
   {
    "duration": 10,
    "start_time": "2024-12-23T11:00:17.345Z"
   },
   {
    "duration": 66,
    "start_time": "2024-12-23T11:00:17.356Z"
   },
   {
    "duration": 3,
    "start_time": "2024-12-23T11:00:17.424Z"
   },
   {
    "duration": 134,
    "start_time": "2024-12-23T11:00:17.429Z"
   },
   {
    "duration": 0,
    "start_time": "2024-12-23T11:00:17.565Z"
   },
   {
    "duration": 0,
    "start_time": "2024-12-23T11:00:17.566Z"
   },
   {
    "duration": 104,
    "start_time": "2024-12-23T11:01:19.145Z"
   },
   {
    "duration": 57,
    "start_time": "2024-12-23T11:01:25.230Z"
   },
   {
    "duration": 1114,
    "start_time": "2024-12-23T11:01:29.898Z"
   },
   {
    "duration": 884,
    "start_time": "2024-12-23T11:01:31.015Z"
   },
   {
    "duration": 16,
    "start_time": "2024-12-23T11:01:31.901Z"
   },
   {
    "duration": 9,
    "start_time": "2024-12-23T11:01:31.938Z"
   },
   {
    "duration": 31,
    "start_time": "2024-12-23T11:01:31.949Z"
   },
   {
    "duration": 28,
    "start_time": "2024-12-23T11:01:31.982Z"
   },
   {
    "duration": 22,
    "start_time": "2024-12-23T11:01:32.011Z"
   },
   {
    "duration": 15,
    "start_time": "2024-12-23T11:01:32.035Z"
   },
   {
    "duration": 65,
    "start_time": "2024-12-23T11:01:32.051Z"
   },
   {
    "duration": 40,
    "start_time": "2024-12-23T11:01:32.118Z"
   },
   {
    "duration": 51,
    "start_time": "2024-12-23T11:01:32.160Z"
   },
   {
    "duration": 48,
    "start_time": "2024-12-23T11:01:32.213Z"
   },
   {
    "duration": 92,
    "start_time": "2024-12-23T11:01:32.262Z"
   },
   {
    "duration": 53,
    "start_time": "2024-12-23T11:01:32.356Z"
   },
   {
    "duration": 56,
    "start_time": "2024-12-23T11:01:32.411Z"
   },
   {
    "duration": 122,
    "start_time": "2024-12-23T11:01:32.469Z"
   },
   {
    "duration": 3,
    "start_time": "2024-12-23T11:01:32.592Z"
   },
   {
    "duration": 22,
    "start_time": "2024-12-23T11:01:32.596Z"
   },
   {
    "duration": 78,
    "start_time": "2024-12-23T11:01:32.620Z"
   },
   {
    "duration": 3,
    "start_time": "2024-12-23T11:01:32.700Z"
   },
   {
    "duration": 158,
    "start_time": "2024-12-23T11:01:32.705Z"
   },
   {
    "duration": 0,
    "start_time": "2024-12-23T11:01:32.865Z"
   },
   {
    "duration": 0,
    "start_time": "2024-12-23T11:01:32.866Z"
   },
   {
    "duration": 77,
    "start_time": "2024-12-23T11:02:07.614Z"
   },
   {
    "duration": 3,
    "start_time": "2024-12-23T11:02:12.141Z"
   },
   {
    "duration": 40,
    "start_time": "2024-12-23T11:02:12.516Z"
   },
   {
    "duration": 3,
    "start_time": "2024-12-23T11:02:13.444Z"
   },
   {
    "duration": 1119,
    "start_time": "2024-12-23T11:02:18.858Z"
   },
   {
    "duration": 973,
    "start_time": "2024-12-23T11:02:19.979Z"
   },
   {
    "duration": 16,
    "start_time": "2024-12-23T11:02:20.953Z"
   },
   {
    "duration": 35,
    "start_time": "2024-12-23T11:02:20.971Z"
   },
   {
    "duration": 28,
    "start_time": "2024-12-23T11:02:21.008Z"
   },
   {
    "duration": 36,
    "start_time": "2024-12-23T11:02:21.038Z"
   },
   {
    "duration": 23,
    "start_time": "2024-12-23T11:02:21.076Z"
   },
   {
    "duration": 25,
    "start_time": "2024-12-23T11:02:21.101Z"
   },
   {
    "duration": 45,
    "start_time": "2024-12-23T11:02:21.128Z"
   },
   {
    "duration": 40,
    "start_time": "2024-12-23T11:02:21.175Z"
   },
   {
    "duration": 54,
    "start_time": "2024-12-23T11:02:21.217Z"
   },
   {
    "duration": 43,
    "start_time": "2024-12-23T11:02:21.272Z"
   },
   {
    "duration": 54,
    "start_time": "2024-12-23T11:02:21.317Z"
   },
   {
    "duration": 44,
    "start_time": "2024-12-23T11:02:21.374Z"
   },
   {
    "duration": 61,
    "start_time": "2024-12-23T11:02:21.420Z"
   },
   {
    "duration": 125,
    "start_time": "2024-12-23T11:02:21.483Z"
   },
   {
    "duration": 2,
    "start_time": "2024-12-23T11:02:21.610Z"
   },
   {
    "duration": 19,
    "start_time": "2024-12-23T11:02:21.614Z"
   },
   {
    "duration": 64,
    "start_time": "2024-12-23T11:02:21.634Z"
   },
   {
    "duration": 3,
    "start_time": "2024-12-23T11:02:21.700Z"
   },
   {
    "duration": 141,
    "start_time": "2024-12-23T11:02:21.704Z"
   },
   {
    "duration": 3,
    "start_time": "2024-12-23T11:02:21.939Z"
   },
   {
    "duration": 104,
    "start_time": "2024-12-23T11:02:21.945Z"
   },
   {
    "duration": 21,
    "start_time": "2024-12-23T11:09:00.184Z"
   },
   {
    "duration": 4,
    "start_time": "2024-12-23T11:09:00.984Z"
   },
   {
    "duration": 2,
    "start_time": "2024-12-23T11:09:01.369Z"
   },
   {
    "duration": 109,
    "start_time": "2024-12-23T11:09:01.811Z"
   },
   {
    "duration": 2,
    "start_time": "2024-12-23T11:09:02.682Z"
   },
   {
    "duration": 258,
    "start_time": "2024-12-23T11:09:03.088Z"
   },
   {
    "duration": 3,
    "start_time": "2024-12-23T11:09:03.754Z"
   },
   {
    "duration": 9,
    "start_time": "2024-12-23T11:09:04.223Z"
   },
   {
    "duration": 1131,
    "start_time": "2024-12-23T11:09:08.939Z"
   },
   {
    "duration": 999,
    "start_time": "2024-12-23T11:09:10.072Z"
   },
   {
    "duration": 18,
    "start_time": "2024-12-23T11:09:11.072Z"
   },
   {
    "duration": 8,
    "start_time": "2024-12-23T11:09:11.092Z"
   },
   {
    "duration": 39,
    "start_time": "2024-12-23T11:09:11.103Z"
   },
   {
    "duration": 24,
    "start_time": "2024-12-23T11:09:11.143Z"
   },
   {
    "duration": 15,
    "start_time": "2024-12-23T11:09:11.168Z"
   },
   {
    "duration": 27,
    "start_time": "2024-12-23T11:09:11.185Z"
   },
   {
    "duration": 61,
    "start_time": "2024-12-23T11:09:11.213Z"
   },
   {
    "duration": 37,
    "start_time": "2024-12-23T11:09:11.276Z"
   },
   {
    "duration": 58,
    "start_time": "2024-12-23T11:09:11.315Z"
   },
   {
    "duration": 42,
    "start_time": "2024-12-23T11:09:11.374Z"
   },
   {
    "duration": 57,
    "start_time": "2024-12-23T11:09:11.418Z"
   },
   {
    "duration": 42,
    "start_time": "2024-12-23T11:09:11.478Z"
   },
   {
    "duration": 61,
    "start_time": "2024-12-23T11:09:11.522Z"
   },
   {
    "duration": 119,
    "start_time": "2024-12-23T11:09:11.585Z"
   },
   {
    "duration": 32,
    "start_time": "2024-12-23T11:09:11.705Z"
   },
   {
    "duration": 3,
    "start_time": "2024-12-23T11:09:11.739Z"
   },
   {
    "duration": 17,
    "start_time": "2024-12-23T11:09:11.743Z"
   },
   {
    "duration": 113,
    "start_time": "2024-12-23T11:09:11.761Z"
   },
   {
    "duration": 3,
    "start_time": "2024-12-23T11:09:11.875Z"
   },
   {
    "duration": 358,
    "start_time": "2024-12-23T11:09:11.880Z"
   },
   {
    "duration": 97,
    "start_time": "2024-12-23T11:09:12.240Z"
   },
   {
    "duration": 10,
    "start_time": "2024-12-23T11:09:12.340Z"
   },
   {
    "duration": 3,
    "start_time": "2024-12-23T11:12:43.263Z"
   },
   {
    "duration": 9,
    "start_time": "2024-12-23T11:12:45.409Z"
   },
   {
    "duration": 3,
    "start_time": "2024-12-23T11:53:48.455Z"
   },
   {
    "duration": 4,
    "start_time": "2024-12-23T11:56:01.618Z"
   },
   {
    "duration": 2,
    "start_time": "2024-12-23T11:56:23.408Z"
   },
   {
    "duration": 4,
    "start_time": "2024-12-23T11:56:23.720Z"
   },
   {
    "duration": 3,
    "start_time": "2024-12-23T12:02:57.937Z"
   },
   {
    "duration": 5,
    "start_time": "2024-12-23T12:03:11.015Z"
   },
   {
    "duration": 1183,
    "start_time": "2024-12-25T10:36:38.878Z"
   },
   {
    "duration": 942,
    "start_time": "2024-12-25T10:36:40.063Z"
   },
   {
    "duration": 17,
    "start_time": "2024-12-25T10:36:41.009Z"
   },
   {
    "duration": 8,
    "start_time": "2024-12-25T10:36:41.028Z"
   },
   {
    "duration": 9,
    "start_time": "2024-12-25T10:36:41.038Z"
   },
   {
    "duration": 48,
    "start_time": "2024-12-25T10:36:41.048Z"
   },
   {
    "duration": 18,
    "start_time": "2024-12-25T10:36:41.098Z"
   },
   {
    "duration": 16,
    "start_time": "2024-12-25T10:36:41.118Z"
   },
   {
    "duration": 87,
    "start_time": "2024-12-25T10:36:41.136Z"
   },
   {
    "duration": 57,
    "start_time": "2024-12-25T10:36:41.225Z"
   },
   {
    "duration": 59,
    "start_time": "2024-12-25T10:36:41.284Z"
   },
   {
    "duration": 56,
    "start_time": "2024-12-25T10:36:41.345Z"
   },
   {
    "duration": 40,
    "start_time": "2024-12-25T10:36:41.404Z"
   },
   {
    "duration": 61,
    "start_time": "2024-12-25T10:36:41.446Z"
   },
   {
    "duration": 47,
    "start_time": "2024-12-25T10:36:41.508Z"
   },
   {
    "duration": 135,
    "start_time": "2024-12-25T10:36:41.557Z"
   },
   {
    "duration": 17,
    "start_time": "2024-12-25T10:36:41.693Z"
   },
   {
    "duration": 3,
    "start_time": "2024-12-25T10:36:41.711Z"
   },
   {
    "duration": 4,
    "start_time": "2024-12-25T10:36:41.715Z"
   },
   {
    "duration": 132,
    "start_time": "2024-12-25T10:36:41.721Z"
   },
   {
    "duration": 3,
    "start_time": "2024-12-25T10:36:41.855Z"
   },
   {
    "duration": 419,
    "start_time": "2024-12-25T10:36:41.859Z"
   },
   {
    "duration": 4,
    "start_time": "2024-12-25T10:36:42.286Z"
   },
   {
    "duration": 117,
    "start_time": "2024-12-25T10:36:42.292Z"
   },
   {
    "duration": 24,
    "start_time": "2024-12-25T10:36:42.410Z"
   },
   {
    "duration": 27,
    "start_time": "2024-12-25T10:36:42.436Z"
   },
   {
    "duration": 39,
    "start_time": "2024-12-25T10:36:42.465Z"
   },
   {
    "duration": 5,
    "start_time": "2024-12-25T10:50:28.883Z"
   },
   {
    "duration": 1081,
    "start_time": "2024-12-25T11:28:46.928Z"
   },
   {
    "duration": 1013,
    "start_time": "2024-12-25T11:28:48.011Z"
   },
   {
    "duration": 16,
    "start_time": "2024-12-25T11:28:49.026Z"
   },
   {
    "duration": 14,
    "start_time": "2024-12-25T11:28:49.044Z"
   },
   {
    "duration": 30,
    "start_time": "2024-12-25T11:28:49.060Z"
   },
   {
    "duration": 23,
    "start_time": "2024-12-25T11:28:49.092Z"
   },
   {
    "duration": 14,
    "start_time": "2024-12-25T11:28:49.117Z"
   },
   {
    "duration": 15,
    "start_time": "2024-12-25T11:28:49.133Z"
   },
   {
    "duration": 62,
    "start_time": "2024-12-25T11:28:49.149Z"
   },
   {
    "duration": 40,
    "start_time": "2024-12-25T11:28:49.212Z"
   },
   {
    "duration": 62,
    "start_time": "2024-12-25T11:28:49.254Z"
   },
   {
    "duration": 66,
    "start_time": "2024-12-25T11:28:49.318Z"
   },
   {
    "duration": 37,
    "start_time": "2024-12-25T11:28:49.386Z"
   },
   {
    "duration": 57,
    "start_time": "2024-12-25T11:28:49.426Z"
   },
   {
    "duration": 47,
    "start_time": "2024-12-25T11:28:49.484Z"
   },
   {
    "duration": 116,
    "start_time": "2024-12-25T11:28:49.533Z"
   },
   {
    "duration": 36,
    "start_time": "2024-12-25T11:28:49.650Z"
   },
   {
    "duration": 3,
    "start_time": "2024-12-25T11:28:49.688Z"
   },
   {
    "duration": 4,
    "start_time": "2024-12-25T11:28:49.692Z"
   },
   {
    "duration": 106,
    "start_time": "2024-12-25T11:28:49.698Z"
   },
   {
    "duration": 3,
    "start_time": "2024-12-25T11:28:49.806Z"
   },
   {
    "duration": 260,
    "start_time": "2024-12-25T11:28:49.811Z"
   },
   {
    "duration": 11,
    "start_time": "2024-12-25T11:28:50.073Z"
   },
   {
    "duration": 96,
    "start_time": "2024-12-25T11:28:50.086Z"
   },
   {
    "duration": 3,
    "start_time": "2024-12-25T11:28:50.184Z"
   },
   {
    "duration": 8,
    "start_time": "2024-12-25T11:28:50.189Z"
   },
   {
    "duration": 8,
    "start_time": "2024-12-25T11:28:50.199Z"
   },
   {
    "duration": 142,
    "start_time": "2024-12-25T11:28:50.208Z"
   },
   {
    "duration": 18,
    "start_time": "2024-12-25T11:29:28.115Z"
   },
   {
    "duration": 4,
    "start_time": "2024-12-25T12:13:19.713Z"
   },
   {
    "duration": 4,
    "start_time": "2024-12-25T12:13:34.014Z"
   },
   {
    "duration": 10,
    "start_time": "2024-12-25T12:13:43.289Z"
   },
   {
    "duration": 4,
    "start_time": "2024-12-25T12:13:56.943Z"
   },
   {
    "duration": 7,
    "start_time": "2024-12-25T12:14:39.643Z"
   },
   {
    "duration": 7,
    "start_time": "2024-12-25T12:14:56.578Z"
   },
   {
    "duration": 9,
    "start_time": "2024-12-25T12:14:59.683Z"
   },
   {
    "duration": 11,
    "start_time": "2024-12-25T12:16:20.778Z"
   },
   {
    "duration": 4,
    "start_time": "2024-12-25T12:20:10.266Z"
   },
   {
    "duration": 4,
    "start_time": "2024-12-25T12:20:16.706Z"
   },
   {
    "duration": 10,
    "start_time": "2024-12-25T12:32:15.606Z"
   },
   {
    "duration": 15,
    "start_time": "2024-12-25T12:33:07.077Z"
   },
   {
    "duration": 1232,
    "start_time": "2024-12-25T12:33:12.804Z"
   },
   {
    "duration": 1142,
    "start_time": "2024-12-25T12:33:14.038Z"
   },
   {
    "duration": 16,
    "start_time": "2024-12-25T12:33:15.182Z"
   },
   {
    "duration": 24,
    "start_time": "2024-12-25T12:33:15.200Z"
   },
   {
    "duration": 50,
    "start_time": "2024-12-25T12:33:15.226Z"
   },
   {
    "duration": 67,
    "start_time": "2024-12-25T12:33:15.278Z"
   },
   {
    "duration": 22,
    "start_time": "2024-12-25T12:33:15.347Z"
   },
   {
    "duration": 20,
    "start_time": "2024-12-25T12:33:15.371Z"
   },
   {
    "duration": 48,
    "start_time": "2024-12-25T12:33:15.393Z"
   },
   {
    "duration": 60,
    "start_time": "2024-12-25T12:33:15.444Z"
   },
   {
    "duration": 44,
    "start_time": "2024-12-25T12:33:15.506Z"
   },
   {
    "duration": 62,
    "start_time": "2024-12-25T12:33:15.551Z"
   },
   {
    "duration": 40,
    "start_time": "2024-12-25T12:33:15.615Z"
   },
   {
    "duration": 113,
    "start_time": "2024-12-25T12:33:15.657Z"
   },
   {
    "duration": 62,
    "start_time": "2024-12-25T12:33:15.775Z"
   },
   {
    "duration": 120,
    "start_time": "2024-12-25T12:33:15.839Z"
   },
   {
    "duration": 24,
    "start_time": "2024-12-25T12:33:15.961Z"
   },
   {
    "duration": 15,
    "start_time": "2024-12-25T12:33:15.987Z"
   },
   {
    "duration": 15,
    "start_time": "2024-12-25T12:33:16.003Z"
   },
   {
    "duration": 124,
    "start_time": "2024-12-25T12:33:16.020Z"
   },
   {
    "duration": 3,
    "start_time": "2024-12-25T12:33:16.146Z"
   },
   {
    "duration": 332,
    "start_time": "2024-12-25T12:33:16.150Z"
   },
   {
    "duration": 89,
    "start_time": "2024-12-25T12:33:16.484Z"
   },
   {
    "duration": 96,
    "start_time": "2024-12-25T12:33:16.575Z"
   },
   {
    "duration": 15,
    "start_time": "2024-12-25T12:33:16.673Z"
   },
   {
    "duration": 18,
    "start_time": "2024-12-25T12:33:16.689Z"
   },
   {
    "duration": 13,
    "start_time": "2024-12-25T12:33:16.709Z"
   },
   {
    "duration": 28,
    "start_time": "2024-12-25T12:33:16.725Z"
   },
   {
    "duration": 111,
    "start_time": "2024-12-25T12:33:16.755Z"
   },
   {
    "duration": 20,
    "start_time": "2024-12-25T12:33:54.524Z"
   },
   {
    "duration": 12,
    "start_time": "2024-12-25T12:34:45.086Z"
   },
   {
    "duration": 31,
    "start_time": "2024-12-25T12:35:21.252Z"
   },
   {
    "duration": 18,
    "start_time": "2024-12-25T12:35:34.789Z"
   },
   {
    "duration": 26,
    "start_time": "2024-12-25T12:35:42.852Z"
   },
   {
    "duration": 27,
    "start_time": "2024-12-25T12:36:22.719Z"
   },
   {
    "duration": 1173,
    "start_time": "2024-12-25T12:36:27.566Z"
   },
   {
    "duration": 946,
    "start_time": "2024-12-25T12:36:28.742Z"
   },
   {
    "duration": 18,
    "start_time": "2024-12-25T12:36:29.690Z"
   },
   {
    "duration": 9,
    "start_time": "2024-12-25T12:36:29.710Z"
   },
   {
    "duration": 17,
    "start_time": "2024-12-25T12:36:29.722Z"
   },
   {
    "duration": 36,
    "start_time": "2024-12-25T12:36:29.741Z"
   },
   {
    "duration": 17,
    "start_time": "2024-12-25T12:36:29.779Z"
   },
   {
    "duration": 16,
    "start_time": "2024-12-25T12:36:29.797Z"
   },
   {
    "duration": 75,
    "start_time": "2024-12-25T12:36:29.815Z"
   },
   {
    "duration": 40,
    "start_time": "2024-12-25T12:36:29.892Z"
   },
   {
    "duration": 61,
    "start_time": "2024-12-25T12:36:29.934Z"
   },
   {
    "duration": 44,
    "start_time": "2024-12-25T12:36:29.997Z"
   },
   {
    "duration": 58,
    "start_time": "2024-12-25T12:36:30.043Z"
   },
   {
    "duration": 43,
    "start_time": "2024-12-25T12:36:30.104Z"
   },
   {
    "duration": 59,
    "start_time": "2024-12-25T12:36:30.149Z"
   },
   {
    "duration": 117,
    "start_time": "2024-12-25T12:36:30.210Z"
   },
   {
    "duration": 17,
    "start_time": "2024-12-25T12:36:30.329Z"
   },
   {
    "duration": 86,
    "start_time": "2024-12-25T12:36:30.347Z"
   },
   {
    "duration": 35,
    "start_time": "2024-12-25T12:36:30.434Z"
   },
   {
    "duration": 146,
    "start_time": "2024-12-25T12:36:30.471Z"
   },
   {
    "duration": 3,
    "start_time": "2024-12-25T12:36:30.619Z"
   },
   {
    "duration": 356,
    "start_time": "2024-12-25T12:36:30.623Z"
   },
   {
    "duration": 4,
    "start_time": "2024-12-25T12:36:31.072Z"
   },
   {
    "duration": 96,
    "start_time": "2024-12-25T12:36:31.079Z"
   },
   {
    "duration": 99,
    "start_time": "2024-12-25T12:36:31.177Z"
   },
   {
    "duration": 5,
    "start_time": "2024-12-25T12:36:31.278Z"
   },
   {
    "duration": 20,
    "start_time": "2024-12-25T12:36:31.284Z"
   },
   {
    "duration": 17,
    "start_time": "2024-12-25T12:36:31.306Z"
   },
   {
    "duration": 56,
    "start_time": "2024-12-25T12:36:31.324Z"
   },
   {
    "duration": 26,
    "start_time": "2024-12-25T12:43:37.226Z"
   },
   {
    "duration": 422,
    "start_time": "2024-12-25T12:47:42.532Z"
   },
   {
    "duration": 26,
    "start_time": "2024-12-25T12:47:47.472Z"
   },
   {
    "duration": 27,
    "start_time": "2024-12-25T12:47:49.546Z"
   },
   {
    "duration": 27,
    "start_time": "2024-12-25T12:49:40.235Z"
   },
   {
    "duration": 27,
    "start_time": "2024-12-25T12:49:42.927Z"
   },
   {
    "duration": 27,
    "start_time": "2024-12-25T12:49:47.012Z"
   },
   {
    "duration": 36,
    "start_time": "2024-12-25T12:56:59.738Z"
   },
   {
    "duration": 29,
    "start_time": "2024-12-25T12:57:18.092Z"
   },
   {
    "duration": 4,
    "start_time": "2024-12-25T13:06:38.658Z"
   },
   {
    "duration": 137,
    "start_time": "2024-12-25T13:06:42.814Z"
   },
   {
    "duration": 82,
    "start_time": "2024-12-25T13:06:56.050Z"
   },
   {
    "duration": 1196,
    "start_time": "2024-12-25T13:07:00.237Z"
   },
   {
    "duration": 1083,
    "start_time": "2024-12-25T13:07:01.435Z"
   },
   {
    "duration": 18,
    "start_time": "2024-12-25T13:07:02.519Z"
   },
   {
    "duration": 29,
    "start_time": "2024-12-25T13:07:02.538Z"
   },
   {
    "duration": 12,
    "start_time": "2024-12-25T13:07:02.569Z"
   },
   {
    "duration": 23,
    "start_time": "2024-12-25T13:07:02.583Z"
   },
   {
    "duration": 58,
    "start_time": "2024-12-25T13:07:02.607Z"
   },
   {
    "duration": 33,
    "start_time": "2024-12-25T13:07:02.667Z"
   },
   {
    "duration": 53,
    "start_time": "2024-12-25T13:07:02.702Z"
   },
   {
    "duration": 95,
    "start_time": "2024-12-25T13:07:02.757Z"
   },
   {
    "duration": 51,
    "start_time": "2024-12-25T13:07:02.853Z"
   },
   {
    "duration": 45,
    "start_time": "2024-12-25T13:07:02.906Z"
   },
   {
    "duration": 52,
    "start_time": "2024-12-25T13:07:02.953Z"
   },
   {
    "duration": 45,
    "start_time": "2024-12-25T13:07:03.008Z"
   },
   {
    "duration": 63,
    "start_time": "2024-12-25T13:07:03.054Z"
   },
   {
    "duration": 163,
    "start_time": "2024-12-25T13:07:03.119Z"
   },
   {
    "duration": 17,
    "start_time": "2024-12-25T13:07:03.284Z"
   },
   {
    "duration": 129,
    "start_time": "2024-12-25T13:07:03.302Z"
   },
   {
    "duration": 30,
    "start_time": "2024-12-25T13:07:03.433Z"
   },
   {
    "duration": 102,
    "start_time": "2024-12-25T13:07:03.464Z"
   },
   {
    "duration": 3,
    "start_time": "2024-12-25T13:07:03.569Z"
   },
   {
    "duration": 401,
    "start_time": "2024-12-25T13:07:03.574Z"
   },
   {
    "duration": 93,
    "start_time": "2024-12-25T13:07:03.978Z"
   },
   {
    "duration": 16,
    "start_time": "2024-12-25T13:07:04.073Z"
   },
   {
    "duration": 7,
    "start_time": "2024-12-25T13:07:04.092Z"
   },
   {
    "duration": 48,
    "start_time": "2024-12-25T13:07:04.101Z"
   },
   {
    "duration": 11,
    "start_time": "2024-12-25T13:07:04.152Z"
   },
   {
    "duration": 11,
    "start_time": "2024-12-25T13:07:04.165Z"
   },
   {
    "duration": 37,
    "start_time": "2024-12-25T13:07:04.178Z"
   },
   {
    "duration": 108,
    "start_time": "2024-12-25T13:10:07.650Z"
   },
   {
    "duration": 1160,
    "start_time": "2024-12-25T13:10:18.554Z"
   },
   {
    "duration": 1314,
    "start_time": "2024-12-25T13:10:19.716Z"
   },
   {
    "duration": 17,
    "start_time": "2024-12-25T13:10:21.032Z"
   },
   {
    "duration": 22,
    "start_time": "2024-12-25T13:10:21.050Z"
   },
   {
    "duration": 47,
    "start_time": "2024-12-25T13:10:21.074Z"
   },
   {
    "duration": 49,
    "start_time": "2024-12-25T13:10:21.123Z"
   },
   {
    "duration": 16,
    "start_time": "2024-12-25T13:10:21.174Z"
   },
   {
    "duration": 16,
    "start_time": "2024-12-25T13:10:21.192Z"
   },
   {
    "duration": 80,
    "start_time": "2024-12-25T13:10:21.209Z"
   },
   {
    "duration": 43,
    "start_time": "2024-12-25T13:10:21.291Z"
   },
   {
    "duration": 60,
    "start_time": "2024-12-25T13:10:21.336Z"
   },
   {
    "duration": 61,
    "start_time": "2024-12-25T13:10:21.398Z"
   },
   {
    "duration": 39,
    "start_time": "2024-12-25T13:10:21.461Z"
   },
   {
    "duration": 48,
    "start_time": "2024-12-25T13:10:21.503Z"
   },
   {
    "duration": 59,
    "start_time": "2024-12-25T13:10:21.552Z"
   },
   {
    "duration": 123,
    "start_time": "2024-12-25T13:10:21.613Z"
   },
   {
    "duration": 48,
    "start_time": "2024-12-25T13:10:21.738Z"
   },
   {
    "duration": 29,
    "start_time": "2024-12-25T13:10:21.788Z"
   },
   {
    "duration": 6,
    "start_time": "2024-12-25T13:10:21.818Z"
   },
   {
    "duration": 111,
    "start_time": "2024-12-25T13:10:21.826Z"
   },
   {
    "duration": 3,
    "start_time": "2024-12-25T13:10:21.939Z"
   },
   {
    "duration": 428,
    "start_time": "2024-12-25T13:10:21.943Z"
   },
   {
    "duration": 5,
    "start_time": "2024-12-25T13:10:22.373Z"
   },
   {
    "duration": 94,
    "start_time": "2024-12-25T13:10:22.380Z"
   },
   {
    "duration": 3,
    "start_time": "2024-12-25T13:10:22.476Z"
   },
   {
    "duration": 5,
    "start_time": "2024-12-25T13:10:22.481Z"
   },
   {
    "duration": 22,
    "start_time": "2024-12-25T13:10:22.488Z"
   },
   {
    "duration": 13,
    "start_time": "2024-12-25T13:10:22.511Z"
   },
   {
    "duration": 46,
    "start_time": "2024-12-25T13:10:22.526Z"
   },
   {
    "duration": 18,
    "start_time": "2024-12-25T13:10:34.831Z"
   },
   {
    "duration": 4,
    "start_time": "2024-12-25T13:10:42.459Z"
   },
   {
    "duration": 87,
    "start_time": "2024-12-25T13:11:20.143Z"
   },
   {
    "duration": 156,
    "start_time": "2024-12-25T13:12:00.700Z"
   },
   {
    "duration": 86,
    "start_time": "2024-12-25T13:13:47.726Z"
   },
   {
    "duration": 92,
    "start_time": "2024-12-25T13:13:51.259Z"
   },
   {
    "duration": 84,
    "start_time": "2024-12-25T13:13:52.918Z"
   },
   {
    "duration": 90,
    "start_time": "2024-12-25T13:13:54.179Z"
   },
   {
    "duration": 88,
    "start_time": "2024-12-25T13:13:55.338Z"
   },
   {
    "duration": 1189,
    "start_time": "2024-12-25T13:13:59.332Z"
   },
   {
    "duration": 875,
    "start_time": "2024-12-25T13:14:00.523Z"
   },
   {
    "duration": 17,
    "start_time": "2024-12-25T13:14:01.403Z"
   },
   {
    "duration": 9,
    "start_time": "2024-12-25T13:14:01.421Z"
   },
   {
    "duration": 35,
    "start_time": "2024-12-25T13:14:01.432Z"
   },
   {
    "duration": 24,
    "start_time": "2024-12-25T13:14:01.469Z"
   },
   {
    "duration": 15,
    "start_time": "2024-12-25T13:14:01.495Z"
   },
   {
    "duration": 31,
    "start_time": "2024-12-25T13:14:01.511Z"
   },
   {
    "duration": 50,
    "start_time": "2024-12-25T13:14:01.545Z"
   },
   {
    "duration": 43,
    "start_time": "2024-12-25T13:14:01.597Z"
   },
   {
    "duration": 67,
    "start_time": "2024-12-25T13:14:01.642Z"
   },
   {
    "duration": 46,
    "start_time": "2024-12-25T13:14:01.711Z"
   },
   {
    "duration": 103,
    "start_time": "2024-12-25T13:14:01.759Z"
   },
   {
    "duration": 45,
    "start_time": "2024-12-25T13:14:01.863Z"
   },
   {
    "duration": 61,
    "start_time": "2024-12-25T13:14:01.910Z"
   },
   {
    "duration": 118,
    "start_time": "2024-12-25T13:14:01.973Z"
   },
   {
    "duration": 37,
    "start_time": "2024-12-25T13:14:02.092Z"
   },
   {
    "duration": 5,
    "start_time": "2024-12-25T13:14:02.130Z"
   },
   {
    "duration": 17,
    "start_time": "2024-12-25T13:14:02.136Z"
   },
   {
    "duration": 122,
    "start_time": "2024-12-25T13:14:02.171Z"
   },
   {
    "duration": 3,
    "start_time": "2024-12-25T13:14:02.295Z"
   },
   {
    "duration": 382,
    "start_time": "2024-12-25T13:14:02.299Z"
   },
   {
    "duration": 95,
    "start_time": "2024-12-25T13:14:02.683Z"
   },
   {
    "duration": 103,
    "start_time": "2024-12-25T13:14:02.780Z"
   },
   {
    "duration": 30,
    "start_time": "2024-12-25T13:14:02.884Z"
   },
   {
    "duration": 43,
    "start_time": "2024-12-25T13:14:02.916Z"
   },
   {
    "duration": 7,
    "start_time": "2024-12-25T13:14:02.963Z"
   },
   {
    "duration": 6,
    "start_time": "2024-12-25T13:14:02.972Z"
   },
   {
    "duration": 36,
    "start_time": "2024-12-25T13:14:02.979Z"
   },
   {
    "duration": 85,
    "start_time": "2024-12-25T13:14:15.288Z"
   },
   {
    "duration": 1092,
    "start_time": "2024-12-25T13:14:21.822Z"
   },
   {
    "duration": 1264,
    "start_time": "2024-12-25T13:14:22.916Z"
   },
   {
    "duration": 18,
    "start_time": "2024-12-25T13:14:24.182Z"
   },
   {
    "duration": 9,
    "start_time": "2024-12-25T13:14:24.202Z"
   },
   {
    "duration": 21,
    "start_time": "2024-12-25T13:14:24.213Z"
   },
   {
    "duration": 30,
    "start_time": "2024-12-25T13:14:24.235Z"
   },
   {
    "duration": 17,
    "start_time": "2024-12-25T13:14:24.270Z"
   },
   {
    "duration": 17,
    "start_time": "2024-12-25T13:14:24.289Z"
   },
   {
    "duration": 77,
    "start_time": "2024-12-25T13:14:24.308Z"
   },
   {
    "duration": 43,
    "start_time": "2024-12-25T13:14:24.387Z"
   },
   {
    "duration": 61,
    "start_time": "2024-12-25T13:14:24.432Z"
   },
   {
    "duration": 46,
    "start_time": "2024-12-25T13:14:24.495Z"
   },
   {
    "duration": 59,
    "start_time": "2024-12-25T13:14:24.544Z"
   },
   {
    "duration": 46,
    "start_time": "2024-12-25T13:14:24.606Z"
   },
   {
    "duration": 66,
    "start_time": "2024-12-25T13:14:24.654Z"
   },
   {
    "duration": 124,
    "start_time": "2024-12-25T13:14:24.722Z"
   },
   {
    "duration": 48,
    "start_time": "2024-12-25T13:14:24.848Z"
   },
   {
    "duration": 4,
    "start_time": "2024-12-25T13:14:24.898Z"
   },
   {
    "duration": 7,
    "start_time": "2024-12-25T13:14:24.903Z"
   },
   {
    "duration": 135,
    "start_time": "2024-12-25T13:14:24.911Z"
   },
   {
    "duration": 3,
    "start_time": "2024-12-25T13:14:25.047Z"
   },
   {
    "duration": 419,
    "start_time": "2024-12-25T13:14:25.052Z"
   },
   {
    "duration": 4,
    "start_time": "2024-12-25T13:14:25.473Z"
   },
   {
    "duration": 98,
    "start_time": "2024-12-25T13:14:25.479Z"
   },
   {
    "duration": 5,
    "start_time": "2024-12-25T13:14:25.579Z"
   },
   {
    "duration": 5,
    "start_time": "2024-12-25T13:14:25.586Z"
   },
   {
    "duration": 5,
    "start_time": "2024-12-25T13:14:25.593Z"
   },
   {
    "duration": 13,
    "start_time": "2024-12-25T13:14:25.599Z"
   },
   {
    "duration": 58,
    "start_time": "2024-12-25T13:14:25.614Z"
   },
   {
    "duration": 1147,
    "start_time": "2024-12-25T13:16:36.976Z"
   },
   {
    "duration": 1014,
    "start_time": "2024-12-25T13:16:38.126Z"
   },
   {
    "duration": 17,
    "start_time": "2024-12-25T13:16:39.142Z"
   },
   {
    "duration": 31,
    "start_time": "2024-12-25T13:16:39.160Z"
   },
   {
    "duration": 21,
    "start_time": "2024-12-25T13:16:39.193Z"
   },
   {
    "duration": 20,
    "start_time": "2024-12-25T13:16:39.216Z"
   },
   {
    "duration": 17,
    "start_time": "2024-12-25T13:16:39.238Z"
   },
   {
    "duration": 35,
    "start_time": "2024-12-25T13:16:39.257Z"
   },
   {
    "duration": 48,
    "start_time": "2024-12-25T13:16:39.293Z"
   },
   {
    "duration": 46,
    "start_time": "2024-12-25T13:16:39.343Z"
   },
   {
    "duration": 70,
    "start_time": "2024-12-25T13:16:39.391Z"
   },
   {
    "duration": 45,
    "start_time": "2024-12-25T13:16:39.463Z"
   },
   {
    "duration": 41,
    "start_time": "2024-12-25T13:16:39.510Z"
   },
   {
    "duration": 43,
    "start_time": "2024-12-25T13:16:39.570Z"
   },
   {
    "duration": 61,
    "start_time": "2024-12-25T13:16:39.615Z"
   },
   {
    "duration": 114,
    "start_time": "2024-12-25T13:16:39.678Z"
   },
   {
    "duration": 36,
    "start_time": "2024-12-25T13:16:39.794Z"
   },
   {
    "duration": 73,
    "start_time": "2024-12-25T13:16:39.831Z"
   },
   {
    "duration": 16,
    "start_time": "2024-12-25T13:16:39.906Z"
   },
   {
    "duration": 123,
    "start_time": "2024-12-25T13:16:39.924Z"
   },
   {
    "duration": 3,
    "start_time": "2024-12-25T13:16:40.048Z"
   },
   {
    "duration": 331,
    "start_time": "2024-12-25T13:16:40.053Z"
   },
   {
    "duration": 4,
    "start_time": "2024-12-25T13:16:40.472Z"
   },
   {
    "duration": 97,
    "start_time": "2024-12-25T13:16:40.482Z"
   },
   {
    "duration": 6,
    "start_time": "2024-12-25T13:16:40.580Z"
   },
   {
    "duration": 6,
    "start_time": "2024-12-25T13:16:40.588Z"
   },
   {
    "duration": 7,
    "start_time": "2024-12-25T13:16:40.596Z"
   },
   {
    "duration": 7,
    "start_time": "2024-12-25T13:16:40.605Z"
   },
   {
    "duration": 67,
    "start_time": "2024-12-25T13:16:40.613Z"
   },
   {
    "duration": 1147,
    "start_time": "2024-12-25T13:19:08.266Z"
   },
   {
    "duration": 848,
    "start_time": "2024-12-25T13:19:09.415Z"
   },
   {
    "duration": 23,
    "start_time": "2024-12-25T13:19:10.264Z"
   },
   {
    "duration": 43,
    "start_time": "2024-12-25T13:19:10.289Z"
   },
   {
    "duration": 25,
    "start_time": "2024-12-25T13:19:10.334Z"
   },
   {
    "duration": 45,
    "start_time": "2024-12-25T13:19:10.361Z"
   },
   {
    "duration": 17,
    "start_time": "2024-12-25T13:19:10.407Z"
   },
   {
    "duration": 35,
    "start_time": "2024-12-25T13:19:10.427Z"
   },
   {
    "duration": 63,
    "start_time": "2024-12-25T13:19:10.464Z"
   },
   {
    "duration": 52,
    "start_time": "2024-12-25T13:19:10.530Z"
   },
   {
    "duration": 45,
    "start_time": "2024-12-25T13:19:10.584Z"
   },
   {
    "duration": 58,
    "start_time": "2024-12-25T13:19:10.631Z"
   },
   {
    "duration": 41,
    "start_time": "2024-12-25T13:19:10.691Z"
   },
   {
    "duration": 59,
    "start_time": "2024-12-25T13:19:10.734Z"
   },
   {
    "duration": 48,
    "start_time": "2024-12-25T13:19:10.794Z"
   },
   {
    "duration": 156,
    "start_time": "2024-12-25T13:19:10.844Z"
   },
   {
    "duration": 36,
    "start_time": "2024-12-25T13:19:11.001Z"
   },
   {
    "duration": 5,
    "start_time": "2024-12-25T13:19:11.038Z"
   },
   {
    "duration": 37,
    "start_time": "2024-12-25T13:19:11.045Z"
   },
   {
    "duration": 136,
    "start_time": "2024-12-25T13:19:11.083Z"
   },
   {
    "duration": 2,
    "start_time": "2024-12-25T13:19:11.221Z"
   },
   {
    "duration": 356,
    "start_time": "2024-12-25T13:19:11.225Z"
   },
   {
    "duration": 91,
    "start_time": "2024-12-25T13:19:11.583Z"
   },
   {
    "duration": 186,
    "start_time": "2024-12-25T13:19:11.680Z"
   },
   {
    "duration": 8,
    "start_time": "2024-12-25T13:19:11.868Z"
   },
   {
    "duration": 17,
    "start_time": "2024-12-25T13:19:11.878Z"
   },
   {
    "duration": 16,
    "start_time": "2024-12-25T13:19:11.897Z"
   },
   {
    "duration": 9,
    "start_time": "2024-12-25T13:19:11.917Z"
   },
   {
    "duration": 132,
    "start_time": "2024-12-25T13:19:11.928Z"
   },
   {
    "duration": 1220,
    "start_time": "2024-12-25T13:21:59.986Z"
   },
   {
    "duration": 802,
    "start_time": "2024-12-25T13:22:01.209Z"
   },
   {
    "duration": 18,
    "start_time": "2024-12-25T13:22:02.013Z"
   },
   {
    "duration": 29,
    "start_time": "2024-12-25T13:22:02.033Z"
   },
   {
    "duration": 23,
    "start_time": "2024-12-25T13:22:02.064Z"
   },
   {
    "duration": 23,
    "start_time": "2024-12-25T13:22:02.089Z"
   },
   {
    "duration": 41,
    "start_time": "2024-12-25T13:22:02.114Z"
   },
   {
    "duration": 22,
    "start_time": "2024-12-25T13:22:02.156Z"
   },
   {
    "duration": 49,
    "start_time": "2024-12-25T13:22:02.179Z"
   },
   {
    "duration": 59,
    "start_time": "2024-12-25T13:22:02.229Z"
   },
   {
    "duration": 45,
    "start_time": "2024-12-25T13:22:02.290Z"
   },
   {
    "duration": 111,
    "start_time": "2024-12-25T13:22:02.336Z"
   },
   {
    "duration": 46,
    "start_time": "2024-12-25T13:22:02.448Z"
   },
   {
    "duration": 46,
    "start_time": "2024-12-25T13:22:02.496Z"
   },
   {
    "duration": 66,
    "start_time": "2024-12-25T13:22:02.544Z"
   },
   {
    "duration": 126,
    "start_time": "2024-12-25T13:22:02.612Z"
   },
   {
    "duration": 43,
    "start_time": "2024-12-25T13:22:02.740Z"
   },
   {
    "duration": 4,
    "start_time": "2024-12-25T13:22:02.785Z"
   },
   {
    "duration": 113,
    "start_time": "2024-12-25T13:22:02.790Z"
   },
   {
    "duration": 125,
    "start_time": "2024-12-25T13:22:02.905Z"
   },
   {
    "duration": 3,
    "start_time": "2024-12-25T13:22:03.032Z"
   },
   {
    "duration": 248,
    "start_time": "2024-12-25T13:22:03.036Z"
   },
   {
    "duration": 4,
    "start_time": "2024-12-25T13:22:03.371Z"
   },
   {
    "duration": 117,
    "start_time": "2024-12-25T13:22:03.377Z"
   },
   {
    "duration": 8,
    "start_time": "2024-12-25T13:22:03.495Z"
   },
   {
    "duration": 45,
    "start_time": "2024-12-25T13:22:03.505Z"
   },
   {
    "duration": 15,
    "start_time": "2024-12-25T13:22:03.551Z"
   },
   {
    "duration": 44,
    "start_time": "2024-12-25T13:22:03.568Z"
   },
   {
    "duration": 1500,
    "start_time": "2024-12-25T13:24:05.383Z"
   },
   {
    "duration": 27,
    "start_time": "2024-12-25T13:24:13.528Z"
   },
   {
    "duration": 25,
    "start_time": "2024-12-25T13:24:26.414Z"
   },
   {
    "duration": 27,
    "start_time": "2024-12-25T13:24:41.297Z"
   },
   {
    "duration": 27,
    "start_time": "2024-12-25T13:24:44.555Z"
   },
   {
    "duration": 27,
    "start_time": "2024-12-25T13:24:47.878Z"
   },
   {
    "duration": 1222,
    "start_time": "2024-12-25T13:25:10.540Z"
   },
   {
    "duration": 996,
    "start_time": "2024-12-25T13:25:11.764Z"
   },
   {
    "duration": 18,
    "start_time": "2024-12-25T13:25:12.762Z"
   },
   {
    "duration": 16,
    "start_time": "2024-12-25T13:25:12.781Z"
   },
   {
    "duration": 96,
    "start_time": "2024-12-25T13:25:12.799Z"
   },
   {
    "duration": 30,
    "start_time": "2024-12-25T13:25:12.896Z"
   },
   {
    "duration": 16,
    "start_time": "2024-12-25T13:25:12.928Z"
   },
   {
    "duration": 20,
    "start_time": "2024-12-25T13:25:12.945Z"
   },
   {
    "duration": 45,
    "start_time": "2024-12-25T13:25:12.967Z"
   },
   {
    "duration": 43,
    "start_time": "2024-12-25T13:25:13.014Z"
   },
   {
    "duration": 57,
    "start_time": "2024-12-25T13:25:13.058Z"
   },
   {
    "duration": 62,
    "start_time": "2024-12-25T13:25:13.116Z"
   },
   {
    "duration": 41,
    "start_time": "2024-12-25T13:25:13.180Z"
   },
   {
    "duration": 102,
    "start_time": "2024-12-25T13:25:13.225Z"
   },
   {
    "duration": 54,
    "start_time": "2024-12-25T13:25:13.329Z"
   },
   {
    "duration": 118,
    "start_time": "2024-12-25T13:25:13.385Z"
   },
   {
    "duration": 37,
    "start_time": "2024-12-25T13:25:13.505Z"
   },
   {
    "duration": 4,
    "start_time": "2024-12-25T13:25:13.571Z"
   },
   {
    "duration": 5,
    "start_time": "2024-12-25T13:25:13.577Z"
   },
   {
    "duration": 117,
    "start_time": "2024-12-25T13:25:13.584Z"
   },
   {
    "duration": 3,
    "start_time": "2024-12-25T13:25:13.703Z"
   },
   {
    "duration": 272,
    "start_time": "2024-12-25T13:25:13.708Z"
   },
   {
    "duration": 91,
    "start_time": "2024-12-25T13:25:13.982Z"
   },
   {
    "duration": 101,
    "start_time": "2024-12-25T13:25:14.075Z"
   },
   {
    "duration": 5,
    "start_time": "2024-12-25T13:25:14.178Z"
   },
   {
    "duration": 5,
    "start_time": "2024-12-25T13:25:14.184Z"
   },
   {
    "duration": 5,
    "start_time": "2024-12-25T13:25:14.190Z"
   },
   {
    "duration": 42,
    "start_time": "2024-12-25T13:25:14.197Z"
   },
   {
    "duration": 999,
    "start_time": "2024-12-25T13:45:21.094Z"
   },
   {
    "duration": 16,
    "start_time": "2024-12-25T13:45:22.095Z"
   },
   {
    "duration": 9,
    "start_time": "2024-12-25T13:45:22.113Z"
   },
   {
    "duration": 9,
    "start_time": "2024-12-25T13:45:22.124Z"
   },
   {
    "duration": 42,
    "start_time": "2024-12-25T13:45:22.135Z"
   },
   {
    "duration": 15,
    "start_time": "2024-12-25T13:45:22.179Z"
   },
   {
    "duration": 15,
    "start_time": "2024-12-25T13:45:22.196Z"
   },
   {
    "duration": 70,
    "start_time": "2024-12-25T13:45:22.213Z"
   },
   {
    "duration": 41,
    "start_time": "2024-12-25T13:45:22.284Z"
   },
   {
    "duration": 61,
    "start_time": "2024-12-25T13:45:22.326Z"
   },
   {
    "duration": 42,
    "start_time": "2024-12-25T13:45:22.388Z"
   },
   {
    "duration": 52,
    "start_time": "2024-12-25T13:45:22.432Z"
   },
   {
    "duration": 43,
    "start_time": "2024-12-25T13:45:22.486Z"
   },
   {
    "duration": 67,
    "start_time": "2024-12-25T13:45:22.530Z"
   },
   {
    "duration": 105,
    "start_time": "2024-12-25T13:45:22.599Z"
   },
   {
    "duration": 35,
    "start_time": "2024-12-25T13:45:22.706Z"
   },
   {
    "duration": 4,
    "start_time": "2024-12-25T13:45:22.742Z"
   },
   {
    "duration": 24,
    "start_time": "2024-12-25T13:45:22.747Z"
   },
   {
    "duration": 111,
    "start_time": "2024-12-25T13:45:22.773Z"
   },
   {
    "duration": 3,
    "start_time": "2024-12-25T13:45:22.885Z"
   },
   {
    "duration": 391,
    "start_time": "2024-12-25T13:45:22.889Z"
   },
   {
    "duration": 95,
    "start_time": "2024-12-25T13:45:23.282Z"
   },
   {
    "duration": 97,
    "start_time": "2024-12-25T13:45:23.381Z"
   },
   {
    "duration": 11,
    "start_time": "2024-12-25T13:45:23.480Z"
   },
   {
    "duration": 11,
    "start_time": "2024-12-25T13:45:23.492Z"
   },
   {
    "duration": 104,
    "start_time": "2024-12-25T13:45:23.505Z"
   },
   {
    "duration": 34,
    "start_time": "2024-12-25T13:45:23.610Z"
   },
   {
    "duration": 3390,
    "start_time": "2024-12-25T13:51:26.420Z"
   },
   {
    "duration": 3328,
    "start_time": "2024-12-25T13:51:36.628Z"
   },
   {
    "duration": 3371,
    "start_time": "2024-12-25T14:19:09.200Z"
   },
   {
    "duration": 1127,
    "start_time": "2024-12-25T14:19:18.290Z"
   },
   {
    "duration": 995,
    "start_time": "2024-12-25T14:19:19.419Z"
   },
   {
    "duration": 16,
    "start_time": "2024-12-25T14:19:20.416Z"
   },
   {
    "duration": 22,
    "start_time": "2024-12-25T14:19:20.434Z"
   },
   {
    "duration": 34,
    "start_time": "2024-12-25T14:19:20.458Z"
   },
   {
    "duration": 38,
    "start_time": "2024-12-25T14:19:20.494Z"
   },
   {
    "duration": 25,
    "start_time": "2024-12-25T14:19:20.534Z"
   },
   {
    "duration": 28,
    "start_time": "2024-12-25T14:19:20.561Z"
   },
   {
    "duration": 46,
    "start_time": "2024-12-25T14:19:20.590Z"
   },
   {
    "duration": 53,
    "start_time": "2024-12-25T14:19:20.639Z"
   },
   {
    "duration": 46,
    "start_time": "2024-12-25T14:19:20.694Z"
   },
   {
    "duration": 62,
    "start_time": "2024-12-25T14:19:20.741Z"
   },
   {
    "duration": 44,
    "start_time": "2024-12-25T14:19:20.804Z"
   },
   {
    "duration": 59,
    "start_time": "2024-12-25T14:19:20.850Z"
   },
   {
    "duration": 61,
    "start_time": "2024-12-25T14:19:20.911Z"
   },
   {
    "duration": 117,
    "start_time": "2024-12-25T14:19:20.974Z"
   },
   {
    "duration": 74,
    "start_time": "2024-12-25T14:19:21.093Z"
   },
   {
    "duration": 22,
    "start_time": "2024-12-25T14:19:21.169Z"
   },
   {
    "duration": 5,
    "start_time": "2024-12-25T14:19:21.192Z"
   },
   {
    "duration": 108,
    "start_time": "2024-12-25T14:19:21.198Z"
   },
   {
    "duration": 2,
    "start_time": "2024-12-25T14:19:21.308Z"
   },
   {
    "duration": 270,
    "start_time": "2024-12-25T14:19:21.312Z"
   },
   {
    "duration": 88,
    "start_time": "2024-12-25T14:19:21.584Z"
   },
   {
    "duration": 127,
    "start_time": "2024-12-25T14:19:21.674Z"
   },
   {
    "duration": 23,
    "start_time": "2024-12-25T14:19:21.802Z"
   },
   {
    "duration": 18,
    "start_time": "2024-12-25T14:19:21.827Z"
   },
   {
    "duration": 18,
    "start_time": "2024-12-25T14:19:21.846Z"
   },
   {
    "duration": 40,
    "start_time": "2024-12-25T14:19:21.867Z"
   },
   {
    "duration": 3481,
    "start_time": "2024-12-25T14:19:21.908Z"
   },
   {
    "duration": 1157,
    "start_time": "2024-12-25T16:53:48.171Z"
   },
   {
    "duration": 1068,
    "start_time": "2024-12-25T16:53:49.331Z"
   },
   {
    "duration": 16,
    "start_time": "2024-12-25T16:53:50.401Z"
   },
   {
    "duration": 11,
    "start_time": "2024-12-25T16:53:50.418Z"
   },
   {
    "duration": 28,
    "start_time": "2024-12-25T16:53:50.431Z"
   },
   {
    "duration": 17,
    "start_time": "2024-12-25T16:53:50.460Z"
   },
   {
    "duration": 14,
    "start_time": "2024-12-25T16:53:50.480Z"
   },
   {
    "duration": 15,
    "start_time": "2024-12-25T16:53:50.495Z"
   },
   {
    "duration": 75,
    "start_time": "2024-12-25T16:53:50.511Z"
   },
   {
    "duration": 38,
    "start_time": "2024-12-25T16:53:50.587Z"
   },
   {
    "duration": 62,
    "start_time": "2024-12-25T16:53:50.626Z"
   },
   {
    "duration": 44,
    "start_time": "2024-12-25T16:53:50.689Z"
   },
   {
    "duration": 50,
    "start_time": "2024-12-25T16:53:50.735Z"
   },
   {
    "duration": 39,
    "start_time": "2024-12-25T16:53:50.787Z"
   },
   {
    "duration": 64,
    "start_time": "2024-12-25T16:53:50.827Z"
   },
   {
    "duration": 129,
    "start_time": "2024-12-25T16:53:50.892Z"
   },
   {
    "duration": 47,
    "start_time": "2024-12-25T16:53:51.023Z"
   },
   {
    "duration": 4,
    "start_time": "2024-12-25T16:53:51.072Z"
   },
   {
    "duration": 10,
    "start_time": "2024-12-25T16:53:51.077Z"
   },
   {
    "duration": 127,
    "start_time": "2024-12-25T16:53:51.089Z"
   },
   {
    "duration": 3,
    "start_time": "2024-12-25T16:53:51.217Z"
   },
   {
    "duration": 332,
    "start_time": "2024-12-25T16:53:51.222Z"
   },
   {
    "duration": 4,
    "start_time": "2024-12-25T16:53:51.556Z"
   },
   {
    "duration": 99,
    "start_time": "2024-12-25T16:53:51.562Z"
   },
   {
    "duration": 6,
    "start_time": "2024-12-25T16:53:51.663Z"
   },
   {
    "duration": 14,
    "start_time": "2024-12-25T16:53:51.670Z"
   },
   {
    "duration": 36,
    "start_time": "2024-12-25T16:53:51.686Z"
   },
   {
    "duration": 37,
    "start_time": "2024-12-25T16:53:51.724Z"
   },
   {
    "duration": 3132,
    "start_time": "2024-12-25T16:53:51.763Z"
   },
   {
    "duration": 4,
    "start_time": "2024-12-25T16:54:42.059Z"
   },
   {
    "duration": 97,
    "start_time": "2024-12-25T16:54:43.023Z"
   },
   {
    "duration": 1089,
    "start_time": "2024-12-25T16:55:07.061Z"
   },
   {
    "duration": 913,
    "start_time": "2024-12-25T16:55:08.152Z"
   },
   {
    "duration": 16,
    "start_time": "2024-12-25T16:55:09.069Z"
   },
   {
    "duration": 8,
    "start_time": "2024-12-25T16:55:09.087Z"
   },
   {
    "duration": 13,
    "start_time": "2024-12-25T16:55:09.097Z"
   },
   {
    "duration": 48,
    "start_time": "2024-12-25T16:55:09.111Z"
   },
   {
    "duration": 34,
    "start_time": "2024-12-25T16:55:09.161Z"
   },
   {
    "duration": 22,
    "start_time": "2024-12-25T16:55:09.198Z"
   },
   {
    "duration": 62,
    "start_time": "2024-12-25T16:55:09.221Z"
   },
   {
    "duration": 37,
    "start_time": "2024-12-25T16:55:09.285Z"
   },
   {
    "duration": 57,
    "start_time": "2024-12-25T16:55:09.323Z"
   },
   {
    "duration": 40,
    "start_time": "2024-12-25T16:55:09.382Z"
   },
   {
    "duration": 58,
    "start_time": "2024-12-25T16:55:09.424Z"
   },
   {
    "duration": 39,
    "start_time": "2024-12-25T16:55:09.485Z"
   },
   {
    "duration": 62,
    "start_time": "2024-12-25T16:55:09.525Z"
   },
   {
    "duration": 102,
    "start_time": "2024-12-25T16:55:09.588Z"
   },
   {
    "duration": 33,
    "start_time": "2024-12-25T16:55:09.691Z"
   },
   {
    "duration": 4,
    "start_time": "2024-12-25T16:55:09.725Z"
   },
   {
    "duration": 3,
    "start_time": "2024-12-25T16:55:09.754Z"
   },
   {
    "duration": 120,
    "start_time": "2024-12-25T16:55:09.758Z"
   },
   {
    "duration": 3,
    "start_time": "2024-12-25T16:55:09.879Z"
   },
   {
    "duration": 372,
    "start_time": "2024-12-25T16:55:09.884Z"
   },
   {
    "duration": 3,
    "start_time": "2024-12-25T16:55:10.258Z"
   },
   {
    "duration": 95,
    "start_time": "2024-12-25T16:55:10.265Z"
   },
   {
    "duration": 12,
    "start_time": "2024-12-25T16:55:10.362Z"
   },
   {
    "duration": 12,
    "start_time": "2024-12-25T16:55:10.375Z"
   },
   {
    "duration": 5,
    "start_time": "2024-12-25T16:55:10.388Z"
   },
   {
    "duration": 37,
    "start_time": "2024-12-25T16:55:10.394Z"
   },
   {
    "duration": 4,
    "start_time": "2024-12-25T16:55:10.432Z"
   },
   {
    "duration": 6489,
    "start_time": "2024-12-25T16:55:10.438Z"
   },
   {
    "duration": 52,
    "start_time": "2024-12-27T10:04:57.184Z"
   },
   {
    "duration": 1133,
    "start_time": "2024-12-27T10:05:02.919Z"
   },
   {
    "duration": 1208,
    "start_time": "2024-12-27T10:05:04.054Z"
   },
   {
    "duration": 16,
    "start_time": "2024-12-27T10:05:05.264Z"
   },
   {
    "duration": 40,
    "start_time": "2024-12-27T10:05:05.282Z"
   },
   {
    "duration": 65,
    "start_time": "2024-12-27T10:05:05.325Z"
   },
   {
    "duration": 58,
    "start_time": "2024-12-27T10:05:05.392Z"
   },
   {
    "duration": 25,
    "start_time": "2024-12-27T10:05:05.452Z"
   },
   {
    "duration": 15,
    "start_time": "2024-12-27T10:05:05.479Z"
   },
   {
    "duration": 54,
    "start_time": "2024-12-27T10:05:05.495Z"
   },
   {
    "duration": 43,
    "start_time": "2024-12-27T10:05:05.551Z"
   },
   {
    "duration": 57,
    "start_time": "2024-12-27T10:05:05.595Z"
   },
   {
    "duration": 43,
    "start_time": "2024-12-27T10:05:05.654Z"
   },
   {
    "duration": 72,
    "start_time": "2024-12-27T10:05:05.699Z"
   },
   {
    "duration": 117,
    "start_time": "2024-12-27T10:05:05.774Z"
   },
   {
    "duration": 52,
    "start_time": "2024-12-27T10:05:05.893Z"
   },
   {
    "duration": 206,
    "start_time": "2024-12-27T10:05:05.947Z"
   },
   {
    "duration": 34,
    "start_time": "2024-12-27T10:05:06.155Z"
   },
   {
    "duration": 82,
    "start_time": "2024-12-27T10:05:06.191Z"
   },
   {
    "duration": 52,
    "start_time": "2024-12-27T10:05:06.274Z"
   },
   {
    "duration": 130,
    "start_time": "2024-12-27T10:05:06.328Z"
   },
   {
    "duration": 3,
    "start_time": "2024-12-27T10:05:06.460Z"
   },
   {
    "duration": 351,
    "start_time": "2024-12-27T10:05:06.464Z"
   },
   {
    "duration": 3,
    "start_time": "2024-12-27T10:05:06.818Z"
   },
   {
    "duration": 114,
    "start_time": "2024-12-27T10:05:06.824Z"
   },
   {
    "duration": 39,
    "start_time": "2024-12-27T10:05:06.940Z"
   },
   {
    "duration": 15,
    "start_time": "2024-12-27T10:05:06.981Z"
   },
   {
    "duration": 26,
    "start_time": "2024-12-27T10:05:06.999Z"
   },
   {
    "duration": 64,
    "start_time": "2024-12-27T10:05:07.027Z"
   },
   {
    "duration": 6,
    "start_time": "2024-12-27T10:05:07.093Z"
   },
   {
    "duration": 9533,
    "start_time": "2024-12-27T10:05:07.101Z"
   },
   {
    "duration": 4,
    "start_time": "2024-12-27T10:06:14.112Z"
   },
   {
    "duration": 1079,
    "start_time": "2024-12-27T10:06:21.762Z"
   },
   {
    "duration": 839,
    "start_time": "2024-12-27T10:06:22.843Z"
   },
   {
    "duration": 17,
    "start_time": "2024-12-27T10:06:23.684Z"
   },
   {
    "duration": 19,
    "start_time": "2024-12-27T10:06:23.703Z"
   },
   {
    "duration": 28,
    "start_time": "2024-12-27T10:06:23.724Z"
   },
   {
    "duration": 33,
    "start_time": "2024-12-27T10:06:23.754Z"
   },
   {
    "duration": 16,
    "start_time": "2024-12-27T10:06:23.788Z"
   },
   {
    "duration": 26,
    "start_time": "2024-12-27T10:06:23.805Z"
   },
   {
    "duration": 44,
    "start_time": "2024-12-27T10:06:23.833Z"
   },
   {
    "duration": 54,
    "start_time": "2024-12-27T10:06:23.879Z"
   },
   {
    "duration": 44,
    "start_time": "2024-12-27T10:06:23.935Z"
   },
   {
    "duration": 66,
    "start_time": "2024-12-27T10:06:23.981Z"
   },
   {
    "duration": 41,
    "start_time": "2024-12-27T10:06:24.048Z"
   },
   {
    "duration": 56,
    "start_time": "2024-12-27T10:06:24.092Z"
   },
   {
    "duration": 49,
    "start_time": "2024-12-27T10:06:24.149Z"
   },
   {
    "duration": 114,
    "start_time": "2024-12-27T10:06:24.215Z"
   },
   {
    "duration": 35,
    "start_time": "2024-12-27T10:06:24.330Z"
   },
   {
    "duration": 3,
    "start_time": "2024-12-27T10:06:24.367Z"
   },
   {
    "duration": 2,
    "start_time": "2024-12-27T10:06:24.372Z"
   },
   {
    "duration": 147,
    "start_time": "2024-12-27T10:06:24.376Z"
   },
   {
    "duration": 4,
    "start_time": "2024-12-27T10:06:24.525Z"
   },
   {
    "duration": 385,
    "start_time": "2024-12-27T10:06:24.530Z"
   },
   {
    "duration": 3,
    "start_time": "2024-12-27T10:06:24.918Z"
   },
   {
    "duration": 108,
    "start_time": "2024-12-27T10:06:24.924Z"
   },
   {
    "duration": 28,
    "start_time": "2024-12-27T10:06:25.034Z"
   },
   {
    "duration": 6,
    "start_time": "2024-12-27T10:06:25.064Z"
   },
   {
    "duration": 13,
    "start_time": "2024-12-27T10:06:25.072Z"
   },
   {
    "duration": 33,
    "start_time": "2024-12-27T10:06:25.086Z"
   },
   {
    "duration": 4,
    "start_time": "2024-12-27T10:06:25.121Z"
   },
   {
    "duration": 7135,
    "start_time": "2024-12-27T10:06:25.127Z"
   },
   {
    "duration": 5,
    "start_time": "2024-12-27T10:07:51.098Z"
   },
   {
    "duration": 9564,
    "start_time": "2024-12-27T10:07:51.829Z"
   },
   {
    "duration": 1156,
    "start_time": "2024-12-27T10:09:24.847Z"
   },
   {
    "duration": 893,
    "start_time": "2024-12-27T10:09:26.005Z"
   },
   {
    "duration": 24,
    "start_time": "2024-12-27T10:09:26.900Z"
   },
   {
    "duration": 10,
    "start_time": "2024-12-27T10:09:26.925Z"
   },
   {
    "duration": 10,
    "start_time": "2024-12-27T10:09:26.938Z"
   },
   {
    "duration": 26,
    "start_time": "2024-12-27T10:09:26.949Z"
   },
   {
    "duration": 48,
    "start_time": "2024-12-27T10:09:26.976Z"
   },
   {
    "duration": 18,
    "start_time": "2024-12-27T10:09:27.026Z"
   },
   {
    "duration": 98,
    "start_time": "2024-12-27T10:09:27.046Z"
   },
   {
    "duration": 43,
    "start_time": "2024-12-27T10:09:27.146Z"
   },
   {
    "duration": 63,
    "start_time": "2024-12-27T10:09:27.191Z"
   },
   {
    "duration": 40,
    "start_time": "2024-12-27T10:09:27.256Z"
   },
   {
    "duration": 53,
    "start_time": "2024-12-27T10:09:27.298Z"
   },
   {
    "duration": 40,
    "start_time": "2024-12-27T10:09:27.354Z"
   },
   {
    "duration": 70,
    "start_time": "2024-12-27T10:09:27.396Z"
   },
   {
    "duration": 135,
    "start_time": "2024-12-27T10:09:27.468Z"
   },
   {
    "duration": 44,
    "start_time": "2024-12-27T10:09:27.615Z"
   },
   {
    "duration": 4,
    "start_time": "2024-12-27T10:09:27.660Z"
   },
   {
    "duration": 24,
    "start_time": "2024-12-27T10:09:27.665Z"
   },
   {
    "duration": 149,
    "start_time": "2024-12-27T10:09:27.691Z"
   },
   {
    "duration": 5,
    "start_time": "2024-12-27T10:09:27.841Z"
   },
   {
    "duration": 369,
    "start_time": "2024-12-27T10:09:27.848Z"
   },
   {
    "duration": 3,
    "start_time": "2024-12-27T10:09:28.219Z"
   },
   {
    "duration": 107,
    "start_time": "2024-12-27T10:09:28.224Z"
   },
   {
    "duration": 14,
    "start_time": "2024-12-27T10:09:28.333Z"
   },
   {
    "duration": 35,
    "start_time": "2024-12-27T10:09:28.349Z"
   },
   {
    "duration": 31,
    "start_time": "2024-12-27T10:09:28.385Z"
   },
   {
    "duration": 39,
    "start_time": "2024-12-27T10:09:28.418Z"
   },
   {
    "duration": 6,
    "start_time": "2024-12-27T10:09:28.459Z"
   },
   {
    "duration": 9581,
    "start_time": "2024-12-27T10:09:28.467Z"
   },
   {
    "duration": 1144,
    "start_time": "2024-12-27T10:11:16.008Z"
   },
   {
    "duration": 851,
    "start_time": "2024-12-27T10:11:17.154Z"
   },
   {
    "duration": 17,
    "start_time": "2024-12-27T10:11:18.007Z"
   },
   {
    "duration": 8,
    "start_time": "2024-12-27T10:11:18.026Z"
   },
   {
    "duration": 22,
    "start_time": "2024-12-27T10:11:18.036Z"
   },
   {
    "duration": 20,
    "start_time": "2024-12-27T10:11:18.059Z"
   },
   {
    "duration": 15,
    "start_time": "2024-12-27T10:11:18.080Z"
   },
   {
    "duration": 32,
    "start_time": "2024-12-27T10:11:18.097Z"
   },
   {
    "duration": 47,
    "start_time": "2024-12-27T10:11:18.131Z"
   },
   {
    "duration": 66,
    "start_time": "2024-12-27T10:11:18.180Z"
   },
   {
    "duration": 43,
    "start_time": "2024-12-27T10:11:18.248Z"
   },
   {
    "duration": 65,
    "start_time": "2024-12-27T10:11:18.292Z"
   },
   {
    "duration": 38,
    "start_time": "2024-12-27T10:11:18.359Z"
   },
   {
    "duration": 51,
    "start_time": "2024-12-27T10:11:18.399Z"
   },
   {
    "duration": 63,
    "start_time": "2024-12-27T10:11:18.452Z"
   },
   {
    "duration": 113,
    "start_time": "2024-12-27T10:11:18.516Z"
   },
   {
    "duration": 35,
    "start_time": "2024-12-27T10:11:18.630Z"
   },
   {
    "duration": 5,
    "start_time": "2024-12-27T10:11:18.666Z"
   },
   {
    "duration": 7,
    "start_time": "2024-12-27T10:11:18.672Z"
   },
   {
    "duration": 142,
    "start_time": "2024-12-27T10:11:18.681Z"
   },
   {
    "duration": 3,
    "start_time": "2024-12-27T10:11:18.824Z"
   },
   {
    "duration": 298,
    "start_time": "2024-12-27T10:11:18.828Z"
   },
   {
    "duration": 4,
    "start_time": "2024-12-27T10:11:19.216Z"
   },
   {
    "duration": 109,
    "start_time": "2024-12-27T10:11:19.222Z"
   },
   {
    "duration": 12,
    "start_time": "2024-12-27T10:11:19.333Z"
   },
   {
    "duration": 6,
    "start_time": "2024-12-27T10:11:19.346Z"
   },
   {
    "duration": 7,
    "start_time": "2024-12-27T10:11:19.354Z"
   },
   {
    "duration": 34,
    "start_time": "2024-12-27T10:11:19.363Z"
   },
   {
    "duration": 16,
    "start_time": "2024-12-27T10:11:19.399Z"
   },
   {
    "duration": 9367,
    "start_time": "2024-12-27T10:11:19.417Z"
   },
   {
    "duration": 4,
    "start_time": "2024-12-27T10:11:29.839Z"
   },
   {
    "duration": 1144,
    "start_time": "2024-12-27T10:11:35.084Z"
   },
   {
    "duration": 819,
    "start_time": "2024-12-27T10:11:36.230Z"
   },
   {
    "duration": 17,
    "start_time": "2024-12-27T10:11:37.050Z"
   },
   {
    "duration": 14,
    "start_time": "2024-12-27T10:11:37.068Z"
   },
   {
    "duration": 8,
    "start_time": "2024-12-27T10:11:37.084Z"
   },
   {
    "duration": 41,
    "start_time": "2024-12-27T10:11:37.095Z"
   },
   {
    "duration": 17,
    "start_time": "2024-12-27T10:11:37.139Z"
   },
   {
    "duration": 27,
    "start_time": "2024-12-27T10:11:37.158Z"
   },
   {
    "duration": 66,
    "start_time": "2024-12-27T10:11:37.186Z"
   },
   {
    "duration": 43,
    "start_time": "2024-12-27T10:11:37.254Z"
   },
   {
    "duration": 90,
    "start_time": "2024-12-27T10:11:37.298Z"
   },
   {
    "duration": 44,
    "start_time": "2024-12-27T10:11:37.389Z"
   },
   {
    "duration": 46,
    "start_time": "2024-12-27T10:11:37.435Z"
   },
   {
    "duration": 63,
    "start_time": "2024-12-27T10:11:37.484Z"
   },
   {
    "duration": 48,
    "start_time": "2024-12-27T10:11:37.549Z"
   },
   {
    "duration": 118,
    "start_time": "2024-12-27T10:11:37.615Z"
   },
   {
    "duration": 38,
    "start_time": "2024-12-27T10:11:37.735Z"
   },
   {
    "duration": 5,
    "start_time": "2024-12-27T10:11:37.775Z"
   },
   {
    "duration": 34,
    "start_time": "2024-12-27T10:11:37.814Z"
   },
   {
    "duration": 130,
    "start_time": "2024-12-27T10:11:37.849Z"
   },
   {
    "duration": 3,
    "start_time": "2024-12-27T10:11:37.980Z"
   },
   {
    "duration": 332,
    "start_time": "2024-12-27T10:11:37.984Z"
   },
   {
    "duration": 4,
    "start_time": "2024-12-27T10:11:38.318Z"
   },
   {
    "duration": 119,
    "start_time": "2024-12-27T10:11:38.324Z"
   },
   {
    "duration": 20,
    "start_time": "2024-12-27T10:11:38.445Z"
   },
   {
    "duration": 5,
    "start_time": "2024-12-27T10:11:38.467Z"
   },
   {
    "duration": 20,
    "start_time": "2024-12-27T10:11:38.473Z"
   },
   {
    "duration": 34,
    "start_time": "2024-12-27T10:11:38.495Z"
   },
   {
    "duration": 5,
    "start_time": "2024-12-27T10:11:38.531Z"
   },
   {
    "duration": 7520,
    "start_time": "2024-12-27T10:11:38.538Z"
   },
   {
    "duration": 1205,
    "start_time": "2024-12-27T10:20:02.288Z"
   },
   {
    "duration": 919,
    "start_time": "2024-12-27T10:20:03.495Z"
   },
   {
    "duration": 18,
    "start_time": "2024-12-27T10:20:04.416Z"
   },
   {
    "duration": 31,
    "start_time": "2024-12-27T10:20:04.436Z"
   },
   {
    "duration": 10,
    "start_time": "2024-12-27T10:20:04.470Z"
   },
   {
    "duration": 19,
    "start_time": "2024-12-27T10:20:04.482Z"
   },
   {
    "duration": 20,
    "start_time": "2024-12-27T10:20:04.503Z"
   },
   {
    "duration": 15,
    "start_time": "2024-12-27T10:20:04.524Z"
   },
   {
    "duration": 63,
    "start_time": "2024-12-27T10:20:04.541Z"
   },
   {
    "duration": 48,
    "start_time": "2024-12-27T10:20:04.605Z"
   },
   {
    "duration": 43,
    "start_time": "2024-12-27T10:20:04.655Z"
   },
   {
    "duration": 57,
    "start_time": "2024-12-27T10:20:04.700Z"
   },
   {
    "duration": 57,
    "start_time": "2024-12-27T10:20:04.759Z"
   },
   {
    "duration": 44,
    "start_time": "2024-12-27T10:20:04.818Z"
   },
   {
    "duration": 65,
    "start_time": "2024-12-27T10:20:04.864Z"
   },
   {
    "duration": 147,
    "start_time": "2024-12-27T10:20:04.931Z"
   },
   {
    "duration": 52,
    "start_time": "2024-12-27T10:20:05.081Z"
   },
   {
    "duration": 4,
    "start_time": "2024-12-27T10:20:05.135Z"
   },
   {
    "duration": 49,
    "start_time": "2024-12-27T10:20:05.140Z"
   },
   {
    "duration": 121,
    "start_time": "2024-12-27T10:20:05.191Z"
   },
   {
    "duration": 3,
    "start_time": "2024-12-27T10:20:05.314Z"
   },
   {
    "duration": 405,
    "start_time": "2024-12-27T10:20:05.319Z"
   },
   {
    "duration": 4,
    "start_time": "2024-12-27T10:20:05.816Z"
   },
   {
    "duration": 97,
    "start_time": "2024-12-27T10:20:05.822Z"
   },
   {
    "duration": 66,
    "start_time": "2024-12-27T10:20:05.920Z"
   },
   {
    "duration": 116,
    "start_time": "2024-12-27T10:20:05.987Z"
   },
   {
    "duration": 23,
    "start_time": "2024-12-27T10:20:06.105Z"
   },
   {
    "duration": 97,
    "start_time": "2024-12-27T10:20:06.130Z"
   },
   {
    "duration": 58,
    "start_time": "2024-12-27T10:20:06.228Z"
   },
   {
    "duration": 9244,
    "start_time": "2024-12-27T10:20:06.287Z"
   },
   {
    "duration": 4,
    "start_time": "2024-12-27T10:21:09.059Z"
   },
   {
    "duration": 6428,
    "start_time": "2024-12-27T10:21:11.940Z"
   },
   {
    "duration": 6559,
    "start_time": "2024-12-27T10:23:14.379Z"
   },
   {
    "duration": 6226,
    "start_time": "2024-12-28T06:53:36.361Z"
   },
   {
    "duration": 1208,
    "start_time": "2024-12-28T06:53:42.589Z"
   },
   {
    "duration": 19,
    "start_time": "2024-12-28T06:53:43.799Z"
   },
   {
    "duration": 34,
    "start_time": "2024-12-28T06:53:43.820Z"
   },
   {
    "duration": 12,
    "start_time": "2024-12-28T06:53:43.857Z"
   },
   {
    "duration": 21,
    "start_time": "2024-12-28T06:53:43.871Z"
   },
   {
    "duration": 17,
    "start_time": "2024-12-28T06:53:43.894Z"
   },
   {
    "duration": 26,
    "start_time": "2024-12-28T06:53:43.937Z"
   },
   {
    "duration": 50,
    "start_time": "2024-12-28T06:53:43.965Z"
   },
   {
    "duration": 60,
    "start_time": "2024-12-28T06:53:44.017Z"
   },
   {
    "duration": 44,
    "start_time": "2024-12-28T06:53:44.078Z"
   },
   {
    "duration": 54,
    "start_time": "2024-12-28T06:53:44.136Z"
   },
   {
    "duration": 63,
    "start_time": "2024-12-28T06:53:44.192Z"
   },
   {
    "duration": 50,
    "start_time": "2024-12-28T06:53:44.258Z"
   },
   {
    "duration": 81,
    "start_time": "2024-12-28T06:53:44.310Z"
   },
   {
    "duration": 124,
    "start_time": "2024-12-28T06:53:44.393Z"
   },
   {
    "duration": 53,
    "start_time": "2024-12-28T06:53:44.518Z"
   },
   {
    "duration": 5,
    "start_time": "2024-12-28T06:53:44.572Z"
   },
   {
    "duration": 3,
    "start_time": "2024-12-28T06:53:44.579Z"
   },
   {
    "duration": 170,
    "start_time": "2024-12-28T06:53:44.584Z"
   },
   {
    "duration": 3,
    "start_time": "2024-12-28T06:53:44.756Z"
   },
   {
    "duration": 293,
    "start_time": "2024-12-28T06:53:44.761Z"
   },
   {
    "duration": 6,
    "start_time": "2024-12-28T06:53:45.056Z"
   },
   {
    "duration": 103,
    "start_time": "2024-12-28T06:53:45.138Z"
   },
   {
    "duration": 45,
    "start_time": "2024-12-28T06:53:45.244Z"
   },
   {
    "duration": 59,
    "start_time": "2024-12-28T06:53:45.291Z"
   },
   {
    "duration": 46,
    "start_time": "2024-12-28T06:53:45.353Z"
   },
   {
    "duration": 92,
    "start_time": "2024-12-28T06:53:45.401Z"
   },
   {
    "duration": 4,
    "start_time": "2024-12-28T06:53:45.495Z"
   },
   {
    "duration": 6816,
    "start_time": "2024-12-28T06:53:45.501Z"
   },
   {
    "duration": 7,
    "start_time": "2024-12-28T06:54:15.672Z"
   },
   {
    "duration": 6,
    "start_time": "2024-12-28T06:54:19.672Z"
   },
   {
    "duration": 7,
    "start_time": "2024-12-28T06:54:22.421Z"
   },
   {
    "duration": 98,
    "start_time": "2024-12-28T06:54:59.854Z"
   },
   {
    "duration": 33,
    "start_time": "2024-12-28T06:55:08.945Z"
   },
   {
    "duration": 40,
    "start_time": "2024-12-28T06:55:41.814Z"
   },
   {
    "duration": 5,
    "start_time": "2024-12-28T06:55:44.673Z"
   },
   {
    "duration": 40,
    "start_time": "2024-12-28T06:55:52.734Z"
   },
   {
    "duration": 5563,
    "start_time": "2024-12-28T06:55:58.197Z"
   },
   {
    "duration": 5,
    "start_time": "2024-12-28T06:57:10.961Z"
   },
   {
    "duration": 7476,
    "start_time": "2024-12-28T06:57:11.682Z"
   },
   {
    "duration": 9,
    "start_time": "2024-12-28T06:57:19.545Z"
   },
   {
    "duration": 7053,
    "start_time": "2024-12-28T06:57:20.381Z"
   },
   {
    "duration": 3,
    "start_time": "2024-12-28T06:57:36.630Z"
   },
   {
    "duration": 1236,
    "start_time": "2024-12-28T13:24:02.794Z"
   },
   {
    "duration": 1197,
    "start_time": "2024-12-28T13:24:04.032Z"
   },
   {
    "duration": 18,
    "start_time": "2024-12-28T13:24:05.231Z"
   },
   {
    "duration": 17,
    "start_time": "2024-12-28T13:24:05.260Z"
   },
   {
    "duration": 11,
    "start_time": "2024-12-28T13:24:05.279Z"
   },
   {
    "duration": 33,
    "start_time": "2024-12-28T13:24:05.292Z"
   },
   {
    "duration": 16,
    "start_time": "2024-12-28T13:24:05.326Z"
   },
   {
    "duration": 35,
    "start_time": "2024-12-28T13:24:05.344Z"
   },
   {
    "duration": 65,
    "start_time": "2024-12-28T13:24:05.381Z"
   },
   {
    "duration": 47,
    "start_time": "2024-12-28T13:24:05.449Z"
   },
   {
    "duration": 63,
    "start_time": "2024-12-28T13:24:05.498Z"
   },
   {
    "duration": 47,
    "start_time": "2024-12-28T13:24:05.563Z"
   },
   {
    "duration": 57,
    "start_time": "2024-12-28T13:24:05.612Z"
   },
   {
    "duration": 49,
    "start_time": "2024-12-28T13:24:05.672Z"
   },
   {
    "duration": 77,
    "start_time": "2024-12-28T13:24:05.723Z"
   },
   {
    "duration": 128,
    "start_time": "2024-12-28T13:24:05.802Z"
   },
   {
    "duration": 50,
    "start_time": "2024-12-28T13:24:05.932Z"
   },
   {
    "duration": 4,
    "start_time": "2024-12-28T13:24:05.984Z"
   },
   {
    "duration": 30,
    "start_time": "2024-12-28T13:24:05.990Z"
   },
   {
    "duration": 168,
    "start_time": "2024-12-28T13:24:06.022Z"
   },
   {
    "duration": 3,
    "start_time": "2024-12-28T13:24:06.192Z"
   },
   {
    "duration": 467,
    "start_time": "2024-12-28T13:24:06.196Z"
   },
   {
    "duration": 94,
    "start_time": "2024-12-28T13:24:06.666Z"
   },
   {
    "duration": 20,
    "start_time": "2024-12-28T13:24:06.761Z"
   },
   {
    "duration": 15,
    "start_time": "2024-12-28T13:24:06.783Z"
   },
   {
    "duration": 7,
    "start_time": "2024-12-28T13:24:06.799Z"
   },
   {
    "duration": 5,
    "start_time": "2024-12-28T13:24:06.808Z"
   },
   {
    "duration": 57,
    "start_time": "2024-12-28T13:24:06.815Z"
   },
   {
    "duration": 5,
    "start_time": "2024-12-28T13:24:06.874Z"
   },
   {
    "duration": 7570,
    "start_time": "2024-12-28T13:24:06.881Z"
   },
   {
    "duration": 69,
    "start_time": "2024-12-28T13:30:32.705Z"
   },
   {
    "duration": 3,
    "start_time": "2024-12-28T13:33:40.899Z"
   },
   {
    "duration": 4,
    "start_time": "2024-12-28T13:33:41.670Z"
   },
   {
    "duration": 5,
    "start_time": "2024-12-28T13:33:43.054Z"
   },
   {
    "duration": 112,
    "start_time": "2024-12-28T13:33:48.405Z"
   },
   {
    "duration": 42,
    "start_time": "2024-12-28T13:34:13.014Z"
   },
   {
    "duration": 5,
    "start_time": "2024-12-28T13:34:15.166Z"
   },
   {
    "duration": 19,
    "start_time": "2024-12-28T13:34:16.490Z"
   },
   {
    "duration": 15,
    "start_time": "2024-12-28T13:34:27.051Z"
   },
   {
    "duration": 1281,
    "start_time": "2024-12-28T13:34:35.943Z"
   },
   {
    "duration": 1191,
    "start_time": "2024-12-28T13:34:37.227Z"
   },
   {
    "duration": 19,
    "start_time": "2024-12-28T13:34:38.420Z"
   },
   {
    "duration": 20,
    "start_time": "2024-12-28T13:34:38.441Z"
   },
   {
    "duration": 16,
    "start_time": "2024-12-28T13:34:38.463Z"
   },
   {
    "duration": 34,
    "start_time": "2024-12-28T13:34:38.481Z"
   },
   {
    "duration": 38,
    "start_time": "2024-12-28T13:34:38.517Z"
   },
   {
    "duration": 17,
    "start_time": "2024-12-28T13:34:38.556Z"
   },
   {
    "duration": 82,
    "start_time": "2024-12-28T13:34:38.575Z"
   },
   {
    "duration": 48,
    "start_time": "2024-12-28T13:34:38.660Z"
   },
   {
    "duration": 65,
    "start_time": "2024-12-28T13:34:38.710Z"
   },
   {
    "duration": 50,
    "start_time": "2024-12-28T13:34:38.777Z"
   },
   {
    "duration": 64,
    "start_time": "2024-12-28T13:34:38.828Z"
   },
   {
    "duration": 49,
    "start_time": "2024-12-28T13:34:38.894Z"
   },
   {
    "duration": 72,
    "start_time": "2024-12-28T13:34:38.945Z"
   },
   {
    "duration": 154,
    "start_time": "2024-12-28T13:34:39.019Z"
   },
   {
    "duration": 40,
    "start_time": "2024-12-28T13:34:39.174Z"
   },
   {
    "duration": 4,
    "start_time": "2024-12-28T13:34:39.216Z"
   },
   {
    "duration": 10,
    "start_time": "2024-12-28T13:34:39.222Z"
   },
   {
    "duration": 163,
    "start_time": "2024-12-28T13:34:39.234Z"
   },
   {
    "duration": 2,
    "start_time": "2024-12-28T13:34:39.399Z"
   },
   {
    "duration": 362,
    "start_time": "2024-12-28T13:34:39.403Z"
   },
   {
    "duration": 93,
    "start_time": "2024-12-28T13:34:39.768Z"
   },
   {
    "duration": 20,
    "start_time": "2024-12-28T13:34:39.863Z"
   },
   {
    "duration": 6,
    "start_time": "2024-12-28T13:34:39.885Z"
   },
   {
    "duration": 12,
    "start_time": "2024-12-28T13:34:39.893Z"
   },
   {
    "duration": 8,
    "start_time": "2024-12-28T13:34:39.907Z"
   },
   {
    "duration": 70,
    "start_time": "2024-12-28T13:34:39.919Z"
   },
   {
    "duration": 5,
    "start_time": "2024-12-28T13:34:39.991Z"
   },
   {
    "duration": 126,
    "start_time": "2024-12-28T13:34:39.997Z"
   },
   {
    "duration": 5,
    "start_time": "2024-12-28T13:35:09.268Z"
   },
   {
    "duration": 20,
    "start_time": "2024-12-28T13:35:12.539Z"
   },
   {
    "duration": 5,
    "start_time": "2024-12-28T13:35:47.843Z"
   },
   {
    "duration": 7971,
    "start_time": "2024-12-28T13:35:49.531Z"
   },
   {
    "duration": 1239,
    "start_time": "2024-12-28T13:36:03.177Z"
   },
   {
    "duration": 982,
    "start_time": "2024-12-28T13:36:04.418Z"
   },
   {
    "duration": 17,
    "start_time": "2024-12-28T13:36:05.402Z"
   },
   {
    "duration": 43,
    "start_time": "2024-12-28T13:36:05.421Z"
   },
   {
    "duration": 36,
    "start_time": "2024-12-28T13:36:05.466Z"
   },
   {
    "duration": 28,
    "start_time": "2024-12-28T13:36:05.504Z"
   },
   {
    "duration": 28,
    "start_time": "2024-12-28T13:36:05.534Z"
   },
   {
    "duration": 24,
    "start_time": "2024-12-28T13:36:05.564Z"
   },
   {
    "duration": 50,
    "start_time": "2024-12-28T13:36:05.590Z"
   },
   {
    "duration": 61,
    "start_time": "2024-12-28T13:36:05.643Z"
   },
   {
    "duration": 64,
    "start_time": "2024-12-28T13:36:05.706Z"
   },
   {
    "duration": 50,
    "start_time": "2024-12-28T13:36:05.772Z"
   },
   {
    "duration": 63,
    "start_time": "2024-12-28T13:36:05.824Z"
   },
   {
    "duration": 49,
    "start_time": "2024-12-28T13:36:05.890Z"
   },
   {
    "duration": 73,
    "start_time": "2024-12-28T13:36:05.942Z"
   },
   {
    "duration": 146,
    "start_time": "2024-12-28T13:36:06.016Z"
   },
   {
    "duration": 40,
    "start_time": "2024-12-28T13:36:06.163Z"
   },
   {
    "duration": 5,
    "start_time": "2024-12-28T13:36:06.205Z"
   },
   {
    "duration": 41,
    "start_time": "2024-12-28T13:36:06.211Z"
   },
   {
    "duration": 144,
    "start_time": "2024-12-28T13:36:06.254Z"
   },
   {
    "duration": 3,
    "start_time": "2024-12-28T13:36:06.400Z"
   },
   {
    "duration": 369,
    "start_time": "2024-12-28T13:36:06.405Z"
   },
   {
    "duration": 5,
    "start_time": "2024-12-28T13:36:06.861Z"
   },
   {
    "duration": 113,
    "start_time": "2024-12-28T13:36:06.869Z"
   },
   {
    "duration": 30,
    "start_time": "2024-12-28T13:36:06.984Z"
   },
   {
    "duration": 18,
    "start_time": "2024-12-28T13:36:07.016Z"
   },
   {
    "duration": 26,
    "start_time": "2024-12-28T13:36:07.036Z"
   },
   {
    "duration": 55,
    "start_time": "2024-12-28T13:36:07.064Z"
   },
   {
    "duration": 5,
    "start_time": "2024-12-28T13:36:07.120Z"
   },
   {
    "duration": 7916,
    "start_time": "2024-12-28T13:36:07.127Z"
   },
   {
    "duration": 1246,
    "start_time": "2024-12-28T13:40:50.928Z"
   },
   {
    "duration": 1021,
    "start_time": "2024-12-28T13:40:52.176Z"
   },
   {
    "duration": 19,
    "start_time": "2024-12-28T13:40:53.199Z"
   },
   {
    "duration": 12,
    "start_time": "2024-12-28T13:40:53.220Z"
   },
   {
    "duration": 31,
    "start_time": "2024-12-28T13:40:53.235Z"
   },
   {
    "duration": 20,
    "start_time": "2024-12-28T13:40:53.268Z"
   },
   {
    "duration": 18,
    "start_time": "2024-12-28T13:40:53.291Z"
   },
   {
    "duration": 50,
    "start_time": "2024-12-28T13:40:53.311Z"
   },
   {
    "duration": 53,
    "start_time": "2024-12-28T13:40:53.363Z"
   },
   {
    "duration": 70,
    "start_time": "2024-12-28T13:40:53.418Z"
   },
   {
    "duration": 51,
    "start_time": "2024-12-28T13:40:53.489Z"
   },
   {
    "duration": 60,
    "start_time": "2024-12-28T13:40:53.542Z"
   },
   {
    "duration": 57,
    "start_time": "2024-12-28T13:40:53.604Z"
   },
   {
    "duration": 47,
    "start_time": "2024-12-28T13:40:53.664Z"
   },
   {
    "duration": 80,
    "start_time": "2024-12-28T13:40:53.713Z"
   },
   {
    "duration": 126,
    "start_time": "2024-12-28T13:40:53.794Z"
   },
   {
    "duration": 52,
    "start_time": "2024-12-28T13:40:53.922Z"
   },
   {
    "duration": 4,
    "start_time": "2024-12-28T13:40:53.976Z"
   },
   {
    "duration": 9,
    "start_time": "2024-12-28T13:40:53.982Z"
   },
   {
    "duration": 140,
    "start_time": "2024-12-28T13:40:53.993Z"
   },
   {
    "duration": 3,
    "start_time": "2024-12-28T13:40:54.135Z"
   },
   {
    "duration": 331,
    "start_time": "2024-12-28T13:40:54.140Z"
   },
   {
    "duration": 4,
    "start_time": "2024-12-28T13:40:54.561Z"
   },
   {
    "duration": 139,
    "start_time": "2024-12-28T13:40:54.568Z"
   },
   {
    "duration": 9,
    "start_time": "2024-12-28T13:40:54.709Z"
   },
   {
    "duration": 110,
    "start_time": "2024-12-28T13:40:54.720Z"
   },
   {
    "duration": 0,
    "start_time": "2024-12-28T13:40:54.832Z"
   },
   {
    "duration": 0,
    "start_time": "2024-12-28T13:40:54.833Z"
   },
   {
    "duration": 1,
    "start_time": "2024-12-28T13:40:54.834Z"
   },
   {
    "duration": 0,
    "start_time": "2024-12-28T13:40:54.836Z"
   },
   {
    "duration": 4,
    "start_time": "2024-12-28T13:41:11.612Z"
   },
   {
    "duration": 5,
    "start_time": "2024-12-28T13:41:12.650Z"
   },
   {
    "duration": 14,
    "start_time": "2024-12-28T13:41:15.848Z"
   },
   {
    "duration": 52,
    "start_time": "2024-12-28T13:41:32.983Z"
   },
   {
    "duration": 4,
    "start_time": "2024-12-28T13:41:34.755Z"
   },
   {
    "duration": 7573,
    "start_time": "2024-12-28T13:41:41.017Z"
   },
   {
    "duration": 26,
    "start_time": "2024-12-28T13:42:58.029Z"
   },
   {
    "duration": 45,
    "start_time": "2024-12-28T13:43:05.529Z"
   },
   {
    "duration": 68,
    "start_time": "2024-12-28T13:43:51.976Z"
   },
   {
    "duration": 1292,
    "start_time": "2024-12-28T13:44:01.742Z"
   },
   {
    "duration": 1063,
    "start_time": "2024-12-28T13:44:03.037Z"
   },
   {
    "duration": 18,
    "start_time": "2024-12-28T13:44:04.102Z"
   },
   {
    "duration": 10,
    "start_time": "2024-12-28T13:44:04.122Z"
   },
   {
    "duration": 33,
    "start_time": "2024-12-28T13:44:04.134Z"
   },
   {
    "duration": 31,
    "start_time": "2024-12-28T13:44:04.169Z"
   },
   {
    "duration": 36,
    "start_time": "2024-12-28T13:44:04.201Z"
   },
   {
    "duration": 31,
    "start_time": "2024-12-28T13:44:04.238Z"
   },
   {
    "duration": 51,
    "start_time": "2024-12-28T13:44:04.271Z"
   },
   {
    "duration": 68,
    "start_time": "2024-12-28T13:44:04.324Z"
   },
   {
    "duration": 68,
    "start_time": "2024-12-28T13:44:04.394Z"
   },
   {
    "duration": 68,
    "start_time": "2024-12-28T13:44:04.463Z"
   },
   {
    "duration": 83,
    "start_time": "2024-12-28T13:44:04.533Z"
   },
   {
    "duration": 87,
    "start_time": "2024-12-28T13:44:04.621Z"
   },
   {
    "duration": 89,
    "start_time": "2024-12-28T13:44:04.711Z"
   },
   {
    "duration": 142,
    "start_time": "2024-12-28T13:44:04.802Z"
   },
   {
    "duration": 48,
    "start_time": "2024-12-28T13:44:04.946Z"
   },
   {
    "duration": 5,
    "start_time": "2024-12-28T13:44:04.996Z"
   },
   {
    "duration": 28,
    "start_time": "2024-12-28T13:44:05.002Z"
   },
   {
    "duration": 174,
    "start_time": "2024-12-28T13:44:05.032Z"
   },
   {
    "duration": 3,
    "start_time": "2024-12-28T13:44:05.208Z"
   },
   {
    "duration": 352,
    "start_time": "2024-12-28T13:44:05.213Z"
   },
   {
    "duration": 4,
    "start_time": "2024-12-28T13:44:05.569Z"
   },
   {
    "duration": 11,
    "start_time": "2024-12-28T13:44:05.660Z"
   },
   {
    "duration": 11,
    "start_time": "2024-12-28T13:44:05.672Z"
   },
   {
    "duration": 41,
    "start_time": "2024-12-28T13:44:05.684Z"
   },
   {
    "duration": 44,
    "start_time": "2024-12-28T13:44:05.728Z"
   },
   {
    "duration": 81,
    "start_time": "2024-12-28T13:44:05.774Z"
   },
   {
    "duration": 6,
    "start_time": "2024-12-28T13:44:05.857Z"
   },
   {
    "duration": 8556,
    "start_time": "2024-12-28T13:44:05.865Z"
   },
   {
    "duration": 41,
    "start_time": "2024-12-28T13:44:33.351Z"
   },
   {
    "duration": 1284,
    "start_time": "2024-12-28T13:44:58.215Z"
   },
   {
    "duration": 1069,
    "start_time": "2024-12-28T13:44:59.501Z"
   },
   {
    "duration": 19,
    "start_time": "2024-12-28T13:45:00.572Z"
   },
   {
    "duration": 36,
    "start_time": "2024-12-28T13:45:00.593Z"
   },
   {
    "duration": 22,
    "start_time": "2024-12-28T13:45:00.632Z"
   },
   {
    "duration": 36,
    "start_time": "2024-12-28T13:45:00.656Z"
   },
   {
    "duration": 22,
    "start_time": "2024-12-28T13:45:00.694Z"
   },
   {
    "duration": 17,
    "start_time": "2024-12-28T13:45:00.717Z"
   },
   {
    "duration": 62,
    "start_time": "2024-12-28T13:45:00.736Z"
   },
   {
    "duration": 46,
    "start_time": "2024-12-28T13:45:00.800Z"
   },
   {
    "duration": 60,
    "start_time": "2024-12-28T13:45:00.847Z"
   },
   {
    "duration": 67,
    "start_time": "2024-12-28T13:45:00.908Z"
   },
   {
    "duration": 45,
    "start_time": "2024-12-28T13:45:00.977Z"
   },
   {
    "duration": 65,
    "start_time": "2024-12-28T13:45:01.025Z"
   },
   {
    "duration": 70,
    "start_time": "2024-12-28T13:45:01.092Z"
   },
   {
    "duration": 126,
    "start_time": "2024-12-28T13:45:01.164Z"
   },
   {
    "duration": 38,
    "start_time": "2024-12-28T13:45:01.292Z"
   },
   {
    "duration": 4,
    "start_time": "2024-12-28T13:45:01.332Z"
   },
   {
    "duration": 3,
    "start_time": "2024-12-28T13:45:01.360Z"
   },
   {
    "duration": 170,
    "start_time": "2024-12-28T13:45:01.365Z"
   },
   {
    "duration": 3,
    "start_time": "2024-12-28T13:45:01.537Z"
   },
   {
    "duration": 329,
    "start_time": "2024-12-28T13:45:01.542Z"
   },
   {
    "duration": 3,
    "start_time": "2024-12-28T13:45:01.962Z"
   },
   {
    "duration": 128,
    "start_time": "2024-12-28T13:45:01.968Z"
   },
   {
    "duration": 55,
    "start_time": "2024-12-28T13:45:02.098Z"
   },
   {
    "duration": 17,
    "start_time": "2024-12-28T13:45:02.155Z"
   },
   {
    "duration": 36,
    "start_time": "2024-12-28T13:45:02.174Z"
   },
   {
    "duration": 91,
    "start_time": "2024-12-28T13:45:02.212Z"
   },
   {
    "duration": 5,
    "start_time": "2024-12-28T13:45:02.304Z"
   },
   {
    "duration": 8035,
    "start_time": "2024-12-28T13:45:02.311Z"
   }
  ],
  "kernelspec": {
   "display_name": "Python 3 (ipykernel)",
   "language": "python",
   "name": "python3"
  },
  "language_info": {
   "codemirror_mode": {
    "name": "ipython",
    "version": 3
   },
   "file_extension": ".py",
   "mimetype": "text/x-python",
   "name": "python",
   "nbconvert_exporter": "python",
   "pygments_lexer": "ipython3",
   "version": "3.9.5"
  },
  "toc": {
   "base_numbering": 1,
   "nav_menu": {},
   "number_sections": true,
   "sideBar": true,
   "skip_h1_title": true,
   "title_cell": "Table of Contents",
   "title_sidebar": "Contents",
   "toc_cell": false,
   "toc_position": {},
   "toc_section_display": true,
   "toc_window_display": false
  }
 },
 "nbformat": 4,
 "nbformat_minor": 2
}
