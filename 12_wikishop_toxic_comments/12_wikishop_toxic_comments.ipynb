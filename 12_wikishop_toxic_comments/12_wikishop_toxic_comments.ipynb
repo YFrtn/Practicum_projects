{
 "cells": [
  {
   "cell_type": "markdown",
   "metadata": {
    "toc": true
   },
   "source": [
    "<h1>Содержание<span class=\"tocSkip\"></span></h1>\n",
    "<div class=\"toc\"><ul class=\"toc-item\"><li><span><a href=\"#Подготовка\" data-toc-modified-id=\"Подготовка-1\"><span class=\"toc-item-num\">1&nbsp;&nbsp;</span>Подготовка</a></span></li><li><span><a href=\"#Обучение\" data-toc-modified-id=\"Обучение-2\"><span class=\"toc-item-num\">2&nbsp;&nbsp;</span>Обучение</a></span></li><li><span><a href=\"#Выводы\" data-toc-modified-id=\"Выводы-3\"><span class=\"toc-item-num\">3&nbsp;&nbsp;</span>Выводы</a></span></li><li><span><a href=\"#Чек-лист-проверки\" data-toc-modified-id=\"Чек-лист-проверки-4\"><span class=\"toc-item-num\">4&nbsp;&nbsp;</span>Чек-лист проверки</a></span></li></ul></div>"
   ]
  },
  {
   "cell_type": "markdown",
   "metadata": {},
   "source": [
    "# Проект для «Викишоп»"
   ]
  },
  {
   "cell_type": "markdown",
   "metadata": {},
   "source": [
    "Интернет-магазин «Викишоп» запускает новый сервис. Теперь пользователи могут редактировать и дополнять описания товаров, как в вики-сообществах. То есть клиенты предлагают свои правки и комментируют изменения других. Магазину нужен инструмент, который будет искать токсичные комментарии и отправлять их на модерацию. \n",
    "\n",
    "Обучите модель классифицировать комментарии на позитивные и негативные. В вашем распоряжении набор данных с разметкой о токсичности правок.\n",
    "\n",
    "Постройте модель со значением метрики качества *F1* не меньше 0.75. \n",
    "\n",
    "**Инструкция по выполнению проекта**\n",
    "\n",
    "1. Загрузите и подготовьте данные.\n",
    "2. Обучите разные модели. \n",
    "3. Сделайте выводы.\n",
    "\n",
    "Для выполнения проекта применять *BERT* необязательно, но вы можете попробовать.\n",
    "\n",
    "**Описание данных**\n",
    "\n",
    "Данные находятся в файле `toxic_comments.csv`. Столбец *text* в нём содержит текст комментария, а *toxic* — целевой признак."
   ]
  },
  {
   "cell_type": "markdown",
   "metadata": {},
   "source": [
    "## Подготовка"
   ]
  },
  {
   "cell_type": "code",
   "execution_count": 1,
   "metadata": {
    "collapsed": true
   },
   "outputs": [
    {
     "name": "stdout",
     "output_type": "stream",
     "text": [
      "Requirement already satisfied: spacy in /opt/conda/lib/python3.9/site-packages (3.8.3)\n",
      "Requirement already satisfied: packaging>=20.0 in /opt/conda/lib/python3.9/site-packages (from spacy) (21.3)\n",
      "Requirement already satisfied: murmurhash<1.1.0,>=0.28.0 in /opt/conda/lib/python3.9/site-packages (from spacy) (1.0.8)\n",
      "Requirement already satisfied: tqdm<5.0.0,>=4.38.0 in /opt/conda/lib/python3.9/site-packages (from spacy) (4.61.2)\n",
      "Requirement already satisfied: typer<1.0.0,>=0.3.0 in /opt/conda/lib/python3.9/site-packages (from spacy) (0.4.2)\n",
      "Requirement already satisfied: requests<3.0.0,>=2.13.0 in /opt/conda/lib/python3.9/site-packages (from spacy) (2.25.1)\n",
      "Requirement already satisfied: wasabi<1.2.0,>=0.9.1 in /opt/conda/lib/python3.9/site-packages (from spacy) (0.10.1)\n",
      "Requirement already satisfied: langcodes<4.0.0,>=3.2.0 in /opt/conda/lib/python3.9/site-packages (from spacy) (3.3.0)\n",
      "Requirement already satisfied: numpy>=1.19.0 in /opt/conda/lib/python3.9/site-packages (from spacy) (1.21.1)\n",
      "Requirement already satisfied: spacy-legacy<3.1.0,>=3.0.11 in /opt/conda/lib/python3.9/site-packages (from spacy) (3.0.12)\n",
      "Requirement already satisfied: cymem<2.1.0,>=2.0.2 in /opt/conda/lib/python3.9/site-packages (from spacy) (2.0.6)\n",
      "Requirement already satisfied: pydantic!=1.8,!=1.8.1,<3.0.0,>=1.7.4 in /opt/conda/lib/python3.9/site-packages (from spacy) (1.8.2)\n",
      "Requirement already satisfied: spacy-loggers<2.0.0,>=1.0.0 in /opt/conda/lib/python3.9/site-packages (from spacy) (1.0.3)\n",
      "Requirement already satisfied: srsly<3.0.0,>=2.4.3 in /opt/conda/lib/python3.9/site-packages (from spacy) (2.4.4)\n",
      "Requirement already satisfied: weasel<0.5.0,>=0.1.0 in /opt/conda/lib/python3.9/site-packages (from spacy) (0.4.1)\n",
      "Requirement already satisfied: jinja2 in /opt/conda/lib/python3.9/site-packages (from spacy) (3.0.1)\n",
      "Requirement already satisfied: setuptools in /opt/conda/lib/python3.9/site-packages (from spacy) (49.6.0.post20210108)\n",
      "Requirement already satisfied: preshed<3.1.0,>=3.0.2 in /opt/conda/lib/python3.9/site-packages (from spacy) (3.0.7)\n",
      "Requirement already satisfied: thinc<8.4.0,>=8.3.0 in /opt/conda/lib/python3.9/site-packages (from spacy) (8.3.4)\n",
      "Requirement already satisfied: catalogue<2.1.0,>=2.0.6 in /opt/conda/lib/python3.9/site-packages (from spacy) (2.0.8)\n",
      "Requirement already satisfied: pyparsing!=3.0.5,>=2.0.2 in /opt/conda/lib/python3.9/site-packages (from packaging>=20.0->spacy) (2.4.7)\n",
      "Requirement already satisfied: typing-extensions>=3.7.4.3 in /opt/conda/lib/python3.9/site-packages (from pydantic!=1.8,!=1.8.1,<3.0.0,>=1.7.4->spacy) (4.3.0)\n",
      "Requirement already satisfied: chardet<5,>=3.0.2 in /opt/conda/lib/python3.9/site-packages (from requests<3.0.0,>=2.13.0->spacy) (4.0.0)\n",
      "Requirement already satisfied: idna<3,>=2.5 in /opt/conda/lib/python3.9/site-packages (from requests<3.0.0,>=2.13.0->spacy) (2.10)\n",
      "Requirement already satisfied: certifi>=2017.4.17 in /opt/conda/lib/python3.9/site-packages (from requests<3.0.0,>=2.13.0->spacy) (2022.6.15)\n",
      "Requirement already satisfied: urllib3<1.27,>=1.21.1 in /opt/conda/lib/python3.9/site-packages (from requests<3.0.0,>=2.13.0->spacy) (1.26.6)\n",
      "Requirement already satisfied: blis<1.3.0,>=1.2.0 in /opt/conda/lib/python3.9/site-packages (from thinc<8.4.0,>=8.3.0->spacy) (1.2.0)\n",
      "Requirement already satisfied: confection<1.0.0,>=0.0.1 in /opt/conda/lib/python3.9/site-packages (from thinc<8.4.0,>=8.3.0->spacy) (0.1.5)\n",
      "Requirement already satisfied: click<9.0.0,>=7.1.1 in /opt/conda/lib/python3.9/site-packages (from typer<1.0.0,>=0.3.0->spacy) (8.1.3)\n",
      "Requirement already satisfied: cloudpathlib<1.0.0,>=0.7.0 in /opt/conda/lib/python3.9/site-packages (from weasel<0.5.0,>=0.1.0->spacy) (0.21.0)\n",
      "Requirement already satisfied: smart-open<8.0.0,>=5.2.1 in /opt/conda/lib/python3.9/site-packages (from weasel<0.5.0,>=0.1.0->spacy) (5.2.1)\n",
      "Requirement already satisfied: MarkupSafe>=2.0 in /opt/conda/lib/python3.9/site-packages (from jinja2->spacy) (2.1.1)\n",
      "Collecting en-core-web-sm==3.8.0\n",
      "  Downloading https://github.com/explosion/spacy-models/releases/download/en_core_web_sm-3.8.0/en_core_web_sm-3.8.0-py3-none-any.whl (12.8 MB)\n",
      "\u001b[K     |████████████████████████████████| 12.8 MB 2.1 MB/s eta 0:00:01\n",
      "\u001b[?25h\u001b[38;5;2m✔ Download and installation successful\u001b[0m\n",
      "You can now load the package via spacy.load('en_core_web_sm')\n",
      "Requirement already satisfied: spacy in /opt/conda/lib/python3.9/site-packages (3.8.3)\n",
      "Requirement already satisfied: tqdm<5.0.0,>=4.38.0 in /opt/conda/lib/python3.9/site-packages (from spacy) (4.61.2)\n",
      "Requirement already satisfied: wasabi<1.2.0,>=0.9.1 in /opt/conda/lib/python3.9/site-packages (from spacy) (0.10.1)\n",
      "Requirement already satisfied: srsly<3.0.0,>=2.4.3 in /opt/conda/lib/python3.9/site-packages (from spacy) (2.4.4)\n",
      "Requirement already satisfied: typer<1.0.0,>=0.3.0 in /opt/conda/lib/python3.9/site-packages (from spacy) (0.4.2)\n",
      "Requirement already satisfied: setuptools in /opt/conda/lib/python3.9/site-packages (from spacy) (49.6.0.post20210108)\n",
      "Requirement already satisfied: preshed<3.1.0,>=3.0.2 in /opt/conda/lib/python3.9/site-packages (from spacy) (3.0.7)\n",
      "Requirement already satisfied: cymem<2.1.0,>=2.0.2 in /opt/conda/lib/python3.9/site-packages (from spacy) (2.0.6)\n",
      "Requirement already satisfied: thinc<8.4.0,>=8.3.0 in /opt/conda/lib/python3.9/site-packages (from spacy) (8.3.4)\n",
      "Requirement already satisfied: catalogue<2.1.0,>=2.0.6 in /opt/conda/lib/python3.9/site-packages (from spacy) (2.0.8)\n",
      "Requirement already satisfied: langcodes<4.0.0,>=3.2.0 in /opt/conda/lib/python3.9/site-packages (from spacy) (3.3.0)\n",
      "Requirement already satisfied: requests<3.0.0,>=2.13.0 in /opt/conda/lib/python3.9/site-packages (from spacy) (2.25.1)\n",
      "Requirement already satisfied: packaging>=20.0 in /opt/conda/lib/python3.9/site-packages (from spacy) (21.3)\n",
      "Requirement already satisfied: murmurhash<1.1.0,>=0.28.0 in /opt/conda/lib/python3.9/site-packages (from spacy) (1.0.8)\n",
      "Requirement already satisfied: numpy>=1.19.0 in /opt/conda/lib/python3.9/site-packages (from spacy) (1.21.1)\n",
      "Requirement already satisfied: spacy-loggers<2.0.0,>=1.0.0 in /opt/conda/lib/python3.9/site-packages (from spacy) (1.0.3)\n",
      "Requirement already satisfied: weasel<0.5.0,>=0.1.0 in /opt/conda/lib/python3.9/site-packages (from spacy) (0.4.1)\n",
      "Requirement already satisfied: spacy-legacy<3.1.0,>=3.0.11 in /opt/conda/lib/python3.9/site-packages (from spacy) (3.0.12)\n",
      "Requirement already satisfied: pydantic!=1.8,!=1.8.1,<3.0.0,>=1.7.4 in /opt/conda/lib/python3.9/site-packages (from spacy) (1.8.2)\n",
      "Requirement already satisfied: jinja2 in /opt/conda/lib/python3.9/site-packages (from spacy) (3.0.1)\n",
      "Requirement already satisfied: pyparsing!=3.0.5,>=2.0.2 in /opt/conda/lib/python3.9/site-packages (from packaging>=20.0->spacy) (2.4.7)\n",
      "Requirement already satisfied: typing-extensions>=3.7.4.3 in /opt/conda/lib/python3.9/site-packages (from pydantic!=1.8,!=1.8.1,<3.0.0,>=1.7.4->spacy) (4.3.0)\n",
      "Requirement already satisfied: urllib3<1.27,>=1.21.1 in /opt/conda/lib/python3.9/site-packages (from requests<3.0.0,>=2.13.0->spacy) (1.26.6)\n",
      "Requirement already satisfied: idna<3,>=2.5 in /opt/conda/lib/python3.9/site-packages (from requests<3.0.0,>=2.13.0->spacy) (2.10)\n",
      "Requirement already satisfied: chardet<5,>=3.0.2 in /opt/conda/lib/python3.9/site-packages (from requests<3.0.0,>=2.13.0->spacy) (4.0.0)\n",
      "Requirement already satisfied: certifi>=2017.4.17 in /opt/conda/lib/python3.9/site-packages (from requests<3.0.0,>=2.13.0->spacy) (2022.6.15)\n",
      "Requirement already satisfied: confection<1.0.0,>=0.0.1 in /opt/conda/lib/python3.9/site-packages (from thinc<8.4.0,>=8.3.0->spacy) (0.1.5)\n",
      "Requirement already satisfied: blis<1.3.0,>=1.2.0 in /opt/conda/lib/python3.9/site-packages (from thinc<8.4.0,>=8.3.0->spacy) (1.2.0)\n",
      "Requirement already satisfied: click<9.0.0,>=7.1.1 in /opt/conda/lib/python3.9/site-packages (from typer<1.0.0,>=0.3.0->spacy) (8.1.3)\n",
      "Requirement already satisfied: smart-open<8.0.0,>=5.2.1 in /opt/conda/lib/python3.9/site-packages (from weasel<0.5.0,>=0.1.0->spacy) (5.2.1)\n",
      "Requirement already satisfied: cloudpathlib<1.0.0,>=0.7.0 in /opt/conda/lib/python3.9/site-packages (from weasel<0.5.0,>=0.1.0->spacy) (0.21.0)\n",
      "Requirement already satisfied: MarkupSafe>=2.0 in /opt/conda/lib/python3.9/site-packages (from jinja2->spacy) (2.1.1)\n",
      "Collecting en-core-web-sm==3.8.0\n",
      "  Using cached https://github.com/explosion/spacy-models/releases/download/en_core_web_sm-3.8.0/en_core_web_sm-3.8.0-py3-none-any.whl (12.8 MB)\n",
      "\u001b[38;5;2m✔ Download and installation successful\u001b[0m\n",
      "You can now load the package via spacy.load('en_core_web_sm')\n"
     ]
    }
   ],
   "source": [
    "!pip install -U spacy\n",
    "!python -m spacy download en_core_web_sm\n",
    "\n",
    "!pip install -U spacy\n",
    "!python -m spacy download en_core_web_sm"
   ]
  },
  {
   "cell_type": "code",
   "execution_count": 2,
   "metadata": {},
   "outputs": [],
   "source": [
    "# библиотеки\n",
    "\n",
    "import pandas as pd\n",
    "import numpy as np\n",
    "import re\n",
    "import nltk\n",
    "import matplotlib.pyplot as plt\n",
    "import spacy\n",
    "\n",
    "from sklearn.pipeline import Pipeline\n",
    "from catboost import CatBoostClassifier\n",
    "from sklearn.tree import DecisionTreeClassifier\n",
    "from nltk.tokenize import word_tokenize\n",
    "from nltk.stem import WordNetLemmatizer\n",
    "from sklearn.model_selection import train_test_split\n",
    "from sklearn.feature_extraction.text import TfidfVectorizer\n",
    "from sklearn.linear_model import LogisticRegression\n",
    "from sklearn.metrics import f1_score\n",
    "from nltk.corpus import stopwords\n",
    "from sklearn.model_selection import GridSearchCV\n",
    "\n",
    "import warnings\n",
    "warnings.filterwarnings(\"ignore\")"
   ]
  },
  {
   "cell_type": "code",
   "execution_count": 3,
   "metadata": {},
   "outputs": [],
   "source": [
    "try:\n",
    "    data = pd.read_csv('https://code.s3.yandex.net/datasets/toxic_comments.csv')\n",
    "except:\n",
    "    data = pd.read_csv('/datasets/toxic_comments.csv')"
   ]
  },
  {
   "cell_type": "code",
   "execution_count": 4,
   "metadata": {
    "scrolled": true
   },
   "outputs": [
    {
     "data": {
      "text/html": [
       "<div>\n",
       "<style scoped>\n",
       "    .dataframe tbody tr th:only-of-type {\n",
       "        vertical-align: middle;\n",
       "    }\n",
       "\n",
       "    .dataframe tbody tr th {\n",
       "        vertical-align: top;\n",
       "    }\n",
       "\n",
       "    .dataframe thead th {\n",
       "        text-align: right;\n",
       "    }\n",
       "</style>\n",
       "<table border=\"1\" class=\"dataframe\">\n",
       "  <thead>\n",
       "    <tr style=\"text-align: right;\">\n",
       "      <th></th>\n",
       "      <th>Unnamed: 0</th>\n",
       "      <th>text</th>\n",
       "      <th>toxic</th>\n",
       "    </tr>\n",
       "  </thead>\n",
       "  <tbody>\n",
       "    <tr>\n",
       "      <th>0</th>\n",
       "      <td>0</td>\n",
       "      <td>Explanation\\nWhy the edits made under my usern...</td>\n",
       "      <td>0</td>\n",
       "    </tr>\n",
       "    <tr>\n",
       "      <th>1</th>\n",
       "      <td>1</td>\n",
       "      <td>D'aww! He matches this background colour I'm s...</td>\n",
       "      <td>0</td>\n",
       "    </tr>\n",
       "    <tr>\n",
       "      <th>2</th>\n",
       "      <td>2</td>\n",
       "      <td>Hey man, I'm really not trying to edit war. It...</td>\n",
       "      <td>0</td>\n",
       "    </tr>\n",
       "    <tr>\n",
       "      <th>3</th>\n",
       "      <td>3</td>\n",
       "      <td>\"\\nMore\\nI can't make any real suggestions on ...</td>\n",
       "      <td>0</td>\n",
       "    </tr>\n",
       "    <tr>\n",
       "      <th>4</th>\n",
       "      <td>4</td>\n",
       "      <td>You, sir, are my hero. Any chance you remember...</td>\n",
       "      <td>0</td>\n",
       "    </tr>\n",
       "  </tbody>\n",
       "</table>\n",
       "</div>"
      ],
      "text/plain": [
       "   Unnamed: 0                                               text  toxic\n",
       "0           0  Explanation\\nWhy the edits made under my usern...      0\n",
       "1           1  D'aww! He matches this background colour I'm s...      0\n",
       "2           2  Hey man, I'm really not trying to edit war. It...      0\n",
       "3           3  \"\\nMore\\nI can't make any real suggestions on ...      0\n",
       "4           4  You, sir, are my hero. Any chance you remember...      0"
      ]
     },
     "metadata": {},
     "output_type": "display_data"
    },
    {
     "name": "stdout",
     "output_type": "stream",
     "text": [
      "<class 'pandas.core.frame.DataFrame'>\n",
      "RangeIndex: 159292 entries, 0 to 159291\n",
      "Data columns (total 3 columns):\n",
      " #   Column      Non-Null Count   Dtype \n",
      "---  ------      --------------   ----- \n",
      " 0   Unnamed: 0  159292 non-null  int64 \n",
      " 1   text        159292 non-null  object\n",
      " 2   toxic       159292 non-null  int64 \n",
      "dtypes: int64(2), object(1)\n",
      "memory usage: 3.6+ MB\n"
     ]
    },
    {
     "data": {
      "text/plain": [
       "None"
      ]
     },
     "metadata": {},
     "output_type": "display_data"
    }
   ],
   "source": [
    "# выведем \n",
    "\n",
    "display(data.head())\n",
    "display(data.info())"
   ]
  },
  {
   "cell_type": "markdown",
   "metadata": {},
   "source": [
    "\t•\tВсего записей: 159 292\n",
    "\t•\tПропусков нет"
   ]
  },
  {
   "cell_type": "code",
   "execution_count": 5,
   "metadata": {},
   "outputs": [
    {
     "data": {
      "text/plain": [
       "0    0.898388\n",
       "1    0.101612\n",
       "Name: toxic, dtype: float64"
      ]
     },
     "execution_count": 5,
     "metadata": {},
     "output_type": "execute_result"
    }
   ],
   "source": [
    "# Посмотрим количество токсичных комментариев\n",
    "\n",
    "data['toxic'].value_counts(normalize=True)"
   ]
  },
  {
   "cell_type": "markdown",
   "metadata": {},
   "source": [
    "\t•\tНетоксичные комментарии (0): ~89.8%\n",
    "\t•\tТоксичные комментарии (1): ~10.2%"
   ]
  },
  {
   "cell_type": "code",
   "execution_count": 6,
   "metadata": {
    "scrolled": true
   },
   "outputs": [
    {
     "data": {
      "image/png": "[encoded data removed]",
      "text/plain": [
       "<Figure size 432x432 with 1 Axes>"
      ]
     },
     "metadata": {},
     "output_type": "display_data"
    }
   ],
   "source": [
    "# График распределения классов (токсичных / нетоксичных)\n",
    "\n",
    "data['word_count'] = data['text'].apply(lambda x: len(str(x).split()))\n",
    "\n",
    "class_counts = data['toxic'].value_counts()\n",
    "plt.figure(figsize=(6, 6))\n",
    "class_counts.plot(kind='pie',\n",
    "                  autopct='%.2f%%',\n",
    "                  startangle=140,\n",
    "                  labels=['Нетоксичные (0)', 'Токсичные (1)'],\n",
    "                  colors=['green','red'])\n",
    "plt.title(\"Распределение классов\")\n",
    "plt.ylabel(\"\")\n",
    "plt.show()"
   ]
  },
  {
   "cell_type": "code",
   "execution_count": 7,
   "metadata": {
    "scrolled": true
   },
   "outputs": [
    {
     "data": {
      "image/png": "[encoded data removed]",
      "text/plain": [
       "<Figure size 720x288 with 1 Axes>"
      ]
     },
     "metadata": {
      "needs_background": "light"
     },
     "output_type": "display_data"
    }
   ],
   "source": [
    "plt.figure(figsize=(10,4))\n",
    "data[data['toxic']==0]['word_count'].hist(bins=50, alpha=0.7, label='Нетоксичные')\n",
    "data[data['toxic']==1]['word_count'].hist(bins=50, alpha=0.7, label='Токсичные')\n",
    "plt.title(\"Распределение количества слов в комментариях\")\n",
    "plt.xlabel(\"Количество слов\")\n",
    "plt.ylabel(\"Количество комментариев\")\n",
    "plt.legend()\n",
    "plt.show()"
   ]
  },
  {
   "cell_type": "code",
   "execution_count": 8,
   "metadata": {},
   "outputs": [
    {
     "data": {
      "text/plain": [
       "0"
      ]
     },
     "execution_count": 8,
     "metadata": {},
     "output_type": "execute_result"
    }
   ],
   "source": [
    "# проверка на дубликаты \n",
    "\n",
    "data.duplicated().sum()"
   ]
  },
  {
   "cell_type": "code",
   "execution_count": 9,
   "metadata": {},
   "outputs": [
    {
     "name": "stderr",
     "output_type": "stream",
     "text": [
      "[nltk_data] Downloading package stopwords to /home/jovyan/nltk_data...\n",
      "[nltk_data]   Package stopwords is already up-to-date!\n",
      "[nltk_data] Downloading package punkt to /home/jovyan/nltk_data...\n",
      "[nltk_data]   Package punkt is already up-to-date!\n",
      "[nltk_data] Downloading package wordnet to /home/jovyan/nltk_data...\n",
      "[nltk_data]   Package wordnet is already up-to-date!\n"
     ]
    },
    {
     "data": {
      "text/plain": [
       "True"
      ]
     },
     "execution_count": 9,
     "metadata": {},
     "output_type": "execute_result"
    }
   ],
   "source": [
    "# Предобработка текста\n",
    "\n",
    "nltk.download('stopwords')\n",
    "nltk.download('punkt')\n",
    "nltk.download('wordnet')"
   ]
  },
  {
   "cell_type": "code",
   "execution_count": 10,
   "metadata": {},
   "outputs": [],
   "source": [
    "stop_words = set(stopwords.words('english'))\n",
    "lemmatizer = WordNetLemmatizer()"
   ]
  },
  {
   "cell_type": "code",
   "execution_count": 11,
   "metadata": {},
   "outputs": [
    {
     "name": "stdout",
     "output_type": "stream",
     "text": [
      "Исходный текст: Running quickly! The cats are <b>striped</b> animals. Visit http://example.com\n",
      "Лемматизированный текст (spaCy): run quickly cat   striped   animal visit\n"
     ]
    }
   ],
   "source": [
    "# Загружаем модель английского языка без parser и ner\n",
    "\n",
    "nlp = spacy.load(\"en_core_web_sm\", disable=[\"parser\", \"ner\"])\n",
    "\n",
    "def spacy_lemmatize(text):\n",
    "    # 1. Удаляем HTML-теги (если встречаются)\n",
    "    \n",
    "    text = re.sub(r'<.*?>', ' ', text)\n",
    "    \n",
    "    # 2. Удаляем ссылки (http/https)\n",
    "\n",
    "    text = re.sub(r'http\\S+|www\\S+', '', text)\n",
    "    \n",
    "    # 3. Приводим к нижнему регистру\n",
    "    \n",
    "    text = text.lower()\n",
    "\n",
    "    # Пропускаем через конвейер spaCy\n",
    "    \n",
    "    doc = nlp(text)\n",
    "\n",
    "    # Собираем леммы, исключая стоп-слова, пунктуацию и ссылки\n",
    "    \n",
    "    tokens = [\n",
    "        token.lemma_ \n",
    "        for token in doc \n",
    "        if not token.is_stop \n",
    "        and not token.is_punct \n",
    "        and not token.like_url\n",
    "    ]\n",
    "\n",
    "    # Соединяем обратно в строку\n",
    "    \n",
    "    return \" \".join(tokens)\n",
    "\n",
    "\n",
    "test_text = \"Running quickly! The cats are <b>striped</b> animals. Visit http://example.com\"\n",
    "cleaned = spacy_lemmatize(test_text)\n",
    "print(\"Исходный текст:\", test_text)\n",
    "print(\"Лемматизированный текст (spaCy):\", cleaned)\n",
    "\n"
   ]
  },
  {
   "cell_type": "code",
   "execution_count": 12,
   "metadata": {},
   "outputs": [],
   "source": [
    "# Провел лемматизацию и сохранил в отдельный файл \n",
    "\n",
    "# data['clean_text'] = data['text'].apply(spacy_lemmatize)"
   ]
  },
  {
   "cell_type": "code",
   "execution_count": 14,
   "metadata": {},
   "outputs": [],
   "source": [
    "# Сохраняем результат в отдельный CSV\n",
    "\n",
    "data.to_csv(\"toxic_comments_lemmatized.csv\", index=False)"
   ]
  },
  {
   "cell_type": "markdown",
   "metadata": {},
   "source": [
    "## Обучение"
   ]
  },
  {
   "cell_type": "code",
   "execution_count": 25,
   "metadata": {},
   "outputs": [
    {
     "name": "stdout",
     "output_type": "stream",
     "text": [
      "<class 'pandas.core.frame.DataFrame'>\n",
      "RangeIndex: 159292 entries, 0 to 159291\n",
      "Data columns (total 5 columns):\n",
      " #   Column      Non-Null Count   Dtype \n",
      "---  ------      --------------   ----- \n",
      " 0   Unnamed: 0  159292 non-null  int64 \n",
      " 1   text        159292 non-null  object\n",
      " 2   toxic       159292 non-null  int64 \n",
      " 3   word_count  159292 non-null  int64 \n",
      " 4   clean_text  159190 non-null  object\n",
      "dtypes: int64(3), object(2)\n",
      "memory usage: 6.1+ MB\n"
     ]
    }
   ],
   "source": [
    "try:\n",
    "    data = pd.read_csv('https://code.s3.yandex.net/toxic_comments_lemmatized.csv')\n",
    "except:\n",
    "    data = pd.read_csv(\"toxic_comments_lemmatized.csv\")\n",
    "\n",
    "data.info()"
   ]
  },
  {
   "cell_type": "code",
   "execution_count": 26,
   "metadata": {
    "scrolled": true
   },
   "outputs": [
    {
     "data": {
      "text/html": [
       "<div>\n",
       "<style scoped>\n",
       "    .dataframe tbody tr th:only-of-type {\n",
       "        vertical-align: middle;\n",
       "    }\n",
       "\n",
       "    .dataframe tbody tr th {\n",
       "        vertical-align: top;\n",
       "    }\n",
       "\n",
       "    .dataframe thead th {\n",
       "        text-align: right;\n",
       "    }\n",
       "</style>\n",
       "<table border=\"1\" class=\"dataframe\">\n",
       "  <thead>\n",
       "    <tr style=\"text-align: right;\">\n",
       "      <th></th>\n",
       "      <th>Unnamed: 0</th>\n",
       "      <th>text</th>\n",
       "      <th>toxic</th>\n",
       "      <th>word_count</th>\n",
       "      <th>clean_text</th>\n",
       "    </tr>\n",
       "  </thead>\n",
       "  <tbody>\n",
       "    <tr>\n",
       "      <th>627</th>\n",
       "      <td>627</td>\n",
       "      <td>Seems we both have some.</td>\n",
       "      <td>0</td>\n",
       "      <td>5</td>\n",
       "      <td>NaN</td>\n",
       "    </tr>\n",
       "    <tr>\n",
       "      <th>2400</th>\n",
       "      <td>2400</td>\n",
       "      <td>Here, here and here.</td>\n",
       "      <td>0</td>\n",
       "      <td>4</td>\n",
       "      <td>NaN</td>\n",
       "    </tr>\n",
       "    <tr>\n",
       "      <th>8583</th>\n",
       "      <td>8595</td>\n",
       "      <td>What is it that you can do as well as others? ...</td>\n",
       "      <td>0</td>\n",
       "      <td>12</td>\n",
       "      <td>NaN</td>\n",
       "    </tr>\n",
       "    <tr>\n",
       "      <th>8824</th>\n",
       "      <td>8837</td>\n",
       "      <td>What is I 78.146.102.144</td>\n",
       "      <td>0</td>\n",
       "      <td>4</td>\n",
       "      <td>NaN</td>\n",
       "    </tr>\n",
       "    <tr>\n",
       "      <th>10068</th>\n",
       "      <td>10081</td>\n",
       "      <td>I might as well give up then.</td>\n",
       "      <td>0</td>\n",
       "      <td>7</td>\n",
       "      <td>NaN</td>\n",
       "    </tr>\n",
       "    <tr>\n",
       "      <th>10193</th>\n",
       "      <td>10206</td>\n",
       "      <td>64.86.141.133\"</td>\n",
       "      <td>0</td>\n",
       "      <td>1</td>\n",
       "      <td>NaN</td>\n",
       "    </tr>\n",
       "    <tr>\n",
       "      <th>11979</th>\n",
       "      <td>11993</td>\n",
       "      <td>(What I have done) (What have I done?)</td>\n",
       "      <td>0</td>\n",
       "      <td>8</td>\n",
       "      <td>NaN</td>\n",
       "    </tr>\n",
       "    <tr>\n",
       "      <th>12390</th>\n",
       "      <td>12404</td>\n",
       "      <td>You're just at it again!</td>\n",
       "      <td>0</td>\n",
       "      <td>5</td>\n",
       "      <td>NaN</td>\n",
       "    </tr>\n",
       "    <tr>\n",
       "      <th>12665</th>\n",
       "      <td>12680</td>\n",
       "      <td>\", and \"\"http://www.champawat.gov.in/rti.htm\"\"...</td>\n",
       "      <td>0</td>\n",
       "      <td>5</td>\n",
       "      <td>NaN</td>\n",
       "    </tr>\n",
       "    <tr>\n",
       "      <th>17142</th>\n",
       "      <td>17159</td>\n",
       "      <td>and :here where it has always been</td>\n",
       "      <td>0</td>\n",
       "      <td>7</td>\n",
       "      <td>NaN</td>\n",
       "    </tr>\n",
       "  </tbody>\n",
       "</table>\n",
       "</div>"
      ],
      "text/plain": [
       "       Unnamed: 0                                               text  toxic  \\\n",
       "627           627                           Seems we both have some.      0   \n",
       "2400         2400                               Here, here and here.      0   \n",
       "8583         8595  What is it that you can do as well as others? ...      0   \n",
       "8824         8837                           What is I 78.146.102.144      0   \n",
       "10068       10081                      I might as well give up then.      0   \n",
       "10193       10206                                     64.86.141.133\"      0   \n",
       "11979       11993             (What I have done) (What have I done?)      0   \n",
       "12390       12404                           You're just at it again!      0   \n",
       "12665       12680  \", and \"\"http://www.champawat.gov.in/rti.htm\"\"...      0   \n",
       "17142       17159                 and :here where it has always been      0   \n",
       "\n",
       "       word_count clean_text  \n",
       "627             5        NaN  \n",
       "2400            4        NaN  \n",
       "8583           12        NaN  \n",
       "8824            4        NaN  \n",
       "10068           7        NaN  \n",
       "10193           1        NaN  \n",
       "11979           8        NaN  \n",
       "12390           5        NaN  \n",
       "12665           5        NaN  \n",
       "17142           7        NaN  "
      ]
     },
     "execution_count": 26,
     "metadata": {},
     "output_type": "execute_result"
    }
   ],
   "source": [
    "# Обнаружены пропуски \n",
    "\n",
    "data[data['clean_text'].isnull()].head(10)"
   ]
  },
  {
   "cell_type": "code",
   "execution_count": 27,
   "metadata": {},
   "outputs": [],
   "source": [
    "# Заменили пропуски на пустные строки\n",
    "\n",
    "data['clean_text'] = data['clean_text'].fillna('')"
   ]
  },
  {
   "cell_type": "code",
   "execution_count": 28,
   "metadata": {},
   "outputs": [],
   "source": [
    "# Разделение на выборки \n",
    "\n",
    "X = data['clean_text']\n",
    "y = data['toxic']\n"
   ]
  },
  {
   "cell_type": "code",
   "execution_count": 29,
   "metadata": {},
   "outputs": [],
   "source": [
    "# Стратификация важна при дисбалансе (у нас ~10% токсичных)\n",
    "\n",
    "X_train, X_test, y_train, y_test = train_test_split(\n",
    "    X, y,\n",
    "    test_size=0.3,\n",
    "    random_state=42,\n",
    "    stratify=y\n",
    ")"
   ]
  },
  {
   "cell_type": "code",
   "execution_count": 30,
   "metadata": {
    "scrolled": true
   },
   "outputs": [
    {
     "name": "stdout",
     "output_type": "stream",
     "text": [
      "\n",
      "Размер обучающей выборки: (111504,) (111504,)\n",
      "Размер тестовой выборки: (47788,) (47788,)\n"
     ]
    }
   ],
   "source": [
    "print('\\nРазмер обучающей выборки:', X_train.shape, y_train.shape)\n",
    "print('Размер тестовой выборки:', X_test.shape, y_test.shape)"
   ]
  },
  {
   "cell_type": "code",
   "execution_count": 31,
   "metadata": {},
   "outputs": [],
   "source": [
    "#Функция для обучения с GridSearch\n",
    "\n",
    "def training(model, param_grid, model_name='Model'):\n",
    "    \"\"\"\n",
    "    model        — «сырой» классификатор (например, LogisticRegression())\n",
    "    param_grid   — словарь с параметрами для GridSearchCV\n",
    "    model_name   — название модели (для отладки/печати)\n",
    "    Возвращает кортеж: (best_estimator, best_score), \n",
    "    где best_score — лучшая F1 с кросс-валидации.\n",
    "    \"\"\"\n",
    "    pipeline = Pipeline([\n",
    "        ('tfidf', TfidfVectorizer(ngram_range=(1,1), min_df=5)),\n",
    "        ('model', model)\n",
    "    ])\n",
    "\n",
    "    grid = GridSearchCV(\n",
    "        pipeline,\n",
    "        param_grid=param_grid,\n",
    "        cv=3,                # 3-фолд кросс-валидация\n",
    "        n_jobs=-1,           # использовать все ядра\n",
    "        scoring='f1',        # метрика F1\n",
    "        verbose=1\n",
    "    )\n",
    "\n",
    "    grid.fit(X_train, y_train)\n",
    "    \n",
    "    # Лучшая модель по кросс-валидации\n",
    "    best_estimator = grid.best_estimator_\n",
    "    best_score = grid.best_score_  # средняя F1 на валидации\n",
    "\n",
    "    print(f\"\\n=== {model_name} ===\")\n",
    "    print('Лучшие параметры:', grid.best_params_)\n",
    "    print(f\"F1 (CV лучшее)    : {best_score:.3f}\")\n",
    "    \n",
    "    return best_estimator, best_score"
   ]
  },
  {
   "cell_type": "code",
   "execution_count": 32,
   "metadata": {},
   "outputs": [],
   "source": [
    "# Пример параметров (короткая сетка для скорости)\n",
    "lr_params = {\n",
    "    'model__C': [0.1, 1, 10], \n",
    "    'model__class_weight': [None, 'balanced'],\n",
    "    'model__random_state': [42],\n",
    "    'model__max_iter': [1000] \n",
    "}\n",
    "\n",
    "dt_params = {\n",
    "    'model__criterion': ['gini', 'entropy'],\n",
    "    'model__max_depth': [4, 6],   \n",
    "    'model__class_weight': [None, 'balanced'],\n",
    "    'model__random_state': [42]\n",
    "}\n",
    "\n",
    "cat_params = {\n",
    "    'model__iterations': [100],\n",
    "    'model__depth': [4, 6],\n",
    "    'model__learning_rate': [0.03],\n",
    "    'model__auto_class_weights': ['Balanced', None],\n",
    "    'model__random_state': [42]\n",
    "}"
   ]
  },
  {
   "cell_type": "code",
   "execution_count": 33,
   "metadata": {},
   "outputs": [
    {
     "name": "stdout",
     "output_type": "stream",
     "text": [
      "Fitting 3 folds for each of 6 candidates, totalling 18 fits\n",
      "\n",
      "=== LogisticRegression ===\n",
      "Лучшие параметры: {'model__C': 10, 'model__class_weight': None, 'model__max_iter': 1000, 'model__random_state': 42}\n",
      "F1 (CV лучшее)    : 0.771\n",
      "Fitting 3 folds for each of 8 candidates, totalling 24 fits\n",
      "\n",
      "=== DecisionTree ===\n",
      "Лучшие параметры: {'model__class_weight': None, 'model__criterion': 'gini', 'model__max_depth': 6, 'model__random_state': 42}\n",
      "F1 (CV лучшее)    : 0.537\n",
      "Fitting 3 folds for each of 4 candidates, totalling 12 fits\n",
      "\n",
      "=== CatBoost ===\n",
      "Лучшие параметры: {'model__auto_class_weights': 'Balanced', 'model__depth': 6, 'model__iterations': 100, 'model__learning_rate': 0.03, 'model__random_state': 42}\n",
      "F1 (CV лучшее)    : 0.700\n"
     ]
    }
   ],
   "source": [
    "# Обучаем (GridSearchCV + кросс-валидация)\n",
    "\n",
    "best_lr, cv_lr = training(LogisticRegression(solver='lbfgs'),\n",
    "                          lr_params, model_name='LogisticRegression')\n",
    "\n",
    "best_dt, cv_dt = training(DecisionTreeClassifier(),\n",
    "                          dt_params, model_name='DecisionTree')\n",
    "\n",
    "best_cat, cv_cat = training(CatBoostClassifier(logging_level='Silent'),\n",
    "                            cat_params, model_name='CatBoost')"
   ]
  },
  {
   "cell_type": "code",
   "execution_count": 34,
   "metadata": {},
   "outputs": [
    {
     "name": "stdout",
     "output_type": "stream",
     "text": [
      "\n",
      "Лучшая модель по кросс-валидации: LogisticRegression\n",
      "Средняя F1 на кросс-валидации: 0.771\n"
     ]
    }
   ],
   "source": [
    "model_scores = [\n",
    "    ('LogisticRegression', best_lr, cv_lr),\n",
    "    ('DecisionTree',       best_dt, cv_dt),\n",
    "    ('CatBoost',           best_cat, cv_cat)\n",
    "]\n",
    "\n",
    "# Сортируем по убыванию F1\n",
    "model_scores.sort(key=lambda x: x[2], reverse=True)\n",
    "\n",
    "best_model_name, best_model, best_score_cv = model_scores[0]\n",
    "\n",
    "print(f\"\\nЛучшая модель по кросс-валидации: {best_model_name}\")\n",
    "print(f\"Средняя F1 на кросс-валидации: {best_score_cv:.3f}\")"
   ]
  },
  {
   "cell_type": "code",
   "execution_count": 35,
   "metadata": {
    "scrolled": true
   },
   "outputs": [
    {
     "name": "stdout",
     "output_type": "stream",
     "text": [
      "\n",
      "Оценка на тестовой выборке (LogisticRegression): F1 = 0.777\n"
     ]
    }
   ],
   "source": [
    "y_pred_test = best_model.predict(X_test)\n",
    "f1_test = f1_score(y_test, y_pred_test)\n",
    "\n",
    "print(f\"\\nОценка на тестовой выборке ({best_model_name}): F1 = {f1_test:.3f}\")"
   ]
  },
  {
   "cell_type": "markdown",
   "metadata": {},
   "source": [
    "## Выводы"
   ]
  },
  {
   "cell_type": "markdown",
   "metadata": {},
   "source": [
    "**Провели кросс-валидацию (GridSearchCV с cv=3) для подбора гиперпараметров у трёх моделей:**\n",
    "- LogisticRegression\n",
    "- DecisionTreeClassifier\n",
    "- CatBoostClassifier\n",
    "\n",
    "**По результатам кросс-валидации (train/val):**\n",
    "- Лучшая средняя `F1` оказалась у `LogisticRegression (≈0.77)`.\n",
    "- DecisionTreeClassifier (≈0.54) и CatBoostClassifier (≈0.70) дали более низкие результаты.\n",
    "\n",
    "**Итоговая проверка на тестовой выборке:**\n",
    "- Итоговая метрика лучшей модели `F1 = 0.777`. Это превосходит требуемый порог `0.75`."
   ]
  }
 ],
 "metadata": {
  "ExecuteTimeLog": [
   {
    "duration": 420,
    "start_time": "2025-03-18T12:22:56.531Z"
   },
   {
    "duration": 2464,
    "start_time": "2025-03-18T12:22:57.404Z"
   },
   {
    "duration": 15,
    "start_time": "2025-03-18T12:23:06.905Z"
   },
   {
    "duration": 36,
    "start_time": "2025-03-18T12:23:23.938Z"
   },
   {
    "duration": 8,
    "start_time": "2025-03-18T12:24:35.358Z"
   },
   {
    "duration": 7,
    "start_time": "2025-03-18T12:24:47.894Z"
   },
   {
    "duration": 63,
    "start_time": "2025-03-18T12:26:19.259Z"
   },
   {
    "duration": 6,
    "start_time": "2025-03-18T12:26:23.213Z"
   },
   {
    "duration": 226,
    "start_time": "2025-03-18T12:27:40.628Z"
   },
   {
    "duration": 201,
    "start_time": "2025-03-18T12:27:55.512Z"
   },
   {
    "duration": 195,
    "start_time": "2025-03-18T12:28:07.088Z"
   },
   {
    "duration": 5,
    "start_time": "2025-03-18T12:29:58.104Z"
   },
   {
    "duration": 7,
    "start_time": "2025-03-18T12:30:21.816Z"
   },
   {
    "duration": 94,
    "start_time": "2025-03-22T01:08:06.425Z"
   },
   {
    "duration": 0,
    "start_time": "2025-03-22T01:08:06.521Z"
   },
   {
    "duration": 0,
    "start_time": "2025-03-22T01:08:06.522Z"
   },
   {
    "duration": 0,
    "start_time": "2025-03-22T01:08:06.523Z"
   },
   {
    "duration": 0,
    "start_time": "2025-03-22T01:08:06.524Z"
   },
   {
    "duration": 0,
    "start_time": "2025-03-22T01:08:06.525Z"
   },
   {
    "duration": 135,
    "start_time": "2025-03-22T01:08:31.760Z"
   },
   {
    "duration": 0,
    "start_time": "2025-03-22T01:08:31.897Z"
   },
   {
    "duration": 0,
    "start_time": "2025-03-22T01:08:31.898Z"
   },
   {
    "duration": 0,
    "start_time": "2025-03-22T01:08:31.899Z"
   },
   {
    "duration": 0,
    "start_time": "2025-03-22T01:08:31.900Z"
   },
   {
    "duration": 0,
    "start_time": "2025-03-22T01:08:31.901Z"
   },
   {
    "duration": 1855,
    "start_time": "2025-03-22T01:09:06.535Z"
   },
   {
    "duration": 2515,
    "start_time": "2025-03-22T01:09:08.392Z"
   },
   {
    "duration": 38,
    "start_time": "2025-03-22T01:09:10.908Z"
   },
   {
    "duration": 7,
    "start_time": "2025-03-22T01:09:10.947Z"
   },
   {
    "duration": 231,
    "start_time": "2025-03-22T01:09:10.974Z"
   },
   {
    "duration": 448,
    "start_time": "2025-03-22T01:09:11.207Z"
   },
   {
    "duration": 4,
    "start_time": "2025-03-22T01:09:49.758Z"
   },
   {
    "duration": 1548,
    "start_time": "2025-03-22T01:27:17.879Z"
   },
   {
    "duration": 3026,
    "start_time": "2025-03-22T01:27:19.429Z"
   },
   {
    "duration": 48,
    "start_time": "2025-03-22T01:27:22.456Z"
   },
   {
    "duration": 8,
    "start_time": "2025-03-22T01:27:22.505Z"
   },
   {
    "duration": 277,
    "start_time": "2025-03-22T01:27:22.514Z"
   },
   {
    "duration": 270,
    "start_time": "2025-03-22T01:27:22.794Z"
   },
   {
    "duration": 9,
    "start_time": "2025-03-22T01:27:23.065Z"
   },
   {
    "duration": 69830,
    "start_time": "2025-03-22T01:27:23.075Z"
   },
   {
    "duration": 3,
    "start_time": "2025-03-22T01:28:32.907Z"
   },
   {
    "duration": 64,
    "start_time": "2025-03-22T01:29:35.248Z"
   },
   {
    "duration": 4,
    "start_time": "2025-03-22T01:29:35.676Z"
   },
   {
    "duration": 127,
    "start_time": "2025-03-22T01:32:16.645Z"
   },
   {
    "duration": 4,
    "start_time": "2025-03-22T01:32:21.411Z"
   },
   {
    "duration": 243036,
    "start_time": "2025-03-22T01:33:22.083Z"
   },
   {
    "duration": 0,
    "start_time": "2025-03-22T01:37:25.120Z"
   },
   {
    "duration": 1583,
    "start_time": "2025-03-22T01:40:24.860Z"
   },
   {
    "duration": 2449,
    "start_time": "2025-03-22T01:40:26.445Z"
   },
   {
    "duration": 42,
    "start_time": "2025-03-22T01:40:28.896Z"
   },
   {
    "duration": 9,
    "start_time": "2025-03-22T01:40:28.940Z"
   },
   {
    "duration": 233,
    "start_time": "2025-03-22T01:40:28.972Z"
   },
   {
    "duration": 334,
    "start_time": "2025-03-22T01:40:29.207Z"
   },
   {
    "duration": 4,
    "start_time": "2025-03-22T01:40:29.543Z"
   },
   {
    "duration": 1593,
    "start_time": "2025-03-22T01:41:14.357Z"
   },
   {
    "duration": 2955,
    "start_time": "2025-03-22T01:41:15.952Z"
   },
   {
    "duration": 43,
    "start_time": "2025-03-22T01:41:18.909Z"
   },
   {
    "duration": 7,
    "start_time": "2025-03-22T01:41:18.974Z"
   },
   {
    "duration": 274,
    "start_time": "2025-03-22T01:41:18.983Z"
   },
   {
    "duration": 338,
    "start_time": "2025-03-22T01:41:19.259Z"
   },
   {
    "duration": 4,
    "start_time": "2025-03-22T01:41:19.598Z"
   },
   {
    "duration": 70810,
    "start_time": "2025-03-22T01:41:19.603Z"
   },
   {
    "duration": 3,
    "start_time": "2025-03-22T01:42:30.415Z"
   },
   {
    "duration": 77,
    "start_time": "2025-03-22T01:42:30.420Z"
   },
   {
    "duration": 4,
    "start_time": "2025-03-22T01:42:30.499Z"
   },
   {
    "duration": 16,
    "start_time": "2025-03-22T01:42:30.504Z"
   },
   {
    "duration": 1626,
    "start_time": "2025-03-22T01:52:59.484Z"
   },
   {
    "duration": 2272,
    "start_time": "2025-03-22T01:53:01.112Z"
   },
   {
    "duration": 45,
    "start_time": "2025-03-22T01:53:03.386Z"
   },
   {
    "duration": 9,
    "start_time": "2025-03-22T01:53:03.433Z"
   },
   {
    "duration": 267,
    "start_time": "2025-03-22T01:53:03.444Z"
   },
   {
    "duration": 273,
    "start_time": "2025-03-22T01:53:03.713Z"
   },
   {
    "duration": 4,
    "start_time": "2025-03-22T01:53:03.988Z"
   },
   {
    "duration": 70689,
    "start_time": "2025-03-22T01:53:03.993Z"
   },
   {
    "duration": 3,
    "start_time": "2025-03-22T01:54:14.684Z"
   },
   {
    "duration": 65,
    "start_time": "2025-03-22T01:54:14.689Z"
   },
   {
    "duration": 20,
    "start_time": "2025-03-22T01:54:14.756Z"
   },
   {
    "duration": 6,
    "start_time": "2025-03-22T01:54:14.777Z"
   },
   {
    "duration": 1603,
    "start_time": "2025-03-22T01:55:24.340Z"
   },
   {
    "duration": 2194,
    "start_time": "2025-03-22T01:55:25.945Z"
   },
   {
    "duration": 51,
    "start_time": "2025-03-22T01:55:28.140Z"
   },
   {
    "duration": 7,
    "start_time": "2025-03-22T01:55:28.193Z"
   },
   {
    "duration": 246,
    "start_time": "2025-03-22T01:55:28.202Z"
   },
   {
    "duration": 253,
    "start_time": "2025-03-22T01:55:28.450Z"
   },
   {
    "duration": 5,
    "start_time": "2025-03-22T01:55:28.704Z"
   },
   {
    "duration": 70080,
    "start_time": "2025-03-22T01:55:28.710Z"
   },
   {
    "duration": 3,
    "start_time": "2025-03-22T01:56:38.791Z"
   },
   {
    "duration": 77,
    "start_time": "2025-03-22T01:56:38.796Z"
   },
   {
    "duration": 5,
    "start_time": "2025-03-22T01:56:38.875Z"
   },
   {
    "duration": 7,
    "start_time": "2025-03-22T01:56:38.882Z"
   },
   {
    "duration": 1551,
    "start_time": "2025-03-22T02:00:18.774Z"
   },
   {
    "duration": 2308,
    "start_time": "2025-03-22T02:00:20.326Z"
   },
   {
    "duration": 45,
    "start_time": "2025-03-22T02:00:22.636Z"
   },
   {
    "duration": 7,
    "start_time": "2025-03-22T02:00:22.683Z"
   },
   {
    "duration": 265,
    "start_time": "2025-03-22T02:00:22.691Z"
   },
   {
    "duration": 262,
    "start_time": "2025-03-22T02:00:22.958Z"
   },
   {
    "duration": 4,
    "start_time": "2025-03-22T02:00:23.221Z"
   },
   {
    "duration": 71149,
    "start_time": "2025-03-22T02:00:23.226Z"
   },
   {
    "duration": 3,
    "start_time": "2025-03-22T02:01:34.376Z"
   },
   {
    "duration": 74,
    "start_time": "2025-03-22T02:01:34.381Z"
   },
   {
    "duration": 4,
    "start_time": "2025-03-22T02:01:34.456Z"
   },
   {
    "duration": 6,
    "start_time": "2025-03-22T02:01:34.473Z"
   },
   {
    "duration": 340697,
    "start_time": "2025-03-22T02:01:34.481Z"
   },
   {
    "duration": 66923,
    "start_time": "2025-03-22T02:07:15.180Z"
   },
   {
    "duration": 503839,
    "start_time": "2025-03-22T02:08:22.106Z"
   },
   {
    "duration": 3790,
    "start_time": "2025-03-22T02:16:45.946Z"
   },
   {
    "duration": 46,
    "start_time": "2025-03-23T06:19:24.746Z"
   },
   {
    "duration": 1733,
    "start_time": "2025-03-23T06:19:31.861Z"
   },
   {
    "duration": 2481,
    "start_time": "2025-03-23T06:19:33.597Z"
   },
   {
    "duration": 51,
    "start_time": "2025-03-23T06:19:36.079Z"
   },
   {
    "duration": 6,
    "start_time": "2025-03-23T06:19:36.132Z"
   },
   {
    "duration": 142,
    "start_time": "2025-03-23T06:19:36.140Z"
   },
   {
    "duration": 237,
    "start_time": "2025-03-23T06:19:36.283Z"
   },
   {
    "duration": 369,
    "start_time": "2025-03-23T06:19:36.522Z"
   },
   {
    "duration": 5,
    "start_time": "2025-03-23T06:19:36.893Z"
   },
   {
    "duration": 1550,
    "start_time": "2025-03-23T06:20:08.538Z"
   },
   {
    "duration": 2124,
    "start_time": "2025-03-23T06:20:10.090Z"
   },
   {
    "duration": 38,
    "start_time": "2025-03-23T06:20:12.215Z"
   },
   {
    "duration": 7,
    "start_time": "2025-03-23T06:20:12.254Z"
   },
   {
    "duration": 156,
    "start_time": "2025-03-23T06:20:12.263Z"
   },
   {
    "duration": 0,
    "start_time": "2025-03-23T06:20:12.421Z"
   },
   {
    "duration": 0,
    "start_time": "2025-03-23T06:20:12.422Z"
   },
   {
    "duration": 0,
    "start_time": "2025-03-23T06:20:12.424Z"
   },
   {
    "duration": 0,
    "start_time": "2025-03-23T06:20:12.425Z"
   },
   {
    "duration": 0,
    "start_time": "2025-03-23T06:20:12.426Z"
   },
   {
    "duration": 0,
    "start_time": "2025-03-23T06:20:12.427Z"
   },
   {
    "duration": 0,
    "start_time": "2025-03-23T06:20:12.428Z"
   },
   {
    "duration": 0,
    "start_time": "2025-03-23T06:20:12.429Z"
   },
   {
    "duration": 0,
    "start_time": "2025-03-23T06:20:12.430Z"
   },
   {
    "duration": 0,
    "start_time": "2025-03-23T06:20:12.431Z"
   },
   {
    "duration": 0,
    "start_time": "2025-03-23T06:20:12.432Z"
   },
   {
    "duration": 0,
    "start_time": "2025-03-23T06:20:12.433Z"
   },
   {
    "duration": 171,
    "start_time": "2025-03-23T06:20:35.120Z"
   },
   {
    "duration": 792,
    "start_time": "2025-03-23T06:21:34.148Z"
   },
   {
    "duration": 322,
    "start_time": "2025-03-23T06:21:46.170Z"
   },
   {
    "duration": 7888,
    "start_time": "2025-03-23T06:30:23.901Z"
   },
   {
    "duration": 1994,
    "start_time": "2025-03-23T06:30:31.793Z"
   },
   {
    "duration": 42,
    "start_time": "2025-03-23T06:30:33.789Z"
   },
   {
    "duration": 7,
    "start_time": "2025-03-23T06:30:33.833Z"
   },
   {
    "duration": 110,
    "start_time": "2025-03-23T06:30:33.841Z"
   },
   {
    "duration": 800,
    "start_time": "2025-03-23T06:30:33.953Z"
   },
   {
    "duration": 5873,
    "start_time": "2025-03-23T06:31:05.718Z"
   },
   {
    "duration": 0,
    "start_time": "2025-03-23T06:31:11.592Z"
   },
   {
    "duration": 0,
    "start_time": "2025-03-23T06:31:11.593Z"
   },
   {
    "duration": 0,
    "start_time": "2025-03-23T06:31:11.594Z"
   },
   {
    "duration": 0,
    "start_time": "2025-03-23T06:31:11.595Z"
   },
   {
    "duration": 364,
    "start_time": "2025-03-23T06:31:11.710Z"
   },
   {
    "duration": 1534,
    "start_time": "2025-03-23T06:31:30.735Z"
   },
   {
    "duration": 0,
    "start_time": "2025-03-23T06:31:32.271Z"
   },
   {
    "duration": 10,
    "start_time": "2025-03-23T06:33:13.363Z"
   },
   {
    "duration": 1681,
    "start_time": "2025-03-23T06:33:14.274Z"
   },
   {
    "duration": 0,
    "start_time": "2025-03-23T06:33:15.957Z"
   },
   {
    "duration": 21585,
    "start_time": "2025-03-23T06:46:10.606Z"
   },
   {
    "duration": 0,
    "start_time": "2025-03-23T06:46:32.192Z"
   },
   {
    "duration": 6092,
    "start_time": "2025-03-23T06:53:35.984Z"
   },
   {
    "duration": 9231,
    "start_time": "2025-03-23T06:53:47.292Z"
   },
   {
    "duration": 23,
    "start_time": "2025-03-23T06:55:58.962Z"
   },
   {
    "duration": 6392,
    "start_time": "2025-03-23T06:56:09.602Z"
   },
   {
    "duration": 8744,
    "start_time": "2025-03-23T06:56:15.996Z"
   },
   {
    "duration": 3798,
    "start_time": "2025-03-23T06:56:24.741Z"
   },
   {
    "duration": 2360,
    "start_time": "2025-03-23T06:56:28.540Z"
   },
   {
    "duration": 44,
    "start_time": "2025-03-23T06:56:30.902Z"
   },
   {
    "duration": 8,
    "start_time": "2025-03-23T06:56:30.947Z"
   },
   {
    "duration": 183,
    "start_time": "2025-03-23T06:56:30.956Z"
   },
   {
    "duration": 1657,
    "start_time": "2025-03-23T06:56:31.141Z"
   },
   {
    "duration": 0,
    "start_time": "2025-03-23T06:56:32.799Z"
   },
   {
    "duration": 0,
    "start_time": "2025-03-23T06:56:32.801Z"
   },
   {
    "duration": 0,
    "start_time": "2025-03-23T06:56:32.802Z"
   },
   {
    "duration": 0,
    "start_time": "2025-03-23T06:56:32.802Z"
   },
   {
    "duration": 0,
    "start_time": "2025-03-23T06:56:32.803Z"
   },
   {
    "duration": 0,
    "start_time": "2025-03-23T06:56:32.804Z"
   },
   {
    "duration": 0,
    "start_time": "2025-03-23T06:56:32.805Z"
   },
   {
    "duration": 0,
    "start_time": "2025-03-23T06:56:32.806Z"
   },
   {
    "duration": 0,
    "start_time": "2025-03-23T06:56:32.807Z"
   },
   {
    "duration": 0,
    "start_time": "2025-03-23T06:56:32.808Z"
   },
   {
    "duration": 0,
    "start_time": "2025-03-23T06:56:32.809Z"
   },
   {
    "duration": 0,
    "start_time": "2025-03-23T06:56:32.810Z"
   },
   {
    "duration": 0,
    "start_time": "2025-03-23T06:56:32.811Z"
   },
   {
    "duration": 7621,
    "start_time": "2025-03-24T00:46:24.421Z"
   },
   {
    "duration": 16981,
    "start_time": "2025-03-24T00:46:32.044Z"
   },
   {
    "duration": 3894,
    "start_time": "2025-03-24T00:46:49.027Z"
   },
   {
    "duration": 2411,
    "start_time": "2025-03-24T00:46:52.924Z"
   },
   {
    "duration": 50,
    "start_time": "2025-03-24T00:46:55.336Z"
   },
   {
    "duration": 7,
    "start_time": "2025-03-24T00:46:55.387Z"
   },
   {
    "duration": 112,
    "start_time": "2025-03-24T00:46:55.396Z"
   },
   {
    "duration": 694,
    "start_time": "2025-03-24T00:47:00.246Z"
   },
   {
    "duration": 726,
    "start_time": "2025-03-24T00:48:06.270Z"
   },
   {
    "duration": 327,
    "start_time": "2025-03-24T00:48:16.853Z"
   },
   {
    "duration": 226,
    "start_time": "2025-03-24T00:48:25.462Z"
   },
   {
    "duration": 383,
    "start_time": "2025-03-24T00:48:26.579Z"
   },
   {
    "duration": 4,
    "start_time": "2025-03-24T00:48:34.513Z"
   },
   {
    "duration": 8986,
    "start_time": "2025-03-24T00:50:14.533Z"
   },
   {
    "duration": 23362,
    "start_time": "2025-03-24T00:51:00.047Z"
   },
   {
    "duration": 4,
    "start_time": "2025-03-24T00:51:23.412Z"
   },
   {
    "duration": 1984,
    "start_time": "2025-03-24T00:51:34.472Z"
   },
   {
    "duration": 39,
    "start_time": "2025-03-24T00:51:39.825Z"
   },
   {
    "duration": 7,
    "start_time": "2025-03-24T00:51:42.361Z"
   },
   {
    "duration": 745,
    "start_time": "2025-03-24T00:51:44.583Z"
   },
   {
    "duration": 433,
    "start_time": "2025-03-24T00:51:45.488Z"
   },
   {
    "duration": 211,
    "start_time": "2025-03-24T00:51:48.378Z"
   },
   {
    "duration": 6,
    "start_time": "2025-03-24T00:51:49.976Z"
   },
   {
    "duration": 3,
    "start_time": "2025-03-24T00:51:52.954Z"
   },
   {
    "duration": 128,
    "start_time": "2025-03-24T00:52:15.098Z"
   },
   {
    "duration": 990,
    "start_time": "2025-03-24T00:52:38.945Z"
   },
   {
    "duration": 2600,
    "start_time": "2025-03-24T00:52:41.232Z"
   },
   {
    "duration": 50,
    "start_time": "2025-03-24T00:52:43.836Z"
   },
   {
    "duration": 9,
    "start_time": "2025-03-24T00:52:43.888Z"
   },
   {
    "duration": 769,
    "start_time": "2025-03-24T00:52:45.013Z"
   },
   {
    "duration": 433,
    "start_time": "2025-03-24T00:52:45.789Z"
   },
   {
    "duration": 224,
    "start_time": "2025-03-24T00:52:47.860Z"
   },
   {
    "duration": 5,
    "start_time": "2025-03-24T00:52:49.464Z"
   },
   {
    "duration": 3,
    "start_time": "2025-03-24T00:52:52.357Z"
   },
   {
    "duration": 530,
    "start_time": "2025-03-24T00:53:11.429Z"
   },
   {
    "duration": 521,
    "start_time": "2025-03-24T00:54:12.832Z"
   },
   {
    "duration": 0,
    "start_time": "2025-03-24T01:05:33.678Z"
   },
   {
    "duration": 0,
    "start_time": "2025-03-24T01:05:33.680Z"
   },
   {
    "duration": 24178,
    "start_time": "2025-03-24T01:05:36.611Z"
   },
   {
    "duration": 6,
    "start_time": "2025-03-24T01:06:00.792Z"
   },
   {
    "duration": 2523,
    "start_time": "2025-03-24T01:06:00.799Z"
   },
   {
    "duration": 49,
    "start_time": "2025-03-24T01:06:03.325Z"
   },
   {
    "duration": 6,
    "start_time": "2025-03-24T01:06:03.376Z"
   },
   {
    "duration": 767,
    "start_time": "2025-03-24T01:06:03.384Z"
   },
   {
    "duration": 339,
    "start_time": "2025-03-24T01:06:04.152Z"
   },
   {
    "duration": 226,
    "start_time": "2025-03-24T01:06:04.493Z"
   },
   {
    "duration": 6,
    "start_time": "2025-03-24T01:06:04.720Z"
   },
   {
    "duration": 9,
    "start_time": "2025-03-24T01:06:04.728Z"
   },
   {
    "duration": 304867,
    "start_time": "2025-03-24T01:06:04.738Z"
   },
   {
    "duration": 1,
    "start_time": "2025-03-24T01:11:09.608Z"
   },
   {
    "duration": 241043,
    "start_time": "2025-03-24T01:11:12.299Z"
   },
   {
    "duration": 0,
    "start_time": "2025-03-24T01:15:13.344Z"
   },
   {
    "duration": 18878,
    "start_time": "2025-03-24T01:16:38.747Z"
   },
   {
    "duration": 2599,
    "start_time": "2025-03-24T01:16:57.628Z"
   },
   {
    "duration": 2126,
    "start_time": "2025-03-24T01:17:00.229Z"
   },
   {
    "duration": 49,
    "start_time": "2025-03-24T01:17:02.357Z"
   },
   {
    "duration": 7,
    "start_time": "2025-03-24T01:17:02.408Z"
   },
   {
    "duration": 768,
    "start_time": "2025-03-24T01:17:02.417Z"
   },
   {
    "duration": 328,
    "start_time": "2025-03-24T01:17:03.187Z"
   },
   {
    "duration": 237,
    "start_time": "2025-03-24T01:17:03.517Z"
   },
   {
    "duration": 308,
    "start_time": "2025-03-24T01:17:03.756Z"
   },
   {
    "duration": 5,
    "start_time": "2025-03-24T01:17:04.073Z"
   },
   {
    "duration": 227235,
    "start_time": "2025-03-24T01:17:04.080Z"
   },
   {
    "duration": 0,
    "start_time": "2025-03-24T01:20:51.317Z"
   },
   {
    "duration": 0,
    "start_time": "2025-03-24T01:20:51.318Z"
   },
   {
    "duration": 0,
    "start_time": "2025-03-24T01:20:51.319Z"
   },
   {
    "duration": 0,
    "start_time": "2025-03-24T01:20:51.320Z"
   },
   {
    "duration": 0,
    "start_time": "2025-03-24T01:20:51.321Z"
   },
   {
    "duration": 0,
    "start_time": "2025-03-24T01:20:51.322Z"
   },
   {
    "duration": 0,
    "start_time": "2025-03-24T01:20:51.323Z"
   },
   {
    "duration": 0,
    "start_time": "2025-03-24T01:20:51.323Z"
   },
   {
    "duration": 0,
    "start_time": "2025-03-24T01:20:51.324Z"
   },
   {
    "duration": 18771,
    "start_time": "2025-03-24T01:49:10.429Z"
   },
   {
    "duration": 2641,
    "start_time": "2025-03-24T01:49:29.202Z"
   },
   {
    "duration": 2463,
    "start_time": "2025-03-24T01:49:31.845Z"
   },
   {
    "duration": 41,
    "start_time": "2025-03-24T01:49:34.310Z"
   },
   {
    "duration": 23,
    "start_time": "2025-03-24T01:49:34.353Z"
   },
   {
    "duration": 717,
    "start_time": "2025-03-24T01:49:34.378Z"
   },
   {
    "duration": 338,
    "start_time": "2025-03-24T01:49:35.097Z"
   },
   {
    "duration": 246,
    "start_time": "2025-03-24T01:49:35.436Z"
   },
   {
    "duration": 312,
    "start_time": "2025-03-24T01:49:35.683Z"
   },
   {
    "duration": 4,
    "start_time": "2025-03-24T01:49:35.997Z"
   },
   {
    "duration": 18019,
    "start_time": "2025-03-24T01:57:19.549Z"
   },
   {
    "duration": 2615,
    "start_time": "2025-03-24T01:57:37.570Z"
   },
   {
    "duration": 3140,
    "start_time": "2025-03-24T01:57:40.187Z"
   },
   {
    "duration": 49,
    "start_time": "2025-03-24T01:57:43.329Z"
   },
   {
    "duration": 7,
    "start_time": "2025-03-24T01:57:43.379Z"
   },
   {
    "duration": 761,
    "start_time": "2025-03-24T01:57:43.388Z"
   },
   {
    "duration": 334,
    "start_time": "2025-03-24T01:57:44.151Z"
   },
   {
    "duration": 239,
    "start_time": "2025-03-24T01:57:44.487Z"
   },
   {
    "duration": 301,
    "start_time": "2025-03-24T01:57:44.728Z"
   },
   {
    "duration": 4,
    "start_time": "2025-03-24T01:57:45.031Z"
   },
   {
    "duration": 18326,
    "start_time": "2025-03-24T02:05:09.025Z"
   },
   {
    "duration": 2665,
    "start_time": "2025-03-24T02:05:27.353Z"
   },
   {
    "duration": 2649,
    "start_time": "2025-03-24T02:05:30.019Z"
   },
   {
    "duration": 41,
    "start_time": "2025-03-24T02:05:32.672Z"
   },
   {
    "duration": 9,
    "start_time": "2025-03-24T02:05:32.716Z"
   },
   {
    "duration": 757,
    "start_time": "2025-03-24T02:05:32.727Z"
   },
   {
    "duration": 323,
    "start_time": "2025-03-24T02:05:33.485Z"
   },
   {
    "duration": 248,
    "start_time": "2025-03-24T02:05:33.810Z"
   },
   {
    "duration": 318,
    "start_time": "2025-03-24T02:05:34.060Z"
   },
   {
    "duration": 4,
    "start_time": "2025-03-24T02:05:34.379Z"
   },
   {
    "duration": 552,
    "start_time": "2025-03-24T02:05:34.385Z"
   },
   {
    "duration": 1112659,
    "start_time": "2025-03-24T02:05:34.938Z"
   },
   {
    "duration": 93,
    "start_time": "2025-03-24T02:24:07.599Z"
   },
   {
    "duration": 0,
    "start_time": "2025-03-24T02:24:07.693Z"
   },
   {
    "duration": 0,
    "start_time": "2025-03-24T02:24:07.694Z"
   },
   {
    "duration": 0,
    "start_time": "2025-03-24T02:24:07.696Z"
   },
   {
    "duration": 0,
    "start_time": "2025-03-24T02:24:07.697Z"
   },
   {
    "duration": 0,
    "start_time": "2025-03-24T02:24:07.698Z"
   },
   {
    "duration": 0,
    "start_time": "2025-03-24T02:24:07.699Z"
   },
   {
    "duration": 0,
    "start_time": "2025-03-24T02:24:07.700Z"
   },
   {
    "duration": 0,
    "start_time": "2025-03-24T02:24:07.702Z"
   },
   {
    "duration": 0,
    "start_time": "2025-03-24T02:24:07.703Z"
   },
   {
    "duration": 0,
    "start_time": "2025-03-24T02:24:07.704Z"
   },
   {
    "duration": 5087,
    "start_time": "2025-03-24T02:24:34.828Z"
   },
   {
    "duration": 240,
    "start_time": "2025-03-24T02:26:30.572Z"
   },
   {
    "duration": 2556,
    "start_time": "2025-03-24T02:27:11.334Z"
   },
   {
    "duration": 2036,
    "start_time": "2025-03-24T02:27:24.744Z"
   },
   {
    "duration": 3,
    "start_time": "2025-03-24T02:28:09.462Z"
   },
   {
    "duration": 62,
    "start_time": "2025-03-24T02:28:15.381Z"
   },
   {
    "duration": 65,
    "start_time": "2025-03-24T02:28:18.965Z"
   },
   {
    "duration": 4,
    "start_time": "2025-03-24T02:28:19.820Z"
   },
   {
    "duration": 6,
    "start_time": "2025-03-24T02:28:22.805Z"
   },
   {
    "duration": 4,
    "start_time": "2025-03-24T02:28:27.147Z"
   },
   {
    "duration": 710,
    "start_time": "2025-03-24T02:28:28.317Z"
   },
   {
    "duration": 2035,
    "start_time": "2025-03-24T02:35:05.601Z"
   },
   {
    "duration": 27,
    "start_time": "2025-03-24T02:35:53.282Z"
   },
   {
    "duration": 28,
    "start_time": "2025-03-24T02:38:18.832Z"
   },
   {
    "duration": 4,
    "start_time": "2025-03-24T02:38:20.092Z"
   },
   {
    "duration": 59,
    "start_time": "2025-03-24T02:38:21.606Z"
   },
   {
    "duration": 5,
    "start_time": "2025-03-24T02:38:22.919Z"
   },
   {
    "duration": 5,
    "start_time": "2025-03-24T02:38:24.371Z"
   },
   {
    "duration": 3,
    "start_time": "2025-03-24T02:38:26.631Z"
   },
   {
    "duration": 1391802,
    "start_time": "2025-03-24T02:38:27.675Z"
   },
   {
    "duration": 4,
    "start_time": "2025-03-24T03:01:39.479Z"
   },
   {
    "duration": 1168,
    "start_time": "2025-03-24T03:01:39.485Z"
   },
   {
    "duration": 3641,
    "start_time": "2025-03-24T03:01:40.655Z"
   }
  ],
  "kernelspec": {
   "display_name": "Python 3 (ipykernel)",
   "language": "python",
   "name": "python3"
  },
  "language_info": {
   "codemirror_mode": {
    "name": "ipython",
    "version": 3
   },
   "file_extension": ".py",
   "mimetype": "text/x-python",
   "name": "python",
   "nbconvert_exporter": "python",
   "pygments_lexer": "ipython3",
   "version": "3.9.5"
  },
  "toc": {
   "base_numbering": 1,
   "nav_menu": {},
   "number_sections": true,
   "sideBar": true,
   "skip_h1_title": true,
   "title_cell": "Содержание",
   "title_sidebar": "Contents",
   "toc_cell": true,
   "toc_position": {
    "height": "calc(100% - 180px)",
    "left": "10px",
    "top": "150px",
    "width": "302.390625px"
   },
   "toc_section_display": true,
   "toc_window_display": true
  }
 },
 "nbformat": 4,
 "nbformat_minor": 2
}
